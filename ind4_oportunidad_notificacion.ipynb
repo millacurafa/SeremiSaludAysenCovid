{
 "cells": [
  {
   "cell_type": "markdown",
   "id": "38572145",
   "metadata": {},
   "source": [
    "# Indicador 4: Oportunidad de Notifiación \n",
    "\n",
    "## Objetivo: Mejorar la oportunidad de notificación de casos confirmados por laboratorio\n",
    "\n",
    "### Meta: 100% \n",
    "\n",
    "**Periodicidad:** Semanal\n",
    "\n",
    "**Escala territorial:** Comunal, Regional, Nacional\n",
    "\n",
    "**Fuente de información:** base EPIVIGILA actualizada con los reportes de laboratorio al día de la determinación del indicador\n",
    "\n",
    "\n",
    "**Cálculo del indicador a nivel comunal:** \n",
    "\n",
    "$\\frac{No.\\:Casos\\:confirmados\\:notificados\\:correctamente\\:por\\:comuna\\:de\\:residencia\\:semana\\:x}{No\\:casos\\:confirmados\\:notificados\\:por\\:comuna\\:residencia\\:semana\\:x} $\n",
    "\n",
    "**Cálculo del indicador a nivel regional**\n",
    "\n",
    "$\\frac{No.\\:Casos\\:confirmados\\:notificados\\:correctamente\\:por\\:región\\:de\\:residencia\\:semana\\:x}{No\\:casos\\:confirmados\\:notificados\\:por\\:región\\:residencia\\:semana\\:x}$\n",
    "\n",
    "**Observación**\n",
    "\n",
    "- Se consideran sólo registros desde notificación\n",
    "- Para los registros de notificaciones que se encuentren en gestión BAC, se considera la fecha de notificación BAC si esta es anterior a la fecha de notificación de EPIVIGLIA"
   ]
  },
  {
   "cell_type": "markdown",
   "id": "e88075ee",
   "metadata": {},
   "source": [
    "## Importación de datos y librerias"
   ]
  },
  {
   "cell_type": "code",
   "execution_count": 1,
   "id": "2eda871c",
   "metadata": {},
   "outputs": [],
   "source": [
    "# Importa librerias necesarias para el análisis\n",
    "\n",
    "import pandas as pd\n",
    "import numpy as np\n",
    "import plotly.express as px"
   ]
  },
  {
   "cell_type": "code",
   "execution_count": 2,
   "id": "638a6d0b",
   "metadata": {},
   "outputs": [],
   "source": [
    "# Importa base de datos generada mediante merging \n",
    "\n",
    "data = pd.read_csv(\"data/data_con_establecimiento_cp.csv\", \n",
    "                   low_memory=False\n",
    "                  )"
   ]
  },
  {
   "cell_type": "code",
   "execution_count": 3,
   "id": "1df1cb4b",
   "metadata": {},
   "outputs": [
    {
     "data": {
      "text/html": [
       "<div>\n",
       "<style scoped>\n",
       "    .dataframe tbody tr th:only-of-type {\n",
       "        vertical-align: middle;\n",
       "    }\n",
       "\n",
       "    .dataframe tbody tr th {\n",
       "        vertical-align: top;\n",
       "    }\n",
       "\n",
       "    .dataframe thead th {\n",
       "        text-align: right;\n",
       "    }\n",
       "</style>\n",
       "<table border=\"1\" class=\"dataframe\">\n",
       "  <thead>\n",
       "    <tr style=\"text-align: right;\">\n",
       "      <th></th>\n",
       "      <th>Unnamed: 0</th>\n",
       "      <th>id_formulario_eno</th>\n",
       "      <th>numero_folio</th>\n",
       "      <th>id_enfermedad_eno</th>\n",
       "      <th>enfermedad_notificada</th>\n",
       "      <th>semana_epidemiologica</th>\n",
       "      <th>fecha_notificacion</th>\n",
       "      <th>etapa_clinica</th>\n",
       "      <th>establecimiento_salud</th>\n",
       "      <th>region</th>\n",
       "      <th>...</th>\n",
       "      <th>fecha_resultado_otro_cultivo_3</th>\n",
       "      <th>factor_riesgo_caso_confirmado</th>\n",
       "      <th>factor_riesgo_caso_sospechoso</th>\n",
       "      <th>factor_riesgo_viaje_internacional</th>\n",
       "      <th>factor_riesgo_viaje_nacional</th>\n",
       "      <th>ningun_factor_riesgo</th>\n",
       "      <th>test_antigeno_sars_positivo</th>\n",
       "      <th>tac_torax_covid</th>\n",
       "      <th>comuna_seremi_xi</th>\n",
       "      <th>provincia_seremi_xi</th>\n",
       "    </tr>\n",
       "  </thead>\n",
       "  <tbody>\n",
       "    <tr>\n",
       "      <th>0</th>\n",
       "      <td>0</td>\n",
       "      <td>100166</td>\n",
       "      <td>50166</td>\n",
       "      <td>50</td>\n",
       "      <td>Coronavirus (COVID-19)</td>\n",
       "      <td>11</td>\n",
       "      <td>2020-03-12</td>\n",
       "      <td>DESCARTADA</td>\n",
       "      <td>Hospital Regional (Coihaique)</td>\n",
       "      <td>Región de Aysén del General Carlos Ibáñez del ...</td>\n",
       "      <td>...</td>\n",
       "      <td>NaN</td>\n",
       "      <td>NaN</td>\n",
       "      <td>NaN</td>\n",
       "      <td>NaN</td>\n",
       "      <td>NaN</td>\n",
       "      <td>NaN</td>\n",
       "      <td>NaN</td>\n",
       "      <td>NaN</td>\n",
       "      <td>Coyhaique</td>\n",
       "      <td>Coyhaique</td>\n",
       "    </tr>\n",
       "  </tbody>\n",
       "</table>\n",
       "<p>1 rows × 276 columns</p>\n",
       "</div>"
      ],
      "text/plain": [
       "   Unnamed: 0  id_formulario_eno  numero_folio  id_enfermedad_eno  \\\n",
       "0           0             100166         50166                 50   \n",
       "\n",
       "    enfermedad_notificada  semana_epidemiologica fecha_notificacion  \\\n",
       "0  Coronavirus (COVID-19)                     11         2020-03-12   \n",
       "\n",
       "  etapa_clinica          establecimiento_salud  \\\n",
       "0    DESCARTADA  Hospital Regional (Coihaique)   \n",
       "\n",
       "                                              region  ...  \\\n",
       "0  Región de Aysén del General Carlos Ibáñez del ...  ...   \n",
       "\n",
       "  fecha_resultado_otro_cultivo_3 factor_riesgo_caso_confirmado  \\\n",
       "0                            NaN                           NaN   \n",
       "\n",
       "  factor_riesgo_caso_sospechoso  factor_riesgo_viaje_internacional  \\\n",
       "0                           NaN                                NaN   \n",
       "\n",
       "  factor_riesgo_viaje_nacional ningun_factor_riesgo  \\\n",
       "0                          NaN                  NaN   \n",
       "\n",
       "  test_antigeno_sars_positivo tac_torax_covid comuna_seremi_xi  \\\n",
       "0                         NaN             NaN        Coyhaique   \n",
       "\n",
       "  provincia_seremi_xi  \n",
       "0           Coyhaique  \n",
       "\n",
       "[1 rows x 276 columns]"
      ]
     },
     "execution_count": 3,
     "metadata": {},
     "output_type": "execute_result"
    }
   ],
   "source": [
    "# Filtra datos obtenidos solo para pacientes con residencia en la Región de Aysén\n",
    "\n",
    "data_aysen = data[data['region_residencia'] == 'Región de Aysén del General Carlos Ibáñez del Campo']\n",
    "\n",
    "data_aysen.head(1)"
   ]
  },
  {
   "cell_type": "markdown",
   "id": "bd330064",
   "metadata": {},
   "source": [
    "## Variables de importancia"
   ]
  },
  {
   "cell_type": "markdown",
   "id": "7d9b7d3f",
   "metadata": {},
   "source": [
    "|Variable|Tipo|Descripción|Observación|\n",
    "|---|---|---|---|\n",
    "|`region_residencia`| Text | Residencia registrada | Variable utilizada pero no mostrada\n",
    "|`numero_folio`|Numeric| id | el número de folio se mantendrá por trazabilidad\n",
    "|`comuna_residencia`|Text| City | Comuna de residencia informada\n",
    "|`tipo_identificacion`|Text| Tipo de documento de identidad | Carnet o Pasaporte\n",
    "|`identificacion_paciente`|Numeric|Rol Unico Nominal o Numero de pasaporte| |\n",
    "|`fecha_notificacion`|DateTime| Fecha de notificación| DateTime en formato `%Y-%m-%d` |\n",
    "|`semana_epidemiologica`|Numeric|Semana epidemiologica|valores de 1 al 52|\n",
    "|`etapa_clinica`|Text|`SOSPECHA` o `BUSQUEDA A`| Debe ser filtrada para evitar valores `DESCARTADA` |\n",
    "|`resultado_pcr_1`|Text||\n",
    "|`fecha_resultado_pcr_1`|DateTime||\n",
    "|`fecha_toma_muestra_1`|DateTime||\n",
    "|`resultado_pcr_2`|Text||\n",
    "|`fecha_resultado_pcr_2`|DateTime||\n",
    "|`fecha_toma_muestra_2`|DateTime||\n",
    "|`resultado_pcr_3`|Text||\n",
    "|`fecha_resultado_pcr_3`|DateTime||\n",
    "|`fecha_toma_muestra_3`|DateTime||\n",
    "|`establecimiento_salud`|Text|Establecimiento de salud que reporta caso||\n",
    "|`comuna_seremi_xi`|Text|Comuna identificada a traves de establecimiento_salud||\n",
    "|`provincia_seremi_xi`|Text|Comuna identificada a traves de establecimiento_salud||\n"
   ]
  },
  {
   "cell_type": "code",
   "execution_count": 4,
   "id": "b2726109",
   "metadata": {},
   "outputs": [],
   "source": [
    "# Selecciona variables de importancia\n",
    "\n",
    "\n",
    "data_aysen_clean =  data_aysen[[\n",
    "                                'numero_folio',\n",
    "                                'comuna_residencia',\n",
    "                                'fecha_notificacion',\n",
    "                                'semana_epidemiologica',\n",
    "                                'etapa_clinica',\n",
    "                                'resultado_pcr_1',\n",
    "                                'resultado_pcr_2',\n",
    "                                'resultado_pcr_3',\n",
    "                                'fecha_toma_muestra_1',\n",
    "                                'fecha_toma_muestra_2',\n",
    "                                'fecha_toma_muestra_3',\n",
    "                                'fecha_resultado_pcr_1',\n",
    "                                'fecha_resultado_pcr_2',\n",
    "                                'fecha_resultado_pcr_3',\n",
    "                                'establecimiento_salud',\n",
    "                                'comuna_seremi_xi',\n",
    "                                'provincia_seremi_xi'\n",
    "                               ]]\n"
   ]
  },
  {
   "cell_type": "code",
   "execution_count": 5,
   "id": "1e753501",
   "metadata": {},
   "outputs": [
    {
     "data": {
      "text/plain": [
       "DESCARTADA    135708\n",
       "CONFIRMADA      8273\n",
       "BUSQUEDA A      2468\n",
       "PROBABLE        1533\n",
       "SOSPECHA         805\n",
       "Name: etapa_clinica, dtype: int64"
      ]
     },
     "execution_count": 5,
     "metadata": {},
     "output_type": "execute_result"
    }
   ],
   "source": [
    "# Muestra valores en la variable etapa_clinica y cuenta preponderancia\n",
    "\n",
    "data_aysen_clean['etapa_clinica'].value_counts()"
   ]
  },
  {
   "cell_type": "code",
   "execution_count": null,
   "id": "45eb4e11",
   "metadata": {},
   "outputs": [],
   "source": [
    "# Filtra etapa_clinica SOSPECHA\n",
    "\n",
    "data_aysen_clean = data_aysen_clean[(b=='BUSQUEDA A')&(data_aysen_clean['etapa_clinica']=='CONFIRMADA')]"
   ]
  }
 ],
 "metadata": {
  "kernelspec": {
   "display_name": "Python 3",
   "language": "python",
   "name": "python3"
  },
  "language_info": {
   "codemirror_mode": {
    "name": "ipython",
    "version": 3
   },
   "file_extension": ".py",
   "mimetype": "text/x-python",
   "name": "python",
   "nbconvert_exporter": "python",
   "pygments_lexer": "ipython3",
   "version": "3.8.10"
  }
 },
 "nbformat": 4,
 "nbformat_minor": 5
}
