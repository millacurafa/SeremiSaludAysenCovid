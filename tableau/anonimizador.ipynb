{
 "cells": [
  {
   "cell_type": "markdown",
   "id": "c591dc36",
   "metadata": {},
   "source": [
    "# Data anonymizer\n",
    "\n",
    "\n",
    "**Objetivo:** Debido a que los datos serán eventualmente compartidos con servicios externos, tales como Tableau, PowerBI u otros. Los datos deben ser anonimizados para prevenir filtraciones de identidad e información sensible"
   ]
  },
  {
   "cell_type": "code",
   "execution_count": 1,
   "id": "68d8f0cd",
   "metadata": {},
   "outputs": [],
   "source": [
    "import pandas as pd\n"
   ]
  },
  {
   "cell_type": "code",
   "execution_count": 3,
   "id": "6c0cd891",
   "metadata": {},
   "outputs": [],
   "source": [
    "# Importa datos de población regional y crea DF\n",
    "\n",
    "\n",
    "df_poblacion = pd.read_csv('../data/aysen_population.csv') #Archivo ubicado dentro de la carpeta data\n",
    "\n",
    "# Importa datos de comunas corregidas por establecimiento de salud\n",
    "\n",
    "df_establecimiento = pd.read_excel('../data/establecimientos_salud_dict.xlsx') #Archivo ubicado dentro de la carpeta data\n"
   ]
  },
  {
   "cell_type": "code",
   "execution_count": 5,
   "id": "67039daf",
   "metadata": {},
   "outputs": [],
   "source": [
    "# Importa datos desde la base de datos recivida via FTP\n",
    "## PRIMERO: Guardar archivo dentro de la carpeta data\n",
    "## SEGUNDO: No cambiar nombre ni formato del archivo recibido\n",
    "## TERCERO: RECORDAR CAMBIAR FECHA EN EL ARCHIVO A IMPORTAR A CONTINUACION, i.e: 20210829 para este domingo 29 de Agosto 2021\n",
    "\n",
    "df =  pd.read_csv('../data/20210909_Aisen_notificaciones_0600.csv', \n",
    "                   sep='~', # CSV con separador ''~''\n",
    "                   low_memory=False\n",
    "                  )"
   ]
  },
  {
   "cell_type": "code",
   "execution_count": 6,
   "id": "87cc7130",
   "metadata": {},
   "outputs": [],
   "source": [
    "# Realiza merging de los archivos de interes\n",
    "\n",
    "df_merged = df.merge(df_establecimiento, how='left', on='establecimiento_salud').merge(df_poblacion.drop(columns= ['Unnamed: 0','orden','nombre_region', 'codigo_region', 'nombre_provincia','codigo_provincia']), left_on='comuna_seremi_xi', right_on='nombre_comuna', how='left' )\n"
   ]
  },
  {
   "cell_type": "code",
   "execution_count": 7,
   "id": "8ff93ee4",
   "metadata": {},
   "outputs": [],
   "source": [
    "# Filtra datos obtenidos solo para pacientes con residencia en la Región de Aysén\n",
    "\n",
    "data_aysen = df_merged[df_merged['region_residencia'] == 'Región de Aysén del General Carlos Ibáñez del Campo']\n",
    "\n",
    "\n",
    "data_aysen_clean = data_aysen[(data_aysen['estado_caso']!='No validada')&(\n",
    "                          data_aysen['vigente_no_eliminado']==True)&(\n",
    "                          data_aysen['seremi']=='SEREMI De Aisén del General Carlos Ibañez del Campo')\n",
    "                       ].rename(columns={'edad_hombres':'pop_hombres',\n",
    "                                         'edad_mujeres':'pop_mujeres',\n",
    "                                         'total':'pop_total'})"
   ]
  },
  {
   "cell_type": "code",
   "execution_count": 8,
   "id": "2590502b",
   "metadata": {},
   "outputs": [],
   "source": [
    "# Transforma Fechas a formato DateTime \n",
    "\n",
    "data_aysen_clean['fecha_notificacion'] = pd.to_datetime(data_aysen_clean['fecha_notificacion'], errors = 'coerce') \n",
    "\n",
    "data_aysen_clean['fecha_toma_muestra_1'] = pd.to_datetime(data_aysen_clean['fecha_toma_muestra_1'], errors = 'coerce')\n",
    "\n",
    "data_aysen_clean['fecha_toma_muestra_2'] = pd.to_datetime(data_aysen_clean['fecha_toma_muestra_2'], errors = 'coerce')\n",
    "\n",
    "data_aysen_clean['fecha_toma_muestra_3'] = pd.to_datetime(data_aysen_clean['fecha_toma_muestra_3'], errors = 'coerce')\n",
    "\n",
    "data_aysen_clean['fecha_resultado_pcr_1'] = pd.to_datetime(data_aysen_clean['fecha_resultado_pcr_1'], errors = 'coerce')\n",
    "\n",
    "data_aysen_clean['fecha_resultado_pcr_2'] = pd.to_datetime(data_aysen_clean['fecha_resultado_pcr_2'], errors = 'coerce')\n",
    "\n",
    "data_aysen_clean['fecha_resultado_pcr_3'] = pd.to_datetime(data_aysen_clean['fecha_resultado_pcr_3'], errors = 'coerce')"
   ]
  },
  {
   "cell_type": "code",
   "execution_count": 9,
   "id": "2bff3644",
   "metadata": {},
   "outputs": [
    {
     "name": "stderr",
     "output_type": "stream",
     "text": [
      "<ipython-input-9-d2f259f8832e>:7: SettingWithCopyWarning: \n",
      "A value is trying to be set on a copy of a slice from a DataFrame.\n",
      "Try using .loc[row_indexer,col_indexer] = value instead\n",
      "\n",
      "See the caveats in the documentation: https://pandas.pydata.org/pandas-docs/stable/user_guide/indexing.html#returning-a-view-versus-a-copy\n",
      "  data_aysen_clean1['semana_epidemiologica_21'] = data_aysen_clean1['semana_epidemiologica']\n",
      "<ipython-input-9-d2f259f8832e>:8: SettingWithCopyWarning: \n",
      "A value is trying to be set on a copy of a slice from a DataFrame.\n",
      "Try using .loc[row_indexer,col_indexer] = value instead\n",
      "\n",
      "See the caveats in the documentation: https://pandas.pydata.org/pandas-docs/stable/user_guide/indexing.html#returning-a-view-versus-a-copy\n",
      "  data_aysen_clean2['semana_epidemiologica_21'] = data_aysen_clean2['semana_epidemiologica']+53\n"
     ]
    }
   ],
   "source": [
    "# Agrega 53 semanas a las semanas de 2021 y crea semana_epidemiologica_21\n",
    "\n",
    "data_aysen_clean1 = data_aysen_clean[data_aysen_clean['fecha_notificacion']<=pd.to_datetime('2021-01-02')]\n",
    "data_aysen_clean2 = data_aysen_clean[data_aysen_clean['fecha_notificacion']>=pd.to_datetime('2021-01-03')]\n",
    "\n",
    "\n",
    "data_aysen_clean1['semana_epidemiologica_21'] = data_aysen_clean1['semana_epidemiologica']\n",
    "data_aysen_clean2['semana_epidemiologica_21'] = data_aysen_clean2['semana_epidemiologica']+53\n",
    "\n",
    "data_aysen_clean_21 = data_aysen_clean1.append(data_aysen_clean2, ignore_index=True)"
   ]
  },
  {
   "cell_type": "code",
   "execution_count": 17,
   "id": "bf58b25f",
   "metadata": {},
   "outputs": [],
   "source": [
    "# Datos serán semianonimizados porque aún posee informacion para trazabilidad\n",
    "\n",
    "data_aysen_clean_21_anonymous = data_aysen_clean_21.drop([\n",
    "    'run_profesional',\n",
    "    'nombre_profesional',\n",
    "    'telefono_contacto_profesional',\n",
    "    'email_contacto_profesional',\n",
    "    'tipo_identificacion',\n",
    "    'identificacion_paciente',\n",
    "    'dv',\n",
    "    'nombres_paciente',\n",
    "    'primer_apellido_paciente',\n",
    "    'segundo_apellido_paciente',\n",
    "    'fecha_nacimiento',#existe columna edad\n",
    "    'via_residencia',\n",
    "    'direccion',\n",
    "    'numero_residencia',\n",
    "    'dpto_residencia',\n",
    "    'poblacion_villa',\n",
    "    'telefono_fijo',\n",
    "    'telefono_celular',\n",
    "    'descripcion_trabajo',\n",
    "    'rubro_trabajo',\n",
    "    'actividad_laboral_declarada',\n",
    "    'nombre_lugar_trabajo_estudio',\n",
    "    'direccion_lugar_trabajo_estudio'\n",
    "    \n",
    "], axis=1) "
   ]
  },
  {
   "cell_type": "code",
   "execution_count": 18,
   "id": "2240cf01",
   "metadata": {},
   "outputs": [],
   "source": [
    "data_aysen_clean_21_anonymous.to_csv('../data/df_notificaciones_anonimo.csv')"
   ]
  },
  {
   "cell_type": "code",
   "execution_count": null,
   "id": "aabf6370",
   "metadata": {},
   "outputs": [],
   "source": []
  }
 ],
 "metadata": {
  "kernelspec": {
   "display_name": "Python 3",
   "language": "python",
   "name": "python3"
  },
  "language_info": {
   "codemirror_mode": {
    "name": "ipython",
    "version": 3
   },
   "file_extension": ".py",
   "mimetype": "text/x-python",
   "name": "python",
   "nbconvert_exporter": "python",
   "pygments_lexer": "ipython3",
   "version": "3.8.10"
  }
 },
 "nbformat": 4,
 "nbformat_minor": 5
}
