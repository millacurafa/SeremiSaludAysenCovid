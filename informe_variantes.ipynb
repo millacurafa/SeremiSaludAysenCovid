{
 "cells": [
  {
   "cell_type": "markdown",
   "id": "20cfd36a",
   "metadata": {},
   "source": [
    "# Informe Variantes SARS-CoV-2\n",
    "\n",
    "## Antecedentes\n",
    "\n",
    "El virus SARS-CoV-2 pertenece a la familia de los betacoronavirus, los cuales a diferencia de otros virus ARN, tienen la capacidad de corregir errores durante el proceso de replicación, y tienen menores tasas de mutaciones comparado con otros virus Infuenza o VIH. A medida que el SAR-CoV-2 se ha extendido en el mundo, ha acumulado mutaciones en el genoma viral. Los investigadores han examinado estas mutaciones para estudiar la caracterización del virus y comprender la epidemiología y sus patrones de transmisión. Desde la identificación inicial del SARS-CoV-2, hasta el 8 de mayo de 2021, se han compartido, a nivel mundial, más de 1.400.000 secuencias genómicas completas a través de bases de datos de acceso público (GISAID).  \n",
    "Debido a que la OMS ha modificado la nominación de las variantes, se presenta un resumen con las variantes de interés, de preocupación y de alta consecuencia.\n"
   ]
  },
  {
   "cell_type": "code",
   "execution_count": 40,
   "id": "6574d8b6",
   "metadata": {},
   "outputs": [],
   "source": [
    "# Importa librerias a utilizar\n",
    "\n",
    "import pandas as pd\n",
    "import numpy as np\n",
    "import plotly.express as px\n",
    "import locale"
   ]
  },
  {
   "cell_type": "code",
   "execution_count": 175,
   "id": "0e1957e7",
   "metadata": {},
   "outputs": [],
   "source": [
    "# Pretende ser un navegador web para bypasear las restricciones de seguridad de la OMS\n",
    "\n",
    "import requests\n",
    "\n",
    "url = 'https://www.who.int/es/activities/tracking-SARS-CoV-2-variants'\n",
    "\n",
    "header = {\n",
    "  \"User-Agent\": \"Mozilla/5.0 (X11; Linux x86_64) AppleWebKit/537.36 (KHTML, like Gecko) Chrome/50.0.2661.75 Safari/537.36\",\n",
    "  \"X-Requested-With\": \"XMLHttpRequest\"\n",
    "}\n",
    "\n",
    "r = requests.get(url, headers=header)\n",
    "\n",
    "# Importa datos desde la OMS\n",
    "\n",
    "web_data = pd.read_html(r.text)"
   ]
  },
  {
   "cell_type": "markdown",
   "id": "a63b2cd9",
   "metadata": {},
   "source": [
    "## Variante de interés\n",
    "\n",
    "Variante con marcadores genéticos específicos que se han asociado con cambios en la unión al receptor, neutralización reducida por anticuerpos generados contra infecciones o vacunas previas, eficacia reducida de tratamientos, impacto diagnóstico potencial o aumento previsto de la transmisibilidad o gravedad de la enfermedad.\n",
    "Posibles atributos de una variante de interés:\n",
    "\n",
    "-\tMarcadores genéticos específicos que se predice que afectarán la transmisión, el diagnóstico, la terapéutica o el escape inmunológico.\n",
    "-\tEvidencia de que es la causa de una mayor proporción de casos o grupos de brotes únicos.\n",
    "-\tPrevalencia o expansión limitada en los EE. UU. o en otros países.\n",
    "\n",
    "Una variante de interés puede requerir una o más acciones de salud pública apropiadas, incluida una vigilancia de secuencia mejorada, una caracterización mejorada de laboratorio o investigaciones epidemiológicas para evaluar la facilidad con la que el virus se propaga a otros, la gravedad de la enfermedad, la eficacia de la terapéutica y si las vacunas actualmente autorizadas ofrecen protección.\n"
   ]
  },
  {
   "cell_type": "markdown",
   "id": "5173319e",
   "metadata": {},
   "source": [
    "**Consideradas actualmente como variantes de interes**"
   ]
  },
  {
   "cell_type": "code",
   "execution_count": 185,
   "id": "716fbbed",
   "metadata": {},
   "outputs": [
    {
     "data": {
      "text/html": [
       "<div>\n",
       "<style scoped>\n",
       "    .dataframe tbody tr th:only-of-type {\n",
       "        vertical-align: middle;\n",
       "    }\n",
       "\n",
       "    .dataframe tbody tr th {\n",
       "        vertical-align: top;\n",
       "    }\n",
       "\n",
       "    .dataframe thead th {\n",
       "        text-align: right;\n",
       "    }\n",
       "</style>\n",
       "<table border=\"1\" class=\"dataframe\">\n",
       "  <thead>\n",
       "    <tr style=\"text-align: right;\">\n",
       "      <th></th>\n",
       "      <th>Etiqueta OMS</th>\n",
       "      <th>Linaje Pango</th>\n",
       "      <th>Clado/linaje GISAID</th>\n",
       "      <th>Clado Nextstrain</th>\n",
       "      <th>Primeras muestras documentadas</th>\n",
       "      <th>Fecha de designación</th>\n",
       "    </tr>\n",
       "  </thead>\n",
       "  <tbody>\n",
       "    <tr>\n",
       "      <th>0</th>\n",
       "      <td>Eta</td>\n",
       "      <td>B.1.525</td>\n",
       "      <td>G/484K.V3</td>\n",
       "      <td>21D</td>\n",
       "      <td>Múltiples países, diciembre 2020</td>\n",
       "      <td>17 marzo 2021</td>\n",
       "    </tr>\n",
       "    <tr>\n",
       "      <th>1</th>\n",
       "      <td>Iota</td>\n",
       "      <td>B.1.526</td>\n",
       "      <td>GH/253G.V1</td>\n",
       "      <td>21F</td>\n",
       "      <td>Estados Unidos de América, noviembre 2020</td>\n",
       "      <td>24 marzo 2021</td>\n",
       "    </tr>\n",
       "    <tr>\n",
       "      <th>2</th>\n",
       "      <td>Kappa</td>\n",
       "      <td>B.1.617.1</td>\n",
       "      <td>G/452R.V3</td>\n",
       "      <td>21B</td>\n",
       "      <td>India, octubre 2020</td>\n",
       "      <td>4 abril 2021</td>\n",
       "    </tr>\n",
       "    <tr>\n",
       "      <th>3</th>\n",
       "      <td>Lambda</td>\n",
       "      <td>C.37</td>\n",
       "      <td>GR/452Q.V1</td>\n",
       "      <td>21G</td>\n",
       "      <td>Perú, diciembre 2020</td>\n",
       "      <td>14 junio 2021</td>\n",
       "    </tr>\n",
       "  </tbody>\n",
       "</table>\n",
       "</div>"
      ],
      "text/plain": [
       "  Etiqueta OMS Linaje Pango Clado/linaje GISAID Clado Nextstrain  \\\n",
       "0          Eta      B.1.525           G/484K.V3              21D   \n",
       "1         Iota      B.1.526          GH/253G.V1              21F   \n",
       "2        Kappa    B.1.617.1           G/452R.V3              21B   \n",
       "3       Lambda         C.37          GR/452Q.V1              21G   \n",
       "\n",
       "              Primeras muestras documentadas Fecha de designación  \n",
       "0           Múltiples países, diciembre 2020        17 marzo 2021  \n",
       "1  Estados Unidos de América, noviembre 2020        24 marzo 2021  \n",
       "2                        India, octubre 2020         4 abril 2021  \n",
       "3                       Perú, diciembre 2020        14 junio 2021  "
      ]
     },
     "execution_count": 185,
     "metadata": {},
     "output_type": "execute_result"
    }
   ],
   "source": [
    "web_data[1]"
   ]
  },
  {
   "cell_type": "markdown",
   "id": "834fa933",
   "metadata": {},
   "source": [
    "\\* **PANGO:** *Phylogenetic Assignment of Named Global Outbreak* [más información](https://cov-lineages.org/lineage_list.html)\n",
    "\n",
    "\\** **GISAID:** *Global Initiative on Sharing All Influenza Data* [más información](https://www.gisaid.org/hcov19-variants/)\n",
    "\n",
    "\\*\\*\\* **NEXTSTRAIN:** *Scientific and public health potential of pathogen genome data* [más información](https://nextstrain.org/ncov/gisaid/global)"
   ]
  },
  {
   "cell_type": "markdown",
   "id": "e8efa68c",
   "metadata": {},
   "source": [
    "## Variante de preocupación\n",
    "\n",
    "Una variante para la cual hay evidencia de un aumento en la transmisibilidad, enfermedad más grave (por ejemplo, aumento de hospitalizaciones o muertes), reducción significativa de la neutralización por anticuerpos generados durante una infección o vacunación previa, eficacia reducida de tratamientos o vacunas o fallas en la detección del diagnóstico.\n",
    "Posibles atributos de una variante de interés:\n",
    "\n",
    "-\tEvidencia de impacto en diagnósticos, tratamientos o vacunas.\n",
    "-\tInterferencia generalizada con los objetivos de las pruebas de diagnóstico.\n",
    "-\tEvidencia de susceptibilidad sustancialmente disminuida a una o más clases de terapias.\n",
    "-\tEvidencia de una disminución significativa de la neutralización por anticuerpos generados durante una infección o vacunación previa.\n",
    "-\tEvidencia de protección reducida inducida por vacunas contra enfermedades graves.\n",
    "-\tEvidencia de una mayor transmisibilidad.\n",
    "-\tEvidencia de una mayor gravedad de la enfermedad.\n",
    "\n",
    "Las variantes de preocupación pueden requerir una o más acciones de salud pública apropiadas, como la notificación a la OMS en virtud del Reglamento Sanitario Internacional, la notificación a los CDC, los esfuerzos locales o regionales para controlar la propagación, el aumento de las pruebas o la investigación para determinar la eficacia de las vacunas y los tratamientos contra la variante. Según las características de la variante, las consideraciones adicionales pueden incluir el desarrollo de nuevos diagnósticos o la modificación de vacunas o tratamientos.\n"
   ]
  },
  {
   "cell_type": "markdown",
   "id": "faff40c5",
   "metadata": {},
   "source": [
    "**Consideradas actualmente como variantes de preocupación**"
   ]
  },
  {
   "cell_type": "code",
   "execution_count": 182,
   "id": "de1663cb",
   "metadata": {},
   "outputs": [
    {
     "data": {
      "text/html": [
       "<div>\n",
       "<style scoped>\n",
       "    .dataframe tbody tr th:only-of-type {\n",
       "        vertical-align: middle;\n",
       "    }\n",
       "\n",
       "    .dataframe tbody tr th {\n",
       "        vertical-align: top;\n",
       "    }\n",
       "\n",
       "    .dataframe thead th {\n",
       "        text-align: right;\n",
       "    }\n",
       "</style>\n",
       "<table border=\"1\" class=\"dataframe\">\n",
       "  <thead>\n",
       "    <tr style=\"text-align: right;\">\n",
       "      <th></th>\n",
       "      <th>Etiqueta OMS</th>\n",
       "      <th>Linaje Pango</th>\n",
       "      <th>Clado/linaje GISAID</th>\n",
       "      <th>Clado Nextstrain</th>\n",
       "      <th>Cambios aminoacidicos adicionales monitoreados</th>\n",
       "      <th>Primeras muestras documentadassamples</th>\n",
       "      <th>Fecha de designación</th>\n",
       "    </tr>\n",
       "  </thead>\n",
       "  <tbody>\n",
       "    <tr>\n",
       "      <th>0</th>\n",
       "      <td>Alpha</td>\n",
       "      <td>B.1.1.7</td>\n",
       "      <td>GRY</td>\n",
       "      <td>20I (V1)</td>\n",
       "      <td>+S:484K+S:452R</td>\n",
       "      <td>Reino Unido, septiembre 2020</td>\n",
       "      <td>18 diciembre 2020</td>\n",
       "    </tr>\n",
       "    <tr>\n",
       "      <th>1</th>\n",
       "      <td>Beta</td>\n",
       "      <td>B.1.351 B.1.351.2B.1.351.3</td>\n",
       "      <td>GH/501Y.V2</td>\n",
       "      <td>20H (V2)</td>\n",
       "      <td>+S:L18F</td>\n",
       "      <td>Sudáfrica, mayo 2020</td>\n",
       "      <td>18 diciembre 2020</td>\n",
       "    </tr>\n",
       "    <tr>\n",
       "      <th>2</th>\n",
       "      <td>Gamma</td>\n",
       "      <td>P.1 P.1.1P.1.2P.1.4P.1.6P.1.7</td>\n",
       "      <td>GR/501Y.V3</td>\n",
       "      <td>20J (V3)</td>\n",
       "      <td>+S:681H</td>\n",
       "      <td>Brasil, noviembre 2020</td>\n",
       "      <td>11 enero 2021</td>\n",
       "    </tr>\n",
       "    <tr>\n",
       "      <th>3</th>\n",
       "      <td>Delta</td>\n",
       "      <td>B.1.617.2AY.1AY.2AY.3AY.3.1</td>\n",
       "      <td>G/478K.V1</td>\n",
       "      <td>21A</td>\n",
       "      <td>+S:417N</td>\n",
       "      <td>India, octubre 2020</td>\n",
       "      <td>VOI: 4 abril 2021 VOC: 11 mayo 2021</td>\n",
       "    </tr>\n",
       "  </tbody>\n",
       "</table>\n",
       "</div>"
      ],
      "text/plain": [
       "  Etiqueta OMS                   Linaje Pango Clado/linaje GISAID  \\\n",
       "0        Alpha                        B.1.1.7                 GRY   \n",
       "1         Beta     B.1.351 B.1.351.2B.1.351.3          GH/501Y.V2   \n",
       "2        Gamma  P.1 P.1.1P.1.2P.1.4P.1.6P.1.7          GR/501Y.V3   \n",
       "3        Delta    B.1.617.2AY.1AY.2AY.3AY.3.1           G/478K.V1   \n",
       "\n",
       "  Clado Nextstrain Cambios aminoacidicos adicionales monitoreados  \\\n",
       "0         20I (V1)                                 +S:484K+S:452R   \n",
       "1         20H (V2)                                        +S:L18F   \n",
       "2         20J (V3)                                        +S:681H   \n",
       "3              21A                                        +S:417N   \n",
       "\n",
       "  Primeras muestras documentadassamples                 Fecha de designación  \n",
       "0          Reino Unido, septiembre 2020                    18 diciembre 2020  \n",
       "1                  Sudáfrica, mayo 2020                    18 diciembre 2020  \n",
       "2                Brasil, noviembre 2020                        11 enero 2021  \n",
       "3                   India, octubre 2020  VOI: 4 abril 2021 VOC: 11 mayo 2021  "
      ]
     },
     "execution_count": 182,
     "metadata": {},
     "output_type": "execute_result"
    }
   ],
   "source": [
    "web_data[0]"
   ]
  },
  {
   "cell_type": "markdown",
   "id": "0a5525eb",
   "metadata": {},
   "source": [
    "\\* **PANGO:** *Phylogenetic Assignment of Named Global Outbreak* [más información](https://cov-lineages.org/lineage_list.html)\n",
    "\n",
    "\\** **GISAID:** *Global Initiative on Sharing All Influenza Data* [más información](https://www.gisaid.org/hcov19-variants/)\n",
    "\n",
    "\\*\\*\\* **NEXTSTRAIN:** *Scientific and public health potential of pathogen genome data* [más información](https://nextstrain.org/ncov/gisaid/global)"
   ]
  },
  {
   "cell_type": "markdown",
   "id": "e6b6195c",
   "metadata": {},
   "source": [
    "## Variante de alta consecuencia\n",
    "\n",
    "Una variante de alta consecuencia, tiene una clara evidencia de que las medidas de prevención o las contramedidas médicas (MCM) han reducido significativamente la efectividad en relación con las variantes que circulaban anteriormente.\n",
    "\n",
    "Posibles atributos de una variante de alta consecuencia:\n",
    "\n",
    "-\tImpacto en las contramedidas médicas (MCM)\n",
    "-\tFallo de diagnóstico demostrado.\n",
    "-\tEvidencia que sugiere una reducción significativa en la efectividad de la vacuna, un número desproporcionadamente alto de casos de avance de la vacuna o una protección muy baja inducida por la vacuna contra la enfermedad grave.\n",
    "-\tSusceptibilidad significativamente reducida a múltiples autorizaciones de uso de emergencia (EUA) o terapias aprobadas.\n",
    "-\tEnfermedad clínica más grave y aumento de las hospitalizaciones.\n",
    "\n",
    "Una variante de gran consecuencia requeriría una notificación a la OMS de conformidad con el Reglamento Sanitario Internacional, un informe a los CDC, un anuncio de estrategias para prevenir o contener la transmisión y recomendaciones para actualizar los tratamientos y las vacunas.\n"
   ]
  },
  {
   "cell_type": "markdown",
   "id": "92995c8b",
   "metadata": {},
   "source": [
    "## Reclacificación de Variantes de interes y Variantes de preocupación\n",
    "\n",
    "Se podrá reclasificar una variante del SARS-CoV-2 que se haya considerado anteriormente como preocupante o de interés si se demuestra de forma concluyente que ya no entraña riesgos importantes añadidos a la salud pública mundial con respecto a otras variantes del virus. \n",
    "\n",
    "Con ese fin, los expertos llevarán a cabo una evaluación crítica teniendo en cuenta varios criterios y en colaboración con el Grupo Consultivo Técnico de la OMS sobre Evolución de los Virus. Esos criterios pueden ser: la incidencia observada o la prevalencia relativa de las variantes detectadas en las muestras secuenciadas a lo largo del tiempo y en distintas ubicaciones geográficas, la presencia o ausencia de otros factores de riesgo y cualquier efecto que esté causando en las medidas de control.\n"
   ]
  },
  {
   "cell_type": "markdown",
   "id": "20a43019",
   "metadata": {},
   "source": [
    "## Variantes actualmente designadas como Alertas de vigilancia reforzada\n",
    "\n",
    "Cualquier variante del SARS-CoV-2 que presente modificaciones en el genoma que, según se sospeche, puedan afectar a las características del virus y parezcan indicar que la variante puede entrañar riesgos en el futuro, a pesar de que no se disponga de pruebas claras de los cambios que pueda causar en el fenotipo o en las características epidemiológicas del virus y sea necesario mantener el seguimiento y continuar estudiándola hasta que no se disponga de más información. \n",
    "\n",
    "Nota: dado que los conocimientos sobre el impacto de estas variantes pueden variar rápidamente, es posible que, en el futuro, se emitan nuevas alertas de vigilancia reforzada y se retiren otras; esta es la razón por la cual la OMS no asigna, por el momento, denominaciones a estas variantes. También es posible que se mantenga la vigilancia de variantes clasificadas anteriormente como preocupantes o de interés durante un periodo más prolongado, manteniéndolas en la categoría de alertas de vigilancia reforzada y conservando la denominación asignada por la OMS hasta nuevo aviso."
   ]
  },
  {
   "cell_type": "markdown",
   "id": "b43b15d3",
   "metadata": {},
   "source": [
    "**Consideradas actualmente como Alertas de vigilancia reforzada**"
   ]
  },
  {
   "cell_type": "code",
   "execution_count": 183,
   "id": "1d6d94a3",
   "metadata": {},
   "outputs": [
    {
     "data": {
      "text/html": [
       "<div>\n",
       "<style scoped>\n",
       "    .dataframe tbody tr th:only-of-type {\n",
       "        vertical-align: middle;\n",
       "    }\n",
       "\n",
       "    .dataframe tbody tr th {\n",
       "        vertical-align: top;\n",
       "    }\n",
       "\n",
       "    .dataframe thead th {\n",
       "        text-align: right;\n",
       "    }\n",
       "</style>\n",
       "<table border=\"1\" class=\"dataframe\">\n",
       "  <thead>\n",
       "    <tr style=\"text-align: right;\">\n",
       "      <th></th>\n",
       "      <th>Linajes establecidos mediante la nomenclatura Pango</th>\n",
       "      <th>Clado/linaje GISAID</th>\n",
       "      <th>Clados de Nextstrain</th>\n",
       "      <th>Muestras más antiguas documentadas</th>\n",
       "      <th>Fecha en que se asignó la denominación</th>\n",
       "    </tr>\n",
       "  </thead>\n",
       "  <tbody>\n",
       "    <tr>\n",
       "      <th>0</th>\n",
       "      <td>B.1.427B.1.429*</td>\n",
       "      <td>GH/452R.V1</td>\n",
       "      <td>21C</td>\n",
       "      <td>Estados Unidos de América, marzo de 2020</td>\n",
       "      <td>VOI: 5 de marzo de 2021 Alerta: 6 de julio de ...</td>\n",
       "    </tr>\n",
       "    <tr>\n",
       "      <th>1</th>\n",
       "      <td>R.1</td>\n",
       "      <td>GR</td>\n",
       "      <td>-</td>\n",
       "      <td>Varios países, enero de 2021</td>\n",
       "      <td>07 de abril de 2021</td>\n",
       "    </tr>\n",
       "    <tr>\n",
       "      <th>2</th>\n",
       "      <td>B.1.466.2</td>\n",
       "      <td>GH</td>\n",
       "      <td>-</td>\n",
       "      <td>Indonesia, noviembre de 2020</td>\n",
       "      <td>28 de abril de 2021</td>\n",
       "    </tr>\n",
       "    <tr>\n",
       "      <th>3</th>\n",
       "      <td>B.1.621B.1.621.1</td>\n",
       "      <td>GH</td>\n",
       "      <td>21H</td>\n",
       "      <td>Colombia, enero de 2021</td>\n",
       "      <td>26 de mayo de 2021</td>\n",
       "    </tr>\n",
       "    <tr>\n",
       "      <th>4</th>\n",
       "      <td>B.1.1.318</td>\n",
       "      <td>GR</td>\n",
       "      <td>NaN</td>\n",
       "      <td>Varios países, enero de 2021</td>\n",
       "      <td>2 de junio de 2021</td>\n",
       "    </tr>\n",
       "    <tr>\n",
       "      <th>5</th>\n",
       "      <td>B.1.1.519</td>\n",
       "      <td>GR</td>\n",
       "      <td>20B/S.732A</td>\n",
       "      <td>NaN</td>\n",
       "      <td>2 de junio de 2021</td>\n",
       "    </tr>\n",
       "    <tr>\n",
       "      <th>6</th>\n",
       "      <td>C.36.3C.36.3.1</td>\n",
       "      <td>GR</td>\n",
       "      <td>NaN</td>\n",
       "      <td>Varios países, enero de 2021</td>\n",
       "      <td>16 de junio de 2021</td>\n",
       "    </tr>\n",
       "    <tr>\n",
       "      <th>7</th>\n",
       "      <td>B.1.214.2</td>\n",
       "      <td>G</td>\n",
       "      <td>-</td>\n",
       "      <td>Varios países, noviembre de 2020</td>\n",
       "      <td>30 de junio de 2021</td>\n",
       "    </tr>\n",
       "    <tr>\n",
       "      <th>8</th>\n",
       "      <td>B.1.1.523</td>\n",
       "      <td>GR</td>\n",
       "      <td>-</td>\n",
       "      <td>Varios países, mayo de 2020</td>\n",
       "      <td>14 de julio de 2021</td>\n",
       "    </tr>\n",
       "    <tr>\n",
       "      <th>9</th>\n",
       "      <td>B.1.619</td>\n",
       "      <td>G</td>\n",
       "      <td>-</td>\n",
       "      <td>Varios países, mayo de 2020</td>\n",
       "      <td>14 de julio de 2021</td>\n",
       "    </tr>\n",
       "    <tr>\n",
       "      <th>10</th>\n",
       "      <td>B.1.620</td>\n",
       "      <td>G</td>\n",
       "      <td>-</td>\n",
       "      <td>Varios países, noviembre de 2020</td>\n",
       "      <td>14 de julio de 2021</td>\n",
       "    </tr>\n",
       "    <tr>\n",
       "      <th>11</th>\n",
       "      <td>C.1.2</td>\n",
       "      <td>GR</td>\n",
       "      <td>NaN</td>\n",
       "      <td>Sudáfrica, mayo de 2021</td>\n",
       "      <td>1 de septiembre de 2021</td>\n",
       "    </tr>\n",
       "  </tbody>\n",
       "</table>\n",
       "</div>"
      ],
      "text/plain": [
       "   Linajes establecidos mediante la nomenclatura Pango Clado/linaje GISAID  \\\n",
       "0                                     B.1.427B.1.429*           GH/452R.V1   \n",
       "1                                                 R.1                   GR   \n",
       "2                                           B.1.466.2                   GH   \n",
       "3                                    B.1.621B.1.621.1                   GH   \n",
       "4                                           B.1.1.318                   GR   \n",
       "5                                           B.1.1.519                   GR   \n",
       "6                                      C.36.3C.36.3.1                   GR   \n",
       "7                                           B.1.214.2                    G   \n",
       "8                                           B.1.1.523                   GR   \n",
       "9                                             B.1.619                    G   \n",
       "10                                            B.1.620                    G   \n",
       "11                                              C.1.2                   GR   \n",
       "\n",
       "   Clados de Nextstrain        Muestras más antiguas documentadas  \\\n",
       "0                   21C  Estados Unidos de América, marzo de 2020   \n",
       "1                     -              Varios países, enero de 2021   \n",
       "2                     -              Indonesia, noviembre de 2020   \n",
       "3                   21H                   Colombia, enero de 2021   \n",
       "4                   NaN              Varios países, enero de 2021   \n",
       "5            20B/S.732A                                       NaN   \n",
       "6                   NaN              Varios países, enero de 2021   \n",
       "7                     -          Varios países, noviembre de 2020   \n",
       "8                     -               Varios países, mayo de 2020   \n",
       "9                     -               Varios países, mayo de 2020   \n",
       "10                    -          Varios países, noviembre de 2020   \n",
       "11                  NaN                   Sudáfrica, mayo de 2021   \n",
       "\n",
       "               Fecha en que se asignó la denominación  \n",
       "0   VOI: 5 de marzo de 2021 Alerta: 6 de julio de ...  \n",
       "1                                 07 de abril de 2021  \n",
       "2                                 28 de abril de 2021  \n",
       "3                                  26 de mayo de 2021  \n",
       "4                                  2 de junio de 2021  \n",
       "5                                  2 de junio de 2021  \n",
       "6                                 16 de junio de 2021  \n",
       "7                                 30 de junio de 2021  \n",
       "8                                 14 de julio de 2021  \n",
       "9                                 14 de julio de 2021  \n",
       "10                                14 de julio de 2021  \n",
       "11                            1 de septiembre de 2021  "
      ]
     },
     "execution_count": 183,
     "metadata": {},
     "output_type": "execute_result"
    }
   ],
   "source": [
    "web_data[2]"
   ]
  },
  {
   "cell_type": "markdown",
   "id": "41bdbf57",
   "metadata": {},
   "source": [
    "\\* **PANGO:** *Phylogenetic Assignment of Named Global Outbreak* [más información](https://cov-lineages.org/lineage_list.html)\n",
    "\n",
    "\\** **GISAID:** *Global Initiative on Sharing All Influenza Data* [más información](https://www.gisaid.org/hcov19-variants/)\n",
    "\n",
    "\\*\\*\\* **NEXTSTRAIN:** *Scientific and public health potential of pathogen genome data* [más información](https://nextstrain.org/ncov/gisaid/global)"
   ]
  },
  {
   "cell_type": "markdown",
   "id": "b5cb9cfd",
   "metadata": {},
   "source": [
    "## Importa datos de variantes"
   ]
  },
  {
   "cell_type": "code",
   "execution_count": 64,
   "id": "909cb1b7",
   "metadata": {},
   "outputs": [],
   "source": [
    "import janitor"
   ]
  },
  {
   "cell_type": "code",
   "execution_count": 66,
   "id": "76f0c680",
   "metadata": {},
   "outputs": [],
   "source": [
    "df_variantes = pd.read_excel('data/20210907_Región de Aysén del General Carlos Ibáñez del Campo_Base_Variantes_pm.xlsx',\n",
    "                              sheet_name='Base'\n",
    "                             ).clean_names()"
   ]
  },
  {
   "cell_type": "code",
   "execution_count": 68,
   "id": "b465d129",
   "metadata": {},
   "outputs": [
    {
     "data": {
      "text/plain": [
       "Index(['n_documento', 'tipo_documento', 'clasificacion_linaje',\n",
       "       'variante_linaje', 'pango', 'tecnica', 'tipo_de_caso',\n",
       "       'folio_epivigila', 'nombre_completo', 'nacionalidad', 'estado_paciente',\n",
       "       'edad', 'sexo', 'pais_de_residencia', 'region_de_residencia',\n",
       "       'comuna_de_residencia', 'via_residencia', 'direccion',\n",
       "       'dpto_residencia', 'latitud', 'longitud', 'vuelo',\n",
       "       'pais_procedencia_viajeros', 'nummue_isp', 'fecha_toma_de_muestra',\n",
       "       'establecimiento_toma_de_muestra',\n",
       "       'fecha_resultado_secuenciacion_genotipificacion', 'lugar_de_reposo',\n",
       "       'presentacion_clinica', 'n_contactos_estrechos', 'hospitalizacion',\n",
       "       'uci', 'fecha_ingreso_hospitalizacion', 'fecha_ingreso_uci',\n",
       "       'dg_fallecido', 'fecha_defuncion', 'esquema_de_vacunacion_completo',\n",
       "       'fecha_1_dosis', 'fecha_2_dosis', 'fecha_3_dosis', 'nombre_vacuna_1',\n",
       "       'nombre_vacuna_2', 'nombre_vacuna_3', 'vacuna_previo_a_ftm', 'informe',\n",
       "       'emisor_de_informe', 'embarazo', 'comorbilidad', 'fis', 'frs',\n",
       "       'id_pntm', 'region_de_notificacion'],\n",
       "      dtype='object')"
      ]
     },
     "execution_count": 68,
     "metadata": {},
     "output_type": "execute_result"
    }
   ],
   "source": [
    "df_variantes.columns"
   ]
  },
  {
   "cell_type": "code",
   "execution_count": 77,
   "id": "709fd8fe",
   "metadata": {},
   "outputs": [
    {
     "data": {
      "text/html": [
       "<div>\n",
       "<style scoped>\n",
       "    .dataframe tbody tr th:only-of-type {\n",
       "        vertical-align: middle;\n",
       "    }\n",
       "\n",
       "    .dataframe tbody tr th {\n",
       "        vertical-align: top;\n",
       "    }\n",
       "\n",
       "    .dataframe thead th {\n",
       "        text-align: right;\n",
       "    }\n",
       "</style>\n",
       "<table border=\"1\" class=\"dataframe\">\n",
       "  <thead>\n",
       "    <tr style=\"text-align: right;\">\n",
       "      <th></th>\n",
       "      <th>folio_epivigila</th>\n",
       "      <th>fecha_resultado_secuenciacion_genotipificacion</th>\n",
       "      <th>clasificacion_linaje</th>\n",
       "      <th>variante_linaje</th>\n",
       "      <th>pango</th>\n",
       "      <th>presentacion_clinica</th>\n",
       "      <th>tecnica</th>\n",
       "      <th>tipo_de_caso</th>\n",
       "      <th>estado_paciente</th>\n",
       "      <th>edad</th>\n",
       "      <th>...</th>\n",
       "      <th>nombre_vacuna_3</th>\n",
       "      <th>vacuna_previo_a_ftm</th>\n",
       "      <th>informe</th>\n",
       "      <th>emisor_de_informe</th>\n",
       "      <th>embarazo</th>\n",
       "      <th>comorbilidad</th>\n",
       "      <th>fis</th>\n",
       "      <th>frs</th>\n",
       "      <th>id_pntm</th>\n",
       "      <th>region_de_notificacion</th>\n",
       "    </tr>\n",
       "  </thead>\n",
       "  <tbody>\n",
       "    <tr>\n",
       "      <th>0</th>\n",
       "      <td>16120644</td>\n",
       "      <td>2021-09-01</td>\n",
       "      <td>VOC</td>\n",
       "      <td>GAMMA</td>\n",
       "      <td>P.1</td>\n",
       "      <td>ASINTOMATICO</td>\n",
       "      <td>SECUENCIACION GENOMICA</td>\n",
       "      <td>COMUNITARIO</td>\n",
       "      <td>VIVO</td>\n",
       "      <td>10</td>\n",
       "      <td>...</td>\n",
       "      <td>NaN</td>\n",
       "      <td>NO</td>\n",
       "      <td>VIG. COMUNITARIA ISP</td>\n",
       "      <td>INSTITUTO SALUD PUBLICA</td>\n",
       "      <td>NaN</td>\n",
       "      <td>NaN</td>\n",
       "      <td>2021-08-17</td>\n",
       "      <td>2021-09-02</td>\n",
       "      <td>NaN</td>\n",
       "      <td>Región de Aysén del General Carlos Ibáñez del ...</td>\n",
       "    </tr>\n",
       "    <tr>\n",
       "      <th>1</th>\n",
       "      <td>16237260</td>\n",
       "      <td>2021-09-01</td>\n",
       "      <td>NO AMPLIFICA</td>\n",
       "      <td>NO AMPLIFICA</td>\n",
       "      <td>NO AMPLIFICA</td>\n",
       "      <td>SINTOMATICO</td>\n",
       "      <td>SECUENCIACION GENOMICA</td>\n",
       "      <td>COMUNITARIO</td>\n",
       "      <td>VIVO</td>\n",
       "      <td>23</td>\n",
       "      <td>...</td>\n",
       "      <td>NaN</td>\n",
       "      <td>NO</td>\n",
       "      <td>VIG. COMUNITARIA ISP</td>\n",
       "      <td>INSTITUTO SALUD PUBLICA</td>\n",
       "      <td>False</td>\n",
       "      <td>NaN</td>\n",
       "      <td>2021-08-19</td>\n",
       "      <td>2021-09-02</td>\n",
       "      <td>NaN</td>\n",
       "      <td>Región de Aysén del General Carlos Ibáñez del ...</td>\n",
       "    </tr>\n",
       "    <tr>\n",
       "      <th>2</th>\n",
       "      <td>16120624</td>\n",
       "      <td>2021-09-01</td>\n",
       "      <td>VOC</td>\n",
       "      <td>GAMMA</td>\n",
       "      <td>P.1</td>\n",
       "      <td>ASINTOMATICO</td>\n",
       "      <td>SECUENCIACION GENOMICA</td>\n",
       "      <td>COMUNITARIO</td>\n",
       "      <td>VIVO</td>\n",
       "      <td>44</td>\n",
       "      <td>...</td>\n",
       "      <td>NaN</td>\n",
       "      <td>SI</td>\n",
       "      <td>VIG. COMUNITARIA ISP</td>\n",
       "      <td>INSTITUTO SALUD PUBLICA</td>\n",
       "      <td>NaN</td>\n",
       "      <td>NaN</td>\n",
       "      <td>2021-08-17</td>\n",
       "      <td>2021-09-02</td>\n",
       "      <td>NaN</td>\n",
       "      <td>Región de Aysén del General Carlos Ibáñez del ...</td>\n",
       "    </tr>\n",
       "    <tr>\n",
       "      <th>3</th>\n",
       "      <td>16275651</td>\n",
       "      <td>2021-09-01</td>\n",
       "      <td>VOC</td>\n",
       "      <td>GAMMA</td>\n",
       "      <td>P.1</td>\n",
       "      <td>ASINTOMATICO</td>\n",
       "      <td>SECUENCIACION GENOMICA</td>\n",
       "      <td>COMUNITARIO</td>\n",
       "      <td>VIVO</td>\n",
       "      <td>43</td>\n",
       "      <td>...</td>\n",
       "      <td>NaN</td>\n",
       "      <td>SI</td>\n",
       "      <td>VIG. COMUNITARIA ISP</td>\n",
       "      <td>INSTITUTO SALUD PUBLICA</td>\n",
       "      <td>NaN</td>\n",
       "      <td>NaN</td>\n",
       "      <td>2021-08-23</td>\n",
       "      <td>2021-09-02</td>\n",
       "      <td>NaN</td>\n",
       "      <td>Región de Aysén del General Carlos Ibáñez del ...</td>\n",
       "    </tr>\n",
       "    <tr>\n",
       "      <th>4</th>\n",
       "      <td>16241767</td>\n",
       "      <td>2021-09-01</td>\n",
       "      <td>VOC</td>\n",
       "      <td>GAMMA</td>\n",
       "      <td>P.1</td>\n",
       "      <td>SINTOMATICO</td>\n",
       "      <td>SECUENCIACION GENOMICA</td>\n",
       "      <td>COMUNITARIO</td>\n",
       "      <td>VIVO</td>\n",
       "      <td>42</td>\n",
       "      <td>...</td>\n",
       "      <td>NaN</td>\n",
       "      <td>SI</td>\n",
       "      <td>VIG. COMUNITARIA ISP</td>\n",
       "      <td>INSTITUTO SALUD PUBLICA</td>\n",
       "      <td>False</td>\n",
       "      <td>NaN</td>\n",
       "      <td>2021-08-18</td>\n",
       "      <td>2021-09-02</td>\n",
       "      <td>NaN</td>\n",
       "      <td>Región de Aysén del General Carlos Ibáñez del ...</td>\n",
       "    </tr>\n",
       "    <tr>\n",
       "      <th>...</th>\n",
       "      <td>...</td>\n",
       "      <td>...</td>\n",
       "      <td>...</td>\n",
       "      <td>...</td>\n",
       "      <td>...</td>\n",
       "      <td>...</td>\n",
       "      <td>...</td>\n",
       "      <td>...</td>\n",
       "      <td>...</td>\n",
       "      <td>...</td>\n",
       "      <td>...</td>\n",
       "      <td>...</td>\n",
       "      <td>...</td>\n",
       "      <td>...</td>\n",
       "      <td>...</td>\n",
       "      <td>...</td>\n",
       "      <td>...</td>\n",
       "      <td>...</td>\n",
       "      <td>...</td>\n",
       "      <td>...</td>\n",
       "      <td>...</td>\n",
       "    </tr>\n",
       "    <tr>\n",
       "      <th>263</th>\n",
       "      <td>NaN</td>\n",
       "      <td>2021-09-06</td>\n",
       "      <td>VOC</td>\n",
       "      <td>DELTA</td>\n",
       "      <td>SIN PANGO</td>\n",
       "      <td>NaN</td>\n",
       "      <td>GENOTIPIFICACION</td>\n",
       "      <td>COMUNITARIO</td>\n",
       "      <td>NaN</td>\n",
       "      <td>NaN</td>\n",
       "      <td>...</td>\n",
       "      <td>NaN</td>\n",
       "      <td>NO</td>\n",
       "      <td>2021-09-06 PCR MUTACIONES</td>\n",
       "      <td>RED LABORATORIOS PUNTOS DE ENTRADA</td>\n",
       "      <td>NaN</td>\n",
       "      <td>NaN</td>\n",
       "      <td>NaT</td>\n",
       "      <td>2021-09-07</td>\n",
       "      <td>7.017104e+09</td>\n",
       "      <td>NaN</td>\n",
       "    </tr>\n",
       "    <tr>\n",
       "      <th>264</th>\n",
       "      <td>NaN</td>\n",
       "      <td>2021-09-06</td>\n",
       "      <td>VOC</td>\n",
       "      <td>DELTA</td>\n",
       "      <td>SIN PANGO</td>\n",
       "      <td>NaN</td>\n",
       "      <td>GENOTIPIFICACION</td>\n",
       "      <td>COMUNITARIO</td>\n",
       "      <td>NaN</td>\n",
       "      <td>NaN</td>\n",
       "      <td>...</td>\n",
       "      <td>NaN</td>\n",
       "      <td>NO</td>\n",
       "      <td>2021-09-06 PCR MUTACIONES</td>\n",
       "      <td>RED LABORATORIOS PUNTOS DE ENTRADA</td>\n",
       "      <td>NaN</td>\n",
       "      <td>NaN</td>\n",
       "      <td>NaT</td>\n",
       "      <td>2021-09-07</td>\n",
       "      <td>7.017109e+09</td>\n",
       "      <td>NaN</td>\n",
       "    </tr>\n",
       "    <tr>\n",
       "      <th>265</th>\n",
       "      <td>NaN</td>\n",
       "      <td>2021-09-06</td>\n",
       "      <td>VOC</td>\n",
       "      <td>DELTA</td>\n",
       "      <td>SIN PANGO</td>\n",
       "      <td>NaN</td>\n",
       "      <td>GENOTIPIFICACION</td>\n",
       "      <td>COMUNITARIO</td>\n",
       "      <td>NaN</td>\n",
       "      <td>NaN</td>\n",
       "      <td>...</td>\n",
       "      <td>NaN</td>\n",
       "      <td>SI</td>\n",
       "      <td>2021-09-06 PCR MUTACIONES</td>\n",
       "      <td>RED LABORATORIOS PUNTOS DE ENTRADA</td>\n",
       "      <td>NaN</td>\n",
       "      <td>NaN</td>\n",
       "      <td>NaT</td>\n",
       "      <td>2021-09-07</td>\n",
       "      <td>7.017090e+09</td>\n",
       "      <td>NaN</td>\n",
       "    </tr>\n",
       "    <tr>\n",
       "      <th>266</th>\n",
       "      <td>NaN</td>\n",
       "      <td>2021-09-06</td>\n",
       "      <td>VOC</td>\n",
       "      <td>GAMMA</td>\n",
       "      <td>SIN PANGO</td>\n",
       "      <td>NaN</td>\n",
       "      <td>GENOTIPIFICACION</td>\n",
       "      <td>COMUNITARIO</td>\n",
       "      <td>NaN</td>\n",
       "      <td>NaN</td>\n",
       "      <td>...</td>\n",
       "      <td>NaN</td>\n",
       "      <td>SI</td>\n",
       "      <td>2021-09-06 PCR MUTACIONES</td>\n",
       "      <td>RED LABORATORIOS PUNTOS DE ENTRADA</td>\n",
       "      <td>NaN</td>\n",
       "      <td>NaN</td>\n",
       "      <td>NaT</td>\n",
       "      <td>2021-09-07</td>\n",
       "      <td>7.017135e+09</td>\n",
       "      <td>NaN</td>\n",
       "    </tr>\n",
       "    <tr>\n",
       "      <th>267</th>\n",
       "      <td>NaN</td>\n",
       "      <td>2021-09-07</td>\n",
       "      <td>VOC</td>\n",
       "      <td>DELTA</td>\n",
       "      <td>SIN PANGO</td>\n",
       "      <td>NaN</td>\n",
       "      <td>GENOTIPIFICACION</td>\n",
       "      <td>COMUNITARIO</td>\n",
       "      <td>NaN</td>\n",
       "      <td>NaN</td>\n",
       "      <td>...</td>\n",
       "      <td>NaN</td>\n",
       "      <td>SI</td>\n",
       "      <td>2021-09-07 LABORATORIOS PCR MUTACIONES</td>\n",
       "      <td>RED LABORATORIOS PUNTOS DE ENTRADA</td>\n",
       "      <td>NaN</td>\n",
       "      <td>NaN</td>\n",
       "      <td>NaT</td>\n",
       "      <td>2021-09-07</td>\n",
       "      <td>7.017117e+09</td>\n",
       "      <td>NaN</td>\n",
       "    </tr>\n",
       "  </tbody>\n",
       "</table>\n",
       "<p>268 rows × 44 columns</p>\n",
       "</div>"
      ],
      "text/plain": [
       "    folio_epivigila fecha_resultado_secuenciacion_genotipificacion  \\\n",
       "0          16120644                                     2021-09-01   \n",
       "1          16237260                                     2021-09-01   \n",
       "2          16120624                                     2021-09-01   \n",
       "3          16275651                                     2021-09-01   \n",
       "4          16241767                                     2021-09-01   \n",
       "..              ...                                            ...   \n",
       "263             NaN                                     2021-09-06   \n",
       "264             NaN                                     2021-09-06   \n",
       "265             NaN                                     2021-09-06   \n",
       "266             NaN                                     2021-09-06   \n",
       "267             NaN                                     2021-09-07   \n",
       "\n",
       "    clasificacion_linaje variante_linaje         pango presentacion_clinica  \\\n",
       "0                    VOC           GAMMA           P.1         ASINTOMATICO   \n",
       "1           NO AMPLIFICA    NO AMPLIFICA  NO AMPLIFICA          SINTOMATICO   \n",
       "2                    VOC           GAMMA           P.1         ASINTOMATICO   \n",
       "3                    VOC           GAMMA           P.1         ASINTOMATICO   \n",
       "4                    VOC           GAMMA           P.1          SINTOMATICO   \n",
       "..                   ...             ...           ...                  ...   \n",
       "263                  VOC           DELTA     SIN PANGO                  NaN   \n",
       "264                  VOC           DELTA     SIN PANGO                  NaN   \n",
       "265                  VOC           DELTA     SIN PANGO                  NaN   \n",
       "266                  VOC           GAMMA     SIN PANGO                  NaN   \n",
       "267                  VOC           DELTA     SIN PANGO                  NaN   \n",
       "\n",
       "                    tecnica tipo_de_caso estado_paciente edad  ...  \\\n",
       "0    SECUENCIACION GENOMICA  COMUNITARIO            VIVO   10  ...   \n",
       "1    SECUENCIACION GENOMICA  COMUNITARIO            VIVO   23  ...   \n",
       "2    SECUENCIACION GENOMICA  COMUNITARIO            VIVO   44  ...   \n",
       "3    SECUENCIACION GENOMICA  COMUNITARIO            VIVO   43  ...   \n",
       "4    SECUENCIACION GENOMICA  COMUNITARIO            VIVO   42  ...   \n",
       "..                      ...          ...             ...  ...  ...   \n",
       "263        GENOTIPIFICACION  COMUNITARIO             NaN  NaN  ...   \n",
       "264        GENOTIPIFICACION  COMUNITARIO             NaN  NaN  ...   \n",
       "265        GENOTIPIFICACION  COMUNITARIO             NaN  NaN  ...   \n",
       "266        GENOTIPIFICACION  COMUNITARIO             NaN  NaN  ...   \n",
       "267        GENOTIPIFICACION  COMUNITARIO             NaN  NaN  ...   \n",
       "\n",
       "    nombre_vacuna_3 vacuna_previo_a_ftm  \\\n",
       "0               NaN                  NO   \n",
       "1               NaN                  NO   \n",
       "2               NaN                  SI   \n",
       "3               NaN                  SI   \n",
       "4               NaN                  SI   \n",
       "..              ...                 ...   \n",
       "263             NaN                  NO   \n",
       "264             NaN                  NO   \n",
       "265             NaN                  SI   \n",
       "266             NaN                  SI   \n",
       "267             NaN                  SI   \n",
       "\n",
       "                                    informe  \\\n",
       "0                      VIG. COMUNITARIA ISP   \n",
       "1                      VIG. COMUNITARIA ISP   \n",
       "2                      VIG. COMUNITARIA ISP   \n",
       "3                      VIG. COMUNITARIA ISP   \n",
       "4                      VIG. COMUNITARIA ISP   \n",
       "..                                      ...   \n",
       "263               2021-09-06 PCR MUTACIONES   \n",
       "264               2021-09-06 PCR MUTACIONES   \n",
       "265               2021-09-06 PCR MUTACIONES   \n",
       "266               2021-09-06 PCR MUTACIONES   \n",
       "267  2021-09-07 LABORATORIOS PCR MUTACIONES   \n",
       "\n",
       "                      emisor_de_informe  embarazo  comorbilidad        fis  \\\n",
       "0               INSTITUTO SALUD PUBLICA       NaN           NaN 2021-08-17   \n",
       "1               INSTITUTO SALUD PUBLICA     False           NaN 2021-08-19   \n",
       "2               INSTITUTO SALUD PUBLICA       NaN           NaN 2021-08-17   \n",
       "3               INSTITUTO SALUD PUBLICA       NaN           NaN 2021-08-23   \n",
       "4               INSTITUTO SALUD PUBLICA     False           NaN 2021-08-18   \n",
       "..                                  ...       ...           ...        ...   \n",
       "263  RED LABORATORIOS PUNTOS DE ENTRADA       NaN           NaN        NaT   \n",
       "264  RED LABORATORIOS PUNTOS DE ENTRADA       NaN           NaN        NaT   \n",
       "265  RED LABORATORIOS PUNTOS DE ENTRADA       NaN           NaN        NaT   \n",
       "266  RED LABORATORIOS PUNTOS DE ENTRADA       NaN           NaN        NaT   \n",
       "267  RED LABORATORIOS PUNTOS DE ENTRADA       NaN           NaN        NaT   \n",
       "\n",
       "           frs       id_pntm  \\\n",
       "0   2021-09-02           NaN   \n",
       "1   2021-09-02           NaN   \n",
       "2   2021-09-02           NaN   \n",
       "3   2021-09-02           NaN   \n",
       "4   2021-09-02           NaN   \n",
       "..         ...           ...   \n",
       "263 2021-09-07  7.017104e+09   \n",
       "264 2021-09-07  7.017109e+09   \n",
       "265 2021-09-07  7.017090e+09   \n",
       "266 2021-09-07  7.017135e+09   \n",
       "267 2021-09-07  7.017117e+09   \n",
       "\n",
       "                                region_de_notificacion  \n",
       "0    Región de Aysén del General Carlos Ibáñez del ...  \n",
       "1    Región de Aysén del General Carlos Ibáñez del ...  \n",
       "2    Región de Aysén del General Carlos Ibáñez del ...  \n",
       "3    Región de Aysén del General Carlos Ibáñez del ...  \n",
       "4    Región de Aysén del General Carlos Ibáñez del ...  \n",
       "..                                                 ...  \n",
       "263                                                NaN  \n",
       "264                                                NaN  \n",
       "265                                                NaN  \n",
       "266                                                NaN  \n",
       "267                                                NaN  \n",
       "\n",
       "[268 rows x 44 columns]"
      ]
     },
     "execution_count": 77,
     "metadata": {},
     "output_type": "execute_result"
    }
   ],
   "source": [
    "df_variantes[[\n",
    "    'folio_epivigila',\n",
    "    'fecha_resultado_secuenciacion_genotipificacion',\n",
    "    'clasificacion_linaje',\n",
    "    'variante_linaje',\n",
    "    'pango',\n",
    "    'presentacion_clinica',\n",
    "    'tecnica',\n",
    "    'tipo_de_caso',\n",
    "    'estado_paciente',\n",
    "    'edad',\n",
    "    'sexo',\n",
    "    'pais_de_residencia',\n",
    "    'region_de_residencia',\n",
    "    'comuna_de_residencia',\n",
    "    'latitud',\n",
    "    'longitud',\n",
    "    'vuelo',\n",
    "    'pais_procedencia_viajeros',\n",
    "    'fecha_toma_de_muestra',\n",
    "    'lugar_de_reposo',\n",
    "    'presentacion_clinica',\n",
    "    'n_contactos_estrechos', \n",
    "    'hospitalizacion',\n",
    "    'uci', \n",
    "    'fecha_ingreso_hospitalizacion', \n",
    "    'fecha_ingreso_uci',\n",
    "    'dg_fallecido', \n",
    "    'fecha_defuncion', \n",
    "    'esquema_de_vacunacion_completo',\n",
    "    'fecha_1_dosis', \n",
    "    'fecha_2_dosis', \n",
    "    'fecha_3_dosis', \n",
    "    'nombre_vacuna_1',\n",
    "    'nombre_vacuna_2', \n",
    "    'nombre_vacuna_3', \n",
    "    'vacuna_previo_a_ftm', \n",
    "    'informe',\n",
    "    'emisor_de_informe', \n",
    "    'embarazo', \n",
    "    'comorbilidad', \n",
    "    'fis', \n",
    "    'frs',\n",
    "    'id_pntm', \n",
    "    'region_de_notificacion'\n",
    "    \n",
    "]]"
   ]
  },
  {
   "cell_type": "code",
   "execution_count": 96,
   "id": "953f95ef",
   "metadata": {},
   "outputs": [
    {
     "data": {
      "text/plain": [
       "Región de Aysén del General Carlos Ibáñez del Campo    234\n",
       "Región Metropolitana de Santiago                         1\n",
       "Name: region_de_notificacion, dtype: int64"
      ]
     },
     "execution_count": 96,
     "metadata": {},
     "output_type": "execute_result"
    }
   ],
   "source": [
    "df_variantes['region_de_notificacion'].value_counts()"
   ]
  },
  {
   "cell_type": "code",
   "execution_count": 97,
   "id": "2652f57d",
   "metadata": {},
   "outputs": [],
   "source": [
    "df_variantes_clean= df_variantes[df_variantes['region_de_notificacion']=='Región de Aysén del General Carlos Ibáñez del Campo']"
   ]
  },
  {
   "cell_type": "code",
   "execution_count": 98,
   "id": "7d4dfc60",
   "metadata": {},
   "outputs": [
    {
     "data": {
      "text/plain": [
       "GAMMA                                                                        130\n",
       "LAMBDA                                                                        54\n",
       "NO AMPLIFICA                                                                  33\n",
       "B.1.1                                                                          5\n",
       "INDETERMINADO                                                                  5\n",
       "B.1.1.348                                                                      2\n",
       "ALFA                                                                           1\n",
       "B.1                                                                            1\n",
       "NO SE DETECTAN MUTACIONES PARA VARIANTES DE INTERES POR PARTE DE ESTE KIT      1\n",
       "N.4                                                                            1\n",
       "B.1.427/429                                                                    1\n",
       "Name: variante_linaje, dtype: int64"
      ]
     },
     "execution_count": 98,
     "metadata": {},
     "output_type": "execute_result"
    }
   ],
   "source": [
    "df_variantes_clean['variante_linaje'].value_counts()"
   ]
  },
  {
   "cell_type": "code",
   "execution_count": 143,
   "id": "c3b8f4b2",
   "metadata": {},
   "outputs": [
    {
     "data": {
      "text/html": [
       "<div>\n",
       "<style scoped>\n",
       "    .dataframe tbody tr th:only-of-type {\n",
       "        vertical-align: middle;\n",
       "    }\n",
       "\n",
       "    .dataframe tbody tr th {\n",
       "        vertical-align: top;\n",
       "    }\n",
       "\n",
       "    .dataframe thead th {\n",
       "        text-align: right;\n",
       "    }\n",
       "</style>\n",
       "<table border=\"1\" class=\"dataframe\">\n",
       "  <thead>\n",
       "    <tr style=\"text-align: right;\">\n",
       "      <th></th>\n",
       "      <th>n_documento</th>\n",
       "    </tr>\n",
       "    <tr>\n",
       "      <th>fecha_resultado_secuenciacion_genotipificacion</th>\n",
       "      <th></th>\n",
       "    </tr>\n",
       "  </thead>\n",
       "  <tbody>\n",
       "    <tr>\n",
       "      <th>2021-03-21</th>\n",
       "      <td>2</td>\n",
       "    </tr>\n",
       "    <tr>\n",
       "      <th>2021-04-05</th>\n",
       "      <td>2</td>\n",
       "    </tr>\n",
       "    <tr>\n",
       "      <th>2021-04-08</th>\n",
       "      <td>1</td>\n",
       "    </tr>\n",
       "    <tr>\n",
       "      <th>2021-04-19</th>\n",
       "      <td>4</td>\n",
       "    </tr>\n",
       "    <tr>\n",
       "      <th>2021-05-05</th>\n",
       "      <td>6</td>\n",
       "    </tr>\n",
       "    <tr>\n",
       "      <th>2021-05-14</th>\n",
       "      <td>10</td>\n",
       "    </tr>\n",
       "    <tr>\n",
       "      <th>2021-05-19</th>\n",
       "      <td>7</td>\n",
       "    </tr>\n",
       "    <tr>\n",
       "      <th>2021-05-24</th>\n",
       "      <td>1</td>\n",
       "    </tr>\n",
       "    <tr>\n",
       "      <th>2021-05-26</th>\n",
       "      <td>15</td>\n",
       "    </tr>\n",
       "    <tr>\n",
       "      <th>2021-06-09</th>\n",
       "      <td>11</td>\n",
       "    </tr>\n",
       "    <tr>\n",
       "      <th>2021-06-17</th>\n",
       "      <td>5</td>\n",
       "    </tr>\n",
       "    <tr>\n",
       "      <th>2021-06-30</th>\n",
       "      <td>8</td>\n",
       "    </tr>\n",
       "    <tr>\n",
       "      <th>2021-07-07</th>\n",
       "      <td>15</td>\n",
       "    </tr>\n",
       "    <tr>\n",
       "      <th>2021-07-14</th>\n",
       "      <td>29</td>\n",
       "    </tr>\n",
       "    <tr>\n",
       "      <th>2021-07-21</th>\n",
       "      <td>27</td>\n",
       "    </tr>\n",
       "    <tr>\n",
       "      <th>2021-07-28</th>\n",
       "      <td>2</td>\n",
       "    </tr>\n",
       "    <tr>\n",
       "      <th>2021-07-31</th>\n",
       "      <td>3</td>\n",
       "    </tr>\n",
       "    <tr>\n",
       "      <th>2021-08-01</th>\n",
       "      <td>1</td>\n",
       "    </tr>\n",
       "    <tr>\n",
       "      <th>2021-08-03</th>\n",
       "      <td>2</td>\n",
       "    </tr>\n",
       "    <tr>\n",
       "      <th>2021-08-06</th>\n",
       "      <td>11</td>\n",
       "    </tr>\n",
       "    <tr>\n",
       "      <th>2021-08-12</th>\n",
       "      <td>6</td>\n",
       "    </tr>\n",
       "    <tr>\n",
       "      <th>2021-08-13</th>\n",
       "      <td>6</td>\n",
       "    </tr>\n",
       "    <tr>\n",
       "      <th>2021-08-17</th>\n",
       "      <td>10</td>\n",
       "    </tr>\n",
       "    <tr>\n",
       "      <th>2021-08-18</th>\n",
       "      <td>6</td>\n",
       "    </tr>\n",
       "    <tr>\n",
       "      <th>2021-08-21</th>\n",
       "      <td>4</td>\n",
       "    </tr>\n",
       "    <tr>\n",
       "      <th>2021-08-23</th>\n",
       "      <td>8</td>\n",
       "    </tr>\n",
       "    <tr>\n",
       "      <th>2021-08-25</th>\n",
       "      <td>13</td>\n",
       "    </tr>\n",
       "    <tr>\n",
       "      <th>2021-08-26</th>\n",
       "      <td>6</td>\n",
       "    </tr>\n",
       "    <tr>\n",
       "      <th>2021-09-01</th>\n",
       "      <td>7</td>\n",
       "    </tr>\n",
       "  </tbody>\n",
       "</table>\n",
       "</div>"
      ],
      "text/plain": [
       "                                                n_documento\n",
       "fecha_resultado_secuenciacion_genotipificacion             \n",
       "2021-03-21                                                2\n",
       "2021-04-05                                                2\n",
       "2021-04-08                                                1\n",
       "2021-04-19                                                4\n",
       "2021-05-05                                                6\n",
       "2021-05-14                                               10\n",
       "2021-05-19                                                7\n",
       "2021-05-24                                                1\n",
       "2021-05-26                                               15\n",
       "2021-06-09                                               11\n",
       "2021-06-17                                                5\n",
       "2021-06-30                                                8\n",
       "2021-07-07                                               15\n",
       "2021-07-14                                               29\n",
       "2021-07-21                                               27\n",
       "2021-07-28                                                2\n",
       "2021-07-31                                                3\n",
       "2021-08-01                                                1\n",
       "2021-08-03                                                2\n",
       "2021-08-06                                               11\n",
       "2021-08-12                                                6\n",
       "2021-08-13                                                6\n",
       "2021-08-17                                               10\n",
       "2021-08-18                                                6\n",
       "2021-08-21                                                4\n",
       "2021-08-23                                                8\n",
       "2021-08-25                                               13\n",
       "2021-08-26                                                6\n",
       "2021-09-01                                                7"
      ]
     },
     "execution_count": 143,
     "metadata": {},
     "output_type": "execute_result"
    }
   ],
   "source": [
    "# Calcula número de secuenciaciones o genotipificaciones realizadas en fecha X\n",
    "\n",
    "df_variantes_clean.groupby(['fecha_resultado_secuenciacion_genotipificacion']).count()[['n_documento']]"
   ]
  },
  {
   "cell_type": "code",
   "execution_count": 141,
   "id": "c4859ab9",
   "metadata": {},
   "outputs": [
    {
     "data": {
      "text/html": [
       "<div>\n",
       "<style scoped>\n",
       "    .dataframe tbody tr th:only-of-type {\n",
       "        vertical-align: middle;\n",
       "    }\n",
       "\n",
       "    .dataframe tbody tr th {\n",
       "        vertical-align: top;\n",
       "    }\n",
       "\n",
       "    .dataframe thead th {\n",
       "        text-align: right;\n",
       "    }\n",
       "</style>\n",
       "<table border=\"1\" class=\"dataframe\">\n",
       "  <thead>\n",
       "    <tr style=\"text-align: right;\">\n",
       "      <th>variante_linaje</th>\n",
       "      <th>Alfa</th>\n",
       "      <th>B.1</th>\n",
       "      <th>B.1.1</th>\n",
       "      <th>B.1.1.348</th>\n",
       "      <th>Gamma</th>\n",
       "      <th>Indeterminado</th>\n",
       "      <th>Lambda</th>\n",
       "      <th>N.4</th>\n",
       "      <th>No amplifica</th>\n",
       "      <th>VOI no detectadas</th>\n",
       "    </tr>\n",
       "    <tr>\n",
       "      <th>fecha_resultado_secuenciacion_genotipificacion</th>\n",
       "      <th></th>\n",
       "      <th></th>\n",
       "      <th></th>\n",
       "      <th></th>\n",
       "      <th></th>\n",
       "      <th></th>\n",
       "      <th></th>\n",
       "      <th></th>\n",
       "      <th></th>\n",
       "      <th></th>\n",
       "    </tr>\n",
       "  </thead>\n",
       "  <tbody>\n",
       "    <tr>\n",
       "      <th>2021-03-21</th>\n",
       "      <td>0.0</td>\n",
       "      <td>0.0</td>\n",
       "      <td>0.0</td>\n",
       "      <td>1.0</td>\n",
       "      <td>0.0</td>\n",
       "      <td>0.0</td>\n",
       "      <td>0.0</td>\n",
       "      <td>1.0</td>\n",
       "      <td>0.0</td>\n",
       "      <td>0.0</td>\n",
       "    </tr>\n",
       "    <tr>\n",
       "      <th>2021-04-05</th>\n",
       "      <td>0.0</td>\n",
       "      <td>0.0</td>\n",
       "      <td>1.0</td>\n",
       "      <td>2.0</td>\n",
       "      <td>0.0</td>\n",
       "      <td>0.0</td>\n",
       "      <td>0.0</td>\n",
       "      <td>1.0</td>\n",
       "      <td>0.0</td>\n",
       "      <td>0.0</td>\n",
       "    </tr>\n",
       "    <tr>\n",
       "      <th>2021-04-08</th>\n",
       "      <td>0.0</td>\n",
       "      <td>0.0</td>\n",
       "      <td>1.0</td>\n",
       "      <td>2.0</td>\n",
       "      <td>0.0</td>\n",
       "      <td>0.0</td>\n",
       "      <td>0.0</td>\n",
       "      <td>1.0</td>\n",
       "      <td>1.0</td>\n",
       "      <td>0.0</td>\n",
       "    </tr>\n",
       "    <tr>\n",
       "      <th>2021-04-19</th>\n",
       "      <td>0.0</td>\n",
       "      <td>0.0</td>\n",
       "      <td>2.0</td>\n",
       "      <td>2.0</td>\n",
       "      <td>0.0</td>\n",
       "      <td>0.0</td>\n",
       "      <td>3.0</td>\n",
       "      <td>1.0</td>\n",
       "      <td>1.0</td>\n",
       "      <td>0.0</td>\n",
       "    </tr>\n",
       "    <tr>\n",
       "      <th>2021-05-05</th>\n",
       "      <td>0.0</td>\n",
       "      <td>0.0</td>\n",
       "      <td>2.0</td>\n",
       "      <td>2.0</td>\n",
       "      <td>2.0</td>\n",
       "      <td>0.0</td>\n",
       "      <td>7.0</td>\n",
       "      <td>1.0</td>\n",
       "      <td>1.0</td>\n",
       "      <td>0.0</td>\n",
       "    </tr>\n",
       "    <tr>\n",
       "      <th>2021-05-14</th>\n",
       "      <td>0.0</td>\n",
       "      <td>0.0</td>\n",
       "      <td>2.0</td>\n",
       "      <td>2.0</td>\n",
       "      <td>6.0</td>\n",
       "      <td>0.0</td>\n",
       "      <td>13.0</td>\n",
       "      <td>1.0</td>\n",
       "      <td>1.0</td>\n",
       "      <td>0.0</td>\n",
       "    </tr>\n",
       "    <tr>\n",
       "      <th>2021-05-19</th>\n",
       "      <td>0.0</td>\n",
       "      <td>0.0</td>\n",
       "      <td>2.0</td>\n",
       "      <td>2.0</td>\n",
       "      <td>9.0</td>\n",
       "      <td>0.0</td>\n",
       "      <td>17.0</td>\n",
       "      <td>1.0</td>\n",
       "      <td>1.0</td>\n",
       "      <td>0.0</td>\n",
       "    </tr>\n",
       "    <tr>\n",
       "      <th>2021-05-24</th>\n",
       "      <td>0.0</td>\n",
       "      <td>0.0</td>\n",
       "      <td>2.0</td>\n",
       "      <td>2.0</td>\n",
       "      <td>9.0</td>\n",
       "      <td>0.0</td>\n",
       "      <td>17.0</td>\n",
       "      <td>1.0</td>\n",
       "      <td>2.0</td>\n",
       "      <td>0.0</td>\n",
       "    </tr>\n",
       "    <tr>\n",
       "      <th>2021-05-26</th>\n",
       "      <td>1.0</td>\n",
       "      <td>0.0</td>\n",
       "      <td>4.0</td>\n",
       "      <td>2.0</td>\n",
       "      <td>13.0</td>\n",
       "      <td>0.0</td>\n",
       "      <td>25.0</td>\n",
       "      <td>1.0</td>\n",
       "      <td>2.0</td>\n",
       "      <td>0.0</td>\n",
       "    </tr>\n",
       "    <tr>\n",
       "      <th>2021-06-09</th>\n",
       "      <td>1.0</td>\n",
       "      <td>1.0</td>\n",
       "      <td>5.0</td>\n",
       "      <td>2.0</td>\n",
       "      <td>20.0</td>\n",
       "      <td>0.0</td>\n",
       "      <td>27.0</td>\n",
       "      <td>1.0</td>\n",
       "      <td>2.0</td>\n",
       "      <td>0.0</td>\n",
       "    </tr>\n",
       "    <tr>\n",
       "      <th>2021-06-17</th>\n",
       "      <td>1.0</td>\n",
       "      <td>1.0</td>\n",
       "      <td>5.0</td>\n",
       "      <td>2.0</td>\n",
       "      <td>24.0</td>\n",
       "      <td>0.0</td>\n",
       "      <td>27.0</td>\n",
       "      <td>1.0</td>\n",
       "      <td>3.0</td>\n",
       "      <td>0.0</td>\n",
       "    </tr>\n",
       "    <tr>\n",
       "      <th>2021-06-30</th>\n",
       "      <td>1.0</td>\n",
       "      <td>1.0</td>\n",
       "      <td>5.0</td>\n",
       "      <td>2.0</td>\n",
       "      <td>28.0</td>\n",
       "      <td>0.0</td>\n",
       "      <td>29.0</td>\n",
       "      <td>1.0</td>\n",
       "      <td>5.0</td>\n",
       "      <td>0.0</td>\n",
       "    </tr>\n",
       "    <tr>\n",
       "      <th>2021-07-07</th>\n",
       "      <td>1.0</td>\n",
       "      <td>1.0</td>\n",
       "      <td>5.0</td>\n",
       "      <td>2.0</td>\n",
       "      <td>32.0</td>\n",
       "      <td>0.0</td>\n",
       "      <td>35.0</td>\n",
       "      <td>1.0</td>\n",
       "      <td>10.0</td>\n",
       "      <td>0.0</td>\n",
       "    </tr>\n",
       "    <tr>\n",
       "      <th>2021-07-14</th>\n",
       "      <td>1.0</td>\n",
       "      <td>1.0</td>\n",
       "      <td>5.0</td>\n",
       "      <td>2.0</td>\n",
       "      <td>47.0</td>\n",
       "      <td>0.0</td>\n",
       "      <td>43.0</td>\n",
       "      <td>1.0</td>\n",
       "      <td>16.0</td>\n",
       "      <td>0.0</td>\n",
       "    </tr>\n",
       "    <tr>\n",
       "      <th>2021-07-21</th>\n",
       "      <td>1.0</td>\n",
       "      <td>1.0</td>\n",
       "      <td>5.0</td>\n",
       "      <td>2.0</td>\n",
       "      <td>58.0</td>\n",
       "      <td>0.0</td>\n",
       "      <td>48.0</td>\n",
       "      <td>1.0</td>\n",
       "      <td>27.0</td>\n",
       "      <td>0.0</td>\n",
       "    </tr>\n",
       "    <tr>\n",
       "      <th>2021-07-28</th>\n",
       "      <td>1.0</td>\n",
       "      <td>1.0</td>\n",
       "      <td>5.0</td>\n",
       "      <td>2.0</td>\n",
       "      <td>60.0</td>\n",
       "      <td>0.0</td>\n",
       "      <td>48.0</td>\n",
       "      <td>1.0</td>\n",
       "      <td>27.0</td>\n",
       "      <td>0.0</td>\n",
       "    </tr>\n",
       "    <tr>\n",
       "      <th>2021-07-31</th>\n",
       "      <td>1.0</td>\n",
       "      <td>1.0</td>\n",
       "      <td>5.0</td>\n",
       "      <td>2.0</td>\n",
       "      <td>61.0</td>\n",
       "      <td>2.0</td>\n",
       "      <td>48.0</td>\n",
       "      <td>1.0</td>\n",
       "      <td>27.0</td>\n",
       "      <td>0.0</td>\n",
       "    </tr>\n",
       "    <tr>\n",
       "      <th>2021-08-01</th>\n",
       "      <td>1.0</td>\n",
       "      <td>1.0</td>\n",
       "      <td>5.0</td>\n",
       "      <td>2.0</td>\n",
       "      <td>61.0</td>\n",
       "      <td>2.0</td>\n",
       "      <td>48.0</td>\n",
       "      <td>1.0</td>\n",
       "      <td>28.0</td>\n",
       "      <td>0.0</td>\n",
       "    </tr>\n",
       "    <tr>\n",
       "      <th>2021-08-03</th>\n",
       "      <td>1.0</td>\n",
       "      <td>1.0</td>\n",
       "      <td>5.0</td>\n",
       "      <td>2.0</td>\n",
       "      <td>62.0</td>\n",
       "      <td>3.0</td>\n",
       "      <td>48.0</td>\n",
       "      <td>1.0</td>\n",
       "      <td>28.0</td>\n",
       "      <td>0.0</td>\n",
       "    </tr>\n",
       "    <tr>\n",
       "      <th>2021-08-06</th>\n",
       "      <td>1.0</td>\n",
       "      <td>1.0</td>\n",
       "      <td>5.0</td>\n",
       "      <td>2.0</td>\n",
       "      <td>71.0</td>\n",
       "      <td>3.0</td>\n",
       "      <td>49.0</td>\n",
       "      <td>1.0</td>\n",
       "      <td>29.0</td>\n",
       "      <td>0.0</td>\n",
       "    </tr>\n",
       "    <tr>\n",
       "      <th>2021-08-12</th>\n",
       "      <td>1.0</td>\n",
       "      <td>1.0</td>\n",
       "      <td>5.0</td>\n",
       "      <td>2.0</td>\n",
       "      <td>76.0</td>\n",
       "      <td>3.0</td>\n",
       "      <td>50.0</td>\n",
       "      <td>1.0</td>\n",
       "      <td>29.0</td>\n",
       "      <td>0.0</td>\n",
       "    </tr>\n",
       "    <tr>\n",
       "      <th>2021-08-13</th>\n",
       "      <td>1.0</td>\n",
       "      <td>1.0</td>\n",
       "      <td>5.0</td>\n",
       "      <td>2.0</td>\n",
       "      <td>82.0</td>\n",
       "      <td>3.0</td>\n",
       "      <td>50.0</td>\n",
       "      <td>1.0</td>\n",
       "      <td>29.0</td>\n",
       "      <td>0.0</td>\n",
       "    </tr>\n",
       "    <tr>\n",
       "      <th>2021-08-17</th>\n",
       "      <td>1.0</td>\n",
       "      <td>1.0</td>\n",
       "      <td>5.0</td>\n",
       "      <td>2.0</td>\n",
       "      <td>91.0</td>\n",
       "      <td>4.0</td>\n",
       "      <td>50.0</td>\n",
       "      <td>1.0</td>\n",
       "      <td>29.0</td>\n",
       "      <td>0.0</td>\n",
       "    </tr>\n",
       "    <tr>\n",
       "      <th>2021-08-18</th>\n",
       "      <td>1.0</td>\n",
       "      <td>1.0</td>\n",
       "      <td>5.0</td>\n",
       "      <td>2.0</td>\n",
       "      <td>96.0</td>\n",
       "      <td>4.0</td>\n",
       "      <td>50.0</td>\n",
       "      <td>1.0</td>\n",
       "      <td>29.0</td>\n",
       "      <td>1.0</td>\n",
       "    </tr>\n",
       "    <tr>\n",
       "      <th>2021-08-21</th>\n",
       "      <td>1.0</td>\n",
       "      <td>1.0</td>\n",
       "      <td>5.0</td>\n",
       "      <td>2.0</td>\n",
       "      <td>100.0</td>\n",
       "      <td>4.0</td>\n",
       "      <td>50.0</td>\n",
       "      <td>1.0</td>\n",
       "      <td>29.0</td>\n",
       "      <td>1.0</td>\n",
       "    </tr>\n",
       "    <tr>\n",
       "      <th>2021-08-23</th>\n",
       "      <td>1.0</td>\n",
       "      <td>1.0</td>\n",
       "      <td>5.0</td>\n",
       "      <td>2.0</td>\n",
       "      <td>107.0</td>\n",
       "      <td>5.0</td>\n",
       "      <td>50.0</td>\n",
       "      <td>1.0</td>\n",
       "      <td>29.0</td>\n",
       "      <td>1.0</td>\n",
       "    </tr>\n",
       "    <tr>\n",
       "      <th>2021-08-25</th>\n",
       "      <td>1.0</td>\n",
       "      <td>1.0</td>\n",
       "      <td>5.0</td>\n",
       "      <td>2.0</td>\n",
       "      <td>116.0</td>\n",
       "      <td>5.0</td>\n",
       "      <td>51.0</td>\n",
       "      <td>1.0</td>\n",
       "      <td>32.0</td>\n",
       "      <td>1.0</td>\n",
       "    </tr>\n",
       "    <tr>\n",
       "      <th>2021-08-26</th>\n",
       "      <td>1.0</td>\n",
       "      <td>1.0</td>\n",
       "      <td>5.0</td>\n",
       "      <td>2.0</td>\n",
       "      <td>122.0</td>\n",
       "      <td>5.0</td>\n",
       "      <td>51.0</td>\n",
       "      <td>1.0</td>\n",
       "      <td>32.0</td>\n",
       "      <td>1.0</td>\n",
       "    </tr>\n",
       "    <tr>\n",
       "      <th>2021-09-01</th>\n",
       "      <td>1.0</td>\n",
       "      <td>1.0</td>\n",
       "      <td>5.0</td>\n",
       "      <td>2.0</td>\n",
       "      <td>127.0</td>\n",
       "      <td>5.0</td>\n",
       "      <td>52.0</td>\n",
       "      <td>1.0</td>\n",
       "      <td>33.0</td>\n",
       "      <td>1.0</td>\n",
       "    </tr>\n",
       "  </tbody>\n",
       "</table>\n",
       "</div>"
      ],
      "text/plain": [
       "variante_linaje                                 Alfa  B.1  B.1.1  B.1.1.348  \\\n",
       "fecha_resultado_secuenciacion_genotipificacion                                \n",
       "2021-03-21                                       0.0  0.0    0.0        1.0   \n",
       "2021-04-05                                       0.0  0.0    1.0        2.0   \n",
       "2021-04-08                                       0.0  0.0    1.0        2.0   \n",
       "2021-04-19                                       0.0  0.0    2.0        2.0   \n",
       "2021-05-05                                       0.0  0.0    2.0        2.0   \n",
       "2021-05-14                                       0.0  0.0    2.0        2.0   \n",
       "2021-05-19                                       0.0  0.0    2.0        2.0   \n",
       "2021-05-24                                       0.0  0.0    2.0        2.0   \n",
       "2021-05-26                                       1.0  0.0    4.0        2.0   \n",
       "2021-06-09                                       1.0  1.0    5.0        2.0   \n",
       "2021-06-17                                       1.0  1.0    5.0        2.0   \n",
       "2021-06-30                                       1.0  1.0    5.0        2.0   \n",
       "2021-07-07                                       1.0  1.0    5.0        2.0   \n",
       "2021-07-14                                       1.0  1.0    5.0        2.0   \n",
       "2021-07-21                                       1.0  1.0    5.0        2.0   \n",
       "2021-07-28                                       1.0  1.0    5.0        2.0   \n",
       "2021-07-31                                       1.0  1.0    5.0        2.0   \n",
       "2021-08-01                                       1.0  1.0    5.0        2.0   \n",
       "2021-08-03                                       1.0  1.0    5.0        2.0   \n",
       "2021-08-06                                       1.0  1.0    5.0        2.0   \n",
       "2021-08-12                                       1.0  1.0    5.0        2.0   \n",
       "2021-08-13                                       1.0  1.0    5.0        2.0   \n",
       "2021-08-17                                       1.0  1.0    5.0        2.0   \n",
       "2021-08-18                                       1.0  1.0    5.0        2.0   \n",
       "2021-08-21                                       1.0  1.0    5.0        2.0   \n",
       "2021-08-23                                       1.0  1.0    5.0        2.0   \n",
       "2021-08-25                                       1.0  1.0    5.0        2.0   \n",
       "2021-08-26                                       1.0  1.0    5.0        2.0   \n",
       "2021-09-01                                       1.0  1.0    5.0        2.0   \n",
       "\n",
       "variante_linaje                                 Gamma  Indeterminado  Lambda  \\\n",
       "fecha_resultado_secuenciacion_genotipificacion                                 \n",
       "2021-03-21                                        0.0            0.0     0.0   \n",
       "2021-04-05                                        0.0            0.0     0.0   \n",
       "2021-04-08                                        0.0            0.0     0.0   \n",
       "2021-04-19                                        0.0            0.0     3.0   \n",
       "2021-05-05                                        2.0            0.0     7.0   \n",
       "2021-05-14                                        6.0            0.0    13.0   \n",
       "2021-05-19                                        9.0            0.0    17.0   \n",
       "2021-05-24                                        9.0            0.0    17.0   \n",
       "2021-05-26                                       13.0            0.0    25.0   \n",
       "2021-06-09                                       20.0            0.0    27.0   \n",
       "2021-06-17                                       24.0            0.0    27.0   \n",
       "2021-06-30                                       28.0            0.0    29.0   \n",
       "2021-07-07                                       32.0            0.0    35.0   \n",
       "2021-07-14                                       47.0            0.0    43.0   \n",
       "2021-07-21                                       58.0            0.0    48.0   \n",
       "2021-07-28                                       60.0            0.0    48.0   \n",
       "2021-07-31                                       61.0            2.0    48.0   \n",
       "2021-08-01                                       61.0            2.0    48.0   \n",
       "2021-08-03                                       62.0            3.0    48.0   \n",
       "2021-08-06                                       71.0            3.0    49.0   \n",
       "2021-08-12                                       76.0            3.0    50.0   \n",
       "2021-08-13                                       82.0            3.0    50.0   \n",
       "2021-08-17                                       91.0            4.0    50.0   \n",
       "2021-08-18                                       96.0            4.0    50.0   \n",
       "2021-08-21                                      100.0            4.0    50.0   \n",
       "2021-08-23                                      107.0            5.0    50.0   \n",
       "2021-08-25                                      116.0            5.0    51.0   \n",
       "2021-08-26                                      122.0            5.0    51.0   \n",
       "2021-09-01                                      127.0            5.0    52.0   \n",
       "\n",
       "variante_linaje                                 N.4  No amplifica  \\\n",
       "fecha_resultado_secuenciacion_genotipificacion                      \n",
       "2021-03-21                                      1.0           0.0   \n",
       "2021-04-05                                      1.0           0.0   \n",
       "2021-04-08                                      1.0           1.0   \n",
       "2021-04-19                                      1.0           1.0   \n",
       "2021-05-05                                      1.0           1.0   \n",
       "2021-05-14                                      1.0           1.0   \n",
       "2021-05-19                                      1.0           1.0   \n",
       "2021-05-24                                      1.0           2.0   \n",
       "2021-05-26                                      1.0           2.0   \n",
       "2021-06-09                                      1.0           2.0   \n",
       "2021-06-17                                      1.0           3.0   \n",
       "2021-06-30                                      1.0           5.0   \n",
       "2021-07-07                                      1.0          10.0   \n",
       "2021-07-14                                      1.0          16.0   \n",
       "2021-07-21                                      1.0          27.0   \n",
       "2021-07-28                                      1.0          27.0   \n",
       "2021-07-31                                      1.0          27.0   \n",
       "2021-08-01                                      1.0          28.0   \n",
       "2021-08-03                                      1.0          28.0   \n",
       "2021-08-06                                      1.0          29.0   \n",
       "2021-08-12                                      1.0          29.0   \n",
       "2021-08-13                                      1.0          29.0   \n",
       "2021-08-17                                      1.0          29.0   \n",
       "2021-08-18                                      1.0          29.0   \n",
       "2021-08-21                                      1.0          29.0   \n",
       "2021-08-23                                      1.0          29.0   \n",
       "2021-08-25                                      1.0          32.0   \n",
       "2021-08-26                                      1.0          32.0   \n",
       "2021-09-01                                      1.0          33.0   \n",
       "\n",
       "variante_linaje                                 VOI no detectadas  \n",
       "fecha_resultado_secuenciacion_genotipificacion                     \n",
       "2021-03-21                                                    0.0  \n",
       "2021-04-05                                                    0.0  \n",
       "2021-04-08                                                    0.0  \n",
       "2021-04-19                                                    0.0  \n",
       "2021-05-05                                                    0.0  \n",
       "2021-05-14                                                    0.0  \n",
       "2021-05-19                                                    0.0  \n",
       "2021-05-24                                                    0.0  \n",
       "2021-05-26                                                    0.0  \n",
       "2021-06-09                                                    0.0  \n",
       "2021-06-17                                                    0.0  \n",
       "2021-06-30                                                    0.0  \n",
       "2021-07-07                                                    0.0  \n",
       "2021-07-14                                                    0.0  \n",
       "2021-07-21                                                    0.0  \n",
       "2021-07-28                                                    0.0  \n",
       "2021-07-31                                                    0.0  \n",
       "2021-08-01                                                    0.0  \n",
       "2021-08-03                                                    0.0  \n",
       "2021-08-06                                                    0.0  \n",
       "2021-08-12                                                    0.0  \n",
       "2021-08-13                                                    0.0  \n",
       "2021-08-17                                                    0.0  \n",
       "2021-08-18                                                    1.0  \n",
       "2021-08-21                                                    1.0  \n",
       "2021-08-23                                                    1.0  \n",
       "2021-08-25                                                    1.0  \n",
       "2021-08-26                                                    1.0  \n",
       "2021-09-01                                                    1.0  "
      ]
     },
     "execution_count": 141,
     "metadata": {},
     "output_type": "execute_result"
    }
   ],
   "source": [
    "# Transforma formato de DF de long a wide mediante pivot para mejor procesamiento multivariable\n",
    "\n",
    "df_variantes_clean.groupby(['fecha_resultado_secuenciacion_genotipificacion', 'variante_linaje']).count()[['n_documento']].reset_index().pivot(\n",
    "    index='fecha_resultado_secuenciacion_genotipificacion',\n",
    "    columns='variante_linaje', \n",
    "    values=['n_documento']\n",
    ").fillna(0).cumsum()['n_documento'].clean_names().rename(\n",
    "    columns={\n",
    "        'alfa':'Alfa',\n",
    "        'b_1':'B.1',\n",
    "        'b_1_1':'B.1.1',\n",
    "        'b_1_1_348':'B.1.1.348',\n",
    "        'gamma':'Gamma',\n",
    "        'indeterminado':'Indeterminado',\n",
    "        'lambda':'Lambda',\n",
    "        'n_4':'N.4',\n",
    "        'no_amplifica':'No amplifica',\n",
    "        'no_se_detectan_mutaciones_para_variantes_de_interes_por_parte_de_este_kit':'VOI no detectadas'\n",
    "            })"
   ]
  },
  {
   "cell_type": "code",
   "execution_count": 126,
   "id": "ed958c67",
   "metadata": {},
   "outputs": [
    {
     "data": {
      "application/vnd.plotly.v1+json": {
       "config": {
        "plotlyServerURL": "https://plot.ly"
       },
       "data": [
        {
         "hovertemplate": "Variante detectada=Alfa<br>fecha_resultado_secuenciacion_genotipificacion=%{x}<br>value=%{y}<extra></extra>",
         "legendgroup": "Alfa",
         "line": {
          "color": "#636efa",
          "dash": "solid"
         },
         "mode": "lines",
         "name": "Alfa",
         "orientation": "v",
         "showlegend": true,
         "type": "scatter",
         "x": [
          "2021-03-21T00:00:00",
          "2021-04-05T00:00:00",
          "2021-04-08T00:00:00",
          "2021-04-19T00:00:00",
          "2021-05-05T00:00:00",
          "2021-05-14T00:00:00",
          "2021-05-19T00:00:00",
          "2021-05-24T00:00:00",
          "2021-05-26T00:00:00",
          "2021-06-09T00:00:00",
          "2021-06-17T00:00:00",
          "2021-06-30T00:00:00",
          "2021-07-07T00:00:00",
          "2021-07-14T00:00:00",
          "2021-07-21T00:00:00",
          "2021-07-28T00:00:00",
          "2021-07-31T00:00:00",
          "2021-08-01T00:00:00",
          "2021-08-03T00:00:00",
          "2021-08-06T00:00:00",
          "2021-08-12T00:00:00",
          "2021-08-13T00:00:00",
          "2021-08-17T00:00:00",
          "2021-08-18T00:00:00",
          "2021-08-21T00:00:00",
          "2021-08-23T00:00:00",
          "2021-08-25T00:00:00",
          "2021-08-26T00:00:00",
          "2021-09-01T00:00:00"
         ],
         "xaxis": "x",
         "y": [
          0,
          0,
          0,
          0,
          0,
          0,
          0,
          0,
          1,
          1,
          1,
          1,
          1,
          1,
          1,
          1,
          1,
          1,
          1,
          1,
          1,
          1,
          1,
          1,
          1,
          1,
          1,
          1,
          1
         ],
         "yaxis": "y"
        },
        {
         "hovertemplate": "Variante detectada=B.1<br>fecha_resultado_secuenciacion_genotipificacion=%{x}<br>value=%{y}<extra></extra>",
         "legendgroup": "B.1",
         "line": {
          "color": "#EF553B",
          "dash": "solid"
         },
         "mode": "lines",
         "name": "B.1",
         "orientation": "v",
         "showlegend": true,
         "type": "scatter",
         "x": [
          "2021-03-21T00:00:00",
          "2021-04-05T00:00:00",
          "2021-04-08T00:00:00",
          "2021-04-19T00:00:00",
          "2021-05-05T00:00:00",
          "2021-05-14T00:00:00",
          "2021-05-19T00:00:00",
          "2021-05-24T00:00:00",
          "2021-05-26T00:00:00",
          "2021-06-09T00:00:00",
          "2021-06-17T00:00:00",
          "2021-06-30T00:00:00",
          "2021-07-07T00:00:00",
          "2021-07-14T00:00:00",
          "2021-07-21T00:00:00",
          "2021-07-28T00:00:00",
          "2021-07-31T00:00:00",
          "2021-08-01T00:00:00",
          "2021-08-03T00:00:00",
          "2021-08-06T00:00:00",
          "2021-08-12T00:00:00",
          "2021-08-13T00:00:00",
          "2021-08-17T00:00:00",
          "2021-08-18T00:00:00",
          "2021-08-21T00:00:00",
          "2021-08-23T00:00:00",
          "2021-08-25T00:00:00",
          "2021-08-26T00:00:00",
          "2021-09-01T00:00:00"
         ],
         "xaxis": "x",
         "y": [
          0,
          0,
          0,
          0,
          0,
          0,
          0,
          0,
          0,
          1,
          1,
          1,
          1,
          1,
          1,
          1,
          1,
          1,
          1,
          1,
          1,
          1,
          1,
          1,
          1,
          1,
          1,
          1,
          1
         ],
         "yaxis": "y"
        },
        {
         "hovertemplate": "Variante detectada=B.1.1<br>fecha_resultado_secuenciacion_genotipificacion=%{x}<br>value=%{y}<extra></extra>",
         "legendgroup": "B.1.1",
         "line": {
          "color": "#00cc96",
          "dash": "solid"
         },
         "mode": "lines",
         "name": "B.1.1",
         "orientation": "v",
         "showlegend": true,
         "type": "scatter",
         "x": [
          "2021-03-21T00:00:00",
          "2021-04-05T00:00:00",
          "2021-04-08T00:00:00",
          "2021-04-19T00:00:00",
          "2021-05-05T00:00:00",
          "2021-05-14T00:00:00",
          "2021-05-19T00:00:00",
          "2021-05-24T00:00:00",
          "2021-05-26T00:00:00",
          "2021-06-09T00:00:00",
          "2021-06-17T00:00:00",
          "2021-06-30T00:00:00",
          "2021-07-07T00:00:00",
          "2021-07-14T00:00:00",
          "2021-07-21T00:00:00",
          "2021-07-28T00:00:00",
          "2021-07-31T00:00:00",
          "2021-08-01T00:00:00",
          "2021-08-03T00:00:00",
          "2021-08-06T00:00:00",
          "2021-08-12T00:00:00",
          "2021-08-13T00:00:00",
          "2021-08-17T00:00:00",
          "2021-08-18T00:00:00",
          "2021-08-21T00:00:00",
          "2021-08-23T00:00:00",
          "2021-08-25T00:00:00",
          "2021-08-26T00:00:00",
          "2021-09-01T00:00:00"
         ],
         "xaxis": "x",
         "y": [
          0,
          1,
          1,
          2,
          2,
          2,
          2,
          2,
          4,
          5,
          5,
          5,
          5,
          5,
          5,
          5,
          5,
          5,
          5,
          5,
          5,
          5,
          5,
          5,
          5,
          5,
          5,
          5,
          5
         ],
         "yaxis": "y"
        },
        {
         "hovertemplate": "Variante detectada=B.1.1.348<br>fecha_resultado_secuenciacion_genotipificacion=%{x}<br>value=%{y}<extra></extra>",
         "legendgroup": "B.1.1.348",
         "line": {
          "color": "#ab63fa",
          "dash": "solid"
         },
         "mode": "lines",
         "name": "B.1.1.348",
         "orientation": "v",
         "showlegend": true,
         "type": "scatter",
         "x": [
          "2021-03-21T00:00:00",
          "2021-04-05T00:00:00",
          "2021-04-08T00:00:00",
          "2021-04-19T00:00:00",
          "2021-05-05T00:00:00",
          "2021-05-14T00:00:00",
          "2021-05-19T00:00:00",
          "2021-05-24T00:00:00",
          "2021-05-26T00:00:00",
          "2021-06-09T00:00:00",
          "2021-06-17T00:00:00",
          "2021-06-30T00:00:00",
          "2021-07-07T00:00:00",
          "2021-07-14T00:00:00",
          "2021-07-21T00:00:00",
          "2021-07-28T00:00:00",
          "2021-07-31T00:00:00",
          "2021-08-01T00:00:00",
          "2021-08-03T00:00:00",
          "2021-08-06T00:00:00",
          "2021-08-12T00:00:00",
          "2021-08-13T00:00:00",
          "2021-08-17T00:00:00",
          "2021-08-18T00:00:00",
          "2021-08-21T00:00:00",
          "2021-08-23T00:00:00",
          "2021-08-25T00:00:00",
          "2021-08-26T00:00:00",
          "2021-09-01T00:00:00"
         ],
         "xaxis": "x",
         "y": [
          1,
          2,
          2,
          2,
          2,
          2,
          2,
          2,
          2,
          2,
          2,
          2,
          2,
          2,
          2,
          2,
          2,
          2,
          2,
          2,
          2,
          2,
          2,
          2,
          2,
          2,
          2,
          2,
          2
         ],
         "yaxis": "y"
        },
        {
         "hovertemplate": "Variante detectada=Gamma<br>fecha_resultado_secuenciacion_genotipificacion=%{x}<br>value=%{y}<extra></extra>",
         "legendgroup": "Gamma",
         "line": {
          "color": "#FFA15A",
          "dash": "solid"
         },
         "mode": "lines",
         "name": "Gamma",
         "orientation": "v",
         "showlegend": true,
         "type": "scatter",
         "x": [
          "2021-03-21T00:00:00",
          "2021-04-05T00:00:00",
          "2021-04-08T00:00:00",
          "2021-04-19T00:00:00",
          "2021-05-05T00:00:00",
          "2021-05-14T00:00:00",
          "2021-05-19T00:00:00",
          "2021-05-24T00:00:00",
          "2021-05-26T00:00:00",
          "2021-06-09T00:00:00",
          "2021-06-17T00:00:00",
          "2021-06-30T00:00:00",
          "2021-07-07T00:00:00",
          "2021-07-14T00:00:00",
          "2021-07-21T00:00:00",
          "2021-07-28T00:00:00",
          "2021-07-31T00:00:00",
          "2021-08-01T00:00:00",
          "2021-08-03T00:00:00",
          "2021-08-06T00:00:00",
          "2021-08-12T00:00:00",
          "2021-08-13T00:00:00",
          "2021-08-17T00:00:00",
          "2021-08-18T00:00:00",
          "2021-08-21T00:00:00",
          "2021-08-23T00:00:00",
          "2021-08-25T00:00:00",
          "2021-08-26T00:00:00",
          "2021-09-01T00:00:00"
         ],
         "xaxis": "x",
         "y": [
          0,
          0,
          0,
          0,
          2,
          6,
          9,
          9,
          13,
          20,
          24,
          28,
          32,
          47,
          58,
          60,
          61,
          61,
          62,
          71,
          76,
          82,
          91,
          96,
          100,
          107,
          116,
          122,
          127
         ],
         "yaxis": "y"
        },
        {
         "hovertemplate": "Variante detectada=Indeterminado<br>fecha_resultado_secuenciacion_genotipificacion=%{x}<br>value=%{y}<extra></extra>",
         "legendgroup": "Indeterminado",
         "line": {
          "color": "#19d3f3",
          "dash": "solid"
         },
         "mode": "lines",
         "name": "Indeterminado",
         "orientation": "v",
         "showlegend": true,
         "type": "scatter",
         "x": [
          "2021-03-21T00:00:00",
          "2021-04-05T00:00:00",
          "2021-04-08T00:00:00",
          "2021-04-19T00:00:00",
          "2021-05-05T00:00:00",
          "2021-05-14T00:00:00",
          "2021-05-19T00:00:00",
          "2021-05-24T00:00:00",
          "2021-05-26T00:00:00",
          "2021-06-09T00:00:00",
          "2021-06-17T00:00:00",
          "2021-06-30T00:00:00",
          "2021-07-07T00:00:00",
          "2021-07-14T00:00:00",
          "2021-07-21T00:00:00",
          "2021-07-28T00:00:00",
          "2021-07-31T00:00:00",
          "2021-08-01T00:00:00",
          "2021-08-03T00:00:00",
          "2021-08-06T00:00:00",
          "2021-08-12T00:00:00",
          "2021-08-13T00:00:00",
          "2021-08-17T00:00:00",
          "2021-08-18T00:00:00",
          "2021-08-21T00:00:00",
          "2021-08-23T00:00:00",
          "2021-08-25T00:00:00",
          "2021-08-26T00:00:00",
          "2021-09-01T00:00:00"
         ],
         "xaxis": "x",
         "y": [
          0,
          0,
          0,
          0,
          0,
          0,
          0,
          0,
          0,
          0,
          0,
          0,
          0,
          0,
          0,
          0,
          2,
          2,
          3,
          3,
          3,
          3,
          4,
          4,
          4,
          5,
          5,
          5,
          5
         ],
         "yaxis": "y"
        },
        {
         "hovertemplate": "Variante detectada=Lambda<br>fecha_resultado_secuenciacion_genotipificacion=%{x}<br>value=%{y}<extra></extra>",
         "legendgroup": "Lambda",
         "line": {
          "color": "#FF6692",
          "dash": "solid"
         },
         "mode": "lines",
         "name": "Lambda",
         "orientation": "v",
         "showlegend": true,
         "type": "scatter",
         "x": [
          "2021-03-21T00:00:00",
          "2021-04-05T00:00:00",
          "2021-04-08T00:00:00",
          "2021-04-19T00:00:00",
          "2021-05-05T00:00:00",
          "2021-05-14T00:00:00",
          "2021-05-19T00:00:00",
          "2021-05-24T00:00:00",
          "2021-05-26T00:00:00",
          "2021-06-09T00:00:00",
          "2021-06-17T00:00:00",
          "2021-06-30T00:00:00",
          "2021-07-07T00:00:00",
          "2021-07-14T00:00:00",
          "2021-07-21T00:00:00",
          "2021-07-28T00:00:00",
          "2021-07-31T00:00:00",
          "2021-08-01T00:00:00",
          "2021-08-03T00:00:00",
          "2021-08-06T00:00:00",
          "2021-08-12T00:00:00",
          "2021-08-13T00:00:00",
          "2021-08-17T00:00:00",
          "2021-08-18T00:00:00",
          "2021-08-21T00:00:00",
          "2021-08-23T00:00:00",
          "2021-08-25T00:00:00",
          "2021-08-26T00:00:00",
          "2021-09-01T00:00:00"
         ],
         "xaxis": "x",
         "y": [
          0,
          0,
          0,
          3,
          7,
          13,
          17,
          17,
          25,
          27,
          27,
          29,
          35,
          43,
          48,
          48,
          48,
          48,
          48,
          49,
          50,
          50,
          50,
          50,
          50,
          50,
          51,
          51,
          52
         ],
         "yaxis": "y"
        },
        {
         "hovertemplate": "Variante detectada=N.4<br>fecha_resultado_secuenciacion_genotipificacion=%{x}<br>value=%{y}<extra></extra>",
         "legendgroup": "N.4",
         "line": {
          "color": "#B6E880",
          "dash": "solid"
         },
         "mode": "lines",
         "name": "N.4",
         "orientation": "v",
         "showlegend": true,
         "type": "scatter",
         "x": [
          "2021-03-21T00:00:00",
          "2021-04-05T00:00:00",
          "2021-04-08T00:00:00",
          "2021-04-19T00:00:00",
          "2021-05-05T00:00:00",
          "2021-05-14T00:00:00",
          "2021-05-19T00:00:00",
          "2021-05-24T00:00:00",
          "2021-05-26T00:00:00",
          "2021-06-09T00:00:00",
          "2021-06-17T00:00:00",
          "2021-06-30T00:00:00",
          "2021-07-07T00:00:00",
          "2021-07-14T00:00:00",
          "2021-07-21T00:00:00",
          "2021-07-28T00:00:00",
          "2021-07-31T00:00:00",
          "2021-08-01T00:00:00",
          "2021-08-03T00:00:00",
          "2021-08-06T00:00:00",
          "2021-08-12T00:00:00",
          "2021-08-13T00:00:00",
          "2021-08-17T00:00:00",
          "2021-08-18T00:00:00",
          "2021-08-21T00:00:00",
          "2021-08-23T00:00:00",
          "2021-08-25T00:00:00",
          "2021-08-26T00:00:00",
          "2021-09-01T00:00:00"
         ],
         "xaxis": "x",
         "y": [
          1,
          1,
          1,
          1,
          1,
          1,
          1,
          1,
          1,
          1,
          1,
          1,
          1,
          1,
          1,
          1,
          1,
          1,
          1,
          1,
          1,
          1,
          1,
          1,
          1,
          1,
          1,
          1,
          1
         ],
         "yaxis": "y"
        },
        {
         "hovertemplate": "Variante detectada=No amplifica<br>fecha_resultado_secuenciacion_genotipificacion=%{x}<br>value=%{y}<extra></extra>",
         "legendgroup": "No amplifica",
         "line": {
          "color": "#FF97FF",
          "dash": "solid"
         },
         "mode": "lines",
         "name": "No amplifica",
         "orientation": "v",
         "showlegend": true,
         "type": "scatter",
         "x": [
          "2021-03-21T00:00:00",
          "2021-04-05T00:00:00",
          "2021-04-08T00:00:00",
          "2021-04-19T00:00:00",
          "2021-05-05T00:00:00",
          "2021-05-14T00:00:00",
          "2021-05-19T00:00:00",
          "2021-05-24T00:00:00",
          "2021-05-26T00:00:00",
          "2021-06-09T00:00:00",
          "2021-06-17T00:00:00",
          "2021-06-30T00:00:00",
          "2021-07-07T00:00:00",
          "2021-07-14T00:00:00",
          "2021-07-21T00:00:00",
          "2021-07-28T00:00:00",
          "2021-07-31T00:00:00",
          "2021-08-01T00:00:00",
          "2021-08-03T00:00:00",
          "2021-08-06T00:00:00",
          "2021-08-12T00:00:00",
          "2021-08-13T00:00:00",
          "2021-08-17T00:00:00",
          "2021-08-18T00:00:00",
          "2021-08-21T00:00:00",
          "2021-08-23T00:00:00",
          "2021-08-25T00:00:00",
          "2021-08-26T00:00:00",
          "2021-09-01T00:00:00"
         ],
         "xaxis": "x",
         "y": [
          0,
          0,
          1,
          1,
          1,
          1,
          1,
          2,
          2,
          2,
          3,
          5,
          10,
          16,
          27,
          27,
          27,
          28,
          28,
          29,
          29,
          29,
          29,
          29,
          29,
          29,
          32,
          32,
          33
         ],
         "yaxis": "y"
        },
        {
         "hovertemplate": "Variante detectada=VOI no detectadas<br>fecha_resultado_secuenciacion_genotipificacion=%{x}<br>value=%{y}<extra></extra>",
         "legendgroup": "VOI no detectadas",
         "line": {
          "color": "#FECB52",
          "dash": "solid"
         },
         "mode": "lines",
         "name": "VOI no detectadas",
         "orientation": "v",
         "showlegend": true,
         "type": "scatter",
         "x": [
          "2021-03-21T00:00:00",
          "2021-04-05T00:00:00",
          "2021-04-08T00:00:00",
          "2021-04-19T00:00:00",
          "2021-05-05T00:00:00",
          "2021-05-14T00:00:00",
          "2021-05-19T00:00:00",
          "2021-05-24T00:00:00",
          "2021-05-26T00:00:00",
          "2021-06-09T00:00:00",
          "2021-06-17T00:00:00",
          "2021-06-30T00:00:00",
          "2021-07-07T00:00:00",
          "2021-07-14T00:00:00",
          "2021-07-21T00:00:00",
          "2021-07-28T00:00:00",
          "2021-07-31T00:00:00",
          "2021-08-01T00:00:00",
          "2021-08-03T00:00:00",
          "2021-08-06T00:00:00",
          "2021-08-12T00:00:00",
          "2021-08-13T00:00:00",
          "2021-08-17T00:00:00",
          "2021-08-18T00:00:00",
          "2021-08-21T00:00:00",
          "2021-08-23T00:00:00",
          "2021-08-25T00:00:00",
          "2021-08-26T00:00:00",
          "2021-09-01T00:00:00"
         ],
         "xaxis": "x",
         "y": [
          0,
          0,
          0,
          0,
          0,
          0,
          0,
          0,
          0,
          0,
          0,
          0,
          0,
          0,
          0,
          0,
          0,
          0,
          0,
          0,
          0,
          0,
          0,
          1,
          1,
          1,
          1,
          1,
          1
         ],
         "yaxis": "y"
        }
       ],
       "layout": {
        "legend": {
         "title": {
          "text": "Variante detectada"
         },
         "tracegroupgap": 0
        },
        "margin": {
         "t": 60
        },
        "template": {
         "data": {
          "bar": [
           {
            "error_x": {
             "color": "rgb(36,36,36)"
            },
            "error_y": {
             "color": "rgb(36,36,36)"
            },
            "marker": {
             "line": {
              "color": "white",
              "width": 0.5
             }
            },
            "type": "bar"
           }
          ],
          "barpolar": [
           {
            "marker": {
             "line": {
              "color": "white",
              "width": 0.5
             }
            },
            "type": "barpolar"
           }
          ],
          "carpet": [
           {
            "aaxis": {
             "endlinecolor": "rgb(36,36,36)",
             "gridcolor": "white",
             "linecolor": "white",
             "minorgridcolor": "white",
             "startlinecolor": "rgb(36,36,36)"
            },
            "baxis": {
             "endlinecolor": "rgb(36,36,36)",
             "gridcolor": "white",
             "linecolor": "white",
             "minorgridcolor": "white",
             "startlinecolor": "rgb(36,36,36)"
            },
            "type": "carpet"
           }
          ],
          "choropleth": [
           {
            "colorbar": {
             "outlinewidth": 1,
             "tickcolor": "rgb(36,36,36)",
             "ticks": "outside"
            },
            "type": "choropleth"
           }
          ],
          "contour": [
           {
            "colorbar": {
             "outlinewidth": 1,
             "tickcolor": "rgb(36,36,36)",
             "ticks": "outside"
            },
            "colorscale": [
             [
              0,
              "#440154"
             ],
             [
              0.1111111111111111,
              "#482878"
             ],
             [
              0.2222222222222222,
              "#3e4989"
             ],
             [
              0.3333333333333333,
              "#31688e"
             ],
             [
              0.4444444444444444,
              "#26828e"
             ],
             [
              0.5555555555555556,
              "#1f9e89"
             ],
             [
              0.6666666666666666,
              "#35b779"
             ],
             [
              0.7777777777777778,
              "#6ece58"
             ],
             [
              0.8888888888888888,
              "#b5de2b"
             ],
             [
              1,
              "#fde725"
             ]
            ],
            "type": "contour"
           }
          ],
          "contourcarpet": [
           {
            "colorbar": {
             "outlinewidth": 1,
             "tickcolor": "rgb(36,36,36)",
             "ticks": "outside"
            },
            "type": "contourcarpet"
           }
          ],
          "heatmap": [
           {
            "colorbar": {
             "outlinewidth": 1,
             "tickcolor": "rgb(36,36,36)",
             "ticks": "outside"
            },
            "colorscale": [
             [
              0,
              "#440154"
             ],
             [
              0.1111111111111111,
              "#482878"
             ],
             [
              0.2222222222222222,
              "#3e4989"
             ],
             [
              0.3333333333333333,
              "#31688e"
             ],
             [
              0.4444444444444444,
              "#26828e"
             ],
             [
              0.5555555555555556,
              "#1f9e89"
             ],
             [
              0.6666666666666666,
              "#35b779"
             ],
             [
              0.7777777777777778,
              "#6ece58"
             ],
             [
              0.8888888888888888,
              "#b5de2b"
             ],
             [
              1,
              "#fde725"
             ]
            ],
            "type": "heatmap"
           }
          ],
          "heatmapgl": [
           {
            "colorbar": {
             "outlinewidth": 1,
             "tickcolor": "rgb(36,36,36)",
             "ticks": "outside"
            },
            "colorscale": [
             [
              0,
              "#440154"
             ],
             [
              0.1111111111111111,
              "#482878"
             ],
             [
              0.2222222222222222,
              "#3e4989"
             ],
             [
              0.3333333333333333,
              "#31688e"
             ],
             [
              0.4444444444444444,
              "#26828e"
             ],
             [
              0.5555555555555556,
              "#1f9e89"
             ],
             [
              0.6666666666666666,
              "#35b779"
             ],
             [
              0.7777777777777778,
              "#6ece58"
             ],
             [
              0.8888888888888888,
              "#b5de2b"
             ],
             [
              1,
              "#fde725"
             ]
            ],
            "type": "heatmapgl"
           }
          ],
          "histogram": [
           {
            "marker": {
             "line": {
              "color": "white",
              "width": 0.6
             }
            },
            "type": "histogram"
           }
          ],
          "histogram2d": [
           {
            "colorbar": {
             "outlinewidth": 1,
             "tickcolor": "rgb(36,36,36)",
             "ticks": "outside"
            },
            "colorscale": [
             [
              0,
              "#440154"
             ],
             [
              0.1111111111111111,
              "#482878"
             ],
             [
              0.2222222222222222,
              "#3e4989"
             ],
             [
              0.3333333333333333,
              "#31688e"
             ],
             [
              0.4444444444444444,
              "#26828e"
             ],
             [
              0.5555555555555556,
              "#1f9e89"
             ],
             [
              0.6666666666666666,
              "#35b779"
             ],
             [
              0.7777777777777778,
              "#6ece58"
             ],
             [
              0.8888888888888888,
              "#b5de2b"
             ],
             [
              1,
              "#fde725"
             ]
            ],
            "type": "histogram2d"
           }
          ],
          "histogram2dcontour": [
           {
            "colorbar": {
             "outlinewidth": 1,
             "tickcolor": "rgb(36,36,36)",
             "ticks": "outside"
            },
            "colorscale": [
             [
              0,
              "#440154"
             ],
             [
              0.1111111111111111,
              "#482878"
             ],
             [
              0.2222222222222222,
              "#3e4989"
             ],
             [
              0.3333333333333333,
              "#31688e"
             ],
             [
              0.4444444444444444,
              "#26828e"
             ],
             [
              0.5555555555555556,
              "#1f9e89"
             ],
             [
              0.6666666666666666,
              "#35b779"
             ],
             [
              0.7777777777777778,
              "#6ece58"
             ],
             [
              0.8888888888888888,
              "#b5de2b"
             ],
             [
              1,
              "#fde725"
             ]
            ],
            "type": "histogram2dcontour"
           }
          ],
          "mesh3d": [
           {
            "colorbar": {
             "outlinewidth": 1,
             "tickcolor": "rgb(36,36,36)",
             "ticks": "outside"
            },
            "type": "mesh3d"
           }
          ],
          "parcoords": [
           {
            "line": {
             "colorbar": {
              "outlinewidth": 1,
              "tickcolor": "rgb(36,36,36)",
              "ticks": "outside"
             }
            },
            "type": "parcoords"
           }
          ],
          "pie": [
           {
            "automargin": true,
            "type": "pie"
           }
          ],
          "scatter": [
           {
            "marker": {
             "colorbar": {
              "outlinewidth": 1,
              "tickcolor": "rgb(36,36,36)",
              "ticks": "outside"
             }
            },
            "type": "scatter"
           }
          ],
          "scatter3d": [
           {
            "line": {
             "colorbar": {
              "outlinewidth": 1,
              "tickcolor": "rgb(36,36,36)",
              "ticks": "outside"
             }
            },
            "marker": {
             "colorbar": {
              "outlinewidth": 1,
              "tickcolor": "rgb(36,36,36)",
              "ticks": "outside"
             }
            },
            "type": "scatter3d"
           }
          ],
          "scattercarpet": [
           {
            "marker": {
             "colorbar": {
              "outlinewidth": 1,
              "tickcolor": "rgb(36,36,36)",
              "ticks": "outside"
             }
            },
            "type": "scattercarpet"
           }
          ],
          "scattergeo": [
           {
            "marker": {
             "colorbar": {
              "outlinewidth": 1,
              "tickcolor": "rgb(36,36,36)",
              "ticks": "outside"
             }
            },
            "type": "scattergeo"
           }
          ],
          "scattergl": [
           {
            "marker": {
             "colorbar": {
              "outlinewidth": 1,
              "tickcolor": "rgb(36,36,36)",
              "ticks": "outside"
             }
            },
            "type": "scattergl"
           }
          ],
          "scattermapbox": [
           {
            "marker": {
             "colorbar": {
              "outlinewidth": 1,
              "tickcolor": "rgb(36,36,36)",
              "ticks": "outside"
             }
            },
            "type": "scattermapbox"
           }
          ],
          "scatterpolar": [
           {
            "marker": {
             "colorbar": {
              "outlinewidth": 1,
              "tickcolor": "rgb(36,36,36)",
              "ticks": "outside"
             }
            },
            "type": "scatterpolar"
           }
          ],
          "scatterpolargl": [
           {
            "marker": {
             "colorbar": {
              "outlinewidth": 1,
              "tickcolor": "rgb(36,36,36)",
              "ticks": "outside"
             }
            },
            "type": "scatterpolargl"
           }
          ],
          "scatterternary": [
           {
            "marker": {
             "colorbar": {
              "outlinewidth": 1,
              "tickcolor": "rgb(36,36,36)",
              "ticks": "outside"
             }
            },
            "type": "scatterternary"
           }
          ],
          "surface": [
           {
            "colorbar": {
             "outlinewidth": 1,
             "tickcolor": "rgb(36,36,36)",
             "ticks": "outside"
            },
            "colorscale": [
             [
              0,
              "#440154"
             ],
             [
              0.1111111111111111,
              "#482878"
             ],
             [
              0.2222222222222222,
              "#3e4989"
             ],
             [
              0.3333333333333333,
              "#31688e"
             ],
             [
              0.4444444444444444,
              "#26828e"
             ],
             [
              0.5555555555555556,
              "#1f9e89"
             ],
             [
              0.6666666666666666,
              "#35b779"
             ],
             [
              0.7777777777777778,
              "#6ece58"
             ],
             [
              0.8888888888888888,
              "#b5de2b"
             ],
             [
              1,
              "#fde725"
             ]
            ],
            "type": "surface"
           }
          ],
          "table": [
           {
            "cells": {
             "fill": {
              "color": "rgb(237,237,237)"
             },
             "line": {
              "color": "white"
             }
            },
            "header": {
             "fill": {
              "color": "rgb(217,217,217)"
             },
             "line": {
              "color": "white"
             }
            },
            "type": "table"
           }
          ]
         },
         "layout": {
          "annotationdefaults": {
           "arrowhead": 0,
           "arrowwidth": 1
          },
          "autotypenumbers": "strict",
          "coloraxis": {
           "colorbar": {
            "outlinewidth": 1,
            "tickcolor": "rgb(36,36,36)",
            "ticks": "outside"
           }
          },
          "colorscale": {
           "diverging": [
            [
             0,
             "rgb(103,0,31)"
            ],
            [
             0.1,
             "rgb(178,24,43)"
            ],
            [
             0.2,
             "rgb(214,96,77)"
            ],
            [
             0.3,
             "rgb(244,165,130)"
            ],
            [
             0.4,
             "rgb(253,219,199)"
            ],
            [
             0.5,
             "rgb(247,247,247)"
            ],
            [
             0.6,
             "rgb(209,229,240)"
            ],
            [
             0.7,
             "rgb(146,197,222)"
            ],
            [
             0.8,
             "rgb(67,147,195)"
            ],
            [
             0.9,
             "rgb(33,102,172)"
            ],
            [
             1,
             "rgb(5,48,97)"
            ]
           ],
           "sequential": [
            [
             0,
             "#440154"
            ],
            [
             0.1111111111111111,
             "#482878"
            ],
            [
             0.2222222222222222,
             "#3e4989"
            ],
            [
             0.3333333333333333,
             "#31688e"
            ],
            [
             0.4444444444444444,
             "#26828e"
            ],
            [
             0.5555555555555556,
             "#1f9e89"
            ],
            [
             0.6666666666666666,
             "#35b779"
            ],
            [
             0.7777777777777778,
             "#6ece58"
            ],
            [
             0.8888888888888888,
             "#b5de2b"
            ],
            [
             1,
             "#fde725"
            ]
           ],
           "sequentialminus": [
            [
             0,
             "#440154"
            ],
            [
             0.1111111111111111,
             "#482878"
            ],
            [
             0.2222222222222222,
             "#3e4989"
            ],
            [
             0.3333333333333333,
             "#31688e"
            ],
            [
             0.4444444444444444,
             "#26828e"
            ],
            [
             0.5555555555555556,
             "#1f9e89"
            ],
            [
             0.6666666666666666,
             "#35b779"
            ],
            [
             0.7777777777777778,
             "#6ece58"
            ],
            [
             0.8888888888888888,
             "#b5de2b"
            ],
            [
             1,
             "#fde725"
            ]
           ]
          },
          "colorway": [
           "#1F77B4",
           "#FF7F0E",
           "#2CA02C",
           "#D62728",
           "#9467BD",
           "#8C564B",
           "#E377C2",
           "#7F7F7F",
           "#BCBD22",
           "#17BECF"
          ],
          "font": {
           "color": "rgb(36,36,36)"
          },
          "geo": {
           "bgcolor": "white",
           "lakecolor": "white",
           "landcolor": "white",
           "showlakes": true,
           "showland": true,
           "subunitcolor": "white"
          },
          "hoverlabel": {
           "align": "left"
          },
          "hovermode": "closest",
          "mapbox": {
           "style": "light"
          },
          "paper_bgcolor": "white",
          "plot_bgcolor": "white",
          "polar": {
           "angularaxis": {
            "gridcolor": "rgb(232,232,232)",
            "linecolor": "rgb(36,36,36)",
            "showgrid": false,
            "showline": true,
            "ticks": "outside"
           },
           "bgcolor": "white",
           "radialaxis": {
            "gridcolor": "rgb(232,232,232)",
            "linecolor": "rgb(36,36,36)",
            "showgrid": false,
            "showline": true,
            "ticks": "outside"
           }
          },
          "scene": {
           "xaxis": {
            "backgroundcolor": "white",
            "gridcolor": "rgb(232,232,232)",
            "gridwidth": 2,
            "linecolor": "rgb(36,36,36)",
            "showbackground": true,
            "showgrid": false,
            "showline": true,
            "ticks": "outside",
            "zeroline": false,
            "zerolinecolor": "rgb(36,36,36)"
           },
           "yaxis": {
            "backgroundcolor": "white",
            "gridcolor": "rgb(232,232,232)",
            "gridwidth": 2,
            "linecolor": "rgb(36,36,36)",
            "showbackground": true,
            "showgrid": false,
            "showline": true,
            "ticks": "outside",
            "zeroline": false,
            "zerolinecolor": "rgb(36,36,36)"
           },
           "zaxis": {
            "backgroundcolor": "white",
            "gridcolor": "rgb(232,232,232)",
            "gridwidth": 2,
            "linecolor": "rgb(36,36,36)",
            "showbackground": true,
            "showgrid": false,
            "showline": true,
            "ticks": "outside",
            "zeroline": false,
            "zerolinecolor": "rgb(36,36,36)"
           }
          },
          "shapedefaults": {
           "fillcolor": "black",
           "line": {
            "width": 0
           },
           "opacity": 0.3
          },
          "ternary": {
           "aaxis": {
            "gridcolor": "rgb(232,232,232)",
            "linecolor": "rgb(36,36,36)",
            "showgrid": false,
            "showline": true,
            "ticks": "outside"
           },
           "baxis": {
            "gridcolor": "rgb(232,232,232)",
            "linecolor": "rgb(36,36,36)",
            "showgrid": false,
            "showline": true,
            "ticks": "outside"
           },
           "bgcolor": "white",
           "caxis": {
            "gridcolor": "rgb(232,232,232)",
            "linecolor": "rgb(36,36,36)",
            "showgrid": false,
            "showline": true,
            "ticks": "outside"
           }
          },
          "title": {
           "x": 0.05
          },
          "xaxis": {
           "automargin": true,
           "gridcolor": "rgb(232,232,232)",
           "linecolor": "rgb(36,36,36)",
           "showgrid": false,
           "showline": true,
           "ticks": "outside",
           "title": {
            "standoff": 15
           },
           "zeroline": false,
           "zerolinecolor": "rgb(36,36,36)"
          },
          "yaxis": {
           "automargin": true,
           "gridcolor": "rgb(232,232,232)",
           "linecolor": "rgb(36,36,36)",
           "showgrid": false,
           "showline": true,
           "ticks": "outside",
           "title": {
            "standoff": 15
           },
           "zeroline": false,
           "zerolinecolor": "rgb(36,36,36)"
          }
         }
        },
        "title": {
         "text": "Variantes detectadas en la Región de Aysén"
        },
        "xaxis": {
         "anchor": "y",
         "domain": [
          0,
          1
         ],
         "title": {
          "text": "Fecha de resultado de Secuenciación o Genotipificación"
         }
        },
        "yaxis": {
         "anchor": "x",
         "domain": [
          0,
          1
         ],
         "title": {
          "text": "No. de casos identificados por variante"
         }
        }
       }
      },
      "text/html": [
       "<div>                            <div id=\"dc422dc9-d4f4-44d4-be01-724522316b24\" class=\"plotly-graph-div\" style=\"height:525px; width:100%;\"></div>            <script type=\"text/javascript\">                require([\"plotly\"], function(Plotly) {                    window.PLOTLYENV=window.PLOTLYENV || {};                                    if (document.getElementById(\"dc422dc9-d4f4-44d4-be01-724522316b24\")) {                    Plotly.newPlot(                        \"dc422dc9-d4f4-44d4-be01-724522316b24\",                        [{\"hovertemplate\": \"Variante detectada=Alfa<br>fecha_resultado_secuenciacion_genotipificacion=%{x}<br>value=%{y}<extra></extra>\", \"legendgroup\": \"Alfa\", \"line\": {\"color\": \"#636efa\", \"dash\": \"solid\"}, \"mode\": \"lines\", \"name\": \"Alfa\", \"orientation\": \"v\", \"showlegend\": true, \"type\": \"scatter\", \"x\": [\"2021-03-21T00:00:00\", \"2021-04-05T00:00:00\", \"2021-04-08T00:00:00\", \"2021-04-19T00:00:00\", \"2021-05-05T00:00:00\", \"2021-05-14T00:00:00\", \"2021-05-19T00:00:00\", \"2021-05-24T00:00:00\", \"2021-05-26T00:00:00\", \"2021-06-09T00:00:00\", \"2021-06-17T00:00:00\", \"2021-06-30T00:00:00\", \"2021-07-07T00:00:00\", \"2021-07-14T00:00:00\", \"2021-07-21T00:00:00\", \"2021-07-28T00:00:00\", \"2021-07-31T00:00:00\", \"2021-08-01T00:00:00\", \"2021-08-03T00:00:00\", \"2021-08-06T00:00:00\", \"2021-08-12T00:00:00\", \"2021-08-13T00:00:00\", \"2021-08-17T00:00:00\", \"2021-08-18T00:00:00\", \"2021-08-21T00:00:00\", \"2021-08-23T00:00:00\", \"2021-08-25T00:00:00\", \"2021-08-26T00:00:00\", \"2021-09-01T00:00:00\"], \"xaxis\": \"x\", \"y\": [0.0, 0.0, 0.0, 0.0, 0.0, 0.0, 0.0, 0.0, 1.0, 1.0, 1.0, 1.0, 1.0, 1.0, 1.0, 1.0, 1.0, 1.0, 1.0, 1.0, 1.0, 1.0, 1.0, 1.0, 1.0, 1.0, 1.0, 1.0, 1.0], \"yaxis\": \"y\"}, {\"hovertemplate\": \"Variante detectada=B.1<br>fecha_resultado_secuenciacion_genotipificacion=%{x}<br>value=%{y}<extra></extra>\", \"legendgroup\": \"B.1\", \"line\": {\"color\": \"#EF553B\", \"dash\": \"solid\"}, \"mode\": \"lines\", \"name\": \"B.1\", \"orientation\": \"v\", \"showlegend\": true, \"type\": \"scatter\", \"x\": [\"2021-03-21T00:00:00\", \"2021-04-05T00:00:00\", \"2021-04-08T00:00:00\", \"2021-04-19T00:00:00\", \"2021-05-05T00:00:00\", \"2021-05-14T00:00:00\", \"2021-05-19T00:00:00\", \"2021-05-24T00:00:00\", \"2021-05-26T00:00:00\", \"2021-06-09T00:00:00\", \"2021-06-17T00:00:00\", \"2021-06-30T00:00:00\", \"2021-07-07T00:00:00\", \"2021-07-14T00:00:00\", \"2021-07-21T00:00:00\", \"2021-07-28T00:00:00\", \"2021-07-31T00:00:00\", \"2021-08-01T00:00:00\", \"2021-08-03T00:00:00\", \"2021-08-06T00:00:00\", \"2021-08-12T00:00:00\", \"2021-08-13T00:00:00\", \"2021-08-17T00:00:00\", \"2021-08-18T00:00:00\", \"2021-08-21T00:00:00\", \"2021-08-23T00:00:00\", \"2021-08-25T00:00:00\", \"2021-08-26T00:00:00\", \"2021-09-01T00:00:00\"], \"xaxis\": \"x\", \"y\": [0.0, 0.0, 0.0, 0.0, 0.0, 0.0, 0.0, 0.0, 0.0, 1.0, 1.0, 1.0, 1.0, 1.0, 1.0, 1.0, 1.0, 1.0, 1.0, 1.0, 1.0, 1.0, 1.0, 1.0, 1.0, 1.0, 1.0, 1.0, 1.0], \"yaxis\": \"y\"}, {\"hovertemplate\": \"Variante detectada=B.1.1<br>fecha_resultado_secuenciacion_genotipificacion=%{x}<br>value=%{y}<extra></extra>\", \"legendgroup\": \"B.1.1\", \"line\": {\"color\": \"#00cc96\", \"dash\": \"solid\"}, \"mode\": \"lines\", \"name\": \"B.1.1\", \"orientation\": \"v\", \"showlegend\": true, \"type\": \"scatter\", \"x\": [\"2021-03-21T00:00:00\", \"2021-04-05T00:00:00\", \"2021-04-08T00:00:00\", \"2021-04-19T00:00:00\", \"2021-05-05T00:00:00\", \"2021-05-14T00:00:00\", \"2021-05-19T00:00:00\", \"2021-05-24T00:00:00\", \"2021-05-26T00:00:00\", \"2021-06-09T00:00:00\", \"2021-06-17T00:00:00\", \"2021-06-30T00:00:00\", \"2021-07-07T00:00:00\", \"2021-07-14T00:00:00\", \"2021-07-21T00:00:00\", \"2021-07-28T00:00:00\", \"2021-07-31T00:00:00\", \"2021-08-01T00:00:00\", \"2021-08-03T00:00:00\", \"2021-08-06T00:00:00\", \"2021-08-12T00:00:00\", \"2021-08-13T00:00:00\", \"2021-08-17T00:00:00\", \"2021-08-18T00:00:00\", \"2021-08-21T00:00:00\", \"2021-08-23T00:00:00\", \"2021-08-25T00:00:00\", \"2021-08-26T00:00:00\", \"2021-09-01T00:00:00\"], \"xaxis\": \"x\", \"y\": [0.0, 1.0, 1.0, 2.0, 2.0, 2.0, 2.0, 2.0, 4.0, 5.0, 5.0, 5.0, 5.0, 5.0, 5.0, 5.0, 5.0, 5.0, 5.0, 5.0, 5.0, 5.0, 5.0, 5.0, 5.0, 5.0, 5.0, 5.0, 5.0], \"yaxis\": \"y\"}, {\"hovertemplate\": \"Variante detectada=B.1.1.348<br>fecha_resultado_secuenciacion_genotipificacion=%{x}<br>value=%{y}<extra></extra>\", \"legendgroup\": \"B.1.1.348\", \"line\": {\"color\": \"#ab63fa\", \"dash\": \"solid\"}, \"mode\": \"lines\", \"name\": \"B.1.1.348\", \"orientation\": \"v\", \"showlegend\": true, \"type\": \"scatter\", \"x\": [\"2021-03-21T00:00:00\", \"2021-04-05T00:00:00\", \"2021-04-08T00:00:00\", \"2021-04-19T00:00:00\", \"2021-05-05T00:00:00\", \"2021-05-14T00:00:00\", \"2021-05-19T00:00:00\", \"2021-05-24T00:00:00\", \"2021-05-26T00:00:00\", \"2021-06-09T00:00:00\", \"2021-06-17T00:00:00\", \"2021-06-30T00:00:00\", \"2021-07-07T00:00:00\", \"2021-07-14T00:00:00\", \"2021-07-21T00:00:00\", \"2021-07-28T00:00:00\", \"2021-07-31T00:00:00\", \"2021-08-01T00:00:00\", \"2021-08-03T00:00:00\", \"2021-08-06T00:00:00\", \"2021-08-12T00:00:00\", \"2021-08-13T00:00:00\", \"2021-08-17T00:00:00\", \"2021-08-18T00:00:00\", \"2021-08-21T00:00:00\", \"2021-08-23T00:00:00\", \"2021-08-25T00:00:00\", \"2021-08-26T00:00:00\", \"2021-09-01T00:00:00\"], \"xaxis\": \"x\", \"y\": [1.0, 2.0, 2.0, 2.0, 2.0, 2.0, 2.0, 2.0, 2.0, 2.0, 2.0, 2.0, 2.0, 2.0, 2.0, 2.0, 2.0, 2.0, 2.0, 2.0, 2.0, 2.0, 2.0, 2.0, 2.0, 2.0, 2.0, 2.0, 2.0], \"yaxis\": \"y\"}, {\"hovertemplate\": \"Variante detectada=Gamma<br>fecha_resultado_secuenciacion_genotipificacion=%{x}<br>value=%{y}<extra></extra>\", \"legendgroup\": \"Gamma\", \"line\": {\"color\": \"#FFA15A\", \"dash\": \"solid\"}, \"mode\": \"lines\", \"name\": \"Gamma\", \"orientation\": \"v\", \"showlegend\": true, \"type\": \"scatter\", \"x\": [\"2021-03-21T00:00:00\", \"2021-04-05T00:00:00\", \"2021-04-08T00:00:00\", \"2021-04-19T00:00:00\", \"2021-05-05T00:00:00\", \"2021-05-14T00:00:00\", \"2021-05-19T00:00:00\", \"2021-05-24T00:00:00\", \"2021-05-26T00:00:00\", \"2021-06-09T00:00:00\", \"2021-06-17T00:00:00\", \"2021-06-30T00:00:00\", \"2021-07-07T00:00:00\", \"2021-07-14T00:00:00\", \"2021-07-21T00:00:00\", \"2021-07-28T00:00:00\", \"2021-07-31T00:00:00\", \"2021-08-01T00:00:00\", \"2021-08-03T00:00:00\", \"2021-08-06T00:00:00\", \"2021-08-12T00:00:00\", \"2021-08-13T00:00:00\", \"2021-08-17T00:00:00\", \"2021-08-18T00:00:00\", \"2021-08-21T00:00:00\", \"2021-08-23T00:00:00\", \"2021-08-25T00:00:00\", \"2021-08-26T00:00:00\", \"2021-09-01T00:00:00\"], \"xaxis\": \"x\", \"y\": [0.0, 0.0, 0.0, 0.0, 2.0, 6.0, 9.0, 9.0, 13.0, 20.0, 24.0, 28.0, 32.0, 47.0, 58.0, 60.0, 61.0, 61.0, 62.0, 71.0, 76.0, 82.0, 91.0, 96.0, 100.0, 107.0, 116.0, 122.0, 127.0], \"yaxis\": \"y\"}, {\"hovertemplate\": \"Variante detectada=Indeterminado<br>fecha_resultado_secuenciacion_genotipificacion=%{x}<br>value=%{y}<extra></extra>\", \"legendgroup\": \"Indeterminado\", \"line\": {\"color\": \"#19d3f3\", \"dash\": \"solid\"}, \"mode\": \"lines\", \"name\": \"Indeterminado\", \"orientation\": \"v\", \"showlegend\": true, \"type\": \"scatter\", \"x\": [\"2021-03-21T00:00:00\", \"2021-04-05T00:00:00\", \"2021-04-08T00:00:00\", \"2021-04-19T00:00:00\", \"2021-05-05T00:00:00\", \"2021-05-14T00:00:00\", \"2021-05-19T00:00:00\", \"2021-05-24T00:00:00\", \"2021-05-26T00:00:00\", \"2021-06-09T00:00:00\", \"2021-06-17T00:00:00\", \"2021-06-30T00:00:00\", \"2021-07-07T00:00:00\", \"2021-07-14T00:00:00\", \"2021-07-21T00:00:00\", \"2021-07-28T00:00:00\", \"2021-07-31T00:00:00\", \"2021-08-01T00:00:00\", \"2021-08-03T00:00:00\", \"2021-08-06T00:00:00\", \"2021-08-12T00:00:00\", \"2021-08-13T00:00:00\", \"2021-08-17T00:00:00\", \"2021-08-18T00:00:00\", \"2021-08-21T00:00:00\", \"2021-08-23T00:00:00\", \"2021-08-25T00:00:00\", \"2021-08-26T00:00:00\", \"2021-09-01T00:00:00\"], \"xaxis\": \"x\", \"y\": [0.0, 0.0, 0.0, 0.0, 0.0, 0.0, 0.0, 0.0, 0.0, 0.0, 0.0, 0.0, 0.0, 0.0, 0.0, 0.0, 2.0, 2.0, 3.0, 3.0, 3.0, 3.0, 4.0, 4.0, 4.0, 5.0, 5.0, 5.0, 5.0], \"yaxis\": \"y\"}, {\"hovertemplate\": \"Variante detectada=Lambda<br>fecha_resultado_secuenciacion_genotipificacion=%{x}<br>value=%{y}<extra></extra>\", \"legendgroup\": \"Lambda\", \"line\": {\"color\": \"#FF6692\", \"dash\": \"solid\"}, \"mode\": \"lines\", \"name\": \"Lambda\", \"orientation\": \"v\", \"showlegend\": true, \"type\": \"scatter\", \"x\": [\"2021-03-21T00:00:00\", \"2021-04-05T00:00:00\", \"2021-04-08T00:00:00\", \"2021-04-19T00:00:00\", \"2021-05-05T00:00:00\", \"2021-05-14T00:00:00\", \"2021-05-19T00:00:00\", \"2021-05-24T00:00:00\", \"2021-05-26T00:00:00\", \"2021-06-09T00:00:00\", \"2021-06-17T00:00:00\", \"2021-06-30T00:00:00\", \"2021-07-07T00:00:00\", \"2021-07-14T00:00:00\", \"2021-07-21T00:00:00\", \"2021-07-28T00:00:00\", \"2021-07-31T00:00:00\", \"2021-08-01T00:00:00\", \"2021-08-03T00:00:00\", \"2021-08-06T00:00:00\", \"2021-08-12T00:00:00\", \"2021-08-13T00:00:00\", \"2021-08-17T00:00:00\", \"2021-08-18T00:00:00\", \"2021-08-21T00:00:00\", \"2021-08-23T00:00:00\", \"2021-08-25T00:00:00\", \"2021-08-26T00:00:00\", \"2021-09-01T00:00:00\"], \"xaxis\": \"x\", \"y\": [0.0, 0.0, 0.0, 3.0, 7.0, 13.0, 17.0, 17.0, 25.0, 27.0, 27.0, 29.0, 35.0, 43.0, 48.0, 48.0, 48.0, 48.0, 48.0, 49.0, 50.0, 50.0, 50.0, 50.0, 50.0, 50.0, 51.0, 51.0, 52.0], \"yaxis\": \"y\"}, {\"hovertemplate\": \"Variante detectada=N.4<br>fecha_resultado_secuenciacion_genotipificacion=%{x}<br>value=%{y}<extra></extra>\", \"legendgroup\": \"N.4\", \"line\": {\"color\": \"#B6E880\", \"dash\": \"solid\"}, \"mode\": \"lines\", \"name\": \"N.4\", \"orientation\": \"v\", \"showlegend\": true, \"type\": \"scatter\", \"x\": [\"2021-03-21T00:00:00\", \"2021-04-05T00:00:00\", \"2021-04-08T00:00:00\", \"2021-04-19T00:00:00\", \"2021-05-05T00:00:00\", \"2021-05-14T00:00:00\", \"2021-05-19T00:00:00\", \"2021-05-24T00:00:00\", \"2021-05-26T00:00:00\", \"2021-06-09T00:00:00\", \"2021-06-17T00:00:00\", \"2021-06-30T00:00:00\", \"2021-07-07T00:00:00\", \"2021-07-14T00:00:00\", \"2021-07-21T00:00:00\", \"2021-07-28T00:00:00\", \"2021-07-31T00:00:00\", \"2021-08-01T00:00:00\", \"2021-08-03T00:00:00\", \"2021-08-06T00:00:00\", \"2021-08-12T00:00:00\", \"2021-08-13T00:00:00\", \"2021-08-17T00:00:00\", \"2021-08-18T00:00:00\", \"2021-08-21T00:00:00\", \"2021-08-23T00:00:00\", \"2021-08-25T00:00:00\", \"2021-08-26T00:00:00\", \"2021-09-01T00:00:00\"], \"xaxis\": \"x\", \"y\": [1.0, 1.0, 1.0, 1.0, 1.0, 1.0, 1.0, 1.0, 1.0, 1.0, 1.0, 1.0, 1.0, 1.0, 1.0, 1.0, 1.0, 1.0, 1.0, 1.0, 1.0, 1.0, 1.0, 1.0, 1.0, 1.0, 1.0, 1.0, 1.0], \"yaxis\": \"y\"}, {\"hovertemplate\": \"Variante detectada=No amplifica<br>fecha_resultado_secuenciacion_genotipificacion=%{x}<br>value=%{y}<extra></extra>\", \"legendgroup\": \"No amplifica\", \"line\": {\"color\": \"#FF97FF\", \"dash\": \"solid\"}, \"mode\": \"lines\", \"name\": \"No amplifica\", \"orientation\": \"v\", \"showlegend\": true, \"type\": \"scatter\", \"x\": [\"2021-03-21T00:00:00\", \"2021-04-05T00:00:00\", \"2021-04-08T00:00:00\", \"2021-04-19T00:00:00\", \"2021-05-05T00:00:00\", \"2021-05-14T00:00:00\", \"2021-05-19T00:00:00\", \"2021-05-24T00:00:00\", \"2021-05-26T00:00:00\", \"2021-06-09T00:00:00\", \"2021-06-17T00:00:00\", \"2021-06-30T00:00:00\", \"2021-07-07T00:00:00\", \"2021-07-14T00:00:00\", \"2021-07-21T00:00:00\", \"2021-07-28T00:00:00\", \"2021-07-31T00:00:00\", \"2021-08-01T00:00:00\", \"2021-08-03T00:00:00\", \"2021-08-06T00:00:00\", \"2021-08-12T00:00:00\", \"2021-08-13T00:00:00\", \"2021-08-17T00:00:00\", \"2021-08-18T00:00:00\", \"2021-08-21T00:00:00\", \"2021-08-23T00:00:00\", \"2021-08-25T00:00:00\", \"2021-08-26T00:00:00\", \"2021-09-01T00:00:00\"], \"xaxis\": \"x\", \"y\": [0.0, 0.0, 1.0, 1.0, 1.0, 1.0, 1.0, 2.0, 2.0, 2.0, 3.0, 5.0, 10.0, 16.0, 27.0, 27.0, 27.0, 28.0, 28.0, 29.0, 29.0, 29.0, 29.0, 29.0, 29.0, 29.0, 32.0, 32.0, 33.0], \"yaxis\": \"y\"}, {\"hovertemplate\": \"Variante detectada=VOI no detectadas<br>fecha_resultado_secuenciacion_genotipificacion=%{x}<br>value=%{y}<extra></extra>\", \"legendgroup\": \"VOI no detectadas\", \"line\": {\"color\": \"#FECB52\", \"dash\": \"solid\"}, \"mode\": \"lines\", \"name\": \"VOI no detectadas\", \"orientation\": \"v\", \"showlegend\": true, \"type\": \"scatter\", \"x\": [\"2021-03-21T00:00:00\", \"2021-04-05T00:00:00\", \"2021-04-08T00:00:00\", \"2021-04-19T00:00:00\", \"2021-05-05T00:00:00\", \"2021-05-14T00:00:00\", \"2021-05-19T00:00:00\", \"2021-05-24T00:00:00\", \"2021-05-26T00:00:00\", \"2021-06-09T00:00:00\", \"2021-06-17T00:00:00\", \"2021-06-30T00:00:00\", \"2021-07-07T00:00:00\", \"2021-07-14T00:00:00\", \"2021-07-21T00:00:00\", \"2021-07-28T00:00:00\", \"2021-07-31T00:00:00\", \"2021-08-01T00:00:00\", \"2021-08-03T00:00:00\", \"2021-08-06T00:00:00\", \"2021-08-12T00:00:00\", \"2021-08-13T00:00:00\", \"2021-08-17T00:00:00\", \"2021-08-18T00:00:00\", \"2021-08-21T00:00:00\", \"2021-08-23T00:00:00\", \"2021-08-25T00:00:00\", \"2021-08-26T00:00:00\", \"2021-09-01T00:00:00\"], \"xaxis\": \"x\", \"y\": [0.0, 0.0, 0.0, 0.0, 0.0, 0.0, 0.0, 0.0, 0.0, 0.0, 0.0, 0.0, 0.0, 0.0, 0.0, 0.0, 0.0, 0.0, 0.0, 0.0, 0.0, 0.0, 0.0, 1.0, 1.0, 1.0, 1.0, 1.0, 1.0], \"yaxis\": \"y\"}],                        {\"legend\": {\"title\": {\"text\": \"Variante detectada\"}, \"tracegroupgap\": 0}, \"margin\": {\"t\": 60}, \"template\": {\"data\": {\"bar\": [{\"error_x\": {\"color\": \"rgb(36,36,36)\"}, \"error_y\": {\"color\": \"rgb(36,36,36)\"}, \"marker\": {\"line\": {\"color\": \"white\", \"width\": 0.5}}, \"type\": \"bar\"}], \"barpolar\": [{\"marker\": {\"line\": {\"color\": \"white\", \"width\": 0.5}}, \"type\": \"barpolar\"}], \"carpet\": [{\"aaxis\": {\"endlinecolor\": \"rgb(36,36,36)\", \"gridcolor\": \"white\", \"linecolor\": \"white\", \"minorgridcolor\": \"white\", \"startlinecolor\": \"rgb(36,36,36)\"}, \"baxis\": {\"endlinecolor\": \"rgb(36,36,36)\", \"gridcolor\": \"white\", \"linecolor\": \"white\", \"minorgridcolor\": \"white\", \"startlinecolor\": \"rgb(36,36,36)\"}, \"type\": \"carpet\"}], \"choropleth\": [{\"colorbar\": {\"outlinewidth\": 1, \"tickcolor\": \"rgb(36,36,36)\", \"ticks\": \"outside\"}, \"type\": \"choropleth\"}], \"contour\": [{\"colorbar\": {\"outlinewidth\": 1, \"tickcolor\": \"rgb(36,36,36)\", \"ticks\": \"outside\"}, \"colorscale\": [[0.0, \"#440154\"], [0.1111111111111111, \"#482878\"], [0.2222222222222222, \"#3e4989\"], [0.3333333333333333, \"#31688e\"], [0.4444444444444444, \"#26828e\"], [0.5555555555555556, \"#1f9e89\"], [0.6666666666666666, \"#35b779\"], [0.7777777777777778, \"#6ece58\"], [0.8888888888888888, \"#b5de2b\"], [1.0, \"#fde725\"]], \"type\": \"contour\"}], \"contourcarpet\": [{\"colorbar\": {\"outlinewidth\": 1, \"tickcolor\": \"rgb(36,36,36)\", \"ticks\": \"outside\"}, \"type\": \"contourcarpet\"}], \"heatmap\": [{\"colorbar\": {\"outlinewidth\": 1, \"tickcolor\": \"rgb(36,36,36)\", \"ticks\": \"outside\"}, \"colorscale\": [[0.0, \"#440154\"], [0.1111111111111111, \"#482878\"], [0.2222222222222222, \"#3e4989\"], [0.3333333333333333, \"#31688e\"], [0.4444444444444444, \"#26828e\"], [0.5555555555555556, \"#1f9e89\"], [0.6666666666666666, \"#35b779\"], [0.7777777777777778, \"#6ece58\"], [0.8888888888888888, \"#b5de2b\"], [1.0, \"#fde725\"]], \"type\": \"heatmap\"}], \"heatmapgl\": [{\"colorbar\": {\"outlinewidth\": 1, \"tickcolor\": \"rgb(36,36,36)\", \"ticks\": \"outside\"}, \"colorscale\": [[0.0, \"#440154\"], [0.1111111111111111, \"#482878\"], [0.2222222222222222, \"#3e4989\"], [0.3333333333333333, \"#31688e\"], [0.4444444444444444, \"#26828e\"], [0.5555555555555556, \"#1f9e89\"], [0.6666666666666666, \"#35b779\"], [0.7777777777777778, \"#6ece58\"], [0.8888888888888888, \"#b5de2b\"], [1.0, \"#fde725\"]], \"type\": \"heatmapgl\"}], \"histogram\": [{\"marker\": {\"line\": {\"color\": \"white\", \"width\": 0.6}}, \"type\": \"histogram\"}], \"histogram2d\": [{\"colorbar\": {\"outlinewidth\": 1, \"tickcolor\": \"rgb(36,36,36)\", \"ticks\": \"outside\"}, \"colorscale\": [[0.0, \"#440154\"], [0.1111111111111111, \"#482878\"], [0.2222222222222222, \"#3e4989\"], [0.3333333333333333, \"#31688e\"], [0.4444444444444444, \"#26828e\"], [0.5555555555555556, \"#1f9e89\"], [0.6666666666666666, \"#35b779\"], [0.7777777777777778, \"#6ece58\"], [0.8888888888888888, \"#b5de2b\"], [1.0, \"#fde725\"]], \"type\": \"histogram2d\"}], \"histogram2dcontour\": [{\"colorbar\": {\"outlinewidth\": 1, \"tickcolor\": \"rgb(36,36,36)\", \"ticks\": \"outside\"}, \"colorscale\": [[0.0, \"#440154\"], [0.1111111111111111, \"#482878\"], [0.2222222222222222, \"#3e4989\"], [0.3333333333333333, \"#31688e\"], [0.4444444444444444, \"#26828e\"], [0.5555555555555556, \"#1f9e89\"], [0.6666666666666666, \"#35b779\"], [0.7777777777777778, \"#6ece58\"], [0.8888888888888888, \"#b5de2b\"], [1.0, \"#fde725\"]], \"type\": \"histogram2dcontour\"}], \"mesh3d\": [{\"colorbar\": {\"outlinewidth\": 1, \"tickcolor\": \"rgb(36,36,36)\", \"ticks\": \"outside\"}, \"type\": \"mesh3d\"}], \"parcoords\": [{\"line\": {\"colorbar\": {\"outlinewidth\": 1, \"tickcolor\": \"rgb(36,36,36)\", \"ticks\": \"outside\"}}, \"type\": \"parcoords\"}], \"pie\": [{\"automargin\": true, \"type\": \"pie\"}], \"scatter\": [{\"marker\": {\"colorbar\": {\"outlinewidth\": 1, \"tickcolor\": \"rgb(36,36,36)\", \"ticks\": \"outside\"}}, \"type\": \"scatter\"}], \"scatter3d\": [{\"line\": {\"colorbar\": {\"outlinewidth\": 1, \"tickcolor\": \"rgb(36,36,36)\", \"ticks\": \"outside\"}}, \"marker\": {\"colorbar\": {\"outlinewidth\": 1, \"tickcolor\": \"rgb(36,36,36)\", \"ticks\": \"outside\"}}, \"type\": \"scatter3d\"}], \"scattercarpet\": [{\"marker\": {\"colorbar\": {\"outlinewidth\": 1, \"tickcolor\": \"rgb(36,36,36)\", \"ticks\": \"outside\"}}, \"type\": \"scattercarpet\"}], \"scattergeo\": [{\"marker\": {\"colorbar\": {\"outlinewidth\": 1, \"tickcolor\": \"rgb(36,36,36)\", \"ticks\": \"outside\"}}, \"type\": \"scattergeo\"}], \"scattergl\": [{\"marker\": {\"colorbar\": {\"outlinewidth\": 1, \"tickcolor\": \"rgb(36,36,36)\", \"ticks\": \"outside\"}}, \"type\": \"scattergl\"}], \"scattermapbox\": [{\"marker\": {\"colorbar\": {\"outlinewidth\": 1, \"tickcolor\": \"rgb(36,36,36)\", \"ticks\": \"outside\"}}, \"type\": \"scattermapbox\"}], \"scatterpolar\": [{\"marker\": {\"colorbar\": {\"outlinewidth\": 1, \"tickcolor\": \"rgb(36,36,36)\", \"ticks\": \"outside\"}}, \"type\": \"scatterpolar\"}], \"scatterpolargl\": [{\"marker\": {\"colorbar\": {\"outlinewidth\": 1, \"tickcolor\": \"rgb(36,36,36)\", \"ticks\": \"outside\"}}, \"type\": \"scatterpolargl\"}], \"scatterternary\": [{\"marker\": {\"colorbar\": {\"outlinewidth\": 1, \"tickcolor\": \"rgb(36,36,36)\", \"ticks\": \"outside\"}}, \"type\": \"scatterternary\"}], \"surface\": [{\"colorbar\": {\"outlinewidth\": 1, \"tickcolor\": \"rgb(36,36,36)\", \"ticks\": \"outside\"}, \"colorscale\": [[0.0, \"#440154\"], [0.1111111111111111, \"#482878\"], [0.2222222222222222, \"#3e4989\"], [0.3333333333333333, \"#31688e\"], [0.4444444444444444, \"#26828e\"], [0.5555555555555556, \"#1f9e89\"], [0.6666666666666666, \"#35b779\"], [0.7777777777777778, \"#6ece58\"], [0.8888888888888888, \"#b5de2b\"], [1.0, \"#fde725\"]], \"type\": \"surface\"}], \"table\": [{\"cells\": {\"fill\": {\"color\": \"rgb(237,237,237)\"}, \"line\": {\"color\": \"white\"}}, \"header\": {\"fill\": {\"color\": \"rgb(217,217,217)\"}, \"line\": {\"color\": \"white\"}}, \"type\": \"table\"}]}, \"layout\": {\"annotationdefaults\": {\"arrowhead\": 0, \"arrowwidth\": 1}, \"autotypenumbers\": \"strict\", \"coloraxis\": {\"colorbar\": {\"outlinewidth\": 1, \"tickcolor\": \"rgb(36,36,36)\", \"ticks\": \"outside\"}}, \"colorscale\": {\"diverging\": [[0.0, \"rgb(103,0,31)\"], [0.1, \"rgb(178,24,43)\"], [0.2, \"rgb(214,96,77)\"], [0.3, \"rgb(244,165,130)\"], [0.4, \"rgb(253,219,199)\"], [0.5, \"rgb(247,247,247)\"], [0.6, \"rgb(209,229,240)\"], [0.7, \"rgb(146,197,222)\"], [0.8, \"rgb(67,147,195)\"], [0.9, \"rgb(33,102,172)\"], [1.0, \"rgb(5,48,97)\"]], \"sequential\": [[0.0, \"#440154\"], [0.1111111111111111, \"#482878\"], [0.2222222222222222, \"#3e4989\"], [0.3333333333333333, \"#31688e\"], [0.4444444444444444, \"#26828e\"], [0.5555555555555556, \"#1f9e89\"], [0.6666666666666666, \"#35b779\"], [0.7777777777777778, \"#6ece58\"], [0.8888888888888888, \"#b5de2b\"], [1.0, \"#fde725\"]], \"sequentialminus\": [[0.0, \"#440154\"], [0.1111111111111111, \"#482878\"], [0.2222222222222222, \"#3e4989\"], [0.3333333333333333, \"#31688e\"], [0.4444444444444444, \"#26828e\"], [0.5555555555555556, \"#1f9e89\"], [0.6666666666666666, \"#35b779\"], [0.7777777777777778, \"#6ece58\"], [0.8888888888888888, \"#b5de2b\"], [1.0, \"#fde725\"]]}, \"colorway\": [\"#1F77B4\", \"#FF7F0E\", \"#2CA02C\", \"#D62728\", \"#9467BD\", \"#8C564B\", \"#E377C2\", \"#7F7F7F\", \"#BCBD22\", \"#17BECF\"], \"font\": {\"color\": \"rgb(36,36,36)\"}, \"geo\": {\"bgcolor\": \"white\", \"lakecolor\": \"white\", \"landcolor\": \"white\", \"showlakes\": true, \"showland\": true, \"subunitcolor\": \"white\"}, \"hoverlabel\": {\"align\": \"left\"}, \"hovermode\": \"closest\", \"mapbox\": {\"style\": \"light\"}, \"paper_bgcolor\": \"white\", \"plot_bgcolor\": \"white\", \"polar\": {\"angularaxis\": {\"gridcolor\": \"rgb(232,232,232)\", \"linecolor\": \"rgb(36,36,36)\", \"showgrid\": false, \"showline\": true, \"ticks\": \"outside\"}, \"bgcolor\": \"white\", \"radialaxis\": {\"gridcolor\": \"rgb(232,232,232)\", \"linecolor\": \"rgb(36,36,36)\", \"showgrid\": false, \"showline\": true, \"ticks\": \"outside\"}}, \"scene\": {\"xaxis\": {\"backgroundcolor\": \"white\", \"gridcolor\": \"rgb(232,232,232)\", \"gridwidth\": 2, \"linecolor\": \"rgb(36,36,36)\", \"showbackground\": true, \"showgrid\": false, \"showline\": true, \"ticks\": \"outside\", \"zeroline\": false, \"zerolinecolor\": \"rgb(36,36,36)\"}, \"yaxis\": {\"backgroundcolor\": \"white\", \"gridcolor\": \"rgb(232,232,232)\", \"gridwidth\": 2, \"linecolor\": \"rgb(36,36,36)\", \"showbackground\": true, \"showgrid\": false, \"showline\": true, \"ticks\": \"outside\", \"zeroline\": false, \"zerolinecolor\": \"rgb(36,36,36)\"}, \"zaxis\": {\"backgroundcolor\": \"white\", \"gridcolor\": \"rgb(232,232,232)\", \"gridwidth\": 2, \"linecolor\": \"rgb(36,36,36)\", \"showbackground\": true, \"showgrid\": false, \"showline\": true, \"ticks\": \"outside\", \"zeroline\": false, \"zerolinecolor\": \"rgb(36,36,36)\"}}, \"shapedefaults\": {\"fillcolor\": \"black\", \"line\": {\"width\": 0}, \"opacity\": 0.3}, \"ternary\": {\"aaxis\": {\"gridcolor\": \"rgb(232,232,232)\", \"linecolor\": \"rgb(36,36,36)\", \"showgrid\": false, \"showline\": true, \"ticks\": \"outside\"}, \"baxis\": {\"gridcolor\": \"rgb(232,232,232)\", \"linecolor\": \"rgb(36,36,36)\", \"showgrid\": false, \"showline\": true, \"ticks\": \"outside\"}, \"bgcolor\": \"white\", \"caxis\": {\"gridcolor\": \"rgb(232,232,232)\", \"linecolor\": \"rgb(36,36,36)\", \"showgrid\": false, \"showline\": true, \"ticks\": \"outside\"}}, \"title\": {\"x\": 0.05}, \"xaxis\": {\"automargin\": true, \"gridcolor\": \"rgb(232,232,232)\", \"linecolor\": \"rgb(36,36,36)\", \"showgrid\": false, \"showline\": true, \"ticks\": \"outside\", \"title\": {\"standoff\": 15}, \"zeroline\": false, \"zerolinecolor\": \"rgb(36,36,36)\"}, \"yaxis\": {\"automargin\": true, \"gridcolor\": \"rgb(232,232,232)\", \"linecolor\": \"rgb(36,36,36)\", \"showgrid\": false, \"showline\": true, \"ticks\": \"outside\", \"title\": {\"standoff\": 15}, \"zeroline\": false, \"zerolinecolor\": \"rgb(36,36,36)\"}}}, \"title\": {\"text\": \"Variantes detectadas en la Regi\\u00f3n de Ays\\u00e9n\"}, \"xaxis\": {\"anchor\": \"y\", \"domain\": [0.0, 1.0], \"title\": {\"text\": \"Fecha de resultado de Secuenciaci\\u00f3n o Genotipificaci\\u00f3n\"}}, \"yaxis\": {\"anchor\": \"x\", \"domain\": [0.0, 1.0], \"title\": {\"text\": \"No. de casos identificados por variante\"}}},                        {\"responsive\": true}                    ).then(function(){\n",
       "                            \n",
       "var gd = document.getElementById('dc422dc9-d4f4-44d4-be01-724522316b24');\n",
       "var x = new MutationObserver(function (mutations, observer) {{\n",
       "        var display = window.getComputedStyle(gd).display;\n",
       "        if (!display || display === 'none') {{\n",
       "            console.log([gd, 'removed!']);\n",
       "            Plotly.purge(gd);\n",
       "            observer.disconnect();\n",
       "        }}\n",
       "}});\n",
       "\n",
       "// Listen for the removal of the full notebook cells\n",
       "var notebookContainer = gd.closest('#notebook-container');\n",
       "if (notebookContainer) {{\n",
       "    x.observe(notebookContainer, {childList: true});\n",
       "}}\n",
       "\n",
       "// Listen for the clearing of the current output cell\n",
       "var outputEl = gd.closest('.output');\n",
       "if (outputEl) {{\n",
       "    x.observe(outputEl, {childList: true});\n",
       "}}\n",
       "\n",
       "                        })                };                });            </script>        </div>"
      ]
     },
     "metadata": {},
     "output_type": "display_data"
    }
   ],
   "source": [
    "px.line(df_variantes_clean.groupby(['fecha_resultado_secuenciacion_genotipificacion', 'variante_linaje']).count()[['n_documento']].reset_index().pivot(\n",
    "    index='fecha_resultado_secuenciacion_genotipificacion',\n",
    "    columns='variante_linaje', \n",
    "    values=['n_documento']\n",
    ").fillna(0).cumsum().clean_names().rename(\n",
    "    columns={\n",
    "        'alfa':'Alfa',\n",
    "        'b_1':'B.1',\n",
    "        'b_1_1':'B.1.1',\n",
    "        'b_1_1_348':'B.1.1.348',\n",
    "        'gamma':'Gamma',\n",
    "        'indeterminado':'Indeterminado',\n",
    "        'lambda':'Lambda',\n",
    "        'n_4':'N.4',\n",
    "        'no_amplifica':'No amplifica',\n",
    "        'no_se_detectan_mutaciones_para_variantes_de_interes_por_parte_de_este_kit':'VOI no detectadas'\n",
    "            })['n_documento'],\n",
    "        labels={'variante_linaje':'Variante detectada'},\n",
    "       ).update_layout(\n",
    "    title= 'Variantes detectadas en la Región de Aysén',\n",
    "    yaxis_title='No. de casos identificados por variante',\n",
    "    xaxis_title='Fecha de resultado de Secuenciación o Genotipificación',\n",
    "    template='simple_white',\n",
    "    \n",
    "    \n",
    ")\n"
   ]
  },
  {
   "cell_type": "code",
   "execution_count": 128,
   "id": "2b369d1d",
   "metadata": {},
   "outputs": [
    {
     "data": {
      "application/vnd.plotly.v1+json": {
       "config": {
        "plotlyServerURL": "https://plot.ly"
       },
       "data": [
        {
         "hovertemplate": "Variante detectada=Alfa<br>fecha_resultado_secuenciacion_genotipificacion=%{x}<br>value=%{y}<extra></extra>",
         "legendgroup": "Alfa",
         "line": {
          "color": "#636efa",
          "dash": "solid"
         },
         "mode": "lines",
         "name": "Alfa",
         "orientation": "v",
         "showlegend": true,
         "type": "scatter",
         "x": [
          "2021-03-21T00:00:00",
          "2021-04-05T00:00:00",
          "2021-04-08T00:00:00",
          "2021-04-19T00:00:00",
          "2021-05-05T00:00:00",
          "2021-05-14T00:00:00",
          "2021-05-19T00:00:00",
          "2021-05-24T00:00:00",
          "2021-05-26T00:00:00",
          "2021-06-09T00:00:00",
          "2021-06-17T00:00:00",
          "2021-06-30T00:00:00",
          "2021-07-07T00:00:00",
          "2021-07-14T00:00:00",
          "2021-07-21T00:00:00",
          "2021-07-28T00:00:00",
          "2021-07-31T00:00:00",
          "2021-08-01T00:00:00",
          "2021-08-03T00:00:00",
          "2021-08-06T00:00:00",
          "2021-08-12T00:00:00",
          "2021-08-13T00:00:00",
          "2021-08-17T00:00:00",
          "2021-08-18T00:00:00",
          "2021-08-21T00:00:00",
          "2021-08-23T00:00:00",
          "2021-08-25T00:00:00",
          "2021-08-26T00:00:00",
          "2021-09-01T00:00:00",
          "2021-09-06T00:00:00",
          "2021-09-07T00:00:00"
         ],
         "xaxis": "x",
         "y": [
          0,
          0,
          0,
          0,
          0,
          0,
          0,
          0,
          1,
          1,
          1,
          1,
          1,
          1,
          1,
          1,
          1,
          1,
          1,
          1,
          1,
          1,
          1,
          1,
          1,
          1,
          1,
          1,
          1,
          1,
          1
         ],
         "yaxis": "y"
        },
        {
         "hovertemplate": "Variante detectada=B.1<br>fecha_resultado_secuenciacion_genotipificacion=%{x}<br>value=%{y}<extra></extra>",
         "legendgroup": "B.1",
         "line": {
          "color": "#EF553B",
          "dash": "solid"
         },
         "mode": "lines",
         "name": "B.1",
         "orientation": "v",
         "showlegend": true,
         "type": "scatter",
         "x": [
          "2021-03-21T00:00:00",
          "2021-04-05T00:00:00",
          "2021-04-08T00:00:00",
          "2021-04-19T00:00:00",
          "2021-05-05T00:00:00",
          "2021-05-14T00:00:00",
          "2021-05-19T00:00:00",
          "2021-05-24T00:00:00",
          "2021-05-26T00:00:00",
          "2021-06-09T00:00:00",
          "2021-06-17T00:00:00",
          "2021-06-30T00:00:00",
          "2021-07-07T00:00:00",
          "2021-07-14T00:00:00",
          "2021-07-21T00:00:00",
          "2021-07-28T00:00:00",
          "2021-07-31T00:00:00",
          "2021-08-01T00:00:00",
          "2021-08-03T00:00:00",
          "2021-08-06T00:00:00",
          "2021-08-12T00:00:00",
          "2021-08-13T00:00:00",
          "2021-08-17T00:00:00",
          "2021-08-18T00:00:00",
          "2021-08-21T00:00:00",
          "2021-08-23T00:00:00",
          "2021-08-25T00:00:00",
          "2021-08-26T00:00:00",
          "2021-09-01T00:00:00",
          "2021-09-06T00:00:00",
          "2021-09-07T00:00:00"
         ],
         "xaxis": "x",
         "y": [
          0,
          0,
          0,
          0,
          0,
          0,
          0,
          0,
          0,
          1,
          1,
          1,
          1,
          1,
          1,
          1,
          1,
          1,
          1,
          1,
          1,
          1,
          1,
          1,
          1,
          1,
          1,
          1,
          1,
          1,
          1
         ],
         "yaxis": "y"
        },
        {
         "hovertemplate": "Variante detectada=B.1.1<br>fecha_resultado_secuenciacion_genotipificacion=%{x}<br>value=%{y}<extra></extra>",
         "legendgroup": "B.1.1",
         "line": {
          "color": "#00cc96",
          "dash": "solid"
         },
         "mode": "lines",
         "name": "B.1.1",
         "orientation": "v",
         "showlegend": true,
         "type": "scatter",
         "x": [
          "2021-03-21T00:00:00",
          "2021-04-05T00:00:00",
          "2021-04-08T00:00:00",
          "2021-04-19T00:00:00",
          "2021-05-05T00:00:00",
          "2021-05-14T00:00:00",
          "2021-05-19T00:00:00",
          "2021-05-24T00:00:00",
          "2021-05-26T00:00:00",
          "2021-06-09T00:00:00",
          "2021-06-17T00:00:00",
          "2021-06-30T00:00:00",
          "2021-07-07T00:00:00",
          "2021-07-14T00:00:00",
          "2021-07-21T00:00:00",
          "2021-07-28T00:00:00",
          "2021-07-31T00:00:00",
          "2021-08-01T00:00:00",
          "2021-08-03T00:00:00",
          "2021-08-06T00:00:00",
          "2021-08-12T00:00:00",
          "2021-08-13T00:00:00",
          "2021-08-17T00:00:00",
          "2021-08-18T00:00:00",
          "2021-08-21T00:00:00",
          "2021-08-23T00:00:00",
          "2021-08-25T00:00:00",
          "2021-08-26T00:00:00",
          "2021-09-01T00:00:00",
          "2021-09-06T00:00:00",
          "2021-09-07T00:00:00"
         ],
         "xaxis": "x",
         "y": [
          0,
          1,
          1,
          2,
          2,
          2,
          2,
          2,
          4,
          5,
          5,
          5,
          5,
          5,
          5,
          5,
          5,
          5,
          5,
          5,
          5,
          5,
          5,
          5,
          5,
          5,
          5,
          5,
          5,
          5,
          5
         ],
         "yaxis": "y"
        },
        {
         "hovertemplate": "Variante detectada=B.1.1.348<br>fecha_resultado_secuenciacion_genotipificacion=%{x}<br>value=%{y}<extra></extra>",
         "legendgroup": "B.1.1.348",
         "line": {
          "color": "#ab63fa",
          "dash": "solid"
         },
         "mode": "lines",
         "name": "B.1.1.348",
         "orientation": "v",
         "showlegend": true,
         "type": "scatter",
         "x": [
          "2021-03-21T00:00:00",
          "2021-04-05T00:00:00",
          "2021-04-08T00:00:00",
          "2021-04-19T00:00:00",
          "2021-05-05T00:00:00",
          "2021-05-14T00:00:00",
          "2021-05-19T00:00:00",
          "2021-05-24T00:00:00",
          "2021-05-26T00:00:00",
          "2021-06-09T00:00:00",
          "2021-06-17T00:00:00",
          "2021-06-30T00:00:00",
          "2021-07-07T00:00:00",
          "2021-07-14T00:00:00",
          "2021-07-21T00:00:00",
          "2021-07-28T00:00:00",
          "2021-07-31T00:00:00",
          "2021-08-01T00:00:00",
          "2021-08-03T00:00:00",
          "2021-08-06T00:00:00",
          "2021-08-12T00:00:00",
          "2021-08-13T00:00:00",
          "2021-08-17T00:00:00",
          "2021-08-18T00:00:00",
          "2021-08-21T00:00:00",
          "2021-08-23T00:00:00",
          "2021-08-25T00:00:00",
          "2021-08-26T00:00:00",
          "2021-09-01T00:00:00",
          "2021-09-06T00:00:00",
          "2021-09-07T00:00:00"
         ],
         "xaxis": "x",
         "y": [
          1,
          2,
          2,
          2,
          2,
          2,
          2,
          2,
          2,
          2,
          2,
          2,
          2,
          2,
          2,
          2,
          2,
          2,
          2,
          2,
          2,
          2,
          2,
          2,
          2,
          2,
          2,
          2,
          2,
          2,
          2
         ],
         "yaxis": "y"
        },
        {
         "hovertemplate": "Variante detectada=Delta<br>fecha_resultado_secuenciacion_genotipificacion=%{x}<br>value=%{y}<extra></extra>",
         "legendgroup": "Delta",
         "line": {
          "color": "#FFA15A",
          "dash": "solid"
         },
         "mode": "lines",
         "name": "Delta",
         "orientation": "v",
         "showlegend": true,
         "type": "scatter",
         "x": [
          "2021-03-21T00:00:00",
          "2021-04-05T00:00:00",
          "2021-04-08T00:00:00",
          "2021-04-19T00:00:00",
          "2021-05-05T00:00:00",
          "2021-05-14T00:00:00",
          "2021-05-19T00:00:00",
          "2021-05-24T00:00:00",
          "2021-05-26T00:00:00",
          "2021-06-09T00:00:00",
          "2021-06-17T00:00:00",
          "2021-06-30T00:00:00",
          "2021-07-07T00:00:00",
          "2021-07-14T00:00:00",
          "2021-07-21T00:00:00",
          "2021-07-28T00:00:00",
          "2021-07-31T00:00:00",
          "2021-08-01T00:00:00",
          "2021-08-03T00:00:00",
          "2021-08-06T00:00:00",
          "2021-08-12T00:00:00",
          "2021-08-13T00:00:00",
          "2021-08-17T00:00:00",
          "2021-08-18T00:00:00",
          "2021-08-21T00:00:00",
          "2021-08-23T00:00:00",
          "2021-08-25T00:00:00",
          "2021-08-26T00:00:00",
          "2021-09-01T00:00:00",
          "2021-09-06T00:00:00",
          "2021-09-07T00:00:00"
         ],
         "xaxis": "x",
         "y": [
          0,
          0,
          0,
          0,
          0,
          0,
          0,
          0,
          0,
          0,
          0,
          0,
          0,
          0,
          0,
          0,
          0,
          0,
          0,
          0,
          0,
          0,
          0,
          0,
          0,
          0,
          0,
          0,
          0,
          14,
          15
         ],
         "yaxis": "y"
        },
        {
         "hovertemplate": "Variante detectada=Gamma<br>fecha_resultado_secuenciacion_genotipificacion=%{x}<br>value=%{y}<extra></extra>",
         "legendgroup": "Gamma",
         "line": {
          "color": "#19d3f3",
          "dash": "solid"
         },
         "mode": "lines",
         "name": "Gamma",
         "orientation": "v",
         "showlegend": true,
         "type": "scatter",
         "x": [
          "2021-03-21T00:00:00",
          "2021-04-05T00:00:00",
          "2021-04-08T00:00:00",
          "2021-04-19T00:00:00",
          "2021-05-05T00:00:00",
          "2021-05-14T00:00:00",
          "2021-05-19T00:00:00",
          "2021-05-24T00:00:00",
          "2021-05-26T00:00:00",
          "2021-06-09T00:00:00",
          "2021-06-17T00:00:00",
          "2021-06-30T00:00:00",
          "2021-07-07T00:00:00",
          "2021-07-14T00:00:00",
          "2021-07-21T00:00:00",
          "2021-07-28T00:00:00",
          "2021-07-31T00:00:00",
          "2021-08-01T00:00:00",
          "2021-08-03T00:00:00",
          "2021-08-06T00:00:00",
          "2021-08-12T00:00:00",
          "2021-08-13T00:00:00",
          "2021-08-17T00:00:00",
          "2021-08-18T00:00:00",
          "2021-08-21T00:00:00",
          "2021-08-23T00:00:00",
          "2021-08-25T00:00:00",
          "2021-08-26T00:00:00",
          "2021-09-01T00:00:00",
          "2021-09-06T00:00:00",
          "2021-09-07T00:00:00"
         ],
         "xaxis": "x",
         "y": [
          0,
          0,
          0,
          0,
          2,
          6,
          9,
          9,
          13,
          20,
          24,
          28,
          32,
          47,
          58,
          60,
          61,
          61,
          62,
          72,
          77,
          83,
          92,
          97,
          101,
          108,
          117,
          123,
          128,
          132,
          132
         ],
         "yaxis": "y"
        },
        {
         "hovertemplate": "Variante detectada=Indeterminado<br>fecha_resultado_secuenciacion_genotipificacion=%{x}<br>value=%{y}<extra></extra>",
         "legendgroup": "Indeterminado",
         "line": {
          "color": "#FF6692",
          "dash": "solid"
         },
         "mode": "lines",
         "name": "Indeterminado",
         "orientation": "v",
         "showlegend": true,
         "type": "scatter",
         "x": [
          "2021-03-21T00:00:00",
          "2021-04-05T00:00:00",
          "2021-04-08T00:00:00",
          "2021-04-19T00:00:00",
          "2021-05-05T00:00:00",
          "2021-05-14T00:00:00",
          "2021-05-19T00:00:00",
          "2021-05-24T00:00:00",
          "2021-05-26T00:00:00",
          "2021-06-09T00:00:00",
          "2021-06-17T00:00:00",
          "2021-06-30T00:00:00",
          "2021-07-07T00:00:00",
          "2021-07-14T00:00:00",
          "2021-07-21T00:00:00",
          "2021-07-28T00:00:00",
          "2021-07-31T00:00:00",
          "2021-08-01T00:00:00",
          "2021-08-03T00:00:00",
          "2021-08-06T00:00:00",
          "2021-08-12T00:00:00",
          "2021-08-13T00:00:00",
          "2021-08-17T00:00:00",
          "2021-08-18T00:00:00",
          "2021-08-21T00:00:00",
          "2021-08-23T00:00:00",
          "2021-08-25T00:00:00",
          "2021-08-26T00:00:00",
          "2021-09-01T00:00:00",
          "2021-09-06T00:00:00",
          "2021-09-07T00:00:00"
         ],
         "xaxis": "x",
         "y": [
          0,
          0,
          0,
          0,
          0,
          0,
          0,
          0,
          0,
          0,
          0,
          0,
          0,
          0,
          0,
          0,
          2,
          2,
          3,
          3,
          3,
          3,
          4,
          4,
          4,
          5,
          5,
          5,
          5,
          7,
          7
         ],
         "yaxis": "y"
        },
        {
         "hovertemplate": "Variante detectada=Lambda<br>fecha_resultado_secuenciacion_genotipificacion=%{x}<br>value=%{y}<extra></extra>",
         "legendgroup": "Lambda",
         "line": {
          "color": "#B6E880",
          "dash": "solid"
         },
         "mode": "lines",
         "name": "Lambda",
         "orientation": "v",
         "showlegend": true,
         "type": "scatter",
         "x": [
          "2021-03-21T00:00:00",
          "2021-04-05T00:00:00",
          "2021-04-08T00:00:00",
          "2021-04-19T00:00:00",
          "2021-05-05T00:00:00",
          "2021-05-14T00:00:00",
          "2021-05-19T00:00:00",
          "2021-05-24T00:00:00",
          "2021-05-26T00:00:00",
          "2021-06-09T00:00:00",
          "2021-06-17T00:00:00",
          "2021-06-30T00:00:00",
          "2021-07-07T00:00:00",
          "2021-07-14T00:00:00",
          "2021-07-21T00:00:00",
          "2021-07-28T00:00:00",
          "2021-07-31T00:00:00",
          "2021-08-01T00:00:00",
          "2021-08-03T00:00:00",
          "2021-08-06T00:00:00",
          "2021-08-12T00:00:00",
          "2021-08-13T00:00:00",
          "2021-08-17T00:00:00",
          "2021-08-18T00:00:00",
          "2021-08-21T00:00:00",
          "2021-08-23T00:00:00",
          "2021-08-25T00:00:00",
          "2021-08-26T00:00:00",
          "2021-09-01T00:00:00",
          "2021-09-06T00:00:00",
          "2021-09-07T00:00:00"
         ],
         "xaxis": "x",
         "y": [
          0,
          0,
          0,
          3,
          7,
          13,
          17,
          17,
          25,
          27,
          27,
          29,
          35,
          43,
          48,
          48,
          48,
          48,
          48,
          49,
          50,
          50,
          50,
          50,
          50,
          50,
          51,
          51,
          52,
          53,
          53
         ],
         "yaxis": "y"
        },
        {
         "hovertemplate": "Variante detectada=Mu<br>fecha_resultado_secuenciacion_genotipificacion=%{x}<br>value=%{y}<extra></extra>",
         "legendgroup": "Mu",
         "line": {
          "color": "#FF97FF",
          "dash": "solid"
         },
         "mode": "lines",
         "name": "Mu",
         "orientation": "v",
         "showlegend": true,
         "type": "scatter",
         "x": [
          "2021-03-21T00:00:00",
          "2021-04-05T00:00:00",
          "2021-04-08T00:00:00",
          "2021-04-19T00:00:00",
          "2021-05-05T00:00:00",
          "2021-05-14T00:00:00",
          "2021-05-19T00:00:00",
          "2021-05-24T00:00:00",
          "2021-05-26T00:00:00",
          "2021-06-09T00:00:00",
          "2021-06-17T00:00:00",
          "2021-06-30T00:00:00",
          "2021-07-07T00:00:00",
          "2021-07-14T00:00:00",
          "2021-07-21T00:00:00",
          "2021-07-28T00:00:00",
          "2021-07-31T00:00:00",
          "2021-08-01T00:00:00",
          "2021-08-03T00:00:00",
          "2021-08-06T00:00:00",
          "2021-08-12T00:00:00",
          "2021-08-13T00:00:00",
          "2021-08-17T00:00:00",
          "2021-08-18T00:00:00",
          "2021-08-21T00:00:00",
          "2021-08-23T00:00:00",
          "2021-08-25T00:00:00",
          "2021-08-26T00:00:00",
          "2021-09-01T00:00:00",
          "2021-09-06T00:00:00",
          "2021-09-07T00:00:00"
         ],
         "xaxis": "x",
         "y": [
          0,
          0,
          0,
          0,
          0,
          0,
          0,
          0,
          0,
          0,
          0,
          0,
          0,
          0,
          0,
          0,
          0,
          0,
          0,
          0,
          0,
          0,
          0,
          0,
          0,
          0,
          0,
          0,
          0,
          6,
          6
         ],
         "yaxis": "y"
        },
        {
         "hovertemplate": "Variante detectada=N.4<br>fecha_resultado_secuenciacion_genotipificacion=%{x}<br>value=%{y}<extra></extra>",
         "legendgroup": "N.4",
         "line": {
          "color": "#FECB52",
          "dash": "solid"
         },
         "mode": "lines",
         "name": "N.4",
         "orientation": "v",
         "showlegend": true,
         "type": "scatter",
         "x": [
          "2021-03-21T00:00:00",
          "2021-04-05T00:00:00",
          "2021-04-08T00:00:00",
          "2021-04-19T00:00:00",
          "2021-05-05T00:00:00",
          "2021-05-14T00:00:00",
          "2021-05-19T00:00:00",
          "2021-05-24T00:00:00",
          "2021-05-26T00:00:00",
          "2021-06-09T00:00:00",
          "2021-06-17T00:00:00",
          "2021-06-30T00:00:00",
          "2021-07-07T00:00:00",
          "2021-07-14T00:00:00",
          "2021-07-21T00:00:00",
          "2021-07-28T00:00:00",
          "2021-07-31T00:00:00",
          "2021-08-01T00:00:00",
          "2021-08-03T00:00:00",
          "2021-08-06T00:00:00",
          "2021-08-12T00:00:00",
          "2021-08-13T00:00:00",
          "2021-08-17T00:00:00",
          "2021-08-18T00:00:00",
          "2021-08-21T00:00:00",
          "2021-08-23T00:00:00",
          "2021-08-25T00:00:00",
          "2021-08-26T00:00:00",
          "2021-09-01T00:00:00",
          "2021-09-06T00:00:00",
          "2021-09-07T00:00:00"
         ],
         "xaxis": "x",
         "y": [
          1,
          1,
          1,
          1,
          1,
          1,
          1,
          1,
          1,
          1,
          1,
          1,
          1,
          1,
          1,
          1,
          1,
          1,
          1,
          1,
          1,
          1,
          1,
          1,
          1,
          1,
          1,
          1,
          1,
          1,
          1
         ],
         "yaxis": "y"
        },
        {
         "hovertemplate": "Variante detectada=No amplifica<br>fecha_resultado_secuenciacion_genotipificacion=%{x}<br>value=%{y}<extra></extra>",
         "legendgroup": "No amplifica",
         "line": {
          "color": "#636efa",
          "dash": "solid"
         },
         "mode": "lines",
         "name": "No amplifica",
         "orientation": "v",
         "showlegend": true,
         "type": "scatter",
         "x": [
          "2021-03-21T00:00:00",
          "2021-04-05T00:00:00",
          "2021-04-08T00:00:00",
          "2021-04-19T00:00:00",
          "2021-05-05T00:00:00",
          "2021-05-14T00:00:00",
          "2021-05-19T00:00:00",
          "2021-05-24T00:00:00",
          "2021-05-26T00:00:00",
          "2021-06-09T00:00:00",
          "2021-06-17T00:00:00",
          "2021-06-30T00:00:00",
          "2021-07-07T00:00:00",
          "2021-07-14T00:00:00",
          "2021-07-21T00:00:00",
          "2021-07-28T00:00:00",
          "2021-07-31T00:00:00",
          "2021-08-01T00:00:00",
          "2021-08-03T00:00:00",
          "2021-08-06T00:00:00",
          "2021-08-12T00:00:00",
          "2021-08-13T00:00:00",
          "2021-08-17T00:00:00",
          "2021-08-18T00:00:00",
          "2021-08-21T00:00:00",
          "2021-08-23T00:00:00",
          "2021-08-25T00:00:00",
          "2021-08-26T00:00:00",
          "2021-09-01T00:00:00",
          "2021-09-06T00:00:00",
          "2021-09-07T00:00:00"
         ],
         "xaxis": "x",
         "y": [
          0,
          0,
          1,
          1,
          1,
          1,
          1,
          2,
          2,
          2,
          3,
          5,
          10,
          16,
          27,
          27,
          27,
          28,
          28,
          29,
          29,
          29,
          29,
          29,
          29,
          29,
          32,
          32,
          33,
          33,
          33
         ],
         "yaxis": "y"
        },
        {
         "hovertemplate": "Variante detectada=VOI no detectadas<br>fecha_resultado_secuenciacion_genotipificacion=%{x}<br>value=%{y}<extra></extra>",
         "legendgroup": "VOI no detectadas",
         "line": {
          "color": "#EF553B",
          "dash": "solid"
         },
         "mode": "lines",
         "name": "VOI no detectadas",
         "orientation": "v",
         "showlegend": true,
         "type": "scatter",
         "x": [
          "2021-03-21T00:00:00",
          "2021-04-05T00:00:00",
          "2021-04-08T00:00:00",
          "2021-04-19T00:00:00",
          "2021-05-05T00:00:00",
          "2021-05-14T00:00:00",
          "2021-05-19T00:00:00",
          "2021-05-24T00:00:00",
          "2021-05-26T00:00:00",
          "2021-06-09T00:00:00",
          "2021-06-17T00:00:00",
          "2021-06-30T00:00:00",
          "2021-07-07T00:00:00",
          "2021-07-14T00:00:00",
          "2021-07-21T00:00:00",
          "2021-07-28T00:00:00",
          "2021-07-31T00:00:00",
          "2021-08-01T00:00:00",
          "2021-08-03T00:00:00",
          "2021-08-06T00:00:00",
          "2021-08-12T00:00:00",
          "2021-08-13T00:00:00",
          "2021-08-17T00:00:00",
          "2021-08-18T00:00:00",
          "2021-08-21T00:00:00",
          "2021-08-23T00:00:00",
          "2021-08-25T00:00:00",
          "2021-08-26T00:00:00",
          "2021-09-01T00:00:00",
          "2021-09-06T00:00:00",
          "2021-09-07T00:00:00"
         ],
         "xaxis": "x",
         "y": [
          0,
          0,
          0,
          0,
          0,
          0,
          0,
          0,
          0,
          0,
          0,
          0,
          0,
          0,
          0,
          0,
          0,
          0,
          0,
          0,
          0,
          0,
          0,
          1,
          1,
          1,
          1,
          1,
          1,
          6,
          6
         ],
         "yaxis": "y"
        }
       ],
       "layout": {
        "legend": {
         "title": {
          "text": "Variante detectada"
         },
         "tracegroupgap": 0
        },
        "margin": {
         "t": 60
        },
        "template": {
         "data": {
          "bar": [
           {
            "error_x": {
             "color": "rgb(36,36,36)"
            },
            "error_y": {
             "color": "rgb(36,36,36)"
            },
            "marker": {
             "line": {
              "color": "white",
              "width": 0.5
             }
            },
            "type": "bar"
           }
          ],
          "barpolar": [
           {
            "marker": {
             "line": {
              "color": "white",
              "width": 0.5
             }
            },
            "type": "barpolar"
           }
          ],
          "carpet": [
           {
            "aaxis": {
             "endlinecolor": "rgb(36,36,36)",
             "gridcolor": "white",
             "linecolor": "white",
             "minorgridcolor": "white",
             "startlinecolor": "rgb(36,36,36)"
            },
            "baxis": {
             "endlinecolor": "rgb(36,36,36)",
             "gridcolor": "white",
             "linecolor": "white",
             "minorgridcolor": "white",
             "startlinecolor": "rgb(36,36,36)"
            },
            "type": "carpet"
           }
          ],
          "choropleth": [
           {
            "colorbar": {
             "outlinewidth": 1,
             "tickcolor": "rgb(36,36,36)",
             "ticks": "outside"
            },
            "type": "choropleth"
           }
          ],
          "contour": [
           {
            "colorbar": {
             "outlinewidth": 1,
             "tickcolor": "rgb(36,36,36)",
             "ticks": "outside"
            },
            "colorscale": [
             [
              0,
              "#440154"
             ],
             [
              0.1111111111111111,
              "#482878"
             ],
             [
              0.2222222222222222,
              "#3e4989"
             ],
             [
              0.3333333333333333,
              "#31688e"
             ],
             [
              0.4444444444444444,
              "#26828e"
             ],
             [
              0.5555555555555556,
              "#1f9e89"
             ],
             [
              0.6666666666666666,
              "#35b779"
             ],
             [
              0.7777777777777778,
              "#6ece58"
             ],
             [
              0.8888888888888888,
              "#b5de2b"
             ],
             [
              1,
              "#fde725"
             ]
            ],
            "type": "contour"
           }
          ],
          "contourcarpet": [
           {
            "colorbar": {
             "outlinewidth": 1,
             "tickcolor": "rgb(36,36,36)",
             "ticks": "outside"
            },
            "type": "contourcarpet"
           }
          ],
          "heatmap": [
           {
            "colorbar": {
             "outlinewidth": 1,
             "tickcolor": "rgb(36,36,36)",
             "ticks": "outside"
            },
            "colorscale": [
             [
              0,
              "#440154"
             ],
             [
              0.1111111111111111,
              "#482878"
             ],
             [
              0.2222222222222222,
              "#3e4989"
             ],
             [
              0.3333333333333333,
              "#31688e"
             ],
             [
              0.4444444444444444,
              "#26828e"
             ],
             [
              0.5555555555555556,
              "#1f9e89"
             ],
             [
              0.6666666666666666,
              "#35b779"
             ],
             [
              0.7777777777777778,
              "#6ece58"
             ],
             [
              0.8888888888888888,
              "#b5de2b"
             ],
             [
              1,
              "#fde725"
             ]
            ],
            "type": "heatmap"
           }
          ],
          "heatmapgl": [
           {
            "colorbar": {
             "outlinewidth": 1,
             "tickcolor": "rgb(36,36,36)",
             "ticks": "outside"
            },
            "colorscale": [
             [
              0,
              "#440154"
             ],
             [
              0.1111111111111111,
              "#482878"
             ],
             [
              0.2222222222222222,
              "#3e4989"
             ],
             [
              0.3333333333333333,
              "#31688e"
             ],
             [
              0.4444444444444444,
              "#26828e"
             ],
             [
              0.5555555555555556,
              "#1f9e89"
             ],
             [
              0.6666666666666666,
              "#35b779"
             ],
             [
              0.7777777777777778,
              "#6ece58"
             ],
             [
              0.8888888888888888,
              "#b5de2b"
             ],
             [
              1,
              "#fde725"
             ]
            ],
            "type": "heatmapgl"
           }
          ],
          "histogram": [
           {
            "marker": {
             "line": {
              "color": "white",
              "width": 0.6
             }
            },
            "type": "histogram"
           }
          ],
          "histogram2d": [
           {
            "colorbar": {
             "outlinewidth": 1,
             "tickcolor": "rgb(36,36,36)",
             "ticks": "outside"
            },
            "colorscale": [
             [
              0,
              "#440154"
             ],
             [
              0.1111111111111111,
              "#482878"
             ],
             [
              0.2222222222222222,
              "#3e4989"
             ],
             [
              0.3333333333333333,
              "#31688e"
             ],
             [
              0.4444444444444444,
              "#26828e"
             ],
             [
              0.5555555555555556,
              "#1f9e89"
             ],
             [
              0.6666666666666666,
              "#35b779"
             ],
             [
              0.7777777777777778,
              "#6ece58"
             ],
             [
              0.8888888888888888,
              "#b5de2b"
             ],
             [
              1,
              "#fde725"
             ]
            ],
            "type": "histogram2d"
           }
          ],
          "histogram2dcontour": [
           {
            "colorbar": {
             "outlinewidth": 1,
             "tickcolor": "rgb(36,36,36)",
             "ticks": "outside"
            },
            "colorscale": [
             [
              0,
              "#440154"
             ],
             [
              0.1111111111111111,
              "#482878"
             ],
             [
              0.2222222222222222,
              "#3e4989"
             ],
             [
              0.3333333333333333,
              "#31688e"
             ],
             [
              0.4444444444444444,
              "#26828e"
             ],
             [
              0.5555555555555556,
              "#1f9e89"
             ],
             [
              0.6666666666666666,
              "#35b779"
             ],
             [
              0.7777777777777778,
              "#6ece58"
             ],
             [
              0.8888888888888888,
              "#b5de2b"
             ],
             [
              1,
              "#fde725"
             ]
            ],
            "type": "histogram2dcontour"
           }
          ],
          "mesh3d": [
           {
            "colorbar": {
             "outlinewidth": 1,
             "tickcolor": "rgb(36,36,36)",
             "ticks": "outside"
            },
            "type": "mesh3d"
           }
          ],
          "parcoords": [
           {
            "line": {
             "colorbar": {
              "outlinewidth": 1,
              "tickcolor": "rgb(36,36,36)",
              "ticks": "outside"
             }
            },
            "type": "parcoords"
           }
          ],
          "pie": [
           {
            "automargin": true,
            "type": "pie"
           }
          ],
          "scatter": [
           {
            "marker": {
             "colorbar": {
              "outlinewidth": 1,
              "tickcolor": "rgb(36,36,36)",
              "ticks": "outside"
             }
            },
            "type": "scatter"
           }
          ],
          "scatter3d": [
           {
            "line": {
             "colorbar": {
              "outlinewidth": 1,
              "tickcolor": "rgb(36,36,36)",
              "ticks": "outside"
             }
            },
            "marker": {
             "colorbar": {
              "outlinewidth": 1,
              "tickcolor": "rgb(36,36,36)",
              "ticks": "outside"
             }
            },
            "type": "scatter3d"
           }
          ],
          "scattercarpet": [
           {
            "marker": {
             "colorbar": {
              "outlinewidth": 1,
              "tickcolor": "rgb(36,36,36)",
              "ticks": "outside"
             }
            },
            "type": "scattercarpet"
           }
          ],
          "scattergeo": [
           {
            "marker": {
             "colorbar": {
              "outlinewidth": 1,
              "tickcolor": "rgb(36,36,36)",
              "ticks": "outside"
             }
            },
            "type": "scattergeo"
           }
          ],
          "scattergl": [
           {
            "marker": {
             "colorbar": {
              "outlinewidth": 1,
              "tickcolor": "rgb(36,36,36)",
              "ticks": "outside"
             }
            },
            "type": "scattergl"
           }
          ],
          "scattermapbox": [
           {
            "marker": {
             "colorbar": {
              "outlinewidth": 1,
              "tickcolor": "rgb(36,36,36)",
              "ticks": "outside"
             }
            },
            "type": "scattermapbox"
           }
          ],
          "scatterpolar": [
           {
            "marker": {
             "colorbar": {
              "outlinewidth": 1,
              "tickcolor": "rgb(36,36,36)",
              "ticks": "outside"
             }
            },
            "type": "scatterpolar"
           }
          ],
          "scatterpolargl": [
           {
            "marker": {
             "colorbar": {
              "outlinewidth": 1,
              "tickcolor": "rgb(36,36,36)",
              "ticks": "outside"
             }
            },
            "type": "scatterpolargl"
           }
          ],
          "scatterternary": [
           {
            "marker": {
             "colorbar": {
              "outlinewidth": 1,
              "tickcolor": "rgb(36,36,36)",
              "ticks": "outside"
             }
            },
            "type": "scatterternary"
           }
          ],
          "surface": [
           {
            "colorbar": {
             "outlinewidth": 1,
             "tickcolor": "rgb(36,36,36)",
             "ticks": "outside"
            },
            "colorscale": [
             [
              0,
              "#440154"
             ],
             [
              0.1111111111111111,
              "#482878"
             ],
             [
              0.2222222222222222,
              "#3e4989"
             ],
             [
              0.3333333333333333,
              "#31688e"
             ],
             [
              0.4444444444444444,
              "#26828e"
             ],
             [
              0.5555555555555556,
              "#1f9e89"
             ],
             [
              0.6666666666666666,
              "#35b779"
             ],
             [
              0.7777777777777778,
              "#6ece58"
             ],
             [
              0.8888888888888888,
              "#b5de2b"
             ],
             [
              1,
              "#fde725"
             ]
            ],
            "type": "surface"
           }
          ],
          "table": [
           {
            "cells": {
             "fill": {
              "color": "rgb(237,237,237)"
             },
             "line": {
              "color": "white"
             }
            },
            "header": {
             "fill": {
              "color": "rgb(217,217,217)"
             },
             "line": {
              "color": "white"
             }
            },
            "type": "table"
           }
          ]
         },
         "layout": {
          "annotationdefaults": {
           "arrowhead": 0,
           "arrowwidth": 1
          },
          "autotypenumbers": "strict",
          "coloraxis": {
           "colorbar": {
            "outlinewidth": 1,
            "tickcolor": "rgb(36,36,36)",
            "ticks": "outside"
           }
          },
          "colorscale": {
           "diverging": [
            [
             0,
             "rgb(103,0,31)"
            ],
            [
             0.1,
             "rgb(178,24,43)"
            ],
            [
             0.2,
             "rgb(214,96,77)"
            ],
            [
             0.3,
             "rgb(244,165,130)"
            ],
            [
             0.4,
             "rgb(253,219,199)"
            ],
            [
             0.5,
             "rgb(247,247,247)"
            ],
            [
             0.6,
             "rgb(209,229,240)"
            ],
            [
             0.7,
             "rgb(146,197,222)"
            ],
            [
             0.8,
             "rgb(67,147,195)"
            ],
            [
             0.9,
             "rgb(33,102,172)"
            ],
            [
             1,
             "rgb(5,48,97)"
            ]
           ],
           "sequential": [
            [
             0,
             "#440154"
            ],
            [
             0.1111111111111111,
             "#482878"
            ],
            [
             0.2222222222222222,
             "#3e4989"
            ],
            [
             0.3333333333333333,
             "#31688e"
            ],
            [
             0.4444444444444444,
             "#26828e"
            ],
            [
             0.5555555555555556,
             "#1f9e89"
            ],
            [
             0.6666666666666666,
             "#35b779"
            ],
            [
             0.7777777777777778,
             "#6ece58"
            ],
            [
             0.8888888888888888,
             "#b5de2b"
            ],
            [
             1,
             "#fde725"
            ]
           ],
           "sequentialminus": [
            [
             0,
             "#440154"
            ],
            [
             0.1111111111111111,
             "#482878"
            ],
            [
             0.2222222222222222,
             "#3e4989"
            ],
            [
             0.3333333333333333,
             "#31688e"
            ],
            [
             0.4444444444444444,
             "#26828e"
            ],
            [
             0.5555555555555556,
             "#1f9e89"
            ],
            [
             0.6666666666666666,
             "#35b779"
            ],
            [
             0.7777777777777778,
             "#6ece58"
            ],
            [
             0.8888888888888888,
             "#b5de2b"
            ],
            [
             1,
             "#fde725"
            ]
           ]
          },
          "colorway": [
           "#1F77B4",
           "#FF7F0E",
           "#2CA02C",
           "#D62728",
           "#9467BD",
           "#8C564B",
           "#E377C2",
           "#7F7F7F",
           "#BCBD22",
           "#17BECF"
          ],
          "font": {
           "color": "rgb(36,36,36)"
          },
          "geo": {
           "bgcolor": "white",
           "lakecolor": "white",
           "landcolor": "white",
           "showlakes": true,
           "showland": true,
           "subunitcolor": "white"
          },
          "hoverlabel": {
           "align": "left"
          },
          "hovermode": "closest",
          "mapbox": {
           "style": "light"
          },
          "paper_bgcolor": "white",
          "plot_bgcolor": "white",
          "polar": {
           "angularaxis": {
            "gridcolor": "rgb(232,232,232)",
            "linecolor": "rgb(36,36,36)",
            "showgrid": false,
            "showline": true,
            "ticks": "outside"
           },
           "bgcolor": "white",
           "radialaxis": {
            "gridcolor": "rgb(232,232,232)",
            "linecolor": "rgb(36,36,36)",
            "showgrid": false,
            "showline": true,
            "ticks": "outside"
           }
          },
          "scene": {
           "xaxis": {
            "backgroundcolor": "white",
            "gridcolor": "rgb(232,232,232)",
            "gridwidth": 2,
            "linecolor": "rgb(36,36,36)",
            "showbackground": true,
            "showgrid": false,
            "showline": true,
            "ticks": "outside",
            "zeroline": false,
            "zerolinecolor": "rgb(36,36,36)"
           },
           "yaxis": {
            "backgroundcolor": "white",
            "gridcolor": "rgb(232,232,232)",
            "gridwidth": 2,
            "linecolor": "rgb(36,36,36)",
            "showbackground": true,
            "showgrid": false,
            "showline": true,
            "ticks": "outside",
            "zeroline": false,
            "zerolinecolor": "rgb(36,36,36)"
           },
           "zaxis": {
            "backgroundcolor": "white",
            "gridcolor": "rgb(232,232,232)",
            "gridwidth": 2,
            "linecolor": "rgb(36,36,36)",
            "showbackground": true,
            "showgrid": false,
            "showline": true,
            "ticks": "outside",
            "zeroline": false,
            "zerolinecolor": "rgb(36,36,36)"
           }
          },
          "shapedefaults": {
           "fillcolor": "black",
           "line": {
            "width": 0
           },
           "opacity": 0.3
          },
          "ternary": {
           "aaxis": {
            "gridcolor": "rgb(232,232,232)",
            "linecolor": "rgb(36,36,36)",
            "showgrid": false,
            "showline": true,
            "ticks": "outside"
           },
           "baxis": {
            "gridcolor": "rgb(232,232,232)",
            "linecolor": "rgb(36,36,36)",
            "showgrid": false,
            "showline": true,
            "ticks": "outside"
           },
           "bgcolor": "white",
           "caxis": {
            "gridcolor": "rgb(232,232,232)",
            "linecolor": "rgb(36,36,36)",
            "showgrid": false,
            "showline": true,
            "ticks": "outside"
           }
          },
          "title": {
           "x": 0.05
          },
          "xaxis": {
           "automargin": true,
           "gridcolor": "rgb(232,232,232)",
           "linecolor": "rgb(36,36,36)",
           "showgrid": false,
           "showline": true,
           "ticks": "outside",
           "title": {
            "standoff": 15
           },
           "zeroline": false,
           "zerolinecolor": "rgb(36,36,36)"
          },
          "yaxis": {
           "automargin": true,
           "gridcolor": "rgb(232,232,232)",
           "linecolor": "rgb(36,36,36)",
           "showgrid": false,
           "showline": true,
           "ticks": "outside",
           "title": {
            "standoff": 15
           },
           "zeroline": false,
           "zerolinecolor": "rgb(36,36,36)"
          }
         }
        },
        "title": {
         "text": "Variantes detectadas en la Región de Aysén"
        },
        "xaxis": {
         "anchor": "y",
         "domain": [
          0,
          1
         ],
         "title": {
          "text": "Fecha de resultado de Secuenciación o Genotipificación"
         }
        },
        "yaxis": {
         "anchor": "x",
         "domain": [
          0,
          1
         ],
         "title": {
          "text": "No. de casos identificados por variante"
         }
        }
       }
      },
      "text/html": [
       "<div>                            <div id=\"e849e8ea-3808-4eb7-a0cb-a0e14fc8511e\" class=\"plotly-graph-div\" style=\"height:525px; width:100%;\"></div>            <script type=\"text/javascript\">                require([\"plotly\"], function(Plotly) {                    window.PLOTLYENV=window.PLOTLYENV || {};                                    if (document.getElementById(\"e849e8ea-3808-4eb7-a0cb-a0e14fc8511e\")) {                    Plotly.newPlot(                        \"e849e8ea-3808-4eb7-a0cb-a0e14fc8511e\",                        [{\"hovertemplate\": \"Variante detectada=Alfa<br>fecha_resultado_secuenciacion_genotipificacion=%{x}<br>value=%{y}<extra></extra>\", \"legendgroup\": \"Alfa\", \"line\": {\"color\": \"#636efa\", \"dash\": \"solid\"}, \"mode\": \"lines\", \"name\": \"Alfa\", \"orientation\": \"v\", \"showlegend\": true, \"type\": \"scatter\", \"x\": [\"2021-03-21T00:00:00\", \"2021-04-05T00:00:00\", \"2021-04-08T00:00:00\", \"2021-04-19T00:00:00\", \"2021-05-05T00:00:00\", \"2021-05-14T00:00:00\", \"2021-05-19T00:00:00\", \"2021-05-24T00:00:00\", \"2021-05-26T00:00:00\", \"2021-06-09T00:00:00\", \"2021-06-17T00:00:00\", \"2021-06-30T00:00:00\", \"2021-07-07T00:00:00\", \"2021-07-14T00:00:00\", \"2021-07-21T00:00:00\", \"2021-07-28T00:00:00\", \"2021-07-31T00:00:00\", \"2021-08-01T00:00:00\", \"2021-08-03T00:00:00\", \"2021-08-06T00:00:00\", \"2021-08-12T00:00:00\", \"2021-08-13T00:00:00\", \"2021-08-17T00:00:00\", \"2021-08-18T00:00:00\", \"2021-08-21T00:00:00\", \"2021-08-23T00:00:00\", \"2021-08-25T00:00:00\", \"2021-08-26T00:00:00\", \"2021-09-01T00:00:00\", \"2021-09-06T00:00:00\", \"2021-09-07T00:00:00\"], \"xaxis\": \"x\", \"y\": [0.0, 0.0, 0.0, 0.0, 0.0, 0.0, 0.0, 0.0, 1.0, 1.0, 1.0, 1.0, 1.0, 1.0, 1.0, 1.0, 1.0, 1.0, 1.0, 1.0, 1.0, 1.0, 1.0, 1.0, 1.0, 1.0, 1.0, 1.0, 1.0, 1.0, 1.0], \"yaxis\": \"y\"}, {\"hovertemplate\": \"Variante detectada=B.1<br>fecha_resultado_secuenciacion_genotipificacion=%{x}<br>value=%{y}<extra></extra>\", \"legendgroup\": \"B.1\", \"line\": {\"color\": \"#EF553B\", \"dash\": \"solid\"}, \"mode\": \"lines\", \"name\": \"B.1\", \"orientation\": \"v\", \"showlegend\": true, \"type\": \"scatter\", \"x\": [\"2021-03-21T00:00:00\", \"2021-04-05T00:00:00\", \"2021-04-08T00:00:00\", \"2021-04-19T00:00:00\", \"2021-05-05T00:00:00\", \"2021-05-14T00:00:00\", \"2021-05-19T00:00:00\", \"2021-05-24T00:00:00\", \"2021-05-26T00:00:00\", \"2021-06-09T00:00:00\", \"2021-06-17T00:00:00\", \"2021-06-30T00:00:00\", \"2021-07-07T00:00:00\", \"2021-07-14T00:00:00\", \"2021-07-21T00:00:00\", \"2021-07-28T00:00:00\", \"2021-07-31T00:00:00\", \"2021-08-01T00:00:00\", \"2021-08-03T00:00:00\", \"2021-08-06T00:00:00\", \"2021-08-12T00:00:00\", \"2021-08-13T00:00:00\", \"2021-08-17T00:00:00\", \"2021-08-18T00:00:00\", \"2021-08-21T00:00:00\", \"2021-08-23T00:00:00\", \"2021-08-25T00:00:00\", \"2021-08-26T00:00:00\", \"2021-09-01T00:00:00\", \"2021-09-06T00:00:00\", \"2021-09-07T00:00:00\"], \"xaxis\": \"x\", \"y\": [0.0, 0.0, 0.0, 0.0, 0.0, 0.0, 0.0, 0.0, 0.0, 1.0, 1.0, 1.0, 1.0, 1.0, 1.0, 1.0, 1.0, 1.0, 1.0, 1.0, 1.0, 1.0, 1.0, 1.0, 1.0, 1.0, 1.0, 1.0, 1.0, 1.0, 1.0], \"yaxis\": \"y\"}, {\"hovertemplate\": \"Variante detectada=B.1.1<br>fecha_resultado_secuenciacion_genotipificacion=%{x}<br>value=%{y}<extra></extra>\", \"legendgroup\": \"B.1.1\", \"line\": {\"color\": \"#00cc96\", \"dash\": \"solid\"}, \"mode\": \"lines\", \"name\": \"B.1.1\", \"orientation\": \"v\", \"showlegend\": true, \"type\": \"scatter\", \"x\": [\"2021-03-21T00:00:00\", \"2021-04-05T00:00:00\", \"2021-04-08T00:00:00\", \"2021-04-19T00:00:00\", \"2021-05-05T00:00:00\", \"2021-05-14T00:00:00\", \"2021-05-19T00:00:00\", \"2021-05-24T00:00:00\", \"2021-05-26T00:00:00\", \"2021-06-09T00:00:00\", \"2021-06-17T00:00:00\", \"2021-06-30T00:00:00\", \"2021-07-07T00:00:00\", \"2021-07-14T00:00:00\", \"2021-07-21T00:00:00\", \"2021-07-28T00:00:00\", \"2021-07-31T00:00:00\", \"2021-08-01T00:00:00\", \"2021-08-03T00:00:00\", \"2021-08-06T00:00:00\", \"2021-08-12T00:00:00\", \"2021-08-13T00:00:00\", \"2021-08-17T00:00:00\", \"2021-08-18T00:00:00\", \"2021-08-21T00:00:00\", \"2021-08-23T00:00:00\", \"2021-08-25T00:00:00\", \"2021-08-26T00:00:00\", \"2021-09-01T00:00:00\", \"2021-09-06T00:00:00\", \"2021-09-07T00:00:00\"], \"xaxis\": \"x\", \"y\": [0.0, 1.0, 1.0, 2.0, 2.0, 2.0, 2.0, 2.0, 4.0, 5.0, 5.0, 5.0, 5.0, 5.0, 5.0, 5.0, 5.0, 5.0, 5.0, 5.0, 5.0, 5.0, 5.0, 5.0, 5.0, 5.0, 5.0, 5.0, 5.0, 5.0, 5.0], \"yaxis\": \"y\"}, {\"hovertemplate\": \"Variante detectada=B.1.1.348<br>fecha_resultado_secuenciacion_genotipificacion=%{x}<br>value=%{y}<extra></extra>\", \"legendgroup\": \"B.1.1.348\", \"line\": {\"color\": \"#ab63fa\", \"dash\": \"solid\"}, \"mode\": \"lines\", \"name\": \"B.1.1.348\", \"orientation\": \"v\", \"showlegend\": true, \"type\": \"scatter\", \"x\": [\"2021-03-21T00:00:00\", \"2021-04-05T00:00:00\", \"2021-04-08T00:00:00\", \"2021-04-19T00:00:00\", \"2021-05-05T00:00:00\", \"2021-05-14T00:00:00\", \"2021-05-19T00:00:00\", \"2021-05-24T00:00:00\", \"2021-05-26T00:00:00\", \"2021-06-09T00:00:00\", \"2021-06-17T00:00:00\", \"2021-06-30T00:00:00\", \"2021-07-07T00:00:00\", \"2021-07-14T00:00:00\", \"2021-07-21T00:00:00\", \"2021-07-28T00:00:00\", \"2021-07-31T00:00:00\", \"2021-08-01T00:00:00\", \"2021-08-03T00:00:00\", \"2021-08-06T00:00:00\", \"2021-08-12T00:00:00\", \"2021-08-13T00:00:00\", \"2021-08-17T00:00:00\", \"2021-08-18T00:00:00\", \"2021-08-21T00:00:00\", \"2021-08-23T00:00:00\", \"2021-08-25T00:00:00\", \"2021-08-26T00:00:00\", \"2021-09-01T00:00:00\", \"2021-09-06T00:00:00\", \"2021-09-07T00:00:00\"], \"xaxis\": \"x\", \"y\": [1.0, 2.0, 2.0, 2.0, 2.0, 2.0, 2.0, 2.0, 2.0, 2.0, 2.0, 2.0, 2.0, 2.0, 2.0, 2.0, 2.0, 2.0, 2.0, 2.0, 2.0, 2.0, 2.0, 2.0, 2.0, 2.0, 2.0, 2.0, 2.0, 2.0, 2.0], \"yaxis\": \"y\"}, {\"hovertemplate\": \"Variante detectada=Delta<br>fecha_resultado_secuenciacion_genotipificacion=%{x}<br>value=%{y}<extra></extra>\", \"legendgroup\": \"Delta\", \"line\": {\"color\": \"#FFA15A\", \"dash\": \"solid\"}, \"mode\": \"lines\", \"name\": \"Delta\", \"orientation\": \"v\", \"showlegend\": true, \"type\": \"scatter\", \"x\": [\"2021-03-21T00:00:00\", \"2021-04-05T00:00:00\", \"2021-04-08T00:00:00\", \"2021-04-19T00:00:00\", \"2021-05-05T00:00:00\", \"2021-05-14T00:00:00\", \"2021-05-19T00:00:00\", \"2021-05-24T00:00:00\", \"2021-05-26T00:00:00\", \"2021-06-09T00:00:00\", \"2021-06-17T00:00:00\", \"2021-06-30T00:00:00\", \"2021-07-07T00:00:00\", \"2021-07-14T00:00:00\", \"2021-07-21T00:00:00\", \"2021-07-28T00:00:00\", \"2021-07-31T00:00:00\", \"2021-08-01T00:00:00\", \"2021-08-03T00:00:00\", \"2021-08-06T00:00:00\", \"2021-08-12T00:00:00\", \"2021-08-13T00:00:00\", \"2021-08-17T00:00:00\", \"2021-08-18T00:00:00\", \"2021-08-21T00:00:00\", \"2021-08-23T00:00:00\", \"2021-08-25T00:00:00\", \"2021-08-26T00:00:00\", \"2021-09-01T00:00:00\", \"2021-09-06T00:00:00\", \"2021-09-07T00:00:00\"], \"xaxis\": \"x\", \"y\": [0.0, 0.0, 0.0, 0.0, 0.0, 0.0, 0.0, 0.0, 0.0, 0.0, 0.0, 0.0, 0.0, 0.0, 0.0, 0.0, 0.0, 0.0, 0.0, 0.0, 0.0, 0.0, 0.0, 0.0, 0.0, 0.0, 0.0, 0.0, 0.0, 14.0, 15.0], \"yaxis\": \"y\"}, {\"hovertemplate\": \"Variante detectada=Gamma<br>fecha_resultado_secuenciacion_genotipificacion=%{x}<br>value=%{y}<extra></extra>\", \"legendgroup\": \"Gamma\", \"line\": {\"color\": \"#19d3f3\", \"dash\": \"solid\"}, \"mode\": \"lines\", \"name\": \"Gamma\", \"orientation\": \"v\", \"showlegend\": true, \"type\": \"scatter\", \"x\": [\"2021-03-21T00:00:00\", \"2021-04-05T00:00:00\", \"2021-04-08T00:00:00\", \"2021-04-19T00:00:00\", \"2021-05-05T00:00:00\", \"2021-05-14T00:00:00\", \"2021-05-19T00:00:00\", \"2021-05-24T00:00:00\", \"2021-05-26T00:00:00\", \"2021-06-09T00:00:00\", \"2021-06-17T00:00:00\", \"2021-06-30T00:00:00\", \"2021-07-07T00:00:00\", \"2021-07-14T00:00:00\", \"2021-07-21T00:00:00\", \"2021-07-28T00:00:00\", \"2021-07-31T00:00:00\", \"2021-08-01T00:00:00\", \"2021-08-03T00:00:00\", \"2021-08-06T00:00:00\", \"2021-08-12T00:00:00\", \"2021-08-13T00:00:00\", \"2021-08-17T00:00:00\", \"2021-08-18T00:00:00\", \"2021-08-21T00:00:00\", \"2021-08-23T00:00:00\", \"2021-08-25T00:00:00\", \"2021-08-26T00:00:00\", \"2021-09-01T00:00:00\", \"2021-09-06T00:00:00\", \"2021-09-07T00:00:00\"], \"xaxis\": \"x\", \"y\": [0.0, 0.0, 0.0, 0.0, 2.0, 6.0, 9.0, 9.0, 13.0, 20.0, 24.0, 28.0, 32.0, 47.0, 58.0, 60.0, 61.0, 61.0, 62.0, 72.0, 77.0, 83.0, 92.0, 97.0, 101.0, 108.0, 117.0, 123.0, 128.0, 132.0, 132.0], \"yaxis\": \"y\"}, {\"hovertemplate\": \"Variante detectada=Indeterminado<br>fecha_resultado_secuenciacion_genotipificacion=%{x}<br>value=%{y}<extra></extra>\", \"legendgroup\": \"Indeterminado\", \"line\": {\"color\": \"#FF6692\", \"dash\": \"solid\"}, \"mode\": \"lines\", \"name\": \"Indeterminado\", \"orientation\": \"v\", \"showlegend\": true, \"type\": \"scatter\", \"x\": [\"2021-03-21T00:00:00\", \"2021-04-05T00:00:00\", \"2021-04-08T00:00:00\", \"2021-04-19T00:00:00\", \"2021-05-05T00:00:00\", \"2021-05-14T00:00:00\", \"2021-05-19T00:00:00\", \"2021-05-24T00:00:00\", \"2021-05-26T00:00:00\", \"2021-06-09T00:00:00\", \"2021-06-17T00:00:00\", \"2021-06-30T00:00:00\", \"2021-07-07T00:00:00\", \"2021-07-14T00:00:00\", \"2021-07-21T00:00:00\", \"2021-07-28T00:00:00\", \"2021-07-31T00:00:00\", \"2021-08-01T00:00:00\", \"2021-08-03T00:00:00\", \"2021-08-06T00:00:00\", \"2021-08-12T00:00:00\", \"2021-08-13T00:00:00\", \"2021-08-17T00:00:00\", \"2021-08-18T00:00:00\", \"2021-08-21T00:00:00\", \"2021-08-23T00:00:00\", \"2021-08-25T00:00:00\", \"2021-08-26T00:00:00\", \"2021-09-01T00:00:00\", \"2021-09-06T00:00:00\", \"2021-09-07T00:00:00\"], \"xaxis\": \"x\", \"y\": [0.0, 0.0, 0.0, 0.0, 0.0, 0.0, 0.0, 0.0, 0.0, 0.0, 0.0, 0.0, 0.0, 0.0, 0.0, 0.0, 2.0, 2.0, 3.0, 3.0, 3.0, 3.0, 4.0, 4.0, 4.0, 5.0, 5.0, 5.0, 5.0, 7.0, 7.0], \"yaxis\": \"y\"}, {\"hovertemplate\": \"Variante detectada=Lambda<br>fecha_resultado_secuenciacion_genotipificacion=%{x}<br>value=%{y}<extra></extra>\", \"legendgroup\": \"Lambda\", \"line\": {\"color\": \"#B6E880\", \"dash\": \"solid\"}, \"mode\": \"lines\", \"name\": \"Lambda\", \"orientation\": \"v\", \"showlegend\": true, \"type\": \"scatter\", \"x\": [\"2021-03-21T00:00:00\", \"2021-04-05T00:00:00\", \"2021-04-08T00:00:00\", \"2021-04-19T00:00:00\", \"2021-05-05T00:00:00\", \"2021-05-14T00:00:00\", \"2021-05-19T00:00:00\", \"2021-05-24T00:00:00\", \"2021-05-26T00:00:00\", \"2021-06-09T00:00:00\", \"2021-06-17T00:00:00\", \"2021-06-30T00:00:00\", \"2021-07-07T00:00:00\", \"2021-07-14T00:00:00\", \"2021-07-21T00:00:00\", \"2021-07-28T00:00:00\", \"2021-07-31T00:00:00\", \"2021-08-01T00:00:00\", \"2021-08-03T00:00:00\", \"2021-08-06T00:00:00\", \"2021-08-12T00:00:00\", \"2021-08-13T00:00:00\", \"2021-08-17T00:00:00\", \"2021-08-18T00:00:00\", \"2021-08-21T00:00:00\", \"2021-08-23T00:00:00\", \"2021-08-25T00:00:00\", \"2021-08-26T00:00:00\", \"2021-09-01T00:00:00\", \"2021-09-06T00:00:00\", \"2021-09-07T00:00:00\"], \"xaxis\": \"x\", \"y\": [0.0, 0.0, 0.0, 3.0, 7.0, 13.0, 17.0, 17.0, 25.0, 27.0, 27.0, 29.0, 35.0, 43.0, 48.0, 48.0, 48.0, 48.0, 48.0, 49.0, 50.0, 50.0, 50.0, 50.0, 50.0, 50.0, 51.0, 51.0, 52.0, 53.0, 53.0], \"yaxis\": \"y\"}, {\"hovertemplate\": \"Variante detectada=Mu<br>fecha_resultado_secuenciacion_genotipificacion=%{x}<br>value=%{y}<extra></extra>\", \"legendgroup\": \"Mu\", \"line\": {\"color\": \"#FF97FF\", \"dash\": \"solid\"}, \"mode\": \"lines\", \"name\": \"Mu\", \"orientation\": \"v\", \"showlegend\": true, \"type\": \"scatter\", \"x\": [\"2021-03-21T00:00:00\", \"2021-04-05T00:00:00\", \"2021-04-08T00:00:00\", \"2021-04-19T00:00:00\", \"2021-05-05T00:00:00\", \"2021-05-14T00:00:00\", \"2021-05-19T00:00:00\", \"2021-05-24T00:00:00\", \"2021-05-26T00:00:00\", \"2021-06-09T00:00:00\", \"2021-06-17T00:00:00\", \"2021-06-30T00:00:00\", \"2021-07-07T00:00:00\", \"2021-07-14T00:00:00\", \"2021-07-21T00:00:00\", \"2021-07-28T00:00:00\", \"2021-07-31T00:00:00\", \"2021-08-01T00:00:00\", \"2021-08-03T00:00:00\", \"2021-08-06T00:00:00\", \"2021-08-12T00:00:00\", \"2021-08-13T00:00:00\", \"2021-08-17T00:00:00\", \"2021-08-18T00:00:00\", \"2021-08-21T00:00:00\", \"2021-08-23T00:00:00\", \"2021-08-25T00:00:00\", \"2021-08-26T00:00:00\", \"2021-09-01T00:00:00\", \"2021-09-06T00:00:00\", \"2021-09-07T00:00:00\"], \"xaxis\": \"x\", \"y\": [0.0, 0.0, 0.0, 0.0, 0.0, 0.0, 0.0, 0.0, 0.0, 0.0, 0.0, 0.0, 0.0, 0.0, 0.0, 0.0, 0.0, 0.0, 0.0, 0.0, 0.0, 0.0, 0.0, 0.0, 0.0, 0.0, 0.0, 0.0, 0.0, 6.0, 6.0], \"yaxis\": \"y\"}, {\"hovertemplate\": \"Variante detectada=N.4<br>fecha_resultado_secuenciacion_genotipificacion=%{x}<br>value=%{y}<extra></extra>\", \"legendgroup\": \"N.4\", \"line\": {\"color\": \"#FECB52\", \"dash\": \"solid\"}, \"mode\": \"lines\", \"name\": \"N.4\", \"orientation\": \"v\", \"showlegend\": true, \"type\": \"scatter\", \"x\": [\"2021-03-21T00:00:00\", \"2021-04-05T00:00:00\", \"2021-04-08T00:00:00\", \"2021-04-19T00:00:00\", \"2021-05-05T00:00:00\", \"2021-05-14T00:00:00\", \"2021-05-19T00:00:00\", \"2021-05-24T00:00:00\", \"2021-05-26T00:00:00\", \"2021-06-09T00:00:00\", \"2021-06-17T00:00:00\", \"2021-06-30T00:00:00\", \"2021-07-07T00:00:00\", \"2021-07-14T00:00:00\", \"2021-07-21T00:00:00\", \"2021-07-28T00:00:00\", \"2021-07-31T00:00:00\", \"2021-08-01T00:00:00\", \"2021-08-03T00:00:00\", \"2021-08-06T00:00:00\", \"2021-08-12T00:00:00\", \"2021-08-13T00:00:00\", \"2021-08-17T00:00:00\", \"2021-08-18T00:00:00\", \"2021-08-21T00:00:00\", \"2021-08-23T00:00:00\", \"2021-08-25T00:00:00\", \"2021-08-26T00:00:00\", \"2021-09-01T00:00:00\", \"2021-09-06T00:00:00\", \"2021-09-07T00:00:00\"], \"xaxis\": \"x\", \"y\": [1.0, 1.0, 1.0, 1.0, 1.0, 1.0, 1.0, 1.0, 1.0, 1.0, 1.0, 1.0, 1.0, 1.0, 1.0, 1.0, 1.0, 1.0, 1.0, 1.0, 1.0, 1.0, 1.0, 1.0, 1.0, 1.0, 1.0, 1.0, 1.0, 1.0, 1.0], \"yaxis\": \"y\"}, {\"hovertemplate\": \"Variante detectada=No amplifica<br>fecha_resultado_secuenciacion_genotipificacion=%{x}<br>value=%{y}<extra></extra>\", \"legendgroup\": \"No amplifica\", \"line\": {\"color\": \"#636efa\", \"dash\": \"solid\"}, \"mode\": \"lines\", \"name\": \"No amplifica\", \"orientation\": \"v\", \"showlegend\": true, \"type\": \"scatter\", \"x\": [\"2021-03-21T00:00:00\", \"2021-04-05T00:00:00\", \"2021-04-08T00:00:00\", \"2021-04-19T00:00:00\", \"2021-05-05T00:00:00\", \"2021-05-14T00:00:00\", \"2021-05-19T00:00:00\", \"2021-05-24T00:00:00\", \"2021-05-26T00:00:00\", \"2021-06-09T00:00:00\", \"2021-06-17T00:00:00\", \"2021-06-30T00:00:00\", \"2021-07-07T00:00:00\", \"2021-07-14T00:00:00\", \"2021-07-21T00:00:00\", \"2021-07-28T00:00:00\", \"2021-07-31T00:00:00\", \"2021-08-01T00:00:00\", \"2021-08-03T00:00:00\", \"2021-08-06T00:00:00\", \"2021-08-12T00:00:00\", \"2021-08-13T00:00:00\", \"2021-08-17T00:00:00\", \"2021-08-18T00:00:00\", \"2021-08-21T00:00:00\", \"2021-08-23T00:00:00\", \"2021-08-25T00:00:00\", \"2021-08-26T00:00:00\", \"2021-09-01T00:00:00\", \"2021-09-06T00:00:00\", \"2021-09-07T00:00:00\"], \"xaxis\": \"x\", \"y\": [0.0, 0.0, 1.0, 1.0, 1.0, 1.0, 1.0, 2.0, 2.0, 2.0, 3.0, 5.0, 10.0, 16.0, 27.0, 27.0, 27.0, 28.0, 28.0, 29.0, 29.0, 29.0, 29.0, 29.0, 29.0, 29.0, 32.0, 32.0, 33.0, 33.0, 33.0], \"yaxis\": \"y\"}, {\"hovertemplate\": \"Variante detectada=VOI no detectadas<br>fecha_resultado_secuenciacion_genotipificacion=%{x}<br>value=%{y}<extra></extra>\", \"legendgroup\": \"VOI no detectadas\", \"line\": {\"color\": \"#EF553B\", \"dash\": \"solid\"}, \"mode\": \"lines\", \"name\": \"VOI no detectadas\", \"orientation\": \"v\", \"showlegend\": true, \"type\": \"scatter\", \"x\": [\"2021-03-21T00:00:00\", \"2021-04-05T00:00:00\", \"2021-04-08T00:00:00\", \"2021-04-19T00:00:00\", \"2021-05-05T00:00:00\", \"2021-05-14T00:00:00\", \"2021-05-19T00:00:00\", \"2021-05-24T00:00:00\", \"2021-05-26T00:00:00\", \"2021-06-09T00:00:00\", \"2021-06-17T00:00:00\", \"2021-06-30T00:00:00\", \"2021-07-07T00:00:00\", \"2021-07-14T00:00:00\", \"2021-07-21T00:00:00\", \"2021-07-28T00:00:00\", \"2021-07-31T00:00:00\", \"2021-08-01T00:00:00\", \"2021-08-03T00:00:00\", \"2021-08-06T00:00:00\", \"2021-08-12T00:00:00\", \"2021-08-13T00:00:00\", \"2021-08-17T00:00:00\", \"2021-08-18T00:00:00\", \"2021-08-21T00:00:00\", \"2021-08-23T00:00:00\", \"2021-08-25T00:00:00\", \"2021-08-26T00:00:00\", \"2021-09-01T00:00:00\", \"2021-09-06T00:00:00\", \"2021-09-07T00:00:00\"], \"xaxis\": \"x\", \"y\": [0.0, 0.0, 0.0, 0.0, 0.0, 0.0, 0.0, 0.0, 0.0, 0.0, 0.0, 0.0, 0.0, 0.0, 0.0, 0.0, 0.0, 0.0, 0.0, 0.0, 0.0, 0.0, 0.0, 1.0, 1.0, 1.0, 1.0, 1.0, 1.0, 6.0, 6.0], \"yaxis\": \"y\"}],                        {\"legend\": {\"title\": {\"text\": \"Variante detectada\"}, \"tracegroupgap\": 0}, \"margin\": {\"t\": 60}, \"template\": {\"data\": {\"bar\": [{\"error_x\": {\"color\": \"rgb(36,36,36)\"}, \"error_y\": {\"color\": \"rgb(36,36,36)\"}, \"marker\": {\"line\": {\"color\": \"white\", \"width\": 0.5}}, \"type\": \"bar\"}], \"barpolar\": [{\"marker\": {\"line\": {\"color\": \"white\", \"width\": 0.5}}, \"type\": \"barpolar\"}], \"carpet\": [{\"aaxis\": {\"endlinecolor\": \"rgb(36,36,36)\", \"gridcolor\": \"white\", \"linecolor\": \"white\", \"minorgridcolor\": \"white\", \"startlinecolor\": \"rgb(36,36,36)\"}, \"baxis\": {\"endlinecolor\": \"rgb(36,36,36)\", \"gridcolor\": \"white\", \"linecolor\": \"white\", \"minorgridcolor\": \"white\", \"startlinecolor\": \"rgb(36,36,36)\"}, \"type\": \"carpet\"}], \"choropleth\": [{\"colorbar\": {\"outlinewidth\": 1, \"tickcolor\": \"rgb(36,36,36)\", \"ticks\": \"outside\"}, \"type\": \"choropleth\"}], \"contour\": [{\"colorbar\": {\"outlinewidth\": 1, \"tickcolor\": \"rgb(36,36,36)\", \"ticks\": \"outside\"}, \"colorscale\": [[0.0, \"#440154\"], [0.1111111111111111, \"#482878\"], [0.2222222222222222, \"#3e4989\"], [0.3333333333333333, \"#31688e\"], [0.4444444444444444, \"#26828e\"], [0.5555555555555556, \"#1f9e89\"], [0.6666666666666666, \"#35b779\"], [0.7777777777777778, \"#6ece58\"], [0.8888888888888888, \"#b5de2b\"], [1.0, \"#fde725\"]], \"type\": \"contour\"}], \"contourcarpet\": [{\"colorbar\": {\"outlinewidth\": 1, \"tickcolor\": \"rgb(36,36,36)\", \"ticks\": \"outside\"}, \"type\": \"contourcarpet\"}], \"heatmap\": [{\"colorbar\": {\"outlinewidth\": 1, \"tickcolor\": \"rgb(36,36,36)\", \"ticks\": \"outside\"}, \"colorscale\": [[0.0, \"#440154\"], [0.1111111111111111, \"#482878\"], [0.2222222222222222, \"#3e4989\"], [0.3333333333333333, \"#31688e\"], [0.4444444444444444, \"#26828e\"], [0.5555555555555556, \"#1f9e89\"], [0.6666666666666666, \"#35b779\"], [0.7777777777777778, \"#6ece58\"], [0.8888888888888888, \"#b5de2b\"], [1.0, \"#fde725\"]], \"type\": \"heatmap\"}], \"heatmapgl\": [{\"colorbar\": {\"outlinewidth\": 1, \"tickcolor\": \"rgb(36,36,36)\", \"ticks\": \"outside\"}, \"colorscale\": [[0.0, \"#440154\"], [0.1111111111111111, \"#482878\"], [0.2222222222222222, \"#3e4989\"], [0.3333333333333333, \"#31688e\"], [0.4444444444444444, \"#26828e\"], [0.5555555555555556, \"#1f9e89\"], [0.6666666666666666, \"#35b779\"], [0.7777777777777778, \"#6ece58\"], [0.8888888888888888, \"#b5de2b\"], [1.0, \"#fde725\"]], \"type\": \"heatmapgl\"}], \"histogram\": [{\"marker\": {\"line\": {\"color\": \"white\", \"width\": 0.6}}, \"type\": \"histogram\"}], \"histogram2d\": [{\"colorbar\": {\"outlinewidth\": 1, \"tickcolor\": \"rgb(36,36,36)\", \"ticks\": \"outside\"}, \"colorscale\": [[0.0, \"#440154\"], [0.1111111111111111, \"#482878\"], [0.2222222222222222, \"#3e4989\"], [0.3333333333333333, \"#31688e\"], [0.4444444444444444, \"#26828e\"], [0.5555555555555556, \"#1f9e89\"], [0.6666666666666666, \"#35b779\"], [0.7777777777777778, \"#6ece58\"], [0.8888888888888888, \"#b5de2b\"], [1.0, \"#fde725\"]], \"type\": \"histogram2d\"}], \"histogram2dcontour\": [{\"colorbar\": {\"outlinewidth\": 1, \"tickcolor\": \"rgb(36,36,36)\", \"ticks\": \"outside\"}, \"colorscale\": [[0.0, \"#440154\"], [0.1111111111111111, \"#482878\"], [0.2222222222222222, \"#3e4989\"], [0.3333333333333333, \"#31688e\"], [0.4444444444444444, \"#26828e\"], [0.5555555555555556, \"#1f9e89\"], [0.6666666666666666, \"#35b779\"], [0.7777777777777778, \"#6ece58\"], [0.8888888888888888, \"#b5de2b\"], [1.0, \"#fde725\"]], \"type\": \"histogram2dcontour\"}], \"mesh3d\": [{\"colorbar\": {\"outlinewidth\": 1, \"tickcolor\": \"rgb(36,36,36)\", \"ticks\": \"outside\"}, \"type\": \"mesh3d\"}], \"parcoords\": [{\"line\": {\"colorbar\": {\"outlinewidth\": 1, \"tickcolor\": \"rgb(36,36,36)\", \"ticks\": \"outside\"}}, \"type\": \"parcoords\"}], \"pie\": [{\"automargin\": true, \"type\": \"pie\"}], \"scatter\": [{\"marker\": {\"colorbar\": {\"outlinewidth\": 1, \"tickcolor\": \"rgb(36,36,36)\", \"ticks\": \"outside\"}}, \"type\": \"scatter\"}], \"scatter3d\": [{\"line\": {\"colorbar\": {\"outlinewidth\": 1, \"tickcolor\": \"rgb(36,36,36)\", \"ticks\": \"outside\"}}, \"marker\": {\"colorbar\": {\"outlinewidth\": 1, \"tickcolor\": \"rgb(36,36,36)\", \"ticks\": \"outside\"}}, \"type\": \"scatter3d\"}], \"scattercarpet\": [{\"marker\": {\"colorbar\": {\"outlinewidth\": 1, \"tickcolor\": \"rgb(36,36,36)\", \"ticks\": \"outside\"}}, \"type\": \"scattercarpet\"}], \"scattergeo\": [{\"marker\": {\"colorbar\": {\"outlinewidth\": 1, \"tickcolor\": \"rgb(36,36,36)\", \"ticks\": \"outside\"}}, \"type\": \"scattergeo\"}], \"scattergl\": [{\"marker\": {\"colorbar\": {\"outlinewidth\": 1, \"tickcolor\": \"rgb(36,36,36)\", \"ticks\": \"outside\"}}, \"type\": \"scattergl\"}], \"scattermapbox\": [{\"marker\": {\"colorbar\": {\"outlinewidth\": 1, \"tickcolor\": \"rgb(36,36,36)\", \"ticks\": \"outside\"}}, \"type\": \"scattermapbox\"}], \"scatterpolar\": [{\"marker\": {\"colorbar\": {\"outlinewidth\": 1, \"tickcolor\": \"rgb(36,36,36)\", \"ticks\": \"outside\"}}, \"type\": \"scatterpolar\"}], \"scatterpolargl\": [{\"marker\": {\"colorbar\": {\"outlinewidth\": 1, \"tickcolor\": \"rgb(36,36,36)\", \"ticks\": \"outside\"}}, \"type\": \"scatterpolargl\"}], \"scatterternary\": [{\"marker\": {\"colorbar\": {\"outlinewidth\": 1, \"tickcolor\": \"rgb(36,36,36)\", \"ticks\": \"outside\"}}, \"type\": \"scatterternary\"}], \"surface\": [{\"colorbar\": {\"outlinewidth\": 1, \"tickcolor\": \"rgb(36,36,36)\", \"ticks\": \"outside\"}, \"colorscale\": [[0.0, \"#440154\"], [0.1111111111111111, \"#482878\"], [0.2222222222222222, \"#3e4989\"], [0.3333333333333333, \"#31688e\"], [0.4444444444444444, \"#26828e\"], [0.5555555555555556, \"#1f9e89\"], [0.6666666666666666, \"#35b779\"], [0.7777777777777778, \"#6ece58\"], [0.8888888888888888, \"#b5de2b\"], [1.0, \"#fde725\"]], \"type\": \"surface\"}], \"table\": [{\"cells\": {\"fill\": {\"color\": \"rgb(237,237,237)\"}, \"line\": {\"color\": \"white\"}}, \"header\": {\"fill\": {\"color\": \"rgb(217,217,217)\"}, \"line\": {\"color\": \"white\"}}, \"type\": \"table\"}]}, \"layout\": {\"annotationdefaults\": {\"arrowhead\": 0, \"arrowwidth\": 1}, \"autotypenumbers\": \"strict\", \"coloraxis\": {\"colorbar\": {\"outlinewidth\": 1, \"tickcolor\": \"rgb(36,36,36)\", \"ticks\": \"outside\"}}, \"colorscale\": {\"diverging\": [[0.0, \"rgb(103,0,31)\"], [0.1, \"rgb(178,24,43)\"], [0.2, \"rgb(214,96,77)\"], [0.3, \"rgb(244,165,130)\"], [0.4, \"rgb(253,219,199)\"], [0.5, \"rgb(247,247,247)\"], [0.6, \"rgb(209,229,240)\"], [0.7, \"rgb(146,197,222)\"], [0.8, \"rgb(67,147,195)\"], [0.9, \"rgb(33,102,172)\"], [1.0, \"rgb(5,48,97)\"]], \"sequential\": [[0.0, \"#440154\"], [0.1111111111111111, \"#482878\"], [0.2222222222222222, \"#3e4989\"], [0.3333333333333333, \"#31688e\"], [0.4444444444444444, \"#26828e\"], [0.5555555555555556, \"#1f9e89\"], [0.6666666666666666, \"#35b779\"], [0.7777777777777778, \"#6ece58\"], [0.8888888888888888, \"#b5de2b\"], [1.0, \"#fde725\"]], \"sequentialminus\": [[0.0, \"#440154\"], [0.1111111111111111, \"#482878\"], [0.2222222222222222, \"#3e4989\"], [0.3333333333333333, \"#31688e\"], [0.4444444444444444, \"#26828e\"], [0.5555555555555556, \"#1f9e89\"], [0.6666666666666666, \"#35b779\"], [0.7777777777777778, \"#6ece58\"], [0.8888888888888888, \"#b5de2b\"], [1.0, \"#fde725\"]]}, \"colorway\": [\"#1F77B4\", \"#FF7F0E\", \"#2CA02C\", \"#D62728\", \"#9467BD\", \"#8C564B\", \"#E377C2\", \"#7F7F7F\", \"#BCBD22\", \"#17BECF\"], \"font\": {\"color\": \"rgb(36,36,36)\"}, \"geo\": {\"bgcolor\": \"white\", \"lakecolor\": \"white\", \"landcolor\": \"white\", \"showlakes\": true, \"showland\": true, \"subunitcolor\": \"white\"}, \"hoverlabel\": {\"align\": \"left\"}, \"hovermode\": \"closest\", \"mapbox\": {\"style\": \"light\"}, \"paper_bgcolor\": \"white\", \"plot_bgcolor\": \"white\", \"polar\": {\"angularaxis\": {\"gridcolor\": \"rgb(232,232,232)\", \"linecolor\": \"rgb(36,36,36)\", \"showgrid\": false, \"showline\": true, \"ticks\": \"outside\"}, \"bgcolor\": \"white\", \"radialaxis\": {\"gridcolor\": \"rgb(232,232,232)\", \"linecolor\": \"rgb(36,36,36)\", \"showgrid\": false, \"showline\": true, \"ticks\": \"outside\"}}, \"scene\": {\"xaxis\": {\"backgroundcolor\": \"white\", \"gridcolor\": \"rgb(232,232,232)\", \"gridwidth\": 2, \"linecolor\": \"rgb(36,36,36)\", \"showbackground\": true, \"showgrid\": false, \"showline\": true, \"ticks\": \"outside\", \"zeroline\": false, \"zerolinecolor\": \"rgb(36,36,36)\"}, \"yaxis\": {\"backgroundcolor\": \"white\", \"gridcolor\": \"rgb(232,232,232)\", \"gridwidth\": 2, \"linecolor\": \"rgb(36,36,36)\", \"showbackground\": true, \"showgrid\": false, \"showline\": true, \"ticks\": \"outside\", \"zeroline\": false, \"zerolinecolor\": \"rgb(36,36,36)\"}, \"zaxis\": {\"backgroundcolor\": \"white\", \"gridcolor\": \"rgb(232,232,232)\", \"gridwidth\": 2, \"linecolor\": \"rgb(36,36,36)\", \"showbackground\": true, \"showgrid\": false, \"showline\": true, \"ticks\": \"outside\", \"zeroline\": false, \"zerolinecolor\": \"rgb(36,36,36)\"}}, \"shapedefaults\": {\"fillcolor\": \"black\", \"line\": {\"width\": 0}, \"opacity\": 0.3}, \"ternary\": {\"aaxis\": {\"gridcolor\": \"rgb(232,232,232)\", \"linecolor\": \"rgb(36,36,36)\", \"showgrid\": false, \"showline\": true, \"ticks\": \"outside\"}, \"baxis\": {\"gridcolor\": \"rgb(232,232,232)\", \"linecolor\": \"rgb(36,36,36)\", \"showgrid\": false, \"showline\": true, \"ticks\": \"outside\"}, \"bgcolor\": \"white\", \"caxis\": {\"gridcolor\": \"rgb(232,232,232)\", \"linecolor\": \"rgb(36,36,36)\", \"showgrid\": false, \"showline\": true, \"ticks\": \"outside\"}}, \"title\": {\"x\": 0.05}, \"xaxis\": {\"automargin\": true, \"gridcolor\": \"rgb(232,232,232)\", \"linecolor\": \"rgb(36,36,36)\", \"showgrid\": false, \"showline\": true, \"ticks\": \"outside\", \"title\": {\"standoff\": 15}, \"zeroline\": false, \"zerolinecolor\": \"rgb(36,36,36)\"}, \"yaxis\": {\"automargin\": true, \"gridcolor\": \"rgb(232,232,232)\", \"linecolor\": \"rgb(36,36,36)\", \"showgrid\": false, \"showline\": true, \"ticks\": \"outside\", \"title\": {\"standoff\": 15}, \"zeroline\": false, \"zerolinecolor\": \"rgb(36,36,36)\"}}}, \"title\": {\"text\": \"Variantes detectadas en la Regi\\u00f3n de Ays\\u00e9n\"}, \"xaxis\": {\"anchor\": \"y\", \"domain\": [0.0, 1.0], \"title\": {\"text\": \"Fecha de resultado de Secuenciaci\\u00f3n o Genotipificaci\\u00f3n\"}}, \"yaxis\": {\"anchor\": \"x\", \"domain\": [0.0, 1.0], \"title\": {\"text\": \"No. de casos identificados por variante\"}}},                        {\"responsive\": true}                    ).then(function(){\n",
       "                            \n",
       "var gd = document.getElementById('e849e8ea-3808-4eb7-a0cb-a0e14fc8511e');\n",
       "var x = new MutationObserver(function (mutations, observer) {{\n",
       "        var display = window.getComputedStyle(gd).display;\n",
       "        if (!display || display === 'none') {{\n",
       "            console.log([gd, 'removed!']);\n",
       "            Plotly.purge(gd);\n",
       "            observer.disconnect();\n",
       "        }}\n",
       "}});\n",
       "\n",
       "// Listen for the removal of the full notebook cells\n",
       "var notebookContainer = gd.closest('#notebook-container');\n",
       "if (notebookContainer) {{\n",
       "    x.observe(notebookContainer, {childList: true});\n",
       "}}\n",
       "\n",
       "// Listen for the clearing of the current output cell\n",
       "var outputEl = gd.closest('.output');\n",
       "if (outputEl) {{\n",
       "    x.observe(outputEl, {childList: true});\n",
       "}}\n",
       "\n",
       "                        })                };                });            </script>        </div>"
      ]
     },
     "metadata": {},
     "output_type": "display_data"
    }
   ],
   "source": [
    "px.line(df_variantes.groupby(['fecha_resultado_secuenciacion_genotipificacion', 'variante_linaje']).count()[['n_documento']].reset_index().pivot(\n",
    "    index='fecha_resultado_secuenciacion_genotipificacion',\n",
    "    columns='variante_linaje', \n",
    "    values=['n_documento']\n",
    ").fillna(0).cumsum().clean_names().rename(\n",
    "    columns={\n",
    "        'alfa':'Alfa',\n",
    "        'b_1':'B.1',\n",
    "        'b_1_1':'B.1.1',\n",
    "        'b_1_1_348':'B.1.1.348',\n",
    "        'delta':'Delta',\n",
    "        'gamma':'Gamma',\n",
    "        'indeterminado':'Indeterminado',\n",
    "        'lambda':'Lambda',\n",
    "        'mu':'Mu',\n",
    "        'n_4':'N.4',\n",
    "        'no_amplifica':'No amplifica',\n",
    "        'no_se_detectan_mutaciones_para_variantes_de_interes_por_parte_de_este_kit':'VOI no detectadas'\n",
    "            })['n_documento'],\n",
    "        labels={'variante_linaje':'Variante detectada'},\n",
    "       ).update_layout(\n",
    "    title= 'Variantes detectadas en la Región de Aysén',\n",
    "    yaxis_title='No. de casos identificados por variante',\n",
    "    xaxis_title='Fecha de resultado de Secuenciación o Genotipificación',\n",
    "    template='simple_white',\n",
    "    \n",
    "    \n",
    ")\n"
   ]
  },
  {
   "cell_type": "code",
   "execution_count": 174,
   "id": "4d410e66",
   "metadata": {},
   "outputs": [
    {
     "data": {
      "application/vnd.plotly.v1+json": {
       "config": {
        "plotlyServerURL": "https://plot.ly"
       },
       "data": [
        {
         "hovertemplate": "Variante detectada=Alfa<br>fecha_resultado_secuenciacion_genotipificacion=%{x}<br>value=%{y}<extra></extra>",
         "legendgroup": "Alfa",
         "line": {
          "color": "#636efa",
          "dash": "solid"
         },
         "mode": "lines",
         "name": "Alfa",
         "orientation": "v",
         "showlegend": true,
         "type": "scatter",
         "x": [
          "2021-03-21T00:00:00",
          "2021-04-05T00:00:00",
          "2021-04-08T00:00:00",
          "2021-04-19T00:00:00",
          "2021-05-05T00:00:00",
          "2021-05-14T00:00:00",
          "2021-05-19T00:00:00",
          "2021-05-24T00:00:00",
          "2021-05-26T00:00:00",
          "2021-06-09T00:00:00",
          "2021-06-17T00:00:00",
          "2021-06-30T00:00:00",
          "2021-07-07T00:00:00",
          "2021-07-14T00:00:00",
          "2021-07-21T00:00:00",
          "2021-07-28T00:00:00",
          "2021-07-31T00:00:00",
          "2021-08-01T00:00:00",
          "2021-08-03T00:00:00",
          "2021-08-06T00:00:00",
          "2021-08-12T00:00:00",
          "2021-08-13T00:00:00",
          "2021-08-17T00:00:00",
          "2021-08-18T00:00:00",
          "2021-08-21T00:00:00",
          "2021-08-23T00:00:00",
          "2021-08-25T00:00:00",
          "2021-08-26T00:00:00",
          "2021-09-01T00:00:00"
         ],
         "xaxis": "x",
         "y": [
          0,
          0,
          0,
          0,
          0,
          0,
          0,
          0,
          1,
          1,
          1,
          1,
          1,
          1,
          1,
          1,
          1,
          1,
          1,
          1,
          1,
          1,
          1,
          1,
          1,
          1,
          1,
          1,
          1
         ],
         "yaxis": "y"
        },
        {
         "hovertemplate": "Variante detectada=B.1<br>fecha_resultado_secuenciacion_genotipificacion=%{x}<br>value=%{y}<extra></extra>",
         "legendgroup": "B.1",
         "line": {
          "color": "#EF553B",
          "dash": "solid"
         },
         "mode": "lines",
         "name": "B.1",
         "orientation": "v",
         "showlegend": true,
         "type": "scatter",
         "x": [
          "2021-03-21T00:00:00",
          "2021-04-05T00:00:00",
          "2021-04-08T00:00:00",
          "2021-04-19T00:00:00",
          "2021-05-05T00:00:00",
          "2021-05-14T00:00:00",
          "2021-05-19T00:00:00",
          "2021-05-24T00:00:00",
          "2021-05-26T00:00:00",
          "2021-06-09T00:00:00",
          "2021-06-17T00:00:00",
          "2021-06-30T00:00:00",
          "2021-07-07T00:00:00",
          "2021-07-14T00:00:00",
          "2021-07-21T00:00:00",
          "2021-07-28T00:00:00",
          "2021-07-31T00:00:00",
          "2021-08-01T00:00:00",
          "2021-08-03T00:00:00",
          "2021-08-06T00:00:00",
          "2021-08-12T00:00:00",
          "2021-08-13T00:00:00",
          "2021-08-17T00:00:00",
          "2021-08-18T00:00:00",
          "2021-08-21T00:00:00",
          "2021-08-23T00:00:00",
          "2021-08-25T00:00:00",
          "2021-08-26T00:00:00",
          "2021-09-01T00:00:00"
         ],
         "xaxis": "x",
         "y": [
          0,
          0,
          0,
          0,
          0,
          0,
          0,
          0,
          0,
          1,
          1,
          1,
          1,
          1,
          1,
          1,
          1,
          1,
          1,
          1,
          1,
          1,
          1,
          1,
          1,
          1,
          1,
          1,
          1
         ],
         "yaxis": "y"
        },
        {
         "hovertemplate": "Variante detectada=B.1.1<br>fecha_resultado_secuenciacion_genotipificacion=%{x}<br>value=%{y}<extra></extra>",
         "legendgroup": "B.1.1",
         "line": {
          "color": "#00cc96",
          "dash": "solid"
         },
         "mode": "lines",
         "name": "B.1.1",
         "orientation": "v",
         "showlegend": true,
         "type": "scatter",
         "x": [
          "2021-03-21T00:00:00",
          "2021-04-05T00:00:00",
          "2021-04-08T00:00:00",
          "2021-04-19T00:00:00",
          "2021-05-05T00:00:00",
          "2021-05-14T00:00:00",
          "2021-05-19T00:00:00",
          "2021-05-24T00:00:00",
          "2021-05-26T00:00:00",
          "2021-06-09T00:00:00",
          "2021-06-17T00:00:00",
          "2021-06-30T00:00:00",
          "2021-07-07T00:00:00",
          "2021-07-14T00:00:00",
          "2021-07-21T00:00:00",
          "2021-07-28T00:00:00",
          "2021-07-31T00:00:00",
          "2021-08-01T00:00:00",
          "2021-08-03T00:00:00",
          "2021-08-06T00:00:00",
          "2021-08-12T00:00:00",
          "2021-08-13T00:00:00",
          "2021-08-17T00:00:00",
          "2021-08-18T00:00:00",
          "2021-08-21T00:00:00",
          "2021-08-23T00:00:00",
          "2021-08-25T00:00:00",
          "2021-08-26T00:00:00",
          "2021-09-01T00:00:00"
         ],
         "xaxis": "x",
         "y": [
          0,
          1,
          1,
          2,
          2,
          2,
          2,
          2,
          4,
          5,
          5,
          5,
          5,
          5,
          5,
          5,
          5,
          5,
          5,
          5,
          5,
          5,
          5,
          5,
          5,
          5,
          5,
          5,
          5
         ],
         "yaxis": "y"
        },
        {
         "hovertemplate": "Variante detectada=B.1.1.348<br>fecha_resultado_secuenciacion_genotipificacion=%{x}<br>value=%{y}<extra></extra>",
         "legendgroup": "B.1.1.348",
         "line": {
          "color": "#ab63fa",
          "dash": "solid"
         },
         "mode": "lines",
         "name": "B.1.1.348",
         "orientation": "v",
         "showlegend": true,
         "type": "scatter",
         "x": [
          "2021-03-21T00:00:00",
          "2021-04-05T00:00:00",
          "2021-04-08T00:00:00",
          "2021-04-19T00:00:00",
          "2021-05-05T00:00:00",
          "2021-05-14T00:00:00",
          "2021-05-19T00:00:00",
          "2021-05-24T00:00:00",
          "2021-05-26T00:00:00",
          "2021-06-09T00:00:00",
          "2021-06-17T00:00:00",
          "2021-06-30T00:00:00",
          "2021-07-07T00:00:00",
          "2021-07-14T00:00:00",
          "2021-07-21T00:00:00",
          "2021-07-28T00:00:00",
          "2021-07-31T00:00:00",
          "2021-08-01T00:00:00",
          "2021-08-03T00:00:00",
          "2021-08-06T00:00:00",
          "2021-08-12T00:00:00",
          "2021-08-13T00:00:00",
          "2021-08-17T00:00:00",
          "2021-08-18T00:00:00",
          "2021-08-21T00:00:00",
          "2021-08-23T00:00:00",
          "2021-08-25T00:00:00",
          "2021-08-26T00:00:00",
          "2021-09-01T00:00:00"
         ],
         "xaxis": "x",
         "y": [
          1,
          2,
          2,
          2,
          2,
          2,
          2,
          2,
          2,
          2,
          2,
          2,
          2,
          2,
          2,
          2,
          2,
          2,
          2,
          2,
          2,
          2,
          2,
          2,
          2,
          2,
          2,
          2,
          2
         ],
         "yaxis": "y"
        },
        {
         "hovertemplate": "Variante detectada=Gamma<br>fecha_resultado_secuenciacion_genotipificacion=%{x}<br>value=%{y}<extra></extra>",
         "legendgroup": "Gamma",
         "line": {
          "color": "#FFA15A",
          "dash": "solid"
         },
         "mode": "lines",
         "name": "Gamma",
         "orientation": "v",
         "showlegend": true,
         "type": "scatter",
         "x": [
          "2021-03-21T00:00:00",
          "2021-04-05T00:00:00",
          "2021-04-08T00:00:00",
          "2021-04-19T00:00:00",
          "2021-05-05T00:00:00",
          "2021-05-14T00:00:00",
          "2021-05-19T00:00:00",
          "2021-05-24T00:00:00",
          "2021-05-26T00:00:00",
          "2021-06-09T00:00:00",
          "2021-06-17T00:00:00",
          "2021-06-30T00:00:00",
          "2021-07-07T00:00:00",
          "2021-07-14T00:00:00",
          "2021-07-21T00:00:00",
          "2021-07-28T00:00:00",
          "2021-07-31T00:00:00",
          "2021-08-01T00:00:00",
          "2021-08-03T00:00:00",
          "2021-08-06T00:00:00",
          "2021-08-12T00:00:00",
          "2021-08-13T00:00:00",
          "2021-08-17T00:00:00",
          "2021-08-18T00:00:00",
          "2021-08-21T00:00:00",
          "2021-08-23T00:00:00",
          "2021-08-25T00:00:00",
          "2021-08-26T00:00:00",
          "2021-09-01T00:00:00"
         ],
         "xaxis": "x",
         "y": [
          0,
          0,
          0,
          0,
          2,
          6,
          9,
          9,
          13,
          20,
          24,
          28,
          32,
          47,
          58,
          60,
          61,
          61,
          62,
          71,
          76,
          82,
          91,
          96,
          100,
          107,
          116,
          122,
          127
         ],
         "yaxis": "y"
        },
        {
         "hovertemplate": "Variante detectada=Lambda<br>fecha_resultado_secuenciacion_genotipificacion=%{x}<br>value=%{y}<extra></extra>",
         "legendgroup": "Lambda",
         "line": {
          "color": "#19d3f3",
          "dash": "solid"
         },
         "mode": "lines",
         "name": "Lambda",
         "orientation": "v",
         "showlegend": true,
         "type": "scatter",
         "x": [
          "2021-03-21T00:00:00",
          "2021-04-05T00:00:00",
          "2021-04-08T00:00:00",
          "2021-04-19T00:00:00",
          "2021-05-05T00:00:00",
          "2021-05-14T00:00:00",
          "2021-05-19T00:00:00",
          "2021-05-24T00:00:00",
          "2021-05-26T00:00:00",
          "2021-06-09T00:00:00",
          "2021-06-17T00:00:00",
          "2021-06-30T00:00:00",
          "2021-07-07T00:00:00",
          "2021-07-14T00:00:00",
          "2021-07-21T00:00:00",
          "2021-07-28T00:00:00",
          "2021-07-31T00:00:00",
          "2021-08-01T00:00:00",
          "2021-08-03T00:00:00",
          "2021-08-06T00:00:00",
          "2021-08-12T00:00:00",
          "2021-08-13T00:00:00",
          "2021-08-17T00:00:00",
          "2021-08-18T00:00:00",
          "2021-08-21T00:00:00",
          "2021-08-23T00:00:00",
          "2021-08-25T00:00:00",
          "2021-08-26T00:00:00",
          "2021-09-01T00:00:00"
         ],
         "xaxis": "x",
         "y": [
          0,
          0,
          0,
          3,
          7,
          13,
          17,
          17,
          25,
          27,
          27,
          29,
          35,
          43,
          48,
          48,
          48,
          48,
          48,
          49,
          50,
          50,
          50,
          50,
          50,
          50,
          51,
          51,
          52
         ],
         "yaxis": "y"
        },
        {
         "hovertemplate": "Variante detectada=N.4<br>fecha_resultado_secuenciacion_genotipificacion=%{x}<br>value=%{y}<extra></extra>",
         "legendgroup": "N.4",
         "line": {
          "color": "#FF6692",
          "dash": "solid"
         },
         "mode": "lines",
         "name": "N.4",
         "orientation": "v",
         "showlegend": true,
         "type": "scatter",
         "x": [
          "2021-03-21T00:00:00",
          "2021-04-05T00:00:00",
          "2021-04-08T00:00:00",
          "2021-04-19T00:00:00",
          "2021-05-05T00:00:00",
          "2021-05-14T00:00:00",
          "2021-05-19T00:00:00",
          "2021-05-24T00:00:00",
          "2021-05-26T00:00:00",
          "2021-06-09T00:00:00",
          "2021-06-17T00:00:00",
          "2021-06-30T00:00:00",
          "2021-07-07T00:00:00",
          "2021-07-14T00:00:00",
          "2021-07-21T00:00:00",
          "2021-07-28T00:00:00",
          "2021-07-31T00:00:00",
          "2021-08-01T00:00:00",
          "2021-08-03T00:00:00",
          "2021-08-06T00:00:00",
          "2021-08-12T00:00:00",
          "2021-08-13T00:00:00",
          "2021-08-17T00:00:00",
          "2021-08-18T00:00:00",
          "2021-08-21T00:00:00",
          "2021-08-23T00:00:00",
          "2021-08-25T00:00:00",
          "2021-08-26T00:00:00",
          "2021-09-01T00:00:00"
         ],
         "xaxis": "x",
         "y": [
          1,
          1,
          1,
          1,
          1,
          1,
          1,
          1,
          1,
          1,
          1,
          1,
          1,
          1,
          1,
          1,
          1,
          1,
          1,
          1,
          1,
          1,
          1,
          1,
          1,
          1,
          1,
          1,
          1
         ],
         "yaxis": "y"
        },
        {
         "hovertemplate": "Variante detectada=VOI no detectadas<br>fecha_resultado_secuenciacion_genotipificacion=%{x}<br>value=%{y}<extra></extra>",
         "legendgroup": "VOI no detectadas",
         "line": {
          "color": "#B6E880",
          "dash": "solid"
         },
         "mode": "lines",
         "name": "VOI no detectadas",
         "orientation": "v",
         "showlegend": true,
         "type": "scatter",
         "x": [
          "2021-03-21T00:00:00",
          "2021-04-05T00:00:00",
          "2021-04-08T00:00:00",
          "2021-04-19T00:00:00",
          "2021-05-05T00:00:00",
          "2021-05-14T00:00:00",
          "2021-05-19T00:00:00",
          "2021-05-24T00:00:00",
          "2021-05-26T00:00:00",
          "2021-06-09T00:00:00",
          "2021-06-17T00:00:00",
          "2021-06-30T00:00:00",
          "2021-07-07T00:00:00",
          "2021-07-14T00:00:00",
          "2021-07-21T00:00:00",
          "2021-07-28T00:00:00",
          "2021-07-31T00:00:00",
          "2021-08-01T00:00:00",
          "2021-08-03T00:00:00",
          "2021-08-06T00:00:00",
          "2021-08-12T00:00:00",
          "2021-08-13T00:00:00",
          "2021-08-17T00:00:00",
          "2021-08-18T00:00:00",
          "2021-08-21T00:00:00",
          "2021-08-23T00:00:00",
          "2021-08-25T00:00:00",
          "2021-08-26T00:00:00",
          "2021-09-01T00:00:00"
         ],
         "xaxis": "x",
         "y": [
          0,
          0,
          0,
          0,
          0,
          0,
          0,
          0,
          0,
          0,
          0,
          0,
          0,
          0,
          0,
          0,
          0,
          0,
          0,
          0,
          0,
          0,
          0,
          1,
          1,
          1,
          1,
          1,
          1
         ],
         "yaxis": "y"
        },
        {
         "name": "No. de secuenciaciones",
         "type": "bar",
         "x": [
          "2021-03-21T00:00:00",
          "2021-04-05T00:00:00",
          "2021-04-08T00:00:00",
          "2021-04-19T00:00:00",
          "2021-05-05T00:00:00",
          "2021-05-14T00:00:00",
          "2021-05-19T00:00:00",
          "2021-05-24T00:00:00",
          "2021-05-26T00:00:00",
          "2021-06-09T00:00:00",
          "2021-06-17T00:00:00",
          "2021-06-30T00:00:00",
          "2021-07-07T00:00:00",
          "2021-07-14T00:00:00",
          "2021-07-21T00:00:00",
          "2021-07-28T00:00:00",
          "2021-07-31T00:00:00",
          "2021-08-01T00:00:00",
          "2021-08-03T00:00:00",
          "2021-08-06T00:00:00",
          "2021-08-12T00:00:00",
          "2021-08-13T00:00:00",
          "2021-08-17T00:00:00",
          "2021-08-18T00:00:00",
          "2021-08-21T00:00:00",
          "2021-08-23T00:00:00",
          "2021-08-25T00:00:00",
          "2021-08-26T00:00:00",
          "2021-09-01T00:00:00"
         ],
         "y": [
          2,
          2,
          1,
          4,
          6,
          10,
          7,
          1,
          15,
          11,
          5,
          8,
          15,
          29,
          27,
          2,
          3,
          1,
          2,
          11,
          6,
          6,
          10,
          6,
          4,
          8,
          13,
          6,
          7
         ]
        }
       ],
       "layout": {
        "legend": {
         "title": {
          "text": "Variante detectada"
         },
         "tracegroupgap": 0
        },
        "margin": {
         "t": 60
        },
        "template": {
         "data": {
          "bar": [
           {
            "error_x": {
             "color": "rgb(36,36,36)"
            },
            "error_y": {
             "color": "rgb(36,36,36)"
            },
            "marker": {
             "line": {
              "color": "white",
              "width": 0.5
             }
            },
            "type": "bar"
           }
          ],
          "barpolar": [
           {
            "marker": {
             "line": {
              "color": "white",
              "width": 0.5
             }
            },
            "type": "barpolar"
           }
          ],
          "carpet": [
           {
            "aaxis": {
             "endlinecolor": "rgb(36,36,36)",
             "gridcolor": "white",
             "linecolor": "white",
             "minorgridcolor": "white",
             "startlinecolor": "rgb(36,36,36)"
            },
            "baxis": {
             "endlinecolor": "rgb(36,36,36)",
             "gridcolor": "white",
             "linecolor": "white",
             "minorgridcolor": "white",
             "startlinecolor": "rgb(36,36,36)"
            },
            "type": "carpet"
           }
          ],
          "choropleth": [
           {
            "colorbar": {
             "outlinewidth": 1,
             "tickcolor": "rgb(36,36,36)",
             "ticks": "outside"
            },
            "type": "choropleth"
           }
          ],
          "contour": [
           {
            "colorbar": {
             "outlinewidth": 1,
             "tickcolor": "rgb(36,36,36)",
             "ticks": "outside"
            },
            "colorscale": [
             [
              0,
              "#440154"
             ],
             [
              0.1111111111111111,
              "#482878"
             ],
             [
              0.2222222222222222,
              "#3e4989"
             ],
             [
              0.3333333333333333,
              "#31688e"
             ],
             [
              0.4444444444444444,
              "#26828e"
             ],
             [
              0.5555555555555556,
              "#1f9e89"
             ],
             [
              0.6666666666666666,
              "#35b779"
             ],
             [
              0.7777777777777778,
              "#6ece58"
             ],
             [
              0.8888888888888888,
              "#b5de2b"
             ],
             [
              1,
              "#fde725"
             ]
            ],
            "type": "contour"
           }
          ],
          "contourcarpet": [
           {
            "colorbar": {
             "outlinewidth": 1,
             "tickcolor": "rgb(36,36,36)",
             "ticks": "outside"
            },
            "type": "contourcarpet"
           }
          ],
          "heatmap": [
           {
            "colorbar": {
             "outlinewidth": 1,
             "tickcolor": "rgb(36,36,36)",
             "ticks": "outside"
            },
            "colorscale": [
             [
              0,
              "#440154"
             ],
             [
              0.1111111111111111,
              "#482878"
             ],
             [
              0.2222222222222222,
              "#3e4989"
             ],
             [
              0.3333333333333333,
              "#31688e"
             ],
             [
              0.4444444444444444,
              "#26828e"
             ],
             [
              0.5555555555555556,
              "#1f9e89"
             ],
             [
              0.6666666666666666,
              "#35b779"
             ],
             [
              0.7777777777777778,
              "#6ece58"
             ],
             [
              0.8888888888888888,
              "#b5de2b"
             ],
             [
              1,
              "#fde725"
             ]
            ],
            "type": "heatmap"
           }
          ],
          "heatmapgl": [
           {
            "colorbar": {
             "outlinewidth": 1,
             "tickcolor": "rgb(36,36,36)",
             "ticks": "outside"
            },
            "colorscale": [
             [
              0,
              "#440154"
             ],
             [
              0.1111111111111111,
              "#482878"
             ],
             [
              0.2222222222222222,
              "#3e4989"
             ],
             [
              0.3333333333333333,
              "#31688e"
             ],
             [
              0.4444444444444444,
              "#26828e"
             ],
             [
              0.5555555555555556,
              "#1f9e89"
             ],
             [
              0.6666666666666666,
              "#35b779"
             ],
             [
              0.7777777777777778,
              "#6ece58"
             ],
             [
              0.8888888888888888,
              "#b5de2b"
             ],
             [
              1,
              "#fde725"
             ]
            ],
            "type": "heatmapgl"
           }
          ],
          "histogram": [
           {
            "marker": {
             "line": {
              "color": "white",
              "width": 0.6
             }
            },
            "type": "histogram"
           }
          ],
          "histogram2d": [
           {
            "colorbar": {
             "outlinewidth": 1,
             "tickcolor": "rgb(36,36,36)",
             "ticks": "outside"
            },
            "colorscale": [
             [
              0,
              "#440154"
             ],
             [
              0.1111111111111111,
              "#482878"
             ],
             [
              0.2222222222222222,
              "#3e4989"
             ],
             [
              0.3333333333333333,
              "#31688e"
             ],
             [
              0.4444444444444444,
              "#26828e"
             ],
             [
              0.5555555555555556,
              "#1f9e89"
             ],
             [
              0.6666666666666666,
              "#35b779"
             ],
             [
              0.7777777777777778,
              "#6ece58"
             ],
             [
              0.8888888888888888,
              "#b5de2b"
             ],
             [
              1,
              "#fde725"
             ]
            ],
            "type": "histogram2d"
           }
          ],
          "histogram2dcontour": [
           {
            "colorbar": {
             "outlinewidth": 1,
             "tickcolor": "rgb(36,36,36)",
             "ticks": "outside"
            },
            "colorscale": [
             [
              0,
              "#440154"
             ],
             [
              0.1111111111111111,
              "#482878"
             ],
             [
              0.2222222222222222,
              "#3e4989"
             ],
             [
              0.3333333333333333,
              "#31688e"
             ],
             [
              0.4444444444444444,
              "#26828e"
             ],
             [
              0.5555555555555556,
              "#1f9e89"
             ],
             [
              0.6666666666666666,
              "#35b779"
             ],
             [
              0.7777777777777778,
              "#6ece58"
             ],
             [
              0.8888888888888888,
              "#b5de2b"
             ],
             [
              1,
              "#fde725"
             ]
            ],
            "type": "histogram2dcontour"
           }
          ],
          "mesh3d": [
           {
            "colorbar": {
             "outlinewidth": 1,
             "tickcolor": "rgb(36,36,36)",
             "ticks": "outside"
            },
            "type": "mesh3d"
           }
          ],
          "parcoords": [
           {
            "line": {
             "colorbar": {
              "outlinewidth": 1,
              "tickcolor": "rgb(36,36,36)",
              "ticks": "outside"
             }
            },
            "type": "parcoords"
           }
          ],
          "pie": [
           {
            "automargin": true,
            "type": "pie"
           }
          ],
          "scatter": [
           {
            "marker": {
             "colorbar": {
              "outlinewidth": 1,
              "tickcolor": "rgb(36,36,36)",
              "ticks": "outside"
             }
            },
            "type": "scatter"
           }
          ],
          "scatter3d": [
           {
            "line": {
             "colorbar": {
              "outlinewidth": 1,
              "tickcolor": "rgb(36,36,36)",
              "ticks": "outside"
             }
            },
            "marker": {
             "colorbar": {
              "outlinewidth": 1,
              "tickcolor": "rgb(36,36,36)",
              "ticks": "outside"
             }
            },
            "type": "scatter3d"
           }
          ],
          "scattercarpet": [
           {
            "marker": {
             "colorbar": {
              "outlinewidth": 1,
              "tickcolor": "rgb(36,36,36)",
              "ticks": "outside"
             }
            },
            "type": "scattercarpet"
           }
          ],
          "scattergeo": [
           {
            "marker": {
             "colorbar": {
              "outlinewidth": 1,
              "tickcolor": "rgb(36,36,36)",
              "ticks": "outside"
             }
            },
            "type": "scattergeo"
           }
          ],
          "scattergl": [
           {
            "marker": {
             "colorbar": {
              "outlinewidth": 1,
              "tickcolor": "rgb(36,36,36)",
              "ticks": "outside"
             }
            },
            "type": "scattergl"
           }
          ],
          "scattermapbox": [
           {
            "marker": {
             "colorbar": {
              "outlinewidth": 1,
              "tickcolor": "rgb(36,36,36)",
              "ticks": "outside"
             }
            },
            "type": "scattermapbox"
           }
          ],
          "scatterpolar": [
           {
            "marker": {
             "colorbar": {
              "outlinewidth": 1,
              "tickcolor": "rgb(36,36,36)",
              "ticks": "outside"
             }
            },
            "type": "scatterpolar"
           }
          ],
          "scatterpolargl": [
           {
            "marker": {
             "colorbar": {
              "outlinewidth": 1,
              "tickcolor": "rgb(36,36,36)",
              "ticks": "outside"
             }
            },
            "type": "scatterpolargl"
           }
          ],
          "scatterternary": [
           {
            "marker": {
             "colorbar": {
              "outlinewidth": 1,
              "tickcolor": "rgb(36,36,36)",
              "ticks": "outside"
             }
            },
            "type": "scatterternary"
           }
          ],
          "surface": [
           {
            "colorbar": {
             "outlinewidth": 1,
             "tickcolor": "rgb(36,36,36)",
             "ticks": "outside"
            },
            "colorscale": [
             [
              0,
              "#440154"
             ],
             [
              0.1111111111111111,
              "#482878"
             ],
             [
              0.2222222222222222,
              "#3e4989"
             ],
             [
              0.3333333333333333,
              "#31688e"
             ],
             [
              0.4444444444444444,
              "#26828e"
             ],
             [
              0.5555555555555556,
              "#1f9e89"
             ],
             [
              0.6666666666666666,
              "#35b779"
             ],
             [
              0.7777777777777778,
              "#6ece58"
             ],
             [
              0.8888888888888888,
              "#b5de2b"
             ],
             [
              1,
              "#fde725"
             ]
            ],
            "type": "surface"
           }
          ],
          "table": [
           {
            "cells": {
             "fill": {
              "color": "rgb(237,237,237)"
             },
             "line": {
              "color": "white"
             }
            },
            "header": {
             "fill": {
              "color": "rgb(217,217,217)"
             },
             "line": {
              "color": "white"
             }
            },
            "type": "table"
           }
          ]
         },
         "layout": {
          "annotationdefaults": {
           "arrowhead": 0,
           "arrowwidth": 1
          },
          "autotypenumbers": "strict",
          "coloraxis": {
           "colorbar": {
            "outlinewidth": 1,
            "tickcolor": "rgb(36,36,36)",
            "ticks": "outside"
           }
          },
          "colorscale": {
           "diverging": [
            [
             0,
             "rgb(103,0,31)"
            ],
            [
             0.1,
             "rgb(178,24,43)"
            ],
            [
             0.2,
             "rgb(214,96,77)"
            ],
            [
             0.3,
             "rgb(244,165,130)"
            ],
            [
             0.4,
             "rgb(253,219,199)"
            ],
            [
             0.5,
             "rgb(247,247,247)"
            ],
            [
             0.6,
             "rgb(209,229,240)"
            ],
            [
             0.7,
             "rgb(146,197,222)"
            ],
            [
             0.8,
             "rgb(67,147,195)"
            ],
            [
             0.9,
             "rgb(33,102,172)"
            ],
            [
             1,
             "rgb(5,48,97)"
            ]
           ],
           "sequential": [
            [
             0,
             "#440154"
            ],
            [
             0.1111111111111111,
             "#482878"
            ],
            [
             0.2222222222222222,
             "#3e4989"
            ],
            [
             0.3333333333333333,
             "#31688e"
            ],
            [
             0.4444444444444444,
             "#26828e"
            ],
            [
             0.5555555555555556,
             "#1f9e89"
            ],
            [
             0.6666666666666666,
             "#35b779"
            ],
            [
             0.7777777777777778,
             "#6ece58"
            ],
            [
             0.8888888888888888,
             "#b5de2b"
            ],
            [
             1,
             "#fde725"
            ]
           ],
           "sequentialminus": [
            [
             0,
             "#440154"
            ],
            [
             0.1111111111111111,
             "#482878"
            ],
            [
             0.2222222222222222,
             "#3e4989"
            ],
            [
             0.3333333333333333,
             "#31688e"
            ],
            [
             0.4444444444444444,
             "#26828e"
            ],
            [
             0.5555555555555556,
             "#1f9e89"
            ],
            [
             0.6666666666666666,
             "#35b779"
            ],
            [
             0.7777777777777778,
             "#6ece58"
            ],
            [
             0.8888888888888888,
             "#b5de2b"
            ],
            [
             1,
             "#fde725"
            ]
           ]
          },
          "colorway": [
           "#1F77B4",
           "#FF7F0E",
           "#2CA02C",
           "#D62728",
           "#9467BD",
           "#8C564B",
           "#E377C2",
           "#7F7F7F",
           "#BCBD22",
           "#17BECF"
          ],
          "font": {
           "color": "rgb(36,36,36)"
          },
          "geo": {
           "bgcolor": "white",
           "lakecolor": "white",
           "landcolor": "white",
           "showlakes": true,
           "showland": true,
           "subunitcolor": "white"
          },
          "hoverlabel": {
           "align": "left"
          },
          "hovermode": "closest",
          "mapbox": {
           "style": "light"
          },
          "paper_bgcolor": "white",
          "plot_bgcolor": "white",
          "polar": {
           "angularaxis": {
            "gridcolor": "rgb(232,232,232)",
            "linecolor": "rgb(36,36,36)",
            "showgrid": false,
            "showline": true,
            "ticks": "outside"
           },
           "bgcolor": "white",
           "radialaxis": {
            "gridcolor": "rgb(232,232,232)",
            "linecolor": "rgb(36,36,36)",
            "showgrid": false,
            "showline": true,
            "ticks": "outside"
           }
          },
          "scene": {
           "xaxis": {
            "backgroundcolor": "white",
            "gridcolor": "rgb(232,232,232)",
            "gridwidth": 2,
            "linecolor": "rgb(36,36,36)",
            "showbackground": true,
            "showgrid": false,
            "showline": true,
            "ticks": "outside",
            "zeroline": false,
            "zerolinecolor": "rgb(36,36,36)"
           },
           "yaxis": {
            "backgroundcolor": "white",
            "gridcolor": "rgb(232,232,232)",
            "gridwidth": 2,
            "linecolor": "rgb(36,36,36)",
            "showbackground": true,
            "showgrid": false,
            "showline": true,
            "ticks": "outside",
            "zeroline": false,
            "zerolinecolor": "rgb(36,36,36)"
           },
           "zaxis": {
            "backgroundcolor": "white",
            "gridcolor": "rgb(232,232,232)",
            "gridwidth": 2,
            "linecolor": "rgb(36,36,36)",
            "showbackground": true,
            "showgrid": false,
            "showline": true,
            "ticks": "outside",
            "zeroline": false,
            "zerolinecolor": "rgb(36,36,36)"
           }
          },
          "shapedefaults": {
           "fillcolor": "black",
           "line": {
            "width": 0
           },
           "opacity": 0.3
          },
          "ternary": {
           "aaxis": {
            "gridcolor": "rgb(232,232,232)",
            "linecolor": "rgb(36,36,36)",
            "showgrid": false,
            "showline": true,
            "ticks": "outside"
           },
           "baxis": {
            "gridcolor": "rgb(232,232,232)",
            "linecolor": "rgb(36,36,36)",
            "showgrid": false,
            "showline": true,
            "ticks": "outside"
           },
           "bgcolor": "white",
           "caxis": {
            "gridcolor": "rgb(232,232,232)",
            "linecolor": "rgb(36,36,36)",
            "showgrid": false,
            "showline": true,
            "ticks": "outside"
           }
          },
          "title": {
           "x": 0.05
          },
          "xaxis": {
           "automargin": true,
           "gridcolor": "rgb(232,232,232)",
           "linecolor": "rgb(36,36,36)",
           "showgrid": false,
           "showline": true,
           "ticks": "outside",
           "title": {
            "standoff": 15
           },
           "zeroline": false,
           "zerolinecolor": "rgb(36,36,36)"
          },
          "yaxis": {
           "automargin": true,
           "gridcolor": "rgb(232,232,232)",
           "linecolor": "rgb(36,36,36)",
           "showgrid": false,
           "showline": true,
           "ticks": "outside",
           "title": {
            "standoff": 15
           },
           "zeroline": false,
           "zerolinecolor": "rgb(36,36,36)"
          }
         }
        },
        "title": {
         "text": "Variantes detectadas en la Región de Aysén"
        },
        "xaxis": {
         "anchor": "y",
         "domain": [
          0,
          1
         ],
         "title": {
          "text": "Fecha de resultado de Secuenciación o Genotipificación"
         }
        },
        "yaxis": {
         "anchor": "x",
         "domain": [
          0,
          1
         ],
         "title": {
          "text": "No. de casos identificados por variante"
         }
        }
       }
      },
      "text/html": [
       "<div>                            <div id=\"ec9864a9-954b-41bc-b6ec-cf977bec1d4e\" class=\"plotly-graph-div\" style=\"height:525px; width:100%;\"></div>            <script type=\"text/javascript\">                require([\"plotly\"], function(Plotly) {                    window.PLOTLYENV=window.PLOTLYENV || {};                                    if (document.getElementById(\"ec9864a9-954b-41bc-b6ec-cf977bec1d4e\")) {                    Plotly.newPlot(                        \"ec9864a9-954b-41bc-b6ec-cf977bec1d4e\",                        [{\"hovertemplate\": \"Variante detectada=Alfa<br>fecha_resultado_secuenciacion_genotipificacion=%{x}<br>value=%{y}<extra></extra>\", \"legendgroup\": \"Alfa\", \"line\": {\"color\": \"#636efa\", \"dash\": \"solid\"}, \"mode\": \"lines\", \"name\": \"Alfa\", \"orientation\": \"v\", \"showlegend\": true, \"type\": \"scatter\", \"x\": [\"2021-03-21T00:00:00\", \"2021-04-05T00:00:00\", \"2021-04-08T00:00:00\", \"2021-04-19T00:00:00\", \"2021-05-05T00:00:00\", \"2021-05-14T00:00:00\", \"2021-05-19T00:00:00\", \"2021-05-24T00:00:00\", \"2021-05-26T00:00:00\", \"2021-06-09T00:00:00\", \"2021-06-17T00:00:00\", \"2021-06-30T00:00:00\", \"2021-07-07T00:00:00\", \"2021-07-14T00:00:00\", \"2021-07-21T00:00:00\", \"2021-07-28T00:00:00\", \"2021-07-31T00:00:00\", \"2021-08-01T00:00:00\", \"2021-08-03T00:00:00\", \"2021-08-06T00:00:00\", \"2021-08-12T00:00:00\", \"2021-08-13T00:00:00\", \"2021-08-17T00:00:00\", \"2021-08-18T00:00:00\", \"2021-08-21T00:00:00\", \"2021-08-23T00:00:00\", \"2021-08-25T00:00:00\", \"2021-08-26T00:00:00\", \"2021-09-01T00:00:00\"], \"xaxis\": \"x\", \"y\": [0.0, 0.0, 0.0, 0.0, 0.0, 0.0, 0.0, 0.0, 1.0, 1.0, 1.0, 1.0, 1.0, 1.0, 1.0, 1.0, 1.0, 1.0, 1.0, 1.0, 1.0, 1.0, 1.0, 1.0, 1.0, 1.0, 1.0, 1.0, 1.0], \"yaxis\": \"y\"}, {\"hovertemplate\": \"Variante detectada=B.1<br>fecha_resultado_secuenciacion_genotipificacion=%{x}<br>value=%{y}<extra></extra>\", \"legendgroup\": \"B.1\", \"line\": {\"color\": \"#EF553B\", \"dash\": \"solid\"}, \"mode\": \"lines\", \"name\": \"B.1\", \"orientation\": \"v\", \"showlegend\": true, \"type\": \"scatter\", \"x\": [\"2021-03-21T00:00:00\", \"2021-04-05T00:00:00\", \"2021-04-08T00:00:00\", \"2021-04-19T00:00:00\", \"2021-05-05T00:00:00\", \"2021-05-14T00:00:00\", \"2021-05-19T00:00:00\", \"2021-05-24T00:00:00\", \"2021-05-26T00:00:00\", \"2021-06-09T00:00:00\", \"2021-06-17T00:00:00\", \"2021-06-30T00:00:00\", \"2021-07-07T00:00:00\", \"2021-07-14T00:00:00\", \"2021-07-21T00:00:00\", \"2021-07-28T00:00:00\", \"2021-07-31T00:00:00\", \"2021-08-01T00:00:00\", \"2021-08-03T00:00:00\", \"2021-08-06T00:00:00\", \"2021-08-12T00:00:00\", \"2021-08-13T00:00:00\", \"2021-08-17T00:00:00\", \"2021-08-18T00:00:00\", \"2021-08-21T00:00:00\", \"2021-08-23T00:00:00\", \"2021-08-25T00:00:00\", \"2021-08-26T00:00:00\", \"2021-09-01T00:00:00\"], \"xaxis\": \"x\", \"y\": [0.0, 0.0, 0.0, 0.0, 0.0, 0.0, 0.0, 0.0, 0.0, 1.0, 1.0, 1.0, 1.0, 1.0, 1.0, 1.0, 1.0, 1.0, 1.0, 1.0, 1.0, 1.0, 1.0, 1.0, 1.0, 1.0, 1.0, 1.0, 1.0], \"yaxis\": \"y\"}, {\"hovertemplate\": \"Variante detectada=B.1.1<br>fecha_resultado_secuenciacion_genotipificacion=%{x}<br>value=%{y}<extra></extra>\", \"legendgroup\": \"B.1.1\", \"line\": {\"color\": \"#00cc96\", \"dash\": \"solid\"}, \"mode\": \"lines\", \"name\": \"B.1.1\", \"orientation\": \"v\", \"showlegend\": true, \"type\": \"scatter\", \"x\": [\"2021-03-21T00:00:00\", \"2021-04-05T00:00:00\", \"2021-04-08T00:00:00\", \"2021-04-19T00:00:00\", \"2021-05-05T00:00:00\", \"2021-05-14T00:00:00\", \"2021-05-19T00:00:00\", \"2021-05-24T00:00:00\", \"2021-05-26T00:00:00\", \"2021-06-09T00:00:00\", \"2021-06-17T00:00:00\", \"2021-06-30T00:00:00\", \"2021-07-07T00:00:00\", \"2021-07-14T00:00:00\", \"2021-07-21T00:00:00\", \"2021-07-28T00:00:00\", \"2021-07-31T00:00:00\", \"2021-08-01T00:00:00\", \"2021-08-03T00:00:00\", \"2021-08-06T00:00:00\", \"2021-08-12T00:00:00\", \"2021-08-13T00:00:00\", \"2021-08-17T00:00:00\", \"2021-08-18T00:00:00\", \"2021-08-21T00:00:00\", \"2021-08-23T00:00:00\", \"2021-08-25T00:00:00\", \"2021-08-26T00:00:00\", \"2021-09-01T00:00:00\"], \"xaxis\": \"x\", \"y\": [0.0, 1.0, 1.0, 2.0, 2.0, 2.0, 2.0, 2.0, 4.0, 5.0, 5.0, 5.0, 5.0, 5.0, 5.0, 5.0, 5.0, 5.0, 5.0, 5.0, 5.0, 5.0, 5.0, 5.0, 5.0, 5.0, 5.0, 5.0, 5.0], \"yaxis\": \"y\"}, {\"hovertemplate\": \"Variante detectada=B.1.1.348<br>fecha_resultado_secuenciacion_genotipificacion=%{x}<br>value=%{y}<extra></extra>\", \"legendgroup\": \"B.1.1.348\", \"line\": {\"color\": \"#ab63fa\", \"dash\": \"solid\"}, \"mode\": \"lines\", \"name\": \"B.1.1.348\", \"orientation\": \"v\", \"showlegend\": true, \"type\": \"scatter\", \"x\": [\"2021-03-21T00:00:00\", \"2021-04-05T00:00:00\", \"2021-04-08T00:00:00\", \"2021-04-19T00:00:00\", \"2021-05-05T00:00:00\", \"2021-05-14T00:00:00\", \"2021-05-19T00:00:00\", \"2021-05-24T00:00:00\", \"2021-05-26T00:00:00\", \"2021-06-09T00:00:00\", \"2021-06-17T00:00:00\", \"2021-06-30T00:00:00\", \"2021-07-07T00:00:00\", \"2021-07-14T00:00:00\", \"2021-07-21T00:00:00\", \"2021-07-28T00:00:00\", \"2021-07-31T00:00:00\", \"2021-08-01T00:00:00\", \"2021-08-03T00:00:00\", \"2021-08-06T00:00:00\", \"2021-08-12T00:00:00\", \"2021-08-13T00:00:00\", \"2021-08-17T00:00:00\", \"2021-08-18T00:00:00\", \"2021-08-21T00:00:00\", \"2021-08-23T00:00:00\", \"2021-08-25T00:00:00\", \"2021-08-26T00:00:00\", \"2021-09-01T00:00:00\"], \"xaxis\": \"x\", \"y\": [1.0, 2.0, 2.0, 2.0, 2.0, 2.0, 2.0, 2.0, 2.0, 2.0, 2.0, 2.0, 2.0, 2.0, 2.0, 2.0, 2.0, 2.0, 2.0, 2.0, 2.0, 2.0, 2.0, 2.0, 2.0, 2.0, 2.0, 2.0, 2.0], \"yaxis\": \"y\"}, {\"hovertemplate\": \"Variante detectada=Gamma<br>fecha_resultado_secuenciacion_genotipificacion=%{x}<br>value=%{y}<extra></extra>\", \"legendgroup\": \"Gamma\", \"line\": {\"color\": \"#FFA15A\", \"dash\": \"solid\"}, \"mode\": \"lines\", \"name\": \"Gamma\", \"orientation\": \"v\", \"showlegend\": true, \"type\": \"scatter\", \"x\": [\"2021-03-21T00:00:00\", \"2021-04-05T00:00:00\", \"2021-04-08T00:00:00\", \"2021-04-19T00:00:00\", \"2021-05-05T00:00:00\", \"2021-05-14T00:00:00\", \"2021-05-19T00:00:00\", \"2021-05-24T00:00:00\", \"2021-05-26T00:00:00\", \"2021-06-09T00:00:00\", \"2021-06-17T00:00:00\", \"2021-06-30T00:00:00\", \"2021-07-07T00:00:00\", \"2021-07-14T00:00:00\", \"2021-07-21T00:00:00\", \"2021-07-28T00:00:00\", \"2021-07-31T00:00:00\", \"2021-08-01T00:00:00\", \"2021-08-03T00:00:00\", \"2021-08-06T00:00:00\", \"2021-08-12T00:00:00\", \"2021-08-13T00:00:00\", \"2021-08-17T00:00:00\", \"2021-08-18T00:00:00\", \"2021-08-21T00:00:00\", \"2021-08-23T00:00:00\", \"2021-08-25T00:00:00\", \"2021-08-26T00:00:00\", \"2021-09-01T00:00:00\"], \"xaxis\": \"x\", \"y\": [0.0, 0.0, 0.0, 0.0, 2.0, 6.0, 9.0, 9.0, 13.0, 20.0, 24.0, 28.0, 32.0, 47.0, 58.0, 60.0, 61.0, 61.0, 62.0, 71.0, 76.0, 82.0, 91.0, 96.0, 100.0, 107.0, 116.0, 122.0, 127.0], \"yaxis\": \"y\"}, {\"hovertemplate\": \"Variante detectada=Lambda<br>fecha_resultado_secuenciacion_genotipificacion=%{x}<br>value=%{y}<extra></extra>\", \"legendgroup\": \"Lambda\", \"line\": {\"color\": \"#19d3f3\", \"dash\": \"solid\"}, \"mode\": \"lines\", \"name\": \"Lambda\", \"orientation\": \"v\", \"showlegend\": true, \"type\": \"scatter\", \"x\": [\"2021-03-21T00:00:00\", \"2021-04-05T00:00:00\", \"2021-04-08T00:00:00\", \"2021-04-19T00:00:00\", \"2021-05-05T00:00:00\", \"2021-05-14T00:00:00\", \"2021-05-19T00:00:00\", \"2021-05-24T00:00:00\", \"2021-05-26T00:00:00\", \"2021-06-09T00:00:00\", \"2021-06-17T00:00:00\", \"2021-06-30T00:00:00\", \"2021-07-07T00:00:00\", \"2021-07-14T00:00:00\", \"2021-07-21T00:00:00\", \"2021-07-28T00:00:00\", \"2021-07-31T00:00:00\", \"2021-08-01T00:00:00\", \"2021-08-03T00:00:00\", \"2021-08-06T00:00:00\", \"2021-08-12T00:00:00\", \"2021-08-13T00:00:00\", \"2021-08-17T00:00:00\", \"2021-08-18T00:00:00\", \"2021-08-21T00:00:00\", \"2021-08-23T00:00:00\", \"2021-08-25T00:00:00\", \"2021-08-26T00:00:00\", \"2021-09-01T00:00:00\"], \"xaxis\": \"x\", \"y\": [0.0, 0.0, 0.0, 3.0, 7.0, 13.0, 17.0, 17.0, 25.0, 27.0, 27.0, 29.0, 35.0, 43.0, 48.0, 48.0, 48.0, 48.0, 48.0, 49.0, 50.0, 50.0, 50.0, 50.0, 50.0, 50.0, 51.0, 51.0, 52.0], \"yaxis\": \"y\"}, {\"hovertemplate\": \"Variante detectada=N.4<br>fecha_resultado_secuenciacion_genotipificacion=%{x}<br>value=%{y}<extra></extra>\", \"legendgroup\": \"N.4\", \"line\": {\"color\": \"#FF6692\", \"dash\": \"solid\"}, \"mode\": \"lines\", \"name\": \"N.4\", \"orientation\": \"v\", \"showlegend\": true, \"type\": \"scatter\", \"x\": [\"2021-03-21T00:00:00\", \"2021-04-05T00:00:00\", \"2021-04-08T00:00:00\", \"2021-04-19T00:00:00\", \"2021-05-05T00:00:00\", \"2021-05-14T00:00:00\", \"2021-05-19T00:00:00\", \"2021-05-24T00:00:00\", \"2021-05-26T00:00:00\", \"2021-06-09T00:00:00\", \"2021-06-17T00:00:00\", \"2021-06-30T00:00:00\", \"2021-07-07T00:00:00\", \"2021-07-14T00:00:00\", \"2021-07-21T00:00:00\", \"2021-07-28T00:00:00\", \"2021-07-31T00:00:00\", \"2021-08-01T00:00:00\", \"2021-08-03T00:00:00\", \"2021-08-06T00:00:00\", \"2021-08-12T00:00:00\", \"2021-08-13T00:00:00\", \"2021-08-17T00:00:00\", \"2021-08-18T00:00:00\", \"2021-08-21T00:00:00\", \"2021-08-23T00:00:00\", \"2021-08-25T00:00:00\", \"2021-08-26T00:00:00\", \"2021-09-01T00:00:00\"], \"xaxis\": \"x\", \"y\": [1.0, 1.0, 1.0, 1.0, 1.0, 1.0, 1.0, 1.0, 1.0, 1.0, 1.0, 1.0, 1.0, 1.0, 1.0, 1.0, 1.0, 1.0, 1.0, 1.0, 1.0, 1.0, 1.0, 1.0, 1.0, 1.0, 1.0, 1.0, 1.0], \"yaxis\": \"y\"}, {\"hovertemplate\": \"Variante detectada=VOI no detectadas<br>fecha_resultado_secuenciacion_genotipificacion=%{x}<br>value=%{y}<extra></extra>\", \"legendgroup\": \"VOI no detectadas\", \"line\": {\"color\": \"#B6E880\", \"dash\": \"solid\"}, \"mode\": \"lines\", \"name\": \"VOI no detectadas\", \"orientation\": \"v\", \"showlegend\": true, \"type\": \"scatter\", \"x\": [\"2021-03-21T00:00:00\", \"2021-04-05T00:00:00\", \"2021-04-08T00:00:00\", \"2021-04-19T00:00:00\", \"2021-05-05T00:00:00\", \"2021-05-14T00:00:00\", \"2021-05-19T00:00:00\", \"2021-05-24T00:00:00\", \"2021-05-26T00:00:00\", \"2021-06-09T00:00:00\", \"2021-06-17T00:00:00\", \"2021-06-30T00:00:00\", \"2021-07-07T00:00:00\", \"2021-07-14T00:00:00\", \"2021-07-21T00:00:00\", \"2021-07-28T00:00:00\", \"2021-07-31T00:00:00\", \"2021-08-01T00:00:00\", \"2021-08-03T00:00:00\", \"2021-08-06T00:00:00\", \"2021-08-12T00:00:00\", \"2021-08-13T00:00:00\", \"2021-08-17T00:00:00\", \"2021-08-18T00:00:00\", \"2021-08-21T00:00:00\", \"2021-08-23T00:00:00\", \"2021-08-25T00:00:00\", \"2021-08-26T00:00:00\", \"2021-09-01T00:00:00\"], \"xaxis\": \"x\", \"y\": [0.0, 0.0, 0.0, 0.0, 0.0, 0.0, 0.0, 0.0, 0.0, 0.0, 0.0, 0.0, 0.0, 0.0, 0.0, 0.0, 0.0, 0.0, 0.0, 0.0, 0.0, 0.0, 0.0, 1.0, 1.0, 1.0, 1.0, 1.0, 1.0], \"yaxis\": \"y\"}, {\"name\": \"No. de secuenciaciones\", \"type\": \"bar\", \"x\": [\"2021-03-21T00:00:00\", \"2021-04-05T00:00:00\", \"2021-04-08T00:00:00\", \"2021-04-19T00:00:00\", \"2021-05-05T00:00:00\", \"2021-05-14T00:00:00\", \"2021-05-19T00:00:00\", \"2021-05-24T00:00:00\", \"2021-05-26T00:00:00\", \"2021-06-09T00:00:00\", \"2021-06-17T00:00:00\", \"2021-06-30T00:00:00\", \"2021-07-07T00:00:00\", \"2021-07-14T00:00:00\", \"2021-07-21T00:00:00\", \"2021-07-28T00:00:00\", \"2021-07-31T00:00:00\", \"2021-08-01T00:00:00\", \"2021-08-03T00:00:00\", \"2021-08-06T00:00:00\", \"2021-08-12T00:00:00\", \"2021-08-13T00:00:00\", \"2021-08-17T00:00:00\", \"2021-08-18T00:00:00\", \"2021-08-21T00:00:00\", \"2021-08-23T00:00:00\", \"2021-08-25T00:00:00\", \"2021-08-26T00:00:00\", \"2021-09-01T00:00:00\"], \"y\": [2, 2, 1, 4, 6, 10, 7, 1, 15, 11, 5, 8, 15, 29, 27, 2, 3, 1, 2, 11, 6, 6, 10, 6, 4, 8, 13, 6, 7]}],                        {\"legend\": {\"title\": {\"text\": \"Variante detectada\"}, \"tracegroupgap\": 0}, \"margin\": {\"t\": 60}, \"template\": {\"data\": {\"bar\": [{\"error_x\": {\"color\": \"rgb(36,36,36)\"}, \"error_y\": {\"color\": \"rgb(36,36,36)\"}, \"marker\": {\"line\": {\"color\": \"white\", \"width\": 0.5}}, \"type\": \"bar\"}], \"barpolar\": [{\"marker\": {\"line\": {\"color\": \"white\", \"width\": 0.5}}, \"type\": \"barpolar\"}], \"carpet\": [{\"aaxis\": {\"endlinecolor\": \"rgb(36,36,36)\", \"gridcolor\": \"white\", \"linecolor\": \"white\", \"minorgridcolor\": \"white\", \"startlinecolor\": \"rgb(36,36,36)\"}, \"baxis\": {\"endlinecolor\": \"rgb(36,36,36)\", \"gridcolor\": \"white\", \"linecolor\": \"white\", \"minorgridcolor\": \"white\", \"startlinecolor\": \"rgb(36,36,36)\"}, \"type\": \"carpet\"}], \"choropleth\": [{\"colorbar\": {\"outlinewidth\": 1, \"tickcolor\": \"rgb(36,36,36)\", \"ticks\": \"outside\"}, \"type\": \"choropleth\"}], \"contour\": [{\"colorbar\": {\"outlinewidth\": 1, \"tickcolor\": \"rgb(36,36,36)\", \"ticks\": \"outside\"}, \"colorscale\": [[0.0, \"#440154\"], [0.1111111111111111, \"#482878\"], [0.2222222222222222, \"#3e4989\"], [0.3333333333333333, \"#31688e\"], [0.4444444444444444, \"#26828e\"], [0.5555555555555556, \"#1f9e89\"], [0.6666666666666666, \"#35b779\"], [0.7777777777777778, \"#6ece58\"], [0.8888888888888888, \"#b5de2b\"], [1.0, \"#fde725\"]], \"type\": \"contour\"}], \"contourcarpet\": [{\"colorbar\": {\"outlinewidth\": 1, \"tickcolor\": \"rgb(36,36,36)\", \"ticks\": \"outside\"}, \"type\": \"contourcarpet\"}], \"heatmap\": [{\"colorbar\": {\"outlinewidth\": 1, \"tickcolor\": \"rgb(36,36,36)\", \"ticks\": \"outside\"}, \"colorscale\": [[0.0, \"#440154\"], [0.1111111111111111, \"#482878\"], [0.2222222222222222, \"#3e4989\"], [0.3333333333333333, \"#31688e\"], [0.4444444444444444, \"#26828e\"], [0.5555555555555556, \"#1f9e89\"], [0.6666666666666666, \"#35b779\"], [0.7777777777777778, \"#6ece58\"], [0.8888888888888888, \"#b5de2b\"], [1.0, \"#fde725\"]], \"type\": \"heatmap\"}], \"heatmapgl\": [{\"colorbar\": {\"outlinewidth\": 1, \"tickcolor\": \"rgb(36,36,36)\", \"ticks\": \"outside\"}, \"colorscale\": [[0.0, \"#440154\"], [0.1111111111111111, \"#482878\"], [0.2222222222222222, \"#3e4989\"], [0.3333333333333333, \"#31688e\"], [0.4444444444444444, \"#26828e\"], [0.5555555555555556, \"#1f9e89\"], [0.6666666666666666, \"#35b779\"], [0.7777777777777778, \"#6ece58\"], [0.8888888888888888, \"#b5de2b\"], [1.0, \"#fde725\"]], \"type\": \"heatmapgl\"}], \"histogram\": [{\"marker\": {\"line\": {\"color\": \"white\", \"width\": 0.6}}, \"type\": \"histogram\"}], \"histogram2d\": [{\"colorbar\": {\"outlinewidth\": 1, \"tickcolor\": \"rgb(36,36,36)\", \"ticks\": \"outside\"}, \"colorscale\": [[0.0, \"#440154\"], [0.1111111111111111, \"#482878\"], [0.2222222222222222, \"#3e4989\"], [0.3333333333333333, \"#31688e\"], [0.4444444444444444, \"#26828e\"], [0.5555555555555556, \"#1f9e89\"], [0.6666666666666666, \"#35b779\"], [0.7777777777777778, \"#6ece58\"], [0.8888888888888888, \"#b5de2b\"], [1.0, \"#fde725\"]], \"type\": \"histogram2d\"}], \"histogram2dcontour\": [{\"colorbar\": {\"outlinewidth\": 1, \"tickcolor\": \"rgb(36,36,36)\", \"ticks\": \"outside\"}, \"colorscale\": [[0.0, \"#440154\"], [0.1111111111111111, \"#482878\"], [0.2222222222222222, \"#3e4989\"], [0.3333333333333333, \"#31688e\"], [0.4444444444444444, \"#26828e\"], [0.5555555555555556, \"#1f9e89\"], [0.6666666666666666, \"#35b779\"], [0.7777777777777778, \"#6ece58\"], [0.8888888888888888, \"#b5de2b\"], [1.0, \"#fde725\"]], \"type\": \"histogram2dcontour\"}], \"mesh3d\": [{\"colorbar\": {\"outlinewidth\": 1, \"tickcolor\": \"rgb(36,36,36)\", \"ticks\": \"outside\"}, \"type\": \"mesh3d\"}], \"parcoords\": [{\"line\": {\"colorbar\": {\"outlinewidth\": 1, \"tickcolor\": \"rgb(36,36,36)\", \"ticks\": \"outside\"}}, \"type\": \"parcoords\"}], \"pie\": [{\"automargin\": true, \"type\": \"pie\"}], \"scatter\": [{\"marker\": {\"colorbar\": {\"outlinewidth\": 1, \"tickcolor\": \"rgb(36,36,36)\", \"ticks\": \"outside\"}}, \"type\": \"scatter\"}], \"scatter3d\": [{\"line\": {\"colorbar\": {\"outlinewidth\": 1, \"tickcolor\": \"rgb(36,36,36)\", \"ticks\": \"outside\"}}, \"marker\": {\"colorbar\": {\"outlinewidth\": 1, \"tickcolor\": \"rgb(36,36,36)\", \"ticks\": \"outside\"}}, \"type\": \"scatter3d\"}], \"scattercarpet\": [{\"marker\": {\"colorbar\": {\"outlinewidth\": 1, \"tickcolor\": \"rgb(36,36,36)\", \"ticks\": \"outside\"}}, \"type\": \"scattercarpet\"}], \"scattergeo\": [{\"marker\": {\"colorbar\": {\"outlinewidth\": 1, \"tickcolor\": \"rgb(36,36,36)\", \"ticks\": \"outside\"}}, \"type\": \"scattergeo\"}], \"scattergl\": [{\"marker\": {\"colorbar\": {\"outlinewidth\": 1, \"tickcolor\": \"rgb(36,36,36)\", \"ticks\": \"outside\"}}, \"type\": \"scattergl\"}], \"scattermapbox\": [{\"marker\": {\"colorbar\": {\"outlinewidth\": 1, \"tickcolor\": \"rgb(36,36,36)\", \"ticks\": \"outside\"}}, \"type\": \"scattermapbox\"}], \"scatterpolar\": [{\"marker\": {\"colorbar\": {\"outlinewidth\": 1, \"tickcolor\": \"rgb(36,36,36)\", \"ticks\": \"outside\"}}, \"type\": \"scatterpolar\"}], \"scatterpolargl\": [{\"marker\": {\"colorbar\": {\"outlinewidth\": 1, \"tickcolor\": \"rgb(36,36,36)\", \"ticks\": \"outside\"}}, \"type\": \"scatterpolargl\"}], \"scatterternary\": [{\"marker\": {\"colorbar\": {\"outlinewidth\": 1, \"tickcolor\": \"rgb(36,36,36)\", \"ticks\": \"outside\"}}, \"type\": \"scatterternary\"}], \"surface\": [{\"colorbar\": {\"outlinewidth\": 1, \"tickcolor\": \"rgb(36,36,36)\", \"ticks\": \"outside\"}, \"colorscale\": [[0.0, \"#440154\"], [0.1111111111111111, \"#482878\"], [0.2222222222222222, \"#3e4989\"], [0.3333333333333333, \"#31688e\"], [0.4444444444444444, \"#26828e\"], [0.5555555555555556, \"#1f9e89\"], [0.6666666666666666, \"#35b779\"], [0.7777777777777778, \"#6ece58\"], [0.8888888888888888, \"#b5de2b\"], [1.0, \"#fde725\"]], \"type\": \"surface\"}], \"table\": [{\"cells\": {\"fill\": {\"color\": \"rgb(237,237,237)\"}, \"line\": {\"color\": \"white\"}}, \"header\": {\"fill\": {\"color\": \"rgb(217,217,217)\"}, \"line\": {\"color\": \"white\"}}, \"type\": \"table\"}]}, \"layout\": {\"annotationdefaults\": {\"arrowhead\": 0, \"arrowwidth\": 1}, \"autotypenumbers\": \"strict\", \"coloraxis\": {\"colorbar\": {\"outlinewidth\": 1, \"tickcolor\": \"rgb(36,36,36)\", \"ticks\": \"outside\"}}, \"colorscale\": {\"diverging\": [[0.0, \"rgb(103,0,31)\"], [0.1, \"rgb(178,24,43)\"], [0.2, \"rgb(214,96,77)\"], [0.3, \"rgb(244,165,130)\"], [0.4, \"rgb(253,219,199)\"], [0.5, \"rgb(247,247,247)\"], [0.6, \"rgb(209,229,240)\"], [0.7, \"rgb(146,197,222)\"], [0.8, \"rgb(67,147,195)\"], [0.9, \"rgb(33,102,172)\"], [1.0, \"rgb(5,48,97)\"]], \"sequential\": [[0.0, \"#440154\"], [0.1111111111111111, \"#482878\"], [0.2222222222222222, \"#3e4989\"], [0.3333333333333333, \"#31688e\"], [0.4444444444444444, \"#26828e\"], [0.5555555555555556, \"#1f9e89\"], [0.6666666666666666, \"#35b779\"], [0.7777777777777778, \"#6ece58\"], [0.8888888888888888, \"#b5de2b\"], [1.0, \"#fde725\"]], \"sequentialminus\": [[0.0, \"#440154\"], [0.1111111111111111, \"#482878\"], [0.2222222222222222, \"#3e4989\"], [0.3333333333333333, \"#31688e\"], [0.4444444444444444, \"#26828e\"], [0.5555555555555556, \"#1f9e89\"], [0.6666666666666666, \"#35b779\"], [0.7777777777777778, \"#6ece58\"], [0.8888888888888888, \"#b5de2b\"], [1.0, \"#fde725\"]]}, \"colorway\": [\"#1F77B4\", \"#FF7F0E\", \"#2CA02C\", \"#D62728\", \"#9467BD\", \"#8C564B\", \"#E377C2\", \"#7F7F7F\", \"#BCBD22\", \"#17BECF\"], \"font\": {\"color\": \"rgb(36,36,36)\"}, \"geo\": {\"bgcolor\": \"white\", \"lakecolor\": \"white\", \"landcolor\": \"white\", \"showlakes\": true, \"showland\": true, \"subunitcolor\": \"white\"}, \"hoverlabel\": {\"align\": \"left\"}, \"hovermode\": \"closest\", \"mapbox\": {\"style\": \"light\"}, \"paper_bgcolor\": \"white\", \"plot_bgcolor\": \"white\", \"polar\": {\"angularaxis\": {\"gridcolor\": \"rgb(232,232,232)\", \"linecolor\": \"rgb(36,36,36)\", \"showgrid\": false, \"showline\": true, \"ticks\": \"outside\"}, \"bgcolor\": \"white\", \"radialaxis\": {\"gridcolor\": \"rgb(232,232,232)\", \"linecolor\": \"rgb(36,36,36)\", \"showgrid\": false, \"showline\": true, \"ticks\": \"outside\"}}, \"scene\": {\"xaxis\": {\"backgroundcolor\": \"white\", \"gridcolor\": \"rgb(232,232,232)\", \"gridwidth\": 2, \"linecolor\": \"rgb(36,36,36)\", \"showbackground\": true, \"showgrid\": false, \"showline\": true, \"ticks\": \"outside\", \"zeroline\": false, \"zerolinecolor\": \"rgb(36,36,36)\"}, \"yaxis\": {\"backgroundcolor\": \"white\", \"gridcolor\": \"rgb(232,232,232)\", \"gridwidth\": 2, \"linecolor\": \"rgb(36,36,36)\", \"showbackground\": true, \"showgrid\": false, \"showline\": true, \"ticks\": \"outside\", \"zeroline\": false, \"zerolinecolor\": \"rgb(36,36,36)\"}, \"zaxis\": {\"backgroundcolor\": \"white\", \"gridcolor\": \"rgb(232,232,232)\", \"gridwidth\": 2, \"linecolor\": \"rgb(36,36,36)\", \"showbackground\": true, \"showgrid\": false, \"showline\": true, \"ticks\": \"outside\", \"zeroline\": false, \"zerolinecolor\": \"rgb(36,36,36)\"}}, \"shapedefaults\": {\"fillcolor\": \"black\", \"line\": {\"width\": 0}, \"opacity\": 0.3}, \"ternary\": {\"aaxis\": {\"gridcolor\": \"rgb(232,232,232)\", \"linecolor\": \"rgb(36,36,36)\", \"showgrid\": false, \"showline\": true, \"ticks\": \"outside\"}, \"baxis\": {\"gridcolor\": \"rgb(232,232,232)\", \"linecolor\": \"rgb(36,36,36)\", \"showgrid\": false, \"showline\": true, \"ticks\": \"outside\"}, \"bgcolor\": \"white\", \"caxis\": {\"gridcolor\": \"rgb(232,232,232)\", \"linecolor\": \"rgb(36,36,36)\", \"showgrid\": false, \"showline\": true, \"ticks\": \"outside\"}}, \"title\": {\"x\": 0.05}, \"xaxis\": {\"automargin\": true, \"gridcolor\": \"rgb(232,232,232)\", \"linecolor\": \"rgb(36,36,36)\", \"showgrid\": false, \"showline\": true, \"ticks\": \"outside\", \"title\": {\"standoff\": 15}, \"zeroline\": false, \"zerolinecolor\": \"rgb(36,36,36)\"}, \"yaxis\": {\"automargin\": true, \"gridcolor\": \"rgb(232,232,232)\", \"linecolor\": \"rgb(36,36,36)\", \"showgrid\": false, \"showline\": true, \"ticks\": \"outside\", \"title\": {\"standoff\": 15}, \"zeroline\": false, \"zerolinecolor\": \"rgb(36,36,36)\"}}}, \"title\": {\"text\": \"Variantes detectadas en la Regi\\u00f3n de Ays\\u00e9n\"}, \"xaxis\": {\"anchor\": \"y\", \"domain\": [0.0, 1.0], \"title\": {\"text\": \"Fecha de resultado de Secuenciaci\\u00f3n o Genotipificaci\\u00f3n\"}}, \"yaxis\": {\"anchor\": \"x\", \"domain\": [0.0, 1.0], \"title\": {\"text\": \"No. de casos identificados por variante\"}}},                        {\"responsive\": true}                    ).then(function(){\n",
       "                            \n",
       "var gd = document.getElementById('ec9864a9-954b-41bc-b6ec-cf977bec1d4e');\n",
       "var x = new MutationObserver(function (mutations, observer) {{\n",
       "        var display = window.getComputedStyle(gd).display;\n",
       "        if (!display || display === 'none') {{\n",
       "            console.log([gd, 'removed!']);\n",
       "            Plotly.purge(gd);\n",
       "            observer.disconnect();\n",
       "        }}\n",
       "}});\n",
       "\n",
       "// Listen for the removal of the full notebook cells\n",
       "var notebookContainer = gd.closest('#notebook-container');\n",
       "if (notebookContainer) {{\n",
       "    x.observe(notebookContainer, {childList: true});\n",
       "}}\n",
       "\n",
       "// Listen for the clearing of the current output cell\n",
       "var outputEl = gd.closest('.output');\n",
       "if (outputEl) {{\n",
       "    x.observe(outputEl, {childList: true});\n",
       "}}\n",
       "\n",
       "                        })                };                });            </script>        </div>"
      ]
     },
     "metadata": {},
     "output_type": "display_data"
    }
   ],
   "source": [
    "px.line(df_variantes_clean.groupby(['fecha_resultado_secuenciacion_genotipificacion', 'variante_linaje']).count()[['n_documento']].reset_index().pivot(\n",
    "    index='fecha_resultado_secuenciacion_genotipificacion',\n",
    "    columns='variante_linaje', \n",
    "    values=['n_documento']\n",
    ").fillna(0).cumsum().clean_names().rename(\n",
    "    columns={\n",
    "        'alfa':'Alfa',\n",
    "        'b_1':'B.1',\n",
    "        'b_1_1':'B.1.1',\n",
    "        'b_1_1_348':'B.1.1.348',\n",
    "        'gamma':'Gamma',\n",
    "        'indeterminado':'Indeterminado',\n",
    "        'lambda':'Lambda',\n",
    "        'n_4':'N.4',\n",
    "        'no_amplifica':'No amplifica',\n",
    "        'no_se_detectan_mutaciones_para_variantes_de_interes_por_parte_de_este_kit':'VOI no detectadas'\n",
    "            })['n_documento'].drop(['No amplifica','Indeterminado'], axis=1),\n",
    "        labels={'variante_linaje':'Variante detectada'},\n",
    "        \n",
    "       ).update_layout(\n",
    "    title= 'Variantes detectadas en la Región de Aysén',\n",
    "    yaxis_title='No. de casos identificados por variante',\n",
    "    xaxis_title='Fecha de resultado de Secuenciación o Genotipificación',\n",
    "    template='simple_white',\n",
    "    \n",
    "    \n",
    ").add_bar(\n",
    "    x= df_variantes_clean.groupby(['fecha_resultado_secuenciacion_genotipificacion']).count()[['n_documento']].index,\n",
    "    y= df_variantes_clean.groupby(['fecha_resultado_secuenciacion_genotipificacion']).count()[['n_documento']].n_documento,\n",
    "    name='No. de secuenciaciones'\n",
    "\n",
    "\n",
    "    )"
   ]
  },
  {
   "cell_type": "code",
   "execution_count": null,
   "id": "6b16d8b4",
   "metadata": {},
   "outputs": [],
   "source": []
  },
  {
   "cell_type": "code",
   "execution_count": 129,
   "id": "570babea",
   "metadata": {},
   "outputs": [
    {
     "data": {
      "application/vnd.plotly.v1+json": {
       "config": {
        "plotlyServerURL": "https://plot.ly"
       },
       "data": [
        {
         "hovertemplate": "Variante detectada=Alfa<br>fecha_resultado_secuenciacion_genotipificacion=%{x}<br>value=%{y}<extra></extra>",
         "legendgroup": "Alfa",
         "line": {
          "color": "#636efa"
         },
         "mode": "lines",
         "name": "Alfa",
         "orientation": "v",
         "showlegend": true,
         "stackgroup": "1",
         "type": "scatter",
         "x": [
          "2021-03-21T00:00:00",
          "2021-04-05T00:00:00",
          "2021-04-08T00:00:00",
          "2021-04-19T00:00:00",
          "2021-05-05T00:00:00",
          "2021-05-14T00:00:00",
          "2021-05-19T00:00:00",
          "2021-05-24T00:00:00",
          "2021-05-26T00:00:00",
          "2021-06-09T00:00:00",
          "2021-06-17T00:00:00",
          "2021-06-30T00:00:00",
          "2021-07-07T00:00:00",
          "2021-07-14T00:00:00",
          "2021-07-21T00:00:00",
          "2021-07-28T00:00:00",
          "2021-07-31T00:00:00",
          "2021-08-01T00:00:00",
          "2021-08-03T00:00:00",
          "2021-08-06T00:00:00",
          "2021-08-12T00:00:00",
          "2021-08-13T00:00:00",
          "2021-08-17T00:00:00",
          "2021-08-18T00:00:00",
          "2021-08-21T00:00:00",
          "2021-08-23T00:00:00",
          "2021-08-25T00:00:00",
          "2021-08-26T00:00:00",
          "2021-09-01T00:00:00"
         ],
         "xaxis": "x",
         "y": [
          0,
          0,
          0,
          0,
          0,
          0,
          0,
          0,
          1,
          1,
          1,
          1,
          1,
          1,
          1,
          1,
          1,
          1,
          1,
          1,
          1,
          1,
          1,
          1,
          1,
          1,
          1,
          1,
          1
         ],
         "yaxis": "y"
        },
        {
         "hovertemplate": "Variante detectada=B.1<br>fecha_resultado_secuenciacion_genotipificacion=%{x}<br>value=%{y}<extra></extra>",
         "legendgroup": "B.1",
         "line": {
          "color": "#EF553B"
         },
         "mode": "lines",
         "name": "B.1",
         "orientation": "v",
         "showlegend": true,
         "stackgroup": "1",
         "type": "scatter",
         "x": [
          "2021-03-21T00:00:00",
          "2021-04-05T00:00:00",
          "2021-04-08T00:00:00",
          "2021-04-19T00:00:00",
          "2021-05-05T00:00:00",
          "2021-05-14T00:00:00",
          "2021-05-19T00:00:00",
          "2021-05-24T00:00:00",
          "2021-05-26T00:00:00",
          "2021-06-09T00:00:00",
          "2021-06-17T00:00:00",
          "2021-06-30T00:00:00",
          "2021-07-07T00:00:00",
          "2021-07-14T00:00:00",
          "2021-07-21T00:00:00",
          "2021-07-28T00:00:00",
          "2021-07-31T00:00:00",
          "2021-08-01T00:00:00",
          "2021-08-03T00:00:00",
          "2021-08-06T00:00:00",
          "2021-08-12T00:00:00",
          "2021-08-13T00:00:00",
          "2021-08-17T00:00:00",
          "2021-08-18T00:00:00",
          "2021-08-21T00:00:00",
          "2021-08-23T00:00:00",
          "2021-08-25T00:00:00",
          "2021-08-26T00:00:00",
          "2021-09-01T00:00:00"
         ],
         "xaxis": "x",
         "y": [
          0,
          0,
          0,
          0,
          0,
          0,
          0,
          0,
          0,
          1,
          1,
          1,
          1,
          1,
          1,
          1,
          1,
          1,
          1,
          1,
          1,
          1,
          1,
          1,
          1,
          1,
          1,
          1,
          1
         ],
         "yaxis": "y"
        },
        {
         "hovertemplate": "Variante detectada=B.1.1<br>fecha_resultado_secuenciacion_genotipificacion=%{x}<br>value=%{y}<extra></extra>",
         "legendgroup": "B.1.1",
         "line": {
          "color": "#00cc96"
         },
         "mode": "lines",
         "name": "B.1.1",
         "orientation": "v",
         "showlegend": true,
         "stackgroup": "1",
         "type": "scatter",
         "x": [
          "2021-03-21T00:00:00",
          "2021-04-05T00:00:00",
          "2021-04-08T00:00:00",
          "2021-04-19T00:00:00",
          "2021-05-05T00:00:00",
          "2021-05-14T00:00:00",
          "2021-05-19T00:00:00",
          "2021-05-24T00:00:00",
          "2021-05-26T00:00:00",
          "2021-06-09T00:00:00",
          "2021-06-17T00:00:00",
          "2021-06-30T00:00:00",
          "2021-07-07T00:00:00",
          "2021-07-14T00:00:00",
          "2021-07-21T00:00:00",
          "2021-07-28T00:00:00",
          "2021-07-31T00:00:00",
          "2021-08-01T00:00:00",
          "2021-08-03T00:00:00",
          "2021-08-06T00:00:00",
          "2021-08-12T00:00:00",
          "2021-08-13T00:00:00",
          "2021-08-17T00:00:00",
          "2021-08-18T00:00:00",
          "2021-08-21T00:00:00",
          "2021-08-23T00:00:00",
          "2021-08-25T00:00:00",
          "2021-08-26T00:00:00",
          "2021-09-01T00:00:00"
         ],
         "xaxis": "x",
         "y": [
          0,
          1,
          1,
          2,
          2,
          2,
          2,
          2,
          4,
          5,
          5,
          5,
          5,
          5,
          5,
          5,
          5,
          5,
          5,
          5,
          5,
          5,
          5,
          5,
          5,
          5,
          5,
          5,
          5
         ],
         "yaxis": "y"
        },
        {
         "hovertemplate": "Variante detectada=B.1.1.348<br>fecha_resultado_secuenciacion_genotipificacion=%{x}<br>value=%{y}<extra></extra>",
         "legendgroup": "B.1.1.348",
         "line": {
          "color": "#ab63fa"
         },
         "mode": "lines",
         "name": "B.1.1.348",
         "orientation": "v",
         "showlegend": true,
         "stackgroup": "1",
         "type": "scatter",
         "x": [
          "2021-03-21T00:00:00",
          "2021-04-05T00:00:00",
          "2021-04-08T00:00:00",
          "2021-04-19T00:00:00",
          "2021-05-05T00:00:00",
          "2021-05-14T00:00:00",
          "2021-05-19T00:00:00",
          "2021-05-24T00:00:00",
          "2021-05-26T00:00:00",
          "2021-06-09T00:00:00",
          "2021-06-17T00:00:00",
          "2021-06-30T00:00:00",
          "2021-07-07T00:00:00",
          "2021-07-14T00:00:00",
          "2021-07-21T00:00:00",
          "2021-07-28T00:00:00",
          "2021-07-31T00:00:00",
          "2021-08-01T00:00:00",
          "2021-08-03T00:00:00",
          "2021-08-06T00:00:00",
          "2021-08-12T00:00:00",
          "2021-08-13T00:00:00",
          "2021-08-17T00:00:00",
          "2021-08-18T00:00:00",
          "2021-08-21T00:00:00",
          "2021-08-23T00:00:00",
          "2021-08-25T00:00:00",
          "2021-08-26T00:00:00",
          "2021-09-01T00:00:00"
         ],
         "xaxis": "x",
         "y": [
          1,
          2,
          2,
          2,
          2,
          2,
          2,
          2,
          2,
          2,
          2,
          2,
          2,
          2,
          2,
          2,
          2,
          2,
          2,
          2,
          2,
          2,
          2,
          2,
          2,
          2,
          2,
          2,
          2
         ],
         "yaxis": "y"
        },
        {
         "hovertemplate": "Variante detectada=Gamma<br>fecha_resultado_secuenciacion_genotipificacion=%{x}<br>value=%{y}<extra></extra>",
         "legendgroup": "Gamma",
         "line": {
          "color": "#FFA15A"
         },
         "mode": "lines",
         "name": "Gamma",
         "orientation": "v",
         "showlegend": true,
         "stackgroup": "1",
         "type": "scatter",
         "x": [
          "2021-03-21T00:00:00",
          "2021-04-05T00:00:00",
          "2021-04-08T00:00:00",
          "2021-04-19T00:00:00",
          "2021-05-05T00:00:00",
          "2021-05-14T00:00:00",
          "2021-05-19T00:00:00",
          "2021-05-24T00:00:00",
          "2021-05-26T00:00:00",
          "2021-06-09T00:00:00",
          "2021-06-17T00:00:00",
          "2021-06-30T00:00:00",
          "2021-07-07T00:00:00",
          "2021-07-14T00:00:00",
          "2021-07-21T00:00:00",
          "2021-07-28T00:00:00",
          "2021-07-31T00:00:00",
          "2021-08-01T00:00:00",
          "2021-08-03T00:00:00",
          "2021-08-06T00:00:00",
          "2021-08-12T00:00:00",
          "2021-08-13T00:00:00",
          "2021-08-17T00:00:00",
          "2021-08-18T00:00:00",
          "2021-08-21T00:00:00",
          "2021-08-23T00:00:00",
          "2021-08-25T00:00:00",
          "2021-08-26T00:00:00",
          "2021-09-01T00:00:00"
         ],
         "xaxis": "x",
         "y": [
          0,
          0,
          0,
          0,
          2,
          6,
          9,
          9,
          13,
          20,
          24,
          28,
          32,
          47,
          58,
          60,
          61,
          61,
          62,
          71,
          76,
          82,
          91,
          96,
          100,
          107,
          116,
          122,
          127
         ],
         "yaxis": "y"
        },
        {
         "hovertemplate": "Variante detectada=Indeterminado<br>fecha_resultado_secuenciacion_genotipificacion=%{x}<br>value=%{y}<extra></extra>",
         "legendgroup": "Indeterminado",
         "line": {
          "color": "#19d3f3"
         },
         "mode": "lines",
         "name": "Indeterminado",
         "orientation": "v",
         "showlegend": true,
         "stackgroup": "1",
         "type": "scatter",
         "x": [
          "2021-03-21T00:00:00",
          "2021-04-05T00:00:00",
          "2021-04-08T00:00:00",
          "2021-04-19T00:00:00",
          "2021-05-05T00:00:00",
          "2021-05-14T00:00:00",
          "2021-05-19T00:00:00",
          "2021-05-24T00:00:00",
          "2021-05-26T00:00:00",
          "2021-06-09T00:00:00",
          "2021-06-17T00:00:00",
          "2021-06-30T00:00:00",
          "2021-07-07T00:00:00",
          "2021-07-14T00:00:00",
          "2021-07-21T00:00:00",
          "2021-07-28T00:00:00",
          "2021-07-31T00:00:00",
          "2021-08-01T00:00:00",
          "2021-08-03T00:00:00",
          "2021-08-06T00:00:00",
          "2021-08-12T00:00:00",
          "2021-08-13T00:00:00",
          "2021-08-17T00:00:00",
          "2021-08-18T00:00:00",
          "2021-08-21T00:00:00",
          "2021-08-23T00:00:00",
          "2021-08-25T00:00:00",
          "2021-08-26T00:00:00",
          "2021-09-01T00:00:00"
         ],
         "xaxis": "x",
         "y": [
          0,
          0,
          0,
          0,
          0,
          0,
          0,
          0,
          0,
          0,
          0,
          0,
          0,
          0,
          0,
          0,
          2,
          2,
          3,
          3,
          3,
          3,
          4,
          4,
          4,
          5,
          5,
          5,
          5
         ],
         "yaxis": "y"
        },
        {
         "hovertemplate": "Variante detectada=Lambda<br>fecha_resultado_secuenciacion_genotipificacion=%{x}<br>value=%{y}<extra></extra>",
         "legendgroup": "Lambda",
         "line": {
          "color": "#FF6692"
         },
         "mode": "lines",
         "name": "Lambda",
         "orientation": "v",
         "showlegend": true,
         "stackgroup": "1",
         "type": "scatter",
         "x": [
          "2021-03-21T00:00:00",
          "2021-04-05T00:00:00",
          "2021-04-08T00:00:00",
          "2021-04-19T00:00:00",
          "2021-05-05T00:00:00",
          "2021-05-14T00:00:00",
          "2021-05-19T00:00:00",
          "2021-05-24T00:00:00",
          "2021-05-26T00:00:00",
          "2021-06-09T00:00:00",
          "2021-06-17T00:00:00",
          "2021-06-30T00:00:00",
          "2021-07-07T00:00:00",
          "2021-07-14T00:00:00",
          "2021-07-21T00:00:00",
          "2021-07-28T00:00:00",
          "2021-07-31T00:00:00",
          "2021-08-01T00:00:00",
          "2021-08-03T00:00:00",
          "2021-08-06T00:00:00",
          "2021-08-12T00:00:00",
          "2021-08-13T00:00:00",
          "2021-08-17T00:00:00",
          "2021-08-18T00:00:00",
          "2021-08-21T00:00:00",
          "2021-08-23T00:00:00",
          "2021-08-25T00:00:00",
          "2021-08-26T00:00:00",
          "2021-09-01T00:00:00"
         ],
         "xaxis": "x",
         "y": [
          0,
          0,
          0,
          3,
          7,
          13,
          17,
          17,
          25,
          27,
          27,
          29,
          35,
          43,
          48,
          48,
          48,
          48,
          48,
          49,
          50,
          50,
          50,
          50,
          50,
          50,
          51,
          51,
          52
         ],
         "yaxis": "y"
        },
        {
         "hovertemplate": "Variante detectada=N.4<br>fecha_resultado_secuenciacion_genotipificacion=%{x}<br>value=%{y}<extra></extra>",
         "legendgroup": "N.4",
         "line": {
          "color": "#B6E880"
         },
         "mode": "lines",
         "name": "N.4",
         "orientation": "v",
         "showlegend": true,
         "stackgroup": "1",
         "type": "scatter",
         "x": [
          "2021-03-21T00:00:00",
          "2021-04-05T00:00:00",
          "2021-04-08T00:00:00",
          "2021-04-19T00:00:00",
          "2021-05-05T00:00:00",
          "2021-05-14T00:00:00",
          "2021-05-19T00:00:00",
          "2021-05-24T00:00:00",
          "2021-05-26T00:00:00",
          "2021-06-09T00:00:00",
          "2021-06-17T00:00:00",
          "2021-06-30T00:00:00",
          "2021-07-07T00:00:00",
          "2021-07-14T00:00:00",
          "2021-07-21T00:00:00",
          "2021-07-28T00:00:00",
          "2021-07-31T00:00:00",
          "2021-08-01T00:00:00",
          "2021-08-03T00:00:00",
          "2021-08-06T00:00:00",
          "2021-08-12T00:00:00",
          "2021-08-13T00:00:00",
          "2021-08-17T00:00:00",
          "2021-08-18T00:00:00",
          "2021-08-21T00:00:00",
          "2021-08-23T00:00:00",
          "2021-08-25T00:00:00",
          "2021-08-26T00:00:00",
          "2021-09-01T00:00:00"
         ],
         "xaxis": "x",
         "y": [
          1,
          1,
          1,
          1,
          1,
          1,
          1,
          1,
          1,
          1,
          1,
          1,
          1,
          1,
          1,
          1,
          1,
          1,
          1,
          1,
          1,
          1,
          1,
          1,
          1,
          1,
          1,
          1,
          1
         ],
         "yaxis": "y"
        },
        {
         "hovertemplate": "Variante detectada=No amplifica<br>fecha_resultado_secuenciacion_genotipificacion=%{x}<br>value=%{y}<extra></extra>",
         "legendgroup": "No amplifica",
         "line": {
          "color": "#FF97FF"
         },
         "mode": "lines",
         "name": "No amplifica",
         "orientation": "v",
         "showlegend": true,
         "stackgroup": "1",
         "type": "scatter",
         "x": [
          "2021-03-21T00:00:00",
          "2021-04-05T00:00:00",
          "2021-04-08T00:00:00",
          "2021-04-19T00:00:00",
          "2021-05-05T00:00:00",
          "2021-05-14T00:00:00",
          "2021-05-19T00:00:00",
          "2021-05-24T00:00:00",
          "2021-05-26T00:00:00",
          "2021-06-09T00:00:00",
          "2021-06-17T00:00:00",
          "2021-06-30T00:00:00",
          "2021-07-07T00:00:00",
          "2021-07-14T00:00:00",
          "2021-07-21T00:00:00",
          "2021-07-28T00:00:00",
          "2021-07-31T00:00:00",
          "2021-08-01T00:00:00",
          "2021-08-03T00:00:00",
          "2021-08-06T00:00:00",
          "2021-08-12T00:00:00",
          "2021-08-13T00:00:00",
          "2021-08-17T00:00:00",
          "2021-08-18T00:00:00",
          "2021-08-21T00:00:00",
          "2021-08-23T00:00:00",
          "2021-08-25T00:00:00",
          "2021-08-26T00:00:00",
          "2021-09-01T00:00:00"
         ],
         "xaxis": "x",
         "y": [
          0,
          0,
          1,
          1,
          1,
          1,
          1,
          2,
          2,
          2,
          3,
          5,
          10,
          16,
          27,
          27,
          27,
          28,
          28,
          29,
          29,
          29,
          29,
          29,
          29,
          29,
          32,
          32,
          33
         ],
         "yaxis": "y"
        },
        {
         "hovertemplate": "Variante detectada=VOI no detectadas<br>fecha_resultado_secuenciacion_genotipificacion=%{x}<br>value=%{y}<extra></extra>",
         "legendgroup": "VOI no detectadas",
         "line": {
          "color": "#FECB52"
         },
         "mode": "lines",
         "name": "VOI no detectadas",
         "orientation": "v",
         "showlegend": true,
         "stackgroup": "1",
         "type": "scatter",
         "x": [
          "2021-03-21T00:00:00",
          "2021-04-05T00:00:00",
          "2021-04-08T00:00:00",
          "2021-04-19T00:00:00",
          "2021-05-05T00:00:00",
          "2021-05-14T00:00:00",
          "2021-05-19T00:00:00",
          "2021-05-24T00:00:00",
          "2021-05-26T00:00:00",
          "2021-06-09T00:00:00",
          "2021-06-17T00:00:00",
          "2021-06-30T00:00:00",
          "2021-07-07T00:00:00",
          "2021-07-14T00:00:00",
          "2021-07-21T00:00:00",
          "2021-07-28T00:00:00",
          "2021-07-31T00:00:00",
          "2021-08-01T00:00:00",
          "2021-08-03T00:00:00",
          "2021-08-06T00:00:00",
          "2021-08-12T00:00:00",
          "2021-08-13T00:00:00",
          "2021-08-17T00:00:00",
          "2021-08-18T00:00:00",
          "2021-08-21T00:00:00",
          "2021-08-23T00:00:00",
          "2021-08-25T00:00:00",
          "2021-08-26T00:00:00",
          "2021-09-01T00:00:00"
         ],
         "xaxis": "x",
         "y": [
          0,
          0,
          0,
          0,
          0,
          0,
          0,
          0,
          0,
          0,
          0,
          0,
          0,
          0,
          0,
          0,
          0,
          0,
          0,
          0,
          0,
          0,
          0,
          1,
          1,
          1,
          1,
          1,
          1
         ],
         "yaxis": "y"
        }
       ],
       "layout": {
        "legend": {
         "title": {
          "text": "Variante detectada"
         },
         "tracegroupgap": 0
        },
        "margin": {
         "t": 60
        },
        "template": {
         "data": {
          "bar": [
           {
            "error_x": {
             "color": "rgb(36,36,36)"
            },
            "error_y": {
             "color": "rgb(36,36,36)"
            },
            "marker": {
             "line": {
              "color": "white",
              "width": 0.5
             }
            },
            "type": "bar"
           }
          ],
          "barpolar": [
           {
            "marker": {
             "line": {
              "color": "white",
              "width": 0.5
             }
            },
            "type": "barpolar"
           }
          ],
          "carpet": [
           {
            "aaxis": {
             "endlinecolor": "rgb(36,36,36)",
             "gridcolor": "white",
             "linecolor": "white",
             "minorgridcolor": "white",
             "startlinecolor": "rgb(36,36,36)"
            },
            "baxis": {
             "endlinecolor": "rgb(36,36,36)",
             "gridcolor": "white",
             "linecolor": "white",
             "minorgridcolor": "white",
             "startlinecolor": "rgb(36,36,36)"
            },
            "type": "carpet"
           }
          ],
          "choropleth": [
           {
            "colorbar": {
             "outlinewidth": 1,
             "tickcolor": "rgb(36,36,36)",
             "ticks": "outside"
            },
            "type": "choropleth"
           }
          ],
          "contour": [
           {
            "colorbar": {
             "outlinewidth": 1,
             "tickcolor": "rgb(36,36,36)",
             "ticks": "outside"
            },
            "colorscale": [
             [
              0,
              "#440154"
             ],
             [
              0.1111111111111111,
              "#482878"
             ],
             [
              0.2222222222222222,
              "#3e4989"
             ],
             [
              0.3333333333333333,
              "#31688e"
             ],
             [
              0.4444444444444444,
              "#26828e"
             ],
             [
              0.5555555555555556,
              "#1f9e89"
             ],
             [
              0.6666666666666666,
              "#35b779"
             ],
             [
              0.7777777777777778,
              "#6ece58"
             ],
             [
              0.8888888888888888,
              "#b5de2b"
             ],
             [
              1,
              "#fde725"
             ]
            ],
            "type": "contour"
           }
          ],
          "contourcarpet": [
           {
            "colorbar": {
             "outlinewidth": 1,
             "tickcolor": "rgb(36,36,36)",
             "ticks": "outside"
            },
            "type": "contourcarpet"
           }
          ],
          "heatmap": [
           {
            "colorbar": {
             "outlinewidth": 1,
             "tickcolor": "rgb(36,36,36)",
             "ticks": "outside"
            },
            "colorscale": [
             [
              0,
              "#440154"
             ],
             [
              0.1111111111111111,
              "#482878"
             ],
             [
              0.2222222222222222,
              "#3e4989"
             ],
             [
              0.3333333333333333,
              "#31688e"
             ],
             [
              0.4444444444444444,
              "#26828e"
             ],
             [
              0.5555555555555556,
              "#1f9e89"
             ],
             [
              0.6666666666666666,
              "#35b779"
             ],
             [
              0.7777777777777778,
              "#6ece58"
             ],
             [
              0.8888888888888888,
              "#b5de2b"
             ],
             [
              1,
              "#fde725"
             ]
            ],
            "type": "heatmap"
           }
          ],
          "heatmapgl": [
           {
            "colorbar": {
             "outlinewidth": 1,
             "tickcolor": "rgb(36,36,36)",
             "ticks": "outside"
            },
            "colorscale": [
             [
              0,
              "#440154"
             ],
             [
              0.1111111111111111,
              "#482878"
             ],
             [
              0.2222222222222222,
              "#3e4989"
             ],
             [
              0.3333333333333333,
              "#31688e"
             ],
             [
              0.4444444444444444,
              "#26828e"
             ],
             [
              0.5555555555555556,
              "#1f9e89"
             ],
             [
              0.6666666666666666,
              "#35b779"
             ],
             [
              0.7777777777777778,
              "#6ece58"
             ],
             [
              0.8888888888888888,
              "#b5de2b"
             ],
             [
              1,
              "#fde725"
             ]
            ],
            "type": "heatmapgl"
           }
          ],
          "histogram": [
           {
            "marker": {
             "line": {
              "color": "white",
              "width": 0.6
             }
            },
            "type": "histogram"
           }
          ],
          "histogram2d": [
           {
            "colorbar": {
             "outlinewidth": 1,
             "tickcolor": "rgb(36,36,36)",
             "ticks": "outside"
            },
            "colorscale": [
             [
              0,
              "#440154"
             ],
             [
              0.1111111111111111,
              "#482878"
             ],
             [
              0.2222222222222222,
              "#3e4989"
             ],
             [
              0.3333333333333333,
              "#31688e"
             ],
             [
              0.4444444444444444,
              "#26828e"
             ],
             [
              0.5555555555555556,
              "#1f9e89"
             ],
             [
              0.6666666666666666,
              "#35b779"
             ],
             [
              0.7777777777777778,
              "#6ece58"
             ],
             [
              0.8888888888888888,
              "#b5de2b"
             ],
             [
              1,
              "#fde725"
             ]
            ],
            "type": "histogram2d"
           }
          ],
          "histogram2dcontour": [
           {
            "colorbar": {
             "outlinewidth": 1,
             "tickcolor": "rgb(36,36,36)",
             "ticks": "outside"
            },
            "colorscale": [
             [
              0,
              "#440154"
             ],
             [
              0.1111111111111111,
              "#482878"
             ],
             [
              0.2222222222222222,
              "#3e4989"
             ],
             [
              0.3333333333333333,
              "#31688e"
             ],
             [
              0.4444444444444444,
              "#26828e"
             ],
             [
              0.5555555555555556,
              "#1f9e89"
             ],
             [
              0.6666666666666666,
              "#35b779"
             ],
             [
              0.7777777777777778,
              "#6ece58"
             ],
             [
              0.8888888888888888,
              "#b5de2b"
             ],
             [
              1,
              "#fde725"
             ]
            ],
            "type": "histogram2dcontour"
           }
          ],
          "mesh3d": [
           {
            "colorbar": {
             "outlinewidth": 1,
             "tickcolor": "rgb(36,36,36)",
             "ticks": "outside"
            },
            "type": "mesh3d"
           }
          ],
          "parcoords": [
           {
            "line": {
             "colorbar": {
              "outlinewidth": 1,
              "tickcolor": "rgb(36,36,36)",
              "ticks": "outside"
             }
            },
            "type": "parcoords"
           }
          ],
          "pie": [
           {
            "automargin": true,
            "type": "pie"
           }
          ],
          "scatter": [
           {
            "marker": {
             "colorbar": {
              "outlinewidth": 1,
              "tickcolor": "rgb(36,36,36)",
              "ticks": "outside"
             }
            },
            "type": "scatter"
           }
          ],
          "scatter3d": [
           {
            "line": {
             "colorbar": {
              "outlinewidth": 1,
              "tickcolor": "rgb(36,36,36)",
              "ticks": "outside"
             }
            },
            "marker": {
             "colorbar": {
              "outlinewidth": 1,
              "tickcolor": "rgb(36,36,36)",
              "ticks": "outside"
             }
            },
            "type": "scatter3d"
           }
          ],
          "scattercarpet": [
           {
            "marker": {
             "colorbar": {
              "outlinewidth": 1,
              "tickcolor": "rgb(36,36,36)",
              "ticks": "outside"
             }
            },
            "type": "scattercarpet"
           }
          ],
          "scattergeo": [
           {
            "marker": {
             "colorbar": {
              "outlinewidth": 1,
              "tickcolor": "rgb(36,36,36)",
              "ticks": "outside"
             }
            },
            "type": "scattergeo"
           }
          ],
          "scattergl": [
           {
            "marker": {
             "colorbar": {
              "outlinewidth": 1,
              "tickcolor": "rgb(36,36,36)",
              "ticks": "outside"
             }
            },
            "type": "scattergl"
           }
          ],
          "scattermapbox": [
           {
            "marker": {
             "colorbar": {
              "outlinewidth": 1,
              "tickcolor": "rgb(36,36,36)",
              "ticks": "outside"
             }
            },
            "type": "scattermapbox"
           }
          ],
          "scatterpolar": [
           {
            "marker": {
             "colorbar": {
              "outlinewidth": 1,
              "tickcolor": "rgb(36,36,36)",
              "ticks": "outside"
             }
            },
            "type": "scatterpolar"
           }
          ],
          "scatterpolargl": [
           {
            "marker": {
             "colorbar": {
              "outlinewidth": 1,
              "tickcolor": "rgb(36,36,36)",
              "ticks": "outside"
             }
            },
            "type": "scatterpolargl"
           }
          ],
          "scatterternary": [
           {
            "marker": {
             "colorbar": {
              "outlinewidth": 1,
              "tickcolor": "rgb(36,36,36)",
              "ticks": "outside"
             }
            },
            "type": "scatterternary"
           }
          ],
          "surface": [
           {
            "colorbar": {
             "outlinewidth": 1,
             "tickcolor": "rgb(36,36,36)",
             "ticks": "outside"
            },
            "colorscale": [
             [
              0,
              "#440154"
             ],
             [
              0.1111111111111111,
              "#482878"
             ],
             [
              0.2222222222222222,
              "#3e4989"
             ],
             [
              0.3333333333333333,
              "#31688e"
             ],
             [
              0.4444444444444444,
              "#26828e"
             ],
             [
              0.5555555555555556,
              "#1f9e89"
             ],
             [
              0.6666666666666666,
              "#35b779"
             ],
             [
              0.7777777777777778,
              "#6ece58"
             ],
             [
              0.8888888888888888,
              "#b5de2b"
             ],
             [
              1,
              "#fde725"
             ]
            ],
            "type": "surface"
           }
          ],
          "table": [
           {
            "cells": {
             "fill": {
              "color": "rgb(237,237,237)"
             },
             "line": {
              "color": "white"
             }
            },
            "header": {
             "fill": {
              "color": "rgb(217,217,217)"
             },
             "line": {
              "color": "white"
             }
            },
            "type": "table"
           }
          ]
         },
         "layout": {
          "annotationdefaults": {
           "arrowhead": 0,
           "arrowwidth": 1
          },
          "autotypenumbers": "strict",
          "coloraxis": {
           "colorbar": {
            "outlinewidth": 1,
            "tickcolor": "rgb(36,36,36)",
            "ticks": "outside"
           }
          },
          "colorscale": {
           "diverging": [
            [
             0,
             "rgb(103,0,31)"
            ],
            [
             0.1,
             "rgb(178,24,43)"
            ],
            [
             0.2,
             "rgb(214,96,77)"
            ],
            [
             0.3,
             "rgb(244,165,130)"
            ],
            [
             0.4,
             "rgb(253,219,199)"
            ],
            [
             0.5,
             "rgb(247,247,247)"
            ],
            [
             0.6,
             "rgb(209,229,240)"
            ],
            [
             0.7,
             "rgb(146,197,222)"
            ],
            [
             0.8,
             "rgb(67,147,195)"
            ],
            [
             0.9,
             "rgb(33,102,172)"
            ],
            [
             1,
             "rgb(5,48,97)"
            ]
           ],
           "sequential": [
            [
             0,
             "#440154"
            ],
            [
             0.1111111111111111,
             "#482878"
            ],
            [
             0.2222222222222222,
             "#3e4989"
            ],
            [
             0.3333333333333333,
             "#31688e"
            ],
            [
             0.4444444444444444,
             "#26828e"
            ],
            [
             0.5555555555555556,
             "#1f9e89"
            ],
            [
             0.6666666666666666,
             "#35b779"
            ],
            [
             0.7777777777777778,
             "#6ece58"
            ],
            [
             0.8888888888888888,
             "#b5de2b"
            ],
            [
             1,
             "#fde725"
            ]
           ],
           "sequentialminus": [
            [
             0,
             "#440154"
            ],
            [
             0.1111111111111111,
             "#482878"
            ],
            [
             0.2222222222222222,
             "#3e4989"
            ],
            [
             0.3333333333333333,
             "#31688e"
            ],
            [
             0.4444444444444444,
             "#26828e"
            ],
            [
             0.5555555555555556,
             "#1f9e89"
            ],
            [
             0.6666666666666666,
             "#35b779"
            ],
            [
             0.7777777777777778,
             "#6ece58"
            ],
            [
             0.8888888888888888,
             "#b5de2b"
            ],
            [
             1,
             "#fde725"
            ]
           ]
          },
          "colorway": [
           "#1F77B4",
           "#FF7F0E",
           "#2CA02C",
           "#D62728",
           "#9467BD",
           "#8C564B",
           "#E377C2",
           "#7F7F7F",
           "#BCBD22",
           "#17BECF"
          ],
          "font": {
           "color": "rgb(36,36,36)"
          },
          "geo": {
           "bgcolor": "white",
           "lakecolor": "white",
           "landcolor": "white",
           "showlakes": true,
           "showland": true,
           "subunitcolor": "white"
          },
          "hoverlabel": {
           "align": "left"
          },
          "hovermode": "closest",
          "mapbox": {
           "style": "light"
          },
          "paper_bgcolor": "white",
          "plot_bgcolor": "white",
          "polar": {
           "angularaxis": {
            "gridcolor": "rgb(232,232,232)",
            "linecolor": "rgb(36,36,36)",
            "showgrid": false,
            "showline": true,
            "ticks": "outside"
           },
           "bgcolor": "white",
           "radialaxis": {
            "gridcolor": "rgb(232,232,232)",
            "linecolor": "rgb(36,36,36)",
            "showgrid": false,
            "showline": true,
            "ticks": "outside"
           }
          },
          "scene": {
           "xaxis": {
            "backgroundcolor": "white",
            "gridcolor": "rgb(232,232,232)",
            "gridwidth": 2,
            "linecolor": "rgb(36,36,36)",
            "showbackground": true,
            "showgrid": false,
            "showline": true,
            "ticks": "outside",
            "zeroline": false,
            "zerolinecolor": "rgb(36,36,36)"
           },
           "yaxis": {
            "backgroundcolor": "white",
            "gridcolor": "rgb(232,232,232)",
            "gridwidth": 2,
            "linecolor": "rgb(36,36,36)",
            "showbackground": true,
            "showgrid": false,
            "showline": true,
            "ticks": "outside",
            "zeroline": false,
            "zerolinecolor": "rgb(36,36,36)"
           },
           "zaxis": {
            "backgroundcolor": "white",
            "gridcolor": "rgb(232,232,232)",
            "gridwidth": 2,
            "linecolor": "rgb(36,36,36)",
            "showbackground": true,
            "showgrid": false,
            "showline": true,
            "ticks": "outside",
            "zeroline": false,
            "zerolinecolor": "rgb(36,36,36)"
           }
          },
          "shapedefaults": {
           "fillcolor": "black",
           "line": {
            "width": 0
           },
           "opacity": 0.3
          },
          "ternary": {
           "aaxis": {
            "gridcolor": "rgb(232,232,232)",
            "linecolor": "rgb(36,36,36)",
            "showgrid": false,
            "showline": true,
            "ticks": "outside"
           },
           "baxis": {
            "gridcolor": "rgb(232,232,232)",
            "linecolor": "rgb(36,36,36)",
            "showgrid": false,
            "showline": true,
            "ticks": "outside"
           },
           "bgcolor": "white",
           "caxis": {
            "gridcolor": "rgb(232,232,232)",
            "linecolor": "rgb(36,36,36)",
            "showgrid": false,
            "showline": true,
            "ticks": "outside"
           }
          },
          "title": {
           "x": 0.05
          },
          "xaxis": {
           "automargin": true,
           "gridcolor": "rgb(232,232,232)",
           "linecolor": "rgb(36,36,36)",
           "showgrid": false,
           "showline": true,
           "ticks": "outside",
           "title": {
            "standoff": 15
           },
           "zeroline": false,
           "zerolinecolor": "rgb(36,36,36)"
          },
          "yaxis": {
           "automargin": true,
           "gridcolor": "rgb(232,232,232)",
           "linecolor": "rgb(36,36,36)",
           "showgrid": false,
           "showline": true,
           "ticks": "outside",
           "title": {
            "standoff": 15
           },
           "zeroline": false,
           "zerolinecolor": "rgb(36,36,36)"
          }
         }
        },
        "title": {
         "text": "Variantes detectadas en la Región de Aysén"
        },
        "xaxis": {
         "anchor": "y",
         "domain": [
          0,
          1
         ],
         "title": {
          "text": "Fecha de resultado de Secuenciación o Genotipificación"
         }
        },
        "yaxis": {
         "anchor": "x",
         "domain": [
          0,
          1
         ],
         "title": {
          "text": "No. de casos identificados por variante"
         }
        }
       }
      },
      "text/html": [
       "<div>                            <div id=\"55c71e8b-65d6-4f67-a280-fb7d081b94ff\" class=\"plotly-graph-div\" style=\"height:525px; width:100%;\"></div>            <script type=\"text/javascript\">                require([\"plotly\"], function(Plotly) {                    window.PLOTLYENV=window.PLOTLYENV || {};                                    if (document.getElementById(\"55c71e8b-65d6-4f67-a280-fb7d081b94ff\")) {                    Plotly.newPlot(                        \"55c71e8b-65d6-4f67-a280-fb7d081b94ff\",                        [{\"hovertemplate\": \"Variante detectada=Alfa<br>fecha_resultado_secuenciacion_genotipificacion=%{x}<br>value=%{y}<extra></extra>\", \"legendgroup\": \"Alfa\", \"line\": {\"color\": \"#636efa\"}, \"mode\": \"lines\", \"name\": \"Alfa\", \"orientation\": \"v\", \"showlegend\": true, \"stackgroup\": \"1\", \"type\": \"scatter\", \"x\": [\"2021-03-21T00:00:00\", \"2021-04-05T00:00:00\", \"2021-04-08T00:00:00\", \"2021-04-19T00:00:00\", \"2021-05-05T00:00:00\", \"2021-05-14T00:00:00\", \"2021-05-19T00:00:00\", \"2021-05-24T00:00:00\", \"2021-05-26T00:00:00\", \"2021-06-09T00:00:00\", \"2021-06-17T00:00:00\", \"2021-06-30T00:00:00\", \"2021-07-07T00:00:00\", \"2021-07-14T00:00:00\", \"2021-07-21T00:00:00\", \"2021-07-28T00:00:00\", \"2021-07-31T00:00:00\", \"2021-08-01T00:00:00\", \"2021-08-03T00:00:00\", \"2021-08-06T00:00:00\", \"2021-08-12T00:00:00\", \"2021-08-13T00:00:00\", \"2021-08-17T00:00:00\", \"2021-08-18T00:00:00\", \"2021-08-21T00:00:00\", \"2021-08-23T00:00:00\", \"2021-08-25T00:00:00\", \"2021-08-26T00:00:00\", \"2021-09-01T00:00:00\"], \"xaxis\": \"x\", \"y\": [0.0, 0.0, 0.0, 0.0, 0.0, 0.0, 0.0, 0.0, 1.0, 1.0, 1.0, 1.0, 1.0, 1.0, 1.0, 1.0, 1.0, 1.0, 1.0, 1.0, 1.0, 1.0, 1.0, 1.0, 1.0, 1.0, 1.0, 1.0, 1.0], \"yaxis\": \"y\"}, {\"hovertemplate\": \"Variante detectada=B.1<br>fecha_resultado_secuenciacion_genotipificacion=%{x}<br>value=%{y}<extra></extra>\", \"legendgroup\": \"B.1\", \"line\": {\"color\": \"#EF553B\"}, \"mode\": \"lines\", \"name\": \"B.1\", \"orientation\": \"v\", \"showlegend\": true, \"stackgroup\": \"1\", \"type\": \"scatter\", \"x\": [\"2021-03-21T00:00:00\", \"2021-04-05T00:00:00\", \"2021-04-08T00:00:00\", \"2021-04-19T00:00:00\", \"2021-05-05T00:00:00\", \"2021-05-14T00:00:00\", \"2021-05-19T00:00:00\", \"2021-05-24T00:00:00\", \"2021-05-26T00:00:00\", \"2021-06-09T00:00:00\", \"2021-06-17T00:00:00\", \"2021-06-30T00:00:00\", \"2021-07-07T00:00:00\", \"2021-07-14T00:00:00\", \"2021-07-21T00:00:00\", \"2021-07-28T00:00:00\", \"2021-07-31T00:00:00\", \"2021-08-01T00:00:00\", \"2021-08-03T00:00:00\", \"2021-08-06T00:00:00\", \"2021-08-12T00:00:00\", \"2021-08-13T00:00:00\", \"2021-08-17T00:00:00\", \"2021-08-18T00:00:00\", \"2021-08-21T00:00:00\", \"2021-08-23T00:00:00\", \"2021-08-25T00:00:00\", \"2021-08-26T00:00:00\", \"2021-09-01T00:00:00\"], \"xaxis\": \"x\", \"y\": [0.0, 0.0, 0.0, 0.0, 0.0, 0.0, 0.0, 0.0, 0.0, 1.0, 1.0, 1.0, 1.0, 1.0, 1.0, 1.0, 1.0, 1.0, 1.0, 1.0, 1.0, 1.0, 1.0, 1.0, 1.0, 1.0, 1.0, 1.0, 1.0], \"yaxis\": \"y\"}, {\"hovertemplate\": \"Variante detectada=B.1.1<br>fecha_resultado_secuenciacion_genotipificacion=%{x}<br>value=%{y}<extra></extra>\", \"legendgroup\": \"B.1.1\", \"line\": {\"color\": \"#00cc96\"}, \"mode\": \"lines\", \"name\": \"B.1.1\", \"orientation\": \"v\", \"showlegend\": true, \"stackgroup\": \"1\", \"type\": \"scatter\", \"x\": [\"2021-03-21T00:00:00\", \"2021-04-05T00:00:00\", \"2021-04-08T00:00:00\", \"2021-04-19T00:00:00\", \"2021-05-05T00:00:00\", \"2021-05-14T00:00:00\", \"2021-05-19T00:00:00\", \"2021-05-24T00:00:00\", \"2021-05-26T00:00:00\", \"2021-06-09T00:00:00\", \"2021-06-17T00:00:00\", \"2021-06-30T00:00:00\", \"2021-07-07T00:00:00\", \"2021-07-14T00:00:00\", \"2021-07-21T00:00:00\", \"2021-07-28T00:00:00\", \"2021-07-31T00:00:00\", \"2021-08-01T00:00:00\", \"2021-08-03T00:00:00\", \"2021-08-06T00:00:00\", \"2021-08-12T00:00:00\", \"2021-08-13T00:00:00\", \"2021-08-17T00:00:00\", \"2021-08-18T00:00:00\", \"2021-08-21T00:00:00\", \"2021-08-23T00:00:00\", \"2021-08-25T00:00:00\", \"2021-08-26T00:00:00\", \"2021-09-01T00:00:00\"], \"xaxis\": \"x\", \"y\": [0.0, 1.0, 1.0, 2.0, 2.0, 2.0, 2.0, 2.0, 4.0, 5.0, 5.0, 5.0, 5.0, 5.0, 5.0, 5.0, 5.0, 5.0, 5.0, 5.0, 5.0, 5.0, 5.0, 5.0, 5.0, 5.0, 5.0, 5.0, 5.0], \"yaxis\": \"y\"}, {\"hovertemplate\": \"Variante detectada=B.1.1.348<br>fecha_resultado_secuenciacion_genotipificacion=%{x}<br>value=%{y}<extra></extra>\", \"legendgroup\": \"B.1.1.348\", \"line\": {\"color\": \"#ab63fa\"}, \"mode\": \"lines\", \"name\": \"B.1.1.348\", \"orientation\": \"v\", \"showlegend\": true, \"stackgroup\": \"1\", \"type\": \"scatter\", \"x\": [\"2021-03-21T00:00:00\", \"2021-04-05T00:00:00\", \"2021-04-08T00:00:00\", \"2021-04-19T00:00:00\", \"2021-05-05T00:00:00\", \"2021-05-14T00:00:00\", \"2021-05-19T00:00:00\", \"2021-05-24T00:00:00\", \"2021-05-26T00:00:00\", \"2021-06-09T00:00:00\", \"2021-06-17T00:00:00\", \"2021-06-30T00:00:00\", \"2021-07-07T00:00:00\", \"2021-07-14T00:00:00\", \"2021-07-21T00:00:00\", \"2021-07-28T00:00:00\", \"2021-07-31T00:00:00\", \"2021-08-01T00:00:00\", \"2021-08-03T00:00:00\", \"2021-08-06T00:00:00\", \"2021-08-12T00:00:00\", \"2021-08-13T00:00:00\", \"2021-08-17T00:00:00\", \"2021-08-18T00:00:00\", \"2021-08-21T00:00:00\", \"2021-08-23T00:00:00\", \"2021-08-25T00:00:00\", \"2021-08-26T00:00:00\", \"2021-09-01T00:00:00\"], \"xaxis\": \"x\", \"y\": [1.0, 2.0, 2.0, 2.0, 2.0, 2.0, 2.0, 2.0, 2.0, 2.0, 2.0, 2.0, 2.0, 2.0, 2.0, 2.0, 2.0, 2.0, 2.0, 2.0, 2.0, 2.0, 2.0, 2.0, 2.0, 2.0, 2.0, 2.0, 2.0], \"yaxis\": \"y\"}, {\"hovertemplate\": \"Variante detectada=Gamma<br>fecha_resultado_secuenciacion_genotipificacion=%{x}<br>value=%{y}<extra></extra>\", \"legendgroup\": \"Gamma\", \"line\": {\"color\": \"#FFA15A\"}, \"mode\": \"lines\", \"name\": \"Gamma\", \"orientation\": \"v\", \"showlegend\": true, \"stackgroup\": \"1\", \"type\": \"scatter\", \"x\": [\"2021-03-21T00:00:00\", \"2021-04-05T00:00:00\", \"2021-04-08T00:00:00\", \"2021-04-19T00:00:00\", \"2021-05-05T00:00:00\", \"2021-05-14T00:00:00\", \"2021-05-19T00:00:00\", \"2021-05-24T00:00:00\", \"2021-05-26T00:00:00\", \"2021-06-09T00:00:00\", \"2021-06-17T00:00:00\", \"2021-06-30T00:00:00\", \"2021-07-07T00:00:00\", \"2021-07-14T00:00:00\", \"2021-07-21T00:00:00\", \"2021-07-28T00:00:00\", \"2021-07-31T00:00:00\", \"2021-08-01T00:00:00\", \"2021-08-03T00:00:00\", \"2021-08-06T00:00:00\", \"2021-08-12T00:00:00\", \"2021-08-13T00:00:00\", \"2021-08-17T00:00:00\", \"2021-08-18T00:00:00\", \"2021-08-21T00:00:00\", \"2021-08-23T00:00:00\", \"2021-08-25T00:00:00\", \"2021-08-26T00:00:00\", \"2021-09-01T00:00:00\"], \"xaxis\": \"x\", \"y\": [0.0, 0.0, 0.0, 0.0, 2.0, 6.0, 9.0, 9.0, 13.0, 20.0, 24.0, 28.0, 32.0, 47.0, 58.0, 60.0, 61.0, 61.0, 62.0, 71.0, 76.0, 82.0, 91.0, 96.0, 100.0, 107.0, 116.0, 122.0, 127.0], \"yaxis\": \"y\"}, {\"hovertemplate\": \"Variante detectada=Indeterminado<br>fecha_resultado_secuenciacion_genotipificacion=%{x}<br>value=%{y}<extra></extra>\", \"legendgroup\": \"Indeterminado\", \"line\": {\"color\": \"#19d3f3\"}, \"mode\": \"lines\", \"name\": \"Indeterminado\", \"orientation\": \"v\", \"showlegend\": true, \"stackgroup\": \"1\", \"type\": \"scatter\", \"x\": [\"2021-03-21T00:00:00\", \"2021-04-05T00:00:00\", \"2021-04-08T00:00:00\", \"2021-04-19T00:00:00\", \"2021-05-05T00:00:00\", \"2021-05-14T00:00:00\", \"2021-05-19T00:00:00\", \"2021-05-24T00:00:00\", \"2021-05-26T00:00:00\", \"2021-06-09T00:00:00\", \"2021-06-17T00:00:00\", \"2021-06-30T00:00:00\", \"2021-07-07T00:00:00\", \"2021-07-14T00:00:00\", \"2021-07-21T00:00:00\", \"2021-07-28T00:00:00\", \"2021-07-31T00:00:00\", \"2021-08-01T00:00:00\", \"2021-08-03T00:00:00\", \"2021-08-06T00:00:00\", \"2021-08-12T00:00:00\", \"2021-08-13T00:00:00\", \"2021-08-17T00:00:00\", \"2021-08-18T00:00:00\", \"2021-08-21T00:00:00\", \"2021-08-23T00:00:00\", \"2021-08-25T00:00:00\", \"2021-08-26T00:00:00\", \"2021-09-01T00:00:00\"], \"xaxis\": \"x\", \"y\": [0.0, 0.0, 0.0, 0.0, 0.0, 0.0, 0.0, 0.0, 0.0, 0.0, 0.0, 0.0, 0.0, 0.0, 0.0, 0.0, 2.0, 2.0, 3.0, 3.0, 3.0, 3.0, 4.0, 4.0, 4.0, 5.0, 5.0, 5.0, 5.0], \"yaxis\": \"y\"}, {\"hovertemplate\": \"Variante detectada=Lambda<br>fecha_resultado_secuenciacion_genotipificacion=%{x}<br>value=%{y}<extra></extra>\", \"legendgroup\": \"Lambda\", \"line\": {\"color\": \"#FF6692\"}, \"mode\": \"lines\", \"name\": \"Lambda\", \"orientation\": \"v\", \"showlegend\": true, \"stackgroup\": \"1\", \"type\": \"scatter\", \"x\": [\"2021-03-21T00:00:00\", \"2021-04-05T00:00:00\", \"2021-04-08T00:00:00\", \"2021-04-19T00:00:00\", \"2021-05-05T00:00:00\", \"2021-05-14T00:00:00\", \"2021-05-19T00:00:00\", \"2021-05-24T00:00:00\", \"2021-05-26T00:00:00\", \"2021-06-09T00:00:00\", \"2021-06-17T00:00:00\", \"2021-06-30T00:00:00\", \"2021-07-07T00:00:00\", \"2021-07-14T00:00:00\", \"2021-07-21T00:00:00\", \"2021-07-28T00:00:00\", \"2021-07-31T00:00:00\", \"2021-08-01T00:00:00\", \"2021-08-03T00:00:00\", \"2021-08-06T00:00:00\", \"2021-08-12T00:00:00\", \"2021-08-13T00:00:00\", \"2021-08-17T00:00:00\", \"2021-08-18T00:00:00\", \"2021-08-21T00:00:00\", \"2021-08-23T00:00:00\", \"2021-08-25T00:00:00\", \"2021-08-26T00:00:00\", \"2021-09-01T00:00:00\"], \"xaxis\": \"x\", \"y\": [0.0, 0.0, 0.0, 3.0, 7.0, 13.0, 17.0, 17.0, 25.0, 27.0, 27.0, 29.0, 35.0, 43.0, 48.0, 48.0, 48.0, 48.0, 48.0, 49.0, 50.0, 50.0, 50.0, 50.0, 50.0, 50.0, 51.0, 51.0, 52.0], \"yaxis\": \"y\"}, {\"hovertemplate\": \"Variante detectada=N.4<br>fecha_resultado_secuenciacion_genotipificacion=%{x}<br>value=%{y}<extra></extra>\", \"legendgroup\": \"N.4\", \"line\": {\"color\": \"#B6E880\"}, \"mode\": \"lines\", \"name\": \"N.4\", \"orientation\": \"v\", \"showlegend\": true, \"stackgroup\": \"1\", \"type\": \"scatter\", \"x\": [\"2021-03-21T00:00:00\", \"2021-04-05T00:00:00\", \"2021-04-08T00:00:00\", \"2021-04-19T00:00:00\", \"2021-05-05T00:00:00\", \"2021-05-14T00:00:00\", \"2021-05-19T00:00:00\", \"2021-05-24T00:00:00\", \"2021-05-26T00:00:00\", \"2021-06-09T00:00:00\", \"2021-06-17T00:00:00\", \"2021-06-30T00:00:00\", \"2021-07-07T00:00:00\", \"2021-07-14T00:00:00\", \"2021-07-21T00:00:00\", \"2021-07-28T00:00:00\", \"2021-07-31T00:00:00\", \"2021-08-01T00:00:00\", \"2021-08-03T00:00:00\", \"2021-08-06T00:00:00\", \"2021-08-12T00:00:00\", \"2021-08-13T00:00:00\", \"2021-08-17T00:00:00\", \"2021-08-18T00:00:00\", \"2021-08-21T00:00:00\", \"2021-08-23T00:00:00\", \"2021-08-25T00:00:00\", \"2021-08-26T00:00:00\", \"2021-09-01T00:00:00\"], \"xaxis\": \"x\", \"y\": [1.0, 1.0, 1.0, 1.0, 1.0, 1.0, 1.0, 1.0, 1.0, 1.0, 1.0, 1.0, 1.0, 1.0, 1.0, 1.0, 1.0, 1.0, 1.0, 1.0, 1.0, 1.0, 1.0, 1.0, 1.0, 1.0, 1.0, 1.0, 1.0], \"yaxis\": \"y\"}, {\"hovertemplate\": \"Variante detectada=No amplifica<br>fecha_resultado_secuenciacion_genotipificacion=%{x}<br>value=%{y}<extra></extra>\", \"legendgroup\": \"No amplifica\", \"line\": {\"color\": \"#FF97FF\"}, \"mode\": \"lines\", \"name\": \"No amplifica\", \"orientation\": \"v\", \"showlegend\": true, \"stackgroup\": \"1\", \"type\": \"scatter\", \"x\": [\"2021-03-21T00:00:00\", \"2021-04-05T00:00:00\", \"2021-04-08T00:00:00\", \"2021-04-19T00:00:00\", \"2021-05-05T00:00:00\", \"2021-05-14T00:00:00\", \"2021-05-19T00:00:00\", \"2021-05-24T00:00:00\", \"2021-05-26T00:00:00\", \"2021-06-09T00:00:00\", \"2021-06-17T00:00:00\", \"2021-06-30T00:00:00\", \"2021-07-07T00:00:00\", \"2021-07-14T00:00:00\", \"2021-07-21T00:00:00\", \"2021-07-28T00:00:00\", \"2021-07-31T00:00:00\", \"2021-08-01T00:00:00\", \"2021-08-03T00:00:00\", \"2021-08-06T00:00:00\", \"2021-08-12T00:00:00\", \"2021-08-13T00:00:00\", \"2021-08-17T00:00:00\", \"2021-08-18T00:00:00\", \"2021-08-21T00:00:00\", \"2021-08-23T00:00:00\", \"2021-08-25T00:00:00\", \"2021-08-26T00:00:00\", \"2021-09-01T00:00:00\"], \"xaxis\": \"x\", \"y\": [0.0, 0.0, 1.0, 1.0, 1.0, 1.0, 1.0, 2.0, 2.0, 2.0, 3.0, 5.0, 10.0, 16.0, 27.0, 27.0, 27.0, 28.0, 28.0, 29.0, 29.0, 29.0, 29.0, 29.0, 29.0, 29.0, 32.0, 32.0, 33.0], \"yaxis\": \"y\"}, {\"hovertemplate\": \"Variante detectada=VOI no detectadas<br>fecha_resultado_secuenciacion_genotipificacion=%{x}<br>value=%{y}<extra></extra>\", \"legendgroup\": \"VOI no detectadas\", \"line\": {\"color\": \"#FECB52\"}, \"mode\": \"lines\", \"name\": \"VOI no detectadas\", \"orientation\": \"v\", \"showlegend\": true, \"stackgroup\": \"1\", \"type\": \"scatter\", \"x\": [\"2021-03-21T00:00:00\", \"2021-04-05T00:00:00\", \"2021-04-08T00:00:00\", \"2021-04-19T00:00:00\", \"2021-05-05T00:00:00\", \"2021-05-14T00:00:00\", \"2021-05-19T00:00:00\", \"2021-05-24T00:00:00\", \"2021-05-26T00:00:00\", \"2021-06-09T00:00:00\", \"2021-06-17T00:00:00\", \"2021-06-30T00:00:00\", \"2021-07-07T00:00:00\", \"2021-07-14T00:00:00\", \"2021-07-21T00:00:00\", \"2021-07-28T00:00:00\", \"2021-07-31T00:00:00\", \"2021-08-01T00:00:00\", \"2021-08-03T00:00:00\", \"2021-08-06T00:00:00\", \"2021-08-12T00:00:00\", \"2021-08-13T00:00:00\", \"2021-08-17T00:00:00\", \"2021-08-18T00:00:00\", \"2021-08-21T00:00:00\", \"2021-08-23T00:00:00\", \"2021-08-25T00:00:00\", \"2021-08-26T00:00:00\", \"2021-09-01T00:00:00\"], \"xaxis\": \"x\", \"y\": [0.0, 0.0, 0.0, 0.0, 0.0, 0.0, 0.0, 0.0, 0.0, 0.0, 0.0, 0.0, 0.0, 0.0, 0.0, 0.0, 0.0, 0.0, 0.0, 0.0, 0.0, 0.0, 0.0, 1.0, 1.0, 1.0, 1.0, 1.0, 1.0], \"yaxis\": \"y\"}],                        {\"legend\": {\"title\": {\"text\": \"Variante detectada\"}, \"tracegroupgap\": 0}, \"margin\": {\"t\": 60}, \"template\": {\"data\": {\"bar\": [{\"error_x\": {\"color\": \"rgb(36,36,36)\"}, \"error_y\": {\"color\": \"rgb(36,36,36)\"}, \"marker\": {\"line\": {\"color\": \"white\", \"width\": 0.5}}, \"type\": \"bar\"}], \"barpolar\": [{\"marker\": {\"line\": {\"color\": \"white\", \"width\": 0.5}}, \"type\": \"barpolar\"}], \"carpet\": [{\"aaxis\": {\"endlinecolor\": \"rgb(36,36,36)\", \"gridcolor\": \"white\", \"linecolor\": \"white\", \"minorgridcolor\": \"white\", \"startlinecolor\": \"rgb(36,36,36)\"}, \"baxis\": {\"endlinecolor\": \"rgb(36,36,36)\", \"gridcolor\": \"white\", \"linecolor\": \"white\", \"minorgridcolor\": \"white\", \"startlinecolor\": \"rgb(36,36,36)\"}, \"type\": \"carpet\"}], \"choropleth\": [{\"colorbar\": {\"outlinewidth\": 1, \"tickcolor\": \"rgb(36,36,36)\", \"ticks\": \"outside\"}, \"type\": \"choropleth\"}], \"contour\": [{\"colorbar\": {\"outlinewidth\": 1, \"tickcolor\": \"rgb(36,36,36)\", \"ticks\": \"outside\"}, \"colorscale\": [[0.0, \"#440154\"], [0.1111111111111111, \"#482878\"], [0.2222222222222222, \"#3e4989\"], [0.3333333333333333, \"#31688e\"], [0.4444444444444444, \"#26828e\"], [0.5555555555555556, \"#1f9e89\"], [0.6666666666666666, \"#35b779\"], [0.7777777777777778, \"#6ece58\"], [0.8888888888888888, \"#b5de2b\"], [1.0, \"#fde725\"]], \"type\": \"contour\"}], \"contourcarpet\": [{\"colorbar\": {\"outlinewidth\": 1, \"tickcolor\": \"rgb(36,36,36)\", \"ticks\": \"outside\"}, \"type\": \"contourcarpet\"}], \"heatmap\": [{\"colorbar\": {\"outlinewidth\": 1, \"tickcolor\": \"rgb(36,36,36)\", \"ticks\": \"outside\"}, \"colorscale\": [[0.0, \"#440154\"], [0.1111111111111111, \"#482878\"], [0.2222222222222222, \"#3e4989\"], [0.3333333333333333, \"#31688e\"], [0.4444444444444444, \"#26828e\"], [0.5555555555555556, \"#1f9e89\"], [0.6666666666666666, \"#35b779\"], [0.7777777777777778, \"#6ece58\"], [0.8888888888888888, \"#b5de2b\"], [1.0, \"#fde725\"]], \"type\": \"heatmap\"}], \"heatmapgl\": [{\"colorbar\": {\"outlinewidth\": 1, \"tickcolor\": \"rgb(36,36,36)\", \"ticks\": \"outside\"}, \"colorscale\": [[0.0, \"#440154\"], [0.1111111111111111, \"#482878\"], [0.2222222222222222, \"#3e4989\"], [0.3333333333333333, \"#31688e\"], [0.4444444444444444, \"#26828e\"], [0.5555555555555556, \"#1f9e89\"], [0.6666666666666666, \"#35b779\"], [0.7777777777777778, \"#6ece58\"], [0.8888888888888888, \"#b5de2b\"], [1.0, \"#fde725\"]], \"type\": \"heatmapgl\"}], \"histogram\": [{\"marker\": {\"line\": {\"color\": \"white\", \"width\": 0.6}}, \"type\": \"histogram\"}], \"histogram2d\": [{\"colorbar\": {\"outlinewidth\": 1, \"tickcolor\": \"rgb(36,36,36)\", \"ticks\": \"outside\"}, \"colorscale\": [[0.0, \"#440154\"], [0.1111111111111111, \"#482878\"], [0.2222222222222222, \"#3e4989\"], [0.3333333333333333, \"#31688e\"], [0.4444444444444444, \"#26828e\"], [0.5555555555555556, \"#1f9e89\"], [0.6666666666666666, \"#35b779\"], [0.7777777777777778, \"#6ece58\"], [0.8888888888888888, \"#b5de2b\"], [1.0, \"#fde725\"]], \"type\": \"histogram2d\"}], \"histogram2dcontour\": [{\"colorbar\": {\"outlinewidth\": 1, \"tickcolor\": \"rgb(36,36,36)\", \"ticks\": \"outside\"}, \"colorscale\": [[0.0, \"#440154\"], [0.1111111111111111, \"#482878\"], [0.2222222222222222, \"#3e4989\"], [0.3333333333333333, \"#31688e\"], [0.4444444444444444, \"#26828e\"], [0.5555555555555556, \"#1f9e89\"], [0.6666666666666666, \"#35b779\"], [0.7777777777777778, \"#6ece58\"], [0.8888888888888888, \"#b5de2b\"], [1.0, \"#fde725\"]], \"type\": \"histogram2dcontour\"}], \"mesh3d\": [{\"colorbar\": {\"outlinewidth\": 1, \"tickcolor\": \"rgb(36,36,36)\", \"ticks\": \"outside\"}, \"type\": \"mesh3d\"}], \"parcoords\": [{\"line\": {\"colorbar\": {\"outlinewidth\": 1, \"tickcolor\": \"rgb(36,36,36)\", \"ticks\": \"outside\"}}, \"type\": \"parcoords\"}], \"pie\": [{\"automargin\": true, \"type\": \"pie\"}], \"scatter\": [{\"marker\": {\"colorbar\": {\"outlinewidth\": 1, \"tickcolor\": \"rgb(36,36,36)\", \"ticks\": \"outside\"}}, \"type\": \"scatter\"}], \"scatter3d\": [{\"line\": {\"colorbar\": {\"outlinewidth\": 1, \"tickcolor\": \"rgb(36,36,36)\", \"ticks\": \"outside\"}}, \"marker\": {\"colorbar\": {\"outlinewidth\": 1, \"tickcolor\": \"rgb(36,36,36)\", \"ticks\": \"outside\"}}, \"type\": \"scatter3d\"}], \"scattercarpet\": [{\"marker\": {\"colorbar\": {\"outlinewidth\": 1, \"tickcolor\": \"rgb(36,36,36)\", \"ticks\": \"outside\"}}, \"type\": \"scattercarpet\"}], \"scattergeo\": [{\"marker\": {\"colorbar\": {\"outlinewidth\": 1, \"tickcolor\": \"rgb(36,36,36)\", \"ticks\": \"outside\"}}, \"type\": \"scattergeo\"}], \"scattergl\": [{\"marker\": {\"colorbar\": {\"outlinewidth\": 1, \"tickcolor\": \"rgb(36,36,36)\", \"ticks\": \"outside\"}}, \"type\": \"scattergl\"}], \"scattermapbox\": [{\"marker\": {\"colorbar\": {\"outlinewidth\": 1, \"tickcolor\": \"rgb(36,36,36)\", \"ticks\": \"outside\"}}, \"type\": \"scattermapbox\"}], \"scatterpolar\": [{\"marker\": {\"colorbar\": {\"outlinewidth\": 1, \"tickcolor\": \"rgb(36,36,36)\", \"ticks\": \"outside\"}}, \"type\": \"scatterpolar\"}], \"scatterpolargl\": [{\"marker\": {\"colorbar\": {\"outlinewidth\": 1, \"tickcolor\": \"rgb(36,36,36)\", \"ticks\": \"outside\"}}, \"type\": \"scatterpolargl\"}], \"scatterternary\": [{\"marker\": {\"colorbar\": {\"outlinewidth\": 1, \"tickcolor\": \"rgb(36,36,36)\", \"ticks\": \"outside\"}}, \"type\": \"scatterternary\"}], \"surface\": [{\"colorbar\": {\"outlinewidth\": 1, \"tickcolor\": \"rgb(36,36,36)\", \"ticks\": \"outside\"}, \"colorscale\": [[0.0, \"#440154\"], [0.1111111111111111, \"#482878\"], [0.2222222222222222, \"#3e4989\"], [0.3333333333333333, \"#31688e\"], [0.4444444444444444, \"#26828e\"], [0.5555555555555556, \"#1f9e89\"], [0.6666666666666666, \"#35b779\"], [0.7777777777777778, \"#6ece58\"], [0.8888888888888888, \"#b5de2b\"], [1.0, \"#fde725\"]], \"type\": \"surface\"}], \"table\": [{\"cells\": {\"fill\": {\"color\": \"rgb(237,237,237)\"}, \"line\": {\"color\": \"white\"}}, \"header\": {\"fill\": {\"color\": \"rgb(217,217,217)\"}, \"line\": {\"color\": \"white\"}}, \"type\": \"table\"}]}, \"layout\": {\"annotationdefaults\": {\"arrowhead\": 0, \"arrowwidth\": 1}, \"autotypenumbers\": \"strict\", \"coloraxis\": {\"colorbar\": {\"outlinewidth\": 1, \"tickcolor\": \"rgb(36,36,36)\", \"ticks\": \"outside\"}}, \"colorscale\": {\"diverging\": [[0.0, \"rgb(103,0,31)\"], [0.1, \"rgb(178,24,43)\"], [0.2, \"rgb(214,96,77)\"], [0.3, \"rgb(244,165,130)\"], [0.4, \"rgb(253,219,199)\"], [0.5, \"rgb(247,247,247)\"], [0.6, \"rgb(209,229,240)\"], [0.7, \"rgb(146,197,222)\"], [0.8, \"rgb(67,147,195)\"], [0.9, \"rgb(33,102,172)\"], [1.0, \"rgb(5,48,97)\"]], \"sequential\": [[0.0, \"#440154\"], [0.1111111111111111, \"#482878\"], [0.2222222222222222, \"#3e4989\"], [0.3333333333333333, \"#31688e\"], [0.4444444444444444, \"#26828e\"], [0.5555555555555556, \"#1f9e89\"], [0.6666666666666666, \"#35b779\"], [0.7777777777777778, \"#6ece58\"], [0.8888888888888888, \"#b5de2b\"], [1.0, \"#fde725\"]], \"sequentialminus\": [[0.0, \"#440154\"], [0.1111111111111111, \"#482878\"], [0.2222222222222222, \"#3e4989\"], [0.3333333333333333, \"#31688e\"], [0.4444444444444444, \"#26828e\"], [0.5555555555555556, \"#1f9e89\"], [0.6666666666666666, \"#35b779\"], [0.7777777777777778, \"#6ece58\"], [0.8888888888888888, \"#b5de2b\"], [1.0, \"#fde725\"]]}, \"colorway\": [\"#1F77B4\", \"#FF7F0E\", \"#2CA02C\", \"#D62728\", \"#9467BD\", \"#8C564B\", \"#E377C2\", \"#7F7F7F\", \"#BCBD22\", \"#17BECF\"], \"font\": {\"color\": \"rgb(36,36,36)\"}, \"geo\": {\"bgcolor\": \"white\", \"lakecolor\": \"white\", \"landcolor\": \"white\", \"showlakes\": true, \"showland\": true, \"subunitcolor\": \"white\"}, \"hoverlabel\": {\"align\": \"left\"}, \"hovermode\": \"closest\", \"mapbox\": {\"style\": \"light\"}, \"paper_bgcolor\": \"white\", \"plot_bgcolor\": \"white\", \"polar\": {\"angularaxis\": {\"gridcolor\": \"rgb(232,232,232)\", \"linecolor\": \"rgb(36,36,36)\", \"showgrid\": false, \"showline\": true, \"ticks\": \"outside\"}, \"bgcolor\": \"white\", \"radialaxis\": {\"gridcolor\": \"rgb(232,232,232)\", \"linecolor\": \"rgb(36,36,36)\", \"showgrid\": false, \"showline\": true, \"ticks\": \"outside\"}}, \"scene\": {\"xaxis\": {\"backgroundcolor\": \"white\", \"gridcolor\": \"rgb(232,232,232)\", \"gridwidth\": 2, \"linecolor\": \"rgb(36,36,36)\", \"showbackground\": true, \"showgrid\": false, \"showline\": true, \"ticks\": \"outside\", \"zeroline\": false, \"zerolinecolor\": \"rgb(36,36,36)\"}, \"yaxis\": {\"backgroundcolor\": \"white\", \"gridcolor\": \"rgb(232,232,232)\", \"gridwidth\": 2, \"linecolor\": \"rgb(36,36,36)\", \"showbackground\": true, \"showgrid\": false, \"showline\": true, \"ticks\": \"outside\", \"zeroline\": false, \"zerolinecolor\": \"rgb(36,36,36)\"}, \"zaxis\": {\"backgroundcolor\": \"white\", \"gridcolor\": \"rgb(232,232,232)\", \"gridwidth\": 2, \"linecolor\": \"rgb(36,36,36)\", \"showbackground\": true, \"showgrid\": false, \"showline\": true, \"ticks\": \"outside\", \"zeroline\": false, \"zerolinecolor\": \"rgb(36,36,36)\"}}, \"shapedefaults\": {\"fillcolor\": \"black\", \"line\": {\"width\": 0}, \"opacity\": 0.3}, \"ternary\": {\"aaxis\": {\"gridcolor\": \"rgb(232,232,232)\", \"linecolor\": \"rgb(36,36,36)\", \"showgrid\": false, \"showline\": true, \"ticks\": \"outside\"}, \"baxis\": {\"gridcolor\": \"rgb(232,232,232)\", \"linecolor\": \"rgb(36,36,36)\", \"showgrid\": false, \"showline\": true, \"ticks\": \"outside\"}, \"bgcolor\": \"white\", \"caxis\": {\"gridcolor\": \"rgb(232,232,232)\", \"linecolor\": \"rgb(36,36,36)\", \"showgrid\": false, \"showline\": true, \"ticks\": \"outside\"}}, \"title\": {\"x\": 0.05}, \"xaxis\": {\"automargin\": true, \"gridcolor\": \"rgb(232,232,232)\", \"linecolor\": \"rgb(36,36,36)\", \"showgrid\": false, \"showline\": true, \"ticks\": \"outside\", \"title\": {\"standoff\": 15}, \"zeroline\": false, \"zerolinecolor\": \"rgb(36,36,36)\"}, \"yaxis\": {\"automargin\": true, \"gridcolor\": \"rgb(232,232,232)\", \"linecolor\": \"rgb(36,36,36)\", \"showgrid\": false, \"showline\": true, \"ticks\": \"outside\", \"title\": {\"standoff\": 15}, \"zeroline\": false, \"zerolinecolor\": \"rgb(36,36,36)\"}}}, \"title\": {\"text\": \"Variantes detectadas en la Regi\\u00f3n de Ays\\u00e9n\"}, \"xaxis\": {\"anchor\": \"y\", \"domain\": [0.0, 1.0], \"title\": {\"text\": \"Fecha de resultado de Secuenciaci\\u00f3n o Genotipificaci\\u00f3n\"}}, \"yaxis\": {\"anchor\": \"x\", \"domain\": [0.0, 1.0], \"title\": {\"text\": \"No. de casos identificados por variante\"}}},                        {\"responsive\": true}                    ).then(function(){\n",
       "                            \n",
       "var gd = document.getElementById('55c71e8b-65d6-4f67-a280-fb7d081b94ff');\n",
       "var x = new MutationObserver(function (mutations, observer) {{\n",
       "        var display = window.getComputedStyle(gd).display;\n",
       "        if (!display || display === 'none') {{\n",
       "            console.log([gd, 'removed!']);\n",
       "            Plotly.purge(gd);\n",
       "            observer.disconnect();\n",
       "        }}\n",
       "}});\n",
       "\n",
       "// Listen for the removal of the full notebook cells\n",
       "var notebookContainer = gd.closest('#notebook-container');\n",
       "if (notebookContainer) {{\n",
       "    x.observe(notebookContainer, {childList: true});\n",
       "}}\n",
       "\n",
       "// Listen for the clearing of the current output cell\n",
       "var outputEl = gd.closest('.output');\n",
       "if (outputEl) {{\n",
       "    x.observe(outputEl, {childList: true});\n",
       "}}\n",
       "\n",
       "                        })                };                });            </script>        </div>"
      ]
     },
     "metadata": {},
     "output_type": "display_data"
    }
   ],
   "source": [
    "px.area(df_variantes_clean.groupby(['fecha_resultado_secuenciacion_genotipificacion', 'variante_linaje']).count()[['n_documento']].reset_index().pivot(\n",
    "    index='fecha_resultado_secuenciacion_genotipificacion',\n",
    "    columns='variante_linaje', \n",
    "    values=['n_documento']\n",
    ").fillna(0).cumsum().clean_names().rename(\n",
    "    columns={\n",
    "        'alfa':'Alfa',\n",
    "        'b_1':'B.1',\n",
    "        'b_1_1':'B.1.1',\n",
    "        'b_1_1_348':'B.1.1.348',\n",
    "        'gamma':'Gamma',\n",
    "        'indeterminado':'Indeterminado',\n",
    "        'lambda':'Lambda',\n",
    "        'n_4':'N.4',\n",
    "        'no_amplifica':'No amplifica',\n",
    "        'no_se_detectan_mutaciones_para_variantes_de_interes_por_parte_de_este_kit':'VOI no detectadas'\n",
    "            })['n_documento'],\n",
    "        labels={'variante_linaje':'Variante detectada'},\n",
    "       ).update_layout(\n",
    "    title= 'Variantes detectadas en la Región de Aysén',\n",
    "    yaxis_title='No. de casos identificados por variante',\n",
    "    xaxis_title='Fecha de resultado de Secuenciación o Genotipificación',\n",
    "    template='simple_white',\n",
    "    \n",
    "    \n",
    ")"
   ]
  },
  {
   "cell_type": "code",
   "execution_count": 140,
   "id": "dc9eda9b",
   "metadata": {},
   "outputs": [
    {
     "data": {
      "application/vnd.plotly.v1+json": {
       "config": {
        "plotlyServerURL": "https://plot.ly"
       },
       "data": [
        {
         "hovertemplate": "Variante detectada=Alfa<br>fecha_resultado_secuenciacion_genotipificacion=%{x}<br>value=%{y}<extra></extra>",
         "legendgroup": "Alfa",
         "line": {
          "color": "#636efa"
         },
         "mode": "lines",
         "name": "Alfa",
         "orientation": "v",
         "showlegend": true,
         "stackgroup": "1",
         "type": "scatter",
         "x": [
          "2021-03-21T00:00:00",
          "2021-04-05T00:00:00",
          "2021-04-08T00:00:00",
          "2021-04-19T00:00:00",
          "2021-05-05T00:00:00",
          "2021-05-14T00:00:00",
          "2021-05-19T00:00:00",
          "2021-05-24T00:00:00",
          "2021-05-26T00:00:00",
          "2021-06-09T00:00:00",
          "2021-06-17T00:00:00",
          "2021-06-30T00:00:00",
          "2021-07-07T00:00:00",
          "2021-07-14T00:00:00",
          "2021-07-21T00:00:00",
          "2021-07-28T00:00:00",
          "2021-07-31T00:00:00",
          "2021-08-01T00:00:00",
          "2021-08-03T00:00:00",
          "2021-08-06T00:00:00",
          "2021-08-12T00:00:00",
          "2021-08-13T00:00:00",
          "2021-08-17T00:00:00",
          "2021-08-18T00:00:00",
          "2021-08-21T00:00:00",
          "2021-08-23T00:00:00",
          "2021-08-25T00:00:00",
          "2021-08-26T00:00:00",
          "2021-09-01T00:00:00"
         ],
         "xaxis": "x",
         "y": [
          0,
          0,
          0,
          0,
          0,
          0,
          0,
          0,
          1,
          1,
          1,
          1,
          1,
          1,
          1,
          1,
          1,
          1,
          1,
          1,
          1,
          1,
          1,
          1,
          1,
          1,
          1,
          1,
          1
         ],
         "yaxis": "y"
        },
        {
         "hovertemplate": "Variante detectada=B.1<br>fecha_resultado_secuenciacion_genotipificacion=%{x}<br>value=%{y}<extra></extra>",
         "legendgroup": "B.1",
         "line": {
          "color": "#EF553B"
         },
         "mode": "lines",
         "name": "B.1",
         "orientation": "v",
         "showlegend": true,
         "stackgroup": "1",
         "type": "scatter",
         "x": [
          "2021-03-21T00:00:00",
          "2021-04-05T00:00:00",
          "2021-04-08T00:00:00",
          "2021-04-19T00:00:00",
          "2021-05-05T00:00:00",
          "2021-05-14T00:00:00",
          "2021-05-19T00:00:00",
          "2021-05-24T00:00:00",
          "2021-05-26T00:00:00",
          "2021-06-09T00:00:00",
          "2021-06-17T00:00:00",
          "2021-06-30T00:00:00",
          "2021-07-07T00:00:00",
          "2021-07-14T00:00:00",
          "2021-07-21T00:00:00",
          "2021-07-28T00:00:00",
          "2021-07-31T00:00:00",
          "2021-08-01T00:00:00",
          "2021-08-03T00:00:00",
          "2021-08-06T00:00:00",
          "2021-08-12T00:00:00",
          "2021-08-13T00:00:00",
          "2021-08-17T00:00:00",
          "2021-08-18T00:00:00",
          "2021-08-21T00:00:00",
          "2021-08-23T00:00:00",
          "2021-08-25T00:00:00",
          "2021-08-26T00:00:00",
          "2021-09-01T00:00:00"
         ],
         "xaxis": "x",
         "y": [
          0,
          0,
          0,
          0,
          0,
          0,
          0,
          0,
          0,
          1,
          1,
          1,
          1,
          1,
          1,
          1,
          1,
          1,
          1,
          1,
          1,
          1,
          1,
          1,
          1,
          1,
          1,
          1,
          1
         ],
         "yaxis": "y"
        },
        {
         "hovertemplate": "Variante detectada=B.1.1<br>fecha_resultado_secuenciacion_genotipificacion=%{x}<br>value=%{y}<extra></extra>",
         "legendgroup": "B.1.1",
         "line": {
          "color": "#00cc96"
         },
         "mode": "lines",
         "name": "B.1.1",
         "orientation": "v",
         "showlegend": true,
         "stackgroup": "1",
         "type": "scatter",
         "x": [
          "2021-03-21T00:00:00",
          "2021-04-05T00:00:00",
          "2021-04-08T00:00:00",
          "2021-04-19T00:00:00",
          "2021-05-05T00:00:00",
          "2021-05-14T00:00:00",
          "2021-05-19T00:00:00",
          "2021-05-24T00:00:00",
          "2021-05-26T00:00:00",
          "2021-06-09T00:00:00",
          "2021-06-17T00:00:00",
          "2021-06-30T00:00:00",
          "2021-07-07T00:00:00",
          "2021-07-14T00:00:00",
          "2021-07-21T00:00:00",
          "2021-07-28T00:00:00",
          "2021-07-31T00:00:00",
          "2021-08-01T00:00:00",
          "2021-08-03T00:00:00",
          "2021-08-06T00:00:00",
          "2021-08-12T00:00:00",
          "2021-08-13T00:00:00",
          "2021-08-17T00:00:00",
          "2021-08-18T00:00:00",
          "2021-08-21T00:00:00",
          "2021-08-23T00:00:00",
          "2021-08-25T00:00:00",
          "2021-08-26T00:00:00",
          "2021-09-01T00:00:00"
         ],
         "xaxis": "x",
         "y": [
          0,
          1,
          1,
          2,
          2,
          2,
          2,
          2,
          4,
          5,
          5,
          5,
          5,
          5,
          5,
          5,
          5,
          5,
          5,
          5,
          5,
          5,
          5,
          5,
          5,
          5,
          5,
          5,
          5
         ],
         "yaxis": "y"
        },
        {
         "hovertemplate": "Variante detectada=B.1.1.348<br>fecha_resultado_secuenciacion_genotipificacion=%{x}<br>value=%{y}<extra></extra>",
         "legendgroup": "B.1.1.348",
         "line": {
          "color": "#ab63fa"
         },
         "mode": "lines",
         "name": "B.1.1.348",
         "orientation": "v",
         "showlegend": true,
         "stackgroup": "1",
         "type": "scatter",
         "x": [
          "2021-03-21T00:00:00",
          "2021-04-05T00:00:00",
          "2021-04-08T00:00:00",
          "2021-04-19T00:00:00",
          "2021-05-05T00:00:00",
          "2021-05-14T00:00:00",
          "2021-05-19T00:00:00",
          "2021-05-24T00:00:00",
          "2021-05-26T00:00:00",
          "2021-06-09T00:00:00",
          "2021-06-17T00:00:00",
          "2021-06-30T00:00:00",
          "2021-07-07T00:00:00",
          "2021-07-14T00:00:00",
          "2021-07-21T00:00:00",
          "2021-07-28T00:00:00",
          "2021-07-31T00:00:00",
          "2021-08-01T00:00:00",
          "2021-08-03T00:00:00",
          "2021-08-06T00:00:00",
          "2021-08-12T00:00:00",
          "2021-08-13T00:00:00",
          "2021-08-17T00:00:00",
          "2021-08-18T00:00:00",
          "2021-08-21T00:00:00",
          "2021-08-23T00:00:00",
          "2021-08-25T00:00:00",
          "2021-08-26T00:00:00",
          "2021-09-01T00:00:00"
         ],
         "xaxis": "x",
         "y": [
          1,
          2,
          2,
          2,
          2,
          2,
          2,
          2,
          2,
          2,
          2,
          2,
          2,
          2,
          2,
          2,
          2,
          2,
          2,
          2,
          2,
          2,
          2,
          2,
          2,
          2,
          2,
          2,
          2
         ],
         "yaxis": "y"
        },
        {
         "hovertemplate": "Variante detectada=Gamma<br>fecha_resultado_secuenciacion_genotipificacion=%{x}<br>value=%{y}<extra></extra>",
         "legendgroup": "Gamma",
         "line": {
          "color": "#FFA15A"
         },
         "mode": "lines",
         "name": "Gamma",
         "orientation": "v",
         "showlegend": true,
         "stackgroup": "1",
         "type": "scatter",
         "x": [
          "2021-03-21T00:00:00",
          "2021-04-05T00:00:00",
          "2021-04-08T00:00:00",
          "2021-04-19T00:00:00",
          "2021-05-05T00:00:00",
          "2021-05-14T00:00:00",
          "2021-05-19T00:00:00",
          "2021-05-24T00:00:00",
          "2021-05-26T00:00:00",
          "2021-06-09T00:00:00",
          "2021-06-17T00:00:00",
          "2021-06-30T00:00:00",
          "2021-07-07T00:00:00",
          "2021-07-14T00:00:00",
          "2021-07-21T00:00:00",
          "2021-07-28T00:00:00",
          "2021-07-31T00:00:00",
          "2021-08-01T00:00:00",
          "2021-08-03T00:00:00",
          "2021-08-06T00:00:00",
          "2021-08-12T00:00:00",
          "2021-08-13T00:00:00",
          "2021-08-17T00:00:00",
          "2021-08-18T00:00:00",
          "2021-08-21T00:00:00",
          "2021-08-23T00:00:00",
          "2021-08-25T00:00:00",
          "2021-08-26T00:00:00",
          "2021-09-01T00:00:00"
         ],
         "xaxis": "x",
         "y": [
          0,
          0,
          0,
          0,
          2,
          6,
          9,
          9,
          13,
          20,
          24,
          28,
          32,
          47,
          58,
          60,
          61,
          61,
          62,
          71,
          76,
          82,
          91,
          96,
          100,
          107,
          116,
          122,
          127
         ],
         "yaxis": "y"
        },
        {
         "hovertemplate": "Variante detectada=Lambda<br>fecha_resultado_secuenciacion_genotipificacion=%{x}<br>value=%{y}<extra></extra>",
         "legendgroup": "Lambda",
         "line": {
          "color": "#19d3f3"
         },
         "mode": "lines",
         "name": "Lambda",
         "orientation": "v",
         "showlegend": true,
         "stackgroup": "1",
         "type": "scatter",
         "x": [
          "2021-03-21T00:00:00",
          "2021-04-05T00:00:00",
          "2021-04-08T00:00:00",
          "2021-04-19T00:00:00",
          "2021-05-05T00:00:00",
          "2021-05-14T00:00:00",
          "2021-05-19T00:00:00",
          "2021-05-24T00:00:00",
          "2021-05-26T00:00:00",
          "2021-06-09T00:00:00",
          "2021-06-17T00:00:00",
          "2021-06-30T00:00:00",
          "2021-07-07T00:00:00",
          "2021-07-14T00:00:00",
          "2021-07-21T00:00:00",
          "2021-07-28T00:00:00",
          "2021-07-31T00:00:00",
          "2021-08-01T00:00:00",
          "2021-08-03T00:00:00",
          "2021-08-06T00:00:00",
          "2021-08-12T00:00:00",
          "2021-08-13T00:00:00",
          "2021-08-17T00:00:00",
          "2021-08-18T00:00:00",
          "2021-08-21T00:00:00",
          "2021-08-23T00:00:00",
          "2021-08-25T00:00:00",
          "2021-08-26T00:00:00",
          "2021-09-01T00:00:00"
         ],
         "xaxis": "x",
         "y": [
          0,
          0,
          0,
          3,
          7,
          13,
          17,
          17,
          25,
          27,
          27,
          29,
          35,
          43,
          48,
          48,
          48,
          48,
          48,
          49,
          50,
          50,
          50,
          50,
          50,
          50,
          51,
          51,
          52
         ],
         "yaxis": "y"
        },
        {
         "hovertemplate": "Variante detectada=N.4<br>fecha_resultado_secuenciacion_genotipificacion=%{x}<br>value=%{y}<extra></extra>",
         "legendgroup": "N.4",
         "line": {
          "color": "#FF6692"
         },
         "mode": "lines",
         "name": "N.4",
         "orientation": "v",
         "showlegend": true,
         "stackgroup": "1",
         "type": "scatter",
         "x": [
          "2021-03-21T00:00:00",
          "2021-04-05T00:00:00",
          "2021-04-08T00:00:00",
          "2021-04-19T00:00:00",
          "2021-05-05T00:00:00",
          "2021-05-14T00:00:00",
          "2021-05-19T00:00:00",
          "2021-05-24T00:00:00",
          "2021-05-26T00:00:00",
          "2021-06-09T00:00:00",
          "2021-06-17T00:00:00",
          "2021-06-30T00:00:00",
          "2021-07-07T00:00:00",
          "2021-07-14T00:00:00",
          "2021-07-21T00:00:00",
          "2021-07-28T00:00:00",
          "2021-07-31T00:00:00",
          "2021-08-01T00:00:00",
          "2021-08-03T00:00:00",
          "2021-08-06T00:00:00",
          "2021-08-12T00:00:00",
          "2021-08-13T00:00:00",
          "2021-08-17T00:00:00",
          "2021-08-18T00:00:00",
          "2021-08-21T00:00:00",
          "2021-08-23T00:00:00",
          "2021-08-25T00:00:00",
          "2021-08-26T00:00:00",
          "2021-09-01T00:00:00"
         ],
         "xaxis": "x",
         "y": [
          1,
          1,
          1,
          1,
          1,
          1,
          1,
          1,
          1,
          1,
          1,
          1,
          1,
          1,
          1,
          1,
          1,
          1,
          1,
          1,
          1,
          1,
          1,
          1,
          1,
          1,
          1,
          1,
          1
         ],
         "yaxis": "y"
        },
        {
         "hovertemplate": "Variante detectada=VOI no detectadas<br>fecha_resultado_secuenciacion_genotipificacion=%{x}<br>value=%{y}<extra></extra>",
         "legendgroup": "VOI no detectadas",
         "line": {
          "color": "#B6E880"
         },
         "mode": "lines",
         "name": "VOI no detectadas",
         "orientation": "v",
         "showlegend": true,
         "stackgroup": "1",
         "type": "scatter",
         "x": [
          "2021-03-21T00:00:00",
          "2021-04-05T00:00:00",
          "2021-04-08T00:00:00",
          "2021-04-19T00:00:00",
          "2021-05-05T00:00:00",
          "2021-05-14T00:00:00",
          "2021-05-19T00:00:00",
          "2021-05-24T00:00:00",
          "2021-05-26T00:00:00",
          "2021-06-09T00:00:00",
          "2021-06-17T00:00:00",
          "2021-06-30T00:00:00",
          "2021-07-07T00:00:00",
          "2021-07-14T00:00:00",
          "2021-07-21T00:00:00",
          "2021-07-28T00:00:00",
          "2021-07-31T00:00:00",
          "2021-08-01T00:00:00",
          "2021-08-03T00:00:00",
          "2021-08-06T00:00:00",
          "2021-08-12T00:00:00",
          "2021-08-13T00:00:00",
          "2021-08-17T00:00:00",
          "2021-08-18T00:00:00",
          "2021-08-21T00:00:00",
          "2021-08-23T00:00:00",
          "2021-08-25T00:00:00",
          "2021-08-26T00:00:00",
          "2021-09-01T00:00:00"
         ],
         "xaxis": "x",
         "y": [
          0,
          0,
          0,
          0,
          0,
          0,
          0,
          0,
          0,
          0,
          0,
          0,
          0,
          0,
          0,
          0,
          0,
          0,
          0,
          0,
          0,
          0,
          0,
          1,
          1,
          1,
          1,
          1,
          1
         ],
         "yaxis": "y"
        }
       ],
       "layout": {
        "legend": {
         "title": {
          "text": "Variante detectada"
         },
         "tracegroupgap": 0
        },
        "margin": {
         "t": 60
        },
        "template": {
         "data": {
          "bar": [
           {
            "error_x": {
             "color": "rgb(36,36,36)"
            },
            "error_y": {
             "color": "rgb(36,36,36)"
            },
            "marker": {
             "line": {
              "color": "white",
              "width": 0.5
             }
            },
            "type": "bar"
           }
          ],
          "barpolar": [
           {
            "marker": {
             "line": {
              "color": "white",
              "width": 0.5
             }
            },
            "type": "barpolar"
           }
          ],
          "carpet": [
           {
            "aaxis": {
             "endlinecolor": "rgb(36,36,36)",
             "gridcolor": "white",
             "linecolor": "white",
             "minorgridcolor": "white",
             "startlinecolor": "rgb(36,36,36)"
            },
            "baxis": {
             "endlinecolor": "rgb(36,36,36)",
             "gridcolor": "white",
             "linecolor": "white",
             "minorgridcolor": "white",
             "startlinecolor": "rgb(36,36,36)"
            },
            "type": "carpet"
           }
          ],
          "choropleth": [
           {
            "colorbar": {
             "outlinewidth": 1,
             "tickcolor": "rgb(36,36,36)",
             "ticks": "outside"
            },
            "type": "choropleth"
           }
          ],
          "contour": [
           {
            "colorbar": {
             "outlinewidth": 1,
             "tickcolor": "rgb(36,36,36)",
             "ticks": "outside"
            },
            "colorscale": [
             [
              0,
              "#440154"
             ],
             [
              0.1111111111111111,
              "#482878"
             ],
             [
              0.2222222222222222,
              "#3e4989"
             ],
             [
              0.3333333333333333,
              "#31688e"
             ],
             [
              0.4444444444444444,
              "#26828e"
             ],
             [
              0.5555555555555556,
              "#1f9e89"
             ],
             [
              0.6666666666666666,
              "#35b779"
             ],
             [
              0.7777777777777778,
              "#6ece58"
             ],
             [
              0.8888888888888888,
              "#b5de2b"
             ],
             [
              1,
              "#fde725"
             ]
            ],
            "type": "contour"
           }
          ],
          "contourcarpet": [
           {
            "colorbar": {
             "outlinewidth": 1,
             "tickcolor": "rgb(36,36,36)",
             "ticks": "outside"
            },
            "type": "contourcarpet"
           }
          ],
          "heatmap": [
           {
            "colorbar": {
             "outlinewidth": 1,
             "tickcolor": "rgb(36,36,36)",
             "ticks": "outside"
            },
            "colorscale": [
             [
              0,
              "#440154"
             ],
             [
              0.1111111111111111,
              "#482878"
             ],
             [
              0.2222222222222222,
              "#3e4989"
             ],
             [
              0.3333333333333333,
              "#31688e"
             ],
             [
              0.4444444444444444,
              "#26828e"
             ],
             [
              0.5555555555555556,
              "#1f9e89"
             ],
             [
              0.6666666666666666,
              "#35b779"
             ],
             [
              0.7777777777777778,
              "#6ece58"
             ],
             [
              0.8888888888888888,
              "#b5de2b"
             ],
             [
              1,
              "#fde725"
             ]
            ],
            "type": "heatmap"
           }
          ],
          "heatmapgl": [
           {
            "colorbar": {
             "outlinewidth": 1,
             "tickcolor": "rgb(36,36,36)",
             "ticks": "outside"
            },
            "colorscale": [
             [
              0,
              "#440154"
             ],
             [
              0.1111111111111111,
              "#482878"
             ],
             [
              0.2222222222222222,
              "#3e4989"
             ],
             [
              0.3333333333333333,
              "#31688e"
             ],
             [
              0.4444444444444444,
              "#26828e"
             ],
             [
              0.5555555555555556,
              "#1f9e89"
             ],
             [
              0.6666666666666666,
              "#35b779"
             ],
             [
              0.7777777777777778,
              "#6ece58"
             ],
             [
              0.8888888888888888,
              "#b5de2b"
             ],
             [
              1,
              "#fde725"
             ]
            ],
            "type": "heatmapgl"
           }
          ],
          "histogram": [
           {
            "marker": {
             "line": {
              "color": "white",
              "width": 0.6
             }
            },
            "type": "histogram"
           }
          ],
          "histogram2d": [
           {
            "colorbar": {
             "outlinewidth": 1,
             "tickcolor": "rgb(36,36,36)",
             "ticks": "outside"
            },
            "colorscale": [
             [
              0,
              "#440154"
             ],
             [
              0.1111111111111111,
              "#482878"
             ],
             [
              0.2222222222222222,
              "#3e4989"
             ],
             [
              0.3333333333333333,
              "#31688e"
             ],
             [
              0.4444444444444444,
              "#26828e"
             ],
             [
              0.5555555555555556,
              "#1f9e89"
             ],
             [
              0.6666666666666666,
              "#35b779"
             ],
             [
              0.7777777777777778,
              "#6ece58"
             ],
             [
              0.8888888888888888,
              "#b5de2b"
             ],
             [
              1,
              "#fde725"
             ]
            ],
            "type": "histogram2d"
           }
          ],
          "histogram2dcontour": [
           {
            "colorbar": {
             "outlinewidth": 1,
             "tickcolor": "rgb(36,36,36)",
             "ticks": "outside"
            },
            "colorscale": [
             [
              0,
              "#440154"
             ],
             [
              0.1111111111111111,
              "#482878"
             ],
             [
              0.2222222222222222,
              "#3e4989"
             ],
             [
              0.3333333333333333,
              "#31688e"
             ],
             [
              0.4444444444444444,
              "#26828e"
             ],
             [
              0.5555555555555556,
              "#1f9e89"
             ],
             [
              0.6666666666666666,
              "#35b779"
             ],
             [
              0.7777777777777778,
              "#6ece58"
             ],
             [
              0.8888888888888888,
              "#b5de2b"
             ],
             [
              1,
              "#fde725"
             ]
            ],
            "type": "histogram2dcontour"
           }
          ],
          "mesh3d": [
           {
            "colorbar": {
             "outlinewidth": 1,
             "tickcolor": "rgb(36,36,36)",
             "ticks": "outside"
            },
            "type": "mesh3d"
           }
          ],
          "parcoords": [
           {
            "line": {
             "colorbar": {
              "outlinewidth": 1,
              "tickcolor": "rgb(36,36,36)",
              "ticks": "outside"
             }
            },
            "type": "parcoords"
           }
          ],
          "pie": [
           {
            "automargin": true,
            "type": "pie"
           }
          ],
          "scatter": [
           {
            "marker": {
             "colorbar": {
              "outlinewidth": 1,
              "tickcolor": "rgb(36,36,36)",
              "ticks": "outside"
             }
            },
            "type": "scatter"
           }
          ],
          "scatter3d": [
           {
            "line": {
             "colorbar": {
              "outlinewidth": 1,
              "tickcolor": "rgb(36,36,36)",
              "ticks": "outside"
             }
            },
            "marker": {
             "colorbar": {
              "outlinewidth": 1,
              "tickcolor": "rgb(36,36,36)",
              "ticks": "outside"
             }
            },
            "type": "scatter3d"
           }
          ],
          "scattercarpet": [
           {
            "marker": {
             "colorbar": {
              "outlinewidth": 1,
              "tickcolor": "rgb(36,36,36)",
              "ticks": "outside"
             }
            },
            "type": "scattercarpet"
           }
          ],
          "scattergeo": [
           {
            "marker": {
             "colorbar": {
              "outlinewidth": 1,
              "tickcolor": "rgb(36,36,36)",
              "ticks": "outside"
             }
            },
            "type": "scattergeo"
           }
          ],
          "scattergl": [
           {
            "marker": {
             "colorbar": {
              "outlinewidth": 1,
              "tickcolor": "rgb(36,36,36)",
              "ticks": "outside"
             }
            },
            "type": "scattergl"
           }
          ],
          "scattermapbox": [
           {
            "marker": {
             "colorbar": {
              "outlinewidth": 1,
              "tickcolor": "rgb(36,36,36)",
              "ticks": "outside"
             }
            },
            "type": "scattermapbox"
           }
          ],
          "scatterpolar": [
           {
            "marker": {
             "colorbar": {
              "outlinewidth": 1,
              "tickcolor": "rgb(36,36,36)",
              "ticks": "outside"
             }
            },
            "type": "scatterpolar"
           }
          ],
          "scatterpolargl": [
           {
            "marker": {
             "colorbar": {
              "outlinewidth": 1,
              "tickcolor": "rgb(36,36,36)",
              "ticks": "outside"
             }
            },
            "type": "scatterpolargl"
           }
          ],
          "scatterternary": [
           {
            "marker": {
             "colorbar": {
              "outlinewidth": 1,
              "tickcolor": "rgb(36,36,36)",
              "ticks": "outside"
             }
            },
            "type": "scatterternary"
           }
          ],
          "surface": [
           {
            "colorbar": {
             "outlinewidth": 1,
             "tickcolor": "rgb(36,36,36)",
             "ticks": "outside"
            },
            "colorscale": [
             [
              0,
              "#440154"
             ],
             [
              0.1111111111111111,
              "#482878"
             ],
             [
              0.2222222222222222,
              "#3e4989"
             ],
             [
              0.3333333333333333,
              "#31688e"
             ],
             [
              0.4444444444444444,
              "#26828e"
             ],
             [
              0.5555555555555556,
              "#1f9e89"
             ],
             [
              0.6666666666666666,
              "#35b779"
             ],
             [
              0.7777777777777778,
              "#6ece58"
             ],
             [
              0.8888888888888888,
              "#b5de2b"
             ],
             [
              1,
              "#fde725"
             ]
            ],
            "type": "surface"
           }
          ],
          "table": [
           {
            "cells": {
             "fill": {
              "color": "rgb(237,237,237)"
             },
             "line": {
              "color": "white"
             }
            },
            "header": {
             "fill": {
              "color": "rgb(217,217,217)"
             },
             "line": {
              "color": "white"
             }
            },
            "type": "table"
           }
          ]
         },
         "layout": {
          "annotationdefaults": {
           "arrowhead": 0,
           "arrowwidth": 1
          },
          "autotypenumbers": "strict",
          "coloraxis": {
           "colorbar": {
            "outlinewidth": 1,
            "tickcolor": "rgb(36,36,36)",
            "ticks": "outside"
           }
          },
          "colorscale": {
           "diverging": [
            [
             0,
             "rgb(103,0,31)"
            ],
            [
             0.1,
             "rgb(178,24,43)"
            ],
            [
             0.2,
             "rgb(214,96,77)"
            ],
            [
             0.3,
             "rgb(244,165,130)"
            ],
            [
             0.4,
             "rgb(253,219,199)"
            ],
            [
             0.5,
             "rgb(247,247,247)"
            ],
            [
             0.6,
             "rgb(209,229,240)"
            ],
            [
             0.7,
             "rgb(146,197,222)"
            ],
            [
             0.8,
             "rgb(67,147,195)"
            ],
            [
             0.9,
             "rgb(33,102,172)"
            ],
            [
             1,
             "rgb(5,48,97)"
            ]
           ],
           "sequential": [
            [
             0,
             "#440154"
            ],
            [
             0.1111111111111111,
             "#482878"
            ],
            [
             0.2222222222222222,
             "#3e4989"
            ],
            [
             0.3333333333333333,
             "#31688e"
            ],
            [
             0.4444444444444444,
             "#26828e"
            ],
            [
             0.5555555555555556,
             "#1f9e89"
            ],
            [
             0.6666666666666666,
             "#35b779"
            ],
            [
             0.7777777777777778,
             "#6ece58"
            ],
            [
             0.8888888888888888,
             "#b5de2b"
            ],
            [
             1,
             "#fde725"
            ]
           ],
           "sequentialminus": [
            [
             0,
             "#440154"
            ],
            [
             0.1111111111111111,
             "#482878"
            ],
            [
             0.2222222222222222,
             "#3e4989"
            ],
            [
             0.3333333333333333,
             "#31688e"
            ],
            [
             0.4444444444444444,
             "#26828e"
            ],
            [
             0.5555555555555556,
             "#1f9e89"
            ],
            [
             0.6666666666666666,
             "#35b779"
            ],
            [
             0.7777777777777778,
             "#6ece58"
            ],
            [
             0.8888888888888888,
             "#b5de2b"
            ],
            [
             1,
             "#fde725"
            ]
           ]
          },
          "colorway": [
           "#1F77B4",
           "#FF7F0E",
           "#2CA02C",
           "#D62728",
           "#9467BD",
           "#8C564B",
           "#E377C2",
           "#7F7F7F",
           "#BCBD22",
           "#17BECF"
          ],
          "font": {
           "color": "rgb(36,36,36)"
          },
          "geo": {
           "bgcolor": "white",
           "lakecolor": "white",
           "landcolor": "white",
           "showlakes": true,
           "showland": true,
           "subunitcolor": "white"
          },
          "hoverlabel": {
           "align": "left"
          },
          "hovermode": "closest",
          "mapbox": {
           "style": "light"
          },
          "paper_bgcolor": "white",
          "plot_bgcolor": "white",
          "polar": {
           "angularaxis": {
            "gridcolor": "rgb(232,232,232)",
            "linecolor": "rgb(36,36,36)",
            "showgrid": false,
            "showline": true,
            "ticks": "outside"
           },
           "bgcolor": "white",
           "radialaxis": {
            "gridcolor": "rgb(232,232,232)",
            "linecolor": "rgb(36,36,36)",
            "showgrid": false,
            "showline": true,
            "ticks": "outside"
           }
          },
          "scene": {
           "xaxis": {
            "backgroundcolor": "white",
            "gridcolor": "rgb(232,232,232)",
            "gridwidth": 2,
            "linecolor": "rgb(36,36,36)",
            "showbackground": true,
            "showgrid": false,
            "showline": true,
            "ticks": "outside",
            "zeroline": false,
            "zerolinecolor": "rgb(36,36,36)"
           },
           "yaxis": {
            "backgroundcolor": "white",
            "gridcolor": "rgb(232,232,232)",
            "gridwidth": 2,
            "linecolor": "rgb(36,36,36)",
            "showbackground": true,
            "showgrid": false,
            "showline": true,
            "ticks": "outside",
            "zeroline": false,
            "zerolinecolor": "rgb(36,36,36)"
           },
           "zaxis": {
            "backgroundcolor": "white",
            "gridcolor": "rgb(232,232,232)",
            "gridwidth": 2,
            "linecolor": "rgb(36,36,36)",
            "showbackground": true,
            "showgrid": false,
            "showline": true,
            "ticks": "outside",
            "zeroline": false,
            "zerolinecolor": "rgb(36,36,36)"
           }
          },
          "shapedefaults": {
           "fillcolor": "black",
           "line": {
            "width": 0
           },
           "opacity": 0.3
          },
          "ternary": {
           "aaxis": {
            "gridcolor": "rgb(232,232,232)",
            "linecolor": "rgb(36,36,36)",
            "showgrid": false,
            "showline": true,
            "ticks": "outside"
           },
           "baxis": {
            "gridcolor": "rgb(232,232,232)",
            "linecolor": "rgb(36,36,36)",
            "showgrid": false,
            "showline": true,
            "ticks": "outside"
           },
           "bgcolor": "white",
           "caxis": {
            "gridcolor": "rgb(232,232,232)",
            "linecolor": "rgb(36,36,36)",
            "showgrid": false,
            "showline": true,
            "ticks": "outside"
           }
          },
          "title": {
           "x": 0.05
          },
          "xaxis": {
           "automargin": true,
           "gridcolor": "rgb(232,232,232)",
           "linecolor": "rgb(36,36,36)",
           "showgrid": false,
           "showline": true,
           "ticks": "outside",
           "title": {
            "standoff": 15
           },
           "zeroline": false,
           "zerolinecolor": "rgb(36,36,36)"
          },
          "yaxis": {
           "automargin": true,
           "gridcolor": "rgb(232,232,232)",
           "linecolor": "rgb(36,36,36)",
           "showgrid": false,
           "showline": true,
           "ticks": "outside",
           "title": {
            "standoff": 15
           },
           "zeroline": false,
           "zerolinecolor": "rgb(36,36,36)"
          }
         }
        },
        "title": {
         "text": "Variantes detectadas en la Región de Aysén"
        },
        "xaxis": {
         "anchor": "y",
         "domain": [
          0,
          1
         ],
         "title": {
          "text": "Fecha de resultado de Secuenciación o Genotipificación"
         }
        },
        "yaxis": {
         "anchor": "x",
         "domain": [
          0,
          1
         ],
         "title": {
          "text": "No. de casos identificados por variante"
         }
        }
       }
      },
      "text/html": [
       "<div>                            <div id=\"d57362b8-df67-4d8b-92a6-d439c19e489b\" class=\"plotly-graph-div\" style=\"height:525px; width:100%;\"></div>            <script type=\"text/javascript\">                require([\"plotly\"], function(Plotly) {                    window.PLOTLYENV=window.PLOTLYENV || {};                                    if (document.getElementById(\"d57362b8-df67-4d8b-92a6-d439c19e489b\")) {                    Plotly.newPlot(                        \"d57362b8-df67-4d8b-92a6-d439c19e489b\",                        [{\"hovertemplate\": \"Variante detectada=Alfa<br>fecha_resultado_secuenciacion_genotipificacion=%{x}<br>value=%{y}<extra></extra>\", \"legendgroup\": \"Alfa\", \"line\": {\"color\": \"#636efa\"}, \"mode\": \"lines\", \"name\": \"Alfa\", \"orientation\": \"v\", \"showlegend\": true, \"stackgroup\": \"1\", \"type\": \"scatter\", \"x\": [\"2021-03-21T00:00:00\", \"2021-04-05T00:00:00\", \"2021-04-08T00:00:00\", \"2021-04-19T00:00:00\", \"2021-05-05T00:00:00\", \"2021-05-14T00:00:00\", \"2021-05-19T00:00:00\", \"2021-05-24T00:00:00\", \"2021-05-26T00:00:00\", \"2021-06-09T00:00:00\", \"2021-06-17T00:00:00\", \"2021-06-30T00:00:00\", \"2021-07-07T00:00:00\", \"2021-07-14T00:00:00\", \"2021-07-21T00:00:00\", \"2021-07-28T00:00:00\", \"2021-07-31T00:00:00\", \"2021-08-01T00:00:00\", \"2021-08-03T00:00:00\", \"2021-08-06T00:00:00\", \"2021-08-12T00:00:00\", \"2021-08-13T00:00:00\", \"2021-08-17T00:00:00\", \"2021-08-18T00:00:00\", \"2021-08-21T00:00:00\", \"2021-08-23T00:00:00\", \"2021-08-25T00:00:00\", \"2021-08-26T00:00:00\", \"2021-09-01T00:00:00\"], \"xaxis\": \"x\", \"y\": [0.0, 0.0, 0.0, 0.0, 0.0, 0.0, 0.0, 0.0, 1.0, 1.0, 1.0, 1.0, 1.0, 1.0, 1.0, 1.0, 1.0, 1.0, 1.0, 1.0, 1.0, 1.0, 1.0, 1.0, 1.0, 1.0, 1.0, 1.0, 1.0], \"yaxis\": \"y\"}, {\"hovertemplate\": \"Variante detectada=B.1<br>fecha_resultado_secuenciacion_genotipificacion=%{x}<br>value=%{y}<extra></extra>\", \"legendgroup\": \"B.1\", \"line\": {\"color\": \"#EF553B\"}, \"mode\": \"lines\", \"name\": \"B.1\", \"orientation\": \"v\", \"showlegend\": true, \"stackgroup\": \"1\", \"type\": \"scatter\", \"x\": [\"2021-03-21T00:00:00\", \"2021-04-05T00:00:00\", \"2021-04-08T00:00:00\", \"2021-04-19T00:00:00\", \"2021-05-05T00:00:00\", \"2021-05-14T00:00:00\", \"2021-05-19T00:00:00\", \"2021-05-24T00:00:00\", \"2021-05-26T00:00:00\", \"2021-06-09T00:00:00\", \"2021-06-17T00:00:00\", \"2021-06-30T00:00:00\", \"2021-07-07T00:00:00\", \"2021-07-14T00:00:00\", \"2021-07-21T00:00:00\", \"2021-07-28T00:00:00\", \"2021-07-31T00:00:00\", \"2021-08-01T00:00:00\", \"2021-08-03T00:00:00\", \"2021-08-06T00:00:00\", \"2021-08-12T00:00:00\", \"2021-08-13T00:00:00\", \"2021-08-17T00:00:00\", \"2021-08-18T00:00:00\", \"2021-08-21T00:00:00\", \"2021-08-23T00:00:00\", \"2021-08-25T00:00:00\", \"2021-08-26T00:00:00\", \"2021-09-01T00:00:00\"], \"xaxis\": \"x\", \"y\": [0.0, 0.0, 0.0, 0.0, 0.0, 0.0, 0.0, 0.0, 0.0, 1.0, 1.0, 1.0, 1.0, 1.0, 1.0, 1.0, 1.0, 1.0, 1.0, 1.0, 1.0, 1.0, 1.0, 1.0, 1.0, 1.0, 1.0, 1.0, 1.0], \"yaxis\": \"y\"}, {\"hovertemplate\": \"Variante detectada=B.1.1<br>fecha_resultado_secuenciacion_genotipificacion=%{x}<br>value=%{y}<extra></extra>\", \"legendgroup\": \"B.1.1\", \"line\": {\"color\": \"#00cc96\"}, \"mode\": \"lines\", \"name\": \"B.1.1\", \"orientation\": \"v\", \"showlegend\": true, \"stackgroup\": \"1\", \"type\": \"scatter\", \"x\": [\"2021-03-21T00:00:00\", \"2021-04-05T00:00:00\", \"2021-04-08T00:00:00\", \"2021-04-19T00:00:00\", \"2021-05-05T00:00:00\", \"2021-05-14T00:00:00\", \"2021-05-19T00:00:00\", \"2021-05-24T00:00:00\", \"2021-05-26T00:00:00\", \"2021-06-09T00:00:00\", \"2021-06-17T00:00:00\", \"2021-06-30T00:00:00\", \"2021-07-07T00:00:00\", \"2021-07-14T00:00:00\", \"2021-07-21T00:00:00\", \"2021-07-28T00:00:00\", \"2021-07-31T00:00:00\", \"2021-08-01T00:00:00\", \"2021-08-03T00:00:00\", \"2021-08-06T00:00:00\", \"2021-08-12T00:00:00\", \"2021-08-13T00:00:00\", \"2021-08-17T00:00:00\", \"2021-08-18T00:00:00\", \"2021-08-21T00:00:00\", \"2021-08-23T00:00:00\", \"2021-08-25T00:00:00\", \"2021-08-26T00:00:00\", \"2021-09-01T00:00:00\"], \"xaxis\": \"x\", \"y\": [0.0, 1.0, 1.0, 2.0, 2.0, 2.0, 2.0, 2.0, 4.0, 5.0, 5.0, 5.0, 5.0, 5.0, 5.0, 5.0, 5.0, 5.0, 5.0, 5.0, 5.0, 5.0, 5.0, 5.0, 5.0, 5.0, 5.0, 5.0, 5.0], \"yaxis\": \"y\"}, {\"hovertemplate\": \"Variante detectada=B.1.1.348<br>fecha_resultado_secuenciacion_genotipificacion=%{x}<br>value=%{y}<extra></extra>\", \"legendgroup\": \"B.1.1.348\", \"line\": {\"color\": \"#ab63fa\"}, \"mode\": \"lines\", \"name\": \"B.1.1.348\", \"orientation\": \"v\", \"showlegend\": true, \"stackgroup\": \"1\", \"type\": \"scatter\", \"x\": [\"2021-03-21T00:00:00\", \"2021-04-05T00:00:00\", \"2021-04-08T00:00:00\", \"2021-04-19T00:00:00\", \"2021-05-05T00:00:00\", \"2021-05-14T00:00:00\", \"2021-05-19T00:00:00\", \"2021-05-24T00:00:00\", \"2021-05-26T00:00:00\", \"2021-06-09T00:00:00\", \"2021-06-17T00:00:00\", \"2021-06-30T00:00:00\", \"2021-07-07T00:00:00\", \"2021-07-14T00:00:00\", \"2021-07-21T00:00:00\", \"2021-07-28T00:00:00\", \"2021-07-31T00:00:00\", \"2021-08-01T00:00:00\", \"2021-08-03T00:00:00\", \"2021-08-06T00:00:00\", \"2021-08-12T00:00:00\", \"2021-08-13T00:00:00\", \"2021-08-17T00:00:00\", \"2021-08-18T00:00:00\", \"2021-08-21T00:00:00\", \"2021-08-23T00:00:00\", \"2021-08-25T00:00:00\", \"2021-08-26T00:00:00\", \"2021-09-01T00:00:00\"], \"xaxis\": \"x\", \"y\": [1.0, 2.0, 2.0, 2.0, 2.0, 2.0, 2.0, 2.0, 2.0, 2.0, 2.0, 2.0, 2.0, 2.0, 2.0, 2.0, 2.0, 2.0, 2.0, 2.0, 2.0, 2.0, 2.0, 2.0, 2.0, 2.0, 2.0, 2.0, 2.0], \"yaxis\": \"y\"}, {\"hovertemplate\": \"Variante detectada=Gamma<br>fecha_resultado_secuenciacion_genotipificacion=%{x}<br>value=%{y}<extra></extra>\", \"legendgroup\": \"Gamma\", \"line\": {\"color\": \"#FFA15A\"}, \"mode\": \"lines\", \"name\": \"Gamma\", \"orientation\": \"v\", \"showlegend\": true, \"stackgroup\": \"1\", \"type\": \"scatter\", \"x\": [\"2021-03-21T00:00:00\", \"2021-04-05T00:00:00\", \"2021-04-08T00:00:00\", \"2021-04-19T00:00:00\", \"2021-05-05T00:00:00\", \"2021-05-14T00:00:00\", \"2021-05-19T00:00:00\", \"2021-05-24T00:00:00\", \"2021-05-26T00:00:00\", \"2021-06-09T00:00:00\", \"2021-06-17T00:00:00\", \"2021-06-30T00:00:00\", \"2021-07-07T00:00:00\", \"2021-07-14T00:00:00\", \"2021-07-21T00:00:00\", \"2021-07-28T00:00:00\", \"2021-07-31T00:00:00\", \"2021-08-01T00:00:00\", \"2021-08-03T00:00:00\", \"2021-08-06T00:00:00\", \"2021-08-12T00:00:00\", \"2021-08-13T00:00:00\", \"2021-08-17T00:00:00\", \"2021-08-18T00:00:00\", \"2021-08-21T00:00:00\", \"2021-08-23T00:00:00\", \"2021-08-25T00:00:00\", \"2021-08-26T00:00:00\", \"2021-09-01T00:00:00\"], \"xaxis\": \"x\", \"y\": [0.0, 0.0, 0.0, 0.0, 2.0, 6.0, 9.0, 9.0, 13.0, 20.0, 24.0, 28.0, 32.0, 47.0, 58.0, 60.0, 61.0, 61.0, 62.0, 71.0, 76.0, 82.0, 91.0, 96.0, 100.0, 107.0, 116.0, 122.0, 127.0], \"yaxis\": \"y\"}, {\"hovertemplate\": \"Variante detectada=Lambda<br>fecha_resultado_secuenciacion_genotipificacion=%{x}<br>value=%{y}<extra></extra>\", \"legendgroup\": \"Lambda\", \"line\": {\"color\": \"#19d3f3\"}, \"mode\": \"lines\", \"name\": \"Lambda\", \"orientation\": \"v\", \"showlegend\": true, \"stackgroup\": \"1\", \"type\": \"scatter\", \"x\": [\"2021-03-21T00:00:00\", \"2021-04-05T00:00:00\", \"2021-04-08T00:00:00\", \"2021-04-19T00:00:00\", \"2021-05-05T00:00:00\", \"2021-05-14T00:00:00\", \"2021-05-19T00:00:00\", \"2021-05-24T00:00:00\", \"2021-05-26T00:00:00\", \"2021-06-09T00:00:00\", \"2021-06-17T00:00:00\", \"2021-06-30T00:00:00\", \"2021-07-07T00:00:00\", \"2021-07-14T00:00:00\", \"2021-07-21T00:00:00\", \"2021-07-28T00:00:00\", \"2021-07-31T00:00:00\", \"2021-08-01T00:00:00\", \"2021-08-03T00:00:00\", \"2021-08-06T00:00:00\", \"2021-08-12T00:00:00\", \"2021-08-13T00:00:00\", \"2021-08-17T00:00:00\", \"2021-08-18T00:00:00\", \"2021-08-21T00:00:00\", \"2021-08-23T00:00:00\", \"2021-08-25T00:00:00\", \"2021-08-26T00:00:00\", \"2021-09-01T00:00:00\"], \"xaxis\": \"x\", \"y\": [0.0, 0.0, 0.0, 3.0, 7.0, 13.0, 17.0, 17.0, 25.0, 27.0, 27.0, 29.0, 35.0, 43.0, 48.0, 48.0, 48.0, 48.0, 48.0, 49.0, 50.0, 50.0, 50.0, 50.0, 50.0, 50.0, 51.0, 51.0, 52.0], \"yaxis\": \"y\"}, {\"hovertemplate\": \"Variante detectada=N.4<br>fecha_resultado_secuenciacion_genotipificacion=%{x}<br>value=%{y}<extra></extra>\", \"legendgroup\": \"N.4\", \"line\": {\"color\": \"#FF6692\"}, \"mode\": \"lines\", \"name\": \"N.4\", \"orientation\": \"v\", \"showlegend\": true, \"stackgroup\": \"1\", \"type\": \"scatter\", \"x\": [\"2021-03-21T00:00:00\", \"2021-04-05T00:00:00\", \"2021-04-08T00:00:00\", \"2021-04-19T00:00:00\", \"2021-05-05T00:00:00\", \"2021-05-14T00:00:00\", \"2021-05-19T00:00:00\", \"2021-05-24T00:00:00\", \"2021-05-26T00:00:00\", \"2021-06-09T00:00:00\", \"2021-06-17T00:00:00\", \"2021-06-30T00:00:00\", \"2021-07-07T00:00:00\", \"2021-07-14T00:00:00\", \"2021-07-21T00:00:00\", \"2021-07-28T00:00:00\", \"2021-07-31T00:00:00\", \"2021-08-01T00:00:00\", \"2021-08-03T00:00:00\", \"2021-08-06T00:00:00\", \"2021-08-12T00:00:00\", \"2021-08-13T00:00:00\", \"2021-08-17T00:00:00\", \"2021-08-18T00:00:00\", \"2021-08-21T00:00:00\", \"2021-08-23T00:00:00\", \"2021-08-25T00:00:00\", \"2021-08-26T00:00:00\", \"2021-09-01T00:00:00\"], \"xaxis\": \"x\", \"y\": [1.0, 1.0, 1.0, 1.0, 1.0, 1.0, 1.0, 1.0, 1.0, 1.0, 1.0, 1.0, 1.0, 1.0, 1.0, 1.0, 1.0, 1.0, 1.0, 1.0, 1.0, 1.0, 1.0, 1.0, 1.0, 1.0, 1.0, 1.0, 1.0], \"yaxis\": \"y\"}, {\"hovertemplate\": \"Variante detectada=VOI no detectadas<br>fecha_resultado_secuenciacion_genotipificacion=%{x}<br>value=%{y}<extra></extra>\", \"legendgroup\": \"VOI no detectadas\", \"line\": {\"color\": \"#B6E880\"}, \"mode\": \"lines\", \"name\": \"VOI no detectadas\", \"orientation\": \"v\", \"showlegend\": true, \"stackgroup\": \"1\", \"type\": \"scatter\", \"x\": [\"2021-03-21T00:00:00\", \"2021-04-05T00:00:00\", \"2021-04-08T00:00:00\", \"2021-04-19T00:00:00\", \"2021-05-05T00:00:00\", \"2021-05-14T00:00:00\", \"2021-05-19T00:00:00\", \"2021-05-24T00:00:00\", \"2021-05-26T00:00:00\", \"2021-06-09T00:00:00\", \"2021-06-17T00:00:00\", \"2021-06-30T00:00:00\", \"2021-07-07T00:00:00\", \"2021-07-14T00:00:00\", \"2021-07-21T00:00:00\", \"2021-07-28T00:00:00\", \"2021-07-31T00:00:00\", \"2021-08-01T00:00:00\", \"2021-08-03T00:00:00\", \"2021-08-06T00:00:00\", \"2021-08-12T00:00:00\", \"2021-08-13T00:00:00\", \"2021-08-17T00:00:00\", \"2021-08-18T00:00:00\", \"2021-08-21T00:00:00\", \"2021-08-23T00:00:00\", \"2021-08-25T00:00:00\", \"2021-08-26T00:00:00\", \"2021-09-01T00:00:00\"], \"xaxis\": \"x\", \"y\": [0.0, 0.0, 0.0, 0.0, 0.0, 0.0, 0.0, 0.0, 0.0, 0.0, 0.0, 0.0, 0.0, 0.0, 0.0, 0.0, 0.0, 0.0, 0.0, 0.0, 0.0, 0.0, 0.0, 1.0, 1.0, 1.0, 1.0, 1.0, 1.0], \"yaxis\": \"y\"}],                        {\"legend\": {\"title\": {\"text\": \"Variante detectada\"}, \"tracegroupgap\": 0}, \"margin\": {\"t\": 60}, \"template\": {\"data\": {\"bar\": [{\"error_x\": {\"color\": \"rgb(36,36,36)\"}, \"error_y\": {\"color\": \"rgb(36,36,36)\"}, \"marker\": {\"line\": {\"color\": \"white\", \"width\": 0.5}}, \"type\": \"bar\"}], \"barpolar\": [{\"marker\": {\"line\": {\"color\": \"white\", \"width\": 0.5}}, \"type\": \"barpolar\"}], \"carpet\": [{\"aaxis\": {\"endlinecolor\": \"rgb(36,36,36)\", \"gridcolor\": \"white\", \"linecolor\": \"white\", \"minorgridcolor\": \"white\", \"startlinecolor\": \"rgb(36,36,36)\"}, \"baxis\": {\"endlinecolor\": \"rgb(36,36,36)\", \"gridcolor\": \"white\", \"linecolor\": \"white\", \"minorgridcolor\": \"white\", \"startlinecolor\": \"rgb(36,36,36)\"}, \"type\": \"carpet\"}], \"choropleth\": [{\"colorbar\": {\"outlinewidth\": 1, \"tickcolor\": \"rgb(36,36,36)\", \"ticks\": \"outside\"}, \"type\": \"choropleth\"}], \"contour\": [{\"colorbar\": {\"outlinewidth\": 1, \"tickcolor\": \"rgb(36,36,36)\", \"ticks\": \"outside\"}, \"colorscale\": [[0.0, \"#440154\"], [0.1111111111111111, \"#482878\"], [0.2222222222222222, \"#3e4989\"], [0.3333333333333333, \"#31688e\"], [0.4444444444444444, \"#26828e\"], [0.5555555555555556, \"#1f9e89\"], [0.6666666666666666, \"#35b779\"], [0.7777777777777778, \"#6ece58\"], [0.8888888888888888, \"#b5de2b\"], [1.0, \"#fde725\"]], \"type\": \"contour\"}], \"contourcarpet\": [{\"colorbar\": {\"outlinewidth\": 1, \"tickcolor\": \"rgb(36,36,36)\", \"ticks\": \"outside\"}, \"type\": \"contourcarpet\"}], \"heatmap\": [{\"colorbar\": {\"outlinewidth\": 1, \"tickcolor\": \"rgb(36,36,36)\", \"ticks\": \"outside\"}, \"colorscale\": [[0.0, \"#440154\"], [0.1111111111111111, \"#482878\"], [0.2222222222222222, \"#3e4989\"], [0.3333333333333333, \"#31688e\"], [0.4444444444444444, \"#26828e\"], [0.5555555555555556, \"#1f9e89\"], [0.6666666666666666, \"#35b779\"], [0.7777777777777778, \"#6ece58\"], [0.8888888888888888, \"#b5de2b\"], [1.0, \"#fde725\"]], \"type\": \"heatmap\"}], \"heatmapgl\": [{\"colorbar\": {\"outlinewidth\": 1, \"tickcolor\": \"rgb(36,36,36)\", \"ticks\": \"outside\"}, \"colorscale\": [[0.0, \"#440154\"], [0.1111111111111111, \"#482878\"], [0.2222222222222222, \"#3e4989\"], [0.3333333333333333, \"#31688e\"], [0.4444444444444444, \"#26828e\"], [0.5555555555555556, \"#1f9e89\"], [0.6666666666666666, \"#35b779\"], [0.7777777777777778, \"#6ece58\"], [0.8888888888888888, \"#b5de2b\"], [1.0, \"#fde725\"]], \"type\": \"heatmapgl\"}], \"histogram\": [{\"marker\": {\"line\": {\"color\": \"white\", \"width\": 0.6}}, \"type\": \"histogram\"}], \"histogram2d\": [{\"colorbar\": {\"outlinewidth\": 1, \"tickcolor\": \"rgb(36,36,36)\", \"ticks\": \"outside\"}, \"colorscale\": [[0.0, \"#440154\"], [0.1111111111111111, \"#482878\"], [0.2222222222222222, \"#3e4989\"], [0.3333333333333333, \"#31688e\"], [0.4444444444444444, \"#26828e\"], [0.5555555555555556, \"#1f9e89\"], [0.6666666666666666, \"#35b779\"], [0.7777777777777778, \"#6ece58\"], [0.8888888888888888, \"#b5de2b\"], [1.0, \"#fde725\"]], \"type\": \"histogram2d\"}], \"histogram2dcontour\": [{\"colorbar\": {\"outlinewidth\": 1, \"tickcolor\": \"rgb(36,36,36)\", \"ticks\": \"outside\"}, \"colorscale\": [[0.0, \"#440154\"], [0.1111111111111111, \"#482878\"], [0.2222222222222222, \"#3e4989\"], [0.3333333333333333, \"#31688e\"], [0.4444444444444444, \"#26828e\"], [0.5555555555555556, \"#1f9e89\"], [0.6666666666666666, \"#35b779\"], [0.7777777777777778, \"#6ece58\"], [0.8888888888888888, \"#b5de2b\"], [1.0, \"#fde725\"]], \"type\": \"histogram2dcontour\"}], \"mesh3d\": [{\"colorbar\": {\"outlinewidth\": 1, \"tickcolor\": \"rgb(36,36,36)\", \"ticks\": \"outside\"}, \"type\": \"mesh3d\"}], \"parcoords\": [{\"line\": {\"colorbar\": {\"outlinewidth\": 1, \"tickcolor\": \"rgb(36,36,36)\", \"ticks\": \"outside\"}}, \"type\": \"parcoords\"}], \"pie\": [{\"automargin\": true, \"type\": \"pie\"}], \"scatter\": [{\"marker\": {\"colorbar\": {\"outlinewidth\": 1, \"tickcolor\": \"rgb(36,36,36)\", \"ticks\": \"outside\"}}, \"type\": \"scatter\"}], \"scatter3d\": [{\"line\": {\"colorbar\": {\"outlinewidth\": 1, \"tickcolor\": \"rgb(36,36,36)\", \"ticks\": \"outside\"}}, \"marker\": {\"colorbar\": {\"outlinewidth\": 1, \"tickcolor\": \"rgb(36,36,36)\", \"ticks\": \"outside\"}}, \"type\": \"scatter3d\"}], \"scattercarpet\": [{\"marker\": {\"colorbar\": {\"outlinewidth\": 1, \"tickcolor\": \"rgb(36,36,36)\", \"ticks\": \"outside\"}}, \"type\": \"scattercarpet\"}], \"scattergeo\": [{\"marker\": {\"colorbar\": {\"outlinewidth\": 1, \"tickcolor\": \"rgb(36,36,36)\", \"ticks\": \"outside\"}}, \"type\": \"scattergeo\"}], \"scattergl\": [{\"marker\": {\"colorbar\": {\"outlinewidth\": 1, \"tickcolor\": \"rgb(36,36,36)\", \"ticks\": \"outside\"}}, \"type\": \"scattergl\"}], \"scattermapbox\": [{\"marker\": {\"colorbar\": {\"outlinewidth\": 1, \"tickcolor\": \"rgb(36,36,36)\", \"ticks\": \"outside\"}}, \"type\": \"scattermapbox\"}], \"scatterpolar\": [{\"marker\": {\"colorbar\": {\"outlinewidth\": 1, \"tickcolor\": \"rgb(36,36,36)\", \"ticks\": \"outside\"}}, \"type\": \"scatterpolar\"}], \"scatterpolargl\": [{\"marker\": {\"colorbar\": {\"outlinewidth\": 1, \"tickcolor\": \"rgb(36,36,36)\", \"ticks\": \"outside\"}}, \"type\": \"scatterpolargl\"}], \"scatterternary\": [{\"marker\": {\"colorbar\": {\"outlinewidth\": 1, \"tickcolor\": \"rgb(36,36,36)\", \"ticks\": \"outside\"}}, \"type\": \"scatterternary\"}], \"surface\": [{\"colorbar\": {\"outlinewidth\": 1, \"tickcolor\": \"rgb(36,36,36)\", \"ticks\": \"outside\"}, \"colorscale\": [[0.0, \"#440154\"], [0.1111111111111111, \"#482878\"], [0.2222222222222222, \"#3e4989\"], [0.3333333333333333, \"#31688e\"], [0.4444444444444444, \"#26828e\"], [0.5555555555555556, \"#1f9e89\"], [0.6666666666666666, \"#35b779\"], [0.7777777777777778, \"#6ece58\"], [0.8888888888888888, \"#b5de2b\"], [1.0, \"#fde725\"]], \"type\": \"surface\"}], \"table\": [{\"cells\": {\"fill\": {\"color\": \"rgb(237,237,237)\"}, \"line\": {\"color\": \"white\"}}, \"header\": {\"fill\": {\"color\": \"rgb(217,217,217)\"}, \"line\": {\"color\": \"white\"}}, \"type\": \"table\"}]}, \"layout\": {\"annotationdefaults\": {\"arrowhead\": 0, \"arrowwidth\": 1}, \"autotypenumbers\": \"strict\", \"coloraxis\": {\"colorbar\": {\"outlinewidth\": 1, \"tickcolor\": \"rgb(36,36,36)\", \"ticks\": \"outside\"}}, \"colorscale\": {\"diverging\": [[0.0, \"rgb(103,0,31)\"], [0.1, \"rgb(178,24,43)\"], [0.2, \"rgb(214,96,77)\"], [0.3, \"rgb(244,165,130)\"], [0.4, \"rgb(253,219,199)\"], [0.5, \"rgb(247,247,247)\"], [0.6, \"rgb(209,229,240)\"], [0.7, \"rgb(146,197,222)\"], [0.8, \"rgb(67,147,195)\"], [0.9, \"rgb(33,102,172)\"], [1.0, \"rgb(5,48,97)\"]], \"sequential\": [[0.0, \"#440154\"], [0.1111111111111111, \"#482878\"], [0.2222222222222222, \"#3e4989\"], [0.3333333333333333, \"#31688e\"], [0.4444444444444444, \"#26828e\"], [0.5555555555555556, \"#1f9e89\"], [0.6666666666666666, \"#35b779\"], [0.7777777777777778, \"#6ece58\"], [0.8888888888888888, \"#b5de2b\"], [1.0, \"#fde725\"]], \"sequentialminus\": [[0.0, \"#440154\"], [0.1111111111111111, \"#482878\"], [0.2222222222222222, \"#3e4989\"], [0.3333333333333333, \"#31688e\"], [0.4444444444444444, \"#26828e\"], [0.5555555555555556, \"#1f9e89\"], [0.6666666666666666, \"#35b779\"], [0.7777777777777778, \"#6ece58\"], [0.8888888888888888, \"#b5de2b\"], [1.0, \"#fde725\"]]}, \"colorway\": [\"#1F77B4\", \"#FF7F0E\", \"#2CA02C\", \"#D62728\", \"#9467BD\", \"#8C564B\", \"#E377C2\", \"#7F7F7F\", \"#BCBD22\", \"#17BECF\"], \"font\": {\"color\": \"rgb(36,36,36)\"}, \"geo\": {\"bgcolor\": \"white\", \"lakecolor\": \"white\", \"landcolor\": \"white\", \"showlakes\": true, \"showland\": true, \"subunitcolor\": \"white\"}, \"hoverlabel\": {\"align\": \"left\"}, \"hovermode\": \"closest\", \"mapbox\": {\"style\": \"light\"}, \"paper_bgcolor\": \"white\", \"plot_bgcolor\": \"white\", \"polar\": {\"angularaxis\": {\"gridcolor\": \"rgb(232,232,232)\", \"linecolor\": \"rgb(36,36,36)\", \"showgrid\": false, \"showline\": true, \"ticks\": \"outside\"}, \"bgcolor\": \"white\", \"radialaxis\": {\"gridcolor\": \"rgb(232,232,232)\", \"linecolor\": \"rgb(36,36,36)\", \"showgrid\": false, \"showline\": true, \"ticks\": \"outside\"}}, \"scene\": {\"xaxis\": {\"backgroundcolor\": \"white\", \"gridcolor\": \"rgb(232,232,232)\", \"gridwidth\": 2, \"linecolor\": \"rgb(36,36,36)\", \"showbackground\": true, \"showgrid\": false, \"showline\": true, \"ticks\": \"outside\", \"zeroline\": false, \"zerolinecolor\": \"rgb(36,36,36)\"}, \"yaxis\": {\"backgroundcolor\": \"white\", \"gridcolor\": \"rgb(232,232,232)\", \"gridwidth\": 2, \"linecolor\": \"rgb(36,36,36)\", \"showbackground\": true, \"showgrid\": false, \"showline\": true, \"ticks\": \"outside\", \"zeroline\": false, \"zerolinecolor\": \"rgb(36,36,36)\"}, \"zaxis\": {\"backgroundcolor\": \"white\", \"gridcolor\": \"rgb(232,232,232)\", \"gridwidth\": 2, \"linecolor\": \"rgb(36,36,36)\", \"showbackground\": true, \"showgrid\": false, \"showline\": true, \"ticks\": \"outside\", \"zeroline\": false, \"zerolinecolor\": \"rgb(36,36,36)\"}}, \"shapedefaults\": {\"fillcolor\": \"black\", \"line\": {\"width\": 0}, \"opacity\": 0.3}, \"ternary\": {\"aaxis\": {\"gridcolor\": \"rgb(232,232,232)\", \"linecolor\": \"rgb(36,36,36)\", \"showgrid\": false, \"showline\": true, \"ticks\": \"outside\"}, \"baxis\": {\"gridcolor\": \"rgb(232,232,232)\", \"linecolor\": \"rgb(36,36,36)\", \"showgrid\": false, \"showline\": true, \"ticks\": \"outside\"}, \"bgcolor\": \"white\", \"caxis\": {\"gridcolor\": \"rgb(232,232,232)\", \"linecolor\": \"rgb(36,36,36)\", \"showgrid\": false, \"showline\": true, \"ticks\": \"outside\"}}, \"title\": {\"x\": 0.05}, \"xaxis\": {\"automargin\": true, \"gridcolor\": \"rgb(232,232,232)\", \"linecolor\": \"rgb(36,36,36)\", \"showgrid\": false, \"showline\": true, \"ticks\": \"outside\", \"title\": {\"standoff\": 15}, \"zeroline\": false, \"zerolinecolor\": \"rgb(36,36,36)\"}, \"yaxis\": {\"automargin\": true, \"gridcolor\": \"rgb(232,232,232)\", \"linecolor\": \"rgb(36,36,36)\", \"showgrid\": false, \"showline\": true, \"ticks\": \"outside\", \"title\": {\"standoff\": 15}, \"zeroline\": false, \"zerolinecolor\": \"rgb(36,36,36)\"}}}, \"title\": {\"text\": \"Variantes detectadas en la Regi\\u00f3n de Ays\\u00e9n\"}, \"xaxis\": {\"anchor\": \"y\", \"domain\": [0.0, 1.0], \"title\": {\"text\": \"Fecha de resultado de Secuenciaci\\u00f3n o Genotipificaci\\u00f3n\"}}, \"yaxis\": {\"anchor\": \"x\", \"domain\": [0.0, 1.0], \"title\": {\"text\": \"No. de casos identificados por variante\"}}},                        {\"responsive\": true}                    ).then(function(){\n",
       "                            \n",
       "var gd = document.getElementById('d57362b8-df67-4d8b-92a6-d439c19e489b');\n",
       "var x = new MutationObserver(function (mutations, observer) {{\n",
       "        var display = window.getComputedStyle(gd).display;\n",
       "        if (!display || display === 'none') {{\n",
       "            console.log([gd, 'removed!']);\n",
       "            Plotly.purge(gd);\n",
       "            observer.disconnect();\n",
       "        }}\n",
       "}});\n",
       "\n",
       "// Listen for the removal of the full notebook cells\n",
       "var notebookContainer = gd.closest('#notebook-container');\n",
       "if (notebookContainer) {{\n",
       "    x.observe(notebookContainer, {childList: true});\n",
       "}}\n",
       "\n",
       "// Listen for the clearing of the current output cell\n",
       "var outputEl = gd.closest('.output');\n",
       "if (outputEl) {{\n",
       "    x.observe(outputEl, {childList: true});\n",
       "}}\n",
       "\n",
       "                        })                };                });            </script>        </div>"
      ]
     },
     "metadata": {},
     "output_type": "display_data"
    }
   ],
   "source": [
    "px.area(df_variantes_clean.groupby(['fecha_resultado_secuenciacion_genotipificacion', 'variante_linaje']).count()[['n_documento']].reset_index().pivot(\n",
    "    index='fecha_resultado_secuenciacion_genotipificacion',\n",
    "    columns='variante_linaje', \n",
    "    values=['n_documento']\n",
    ").fillna(0).cumsum().clean_names().rename(\n",
    "    columns={\n",
    "        'alfa':'Alfa',\n",
    "        'b_1':'B.1',\n",
    "        'b_1_1':'B.1.1',\n",
    "        'b_1_1_348':'B.1.1.348',\n",
    "        'gamma':'Gamma',\n",
    "        'indeterminado':'Indeterminado',\n",
    "        'lambda':'Lambda',\n",
    "        'n_4':'N.4',\n",
    "        'no_amplifica':'No amplifica',\n",
    "        'no_se_detectan_mutaciones_para_variantes_de_interes_por_parte_de_este_kit':'VOI no detectadas'\n",
    "            })['n_documento'].drop(['No amplifica','Indeterminado'], axis=1),\n",
    "        labels={'variante_linaje':'Variante detectada'},\n",
    "       ).update_layout(\n",
    "    title= 'Variantes detectadas en la Región de Aysén',\n",
    "    yaxis_title='No. de casos identificados por variante',\n",
    "    xaxis_title='Fecha de resultado de Secuenciación o Genotipificación',\n",
    "    template='simple_white',\n",
    "    \n",
    "    \n",
    ")"
   ]
  },
  {
   "cell_type": "code",
   "execution_count": 139,
   "id": "a96a998c",
   "metadata": {},
   "outputs": [
    {
     "data": {
      "application/vnd.plotly.v1+json": {
       "config": {
        "plotlyServerURL": "https://plot.ly"
       },
       "data": [
        {
         "groupnorm": "percent",
         "hovertemplate": "Variante detectada=Alfa<br>fecha_resultado_secuenciacion_genotipificacion=%{x}<br>value=%{y}<extra></extra>",
         "legendgroup": "Alfa",
         "line": {
          "color": "#636efa"
         },
         "mode": "lines",
         "name": "Alfa",
         "orientation": "v",
         "showlegend": true,
         "stackgroup": "1",
         "type": "scatter",
         "x": [
          "2021-03-21T00:00:00",
          "2021-04-05T00:00:00",
          "2021-04-08T00:00:00",
          "2021-04-19T00:00:00",
          "2021-05-05T00:00:00",
          "2021-05-14T00:00:00",
          "2021-05-19T00:00:00",
          "2021-05-24T00:00:00",
          "2021-05-26T00:00:00",
          "2021-06-09T00:00:00",
          "2021-06-17T00:00:00",
          "2021-06-30T00:00:00",
          "2021-07-07T00:00:00",
          "2021-07-14T00:00:00",
          "2021-07-21T00:00:00",
          "2021-07-28T00:00:00",
          "2021-07-31T00:00:00",
          "2021-08-01T00:00:00",
          "2021-08-03T00:00:00",
          "2021-08-06T00:00:00",
          "2021-08-12T00:00:00",
          "2021-08-13T00:00:00",
          "2021-08-17T00:00:00",
          "2021-08-18T00:00:00",
          "2021-08-21T00:00:00",
          "2021-08-23T00:00:00",
          "2021-08-25T00:00:00",
          "2021-08-26T00:00:00",
          "2021-09-01T00:00:00"
         ],
         "xaxis": "x",
         "y": [
          0,
          0,
          0,
          0,
          0,
          0,
          0,
          0,
          1,
          1,
          1,
          1,
          1,
          1,
          1,
          1,
          1,
          1,
          1,
          1,
          1,
          1,
          1,
          1,
          1,
          1,
          1,
          1,
          1
         ],
         "yaxis": "y"
        },
        {
         "groupnorm": "percent",
         "hovertemplate": "Variante detectada=B.1<br>fecha_resultado_secuenciacion_genotipificacion=%{x}<br>value=%{y}<extra></extra>",
         "legendgroup": "B.1",
         "line": {
          "color": "#EF553B"
         },
         "mode": "lines",
         "name": "B.1",
         "orientation": "v",
         "showlegend": true,
         "stackgroup": "1",
         "type": "scatter",
         "x": [
          "2021-03-21T00:00:00",
          "2021-04-05T00:00:00",
          "2021-04-08T00:00:00",
          "2021-04-19T00:00:00",
          "2021-05-05T00:00:00",
          "2021-05-14T00:00:00",
          "2021-05-19T00:00:00",
          "2021-05-24T00:00:00",
          "2021-05-26T00:00:00",
          "2021-06-09T00:00:00",
          "2021-06-17T00:00:00",
          "2021-06-30T00:00:00",
          "2021-07-07T00:00:00",
          "2021-07-14T00:00:00",
          "2021-07-21T00:00:00",
          "2021-07-28T00:00:00",
          "2021-07-31T00:00:00",
          "2021-08-01T00:00:00",
          "2021-08-03T00:00:00",
          "2021-08-06T00:00:00",
          "2021-08-12T00:00:00",
          "2021-08-13T00:00:00",
          "2021-08-17T00:00:00",
          "2021-08-18T00:00:00",
          "2021-08-21T00:00:00",
          "2021-08-23T00:00:00",
          "2021-08-25T00:00:00",
          "2021-08-26T00:00:00",
          "2021-09-01T00:00:00"
         ],
         "xaxis": "x",
         "y": [
          0,
          0,
          0,
          0,
          0,
          0,
          0,
          0,
          0,
          1,
          1,
          1,
          1,
          1,
          1,
          1,
          1,
          1,
          1,
          1,
          1,
          1,
          1,
          1,
          1,
          1,
          1,
          1,
          1
         ],
         "yaxis": "y"
        },
        {
         "groupnorm": "percent",
         "hovertemplate": "Variante detectada=B.1.1<br>fecha_resultado_secuenciacion_genotipificacion=%{x}<br>value=%{y}<extra></extra>",
         "legendgroup": "B.1.1",
         "line": {
          "color": "#00cc96"
         },
         "mode": "lines",
         "name": "B.1.1",
         "orientation": "v",
         "showlegend": true,
         "stackgroup": "1",
         "type": "scatter",
         "x": [
          "2021-03-21T00:00:00",
          "2021-04-05T00:00:00",
          "2021-04-08T00:00:00",
          "2021-04-19T00:00:00",
          "2021-05-05T00:00:00",
          "2021-05-14T00:00:00",
          "2021-05-19T00:00:00",
          "2021-05-24T00:00:00",
          "2021-05-26T00:00:00",
          "2021-06-09T00:00:00",
          "2021-06-17T00:00:00",
          "2021-06-30T00:00:00",
          "2021-07-07T00:00:00",
          "2021-07-14T00:00:00",
          "2021-07-21T00:00:00",
          "2021-07-28T00:00:00",
          "2021-07-31T00:00:00",
          "2021-08-01T00:00:00",
          "2021-08-03T00:00:00",
          "2021-08-06T00:00:00",
          "2021-08-12T00:00:00",
          "2021-08-13T00:00:00",
          "2021-08-17T00:00:00",
          "2021-08-18T00:00:00",
          "2021-08-21T00:00:00",
          "2021-08-23T00:00:00",
          "2021-08-25T00:00:00",
          "2021-08-26T00:00:00",
          "2021-09-01T00:00:00"
         ],
         "xaxis": "x",
         "y": [
          0,
          1,
          1,
          2,
          2,
          2,
          2,
          2,
          4,
          5,
          5,
          5,
          5,
          5,
          5,
          5,
          5,
          5,
          5,
          5,
          5,
          5,
          5,
          5,
          5,
          5,
          5,
          5,
          5
         ],
         "yaxis": "y"
        },
        {
         "groupnorm": "percent",
         "hovertemplate": "Variante detectada=B.1.1.348<br>fecha_resultado_secuenciacion_genotipificacion=%{x}<br>value=%{y}<extra></extra>",
         "legendgroup": "B.1.1.348",
         "line": {
          "color": "#ab63fa"
         },
         "mode": "lines",
         "name": "B.1.1.348",
         "orientation": "v",
         "showlegend": true,
         "stackgroup": "1",
         "type": "scatter",
         "x": [
          "2021-03-21T00:00:00",
          "2021-04-05T00:00:00",
          "2021-04-08T00:00:00",
          "2021-04-19T00:00:00",
          "2021-05-05T00:00:00",
          "2021-05-14T00:00:00",
          "2021-05-19T00:00:00",
          "2021-05-24T00:00:00",
          "2021-05-26T00:00:00",
          "2021-06-09T00:00:00",
          "2021-06-17T00:00:00",
          "2021-06-30T00:00:00",
          "2021-07-07T00:00:00",
          "2021-07-14T00:00:00",
          "2021-07-21T00:00:00",
          "2021-07-28T00:00:00",
          "2021-07-31T00:00:00",
          "2021-08-01T00:00:00",
          "2021-08-03T00:00:00",
          "2021-08-06T00:00:00",
          "2021-08-12T00:00:00",
          "2021-08-13T00:00:00",
          "2021-08-17T00:00:00",
          "2021-08-18T00:00:00",
          "2021-08-21T00:00:00",
          "2021-08-23T00:00:00",
          "2021-08-25T00:00:00",
          "2021-08-26T00:00:00",
          "2021-09-01T00:00:00"
         ],
         "xaxis": "x",
         "y": [
          1,
          2,
          2,
          2,
          2,
          2,
          2,
          2,
          2,
          2,
          2,
          2,
          2,
          2,
          2,
          2,
          2,
          2,
          2,
          2,
          2,
          2,
          2,
          2,
          2,
          2,
          2,
          2,
          2
         ],
         "yaxis": "y"
        },
        {
         "groupnorm": "percent",
         "hovertemplate": "Variante detectada=Gamma<br>fecha_resultado_secuenciacion_genotipificacion=%{x}<br>value=%{y}<extra></extra>",
         "legendgroup": "Gamma",
         "line": {
          "color": "#FFA15A"
         },
         "mode": "lines",
         "name": "Gamma",
         "orientation": "v",
         "showlegend": true,
         "stackgroup": "1",
         "type": "scatter",
         "x": [
          "2021-03-21T00:00:00",
          "2021-04-05T00:00:00",
          "2021-04-08T00:00:00",
          "2021-04-19T00:00:00",
          "2021-05-05T00:00:00",
          "2021-05-14T00:00:00",
          "2021-05-19T00:00:00",
          "2021-05-24T00:00:00",
          "2021-05-26T00:00:00",
          "2021-06-09T00:00:00",
          "2021-06-17T00:00:00",
          "2021-06-30T00:00:00",
          "2021-07-07T00:00:00",
          "2021-07-14T00:00:00",
          "2021-07-21T00:00:00",
          "2021-07-28T00:00:00",
          "2021-07-31T00:00:00",
          "2021-08-01T00:00:00",
          "2021-08-03T00:00:00",
          "2021-08-06T00:00:00",
          "2021-08-12T00:00:00",
          "2021-08-13T00:00:00",
          "2021-08-17T00:00:00",
          "2021-08-18T00:00:00",
          "2021-08-21T00:00:00",
          "2021-08-23T00:00:00",
          "2021-08-25T00:00:00",
          "2021-08-26T00:00:00",
          "2021-09-01T00:00:00"
         ],
         "xaxis": "x",
         "y": [
          0,
          0,
          0,
          0,
          2,
          6,
          9,
          9,
          13,
          20,
          24,
          28,
          32,
          47,
          58,
          60,
          61,
          61,
          62,
          71,
          76,
          82,
          91,
          96,
          100,
          107,
          116,
          122,
          127
         ],
         "yaxis": "y"
        },
        {
         "groupnorm": "percent",
         "hovertemplate": "Variante detectada=Indeterminado<br>fecha_resultado_secuenciacion_genotipificacion=%{x}<br>value=%{y}<extra></extra>",
         "legendgroup": "Indeterminado",
         "line": {
          "color": "#19d3f3"
         },
         "mode": "lines",
         "name": "Indeterminado",
         "orientation": "v",
         "showlegend": true,
         "stackgroup": "1",
         "type": "scatter",
         "x": [
          "2021-03-21T00:00:00",
          "2021-04-05T00:00:00",
          "2021-04-08T00:00:00",
          "2021-04-19T00:00:00",
          "2021-05-05T00:00:00",
          "2021-05-14T00:00:00",
          "2021-05-19T00:00:00",
          "2021-05-24T00:00:00",
          "2021-05-26T00:00:00",
          "2021-06-09T00:00:00",
          "2021-06-17T00:00:00",
          "2021-06-30T00:00:00",
          "2021-07-07T00:00:00",
          "2021-07-14T00:00:00",
          "2021-07-21T00:00:00",
          "2021-07-28T00:00:00",
          "2021-07-31T00:00:00",
          "2021-08-01T00:00:00",
          "2021-08-03T00:00:00",
          "2021-08-06T00:00:00",
          "2021-08-12T00:00:00",
          "2021-08-13T00:00:00",
          "2021-08-17T00:00:00",
          "2021-08-18T00:00:00",
          "2021-08-21T00:00:00",
          "2021-08-23T00:00:00",
          "2021-08-25T00:00:00",
          "2021-08-26T00:00:00",
          "2021-09-01T00:00:00"
         ],
         "xaxis": "x",
         "y": [
          0,
          0,
          0,
          0,
          0,
          0,
          0,
          0,
          0,
          0,
          0,
          0,
          0,
          0,
          0,
          0,
          2,
          2,
          3,
          3,
          3,
          3,
          4,
          4,
          4,
          5,
          5,
          5,
          5
         ],
         "yaxis": "y"
        },
        {
         "groupnorm": "percent",
         "hovertemplate": "Variante detectada=Lambda<br>fecha_resultado_secuenciacion_genotipificacion=%{x}<br>value=%{y}<extra></extra>",
         "legendgroup": "Lambda",
         "line": {
          "color": "#FF6692"
         },
         "mode": "lines",
         "name": "Lambda",
         "orientation": "v",
         "showlegend": true,
         "stackgroup": "1",
         "type": "scatter",
         "x": [
          "2021-03-21T00:00:00",
          "2021-04-05T00:00:00",
          "2021-04-08T00:00:00",
          "2021-04-19T00:00:00",
          "2021-05-05T00:00:00",
          "2021-05-14T00:00:00",
          "2021-05-19T00:00:00",
          "2021-05-24T00:00:00",
          "2021-05-26T00:00:00",
          "2021-06-09T00:00:00",
          "2021-06-17T00:00:00",
          "2021-06-30T00:00:00",
          "2021-07-07T00:00:00",
          "2021-07-14T00:00:00",
          "2021-07-21T00:00:00",
          "2021-07-28T00:00:00",
          "2021-07-31T00:00:00",
          "2021-08-01T00:00:00",
          "2021-08-03T00:00:00",
          "2021-08-06T00:00:00",
          "2021-08-12T00:00:00",
          "2021-08-13T00:00:00",
          "2021-08-17T00:00:00",
          "2021-08-18T00:00:00",
          "2021-08-21T00:00:00",
          "2021-08-23T00:00:00",
          "2021-08-25T00:00:00",
          "2021-08-26T00:00:00",
          "2021-09-01T00:00:00"
         ],
         "xaxis": "x",
         "y": [
          0,
          0,
          0,
          3,
          7,
          13,
          17,
          17,
          25,
          27,
          27,
          29,
          35,
          43,
          48,
          48,
          48,
          48,
          48,
          49,
          50,
          50,
          50,
          50,
          50,
          50,
          51,
          51,
          52
         ],
         "yaxis": "y"
        },
        {
         "groupnorm": "percent",
         "hovertemplate": "Variante detectada=N.4<br>fecha_resultado_secuenciacion_genotipificacion=%{x}<br>value=%{y}<extra></extra>",
         "legendgroup": "N.4",
         "line": {
          "color": "#B6E880"
         },
         "mode": "lines",
         "name": "N.4",
         "orientation": "v",
         "showlegend": true,
         "stackgroup": "1",
         "type": "scatter",
         "x": [
          "2021-03-21T00:00:00",
          "2021-04-05T00:00:00",
          "2021-04-08T00:00:00",
          "2021-04-19T00:00:00",
          "2021-05-05T00:00:00",
          "2021-05-14T00:00:00",
          "2021-05-19T00:00:00",
          "2021-05-24T00:00:00",
          "2021-05-26T00:00:00",
          "2021-06-09T00:00:00",
          "2021-06-17T00:00:00",
          "2021-06-30T00:00:00",
          "2021-07-07T00:00:00",
          "2021-07-14T00:00:00",
          "2021-07-21T00:00:00",
          "2021-07-28T00:00:00",
          "2021-07-31T00:00:00",
          "2021-08-01T00:00:00",
          "2021-08-03T00:00:00",
          "2021-08-06T00:00:00",
          "2021-08-12T00:00:00",
          "2021-08-13T00:00:00",
          "2021-08-17T00:00:00",
          "2021-08-18T00:00:00",
          "2021-08-21T00:00:00",
          "2021-08-23T00:00:00",
          "2021-08-25T00:00:00",
          "2021-08-26T00:00:00",
          "2021-09-01T00:00:00"
         ],
         "xaxis": "x",
         "y": [
          1,
          1,
          1,
          1,
          1,
          1,
          1,
          1,
          1,
          1,
          1,
          1,
          1,
          1,
          1,
          1,
          1,
          1,
          1,
          1,
          1,
          1,
          1,
          1,
          1,
          1,
          1,
          1,
          1
         ],
         "yaxis": "y"
        },
        {
         "groupnorm": "percent",
         "hovertemplate": "Variante detectada=No amplifica<br>fecha_resultado_secuenciacion_genotipificacion=%{x}<br>value=%{y}<extra></extra>",
         "legendgroup": "No amplifica",
         "line": {
          "color": "#FF97FF"
         },
         "mode": "lines",
         "name": "No amplifica",
         "orientation": "v",
         "showlegend": true,
         "stackgroup": "1",
         "type": "scatter",
         "x": [
          "2021-03-21T00:00:00",
          "2021-04-05T00:00:00",
          "2021-04-08T00:00:00",
          "2021-04-19T00:00:00",
          "2021-05-05T00:00:00",
          "2021-05-14T00:00:00",
          "2021-05-19T00:00:00",
          "2021-05-24T00:00:00",
          "2021-05-26T00:00:00",
          "2021-06-09T00:00:00",
          "2021-06-17T00:00:00",
          "2021-06-30T00:00:00",
          "2021-07-07T00:00:00",
          "2021-07-14T00:00:00",
          "2021-07-21T00:00:00",
          "2021-07-28T00:00:00",
          "2021-07-31T00:00:00",
          "2021-08-01T00:00:00",
          "2021-08-03T00:00:00",
          "2021-08-06T00:00:00",
          "2021-08-12T00:00:00",
          "2021-08-13T00:00:00",
          "2021-08-17T00:00:00",
          "2021-08-18T00:00:00",
          "2021-08-21T00:00:00",
          "2021-08-23T00:00:00",
          "2021-08-25T00:00:00",
          "2021-08-26T00:00:00",
          "2021-09-01T00:00:00"
         ],
         "xaxis": "x",
         "y": [
          0,
          0,
          1,
          1,
          1,
          1,
          1,
          2,
          2,
          2,
          3,
          5,
          10,
          16,
          27,
          27,
          27,
          28,
          28,
          29,
          29,
          29,
          29,
          29,
          29,
          29,
          32,
          32,
          33
         ],
         "yaxis": "y"
        },
        {
         "groupnorm": "percent",
         "hovertemplate": "Variante detectada=VOI no detectadas<br>fecha_resultado_secuenciacion_genotipificacion=%{x}<br>value=%{y}<extra></extra>",
         "legendgroup": "VOI no detectadas",
         "line": {
          "color": "#FECB52"
         },
         "mode": "lines",
         "name": "VOI no detectadas",
         "orientation": "v",
         "showlegend": true,
         "stackgroup": "1",
         "type": "scatter",
         "x": [
          "2021-03-21T00:00:00",
          "2021-04-05T00:00:00",
          "2021-04-08T00:00:00",
          "2021-04-19T00:00:00",
          "2021-05-05T00:00:00",
          "2021-05-14T00:00:00",
          "2021-05-19T00:00:00",
          "2021-05-24T00:00:00",
          "2021-05-26T00:00:00",
          "2021-06-09T00:00:00",
          "2021-06-17T00:00:00",
          "2021-06-30T00:00:00",
          "2021-07-07T00:00:00",
          "2021-07-14T00:00:00",
          "2021-07-21T00:00:00",
          "2021-07-28T00:00:00",
          "2021-07-31T00:00:00",
          "2021-08-01T00:00:00",
          "2021-08-03T00:00:00",
          "2021-08-06T00:00:00",
          "2021-08-12T00:00:00",
          "2021-08-13T00:00:00",
          "2021-08-17T00:00:00",
          "2021-08-18T00:00:00",
          "2021-08-21T00:00:00",
          "2021-08-23T00:00:00",
          "2021-08-25T00:00:00",
          "2021-08-26T00:00:00",
          "2021-09-01T00:00:00"
         ],
         "xaxis": "x",
         "y": [
          0,
          0,
          0,
          0,
          0,
          0,
          0,
          0,
          0,
          0,
          0,
          0,
          0,
          0,
          0,
          0,
          0,
          0,
          0,
          0,
          0,
          0,
          0,
          1,
          1,
          1,
          1,
          1,
          1
         ],
         "yaxis": "y"
        }
       ],
       "layout": {
        "legend": {
         "title": {
          "text": "Variante detectada"
         },
         "tracegroupgap": 0
        },
        "margin": {
         "t": 60
        },
        "template": {
         "data": {
          "bar": [
           {
            "error_x": {
             "color": "rgb(36,36,36)"
            },
            "error_y": {
             "color": "rgb(36,36,36)"
            },
            "marker": {
             "line": {
              "color": "white",
              "width": 0.5
             }
            },
            "type": "bar"
           }
          ],
          "barpolar": [
           {
            "marker": {
             "line": {
              "color": "white",
              "width": 0.5
             }
            },
            "type": "barpolar"
           }
          ],
          "carpet": [
           {
            "aaxis": {
             "endlinecolor": "rgb(36,36,36)",
             "gridcolor": "white",
             "linecolor": "white",
             "minorgridcolor": "white",
             "startlinecolor": "rgb(36,36,36)"
            },
            "baxis": {
             "endlinecolor": "rgb(36,36,36)",
             "gridcolor": "white",
             "linecolor": "white",
             "minorgridcolor": "white",
             "startlinecolor": "rgb(36,36,36)"
            },
            "type": "carpet"
           }
          ],
          "choropleth": [
           {
            "colorbar": {
             "outlinewidth": 1,
             "tickcolor": "rgb(36,36,36)",
             "ticks": "outside"
            },
            "type": "choropleth"
           }
          ],
          "contour": [
           {
            "colorbar": {
             "outlinewidth": 1,
             "tickcolor": "rgb(36,36,36)",
             "ticks": "outside"
            },
            "colorscale": [
             [
              0,
              "#440154"
             ],
             [
              0.1111111111111111,
              "#482878"
             ],
             [
              0.2222222222222222,
              "#3e4989"
             ],
             [
              0.3333333333333333,
              "#31688e"
             ],
             [
              0.4444444444444444,
              "#26828e"
             ],
             [
              0.5555555555555556,
              "#1f9e89"
             ],
             [
              0.6666666666666666,
              "#35b779"
             ],
             [
              0.7777777777777778,
              "#6ece58"
             ],
             [
              0.8888888888888888,
              "#b5de2b"
             ],
             [
              1,
              "#fde725"
             ]
            ],
            "type": "contour"
           }
          ],
          "contourcarpet": [
           {
            "colorbar": {
             "outlinewidth": 1,
             "tickcolor": "rgb(36,36,36)",
             "ticks": "outside"
            },
            "type": "contourcarpet"
           }
          ],
          "heatmap": [
           {
            "colorbar": {
             "outlinewidth": 1,
             "tickcolor": "rgb(36,36,36)",
             "ticks": "outside"
            },
            "colorscale": [
             [
              0,
              "#440154"
             ],
             [
              0.1111111111111111,
              "#482878"
             ],
             [
              0.2222222222222222,
              "#3e4989"
             ],
             [
              0.3333333333333333,
              "#31688e"
             ],
             [
              0.4444444444444444,
              "#26828e"
             ],
             [
              0.5555555555555556,
              "#1f9e89"
             ],
             [
              0.6666666666666666,
              "#35b779"
             ],
             [
              0.7777777777777778,
              "#6ece58"
             ],
             [
              0.8888888888888888,
              "#b5de2b"
             ],
             [
              1,
              "#fde725"
             ]
            ],
            "type": "heatmap"
           }
          ],
          "heatmapgl": [
           {
            "colorbar": {
             "outlinewidth": 1,
             "tickcolor": "rgb(36,36,36)",
             "ticks": "outside"
            },
            "colorscale": [
             [
              0,
              "#440154"
             ],
             [
              0.1111111111111111,
              "#482878"
             ],
             [
              0.2222222222222222,
              "#3e4989"
             ],
             [
              0.3333333333333333,
              "#31688e"
             ],
             [
              0.4444444444444444,
              "#26828e"
             ],
             [
              0.5555555555555556,
              "#1f9e89"
             ],
             [
              0.6666666666666666,
              "#35b779"
             ],
             [
              0.7777777777777778,
              "#6ece58"
             ],
             [
              0.8888888888888888,
              "#b5de2b"
             ],
             [
              1,
              "#fde725"
             ]
            ],
            "type": "heatmapgl"
           }
          ],
          "histogram": [
           {
            "marker": {
             "line": {
              "color": "white",
              "width": 0.6
             }
            },
            "type": "histogram"
           }
          ],
          "histogram2d": [
           {
            "colorbar": {
             "outlinewidth": 1,
             "tickcolor": "rgb(36,36,36)",
             "ticks": "outside"
            },
            "colorscale": [
             [
              0,
              "#440154"
             ],
             [
              0.1111111111111111,
              "#482878"
             ],
             [
              0.2222222222222222,
              "#3e4989"
             ],
             [
              0.3333333333333333,
              "#31688e"
             ],
             [
              0.4444444444444444,
              "#26828e"
             ],
             [
              0.5555555555555556,
              "#1f9e89"
             ],
             [
              0.6666666666666666,
              "#35b779"
             ],
             [
              0.7777777777777778,
              "#6ece58"
             ],
             [
              0.8888888888888888,
              "#b5de2b"
             ],
             [
              1,
              "#fde725"
             ]
            ],
            "type": "histogram2d"
           }
          ],
          "histogram2dcontour": [
           {
            "colorbar": {
             "outlinewidth": 1,
             "tickcolor": "rgb(36,36,36)",
             "ticks": "outside"
            },
            "colorscale": [
             [
              0,
              "#440154"
             ],
             [
              0.1111111111111111,
              "#482878"
             ],
             [
              0.2222222222222222,
              "#3e4989"
             ],
             [
              0.3333333333333333,
              "#31688e"
             ],
             [
              0.4444444444444444,
              "#26828e"
             ],
             [
              0.5555555555555556,
              "#1f9e89"
             ],
             [
              0.6666666666666666,
              "#35b779"
             ],
             [
              0.7777777777777778,
              "#6ece58"
             ],
             [
              0.8888888888888888,
              "#b5de2b"
             ],
             [
              1,
              "#fde725"
             ]
            ],
            "type": "histogram2dcontour"
           }
          ],
          "mesh3d": [
           {
            "colorbar": {
             "outlinewidth": 1,
             "tickcolor": "rgb(36,36,36)",
             "ticks": "outside"
            },
            "type": "mesh3d"
           }
          ],
          "parcoords": [
           {
            "line": {
             "colorbar": {
              "outlinewidth": 1,
              "tickcolor": "rgb(36,36,36)",
              "ticks": "outside"
             }
            },
            "type": "parcoords"
           }
          ],
          "pie": [
           {
            "automargin": true,
            "type": "pie"
           }
          ],
          "scatter": [
           {
            "marker": {
             "colorbar": {
              "outlinewidth": 1,
              "tickcolor": "rgb(36,36,36)",
              "ticks": "outside"
             }
            },
            "type": "scatter"
           }
          ],
          "scatter3d": [
           {
            "line": {
             "colorbar": {
              "outlinewidth": 1,
              "tickcolor": "rgb(36,36,36)",
              "ticks": "outside"
             }
            },
            "marker": {
             "colorbar": {
              "outlinewidth": 1,
              "tickcolor": "rgb(36,36,36)",
              "ticks": "outside"
             }
            },
            "type": "scatter3d"
           }
          ],
          "scattercarpet": [
           {
            "marker": {
             "colorbar": {
              "outlinewidth": 1,
              "tickcolor": "rgb(36,36,36)",
              "ticks": "outside"
             }
            },
            "type": "scattercarpet"
           }
          ],
          "scattergeo": [
           {
            "marker": {
             "colorbar": {
              "outlinewidth": 1,
              "tickcolor": "rgb(36,36,36)",
              "ticks": "outside"
             }
            },
            "type": "scattergeo"
           }
          ],
          "scattergl": [
           {
            "marker": {
             "colorbar": {
              "outlinewidth": 1,
              "tickcolor": "rgb(36,36,36)",
              "ticks": "outside"
             }
            },
            "type": "scattergl"
           }
          ],
          "scattermapbox": [
           {
            "marker": {
             "colorbar": {
              "outlinewidth": 1,
              "tickcolor": "rgb(36,36,36)",
              "ticks": "outside"
             }
            },
            "type": "scattermapbox"
           }
          ],
          "scatterpolar": [
           {
            "marker": {
             "colorbar": {
              "outlinewidth": 1,
              "tickcolor": "rgb(36,36,36)",
              "ticks": "outside"
             }
            },
            "type": "scatterpolar"
           }
          ],
          "scatterpolargl": [
           {
            "marker": {
             "colorbar": {
              "outlinewidth": 1,
              "tickcolor": "rgb(36,36,36)",
              "ticks": "outside"
             }
            },
            "type": "scatterpolargl"
           }
          ],
          "scatterternary": [
           {
            "marker": {
             "colorbar": {
              "outlinewidth": 1,
              "tickcolor": "rgb(36,36,36)",
              "ticks": "outside"
             }
            },
            "type": "scatterternary"
           }
          ],
          "surface": [
           {
            "colorbar": {
             "outlinewidth": 1,
             "tickcolor": "rgb(36,36,36)",
             "ticks": "outside"
            },
            "colorscale": [
             [
              0,
              "#440154"
             ],
             [
              0.1111111111111111,
              "#482878"
             ],
             [
              0.2222222222222222,
              "#3e4989"
             ],
             [
              0.3333333333333333,
              "#31688e"
             ],
             [
              0.4444444444444444,
              "#26828e"
             ],
             [
              0.5555555555555556,
              "#1f9e89"
             ],
             [
              0.6666666666666666,
              "#35b779"
             ],
             [
              0.7777777777777778,
              "#6ece58"
             ],
             [
              0.8888888888888888,
              "#b5de2b"
             ],
             [
              1,
              "#fde725"
             ]
            ],
            "type": "surface"
           }
          ],
          "table": [
           {
            "cells": {
             "fill": {
              "color": "rgb(237,237,237)"
             },
             "line": {
              "color": "white"
             }
            },
            "header": {
             "fill": {
              "color": "rgb(217,217,217)"
             },
             "line": {
              "color": "white"
             }
            },
            "type": "table"
           }
          ]
         },
         "layout": {
          "annotationdefaults": {
           "arrowhead": 0,
           "arrowwidth": 1
          },
          "autotypenumbers": "strict",
          "coloraxis": {
           "colorbar": {
            "outlinewidth": 1,
            "tickcolor": "rgb(36,36,36)",
            "ticks": "outside"
           }
          },
          "colorscale": {
           "diverging": [
            [
             0,
             "rgb(103,0,31)"
            ],
            [
             0.1,
             "rgb(178,24,43)"
            ],
            [
             0.2,
             "rgb(214,96,77)"
            ],
            [
             0.3,
             "rgb(244,165,130)"
            ],
            [
             0.4,
             "rgb(253,219,199)"
            ],
            [
             0.5,
             "rgb(247,247,247)"
            ],
            [
             0.6,
             "rgb(209,229,240)"
            ],
            [
             0.7,
             "rgb(146,197,222)"
            ],
            [
             0.8,
             "rgb(67,147,195)"
            ],
            [
             0.9,
             "rgb(33,102,172)"
            ],
            [
             1,
             "rgb(5,48,97)"
            ]
           ],
           "sequential": [
            [
             0,
             "#440154"
            ],
            [
             0.1111111111111111,
             "#482878"
            ],
            [
             0.2222222222222222,
             "#3e4989"
            ],
            [
             0.3333333333333333,
             "#31688e"
            ],
            [
             0.4444444444444444,
             "#26828e"
            ],
            [
             0.5555555555555556,
             "#1f9e89"
            ],
            [
             0.6666666666666666,
             "#35b779"
            ],
            [
             0.7777777777777778,
             "#6ece58"
            ],
            [
             0.8888888888888888,
             "#b5de2b"
            ],
            [
             1,
             "#fde725"
            ]
           ],
           "sequentialminus": [
            [
             0,
             "#440154"
            ],
            [
             0.1111111111111111,
             "#482878"
            ],
            [
             0.2222222222222222,
             "#3e4989"
            ],
            [
             0.3333333333333333,
             "#31688e"
            ],
            [
             0.4444444444444444,
             "#26828e"
            ],
            [
             0.5555555555555556,
             "#1f9e89"
            ],
            [
             0.6666666666666666,
             "#35b779"
            ],
            [
             0.7777777777777778,
             "#6ece58"
            ],
            [
             0.8888888888888888,
             "#b5de2b"
            ],
            [
             1,
             "#fde725"
            ]
           ]
          },
          "colorway": [
           "#1F77B4",
           "#FF7F0E",
           "#2CA02C",
           "#D62728",
           "#9467BD",
           "#8C564B",
           "#E377C2",
           "#7F7F7F",
           "#BCBD22",
           "#17BECF"
          ],
          "font": {
           "color": "rgb(36,36,36)"
          },
          "geo": {
           "bgcolor": "white",
           "lakecolor": "white",
           "landcolor": "white",
           "showlakes": true,
           "showland": true,
           "subunitcolor": "white"
          },
          "hoverlabel": {
           "align": "left"
          },
          "hovermode": "closest",
          "mapbox": {
           "style": "light"
          },
          "paper_bgcolor": "white",
          "plot_bgcolor": "white",
          "polar": {
           "angularaxis": {
            "gridcolor": "rgb(232,232,232)",
            "linecolor": "rgb(36,36,36)",
            "showgrid": false,
            "showline": true,
            "ticks": "outside"
           },
           "bgcolor": "white",
           "radialaxis": {
            "gridcolor": "rgb(232,232,232)",
            "linecolor": "rgb(36,36,36)",
            "showgrid": false,
            "showline": true,
            "ticks": "outside"
           }
          },
          "scene": {
           "xaxis": {
            "backgroundcolor": "white",
            "gridcolor": "rgb(232,232,232)",
            "gridwidth": 2,
            "linecolor": "rgb(36,36,36)",
            "showbackground": true,
            "showgrid": false,
            "showline": true,
            "ticks": "outside",
            "zeroline": false,
            "zerolinecolor": "rgb(36,36,36)"
           },
           "yaxis": {
            "backgroundcolor": "white",
            "gridcolor": "rgb(232,232,232)",
            "gridwidth": 2,
            "linecolor": "rgb(36,36,36)",
            "showbackground": true,
            "showgrid": false,
            "showline": true,
            "ticks": "outside",
            "zeroline": false,
            "zerolinecolor": "rgb(36,36,36)"
           },
           "zaxis": {
            "backgroundcolor": "white",
            "gridcolor": "rgb(232,232,232)",
            "gridwidth": 2,
            "linecolor": "rgb(36,36,36)",
            "showbackground": true,
            "showgrid": false,
            "showline": true,
            "ticks": "outside",
            "zeroline": false,
            "zerolinecolor": "rgb(36,36,36)"
           }
          },
          "shapedefaults": {
           "fillcolor": "black",
           "line": {
            "width": 0
           },
           "opacity": 0.3
          },
          "ternary": {
           "aaxis": {
            "gridcolor": "rgb(232,232,232)",
            "linecolor": "rgb(36,36,36)",
            "showgrid": false,
            "showline": true,
            "ticks": "outside"
           },
           "baxis": {
            "gridcolor": "rgb(232,232,232)",
            "linecolor": "rgb(36,36,36)",
            "showgrid": false,
            "showline": true,
            "ticks": "outside"
           },
           "bgcolor": "white",
           "caxis": {
            "gridcolor": "rgb(232,232,232)",
            "linecolor": "rgb(36,36,36)",
            "showgrid": false,
            "showline": true,
            "ticks": "outside"
           }
          },
          "title": {
           "x": 0.05
          },
          "xaxis": {
           "automargin": true,
           "gridcolor": "rgb(232,232,232)",
           "linecolor": "rgb(36,36,36)",
           "showgrid": false,
           "showline": true,
           "ticks": "outside",
           "title": {
            "standoff": 15
           },
           "zeroline": false,
           "zerolinecolor": "rgb(36,36,36)"
          },
          "yaxis": {
           "automargin": true,
           "gridcolor": "rgb(232,232,232)",
           "linecolor": "rgb(36,36,36)",
           "showgrid": false,
           "showline": true,
           "ticks": "outside",
           "title": {
            "standoff": 15
           },
           "zeroline": false,
           "zerolinecolor": "rgb(36,36,36)"
          }
         }
        },
        "title": {
         "text": "Variantes detectadas en la Región de Aysén"
        },
        "xaxis": {
         "anchor": "y",
         "domain": [
          0,
          1
         ],
         "title": {
          "text": "Fecha de resultado de Secuenciación o Genotipificación"
         }
        },
        "yaxis": {
         "anchor": "x",
         "domain": [
          0,
          1
         ],
         "title": {
          "text": "% de casos identificados por variante"
         }
        }
       }
      },
      "text/html": [
       "<div>                            <div id=\"8eb8c579-ac25-419f-9f17-ca2b355b36c7\" class=\"plotly-graph-div\" style=\"height:525px; width:100%;\"></div>            <script type=\"text/javascript\">                require([\"plotly\"], function(Plotly) {                    window.PLOTLYENV=window.PLOTLYENV || {};                                    if (document.getElementById(\"8eb8c579-ac25-419f-9f17-ca2b355b36c7\")) {                    Plotly.newPlot(                        \"8eb8c579-ac25-419f-9f17-ca2b355b36c7\",                        [{\"groupnorm\": \"percent\", \"hovertemplate\": \"Variante detectada=Alfa<br>fecha_resultado_secuenciacion_genotipificacion=%{x}<br>value=%{y}<extra></extra>\", \"legendgroup\": \"Alfa\", \"line\": {\"color\": \"#636efa\"}, \"mode\": \"lines\", \"name\": \"Alfa\", \"orientation\": \"v\", \"showlegend\": true, \"stackgroup\": \"1\", \"type\": \"scatter\", \"x\": [\"2021-03-21T00:00:00\", \"2021-04-05T00:00:00\", \"2021-04-08T00:00:00\", \"2021-04-19T00:00:00\", \"2021-05-05T00:00:00\", \"2021-05-14T00:00:00\", \"2021-05-19T00:00:00\", \"2021-05-24T00:00:00\", \"2021-05-26T00:00:00\", \"2021-06-09T00:00:00\", \"2021-06-17T00:00:00\", \"2021-06-30T00:00:00\", \"2021-07-07T00:00:00\", \"2021-07-14T00:00:00\", \"2021-07-21T00:00:00\", \"2021-07-28T00:00:00\", \"2021-07-31T00:00:00\", \"2021-08-01T00:00:00\", \"2021-08-03T00:00:00\", \"2021-08-06T00:00:00\", \"2021-08-12T00:00:00\", \"2021-08-13T00:00:00\", \"2021-08-17T00:00:00\", \"2021-08-18T00:00:00\", \"2021-08-21T00:00:00\", \"2021-08-23T00:00:00\", \"2021-08-25T00:00:00\", \"2021-08-26T00:00:00\", \"2021-09-01T00:00:00\"], \"xaxis\": \"x\", \"y\": [0.0, 0.0, 0.0, 0.0, 0.0, 0.0, 0.0, 0.0, 1.0, 1.0, 1.0, 1.0, 1.0, 1.0, 1.0, 1.0, 1.0, 1.0, 1.0, 1.0, 1.0, 1.0, 1.0, 1.0, 1.0, 1.0, 1.0, 1.0, 1.0], \"yaxis\": \"y\"}, {\"groupnorm\": \"percent\", \"hovertemplate\": \"Variante detectada=B.1<br>fecha_resultado_secuenciacion_genotipificacion=%{x}<br>value=%{y}<extra></extra>\", \"legendgroup\": \"B.1\", \"line\": {\"color\": \"#EF553B\"}, \"mode\": \"lines\", \"name\": \"B.1\", \"orientation\": \"v\", \"showlegend\": true, \"stackgroup\": \"1\", \"type\": \"scatter\", \"x\": [\"2021-03-21T00:00:00\", \"2021-04-05T00:00:00\", \"2021-04-08T00:00:00\", \"2021-04-19T00:00:00\", \"2021-05-05T00:00:00\", \"2021-05-14T00:00:00\", \"2021-05-19T00:00:00\", \"2021-05-24T00:00:00\", \"2021-05-26T00:00:00\", \"2021-06-09T00:00:00\", \"2021-06-17T00:00:00\", \"2021-06-30T00:00:00\", \"2021-07-07T00:00:00\", \"2021-07-14T00:00:00\", \"2021-07-21T00:00:00\", \"2021-07-28T00:00:00\", \"2021-07-31T00:00:00\", \"2021-08-01T00:00:00\", \"2021-08-03T00:00:00\", \"2021-08-06T00:00:00\", \"2021-08-12T00:00:00\", \"2021-08-13T00:00:00\", \"2021-08-17T00:00:00\", \"2021-08-18T00:00:00\", \"2021-08-21T00:00:00\", \"2021-08-23T00:00:00\", \"2021-08-25T00:00:00\", \"2021-08-26T00:00:00\", \"2021-09-01T00:00:00\"], \"xaxis\": \"x\", \"y\": [0.0, 0.0, 0.0, 0.0, 0.0, 0.0, 0.0, 0.0, 0.0, 1.0, 1.0, 1.0, 1.0, 1.0, 1.0, 1.0, 1.0, 1.0, 1.0, 1.0, 1.0, 1.0, 1.0, 1.0, 1.0, 1.0, 1.0, 1.0, 1.0], \"yaxis\": \"y\"}, {\"groupnorm\": \"percent\", \"hovertemplate\": \"Variante detectada=B.1.1<br>fecha_resultado_secuenciacion_genotipificacion=%{x}<br>value=%{y}<extra></extra>\", \"legendgroup\": \"B.1.1\", \"line\": {\"color\": \"#00cc96\"}, \"mode\": \"lines\", \"name\": \"B.1.1\", \"orientation\": \"v\", \"showlegend\": true, \"stackgroup\": \"1\", \"type\": \"scatter\", \"x\": [\"2021-03-21T00:00:00\", \"2021-04-05T00:00:00\", \"2021-04-08T00:00:00\", \"2021-04-19T00:00:00\", \"2021-05-05T00:00:00\", \"2021-05-14T00:00:00\", \"2021-05-19T00:00:00\", \"2021-05-24T00:00:00\", \"2021-05-26T00:00:00\", \"2021-06-09T00:00:00\", \"2021-06-17T00:00:00\", \"2021-06-30T00:00:00\", \"2021-07-07T00:00:00\", \"2021-07-14T00:00:00\", \"2021-07-21T00:00:00\", \"2021-07-28T00:00:00\", \"2021-07-31T00:00:00\", \"2021-08-01T00:00:00\", \"2021-08-03T00:00:00\", \"2021-08-06T00:00:00\", \"2021-08-12T00:00:00\", \"2021-08-13T00:00:00\", \"2021-08-17T00:00:00\", \"2021-08-18T00:00:00\", \"2021-08-21T00:00:00\", \"2021-08-23T00:00:00\", \"2021-08-25T00:00:00\", \"2021-08-26T00:00:00\", \"2021-09-01T00:00:00\"], \"xaxis\": \"x\", \"y\": [0.0, 1.0, 1.0, 2.0, 2.0, 2.0, 2.0, 2.0, 4.0, 5.0, 5.0, 5.0, 5.0, 5.0, 5.0, 5.0, 5.0, 5.0, 5.0, 5.0, 5.0, 5.0, 5.0, 5.0, 5.0, 5.0, 5.0, 5.0, 5.0], \"yaxis\": \"y\"}, {\"groupnorm\": \"percent\", \"hovertemplate\": \"Variante detectada=B.1.1.348<br>fecha_resultado_secuenciacion_genotipificacion=%{x}<br>value=%{y}<extra></extra>\", \"legendgroup\": \"B.1.1.348\", \"line\": {\"color\": \"#ab63fa\"}, \"mode\": \"lines\", \"name\": \"B.1.1.348\", \"orientation\": \"v\", \"showlegend\": true, \"stackgroup\": \"1\", \"type\": \"scatter\", \"x\": [\"2021-03-21T00:00:00\", \"2021-04-05T00:00:00\", \"2021-04-08T00:00:00\", \"2021-04-19T00:00:00\", \"2021-05-05T00:00:00\", \"2021-05-14T00:00:00\", \"2021-05-19T00:00:00\", \"2021-05-24T00:00:00\", \"2021-05-26T00:00:00\", \"2021-06-09T00:00:00\", \"2021-06-17T00:00:00\", \"2021-06-30T00:00:00\", \"2021-07-07T00:00:00\", \"2021-07-14T00:00:00\", \"2021-07-21T00:00:00\", \"2021-07-28T00:00:00\", \"2021-07-31T00:00:00\", \"2021-08-01T00:00:00\", \"2021-08-03T00:00:00\", \"2021-08-06T00:00:00\", \"2021-08-12T00:00:00\", \"2021-08-13T00:00:00\", \"2021-08-17T00:00:00\", \"2021-08-18T00:00:00\", \"2021-08-21T00:00:00\", \"2021-08-23T00:00:00\", \"2021-08-25T00:00:00\", \"2021-08-26T00:00:00\", \"2021-09-01T00:00:00\"], \"xaxis\": \"x\", \"y\": [1.0, 2.0, 2.0, 2.0, 2.0, 2.0, 2.0, 2.0, 2.0, 2.0, 2.0, 2.0, 2.0, 2.0, 2.0, 2.0, 2.0, 2.0, 2.0, 2.0, 2.0, 2.0, 2.0, 2.0, 2.0, 2.0, 2.0, 2.0, 2.0], \"yaxis\": \"y\"}, {\"groupnorm\": \"percent\", \"hovertemplate\": \"Variante detectada=Gamma<br>fecha_resultado_secuenciacion_genotipificacion=%{x}<br>value=%{y}<extra></extra>\", \"legendgroup\": \"Gamma\", \"line\": {\"color\": \"#FFA15A\"}, \"mode\": \"lines\", \"name\": \"Gamma\", \"orientation\": \"v\", \"showlegend\": true, \"stackgroup\": \"1\", \"type\": \"scatter\", \"x\": [\"2021-03-21T00:00:00\", \"2021-04-05T00:00:00\", \"2021-04-08T00:00:00\", \"2021-04-19T00:00:00\", \"2021-05-05T00:00:00\", \"2021-05-14T00:00:00\", \"2021-05-19T00:00:00\", \"2021-05-24T00:00:00\", \"2021-05-26T00:00:00\", \"2021-06-09T00:00:00\", \"2021-06-17T00:00:00\", \"2021-06-30T00:00:00\", \"2021-07-07T00:00:00\", \"2021-07-14T00:00:00\", \"2021-07-21T00:00:00\", \"2021-07-28T00:00:00\", \"2021-07-31T00:00:00\", \"2021-08-01T00:00:00\", \"2021-08-03T00:00:00\", \"2021-08-06T00:00:00\", \"2021-08-12T00:00:00\", \"2021-08-13T00:00:00\", \"2021-08-17T00:00:00\", \"2021-08-18T00:00:00\", \"2021-08-21T00:00:00\", \"2021-08-23T00:00:00\", \"2021-08-25T00:00:00\", \"2021-08-26T00:00:00\", \"2021-09-01T00:00:00\"], \"xaxis\": \"x\", \"y\": [0.0, 0.0, 0.0, 0.0, 2.0, 6.0, 9.0, 9.0, 13.0, 20.0, 24.0, 28.0, 32.0, 47.0, 58.0, 60.0, 61.0, 61.0, 62.0, 71.0, 76.0, 82.0, 91.0, 96.0, 100.0, 107.0, 116.0, 122.0, 127.0], \"yaxis\": \"y\"}, {\"groupnorm\": \"percent\", \"hovertemplate\": \"Variante detectada=Indeterminado<br>fecha_resultado_secuenciacion_genotipificacion=%{x}<br>value=%{y}<extra></extra>\", \"legendgroup\": \"Indeterminado\", \"line\": {\"color\": \"#19d3f3\"}, \"mode\": \"lines\", \"name\": \"Indeterminado\", \"orientation\": \"v\", \"showlegend\": true, \"stackgroup\": \"1\", \"type\": \"scatter\", \"x\": [\"2021-03-21T00:00:00\", \"2021-04-05T00:00:00\", \"2021-04-08T00:00:00\", \"2021-04-19T00:00:00\", \"2021-05-05T00:00:00\", \"2021-05-14T00:00:00\", \"2021-05-19T00:00:00\", \"2021-05-24T00:00:00\", \"2021-05-26T00:00:00\", \"2021-06-09T00:00:00\", \"2021-06-17T00:00:00\", \"2021-06-30T00:00:00\", \"2021-07-07T00:00:00\", \"2021-07-14T00:00:00\", \"2021-07-21T00:00:00\", \"2021-07-28T00:00:00\", \"2021-07-31T00:00:00\", \"2021-08-01T00:00:00\", \"2021-08-03T00:00:00\", \"2021-08-06T00:00:00\", \"2021-08-12T00:00:00\", \"2021-08-13T00:00:00\", \"2021-08-17T00:00:00\", \"2021-08-18T00:00:00\", \"2021-08-21T00:00:00\", \"2021-08-23T00:00:00\", \"2021-08-25T00:00:00\", \"2021-08-26T00:00:00\", \"2021-09-01T00:00:00\"], \"xaxis\": \"x\", \"y\": [0.0, 0.0, 0.0, 0.0, 0.0, 0.0, 0.0, 0.0, 0.0, 0.0, 0.0, 0.0, 0.0, 0.0, 0.0, 0.0, 2.0, 2.0, 3.0, 3.0, 3.0, 3.0, 4.0, 4.0, 4.0, 5.0, 5.0, 5.0, 5.0], \"yaxis\": \"y\"}, {\"groupnorm\": \"percent\", \"hovertemplate\": \"Variante detectada=Lambda<br>fecha_resultado_secuenciacion_genotipificacion=%{x}<br>value=%{y}<extra></extra>\", \"legendgroup\": \"Lambda\", \"line\": {\"color\": \"#FF6692\"}, \"mode\": \"lines\", \"name\": \"Lambda\", \"orientation\": \"v\", \"showlegend\": true, \"stackgroup\": \"1\", \"type\": \"scatter\", \"x\": [\"2021-03-21T00:00:00\", \"2021-04-05T00:00:00\", \"2021-04-08T00:00:00\", \"2021-04-19T00:00:00\", \"2021-05-05T00:00:00\", \"2021-05-14T00:00:00\", \"2021-05-19T00:00:00\", \"2021-05-24T00:00:00\", \"2021-05-26T00:00:00\", \"2021-06-09T00:00:00\", \"2021-06-17T00:00:00\", \"2021-06-30T00:00:00\", \"2021-07-07T00:00:00\", \"2021-07-14T00:00:00\", \"2021-07-21T00:00:00\", \"2021-07-28T00:00:00\", \"2021-07-31T00:00:00\", \"2021-08-01T00:00:00\", \"2021-08-03T00:00:00\", \"2021-08-06T00:00:00\", \"2021-08-12T00:00:00\", \"2021-08-13T00:00:00\", \"2021-08-17T00:00:00\", \"2021-08-18T00:00:00\", \"2021-08-21T00:00:00\", \"2021-08-23T00:00:00\", \"2021-08-25T00:00:00\", \"2021-08-26T00:00:00\", \"2021-09-01T00:00:00\"], \"xaxis\": \"x\", \"y\": [0.0, 0.0, 0.0, 3.0, 7.0, 13.0, 17.0, 17.0, 25.0, 27.0, 27.0, 29.0, 35.0, 43.0, 48.0, 48.0, 48.0, 48.0, 48.0, 49.0, 50.0, 50.0, 50.0, 50.0, 50.0, 50.0, 51.0, 51.0, 52.0], \"yaxis\": \"y\"}, {\"groupnorm\": \"percent\", \"hovertemplate\": \"Variante detectada=N.4<br>fecha_resultado_secuenciacion_genotipificacion=%{x}<br>value=%{y}<extra></extra>\", \"legendgroup\": \"N.4\", \"line\": {\"color\": \"#B6E880\"}, \"mode\": \"lines\", \"name\": \"N.4\", \"orientation\": \"v\", \"showlegend\": true, \"stackgroup\": \"1\", \"type\": \"scatter\", \"x\": [\"2021-03-21T00:00:00\", \"2021-04-05T00:00:00\", \"2021-04-08T00:00:00\", \"2021-04-19T00:00:00\", \"2021-05-05T00:00:00\", \"2021-05-14T00:00:00\", \"2021-05-19T00:00:00\", \"2021-05-24T00:00:00\", \"2021-05-26T00:00:00\", \"2021-06-09T00:00:00\", \"2021-06-17T00:00:00\", \"2021-06-30T00:00:00\", \"2021-07-07T00:00:00\", \"2021-07-14T00:00:00\", \"2021-07-21T00:00:00\", \"2021-07-28T00:00:00\", \"2021-07-31T00:00:00\", \"2021-08-01T00:00:00\", \"2021-08-03T00:00:00\", \"2021-08-06T00:00:00\", \"2021-08-12T00:00:00\", \"2021-08-13T00:00:00\", \"2021-08-17T00:00:00\", \"2021-08-18T00:00:00\", \"2021-08-21T00:00:00\", \"2021-08-23T00:00:00\", \"2021-08-25T00:00:00\", \"2021-08-26T00:00:00\", \"2021-09-01T00:00:00\"], \"xaxis\": \"x\", \"y\": [1.0, 1.0, 1.0, 1.0, 1.0, 1.0, 1.0, 1.0, 1.0, 1.0, 1.0, 1.0, 1.0, 1.0, 1.0, 1.0, 1.0, 1.0, 1.0, 1.0, 1.0, 1.0, 1.0, 1.0, 1.0, 1.0, 1.0, 1.0, 1.0], \"yaxis\": \"y\"}, {\"groupnorm\": \"percent\", \"hovertemplate\": \"Variante detectada=No amplifica<br>fecha_resultado_secuenciacion_genotipificacion=%{x}<br>value=%{y}<extra></extra>\", \"legendgroup\": \"No amplifica\", \"line\": {\"color\": \"#FF97FF\"}, \"mode\": \"lines\", \"name\": \"No amplifica\", \"orientation\": \"v\", \"showlegend\": true, \"stackgroup\": \"1\", \"type\": \"scatter\", \"x\": [\"2021-03-21T00:00:00\", \"2021-04-05T00:00:00\", \"2021-04-08T00:00:00\", \"2021-04-19T00:00:00\", \"2021-05-05T00:00:00\", \"2021-05-14T00:00:00\", \"2021-05-19T00:00:00\", \"2021-05-24T00:00:00\", \"2021-05-26T00:00:00\", \"2021-06-09T00:00:00\", \"2021-06-17T00:00:00\", \"2021-06-30T00:00:00\", \"2021-07-07T00:00:00\", \"2021-07-14T00:00:00\", \"2021-07-21T00:00:00\", \"2021-07-28T00:00:00\", \"2021-07-31T00:00:00\", \"2021-08-01T00:00:00\", \"2021-08-03T00:00:00\", \"2021-08-06T00:00:00\", \"2021-08-12T00:00:00\", \"2021-08-13T00:00:00\", \"2021-08-17T00:00:00\", \"2021-08-18T00:00:00\", \"2021-08-21T00:00:00\", \"2021-08-23T00:00:00\", \"2021-08-25T00:00:00\", \"2021-08-26T00:00:00\", \"2021-09-01T00:00:00\"], \"xaxis\": \"x\", \"y\": [0.0, 0.0, 1.0, 1.0, 1.0, 1.0, 1.0, 2.0, 2.0, 2.0, 3.0, 5.0, 10.0, 16.0, 27.0, 27.0, 27.0, 28.0, 28.0, 29.0, 29.0, 29.0, 29.0, 29.0, 29.0, 29.0, 32.0, 32.0, 33.0], \"yaxis\": \"y\"}, {\"groupnorm\": \"percent\", \"hovertemplate\": \"Variante detectada=VOI no detectadas<br>fecha_resultado_secuenciacion_genotipificacion=%{x}<br>value=%{y}<extra></extra>\", \"legendgroup\": \"VOI no detectadas\", \"line\": {\"color\": \"#FECB52\"}, \"mode\": \"lines\", \"name\": \"VOI no detectadas\", \"orientation\": \"v\", \"showlegend\": true, \"stackgroup\": \"1\", \"type\": \"scatter\", \"x\": [\"2021-03-21T00:00:00\", \"2021-04-05T00:00:00\", \"2021-04-08T00:00:00\", \"2021-04-19T00:00:00\", \"2021-05-05T00:00:00\", \"2021-05-14T00:00:00\", \"2021-05-19T00:00:00\", \"2021-05-24T00:00:00\", \"2021-05-26T00:00:00\", \"2021-06-09T00:00:00\", \"2021-06-17T00:00:00\", \"2021-06-30T00:00:00\", \"2021-07-07T00:00:00\", \"2021-07-14T00:00:00\", \"2021-07-21T00:00:00\", \"2021-07-28T00:00:00\", \"2021-07-31T00:00:00\", \"2021-08-01T00:00:00\", \"2021-08-03T00:00:00\", \"2021-08-06T00:00:00\", \"2021-08-12T00:00:00\", \"2021-08-13T00:00:00\", \"2021-08-17T00:00:00\", \"2021-08-18T00:00:00\", \"2021-08-21T00:00:00\", \"2021-08-23T00:00:00\", \"2021-08-25T00:00:00\", \"2021-08-26T00:00:00\", \"2021-09-01T00:00:00\"], \"xaxis\": \"x\", \"y\": [0.0, 0.0, 0.0, 0.0, 0.0, 0.0, 0.0, 0.0, 0.0, 0.0, 0.0, 0.0, 0.0, 0.0, 0.0, 0.0, 0.0, 0.0, 0.0, 0.0, 0.0, 0.0, 0.0, 1.0, 1.0, 1.0, 1.0, 1.0, 1.0], \"yaxis\": \"y\"}],                        {\"legend\": {\"title\": {\"text\": \"Variante detectada\"}, \"tracegroupgap\": 0}, \"margin\": {\"t\": 60}, \"template\": {\"data\": {\"bar\": [{\"error_x\": {\"color\": \"rgb(36,36,36)\"}, \"error_y\": {\"color\": \"rgb(36,36,36)\"}, \"marker\": {\"line\": {\"color\": \"white\", \"width\": 0.5}}, \"type\": \"bar\"}], \"barpolar\": [{\"marker\": {\"line\": {\"color\": \"white\", \"width\": 0.5}}, \"type\": \"barpolar\"}], \"carpet\": [{\"aaxis\": {\"endlinecolor\": \"rgb(36,36,36)\", \"gridcolor\": \"white\", \"linecolor\": \"white\", \"minorgridcolor\": \"white\", \"startlinecolor\": \"rgb(36,36,36)\"}, \"baxis\": {\"endlinecolor\": \"rgb(36,36,36)\", \"gridcolor\": \"white\", \"linecolor\": \"white\", \"minorgridcolor\": \"white\", \"startlinecolor\": \"rgb(36,36,36)\"}, \"type\": \"carpet\"}], \"choropleth\": [{\"colorbar\": {\"outlinewidth\": 1, \"tickcolor\": \"rgb(36,36,36)\", \"ticks\": \"outside\"}, \"type\": \"choropleth\"}], \"contour\": [{\"colorbar\": {\"outlinewidth\": 1, \"tickcolor\": \"rgb(36,36,36)\", \"ticks\": \"outside\"}, \"colorscale\": [[0.0, \"#440154\"], [0.1111111111111111, \"#482878\"], [0.2222222222222222, \"#3e4989\"], [0.3333333333333333, \"#31688e\"], [0.4444444444444444, \"#26828e\"], [0.5555555555555556, \"#1f9e89\"], [0.6666666666666666, \"#35b779\"], [0.7777777777777778, \"#6ece58\"], [0.8888888888888888, \"#b5de2b\"], [1.0, \"#fde725\"]], \"type\": \"contour\"}], \"contourcarpet\": [{\"colorbar\": {\"outlinewidth\": 1, \"tickcolor\": \"rgb(36,36,36)\", \"ticks\": \"outside\"}, \"type\": \"contourcarpet\"}], \"heatmap\": [{\"colorbar\": {\"outlinewidth\": 1, \"tickcolor\": \"rgb(36,36,36)\", \"ticks\": \"outside\"}, \"colorscale\": [[0.0, \"#440154\"], [0.1111111111111111, \"#482878\"], [0.2222222222222222, \"#3e4989\"], [0.3333333333333333, \"#31688e\"], [0.4444444444444444, \"#26828e\"], [0.5555555555555556, \"#1f9e89\"], [0.6666666666666666, \"#35b779\"], [0.7777777777777778, \"#6ece58\"], [0.8888888888888888, \"#b5de2b\"], [1.0, \"#fde725\"]], \"type\": \"heatmap\"}], \"heatmapgl\": [{\"colorbar\": {\"outlinewidth\": 1, \"tickcolor\": \"rgb(36,36,36)\", \"ticks\": \"outside\"}, \"colorscale\": [[0.0, \"#440154\"], [0.1111111111111111, \"#482878\"], [0.2222222222222222, \"#3e4989\"], [0.3333333333333333, \"#31688e\"], [0.4444444444444444, \"#26828e\"], [0.5555555555555556, \"#1f9e89\"], [0.6666666666666666, \"#35b779\"], [0.7777777777777778, \"#6ece58\"], [0.8888888888888888, \"#b5de2b\"], [1.0, \"#fde725\"]], \"type\": \"heatmapgl\"}], \"histogram\": [{\"marker\": {\"line\": {\"color\": \"white\", \"width\": 0.6}}, \"type\": \"histogram\"}], \"histogram2d\": [{\"colorbar\": {\"outlinewidth\": 1, \"tickcolor\": \"rgb(36,36,36)\", \"ticks\": \"outside\"}, \"colorscale\": [[0.0, \"#440154\"], [0.1111111111111111, \"#482878\"], [0.2222222222222222, \"#3e4989\"], [0.3333333333333333, \"#31688e\"], [0.4444444444444444, \"#26828e\"], [0.5555555555555556, \"#1f9e89\"], [0.6666666666666666, \"#35b779\"], [0.7777777777777778, \"#6ece58\"], [0.8888888888888888, \"#b5de2b\"], [1.0, \"#fde725\"]], \"type\": \"histogram2d\"}], \"histogram2dcontour\": [{\"colorbar\": {\"outlinewidth\": 1, \"tickcolor\": \"rgb(36,36,36)\", \"ticks\": \"outside\"}, \"colorscale\": [[0.0, \"#440154\"], [0.1111111111111111, \"#482878\"], [0.2222222222222222, \"#3e4989\"], [0.3333333333333333, \"#31688e\"], [0.4444444444444444, \"#26828e\"], [0.5555555555555556, \"#1f9e89\"], [0.6666666666666666, \"#35b779\"], [0.7777777777777778, \"#6ece58\"], [0.8888888888888888, \"#b5de2b\"], [1.0, \"#fde725\"]], \"type\": \"histogram2dcontour\"}], \"mesh3d\": [{\"colorbar\": {\"outlinewidth\": 1, \"tickcolor\": \"rgb(36,36,36)\", \"ticks\": \"outside\"}, \"type\": \"mesh3d\"}], \"parcoords\": [{\"line\": {\"colorbar\": {\"outlinewidth\": 1, \"tickcolor\": \"rgb(36,36,36)\", \"ticks\": \"outside\"}}, \"type\": \"parcoords\"}], \"pie\": [{\"automargin\": true, \"type\": \"pie\"}], \"scatter\": [{\"marker\": {\"colorbar\": {\"outlinewidth\": 1, \"tickcolor\": \"rgb(36,36,36)\", \"ticks\": \"outside\"}}, \"type\": \"scatter\"}], \"scatter3d\": [{\"line\": {\"colorbar\": {\"outlinewidth\": 1, \"tickcolor\": \"rgb(36,36,36)\", \"ticks\": \"outside\"}}, \"marker\": {\"colorbar\": {\"outlinewidth\": 1, \"tickcolor\": \"rgb(36,36,36)\", \"ticks\": \"outside\"}}, \"type\": \"scatter3d\"}], \"scattercarpet\": [{\"marker\": {\"colorbar\": {\"outlinewidth\": 1, \"tickcolor\": \"rgb(36,36,36)\", \"ticks\": \"outside\"}}, \"type\": \"scattercarpet\"}], \"scattergeo\": [{\"marker\": {\"colorbar\": {\"outlinewidth\": 1, \"tickcolor\": \"rgb(36,36,36)\", \"ticks\": \"outside\"}}, \"type\": \"scattergeo\"}], \"scattergl\": [{\"marker\": {\"colorbar\": {\"outlinewidth\": 1, \"tickcolor\": \"rgb(36,36,36)\", \"ticks\": \"outside\"}}, \"type\": \"scattergl\"}], \"scattermapbox\": [{\"marker\": {\"colorbar\": {\"outlinewidth\": 1, \"tickcolor\": \"rgb(36,36,36)\", \"ticks\": \"outside\"}}, \"type\": \"scattermapbox\"}], \"scatterpolar\": [{\"marker\": {\"colorbar\": {\"outlinewidth\": 1, \"tickcolor\": \"rgb(36,36,36)\", \"ticks\": \"outside\"}}, \"type\": \"scatterpolar\"}], \"scatterpolargl\": [{\"marker\": {\"colorbar\": {\"outlinewidth\": 1, \"tickcolor\": \"rgb(36,36,36)\", \"ticks\": \"outside\"}}, \"type\": \"scatterpolargl\"}], \"scatterternary\": [{\"marker\": {\"colorbar\": {\"outlinewidth\": 1, \"tickcolor\": \"rgb(36,36,36)\", \"ticks\": \"outside\"}}, \"type\": \"scatterternary\"}], \"surface\": [{\"colorbar\": {\"outlinewidth\": 1, \"tickcolor\": \"rgb(36,36,36)\", \"ticks\": \"outside\"}, \"colorscale\": [[0.0, \"#440154\"], [0.1111111111111111, \"#482878\"], [0.2222222222222222, \"#3e4989\"], [0.3333333333333333, \"#31688e\"], [0.4444444444444444, \"#26828e\"], [0.5555555555555556, \"#1f9e89\"], [0.6666666666666666, \"#35b779\"], [0.7777777777777778, \"#6ece58\"], [0.8888888888888888, \"#b5de2b\"], [1.0, \"#fde725\"]], \"type\": \"surface\"}], \"table\": [{\"cells\": {\"fill\": {\"color\": \"rgb(237,237,237)\"}, \"line\": {\"color\": \"white\"}}, \"header\": {\"fill\": {\"color\": \"rgb(217,217,217)\"}, \"line\": {\"color\": \"white\"}}, \"type\": \"table\"}]}, \"layout\": {\"annotationdefaults\": {\"arrowhead\": 0, \"arrowwidth\": 1}, \"autotypenumbers\": \"strict\", \"coloraxis\": {\"colorbar\": {\"outlinewidth\": 1, \"tickcolor\": \"rgb(36,36,36)\", \"ticks\": \"outside\"}}, \"colorscale\": {\"diverging\": [[0.0, \"rgb(103,0,31)\"], [0.1, \"rgb(178,24,43)\"], [0.2, \"rgb(214,96,77)\"], [0.3, \"rgb(244,165,130)\"], [0.4, \"rgb(253,219,199)\"], [0.5, \"rgb(247,247,247)\"], [0.6, \"rgb(209,229,240)\"], [0.7, \"rgb(146,197,222)\"], [0.8, \"rgb(67,147,195)\"], [0.9, \"rgb(33,102,172)\"], [1.0, \"rgb(5,48,97)\"]], \"sequential\": [[0.0, \"#440154\"], [0.1111111111111111, \"#482878\"], [0.2222222222222222, \"#3e4989\"], [0.3333333333333333, \"#31688e\"], [0.4444444444444444, \"#26828e\"], [0.5555555555555556, \"#1f9e89\"], [0.6666666666666666, \"#35b779\"], [0.7777777777777778, \"#6ece58\"], [0.8888888888888888, \"#b5de2b\"], [1.0, \"#fde725\"]], \"sequentialminus\": [[0.0, \"#440154\"], [0.1111111111111111, \"#482878\"], [0.2222222222222222, \"#3e4989\"], [0.3333333333333333, \"#31688e\"], [0.4444444444444444, \"#26828e\"], [0.5555555555555556, \"#1f9e89\"], [0.6666666666666666, \"#35b779\"], [0.7777777777777778, \"#6ece58\"], [0.8888888888888888, \"#b5de2b\"], [1.0, \"#fde725\"]]}, \"colorway\": [\"#1F77B4\", \"#FF7F0E\", \"#2CA02C\", \"#D62728\", \"#9467BD\", \"#8C564B\", \"#E377C2\", \"#7F7F7F\", \"#BCBD22\", \"#17BECF\"], \"font\": {\"color\": \"rgb(36,36,36)\"}, \"geo\": {\"bgcolor\": \"white\", \"lakecolor\": \"white\", \"landcolor\": \"white\", \"showlakes\": true, \"showland\": true, \"subunitcolor\": \"white\"}, \"hoverlabel\": {\"align\": \"left\"}, \"hovermode\": \"closest\", \"mapbox\": {\"style\": \"light\"}, \"paper_bgcolor\": \"white\", \"plot_bgcolor\": \"white\", \"polar\": {\"angularaxis\": {\"gridcolor\": \"rgb(232,232,232)\", \"linecolor\": \"rgb(36,36,36)\", \"showgrid\": false, \"showline\": true, \"ticks\": \"outside\"}, \"bgcolor\": \"white\", \"radialaxis\": {\"gridcolor\": \"rgb(232,232,232)\", \"linecolor\": \"rgb(36,36,36)\", \"showgrid\": false, \"showline\": true, \"ticks\": \"outside\"}}, \"scene\": {\"xaxis\": {\"backgroundcolor\": \"white\", \"gridcolor\": \"rgb(232,232,232)\", \"gridwidth\": 2, \"linecolor\": \"rgb(36,36,36)\", \"showbackground\": true, \"showgrid\": false, \"showline\": true, \"ticks\": \"outside\", \"zeroline\": false, \"zerolinecolor\": \"rgb(36,36,36)\"}, \"yaxis\": {\"backgroundcolor\": \"white\", \"gridcolor\": \"rgb(232,232,232)\", \"gridwidth\": 2, \"linecolor\": \"rgb(36,36,36)\", \"showbackground\": true, \"showgrid\": false, \"showline\": true, \"ticks\": \"outside\", \"zeroline\": false, \"zerolinecolor\": \"rgb(36,36,36)\"}, \"zaxis\": {\"backgroundcolor\": \"white\", \"gridcolor\": \"rgb(232,232,232)\", \"gridwidth\": 2, \"linecolor\": \"rgb(36,36,36)\", \"showbackground\": true, \"showgrid\": false, \"showline\": true, \"ticks\": \"outside\", \"zeroline\": false, \"zerolinecolor\": \"rgb(36,36,36)\"}}, \"shapedefaults\": {\"fillcolor\": \"black\", \"line\": {\"width\": 0}, \"opacity\": 0.3}, \"ternary\": {\"aaxis\": {\"gridcolor\": \"rgb(232,232,232)\", \"linecolor\": \"rgb(36,36,36)\", \"showgrid\": false, \"showline\": true, \"ticks\": \"outside\"}, \"baxis\": {\"gridcolor\": \"rgb(232,232,232)\", \"linecolor\": \"rgb(36,36,36)\", \"showgrid\": false, \"showline\": true, \"ticks\": \"outside\"}, \"bgcolor\": \"white\", \"caxis\": {\"gridcolor\": \"rgb(232,232,232)\", \"linecolor\": \"rgb(36,36,36)\", \"showgrid\": false, \"showline\": true, \"ticks\": \"outside\"}}, \"title\": {\"x\": 0.05}, \"xaxis\": {\"automargin\": true, \"gridcolor\": \"rgb(232,232,232)\", \"linecolor\": \"rgb(36,36,36)\", \"showgrid\": false, \"showline\": true, \"ticks\": \"outside\", \"title\": {\"standoff\": 15}, \"zeroline\": false, \"zerolinecolor\": \"rgb(36,36,36)\"}, \"yaxis\": {\"automargin\": true, \"gridcolor\": \"rgb(232,232,232)\", \"linecolor\": \"rgb(36,36,36)\", \"showgrid\": false, \"showline\": true, \"ticks\": \"outside\", \"title\": {\"standoff\": 15}, \"zeroline\": false, \"zerolinecolor\": \"rgb(36,36,36)\"}}}, \"title\": {\"text\": \"Variantes detectadas en la Regi\\u00f3n de Ays\\u00e9n\"}, \"xaxis\": {\"anchor\": \"y\", \"domain\": [0.0, 1.0], \"title\": {\"text\": \"Fecha de resultado de Secuenciaci\\u00f3n o Genotipificaci\\u00f3n\"}}, \"yaxis\": {\"anchor\": \"x\", \"domain\": [0.0, 1.0], \"title\": {\"text\": \"% de casos identificados por variante\"}}},                        {\"responsive\": true}                    ).then(function(){\n",
       "                            \n",
       "var gd = document.getElementById('8eb8c579-ac25-419f-9f17-ca2b355b36c7');\n",
       "var x = new MutationObserver(function (mutations, observer) {{\n",
       "        var display = window.getComputedStyle(gd).display;\n",
       "        if (!display || display === 'none') {{\n",
       "            console.log([gd, 'removed!']);\n",
       "            Plotly.purge(gd);\n",
       "            observer.disconnect();\n",
       "        }}\n",
       "}});\n",
       "\n",
       "// Listen for the removal of the full notebook cells\n",
       "var notebookContainer = gd.closest('#notebook-container');\n",
       "if (notebookContainer) {{\n",
       "    x.observe(notebookContainer, {childList: true});\n",
       "}}\n",
       "\n",
       "// Listen for the clearing of the current output cell\n",
       "var outputEl = gd.closest('.output');\n",
       "if (outputEl) {{\n",
       "    x.observe(outputEl, {childList: true});\n",
       "}}\n",
       "\n",
       "                        })                };                });            </script>        </div>"
      ]
     },
     "metadata": {},
     "output_type": "display_data"
    }
   ],
   "source": [
    "px.area(df_variantes_clean.groupby(['fecha_resultado_secuenciacion_genotipificacion', 'variante_linaje']).count()[['n_documento']].reset_index().pivot(\n",
    "    index='fecha_resultado_secuenciacion_genotipificacion',\n",
    "    columns='variante_linaje', \n",
    "    values=['n_documento']\n",
    ").fillna(0).cumsum().clean_names().rename(\n",
    "    columns={\n",
    "        'alfa':'Alfa',\n",
    "        'b_1':'B.1',\n",
    "        'b_1_1':'B.1.1',\n",
    "        'b_1_1_348':'B.1.1.348',\n",
    "        'gamma':'Gamma',\n",
    "        'indeterminado':'Indeterminado',\n",
    "        'lambda':'Lambda',\n",
    "        'n_4':'N.4',\n",
    "        'no_amplifica':'No amplifica',\n",
    "        'no_se_detectan_mutaciones_para_variantes_de_interes_por_parte_de_este_kit':'VOI no detectadas'\n",
    "            })['n_documento'],\n",
    "        labels={'variante_linaje':'Variante detectada'},\n",
    "        groupnorm='percent'\n",
    "       ).update_layout(\n",
    "    title= 'Variantes detectadas en la Región de Aysén',\n",
    "    yaxis_title='% de casos identificados por variante',\n",
    "    xaxis_title='Fecha de resultado de Secuenciación o Genotipificación',\n",
    "    template='simple_white',\n",
    "    \n",
    "    \n",
    ")"
   ]
  },
  {
   "cell_type": "code",
   "execution_count": 136,
   "id": "c87b762a",
   "metadata": {},
   "outputs": [
    {
     "data": {
      "application/vnd.plotly.v1+json": {
       "config": {
        "plotlyServerURL": "https://plot.ly"
       },
       "data": [
        {
         "groupnorm": "percent",
         "hovertemplate": "Variante detectada=Alfa<br>fecha_resultado_secuenciacion_genotipificacion=%{x}<br>value=%{y}<extra></extra>",
         "legendgroup": "Alfa",
         "line": {
          "color": "#636efa"
         },
         "mode": "lines",
         "name": "Alfa",
         "orientation": "v",
         "showlegend": true,
         "stackgroup": "1",
         "type": "scatter",
         "x": [
          "2021-03-21T00:00:00",
          "2021-04-05T00:00:00",
          "2021-04-08T00:00:00",
          "2021-04-19T00:00:00",
          "2021-05-05T00:00:00",
          "2021-05-14T00:00:00",
          "2021-05-19T00:00:00",
          "2021-05-24T00:00:00",
          "2021-05-26T00:00:00",
          "2021-06-09T00:00:00",
          "2021-06-17T00:00:00",
          "2021-06-30T00:00:00",
          "2021-07-07T00:00:00",
          "2021-07-14T00:00:00",
          "2021-07-21T00:00:00",
          "2021-07-28T00:00:00",
          "2021-07-31T00:00:00",
          "2021-08-01T00:00:00",
          "2021-08-03T00:00:00",
          "2021-08-06T00:00:00",
          "2021-08-12T00:00:00",
          "2021-08-13T00:00:00",
          "2021-08-17T00:00:00",
          "2021-08-18T00:00:00",
          "2021-08-21T00:00:00",
          "2021-08-23T00:00:00",
          "2021-08-25T00:00:00",
          "2021-08-26T00:00:00",
          "2021-09-01T00:00:00"
         ],
         "xaxis": "x",
         "y": [
          0,
          0,
          0,
          0,
          0,
          0,
          0,
          0,
          1,
          1,
          1,
          1,
          1,
          1,
          1,
          1,
          1,
          1,
          1,
          1,
          1,
          1,
          1,
          1,
          1,
          1,
          1,
          1,
          1
         ],
         "yaxis": "y"
        },
        {
         "groupnorm": "percent",
         "hovertemplate": "Variante detectada=B.1<br>fecha_resultado_secuenciacion_genotipificacion=%{x}<br>value=%{y}<extra></extra>",
         "legendgroup": "B.1",
         "line": {
          "color": "#EF553B"
         },
         "mode": "lines",
         "name": "B.1",
         "orientation": "v",
         "showlegend": true,
         "stackgroup": "1",
         "type": "scatter",
         "x": [
          "2021-03-21T00:00:00",
          "2021-04-05T00:00:00",
          "2021-04-08T00:00:00",
          "2021-04-19T00:00:00",
          "2021-05-05T00:00:00",
          "2021-05-14T00:00:00",
          "2021-05-19T00:00:00",
          "2021-05-24T00:00:00",
          "2021-05-26T00:00:00",
          "2021-06-09T00:00:00",
          "2021-06-17T00:00:00",
          "2021-06-30T00:00:00",
          "2021-07-07T00:00:00",
          "2021-07-14T00:00:00",
          "2021-07-21T00:00:00",
          "2021-07-28T00:00:00",
          "2021-07-31T00:00:00",
          "2021-08-01T00:00:00",
          "2021-08-03T00:00:00",
          "2021-08-06T00:00:00",
          "2021-08-12T00:00:00",
          "2021-08-13T00:00:00",
          "2021-08-17T00:00:00",
          "2021-08-18T00:00:00",
          "2021-08-21T00:00:00",
          "2021-08-23T00:00:00",
          "2021-08-25T00:00:00",
          "2021-08-26T00:00:00",
          "2021-09-01T00:00:00"
         ],
         "xaxis": "x",
         "y": [
          0,
          0,
          0,
          0,
          0,
          0,
          0,
          0,
          0,
          1,
          1,
          1,
          1,
          1,
          1,
          1,
          1,
          1,
          1,
          1,
          1,
          1,
          1,
          1,
          1,
          1,
          1,
          1,
          1
         ],
         "yaxis": "y"
        },
        {
         "groupnorm": "percent",
         "hovertemplate": "Variante detectada=B.1.1<br>fecha_resultado_secuenciacion_genotipificacion=%{x}<br>value=%{y}<extra></extra>",
         "legendgroup": "B.1.1",
         "line": {
          "color": "#00cc96"
         },
         "mode": "lines",
         "name": "B.1.1",
         "orientation": "v",
         "showlegend": true,
         "stackgroup": "1",
         "type": "scatter",
         "x": [
          "2021-03-21T00:00:00",
          "2021-04-05T00:00:00",
          "2021-04-08T00:00:00",
          "2021-04-19T00:00:00",
          "2021-05-05T00:00:00",
          "2021-05-14T00:00:00",
          "2021-05-19T00:00:00",
          "2021-05-24T00:00:00",
          "2021-05-26T00:00:00",
          "2021-06-09T00:00:00",
          "2021-06-17T00:00:00",
          "2021-06-30T00:00:00",
          "2021-07-07T00:00:00",
          "2021-07-14T00:00:00",
          "2021-07-21T00:00:00",
          "2021-07-28T00:00:00",
          "2021-07-31T00:00:00",
          "2021-08-01T00:00:00",
          "2021-08-03T00:00:00",
          "2021-08-06T00:00:00",
          "2021-08-12T00:00:00",
          "2021-08-13T00:00:00",
          "2021-08-17T00:00:00",
          "2021-08-18T00:00:00",
          "2021-08-21T00:00:00",
          "2021-08-23T00:00:00",
          "2021-08-25T00:00:00",
          "2021-08-26T00:00:00",
          "2021-09-01T00:00:00"
         ],
         "xaxis": "x",
         "y": [
          0,
          1,
          1,
          2,
          2,
          2,
          2,
          2,
          4,
          5,
          5,
          5,
          5,
          5,
          5,
          5,
          5,
          5,
          5,
          5,
          5,
          5,
          5,
          5,
          5,
          5,
          5,
          5,
          5
         ],
         "yaxis": "y"
        },
        {
         "groupnorm": "percent",
         "hovertemplate": "Variante detectada=B.1.1.348<br>fecha_resultado_secuenciacion_genotipificacion=%{x}<br>value=%{y}<extra></extra>",
         "legendgroup": "B.1.1.348",
         "line": {
          "color": "#ab63fa"
         },
         "mode": "lines",
         "name": "B.1.1.348",
         "orientation": "v",
         "showlegend": true,
         "stackgroup": "1",
         "type": "scatter",
         "x": [
          "2021-03-21T00:00:00",
          "2021-04-05T00:00:00",
          "2021-04-08T00:00:00",
          "2021-04-19T00:00:00",
          "2021-05-05T00:00:00",
          "2021-05-14T00:00:00",
          "2021-05-19T00:00:00",
          "2021-05-24T00:00:00",
          "2021-05-26T00:00:00",
          "2021-06-09T00:00:00",
          "2021-06-17T00:00:00",
          "2021-06-30T00:00:00",
          "2021-07-07T00:00:00",
          "2021-07-14T00:00:00",
          "2021-07-21T00:00:00",
          "2021-07-28T00:00:00",
          "2021-07-31T00:00:00",
          "2021-08-01T00:00:00",
          "2021-08-03T00:00:00",
          "2021-08-06T00:00:00",
          "2021-08-12T00:00:00",
          "2021-08-13T00:00:00",
          "2021-08-17T00:00:00",
          "2021-08-18T00:00:00",
          "2021-08-21T00:00:00",
          "2021-08-23T00:00:00",
          "2021-08-25T00:00:00",
          "2021-08-26T00:00:00",
          "2021-09-01T00:00:00"
         ],
         "xaxis": "x",
         "y": [
          1,
          2,
          2,
          2,
          2,
          2,
          2,
          2,
          2,
          2,
          2,
          2,
          2,
          2,
          2,
          2,
          2,
          2,
          2,
          2,
          2,
          2,
          2,
          2,
          2,
          2,
          2,
          2,
          2
         ],
         "yaxis": "y"
        },
        {
         "groupnorm": "percent",
         "hovertemplate": "Variante detectada=Gamma<br>fecha_resultado_secuenciacion_genotipificacion=%{x}<br>value=%{y}<extra></extra>",
         "legendgroup": "Gamma",
         "line": {
          "color": "#FFA15A"
         },
         "mode": "lines",
         "name": "Gamma",
         "orientation": "v",
         "showlegend": true,
         "stackgroup": "1",
         "type": "scatter",
         "x": [
          "2021-03-21T00:00:00",
          "2021-04-05T00:00:00",
          "2021-04-08T00:00:00",
          "2021-04-19T00:00:00",
          "2021-05-05T00:00:00",
          "2021-05-14T00:00:00",
          "2021-05-19T00:00:00",
          "2021-05-24T00:00:00",
          "2021-05-26T00:00:00",
          "2021-06-09T00:00:00",
          "2021-06-17T00:00:00",
          "2021-06-30T00:00:00",
          "2021-07-07T00:00:00",
          "2021-07-14T00:00:00",
          "2021-07-21T00:00:00",
          "2021-07-28T00:00:00",
          "2021-07-31T00:00:00",
          "2021-08-01T00:00:00",
          "2021-08-03T00:00:00",
          "2021-08-06T00:00:00",
          "2021-08-12T00:00:00",
          "2021-08-13T00:00:00",
          "2021-08-17T00:00:00",
          "2021-08-18T00:00:00",
          "2021-08-21T00:00:00",
          "2021-08-23T00:00:00",
          "2021-08-25T00:00:00",
          "2021-08-26T00:00:00",
          "2021-09-01T00:00:00"
         ],
         "xaxis": "x",
         "y": [
          0,
          0,
          0,
          0,
          2,
          6,
          9,
          9,
          13,
          20,
          24,
          28,
          32,
          47,
          58,
          60,
          61,
          61,
          62,
          71,
          76,
          82,
          91,
          96,
          100,
          107,
          116,
          122,
          127
         ],
         "yaxis": "y"
        },
        {
         "groupnorm": "percent",
         "hovertemplate": "Variante detectada=Lambda<br>fecha_resultado_secuenciacion_genotipificacion=%{x}<br>value=%{y}<extra></extra>",
         "legendgroup": "Lambda",
         "line": {
          "color": "#19d3f3"
         },
         "mode": "lines",
         "name": "Lambda",
         "orientation": "v",
         "showlegend": true,
         "stackgroup": "1",
         "type": "scatter",
         "x": [
          "2021-03-21T00:00:00",
          "2021-04-05T00:00:00",
          "2021-04-08T00:00:00",
          "2021-04-19T00:00:00",
          "2021-05-05T00:00:00",
          "2021-05-14T00:00:00",
          "2021-05-19T00:00:00",
          "2021-05-24T00:00:00",
          "2021-05-26T00:00:00",
          "2021-06-09T00:00:00",
          "2021-06-17T00:00:00",
          "2021-06-30T00:00:00",
          "2021-07-07T00:00:00",
          "2021-07-14T00:00:00",
          "2021-07-21T00:00:00",
          "2021-07-28T00:00:00",
          "2021-07-31T00:00:00",
          "2021-08-01T00:00:00",
          "2021-08-03T00:00:00",
          "2021-08-06T00:00:00",
          "2021-08-12T00:00:00",
          "2021-08-13T00:00:00",
          "2021-08-17T00:00:00",
          "2021-08-18T00:00:00",
          "2021-08-21T00:00:00",
          "2021-08-23T00:00:00",
          "2021-08-25T00:00:00",
          "2021-08-26T00:00:00",
          "2021-09-01T00:00:00"
         ],
         "xaxis": "x",
         "y": [
          0,
          0,
          0,
          3,
          7,
          13,
          17,
          17,
          25,
          27,
          27,
          29,
          35,
          43,
          48,
          48,
          48,
          48,
          48,
          49,
          50,
          50,
          50,
          50,
          50,
          50,
          51,
          51,
          52
         ],
         "yaxis": "y"
        },
        {
         "groupnorm": "percent",
         "hovertemplate": "Variante detectada=N.4<br>fecha_resultado_secuenciacion_genotipificacion=%{x}<br>value=%{y}<extra></extra>",
         "legendgroup": "N.4",
         "line": {
          "color": "#FF6692"
         },
         "mode": "lines",
         "name": "N.4",
         "orientation": "v",
         "showlegend": true,
         "stackgroup": "1",
         "type": "scatter",
         "x": [
          "2021-03-21T00:00:00",
          "2021-04-05T00:00:00",
          "2021-04-08T00:00:00",
          "2021-04-19T00:00:00",
          "2021-05-05T00:00:00",
          "2021-05-14T00:00:00",
          "2021-05-19T00:00:00",
          "2021-05-24T00:00:00",
          "2021-05-26T00:00:00",
          "2021-06-09T00:00:00",
          "2021-06-17T00:00:00",
          "2021-06-30T00:00:00",
          "2021-07-07T00:00:00",
          "2021-07-14T00:00:00",
          "2021-07-21T00:00:00",
          "2021-07-28T00:00:00",
          "2021-07-31T00:00:00",
          "2021-08-01T00:00:00",
          "2021-08-03T00:00:00",
          "2021-08-06T00:00:00",
          "2021-08-12T00:00:00",
          "2021-08-13T00:00:00",
          "2021-08-17T00:00:00",
          "2021-08-18T00:00:00",
          "2021-08-21T00:00:00",
          "2021-08-23T00:00:00",
          "2021-08-25T00:00:00",
          "2021-08-26T00:00:00",
          "2021-09-01T00:00:00"
         ],
         "xaxis": "x",
         "y": [
          1,
          1,
          1,
          1,
          1,
          1,
          1,
          1,
          1,
          1,
          1,
          1,
          1,
          1,
          1,
          1,
          1,
          1,
          1,
          1,
          1,
          1,
          1,
          1,
          1,
          1,
          1,
          1,
          1
         ],
         "yaxis": "y"
        },
        {
         "groupnorm": "percent",
         "hovertemplate": "Variante detectada=VOI no detectadas<br>fecha_resultado_secuenciacion_genotipificacion=%{x}<br>value=%{y}<extra></extra>",
         "legendgroup": "VOI no detectadas",
         "line": {
          "color": "#B6E880"
         },
         "mode": "lines",
         "name": "VOI no detectadas",
         "orientation": "v",
         "showlegend": true,
         "stackgroup": "1",
         "type": "scatter",
         "x": [
          "2021-03-21T00:00:00",
          "2021-04-05T00:00:00",
          "2021-04-08T00:00:00",
          "2021-04-19T00:00:00",
          "2021-05-05T00:00:00",
          "2021-05-14T00:00:00",
          "2021-05-19T00:00:00",
          "2021-05-24T00:00:00",
          "2021-05-26T00:00:00",
          "2021-06-09T00:00:00",
          "2021-06-17T00:00:00",
          "2021-06-30T00:00:00",
          "2021-07-07T00:00:00",
          "2021-07-14T00:00:00",
          "2021-07-21T00:00:00",
          "2021-07-28T00:00:00",
          "2021-07-31T00:00:00",
          "2021-08-01T00:00:00",
          "2021-08-03T00:00:00",
          "2021-08-06T00:00:00",
          "2021-08-12T00:00:00",
          "2021-08-13T00:00:00",
          "2021-08-17T00:00:00",
          "2021-08-18T00:00:00",
          "2021-08-21T00:00:00",
          "2021-08-23T00:00:00",
          "2021-08-25T00:00:00",
          "2021-08-26T00:00:00",
          "2021-09-01T00:00:00"
         ],
         "xaxis": "x",
         "y": [
          0,
          0,
          0,
          0,
          0,
          0,
          0,
          0,
          0,
          0,
          0,
          0,
          0,
          0,
          0,
          0,
          0,
          0,
          0,
          0,
          0,
          0,
          0,
          1,
          1,
          1,
          1,
          1,
          1
         ],
         "yaxis": "y"
        }
       ],
       "layout": {
        "legend": {
         "title": {
          "text": "Variante detectada"
         },
         "tracegroupgap": 0
        },
        "margin": {
         "t": 60
        },
        "template": {
         "data": {
          "bar": [
           {
            "error_x": {
             "color": "rgb(36,36,36)"
            },
            "error_y": {
             "color": "rgb(36,36,36)"
            },
            "marker": {
             "line": {
              "color": "white",
              "width": 0.5
             }
            },
            "type": "bar"
           }
          ],
          "barpolar": [
           {
            "marker": {
             "line": {
              "color": "white",
              "width": 0.5
             }
            },
            "type": "barpolar"
           }
          ],
          "carpet": [
           {
            "aaxis": {
             "endlinecolor": "rgb(36,36,36)",
             "gridcolor": "white",
             "linecolor": "white",
             "minorgridcolor": "white",
             "startlinecolor": "rgb(36,36,36)"
            },
            "baxis": {
             "endlinecolor": "rgb(36,36,36)",
             "gridcolor": "white",
             "linecolor": "white",
             "minorgridcolor": "white",
             "startlinecolor": "rgb(36,36,36)"
            },
            "type": "carpet"
           }
          ],
          "choropleth": [
           {
            "colorbar": {
             "outlinewidth": 1,
             "tickcolor": "rgb(36,36,36)",
             "ticks": "outside"
            },
            "type": "choropleth"
           }
          ],
          "contour": [
           {
            "colorbar": {
             "outlinewidth": 1,
             "tickcolor": "rgb(36,36,36)",
             "ticks": "outside"
            },
            "colorscale": [
             [
              0,
              "#440154"
             ],
             [
              0.1111111111111111,
              "#482878"
             ],
             [
              0.2222222222222222,
              "#3e4989"
             ],
             [
              0.3333333333333333,
              "#31688e"
             ],
             [
              0.4444444444444444,
              "#26828e"
             ],
             [
              0.5555555555555556,
              "#1f9e89"
             ],
             [
              0.6666666666666666,
              "#35b779"
             ],
             [
              0.7777777777777778,
              "#6ece58"
             ],
             [
              0.8888888888888888,
              "#b5de2b"
             ],
             [
              1,
              "#fde725"
             ]
            ],
            "type": "contour"
           }
          ],
          "contourcarpet": [
           {
            "colorbar": {
             "outlinewidth": 1,
             "tickcolor": "rgb(36,36,36)",
             "ticks": "outside"
            },
            "type": "contourcarpet"
           }
          ],
          "heatmap": [
           {
            "colorbar": {
             "outlinewidth": 1,
             "tickcolor": "rgb(36,36,36)",
             "ticks": "outside"
            },
            "colorscale": [
             [
              0,
              "#440154"
             ],
             [
              0.1111111111111111,
              "#482878"
             ],
             [
              0.2222222222222222,
              "#3e4989"
             ],
             [
              0.3333333333333333,
              "#31688e"
             ],
             [
              0.4444444444444444,
              "#26828e"
             ],
             [
              0.5555555555555556,
              "#1f9e89"
             ],
             [
              0.6666666666666666,
              "#35b779"
             ],
             [
              0.7777777777777778,
              "#6ece58"
             ],
             [
              0.8888888888888888,
              "#b5de2b"
             ],
             [
              1,
              "#fde725"
             ]
            ],
            "type": "heatmap"
           }
          ],
          "heatmapgl": [
           {
            "colorbar": {
             "outlinewidth": 1,
             "tickcolor": "rgb(36,36,36)",
             "ticks": "outside"
            },
            "colorscale": [
             [
              0,
              "#440154"
             ],
             [
              0.1111111111111111,
              "#482878"
             ],
             [
              0.2222222222222222,
              "#3e4989"
             ],
             [
              0.3333333333333333,
              "#31688e"
             ],
             [
              0.4444444444444444,
              "#26828e"
             ],
             [
              0.5555555555555556,
              "#1f9e89"
             ],
             [
              0.6666666666666666,
              "#35b779"
             ],
             [
              0.7777777777777778,
              "#6ece58"
             ],
             [
              0.8888888888888888,
              "#b5de2b"
             ],
             [
              1,
              "#fde725"
             ]
            ],
            "type": "heatmapgl"
           }
          ],
          "histogram": [
           {
            "marker": {
             "line": {
              "color": "white",
              "width": 0.6
             }
            },
            "type": "histogram"
           }
          ],
          "histogram2d": [
           {
            "colorbar": {
             "outlinewidth": 1,
             "tickcolor": "rgb(36,36,36)",
             "ticks": "outside"
            },
            "colorscale": [
             [
              0,
              "#440154"
             ],
             [
              0.1111111111111111,
              "#482878"
             ],
             [
              0.2222222222222222,
              "#3e4989"
             ],
             [
              0.3333333333333333,
              "#31688e"
             ],
             [
              0.4444444444444444,
              "#26828e"
             ],
             [
              0.5555555555555556,
              "#1f9e89"
             ],
             [
              0.6666666666666666,
              "#35b779"
             ],
             [
              0.7777777777777778,
              "#6ece58"
             ],
             [
              0.8888888888888888,
              "#b5de2b"
             ],
             [
              1,
              "#fde725"
             ]
            ],
            "type": "histogram2d"
           }
          ],
          "histogram2dcontour": [
           {
            "colorbar": {
             "outlinewidth": 1,
             "tickcolor": "rgb(36,36,36)",
             "ticks": "outside"
            },
            "colorscale": [
             [
              0,
              "#440154"
             ],
             [
              0.1111111111111111,
              "#482878"
             ],
             [
              0.2222222222222222,
              "#3e4989"
             ],
             [
              0.3333333333333333,
              "#31688e"
             ],
             [
              0.4444444444444444,
              "#26828e"
             ],
             [
              0.5555555555555556,
              "#1f9e89"
             ],
             [
              0.6666666666666666,
              "#35b779"
             ],
             [
              0.7777777777777778,
              "#6ece58"
             ],
             [
              0.8888888888888888,
              "#b5de2b"
             ],
             [
              1,
              "#fde725"
             ]
            ],
            "type": "histogram2dcontour"
           }
          ],
          "mesh3d": [
           {
            "colorbar": {
             "outlinewidth": 1,
             "tickcolor": "rgb(36,36,36)",
             "ticks": "outside"
            },
            "type": "mesh3d"
           }
          ],
          "parcoords": [
           {
            "line": {
             "colorbar": {
              "outlinewidth": 1,
              "tickcolor": "rgb(36,36,36)",
              "ticks": "outside"
             }
            },
            "type": "parcoords"
           }
          ],
          "pie": [
           {
            "automargin": true,
            "type": "pie"
           }
          ],
          "scatter": [
           {
            "marker": {
             "colorbar": {
              "outlinewidth": 1,
              "tickcolor": "rgb(36,36,36)",
              "ticks": "outside"
             }
            },
            "type": "scatter"
           }
          ],
          "scatter3d": [
           {
            "line": {
             "colorbar": {
              "outlinewidth": 1,
              "tickcolor": "rgb(36,36,36)",
              "ticks": "outside"
             }
            },
            "marker": {
             "colorbar": {
              "outlinewidth": 1,
              "tickcolor": "rgb(36,36,36)",
              "ticks": "outside"
             }
            },
            "type": "scatter3d"
           }
          ],
          "scattercarpet": [
           {
            "marker": {
             "colorbar": {
              "outlinewidth": 1,
              "tickcolor": "rgb(36,36,36)",
              "ticks": "outside"
             }
            },
            "type": "scattercarpet"
           }
          ],
          "scattergeo": [
           {
            "marker": {
             "colorbar": {
              "outlinewidth": 1,
              "tickcolor": "rgb(36,36,36)",
              "ticks": "outside"
             }
            },
            "type": "scattergeo"
           }
          ],
          "scattergl": [
           {
            "marker": {
             "colorbar": {
              "outlinewidth": 1,
              "tickcolor": "rgb(36,36,36)",
              "ticks": "outside"
             }
            },
            "type": "scattergl"
           }
          ],
          "scattermapbox": [
           {
            "marker": {
             "colorbar": {
              "outlinewidth": 1,
              "tickcolor": "rgb(36,36,36)",
              "ticks": "outside"
             }
            },
            "type": "scattermapbox"
           }
          ],
          "scatterpolar": [
           {
            "marker": {
             "colorbar": {
              "outlinewidth": 1,
              "tickcolor": "rgb(36,36,36)",
              "ticks": "outside"
             }
            },
            "type": "scatterpolar"
           }
          ],
          "scatterpolargl": [
           {
            "marker": {
             "colorbar": {
              "outlinewidth": 1,
              "tickcolor": "rgb(36,36,36)",
              "ticks": "outside"
             }
            },
            "type": "scatterpolargl"
           }
          ],
          "scatterternary": [
           {
            "marker": {
             "colorbar": {
              "outlinewidth": 1,
              "tickcolor": "rgb(36,36,36)",
              "ticks": "outside"
             }
            },
            "type": "scatterternary"
           }
          ],
          "surface": [
           {
            "colorbar": {
             "outlinewidth": 1,
             "tickcolor": "rgb(36,36,36)",
             "ticks": "outside"
            },
            "colorscale": [
             [
              0,
              "#440154"
             ],
             [
              0.1111111111111111,
              "#482878"
             ],
             [
              0.2222222222222222,
              "#3e4989"
             ],
             [
              0.3333333333333333,
              "#31688e"
             ],
             [
              0.4444444444444444,
              "#26828e"
             ],
             [
              0.5555555555555556,
              "#1f9e89"
             ],
             [
              0.6666666666666666,
              "#35b779"
             ],
             [
              0.7777777777777778,
              "#6ece58"
             ],
             [
              0.8888888888888888,
              "#b5de2b"
             ],
             [
              1,
              "#fde725"
             ]
            ],
            "type": "surface"
           }
          ],
          "table": [
           {
            "cells": {
             "fill": {
              "color": "rgb(237,237,237)"
             },
             "line": {
              "color": "white"
             }
            },
            "header": {
             "fill": {
              "color": "rgb(217,217,217)"
             },
             "line": {
              "color": "white"
             }
            },
            "type": "table"
           }
          ]
         },
         "layout": {
          "annotationdefaults": {
           "arrowhead": 0,
           "arrowwidth": 1
          },
          "autotypenumbers": "strict",
          "coloraxis": {
           "colorbar": {
            "outlinewidth": 1,
            "tickcolor": "rgb(36,36,36)",
            "ticks": "outside"
           }
          },
          "colorscale": {
           "diverging": [
            [
             0,
             "rgb(103,0,31)"
            ],
            [
             0.1,
             "rgb(178,24,43)"
            ],
            [
             0.2,
             "rgb(214,96,77)"
            ],
            [
             0.3,
             "rgb(244,165,130)"
            ],
            [
             0.4,
             "rgb(253,219,199)"
            ],
            [
             0.5,
             "rgb(247,247,247)"
            ],
            [
             0.6,
             "rgb(209,229,240)"
            ],
            [
             0.7,
             "rgb(146,197,222)"
            ],
            [
             0.8,
             "rgb(67,147,195)"
            ],
            [
             0.9,
             "rgb(33,102,172)"
            ],
            [
             1,
             "rgb(5,48,97)"
            ]
           ],
           "sequential": [
            [
             0,
             "#440154"
            ],
            [
             0.1111111111111111,
             "#482878"
            ],
            [
             0.2222222222222222,
             "#3e4989"
            ],
            [
             0.3333333333333333,
             "#31688e"
            ],
            [
             0.4444444444444444,
             "#26828e"
            ],
            [
             0.5555555555555556,
             "#1f9e89"
            ],
            [
             0.6666666666666666,
             "#35b779"
            ],
            [
             0.7777777777777778,
             "#6ece58"
            ],
            [
             0.8888888888888888,
             "#b5de2b"
            ],
            [
             1,
             "#fde725"
            ]
           ],
           "sequentialminus": [
            [
             0,
             "#440154"
            ],
            [
             0.1111111111111111,
             "#482878"
            ],
            [
             0.2222222222222222,
             "#3e4989"
            ],
            [
             0.3333333333333333,
             "#31688e"
            ],
            [
             0.4444444444444444,
             "#26828e"
            ],
            [
             0.5555555555555556,
             "#1f9e89"
            ],
            [
             0.6666666666666666,
             "#35b779"
            ],
            [
             0.7777777777777778,
             "#6ece58"
            ],
            [
             0.8888888888888888,
             "#b5de2b"
            ],
            [
             1,
             "#fde725"
            ]
           ]
          },
          "colorway": [
           "#1F77B4",
           "#FF7F0E",
           "#2CA02C",
           "#D62728",
           "#9467BD",
           "#8C564B",
           "#E377C2",
           "#7F7F7F",
           "#BCBD22",
           "#17BECF"
          ],
          "font": {
           "color": "rgb(36,36,36)"
          },
          "geo": {
           "bgcolor": "white",
           "lakecolor": "white",
           "landcolor": "white",
           "showlakes": true,
           "showland": true,
           "subunitcolor": "white"
          },
          "hoverlabel": {
           "align": "left"
          },
          "hovermode": "closest",
          "mapbox": {
           "style": "light"
          },
          "paper_bgcolor": "white",
          "plot_bgcolor": "white",
          "polar": {
           "angularaxis": {
            "gridcolor": "rgb(232,232,232)",
            "linecolor": "rgb(36,36,36)",
            "showgrid": false,
            "showline": true,
            "ticks": "outside"
           },
           "bgcolor": "white",
           "radialaxis": {
            "gridcolor": "rgb(232,232,232)",
            "linecolor": "rgb(36,36,36)",
            "showgrid": false,
            "showline": true,
            "ticks": "outside"
           }
          },
          "scene": {
           "xaxis": {
            "backgroundcolor": "white",
            "gridcolor": "rgb(232,232,232)",
            "gridwidth": 2,
            "linecolor": "rgb(36,36,36)",
            "showbackground": true,
            "showgrid": false,
            "showline": true,
            "ticks": "outside",
            "zeroline": false,
            "zerolinecolor": "rgb(36,36,36)"
           },
           "yaxis": {
            "backgroundcolor": "white",
            "gridcolor": "rgb(232,232,232)",
            "gridwidth": 2,
            "linecolor": "rgb(36,36,36)",
            "showbackground": true,
            "showgrid": false,
            "showline": true,
            "ticks": "outside",
            "zeroline": false,
            "zerolinecolor": "rgb(36,36,36)"
           },
           "zaxis": {
            "backgroundcolor": "white",
            "gridcolor": "rgb(232,232,232)",
            "gridwidth": 2,
            "linecolor": "rgb(36,36,36)",
            "showbackground": true,
            "showgrid": false,
            "showline": true,
            "ticks": "outside",
            "zeroline": false,
            "zerolinecolor": "rgb(36,36,36)"
           }
          },
          "shapedefaults": {
           "fillcolor": "black",
           "line": {
            "width": 0
           },
           "opacity": 0.3
          },
          "ternary": {
           "aaxis": {
            "gridcolor": "rgb(232,232,232)",
            "linecolor": "rgb(36,36,36)",
            "showgrid": false,
            "showline": true,
            "ticks": "outside"
           },
           "baxis": {
            "gridcolor": "rgb(232,232,232)",
            "linecolor": "rgb(36,36,36)",
            "showgrid": false,
            "showline": true,
            "ticks": "outside"
           },
           "bgcolor": "white",
           "caxis": {
            "gridcolor": "rgb(232,232,232)",
            "linecolor": "rgb(36,36,36)",
            "showgrid": false,
            "showline": true,
            "ticks": "outside"
           }
          },
          "title": {
           "x": 0.05
          },
          "xaxis": {
           "automargin": true,
           "gridcolor": "rgb(232,232,232)",
           "linecolor": "rgb(36,36,36)",
           "showgrid": false,
           "showline": true,
           "ticks": "outside",
           "title": {
            "standoff": 15
           },
           "zeroline": false,
           "zerolinecolor": "rgb(36,36,36)"
          },
          "yaxis": {
           "automargin": true,
           "gridcolor": "rgb(232,232,232)",
           "linecolor": "rgb(36,36,36)",
           "showgrid": false,
           "showline": true,
           "ticks": "outside",
           "title": {
            "standoff": 15
           },
           "zeroline": false,
           "zerolinecolor": "rgb(36,36,36)"
          }
         }
        },
        "title": {
         "text": "Variantes detectadas en la Región de Aysén"
        },
        "xaxis": {
         "anchor": "y",
         "domain": [
          0,
          1
         ],
         "title": {
          "text": "Fecha de resultado de Secuenciación o Genotipificación"
         }
        },
        "yaxis": {
         "anchor": "x",
         "domain": [
          0,
          1
         ],
         "title": {
          "text": "% de casos identificados por variante"
         }
        }
       }
      },
      "text/html": [
       "<div>                            <div id=\"86650e91-6eb0-4c86-9300-8e7e81a61c2d\" class=\"plotly-graph-div\" style=\"height:525px; width:100%;\"></div>            <script type=\"text/javascript\">                require([\"plotly\"], function(Plotly) {                    window.PLOTLYENV=window.PLOTLYENV || {};                                    if (document.getElementById(\"86650e91-6eb0-4c86-9300-8e7e81a61c2d\")) {                    Plotly.newPlot(                        \"86650e91-6eb0-4c86-9300-8e7e81a61c2d\",                        [{\"groupnorm\": \"percent\", \"hovertemplate\": \"Variante detectada=Alfa<br>fecha_resultado_secuenciacion_genotipificacion=%{x}<br>value=%{y}<extra></extra>\", \"legendgroup\": \"Alfa\", \"line\": {\"color\": \"#636efa\"}, \"mode\": \"lines\", \"name\": \"Alfa\", \"orientation\": \"v\", \"showlegend\": true, \"stackgroup\": \"1\", \"type\": \"scatter\", \"x\": [\"2021-03-21T00:00:00\", \"2021-04-05T00:00:00\", \"2021-04-08T00:00:00\", \"2021-04-19T00:00:00\", \"2021-05-05T00:00:00\", \"2021-05-14T00:00:00\", \"2021-05-19T00:00:00\", \"2021-05-24T00:00:00\", \"2021-05-26T00:00:00\", \"2021-06-09T00:00:00\", \"2021-06-17T00:00:00\", \"2021-06-30T00:00:00\", \"2021-07-07T00:00:00\", \"2021-07-14T00:00:00\", \"2021-07-21T00:00:00\", \"2021-07-28T00:00:00\", \"2021-07-31T00:00:00\", \"2021-08-01T00:00:00\", \"2021-08-03T00:00:00\", \"2021-08-06T00:00:00\", \"2021-08-12T00:00:00\", \"2021-08-13T00:00:00\", \"2021-08-17T00:00:00\", \"2021-08-18T00:00:00\", \"2021-08-21T00:00:00\", \"2021-08-23T00:00:00\", \"2021-08-25T00:00:00\", \"2021-08-26T00:00:00\", \"2021-09-01T00:00:00\"], \"xaxis\": \"x\", \"y\": [0.0, 0.0, 0.0, 0.0, 0.0, 0.0, 0.0, 0.0, 1.0, 1.0, 1.0, 1.0, 1.0, 1.0, 1.0, 1.0, 1.0, 1.0, 1.0, 1.0, 1.0, 1.0, 1.0, 1.0, 1.0, 1.0, 1.0, 1.0, 1.0], \"yaxis\": \"y\"}, {\"groupnorm\": \"percent\", \"hovertemplate\": \"Variante detectada=B.1<br>fecha_resultado_secuenciacion_genotipificacion=%{x}<br>value=%{y}<extra></extra>\", \"legendgroup\": \"B.1\", \"line\": {\"color\": \"#EF553B\"}, \"mode\": \"lines\", \"name\": \"B.1\", \"orientation\": \"v\", \"showlegend\": true, \"stackgroup\": \"1\", \"type\": \"scatter\", \"x\": [\"2021-03-21T00:00:00\", \"2021-04-05T00:00:00\", \"2021-04-08T00:00:00\", \"2021-04-19T00:00:00\", \"2021-05-05T00:00:00\", \"2021-05-14T00:00:00\", \"2021-05-19T00:00:00\", \"2021-05-24T00:00:00\", \"2021-05-26T00:00:00\", \"2021-06-09T00:00:00\", \"2021-06-17T00:00:00\", \"2021-06-30T00:00:00\", \"2021-07-07T00:00:00\", \"2021-07-14T00:00:00\", \"2021-07-21T00:00:00\", \"2021-07-28T00:00:00\", \"2021-07-31T00:00:00\", \"2021-08-01T00:00:00\", \"2021-08-03T00:00:00\", \"2021-08-06T00:00:00\", \"2021-08-12T00:00:00\", \"2021-08-13T00:00:00\", \"2021-08-17T00:00:00\", \"2021-08-18T00:00:00\", \"2021-08-21T00:00:00\", \"2021-08-23T00:00:00\", \"2021-08-25T00:00:00\", \"2021-08-26T00:00:00\", \"2021-09-01T00:00:00\"], \"xaxis\": \"x\", \"y\": [0.0, 0.0, 0.0, 0.0, 0.0, 0.0, 0.0, 0.0, 0.0, 1.0, 1.0, 1.0, 1.0, 1.0, 1.0, 1.0, 1.0, 1.0, 1.0, 1.0, 1.0, 1.0, 1.0, 1.0, 1.0, 1.0, 1.0, 1.0, 1.0], \"yaxis\": \"y\"}, {\"groupnorm\": \"percent\", \"hovertemplate\": \"Variante detectada=B.1.1<br>fecha_resultado_secuenciacion_genotipificacion=%{x}<br>value=%{y}<extra></extra>\", \"legendgroup\": \"B.1.1\", \"line\": {\"color\": \"#00cc96\"}, \"mode\": \"lines\", \"name\": \"B.1.1\", \"orientation\": \"v\", \"showlegend\": true, \"stackgroup\": \"1\", \"type\": \"scatter\", \"x\": [\"2021-03-21T00:00:00\", \"2021-04-05T00:00:00\", \"2021-04-08T00:00:00\", \"2021-04-19T00:00:00\", \"2021-05-05T00:00:00\", \"2021-05-14T00:00:00\", \"2021-05-19T00:00:00\", \"2021-05-24T00:00:00\", \"2021-05-26T00:00:00\", \"2021-06-09T00:00:00\", \"2021-06-17T00:00:00\", \"2021-06-30T00:00:00\", \"2021-07-07T00:00:00\", \"2021-07-14T00:00:00\", \"2021-07-21T00:00:00\", \"2021-07-28T00:00:00\", \"2021-07-31T00:00:00\", \"2021-08-01T00:00:00\", \"2021-08-03T00:00:00\", \"2021-08-06T00:00:00\", \"2021-08-12T00:00:00\", \"2021-08-13T00:00:00\", \"2021-08-17T00:00:00\", \"2021-08-18T00:00:00\", \"2021-08-21T00:00:00\", \"2021-08-23T00:00:00\", \"2021-08-25T00:00:00\", \"2021-08-26T00:00:00\", \"2021-09-01T00:00:00\"], \"xaxis\": \"x\", \"y\": [0.0, 1.0, 1.0, 2.0, 2.0, 2.0, 2.0, 2.0, 4.0, 5.0, 5.0, 5.0, 5.0, 5.0, 5.0, 5.0, 5.0, 5.0, 5.0, 5.0, 5.0, 5.0, 5.0, 5.0, 5.0, 5.0, 5.0, 5.0, 5.0], \"yaxis\": \"y\"}, {\"groupnorm\": \"percent\", \"hovertemplate\": \"Variante detectada=B.1.1.348<br>fecha_resultado_secuenciacion_genotipificacion=%{x}<br>value=%{y}<extra></extra>\", \"legendgroup\": \"B.1.1.348\", \"line\": {\"color\": \"#ab63fa\"}, \"mode\": \"lines\", \"name\": \"B.1.1.348\", \"orientation\": \"v\", \"showlegend\": true, \"stackgroup\": \"1\", \"type\": \"scatter\", \"x\": [\"2021-03-21T00:00:00\", \"2021-04-05T00:00:00\", \"2021-04-08T00:00:00\", \"2021-04-19T00:00:00\", \"2021-05-05T00:00:00\", \"2021-05-14T00:00:00\", \"2021-05-19T00:00:00\", \"2021-05-24T00:00:00\", \"2021-05-26T00:00:00\", \"2021-06-09T00:00:00\", \"2021-06-17T00:00:00\", \"2021-06-30T00:00:00\", \"2021-07-07T00:00:00\", \"2021-07-14T00:00:00\", \"2021-07-21T00:00:00\", \"2021-07-28T00:00:00\", \"2021-07-31T00:00:00\", \"2021-08-01T00:00:00\", \"2021-08-03T00:00:00\", \"2021-08-06T00:00:00\", \"2021-08-12T00:00:00\", \"2021-08-13T00:00:00\", \"2021-08-17T00:00:00\", \"2021-08-18T00:00:00\", \"2021-08-21T00:00:00\", \"2021-08-23T00:00:00\", \"2021-08-25T00:00:00\", \"2021-08-26T00:00:00\", \"2021-09-01T00:00:00\"], \"xaxis\": \"x\", \"y\": [1.0, 2.0, 2.0, 2.0, 2.0, 2.0, 2.0, 2.0, 2.0, 2.0, 2.0, 2.0, 2.0, 2.0, 2.0, 2.0, 2.0, 2.0, 2.0, 2.0, 2.0, 2.0, 2.0, 2.0, 2.0, 2.0, 2.0, 2.0, 2.0], \"yaxis\": \"y\"}, {\"groupnorm\": \"percent\", \"hovertemplate\": \"Variante detectada=Gamma<br>fecha_resultado_secuenciacion_genotipificacion=%{x}<br>value=%{y}<extra></extra>\", \"legendgroup\": \"Gamma\", \"line\": {\"color\": \"#FFA15A\"}, \"mode\": \"lines\", \"name\": \"Gamma\", \"orientation\": \"v\", \"showlegend\": true, \"stackgroup\": \"1\", \"type\": \"scatter\", \"x\": [\"2021-03-21T00:00:00\", \"2021-04-05T00:00:00\", \"2021-04-08T00:00:00\", \"2021-04-19T00:00:00\", \"2021-05-05T00:00:00\", \"2021-05-14T00:00:00\", \"2021-05-19T00:00:00\", \"2021-05-24T00:00:00\", \"2021-05-26T00:00:00\", \"2021-06-09T00:00:00\", \"2021-06-17T00:00:00\", \"2021-06-30T00:00:00\", \"2021-07-07T00:00:00\", \"2021-07-14T00:00:00\", \"2021-07-21T00:00:00\", \"2021-07-28T00:00:00\", \"2021-07-31T00:00:00\", \"2021-08-01T00:00:00\", \"2021-08-03T00:00:00\", \"2021-08-06T00:00:00\", \"2021-08-12T00:00:00\", \"2021-08-13T00:00:00\", \"2021-08-17T00:00:00\", \"2021-08-18T00:00:00\", \"2021-08-21T00:00:00\", \"2021-08-23T00:00:00\", \"2021-08-25T00:00:00\", \"2021-08-26T00:00:00\", \"2021-09-01T00:00:00\"], \"xaxis\": \"x\", \"y\": [0.0, 0.0, 0.0, 0.0, 2.0, 6.0, 9.0, 9.0, 13.0, 20.0, 24.0, 28.0, 32.0, 47.0, 58.0, 60.0, 61.0, 61.0, 62.0, 71.0, 76.0, 82.0, 91.0, 96.0, 100.0, 107.0, 116.0, 122.0, 127.0], \"yaxis\": \"y\"}, {\"groupnorm\": \"percent\", \"hovertemplate\": \"Variante detectada=Lambda<br>fecha_resultado_secuenciacion_genotipificacion=%{x}<br>value=%{y}<extra></extra>\", \"legendgroup\": \"Lambda\", \"line\": {\"color\": \"#19d3f3\"}, \"mode\": \"lines\", \"name\": \"Lambda\", \"orientation\": \"v\", \"showlegend\": true, \"stackgroup\": \"1\", \"type\": \"scatter\", \"x\": [\"2021-03-21T00:00:00\", \"2021-04-05T00:00:00\", \"2021-04-08T00:00:00\", \"2021-04-19T00:00:00\", \"2021-05-05T00:00:00\", \"2021-05-14T00:00:00\", \"2021-05-19T00:00:00\", \"2021-05-24T00:00:00\", \"2021-05-26T00:00:00\", \"2021-06-09T00:00:00\", \"2021-06-17T00:00:00\", \"2021-06-30T00:00:00\", \"2021-07-07T00:00:00\", \"2021-07-14T00:00:00\", \"2021-07-21T00:00:00\", \"2021-07-28T00:00:00\", \"2021-07-31T00:00:00\", \"2021-08-01T00:00:00\", \"2021-08-03T00:00:00\", \"2021-08-06T00:00:00\", \"2021-08-12T00:00:00\", \"2021-08-13T00:00:00\", \"2021-08-17T00:00:00\", \"2021-08-18T00:00:00\", \"2021-08-21T00:00:00\", \"2021-08-23T00:00:00\", \"2021-08-25T00:00:00\", \"2021-08-26T00:00:00\", \"2021-09-01T00:00:00\"], \"xaxis\": \"x\", \"y\": [0.0, 0.0, 0.0, 3.0, 7.0, 13.0, 17.0, 17.0, 25.0, 27.0, 27.0, 29.0, 35.0, 43.0, 48.0, 48.0, 48.0, 48.0, 48.0, 49.0, 50.0, 50.0, 50.0, 50.0, 50.0, 50.0, 51.0, 51.0, 52.0], \"yaxis\": \"y\"}, {\"groupnorm\": \"percent\", \"hovertemplate\": \"Variante detectada=N.4<br>fecha_resultado_secuenciacion_genotipificacion=%{x}<br>value=%{y}<extra></extra>\", \"legendgroup\": \"N.4\", \"line\": {\"color\": \"#FF6692\"}, \"mode\": \"lines\", \"name\": \"N.4\", \"orientation\": \"v\", \"showlegend\": true, \"stackgroup\": \"1\", \"type\": \"scatter\", \"x\": [\"2021-03-21T00:00:00\", \"2021-04-05T00:00:00\", \"2021-04-08T00:00:00\", \"2021-04-19T00:00:00\", \"2021-05-05T00:00:00\", \"2021-05-14T00:00:00\", \"2021-05-19T00:00:00\", \"2021-05-24T00:00:00\", \"2021-05-26T00:00:00\", \"2021-06-09T00:00:00\", \"2021-06-17T00:00:00\", \"2021-06-30T00:00:00\", \"2021-07-07T00:00:00\", \"2021-07-14T00:00:00\", \"2021-07-21T00:00:00\", \"2021-07-28T00:00:00\", \"2021-07-31T00:00:00\", \"2021-08-01T00:00:00\", \"2021-08-03T00:00:00\", \"2021-08-06T00:00:00\", \"2021-08-12T00:00:00\", \"2021-08-13T00:00:00\", \"2021-08-17T00:00:00\", \"2021-08-18T00:00:00\", \"2021-08-21T00:00:00\", \"2021-08-23T00:00:00\", \"2021-08-25T00:00:00\", \"2021-08-26T00:00:00\", \"2021-09-01T00:00:00\"], \"xaxis\": \"x\", \"y\": [1.0, 1.0, 1.0, 1.0, 1.0, 1.0, 1.0, 1.0, 1.0, 1.0, 1.0, 1.0, 1.0, 1.0, 1.0, 1.0, 1.0, 1.0, 1.0, 1.0, 1.0, 1.0, 1.0, 1.0, 1.0, 1.0, 1.0, 1.0, 1.0], \"yaxis\": \"y\"}, {\"groupnorm\": \"percent\", \"hovertemplate\": \"Variante detectada=VOI no detectadas<br>fecha_resultado_secuenciacion_genotipificacion=%{x}<br>value=%{y}<extra></extra>\", \"legendgroup\": \"VOI no detectadas\", \"line\": {\"color\": \"#B6E880\"}, \"mode\": \"lines\", \"name\": \"VOI no detectadas\", \"orientation\": \"v\", \"showlegend\": true, \"stackgroup\": \"1\", \"type\": \"scatter\", \"x\": [\"2021-03-21T00:00:00\", \"2021-04-05T00:00:00\", \"2021-04-08T00:00:00\", \"2021-04-19T00:00:00\", \"2021-05-05T00:00:00\", \"2021-05-14T00:00:00\", \"2021-05-19T00:00:00\", \"2021-05-24T00:00:00\", \"2021-05-26T00:00:00\", \"2021-06-09T00:00:00\", \"2021-06-17T00:00:00\", \"2021-06-30T00:00:00\", \"2021-07-07T00:00:00\", \"2021-07-14T00:00:00\", \"2021-07-21T00:00:00\", \"2021-07-28T00:00:00\", \"2021-07-31T00:00:00\", \"2021-08-01T00:00:00\", \"2021-08-03T00:00:00\", \"2021-08-06T00:00:00\", \"2021-08-12T00:00:00\", \"2021-08-13T00:00:00\", \"2021-08-17T00:00:00\", \"2021-08-18T00:00:00\", \"2021-08-21T00:00:00\", \"2021-08-23T00:00:00\", \"2021-08-25T00:00:00\", \"2021-08-26T00:00:00\", \"2021-09-01T00:00:00\"], \"xaxis\": \"x\", \"y\": [0.0, 0.0, 0.0, 0.0, 0.0, 0.0, 0.0, 0.0, 0.0, 0.0, 0.0, 0.0, 0.0, 0.0, 0.0, 0.0, 0.0, 0.0, 0.0, 0.0, 0.0, 0.0, 0.0, 1.0, 1.0, 1.0, 1.0, 1.0, 1.0], \"yaxis\": \"y\"}],                        {\"legend\": {\"title\": {\"text\": \"Variante detectada\"}, \"tracegroupgap\": 0}, \"margin\": {\"t\": 60}, \"template\": {\"data\": {\"bar\": [{\"error_x\": {\"color\": \"rgb(36,36,36)\"}, \"error_y\": {\"color\": \"rgb(36,36,36)\"}, \"marker\": {\"line\": {\"color\": \"white\", \"width\": 0.5}}, \"type\": \"bar\"}], \"barpolar\": [{\"marker\": {\"line\": {\"color\": \"white\", \"width\": 0.5}}, \"type\": \"barpolar\"}], \"carpet\": [{\"aaxis\": {\"endlinecolor\": \"rgb(36,36,36)\", \"gridcolor\": \"white\", \"linecolor\": \"white\", \"minorgridcolor\": \"white\", \"startlinecolor\": \"rgb(36,36,36)\"}, \"baxis\": {\"endlinecolor\": \"rgb(36,36,36)\", \"gridcolor\": \"white\", \"linecolor\": \"white\", \"minorgridcolor\": \"white\", \"startlinecolor\": \"rgb(36,36,36)\"}, \"type\": \"carpet\"}], \"choropleth\": [{\"colorbar\": {\"outlinewidth\": 1, \"tickcolor\": \"rgb(36,36,36)\", \"ticks\": \"outside\"}, \"type\": \"choropleth\"}], \"contour\": [{\"colorbar\": {\"outlinewidth\": 1, \"tickcolor\": \"rgb(36,36,36)\", \"ticks\": \"outside\"}, \"colorscale\": [[0.0, \"#440154\"], [0.1111111111111111, \"#482878\"], [0.2222222222222222, \"#3e4989\"], [0.3333333333333333, \"#31688e\"], [0.4444444444444444, \"#26828e\"], [0.5555555555555556, \"#1f9e89\"], [0.6666666666666666, \"#35b779\"], [0.7777777777777778, \"#6ece58\"], [0.8888888888888888, \"#b5de2b\"], [1.0, \"#fde725\"]], \"type\": \"contour\"}], \"contourcarpet\": [{\"colorbar\": {\"outlinewidth\": 1, \"tickcolor\": \"rgb(36,36,36)\", \"ticks\": \"outside\"}, \"type\": \"contourcarpet\"}], \"heatmap\": [{\"colorbar\": {\"outlinewidth\": 1, \"tickcolor\": \"rgb(36,36,36)\", \"ticks\": \"outside\"}, \"colorscale\": [[0.0, \"#440154\"], [0.1111111111111111, \"#482878\"], [0.2222222222222222, \"#3e4989\"], [0.3333333333333333, \"#31688e\"], [0.4444444444444444, \"#26828e\"], [0.5555555555555556, \"#1f9e89\"], [0.6666666666666666, \"#35b779\"], [0.7777777777777778, \"#6ece58\"], [0.8888888888888888, \"#b5de2b\"], [1.0, \"#fde725\"]], \"type\": \"heatmap\"}], \"heatmapgl\": [{\"colorbar\": {\"outlinewidth\": 1, \"tickcolor\": \"rgb(36,36,36)\", \"ticks\": \"outside\"}, \"colorscale\": [[0.0, \"#440154\"], [0.1111111111111111, \"#482878\"], [0.2222222222222222, \"#3e4989\"], [0.3333333333333333, \"#31688e\"], [0.4444444444444444, \"#26828e\"], [0.5555555555555556, \"#1f9e89\"], [0.6666666666666666, \"#35b779\"], [0.7777777777777778, \"#6ece58\"], [0.8888888888888888, \"#b5de2b\"], [1.0, \"#fde725\"]], \"type\": \"heatmapgl\"}], \"histogram\": [{\"marker\": {\"line\": {\"color\": \"white\", \"width\": 0.6}}, \"type\": \"histogram\"}], \"histogram2d\": [{\"colorbar\": {\"outlinewidth\": 1, \"tickcolor\": \"rgb(36,36,36)\", \"ticks\": \"outside\"}, \"colorscale\": [[0.0, \"#440154\"], [0.1111111111111111, \"#482878\"], [0.2222222222222222, \"#3e4989\"], [0.3333333333333333, \"#31688e\"], [0.4444444444444444, \"#26828e\"], [0.5555555555555556, \"#1f9e89\"], [0.6666666666666666, \"#35b779\"], [0.7777777777777778, \"#6ece58\"], [0.8888888888888888, \"#b5de2b\"], [1.0, \"#fde725\"]], \"type\": \"histogram2d\"}], \"histogram2dcontour\": [{\"colorbar\": {\"outlinewidth\": 1, \"tickcolor\": \"rgb(36,36,36)\", \"ticks\": \"outside\"}, \"colorscale\": [[0.0, \"#440154\"], [0.1111111111111111, \"#482878\"], [0.2222222222222222, \"#3e4989\"], [0.3333333333333333, \"#31688e\"], [0.4444444444444444, \"#26828e\"], [0.5555555555555556, \"#1f9e89\"], [0.6666666666666666, \"#35b779\"], [0.7777777777777778, \"#6ece58\"], [0.8888888888888888, \"#b5de2b\"], [1.0, \"#fde725\"]], \"type\": \"histogram2dcontour\"}], \"mesh3d\": [{\"colorbar\": {\"outlinewidth\": 1, \"tickcolor\": \"rgb(36,36,36)\", \"ticks\": \"outside\"}, \"type\": \"mesh3d\"}], \"parcoords\": [{\"line\": {\"colorbar\": {\"outlinewidth\": 1, \"tickcolor\": \"rgb(36,36,36)\", \"ticks\": \"outside\"}}, \"type\": \"parcoords\"}], \"pie\": [{\"automargin\": true, \"type\": \"pie\"}], \"scatter\": [{\"marker\": {\"colorbar\": {\"outlinewidth\": 1, \"tickcolor\": \"rgb(36,36,36)\", \"ticks\": \"outside\"}}, \"type\": \"scatter\"}], \"scatter3d\": [{\"line\": {\"colorbar\": {\"outlinewidth\": 1, \"tickcolor\": \"rgb(36,36,36)\", \"ticks\": \"outside\"}}, \"marker\": {\"colorbar\": {\"outlinewidth\": 1, \"tickcolor\": \"rgb(36,36,36)\", \"ticks\": \"outside\"}}, \"type\": \"scatter3d\"}], \"scattercarpet\": [{\"marker\": {\"colorbar\": {\"outlinewidth\": 1, \"tickcolor\": \"rgb(36,36,36)\", \"ticks\": \"outside\"}}, \"type\": \"scattercarpet\"}], \"scattergeo\": [{\"marker\": {\"colorbar\": {\"outlinewidth\": 1, \"tickcolor\": \"rgb(36,36,36)\", \"ticks\": \"outside\"}}, \"type\": \"scattergeo\"}], \"scattergl\": [{\"marker\": {\"colorbar\": {\"outlinewidth\": 1, \"tickcolor\": \"rgb(36,36,36)\", \"ticks\": \"outside\"}}, \"type\": \"scattergl\"}], \"scattermapbox\": [{\"marker\": {\"colorbar\": {\"outlinewidth\": 1, \"tickcolor\": \"rgb(36,36,36)\", \"ticks\": \"outside\"}}, \"type\": \"scattermapbox\"}], \"scatterpolar\": [{\"marker\": {\"colorbar\": {\"outlinewidth\": 1, \"tickcolor\": \"rgb(36,36,36)\", \"ticks\": \"outside\"}}, \"type\": \"scatterpolar\"}], \"scatterpolargl\": [{\"marker\": {\"colorbar\": {\"outlinewidth\": 1, \"tickcolor\": \"rgb(36,36,36)\", \"ticks\": \"outside\"}}, \"type\": \"scatterpolargl\"}], \"scatterternary\": [{\"marker\": {\"colorbar\": {\"outlinewidth\": 1, \"tickcolor\": \"rgb(36,36,36)\", \"ticks\": \"outside\"}}, \"type\": \"scatterternary\"}], \"surface\": [{\"colorbar\": {\"outlinewidth\": 1, \"tickcolor\": \"rgb(36,36,36)\", \"ticks\": \"outside\"}, \"colorscale\": [[0.0, \"#440154\"], [0.1111111111111111, \"#482878\"], [0.2222222222222222, \"#3e4989\"], [0.3333333333333333, \"#31688e\"], [0.4444444444444444, \"#26828e\"], [0.5555555555555556, \"#1f9e89\"], [0.6666666666666666, \"#35b779\"], [0.7777777777777778, \"#6ece58\"], [0.8888888888888888, \"#b5de2b\"], [1.0, \"#fde725\"]], \"type\": \"surface\"}], \"table\": [{\"cells\": {\"fill\": {\"color\": \"rgb(237,237,237)\"}, \"line\": {\"color\": \"white\"}}, \"header\": {\"fill\": {\"color\": \"rgb(217,217,217)\"}, \"line\": {\"color\": \"white\"}}, \"type\": \"table\"}]}, \"layout\": {\"annotationdefaults\": {\"arrowhead\": 0, \"arrowwidth\": 1}, \"autotypenumbers\": \"strict\", \"coloraxis\": {\"colorbar\": {\"outlinewidth\": 1, \"tickcolor\": \"rgb(36,36,36)\", \"ticks\": \"outside\"}}, \"colorscale\": {\"diverging\": [[0.0, \"rgb(103,0,31)\"], [0.1, \"rgb(178,24,43)\"], [0.2, \"rgb(214,96,77)\"], [0.3, \"rgb(244,165,130)\"], [0.4, \"rgb(253,219,199)\"], [0.5, \"rgb(247,247,247)\"], [0.6, \"rgb(209,229,240)\"], [0.7, \"rgb(146,197,222)\"], [0.8, \"rgb(67,147,195)\"], [0.9, \"rgb(33,102,172)\"], [1.0, \"rgb(5,48,97)\"]], \"sequential\": [[0.0, \"#440154\"], [0.1111111111111111, \"#482878\"], [0.2222222222222222, \"#3e4989\"], [0.3333333333333333, \"#31688e\"], [0.4444444444444444, \"#26828e\"], [0.5555555555555556, \"#1f9e89\"], [0.6666666666666666, \"#35b779\"], [0.7777777777777778, \"#6ece58\"], [0.8888888888888888, \"#b5de2b\"], [1.0, \"#fde725\"]], \"sequentialminus\": [[0.0, \"#440154\"], [0.1111111111111111, \"#482878\"], [0.2222222222222222, \"#3e4989\"], [0.3333333333333333, \"#31688e\"], [0.4444444444444444, \"#26828e\"], [0.5555555555555556, \"#1f9e89\"], [0.6666666666666666, \"#35b779\"], [0.7777777777777778, \"#6ece58\"], [0.8888888888888888, \"#b5de2b\"], [1.0, \"#fde725\"]]}, \"colorway\": [\"#1F77B4\", \"#FF7F0E\", \"#2CA02C\", \"#D62728\", \"#9467BD\", \"#8C564B\", \"#E377C2\", \"#7F7F7F\", \"#BCBD22\", \"#17BECF\"], \"font\": {\"color\": \"rgb(36,36,36)\"}, \"geo\": {\"bgcolor\": \"white\", \"lakecolor\": \"white\", \"landcolor\": \"white\", \"showlakes\": true, \"showland\": true, \"subunitcolor\": \"white\"}, \"hoverlabel\": {\"align\": \"left\"}, \"hovermode\": \"closest\", \"mapbox\": {\"style\": \"light\"}, \"paper_bgcolor\": \"white\", \"plot_bgcolor\": \"white\", \"polar\": {\"angularaxis\": {\"gridcolor\": \"rgb(232,232,232)\", \"linecolor\": \"rgb(36,36,36)\", \"showgrid\": false, \"showline\": true, \"ticks\": \"outside\"}, \"bgcolor\": \"white\", \"radialaxis\": {\"gridcolor\": \"rgb(232,232,232)\", \"linecolor\": \"rgb(36,36,36)\", \"showgrid\": false, \"showline\": true, \"ticks\": \"outside\"}}, \"scene\": {\"xaxis\": {\"backgroundcolor\": \"white\", \"gridcolor\": \"rgb(232,232,232)\", \"gridwidth\": 2, \"linecolor\": \"rgb(36,36,36)\", \"showbackground\": true, \"showgrid\": false, \"showline\": true, \"ticks\": \"outside\", \"zeroline\": false, \"zerolinecolor\": \"rgb(36,36,36)\"}, \"yaxis\": {\"backgroundcolor\": \"white\", \"gridcolor\": \"rgb(232,232,232)\", \"gridwidth\": 2, \"linecolor\": \"rgb(36,36,36)\", \"showbackground\": true, \"showgrid\": false, \"showline\": true, \"ticks\": \"outside\", \"zeroline\": false, \"zerolinecolor\": \"rgb(36,36,36)\"}, \"zaxis\": {\"backgroundcolor\": \"white\", \"gridcolor\": \"rgb(232,232,232)\", \"gridwidth\": 2, \"linecolor\": \"rgb(36,36,36)\", \"showbackground\": true, \"showgrid\": false, \"showline\": true, \"ticks\": \"outside\", \"zeroline\": false, \"zerolinecolor\": \"rgb(36,36,36)\"}}, \"shapedefaults\": {\"fillcolor\": \"black\", \"line\": {\"width\": 0}, \"opacity\": 0.3}, \"ternary\": {\"aaxis\": {\"gridcolor\": \"rgb(232,232,232)\", \"linecolor\": \"rgb(36,36,36)\", \"showgrid\": false, \"showline\": true, \"ticks\": \"outside\"}, \"baxis\": {\"gridcolor\": \"rgb(232,232,232)\", \"linecolor\": \"rgb(36,36,36)\", \"showgrid\": false, \"showline\": true, \"ticks\": \"outside\"}, \"bgcolor\": \"white\", \"caxis\": {\"gridcolor\": \"rgb(232,232,232)\", \"linecolor\": \"rgb(36,36,36)\", \"showgrid\": false, \"showline\": true, \"ticks\": \"outside\"}}, \"title\": {\"x\": 0.05}, \"xaxis\": {\"automargin\": true, \"gridcolor\": \"rgb(232,232,232)\", \"linecolor\": \"rgb(36,36,36)\", \"showgrid\": false, \"showline\": true, \"ticks\": \"outside\", \"title\": {\"standoff\": 15}, \"zeroline\": false, \"zerolinecolor\": \"rgb(36,36,36)\"}, \"yaxis\": {\"automargin\": true, \"gridcolor\": \"rgb(232,232,232)\", \"linecolor\": \"rgb(36,36,36)\", \"showgrid\": false, \"showline\": true, \"ticks\": \"outside\", \"title\": {\"standoff\": 15}, \"zeroline\": false, \"zerolinecolor\": \"rgb(36,36,36)\"}}}, \"title\": {\"text\": \"Variantes detectadas en la Regi\\u00f3n de Ays\\u00e9n\"}, \"xaxis\": {\"anchor\": \"y\", \"domain\": [0.0, 1.0], \"title\": {\"text\": \"Fecha de resultado de Secuenciaci\\u00f3n o Genotipificaci\\u00f3n\"}}, \"yaxis\": {\"anchor\": \"x\", \"domain\": [0.0, 1.0], \"title\": {\"text\": \"% de casos identificados por variante\"}}},                        {\"responsive\": true}                    ).then(function(){\n",
       "                            \n",
       "var gd = document.getElementById('86650e91-6eb0-4c86-9300-8e7e81a61c2d');\n",
       "var x = new MutationObserver(function (mutations, observer) {{\n",
       "        var display = window.getComputedStyle(gd).display;\n",
       "        if (!display || display === 'none') {{\n",
       "            console.log([gd, 'removed!']);\n",
       "            Plotly.purge(gd);\n",
       "            observer.disconnect();\n",
       "        }}\n",
       "}});\n",
       "\n",
       "// Listen for the removal of the full notebook cells\n",
       "var notebookContainer = gd.closest('#notebook-container');\n",
       "if (notebookContainer) {{\n",
       "    x.observe(notebookContainer, {childList: true});\n",
       "}}\n",
       "\n",
       "// Listen for the clearing of the current output cell\n",
       "var outputEl = gd.closest('.output');\n",
       "if (outputEl) {{\n",
       "    x.observe(outputEl, {childList: true});\n",
       "}}\n",
       "\n",
       "                        })                };                });            </script>        </div>"
      ]
     },
     "metadata": {},
     "output_type": "display_data"
    }
   ],
   "source": [
    "# Sin negativos\n",
    "\n",
    "px.area(df_variantes_clean.groupby(['fecha_resultado_secuenciacion_genotipificacion', 'variante_linaje']).count()[['n_documento']].reset_index().pivot(\n",
    "    index='fecha_resultado_secuenciacion_genotipificacion',\n",
    "    columns='variante_linaje', \n",
    "    values=['n_documento']\n",
    ").fillna(0).cumsum().clean_names().rename(\n",
    "    columns={\n",
    "        'alfa':'Alfa',\n",
    "        'b_1':'B.1',\n",
    "        'b_1_1':'B.1.1',\n",
    "        'b_1_1_348':'B.1.1.348',\n",
    "        'gamma':'Gamma',\n",
    "        'indeterminado':'Indeterminado',\n",
    "        'lambda':'Lambda',\n",
    "        'n_4':'N.4',\n",
    "        'no_amplifica':'No amplifica',\n",
    "        'no_se_detectan_mutaciones_para_variantes_de_interes_por_parte_de_este_kit':'VOI no detectadas'\n",
    "            })['n_documento'].drop(['No amplifica','Indeterminado'], axis=1),\n",
    "        labels={'variante_linaje':'Variante detectada'},\n",
    "        groupnorm='percent'\n",
    "       ).update_layout(\n",
    "    title= 'Variantes detectadas en la Región de Aysén',\n",
    "    yaxis_title='% de casos identificados por variante',\n",
    "    xaxis_title='Fecha de resultado de Secuenciación o Genotipificación',\n",
    "    template='simple_white',\n",
    "    \n",
    "    \n",
    ")"
   ]
  },
  {
   "cell_type": "markdown",
   "id": "02df47ce",
   "metadata": {},
   "source": [
    "### Variantes circulantes de SARS-CoV-2 en la Región de Aysén según sexo\n"
   ]
  },
  {
   "cell_type": "code",
   "execution_count": 189,
   "id": "9888b660",
   "metadata": {},
   "outputs": [
    {
     "data": {
      "text/plain": [
       "0       1\n",
       "1       2\n",
       "2       3\n",
       "3       4\n",
       "4       5\n",
       "     ... \n",
       "57    215\n",
       "58    221\n",
       "59    226\n",
       "60    227\n",
       "61    228\n",
       "Name: n_documento, Length: 62, dtype: int64"
      ]
     },
     "execution_count": 189,
     "metadata": {},
     "output_type": "execute_result"
    }
   ],
   "source": [
    "df_variantes_clean.groupby(['fecha_resultado_secuenciacion_genotipificacion', 'variante_linaje']).count()[['n_documento']].reset_index(\n",
    "#).pivot(\n",
    "  #  index='fecha_resultado_secuenciacion_genotipificacion',\n",
    "   # columns='variante_linaje', \n",
    "    #values=['n_documento']\n",
    ").fillna(0).cumsum().clean_names().rename(\n",
    "    columns={\n",
    "        'alfa':'Alfa',\n",
    "        'b_1':'B.1',\n",
    "        'b_1_1':'B.1.1',\n",
    "        'b_1_1_348':'B.1.1.348',\n",
    "        'gamma':'Gamma',\n",
    "        'indeterminado':'Indeterminado',\n",
    "        'lambda':'Lambda',\n",
    "        'n_4':'N.4',\n",
    "        'no_amplifica':'No amplifica',\n",
    "        'no_se_detectan_mutaciones_para_variantes_de_interes_por_parte_de_este_kit':'VOI no detectadas'\n",
    "            })['n_documento']#.drop(['No amplifica','Indeterminado'], axis=1)"
   ]
  },
  {
   "cell_type": "code",
   "execution_count": 190,
   "id": "1b9cbfb6",
   "metadata": {},
   "outputs": [
    {
     "data": {
      "text/html": [
       "<div>\n",
       "<style scoped>\n",
       "    .dataframe tbody tr th:only-of-type {\n",
       "        vertical-align: middle;\n",
       "    }\n",
       "\n",
       "    .dataframe tbody tr th {\n",
       "        vertical-align: top;\n",
       "    }\n",
       "\n",
       "    .dataframe thead th {\n",
       "        text-align: right;\n",
       "    }\n",
       "</style>\n",
       "<table border=\"1\" class=\"dataframe\">\n",
       "  <thead>\n",
       "    <tr style=\"text-align: right;\">\n",
       "      <th></th>\n",
       "      <th></th>\n",
       "      <th></th>\n",
       "      <th>n_documento</th>\n",
       "      <th>tipo_documento</th>\n",
       "      <th>clasificacion_linaje</th>\n",
       "      <th>pango</th>\n",
       "      <th>tecnica</th>\n",
       "      <th>tipo_de_caso</th>\n",
       "      <th>folio_epivigila</th>\n",
       "      <th>nombre_completo</th>\n",
       "      <th>nacionalidad</th>\n",
       "      <th>estado_paciente</th>\n",
       "      <th>...</th>\n",
       "      <th>nombre_vacuna_3</th>\n",
       "      <th>vacuna_previo_a_ftm</th>\n",
       "      <th>informe</th>\n",
       "      <th>emisor_de_informe</th>\n",
       "      <th>embarazo</th>\n",
       "      <th>comorbilidad</th>\n",
       "      <th>fis</th>\n",
       "      <th>frs</th>\n",
       "      <th>id_pntm</th>\n",
       "      <th>region_de_notificacion</th>\n",
       "    </tr>\n",
       "    <tr>\n",
       "      <th>fecha_resultado_secuenciacion_genotipificacion</th>\n",
       "      <th>variante_linaje</th>\n",
       "      <th>sexo</th>\n",
       "      <th></th>\n",
       "      <th></th>\n",
       "      <th></th>\n",
       "      <th></th>\n",
       "      <th></th>\n",
       "      <th></th>\n",
       "      <th></th>\n",
       "      <th></th>\n",
       "      <th></th>\n",
       "      <th></th>\n",
       "      <th></th>\n",
       "      <th></th>\n",
       "      <th></th>\n",
       "      <th></th>\n",
       "      <th></th>\n",
       "      <th></th>\n",
       "      <th></th>\n",
       "      <th></th>\n",
       "      <th></th>\n",
       "      <th></th>\n",
       "      <th></th>\n",
       "    </tr>\n",
       "  </thead>\n",
       "  <tbody>\n",
       "    <tr>\n",
       "      <th rowspan=\"2\" valign=\"top\">2021-03-21</th>\n",
       "      <th>B.1.1.348</th>\n",
       "      <th>FEMENINO</th>\n",
       "      <td>1</td>\n",
       "      <td>0</td>\n",
       "      <td>1</td>\n",
       "      <td>1</td>\n",
       "      <td>1</td>\n",
       "      <td>1</td>\n",
       "      <td>1</td>\n",
       "      <td>1</td>\n",
       "      <td>1</td>\n",
       "      <td>0</td>\n",
       "      <td>...</td>\n",
       "      <td>0</td>\n",
       "      <td>1</td>\n",
       "      <td>1</td>\n",
       "      <td>1</td>\n",
       "      <td>0</td>\n",
       "      <td>0</td>\n",
       "      <td>1</td>\n",
       "      <td>0</td>\n",
       "      <td>0</td>\n",
       "      <td>1</td>\n",
       "    </tr>\n",
       "    <tr>\n",
       "      <th>N.4</th>\n",
       "      <th>FEMENINO</th>\n",
       "      <td>1</td>\n",
       "      <td>0</td>\n",
       "      <td>1</td>\n",
       "      <td>1</td>\n",
       "      <td>1</td>\n",
       "      <td>1</td>\n",
       "      <td>1</td>\n",
       "      <td>1</td>\n",
       "      <td>1</td>\n",
       "      <td>0</td>\n",
       "      <td>...</td>\n",
       "      <td>1</td>\n",
       "      <td>1</td>\n",
       "      <td>1</td>\n",
       "      <td>1</td>\n",
       "      <td>0</td>\n",
       "      <td>0</td>\n",
       "      <td>1</td>\n",
       "      <td>0</td>\n",
       "      <td>0</td>\n",
       "      <td>1</td>\n",
       "    </tr>\n",
       "    <tr>\n",
       "      <th rowspan=\"2\" valign=\"top\">2021-04-05</th>\n",
       "      <th>B.1.1</th>\n",
       "      <th>FEMENINO</th>\n",
       "      <td>1</td>\n",
       "      <td>0</td>\n",
       "      <td>1</td>\n",
       "      <td>1</td>\n",
       "      <td>1</td>\n",
       "      <td>1</td>\n",
       "      <td>1</td>\n",
       "      <td>1</td>\n",
       "      <td>1</td>\n",
       "      <td>0</td>\n",
       "      <td>...</td>\n",
       "      <td>0</td>\n",
       "      <td>1</td>\n",
       "      <td>1</td>\n",
       "      <td>1</td>\n",
       "      <td>0</td>\n",
       "      <td>0</td>\n",
       "      <td>1</td>\n",
       "      <td>0</td>\n",
       "      <td>0</td>\n",
       "      <td>1</td>\n",
       "    </tr>\n",
       "    <tr>\n",
       "      <th>B.1.1.348</th>\n",
       "      <th>FEMENINO</th>\n",
       "      <td>1</td>\n",
       "      <td>0</td>\n",
       "      <td>1</td>\n",
       "      <td>1</td>\n",
       "      <td>1</td>\n",
       "      <td>1</td>\n",
       "      <td>1</td>\n",
       "      <td>1</td>\n",
       "      <td>1</td>\n",
       "      <td>0</td>\n",
       "      <td>...</td>\n",
       "      <td>0</td>\n",
       "      <td>1</td>\n",
       "      <td>1</td>\n",
       "      <td>1</td>\n",
       "      <td>0</td>\n",
       "      <td>0</td>\n",
       "      <td>1</td>\n",
       "      <td>0</td>\n",
       "      <td>0</td>\n",
       "      <td>1</td>\n",
       "    </tr>\n",
       "    <tr>\n",
       "      <th>2021-04-08</th>\n",
       "      <th>NO AMPLIFICA</th>\n",
       "      <th>FEMENINO</th>\n",
       "      <td>1</td>\n",
       "      <td>0</td>\n",
       "      <td>1</td>\n",
       "      <td>1</td>\n",
       "      <td>1</td>\n",
       "      <td>1</td>\n",
       "      <td>1</td>\n",
       "      <td>1</td>\n",
       "      <td>1</td>\n",
       "      <td>0</td>\n",
       "      <td>...</td>\n",
       "      <td>0</td>\n",
       "      <td>1</td>\n",
       "      <td>1</td>\n",
       "      <td>1</td>\n",
       "      <td>0</td>\n",
       "      <td>0</td>\n",
       "      <td>1</td>\n",
       "      <td>0</td>\n",
       "      <td>0</td>\n",
       "      <td>1</td>\n",
       "    </tr>\n",
       "    <tr>\n",
       "      <th>...</th>\n",
       "      <th>...</th>\n",
       "      <th>...</th>\n",
       "      <td>...</td>\n",
       "      <td>...</td>\n",
       "      <td>...</td>\n",
       "      <td>...</td>\n",
       "      <td>...</td>\n",
       "      <td>...</td>\n",
       "      <td>...</td>\n",
       "      <td>...</td>\n",
       "      <td>...</td>\n",
       "      <td>...</td>\n",
       "      <td>...</td>\n",
       "      <td>...</td>\n",
       "      <td>...</td>\n",
       "      <td>...</td>\n",
       "      <td>...</td>\n",
       "      <td>...</td>\n",
       "      <td>...</td>\n",
       "      <td>...</td>\n",
       "      <td>...</td>\n",
       "      <td>...</td>\n",
       "      <td>...</td>\n",
       "    </tr>\n",
       "    <tr>\n",
       "      <th>2021-08-26</th>\n",
       "      <th>GAMMA</th>\n",
       "      <th>MASCULINO</th>\n",
       "      <td>3</td>\n",
       "      <td>0</td>\n",
       "      <td>3</td>\n",
       "      <td>3</td>\n",
       "      <td>3</td>\n",
       "      <td>3</td>\n",
       "      <td>3</td>\n",
       "      <td>3</td>\n",
       "      <td>3</td>\n",
       "      <td>3</td>\n",
       "      <td>...</td>\n",
       "      <td>0</td>\n",
       "      <td>3</td>\n",
       "      <td>3</td>\n",
       "      <td>3</td>\n",
       "      <td>0</td>\n",
       "      <td>1</td>\n",
       "      <td>3</td>\n",
       "      <td>3</td>\n",
       "      <td>0</td>\n",
       "      <td>3</td>\n",
       "    </tr>\n",
       "    <tr>\n",
       "      <th rowspan=\"4\" valign=\"top\">2021-09-01</th>\n",
       "      <th rowspan=\"2\" valign=\"top\">GAMMA</th>\n",
       "      <th>FEMENINO</th>\n",
       "      <td>2</td>\n",
       "      <td>2</td>\n",
       "      <td>2</td>\n",
       "      <td>2</td>\n",
       "      <td>2</td>\n",
       "      <td>2</td>\n",
       "      <td>2</td>\n",
       "      <td>2</td>\n",
       "      <td>2</td>\n",
       "      <td>2</td>\n",
       "      <td>...</td>\n",
       "      <td>0</td>\n",
       "      <td>2</td>\n",
       "      <td>2</td>\n",
       "      <td>2</td>\n",
       "      <td>1</td>\n",
       "      <td>1</td>\n",
       "      <td>2</td>\n",
       "      <td>2</td>\n",
       "      <td>0</td>\n",
       "      <td>2</td>\n",
       "    </tr>\n",
       "    <tr>\n",
       "      <th>MASCULINO</th>\n",
       "      <td>3</td>\n",
       "      <td>3</td>\n",
       "      <td>3</td>\n",
       "      <td>3</td>\n",
       "      <td>3</td>\n",
       "      <td>3</td>\n",
       "      <td>3</td>\n",
       "      <td>3</td>\n",
       "      <td>3</td>\n",
       "      <td>3</td>\n",
       "      <td>...</td>\n",
       "      <td>0</td>\n",
       "      <td>3</td>\n",
       "      <td>3</td>\n",
       "      <td>3</td>\n",
       "      <td>0</td>\n",
       "      <td>0</td>\n",
       "      <td>3</td>\n",
       "      <td>3</td>\n",
       "      <td>0</td>\n",
       "      <td>3</td>\n",
       "    </tr>\n",
       "    <tr>\n",
       "      <th>LAMBDA</th>\n",
       "      <th>FEMENINO</th>\n",
       "      <td>1</td>\n",
       "      <td>1</td>\n",
       "      <td>1</td>\n",
       "      <td>1</td>\n",
       "      <td>1</td>\n",
       "      <td>1</td>\n",
       "      <td>1</td>\n",
       "      <td>1</td>\n",
       "      <td>1</td>\n",
       "      <td>1</td>\n",
       "      <td>...</td>\n",
       "      <td>0</td>\n",
       "      <td>1</td>\n",
       "      <td>1</td>\n",
       "      <td>1</td>\n",
       "      <td>0</td>\n",
       "      <td>1</td>\n",
       "      <td>1</td>\n",
       "      <td>1</td>\n",
       "      <td>0</td>\n",
       "      <td>1</td>\n",
       "    </tr>\n",
       "    <tr>\n",
       "      <th>NO AMPLIFICA</th>\n",
       "      <th>FEMENINO</th>\n",
       "      <td>1</td>\n",
       "      <td>1</td>\n",
       "      <td>1</td>\n",
       "      <td>1</td>\n",
       "      <td>1</td>\n",
       "      <td>1</td>\n",
       "      <td>1</td>\n",
       "      <td>1</td>\n",
       "      <td>1</td>\n",
       "      <td>1</td>\n",
       "      <td>...</td>\n",
       "      <td>0</td>\n",
       "      <td>1</td>\n",
       "      <td>1</td>\n",
       "      <td>1</td>\n",
       "      <td>1</td>\n",
       "      <td>0</td>\n",
       "      <td>1</td>\n",
       "      <td>1</td>\n",
       "      <td>0</td>\n",
       "      <td>1</td>\n",
       "    </tr>\n",
       "  </tbody>\n",
       "</table>\n",
       "<p>95 rows × 49 columns</p>\n",
       "</div>"
      ],
      "text/plain": [
       "                                                                          n_documento  \\\n",
       "fecha_resultado_secuenciacion_genotipificacion variante_linaje sexo                     \n",
       "2021-03-21                                     B.1.1.348       FEMENINO             1   \n",
       "                                               N.4             FEMENINO             1   \n",
       "2021-04-05                                     B.1.1           FEMENINO             1   \n",
       "                                               B.1.1.348       FEMENINO             1   \n",
       "2021-04-08                                     NO AMPLIFICA    FEMENINO             1   \n",
       "...                                                                               ...   \n",
       "2021-08-26                                     GAMMA           MASCULINO            3   \n",
       "2021-09-01                                     GAMMA           FEMENINO             2   \n",
       "                                                               MASCULINO            3   \n",
       "                                               LAMBDA          FEMENINO             1   \n",
       "                                               NO AMPLIFICA    FEMENINO             1   \n",
       "\n",
       "                                                                          tipo_documento  \\\n",
       "fecha_resultado_secuenciacion_genotipificacion variante_linaje sexo                        \n",
       "2021-03-21                                     B.1.1.348       FEMENINO                0   \n",
       "                                               N.4             FEMENINO                0   \n",
       "2021-04-05                                     B.1.1           FEMENINO                0   \n",
       "                                               B.1.1.348       FEMENINO                0   \n",
       "2021-04-08                                     NO AMPLIFICA    FEMENINO                0   \n",
       "...                                                                                  ...   \n",
       "2021-08-26                                     GAMMA           MASCULINO               0   \n",
       "2021-09-01                                     GAMMA           FEMENINO                2   \n",
       "                                                               MASCULINO               3   \n",
       "                                               LAMBDA          FEMENINO                1   \n",
       "                                               NO AMPLIFICA    FEMENINO                1   \n",
       "\n",
       "                                                                          clasificacion_linaje  \\\n",
       "fecha_resultado_secuenciacion_genotipificacion variante_linaje sexo                              \n",
       "2021-03-21                                     B.1.1.348       FEMENINO                      1   \n",
       "                                               N.4             FEMENINO                      1   \n",
       "2021-04-05                                     B.1.1           FEMENINO                      1   \n",
       "                                               B.1.1.348       FEMENINO                      1   \n",
       "2021-04-08                                     NO AMPLIFICA    FEMENINO                      1   \n",
       "...                                                                                        ...   \n",
       "2021-08-26                                     GAMMA           MASCULINO                     3   \n",
       "2021-09-01                                     GAMMA           FEMENINO                      2   \n",
       "                                                               MASCULINO                     3   \n",
       "                                               LAMBDA          FEMENINO                      1   \n",
       "                                               NO AMPLIFICA    FEMENINO                      1   \n",
       "\n",
       "                                                                          pango  \\\n",
       "fecha_resultado_secuenciacion_genotipificacion variante_linaje sexo               \n",
       "2021-03-21                                     B.1.1.348       FEMENINO       1   \n",
       "                                               N.4             FEMENINO       1   \n",
       "2021-04-05                                     B.1.1           FEMENINO       1   \n",
       "                                               B.1.1.348       FEMENINO       1   \n",
       "2021-04-08                                     NO AMPLIFICA    FEMENINO       1   \n",
       "...                                                                         ...   \n",
       "2021-08-26                                     GAMMA           MASCULINO      3   \n",
       "2021-09-01                                     GAMMA           FEMENINO       2   \n",
       "                                                               MASCULINO      3   \n",
       "                                               LAMBDA          FEMENINO       1   \n",
       "                                               NO AMPLIFICA    FEMENINO       1   \n",
       "\n",
       "                                                                          tecnica  \\\n",
       "fecha_resultado_secuenciacion_genotipificacion variante_linaje sexo                 \n",
       "2021-03-21                                     B.1.1.348       FEMENINO         1   \n",
       "                                               N.4             FEMENINO         1   \n",
       "2021-04-05                                     B.1.1           FEMENINO         1   \n",
       "                                               B.1.1.348       FEMENINO         1   \n",
       "2021-04-08                                     NO AMPLIFICA    FEMENINO         1   \n",
       "...                                                                           ...   \n",
       "2021-08-26                                     GAMMA           MASCULINO        3   \n",
       "2021-09-01                                     GAMMA           FEMENINO         2   \n",
       "                                                               MASCULINO        3   \n",
       "                                               LAMBDA          FEMENINO         1   \n",
       "                                               NO AMPLIFICA    FEMENINO         1   \n",
       "\n",
       "                                                                          tipo_de_caso  \\\n",
       "fecha_resultado_secuenciacion_genotipificacion variante_linaje sexo                      \n",
       "2021-03-21                                     B.1.1.348       FEMENINO              1   \n",
       "                                               N.4             FEMENINO              1   \n",
       "2021-04-05                                     B.1.1           FEMENINO              1   \n",
       "                                               B.1.1.348       FEMENINO              1   \n",
       "2021-04-08                                     NO AMPLIFICA    FEMENINO              1   \n",
       "...                                                                                ...   \n",
       "2021-08-26                                     GAMMA           MASCULINO             3   \n",
       "2021-09-01                                     GAMMA           FEMENINO              2   \n",
       "                                                               MASCULINO             3   \n",
       "                                               LAMBDA          FEMENINO              1   \n",
       "                                               NO AMPLIFICA    FEMENINO              1   \n",
       "\n",
       "                                                                          folio_epivigila  \\\n",
       "fecha_resultado_secuenciacion_genotipificacion variante_linaje sexo                         \n",
       "2021-03-21                                     B.1.1.348       FEMENINO                 1   \n",
       "                                               N.4             FEMENINO                 1   \n",
       "2021-04-05                                     B.1.1           FEMENINO                 1   \n",
       "                                               B.1.1.348       FEMENINO                 1   \n",
       "2021-04-08                                     NO AMPLIFICA    FEMENINO                 1   \n",
       "...                                                                                   ...   \n",
       "2021-08-26                                     GAMMA           MASCULINO                3   \n",
       "2021-09-01                                     GAMMA           FEMENINO                 2   \n",
       "                                                               MASCULINO                3   \n",
       "                                               LAMBDA          FEMENINO                 1   \n",
       "                                               NO AMPLIFICA    FEMENINO                 1   \n",
       "\n",
       "                                                                          nombre_completo  \\\n",
       "fecha_resultado_secuenciacion_genotipificacion variante_linaje sexo                         \n",
       "2021-03-21                                     B.1.1.348       FEMENINO                 1   \n",
       "                                               N.4             FEMENINO                 1   \n",
       "2021-04-05                                     B.1.1           FEMENINO                 1   \n",
       "                                               B.1.1.348       FEMENINO                 1   \n",
       "2021-04-08                                     NO AMPLIFICA    FEMENINO                 1   \n",
       "...                                                                                   ...   \n",
       "2021-08-26                                     GAMMA           MASCULINO                3   \n",
       "2021-09-01                                     GAMMA           FEMENINO                 2   \n",
       "                                                               MASCULINO                3   \n",
       "                                               LAMBDA          FEMENINO                 1   \n",
       "                                               NO AMPLIFICA    FEMENINO                 1   \n",
       "\n",
       "                                                                          nacionalidad  \\\n",
       "fecha_resultado_secuenciacion_genotipificacion variante_linaje sexo                      \n",
       "2021-03-21                                     B.1.1.348       FEMENINO              1   \n",
       "                                               N.4             FEMENINO              1   \n",
       "2021-04-05                                     B.1.1           FEMENINO              1   \n",
       "                                               B.1.1.348       FEMENINO              1   \n",
       "2021-04-08                                     NO AMPLIFICA    FEMENINO              1   \n",
       "...                                                                                ...   \n",
       "2021-08-26                                     GAMMA           MASCULINO             3   \n",
       "2021-09-01                                     GAMMA           FEMENINO              2   \n",
       "                                                               MASCULINO             3   \n",
       "                                               LAMBDA          FEMENINO              1   \n",
       "                                               NO AMPLIFICA    FEMENINO              1   \n",
       "\n",
       "                                                                          estado_paciente  \\\n",
       "fecha_resultado_secuenciacion_genotipificacion variante_linaje sexo                         \n",
       "2021-03-21                                     B.1.1.348       FEMENINO                 0   \n",
       "                                               N.4             FEMENINO                 0   \n",
       "2021-04-05                                     B.1.1           FEMENINO                 0   \n",
       "                                               B.1.1.348       FEMENINO                 0   \n",
       "2021-04-08                                     NO AMPLIFICA    FEMENINO                 0   \n",
       "...                                                                                   ...   \n",
       "2021-08-26                                     GAMMA           MASCULINO                3   \n",
       "2021-09-01                                     GAMMA           FEMENINO                 2   \n",
       "                                                               MASCULINO                3   \n",
       "                                               LAMBDA          FEMENINO                 1   \n",
       "                                               NO AMPLIFICA    FEMENINO                 1   \n",
       "\n",
       "                                                                          ...  \\\n",
       "fecha_resultado_secuenciacion_genotipificacion variante_linaje sexo       ...   \n",
       "2021-03-21                                     B.1.1.348       FEMENINO   ...   \n",
       "                                               N.4             FEMENINO   ...   \n",
       "2021-04-05                                     B.1.1           FEMENINO   ...   \n",
       "                                               B.1.1.348       FEMENINO   ...   \n",
       "2021-04-08                                     NO AMPLIFICA    FEMENINO   ...   \n",
       "...                                                                       ...   \n",
       "2021-08-26                                     GAMMA           MASCULINO  ...   \n",
       "2021-09-01                                     GAMMA           FEMENINO   ...   \n",
       "                                                               MASCULINO  ...   \n",
       "                                               LAMBDA          FEMENINO   ...   \n",
       "                                               NO AMPLIFICA    FEMENINO   ...   \n",
       "\n",
       "                                                                          nombre_vacuna_3  \\\n",
       "fecha_resultado_secuenciacion_genotipificacion variante_linaje sexo                         \n",
       "2021-03-21                                     B.1.1.348       FEMENINO                 0   \n",
       "                                               N.4             FEMENINO                 1   \n",
       "2021-04-05                                     B.1.1           FEMENINO                 0   \n",
       "                                               B.1.1.348       FEMENINO                 0   \n",
       "2021-04-08                                     NO AMPLIFICA    FEMENINO                 0   \n",
       "...                                                                                   ...   \n",
       "2021-08-26                                     GAMMA           MASCULINO                0   \n",
       "2021-09-01                                     GAMMA           FEMENINO                 0   \n",
       "                                                               MASCULINO                0   \n",
       "                                               LAMBDA          FEMENINO                 0   \n",
       "                                               NO AMPLIFICA    FEMENINO                 0   \n",
       "\n",
       "                                                                          vacuna_previo_a_ftm  \\\n",
       "fecha_resultado_secuenciacion_genotipificacion variante_linaje sexo                             \n",
       "2021-03-21                                     B.1.1.348       FEMENINO                     1   \n",
       "                                               N.4             FEMENINO                     1   \n",
       "2021-04-05                                     B.1.1           FEMENINO                     1   \n",
       "                                               B.1.1.348       FEMENINO                     1   \n",
       "2021-04-08                                     NO AMPLIFICA    FEMENINO                     1   \n",
       "...                                                                                       ...   \n",
       "2021-08-26                                     GAMMA           MASCULINO                    3   \n",
       "2021-09-01                                     GAMMA           FEMENINO                     2   \n",
       "                                                               MASCULINO                    3   \n",
       "                                               LAMBDA          FEMENINO                     1   \n",
       "                                               NO AMPLIFICA    FEMENINO                     1   \n",
       "\n",
       "                                                                          informe  \\\n",
       "fecha_resultado_secuenciacion_genotipificacion variante_linaje sexo                 \n",
       "2021-03-21                                     B.1.1.348       FEMENINO         1   \n",
       "                                               N.4             FEMENINO         1   \n",
       "2021-04-05                                     B.1.1           FEMENINO         1   \n",
       "                                               B.1.1.348       FEMENINO         1   \n",
       "2021-04-08                                     NO AMPLIFICA    FEMENINO         1   \n",
       "...                                                                           ...   \n",
       "2021-08-26                                     GAMMA           MASCULINO        3   \n",
       "2021-09-01                                     GAMMA           FEMENINO         2   \n",
       "                                                               MASCULINO        3   \n",
       "                                               LAMBDA          FEMENINO         1   \n",
       "                                               NO AMPLIFICA    FEMENINO         1   \n",
       "\n",
       "                                                                          emisor_de_informe  \\\n",
       "fecha_resultado_secuenciacion_genotipificacion variante_linaje sexo                           \n",
       "2021-03-21                                     B.1.1.348       FEMENINO                   1   \n",
       "                                               N.4             FEMENINO                   1   \n",
       "2021-04-05                                     B.1.1           FEMENINO                   1   \n",
       "                                               B.1.1.348       FEMENINO                   1   \n",
       "2021-04-08                                     NO AMPLIFICA    FEMENINO                   1   \n",
       "...                                                                                     ...   \n",
       "2021-08-26                                     GAMMA           MASCULINO                  3   \n",
       "2021-09-01                                     GAMMA           FEMENINO                   2   \n",
       "                                                               MASCULINO                  3   \n",
       "                                               LAMBDA          FEMENINO                   1   \n",
       "                                               NO AMPLIFICA    FEMENINO                   1   \n",
       "\n",
       "                                                                          embarazo  \\\n",
       "fecha_resultado_secuenciacion_genotipificacion variante_linaje sexo                  \n",
       "2021-03-21                                     B.1.1.348       FEMENINO          0   \n",
       "                                               N.4             FEMENINO          0   \n",
       "2021-04-05                                     B.1.1           FEMENINO          0   \n",
       "                                               B.1.1.348       FEMENINO          0   \n",
       "2021-04-08                                     NO AMPLIFICA    FEMENINO          0   \n",
       "...                                                                            ...   \n",
       "2021-08-26                                     GAMMA           MASCULINO         0   \n",
       "2021-09-01                                     GAMMA           FEMENINO          1   \n",
       "                                                               MASCULINO         0   \n",
       "                                               LAMBDA          FEMENINO          0   \n",
       "                                               NO AMPLIFICA    FEMENINO          1   \n",
       "\n",
       "                                                                          comorbilidad  \\\n",
       "fecha_resultado_secuenciacion_genotipificacion variante_linaje sexo                      \n",
       "2021-03-21                                     B.1.1.348       FEMENINO              0   \n",
       "                                               N.4             FEMENINO              0   \n",
       "2021-04-05                                     B.1.1           FEMENINO              0   \n",
       "                                               B.1.1.348       FEMENINO              0   \n",
       "2021-04-08                                     NO AMPLIFICA    FEMENINO              0   \n",
       "...                                                                                ...   \n",
       "2021-08-26                                     GAMMA           MASCULINO             1   \n",
       "2021-09-01                                     GAMMA           FEMENINO              1   \n",
       "                                                               MASCULINO             0   \n",
       "                                               LAMBDA          FEMENINO              1   \n",
       "                                               NO AMPLIFICA    FEMENINO              0   \n",
       "\n",
       "                                                                          fis  \\\n",
       "fecha_resultado_secuenciacion_genotipificacion variante_linaje sexo             \n",
       "2021-03-21                                     B.1.1.348       FEMENINO     1   \n",
       "                                               N.4             FEMENINO     1   \n",
       "2021-04-05                                     B.1.1           FEMENINO     1   \n",
       "                                               B.1.1.348       FEMENINO     1   \n",
       "2021-04-08                                     NO AMPLIFICA    FEMENINO     1   \n",
       "...                                                                       ...   \n",
       "2021-08-26                                     GAMMA           MASCULINO    3   \n",
       "2021-09-01                                     GAMMA           FEMENINO     2   \n",
       "                                                               MASCULINO    3   \n",
       "                                               LAMBDA          FEMENINO     1   \n",
       "                                               NO AMPLIFICA    FEMENINO     1   \n",
       "\n",
       "                                                                          frs  \\\n",
       "fecha_resultado_secuenciacion_genotipificacion variante_linaje sexo             \n",
       "2021-03-21                                     B.1.1.348       FEMENINO     0   \n",
       "                                               N.4             FEMENINO     0   \n",
       "2021-04-05                                     B.1.1           FEMENINO     0   \n",
       "                                               B.1.1.348       FEMENINO     0   \n",
       "2021-04-08                                     NO AMPLIFICA    FEMENINO     0   \n",
       "...                                                                       ...   \n",
       "2021-08-26                                     GAMMA           MASCULINO    3   \n",
       "2021-09-01                                     GAMMA           FEMENINO     2   \n",
       "                                                               MASCULINO    3   \n",
       "                                               LAMBDA          FEMENINO     1   \n",
       "                                               NO AMPLIFICA    FEMENINO     1   \n",
       "\n",
       "                                                                          id_pntm  \\\n",
       "fecha_resultado_secuenciacion_genotipificacion variante_linaje sexo                 \n",
       "2021-03-21                                     B.1.1.348       FEMENINO         0   \n",
       "                                               N.4             FEMENINO         0   \n",
       "2021-04-05                                     B.1.1           FEMENINO         0   \n",
       "                                               B.1.1.348       FEMENINO         0   \n",
       "2021-04-08                                     NO AMPLIFICA    FEMENINO         0   \n",
       "...                                                                           ...   \n",
       "2021-08-26                                     GAMMA           MASCULINO        0   \n",
       "2021-09-01                                     GAMMA           FEMENINO         0   \n",
       "                                                               MASCULINO        0   \n",
       "                                               LAMBDA          FEMENINO         0   \n",
       "                                               NO AMPLIFICA    FEMENINO         0   \n",
       "\n",
       "                                                                          region_de_notificacion  \n",
       "fecha_resultado_secuenciacion_genotipificacion variante_linaje sexo                               \n",
       "2021-03-21                                     B.1.1.348       FEMENINO                        1  \n",
       "                                               N.4             FEMENINO                        1  \n",
       "2021-04-05                                     B.1.1           FEMENINO                        1  \n",
       "                                               B.1.1.348       FEMENINO                        1  \n",
       "2021-04-08                                     NO AMPLIFICA    FEMENINO                        1  \n",
       "...                                                                                          ...  \n",
       "2021-08-26                                     GAMMA           MASCULINO                       3  \n",
       "2021-09-01                                     GAMMA           FEMENINO                        2  \n",
       "                                                               MASCULINO                       3  \n",
       "                                               LAMBDA          FEMENINO                        1  \n",
       "                                               NO AMPLIFICA    FEMENINO                        1  \n",
       "\n",
       "[95 rows x 49 columns]"
      ]
     },
     "execution_count": 190,
     "metadata": {},
     "output_type": "execute_result"
    }
   ],
   "source": [
    "df_variantes_clean.groupby(['fecha_resultado_secuenciacion_genotipificacion', 'variante_linaje','sexo']).count()"
   ]
  },
  {
   "cell_type": "code",
   "execution_count": 191,
   "id": "ca0f3bda",
   "metadata": {},
   "outputs": [
    {
     "data": {
      "text/html": [
       "<div>\n",
       "<style scoped>\n",
       "    .dataframe tbody tr th:only-of-type {\n",
       "        vertical-align: middle;\n",
       "    }\n",
       "\n",
       "    .dataframe tbody tr th {\n",
       "        vertical-align: top;\n",
       "    }\n",
       "\n",
       "    .dataframe thead th {\n",
       "        text-align: right;\n",
       "    }\n",
       "</style>\n",
       "<table border=\"1\" class=\"dataframe\">\n",
       "  <thead>\n",
       "    <tr style=\"text-align: right;\">\n",
       "      <th></th>\n",
       "      <th></th>\n",
       "      <th></th>\n",
       "      <th>n_documento</th>\n",
       "      <th>tipo_documento</th>\n",
       "      <th>clasificacion_linaje</th>\n",
       "      <th>pango</th>\n",
       "      <th>tecnica</th>\n",
       "      <th>tipo_de_caso</th>\n",
       "      <th>folio_epivigila</th>\n",
       "      <th>nombre_completo</th>\n",
       "      <th>nacionalidad</th>\n",
       "      <th>estado_paciente</th>\n",
       "      <th>...</th>\n",
       "      <th>nombre_vacuna_3</th>\n",
       "      <th>vacuna_previo_a_ftm</th>\n",
       "      <th>informe</th>\n",
       "      <th>emisor_de_informe</th>\n",
       "      <th>embarazo</th>\n",
       "      <th>comorbilidad</th>\n",
       "      <th>fis</th>\n",
       "      <th>frs</th>\n",
       "      <th>id_pntm</th>\n",
       "      <th>region_de_notificacion</th>\n",
       "    </tr>\n",
       "    <tr>\n",
       "      <th>fecha_resultado_secuenciacion_genotipificacion</th>\n",
       "      <th>variante_linaje</th>\n",
       "      <th>edad</th>\n",
       "      <th></th>\n",
       "      <th></th>\n",
       "      <th></th>\n",
       "      <th></th>\n",
       "      <th></th>\n",
       "      <th></th>\n",
       "      <th></th>\n",
       "      <th></th>\n",
       "      <th></th>\n",
       "      <th></th>\n",
       "      <th></th>\n",
       "      <th></th>\n",
       "      <th></th>\n",
       "      <th></th>\n",
       "      <th></th>\n",
       "      <th></th>\n",
       "      <th></th>\n",
       "      <th></th>\n",
       "      <th></th>\n",
       "      <th></th>\n",
       "      <th></th>\n",
       "    </tr>\n",
       "  </thead>\n",
       "  <tbody>\n",
       "    <tr>\n",
       "      <th rowspan=\"2\" valign=\"top\">2021-03-21</th>\n",
       "      <th>B.1.1.348</th>\n",
       "      <th>52</th>\n",
       "      <td>1</td>\n",
       "      <td>0</td>\n",
       "      <td>1</td>\n",
       "      <td>1</td>\n",
       "      <td>1</td>\n",
       "      <td>1</td>\n",
       "      <td>1</td>\n",
       "      <td>1</td>\n",
       "      <td>1</td>\n",
       "      <td>0</td>\n",
       "      <td>...</td>\n",
       "      <td>0</td>\n",
       "      <td>1</td>\n",
       "      <td>1</td>\n",
       "      <td>1</td>\n",
       "      <td>0</td>\n",
       "      <td>0</td>\n",
       "      <td>1</td>\n",
       "      <td>0</td>\n",
       "      <td>0</td>\n",
       "      <td>1</td>\n",
       "    </tr>\n",
       "    <tr>\n",
       "      <th>N.4</th>\n",
       "      <th>67</th>\n",
       "      <td>1</td>\n",
       "      <td>0</td>\n",
       "      <td>1</td>\n",
       "      <td>1</td>\n",
       "      <td>1</td>\n",
       "      <td>1</td>\n",
       "      <td>1</td>\n",
       "      <td>1</td>\n",
       "      <td>1</td>\n",
       "      <td>0</td>\n",
       "      <td>...</td>\n",
       "      <td>1</td>\n",
       "      <td>1</td>\n",
       "      <td>1</td>\n",
       "      <td>1</td>\n",
       "      <td>0</td>\n",
       "      <td>0</td>\n",
       "      <td>1</td>\n",
       "      <td>0</td>\n",
       "      <td>0</td>\n",
       "      <td>1</td>\n",
       "    </tr>\n",
       "    <tr>\n",
       "      <th rowspan=\"2\" valign=\"top\">2021-04-05</th>\n",
       "      <th>B.1.1</th>\n",
       "      <th>35</th>\n",
       "      <td>1</td>\n",
       "      <td>0</td>\n",
       "      <td>1</td>\n",
       "      <td>1</td>\n",
       "      <td>1</td>\n",
       "      <td>1</td>\n",
       "      <td>1</td>\n",
       "      <td>1</td>\n",
       "      <td>1</td>\n",
       "      <td>0</td>\n",
       "      <td>...</td>\n",
       "      <td>0</td>\n",
       "      <td>1</td>\n",
       "      <td>1</td>\n",
       "      <td>1</td>\n",
       "      <td>0</td>\n",
       "      <td>0</td>\n",
       "      <td>1</td>\n",
       "      <td>0</td>\n",
       "      <td>0</td>\n",
       "      <td>1</td>\n",
       "    </tr>\n",
       "    <tr>\n",
       "      <th>B.1.1.348</th>\n",
       "      <th>61</th>\n",
       "      <td>1</td>\n",
       "      <td>0</td>\n",
       "      <td>1</td>\n",
       "      <td>1</td>\n",
       "      <td>1</td>\n",
       "      <td>1</td>\n",
       "      <td>1</td>\n",
       "      <td>1</td>\n",
       "      <td>1</td>\n",
       "      <td>0</td>\n",
       "      <td>...</td>\n",
       "      <td>0</td>\n",
       "      <td>1</td>\n",
       "      <td>1</td>\n",
       "      <td>1</td>\n",
       "      <td>0</td>\n",
       "      <td>0</td>\n",
       "      <td>1</td>\n",
       "      <td>0</td>\n",
       "      <td>0</td>\n",
       "      <td>1</td>\n",
       "    </tr>\n",
       "    <tr>\n",
       "      <th>2021-04-08</th>\n",
       "      <th>NO AMPLIFICA</th>\n",
       "      <th>SIN DATOS</th>\n",
       "      <td>1</td>\n",
       "      <td>0</td>\n",
       "      <td>1</td>\n",
       "      <td>1</td>\n",
       "      <td>1</td>\n",
       "      <td>1</td>\n",
       "      <td>1</td>\n",
       "      <td>1</td>\n",
       "      <td>1</td>\n",
       "      <td>0</td>\n",
       "      <td>...</td>\n",
       "      <td>0</td>\n",
       "      <td>1</td>\n",
       "      <td>1</td>\n",
       "      <td>1</td>\n",
       "      <td>0</td>\n",
       "      <td>0</td>\n",
       "      <td>1</td>\n",
       "      <td>0</td>\n",
       "      <td>0</td>\n",
       "      <td>1</td>\n",
       "    </tr>\n",
       "    <tr>\n",
       "      <th>...</th>\n",
       "      <th>...</th>\n",
       "      <th>...</th>\n",
       "      <td>...</td>\n",
       "      <td>...</td>\n",
       "      <td>...</td>\n",
       "      <td>...</td>\n",
       "      <td>...</td>\n",
       "      <td>...</td>\n",
       "      <td>...</td>\n",
       "      <td>...</td>\n",
       "      <td>...</td>\n",
       "      <td>...</td>\n",
       "      <td>...</td>\n",
       "      <td>...</td>\n",
       "      <td>...</td>\n",
       "      <td>...</td>\n",
       "      <td>...</td>\n",
       "      <td>...</td>\n",
       "      <td>...</td>\n",
       "      <td>...</td>\n",
       "      <td>...</td>\n",
       "      <td>...</td>\n",
       "      <td>...</td>\n",
       "    </tr>\n",
       "    <tr>\n",
       "      <th rowspan=\"5\" valign=\"top\">2021-09-01</th>\n",
       "      <th rowspan=\"3\" valign=\"top\">GAMMA</th>\n",
       "      <th>43</th>\n",
       "      <td>1</td>\n",
       "      <td>1</td>\n",
       "      <td>1</td>\n",
       "      <td>1</td>\n",
       "      <td>1</td>\n",
       "      <td>1</td>\n",
       "      <td>1</td>\n",
       "      <td>1</td>\n",
       "      <td>1</td>\n",
       "      <td>1</td>\n",
       "      <td>...</td>\n",
       "      <td>0</td>\n",
       "      <td>1</td>\n",
       "      <td>1</td>\n",
       "      <td>1</td>\n",
       "      <td>0</td>\n",
       "      <td>0</td>\n",
       "      <td>1</td>\n",
       "      <td>1</td>\n",
       "      <td>0</td>\n",
       "      <td>1</td>\n",
       "    </tr>\n",
       "    <tr>\n",
       "      <th>44</th>\n",
       "      <td>1</td>\n",
       "      <td>1</td>\n",
       "      <td>1</td>\n",
       "      <td>1</td>\n",
       "      <td>1</td>\n",
       "      <td>1</td>\n",
       "      <td>1</td>\n",
       "      <td>1</td>\n",
       "      <td>1</td>\n",
       "      <td>1</td>\n",
       "      <td>...</td>\n",
       "      <td>0</td>\n",
       "      <td>1</td>\n",
       "      <td>1</td>\n",
       "      <td>1</td>\n",
       "      <td>0</td>\n",
       "      <td>0</td>\n",
       "      <td>1</td>\n",
       "      <td>1</td>\n",
       "      <td>0</td>\n",
       "      <td>1</td>\n",
       "    </tr>\n",
       "    <tr>\n",
       "      <th>61</th>\n",
       "      <td>1</td>\n",
       "      <td>1</td>\n",
       "      <td>1</td>\n",
       "      <td>1</td>\n",
       "      <td>1</td>\n",
       "      <td>1</td>\n",
       "      <td>1</td>\n",
       "      <td>1</td>\n",
       "      <td>1</td>\n",
       "      <td>1</td>\n",
       "      <td>...</td>\n",
       "      <td>0</td>\n",
       "      <td>1</td>\n",
       "      <td>1</td>\n",
       "      <td>1</td>\n",
       "      <td>0</td>\n",
       "      <td>1</td>\n",
       "      <td>1</td>\n",
       "      <td>1</td>\n",
       "      <td>0</td>\n",
       "      <td>1</td>\n",
       "    </tr>\n",
       "    <tr>\n",
       "      <th>LAMBDA</th>\n",
       "      <th>61</th>\n",
       "      <td>1</td>\n",
       "      <td>1</td>\n",
       "      <td>1</td>\n",
       "      <td>1</td>\n",
       "      <td>1</td>\n",
       "      <td>1</td>\n",
       "      <td>1</td>\n",
       "      <td>1</td>\n",
       "      <td>1</td>\n",
       "      <td>1</td>\n",
       "      <td>...</td>\n",
       "      <td>0</td>\n",
       "      <td>1</td>\n",
       "      <td>1</td>\n",
       "      <td>1</td>\n",
       "      <td>0</td>\n",
       "      <td>1</td>\n",
       "      <td>1</td>\n",
       "      <td>1</td>\n",
       "      <td>0</td>\n",
       "      <td>1</td>\n",
       "    </tr>\n",
       "    <tr>\n",
       "      <th>NO AMPLIFICA</th>\n",
       "      <th>23</th>\n",
       "      <td>1</td>\n",
       "      <td>1</td>\n",
       "      <td>1</td>\n",
       "      <td>1</td>\n",
       "      <td>1</td>\n",
       "      <td>1</td>\n",
       "      <td>1</td>\n",
       "      <td>1</td>\n",
       "      <td>1</td>\n",
       "      <td>1</td>\n",
       "      <td>...</td>\n",
       "      <td>0</td>\n",
       "      <td>1</td>\n",
       "      <td>1</td>\n",
       "      <td>1</td>\n",
       "      <td>1</td>\n",
       "      <td>0</td>\n",
       "      <td>1</td>\n",
       "      <td>1</td>\n",
       "      <td>0</td>\n",
       "      <td>1</td>\n",
       "    </tr>\n",
       "  </tbody>\n",
       "</table>\n",
       "<p>219 rows × 49 columns</p>\n",
       "</div>"
      ],
      "text/plain": [
       "                                                                          n_documento  \\\n",
       "fecha_resultado_secuenciacion_genotipificacion variante_linaje edad                     \n",
       "2021-03-21                                     B.1.1.348       52                   1   \n",
       "                                               N.4             67                   1   \n",
       "2021-04-05                                     B.1.1           35                   1   \n",
       "                                               B.1.1.348       61                   1   \n",
       "2021-04-08                                     NO AMPLIFICA    SIN DATOS            1   \n",
       "...                                                                               ...   \n",
       "2021-09-01                                     GAMMA           43                   1   \n",
       "                                                               44                   1   \n",
       "                                                               61                   1   \n",
       "                                               LAMBDA          61                   1   \n",
       "                                               NO AMPLIFICA    23                   1   \n",
       "\n",
       "                                                                          tipo_documento  \\\n",
       "fecha_resultado_secuenciacion_genotipificacion variante_linaje edad                        \n",
       "2021-03-21                                     B.1.1.348       52                      0   \n",
       "                                               N.4             67                      0   \n",
       "2021-04-05                                     B.1.1           35                      0   \n",
       "                                               B.1.1.348       61                      0   \n",
       "2021-04-08                                     NO AMPLIFICA    SIN DATOS               0   \n",
       "...                                                                                  ...   \n",
       "2021-09-01                                     GAMMA           43                      1   \n",
       "                                                               44                      1   \n",
       "                                                               61                      1   \n",
       "                                               LAMBDA          61                      1   \n",
       "                                               NO AMPLIFICA    23                      1   \n",
       "\n",
       "                                                                          clasificacion_linaje  \\\n",
       "fecha_resultado_secuenciacion_genotipificacion variante_linaje edad                              \n",
       "2021-03-21                                     B.1.1.348       52                            1   \n",
       "                                               N.4             67                            1   \n",
       "2021-04-05                                     B.1.1           35                            1   \n",
       "                                               B.1.1.348       61                            1   \n",
       "2021-04-08                                     NO AMPLIFICA    SIN DATOS                     1   \n",
       "...                                                                                        ...   \n",
       "2021-09-01                                     GAMMA           43                            1   \n",
       "                                                               44                            1   \n",
       "                                                               61                            1   \n",
       "                                               LAMBDA          61                            1   \n",
       "                                               NO AMPLIFICA    23                            1   \n",
       "\n",
       "                                                                          pango  \\\n",
       "fecha_resultado_secuenciacion_genotipificacion variante_linaje edad               \n",
       "2021-03-21                                     B.1.1.348       52             1   \n",
       "                                               N.4             67             1   \n",
       "2021-04-05                                     B.1.1           35             1   \n",
       "                                               B.1.1.348       61             1   \n",
       "2021-04-08                                     NO AMPLIFICA    SIN DATOS      1   \n",
       "...                                                                         ...   \n",
       "2021-09-01                                     GAMMA           43             1   \n",
       "                                                               44             1   \n",
       "                                                               61             1   \n",
       "                                               LAMBDA          61             1   \n",
       "                                               NO AMPLIFICA    23             1   \n",
       "\n",
       "                                                                          tecnica  \\\n",
       "fecha_resultado_secuenciacion_genotipificacion variante_linaje edad                 \n",
       "2021-03-21                                     B.1.1.348       52               1   \n",
       "                                               N.4             67               1   \n",
       "2021-04-05                                     B.1.1           35               1   \n",
       "                                               B.1.1.348       61               1   \n",
       "2021-04-08                                     NO AMPLIFICA    SIN DATOS        1   \n",
       "...                                                                           ...   \n",
       "2021-09-01                                     GAMMA           43               1   \n",
       "                                                               44               1   \n",
       "                                                               61               1   \n",
       "                                               LAMBDA          61               1   \n",
       "                                               NO AMPLIFICA    23               1   \n",
       "\n",
       "                                                                          tipo_de_caso  \\\n",
       "fecha_resultado_secuenciacion_genotipificacion variante_linaje edad                      \n",
       "2021-03-21                                     B.1.1.348       52                    1   \n",
       "                                               N.4             67                    1   \n",
       "2021-04-05                                     B.1.1           35                    1   \n",
       "                                               B.1.1.348       61                    1   \n",
       "2021-04-08                                     NO AMPLIFICA    SIN DATOS             1   \n",
       "...                                                                                ...   \n",
       "2021-09-01                                     GAMMA           43                    1   \n",
       "                                                               44                    1   \n",
       "                                                               61                    1   \n",
       "                                               LAMBDA          61                    1   \n",
       "                                               NO AMPLIFICA    23                    1   \n",
       "\n",
       "                                                                          folio_epivigila  \\\n",
       "fecha_resultado_secuenciacion_genotipificacion variante_linaje edad                         \n",
       "2021-03-21                                     B.1.1.348       52                       1   \n",
       "                                               N.4             67                       1   \n",
       "2021-04-05                                     B.1.1           35                       1   \n",
       "                                               B.1.1.348       61                       1   \n",
       "2021-04-08                                     NO AMPLIFICA    SIN DATOS                1   \n",
       "...                                                                                   ...   \n",
       "2021-09-01                                     GAMMA           43                       1   \n",
       "                                                               44                       1   \n",
       "                                                               61                       1   \n",
       "                                               LAMBDA          61                       1   \n",
       "                                               NO AMPLIFICA    23                       1   \n",
       "\n",
       "                                                                          nombre_completo  \\\n",
       "fecha_resultado_secuenciacion_genotipificacion variante_linaje edad                         \n",
       "2021-03-21                                     B.1.1.348       52                       1   \n",
       "                                               N.4             67                       1   \n",
       "2021-04-05                                     B.1.1           35                       1   \n",
       "                                               B.1.1.348       61                       1   \n",
       "2021-04-08                                     NO AMPLIFICA    SIN DATOS                1   \n",
       "...                                                                                   ...   \n",
       "2021-09-01                                     GAMMA           43                       1   \n",
       "                                                               44                       1   \n",
       "                                                               61                       1   \n",
       "                                               LAMBDA          61                       1   \n",
       "                                               NO AMPLIFICA    23                       1   \n",
       "\n",
       "                                                                          nacionalidad  \\\n",
       "fecha_resultado_secuenciacion_genotipificacion variante_linaje edad                      \n",
       "2021-03-21                                     B.1.1.348       52                    1   \n",
       "                                               N.4             67                    1   \n",
       "2021-04-05                                     B.1.1           35                    1   \n",
       "                                               B.1.1.348       61                    1   \n",
       "2021-04-08                                     NO AMPLIFICA    SIN DATOS             1   \n",
       "...                                                                                ...   \n",
       "2021-09-01                                     GAMMA           43                    1   \n",
       "                                                               44                    1   \n",
       "                                                               61                    1   \n",
       "                                               LAMBDA          61                    1   \n",
       "                                               NO AMPLIFICA    23                    1   \n",
       "\n",
       "                                                                          estado_paciente  \\\n",
       "fecha_resultado_secuenciacion_genotipificacion variante_linaje edad                         \n",
       "2021-03-21                                     B.1.1.348       52                       0   \n",
       "                                               N.4             67                       0   \n",
       "2021-04-05                                     B.1.1           35                       0   \n",
       "                                               B.1.1.348       61                       0   \n",
       "2021-04-08                                     NO AMPLIFICA    SIN DATOS                0   \n",
       "...                                                                                   ...   \n",
       "2021-09-01                                     GAMMA           43                       1   \n",
       "                                                               44                       1   \n",
       "                                                               61                       1   \n",
       "                                               LAMBDA          61                       1   \n",
       "                                               NO AMPLIFICA    23                       1   \n",
       "\n",
       "                                                                          ...  \\\n",
       "fecha_resultado_secuenciacion_genotipificacion variante_linaje edad       ...   \n",
       "2021-03-21                                     B.1.1.348       52         ...   \n",
       "                                               N.4             67         ...   \n",
       "2021-04-05                                     B.1.1           35         ...   \n",
       "                                               B.1.1.348       61         ...   \n",
       "2021-04-08                                     NO AMPLIFICA    SIN DATOS  ...   \n",
       "...                                                                       ...   \n",
       "2021-09-01                                     GAMMA           43         ...   \n",
       "                                                               44         ...   \n",
       "                                                               61         ...   \n",
       "                                               LAMBDA          61         ...   \n",
       "                                               NO AMPLIFICA    23         ...   \n",
       "\n",
       "                                                                          nombre_vacuna_3  \\\n",
       "fecha_resultado_secuenciacion_genotipificacion variante_linaje edad                         \n",
       "2021-03-21                                     B.1.1.348       52                       0   \n",
       "                                               N.4             67                       1   \n",
       "2021-04-05                                     B.1.1           35                       0   \n",
       "                                               B.1.1.348       61                       0   \n",
       "2021-04-08                                     NO AMPLIFICA    SIN DATOS                0   \n",
       "...                                                                                   ...   \n",
       "2021-09-01                                     GAMMA           43                       0   \n",
       "                                                               44                       0   \n",
       "                                                               61                       0   \n",
       "                                               LAMBDA          61                       0   \n",
       "                                               NO AMPLIFICA    23                       0   \n",
       "\n",
       "                                                                          vacuna_previo_a_ftm  \\\n",
       "fecha_resultado_secuenciacion_genotipificacion variante_linaje edad                             \n",
       "2021-03-21                                     B.1.1.348       52                           1   \n",
       "                                               N.4             67                           1   \n",
       "2021-04-05                                     B.1.1           35                           1   \n",
       "                                               B.1.1.348       61                           1   \n",
       "2021-04-08                                     NO AMPLIFICA    SIN DATOS                    1   \n",
       "...                                                                                       ...   \n",
       "2021-09-01                                     GAMMA           43                           1   \n",
       "                                                               44                           1   \n",
       "                                                               61                           1   \n",
       "                                               LAMBDA          61                           1   \n",
       "                                               NO AMPLIFICA    23                           1   \n",
       "\n",
       "                                                                          informe  \\\n",
       "fecha_resultado_secuenciacion_genotipificacion variante_linaje edad                 \n",
       "2021-03-21                                     B.1.1.348       52               1   \n",
       "                                               N.4             67               1   \n",
       "2021-04-05                                     B.1.1           35               1   \n",
       "                                               B.1.1.348       61               1   \n",
       "2021-04-08                                     NO AMPLIFICA    SIN DATOS        1   \n",
       "...                                                                           ...   \n",
       "2021-09-01                                     GAMMA           43               1   \n",
       "                                                               44               1   \n",
       "                                                               61               1   \n",
       "                                               LAMBDA          61               1   \n",
       "                                               NO AMPLIFICA    23               1   \n",
       "\n",
       "                                                                          emisor_de_informe  \\\n",
       "fecha_resultado_secuenciacion_genotipificacion variante_linaje edad                           \n",
       "2021-03-21                                     B.1.1.348       52                         1   \n",
       "                                               N.4             67                         1   \n",
       "2021-04-05                                     B.1.1           35                         1   \n",
       "                                               B.1.1.348       61                         1   \n",
       "2021-04-08                                     NO AMPLIFICA    SIN DATOS                  1   \n",
       "...                                                                                     ...   \n",
       "2021-09-01                                     GAMMA           43                         1   \n",
       "                                                               44                         1   \n",
       "                                                               61                         1   \n",
       "                                               LAMBDA          61                         1   \n",
       "                                               NO AMPLIFICA    23                         1   \n",
       "\n",
       "                                                                          embarazo  \\\n",
       "fecha_resultado_secuenciacion_genotipificacion variante_linaje edad                  \n",
       "2021-03-21                                     B.1.1.348       52                0   \n",
       "                                               N.4             67                0   \n",
       "2021-04-05                                     B.1.1           35                0   \n",
       "                                               B.1.1.348       61                0   \n",
       "2021-04-08                                     NO AMPLIFICA    SIN DATOS         0   \n",
       "...                                                                            ...   \n",
       "2021-09-01                                     GAMMA           43                0   \n",
       "                                                               44                0   \n",
       "                                                               61                0   \n",
       "                                               LAMBDA          61                0   \n",
       "                                               NO AMPLIFICA    23                1   \n",
       "\n",
       "                                                                          comorbilidad  \\\n",
       "fecha_resultado_secuenciacion_genotipificacion variante_linaje edad                      \n",
       "2021-03-21                                     B.1.1.348       52                    0   \n",
       "                                               N.4             67                    0   \n",
       "2021-04-05                                     B.1.1           35                    0   \n",
       "                                               B.1.1.348       61                    0   \n",
       "2021-04-08                                     NO AMPLIFICA    SIN DATOS             0   \n",
       "...                                                                                ...   \n",
       "2021-09-01                                     GAMMA           43                    0   \n",
       "                                                               44                    0   \n",
       "                                                               61                    1   \n",
       "                                               LAMBDA          61                    1   \n",
       "                                               NO AMPLIFICA    23                    0   \n",
       "\n",
       "                                                                          fis  \\\n",
       "fecha_resultado_secuenciacion_genotipificacion variante_linaje edad             \n",
       "2021-03-21                                     B.1.1.348       52           1   \n",
       "                                               N.4             67           1   \n",
       "2021-04-05                                     B.1.1           35           1   \n",
       "                                               B.1.1.348       61           1   \n",
       "2021-04-08                                     NO AMPLIFICA    SIN DATOS    1   \n",
       "...                                                                       ...   \n",
       "2021-09-01                                     GAMMA           43           1   \n",
       "                                                               44           1   \n",
       "                                                               61           1   \n",
       "                                               LAMBDA          61           1   \n",
       "                                               NO AMPLIFICA    23           1   \n",
       "\n",
       "                                                                          frs  \\\n",
       "fecha_resultado_secuenciacion_genotipificacion variante_linaje edad             \n",
       "2021-03-21                                     B.1.1.348       52           0   \n",
       "                                               N.4             67           0   \n",
       "2021-04-05                                     B.1.1           35           0   \n",
       "                                               B.1.1.348       61           0   \n",
       "2021-04-08                                     NO AMPLIFICA    SIN DATOS    0   \n",
       "...                                                                       ...   \n",
       "2021-09-01                                     GAMMA           43           1   \n",
       "                                                               44           1   \n",
       "                                                               61           1   \n",
       "                                               LAMBDA          61           1   \n",
       "                                               NO AMPLIFICA    23           1   \n",
       "\n",
       "                                                                          id_pntm  \\\n",
       "fecha_resultado_secuenciacion_genotipificacion variante_linaje edad                 \n",
       "2021-03-21                                     B.1.1.348       52               0   \n",
       "                                               N.4             67               0   \n",
       "2021-04-05                                     B.1.1           35               0   \n",
       "                                               B.1.1.348       61               0   \n",
       "2021-04-08                                     NO AMPLIFICA    SIN DATOS        0   \n",
       "...                                                                           ...   \n",
       "2021-09-01                                     GAMMA           43               0   \n",
       "                                                               44               0   \n",
       "                                                               61               0   \n",
       "                                               LAMBDA          61               0   \n",
       "                                               NO AMPLIFICA    23               0   \n",
       "\n",
       "                                                                          region_de_notificacion  \n",
       "fecha_resultado_secuenciacion_genotipificacion variante_linaje edad                               \n",
       "2021-03-21                                     B.1.1.348       52                              1  \n",
       "                                               N.4             67                              1  \n",
       "2021-04-05                                     B.1.1           35                              1  \n",
       "                                               B.1.1.348       61                              1  \n",
       "2021-04-08                                     NO AMPLIFICA    SIN DATOS                       1  \n",
       "...                                                                                          ...  \n",
       "2021-09-01                                     GAMMA           43                              1  \n",
       "                                                               44                              1  \n",
       "                                                               61                              1  \n",
       "                                               LAMBDA          61                              1  \n",
       "                                               NO AMPLIFICA    23                              1  \n",
       "\n",
       "[219 rows x 49 columns]"
      ]
     },
     "execution_count": 191,
     "metadata": {},
     "output_type": "execute_result"
    }
   ],
   "source": [
    "df_variantes_clean.groupby(['fecha_resultado_secuenciacion_genotipificacion', 'variante_linaje','edad']).count()"
   ]
  },
  {
   "cell_type": "code",
   "execution_count": 210,
   "id": "cea058dd",
   "metadata": {},
   "outputs": [
    {
     "name": "stderr",
     "output_type": "stream",
     "text": [
      "<ipython-input-210-d9d33e45e181>:1: SettingWithCopyWarning:\n",
      "\n",
      "\n",
      "A value is trying to be set on a copy of a slice from a DataFrame.\n",
      "Try using .loc[row_indexer,col_indexer] = value instead\n",
      "\n",
      "See the caveats in the documentation: https://pandas.pydata.org/pandas-docs/stable/user_guide/indexing.html#returning-a-view-versus-a-copy\n",
      "\n"
     ]
    }
   ],
   "source": [
    "df_variantes_clean['edad'] = pd.to_numeric(df_variantes_clean['edad'],errors='coerce')"
   ]
  },
  {
   "cell_type": "code",
   "execution_count": 211,
   "id": "dbd63652",
   "metadata": {
    "scrolled": true
   },
   "outputs": [
    {
     "name": "stderr",
     "output_type": "stream",
     "text": [
      "<ipython-input-211-e958c1ebc875>:20: SettingWithCopyWarning:\n",
      "\n",
      "\n",
      "A value is trying to be set on a copy of a slice from a DataFrame.\n",
      "Try using .loc[row_indexer,col_indexer] = value instead\n",
      "\n",
      "See the caveats in the documentation: https://pandas.pydata.org/pandas-docs/stable/user_guide/indexing.html#returning-a-view-versus-a-copy\n",
      "\n"
     ]
    }
   ],
   "source": [
    "bins = pd.IntervalIndex.from_tuples([(0, 4), \n",
    "                                     (5, 9), \n",
    "                                     (10, 14),\n",
    "                                     (15, 19),\n",
    "                                     (20, 24), \n",
    "                                     (25, 29), \n",
    "                                     (30, 34),\n",
    "                                     (35, 39),\n",
    "                                     (40, 44), \n",
    "                                     (45, 49), \n",
    "                                     (50, 54),\n",
    "                                     (55, 59),\n",
    "                                     (60, 64), \n",
    "                                     (65, 69), \n",
    "                                     (70, 74),\n",
    "                                     (75, 79),\n",
    "                                     (80, 120)\n",
    "                                    ])\n",
    "\n",
    "df_variantes_clean['rango_edad'] = pd.cut(df_variantes_clean['edad'],bins, labels=True)"
   ]
  },
  {
   "cell_type": "code",
   "execution_count": 223,
   "id": "4c78b069",
   "metadata": {},
   "outputs": [
    {
     "name": "stderr",
     "output_type": "stream",
     "text": [
      "<ipython-input-223-e6319e1b1b6b>:12: SettingWithCopyWarning:\n",
      "\n",
      "\n",
      "A value is trying to be set on a copy of a slice from a DataFrame.\n",
      "Try using .loc[row_indexer,col_indexer] = value instead\n",
      "\n",
      "See the caveats in the documentation: https://pandas.pydata.org/pandas-docs/stable/user_guide/indexing.html#returning-a-view-versus-a-copy\n",
      "\n"
     ]
    }
   ],
   "source": [
    "bins2 = pd.IntervalIndex.from_tuples([(0, 9), \n",
    "                                     (10, 19),\n",
    "                                     (20, 29), \n",
    "                                     (30, 39),\n",
    "                                     (40, 49), \n",
    "                                     (50, 59),\n",
    "                                     (60, 69), \n",
    "                                     (70, 79),\n",
    "                                     (80, 120)\n",
    "                                    ])\n",
    "\n",
    "df_variantes_clean['rango_edad_10'] = pd.cut(df_variantes_clean['edad'],bins2, labels=True)"
   ]
  },
  {
   "cell_type": "code",
   "execution_count": 212,
   "id": "2d347262",
   "metadata": {},
   "outputs": [
    {
     "data": {
      "text/plain": [
       "0                NaN\n",
       "1       (20.0, 24.0]\n",
       "2       (40.0, 44.0]\n",
       "3       (40.0, 44.0]\n",
       "4       (40.0, 44.0]\n",
       "           ...      \n",
       "230     (75.0, 79.0]\n",
       "231     (75.0, 79.0]\n",
       "232    (80.0, 120.0]\n",
       "233    (80.0, 120.0]\n",
       "234    (80.0, 120.0]\n",
       "Name: rango_edad, Length: 234, dtype: category\n",
       "Categories (17, interval[int64]): [(0, 4] < (5, 9] < (10, 14] < (15, 19] ... (65, 69] < (70, 74] < (75, 79] < (80, 120]]"
      ]
     },
     "execution_count": 212,
     "metadata": {},
     "output_type": "execute_result"
    }
   ],
   "source": [
    "df_variantes_clean['rango_edad']"
   ]
  },
  {
   "cell_type": "code",
   "execution_count": 224,
   "id": "180cd770",
   "metadata": {},
   "outputs": [
    {
     "data": {
      "application/vnd.plotly.v1+json": {
       "config": {
        "plotlyServerURL": "https://plot.ly"
       },
       "data": [
        {
         "groupnorm": "percent",
         "hovertemplate": "Rango de edad=(0, 4]<br>fecha_resultado_secuenciacion_genotipificacion=%{x}<br>value=%{y}<extra></extra>",
         "legendgroup": "(0, 4]",
         "line": {
          "color": "#636efa"
         },
         "mode": "lines",
         "name": "(0, 4]",
         "orientation": "v",
         "showlegend": true,
         "stackgroup": "1",
         "type": "scatter",
         "x": [
          "2021-03-21T00:00:00",
          "2021-04-05T00:00:00",
          "2021-04-08T00:00:00",
          "2021-04-19T00:00:00",
          "2021-05-05T00:00:00",
          "2021-05-14T00:00:00",
          "2021-05-19T00:00:00",
          "2021-05-24T00:00:00",
          "2021-05-26T00:00:00",
          "2021-06-09T00:00:00",
          "2021-06-17T00:00:00",
          "2021-06-30T00:00:00",
          "2021-07-07T00:00:00",
          "2021-07-14T00:00:00",
          "2021-07-21T00:00:00",
          "2021-07-28T00:00:00",
          "2021-07-31T00:00:00",
          "2021-08-01T00:00:00",
          "2021-08-03T00:00:00",
          "2021-08-06T00:00:00",
          "2021-08-12T00:00:00",
          "2021-08-13T00:00:00",
          "2021-08-17T00:00:00",
          "2021-08-18T00:00:00",
          "2021-08-21T00:00:00",
          "2021-08-23T00:00:00",
          "2021-08-25T00:00:00",
          "2021-08-26T00:00:00",
          "2021-09-01T00:00:00"
         ],
         "xaxis": "x",
         "y": [
          0,
          0,
          0,
          0,
          0,
          0,
          0,
          0,
          0,
          0,
          1,
          1,
          1,
          1,
          1,
          1,
          1,
          1,
          1,
          1,
          1,
          1,
          2,
          2,
          2,
          2,
          3,
          3,
          3
         ],
         "yaxis": "y"
        },
        {
         "groupnorm": "percent",
         "hovertemplate": "Rango de edad=(5, 9]<br>fecha_resultado_secuenciacion_genotipificacion=%{x}<br>value=%{y}<extra></extra>",
         "legendgroup": "(5, 9]",
         "line": {
          "color": "#EF553B"
         },
         "mode": "lines",
         "name": "(5, 9]",
         "orientation": "v",
         "showlegend": true,
         "stackgroup": "1",
         "type": "scatter",
         "x": [
          "2021-03-21T00:00:00",
          "2021-04-05T00:00:00",
          "2021-04-08T00:00:00",
          "2021-04-19T00:00:00",
          "2021-05-05T00:00:00",
          "2021-05-14T00:00:00",
          "2021-05-19T00:00:00",
          "2021-05-24T00:00:00",
          "2021-05-26T00:00:00",
          "2021-06-09T00:00:00",
          "2021-06-17T00:00:00",
          "2021-06-30T00:00:00",
          "2021-07-07T00:00:00",
          "2021-07-14T00:00:00",
          "2021-07-21T00:00:00",
          "2021-07-28T00:00:00",
          "2021-07-31T00:00:00",
          "2021-08-01T00:00:00",
          "2021-08-03T00:00:00",
          "2021-08-06T00:00:00",
          "2021-08-12T00:00:00",
          "2021-08-13T00:00:00",
          "2021-08-17T00:00:00",
          "2021-08-18T00:00:00",
          "2021-08-21T00:00:00",
          "2021-08-23T00:00:00",
          "2021-08-25T00:00:00",
          "2021-08-26T00:00:00",
          "2021-09-01T00:00:00"
         ],
         "xaxis": "x",
         "y": [
          0,
          0,
          0,
          0,
          0,
          0,
          0,
          0,
          0,
          0,
          0,
          0,
          1,
          2,
          3,
          3,
          3,
          3,
          3,
          3,
          3,
          3,
          4,
          4,
          5,
          5,
          6,
          7,
          7
         ],
         "yaxis": "y"
        },
        {
         "groupnorm": "percent",
         "hovertemplate": "Rango de edad=(10, 14]<br>fecha_resultado_secuenciacion_genotipificacion=%{x}<br>value=%{y}<extra></extra>",
         "legendgroup": "(10, 14]",
         "line": {
          "color": "#00cc96"
         },
         "mode": "lines",
         "name": "(10, 14]",
         "orientation": "v",
         "showlegend": true,
         "stackgroup": "1",
         "type": "scatter",
         "x": [
          "2021-03-21T00:00:00",
          "2021-04-05T00:00:00",
          "2021-04-08T00:00:00",
          "2021-04-19T00:00:00",
          "2021-05-05T00:00:00",
          "2021-05-14T00:00:00",
          "2021-05-19T00:00:00",
          "2021-05-24T00:00:00",
          "2021-05-26T00:00:00",
          "2021-06-09T00:00:00",
          "2021-06-17T00:00:00",
          "2021-06-30T00:00:00",
          "2021-07-07T00:00:00",
          "2021-07-14T00:00:00",
          "2021-07-21T00:00:00",
          "2021-07-28T00:00:00",
          "2021-07-31T00:00:00",
          "2021-08-01T00:00:00",
          "2021-08-03T00:00:00",
          "2021-08-06T00:00:00",
          "2021-08-12T00:00:00",
          "2021-08-13T00:00:00",
          "2021-08-17T00:00:00",
          "2021-08-18T00:00:00",
          "2021-08-21T00:00:00",
          "2021-08-23T00:00:00",
          "2021-08-25T00:00:00",
          "2021-08-26T00:00:00",
          "2021-09-01T00:00:00"
         ],
         "xaxis": "x",
         "y": [
          0,
          0,
          0,
          0,
          0,
          1,
          1,
          1,
          1,
          1,
          1,
          1,
          2,
          3,
          4,
          4,
          4,
          4,
          4,
          5,
          5,
          6,
          6,
          7,
          7,
          7,
          8,
          8,
          8
         ],
         "yaxis": "y"
        },
        {
         "groupnorm": "percent",
         "hovertemplate": "Rango de edad=(15, 19]<br>fecha_resultado_secuenciacion_genotipificacion=%{x}<br>value=%{y}<extra></extra>",
         "legendgroup": "(15, 19]",
         "line": {
          "color": "#ab63fa"
         },
         "mode": "lines",
         "name": "(15, 19]",
         "orientation": "v",
         "showlegend": true,
         "stackgroup": "1",
         "type": "scatter",
         "x": [
          "2021-03-21T00:00:00",
          "2021-04-05T00:00:00",
          "2021-04-08T00:00:00",
          "2021-04-19T00:00:00",
          "2021-05-05T00:00:00",
          "2021-05-14T00:00:00",
          "2021-05-19T00:00:00",
          "2021-05-24T00:00:00",
          "2021-05-26T00:00:00",
          "2021-06-09T00:00:00",
          "2021-06-17T00:00:00",
          "2021-06-30T00:00:00",
          "2021-07-07T00:00:00",
          "2021-07-14T00:00:00",
          "2021-07-21T00:00:00",
          "2021-07-28T00:00:00",
          "2021-07-31T00:00:00",
          "2021-08-01T00:00:00",
          "2021-08-03T00:00:00",
          "2021-08-06T00:00:00",
          "2021-08-12T00:00:00",
          "2021-08-13T00:00:00",
          "2021-08-17T00:00:00",
          "2021-08-18T00:00:00",
          "2021-08-21T00:00:00",
          "2021-08-23T00:00:00",
          "2021-08-25T00:00:00",
          "2021-08-26T00:00:00",
          "2021-09-01T00:00:00"
         ],
         "xaxis": "x",
         "y": [
          0,
          0,
          0,
          0,
          1,
          2,
          2,
          2,
          8,
          9,
          10,
          11,
          13,
          15,
          18,
          18,
          18,
          18,
          18,
          19,
          19,
          20,
          20,
          20,
          20,
          20,
          21,
          21,
          21
         ],
         "yaxis": "y"
        },
        {
         "groupnorm": "percent",
         "hovertemplate": "Rango de edad=(20, 24]<br>fecha_resultado_secuenciacion_genotipificacion=%{x}<br>value=%{y}<extra></extra>",
         "legendgroup": "(20, 24]",
         "line": {
          "color": "#FFA15A"
         },
         "mode": "lines",
         "name": "(20, 24]",
         "orientation": "v",
         "showlegend": true,
         "stackgroup": "1",
         "type": "scatter",
         "x": [
          "2021-03-21T00:00:00",
          "2021-04-05T00:00:00",
          "2021-04-08T00:00:00",
          "2021-04-19T00:00:00",
          "2021-05-05T00:00:00",
          "2021-05-14T00:00:00",
          "2021-05-19T00:00:00",
          "2021-05-24T00:00:00",
          "2021-05-26T00:00:00",
          "2021-06-09T00:00:00",
          "2021-06-17T00:00:00",
          "2021-06-30T00:00:00",
          "2021-07-07T00:00:00",
          "2021-07-14T00:00:00",
          "2021-07-21T00:00:00",
          "2021-07-28T00:00:00",
          "2021-07-31T00:00:00",
          "2021-08-01T00:00:00",
          "2021-08-03T00:00:00",
          "2021-08-06T00:00:00",
          "2021-08-12T00:00:00",
          "2021-08-13T00:00:00",
          "2021-08-17T00:00:00",
          "2021-08-18T00:00:00",
          "2021-08-21T00:00:00",
          "2021-08-23T00:00:00",
          "2021-08-25T00:00:00",
          "2021-08-26T00:00:00",
          "2021-09-01T00:00:00"
         ],
         "xaxis": "x",
         "y": [
          0,
          0,
          0,
          1,
          1,
          1,
          1,
          1,
          2,
          3,
          3,
          5,
          5,
          9,
          11,
          11,
          12,
          12,
          12,
          12,
          13,
          14,
          15,
          15,
          15,
          17,
          18,
          19,
          20
         ],
         "yaxis": "y"
        },
        {
         "groupnorm": "percent",
         "hovertemplate": "Rango de edad=(25, 29]<br>fecha_resultado_secuenciacion_genotipificacion=%{x}<br>value=%{y}<extra></extra>",
         "legendgroup": "(25, 29]",
         "line": {
          "color": "#19d3f3"
         },
         "mode": "lines",
         "name": "(25, 29]",
         "orientation": "v",
         "showlegend": true,
         "stackgroup": "1",
         "type": "scatter",
         "x": [
          "2021-03-21T00:00:00",
          "2021-04-05T00:00:00",
          "2021-04-08T00:00:00",
          "2021-04-19T00:00:00",
          "2021-05-05T00:00:00",
          "2021-05-14T00:00:00",
          "2021-05-19T00:00:00",
          "2021-05-24T00:00:00",
          "2021-05-26T00:00:00",
          "2021-06-09T00:00:00",
          "2021-06-17T00:00:00",
          "2021-06-30T00:00:00",
          "2021-07-07T00:00:00",
          "2021-07-14T00:00:00",
          "2021-07-21T00:00:00",
          "2021-07-28T00:00:00",
          "2021-07-31T00:00:00",
          "2021-08-01T00:00:00",
          "2021-08-03T00:00:00",
          "2021-08-06T00:00:00",
          "2021-08-12T00:00:00",
          "2021-08-13T00:00:00",
          "2021-08-17T00:00:00",
          "2021-08-18T00:00:00",
          "2021-08-21T00:00:00",
          "2021-08-23T00:00:00",
          "2021-08-25T00:00:00",
          "2021-08-26T00:00:00",
          "2021-09-01T00:00:00"
         ],
         "xaxis": "x",
         "y": [
          0,
          0,
          0,
          0,
          1,
          2,
          5,
          6,
          7,
          7,
          7,
          7,
          10,
          11,
          14,
          14,
          14,
          14,
          14,
          14,
          14,
          14,
          15,
          15,
          15,
          15,
          16,
          16,
          16
         ],
         "yaxis": "y"
        },
        {
         "groupnorm": "percent",
         "hovertemplate": "Rango de edad=(30, 34]<br>fecha_resultado_secuenciacion_genotipificacion=%{x}<br>value=%{y}<extra></extra>",
         "legendgroup": "(30, 34]",
         "line": {
          "color": "#FF6692"
         },
         "mode": "lines",
         "name": "(30, 34]",
         "orientation": "v",
         "showlegend": true,
         "stackgroup": "1",
         "type": "scatter",
         "x": [
          "2021-03-21T00:00:00",
          "2021-04-05T00:00:00",
          "2021-04-08T00:00:00",
          "2021-04-19T00:00:00",
          "2021-05-05T00:00:00",
          "2021-05-14T00:00:00",
          "2021-05-19T00:00:00",
          "2021-05-24T00:00:00",
          "2021-05-26T00:00:00",
          "2021-06-09T00:00:00",
          "2021-06-17T00:00:00",
          "2021-06-30T00:00:00",
          "2021-07-07T00:00:00",
          "2021-07-14T00:00:00",
          "2021-07-21T00:00:00",
          "2021-07-28T00:00:00",
          "2021-07-31T00:00:00",
          "2021-08-01T00:00:00",
          "2021-08-03T00:00:00",
          "2021-08-06T00:00:00",
          "2021-08-12T00:00:00",
          "2021-08-13T00:00:00",
          "2021-08-17T00:00:00",
          "2021-08-18T00:00:00",
          "2021-08-21T00:00:00",
          "2021-08-23T00:00:00",
          "2021-08-25T00:00:00",
          "2021-08-26T00:00:00",
          "2021-09-01T00:00:00"
         ],
         "xaxis": "x",
         "y": [
          0,
          0,
          0,
          2,
          3,
          4,
          5,
          5,
          6,
          7,
          7,
          7,
          7,
          10,
          14,
          14,
          14,
          14,
          16,
          16,
          18,
          18,
          19,
          19,
          19,
          19,
          20,
          22,
          22
         ],
         "yaxis": "y"
        },
        {
         "groupnorm": "percent",
         "hovertemplate": "Rango de edad=(35, 39]<br>fecha_resultado_secuenciacion_genotipificacion=%{x}<br>value=%{y}<extra></extra>",
         "legendgroup": "(35, 39]",
         "line": {
          "color": "#B6E880"
         },
         "mode": "lines",
         "name": "(35, 39]",
         "orientation": "v",
         "showlegend": true,
         "stackgroup": "1",
         "type": "scatter",
         "x": [
          "2021-03-21T00:00:00",
          "2021-04-05T00:00:00",
          "2021-04-08T00:00:00",
          "2021-04-19T00:00:00",
          "2021-05-05T00:00:00",
          "2021-05-14T00:00:00",
          "2021-05-19T00:00:00",
          "2021-05-24T00:00:00",
          "2021-05-26T00:00:00",
          "2021-06-09T00:00:00",
          "2021-06-17T00:00:00",
          "2021-06-30T00:00:00",
          "2021-07-07T00:00:00",
          "2021-07-14T00:00:00",
          "2021-07-21T00:00:00",
          "2021-07-28T00:00:00",
          "2021-07-31T00:00:00",
          "2021-08-01T00:00:00",
          "2021-08-03T00:00:00",
          "2021-08-06T00:00:00",
          "2021-08-12T00:00:00",
          "2021-08-13T00:00:00",
          "2021-08-17T00:00:00",
          "2021-08-18T00:00:00",
          "2021-08-21T00:00:00",
          "2021-08-23T00:00:00",
          "2021-08-25T00:00:00",
          "2021-08-26T00:00:00",
          "2021-09-01T00:00:00"
         ],
         "xaxis": "x",
         "y": [
          0,
          0,
          0,
          0,
          0,
          2,
          4,
          4,
          5,
          5,
          5,
          6,
          6,
          8,
          9,
          9,
          9,
          9,
          9,
          10,
          10,
          10,
          11,
          11,
          11,
          11,
          11,
          11,
          11
         ],
         "yaxis": "y"
        },
        {
         "groupnorm": "percent",
         "hovertemplate": "Rango de edad=(40, 44]<br>fecha_resultado_secuenciacion_genotipificacion=%{x}<br>value=%{y}<extra></extra>",
         "legendgroup": "(40, 44]",
         "line": {
          "color": "#FF97FF"
         },
         "mode": "lines",
         "name": "(40, 44]",
         "orientation": "v",
         "showlegend": true,
         "stackgroup": "1",
         "type": "scatter",
         "x": [
          "2021-03-21T00:00:00",
          "2021-04-05T00:00:00",
          "2021-04-08T00:00:00",
          "2021-04-19T00:00:00",
          "2021-05-05T00:00:00",
          "2021-05-14T00:00:00",
          "2021-05-19T00:00:00",
          "2021-05-24T00:00:00",
          "2021-05-26T00:00:00",
          "2021-06-09T00:00:00",
          "2021-06-17T00:00:00",
          "2021-06-30T00:00:00",
          "2021-07-07T00:00:00",
          "2021-07-14T00:00:00",
          "2021-07-21T00:00:00",
          "2021-07-28T00:00:00",
          "2021-07-31T00:00:00",
          "2021-08-01T00:00:00",
          "2021-08-03T00:00:00",
          "2021-08-06T00:00:00",
          "2021-08-12T00:00:00",
          "2021-08-13T00:00:00",
          "2021-08-17T00:00:00",
          "2021-08-18T00:00:00",
          "2021-08-21T00:00:00",
          "2021-08-23T00:00:00",
          "2021-08-25T00:00:00",
          "2021-08-26T00:00:00",
          "2021-09-01T00:00:00"
         ],
         "xaxis": "x",
         "y": [
          0,
          0,
          0,
          1,
          1,
          2,
          2,
          2,
          3,
          3,
          3,
          3,
          4,
          5,
          5,
          5,
          7,
          7,
          7,
          8,
          9,
          9,
          9,
          10,
          10,
          13,
          13,
          13,
          16
         ],
         "yaxis": "y"
        },
        {
         "groupnorm": "percent",
         "hovertemplate": "Rango de edad=(45, 49]<br>fecha_resultado_secuenciacion_genotipificacion=%{x}<br>value=%{y}<extra></extra>",
         "legendgroup": "(45, 49]",
         "line": {
          "color": "#FECB52"
         },
         "mode": "lines",
         "name": "(45, 49]",
         "orientation": "v",
         "showlegend": true,
         "stackgroup": "1",
         "type": "scatter",
         "x": [
          "2021-03-21T00:00:00",
          "2021-04-05T00:00:00",
          "2021-04-08T00:00:00",
          "2021-04-19T00:00:00",
          "2021-05-05T00:00:00",
          "2021-05-14T00:00:00",
          "2021-05-19T00:00:00",
          "2021-05-24T00:00:00",
          "2021-05-26T00:00:00",
          "2021-06-09T00:00:00",
          "2021-06-17T00:00:00",
          "2021-06-30T00:00:00",
          "2021-07-07T00:00:00",
          "2021-07-14T00:00:00",
          "2021-07-21T00:00:00",
          "2021-07-28T00:00:00",
          "2021-07-31T00:00:00",
          "2021-08-01T00:00:00",
          "2021-08-03T00:00:00",
          "2021-08-06T00:00:00",
          "2021-08-12T00:00:00",
          "2021-08-13T00:00:00",
          "2021-08-17T00:00:00",
          "2021-08-18T00:00:00",
          "2021-08-21T00:00:00",
          "2021-08-23T00:00:00",
          "2021-08-25T00:00:00",
          "2021-08-26T00:00:00",
          "2021-09-01T00:00:00"
         ],
         "xaxis": "x",
         "y": [
          0,
          0,
          0,
          0,
          1,
          1,
          2,
          2,
          2,
          3,
          4,
          5,
          6,
          9,
          10,
          10,
          10,
          10,
          10,
          11,
          11,
          13,
          13,
          14,
          14,
          14,
          17,
          18,
          18
         ],
         "yaxis": "y"
        },
        {
         "groupnorm": "percent",
         "hovertemplate": "Rango de edad=(50, 54]<br>fecha_resultado_secuenciacion_genotipificacion=%{x}<br>value=%{y}<extra></extra>",
         "legendgroup": "(50, 54]",
         "line": {
          "color": "#636efa"
         },
         "mode": "lines",
         "name": "(50, 54]",
         "orientation": "v",
         "showlegend": true,
         "stackgroup": "1",
         "type": "scatter",
         "x": [
          "2021-03-21T00:00:00",
          "2021-04-05T00:00:00",
          "2021-04-08T00:00:00",
          "2021-04-19T00:00:00",
          "2021-05-05T00:00:00",
          "2021-05-14T00:00:00",
          "2021-05-19T00:00:00",
          "2021-05-24T00:00:00",
          "2021-05-26T00:00:00",
          "2021-06-09T00:00:00",
          "2021-06-17T00:00:00",
          "2021-06-30T00:00:00",
          "2021-07-07T00:00:00",
          "2021-07-14T00:00:00",
          "2021-07-21T00:00:00",
          "2021-07-28T00:00:00",
          "2021-07-31T00:00:00",
          "2021-08-01T00:00:00",
          "2021-08-03T00:00:00",
          "2021-08-06T00:00:00",
          "2021-08-12T00:00:00",
          "2021-08-13T00:00:00",
          "2021-08-17T00:00:00",
          "2021-08-18T00:00:00",
          "2021-08-21T00:00:00",
          "2021-08-23T00:00:00",
          "2021-08-25T00:00:00",
          "2021-08-26T00:00:00",
          "2021-09-01T00:00:00"
         ],
         "xaxis": "x",
         "y": [
          1,
          1,
          1,
          1,
          1,
          2,
          2,
          2,
          3,
          5,
          5,
          6,
          6,
          7,
          10,
          10,
          10,
          10,
          10,
          10,
          10,
          10,
          10,
          10,
          10,
          10,
          10,
          10,
          10
         ],
         "yaxis": "y"
        },
        {
         "groupnorm": "percent",
         "hovertemplate": "Rango de edad=(55, 59]<br>fecha_resultado_secuenciacion_genotipificacion=%{x}<br>value=%{y}<extra></extra>",
         "legendgroup": "(55, 59]",
         "line": {
          "color": "#EF553B"
         },
         "mode": "lines",
         "name": "(55, 59]",
         "orientation": "v",
         "showlegend": true,
         "stackgroup": "1",
         "type": "scatter",
         "x": [
          "2021-03-21T00:00:00",
          "2021-04-05T00:00:00",
          "2021-04-08T00:00:00",
          "2021-04-19T00:00:00",
          "2021-05-05T00:00:00",
          "2021-05-14T00:00:00",
          "2021-05-19T00:00:00",
          "2021-05-24T00:00:00",
          "2021-05-26T00:00:00",
          "2021-06-09T00:00:00",
          "2021-06-17T00:00:00",
          "2021-06-30T00:00:00",
          "2021-07-07T00:00:00",
          "2021-07-14T00:00:00",
          "2021-07-21T00:00:00",
          "2021-07-28T00:00:00",
          "2021-07-31T00:00:00",
          "2021-08-01T00:00:00",
          "2021-08-03T00:00:00",
          "2021-08-06T00:00:00",
          "2021-08-12T00:00:00",
          "2021-08-13T00:00:00",
          "2021-08-17T00:00:00",
          "2021-08-18T00:00:00",
          "2021-08-21T00:00:00",
          "2021-08-23T00:00:00",
          "2021-08-25T00:00:00",
          "2021-08-26T00:00:00",
          "2021-09-01T00:00:00"
         ],
         "xaxis": "x",
         "y": [
          0,
          0,
          0,
          0,
          0,
          0,
          0,
          0,
          1,
          1,
          1,
          1,
          2,
          3,
          5,
          6,
          6,
          6,
          6,
          6,
          6,
          6,
          6,
          6,
          6,
          6,
          6,
          6,
          6
         ],
         "yaxis": "y"
        },
        {
         "groupnorm": "percent",
         "hovertemplate": "Rango de edad=(60, 64]<br>fecha_resultado_secuenciacion_genotipificacion=%{x}<br>value=%{y}<extra></extra>",
         "legendgroup": "(60, 64]",
         "line": {
          "color": "#00cc96"
         },
         "mode": "lines",
         "name": "(60, 64]",
         "orientation": "v",
         "showlegend": true,
         "stackgroup": "1",
         "type": "scatter",
         "x": [
          "2021-03-21T00:00:00",
          "2021-04-05T00:00:00",
          "2021-04-08T00:00:00",
          "2021-04-19T00:00:00",
          "2021-05-05T00:00:00",
          "2021-05-14T00:00:00",
          "2021-05-19T00:00:00",
          "2021-05-24T00:00:00",
          "2021-05-26T00:00:00",
          "2021-06-09T00:00:00",
          "2021-06-17T00:00:00",
          "2021-06-30T00:00:00",
          "2021-07-07T00:00:00",
          "2021-07-14T00:00:00",
          "2021-07-21T00:00:00",
          "2021-07-28T00:00:00",
          "2021-07-31T00:00:00",
          "2021-08-01T00:00:00",
          "2021-08-03T00:00:00",
          "2021-08-06T00:00:00",
          "2021-08-12T00:00:00",
          "2021-08-13T00:00:00",
          "2021-08-17T00:00:00",
          "2021-08-18T00:00:00",
          "2021-08-21T00:00:00",
          "2021-08-23T00:00:00",
          "2021-08-25T00:00:00",
          "2021-08-26T00:00:00",
          "2021-09-01T00:00:00"
         ],
         "xaxis": "x",
         "y": [
          0,
          1,
          1,
          1,
          2,
          2,
          2,
          2,
          2,
          3,
          3,
          4,
          5,
          6,
          7,
          7,
          7,
          7,
          7,
          8,
          8,
          8,
          9,
          9,
          10,
          11,
          11,
          11,
          13
         ],
         "yaxis": "y"
        },
        {
         "groupnorm": "percent",
         "hovertemplate": "Rango de edad=(65, 69]<br>fecha_resultado_secuenciacion_genotipificacion=%{x}<br>value=%{y}<extra></extra>",
         "legendgroup": "(65, 69]",
         "line": {
          "color": "#ab63fa"
         },
         "mode": "lines",
         "name": "(65, 69]",
         "orientation": "v",
         "showlegend": true,
         "stackgroup": "1",
         "type": "scatter",
         "x": [
          "2021-03-21T00:00:00",
          "2021-04-05T00:00:00",
          "2021-04-08T00:00:00",
          "2021-04-19T00:00:00",
          "2021-05-05T00:00:00",
          "2021-05-14T00:00:00",
          "2021-05-19T00:00:00",
          "2021-05-24T00:00:00",
          "2021-05-26T00:00:00",
          "2021-06-09T00:00:00",
          "2021-06-17T00:00:00",
          "2021-06-30T00:00:00",
          "2021-07-07T00:00:00",
          "2021-07-14T00:00:00",
          "2021-07-21T00:00:00",
          "2021-07-28T00:00:00",
          "2021-07-31T00:00:00",
          "2021-08-01T00:00:00",
          "2021-08-03T00:00:00",
          "2021-08-06T00:00:00",
          "2021-08-12T00:00:00",
          "2021-08-13T00:00:00",
          "2021-08-17T00:00:00",
          "2021-08-18T00:00:00",
          "2021-08-21T00:00:00",
          "2021-08-23T00:00:00",
          "2021-08-25T00:00:00",
          "2021-08-26T00:00:00",
          "2021-09-01T00:00:00"
         ],
         "xaxis": "x",
         "y": [
          1,
          1,
          1,
          1,
          1,
          2,
          2,
          2,
          2,
          2,
          2,
          2,
          2,
          2,
          3,
          3,
          3,
          3,
          3,
          3,
          3,
          3,
          3,
          3,
          4,
          5,
          5,
          5,
          5
         ],
         "yaxis": "y"
        },
        {
         "groupnorm": "percent",
         "hovertemplate": "Rango de edad=(70, 74]<br>fecha_resultado_secuenciacion_genotipificacion=%{x}<br>value=%{y}<extra></extra>",
         "legendgroup": "(70, 74]",
         "line": {
          "color": "#FFA15A"
         },
         "mode": "lines",
         "name": "(70, 74]",
         "orientation": "v",
         "showlegend": true,
         "stackgroup": "1",
         "type": "scatter",
         "x": [
          "2021-03-21T00:00:00",
          "2021-04-05T00:00:00",
          "2021-04-08T00:00:00",
          "2021-04-19T00:00:00",
          "2021-05-05T00:00:00",
          "2021-05-14T00:00:00",
          "2021-05-19T00:00:00",
          "2021-05-24T00:00:00",
          "2021-05-26T00:00:00",
          "2021-06-09T00:00:00",
          "2021-06-17T00:00:00",
          "2021-06-30T00:00:00",
          "2021-07-07T00:00:00",
          "2021-07-14T00:00:00",
          "2021-07-21T00:00:00",
          "2021-07-28T00:00:00",
          "2021-07-31T00:00:00",
          "2021-08-01T00:00:00",
          "2021-08-03T00:00:00",
          "2021-08-06T00:00:00",
          "2021-08-12T00:00:00",
          "2021-08-13T00:00:00",
          "2021-08-17T00:00:00",
          "2021-08-18T00:00:00",
          "2021-08-21T00:00:00",
          "2021-08-23T00:00:00",
          "2021-08-25T00:00:00",
          "2021-08-26T00:00:00",
          "2021-09-01T00:00:00"
         ],
         "xaxis": "x",
         "y": [
          0,
          0,
          0,
          0,
          0,
          0,
          0,
          0,
          1,
          1,
          1,
          1,
          1,
          1,
          1,
          1,
          1,
          1,
          1,
          1,
          1,
          2,
          2,
          2,
          2,
          2,
          2,
          2,
          2
         ],
         "yaxis": "y"
        },
        {
         "groupnorm": "percent",
         "hovertemplate": "Rango de edad=(75, 79]<br>fecha_resultado_secuenciacion_genotipificacion=%{x}<br>value=%{y}<extra></extra>",
         "legendgroup": "(75, 79]",
         "line": {
          "color": "#19d3f3"
         },
         "mode": "lines",
         "name": "(75, 79]",
         "orientation": "v",
         "showlegend": true,
         "stackgroup": "1",
         "type": "scatter",
         "x": [
          "2021-03-21T00:00:00",
          "2021-04-05T00:00:00",
          "2021-04-08T00:00:00",
          "2021-04-19T00:00:00",
          "2021-05-05T00:00:00",
          "2021-05-14T00:00:00",
          "2021-05-19T00:00:00",
          "2021-05-24T00:00:00",
          "2021-05-26T00:00:00",
          "2021-06-09T00:00:00",
          "2021-06-17T00:00:00",
          "2021-06-30T00:00:00",
          "2021-07-07T00:00:00",
          "2021-07-14T00:00:00",
          "2021-07-21T00:00:00",
          "2021-07-28T00:00:00",
          "2021-07-31T00:00:00",
          "2021-08-01T00:00:00",
          "2021-08-03T00:00:00",
          "2021-08-06T00:00:00",
          "2021-08-12T00:00:00",
          "2021-08-13T00:00:00",
          "2021-08-17T00:00:00",
          "2021-08-18T00:00:00",
          "2021-08-21T00:00:00",
          "2021-08-23T00:00:00",
          "2021-08-25T00:00:00",
          "2021-08-26T00:00:00",
          "2021-09-01T00:00:00"
         ],
         "xaxis": "x",
         "y": [
          0,
          0,
          0,
          0,
          0,
          0,
          0,
          0,
          0,
          0,
          1,
          1,
          1,
          2,
          2,
          2,
          2,
          2,
          2,
          3,
          3,
          3,
          3,
          3,
          3,
          3,
          3,
          3,
          3
         ],
         "yaxis": "y"
        },
        {
         "groupnorm": "percent",
         "hovertemplate": "Rango de edad=(80, 120]<br>fecha_resultado_secuenciacion_genotipificacion=%{x}<br>value=%{y}<extra></extra>",
         "legendgroup": "(80, 120]",
         "line": {
          "color": "#FF6692"
         },
         "mode": "lines",
         "name": "(80, 120]",
         "orientation": "v",
         "showlegend": true,
         "stackgroup": "1",
         "type": "scatter",
         "x": [
          "2021-03-21T00:00:00",
          "2021-04-05T00:00:00",
          "2021-04-08T00:00:00",
          "2021-04-19T00:00:00",
          "2021-05-05T00:00:00",
          "2021-05-14T00:00:00",
          "2021-05-19T00:00:00",
          "2021-05-24T00:00:00",
          "2021-05-26T00:00:00",
          "2021-06-09T00:00:00",
          "2021-06-17T00:00:00",
          "2021-06-30T00:00:00",
          "2021-07-07T00:00:00",
          "2021-07-14T00:00:00",
          "2021-07-21T00:00:00",
          "2021-07-28T00:00:00",
          "2021-07-31T00:00:00",
          "2021-08-01T00:00:00",
          "2021-08-03T00:00:00",
          "2021-08-06T00:00:00",
          "2021-08-12T00:00:00",
          "2021-08-13T00:00:00",
          "2021-08-17T00:00:00",
          "2021-08-18T00:00:00",
          "2021-08-21T00:00:00",
          "2021-08-23T00:00:00",
          "2021-08-25T00:00:00",
          "2021-08-26T00:00:00",
          "2021-09-01T00:00:00"
         ],
         "xaxis": "x",
         "y": [
          0,
          0,
          0,
          0,
          0,
          0,
          0,
          0,
          0,
          0,
          0,
          0,
          2,
          4,
          4,
          4,
          4,
          4,
          4,
          4,
          4,
          4,
          4,
          4,
          4,
          4,
          4,
          4,
          4
         ],
         "yaxis": "y"
        }
       ],
       "layout": {
        "legend": {
         "title": {
          "text": "Rango de edad"
         },
         "tracegroupgap": 0
        },
        "margin": {
         "t": 60
        },
        "template": {
         "data": {
          "bar": [
           {
            "error_x": {
             "color": "rgb(36,36,36)"
            },
            "error_y": {
             "color": "rgb(36,36,36)"
            },
            "marker": {
             "line": {
              "color": "white",
              "width": 0.5
             }
            },
            "type": "bar"
           }
          ],
          "barpolar": [
           {
            "marker": {
             "line": {
              "color": "white",
              "width": 0.5
             }
            },
            "type": "barpolar"
           }
          ],
          "carpet": [
           {
            "aaxis": {
             "endlinecolor": "rgb(36,36,36)",
             "gridcolor": "white",
             "linecolor": "white",
             "minorgridcolor": "white",
             "startlinecolor": "rgb(36,36,36)"
            },
            "baxis": {
             "endlinecolor": "rgb(36,36,36)",
             "gridcolor": "white",
             "linecolor": "white",
             "minorgridcolor": "white",
             "startlinecolor": "rgb(36,36,36)"
            },
            "type": "carpet"
           }
          ],
          "choropleth": [
           {
            "colorbar": {
             "outlinewidth": 1,
             "tickcolor": "rgb(36,36,36)",
             "ticks": "outside"
            },
            "type": "choropleth"
           }
          ],
          "contour": [
           {
            "colorbar": {
             "outlinewidth": 1,
             "tickcolor": "rgb(36,36,36)",
             "ticks": "outside"
            },
            "colorscale": [
             [
              0,
              "#440154"
             ],
             [
              0.1111111111111111,
              "#482878"
             ],
             [
              0.2222222222222222,
              "#3e4989"
             ],
             [
              0.3333333333333333,
              "#31688e"
             ],
             [
              0.4444444444444444,
              "#26828e"
             ],
             [
              0.5555555555555556,
              "#1f9e89"
             ],
             [
              0.6666666666666666,
              "#35b779"
             ],
             [
              0.7777777777777778,
              "#6ece58"
             ],
             [
              0.8888888888888888,
              "#b5de2b"
             ],
             [
              1,
              "#fde725"
             ]
            ],
            "type": "contour"
           }
          ],
          "contourcarpet": [
           {
            "colorbar": {
             "outlinewidth": 1,
             "tickcolor": "rgb(36,36,36)",
             "ticks": "outside"
            },
            "type": "contourcarpet"
           }
          ],
          "heatmap": [
           {
            "colorbar": {
             "outlinewidth": 1,
             "tickcolor": "rgb(36,36,36)",
             "ticks": "outside"
            },
            "colorscale": [
             [
              0,
              "#440154"
             ],
             [
              0.1111111111111111,
              "#482878"
             ],
             [
              0.2222222222222222,
              "#3e4989"
             ],
             [
              0.3333333333333333,
              "#31688e"
             ],
             [
              0.4444444444444444,
              "#26828e"
             ],
             [
              0.5555555555555556,
              "#1f9e89"
             ],
             [
              0.6666666666666666,
              "#35b779"
             ],
             [
              0.7777777777777778,
              "#6ece58"
             ],
             [
              0.8888888888888888,
              "#b5de2b"
             ],
             [
              1,
              "#fde725"
             ]
            ],
            "type": "heatmap"
           }
          ],
          "heatmapgl": [
           {
            "colorbar": {
             "outlinewidth": 1,
             "tickcolor": "rgb(36,36,36)",
             "ticks": "outside"
            },
            "colorscale": [
             [
              0,
              "#440154"
             ],
             [
              0.1111111111111111,
              "#482878"
             ],
             [
              0.2222222222222222,
              "#3e4989"
             ],
             [
              0.3333333333333333,
              "#31688e"
             ],
             [
              0.4444444444444444,
              "#26828e"
             ],
             [
              0.5555555555555556,
              "#1f9e89"
             ],
             [
              0.6666666666666666,
              "#35b779"
             ],
             [
              0.7777777777777778,
              "#6ece58"
             ],
             [
              0.8888888888888888,
              "#b5de2b"
             ],
             [
              1,
              "#fde725"
             ]
            ],
            "type": "heatmapgl"
           }
          ],
          "histogram": [
           {
            "marker": {
             "line": {
              "color": "white",
              "width": 0.6
             }
            },
            "type": "histogram"
           }
          ],
          "histogram2d": [
           {
            "colorbar": {
             "outlinewidth": 1,
             "tickcolor": "rgb(36,36,36)",
             "ticks": "outside"
            },
            "colorscale": [
             [
              0,
              "#440154"
             ],
             [
              0.1111111111111111,
              "#482878"
             ],
             [
              0.2222222222222222,
              "#3e4989"
             ],
             [
              0.3333333333333333,
              "#31688e"
             ],
             [
              0.4444444444444444,
              "#26828e"
             ],
             [
              0.5555555555555556,
              "#1f9e89"
             ],
             [
              0.6666666666666666,
              "#35b779"
             ],
             [
              0.7777777777777778,
              "#6ece58"
             ],
             [
              0.8888888888888888,
              "#b5de2b"
             ],
             [
              1,
              "#fde725"
             ]
            ],
            "type": "histogram2d"
           }
          ],
          "histogram2dcontour": [
           {
            "colorbar": {
             "outlinewidth": 1,
             "tickcolor": "rgb(36,36,36)",
             "ticks": "outside"
            },
            "colorscale": [
             [
              0,
              "#440154"
             ],
             [
              0.1111111111111111,
              "#482878"
             ],
             [
              0.2222222222222222,
              "#3e4989"
             ],
             [
              0.3333333333333333,
              "#31688e"
             ],
             [
              0.4444444444444444,
              "#26828e"
             ],
             [
              0.5555555555555556,
              "#1f9e89"
             ],
             [
              0.6666666666666666,
              "#35b779"
             ],
             [
              0.7777777777777778,
              "#6ece58"
             ],
             [
              0.8888888888888888,
              "#b5de2b"
             ],
             [
              1,
              "#fde725"
             ]
            ],
            "type": "histogram2dcontour"
           }
          ],
          "mesh3d": [
           {
            "colorbar": {
             "outlinewidth": 1,
             "tickcolor": "rgb(36,36,36)",
             "ticks": "outside"
            },
            "type": "mesh3d"
           }
          ],
          "parcoords": [
           {
            "line": {
             "colorbar": {
              "outlinewidth": 1,
              "tickcolor": "rgb(36,36,36)",
              "ticks": "outside"
             }
            },
            "type": "parcoords"
           }
          ],
          "pie": [
           {
            "automargin": true,
            "type": "pie"
           }
          ],
          "scatter": [
           {
            "marker": {
             "colorbar": {
              "outlinewidth": 1,
              "tickcolor": "rgb(36,36,36)",
              "ticks": "outside"
             }
            },
            "type": "scatter"
           }
          ],
          "scatter3d": [
           {
            "line": {
             "colorbar": {
              "outlinewidth": 1,
              "tickcolor": "rgb(36,36,36)",
              "ticks": "outside"
             }
            },
            "marker": {
             "colorbar": {
              "outlinewidth": 1,
              "tickcolor": "rgb(36,36,36)",
              "ticks": "outside"
             }
            },
            "type": "scatter3d"
           }
          ],
          "scattercarpet": [
           {
            "marker": {
             "colorbar": {
              "outlinewidth": 1,
              "tickcolor": "rgb(36,36,36)",
              "ticks": "outside"
             }
            },
            "type": "scattercarpet"
           }
          ],
          "scattergeo": [
           {
            "marker": {
             "colorbar": {
              "outlinewidth": 1,
              "tickcolor": "rgb(36,36,36)",
              "ticks": "outside"
             }
            },
            "type": "scattergeo"
           }
          ],
          "scattergl": [
           {
            "marker": {
             "colorbar": {
              "outlinewidth": 1,
              "tickcolor": "rgb(36,36,36)",
              "ticks": "outside"
             }
            },
            "type": "scattergl"
           }
          ],
          "scattermapbox": [
           {
            "marker": {
             "colorbar": {
              "outlinewidth": 1,
              "tickcolor": "rgb(36,36,36)",
              "ticks": "outside"
             }
            },
            "type": "scattermapbox"
           }
          ],
          "scatterpolar": [
           {
            "marker": {
             "colorbar": {
              "outlinewidth": 1,
              "tickcolor": "rgb(36,36,36)",
              "ticks": "outside"
             }
            },
            "type": "scatterpolar"
           }
          ],
          "scatterpolargl": [
           {
            "marker": {
             "colorbar": {
              "outlinewidth": 1,
              "tickcolor": "rgb(36,36,36)",
              "ticks": "outside"
             }
            },
            "type": "scatterpolargl"
           }
          ],
          "scatterternary": [
           {
            "marker": {
             "colorbar": {
              "outlinewidth": 1,
              "tickcolor": "rgb(36,36,36)",
              "ticks": "outside"
             }
            },
            "type": "scatterternary"
           }
          ],
          "surface": [
           {
            "colorbar": {
             "outlinewidth": 1,
             "tickcolor": "rgb(36,36,36)",
             "ticks": "outside"
            },
            "colorscale": [
             [
              0,
              "#440154"
             ],
             [
              0.1111111111111111,
              "#482878"
             ],
             [
              0.2222222222222222,
              "#3e4989"
             ],
             [
              0.3333333333333333,
              "#31688e"
             ],
             [
              0.4444444444444444,
              "#26828e"
             ],
             [
              0.5555555555555556,
              "#1f9e89"
             ],
             [
              0.6666666666666666,
              "#35b779"
             ],
             [
              0.7777777777777778,
              "#6ece58"
             ],
             [
              0.8888888888888888,
              "#b5de2b"
             ],
             [
              1,
              "#fde725"
             ]
            ],
            "type": "surface"
           }
          ],
          "table": [
           {
            "cells": {
             "fill": {
              "color": "rgb(237,237,237)"
             },
             "line": {
              "color": "white"
             }
            },
            "header": {
             "fill": {
              "color": "rgb(217,217,217)"
             },
             "line": {
              "color": "white"
             }
            },
            "type": "table"
           }
          ]
         },
         "layout": {
          "annotationdefaults": {
           "arrowhead": 0,
           "arrowwidth": 1
          },
          "autotypenumbers": "strict",
          "coloraxis": {
           "colorbar": {
            "outlinewidth": 1,
            "tickcolor": "rgb(36,36,36)",
            "ticks": "outside"
           }
          },
          "colorscale": {
           "diverging": [
            [
             0,
             "rgb(103,0,31)"
            ],
            [
             0.1,
             "rgb(178,24,43)"
            ],
            [
             0.2,
             "rgb(214,96,77)"
            ],
            [
             0.3,
             "rgb(244,165,130)"
            ],
            [
             0.4,
             "rgb(253,219,199)"
            ],
            [
             0.5,
             "rgb(247,247,247)"
            ],
            [
             0.6,
             "rgb(209,229,240)"
            ],
            [
             0.7,
             "rgb(146,197,222)"
            ],
            [
             0.8,
             "rgb(67,147,195)"
            ],
            [
             0.9,
             "rgb(33,102,172)"
            ],
            [
             1,
             "rgb(5,48,97)"
            ]
           ],
           "sequential": [
            [
             0,
             "#440154"
            ],
            [
             0.1111111111111111,
             "#482878"
            ],
            [
             0.2222222222222222,
             "#3e4989"
            ],
            [
             0.3333333333333333,
             "#31688e"
            ],
            [
             0.4444444444444444,
             "#26828e"
            ],
            [
             0.5555555555555556,
             "#1f9e89"
            ],
            [
             0.6666666666666666,
             "#35b779"
            ],
            [
             0.7777777777777778,
             "#6ece58"
            ],
            [
             0.8888888888888888,
             "#b5de2b"
            ],
            [
             1,
             "#fde725"
            ]
           ],
           "sequentialminus": [
            [
             0,
             "#440154"
            ],
            [
             0.1111111111111111,
             "#482878"
            ],
            [
             0.2222222222222222,
             "#3e4989"
            ],
            [
             0.3333333333333333,
             "#31688e"
            ],
            [
             0.4444444444444444,
             "#26828e"
            ],
            [
             0.5555555555555556,
             "#1f9e89"
            ],
            [
             0.6666666666666666,
             "#35b779"
            ],
            [
             0.7777777777777778,
             "#6ece58"
            ],
            [
             0.8888888888888888,
             "#b5de2b"
            ],
            [
             1,
             "#fde725"
            ]
           ]
          },
          "colorway": [
           "#1F77B4",
           "#FF7F0E",
           "#2CA02C",
           "#D62728",
           "#9467BD",
           "#8C564B",
           "#E377C2",
           "#7F7F7F",
           "#BCBD22",
           "#17BECF"
          ],
          "font": {
           "color": "rgb(36,36,36)"
          },
          "geo": {
           "bgcolor": "white",
           "lakecolor": "white",
           "landcolor": "white",
           "showlakes": true,
           "showland": true,
           "subunitcolor": "white"
          },
          "hoverlabel": {
           "align": "left"
          },
          "hovermode": "closest",
          "mapbox": {
           "style": "light"
          },
          "paper_bgcolor": "white",
          "plot_bgcolor": "white",
          "polar": {
           "angularaxis": {
            "gridcolor": "rgb(232,232,232)",
            "linecolor": "rgb(36,36,36)",
            "showgrid": false,
            "showline": true,
            "ticks": "outside"
           },
           "bgcolor": "white",
           "radialaxis": {
            "gridcolor": "rgb(232,232,232)",
            "linecolor": "rgb(36,36,36)",
            "showgrid": false,
            "showline": true,
            "ticks": "outside"
           }
          },
          "scene": {
           "xaxis": {
            "backgroundcolor": "white",
            "gridcolor": "rgb(232,232,232)",
            "gridwidth": 2,
            "linecolor": "rgb(36,36,36)",
            "showbackground": true,
            "showgrid": false,
            "showline": true,
            "ticks": "outside",
            "zeroline": false,
            "zerolinecolor": "rgb(36,36,36)"
           },
           "yaxis": {
            "backgroundcolor": "white",
            "gridcolor": "rgb(232,232,232)",
            "gridwidth": 2,
            "linecolor": "rgb(36,36,36)",
            "showbackground": true,
            "showgrid": false,
            "showline": true,
            "ticks": "outside",
            "zeroline": false,
            "zerolinecolor": "rgb(36,36,36)"
           },
           "zaxis": {
            "backgroundcolor": "white",
            "gridcolor": "rgb(232,232,232)",
            "gridwidth": 2,
            "linecolor": "rgb(36,36,36)",
            "showbackground": true,
            "showgrid": false,
            "showline": true,
            "ticks": "outside",
            "zeroline": false,
            "zerolinecolor": "rgb(36,36,36)"
           }
          },
          "shapedefaults": {
           "fillcolor": "black",
           "line": {
            "width": 0
           },
           "opacity": 0.3
          },
          "ternary": {
           "aaxis": {
            "gridcolor": "rgb(232,232,232)",
            "linecolor": "rgb(36,36,36)",
            "showgrid": false,
            "showline": true,
            "ticks": "outside"
           },
           "baxis": {
            "gridcolor": "rgb(232,232,232)",
            "linecolor": "rgb(36,36,36)",
            "showgrid": false,
            "showline": true,
            "ticks": "outside"
           },
           "bgcolor": "white",
           "caxis": {
            "gridcolor": "rgb(232,232,232)",
            "linecolor": "rgb(36,36,36)",
            "showgrid": false,
            "showline": true,
            "ticks": "outside"
           }
          },
          "title": {
           "x": 0.05
          },
          "xaxis": {
           "automargin": true,
           "gridcolor": "rgb(232,232,232)",
           "linecolor": "rgb(36,36,36)",
           "showgrid": false,
           "showline": true,
           "ticks": "outside",
           "title": {
            "standoff": 15
           },
           "zeroline": false,
           "zerolinecolor": "rgb(36,36,36)"
          },
          "yaxis": {
           "automargin": true,
           "gridcolor": "rgb(232,232,232)",
           "linecolor": "rgb(36,36,36)",
           "showgrid": false,
           "showline": true,
           "ticks": "outside",
           "title": {
            "standoff": 15
           },
           "zeroline": false,
           "zerolinecolor": "rgb(36,36,36)"
          }
         }
        },
        "title": {
         "text": "Variantes detectadas en la Región de Aysén"
        },
        "xaxis": {
         "anchor": "y",
         "domain": [
          0,
          1
         ],
         "title": {
          "text": "Fecha de resultado de Secuenciación o Genotipificación"
         }
        },
        "yaxis": {
         "anchor": "x",
         "domain": [
          0,
          1
         ],
         "title": {
          "text": "% de casos identificados por variante"
         }
        }
       }
      },
      "text/html": [
       "<div>                            <div id=\"597a5e89-eba9-4d93-a708-3d591bd095fa\" class=\"plotly-graph-div\" style=\"height:525px; width:100%;\"></div>            <script type=\"text/javascript\">                require([\"plotly\"], function(Plotly) {                    window.PLOTLYENV=window.PLOTLYENV || {};                                    if (document.getElementById(\"597a5e89-eba9-4d93-a708-3d591bd095fa\")) {                    Plotly.newPlot(                        \"597a5e89-eba9-4d93-a708-3d591bd095fa\",                        [{\"groupnorm\": \"percent\", \"hovertemplate\": \"Rango de edad=(0, 4]<br>fecha_resultado_secuenciacion_genotipificacion=%{x}<br>value=%{y}<extra></extra>\", \"legendgroup\": \"(0, 4]\", \"line\": {\"color\": \"#636efa\"}, \"mode\": \"lines\", \"name\": \"(0, 4]\", \"orientation\": \"v\", \"showlegend\": true, \"stackgroup\": \"1\", \"type\": \"scatter\", \"x\": [\"2021-03-21T00:00:00\", \"2021-04-05T00:00:00\", \"2021-04-08T00:00:00\", \"2021-04-19T00:00:00\", \"2021-05-05T00:00:00\", \"2021-05-14T00:00:00\", \"2021-05-19T00:00:00\", \"2021-05-24T00:00:00\", \"2021-05-26T00:00:00\", \"2021-06-09T00:00:00\", \"2021-06-17T00:00:00\", \"2021-06-30T00:00:00\", \"2021-07-07T00:00:00\", \"2021-07-14T00:00:00\", \"2021-07-21T00:00:00\", \"2021-07-28T00:00:00\", \"2021-07-31T00:00:00\", \"2021-08-01T00:00:00\", \"2021-08-03T00:00:00\", \"2021-08-06T00:00:00\", \"2021-08-12T00:00:00\", \"2021-08-13T00:00:00\", \"2021-08-17T00:00:00\", \"2021-08-18T00:00:00\", \"2021-08-21T00:00:00\", \"2021-08-23T00:00:00\", \"2021-08-25T00:00:00\", \"2021-08-26T00:00:00\", \"2021-09-01T00:00:00\"], \"xaxis\": \"x\", \"y\": [0, 0, 0, 0, 0, 0, 0, 0, 0, 0, 1, 1, 1, 1, 1, 1, 1, 1, 1, 1, 1, 1, 2, 2, 2, 2, 3, 3, 3], \"yaxis\": \"y\"}, {\"groupnorm\": \"percent\", \"hovertemplate\": \"Rango de edad=(5, 9]<br>fecha_resultado_secuenciacion_genotipificacion=%{x}<br>value=%{y}<extra></extra>\", \"legendgroup\": \"(5, 9]\", \"line\": {\"color\": \"#EF553B\"}, \"mode\": \"lines\", \"name\": \"(5, 9]\", \"orientation\": \"v\", \"showlegend\": true, \"stackgroup\": \"1\", \"type\": \"scatter\", \"x\": [\"2021-03-21T00:00:00\", \"2021-04-05T00:00:00\", \"2021-04-08T00:00:00\", \"2021-04-19T00:00:00\", \"2021-05-05T00:00:00\", \"2021-05-14T00:00:00\", \"2021-05-19T00:00:00\", \"2021-05-24T00:00:00\", \"2021-05-26T00:00:00\", \"2021-06-09T00:00:00\", \"2021-06-17T00:00:00\", \"2021-06-30T00:00:00\", \"2021-07-07T00:00:00\", \"2021-07-14T00:00:00\", \"2021-07-21T00:00:00\", \"2021-07-28T00:00:00\", \"2021-07-31T00:00:00\", \"2021-08-01T00:00:00\", \"2021-08-03T00:00:00\", \"2021-08-06T00:00:00\", \"2021-08-12T00:00:00\", \"2021-08-13T00:00:00\", \"2021-08-17T00:00:00\", \"2021-08-18T00:00:00\", \"2021-08-21T00:00:00\", \"2021-08-23T00:00:00\", \"2021-08-25T00:00:00\", \"2021-08-26T00:00:00\", \"2021-09-01T00:00:00\"], \"xaxis\": \"x\", \"y\": [0, 0, 0, 0, 0, 0, 0, 0, 0, 0, 0, 0, 1, 2, 3, 3, 3, 3, 3, 3, 3, 3, 4, 4, 5, 5, 6, 7, 7], \"yaxis\": \"y\"}, {\"groupnorm\": \"percent\", \"hovertemplate\": \"Rango de edad=(10, 14]<br>fecha_resultado_secuenciacion_genotipificacion=%{x}<br>value=%{y}<extra></extra>\", \"legendgroup\": \"(10, 14]\", \"line\": {\"color\": \"#00cc96\"}, \"mode\": \"lines\", \"name\": \"(10, 14]\", \"orientation\": \"v\", \"showlegend\": true, \"stackgroup\": \"1\", \"type\": \"scatter\", \"x\": [\"2021-03-21T00:00:00\", \"2021-04-05T00:00:00\", \"2021-04-08T00:00:00\", \"2021-04-19T00:00:00\", \"2021-05-05T00:00:00\", \"2021-05-14T00:00:00\", \"2021-05-19T00:00:00\", \"2021-05-24T00:00:00\", \"2021-05-26T00:00:00\", \"2021-06-09T00:00:00\", \"2021-06-17T00:00:00\", \"2021-06-30T00:00:00\", \"2021-07-07T00:00:00\", \"2021-07-14T00:00:00\", \"2021-07-21T00:00:00\", \"2021-07-28T00:00:00\", \"2021-07-31T00:00:00\", \"2021-08-01T00:00:00\", \"2021-08-03T00:00:00\", \"2021-08-06T00:00:00\", \"2021-08-12T00:00:00\", \"2021-08-13T00:00:00\", \"2021-08-17T00:00:00\", \"2021-08-18T00:00:00\", \"2021-08-21T00:00:00\", \"2021-08-23T00:00:00\", \"2021-08-25T00:00:00\", \"2021-08-26T00:00:00\", \"2021-09-01T00:00:00\"], \"xaxis\": \"x\", \"y\": [0, 0, 0, 0, 0, 1, 1, 1, 1, 1, 1, 1, 2, 3, 4, 4, 4, 4, 4, 5, 5, 6, 6, 7, 7, 7, 8, 8, 8], \"yaxis\": \"y\"}, {\"groupnorm\": \"percent\", \"hovertemplate\": \"Rango de edad=(15, 19]<br>fecha_resultado_secuenciacion_genotipificacion=%{x}<br>value=%{y}<extra></extra>\", \"legendgroup\": \"(15, 19]\", \"line\": {\"color\": \"#ab63fa\"}, \"mode\": \"lines\", \"name\": \"(15, 19]\", \"orientation\": \"v\", \"showlegend\": true, \"stackgroup\": \"1\", \"type\": \"scatter\", \"x\": [\"2021-03-21T00:00:00\", \"2021-04-05T00:00:00\", \"2021-04-08T00:00:00\", \"2021-04-19T00:00:00\", \"2021-05-05T00:00:00\", \"2021-05-14T00:00:00\", \"2021-05-19T00:00:00\", \"2021-05-24T00:00:00\", \"2021-05-26T00:00:00\", \"2021-06-09T00:00:00\", \"2021-06-17T00:00:00\", \"2021-06-30T00:00:00\", \"2021-07-07T00:00:00\", \"2021-07-14T00:00:00\", \"2021-07-21T00:00:00\", \"2021-07-28T00:00:00\", \"2021-07-31T00:00:00\", \"2021-08-01T00:00:00\", \"2021-08-03T00:00:00\", \"2021-08-06T00:00:00\", \"2021-08-12T00:00:00\", \"2021-08-13T00:00:00\", \"2021-08-17T00:00:00\", \"2021-08-18T00:00:00\", \"2021-08-21T00:00:00\", \"2021-08-23T00:00:00\", \"2021-08-25T00:00:00\", \"2021-08-26T00:00:00\", \"2021-09-01T00:00:00\"], \"xaxis\": \"x\", \"y\": [0, 0, 0, 0, 1, 2, 2, 2, 8, 9, 10, 11, 13, 15, 18, 18, 18, 18, 18, 19, 19, 20, 20, 20, 20, 20, 21, 21, 21], \"yaxis\": \"y\"}, {\"groupnorm\": \"percent\", \"hovertemplate\": \"Rango de edad=(20, 24]<br>fecha_resultado_secuenciacion_genotipificacion=%{x}<br>value=%{y}<extra></extra>\", \"legendgroup\": \"(20, 24]\", \"line\": {\"color\": \"#FFA15A\"}, \"mode\": \"lines\", \"name\": \"(20, 24]\", \"orientation\": \"v\", \"showlegend\": true, \"stackgroup\": \"1\", \"type\": \"scatter\", \"x\": [\"2021-03-21T00:00:00\", \"2021-04-05T00:00:00\", \"2021-04-08T00:00:00\", \"2021-04-19T00:00:00\", \"2021-05-05T00:00:00\", \"2021-05-14T00:00:00\", \"2021-05-19T00:00:00\", \"2021-05-24T00:00:00\", \"2021-05-26T00:00:00\", \"2021-06-09T00:00:00\", \"2021-06-17T00:00:00\", \"2021-06-30T00:00:00\", \"2021-07-07T00:00:00\", \"2021-07-14T00:00:00\", \"2021-07-21T00:00:00\", \"2021-07-28T00:00:00\", \"2021-07-31T00:00:00\", \"2021-08-01T00:00:00\", \"2021-08-03T00:00:00\", \"2021-08-06T00:00:00\", \"2021-08-12T00:00:00\", \"2021-08-13T00:00:00\", \"2021-08-17T00:00:00\", \"2021-08-18T00:00:00\", \"2021-08-21T00:00:00\", \"2021-08-23T00:00:00\", \"2021-08-25T00:00:00\", \"2021-08-26T00:00:00\", \"2021-09-01T00:00:00\"], \"xaxis\": \"x\", \"y\": [0, 0, 0, 1, 1, 1, 1, 1, 2, 3, 3, 5, 5, 9, 11, 11, 12, 12, 12, 12, 13, 14, 15, 15, 15, 17, 18, 19, 20], \"yaxis\": \"y\"}, {\"groupnorm\": \"percent\", \"hovertemplate\": \"Rango de edad=(25, 29]<br>fecha_resultado_secuenciacion_genotipificacion=%{x}<br>value=%{y}<extra></extra>\", \"legendgroup\": \"(25, 29]\", \"line\": {\"color\": \"#19d3f3\"}, \"mode\": \"lines\", \"name\": \"(25, 29]\", \"orientation\": \"v\", \"showlegend\": true, \"stackgroup\": \"1\", \"type\": \"scatter\", \"x\": [\"2021-03-21T00:00:00\", \"2021-04-05T00:00:00\", \"2021-04-08T00:00:00\", \"2021-04-19T00:00:00\", \"2021-05-05T00:00:00\", \"2021-05-14T00:00:00\", \"2021-05-19T00:00:00\", \"2021-05-24T00:00:00\", \"2021-05-26T00:00:00\", \"2021-06-09T00:00:00\", \"2021-06-17T00:00:00\", \"2021-06-30T00:00:00\", \"2021-07-07T00:00:00\", \"2021-07-14T00:00:00\", \"2021-07-21T00:00:00\", \"2021-07-28T00:00:00\", \"2021-07-31T00:00:00\", \"2021-08-01T00:00:00\", \"2021-08-03T00:00:00\", \"2021-08-06T00:00:00\", \"2021-08-12T00:00:00\", \"2021-08-13T00:00:00\", \"2021-08-17T00:00:00\", \"2021-08-18T00:00:00\", \"2021-08-21T00:00:00\", \"2021-08-23T00:00:00\", \"2021-08-25T00:00:00\", \"2021-08-26T00:00:00\", \"2021-09-01T00:00:00\"], \"xaxis\": \"x\", \"y\": [0, 0, 0, 0, 1, 2, 5, 6, 7, 7, 7, 7, 10, 11, 14, 14, 14, 14, 14, 14, 14, 14, 15, 15, 15, 15, 16, 16, 16], \"yaxis\": \"y\"}, {\"groupnorm\": \"percent\", \"hovertemplate\": \"Rango de edad=(30, 34]<br>fecha_resultado_secuenciacion_genotipificacion=%{x}<br>value=%{y}<extra></extra>\", \"legendgroup\": \"(30, 34]\", \"line\": {\"color\": \"#FF6692\"}, \"mode\": \"lines\", \"name\": \"(30, 34]\", \"orientation\": \"v\", \"showlegend\": true, \"stackgroup\": \"1\", \"type\": \"scatter\", \"x\": [\"2021-03-21T00:00:00\", \"2021-04-05T00:00:00\", \"2021-04-08T00:00:00\", \"2021-04-19T00:00:00\", \"2021-05-05T00:00:00\", \"2021-05-14T00:00:00\", \"2021-05-19T00:00:00\", \"2021-05-24T00:00:00\", \"2021-05-26T00:00:00\", \"2021-06-09T00:00:00\", \"2021-06-17T00:00:00\", \"2021-06-30T00:00:00\", \"2021-07-07T00:00:00\", \"2021-07-14T00:00:00\", \"2021-07-21T00:00:00\", \"2021-07-28T00:00:00\", \"2021-07-31T00:00:00\", \"2021-08-01T00:00:00\", \"2021-08-03T00:00:00\", \"2021-08-06T00:00:00\", \"2021-08-12T00:00:00\", \"2021-08-13T00:00:00\", \"2021-08-17T00:00:00\", \"2021-08-18T00:00:00\", \"2021-08-21T00:00:00\", \"2021-08-23T00:00:00\", \"2021-08-25T00:00:00\", \"2021-08-26T00:00:00\", \"2021-09-01T00:00:00\"], \"xaxis\": \"x\", \"y\": [0, 0, 0, 2, 3, 4, 5, 5, 6, 7, 7, 7, 7, 10, 14, 14, 14, 14, 16, 16, 18, 18, 19, 19, 19, 19, 20, 22, 22], \"yaxis\": \"y\"}, {\"groupnorm\": \"percent\", \"hovertemplate\": \"Rango de edad=(35, 39]<br>fecha_resultado_secuenciacion_genotipificacion=%{x}<br>value=%{y}<extra></extra>\", \"legendgroup\": \"(35, 39]\", \"line\": {\"color\": \"#B6E880\"}, \"mode\": \"lines\", \"name\": \"(35, 39]\", \"orientation\": \"v\", \"showlegend\": true, \"stackgroup\": \"1\", \"type\": \"scatter\", \"x\": [\"2021-03-21T00:00:00\", \"2021-04-05T00:00:00\", \"2021-04-08T00:00:00\", \"2021-04-19T00:00:00\", \"2021-05-05T00:00:00\", \"2021-05-14T00:00:00\", \"2021-05-19T00:00:00\", \"2021-05-24T00:00:00\", \"2021-05-26T00:00:00\", \"2021-06-09T00:00:00\", \"2021-06-17T00:00:00\", \"2021-06-30T00:00:00\", \"2021-07-07T00:00:00\", \"2021-07-14T00:00:00\", \"2021-07-21T00:00:00\", \"2021-07-28T00:00:00\", \"2021-07-31T00:00:00\", \"2021-08-01T00:00:00\", \"2021-08-03T00:00:00\", \"2021-08-06T00:00:00\", \"2021-08-12T00:00:00\", \"2021-08-13T00:00:00\", \"2021-08-17T00:00:00\", \"2021-08-18T00:00:00\", \"2021-08-21T00:00:00\", \"2021-08-23T00:00:00\", \"2021-08-25T00:00:00\", \"2021-08-26T00:00:00\", \"2021-09-01T00:00:00\"], \"xaxis\": \"x\", \"y\": [0, 0, 0, 0, 0, 2, 4, 4, 5, 5, 5, 6, 6, 8, 9, 9, 9, 9, 9, 10, 10, 10, 11, 11, 11, 11, 11, 11, 11], \"yaxis\": \"y\"}, {\"groupnorm\": \"percent\", \"hovertemplate\": \"Rango de edad=(40, 44]<br>fecha_resultado_secuenciacion_genotipificacion=%{x}<br>value=%{y}<extra></extra>\", \"legendgroup\": \"(40, 44]\", \"line\": {\"color\": \"#FF97FF\"}, \"mode\": \"lines\", \"name\": \"(40, 44]\", \"orientation\": \"v\", \"showlegend\": true, \"stackgroup\": \"1\", \"type\": \"scatter\", \"x\": [\"2021-03-21T00:00:00\", \"2021-04-05T00:00:00\", \"2021-04-08T00:00:00\", \"2021-04-19T00:00:00\", \"2021-05-05T00:00:00\", \"2021-05-14T00:00:00\", \"2021-05-19T00:00:00\", \"2021-05-24T00:00:00\", \"2021-05-26T00:00:00\", \"2021-06-09T00:00:00\", \"2021-06-17T00:00:00\", \"2021-06-30T00:00:00\", \"2021-07-07T00:00:00\", \"2021-07-14T00:00:00\", \"2021-07-21T00:00:00\", \"2021-07-28T00:00:00\", \"2021-07-31T00:00:00\", \"2021-08-01T00:00:00\", \"2021-08-03T00:00:00\", \"2021-08-06T00:00:00\", \"2021-08-12T00:00:00\", \"2021-08-13T00:00:00\", \"2021-08-17T00:00:00\", \"2021-08-18T00:00:00\", \"2021-08-21T00:00:00\", \"2021-08-23T00:00:00\", \"2021-08-25T00:00:00\", \"2021-08-26T00:00:00\", \"2021-09-01T00:00:00\"], \"xaxis\": \"x\", \"y\": [0, 0, 0, 1, 1, 2, 2, 2, 3, 3, 3, 3, 4, 5, 5, 5, 7, 7, 7, 8, 9, 9, 9, 10, 10, 13, 13, 13, 16], \"yaxis\": \"y\"}, {\"groupnorm\": \"percent\", \"hovertemplate\": \"Rango de edad=(45, 49]<br>fecha_resultado_secuenciacion_genotipificacion=%{x}<br>value=%{y}<extra></extra>\", \"legendgroup\": \"(45, 49]\", \"line\": {\"color\": \"#FECB52\"}, \"mode\": \"lines\", \"name\": \"(45, 49]\", \"orientation\": \"v\", \"showlegend\": true, \"stackgroup\": \"1\", \"type\": \"scatter\", \"x\": [\"2021-03-21T00:00:00\", \"2021-04-05T00:00:00\", \"2021-04-08T00:00:00\", \"2021-04-19T00:00:00\", \"2021-05-05T00:00:00\", \"2021-05-14T00:00:00\", \"2021-05-19T00:00:00\", \"2021-05-24T00:00:00\", \"2021-05-26T00:00:00\", \"2021-06-09T00:00:00\", \"2021-06-17T00:00:00\", \"2021-06-30T00:00:00\", \"2021-07-07T00:00:00\", \"2021-07-14T00:00:00\", \"2021-07-21T00:00:00\", \"2021-07-28T00:00:00\", \"2021-07-31T00:00:00\", \"2021-08-01T00:00:00\", \"2021-08-03T00:00:00\", \"2021-08-06T00:00:00\", \"2021-08-12T00:00:00\", \"2021-08-13T00:00:00\", \"2021-08-17T00:00:00\", \"2021-08-18T00:00:00\", \"2021-08-21T00:00:00\", \"2021-08-23T00:00:00\", \"2021-08-25T00:00:00\", \"2021-08-26T00:00:00\", \"2021-09-01T00:00:00\"], \"xaxis\": \"x\", \"y\": [0, 0, 0, 0, 1, 1, 2, 2, 2, 3, 4, 5, 6, 9, 10, 10, 10, 10, 10, 11, 11, 13, 13, 14, 14, 14, 17, 18, 18], \"yaxis\": \"y\"}, {\"groupnorm\": \"percent\", \"hovertemplate\": \"Rango de edad=(50, 54]<br>fecha_resultado_secuenciacion_genotipificacion=%{x}<br>value=%{y}<extra></extra>\", \"legendgroup\": \"(50, 54]\", \"line\": {\"color\": \"#636efa\"}, \"mode\": \"lines\", \"name\": \"(50, 54]\", \"orientation\": \"v\", \"showlegend\": true, \"stackgroup\": \"1\", \"type\": \"scatter\", \"x\": [\"2021-03-21T00:00:00\", \"2021-04-05T00:00:00\", \"2021-04-08T00:00:00\", \"2021-04-19T00:00:00\", \"2021-05-05T00:00:00\", \"2021-05-14T00:00:00\", \"2021-05-19T00:00:00\", \"2021-05-24T00:00:00\", \"2021-05-26T00:00:00\", \"2021-06-09T00:00:00\", \"2021-06-17T00:00:00\", \"2021-06-30T00:00:00\", \"2021-07-07T00:00:00\", \"2021-07-14T00:00:00\", \"2021-07-21T00:00:00\", \"2021-07-28T00:00:00\", \"2021-07-31T00:00:00\", \"2021-08-01T00:00:00\", \"2021-08-03T00:00:00\", \"2021-08-06T00:00:00\", \"2021-08-12T00:00:00\", \"2021-08-13T00:00:00\", \"2021-08-17T00:00:00\", \"2021-08-18T00:00:00\", \"2021-08-21T00:00:00\", \"2021-08-23T00:00:00\", \"2021-08-25T00:00:00\", \"2021-08-26T00:00:00\", \"2021-09-01T00:00:00\"], \"xaxis\": \"x\", \"y\": [1, 1, 1, 1, 1, 2, 2, 2, 3, 5, 5, 6, 6, 7, 10, 10, 10, 10, 10, 10, 10, 10, 10, 10, 10, 10, 10, 10, 10], \"yaxis\": \"y\"}, {\"groupnorm\": \"percent\", \"hovertemplate\": \"Rango de edad=(55, 59]<br>fecha_resultado_secuenciacion_genotipificacion=%{x}<br>value=%{y}<extra></extra>\", \"legendgroup\": \"(55, 59]\", \"line\": {\"color\": \"#EF553B\"}, \"mode\": \"lines\", \"name\": \"(55, 59]\", \"orientation\": \"v\", \"showlegend\": true, \"stackgroup\": \"1\", \"type\": \"scatter\", \"x\": [\"2021-03-21T00:00:00\", \"2021-04-05T00:00:00\", \"2021-04-08T00:00:00\", \"2021-04-19T00:00:00\", \"2021-05-05T00:00:00\", \"2021-05-14T00:00:00\", \"2021-05-19T00:00:00\", \"2021-05-24T00:00:00\", \"2021-05-26T00:00:00\", \"2021-06-09T00:00:00\", \"2021-06-17T00:00:00\", \"2021-06-30T00:00:00\", \"2021-07-07T00:00:00\", \"2021-07-14T00:00:00\", \"2021-07-21T00:00:00\", \"2021-07-28T00:00:00\", \"2021-07-31T00:00:00\", \"2021-08-01T00:00:00\", \"2021-08-03T00:00:00\", \"2021-08-06T00:00:00\", \"2021-08-12T00:00:00\", \"2021-08-13T00:00:00\", \"2021-08-17T00:00:00\", \"2021-08-18T00:00:00\", \"2021-08-21T00:00:00\", \"2021-08-23T00:00:00\", \"2021-08-25T00:00:00\", \"2021-08-26T00:00:00\", \"2021-09-01T00:00:00\"], \"xaxis\": \"x\", \"y\": [0, 0, 0, 0, 0, 0, 0, 0, 1, 1, 1, 1, 2, 3, 5, 6, 6, 6, 6, 6, 6, 6, 6, 6, 6, 6, 6, 6, 6], \"yaxis\": \"y\"}, {\"groupnorm\": \"percent\", \"hovertemplate\": \"Rango de edad=(60, 64]<br>fecha_resultado_secuenciacion_genotipificacion=%{x}<br>value=%{y}<extra></extra>\", \"legendgroup\": \"(60, 64]\", \"line\": {\"color\": \"#00cc96\"}, \"mode\": \"lines\", \"name\": \"(60, 64]\", \"orientation\": \"v\", \"showlegend\": true, \"stackgroup\": \"1\", \"type\": \"scatter\", \"x\": [\"2021-03-21T00:00:00\", \"2021-04-05T00:00:00\", \"2021-04-08T00:00:00\", \"2021-04-19T00:00:00\", \"2021-05-05T00:00:00\", \"2021-05-14T00:00:00\", \"2021-05-19T00:00:00\", \"2021-05-24T00:00:00\", \"2021-05-26T00:00:00\", \"2021-06-09T00:00:00\", \"2021-06-17T00:00:00\", \"2021-06-30T00:00:00\", \"2021-07-07T00:00:00\", \"2021-07-14T00:00:00\", \"2021-07-21T00:00:00\", \"2021-07-28T00:00:00\", \"2021-07-31T00:00:00\", \"2021-08-01T00:00:00\", \"2021-08-03T00:00:00\", \"2021-08-06T00:00:00\", \"2021-08-12T00:00:00\", \"2021-08-13T00:00:00\", \"2021-08-17T00:00:00\", \"2021-08-18T00:00:00\", \"2021-08-21T00:00:00\", \"2021-08-23T00:00:00\", \"2021-08-25T00:00:00\", \"2021-08-26T00:00:00\", \"2021-09-01T00:00:00\"], \"xaxis\": \"x\", \"y\": [0, 1, 1, 1, 2, 2, 2, 2, 2, 3, 3, 4, 5, 6, 7, 7, 7, 7, 7, 8, 8, 8, 9, 9, 10, 11, 11, 11, 13], \"yaxis\": \"y\"}, {\"groupnorm\": \"percent\", \"hovertemplate\": \"Rango de edad=(65, 69]<br>fecha_resultado_secuenciacion_genotipificacion=%{x}<br>value=%{y}<extra></extra>\", \"legendgroup\": \"(65, 69]\", \"line\": {\"color\": \"#ab63fa\"}, \"mode\": \"lines\", \"name\": \"(65, 69]\", \"orientation\": \"v\", \"showlegend\": true, \"stackgroup\": \"1\", \"type\": \"scatter\", \"x\": [\"2021-03-21T00:00:00\", \"2021-04-05T00:00:00\", \"2021-04-08T00:00:00\", \"2021-04-19T00:00:00\", \"2021-05-05T00:00:00\", \"2021-05-14T00:00:00\", \"2021-05-19T00:00:00\", \"2021-05-24T00:00:00\", \"2021-05-26T00:00:00\", \"2021-06-09T00:00:00\", \"2021-06-17T00:00:00\", \"2021-06-30T00:00:00\", \"2021-07-07T00:00:00\", \"2021-07-14T00:00:00\", \"2021-07-21T00:00:00\", \"2021-07-28T00:00:00\", \"2021-07-31T00:00:00\", \"2021-08-01T00:00:00\", \"2021-08-03T00:00:00\", \"2021-08-06T00:00:00\", \"2021-08-12T00:00:00\", \"2021-08-13T00:00:00\", \"2021-08-17T00:00:00\", \"2021-08-18T00:00:00\", \"2021-08-21T00:00:00\", \"2021-08-23T00:00:00\", \"2021-08-25T00:00:00\", \"2021-08-26T00:00:00\", \"2021-09-01T00:00:00\"], \"xaxis\": \"x\", \"y\": [1, 1, 1, 1, 1, 2, 2, 2, 2, 2, 2, 2, 2, 2, 3, 3, 3, 3, 3, 3, 3, 3, 3, 3, 4, 5, 5, 5, 5], \"yaxis\": \"y\"}, {\"groupnorm\": \"percent\", \"hovertemplate\": \"Rango de edad=(70, 74]<br>fecha_resultado_secuenciacion_genotipificacion=%{x}<br>value=%{y}<extra></extra>\", \"legendgroup\": \"(70, 74]\", \"line\": {\"color\": \"#FFA15A\"}, \"mode\": \"lines\", \"name\": \"(70, 74]\", \"orientation\": \"v\", \"showlegend\": true, \"stackgroup\": \"1\", \"type\": \"scatter\", \"x\": [\"2021-03-21T00:00:00\", \"2021-04-05T00:00:00\", \"2021-04-08T00:00:00\", \"2021-04-19T00:00:00\", \"2021-05-05T00:00:00\", \"2021-05-14T00:00:00\", \"2021-05-19T00:00:00\", \"2021-05-24T00:00:00\", \"2021-05-26T00:00:00\", \"2021-06-09T00:00:00\", \"2021-06-17T00:00:00\", \"2021-06-30T00:00:00\", \"2021-07-07T00:00:00\", \"2021-07-14T00:00:00\", \"2021-07-21T00:00:00\", \"2021-07-28T00:00:00\", \"2021-07-31T00:00:00\", \"2021-08-01T00:00:00\", \"2021-08-03T00:00:00\", \"2021-08-06T00:00:00\", \"2021-08-12T00:00:00\", \"2021-08-13T00:00:00\", \"2021-08-17T00:00:00\", \"2021-08-18T00:00:00\", \"2021-08-21T00:00:00\", \"2021-08-23T00:00:00\", \"2021-08-25T00:00:00\", \"2021-08-26T00:00:00\", \"2021-09-01T00:00:00\"], \"xaxis\": \"x\", \"y\": [0, 0, 0, 0, 0, 0, 0, 0, 1, 1, 1, 1, 1, 1, 1, 1, 1, 1, 1, 1, 1, 2, 2, 2, 2, 2, 2, 2, 2], \"yaxis\": \"y\"}, {\"groupnorm\": \"percent\", \"hovertemplate\": \"Rango de edad=(75, 79]<br>fecha_resultado_secuenciacion_genotipificacion=%{x}<br>value=%{y}<extra></extra>\", \"legendgroup\": \"(75, 79]\", \"line\": {\"color\": \"#19d3f3\"}, \"mode\": \"lines\", \"name\": \"(75, 79]\", \"orientation\": \"v\", \"showlegend\": true, \"stackgroup\": \"1\", \"type\": \"scatter\", \"x\": [\"2021-03-21T00:00:00\", \"2021-04-05T00:00:00\", \"2021-04-08T00:00:00\", \"2021-04-19T00:00:00\", \"2021-05-05T00:00:00\", \"2021-05-14T00:00:00\", \"2021-05-19T00:00:00\", \"2021-05-24T00:00:00\", \"2021-05-26T00:00:00\", \"2021-06-09T00:00:00\", \"2021-06-17T00:00:00\", \"2021-06-30T00:00:00\", \"2021-07-07T00:00:00\", \"2021-07-14T00:00:00\", \"2021-07-21T00:00:00\", \"2021-07-28T00:00:00\", \"2021-07-31T00:00:00\", \"2021-08-01T00:00:00\", \"2021-08-03T00:00:00\", \"2021-08-06T00:00:00\", \"2021-08-12T00:00:00\", \"2021-08-13T00:00:00\", \"2021-08-17T00:00:00\", \"2021-08-18T00:00:00\", \"2021-08-21T00:00:00\", \"2021-08-23T00:00:00\", \"2021-08-25T00:00:00\", \"2021-08-26T00:00:00\", \"2021-09-01T00:00:00\"], \"xaxis\": \"x\", \"y\": [0, 0, 0, 0, 0, 0, 0, 0, 0, 0, 1, 1, 1, 2, 2, 2, 2, 2, 2, 3, 3, 3, 3, 3, 3, 3, 3, 3, 3], \"yaxis\": \"y\"}, {\"groupnorm\": \"percent\", \"hovertemplate\": \"Rango de edad=(80, 120]<br>fecha_resultado_secuenciacion_genotipificacion=%{x}<br>value=%{y}<extra></extra>\", \"legendgroup\": \"(80, 120]\", \"line\": {\"color\": \"#FF6692\"}, \"mode\": \"lines\", \"name\": \"(80, 120]\", \"orientation\": \"v\", \"showlegend\": true, \"stackgroup\": \"1\", \"type\": \"scatter\", \"x\": [\"2021-03-21T00:00:00\", \"2021-04-05T00:00:00\", \"2021-04-08T00:00:00\", \"2021-04-19T00:00:00\", \"2021-05-05T00:00:00\", \"2021-05-14T00:00:00\", \"2021-05-19T00:00:00\", \"2021-05-24T00:00:00\", \"2021-05-26T00:00:00\", \"2021-06-09T00:00:00\", \"2021-06-17T00:00:00\", \"2021-06-30T00:00:00\", \"2021-07-07T00:00:00\", \"2021-07-14T00:00:00\", \"2021-07-21T00:00:00\", \"2021-07-28T00:00:00\", \"2021-07-31T00:00:00\", \"2021-08-01T00:00:00\", \"2021-08-03T00:00:00\", \"2021-08-06T00:00:00\", \"2021-08-12T00:00:00\", \"2021-08-13T00:00:00\", \"2021-08-17T00:00:00\", \"2021-08-18T00:00:00\", \"2021-08-21T00:00:00\", \"2021-08-23T00:00:00\", \"2021-08-25T00:00:00\", \"2021-08-26T00:00:00\", \"2021-09-01T00:00:00\"], \"xaxis\": \"x\", \"y\": [0, 0, 0, 0, 0, 0, 0, 0, 0, 0, 0, 0, 2, 4, 4, 4, 4, 4, 4, 4, 4, 4, 4, 4, 4, 4, 4, 4, 4], \"yaxis\": \"y\"}],                        {\"legend\": {\"title\": {\"text\": \"Rango de edad\"}, \"tracegroupgap\": 0}, \"margin\": {\"t\": 60}, \"template\": {\"data\": {\"bar\": [{\"error_x\": {\"color\": \"rgb(36,36,36)\"}, \"error_y\": {\"color\": \"rgb(36,36,36)\"}, \"marker\": {\"line\": {\"color\": \"white\", \"width\": 0.5}}, \"type\": \"bar\"}], \"barpolar\": [{\"marker\": {\"line\": {\"color\": \"white\", \"width\": 0.5}}, \"type\": \"barpolar\"}], \"carpet\": [{\"aaxis\": {\"endlinecolor\": \"rgb(36,36,36)\", \"gridcolor\": \"white\", \"linecolor\": \"white\", \"minorgridcolor\": \"white\", \"startlinecolor\": \"rgb(36,36,36)\"}, \"baxis\": {\"endlinecolor\": \"rgb(36,36,36)\", \"gridcolor\": \"white\", \"linecolor\": \"white\", \"minorgridcolor\": \"white\", \"startlinecolor\": \"rgb(36,36,36)\"}, \"type\": \"carpet\"}], \"choropleth\": [{\"colorbar\": {\"outlinewidth\": 1, \"tickcolor\": \"rgb(36,36,36)\", \"ticks\": \"outside\"}, \"type\": \"choropleth\"}], \"contour\": [{\"colorbar\": {\"outlinewidth\": 1, \"tickcolor\": \"rgb(36,36,36)\", \"ticks\": \"outside\"}, \"colorscale\": [[0.0, \"#440154\"], [0.1111111111111111, \"#482878\"], [0.2222222222222222, \"#3e4989\"], [0.3333333333333333, \"#31688e\"], [0.4444444444444444, \"#26828e\"], [0.5555555555555556, \"#1f9e89\"], [0.6666666666666666, \"#35b779\"], [0.7777777777777778, \"#6ece58\"], [0.8888888888888888, \"#b5de2b\"], [1.0, \"#fde725\"]], \"type\": \"contour\"}], \"contourcarpet\": [{\"colorbar\": {\"outlinewidth\": 1, \"tickcolor\": \"rgb(36,36,36)\", \"ticks\": \"outside\"}, \"type\": \"contourcarpet\"}], \"heatmap\": [{\"colorbar\": {\"outlinewidth\": 1, \"tickcolor\": \"rgb(36,36,36)\", \"ticks\": \"outside\"}, \"colorscale\": [[0.0, \"#440154\"], [0.1111111111111111, \"#482878\"], [0.2222222222222222, \"#3e4989\"], [0.3333333333333333, \"#31688e\"], [0.4444444444444444, \"#26828e\"], [0.5555555555555556, \"#1f9e89\"], [0.6666666666666666, \"#35b779\"], [0.7777777777777778, \"#6ece58\"], [0.8888888888888888, \"#b5de2b\"], [1.0, \"#fde725\"]], \"type\": \"heatmap\"}], \"heatmapgl\": [{\"colorbar\": {\"outlinewidth\": 1, \"tickcolor\": \"rgb(36,36,36)\", \"ticks\": \"outside\"}, \"colorscale\": [[0.0, \"#440154\"], [0.1111111111111111, \"#482878\"], [0.2222222222222222, \"#3e4989\"], [0.3333333333333333, \"#31688e\"], [0.4444444444444444, \"#26828e\"], [0.5555555555555556, \"#1f9e89\"], [0.6666666666666666, \"#35b779\"], [0.7777777777777778, \"#6ece58\"], [0.8888888888888888, \"#b5de2b\"], [1.0, \"#fde725\"]], \"type\": \"heatmapgl\"}], \"histogram\": [{\"marker\": {\"line\": {\"color\": \"white\", \"width\": 0.6}}, \"type\": \"histogram\"}], \"histogram2d\": [{\"colorbar\": {\"outlinewidth\": 1, \"tickcolor\": \"rgb(36,36,36)\", \"ticks\": \"outside\"}, \"colorscale\": [[0.0, \"#440154\"], [0.1111111111111111, \"#482878\"], [0.2222222222222222, \"#3e4989\"], [0.3333333333333333, \"#31688e\"], [0.4444444444444444, \"#26828e\"], [0.5555555555555556, \"#1f9e89\"], [0.6666666666666666, \"#35b779\"], [0.7777777777777778, \"#6ece58\"], [0.8888888888888888, \"#b5de2b\"], [1.0, \"#fde725\"]], \"type\": \"histogram2d\"}], \"histogram2dcontour\": [{\"colorbar\": {\"outlinewidth\": 1, \"tickcolor\": \"rgb(36,36,36)\", \"ticks\": \"outside\"}, \"colorscale\": [[0.0, \"#440154\"], [0.1111111111111111, \"#482878\"], [0.2222222222222222, \"#3e4989\"], [0.3333333333333333, \"#31688e\"], [0.4444444444444444, \"#26828e\"], [0.5555555555555556, \"#1f9e89\"], [0.6666666666666666, \"#35b779\"], [0.7777777777777778, \"#6ece58\"], [0.8888888888888888, \"#b5de2b\"], [1.0, \"#fde725\"]], \"type\": \"histogram2dcontour\"}], \"mesh3d\": [{\"colorbar\": {\"outlinewidth\": 1, \"tickcolor\": \"rgb(36,36,36)\", \"ticks\": \"outside\"}, \"type\": \"mesh3d\"}], \"parcoords\": [{\"line\": {\"colorbar\": {\"outlinewidth\": 1, \"tickcolor\": \"rgb(36,36,36)\", \"ticks\": \"outside\"}}, \"type\": \"parcoords\"}], \"pie\": [{\"automargin\": true, \"type\": \"pie\"}], \"scatter\": [{\"marker\": {\"colorbar\": {\"outlinewidth\": 1, \"tickcolor\": \"rgb(36,36,36)\", \"ticks\": \"outside\"}}, \"type\": \"scatter\"}], \"scatter3d\": [{\"line\": {\"colorbar\": {\"outlinewidth\": 1, \"tickcolor\": \"rgb(36,36,36)\", \"ticks\": \"outside\"}}, \"marker\": {\"colorbar\": {\"outlinewidth\": 1, \"tickcolor\": \"rgb(36,36,36)\", \"ticks\": \"outside\"}}, \"type\": \"scatter3d\"}], \"scattercarpet\": [{\"marker\": {\"colorbar\": {\"outlinewidth\": 1, \"tickcolor\": \"rgb(36,36,36)\", \"ticks\": \"outside\"}}, \"type\": \"scattercarpet\"}], \"scattergeo\": [{\"marker\": {\"colorbar\": {\"outlinewidth\": 1, \"tickcolor\": \"rgb(36,36,36)\", \"ticks\": \"outside\"}}, \"type\": \"scattergeo\"}], \"scattergl\": [{\"marker\": {\"colorbar\": {\"outlinewidth\": 1, \"tickcolor\": \"rgb(36,36,36)\", \"ticks\": \"outside\"}}, \"type\": \"scattergl\"}], \"scattermapbox\": [{\"marker\": {\"colorbar\": {\"outlinewidth\": 1, \"tickcolor\": \"rgb(36,36,36)\", \"ticks\": \"outside\"}}, \"type\": \"scattermapbox\"}], \"scatterpolar\": [{\"marker\": {\"colorbar\": {\"outlinewidth\": 1, \"tickcolor\": \"rgb(36,36,36)\", \"ticks\": \"outside\"}}, \"type\": \"scatterpolar\"}], \"scatterpolargl\": [{\"marker\": {\"colorbar\": {\"outlinewidth\": 1, \"tickcolor\": \"rgb(36,36,36)\", \"ticks\": \"outside\"}}, \"type\": \"scatterpolargl\"}], \"scatterternary\": [{\"marker\": {\"colorbar\": {\"outlinewidth\": 1, \"tickcolor\": \"rgb(36,36,36)\", \"ticks\": \"outside\"}}, \"type\": \"scatterternary\"}], \"surface\": [{\"colorbar\": {\"outlinewidth\": 1, \"tickcolor\": \"rgb(36,36,36)\", \"ticks\": \"outside\"}, \"colorscale\": [[0.0, \"#440154\"], [0.1111111111111111, \"#482878\"], [0.2222222222222222, \"#3e4989\"], [0.3333333333333333, \"#31688e\"], [0.4444444444444444, \"#26828e\"], [0.5555555555555556, \"#1f9e89\"], [0.6666666666666666, \"#35b779\"], [0.7777777777777778, \"#6ece58\"], [0.8888888888888888, \"#b5de2b\"], [1.0, \"#fde725\"]], \"type\": \"surface\"}], \"table\": [{\"cells\": {\"fill\": {\"color\": \"rgb(237,237,237)\"}, \"line\": {\"color\": \"white\"}}, \"header\": {\"fill\": {\"color\": \"rgb(217,217,217)\"}, \"line\": {\"color\": \"white\"}}, \"type\": \"table\"}]}, \"layout\": {\"annotationdefaults\": {\"arrowhead\": 0, \"arrowwidth\": 1}, \"autotypenumbers\": \"strict\", \"coloraxis\": {\"colorbar\": {\"outlinewidth\": 1, \"tickcolor\": \"rgb(36,36,36)\", \"ticks\": \"outside\"}}, \"colorscale\": {\"diverging\": [[0.0, \"rgb(103,0,31)\"], [0.1, \"rgb(178,24,43)\"], [0.2, \"rgb(214,96,77)\"], [0.3, \"rgb(244,165,130)\"], [0.4, \"rgb(253,219,199)\"], [0.5, \"rgb(247,247,247)\"], [0.6, \"rgb(209,229,240)\"], [0.7, \"rgb(146,197,222)\"], [0.8, \"rgb(67,147,195)\"], [0.9, \"rgb(33,102,172)\"], [1.0, \"rgb(5,48,97)\"]], \"sequential\": [[0.0, \"#440154\"], [0.1111111111111111, \"#482878\"], [0.2222222222222222, \"#3e4989\"], [0.3333333333333333, \"#31688e\"], [0.4444444444444444, \"#26828e\"], [0.5555555555555556, \"#1f9e89\"], [0.6666666666666666, \"#35b779\"], [0.7777777777777778, \"#6ece58\"], [0.8888888888888888, \"#b5de2b\"], [1.0, \"#fde725\"]], \"sequentialminus\": [[0.0, \"#440154\"], [0.1111111111111111, \"#482878\"], [0.2222222222222222, \"#3e4989\"], [0.3333333333333333, \"#31688e\"], [0.4444444444444444, \"#26828e\"], [0.5555555555555556, \"#1f9e89\"], [0.6666666666666666, \"#35b779\"], [0.7777777777777778, \"#6ece58\"], [0.8888888888888888, \"#b5de2b\"], [1.0, \"#fde725\"]]}, \"colorway\": [\"#1F77B4\", \"#FF7F0E\", \"#2CA02C\", \"#D62728\", \"#9467BD\", \"#8C564B\", \"#E377C2\", \"#7F7F7F\", \"#BCBD22\", \"#17BECF\"], \"font\": {\"color\": \"rgb(36,36,36)\"}, \"geo\": {\"bgcolor\": \"white\", \"lakecolor\": \"white\", \"landcolor\": \"white\", \"showlakes\": true, \"showland\": true, \"subunitcolor\": \"white\"}, \"hoverlabel\": {\"align\": \"left\"}, \"hovermode\": \"closest\", \"mapbox\": {\"style\": \"light\"}, \"paper_bgcolor\": \"white\", \"plot_bgcolor\": \"white\", \"polar\": {\"angularaxis\": {\"gridcolor\": \"rgb(232,232,232)\", \"linecolor\": \"rgb(36,36,36)\", \"showgrid\": false, \"showline\": true, \"ticks\": \"outside\"}, \"bgcolor\": \"white\", \"radialaxis\": {\"gridcolor\": \"rgb(232,232,232)\", \"linecolor\": \"rgb(36,36,36)\", \"showgrid\": false, \"showline\": true, \"ticks\": \"outside\"}}, \"scene\": {\"xaxis\": {\"backgroundcolor\": \"white\", \"gridcolor\": \"rgb(232,232,232)\", \"gridwidth\": 2, \"linecolor\": \"rgb(36,36,36)\", \"showbackground\": true, \"showgrid\": false, \"showline\": true, \"ticks\": \"outside\", \"zeroline\": false, \"zerolinecolor\": \"rgb(36,36,36)\"}, \"yaxis\": {\"backgroundcolor\": \"white\", \"gridcolor\": \"rgb(232,232,232)\", \"gridwidth\": 2, \"linecolor\": \"rgb(36,36,36)\", \"showbackground\": true, \"showgrid\": false, \"showline\": true, \"ticks\": \"outside\", \"zeroline\": false, \"zerolinecolor\": \"rgb(36,36,36)\"}, \"zaxis\": {\"backgroundcolor\": \"white\", \"gridcolor\": \"rgb(232,232,232)\", \"gridwidth\": 2, \"linecolor\": \"rgb(36,36,36)\", \"showbackground\": true, \"showgrid\": false, \"showline\": true, \"ticks\": \"outside\", \"zeroline\": false, \"zerolinecolor\": \"rgb(36,36,36)\"}}, \"shapedefaults\": {\"fillcolor\": \"black\", \"line\": {\"width\": 0}, \"opacity\": 0.3}, \"ternary\": {\"aaxis\": {\"gridcolor\": \"rgb(232,232,232)\", \"linecolor\": \"rgb(36,36,36)\", \"showgrid\": false, \"showline\": true, \"ticks\": \"outside\"}, \"baxis\": {\"gridcolor\": \"rgb(232,232,232)\", \"linecolor\": \"rgb(36,36,36)\", \"showgrid\": false, \"showline\": true, \"ticks\": \"outside\"}, \"bgcolor\": \"white\", \"caxis\": {\"gridcolor\": \"rgb(232,232,232)\", \"linecolor\": \"rgb(36,36,36)\", \"showgrid\": false, \"showline\": true, \"ticks\": \"outside\"}}, \"title\": {\"x\": 0.05}, \"xaxis\": {\"automargin\": true, \"gridcolor\": \"rgb(232,232,232)\", \"linecolor\": \"rgb(36,36,36)\", \"showgrid\": false, \"showline\": true, \"ticks\": \"outside\", \"title\": {\"standoff\": 15}, \"zeroline\": false, \"zerolinecolor\": \"rgb(36,36,36)\"}, \"yaxis\": {\"automargin\": true, \"gridcolor\": \"rgb(232,232,232)\", \"linecolor\": \"rgb(36,36,36)\", \"showgrid\": false, \"showline\": true, \"ticks\": \"outside\", \"title\": {\"standoff\": 15}, \"zeroline\": false, \"zerolinecolor\": \"rgb(36,36,36)\"}}}, \"title\": {\"text\": \"Variantes detectadas en la Regi\\u00f3n de Ays\\u00e9n\"}, \"xaxis\": {\"anchor\": \"y\", \"domain\": [0.0, 1.0], \"title\": {\"text\": \"Fecha de resultado de Secuenciaci\\u00f3n o Genotipificaci\\u00f3n\"}}, \"yaxis\": {\"anchor\": \"x\", \"domain\": [0.0, 1.0], \"title\": {\"text\": \"% de casos identificados por variante\"}}},                        {\"responsive\": true}                    ).then(function(){\n",
       "                            \n",
       "var gd = document.getElementById('597a5e89-eba9-4d93-a708-3d591bd095fa');\n",
       "var x = new MutationObserver(function (mutations, observer) {{\n",
       "        var display = window.getComputedStyle(gd).display;\n",
       "        if (!display || display === 'none') {{\n",
       "            console.log([gd, 'removed!']);\n",
       "            Plotly.purge(gd);\n",
       "            observer.disconnect();\n",
       "        }}\n",
       "}});\n",
       "\n",
       "// Listen for the removal of the full notebook cells\n",
       "var notebookContainer = gd.closest('#notebook-container');\n",
       "if (notebookContainer) {{\n",
       "    x.observe(notebookContainer, {childList: true});\n",
       "}}\n",
       "\n",
       "// Listen for the clearing of the current output cell\n",
       "var outputEl = gd.closest('.output');\n",
       "if (outputEl) {{\n",
       "    x.observe(outputEl, {childList: true});\n",
       "}}\n",
       "\n",
       "                        })                };                });            </script>        </div>"
      ]
     },
     "metadata": {},
     "output_type": "display_data"
    }
   ],
   "source": [
    "px.area(df_variantes_clean.groupby(['fecha_resultado_secuenciacion_genotipificacion', 'rango_edad']).count()[['n_documento']].reset_index().pivot(\n",
    "    index='fecha_resultado_secuenciacion_genotipificacion',\n",
    "    columns='rango_edad', \n",
    "    values=['n_documento']\n",
    ").fillna(0).cumsum()['n_documento'],\n",
    "          labels={'rango_edad':'Rango de edad'},\n",
    "        groupnorm='percent'\n",
    "       ).update_layout(\n",
    "    title= 'Variantes detectadas en la Región de Aysén',\n",
    "    yaxis_title='% de casos identificados por variante',\n",
    "    xaxis_title='Fecha de resultado de Secuenciación o Genotipificación',\n",
    "    template='simple_white',   \n",
    ")"
   ]
  },
  {
   "cell_type": "code",
   "execution_count": 227,
   "id": "4b944023",
   "metadata": {},
   "outputs": [
    {
     "data": {
      "application/vnd.plotly.v1+json": {
       "config": {
        "plotlyServerURL": "https://plot.ly"
       },
       "data": [
        {
         "groupnorm": "percent",
         "hovertemplate": "Rango de edad=(0, 9]<br>fecha_resultado_secuenciacion_genotipificacion=%{x}<br>value=%{y}<extra></extra>",
         "legendgroup": "(0, 9]",
         "line": {
          "color": "#636efa"
         },
         "mode": "lines",
         "name": "(0, 9]",
         "orientation": "v",
         "showlegend": true,
         "stackgroup": "1",
         "type": "scatter",
         "x": [
          "2021-03-21T00:00:00",
          "2021-04-05T00:00:00",
          "2021-04-08T00:00:00",
          "2021-04-19T00:00:00",
          "2021-05-05T00:00:00",
          "2021-05-14T00:00:00",
          "2021-05-19T00:00:00",
          "2021-05-24T00:00:00",
          "2021-05-26T00:00:00",
          "2021-06-09T00:00:00",
          "2021-06-17T00:00:00",
          "2021-06-30T00:00:00",
          "2021-07-07T00:00:00",
          "2021-07-14T00:00:00",
          "2021-07-21T00:00:00",
          "2021-07-28T00:00:00",
          "2021-07-31T00:00:00",
          "2021-08-01T00:00:00",
          "2021-08-03T00:00:00",
          "2021-08-06T00:00:00",
          "2021-08-12T00:00:00",
          "2021-08-13T00:00:00",
          "2021-08-17T00:00:00",
          "2021-08-18T00:00:00",
          "2021-08-21T00:00:00",
          "2021-08-23T00:00:00",
          "2021-08-25T00:00:00",
          "2021-08-26T00:00:00",
          "2021-09-01T00:00:00"
         ],
         "xaxis": "x",
         "y": [
          0,
          0,
          0,
          0,
          0,
          0,
          0,
          0,
          0,
          0,
          1,
          1,
          2,
          3,
          4,
          4,
          4,
          4,
          4,
          4,
          4,
          4,
          8,
          8,
          10,
          10,
          13,
          14,
          14
         ],
         "yaxis": "y"
        },
        {
         "groupnorm": "percent",
         "hovertemplate": "Rango de edad=(10, 19]<br>fecha_resultado_secuenciacion_genotipificacion=%{x}<br>value=%{y}<extra></extra>",
         "legendgroup": "(10, 19]",
         "line": {
          "color": "#EF553B"
         },
         "mode": "lines",
         "name": "(10, 19]",
         "orientation": "v",
         "showlegend": true,
         "stackgroup": "1",
         "type": "scatter",
         "x": [
          "2021-03-21T00:00:00",
          "2021-04-05T00:00:00",
          "2021-04-08T00:00:00",
          "2021-04-19T00:00:00",
          "2021-05-05T00:00:00",
          "2021-05-14T00:00:00",
          "2021-05-19T00:00:00",
          "2021-05-24T00:00:00",
          "2021-05-26T00:00:00",
          "2021-06-09T00:00:00",
          "2021-06-17T00:00:00",
          "2021-06-30T00:00:00",
          "2021-07-07T00:00:00",
          "2021-07-14T00:00:00",
          "2021-07-21T00:00:00",
          "2021-07-28T00:00:00",
          "2021-07-31T00:00:00",
          "2021-08-01T00:00:00",
          "2021-08-03T00:00:00",
          "2021-08-06T00:00:00",
          "2021-08-12T00:00:00",
          "2021-08-13T00:00:00",
          "2021-08-17T00:00:00",
          "2021-08-18T00:00:00",
          "2021-08-21T00:00:00",
          "2021-08-23T00:00:00",
          "2021-08-25T00:00:00",
          "2021-08-26T00:00:00",
          "2021-09-01T00:00:00"
         ],
         "xaxis": "x",
         "y": [
          0,
          0,
          0,
          0,
          1,
          4,
          4,
          4,
          10,
          11,
          13,
          14,
          17,
          21,
          25,
          25,
          25,
          25,
          25,
          27,
          27,
          29,
          29,
          30,
          30,
          30,
          32,
          32,
          32
         ],
         "yaxis": "y"
        },
        {
         "groupnorm": "percent",
         "hovertemplate": "Rango de edad=(20, 29]<br>fecha_resultado_secuenciacion_genotipificacion=%{x}<br>value=%{y}<extra></extra>",
         "legendgroup": "(20, 29]",
         "line": {
          "color": "#00cc96"
         },
         "mode": "lines",
         "name": "(20, 29]",
         "orientation": "v",
         "showlegend": true,
         "stackgroup": "1",
         "type": "scatter",
         "x": [
          "2021-03-21T00:00:00",
          "2021-04-05T00:00:00",
          "2021-04-08T00:00:00",
          "2021-04-19T00:00:00",
          "2021-05-05T00:00:00",
          "2021-05-14T00:00:00",
          "2021-05-19T00:00:00",
          "2021-05-24T00:00:00",
          "2021-05-26T00:00:00",
          "2021-06-09T00:00:00",
          "2021-06-17T00:00:00",
          "2021-06-30T00:00:00",
          "2021-07-07T00:00:00",
          "2021-07-14T00:00:00",
          "2021-07-21T00:00:00",
          "2021-07-28T00:00:00",
          "2021-07-31T00:00:00",
          "2021-08-01T00:00:00",
          "2021-08-03T00:00:00",
          "2021-08-06T00:00:00",
          "2021-08-12T00:00:00",
          "2021-08-13T00:00:00",
          "2021-08-17T00:00:00",
          "2021-08-18T00:00:00",
          "2021-08-21T00:00:00",
          "2021-08-23T00:00:00",
          "2021-08-25T00:00:00",
          "2021-08-26T00:00:00",
          "2021-09-01T00:00:00"
         ],
         "xaxis": "x",
         "y": [
          0,
          0,
          0,
          1,
          2,
          3,
          6,
          7,
          9,
          11,
          11,
          13,
          16,
          21,
          26,
          26,
          27,
          27,
          27,
          27,
          28,
          29,
          31,
          31,
          31,
          33,
          35,
          36,
          37
         ],
         "yaxis": "y"
        },
        {
         "groupnorm": "percent",
         "hovertemplate": "Rango de edad=(30, 39]<br>fecha_resultado_secuenciacion_genotipificacion=%{x}<br>value=%{y}<extra></extra>",
         "legendgroup": "(30, 39]",
         "line": {
          "color": "#ab63fa"
         },
         "mode": "lines",
         "name": "(30, 39]",
         "orientation": "v",
         "showlegend": true,
         "stackgroup": "1",
         "type": "scatter",
         "x": [
          "2021-03-21T00:00:00",
          "2021-04-05T00:00:00",
          "2021-04-08T00:00:00",
          "2021-04-19T00:00:00",
          "2021-05-05T00:00:00",
          "2021-05-14T00:00:00",
          "2021-05-19T00:00:00",
          "2021-05-24T00:00:00",
          "2021-05-26T00:00:00",
          "2021-06-09T00:00:00",
          "2021-06-17T00:00:00",
          "2021-06-30T00:00:00",
          "2021-07-07T00:00:00",
          "2021-07-14T00:00:00",
          "2021-07-21T00:00:00",
          "2021-07-28T00:00:00",
          "2021-07-31T00:00:00",
          "2021-08-01T00:00:00",
          "2021-08-03T00:00:00",
          "2021-08-06T00:00:00",
          "2021-08-12T00:00:00",
          "2021-08-13T00:00:00",
          "2021-08-17T00:00:00",
          "2021-08-18T00:00:00",
          "2021-08-21T00:00:00",
          "2021-08-23T00:00:00",
          "2021-08-25T00:00:00",
          "2021-08-26T00:00:00",
          "2021-09-01T00:00:00"
         ],
         "xaxis": "x",
         "y": [
          0,
          1,
          1,
          3,
          4,
          7,
          10,
          10,
          12,
          14,
          14,
          16,
          16,
          22,
          27,
          27,
          27,
          27,
          29,
          30,
          32,
          32,
          34,
          34,
          34,
          34,
          35,
          37,
          37
         ],
         "yaxis": "y"
        },
        {
         "groupnorm": "percent",
         "hovertemplate": "Rango de edad=(40, 49]<br>fecha_resultado_secuenciacion_genotipificacion=%{x}<br>value=%{y}<extra></extra>",
         "legendgroup": "(40, 49]",
         "line": {
          "color": "#FFA15A"
         },
         "mode": "lines",
         "name": "(40, 49]",
         "orientation": "v",
         "showlegend": true,
         "stackgroup": "1",
         "type": "scatter",
         "x": [
          "2021-03-21T00:00:00",
          "2021-04-05T00:00:00",
          "2021-04-08T00:00:00",
          "2021-04-19T00:00:00",
          "2021-05-05T00:00:00",
          "2021-05-14T00:00:00",
          "2021-05-19T00:00:00",
          "2021-05-24T00:00:00",
          "2021-05-26T00:00:00",
          "2021-06-09T00:00:00",
          "2021-06-17T00:00:00",
          "2021-06-30T00:00:00",
          "2021-07-07T00:00:00",
          "2021-07-14T00:00:00",
          "2021-07-21T00:00:00",
          "2021-07-28T00:00:00",
          "2021-07-31T00:00:00",
          "2021-08-01T00:00:00",
          "2021-08-03T00:00:00",
          "2021-08-06T00:00:00",
          "2021-08-12T00:00:00",
          "2021-08-13T00:00:00",
          "2021-08-17T00:00:00",
          "2021-08-18T00:00:00",
          "2021-08-21T00:00:00",
          "2021-08-23T00:00:00",
          "2021-08-25T00:00:00",
          "2021-08-26T00:00:00",
          "2021-09-01T00:00:00"
         ],
         "xaxis": "x",
         "y": [
          0,
          0,
          0,
          1,
          2,
          3,
          4,
          4,
          5,
          6,
          7,
          8,
          10,
          14,
          15,
          15,
          17,
          17,
          17,
          19,
          20,
          22,
          23,
          25,
          25,
          28,
          32,
          33,
          36
         ],
         "yaxis": "y"
        },
        {
         "groupnorm": "percent",
         "hovertemplate": "Rango de edad=(50, 59]<br>fecha_resultado_secuenciacion_genotipificacion=%{x}<br>value=%{y}<extra></extra>",
         "legendgroup": "(50, 59]",
         "line": {
          "color": "#19d3f3"
         },
         "mode": "lines",
         "name": "(50, 59]",
         "orientation": "v",
         "showlegend": true,
         "stackgroup": "1",
         "type": "scatter",
         "x": [
          "2021-03-21T00:00:00",
          "2021-04-05T00:00:00",
          "2021-04-08T00:00:00",
          "2021-04-19T00:00:00",
          "2021-05-05T00:00:00",
          "2021-05-14T00:00:00",
          "2021-05-19T00:00:00",
          "2021-05-24T00:00:00",
          "2021-05-26T00:00:00",
          "2021-06-09T00:00:00",
          "2021-06-17T00:00:00",
          "2021-06-30T00:00:00",
          "2021-07-07T00:00:00",
          "2021-07-14T00:00:00",
          "2021-07-21T00:00:00",
          "2021-07-28T00:00:00",
          "2021-07-31T00:00:00",
          "2021-08-01T00:00:00",
          "2021-08-03T00:00:00",
          "2021-08-06T00:00:00",
          "2021-08-12T00:00:00",
          "2021-08-13T00:00:00",
          "2021-08-17T00:00:00",
          "2021-08-18T00:00:00",
          "2021-08-21T00:00:00",
          "2021-08-23T00:00:00",
          "2021-08-25T00:00:00",
          "2021-08-26T00:00:00",
          "2021-09-01T00:00:00"
         ],
         "xaxis": "x",
         "y": [
          1,
          1,
          1,
          1,
          1,
          2,
          2,
          2,
          4,
          6,
          6,
          7,
          8,
          10,
          16,
          17,
          17,
          17,
          17,
          17,
          17,
          17,
          17,
          17,
          17,
          17,
          17,
          17,
          17
         ],
         "yaxis": "y"
        },
        {
         "groupnorm": "percent",
         "hovertemplate": "Rango de edad=(60, 69]<br>fecha_resultado_secuenciacion_genotipificacion=%{x}<br>value=%{y}<extra></extra>",
         "legendgroup": "(60, 69]",
         "line": {
          "color": "#FF6692"
         },
         "mode": "lines",
         "name": "(60, 69]",
         "orientation": "v",
         "showlegend": true,
         "stackgroup": "1",
         "type": "scatter",
         "x": [
          "2021-03-21T00:00:00",
          "2021-04-05T00:00:00",
          "2021-04-08T00:00:00",
          "2021-04-19T00:00:00",
          "2021-05-05T00:00:00",
          "2021-05-14T00:00:00",
          "2021-05-19T00:00:00",
          "2021-05-24T00:00:00",
          "2021-05-26T00:00:00",
          "2021-06-09T00:00:00",
          "2021-06-17T00:00:00",
          "2021-06-30T00:00:00",
          "2021-07-07T00:00:00",
          "2021-07-14T00:00:00",
          "2021-07-21T00:00:00",
          "2021-07-28T00:00:00",
          "2021-07-31T00:00:00",
          "2021-08-01T00:00:00",
          "2021-08-03T00:00:00",
          "2021-08-06T00:00:00",
          "2021-08-12T00:00:00",
          "2021-08-13T00:00:00",
          "2021-08-17T00:00:00",
          "2021-08-18T00:00:00",
          "2021-08-21T00:00:00",
          "2021-08-23T00:00:00",
          "2021-08-25T00:00:00",
          "2021-08-26T00:00:00",
          "2021-09-01T00:00:00"
         ],
         "xaxis": "x",
         "y": [
          1,
          2,
          2,
          2,
          3,
          4,
          4,
          4,
          4,
          5,
          5,
          6,
          7,
          9,
          11,
          11,
          11,
          11,
          11,
          12,
          12,
          12,
          13,
          13,
          15,
          17,
          17,
          17,
          19
         ],
         "yaxis": "y"
        },
        {
         "groupnorm": "percent",
         "hovertemplate": "Rango de edad=(70, 79]<br>fecha_resultado_secuenciacion_genotipificacion=%{x}<br>value=%{y}<extra></extra>",
         "legendgroup": "(70, 79]",
         "line": {
          "color": "#B6E880"
         },
         "mode": "lines",
         "name": "(70, 79]",
         "orientation": "v",
         "showlegend": true,
         "stackgroup": "1",
         "type": "scatter",
         "x": [
          "2021-03-21T00:00:00",
          "2021-04-05T00:00:00",
          "2021-04-08T00:00:00",
          "2021-04-19T00:00:00",
          "2021-05-05T00:00:00",
          "2021-05-14T00:00:00",
          "2021-05-19T00:00:00",
          "2021-05-24T00:00:00",
          "2021-05-26T00:00:00",
          "2021-06-09T00:00:00",
          "2021-06-17T00:00:00",
          "2021-06-30T00:00:00",
          "2021-07-07T00:00:00",
          "2021-07-14T00:00:00",
          "2021-07-21T00:00:00",
          "2021-07-28T00:00:00",
          "2021-07-31T00:00:00",
          "2021-08-01T00:00:00",
          "2021-08-03T00:00:00",
          "2021-08-06T00:00:00",
          "2021-08-12T00:00:00",
          "2021-08-13T00:00:00",
          "2021-08-17T00:00:00",
          "2021-08-18T00:00:00",
          "2021-08-21T00:00:00",
          "2021-08-23T00:00:00",
          "2021-08-25T00:00:00",
          "2021-08-26T00:00:00",
          "2021-09-01T00:00:00"
         ],
         "xaxis": "x",
         "y": [
          0,
          0,
          0,
          0,
          0,
          0,
          0,
          0,
          1,
          1,
          2,
          2,
          2,
          3,
          3,
          3,
          3,
          3,
          3,
          5,
          6,
          7,
          7,
          7,
          7,
          7,
          7,
          7,
          7
         ],
         "yaxis": "y"
        },
        {
         "groupnorm": "percent",
         "hovertemplate": "Rango de edad=(80, 120]<br>fecha_resultado_secuenciacion_genotipificacion=%{x}<br>value=%{y}<extra></extra>",
         "legendgroup": "(80, 120]",
         "line": {
          "color": "#FF97FF"
         },
         "mode": "lines",
         "name": "(80, 120]",
         "orientation": "v",
         "showlegend": true,
         "stackgroup": "1",
         "type": "scatter",
         "x": [
          "2021-03-21T00:00:00",
          "2021-04-05T00:00:00",
          "2021-04-08T00:00:00",
          "2021-04-19T00:00:00",
          "2021-05-05T00:00:00",
          "2021-05-14T00:00:00",
          "2021-05-19T00:00:00",
          "2021-05-24T00:00:00",
          "2021-05-26T00:00:00",
          "2021-06-09T00:00:00",
          "2021-06-17T00:00:00",
          "2021-06-30T00:00:00",
          "2021-07-07T00:00:00",
          "2021-07-14T00:00:00",
          "2021-07-21T00:00:00",
          "2021-07-28T00:00:00",
          "2021-07-31T00:00:00",
          "2021-08-01T00:00:00",
          "2021-08-03T00:00:00",
          "2021-08-06T00:00:00",
          "2021-08-12T00:00:00",
          "2021-08-13T00:00:00",
          "2021-08-17T00:00:00",
          "2021-08-18T00:00:00",
          "2021-08-21T00:00:00",
          "2021-08-23T00:00:00",
          "2021-08-25T00:00:00",
          "2021-08-26T00:00:00",
          "2021-09-01T00:00:00"
         ],
         "xaxis": "x",
         "y": [
          0,
          0,
          0,
          0,
          0,
          0,
          0,
          0,
          0,
          0,
          0,
          0,
          2,
          4,
          4,
          4,
          4,
          4,
          4,
          4,
          4,
          4,
          4,
          4,
          4,
          4,
          4,
          4,
          4
         ],
         "yaxis": "y"
        }
       ],
       "layout": {
        "legend": {
         "title": {
          "text": "Rango de edad"
         },
         "tracegroupgap": 0
        },
        "margin": {
         "t": 60
        },
        "template": {
         "data": {
          "bar": [
           {
            "error_x": {
             "color": "rgb(36,36,36)"
            },
            "error_y": {
             "color": "rgb(36,36,36)"
            },
            "marker": {
             "line": {
              "color": "white",
              "width": 0.5
             }
            },
            "type": "bar"
           }
          ],
          "barpolar": [
           {
            "marker": {
             "line": {
              "color": "white",
              "width": 0.5
             }
            },
            "type": "barpolar"
           }
          ],
          "carpet": [
           {
            "aaxis": {
             "endlinecolor": "rgb(36,36,36)",
             "gridcolor": "white",
             "linecolor": "white",
             "minorgridcolor": "white",
             "startlinecolor": "rgb(36,36,36)"
            },
            "baxis": {
             "endlinecolor": "rgb(36,36,36)",
             "gridcolor": "white",
             "linecolor": "white",
             "minorgridcolor": "white",
             "startlinecolor": "rgb(36,36,36)"
            },
            "type": "carpet"
           }
          ],
          "choropleth": [
           {
            "colorbar": {
             "outlinewidth": 1,
             "tickcolor": "rgb(36,36,36)",
             "ticks": "outside"
            },
            "type": "choropleth"
           }
          ],
          "contour": [
           {
            "colorbar": {
             "outlinewidth": 1,
             "tickcolor": "rgb(36,36,36)",
             "ticks": "outside"
            },
            "colorscale": [
             [
              0,
              "#440154"
             ],
             [
              0.1111111111111111,
              "#482878"
             ],
             [
              0.2222222222222222,
              "#3e4989"
             ],
             [
              0.3333333333333333,
              "#31688e"
             ],
             [
              0.4444444444444444,
              "#26828e"
             ],
             [
              0.5555555555555556,
              "#1f9e89"
             ],
             [
              0.6666666666666666,
              "#35b779"
             ],
             [
              0.7777777777777778,
              "#6ece58"
             ],
             [
              0.8888888888888888,
              "#b5de2b"
             ],
             [
              1,
              "#fde725"
             ]
            ],
            "type": "contour"
           }
          ],
          "contourcarpet": [
           {
            "colorbar": {
             "outlinewidth": 1,
             "tickcolor": "rgb(36,36,36)",
             "ticks": "outside"
            },
            "type": "contourcarpet"
           }
          ],
          "heatmap": [
           {
            "colorbar": {
             "outlinewidth": 1,
             "tickcolor": "rgb(36,36,36)",
             "ticks": "outside"
            },
            "colorscale": [
             [
              0,
              "#440154"
             ],
             [
              0.1111111111111111,
              "#482878"
             ],
             [
              0.2222222222222222,
              "#3e4989"
             ],
             [
              0.3333333333333333,
              "#31688e"
             ],
             [
              0.4444444444444444,
              "#26828e"
             ],
             [
              0.5555555555555556,
              "#1f9e89"
             ],
             [
              0.6666666666666666,
              "#35b779"
             ],
             [
              0.7777777777777778,
              "#6ece58"
             ],
             [
              0.8888888888888888,
              "#b5de2b"
             ],
             [
              1,
              "#fde725"
             ]
            ],
            "type": "heatmap"
           }
          ],
          "heatmapgl": [
           {
            "colorbar": {
             "outlinewidth": 1,
             "tickcolor": "rgb(36,36,36)",
             "ticks": "outside"
            },
            "colorscale": [
             [
              0,
              "#440154"
             ],
             [
              0.1111111111111111,
              "#482878"
             ],
             [
              0.2222222222222222,
              "#3e4989"
             ],
             [
              0.3333333333333333,
              "#31688e"
             ],
             [
              0.4444444444444444,
              "#26828e"
             ],
             [
              0.5555555555555556,
              "#1f9e89"
             ],
             [
              0.6666666666666666,
              "#35b779"
             ],
             [
              0.7777777777777778,
              "#6ece58"
             ],
             [
              0.8888888888888888,
              "#b5de2b"
             ],
             [
              1,
              "#fde725"
             ]
            ],
            "type": "heatmapgl"
           }
          ],
          "histogram": [
           {
            "marker": {
             "line": {
              "color": "white",
              "width": 0.6
             }
            },
            "type": "histogram"
           }
          ],
          "histogram2d": [
           {
            "colorbar": {
             "outlinewidth": 1,
             "tickcolor": "rgb(36,36,36)",
             "ticks": "outside"
            },
            "colorscale": [
             [
              0,
              "#440154"
             ],
             [
              0.1111111111111111,
              "#482878"
             ],
             [
              0.2222222222222222,
              "#3e4989"
             ],
             [
              0.3333333333333333,
              "#31688e"
             ],
             [
              0.4444444444444444,
              "#26828e"
             ],
             [
              0.5555555555555556,
              "#1f9e89"
             ],
             [
              0.6666666666666666,
              "#35b779"
             ],
             [
              0.7777777777777778,
              "#6ece58"
             ],
             [
              0.8888888888888888,
              "#b5de2b"
             ],
             [
              1,
              "#fde725"
             ]
            ],
            "type": "histogram2d"
           }
          ],
          "histogram2dcontour": [
           {
            "colorbar": {
             "outlinewidth": 1,
             "tickcolor": "rgb(36,36,36)",
             "ticks": "outside"
            },
            "colorscale": [
             [
              0,
              "#440154"
             ],
             [
              0.1111111111111111,
              "#482878"
             ],
             [
              0.2222222222222222,
              "#3e4989"
             ],
             [
              0.3333333333333333,
              "#31688e"
             ],
             [
              0.4444444444444444,
              "#26828e"
             ],
             [
              0.5555555555555556,
              "#1f9e89"
             ],
             [
              0.6666666666666666,
              "#35b779"
             ],
             [
              0.7777777777777778,
              "#6ece58"
             ],
             [
              0.8888888888888888,
              "#b5de2b"
             ],
             [
              1,
              "#fde725"
             ]
            ],
            "type": "histogram2dcontour"
           }
          ],
          "mesh3d": [
           {
            "colorbar": {
             "outlinewidth": 1,
             "tickcolor": "rgb(36,36,36)",
             "ticks": "outside"
            },
            "type": "mesh3d"
           }
          ],
          "parcoords": [
           {
            "line": {
             "colorbar": {
              "outlinewidth": 1,
              "tickcolor": "rgb(36,36,36)",
              "ticks": "outside"
             }
            },
            "type": "parcoords"
           }
          ],
          "pie": [
           {
            "automargin": true,
            "type": "pie"
           }
          ],
          "scatter": [
           {
            "marker": {
             "colorbar": {
              "outlinewidth": 1,
              "tickcolor": "rgb(36,36,36)",
              "ticks": "outside"
             }
            },
            "type": "scatter"
           }
          ],
          "scatter3d": [
           {
            "line": {
             "colorbar": {
              "outlinewidth": 1,
              "tickcolor": "rgb(36,36,36)",
              "ticks": "outside"
             }
            },
            "marker": {
             "colorbar": {
              "outlinewidth": 1,
              "tickcolor": "rgb(36,36,36)",
              "ticks": "outside"
             }
            },
            "type": "scatter3d"
           }
          ],
          "scattercarpet": [
           {
            "marker": {
             "colorbar": {
              "outlinewidth": 1,
              "tickcolor": "rgb(36,36,36)",
              "ticks": "outside"
             }
            },
            "type": "scattercarpet"
           }
          ],
          "scattergeo": [
           {
            "marker": {
             "colorbar": {
              "outlinewidth": 1,
              "tickcolor": "rgb(36,36,36)",
              "ticks": "outside"
             }
            },
            "type": "scattergeo"
           }
          ],
          "scattergl": [
           {
            "marker": {
             "colorbar": {
              "outlinewidth": 1,
              "tickcolor": "rgb(36,36,36)",
              "ticks": "outside"
             }
            },
            "type": "scattergl"
           }
          ],
          "scattermapbox": [
           {
            "marker": {
             "colorbar": {
              "outlinewidth": 1,
              "tickcolor": "rgb(36,36,36)",
              "ticks": "outside"
             }
            },
            "type": "scattermapbox"
           }
          ],
          "scatterpolar": [
           {
            "marker": {
             "colorbar": {
              "outlinewidth": 1,
              "tickcolor": "rgb(36,36,36)",
              "ticks": "outside"
             }
            },
            "type": "scatterpolar"
           }
          ],
          "scatterpolargl": [
           {
            "marker": {
             "colorbar": {
              "outlinewidth": 1,
              "tickcolor": "rgb(36,36,36)",
              "ticks": "outside"
             }
            },
            "type": "scatterpolargl"
           }
          ],
          "scatterternary": [
           {
            "marker": {
             "colorbar": {
              "outlinewidth": 1,
              "tickcolor": "rgb(36,36,36)",
              "ticks": "outside"
             }
            },
            "type": "scatterternary"
           }
          ],
          "surface": [
           {
            "colorbar": {
             "outlinewidth": 1,
             "tickcolor": "rgb(36,36,36)",
             "ticks": "outside"
            },
            "colorscale": [
             [
              0,
              "#440154"
             ],
             [
              0.1111111111111111,
              "#482878"
             ],
             [
              0.2222222222222222,
              "#3e4989"
             ],
             [
              0.3333333333333333,
              "#31688e"
             ],
             [
              0.4444444444444444,
              "#26828e"
             ],
             [
              0.5555555555555556,
              "#1f9e89"
             ],
             [
              0.6666666666666666,
              "#35b779"
             ],
             [
              0.7777777777777778,
              "#6ece58"
             ],
             [
              0.8888888888888888,
              "#b5de2b"
             ],
             [
              1,
              "#fde725"
             ]
            ],
            "type": "surface"
           }
          ],
          "table": [
           {
            "cells": {
             "fill": {
              "color": "rgb(237,237,237)"
             },
             "line": {
              "color": "white"
             }
            },
            "header": {
             "fill": {
              "color": "rgb(217,217,217)"
             },
             "line": {
              "color": "white"
             }
            },
            "type": "table"
           }
          ]
         },
         "layout": {
          "annotationdefaults": {
           "arrowhead": 0,
           "arrowwidth": 1
          },
          "autotypenumbers": "strict",
          "coloraxis": {
           "colorbar": {
            "outlinewidth": 1,
            "tickcolor": "rgb(36,36,36)",
            "ticks": "outside"
           }
          },
          "colorscale": {
           "diverging": [
            [
             0,
             "rgb(103,0,31)"
            ],
            [
             0.1,
             "rgb(178,24,43)"
            ],
            [
             0.2,
             "rgb(214,96,77)"
            ],
            [
             0.3,
             "rgb(244,165,130)"
            ],
            [
             0.4,
             "rgb(253,219,199)"
            ],
            [
             0.5,
             "rgb(247,247,247)"
            ],
            [
             0.6,
             "rgb(209,229,240)"
            ],
            [
             0.7,
             "rgb(146,197,222)"
            ],
            [
             0.8,
             "rgb(67,147,195)"
            ],
            [
             0.9,
             "rgb(33,102,172)"
            ],
            [
             1,
             "rgb(5,48,97)"
            ]
           ],
           "sequential": [
            [
             0,
             "#440154"
            ],
            [
             0.1111111111111111,
             "#482878"
            ],
            [
             0.2222222222222222,
             "#3e4989"
            ],
            [
             0.3333333333333333,
             "#31688e"
            ],
            [
             0.4444444444444444,
             "#26828e"
            ],
            [
             0.5555555555555556,
             "#1f9e89"
            ],
            [
             0.6666666666666666,
             "#35b779"
            ],
            [
             0.7777777777777778,
             "#6ece58"
            ],
            [
             0.8888888888888888,
             "#b5de2b"
            ],
            [
             1,
             "#fde725"
            ]
           ],
           "sequentialminus": [
            [
             0,
             "#440154"
            ],
            [
             0.1111111111111111,
             "#482878"
            ],
            [
             0.2222222222222222,
             "#3e4989"
            ],
            [
             0.3333333333333333,
             "#31688e"
            ],
            [
             0.4444444444444444,
             "#26828e"
            ],
            [
             0.5555555555555556,
             "#1f9e89"
            ],
            [
             0.6666666666666666,
             "#35b779"
            ],
            [
             0.7777777777777778,
             "#6ece58"
            ],
            [
             0.8888888888888888,
             "#b5de2b"
            ],
            [
             1,
             "#fde725"
            ]
           ]
          },
          "colorway": [
           "#1F77B4",
           "#FF7F0E",
           "#2CA02C",
           "#D62728",
           "#9467BD",
           "#8C564B",
           "#E377C2",
           "#7F7F7F",
           "#BCBD22",
           "#17BECF"
          ],
          "font": {
           "color": "rgb(36,36,36)"
          },
          "geo": {
           "bgcolor": "white",
           "lakecolor": "white",
           "landcolor": "white",
           "showlakes": true,
           "showland": true,
           "subunitcolor": "white"
          },
          "hoverlabel": {
           "align": "left"
          },
          "hovermode": "closest",
          "mapbox": {
           "style": "light"
          },
          "paper_bgcolor": "white",
          "plot_bgcolor": "white",
          "polar": {
           "angularaxis": {
            "gridcolor": "rgb(232,232,232)",
            "linecolor": "rgb(36,36,36)",
            "showgrid": false,
            "showline": true,
            "ticks": "outside"
           },
           "bgcolor": "white",
           "radialaxis": {
            "gridcolor": "rgb(232,232,232)",
            "linecolor": "rgb(36,36,36)",
            "showgrid": false,
            "showline": true,
            "ticks": "outside"
           }
          },
          "scene": {
           "xaxis": {
            "backgroundcolor": "white",
            "gridcolor": "rgb(232,232,232)",
            "gridwidth": 2,
            "linecolor": "rgb(36,36,36)",
            "showbackground": true,
            "showgrid": false,
            "showline": true,
            "ticks": "outside",
            "zeroline": false,
            "zerolinecolor": "rgb(36,36,36)"
           },
           "yaxis": {
            "backgroundcolor": "white",
            "gridcolor": "rgb(232,232,232)",
            "gridwidth": 2,
            "linecolor": "rgb(36,36,36)",
            "showbackground": true,
            "showgrid": false,
            "showline": true,
            "ticks": "outside",
            "zeroline": false,
            "zerolinecolor": "rgb(36,36,36)"
           },
           "zaxis": {
            "backgroundcolor": "white",
            "gridcolor": "rgb(232,232,232)",
            "gridwidth": 2,
            "linecolor": "rgb(36,36,36)",
            "showbackground": true,
            "showgrid": false,
            "showline": true,
            "ticks": "outside",
            "zeroline": false,
            "zerolinecolor": "rgb(36,36,36)"
           }
          },
          "shapedefaults": {
           "fillcolor": "black",
           "line": {
            "width": 0
           },
           "opacity": 0.3
          },
          "ternary": {
           "aaxis": {
            "gridcolor": "rgb(232,232,232)",
            "linecolor": "rgb(36,36,36)",
            "showgrid": false,
            "showline": true,
            "ticks": "outside"
           },
           "baxis": {
            "gridcolor": "rgb(232,232,232)",
            "linecolor": "rgb(36,36,36)",
            "showgrid": false,
            "showline": true,
            "ticks": "outside"
           },
           "bgcolor": "white",
           "caxis": {
            "gridcolor": "rgb(232,232,232)",
            "linecolor": "rgb(36,36,36)",
            "showgrid": false,
            "showline": true,
            "ticks": "outside"
           }
          },
          "title": {
           "x": 0.05
          },
          "xaxis": {
           "automargin": true,
           "gridcolor": "rgb(232,232,232)",
           "linecolor": "rgb(36,36,36)",
           "showgrid": false,
           "showline": true,
           "ticks": "outside",
           "title": {
            "standoff": 15
           },
           "zeroline": false,
           "zerolinecolor": "rgb(36,36,36)"
          },
          "yaxis": {
           "automargin": true,
           "gridcolor": "rgb(232,232,232)",
           "linecolor": "rgb(36,36,36)",
           "showgrid": false,
           "showline": true,
           "ticks": "outside",
           "title": {
            "standoff": 15
           },
           "zeroline": false,
           "zerolinecolor": "rgb(36,36,36)"
          }
         }
        },
        "title": {
         "text": "Variantes detectadas en la Región de Aysén"
        },
        "xaxis": {
         "anchor": "y",
         "domain": [
          0,
          1
         ],
         "title": {
          "text": "Fecha de resultado de Secuenciación o Genotipificación"
         }
        },
        "yaxis": {
         "anchor": "x",
         "domain": [
          0,
          1
         ],
         "title": {
          "text": "% de casos identificados de variantes por rango etareo"
         }
        }
       }
      },
      "text/html": [
       "<div>                            <div id=\"409774f6-c740-43d5-8915-4b3c080454aa\" class=\"plotly-graph-div\" style=\"height:525px; width:100%;\"></div>            <script type=\"text/javascript\">                require([\"plotly\"], function(Plotly) {                    window.PLOTLYENV=window.PLOTLYENV || {};                                    if (document.getElementById(\"409774f6-c740-43d5-8915-4b3c080454aa\")) {                    Plotly.newPlot(                        \"409774f6-c740-43d5-8915-4b3c080454aa\",                        [{\"groupnorm\": \"percent\", \"hovertemplate\": \"Rango de edad=(0, 9]<br>fecha_resultado_secuenciacion_genotipificacion=%{x}<br>value=%{y}<extra></extra>\", \"legendgroup\": \"(0, 9]\", \"line\": {\"color\": \"#636efa\"}, \"mode\": \"lines\", \"name\": \"(0, 9]\", \"orientation\": \"v\", \"showlegend\": true, \"stackgroup\": \"1\", \"type\": \"scatter\", \"x\": [\"2021-03-21T00:00:00\", \"2021-04-05T00:00:00\", \"2021-04-08T00:00:00\", \"2021-04-19T00:00:00\", \"2021-05-05T00:00:00\", \"2021-05-14T00:00:00\", \"2021-05-19T00:00:00\", \"2021-05-24T00:00:00\", \"2021-05-26T00:00:00\", \"2021-06-09T00:00:00\", \"2021-06-17T00:00:00\", \"2021-06-30T00:00:00\", \"2021-07-07T00:00:00\", \"2021-07-14T00:00:00\", \"2021-07-21T00:00:00\", \"2021-07-28T00:00:00\", \"2021-07-31T00:00:00\", \"2021-08-01T00:00:00\", \"2021-08-03T00:00:00\", \"2021-08-06T00:00:00\", \"2021-08-12T00:00:00\", \"2021-08-13T00:00:00\", \"2021-08-17T00:00:00\", \"2021-08-18T00:00:00\", \"2021-08-21T00:00:00\", \"2021-08-23T00:00:00\", \"2021-08-25T00:00:00\", \"2021-08-26T00:00:00\", \"2021-09-01T00:00:00\"], \"xaxis\": \"x\", \"y\": [0, 0, 0, 0, 0, 0, 0, 0, 0, 0, 1, 1, 2, 3, 4, 4, 4, 4, 4, 4, 4, 4, 8, 8, 10, 10, 13, 14, 14], \"yaxis\": \"y\"}, {\"groupnorm\": \"percent\", \"hovertemplate\": \"Rango de edad=(10, 19]<br>fecha_resultado_secuenciacion_genotipificacion=%{x}<br>value=%{y}<extra></extra>\", \"legendgroup\": \"(10, 19]\", \"line\": {\"color\": \"#EF553B\"}, \"mode\": \"lines\", \"name\": \"(10, 19]\", \"orientation\": \"v\", \"showlegend\": true, \"stackgroup\": \"1\", \"type\": \"scatter\", \"x\": [\"2021-03-21T00:00:00\", \"2021-04-05T00:00:00\", \"2021-04-08T00:00:00\", \"2021-04-19T00:00:00\", \"2021-05-05T00:00:00\", \"2021-05-14T00:00:00\", \"2021-05-19T00:00:00\", \"2021-05-24T00:00:00\", \"2021-05-26T00:00:00\", \"2021-06-09T00:00:00\", \"2021-06-17T00:00:00\", \"2021-06-30T00:00:00\", \"2021-07-07T00:00:00\", \"2021-07-14T00:00:00\", \"2021-07-21T00:00:00\", \"2021-07-28T00:00:00\", \"2021-07-31T00:00:00\", \"2021-08-01T00:00:00\", \"2021-08-03T00:00:00\", \"2021-08-06T00:00:00\", \"2021-08-12T00:00:00\", \"2021-08-13T00:00:00\", \"2021-08-17T00:00:00\", \"2021-08-18T00:00:00\", \"2021-08-21T00:00:00\", \"2021-08-23T00:00:00\", \"2021-08-25T00:00:00\", \"2021-08-26T00:00:00\", \"2021-09-01T00:00:00\"], \"xaxis\": \"x\", \"y\": [0, 0, 0, 0, 1, 4, 4, 4, 10, 11, 13, 14, 17, 21, 25, 25, 25, 25, 25, 27, 27, 29, 29, 30, 30, 30, 32, 32, 32], \"yaxis\": \"y\"}, {\"groupnorm\": \"percent\", \"hovertemplate\": \"Rango de edad=(20, 29]<br>fecha_resultado_secuenciacion_genotipificacion=%{x}<br>value=%{y}<extra></extra>\", \"legendgroup\": \"(20, 29]\", \"line\": {\"color\": \"#00cc96\"}, \"mode\": \"lines\", \"name\": \"(20, 29]\", \"orientation\": \"v\", \"showlegend\": true, \"stackgroup\": \"1\", \"type\": \"scatter\", \"x\": [\"2021-03-21T00:00:00\", \"2021-04-05T00:00:00\", \"2021-04-08T00:00:00\", \"2021-04-19T00:00:00\", \"2021-05-05T00:00:00\", \"2021-05-14T00:00:00\", \"2021-05-19T00:00:00\", \"2021-05-24T00:00:00\", \"2021-05-26T00:00:00\", \"2021-06-09T00:00:00\", \"2021-06-17T00:00:00\", \"2021-06-30T00:00:00\", \"2021-07-07T00:00:00\", \"2021-07-14T00:00:00\", \"2021-07-21T00:00:00\", \"2021-07-28T00:00:00\", \"2021-07-31T00:00:00\", \"2021-08-01T00:00:00\", \"2021-08-03T00:00:00\", \"2021-08-06T00:00:00\", \"2021-08-12T00:00:00\", \"2021-08-13T00:00:00\", \"2021-08-17T00:00:00\", \"2021-08-18T00:00:00\", \"2021-08-21T00:00:00\", \"2021-08-23T00:00:00\", \"2021-08-25T00:00:00\", \"2021-08-26T00:00:00\", \"2021-09-01T00:00:00\"], \"xaxis\": \"x\", \"y\": [0, 0, 0, 1, 2, 3, 6, 7, 9, 11, 11, 13, 16, 21, 26, 26, 27, 27, 27, 27, 28, 29, 31, 31, 31, 33, 35, 36, 37], \"yaxis\": \"y\"}, {\"groupnorm\": \"percent\", \"hovertemplate\": \"Rango de edad=(30, 39]<br>fecha_resultado_secuenciacion_genotipificacion=%{x}<br>value=%{y}<extra></extra>\", \"legendgroup\": \"(30, 39]\", \"line\": {\"color\": \"#ab63fa\"}, \"mode\": \"lines\", \"name\": \"(30, 39]\", \"orientation\": \"v\", \"showlegend\": true, \"stackgroup\": \"1\", \"type\": \"scatter\", \"x\": [\"2021-03-21T00:00:00\", \"2021-04-05T00:00:00\", \"2021-04-08T00:00:00\", \"2021-04-19T00:00:00\", \"2021-05-05T00:00:00\", \"2021-05-14T00:00:00\", \"2021-05-19T00:00:00\", \"2021-05-24T00:00:00\", \"2021-05-26T00:00:00\", \"2021-06-09T00:00:00\", \"2021-06-17T00:00:00\", \"2021-06-30T00:00:00\", \"2021-07-07T00:00:00\", \"2021-07-14T00:00:00\", \"2021-07-21T00:00:00\", \"2021-07-28T00:00:00\", \"2021-07-31T00:00:00\", \"2021-08-01T00:00:00\", \"2021-08-03T00:00:00\", \"2021-08-06T00:00:00\", \"2021-08-12T00:00:00\", \"2021-08-13T00:00:00\", \"2021-08-17T00:00:00\", \"2021-08-18T00:00:00\", \"2021-08-21T00:00:00\", \"2021-08-23T00:00:00\", \"2021-08-25T00:00:00\", \"2021-08-26T00:00:00\", \"2021-09-01T00:00:00\"], \"xaxis\": \"x\", \"y\": [0, 1, 1, 3, 4, 7, 10, 10, 12, 14, 14, 16, 16, 22, 27, 27, 27, 27, 29, 30, 32, 32, 34, 34, 34, 34, 35, 37, 37], \"yaxis\": \"y\"}, {\"groupnorm\": \"percent\", \"hovertemplate\": \"Rango de edad=(40, 49]<br>fecha_resultado_secuenciacion_genotipificacion=%{x}<br>value=%{y}<extra></extra>\", \"legendgroup\": \"(40, 49]\", \"line\": {\"color\": \"#FFA15A\"}, \"mode\": \"lines\", \"name\": \"(40, 49]\", \"orientation\": \"v\", \"showlegend\": true, \"stackgroup\": \"1\", \"type\": \"scatter\", \"x\": [\"2021-03-21T00:00:00\", \"2021-04-05T00:00:00\", \"2021-04-08T00:00:00\", \"2021-04-19T00:00:00\", \"2021-05-05T00:00:00\", \"2021-05-14T00:00:00\", \"2021-05-19T00:00:00\", \"2021-05-24T00:00:00\", \"2021-05-26T00:00:00\", \"2021-06-09T00:00:00\", \"2021-06-17T00:00:00\", \"2021-06-30T00:00:00\", \"2021-07-07T00:00:00\", \"2021-07-14T00:00:00\", \"2021-07-21T00:00:00\", \"2021-07-28T00:00:00\", \"2021-07-31T00:00:00\", \"2021-08-01T00:00:00\", \"2021-08-03T00:00:00\", \"2021-08-06T00:00:00\", \"2021-08-12T00:00:00\", \"2021-08-13T00:00:00\", \"2021-08-17T00:00:00\", \"2021-08-18T00:00:00\", \"2021-08-21T00:00:00\", \"2021-08-23T00:00:00\", \"2021-08-25T00:00:00\", \"2021-08-26T00:00:00\", \"2021-09-01T00:00:00\"], \"xaxis\": \"x\", \"y\": [0, 0, 0, 1, 2, 3, 4, 4, 5, 6, 7, 8, 10, 14, 15, 15, 17, 17, 17, 19, 20, 22, 23, 25, 25, 28, 32, 33, 36], \"yaxis\": \"y\"}, {\"groupnorm\": \"percent\", \"hovertemplate\": \"Rango de edad=(50, 59]<br>fecha_resultado_secuenciacion_genotipificacion=%{x}<br>value=%{y}<extra></extra>\", \"legendgroup\": \"(50, 59]\", \"line\": {\"color\": \"#19d3f3\"}, \"mode\": \"lines\", \"name\": \"(50, 59]\", \"orientation\": \"v\", \"showlegend\": true, \"stackgroup\": \"1\", \"type\": \"scatter\", \"x\": [\"2021-03-21T00:00:00\", \"2021-04-05T00:00:00\", \"2021-04-08T00:00:00\", \"2021-04-19T00:00:00\", \"2021-05-05T00:00:00\", \"2021-05-14T00:00:00\", \"2021-05-19T00:00:00\", \"2021-05-24T00:00:00\", \"2021-05-26T00:00:00\", \"2021-06-09T00:00:00\", \"2021-06-17T00:00:00\", \"2021-06-30T00:00:00\", \"2021-07-07T00:00:00\", \"2021-07-14T00:00:00\", \"2021-07-21T00:00:00\", \"2021-07-28T00:00:00\", \"2021-07-31T00:00:00\", \"2021-08-01T00:00:00\", \"2021-08-03T00:00:00\", \"2021-08-06T00:00:00\", \"2021-08-12T00:00:00\", \"2021-08-13T00:00:00\", \"2021-08-17T00:00:00\", \"2021-08-18T00:00:00\", \"2021-08-21T00:00:00\", \"2021-08-23T00:00:00\", \"2021-08-25T00:00:00\", \"2021-08-26T00:00:00\", \"2021-09-01T00:00:00\"], \"xaxis\": \"x\", \"y\": [1, 1, 1, 1, 1, 2, 2, 2, 4, 6, 6, 7, 8, 10, 16, 17, 17, 17, 17, 17, 17, 17, 17, 17, 17, 17, 17, 17, 17], \"yaxis\": \"y\"}, {\"groupnorm\": \"percent\", \"hovertemplate\": \"Rango de edad=(60, 69]<br>fecha_resultado_secuenciacion_genotipificacion=%{x}<br>value=%{y}<extra></extra>\", \"legendgroup\": \"(60, 69]\", \"line\": {\"color\": \"#FF6692\"}, \"mode\": \"lines\", \"name\": \"(60, 69]\", \"orientation\": \"v\", \"showlegend\": true, \"stackgroup\": \"1\", \"type\": \"scatter\", \"x\": [\"2021-03-21T00:00:00\", \"2021-04-05T00:00:00\", \"2021-04-08T00:00:00\", \"2021-04-19T00:00:00\", \"2021-05-05T00:00:00\", \"2021-05-14T00:00:00\", \"2021-05-19T00:00:00\", \"2021-05-24T00:00:00\", \"2021-05-26T00:00:00\", \"2021-06-09T00:00:00\", \"2021-06-17T00:00:00\", \"2021-06-30T00:00:00\", \"2021-07-07T00:00:00\", \"2021-07-14T00:00:00\", \"2021-07-21T00:00:00\", \"2021-07-28T00:00:00\", \"2021-07-31T00:00:00\", \"2021-08-01T00:00:00\", \"2021-08-03T00:00:00\", \"2021-08-06T00:00:00\", \"2021-08-12T00:00:00\", \"2021-08-13T00:00:00\", \"2021-08-17T00:00:00\", \"2021-08-18T00:00:00\", \"2021-08-21T00:00:00\", \"2021-08-23T00:00:00\", \"2021-08-25T00:00:00\", \"2021-08-26T00:00:00\", \"2021-09-01T00:00:00\"], \"xaxis\": \"x\", \"y\": [1, 2, 2, 2, 3, 4, 4, 4, 4, 5, 5, 6, 7, 9, 11, 11, 11, 11, 11, 12, 12, 12, 13, 13, 15, 17, 17, 17, 19], \"yaxis\": \"y\"}, {\"groupnorm\": \"percent\", \"hovertemplate\": \"Rango de edad=(70, 79]<br>fecha_resultado_secuenciacion_genotipificacion=%{x}<br>value=%{y}<extra></extra>\", \"legendgroup\": \"(70, 79]\", \"line\": {\"color\": \"#B6E880\"}, \"mode\": \"lines\", \"name\": \"(70, 79]\", \"orientation\": \"v\", \"showlegend\": true, \"stackgroup\": \"1\", \"type\": \"scatter\", \"x\": [\"2021-03-21T00:00:00\", \"2021-04-05T00:00:00\", \"2021-04-08T00:00:00\", \"2021-04-19T00:00:00\", \"2021-05-05T00:00:00\", \"2021-05-14T00:00:00\", \"2021-05-19T00:00:00\", \"2021-05-24T00:00:00\", \"2021-05-26T00:00:00\", \"2021-06-09T00:00:00\", \"2021-06-17T00:00:00\", \"2021-06-30T00:00:00\", \"2021-07-07T00:00:00\", \"2021-07-14T00:00:00\", \"2021-07-21T00:00:00\", \"2021-07-28T00:00:00\", \"2021-07-31T00:00:00\", \"2021-08-01T00:00:00\", \"2021-08-03T00:00:00\", \"2021-08-06T00:00:00\", \"2021-08-12T00:00:00\", \"2021-08-13T00:00:00\", \"2021-08-17T00:00:00\", \"2021-08-18T00:00:00\", \"2021-08-21T00:00:00\", \"2021-08-23T00:00:00\", \"2021-08-25T00:00:00\", \"2021-08-26T00:00:00\", \"2021-09-01T00:00:00\"], \"xaxis\": \"x\", \"y\": [0, 0, 0, 0, 0, 0, 0, 0, 1, 1, 2, 2, 2, 3, 3, 3, 3, 3, 3, 5, 6, 7, 7, 7, 7, 7, 7, 7, 7], \"yaxis\": \"y\"}, {\"groupnorm\": \"percent\", \"hovertemplate\": \"Rango de edad=(80, 120]<br>fecha_resultado_secuenciacion_genotipificacion=%{x}<br>value=%{y}<extra></extra>\", \"legendgroup\": \"(80, 120]\", \"line\": {\"color\": \"#FF97FF\"}, \"mode\": \"lines\", \"name\": \"(80, 120]\", \"orientation\": \"v\", \"showlegend\": true, \"stackgroup\": \"1\", \"type\": \"scatter\", \"x\": [\"2021-03-21T00:00:00\", \"2021-04-05T00:00:00\", \"2021-04-08T00:00:00\", \"2021-04-19T00:00:00\", \"2021-05-05T00:00:00\", \"2021-05-14T00:00:00\", \"2021-05-19T00:00:00\", \"2021-05-24T00:00:00\", \"2021-05-26T00:00:00\", \"2021-06-09T00:00:00\", \"2021-06-17T00:00:00\", \"2021-06-30T00:00:00\", \"2021-07-07T00:00:00\", \"2021-07-14T00:00:00\", \"2021-07-21T00:00:00\", \"2021-07-28T00:00:00\", \"2021-07-31T00:00:00\", \"2021-08-01T00:00:00\", \"2021-08-03T00:00:00\", \"2021-08-06T00:00:00\", \"2021-08-12T00:00:00\", \"2021-08-13T00:00:00\", \"2021-08-17T00:00:00\", \"2021-08-18T00:00:00\", \"2021-08-21T00:00:00\", \"2021-08-23T00:00:00\", \"2021-08-25T00:00:00\", \"2021-08-26T00:00:00\", \"2021-09-01T00:00:00\"], \"xaxis\": \"x\", \"y\": [0, 0, 0, 0, 0, 0, 0, 0, 0, 0, 0, 0, 2, 4, 4, 4, 4, 4, 4, 4, 4, 4, 4, 4, 4, 4, 4, 4, 4], \"yaxis\": \"y\"}],                        {\"legend\": {\"title\": {\"text\": \"Rango de edad\"}, \"tracegroupgap\": 0}, \"margin\": {\"t\": 60}, \"template\": {\"data\": {\"bar\": [{\"error_x\": {\"color\": \"rgb(36,36,36)\"}, \"error_y\": {\"color\": \"rgb(36,36,36)\"}, \"marker\": {\"line\": {\"color\": \"white\", \"width\": 0.5}}, \"type\": \"bar\"}], \"barpolar\": [{\"marker\": {\"line\": {\"color\": \"white\", \"width\": 0.5}}, \"type\": \"barpolar\"}], \"carpet\": [{\"aaxis\": {\"endlinecolor\": \"rgb(36,36,36)\", \"gridcolor\": \"white\", \"linecolor\": \"white\", \"minorgridcolor\": \"white\", \"startlinecolor\": \"rgb(36,36,36)\"}, \"baxis\": {\"endlinecolor\": \"rgb(36,36,36)\", \"gridcolor\": \"white\", \"linecolor\": \"white\", \"minorgridcolor\": \"white\", \"startlinecolor\": \"rgb(36,36,36)\"}, \"type\": \"carpet\"}], \"choropleth\": [{\"colorbar\": {\"outlinewidth\": 1, \"tickcolor\": \"rgb(36,36,36)\", \"ticks\": \"outside\"}, \"type\": \"choropleth\"}], \"contour\": [{\"colorbar\": {\"outlinewidth\": 1, \"tickcolor\": \"rgb(36,36,36)\", \"ticks\": \"outside\"}, \"colorscale\": [[0.0, \"#440154\"], [0.1111111111111111, \"#482878\"], [0.2222222222222222, \"#3e4989\"], [0.3333333333333333, \"#31688e\"], [0.4444444444444444, \"#26828e\"], [0.5555555555555556, \"#1f9e89\"], [0.6666666666666666, \"#35b779\"], [0.7777777777777778, \"#6ece58\"], [0.8888888888888888, \"#b5de2b\"], [1.0, \"#fde725\"]], \"type\": \"contour\"}], \"contourcarpet\": [{\"colorbar\": {\"outlinewidth\": 1, \"tickcolor\": \"rgb(36,36,36)\", \"ticks\": \"outside\"}, \"type\": \"contourcarpet\"}], \"heatmap\": [{\"colorbar\": {\"outlinewidth\": 1, \"tickcolor\": \"rgb(36,36,36)\", \"ticks\": \"outside\"}, \"colorscale\": [[0.0, \"#440154\"], [0.1111111111111111, \"#482878\"], [0.2222222222222222, \"#3e4989\"], [0.3333333333333333, \"#31688e\"], [0.4444444444444444, \"#26828e\"], [0.5555555555555556, \"#1f9e89\"], [0.6666666666666666, \"#35b779\"], [0.7777777777777778, \"#6ece58\"], [0.8888888888888888, \"#b5de2b\"], [1.0, \"#fde725\"]], \"type\": \"heatmap\"}], \"heatmapgl\": [{\"colorbar\": {\"outlinewidth\": 1, \"tickcolor\": \"rgb(36,36,36)\", \"ticks\": \"outside\"}, \"colorscale\": [[0.0, \"#440154\"], [0.1111111111111111, \"#482878\"], [0.2222222222222222, \"#3e4989\"], [0.3333333333333333, \"#31688e\"], [0.4444444444444444, \"#26828e\"], [0.5555555555555556, \"#1f9e89\"], [0.6666666666666666, \"#35b779\"], [0.7777777777777778, \"#6ece58\"], [0.8888888888888888, \"#b5de2b\"], [1.0, \"#fde725\"]], \"type\": \"heatmapgl\"}], \"histogram\": [{\"marker\": {\"line\": {\"color\": \"white\", \"width\": 0.6}}, \"type\": \"histogram\"}], \"histogram2d\": [{\"colorbar\": {\"outlinewidth\": 1, \"tickcolor\": \"rgb(36,36,36)\", \"ticks\": \"outside\"}, \"colorscale\": [[0.0, \"#440154\"], [0.1111111111111111, \"#482878\"], [0.2222222222222222, \"#3e4989\"], [0.3333333333333333, \"#31688e\"], [0.4444444444444444, \"#26828e\"], [0.5555555555555556, \"#1f9e89\"], [0.6666666666666666, \"#35b779\"], [0.7777777777777778, \"#6ece58\"], [0.8888888888888888, \"#b5de2b\"], [1.0, \"#fde725\"]], \"type\": \"histogram2d\"}], \"histogram2dcontour\": [{\"colorbar\": {\"outlinewidth\": 1, \"tickcolor\": \"rgb(36,36,36)\", \"ticks\": \"outside\"}, \"colorscale\": [[0.0, \"#440154\"], [0.1111111111111111, \"#482878\"], [0.2222222222222222, \"#3e4989\"], [0.3333333333333333, \"#31688e\"], [0.4444444444444444, \"#26828e\"], [0.5555555555555556, \"#1f9e89\"], [0.6666666666666666, \"#35b779\"], [0.7777777777777778, \"#6ece58\"], [0.8888888888888888, \"#b5de2b\"], [1.0, \"#fde725\"]], \"type\": \"histogram2dcontour\"}], \"mesh3d\": [{\"colorbar\": {\"outlinewidth\": 1, \"tickcolor\": \"rgb(36,36,36)\", \"ticks\": \"outside\"}, \"type\": \"mesh3d\"}], \"parcoords\": [{\"line\": {\"colorbar\": {\"outlinewidth\": 1, \"tickcolor\": \"rgb(36,36,36)\", \"ticks\": \"outside\"}}, \"type\": \"parcoords\"}], \"pie\": [{\"automargin\": true, \"type\": \"pie\"}], \"scatter\": [{\"marker\": {\"colorbar\": {\"outlinewidth\": 1, \"tickcolor\": \"rgb(36,36,36)\", \"ticks\": \"outside\"}}, \"type\": \"scatter\"}], \"scatter3d\": [{\"line\": {\"colorbar\": {\"outlinewidth\": 1, \"tickcolor\": \"rgb(36,36,36)\", \"ticks\": \"outside\"}}, \"marker\": {\"colorbar\": {\"outlinewidth\": 1, \"tickcolor\": \"rgb(36,36,36)\", \"ticks\": \"outside\"}}, \"type\": \"scatter3d\"}], \"scattercarpet\": [{\"marker\": {\"colorbar\": {\"outlinewidth\": 1, \"tickcolor\": \"rgb(36,36,36)\", \"ticks\": \"outside\"}}, \"type\": \"scattercarpet\"}], \"scattergeo\": [{\"marker\": {\"colorbar\": {\"outlinewidth\": 1, \"tickcolor\": \"rgb(36,36,36)\", \"ticks\": \"outside\"}}, \"type\": \"scattergeo\"}], \"scattergl\": [{\"marker\": {\"colorbar\": {\"outlinewidth\": 1, \"tickcolor\": \"rgb(36,36,36)\", \"ticks\": \"outside\"}}, \"type\": \"scattergl\"}], \"scattermapbox\": [{\"marker\": {\"colorbar\": {\"outlinewidth\": 1, \"tickcolor\": \"rgb(36,36,36)\", \"ticks\": \"outside\"}}, \"type\": \"scattermapbox\"}], \"scatterpolar\": [{\"marker\": {\"colorbar\": {\"outlinewidth\": 1, \"tickcolor\": \"rgb(36,36,36)\", \"ticks\": \"outside\"}}, \"type\": \"scatterpolar\"}], \"scatterpolargl\": [{\"marker\": {\"colorbar\": {\"outlinewidth\": 1, \"tickcolor\": \"rgb(36,36,36)\", \"ticks\": \"outside\"}}, \"type\": \"scatterpolargl\"}], \"scatterternary\": [{\"marker\": {\"colorbar\": {\"outlinewidth\": 1, \"tickcolor\": \"rgb(36,36,36)\", \"ticks\": \"outside\"}}, \"type\": \"scatterternary\"}], \"surface\": [{\"colorbar\": {\"outlinewidth\": 1, \"tickcolor\": \"rgb(36,36,36)\", \"ticks\": \"outside\"}, \"colorscale\": [[0.0, \"#440154\"], [0.1111111111111111, \"#482878\"], [0.2222222222222222, \"#3e4989\"], [0.3333333333333333, \"#31688e\"], [0.4444444444444444, \"#26828e\"], [0.5555555555555556, \"#1f9e89\"], [0.6666666666666666, \"#35b779\"], [0.7777777777777778, \"#6ece58\"], [0.8888888888888888, \"#b5de2b\"], [1.0, \"#fde725\"]], \"type\": \"surface\"}], \"table\": [{\"cells\": {\"fill\": {\"color\": \"rgb(237,237,237)\"}, \"line\": {\"color\": \"white\"}}, \"header\": {\"fill\": {\"color\": \"rgb(217,217,217)\"}, \"line\": {\"color\": \"white\"}}, \"type\": \"table\"}]}, \"layout\": {\"annotationdefaults\": {\"arrowhead\": 0, \"arrowwidth\": 1}, \"autotypenumbers\": \"strict\", \"coloraxis\": {\"colorbar\": {\"outlinewidth\": 1, \"tickcolor\": \"rgb(36,36,36)\", \"ticks\": \"outside\"}}, \"colorscale\": {\"diverging\": [[0.0, \"rgb(103,0,31)\"], [0.1, \"rgb(178,24,43)\"], [0.2, \"rgb(214,96,77)\"], [0.3, \"rgb(244,165,130)\"], [0.4, \"rgb(253,219,199)\"], [0.5, \"rgb(247,247,247)\"], [0.6, \"rgb(209,229,240)\"], [0.7, \"rgb(146,197,222)\"], [0.8, \"rgb(67,147,195)\"], [0.9, \"rgb(33,102,172)\"], [1.0, \"rgb(5,48,97)\"]], \"sequential\": [[0.0, \"#440154\"], [0.1111111111111111, \"#482878\"], [0.2222222222222222, \"#3e4989\"], [0.3333333333333333, \"#31688e\"], [0.4444444444444444, \"#26828e\"], [0.5555555555555556, \"#1f9e89\"], [0.6666666666666666, \"#35b779\"], [0.7777777777777778, \"#6ece58\"], [0.8888888888888888, \"#b5de2b\"], [1.0, \"#fde725\"]], \"sequentialminus\": [[0.0, \"#440154\"], [0.1111111111111111, \"#482878\"], [0.2222222222222222, \"#3e4989\"], [0.3333333333333333, \"#31688e\"], [0.4444444444444444, \"#26828e\"], [0.5555555555555556, \"#1f9e89\"], [0.6666666666666666, \"#35b779\"], [0.7777777777777778, \"#6ece58\"], [0.8888888888888888, \"#b5de2b\"], [1.0, \"#fde725\"]]}, \"colorway\": [\"#1F77B4\", \"#FF7F0E\", \"#2CA02C\", \"#D62728\", \"#9467BD\", \"#8C564B\", \"#E377C2\", \"#7F7F7F\", \"#BCBD22\", \"#17BECF\"], \"font\": {\"color\": \"rgb(36,36,36)\"}, \"geo\": {\"bgcolor\": \"white\", \"lakecolor\": \"white\", \"landcolor\": \"white\", \"showlakes\": true, \"showland\": true, \"subunitcolor\": \"white\"}, \"hoverlabel\": {\"align\": \"left\"}, \"hovermode\": \"closest\", \"mapbox\": {\"style\": \"light\"}, \"paper_bgcolor\": \"white\", \"plot_bgcolor\": \"white\", \"polar\": {\"angularaxis\": {\"gridcolor\": \"rgb(232,232,232)\", \"linecolor\": \"rgb(36,36,36)\", \"showgrid\": false, \"showline\": true, \"ticks\": \"outside\"}, \"bgcolor\": \"white\", \"radialaxis\": {\"gridcolor\": \"rgb(232,232,232)\", \"linecolor\": \"rgb(36,36,36)\", \"showgrid\": false, \"showline\": true, \"ticks\": \"outside\"}}, \"scene\": {\"xaxis\": {\"backgroundcolor\": \"white\", \"gridcolor\": \"rgb(232,232,232)\", \"gridwidth\": 2, \"linecolor\": \"rgb(36,36,36)\", \"showbackground\": true, \"showgrid\": false, \"showline\": true, \"ticks\": \"outside\", \"zeroline\": false, \"zerolinecolor\": \"rgb(36,36,36)\"}, \"yaxis\": {\"backgroundcolor\": \"white\", \"gridcolor\": \"rgb(232,232,232)\", \"gridwidth\": 2, \"linecolor\": \"rgb(36,36,36)\", \"showbackground\": true, \"showgrid\": false, \"showline\": true, \"ticks\": \"outside\", \"zeroline\": false, \"zerolinecolor\": \"rgb(36,36,36)\"}, \"zaxis\": {\"backgroundcolor\": \"white\", \"gridcolor\": \"rgb(232,232,232)\", \"gridwidth\": 2, \"linecolor\": \"rgb(36,36,36)\", \"showbackground\": true, \"showgrid\": false, \"showline\": true, \"ticks\": \"outside\", \"zeroline\": false, \"zerolinecolor\": \"rgb(36,36,36)\"}}, \"shapedefaults\": {\"fillcolor\": \"black\", \"line\": {\"width\": 0}, \"opacity\": 0.3}, \"ternary\": {\"aaxis\": {\"gridcolor\": \"rgb(232,232,232)\", \"linecolor\": \"rgb(36,36,36)\", \"showgrid\": false, \"showline\": true, \"ticks\": \"outside\"}, \"baxis\": {\"gridcolor\": \"rgb(232,232,232)\", \"linecolor\": \"rgb(36,36,36)\", \"showgrid\": false, \"showline\": true, \"ticks\": \"outside\"}, \"bgcolor\": \"white\", \"caxis\": {\"gridcolor\": \"rgb(232,232,232)\", \"linecolor\": \"rgb(36,36,36)\", \"showgrid\": false, \"showline\": true, \"ticks\": \"outside\"}}, \"title\": {\"x\": 0.05}, \"xaxis\": {\"automargin\": true, \"gridcolor\": \"rgb(232,232,232)\", \"linecolor\": \"rgb(36,36,36)\", \"showgrid\": false, \"showline\": true, \"ticks\": \"outside\", \"title\": {\"standoff\": 15}, \"zeroline\": false, \"zerolinecolor\": \"rgb(36,36,36)\"}, \"yaxis\": {\"automargin\": true, \"gridcolor\": \"rgb(232,232,232)\", \"linecolor\": \"rgb(36,36,36)\", \"showgrid\": false, \"showline\": true, \"ticks\": \"outside\", \"title\": {\"standoff\": 15}, \"zeroline\": false, \"zerolinecolor\": \"rgb(36,36,36)\"}}}, \"title\": {\"text\": \"Variantes detectadas en la Regi\\u00f3n de Ays\\u00e9n\"}, \"xaxis\": {\"anchor\": \"y\", \"domain\": [0.0, 1.0], \"title\": {\"text\": \"Fecha de resultado de Secuenciaci\\u00f3n o Genotipificaci\\u00f3n\"}}, \"yaxis\": {\"anchor\": \"x\", \"domain\": [0.0, 1.0], \"title\": {\"text\": \"% de casos identificados de variantes por rango etareo\"}}},                        {\"responsive\": true}                    ).then(function(){\n",
       "                            \n",
       "var gd = document.getElementById('409774f6-c740-43d5-8915-4b3c080454aa');\n",
       "var x = new MutationObserver(function (mutations, observer) {{\n",
       "        var display = window.getComputedStyle(gd).display;\n",
       "        if (!display || display === 'none') {{\n",
       "            console.log([gd, 'removed!']);\n",
       "            Plotly.purge(gd);\n",
       "            observer.disconnect();\n",
       "        }}\n",
       "}});\n",
       "\n",
       "// Listen for the removal of the full notebook cells\n",
       "var notebookContainer = gd.closest('#notebook-container');\n",
       "if (notebookContainer) {{\n",
       "    x.observe(notebookContainer, {childList: true});\n",
       "}}\n",
       "\n",
       "// Listen for the clearing of the current output cell\n",
       "var outputEl = gd.closest('.output');\n",
       "if (outputEl) {{\n",
       "    x.observe(outputEl, {childList: true});\n",
       "}}\n",
       "\n",
       "                        })                };                });            </script>        </div>"
      ]
     },
     "metadata": {},
     "output_type": "display_data"
    }
   ],
   "source": [
    "px.area(df_variantes_clean.groupby(['fecha_resultado_secuenciacion_genotipificacion', 'rango_edad_10']).count()[['n_documento']].reset_index().pivot(\n",
    "    index='fecha_resultado_secuenciacion_genotipificacion',\n",
    "    columns='rango_edad_10', \n",
    "    values=['n_documento']\n",
    ").fillna(0).cumsum()['n_documento'],\n",
    "          labels={'rango_edad_10':'Rango de edad'},\n",
    "        groupnorm='percent'\n",
    "       ).update_layout(\n",
    "    title= 'Variantes detectadas en la Región de Aysén',\n",
    "    yaxis_title='% de casos identificados de variantes por rango etareo',\n",
    "    xaxis_title='Fecha de resultado de Secuenciación o Genotipificación',\n",
    "    template='simple_white',   \n",
    ")"
   ]
  },
  {
   "cell_type": "code",
   "execution_count": 230,
   "id": "76124172",
   "metadata": {},
   "outputs": [
    {
     "data": {
      "application/vnd.plotly.v1+json": {
       "config": {
        "plotlyServerURL": "https://plot.ly"
       },
       "data": [
        {
         "groupnorm": "percent",
         "hovertemplate": "Sexo=FEMENINO<br>fecha_resultado_secuenciacion_genotipificacion=%{x}<br>value=%{y}<extra></extra>",
         "legendgroup": "FEMENINO",
         "line": {
          "color": "#636efa"
         },
         "mode": "lines",
         "name": "FEMENINO",
         "orientation": "v",
         "showlegend": true,
         "stackgroup": "1",
         "type": "scatter",
         "x": [
          "2021-03-21T00:00:00",
          "2021-04-05T00:00:00",
          "2021-04-08T00:00:00",
          "2021-04-19T00:00:00",
          "2021-05-05T00:00:00",
          "2021-05-14T00:00:00",
          "2021-05-19T00:00:00",
          "2021-05-24T00:00:00",
          "2021-05-26T00:00:00",
          "2021-06-09T00:00:00",
          "2021-06-17T00:00:00",
          "2021-06-30T00:00:00",
          "2021-07-07T00:00:00",
          "2021-07-14T00:00:00",
          "2021-07-21T00:00:00",
          "2021-07-28T00:00:00",
          "2021-07-31T00:00:00",
          "2021-08-01T00:00:00",
          "2021-08-03T00:00:00",
          "2021-08-06T00:00:00",
          "2021-08-12T00:00:00",
          "2021-08-13T00:00:00",
          "2021-08-17T00:00:00",
          "2021-08-18T00:00:00",
          "2021-08-21T00:00:00",
          "2021-08-23T00:00:00",
          "2021-08-25T00:00:00",
          "2021-08-26T00:00:00",
          "2021-09-01T00:00:00"
         ],
         "xaxis": "x",
         "y": [
          2,
          4,
          5,
          8,
          10,
          14,
          17,
          17,
          22,
          27,
          31,
          35,
          40,
          59,
          71,
          73,
          75,
          76,
          77,
          81,
          85,
          88,
          94,
          97,
          98,
          103,
          111,
          114,
          118
         ],
         "yaxis": "y"
        },
        {
         "groupnorm": "percent",
         "hovertemplate": "Sexo=MASCULINO<br>fecha_resultado_secuenciacion_genotipificacion=%{x}<br>value=%{y}<extra></extra>",
         "legendgroup": "MASCULINO",
         "line": {
          "color": "#EF553B"
         },
         "mode": "lines",
         "name": "MASCULINO",
         "orientation": "v",
         "showlegend": true,
         "stackgroup": "1",
         "type": "scatter",
         "x": [
          "2021-03-21T00:00:00",
          "2021-04-05T00:00:00",
          "2021-04-08T00:00:00",
          "2021-04-19T00:00:00",
          "2021-05-05T00:00:00",
          "2021-05-14T00:00:00",
          "2021-05-19T00:00:00",
          "2021-05-24T00:00:00",
          "2021-05-26T00:00:00",
          "2021-06-09T00:00:00",
          "2021-06-17T00:00:00",
          "2021-06-30T00:00:00",
          "2021-07-07T00:00:00",
          "2021-07-14T00:00:00",
          "2021-07-21T00:00:00",
          "2021-07-28T00:00:00",
          "2021-07-31T00:00:00",
          "2021-08-01T00:00:00",
          "2021-08-03T00:00:00",
          "2021-08-06T00:00:00",
          "2021-08-12T00:00:00",
          "2021-08-13T00:00:00",
          "2021-08-17T00:00:00",
          "2021-08-18T00:00:00",
          "2021-08-21T00:00:00",
          "2021-08-23T00:00:00",
          "2021-08-25T00:00:00",
          "2021-08-26T00:00:00",
          "2021-09-01T00:00:00"
         ],
         "xaxis": "x",
         "y": [
          0,
          0,
          0,
          1,
          5,
          11,
          15,
          16,
          26,
          32,
          33,
          37,
          47,
          57,
          72,
          72,
          73,
          73,
          74,
          81,
          83,
          86,
          90,
          93,
          96,
          99,
          104,
          107,
          110
         ],
         "yaxis": "y"
        }
       ],
       "layout": {
        "legend": {
         "title": {
          "text": "Sexo"
         },
         "tracegroupgap": 0
        },
        "margin": {
         "t": 60
        },
        "template": {
         "data": {
          "bar": [
           {
            "error_x": {
             "color": "rgb(36,36,36)"
            },
            "error_y": {
             "color": "rgb(36,36,36)"
            },
            "marker": {
             "line": {
              "color": "white",
              "width": 0.5
             }
            },
            "type": "bar"
           }
          ],
          "barpolar": [
           {
            "marker": {
             "line": {
              "color": "white",
              "width": 0.5
             }
            },
            "type": "barpolar"
           }
          ],
          "carpet": [
           {
            "aaxis": {
             "endlinecolor": "rgb(36,36,36)",
             "gridcolor": "white",
             "linecolor": "white",
             "minorgridcolor": "white",
             "startlinecolor": "rgb(36,36,36)"
            },
            "baxis": {
             "endlinecolor": "rgb(36,36,36)",
             "gridcolor": "white",
             "linecolor": "white",
             "minorgridcolor": "white",
             "startlinecolor": "rgb(36,36,36)"
            },
            "type": "carpet"
           }
          ],
          "choropleth": [
           {
            "colorbar": {
             "outlinewidth": 1,
             "tickcolor": "rgb(36,36,36)",
             "ticks": "outside"
            },
            "type": "choropleth"
           }
          ],
          "contour": [
           {
            "colorbar": {
             "outlinewidth": 1,
             "tickcolor": "rgb(36,36,36)",
             "ticks": "outside"
            },
            "colorscale": [
             [
              0,
              "#440154"
             ],
             [
              0.1111111111111111,
              "#482878"
             ],
             [
              0.2222222222222222,
              "#3e4989"
             ],
             [
              0.3333333333333333,
              "#31688e"
             ],
             [
              0.4444444444444444,
              "#26828e"
             ],
             [
              0.5555555555555556,
              "#1f9e89"
             ],
             [
              0.6666666666666666,
              "#35b779"
             ],
             [
              0.7777777777777778,
              "#6ece58"
             ],
             [
              0.8888888888888888,
              "#b5de2b"
             ],
             [
              1,
              "#fde725"
             ]
            ],
            "type": "contour"
           }
          ],
          "contourcarpet": [
           {
            "colorbar": {
             "outlinewidth": 1,
             "tickcolor": "rgb(36,36,36)",
             "ticks": "outside"
            },
            "type": "contourcarpet"
           }
          ],
          "heatmap": [
           {
            "colorbar": {
             "outlinewidth": 1,
             "tickcolor": "rgb(36,36,36)",
             "ticks": "outside"
            },
            "colorscale": [
             [
              0,
              "#440154"
             ],
             [
              0.1111111111111111,
              "#482878"
             ],
             [
              0.2222222222222222,
              "#3e4989"
             ],
             [
              0.3333333333333333,
              "#31688e"
             ],
             [
              0.4444444444444444,
              "#26828e"
             ],
             [
              0.5555555555555556,
              "#1f9e89"
             ],
             [
              0.6666666666666666,
              "#35b779"
             ],
             [
              0.7777777777777778,
              "#6ece58"
             ],
             [
              0.8888888888888888,
              "#b5de2b"
             ],
             [
              1,
              "#fde725"
             ]
            ],
            "type": "heatmap"
           }
          ],
          "heatmapgl": [
           {
            "colorbar": {
             "outlinewidth": 1,
             "tickcolor": "rgb(36,36,36)",
             "ticks": "outside"
            },
            "colorscale": [
             [
              0,
              "#440154"
             ],
             [
              0.1111111111111111,
              "#482878"
             ],
             [
              0.2222222222222222,
              "#3e4989"
             ],
             [
              0.3333333333333333,
              "#31688e"
             ],
             [
              0.4444444444444444,
              "#26828e"
             ],
             [
              0.5555555555555556,
              "#1f9e89"
             ],
             [
              0.6666666666666666,
              "#35b779"
             ],
             [
              0.7777777777777778,
              "#6ece58"
             ],
             [
              0.8888888888888888,
              "#b5de2b"
             ],
             [
              1,
              "#fde725"
             ]
            ],
            "type": "heatmapgl"
           }
          ],
          "histogram": [
           {
            "marker": {
             "line": {
              "color": "white",
              "width": 0.6
             }
            },
            "type": "histogram"
           }
          ],
          "histogram2d": [
           {
            "colorbar": {
             "outlinewidth": 1,
             "tickcolor": "rgb(36,36,36)",
             "ticks": "outside"
            },
            "colorscale": [
             [
              0,
              "#440154"
             ],
             [
              0.1111111111111111,
              "#482878"
             ],
             [
              0.2222222222222222,
              "#3e4989"
             ],
             [
              0.3333333333333333,
              "#31688e"
             ],
             [
              0.4444444444444444,
              "#26828e"
             ],
             [
              0.5555555555555556,
              "#1f9e89"
             ],
             [
              0.6666666666666666,
              "#35b779"
             ],
             [
              0.7777777777777778,
              "#6ece58"
             ],
             [
              0.8888888888888888,
              "#b5de2b"
             ],
             [
              1,
              "#fde725"
             ]
            ],
            "type": "histogram2d"
           }
          ],
          "histogram2dcontour": [
           {
            "colorbar": {
             "outlinewidth": 1,
             "tickcolor": "rgb(36,36,36)",
             "ticks": "outside"
            },
            "colorscale": [
             [
              0,
              "#440154"
             ],
             [
              0.1111111111111111,
              "#482878"
             ],
             [
              0.2222222222222222,
              "#3e4989"
             ],
             [
              0.3333333333333333,
              "#31688e"
             ],
             [
              0.4444444444444444,
              "#26828e"
             ],
             [
              0.5555555555555556,
              "#1f9e89"
             ],
             [
              0.6666666666666666,
              "#35b779"
             ],
             [
              0.7777777777777778,
              "#6ece58"
             ],
             [
              0.8888888888888888,
              "#b5de2b"
             ],
             [
              1,
              "#fde725"
             ]
            ],
            "type": "histogram2dcontour"
           }
          ],
          "mesh3d": [
           {
            "colorbar": {
             "outlinewidth": 1,
             "tickcolor": "rgb(36,36,36)",
             "ticks": "outside"
            },
            "type": "mesh3d"
           }
          ],
          "parcoords": [
           {
            "line": {
             "colorbar": {
              "outlinewidth": 1,
              "tickcolor": "rgb(36,36,36)",
              "ticks": "outside"
             }
            },
            "type": "parcoords"
           }
          ],
          "pie": [
           {
            "automargin": true,
            "type": "pie"
           }
          ],
          "scatter": [
           {
            "marker": {
             "colorbar": {
              "outlinewidth": 1,
              "tickcolor": "rgb(36,36,36)",
              "ticks": "outside"
             }
            },
            "type": "scatter"
           }
          ],
          "scatter3d": [
           {
            "line": {
             "colorbar": {
              "outlinewidth": 1,
              "tickcolor": "rgb(36,36,36)",
              "ticks": "outside"
             }
            },
            "marker": {
             "colorbar": {
              "outlinewidth": 1,
              "tickcolor": "rgb(36,36,36)",
              "ticks": "outside"
             }
            },
            "type": "scatter3d"
           }
          ],
          "scattercarpet": [
           {
            "marker": {
             "colorbar": {
              "outlinewidth": 1,
              "tickcolor": "rgb(36,36,36)",
              "ticks": "outside"
             }
            },
            "type": "scattercarpet"
           }
          ],
          "scattergeo": [
           {
            "marker": {
             "colorbar": {
              "outlinewidth": 1,
              "tickcolor": "rgb(36,36,36)",
              "ticks": "outside"
             }
            },
            "type": "scattergeo"
           }
          ],
          "scattergl": [
           {
            "marker": {
             "colorbar": {
              "outlinewidth": 1,
              "tickcolor": "rgb(36,36,36)",
              "ticks": "outside"
             }
            },
            "type": "scattergl"
           }
          ],
          "scattermapbox": [
           {
            "marker": {
             "colorbar": {
              "outlinewidth": 1,
              "tickcolor": "rgb(36,36,36)",
              "ticks": "outside"
             }
            },
            "type": "scattermapbox"
           }
          ],
          "scatterpolar": [
           {
            "marker": {
             "colorbar": {
              "outlinewidth": 1,
              "tickcolor": "rgb(36,36,36)",
              "ticks": "outside"
             }
            },
            "type": "scatterpolar"
           }
          ],
          "scatterpolargl": [
           {
            "marker": {
             "colorbar": {
              "outlinewidth": 1,
              "tickcolor": "rgb(36,36,36)",
              "ticks": "outside"
             }
            },
            "type": "scatterpolargl"
           }
          ],
          "scatterternary": [
           {
            "marker": {
             "colorbar": {
              "outlinewidth": 1,
              "tickcolor": "rgb(36,36,36)",
              "ticks": "outside"
             }
            },
            "type": "scatterternary"
           }
          ],
          "surface": [
           {
            "colorbar": {
             "outlinewidth": 1,
             "tickcolor": "rgb(36,36,36)",
             "ticks": "outside"
            },
            "colorscale": [
             [
              0,
              "#440154"
             ],
             [
              0.1111111111111111,
              "#482878"
             ],
             [
              0.2222222222222222,
              "#3e4989"
             ],
             [
              0.3333333333333333,
              "#31688e"
             ],
             [
              0.4444444444444444,
              "#26828e"
             ],
             [
              0.5555555555555556,
              "#1f9e89"
             ],
             [
              0.6666666666666666,
              "#35b779"
             ],
             [
              0.7777777777777778,
              "#6ece58"
             ],
             [
              0.8888888888888888,
              "#b5de2b"
             ],
             [
              1,
              "#fde725"
             ]
            ],
            "type": "surface"
           }
          ],
          "table": [
           {
            "cells": {
             "fill": {
              "color": "rgb(237,237,237)"
             },
             "line": {
              "color": "white"
             }
            },
            "header": {
             "fill": {
              "color": "rgb(217,217,217)"
             },
             "line": {
              "color": "white"
             }
            },
            "type": "table"
           }
          ]
         },
         "layout": {
          "annotationdefaults": {
           "arrowhead": 0,
           "arrowwidth": 1
          },
          "autotypenumbers": "strict",
          "coloraxis": {
           "colorbar": {
            "outlinewidth": 1,
            "tickcolor": "rgb(36,36,36)",
            "ticks": "outside"
           }
          },
          "colorscale": {
           "diverging": [
            [
             0,
             "rgb(103,0,31)"
            ],
            [
             0.1,
             "rgb(178,24,43)"
            ],
            [
             0.2,
             "rgb(214,96,77)"
            ],
            [
             0.3,
             "rgb(244,165,130)"
            ],
            [
             0.4,
             "rgb(253,219,199)"
            ],
            [
             0.5,
             "rgb(247,247,247)"
            ],
            [
             0.6,
             "rgb(209,229,240)"
            ],
            [
             0.7,
             "rgb(146,197,222)"
            ],
            [
             0.8,
             "rgb(67,147,195)"
            ],
            [
             0.9,
             "rgb(33,102,172)"
            ],
            [
             1,
             "rgb(5,48,97)"
            ]
           ],
           "sequential": [
            [
             0,
             "#440154"
            ],
            [
             0.1111111111111111,
             "#482878"
            ],
            [
             0.2222222222222222,
             "#3e4989"
            ],
            [
             0.3333333333333333,
             "#31688e"
            ],
            [
             0.4444444444444444,
             "#26828e"
            ],
            [
             0.5555555555555556,
             "#1f9e89"
            ],
            [
             0.6666666666666666,
             "#35b779"
            ],
            [
             0.7777777777777778,
             "#6ece58"
            ],
            [
             0.8888888888888888,
             "#b5de2b"
            ],
            [
             1,
             "#fde725"
            ]
           ],
           "sequentialminus": [
            [
             0,
             "#440154"
            ],
            [
             0.1111111111111111,
             "#482878"
            ],
            [
             0.2222222222222222,
             "#3e4989"
            ],
            [
             0.3333333333333333,
             "#31688e"
            ],
            [
             0.4444444444444444,
             "#26828e"
            ],
            [
             0.5555555555555556,
             "#1f9e89"
            ],
            [
             0.6666666666666666,
             "#35b779"
            ],
            [
             0.7777777777777778,
             "#6ece58"
            ],
            [
             0.8888888888888888,
             "#b5de2b"
            ],
            [
             1,
             "#fde725"
            ]
           ]
          },
          "colorway": [
           "#1F77B4",
           "#FF7F0E",
           "#2CA02C",
           "#D62728",
           "#9467BD",
           "#8C564B",
           "#E377C2",
           "#7F7F7F",
           "#BCBD22",
           "#17BECF"
          ],
          "font": {
           "color": "rgb(36,36,36)"
          },
          "geo": {
           "bgcolor": "white",
           "lakecolor": "white",
           "landcolor": "white",
           "showlakes": true,
           "showland": true,
           "subunitcolor": "white"
          },
          "hoverlabel": {
           "align": "left"
          },
          "hovermode": "closest",
          "mapbox": {
           "style": "light"
          },
          "paper_bgcolor": "white",
          "plot_bgcolor": "white",
          "polar": {
           "angularaxis": {
            "gridcolor": "rgb(232,232,232)",
            "linecolor": "rgb(36,36,36)",
            "showgrid": false,
            "showline": true,
            "ticks": "outside"
           },
           "bgcolor": "white",
           "radialaxis": {
            "gridcolor": "rgb(232,232,232)",
            "linecolor": "rgb(36,36,36)",
            "showgrid": false,
            "showline": true,
            "ticks": "outside"
           }
          },
          "scene": {
           "xaxis": {
            "backgroundcolor": "white",
            "gridcolor": "rgb(232,232,232)",
            "gridwidth": 2,
            "linecolor": "rgb(36,36,36)",
            "showbackground": true,
            "showgrid": false,
            "showline": true,
            "ticks": "outside",
            "zeroline": false,
            "zerolinecolor": "rgb(36,36,36)"
           },
           "yaxis": {
            "backgroundcolor": "white",
            "gridcolor": "rgb(232,232,232)",
            "gridwidth": 2,
            "linecolor": "rgb(36,36,36)",
            "showbackground": true,
            "showgrid": false,
            "showline": true,
            "ticks": "outside",
            "zeroline": false,
            "zerolinecolor": "rgb(36,36,36)"
           },
           "zaxis": {
            "backgroundcolor": "white",
            "gridcolor": "rgb(232,232,232)",
            "gridwidth": 2,
            "linecolor": "rgb(36,36,36)",
            "showbackground": true,
            "showgrid": false,
            "showline": true,
            "ticks": "outside",
            "zeroline": false,
            "zerolinecolor": "rgb(36,36,36)"
           }
          },
          "shapedefaults": {
           "fillcolor": "black",
           "line": {
            "width": 0
           },
           "opacity": 0.3
          },
          "ternary": {
           "aaxis": {
            "gridcolor": "rgb(232,232,232)",
            "linecolor": "rgb(36,36,36)",
            "showgrid": false,
            "showline": true,
            "ticks": "outside"
           },
           "baxis": {
            "gridcolor": "rgb(232,232,232)",
            "linecolor": "rgb(36,36,36)",
            "showgrid": false,
            "showline": true,
            "ticks": "outside"
           },
           "bgcolor": "white",
           "caxis": {
            "gridcolor": "rgb(232,232,232)",
            "linecolor": "rgb(36,36,36)",
            "showgrid": false,
            "showline": true,
            "ticks": "outside"
           }
          },
          "title": {
           "x": 0.05
          },
          "xaxis": {
           "automargin": true,
           "gridcolor": "rgb(232,232,232)",
           "linecolor": "rgb(36,36,36)",
           "showgrid": false,
           "showline": true,
           "ticks": "outside",
           "title": {
            "standoff": 15
           },
           "zeroline": false,
           "zerolinecolor": "rgb(36,36,36)"
          },
          "yaxis": {
           "automargin": true,
           "gridcolor": "rgb(232,232,232)",
           "linecolor": "rgb(36,36,36)",
           "showgrid": false,
           "showline": true,
           "ticks": "outside",
           "title": {
            "standoff": 15
           },
           "zeroline": false,
           "zerolinecolor": "rgb(36,36,36)"
          }
         }
        },
        "title": {
         "text": "Variantes detectadas en la Región de Aysén"
        },
        "xaxis": {
         "anchor": "y",
         "domain": [
          0,
          1
         ],
         "title": {
          "text": "Fecha de resultado de Secuenciación o Genotipificación"
         }
        },
        "yaxis": {
         "anchor": "x",
         "domain": [
          0,
          1
         ],
         "title": {
          "text": "% de casos identificados de variantes por sexo"
         }
        }
       }
      },
      "text/html": [
       "<div>                            <div id=\"8083f083-cda2-4ff3-af2b-ac188dedc867\" class=\"plotly-graph-div\" style=\"height:525px; width:100%;\"></div>            <script type=\"text/javascript\">                require([\"plotly\"], function(Plotly) {                    window.PLOTLYENV=window.PLOTLYENV || {};                                    if (document.getElementById(\"8083f083-cda2-4ff3-af2b-ac188dedc867\")) {                    Plotly.newPlot(                        \"8083f083-cda2-4ff3-af2b-ac188dedc867\",                        [{\"groupnorm\": \"percent\", \"hovertemplate\": \"Sexo=FEMENINO<br>fecha_resultado_secuenciacion_genotipificacion=%{x}<br>value=%{y}<extra></extra>\", \"legendgroup\": \"FEMENINO\", \"line\": {\"color\": \"#636efa\"}, \"mode\": \"lines\", \"name\": \"FEMENINO\", \"orientation\": \"v\", \"showlegend\": true, \"stackgroup\": \"1\", \"type\": \"scatter\", \"x\": [\"2021-03-21T00:00:00\", \"2021-04-05T00:00:00\", \"2021-04-08T00:00:00\", \"2021-04-19T00:00:00\", \"2021-05-05T00:00:00\", \"2021-05-14T00:00:00\", \"2021-05-19T00:00:00\", \"2021-05-24T00:00:00\", \"2021-05-26T00:00:00\", \"2021-06-09T00:00:00\", \"2021-06-17T00:00:00\", \"2021-06-30T00:00:00\", \"2021-07-07T00:00:00\", \"2021-07-14T00:00:00\", \"2021-07-21T00:00:00\", \"2021-07-28T00:00:00\", \"2021-07-31T00:00:00\", \"2021-08-01T00:00:00\", \"2021-08-03T00:00:00\", \"2021-08-06T00:00:00\", \"2021-08-12T00:00:00\", \"2021-08-13T00:00:00\", \"2021-08-17T00:00:00\", \"2021-08-18T00:00:00\", \"2021-08-21T00:00:00\", \"2021-08-23T00:00:00\", \"2021-08-25T00:00:00\", \"2021-08-26T00:00:00\", \"2021-09-01T00:00:00\"], \"xaxis\": \"x\", \"y\": [2.0, 4.0, 5.0, 8.0, 10.0, 14.0, 17.0, 17.0, 22.0, 27.0, 31.0, 35.0, 40.0, 59.0, 71.0, 73.0, 75.0, 76.0, 77.0, 81.0, 85.0, 88.0, 94.0, 97.0, 98.0, 103.0, 111.0, 114.0, 118.0], \"yaxis\": \"y\"}, {\"groupnorm\": \"percent\", \"hovertemplate\": \"Sexo=MASCULINO<br>fecha_resultado_secuenciacion_genotipificacion=%{x}<br>value=%{y}<extra></extra>\", \"legendgroup\": \"MASCULINO\", \"line\": {\"color\": \"#EF553B\"}, \"mode\": \"lines\", \"name\": \"MASCULINO\", \"orientation\": \"v\", \"showlegend\": true, \"stackgroup\": \"1\", \"type\": \"scatter\", \"x\": [\"2021-03-21T00:00:00\", \"2021-04-05T00:00:00\", \"2021-04-08T00:00:00\", \"2021-04-19T00:00:00\", \"2021-05-05T00:00:00\", \"2021-05-14T00:00:00\", \"2021-05-19T00:00:00\", \"2021-05-24T00:00:00\", \"2021-05-26T00:00:00\", \"2021-06-09T00:00:00\", \"2021-06-17T00:00:00\", \"2021-06-30T00:00:00\", \"2021-07-07T00:00:00\", \"2021-07-14T00:00:00\", \"2021-07-21T00:00:00\", \"2021-07-28T00:00:00\", \"2021-07-31T00:00:00\", \"2021-08-01T00:00:00\", \"2021-08-03T00:00:00\", \"2021-08-06T00:00:00\", \"2021-08-12T00:00:00\", \"2021-08-13T00:00:00\", \"2021-08-17T00:00:00\", \"2021-08-18T00:00:00\", \"2021-08-21T00:00:00\", \"2021-08-23T00:00:00\", \"2021-08-25T00:00:00\", \"2021-08-26T00:00:00\", \"2021-09-01T00:00:00\"], \"xaxis\": \"x\", \"y\": [0.0, 0.0, 0.0, 1.0, 5.0, 11.0, 15.0, 16.0, 26.0, 32.0, 33.0, 37.0, 47.0, 57.0, 72.0, 72.0, 73.0, 73.0, 74.0, 81.0, 83.0, 86.0, 90.0, 93.0, 96.0, 99.0, 104.0, 107.0, 110.0], \"yaxis\": \"y\"}],                        {\"legend\": {\"title\": {\"text\": \"Sexo\"}, \"tracegroupgap\": 0}, \"margin\": {\"t\": 60}, \"template\": {\"data\": {\"bar\": [{\"error_x\": {\"color\": \"rgb(36,36,36)\"}, \"error_y\": {\"color\": \"rgb(36,36,36)\"}, \"marker\": {\"line\": {\"color\": \"white\", \"width\": 0.5}}, \"type\": \"bar\"}], \"barpolar\": [{\"marker\": {\"line\": {\"color\": \"white\", \"width\": 0.5}}, \"type\": \"barpolar\"}], \"carpet\": [{\"aaxis\": {\"endlinecolor\": \"rgb(36,36,36)\", \"gridcolor\": \"white\", \"linecolor\": \"white\", \"minorgridcolor\": \"white\", \"startlinecolor\": \"rgb(36,36,36)\"}, \"baxis\": {\"endlinecolor\": \"rgb(36,36,36)\", \"gridcolor\": \"white\", \"linecolor\": \"white\", \"minorgridcolor\": \"white\", \"startlinecolor\": \"rgb(36,36,36)\"}, \"type\": \"carpet\"}], \"choropleth\": [{\"colorbar\": {\"outlinewidth\": 1, \"tickcolor\": \"rgb(36,36,36)\", \"ticks\": \"outside\"}, \"type\": \"choropleth\"}], \"contour\": [{\"colorbar\": {\"outlinewidth\": 1, \"tickcolor\": \"rgb(36,36,36)\", \"ticks\": \"outside\"}, \"colorscale\": [[0.0, \"#440154\"], [0.1111111111111111, \"#482878\"], [0.2222222222222222, \"#3e4989\"], [0.3333333333333333, \"#31688e\"], [0.4444444444444444, \"#26828e\"], [0.5555555555555556, \"#1f9e89\"], [0.6666666666666666, \"#35b779\"], [0.7777777777777778, \"#6ece58\"], [0.8888888888888888, \"#b5de2b\"], [1.0, \"#fde725\"]], \"type\": \"contour\"}], \"contourcarpet\": [{\"colorbar\": {\"outlinewidth\": 1, \"tickcolor\": \"rgb(36,36,36)\", \"ticks\": \"outside\"}, \"type\": \"contourcarpet\"}], \"heatmap\": [{\"colorbar\": {\"outlinewidth\": 1, \"tickcolor\": \"rgb(36,36,36)\", \"ticks\": \"outside\"}, \"colorscale\": [[0.0, \"#440154\"], [0.1111111111111111, \"#482878\"], [0.2222222222222222, \"#3e4989\"], [0.3333333333333333, \"#31688e\"], [0.4444444444444444, \"#26828e\"], [0.5555555555555556, \"#1f9e89\"], [0.6666666666666666, \"#35b779\"], [0.7777777777777778, \"#6ece58\"], [0.8888888888888888, \"#b5de2b\"], [1.0, \"#fde725\"]], \"type\": \"heatmap\"}], \"heatmapgl\": [{\"colorbar\": {\"outlinewidth\": 1, \"tickcolor\": \"rgb(36,36,36)\", \"ticks\": \"outside\"}, \"colorscale\": [[0.0, \"#440154\"], [0.1111111111111111, \"#482878\"], [0.2222222222222222, \"#3e4989\"], [0.3333333333333333, \"#31688e\"], [0.4444444444444444, \"#26828e\"], [0.5555555555555556, \"#1f9e89\"], [0.6666666666666666, \"#35b779\"], [0.7777777777777778, \"#6ece58\"], [0.8888888888888888, \"#b5de2b\"], [1.0, \"#fde725\"]], \"type\": \"heatmapgl\"}], \"histogram\": [{\"marker\": {\"line\": {\"color\": \"white\", \"width\": 0.6}}, \"type\": \"histogram\"}], \"histogram2d\": [{\"colorbar\": {\"outlinewidth\": 1, \"tickcolor\": \"rgb(36,36,36)\", \"ticks\": \"outside\"}, \"colorscale\": [[0.0, \"#440154\"], [0.1111111111111111, \"#482878\"], [0.2222222222222222, \"#3e4989\"], [0.3333333333333333, \"#31688e\"], [0.4444444444444444, \"#26828e\"], [0.5555555555555556, \"#1f9e89\"], [0.6666666666666666, \"#35b779\"], [0.7777777777777778, \"#6ece58\"], [0.8888888888888888, \"#b5de2b\"], [1.0, \"#fde725\"]], \"type\": \"histogram2d\"}], \"histogram2dcontour\": [{\"colorbar\": {\"outlinewidth\": 1, \"tickcolor\": \"rgb(36,36,36)\", \"ticks\": \"outside\"}, \"colorscale\": [[0.0, \"#440154\"], [0.1111111111111111, \"#482878\"], [0.2222222222222222, \"#3e4989\"], [0.3333333333333333, \"#31688e\"], [0.4444444444444444, \"#26828e\"], [0.5555555555555556, \"#1f9e89\"], [0.6666666666666666, \"#35b779\"], [0.7777777777777778, \"#6ece58\"], [0.8888888888888888, \"#b5de2b\"], [1.0, \"#fde725\"]], \"type\": \"histogram2dcontour\"}], \"mesh3d\": [{\"colorbar\": {\"outlinewidth\": 1, \"tickcolor\": \"rgb(36,36,36)\", \"ticks\": \"outside\"}, \"type\": \"mesh3d\"}], \"parcoords\": [{\"line\": {\"colorbar\": {\"outlinewidth\": 1, \"tickcolor\": \"rgb(36,36,36)\", \"ticks\": \"outside\"}}, \"type\": \"parcoords\"}], \"pie\": [{\"automargin\": true, \"type\": \"pie\"}], \"scatter\": [{\"marker\": {\"colorbar\": {\"outlinewidth\": 1, \"tickcolor\": \"rgb(36,36,36)\", \"ticks\": \"outside\"}}, \"type\": \"scatter\"}], \"scatter3d\": [{\"line\": {\"colorbar\": {\"outlinewidth\": 1, \"tickcolor\": \"rgb(36,36,36)\", \"ticks\": \"outside\"}}, \"marker\": {\"colorbar\": {\"outlinewidth\": 1, \"tickcolor\": \"rgb(36,36,36)\", \"ticks\": \"outside\"}}, \"type\": \"scatter3d\"}], \"scattercarpet\": [{\"marker\": {\"colorbar\": {\"outlinewidth\": 1, \"tickcolor\": \"rgb(36,36,36)\", \"ticks\": \"outside\"}}, \"type\": \"scattercarpet\"}], \"scattergeo\": [{\"marker\": {\"colorbar\": {\"outlinewidth\": 1, \"tickcolor\": \"rgb(36,36,36)\", \"ticks\": \"outside\"}}, \"type\": \"scattergeo\"}], \"scattergl\": [{\"marker\": {\"colorbar\": {\"outlinewidth\": 1, \"tickcolor\": \"rgb(36,36,36)\", \"ticks\": \"outside\"}}, \"type\": \"scattergl\"}], \"scattermapbox\": [{\"marker\": {\"colorbar\": {\"outlinewidth\": 1, \"tickcolor\": \"rgb(36,36,36)\", \"ticks\": \"outside\"}}, \"type\": \"scattermapbox\"}], \"scatterpolar\": [{\"marker\": {\"colorbar\": {\"outlinewidth\": 1, \"tickcolor\": \"rgb(36,36,36)\", \"ticks\": \"outside\"}}, \"type\": \"scatterpolar\"}], \"scatterpolargl\": [{\"marker\": {\"colorbar\": {\"outlinewidth\": 1, \"tickcolor\": \"rgb(36,36,36)\", \"ticks\": \"outside\"}}, \"type\": \"scatterpolargl\"}], \"scatterternary\": [{\"marker\": {\"colorbar\": {\"outlinewidth\": 1, \"tickcolor\": \"rgb(36,36,36)\", \"ticks\": \"outside\"}}, \"type\": \"scatterternary\"}], \"surface\": [{\"colorbar\": {\"outlinewidth\": 1, \"tickcolor\": \"rgb(36,36,36)\", \"ticks\": \"outside\"}, \"colorscale\": [[0.0, \"#440154\"], [0.1111111111111111, \"#482878\"], [0.2222222222222222, \"#3e4989\"], [0.3333333333333333, \"#31688e\"], [0.4444444444444444, \"#26828e\"], [0.5555555555555556, \"#1f9e89\"], [0.6666666666666666, \"#35b779\"], [0.7777777777777778, \"#6ece58\"], [0.8888888888888888, \"#b5de2b\"], [1.0, \"#fde725\"]], \"type\": \"surface\"}], \"table\": [{\"cells\": {\"fill\": {\"color\": \"rgb(237,237,237)\"}, \"line\": {\"color\": \"white\"}}, \"header\": {\"fill\": {\"color\": \"rgb(217,217,217)\"}, \"line\": {\"color\": \"white\"}}, \"type\": \"table\"}]}, \"layout\": {\"annotationdefaults\": {\"arrowhead\": 0, \"arrowwidth\": 1}, \"autotypenumbers\": \"strict\", \"coloraxis\": {\"colorbar\": {\"outlinewidth\": 1, \"tickcolor\": \"rgb(36,36,36)\", \"ticks\": \"outside\"}}, \"colorscale\": {\"diverging\": [[0.0, \"rgb(103,0,31)\"], [0.1, \"rgb(178,24,43)\"], [0.2, \"rgb(214,96,77)\"], [0.3, \"rgb(244,165,130)\"], [0.4, \"rgb(253,219,199)\"], [0.5, \"rgb(247,247,247)\"], [0.6, \"rgb(209,229,240)\"], [0.7, \"rgb(146,197,222)\"], [0.8, \"rgb(67,147,195)\"], [0.9, \"rgb(33,102,172)\"], [1.0, \"rgb(5,48,97)\"]], \"sequential\": [[0.0, \"#440154\"], [0.1111111111111111, \"#482878\"], [0.2222222222222222, \"#3e4989\"], [0.3333333333333333, \"#31688e\"], [0.4444444444444444, \"#26828e\"], [0.5555555555555556, \"#1f9e89\"], [0.6666666666666666, \"#35b779\"], [0.7777777777777778, \"#6ece58\"], [0.8888888888888888, \"#b5de2b\"], [1.0, \"#fde725\"]], \"sequentialminus\": [[0.0, \"#440154\"], [0.1111111111111111, \"#482878\"], [0.2222222222222222, \"#3e4989\"], [0.3333333333333333, \"#31688e\"], [0.4444444444444444, \"#26828e\"], [0.5555555555555556, \"#1f9e89\"], [0.6666666666666666, \"#35b779\"], [0.7777777777777778, \"#6ece58\"], [0.8888888888888888, \"#b5de2b\"], [1.0, \"#fde725\"]]}, \"colorway\": [\"#1F77B4\", \"#FF7F0E\", \"#2CA02C\", \"#D62728\", \"#9467BD\", \"#8C564B\", \"#E377C2\", \"#7F7F7F\", \"#BCBD22\", \"#17BECF\"], \"font\": {\"color\": \"rgb(36,36,36)\"}, \"geo\": {\"bgcolor\": \"white\", \"lakecolor\": \"white\", \"landcolor\": \"white\", \"showlakes\": true, \"showland\": true, \"subunitcolor\": \"white\"}, \"hoverlabel\": {\"align\": \"left\"}, \"hovermode\": \"closest\", \"mapbox\": {\"style\": \"light\"}, \"paper_bgcolor\": \"white\", \"plot_bgcolor\": \"white\", \"polar\": {\"angularaxis\": {\"gridcolor\": \"rgb(232,232,232)\", \"linecolor\": \"rgb(36,36,36)\", \"showgrid\": false, \"showline\": true, \"ticks\": \"outside\"}, \"bgcolor\": \"white\", \"radialaxis\": {\"gridcolor\": \"rgb(232,232,232)\", \"linecolor\": \"rgb(36,36,36)\", \"showgrid\": false, \"showline\": true, \"ticks\": \"outside\"}}, \"scene\": {\"xaxis\": {\"backgroundcolor\": \"white\", \"gridcolor\": \"rgb(232,232,232)\", \"gridwidth\": 2, \"linecolor\": \"rgb(36,36,36)\", \"showbackground\": true, \"showgrid\": false, \"showline\": true, \"ticks\": \"outside\", \"zeroline\": false, \"zerolinecolor\": \"rgb(36,36,36)\"}, \"yaxis\": {\"backgroundcolor\": \"white\", \"gridcolor\": \"rgb(232,232,232)\", \"gridwidth\": 2, \"linecolor\": \"rgb(36,36,36)\", \"showbackground\": true, \"showgrid\": false, \"showline\": true, \"ticks\": \"outside\", \"zeroline\": false, \"zerolinecolor\": \"rgb(36,36,36)\"}, \"zaxis\": {\"backgroundcolor\": \"white\", \"gridcolor\": \"rgb(232,232,232)\", \"gridwidth\": 2, \"linecolor\": \"rgb(36,36,36)\", \"showbackground\": true, \"showgrid\": false, \"showline\": true, \"ticks\": \"outside\", \"zeroline\": false, \"zerolinecolor\": \"rgb(36,36,36)\"}}, \"shapedefaults\": {\"fillcolor\": \"black\", \"line\": {\"width\": 0}, \"opacity\": 0.3}, \"ternary\": {\"aaxis\": {\"gridcolor\": \"rgb(232,232,232)\", \"linecolor\": \"rgb(36,36,36)\", \"showgrid\": false, \"showline\": true, \"ticks\": \"outside\"}, \"baxis\": {\"gridcolor\": \"rgb(232,232,232)\", \"linecolor\": \"rgb(36,36,36)\", \"showgrid\": false, \"showline\": true, \"ticks\": \"outside\"}, \"bgcolor\": \"white\", \"caxis\": {\"gridcolor\": \"rgb(232,232,232)\", \"linecolor\": \"rgb(36,36,36)\", \"showgrid\": false, \"showline\": true, \"ticks\": \"outside\"}}, \"title\": {\"x\": 0.05}, \"xaxis\": {\"automargin\": true, \"gridcolor\": \"rgb(232,232,232)\", \"linecolor\": \"rgb(36,36,36)\", \"showgrid\": false, \"showline\": true, \"ticks\": \"outside\", \"title\": {\"standoff\": 15}, \"zeroline\": false, \"zerolinecolor\": \"rgb(36,36,36)\"}, \"yaxis\": {\"automargin\": true, \"gridcolor\": \"rgb(232,232,232)\", \"linecolor\": \"rgb(36,36,36)\", \"showgrid\": false, \"showline\": true, \"ticks\": \"outside\", \"title\": {\"standoff\": 15}, \"zeroline\": false, \"zerolinecolor\": \"rgb(36,36,36)\"}}}, \"title\": {\"text\": \"Variantes detectadas en la Regi\\u00f3n de Ays\\u00e9n\"}, \"xaxis\": {\"anchor\": \"y\", \"domain\": [0.0, 1.0], \"title\": {\"text\": \"Fecha de resultado de Secuenciaci\\u00f3n o Genotipificaci\\u00f3n\"}}, \"yaxis\": {\"anchor\": \"x\", \"domain\": [0.0, 1.0], \"title\": {\"text\": \"% de casos identificados de variantes por sexo\"}}},                        {\"responsive\": true}                    ).then(function(){\n",
       "                            \n",
       "var gd = document.getElementById('8083f083-cda2-4ff3-af2b-ac188dedc867');\n",
       "var x = new MutationObserver(function (mutations, observer) {{\n",
       "        var display = window.getComputedStyle(gd).display;\n",
       "        if (!display || display === 'none') {{\n",
       "            console.log([gd, 'removed!']);\n",
       "            Plotly.purge(gd);\n",
       "            observer.disconnect();\n",
       "        }}\n",
       "}});\n",
       "\n",
       "// Listen for the removal of the full notebook cells\n",
       "var notebookContainer = gd.closest('#notebook-container');\n",
       "if (notebookContainer) {{\n",
       "    x.observe(notebookContainer, {childList: true});\n",
       "}}\n",
       "\n",
       "// Listen for the clearing of the current output cell\n",
       "var outputEl = gd.closest('.output');\n",
       "if (outputEl) {{\n",
       "    x.observe(outputEl, {childList: true});\n",
       "}}\n",
       "\n",
       "                        })                };                });            </script>        </div>"
      ]
     },
     "metadata": {},
     "output_type": "display_data"
    }
   ],
   "source": [
    "px.area(df_variantes_clean.groupby(['fecha_resultado_secuenciacion_genotipificacion', 'sexo']).count()[['n_documento']].reset_index().pivot(\n",
    "    index='fecha_resultado_secuenciacion_genotipificacion',\n",
    "    columns='sexo', \n",
    "    values=['n_documento']\n",
    ").fillna(0).cumsum()['n_documento'],\n",
    "          labels={'sexo':'Sexo'},\n",
    "        groupnorm='percent'\n",
    "       ).update_layout(\n",
    "    title= 'Variantes detectadas en la Región de Aysén',\n",
    "    yaxis_title='% de casos identificados de variantes por sexo',\n",
    "    xaxis_title='Fecha de resultado de Secuenciación o Genotipificación',\n",
    "    template='simple_white',   \n",
    ")"
   ]
  },
  {
   "cell_type": "code",
   "execution_count": 232,
   "id": "24773365",
   "metadata": {},
   "outputs": [
    {
     "data": {
      "application/vnd.plotly.v1+json": {
       "config": {
        "plotlyServerURL": "https://plot.ly"
       },
       "data": [
        {
         "groupnorm": "percent",
         "hovertemplate": "Vacunado=NO<br>fecha_resultado_secuenciacion_genotipificacion=%{x}<br>value=%{y}<extra></extra>",
         "legendgroup": "NO",
         "line": {
          "color": "#636efa"
         },
         "mode": "lines",
         "name": "NO",
         "orientation": "v",
         "showlegend": true,
         "stackgroup": "1",
         "type": "scatter",
         "x": [
          "2021-03-21T00:00:00",
          "2021-04-05T00:00:00",
          "2021-04-08T00:00:00",
          "2021-04-19T00:00:00",
          "2021-05-05T00:00:00",
          "2021-05-14T00:00:00",
          "2021-05-19T00:00:00",
          "2021-05-24T00:00:00",
          "2021-05-26T00:00:00",
          "2021-06-09T00:00:00",
          "2021-06-17T00:00:00",
          "2021-06-30T00:00:00",
          "2021-07-07T00:00:00",
          "2021-07-14T00:00:00",
          "2021-07-21T00:00:00",
          "2021-07-28T00:00:00",
          "2021-07-31T00:00:00",
          "2021-08-01T00:00:00",
          "2021-08-03T00:00:00",
          "2021-08-06T00:00:00",
          "2021-08-12T00:00:00",
          "2021-08-13T00:00:00",
          "2021-08-17T00:00:00",
          "2021-08-18T00:00:00",
          "2021-08-21T00:00:00",
          "2021-08-23T00:00:00",
          "2021-08-25T00:00:00",
          "2021-08-26T00:00:00",
          "2021-09-01T00:00:00"
         ],
         "xaxis": "x",
         "y": [
          0,
          0,
          1,
          1,
          1,
          3,
          3,
          4,
          5,
          7,
          9,
          11,
          14,
          29,
          36,
          36,
          39,
          40,
          40,
          47,
          50,
          53,
          59,
          60,
          62,
          63,
          70,
          71,
          73
         ],
         "yaxis": "y"
        },
        {
         "groupnorm": "percent",
         "hovertemplate": "Vacunado=SI<br>fecha_resultado_secuenciacion_genotipificacion=%{x}<br>value=%{y}<extra></extra>",
         "legendgroup": "SI",
         "line": {
          "color": "#EF553B"
         },
         "mode": "lines",
         "name": "SI",
         "orientation": "v",
         "showlegend": true,
         "stackgroup": "1",
         "type": "scatter",
         "x": [
          "2021-03-21T00:00:00",
          "2021-04-05T00:00:00",
          "2021-04-08T00:00:00",
          "2021-04-19T00:00:00",
          "2021-05-05T00:00:00",
          "2021-05-14T00:00:00",
          "2021-05-19T00:00:00",
          "2021-05-24T00:00:00",
          "2021-05-26T00:00:00",
          "2021-06-09T00:00:00",
          "2021-06-17T00:00:00",
          "2021-06-30T00:00:00",
          "2021-07-07T00:00:00",
          "2021-07-14T00:00:00",
          "2021-07-21T00:00:00",
          "2021-07-28T00:00:00",
          "2021-07-31T00:00:00",
          "2021-08-01T00:00:00",
          "2021-08-03T00:00:00",
          "2021-08-06T00:00:00",
          "2021-08-12T00:00:00",
          "2021-08-13T00:00:00",
          "2021-08-17T00:00:00",
          "2021-08-18T00:00:00",
          "2021-08-21T00:00:00",
          "2021-08-23T00:00:00",
          "2021-08-25T00:00:00",
          "2021-08-26T00:00:00",
          "2021-09-01T00:00:00"
         ],
         "xaxis": "x",
         "y": [
          2,
          4,
          4,
          8,
          14,
          22,
          29,
          29,
          43,
          52,
          55,
          61,
          73,
          87,
          107,
          109,
          109,
          109,
          111,
          115,
          118,
          121,
          125,
          130,
          132,
          139,
          145,
          150,
          155
         ],
         "yaxis": "y"
        }
       ],
       "layout": {
        "legend": {
         "title": {
          "text": "Vacunado"
         },
         "tracegroupgap": 0
        },
        "margin": {
         "t": 60
        },
        "template": {
         "data": {
          "bar": [
           {
            "error_x": {
             "color": "rgb(36,36,36)"
            },
            "error_y": {
             "color": "rgb(36,36,36)"
            },
            "marker": {
             "line": {
              "color": "white",
              "width": 0.5
             }
            },
            "type": "bar"
           }
          ],
          "barpolar": [
           {
            "marker": {
             "line": {
              "color": "white",
              "width": 0.5
             }
            },
            "type": "barpolar"
           }
          ],
          "carpet": [
           {
            "aaxis": {
             "endlinecolor": "rgb(36,36,36)",
             "gridcolor": "white",
             "linecolor": "white",
             "minorgridcolor": "white",
             "startlinecolor": "rgb(36,36,36)"
            },
            "baxis": {
             "endlinecolor": "rgb(36,36,36)",
             "gridcolor": "white",
             "linecolor": "white",
             "minorgridcolor": "white",
             "startlinecolor": "rgb(36,36,36)"
            },
            "type": "carpet"
           }
          ],
          "choropleth": [
           {
            "colorbar": {
             "outlinewidth": 1,
             "tickcolor": "rgb(36,36,36)",
             "ticks": "outside"
            },
            "type": "choropleth"
           }
          ],
          "contour": [
           {
            "colorbar": {
             "outlinewidth": 1,
             "tickcolor": "rgb(36,36,36)",
             "ticks": "outside"
            },
            "colorscale": [
             [
              0,
              "#440154"
             ],
             [
              0.1111111111111111,
              "#482878"
             ],
             [
              0.2222222222222222,
              "#3e4989"
             ],
             [
              0.3333333333333333,
              "#31688e"
             ],
             [
              0.4444444444444444,
              "#26828e"
             ],
             [
              0.5555555555555556,
              "#1f9e89"
             ],
             [
              0.6666666666666666,
              "#35b779"
             ],
             [
              0.7777777777777778,
              "#6ece58"
             ],
             [
              0.8888888888888888,
              "#b5de2b"
             ],
             [
              1,
              "#fde725"
             ]
            ],
            "type": "contour"
           }
          ],
          "contourcarpet": [
           {
            "colorbar": {
             "outlinewidth": 1,
             "tickcolor": "rgb(36,36,36)",
             "ticks": "outside"
            },
            "type": "contourcarpet"
           }
          ],
          "heatmap": [
           {
            "colorbar": {
             "outlinewidth": 1,
             "tickcolor": "rgb(36,36,36)",
             "ticks": "outside"
            },
            "colorscale": [
             [
              0,
              "#440154"
             ],
             [
              0.1111111111111111,
              "#482878"
             ],
             [
              0.2222222222222222,
              "#3e4989"
             ],
             [
              0.3333333333333333,
              "#31688e"
             ],
             [
              0.4444444444444444,
              "#26828e"
             ],
             [
              0.5555555555555556,
              "#1f9e89"
             ],
             [
              0.6666666666666666,
              "#35b779"
             ],
             [
              0.7777777777777778,
              "#6ece58"
             ],
             [
              0.8888888888888888,
              "#b5de2b"
             ],
             [
              1,
              "#fde725"
             ]
            ],
            "type": "heatmap"
           }
          ],
          "heatmapgl": [
           {
            "colorbar": {
             "outlinewidth": 1,
             "tickcolor": "rgb(36,36,36)",
             "ticks": "outside"
            },
            "colorscale": [
             [
              0,
              "#440154"
             ],
             [
              0.1111111111111111,
              "#482878"
             ],
             [
              0.2222222222222222,
              "#3e4989"
             ],
             [
              0.3333333333333333,
              "#31688e"
             ],
             [
              0.4444444444444444,
              "#26828e"
             ],
             [
              0.5555555555555556,
              "#1f9e89"
             ],
             [
              0.6666666666666666,
              "#35b779"
             ],
             [
              0.7777777777777778,
              "#6ece58"
             ],
             [
              0.8888888888888888,
              "#b5de2b"
             ],
             [
              1,
              "#fde725"
             ]
            ],
            "type": "heatmapgl"
           }
          ],
          "histogram": [
           {
            "marker": {
             "line": {
              "color": "white",
              "width": 0.6
             }
            },
            "type": "histogram"
           }
          ],
          "histogram2d": [
           {
            "colorbar": {
             "outlinewidth": 1,
             "tickcolor": "rgb(36,36,36)",
             "ticks": "outside"
            },
            "colorscale": [
             [
              0,
              "#440154"
             ],
             [
              0.1111111111111111,
              "#482878"
             ],
             [
              0.2222222222222222,
              "#3e4989"
             ],
             [
              0.3333333333333333,
              "#31688e"
             ],
             [
              0.4444444444444444,
              "#26828e"
             ],
             [
              0.5555555555555556,
              "#1f9e89"
             ],
             [
              0.6666666666666666,
              "#35b779"
             ],
             [
              0.7777777777777778,
              "#6ece58"
             ],
             [
              0.8888888888888888,
              "#b5de2b"
             ],
             [
              1,
              "#fde725"
             ]
            ],
            "type": "histogram2d"
           }
          ],
          "histogram2dcontour": [
           {
            "colorbar": {
             "outlinewidth": 1,
             "tickcolor": "rgb(36,36,36)",
             "ticks": "outside"
            },
            "colorscale": [
             [
              0,
              "#440154"
             ],
             [
              0.1111111111111111,
              "#482878"
             ],
             [
              0.2222222222222222,
              "#3e4989"
             ],
             [
              0.3333333333333333,
              "#31688e"
             ],
             [
              0.4444444444444444,
              "#26828e"
             ],
             [
              0.5555555555555556,
              "#1f9e89"
             ],
             [
              0.6666666666666666,
              "#35b779"
             ],
             [
              0.7777777777777778,
              "#6ece58"
             ],
             [
              0.8888888888888888,
              "#b5de2b"
             ],
             [
              1,
              "#fde725"
             ]
            ],
            "type": "histogram2dcontour"
           }
          ],
          "mesh3d": [
           {
            "colorbar": {
             "outlinewidth": 1,
             "tickcolor": "rgb(36,36,36)",
             "ticks": "outside"
            },
            "type": "mesh3d"
           }
          ],
          "parcoords": [
           {
            "line": {
             "colorbar": {
              "outlinewidth": 1,
              "tickcolor": "rgb(36,36,36)",
              "ticks": "outside"
             }
            },
            "type": "parcoords"
           }
          ],
          "pie": [
           {
            "automargin": true,
            "type": "pie"
           }
          ],
          "scatter": [
           {
            "marker": {
             "colorbar": {
              "outlinewidth": 1,
              "tickcolor": "rgb(36,36,36)",
              "ticks": "outside"
             }
            },
            "type": "scatter"
           }
          ],
          "scatter3d": [
           {
            "line": {
             "colorbar": {
              "outlinewidth": 1,
              "tickcolor": "rgb(36,36,36)",
              "ticks": "outside"
             }
            },
            "marker": {
             "colorbar": {
              "outlinewidth": 1,
              "tickcolor": "rgb(36,36,36)",
              "ticks": "outside"
             }
            },
            "type": "scatter3d"
           }
          ],
          "scattercarpet": [
           {
            "marker": {
             "colorbar": {
              "outlinewidth": 1,
              "tickcolor": "rgb(36,36,36)",
              "ticks": "outside"
             }
            },
            "type": "scattercarpet"
           }
          ],
          "scattergeo": [
           {
            "marker": {
             "colorbar": {
              "outlinewidth": 1,
              "tickcolor": "rgb(36,36,36)",
              "ticks": "outside"
             }
            },
            "type": "scattergeo"
           }
          ],
          "scattergl": [
           {
            "marker": {
             "colorbar": {
              "outlinewidth": 1,
              "tickcolor": "rgb(36,36,36)",
              "ticks": "outside"
             }
            },
            "type": "scattergl"
           }
          ],
          "scattermapbox": [
           {
            "marker": {
             "colorbar": {
              "outlinewidth": 1,
              "tickcolor": "rgb(36,36,36)",
              "ticks": "outside"
             }
            },
            "type": "scattermapbox"
           }
          ],
          "scatterpolar": [
           {
            "marker": {
             "colorbar": {
              "outlinewidth": 1,
              "tickcolor": "rgb(36,36,36)",
              "ticks": "outside"
             }
            },
            "type": "scatterpolar"
           }
          ],
          "scatterpolargl": [
           {
            "marker": {
             "colorbar": {
              "outlinewidth": 1,
              "tickcolor": "rgb(36,36,36)",
              "ticks": "outside"
             }
            },
            "type": "scatterpolargl"
           }
          ],
          "scatterternary": [
           {
            "marker": {
             "colorbar": {
              "outlinewidth": 1,
              "tickcolor": "rgb(36,36,36)",
              "ticks": "outside"
             }
            },
            "type": "scatterternary"
           }
          ],
          "surface": [
           {
            "colorbar": {
             "outlinewidth": 1,
             "tickcolor": "rgb(36,36,36)",
             "ticks": "outside"
            },
            "colorscale": [
             [
              0,
              "#440154"
             ],
             [
              0.1111111111111111,
              "#482878"
             ],
             [
              0.2222222222222222,
              "#3e4989"
             ],
             [
              0.3333333333333333,
              "#31688e"
             ],
             [
              0.4444444444444444,
              "#26828e"
             ],
             [
              0.5555555555555556,
              "#1f9e89"
             ],
             [
              0.6666666666666666,
              "#35b779"
             ],
             [
              0.7777777777777778,
              "#6ece58"
             ],
             [
              0.8888888888888888,
              "#b5de2b"
             ],
             [
              1,
              "#fde725"
             ]
            ],
            "type": "surface"
           }
          ],
          "table": [
           {
            "cells": {
             "fill": {
              "color": "rgb(237,237,237)"
             },
             "line": {
              "color": "white"
             }
            },
            "header": {
             "fill": {
              "color": "rgb(217,217,217)"
             },
             "line": {
              "color": "white"
             }
            },
            "type": "table"
           }
          ]
         },
         "layout": {
          "annotationdefaults": {
           "arrowhead": 0,
           "arrowwidth": 1
          },
          "autotypenumbers": "strict",
          "coloraxis": {
           "colorbar": {
            "outlinewidth": 1,
            "tickcolor": "rgb(36,36,36)",
            "ticks": "outside"
           }
          },
          "colorscale": {
           "diverging": [
            [
             0,
             "rgb(103,0,31)"
            ],
            [
             0.1,
             "rgb(178,24,43)"
            ],
            [
             0.2,
             "rgb(214,96,77)"
            ],
            [
             0.3,
             "rgb(244,165,130)"
            ],
            [
             0.4,
             "rgb(253,219,199)"
            ],
            [
             0.5,
             "rgb(247,247,247)"
            ],
            [
             0.6,
             "rgb(209,229,240)"
            ],
            [
             0.7,
             "rgb(146,197,222)"
            ],
            [
             0.8,
             "rgb(67,147,195)"
            ],
            [
             0.9,
             "rgb(33,102,172)"
            ],
            [
             1,
             "rgb(5,48,97)"
            ]
           ],
           "sequential": [
            [
             0,
             "#440154"
            ],
            [
             0.1111111111111111,
             "#482878"
            ],
            [
             0.2222222222222222,
             "#3e4989"
            ],
            [
             0.3333333333333333,
             "#31688e"
            ],
            [
             0.4444444444444444,
             "#26828e"
            ],
            [
             0.5555555555555556,
             "#1f9e89"
            ],
            [
             0.6666666666666666,
             "#35b779"
            ],
            [
             0.7777777777777778,
             "#6ece58"
            ],
            [
             0.8888888888888888,
             "#b5de2b"
            ],
            [
             1,
             "#fde725"
            ]
           ],
           "sequentialminus": [
            [
             0,
             "#440154"
            ],
            [
             0.1111111111111111,
             "#482878"
            ],
            [
             0.2222222222222222,
             "#3e4989"
            ],
            [
             0.3333333333333333,
             "#31688e"
            ],
            [
             0.4444444444444444,
             "#26828e"
            ],
            [
             0.5555555555555556,
             "#1f9e89"
            ],
            [
             0.6666666666666666,
             "#35b779"
            ],
            [
             0.7777777777777778,
             "#6ece58"
            ],
            [
             0.8888888888888888,
             "#b5de2b"
            ],
            [
             1,
             "#fde725"
            ]
           ]
          },
          "colorway": [
           "#1F77B4",
           "#FF7F0E",
           "#2CA02C",
           "#D62728",
           "#9467BD",
           "#8C564B",
           "#E377C2",
           "#7F7F7F",
           "#BCBD22",
           "#17BECF"
          ],
          "font": {
           "color": "rgb(36,36,36)"
          },
          "geo": {
           "bgcolor": "white",
           "lakecolor": "white",
           "landcolor": "white",
           "showlakes": true,
           "showland": true,
           "subunitcolor": "white"
          },
          "hoverlabel": {
           "align": "left"
          },
          "hovermode": "closest",
          "mapbox": {
           "style": "light"
          },
          "paper_bgcolor": "white",
          "plot_bgcolor": "white",
          "polar": {
           "angularaxis": {
            "gridcolor": "rgb(232,232,232)",
            "linecolor": "rgb(36,36,36)",
            "showgrid": false,
            "showline": true,
            "ticks": "outside"
           },
           "bgcolor": "white",
           "radialaxis": {
            "gridcolor": "rgb(232,232,232)",
            "linecolor": "rgb(36,36,36)",
            "showgrid": false,
            "showline": true,
            "ticks": "outside"
           }
          },
          "scene": {
           "xaxis": {
            "backgroundcolor": "white",
            "gridcolor": "rgb(232,232,232)",
            "gridwidth": 2,
            "linecolor": "rgb(36,36,36)",
            "showbackground": true,
            "showgrid": false,
            "showline": true,
            "ticks": "outside",
            "zeroline": false,
            "zerolinecolor": "rgb(36,36,36)"
           },
           "yaxis": {
            "backgroundcolor": "white",
            "gridcolor": "rgb(232,232,232)",
            "gridwidth": 2,
            "linecolor": "rgb(36,36,36)",
            "showbackground": true,
            "showgrid": false,
            "showline": true,
            "ticks": "outside",
            "zeroline": false,
            "zerolinecolor": "rgb(36,36,36)"
           },
           "zaxis": {
            "backgroundcolor": "white",
            "gridcolor": "rgb(232,232,232)",
            "gridwidth": 2,
            "linecolor": "rgb(36,36,36)",
            "showbackground": true,
            "showgrid": false,
            "showline": true,
            "ticks": "outside",
            "zeroline": false,
            "zerolinecolor": "rgb(36,36,36)"
           }
          },
          "shapedefaults": {
           "fillcolor": "black",
           "line": {
            "width": 0
           },
           "opacity": 0.3
          },
          "ternary": {
           "aaxis": {
            "gridcolor": "rgb(232,232,232)",
            "linecolor": "rgb(36,36,36)",
            "showgrid": false,
            "showline": true,
            "ticks": "outside"
           },
           "baxis": {
            "gridcolor": "rgb(232,232,232)",
            "linecolor": "rgb(36,36,36)",
            "showgrid": false,
            "showline": true,
            "ticks": "outside"
           },
           "bgcolor": "white",
           "caxis": {
            "gridcolor": "rgb(232,232,232)",
            "linecolor": "rgb(36,36,36)",
            "showgrid": false,
            "showline": true,
            "ticks": "outside"
           }
          },
          "title": {
           "x": 0.05
          },
          "xaxis": {
           "automargin": true,
           "gridcolor": "rgb(232,232,232)",
           "linecolor": "rgb(36,36,36)",
           "showgrid": false,
           "showline": true,
           "ticks": "outside",
           "title": {
            "standoff": 15
           },
           "zeroline": false,
           "zerolinecolor": "rgb(36,36,36)"
          },
          "yaxis": {
           "automargin": true,
           "gridcolor": "rgb(232,232,232)",
           "linecolor": "rgb(36,36,36)",
           "showgrid": false,
           "showline": true,
           "ticks": "outside",
           "title": {
            "standoff": 15
           },
           "zeroline": false,
           "zerolinecolor": "rgb(36,36,36)"
          }
         }
        },
        "title": {
         "text": "Variantes detectadas en la Región de Aysén"
        },
        "xaxis": {
         "anchor": "y",
         "domain": [
          0,
          1
         ],
         "title": {
          "text": "Fecha de resultado de Secuenciación o Genotipificación"
         }
        },
        "yaxis": {
         "anchor": "x",
         "domain": [
          0,
          1
         ],
         "title": {
          "text": "% de casos identificados de variantes segun vacunación"
         }
        }
       }
      },
      "text/html": [
       "<div>                            <div id=\"6ea15b3a-4196-4e7a-99ff-3a5ff9276b10\" class=\"plotly-graph-div\" style=\"height:525px; width:100%;\"></div>            <script type=\"text/javascript\">                require([\"plotly\"], function(Plotly) {                    window.PLOTLYENV=window.PLOTLYENV || {};                                    if (document.getElementById(\"6ea15b3a-4196-4e7a-99ff-3a5ff9276b10\")) {                    Plotly.newPlot(                        \"6ea15b3a-4196-4e7a-99ff-3a5ff9276b10\",                        [{\"groupnorm\": \"percent\", \"hovertemplate\": \"Vacunado=NO<br>fecha_resultado_secuenciacion_genotipificacion=%{x}<br>value=%{y}<extra></extra>\", \"legendgroup\": \"NO\", \"line\": {\"color\": \"#636efa\"}, \"mode\": \"lines\", \"name\": \"NO\", \"orientation\": \"v\", \"showlegend\": true, \"stackgroup\": \"1\", \"type\": \"scatter\", \"x\": [\"2021-03-21T00:00:00\", \"2021-04-05T00:00:00\", \"2021-04-08T00:00:00\", \"2021-04-19T00:00:00\", \"2021-05-05T00:00:00\", \"2021-05-14T00:00:00\", \"2021-05-19T00:00:00\", \"2021-05-24T00:00:00\", \"2021-05-26T00:00:00\", \"2021-06-09T00:00:00\", \"2021-06-17T00:00:00\", \"2021-06-30T00:00:00\", \"2021-07-07T00:00:00\", \"2021-07-14T00:00:00\", \"2021-07-21T00:00:00\", \"2021-07-28T00:00:00\", \"2021-07-31T00:00:00\", \"2021-08-01T00:00:00\", \"2021-08-03T00:00:00\", \"2021-08-06T00:00:00\", \"2021-08-12T00:00:00\", \"2021-08-13T00:00:00\", \"2021-08-17T00:00:00\", \"2021-08-18T00:00:00\", \"2021-08-21T00:00:00\", \"2021-08-23T00:00:00\", \"2021-08-25T00:00:00\", \"2021-08-26T00:00:00\", \"2021-09-01T00:00:00\"], \"xaxis\": \"x\", \"y\": [0.0, 0.0, 1.0, 1.0, 1.0, 3.0, 3.0, 4.0, 5.0, 7.0, 9.0, 11.0, 14.0, 29.0, 36.0, 36.0, 39.0, 40.0, 40.0, 47.0, 50.0, 53.0, 59.0, 60.0, 62.0, 63.0, 70.0, 71.0, 73.0], \"yaxis\": \"y\"}, {\"groupnorm\": \"percent\", \"hovertemplate\": \"Vacunado=SI<br>fecha_resultado_secuenciacion_genotipificacion=%{x}<br>value=%{y}<extra></extra>\", \"legendgroup\": \"SI\", \"line\": {\"color\": \"#EF553B\"}, \"mode\": \"lines\", \"name\": \"SI\", \"orientation\": \"v\", \"showlegend\": true, \"stackgroup\": \"1\", \"type\": \"scatter\", \"x\": [\"2021-03-21T00:00:00\", \"2021-04-05T00:00:00\", \"2021-04-08T00:00:00\", \"2021-04-19T00:00:00\", \"2021-05-05T00:00:00\", \"2021-05-14T00:00:00\", \"2021-05-19T00:00:00\", \"2021-05-24T00:00:00\", \"2021-05-26T00:00:00\", \"2021-06-09T00:00:00\", \"2021-06-17T00:00:00\", \"2021-06-30T00:00:00\", \"2021-07-07T00:00:00\", \"2021-07-14T00:00:00\", \"2021-07-21T00:00:00\", \"2021-07-28T00:00:00\", \"2021-07-31T00:00:00\", \"2021-08-01T00:00:00\", \"2021-08-03T00:00:00\", \"2021-08-06T00:00:00\", \"2021-08-12T00:00:00\", \"2021-08-13T00:00:00\", \"2021-08-17T00:00:00\", \"2021-08-18T00:00:00\", \"2021-08-21T00:00:00\", \"2021-08-23T00:00:00\", \"2021-08-25T00:00:00\", \"2021-08-26T00:00:00\", \"2021-09-01T00:00:00\"], \"xaxis\": \"x\", \"y\": [2.0, 4.0, 4.0, 8.0, 14.0, 22.0, 29.0, 29.0, 43.0, 52.0, 55.0, 61.0, 73.0, 87.0, 107.0, 109.0, 109.0, 109.0, 111.0, 115.0, 118.0, 121.0, 125.0, 130.0, 132.0, 139.0, 145.0, 150.0, 155.0], \"yaxis\": \"y\"}],                        {\"legend\": {\"title\": {\"text\": \"Vacunado\"}, \"tracegroupgap\": 0}, \"margin\": {\"t\": 60}, \"template\": {\"data\": {\"bar\": [{\"error_x\": {\"color\": \"rgb(36,36,36)\"}, \"error_y\": {\"color\": \"rgb(36,36,36)\"}, \"marker\": {\"line\": {\"color\": \"white\", \"width\": 0.5}}, \"type\": \"bar\"}], \"barpolar\": [{\"marker\": {\"line\": {\"color\": \"white\", \"width\": 0.5}}, \"type\": \"barpolar\"}], \"carpet\": [{\"aaxis\": {\"endlinecolor\": \"rgb(36,36,36)\", \"gridcolor\": \"white\", \"linecolor\": \"white\", \"minorgridcolor\": \"white\", \"startlinecolor\": \"rgb(36,36,36)\"}, \"baxis\": {\"endlinecolor\": \"rgb(36,36,36)\", \"gridcolor\": \"white\", \"linecolor\": \"white\", \"minorgridcolor\": \"white\", \"startlinecolor\": \"rgb(36,36,36)\"}, \"type\": \"carpet\"}], \"choropleth\": [{\"colorbar\": {\"outlinewidth\": 1, \"tickcolor\": \"rgb(36,36,36)\", \"ticks\": \"outside\"}, \"type\": \"choropleth\"}], \"contour\": [{\"colorbar\": {\"outlinewidth\": 1, \"tickcolor\": \"rgb(36,36,36)\", \"ticks\": \"outside\"}, \"colorscale\": [[0.0, \"#440154\"], [0.1111111111111111, \"#482878\"], [0.2222222222222222, \"#3e4989\"], [0.3333333333333333, \"#31688e\"], [0.4444444444444444, \"#26828e\"], [0.5555555555555556, \"#1f9e89\"], [0.6666666666666666, \"#35b779\"], [0.7777777777777778, \"#6ece58\"], [0.8888888888888888, \"#b5de2b\"], [1.0, \"#fde725\"]], \"type\": \"contour\"}], \"contourcarpet\": [{\"colorbar\": {\"outlinewidth\": 1, \"tickcolor\": \"rgb(36,36,36)\", \"ticks\": \"outside\"}, \"type\": \"contourcarpet\"}], \"heatmap\": [{\"colorbar\": {\"outlinewidth\": 1, \"tickcolor\": \"rgb(36,36,36)\", \"ticks\": \"outside\"}, \"colorscale\": [[0.0, \"#440154\"], [0.1111111111111111, \"#482878\"], [0.2222222222222222, \"#3e4989\"], [0.3333333333333333, \"#31688e\"], [0.4444444444444444, \"#26828e\"], [0.5555555555555556, \"#1f9e89\"], [0.6666666666666666, \"#35b779\"], [0.7777777777777778, \"#6ece58\"], [0.8888888888888888, \"#b5de2b\"], [1.0, \"#fde725\"]], \"type\": \"heatmap\"}], \"heatmapgl\": [{\"colorbar\": {\"outlinewidth\": 1, \"tickcolor\": \"rgb(36,36,36)\", \"ticks\": \"outside\"}, \"colorscale\": [[0.0, \"#440154\"], [0.1111111111111111, \"#482878\"], [0.2222222222222222, \"#3e4989\"], [0.3333333333333333, \"#31688e\"], [0.4444444444444444, \"#26828e\"], [0.5555555555555556, \"#1f9e89\"], [0.6666666666666666, \"#35b779\"], [0.7777777777777778, \"#6ece58\"], [0.8888888888888888, \"#b5de2b\"], [1.0, \"#fde725\"]], \"type\": \"heatmapgl\"}], \"histogram\": [{\"marker\": {\"line\": {\"color\": \"white\", \"width\": 0.6}}, \"type\": \"histogram\"}], \"histogram2d\": [{\"colorbar\": {\"outlinewidth\": 1, \"tickcolor\": \"rgb(36,36,36)\", \"ticks\": \"outside\"}, \"colorscale\": [[0.0, \"#440154\"], [0.1111111111111111, \"#482878\"], [0.2222222222222222, \"#3e4989\"], [0.3333333333333333, \"#31688e\"], [0.4444444444444444, \"#26828e\"], [0.5555555555555556, \"#1f9e89\"], [0.6666666666666666, \"#35b779\"], [0.7777777777777778, \"#6ece58\"], [0.8888888888888888, \"#b5de2b\"], [1.0, \"#fde725\"]], \"type\": \"histogram2d\"}], \"histogram2dcontour\": [{\"colorbar\": {\"outlinewidth\": 1, \"tickcolor\": \"rgb(36,36,36)\", \"ticks\": \"outside\"}, \"colorscale\": [[0.0, \"#440154\"], [0.1111111111111111, \"#482878\"], [0.2222222222222222, \"#3e4989\"], [0.3333333333333333, \"#31688e\"], [0.4444444444444444, \"#26828e\"], [0.5555555555555556, \"#1f9e89\"], [0.6666666666666666, \"#35b779\"], [0.7777777777777778, \"#6ece58\"], [0.8888888888888888, \"#b5de2b\"], [1.0, \"#fde725\"]], \"type\": \"histogram2dcontour\"}], \"mesh3d\": [{\"colorbar\": {\"outlinewidth\": 1, \"tickcolor\": \"rgb(36,36,36)\", \"ticks\": \"outside\"}, \"type\": \"mesh3d\"}], \"parcoords\": [{\"line\": {\"colorbar\": {\"outlinewidth\": 1, \"tickcolor\": \"rgb(36,36,36)\", \"ticks\": \"outside\"}}, \"type\": \"parcoords\"}], \"pie\": [{\"automargin\": true, \"type\": \"pie\"}], \"scatter\": [{\"marker\": {\"colorbar\": {\"outlinewidth\": 1, \"tickcolor\": \"rgb(36,36,36)\", \"ticks\": \"outside\"}}, \"type\": \"scatter\"}], \"scatter3d\": [{\"line\": {\"colorbar\": {\"outlinewidth\": 1, \"tickcolor\": \"rgb(36,36,36)\", \"ticks\": \"outside\"}}, \"marker\": {\"colorbar\": {\"outlinewidth\": 1, \"tickcolor\": \"rgb(36,36,36)\", \"ticks\": \"outside\"}}, \"type\": \"scatter3d\"}], \"scattercarpet\": [{\"marker\": {\"colorbar\": {\"outlinewidth\": 1, \"tickcolor\": \"rgb(36,36,36)\", \"ticks\": \"outside\"}}, \"type\": \"scattercarpet\"}], \"scattergeo\": [{\"marker\": {\"colorbar\": {\"outlinewidth\": 1, \"tickcolor\": \"rgb(36,36,36)\", \"ticks\": \"outside\"}}, \"type\": \"scattergeo\"}], \"scattergl\": [{\"marker\": {\"colorbar\": {\"outlinewidth\": 1, \"tickcolor\": \"rgb(36,36,36)\", \"ticks\": \"outside\"}}, \"type\": \"scattergl\"}], \"scattermapbox\": [{\"marker\": {\"colorbar\": {\"outlinewidth\": 1, \"tickcolor\": \"rgb(36,36,36)\", \"ticks\": \"outside\"}}, \"type\": \"scattermapbox\"}], \"scatterpolar\": [{\"marker\": {\"colorbar\": {\"outlinewidth\": 1, \"tickcolor\": \"rgb(36,36,36)\", \"ticks\": \"outside\"}}, \"type\": \"scatterpolar\"}], \"scatterpolargl\": [{\"marker\": {\"colorbar\": {\"outlinewidth\": 1, \"tickcolor\": \"rgb(36,36,36)\", \"ticks\": \"outside\"}}, \"type\": \"scatterpolargl\"}], \"scatterternary\": [{\"marker\": {\"colorbar\": {\"outlinewidth\": 1, \"tickcolor\": \"rgb(36,36,36)\", \"ticks\": \"outside\"}}, \"type\": \"scatterternary\"}], \"surface\": [{\"colorbar\": {\"outlinewidth\": 1, \"tickcolor\": \"rgb(36,36,36)\", \"ticks\": \"outside\"}, \"colorscale\": [[0.0, \"#440154\"], [0.1111111111111111, \"#482878\"], [0.2222222222222222, \"#3e4989\"], [0.3333333333333333, \"#31688e\"], [0.4444444444444444, \"#26828e\"], [0.5555555555555556, \"#1f9e89\"], [0.6666666666666666, \"#35b779\"], [0.7777777777777778, \"#6ece58\"], [0.8888888888888888, \"#b5de2b\"], [1.0, \"#fde725\"]], \"type\": \"surface\"}], \"table\": [{\"cells\": {\"fill\": {\"color\": \"rgb(237,237,237)\"}, \"line\": {\"color\": \"white\"}}, \"header\": {\"fill\": {\"color\": \"rgb(217,217,217)\"}, \"line\": {\"color\": \"white\"}}, \"type\": \"table\"}]}, \"layout\": {\"annotationdefaults\": {\"arrowhead\": 0, \"arrowwidth\": 1}, \"autotypenumbers\": \"strict\", \"coloraxis\": {\"colorbar\": {\"outlinewidth\": 1, \"tickcolor\": \"rgb(36,36,36)\", \"ticks\": \"outside\"}}, \"colorscale\": {\"diverging\": [[0.0, \"rgb(103,0,31)\"], [0.1, \"rgb(178,24,43)\"], [0.2, \"rgb(214,96,77)\"], [0.3, \"rgb(244,165,130)\"], [0.4, \"rgb(253,219,199)\"], [0.5, \"rgb(247,247,247)\"], [0.6, \"rgb(209,229,240)\"], [0.7, \"rgb(146,197,222)\"], [0.8, \"rgb(67,147,195)\"], [0.9, \"rgb(33,102,172)\"], [1.0, \"rgb(5,48,97)\"]], \"sequential\": [[0.0, \"#440154\"], [0.1111111111111111, \"#482878\"], [0.2222222222222222, \"#3e4989\"], [0.3333333333333333, \"#31688e\"], [0.4444444444444444, \"#26828e\"], [0.5555555555555556, \"#1f9e89\"], [0.6666666666666666, \"#35b779\"], [0.7777777777777778, \"#6ece58\"], [0.8888888888888888, \"#b5de2b\"], [1.0, \"#fde725\"]], \"sequentialminus\": [[0.0, \"#440154\"], [0.1111111111111111, \"#482878\"], [0.2222222222222222, \"#3e4989\"], [0.3333333333333333, \"#31688e\"], [0.4444444444444444, \"#26828e\"], [0.5555555555555556, \"#1f9e89\"], [0.6666666666666666, \"#35b779\"], [0.7777777777777778, \"#6ece58\"], [0.8888888888888888, \"#b5de2b\"], [1.0, \"#fde725\"]]}, \"colorway\": [\"#1F77B4\", \"#FF7F0E\", \"#2CA02C\", \"#D62728\", \"#9467BD\", \"#8C564B\", \"#E377C2\", \"#7F7F7F\", \"#BCBD22\", \"#17BECF\"], \"font\": {\"color\": \"rgb(36,36,36)\"}, \"geo\": {\"bgcolor\": \"white\", \"lakecolor\": \"white\", \"landcolor\": \"white\", \"showlakes\": true, \"showland\": true, \"subunitcolor\": \"white\"}, \"hoverlabel\": {\"align\": \"left\"}, \"hovermode\": \"closest\", \"mapbox\": {\"style\": \"light\"}, \"paper_bgcolor\": \"white\", \"plot_bgcolor\": \"white\", \"polar\": {\"angularaxis\": {\"gridcolor\": \"rgb(232,232,232)\", \"linecolor\": \"rgb(36,36,36)\", \"showgrid\": false, \"showline\": true, \"ticks\": \"outside\"}, \"bgcolor\": \"white\", \"radialaxis\": {\"gridcolor\": \"rgb(232,232,232)\", \"linecolor\": \"rgb(36,36,36)\", \"showgrid\": false, \"showline\": true, \"ticks\": \"outside\"}}, \"scene\": {\"xaxis\": {\"backgroundcolor\": \"white\", \"gridcolor\": \"rgb(232,232,232)\", \"gridwidth\": 2, \"linecolor\": \"rgb(36,36,36)\", \"showbackground\": true, \"showgrid\": false, \"showline\": true, \"ticks\": \"outside\", \"zeroline\": false, \"zerolinecolor\": \"rgb(36,36,36)\"}, \"yaxis\": {\"backgroundcolor\": \"white\", \"gridcolor\": \"rgb(232,232,232)\", \"gridwidth\": 2, \"linecolor\": \"rgb(36,36,36)\", \"showbackground\": true, \"showgrid\": false, \"showline\": true, \"ticks\": \"outside\", \"zeroline\": false, \"zerolinecolor\": \"rgb(36,36,36)\"}, \"zaxis\": {\"backgroundcolor\": \"white\", \"gridcolor\": \"rgb(232,232,232)\", \"gridwidth\": 2, \"linecolor\": \"rgb(36,36,36)\", \"showbackground\": true, \"showgrid\": false, \"showline\": true, \"ticks\": \"outside\", \"zeroline\": false, \"zerolinecolor\": \"rgb(36,36,36)\"}}, \"shapedefaults\": {\"fillcolor\": \"black\", \"line\": {\"width\": 0}, \"opacity\": 0.3}, \"ternary\": {\"aaxis\": {\"gridcolor\": \"rgb(232,232,232)\", \"linecolor\": \"rgb(36,36,36)\", \"showgrid\": false, \"showline\": true, \"ticks\": \"outside\"}, \"baxis\": {\"gridcolor\": \"rgb(232,232,232)\", \"linecolor\": \"rgb(36,36,36)\", \"showgrid\": false, \"showline\": true, \"ticks\": \"outside\"}, \"bgcolor\": \"white\", \"caxis\": {\"gridcolor\": \"rgb(232,232,232)\", \"linecolor\": \"rgb(36,36,36)\", \"showgrid\": false, \"showline\": true, \"ticks\": \"outside\"}}, \"title\": {\"x\": 0.05}, \"xaxis\": {\"automargin\": true, \"gridcolor\": \"rgb(232,232,232)\", \"linecolor\": \"rgb(36,36,36)\", \"showgrid\": false, \"showline\": true, \"ticks\": \"outside\", \"title\": {\"standoff\": 15}, \"zeroline\": false, \"zerolinecolor\": \"rgb(36,36,36)\"}, \"yaxis\": {\"automargin\": true, \"gridcolor\": \"rgb(232,232,232)\", \"linecolor\": \"rgb(36,36,36)\", \"showgrid\": false, \"showline\": true, \"ticks\": \"outside\", \"title\": {\"standoff\": 15}, \"zeroline\": false, \"zerolinecolor\": \"rgb(36,36,36)\"}}}, \"title\": {\"text\": \"Variantes detectadas en la Regi\\u00f3n de Ays\\u00e9n\"}, \"xaxis\": {\"anchor\": \"y\", \"domain\": [0.0, 1.0], \"title\": {\"text\": \"Fecha de resultado de Secuenciaci\\u00f3n o Genotipificaci\\u00f3n\"}}, \"yaxis\": {\"anchor\": \"x\", \"domain\": [0.0, 1.0], \"title\": {\"text\": \"% de casos identificados de variantes segun vacunaci\\u00f3n\"}}},                        {\"responsive\": true}                    ).then(function(){\n",
       "                            \n",
       "var gd = document.getElementById('6ea15b3a-4196-4e7a-99ff-3a5ff9276b10');\n",
       "var x = new MutationObserver(function (mutations, observer) {{\n",
       "        var display = window.getComputedStyle(gd).display;\n",
       "        if (!display || display === 'none') {{\n",
       "            console.log([gd, 'removed!']);\n",
       "            Plotly.purge(gd);\n",
       "            observer.disconnect();\n",
       "        }}\n",
       "}});\n",
       "\n",
       "// Listen for the removal of the full notebook cells\n",
       "var notebookContainer = gd.closest('#notebook-container');\n",
       "if (notebookContainer) {{\n",
       "    x.observe(notebookContainer, {childList: true});\n",
       "}}\n",
       "\n",
       "// Listen for the clearing of the current output cell\n",
       "var outputEl = gd.closest('.output');\n",
       "if (outputEl) {{\n",
       "    x.observe(outputEl, {childList: true});\n",
       "}}\n",
       "\n",
       "                        })                };                });            </script>        </div>"
      ]
     },
     "metadata": {},
     "output_type": "display_data"
    }
   ],
   "source": [
    "px.area(df_variantes_clean.groupby(['fecha_resultado_secuenciacion_genotipificacion', 'esquema_de_vacunacion_completo']).count()[['n_documento']].reset_index().pivot(\n",
    "    index='fecha_resultado_secuenciacion_genotipificacion',\n",
    "    columns='esquema_de_vacunacion_completo', \n",
    "    values=['n_documento']\n",
    ").fillna(0).cumsum()['n_documento'],\n",
    "          labels={'esquema_de_vacunacion_completo':'Vacunado'},\n",
    "        groupnorm='percent'\n",
    "       ).update_layout(\n",
    "    title= 'Variantes detectadas en la Región de Aysén',\n",
    "    yaxis_title='% de casos identificados de variantes segun vacunación',\n",
    "    xaxis_title='Fecha de resultado de Secuenciación o Genotipificación',\n",
    "    template='simple_white',   \n",
    ")"
   ]
  },
  {
   "cell_type": "code",
   "execution_count": null,
   "id": "6400ffae",
   "metadata": {},
   "outputs": [],
   "source": [
    "presentacion_clinica"
   ]
  },
  {
   "cell_type": "code",
   "execution_count": 233,
   "id": "e9d1934c",
   "metadata": {},
   "outputs": [
    {
     "data": {
      "application/vnd.plotly.v1+json": {
       "config": {
        "plotlyServerURL": "https://plot.ly"
       },
       "data": [
        {
         "groupnorm": "percent",
         "hovertemplate": "Sintomatotlogía=ASINTOMATICO<br>fecha_resultado_secuenciacion_genotipificacion=%{x}<br>value=%{y}<extra></extra>",
         "legendgroup": "ASINTOMATICO",
         "line": {
          "color": "#636efa"
         },
         "mode": "lines",
         "name": "ASINTOMATICO",
         "orientation": "v",
         "showlegend": true,
         "stackgroup": "1",
         "type": "scatter",
         "x": [
          "2021-03-21T00:00:00",
          "2021-04-05T00:00:00",
          "2021-04-08T00:00:00",
          "2021-04-19T00:00:00",
          "2021-05-05T00:00:00",
          "2021-05-14T00:00:00",
          "2021-05-19T00:00:00",
          "2021-05-24T00:00:00",
          "2021-05-26T00:00:00",
          "2021-06-09T00:00:00",
          "2021-06-17T00:00:00",
          "2021-06-30T00:00:00",
          "2021-07-07T00:00:00",
          "2021-07-14T00:00:00",
          "2021-07-21T00:00:00",
          "2021-07-28T00:00:00",
          "2021-07-31T00:00:00",
          "2021-08-01T00:00:00",
          "2021-08-03T00:00:00",
          "2021-08-06T00:00:00",
          "2021-08-12T00:00:00",
          "2021-08-13T00:00:00",
          "2021-08-17T00:00:00",
          "2021-08-18T00:00:00",
          "2021-08-21T00:00:00",
          "2021-08-23T00:00:00",
          "2021-08-25T00:00:00",
          "2021-08-26T00:00:00",
          "2021-09-01T00:00:00"
         ],
         "xaxis": "x",
         "y": [
          1,
          1,
          2,
          3,
          4,
          5,
          5,
          6,
          13,
          17,
          18,
          21,
          29,
          38,
          50,
          51,
          51,
          51,
          52,
          55,
          56,
          58,
          61,
          65,
          66,
          70,
          74,
          77,
          81
         ],
         "yaxis": "y"
        },
        {
         "groupnorm": "percent",
         "hovertemplate": "Sintomatotlogía=DESCONOCIDO<br>fecha_resultado_secuenciacion_genotipificacion=%{x}<br>value=%{y}<extra></extra>",
         "legendgroup": "DESCONOCIDO",
         "line": {
          "color": "#EF553B"
         },
         "mode": "lines",
         "name": "DESCONOCIDO",
         "orientation": "v",
         "showlegend": true,
         "stackgroup": "1",
         "type": "scatter",
         "x": [
          "2021-03-21T00:00:00",
          "2021-04-05T00:00:00",
          "2021-04-08T00:00:00",
          "2021-04-19T00:00:00",
          "2021-05-05T00:00:00",
          "2021-05-14T00:00:00",
          "2021-05-19T00:00:00",
          "2021-05-24T00:00:00",
          "2021-05-26T00:00:00",
          "2021-06-09T00:00:00",
          "2021-06-17T00:00:00",
          "2021-06-30T00:00:00",
          "2021-07-07T00:00:00",
          "2021-07-14T00:00:00",
          "2021-07-21T00:00:00",
          "2021-07-28T00:00:00",
          "2021-07-31T00:00:00",
          "2021-08-01T00:00:00",
          "2021-08-03T00:00:00",
          "2021-08-06T00:00:00",
          "2021-08-12T00:00:00",
          "2021-08-13T00:00:00",
          "2021-08-17T00:00:00",
          "2021-08-18T00:00:00",
          "2021-08-21T00:00:00",
          "2021-08-23T00:00:00",
          "2021-08-25T00:00:00",
          "2021-08-26T00:00:00",
          "2021-09-01T00:00:00"
         ],
         "xaxis": "x",
         "y": [
          0,
          0,
          0,
          1,
          1,
          1,
          1,
          1,
          1,
          1,
          1,
          1,
          1,
          1,
          1,
          1,
          1,
          1,
          1,
          1,
          1,
          1,
          1,
          1,
          1,
          1,
          1,
          1,
          1
         ],
         "yaxis": "y"
        },
        {
         "groupnorm": "percent",
         "hovertemplate": "Sintomatotlogía=SINTOMATICO<br>fecha_resultado_secuenciacion_genotipificacion=%{x}<br>value=%{y}<extra></extra>",
         "legendgroup": "SINTOMATICO",
         "line": {
          "color": "#00cc96"
         },
         "mode": "lines",
         "name": "SINTOMATICO",
         "orientation": "v",
         "showlegend": true,
         "stackgroup": "1",
         "type": "scatter",
         "x": [
          "2021-03-21T00:00:00",
          "2021-04-05T00:00:00",
          "2021-04-08T00:00:00",
          "2021-04-19T00:00:00",
          "2021-05-05T00:00:00",
          "2021-05-14T00:00:00",
          "2021-05-19T00:00:00",
          "2021-05-24T00:00:00",
          "2021-05-26T00:00:00",
          "2021-06-09T00:00:00",
          "2021-06-17T00:00:00",
          "2021-06-30T00:00:00",
          "2021-07-07T00:00:00",
          "2021-07-14T00:00:00",
          "2021-07-21T00:00:00",
          "2021-07-28T00:00:00",
          "2021-07-31T00:00:00",
          "2021-08-01T00:00:00",
          "2021-08-03T00:00:00",
          "2021-08-06T00:00:00",
          "2021-08-12T00:00:00",
          "2021-08-13T00:00:00",
          "2021-08-17T00:00:00",
          "2021-08-18T00:00:00",
          "2021-08-21T00:00:00",
          "2021-08-23T00:00:00",
          "2021-08-25T00:00:00",
          "2021-08-26T00:00:00",
          "2021-09-01T00:00:00"
         ],
         "xaxis": "x",
         "y": [
          1,
          3,
          3,
          5,
          10,
          19,
          26,
          26,
          34,
          41,
          45,
          50,
          57,
          77,
          92,
          93,
          96,
          97,
          98,
          106,
          111,
          115,
          122,
          124,
          127,
          131,
          140,
          143,
          146
         ],
         "yaxis": "y"
        }
       ],
       "layout": {
        "legend": {
         "title": {
          "text": "Sintomatotlogía"
         },
         "tracegroupgap": 0
        },
        "margin": {
         "t": 60
        },
        "template": {
         "data": {
          "bar": [
           {
            "error_x": {
             "color": "rgb(36,36,36)"
            },
            "error_y": {
             "color": "rgb(36,36,36)"
            },
            "marker": {
             "line": {
              "color": "white",
              "width": 0.5
             }
            },
            "type": "bar"
           }
          ],
          "barpolar": [
           {
            "marker": {
             "line": {
              "color": "white",
              "width": 0.5
             }
            },
            "type": "barpolar"
           }
          ],
          "carpet": [
           {
            "aaxis": {
             "endlinecolor": "rgb(36,36,36)",
             "gridcolor": "white",
             "linecolor": "white",
             "minorgridcolor": "white",
             "startlinecolor": "rgb(36,36,36)"
            },
            "baxis": {
             "endlinecolor": "rgb(36,36,36)",
             "gridcolor": "white",
             "linecolor": "white",
             "minorgridcolor": "white",
             "startlinecolor": "rgb(36,36,36)"
            },
            "type": "carpet"
           }
          ],
          "choropleth": [
           {
            "colorbar": {
             "outlinewidth": 1,
             "tickcolor": "rgb(36,36,36)",
             "ticks": "outside"
            },
            "type": "choropleth"
           }
          ],
          "contour": [
           {
            "colorbar": {
             "outlinewidth": 1,
             "tickcolor": "rgb(36,36,36)",
             "ticks": "outside"
            },
            "colorscale": [
             [
              0,
              "#440154"
             ],
             [
              0.1111111111111111,
              "#482878"
             ],
             [
              0.2222222222222222,
              "#3e4989"
             ],
             [
              0.3333333333333333,
              "#31688e"
             ],
             [
              0.4444444444444444,
              "#26828e"
             ],
             [
              0.5555555555555556,
              "#1f9e89"
             ],
             [
              0.6666666666666666,
              "#35b779"
             ],
             [
              0.7777777777777778,
              "#6ece58"
             ],
             [
              0.8888888888888888,
              "#b5de2b"
             ],
             [
              1,
              "#fde725"
             ]
            ],
            "type": "contour"
           }
          ],
          "contourcarpet": [
           {
            "colorbar": {
             "outlinewidth": 1,
             "tickcolor": "rgb(36,36,36)",
             "ticks": "outside"
            },
            "type": "contourcarpet"
           }
          ],
          "heatmap": [
           {
            "colorbar": {
             "outlinewidth": 1,
             "tickcolor": "rgb(36,36,36)",
             "ticks": "outside"
            },
            "colorscale": [
             [
              0,
              "#440154"
             ],
             [
              0.1111111111111111,
              "#482878"
             ],
             [
              0.2222222222222222,
              "#3e4989"
             ],
             [
              0.3333333333333333,
              "#31688e"
             ],
             [
              0.4444444444444444,
              "#26828e"
             ],
             [
              0.5555555555555556,
              "#1f9e89"
             ],
             [
              0.6666666666666666,
              "#35b779"
             ],
             [
              0.7777777777777778,
              "#6ece58"
             ],
             [
              0.8888888888888888,
              "#b5de2b"
             ],
             [
              1,
              "#fde725"
             ]
            ],
            "type": "heatmap"
           }
          ],
          "heatmapgl": [
           {
            "colorbar": {
             "outlinewidth": 1,
             "tickcolor": "rgb(36,36,36)",
             "ticks": "outside"
            },
            "colorscale": [
             [
              0,
              "#440154"
             ],
             [
              0.1111111111111111,
              "#482878"
             ],
             [
              0.2222222222222222,
              "#3e4989"
             ],
             [
              0.3333333333333333,
              "#31688e"
             ],
             [
              0.4444444444444444,
              "#26828e"
             ],
             [
              0.5555555555555556,
              "#1f9e89"
             ],
             [
              0.6666666666666666,
              "#35b779"
             ],
             [
              0.7777777777777778,
              "#6ece58"
             ],
             [
              0.8888888888888888,
              "#b5de2b"
             ],
             [
              1,
              "#fde725"
             ]
            ],
            "type": "heatmapgl"
           }
          ],
          "histogram": [
           {
            "marker": {
             "line": {
              "color": "white",
              "width": 0.6
             }
            },
            "type": "histogram"
           }
          ],
          "histogram2d": [
           {
            "colorbar": {
             "outlinewidth": 1,
             "tickcolor": "rgb(36,36,36)",
             "ticks": "outside"
            },
            "colorscale": [
             [
              0,
              "#440154"
             ],
             [
              0.1111111111111111,
              "#482878"
             ],
             [
              0.2222222222222222,
              "#3e4989"
             ],
             [
              0.3333333333333333,
              "#31688e"
             ],
             [
              0.4444444444444444,
              "#26828e"
             ],
             [
              0.5555555555555556,
              "#1f9e89"
             ],
             [
              0.6666666666666666,
              "#35b779"
             ],
             [
              0.7777777777777778,
              "#6ece58"
             ],
             [
              0.8888888888888888,
              "#b5de2b"
             ],
             [
              1,
              "#fde725"
             ]
            ],
            "type": "histogram2d"
           }
          ],
          "histogram2dcontour": [
           {
            "colorbar": {
             "outlinewidth": 1,
             "tickcolor": "rgb(36,36,36)",
             "ticks": "outside"
            },
            "colorscale": [
             [
              0,
              "#440154"
             ],
             [
              0.1111111111111111,
              "#482878"
             ],
             [
              0.2222222222222222,
              "#3e4989"
             ],
             [
              0.3333333333333333,
              "#31688e"
             ],
             [
              0.4444444444444444,
              "#26828e"
             ],
             [
              0.5555555555555556,
              "#1f9e89"
             ],
             [
              0.6666666666666666,
              "#35b779"
             ],
             [
              0.7777777777777778,
              "#6ece58"
             ],
             [
              0.8888888888888888,
              "#b5de2b"
             ],
             [
              1,
              "#fde725"
             ]
            ],
            "type": "histogram2dcontour"
           }
          ],
          "mesh3d": [
           {
            "colorbar": {
             "outlinewidth": 1,
             "tickcolor": "rgb(36,36,36)",
             "ticks": "outside"
            },
            "type": "mesh3d"
           }
          ],
          "parcoords": [
           {
            "line": {
             "colorbar": {
              "outlinewidth": 1,
              "tickcolor": "rgb(36,36,36)",
              "ticks": "outside"
             }
            },
            "type": "parcoords"
           }
          ],
          "pie": [
           {
            "automargin": true,
            "type": "pie"
           }
          ],
          "scatter": [
           {
            "marker": {
             "colorbar": {
              "outlinewidth": 1,
              "tickcolor": "rgb(36,36,36)",
              "ticks": "outside"
             }
            },
            "type": "scatter"
           }
          ],
          "scatter3d": [
           {
            "line": {
             "colorbar": {
              "outlinewidth": 1,
              "tickcolor": "rgb(36,36,36)",
              "ticks": "outside"
             }
            },
            "marker": {
             "colorbar": {
              "outlinewidth": 1,
              "tickcolor": "rgb(36,36,36)",
              "ticks": "outside"
             }
            },
            "type": "scatter3d"
           }
          ],
          "scattercarpet": [
           {
            "marker": {
             "colorbar": {
              "outlinewidth": 1,
              "tickcolor": "rgb(36,36,36)",
              "ticks": "outside"
             }
            },
            "type": "scattercarpet"
           }
          ],
          "scattergeo": [
           {
            "marker": {
             "colorbar": {
              "outlinewidth": 1,
              "tickcolor": "rgb(36,36,36)",
              "ticks": "outside"
             }
            },
            "type": "scattergeo"
           }
          ],
          "scattergl": [
           {
            "marker": {
             "colorbar": {
              "outlinewidth": 1,
              "tickcolor": "rgb(36,36,36)",
              "ticks": "outside"
             }
            },
            "type": "scattergl"
           }
          ],
          "scattermapbox": [
           {
            "marker": {
             "colorbar": {
              "outlinewidth": 1,
              "tickcolor": "rgb(36,36,36)",
              "ticks": "outside"
             }
            },
            "type": "scattermapbox"
           }
          ],
          "scatterpolar": [
           {
            "marker": {
             "colorbar": {
              "outlinewidth": 1,
              "tickcolor": "rgb(36,36,36)",
              "ticks": "outside"
             }
            },
            "type": "scatterpolar"
           }
          ],
          "scatterpolargl": [
           {
            "marker": {
             "colorbar": {
              "outlinewidth": 1,
              "tickcolor": "rgb(36,36,36)",
              "ticks": "outside"
             }
            },
            "type": "scatterpolargl"
           }
          ],
          "scatterternary": [
           {
            "marker": {
             "colorbar": {
              "outlinewidth": 1,
              "tickcolor": "rgb(36,36,36)",
              "ticks": "outside"
             }
            },
            "type": "scatterternary"
           }
          ],
          "surface": [
           {
            "colorbar": {
             "outlinewidth": 1,
             "tickcolor": "rgb(36,36,36)",
             "ticks": "outside"
            },
            "colorscale": [
             [
              0,
              "#440154"
             ],
             [
              0.1111111111111111,
              "#482878"
             ],
             [
              0.2222222222222222,
              "#3e4989"
             ],
             [
              0.3333333333333333,
              "#31688e"
             ],
             [
              0.4444444444444444,
              "#26828e"
             ],
             [
              0.5555555555555556,
              "#1f9e89"
             ],
             [
              0.6666666666666666,
              "#35b779"
             ],
             [
              0.7777777777777778,
              "#6ece58"
             ],
             [
              0.8888888888888888,
              "#b5de2b"
             ],
             [
              1,
              "#fde725"
             ]
            ],
            "type": "surface"
           }
          ],
          "table": [
           {
            "cells": {
             "fill": {
              "color": "rgb(237,237,237)"
             },
             "line": {
              "color": "white"
             }
            },
            "header": {
             "fill": {
              "color": "rgb(217,217,217)"
             },
             "line": {
              "color": "white"
             }
            },
            "type": "table"
           }
          ]
         },
         "layout": {
          "annotationdefaults": {
           "arrowhead": 0,
           "arrowwidth": 1
          },
          "autotypenumbers": "strict",
          "coloraxis": {
           "colorbar": {
            "outlinewidth": 1,
            "tickcolor": "rgb(36,36,36)",
            "ticks": "outside"
           }
          },
          "colorscale": {
           "diverging": [
            [
             0,
             "rgb(103,0,31)"
            ],
            [
             0.1,
             "rgb(178,24,43)"
            ],
            [
             0.2,
             "rgb(214,96,77)"
            ],
            [
             0.3,
             "rgb(244,165,130)"
            ],
            [
             0.4,
             "rgb(253,219,199)"
            ],
            [
             0.5,
             "rgb(247,247,247)"
            ],
            [
             0.6,
             "rgb(209,229,240)"
            ],
            [
             0.7,
             "rgb(146,197,222)"
            ],
            [
             0.8,
             "rgb(67,147,195)"
            ],
            [
             0.9,
             "rgb(33,102,172)"
            ],
            [
             1,
             "rgb(5,48,97)"
            ]
           ],
           "sequential": [
            [
             0,
             "#440154"
            ],
            [
             0.1111111111111111,
             "#482878"
            ],
            [
             0.2222222222222222,
             "#3e4989"
            ],
            [
             0.3333333333333333,
             "#31688e"
            ],
            [
             0.4444444444444444,
             "#26828e"
            ],
            [
             0.5555555555555556,
             "#1f9e89"
            ],
            [
             0.6666666666666666,
             "#35b779"
            ],
            [
             0.7777777777777778,
             "#6ece58"
            ],
            [
             0.8888888888888888,
             "#b5de2b"
            ],
            [
             1,
             "#fde725"
            ]
           ],
           "sequentialminus": [
            [
             0,
             "#440154"
            ],
            [
             0.1111111111111111,
             "#482878"
            ],
            [
             0.2222222222222222,
             "#3e4989"
            ],
            [
             0.3333333333333333,
             "#31688e"
            ],
            [
             0.4444444444444444,
             "#26828e"
            ],
            [
             0.5555555555555556,
             "#1f9e89"
            ],
            [
             0.6666666666666666,
             "#35b779"
            ],
            [
             0.7777777777777778,
             "#6ece58"
            ],
            [
             0.8888888888888888,
             "#b5de2b"
            ],
            [
             1,
             "#fde725"
            ]
           ]
          },
          "colorway": [
           "#1F77B4",
           "#FF7F0E",
           "#2CA02C",
           "#D62728",
           "#9467BD",
           "#8C564B",
           "#E377C2",
           "#7F7F7F",
           "#BCBD22",
           "#17BECF"
          ],
          "font": {
           "color": "rgb(36,36,36)"
          },
          "geo": {
           "bgcolor": "white",
           "lakecolor": "white",
           "landcolor": "white",
           "showlakes": true,
           "showland": true,
           "subunitcolor": "white"
          },
          "hoverlabel": {
           "align": "left"
          },
          "hovermode": "closest",
          "mapbox": {
           "style": "light"
          },
          "paper_bgcolor": "white",
          "plot_bgcolor": "white",
          "polar": {
           "angularaxis": {
            "gridcolor": "rgb(232,232,232)",
            "linecolor": "rgb(36,36,36)",
            "showgrid": false,
            "showline": true,
            "ticks": "outside"
           },
           "bgcolor": "white",
           "radialaxis": {
            "gridcolor": "rgb(232,232,232)",
            "linecolor": "rgb(36,36,36)",
            "showgrid": false,
            "showline": true,
            "ticks": "outside"
           }
          },
          "scene": {
           "xaxis": {
            "backgroundcolor": "white",
            "gridcolor": "rgb(232,232,232)",
            "gridwidth": 2,
            "linecolor": "rgb(36,36,36)",
            "showbackground": true,
            "showgrid": false,
            "showline": true,
            "ticks": "outside",
            "zeroline": false,
            "zerolinecolor": "rgb(36,36,36)"
           },
           "yaxis": {
            "backgroundcolor": "white",
            "gridcolor": "rgb(232,232,232)",
            "gridwidth": 2,
            "linecolor": "rgb(36,36,36)",
            "showbackground": true,
            "showgrid": false,
            "showline": true,
            "ticks": "outside",
            "zeroline": false,
            "zerolinecolor": "rgb(36,36,36)"
           },
           "zaxis": {
            "backgroundcolor": "white",
            "gridcolor": "rgb(232,232,232)",
            "gridwidth": 2,
            "linecolor": "rgb(36,36,36)",
            "showbackground": true,
            "showgrid": false,
            "showline": true,
            "ticks": "outside",
            "zeroline": false,
            "zerolinecolor": "rgb(36,36,36)"
           }
          },
          "shapedefaults": {
           "fillcolor": "black",
           "line": {
            "width": 0
           },
           "opacity": 0.3
          },
          "ternary": {
           "aaxis": {
            "gridcolor": "rgb(232,232,232)",
            "linecolor": "rgb(36,36,36)",
            "showgrid": false,
            "showline": true,
            "ticks": "outside"
           },
           "baxis": {
            "gridcolor": "rgb(232,232,232)",
            "linecolor": "rgb(36,36,36)",
            "showgrid": false,
            "showline": true,
            "ticks": "outside"
           },
           "bgcolor": "white",
           "caxis": {
            "gridcolor": "rgb(232,232,232)",
            "linecolor": "rgb(36,36,36)",
            "showgrid": false,
            "showline": true,
            "ticks": "outside"
           }
          },
          "title": {
           "x": 0.05
          },
          "xaxis": {
           "automargin": true,
           "gridcolor": "rgb(232,232,232)",
           "linecolor": "rgb(36,36,36)",
           "showgrid": false,
           "showline": true,
           "ticks": "outside",
           "title": {
            "standoff": 15
           },
           "zeroline": false,
           "zerolinecolor": "rgb(36,36,36)"
          },
          "yaxis": {
           "automargin": true,
           "gridcolor": "rgb(232,232,232)",
           "linecolor": "rgb(36,36,36)",
           "showgrid": false,
           "showline": true,
           "ticks": "outside",
           "title": {
            "standoff": 15
           },
           "zeroline": false,
           "zerolinecolor": "rgb(36,36,36)"
          }
         }
        },
        "title": {
         "text": "Variantes detectadas en la Región de Aysén"
        },
        "xaxis": {
         "anchor": "y",
         "domain": [
          0,
          1
         ],
         "title": {
          "text": "Fecha de resultado de Secuenciación o Genotipificación"
         }
        },
        "yaxis": {
         "anchor": "x",
         "domain": [
          0,
          1
         ],
         "title": {
          "text": "% de casos identificados de variantes segun vacunación"
         }
        }
       }
      },
      "text/html": [
       "<div>                            <div id=\"3af62f0d-868e-4d95-a557-a78e1b1411bd\" class=\"plotly-graph-div\" style=\"height:525px; width:100%;\"></div>            <script type=\"text/javascript\">                require([\"plotly\"], function(Plotly) {                    window.PLOTLYENV=window.PLOTLYENV || {};                                    if (document.getElementById(\"3af62f0d-868e-4d95-a557-a78e1b1411bd\")) {                    Plotly.newPlot(                        \"3af62f0d-868e-4d95-a557-a78e1b1411bd\",                        [{\"groupnorm\": \"percent\", \"hovertemplate\": \"Sintomatotlog\\u00eda=ASINTOMATICO<br>fecha_resultado_secuenciacion_genotipificacion=%{x}<br>value=%{y}<extra></extra>\", \"legendgroup\": \"ASINTOMATICO\", \"line\": {\"color\": \"#636efa\"}, \"mode\": \"lines\", \"name\": \"ASINTOMATICO\", \"orientation\": \"v\", \"showlegend\": true, \"stackgroup\": \"1\", \"type\": \"scatter\", \"x\": [\"2021-03-21T00:00:00\", \"2021-04-05T00:00:00\", \"2021-04-08T00:00:00\", \"2021-04-19T00:00:00\", \"2021-05-05T00:00:00\", \"2021-05-14T00:00:00\", \"2021-05-19T00:00:00\", \"2021-05-24T00:00:00\", \"2021-05-26T00:00:00\", \"2021-06-09T00:00:00\", \"2021-06-17T00:00:00\", \"2021-06-30T00:00:00\", \"2021-07-07T00:00:00\", \"2021-07-14T00:00:00\", \"2021-07-21T00:00:00\", \"2021-07-28T00:00:00\", \"2021-07-31T00:00:00\", \"2021-08-01T00:00:00\", \"2021-08-03T00:00:00\", \"2021-08-06T00:00:00\", \"2021-08-12T00:00:00\", \"2021-08-13T00:00:00\", \"2021-08-17T00:00:00\", \"2021-08-18T00:00:00\", \"2021-08-21T00:00:00\", \"2021-08-23T00:00:00\", \"2021-08-25T00:00:00\", \"2021-08-26T00:00:00\", \"2021-09-01T00:00:00\"], \"xaxis\": \"x\", \"y\": [1.0, 1.0, 2.0, 3.0, 4.0, 5.0, 5.0, 6.0, 13.0, 17.0, 18.0, 21.0, 29.0, 38.0, 50.0, 51.0, 51.0, 51.0, 52.0, 55.0, 56.0, 58.0, 61.0, 65.0, 66.0, 70.0, 74.0, 77.0, 81.0], \"yaxis\": \"y\"}, {\"groupnorm\": \"percent\", \"hovertemplate\": \"Sintomatotlog\\u00eda=DESCONOCIDO<br>fecha_resultado_secuenciacion_genotipificacion=%{x}<br>value=%{y}<extra></extra>\", \"legendgroup\": \"DESCONOCIDO\", \"line\": {\"color\": \"#EF553B\"}, \"mode\": \"lines\", \"name\": \"DESCONOCIDO\", \"orientation\": \"v\", \"showlegend\": true, \"stackgroup\": \"1\", \"type\": \"scatter\", \"x\": [\"2021-03-21T00:00:00\", \"2021-04-05T00:00:00\", \"2021-04-08T00:00:00\", \"2021-04-19T00:00:00\", \"2021-05-05T00:00:00\", \"2021-05-14T00:00:00\", \"2021-05-19T00:00:00\", \"2021-05-24T00:00:00\", \"2021-05-26T00:00:00\", \"2021-06-09T00:00:00\", \"2021-06-17T00:00:00\", \"2021-06-30T00:00:00\", \"2021-07-07T00:00:00\", \"2021-07-14T00:00:00\", \"2021-07-21T00:00:00\", \"2021-07-28T00:00:00\", \"2021-07-31T00:00:00\", \"2021-08-01T00:00:00\", \"2021-08-03T00:00:00\", \"2021-08-06T00:00:00\", \"2021-08-12T00:00:00\", \"2021-08-13T00:00:00\", \"2021-08-17T00:00:00\", \"2021-08-18T00:00:00\", \"2021-08-21T00:00:00\", \"2021-08-23T00:00:00\", \"2021-08-25T00:00:00\", \"2021-08-26T00:00:00\", \"2021-09-01T00:00:00\"], \"xaxis\": \"x\", \"y\": [0.0, 0.0, 0.0, 1.0, 1.0, 1.0, 1.0, 1.0, 1.0, 1.0, 1.0, 1.0, 1.0, 1.0, 1.0, 1.0, 1.0, 1.0, 1.0, 1.0, 1.0, 1.0, 1.0, 1.0, 1.0, 1.0, 1.0, 1.0, 1.0], \"yaxis\": \"y\"}, {\"groupnorm\": \"percent\", \"hovertemplate\": \"Sintomatotlog\\u00eda=SINTOMATICO<br>fecha_resultado_secuenciacion_genotipificacion=%{x}<br>value=%{y}<extra></extra>\", \"legendgroup\": \"SINTOMATICO\", \"line\": {\"color\": \"#00cc96\"}, \"mode\": \"lines\", \"name\": \"SINTOMATICO\", \"orientation\": \"v\", \"showlegend\": true, \"stackgroup\": \"1\", \"type\": \"scatter\", \"x\": [\"2021-03-21T00:00:00\", \"2021-04-05T00:00:00\", \"2021-04-08T00:00:00\", \"2021-04-19T00:00:00\", \"2021-05-05T00:00:00\", \"2021-05-14T00:00:00\", \"2021-05-19T00:00:00\", \"2021-05-24T00:00:00\", \"2021-05-26T00:00:00\", \"2021-06-09T00:00:00\", \"2021-06-17T00:00:00\", \"2021-06-30T00:00:00\", \"2021-07-07T00:00:00\", \"2021-07-14T00:00:00\", \"2021-07-21T00:00:00\", \"2021-07-28T00:00:00\", \"2021-07-31T00:00:00\", \"2021-08-01T00:00:00\", \"2021-08-03T00:00:00\", \"2021-08-06T00:00:00\", \"2021-08-12T00:00:00\", \"2021-08-13T00:00:00\", \"2021-08-17T00:00:00\", \"2021-08-18T00:00:00\", \"2021-08-21T00:00:00\", \"2021-08-23T00:00:00\", \"2021-08-25T00:00:00\", \"2021-08-26T00:00:00\", \"2021-09-01T00:00:00\"], \"xaxis\": \"x\", \"y\": [1.0, 3.0, 3.0, 5.0, 10.0, 19.0, 26.0, 26.0, 34.0, 41.0, 45.0, 50.0, 57.0, 77.0, 92.0, 93.0, 96.0, 97.0, 98.0, 106.0, 111.0, 115.0, 122.0, 124.0, 127.0, 131.0, 140.0, 143.0, 146.0], \"yaxis\": \"y\"}],                        {\"legend\": {\"title\": {\"text\": \"Sintomatotlog\\u00eda\"}, \"tracegroupgap\": 0}, \"margin\": {\"t\": 60}, \"template\": {\"data\": {\"bar\": [{\"error_x\": {\"color\": \"rgb(36,36,36)\"}, \"error_y\": {\"color\": \"rgb(36,36,36)\"}, \"marker\": {\"line\": {\"color\": \"white\", \"width\": 0.5}}, \"type\": \"bar\"}], \"barpolar\": [{\"marker\": {\"line\": {\"color\": \"white\", \"width\": 0.5}}, \"type\": \"barpolar\"}], \"carpet\": [{\"aaxis\": {\"endlinecolor\": \"rgb(36,36,36)\", \"gridcolor\": \"white\", \"linecolor\": \"white\", \"minorgridcolor\": \"white\", \"startlinecolor\": \"rgb(36,36,36)\"}, \"baxis\": {\"endlinecolor\": \"rgb(36,36,36)\", \"gridcolor\": \"white\", \"linecolor\": \"white\", \"minorgridcolor\": \"white\", \"startlinecolor\": \"rgb(36,36,36)\"}, \"type\": \"carpet\"}], \"choropleth\": [{\"colorbar\": {\"outlinewidth\": 1, \"tickcolor\": \"rgb(36,36,36)\", \"ticks\": \"outside\"}, \"type\": \"choropleth\"}], \"contour\": [{\"colorbar\": {\"outlinewidth\": 1, \"tickcolor\": \"rgb(36,36,36)\", \"ticks\": \"outside\"}, \"colorscale\": [[0.0, \"#440154\"], [0.1111111111111111, \"#482878\"], [0.2222222222222222, \"#3e4989\"], [0.3333333333333333, \"#31688e\"], [0.4444444444444444, \"#26828e\"], [0.5555555555555556, \"#1f9e89\"], [0.6666666666666666, \"#35b779\"], [0.7777777777777778, \"#6ece58\"], [0.8888888888888888, \"#b5de2b\"], [1.0, \"#fde725\"]], \"type\": \"contour\"}], \"contourcarpet\": [{\"colorbar\": {\"outlinewidth\": 1, \"tickcolor\": \"rgb(36,36,36)\", \"ticks\": \"outside\"}, \"type\": \"contourcarpet\"}], \"heatmap\": [{\"colorbar\": {\"outlinewidth\": 1, \"tickcolor\": \"rgb(36,36,36)\", \"ticks\": \"outside\"}, \"colorscale\": [[0.0, \"#440154\"], [0.1111111111111111, \"#482878\"], [0.2222222222222222, \"#3e4989\"], [0.3333333333333333, \"#31688e\"], [0.4444444444444444, \"#26828e\"], [0.5555555555555556, \"#1f9e89\"], [0.6666666666666666, \"#35b779\"], [0.7777777777777778, \"#6ece58\"], [0.8888888888888888, \"#b5de2b\"], [1.0, \"#fde725\"]], \"type\": \"heatmap\"}], \"heatmapgl\": [{\"colorbar\": {\"outlinewidth\": 1, \"tickcolor\": \"rgb(36,36,36)\", \"ticks\": \"outside\"}, \"colorscale\": [[0.0, \"#440154\"], [0.1111111111111111, \"#482878\"], [0.2222222222222222, \"#3e4989\"], [0.3333333333333333, \"#31688e\"], [0.4444444444444444, \"#26828e\"], [0.5555555555555556, \"#1f9e89\"], [0.6666666666666666, \"#35b779\"], [0.7777777777777778, \"#6ece58\"], [0.8888888888888888, \"#b5de2b\"], [1.0, \"#fde725\"]], \"type\": \"heatmapgl\"}], \"histogram\": [{\"marker\": {\"line\": {\"color\": \"white\", \"width\": 0.6}}, \"type\": \"histogram\"}], \"histogram2d\": [{\"colorbar\": {\"outlinewidth\": 1, \"tickcolor\": \"rgb(36,36,36)\", \"ticks\": \"outside\"}, \"colorscale\": [[0.0, \"#440154\"], [0.1111111111111111, \"#482878\"], [0.2222222222222222, \"#3e4989\"], [0.3333333333333333, \"#31688e\"], [0.4444444444444444, \"#26828e\"], [0.5555555555555556, \"#1f9e89\"], [0.6666666666666666, \"#35b779\"], [0.7777777777777778, \"#6ece58\"], [0.8888888888888888, \"#b5de2b\"], [1.0, \"#fde725\"]], \"type\": \"histogram2d\"}], \"histogram2dcontour\": [{\"colorbar\": {\"outlinewidth\": 1, \"tickcolor\": \"rgb(36,36,36)\", \"ticks\": \"outside\"}, \"colorscale\": [[0.0, \"#440154\"], [0.1111111111111111, \"#482878\"], [0.2222222222222222, \"#3e4989\"], [0.3333333333333333, \"#31688e\"], [0.4444444444444444, \"#26828e\"], [0.5555555555555556, \"#1f9e89\"], [0.6666666666666666, \"#35b779\"], [0.7777777777777778, \"#6ece58\"], [0.8888888888888888, \"#b5de2b\"], [1.0, \"#fde725\"]], \"type\": \"histogram2dcontour\"}], \"mesh3d\": [{\"colorbar\": {\"outlinewidth\": 1, \"tickcolor\": \"rgb(36,36,36)\", \"ticks\": \"outside\"}, \"type\": \"mesh3d\"}], \"parcoords\": [{\"line\": {\"colorbar\": {\"outlinewidth\": 1, \"tickcolor\": \"rgb(36,36,36)\", \"ticks\": \"outside\"}}, \"type\": \"parcoords\"}], \"pie\": [{\"automargin\": true, \"type\": \"pie\"}], \"scatter\": [{\"marker\": {\"colorbar\": {\"outlinewidth\": 1, \"tickcolor\": \"rgb(36,36,36)\", \"ticks\": \"outside\"}}, \"type\": \"scatter\"}], \"scatter3d\": [{\"line\": {\"colorbar\": {\"outlinewidth\": 1, \"tickcolor\": \"rgb(36,36,36)\", \"ticks\": \"outside\"}}, \"marker\": {\"colorbar\": {\"outlinewidth\": 1, \"tickcolor\": \"rgb(36,36,36)\", \"ticks\": \"outside\"}}, \"type\": \"scatter3d\"}], \"scattercarpet\": [{\"marker\": {\"colorbar\": {\"outlinewidth\": 1, \"tickcolor\": \"rgb(36,36,36)\", \"ticks\": \"outside\"}}, \"type\": \"scattercarpet\"}], \"scattergeo\": [{\"marker\": {\"colorbar\": {\"outlinewidth\": 1, \"tickcolor\": \"rgb(36,36,36)\", \"ticks\": \"outside\"}}, \"type\": \"scattergeo\"}], \"scattergl\": [{\"marker\": {\"colorbar\": {\"outlinewidth\": 1, \"tickcolor\": \"rgb(36,36,36)\", \"ticks\": \"outside\"}}, \"type\": \"scattergl\"}], \"scattermapbox\": [{\"marker\": {\"colorbar\": {\"outlinewidth\": 1, \"tickcolor\": \"rgb(36,36,36)\", \"ticks\": \"outside\"}}, \"type\": \"scattermapbox\"}], \"scatterpolar\": [{\"marker\": {\"colorbar\": {\"outlinewidth\": 1, \"tickcolor\": \"rgb(36,36,36)\", \"ticks\": \"outside\"}}, \"type\": \"scatterpolar\"}], \"scatterpolargl\": [{\"marker\": {\"colorbar\": {\"outlinewidth\": 1, \"tickcolor\": \"rgb(36,36,36)\", \"ticks\": \"outside\"}}, \"type\": \"scatterpolargl\"}], \"scatterternary\": [{\"marker\": {\"colorbar\": {\"outlinewidth\": 1, \"tickcolor\": \"rgb(36,36,36)\", \"ticks\": \"outside\"}}, \"type\": \"scatterternary\"}], \"surface\": [{\"colorbar\": {\"outlinewidth\": 1, \"tickcolor\": \"rgb(36,36,36)\", \"ticks\": \"outside\"}, \"colorscale\": [[0.0, \"#440154\"], [0.1111111111111111, \"#482878\"], [0.2222222222222222, \"#3e4989\"], [0.3333333333333333, \"#31688e\"], [0.4444444444444444, \"#26828e\"], [0.5555555555555556, \"#1f9e89\"], [0.6666666666666666, \"#35b779\"], [0.7777777777777778, \"#6ece58\"], [0.8888888888888888, \"#b5de2b\"], [1.0, \"#fde725\"]], \"type\": \"surface\"}], \"table\": [{\"cells\": {\"fill\": {\"color\": \"rgb(237,237,237)\"}, \"line\": {\"color\": \"white\"}}, \"header\": {\"fill\": {\"color\": \"rgb(217,217,217)\"}, \"line\": {\"color\": \"white\"}}, \"type\": \"table\"}]}, \"layout\": {\"annotationdefaults\": {\"arrowhead\": 0, \"arrowwidth\": 1}, \"autotypenumbers\": \"strict\", \"coloraxis\": {\"colorbar\": {\"outlinewidth\": 1, \"tickcolor\": \"rgb(36,36,36)\", \"ticks\": \"outside\"}}, \"colorscale\": {\"diverging\": [[0.0, \"rgb(103,0,31)\"], [0.1, \"rgb(178,24,43)\"], [0.2, \"rgb(214,96,77)\"], [0.3, \"rgb(244,165,130)\"], [0.4, \"rgb(253,219,199)\"], [0.5, \"rgb(247,247,247)\"], [0.6, \"rgb(209,229,240)\"], [0.7, \"rgb(146,197,222)\"], [0.8, \"rgb(67,147,195)\"], [0.9, \"rgb(33,102,172)\"], [1.0, \"rgb(5,48,97)\"]], \"sequential\": [[0.0, \"#440154\"], [0.1111111111111111, \"#482878\"], [0.2222222222222222, \"#3e4989\"], [0.3333333333333333, \"#31688e\"], [0.4444444444444444, \"#26828e\"], [0.5555555555555556, \"#1f9e89\"], [0.6666666666666666, \"#35b779\"], [0.7777777777777778, \"#6ece58\"], [0.8888888888888888, \"#b5de2b\"], [1.0, \"#fde725\"]], \"sequentialminus\": [[0.0, \"#440154\"], [0.1111111111111111, \"#482878\"], [0.2222222222222222, \"#3e4989\"], [0.3333333333333333, \"#31688e\"], [0.4444444444444444, \"#26828e\"], [0.5555555555555556, \"#1f9e89\"], [0.6666666666666666, \"#35b779\"], [0.7777777777777778, \"#6ece58\"], [0.8888888888888888, \"#b5de2b\"], [1.0, \"#fde725\"]]}, \"colorway\": [\"#1F77B4\", \"#FF7F0E\", \"#2CA02C\", \"#D62728\", \"#9467BD\", \"#8C564B\", \"#E377C2\", \"#7F7F7F\", \"#BCBD22\", \"#17BECF\"], \"font\": {\"color\": \"rgb(36,36,36)\"}, \"geo\": {\"bgcolor\": \"white\", \"lakecolor\": \"white\", \"landcolor\": \"white\", \"showlakes\": true, \"showland\": true, \"subunitcolor\": \"white\"}, \"hoverlabel\": {\"align\": \"left\"}, \"hovermode\": \"closest\", \"mapbox\": {\"style\": \"light\"}, \"paper_bgcolor\": \"white\", \"plot_bgcolor\": \"white\", \"polar\": {\"angularaxis\": {\"gridcolor\": \"rgb(232,232,232)\", \"linecolor\": \"rgb(36,36,36)\", \"showgrid\": false, \"showline\": true, \"ticks\": \"outside\"}, \"bgcolor\": \"white\", \"radialaxis\": {\"gridcolor\": \"rgb(232,232,232)\", \"linecolor\": \"rgb(36,36,36)\", \"showgrid\": false, \"showline\": true, \"ticks\": \"outside\"}}, \"scene\": {\"xaxis\": {\"backgroundcolor\": \"white\", \"gridcolor\": \"rgb(232,232,232)\", \"gridwidth\": 2, \"linecolor\": \"rgb(36,36,36)\", \"showbackground\": true, \"showgrid\": false, \"showline\": true, \"ticks\": \"outside\", \"zeroline\": false, \"zerolinecolor\": \"rgb(36,36,36)\"}, \"yaxis\": {\"backgroundcolor\": \"white\", \"gridcolor\": \"rgb(232,232,232)\", \"gridwidth\": 2, \"linecolor\": \"rgb(36,36,36)\", \"showbackground\": true, \"showgrid\": false, \"showline\": true, \"ticks\": \"outside\", \"zeroline\": false, \"zerolinecolor\": \"rgb(36,36,36)\"}, \"zaxis\": {\"backgroundcolor\": \"white\", \"gridcolor\": \"rgb(232,232,232)\", \"gridwidth\": 2, \"linecolor\": \"rgb(36,36,36)\", \"showbackground\": true, \"showgrid\": false, \"showline\": true, \"ticks\": \"outside\", \"zeroline\": false, \"zerolinecolor\": \"rgb(36,36,36)\"}}, \"shapedefaults\": {\"fillcolor\": \"black\", \"line\": {\"width\": 0}, \"opacity\": 0.3}, \"ternary\": {\"aaxis\": {\"gridcolor\": \"rgb(232,232,232)\", \"linecolor\": \"rgb(36,36,36)\", \"showgrid\": false, \"showline\": true, \"ticks\": \"outside\"}, \"baxis\": {\"gridcolor\": \"rgb(232,232,232)\", \"linecolor\": \"rgb(36,36,36)\", \"showgrid\": false, \"showline\": true, \"ticks\": \"outside\"}, \"bgcolor\": \"white\", \"caxis\": {\"gridcolor\": \"rgb(232,232,232)\", \"linecolor\": \"rgb(36,36,36)\", \"showgrid\": false, \"showline\": true, \"ticks\": \"outside\"}}, \"title\": {\"x\": 0.05}, \"xaxis\": {\"automargin\": true, \"gridcolor\": \"rgb(232,232,232)\", \"linecolor\": \"rgb(36,36,36)\", \"showgrid\": false, \"showline\": true, \"ticks\": \"outside\", \"title\": {\"standoff\": 15}, \"zeroline\": false, \"zerolinecolor\": \"rgb(36,36,36)\"}, \"yaxis\": {\"automargin\": true, \"gridcolor\": \"rgb(232,232,232)\", \"linecolor\": \"rgb(36,36,36)\", \"showgrid\": false, \"showline\": true, \"ticks\": \"outside\", \"title\": {\"standoff\": 15}, \"zeroline\": false, \"zerolinecolor\": \"rgb(36,36,36)\"}}}, \"title\": {\"text\": \"Variantes detectadas en la Regi\\u00f3n de Ays\\u00e9n\"}, \"xaxis\": {\"anchor\": \"y\", \"domain\": [0.0, 1.0], \"title\": {\"text\": \"Fecha de resultado de Secuenciaci\\u00f3n o Genotipificaci\\u00f3n\"}}, \"yaxis\": {\"anchor\": \"x\", \"domain\": [0.0, 1.0], \"title\": {\"text\": \"% de casos identificados de variantes segun vacunaci\\u00f3n\"}}},                        {\"responsive\": true}                    ).then(function(){\n",
       "                            \n",
       "var gd = document.getElementById('3af62f0d-868e-4d95-a557-a78e1b1411bd');\n",
       "var x = new MutationObserver(function (mutations, observer) {{\n",
       "        var display = window.getComputedStyle(gd).display;\n",
       "        if (!display || display === 'none') {{\n",
       "            console.log([gd, 'removed!']);\n",
       "            Plotly.purge(gd);\n",
       "            observer.disconnect();\n",
       "        }}\n",
       "}});\n",
       "\n",
       "// Listen for the removal of the full notebook cells\n",
       "var notebookContainer = gd.closest('#notebook-container');\n",
       "if (notebookContainer) {{\n",
       "    x.observe(notebookContainer, {childList: true});\n",
       "}}\n",
       "\n",
       "// Listen for the clearing of the current output cell\n",
       "var outputEl = gd.closest('.output');\n",
       "if (outputEl) {{\n",
       "    x.observe(outputEl, {childList: true});\n",
       "}}\n",
       "\n",
       "                        })                };                });            </script>        </div>"
      ]
     },
     "metadata": {},
     "output_type": "display_data"
    }
   ],
   "source": [
    "px.area(df_variantes_clean.groupby(['fecha_resultado_secuenciacion_genotipificacion', 'presentacion_clinica']).count()[['n_documento']].reset_index().pivot(\n",
    "    index='fecha_resultado_secuenciacion_genotipificacion',\n",
    "    columns='presentacion_clinica', \n",
    "    values=['n_documento']\n",
    ").fillna(0).cumsum()['n_documento'],\n",
    "          labels={'presentacion_clinica':'Sintomatotlogía'},\n",
    "        groupnorm='percent'\n",
    "       ).update_layout(\n",
    "    title= 'Variantes detectadas en la Región de Aysén',\n",
    "    yaxis_title='% de casos identificados de variantes segun vacunación',\n",
    "    xaxis_title='Fecha de resultado de Secuenciación o Genotipificación',\n",
    "    template='simple_white',   \n",
    ")"
   ]
  }
 ],
 "metadata": {
  "kernelspec": {
   "display_name": "Python 3",
   "language": "python",
   "name": "python3"
  },
  "language_info": {
   "codemirror_mode": {
    "name": "ipython",
    "version": 3
   },
   "file_extension": ".py",
   "mimetype": "text/x-python",
   "name": "python",
   "nbconvert_exporter": "python",
   "pygments_lexer": "ipython3",
   "version": "3.8.10"
  }
 },
 "nbformat": 4,
 "nbformat_minor": 5
}
