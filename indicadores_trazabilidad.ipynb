{
 "cells": [
  {
   "cell_type": "markdown",
   "id": "b4ba2eeb",
   "metadata": {},
   "source": [
    "# Indicadores de Trazabilidad \n",
    "\n"
   ]
  },
  {
   "cell_type": "markdown",
   "id": "a3c94b84",
   "metadata": {},
   "source": [
    "## Importación de datos, librerias"
   ]
  },
  {
   "cell_type": "code",
   "execution_count": 1,
   "id": "0f4dda4f",
   "metadata": {},
   "outputs": [],
   "source": [
    "# Importa librerias necesarias para el análisis\n",
    "\n",
    "import pandas as pd\n",
    "import numpy as np\n",
    "import plotly.express as px"
   ]
  },
  {
   "cell_type": "code",
   "execution_count": 2,
   "id": "eb144bfe",
   "metadata": {
    "scrolled": true
   },
   "outputs": [
    {
     "data": {
      "text/html": [
       "<div>\n",
       "<style scoped>\n",
       "    .dataframe tbody tr th:only-of-type {\n",
       "        vertical-align: middle;\n",
       "    }\n",
       "\n",
       "    .dataframe tbody tr th {\n",
       "        vertical-align: top;\n",
       "    }\n",
       "\n",
       "    .dataframe thead th {\n",
       "        text-align: right;\n",
       "    }\n",
       "</style>\n",
       "<table border=\"1\" class=\"dataframe\">\n",
       "  <thead>\n",
       "    <tr style=\"text-align: right;\">\n",
       "      <th></th>\n",
       "      <th>Unnamed: 0</th>\n",
       "      <th>orden</th>\n",
       "      <th>nombre_region</th>\n",
       "      <th>codigo_region</th>\n",
       "      <th>nombre_provincia</th>\n",
       "      <th>codigo_provincia</th>\n",
       "      <th>nombre_comuna</th>\n",
       "      <th>codigo_comuna</th>\n",
       "      <th>edad_hombres</th>\n",
       "      <th>edad_mujeres</th>\n",
       "      <th>total</th>\n",
       "    </tr>\n",
       "  </thead>\n",
       "  <tbody>\n",
       "    <tr>\n",
       "      <th>0</th>\n",
       "      <td>0</td>\n",
       "      <td>7172</td>\n",
       "      <td>Región de Aysén del General Carlos Ibáñez del ...</td>\n",
       "      <td>11</td>\n",
       "      <td>Coyhaique</td>\n",
       "      <td>111</td>\n",
       "      <td>Coyhaique</td>\n",
       "      <td>11101</td>\n",
       "      <td>28763</td>\n",
       "      <td>29055</td>\n",
       "      <td>57818</td>\n",
       "    </tr>\n",
       "    <tr>\n",
       "      <th>1</th>\n",
       "      <td>1</td>\n",
       "      <td>7194</td>\n",
       "      <td>Región de Aysén del General Carlos Ibáñez del ...</td>\n",
       "      <td>11</td>\n",
       "      <td>Coyhaique</td>\n",
       "      <td>111</td>\n",
       "      <td>Lago Verde</td>\n",
       "      <td>11102</td>\n",
       "      <td>494</td>\n",
       "      <td>358</td>\n",
       "      <td>852</td>\n",
       "    </tr>\n",
       "  </tbody>\n",
       "</table>\n",
       "</div>"
      ],
      "text/plain": [
       "   Unnamed: 0  orden                                      nombre_region  \\\n",
       "0           0   7172  Región de Aysén del General Carlos Ibáñez del ...   \n",
       "1           1   7194  Región de Aysén del General Carlos Ibáñez del ...   \n",
       "\n",
       "   codigo_region nombre_provincia  codigo_provincia nombre_comuna  \\\n",
       "0             11        Coyhaique               111     Coyhaique   \n",
       "1             11        Coyhaique               111    Lago Verde   \n",
       "\n",
       "   codigo_comuna  edad_hombres  edad_mujeres  total  \n",
       "0          11101         28763         29055  57818  \n",
       "1          11102           494           358    852  "
      ]
     },
     "execution_count": 2,
     "metadata": {},
     "output_type": "execute_result"
    }
   ],
   "source": [
    "# Importa datos de población regional y crea DF\n",
    "\n",
    "\n",
    "df_poblacion = pd.read_csv('data/aysen_population.csv') #Archivo ubicado dentro de la carpeta data\n",
    "\n",
    "df_poblacion.head(2)"
   ]
  },
  {
   "cell_type": "code",
   "execution_count": 3,
   "id": "d7395726",
   "metadata": {},
   "outputs": [
    {
     "data": {
      "text/html": [
       "<div>\n",
       "<style scoped>\n",
       "    .dataframe tbody tr th:only-of-type {\n",
       "        vertical-align: middle;\n",
       "    }\n",
       "\n",
       "    .dataframe tbody tr th {\n",
       "        vertical-align: top;\n",
       "    }\n",
       "\n",
       "    .dataframe thead th {\n",
       "        text-align: right;\n",
       "    }\n",
       "</style>\n",
       "<table border=\"1\" class=\"dataframe\">\n",
       "  <thead>\n",
       "    <tr style=\"text-align: right;\">\n",
       "      <th></th>\n",
       "      <th>establecimiento_salud</th>\n",
       "      <th>comuna_seremi_xi</th>\n",
       "      <th>provincia_seremi_xi</th>\n",
       "    </tr>\n",
       "  </thead>\n",
       "  <tbody>\n",
       "    <tr>\n",
       "      <th>0</th>\n",
       "      <td>Actividades gestionadas por la Dirección del S...</td>\n",
       "      <td>Coyhaique</td>\n",
       "      <td>Coyhaique</td>\n",
       "    </tr>\n",
       "    <tr>\n",
       "      <th>1</th>\n",
       "      <td>Centro Clínico Militar Coyhaique</td>\n",
       "      <td>Coyhaique</td>\n",
       "      <td>Coyhaique</td>\n",
       "    </tr>\n",
       "    <tr>\n",
       "      <th>2</th>\n",
       "      <td>Centro Comunitario de Salud Familiar  Villa Ma...</td>\n",
       "      <td>Aysen</td>\n",
       "      <td>Aysen</td>\n",
       "    </tr>\n",
       "    <tr>\n",
       "      <th>3</th>\n",
       "      <td>Centro Comunitario de Salud Familiar Alejandro...</td>\n",
       "      <td>Coyhaique</td>\n",
       "      <td>Coyhaique</td>\n",
       "    </tr>\n",
       "    <tr>\n",
       "      <th>4</th>\n",
       "      <td>Centro Comunitario de Salud Familiar Puerto Ch...</td>\n",
       "      <td>Aysen</td>\n",
       "      <td>Aysen</td>\n",
       "    </tr>\n",
       "  </tbody>\n",
       "</table>\n",
       "</div>"
      ],
      "text/plain": [
       "                               establecimiento_salud comuna_seremi_xi  \\\n",
       "0  Actividades gestionadas por la Dirección del S...        Coyhaique   \n",
       "1                   Centro Clínico Militar Coyhaique        Coyhaique   \n",
       "2  Centro Comunitario de Salud Familiar  Villa Ma...            Aysen   \n",
       "3  Centro Comunitario de Salud Familiar Alejandro...        Coyhaique   \n",
       "4  Centro Comunitario de Salud Familiar Puerto Ch...            Aysen   \n",
       "\n",
       "  provincia_seremi_xi  \n",
       "0           Coyhaique  \n",
       "1           Coyhaique  \n",
       "2               Aysen  \n",
       "3           Coyhaique  \n",
       "4               Aysen  "
      ]
     },
     "execution_count": 3,
     "metadata": {},
     "output_type": "execute_result"
    }
   ],
   "source": [
    "# Importa datos de comunas corregidas por establecimiento de salud\n",
    "\n",
    "df_establecimiento = pd.read_excel('data/establecimientos_salud_dict.xlsx') #Archivo ubicado dentro de la carpeta data\n",
    "\n",
    "\n",
    "df_establecimiento.head()"
   ]
  },
  {
   "cell_type": "code",
   "execution_count": 4,
   "id": "4b119b3a",
   "metadata": {},
   "outputs": [],
   "source": [
    "# Importa datos desde la base de datos recivida via FTP\n",
    "## PRIMERO: Guardar archivo dentro de la carpeta data\n",
    "## SEGUNDO: No cambiar nombre ni formato del archivo recibido\n",
    "## TERCERO: RECORDAR CAMBIAR FECHA EN EL ARCHIVO A IMPORTAR A CONTINUACION, i.e: 20210829 para este domingo 29 de Agosto 2021\n",
    "\n",
    "df =  pd.read_csv('data/20210831_Región de Aysén del General Carlos Ibáñez del Campo_notificaciones_0600.csv', \n",
    "                   sep=';', # CSV con separador ''~''\n",
    "                   low_memory=False\n",
    "                  )"
   ]
  },
  {
   "cell_type": "code",
   "execution_count": 5,
   "id": "54031874",
   "metadata": {},
   "outputs": [],
   "source": [
    "df_trazabilidad =  pd.read_csv('data/20210831_Región de Aysén del General Carlos Ibáñez del Campo_Seguimiento.csv', \n",
    "                   sep=';', # CSV con separador ''~''\n",
    "                   low_memory=False\n",
    "                  )"
   ]
  },
  {
   "cell_type": "markdown",
   "id": "8cfadf9e",
   "metadata": {},
   "source": [
    "##  limpieza y ordenamiento "
   ]
  },
  {
   "cell_type": "code",
   "execution_count": 6,
   "id": "05838c74",
   "metadata": {},
   "outputs": [],
   "source": [
    "# Une datos con diccionario comunal\n",
    "\n",
    "dff = df.merge(df_establecimiento, how='left')"
   ]
  },
  {
   "cell_type": "code",
   "execution_count": 7,
   "id": "fb8cd568",
   "metadata": {},
   "outputs": [],
   "source": [
    "# Integra datos poblacionales\n",
    "\n",
    "df_merged = dff.merge(df_poblacion.drop(columns= ['Unnamed: 0','orden','nombre_region', 'codigo_region', 'nombre_provincia','codigo_provincia']), left_on='comuna_seremi_xi', right_on='nombre_comuna', how='left' )"
   ]
  },
  {
   "cell_type": "code",
   "execution_count": 8,
   "id": "91c07de6",
   "metadata": {},
   "outputs": [
    {
     "data": {
      "text/html": [
       "<div>\n",
       "<style scoped>\n",
       "    .dataframe tbody tr th:only-of-type {\n",
       "        vertical-align: middle;\n",
       "    }\n",
       "\n",
       "    .dataframe tbody tr th {\n",
       "        vertical-align: top;\n",
       "    }\n",
       "\n",
       "    .dataframe thead th {\n",
       "        text-align: right;\n",
       "    }\n",
       "</style>\n",
       "<table border=\"1\" class=\"dataframe\">\n",
       "  <thead>\n",
       "    <tr style=\"text-align: right;\">\n",
       "      <th></th>\n",
       "      <th>id_formulario_eno</th>\n",
       "      <th>numero_folio</th>\n",
       "      <th>id_enfermedad_eno</th>\n",
       "      <th>enfermedad_notificada</th>\n",
       "      <th>semana_epidemiologica</th>\n",
       "      <th>fecha_notificacion</th>\n",
       "      <th>etapa_clinica</th>\n",
       "      <th>establecimiento_salud</th>\n",
       "      <th>region</th>\n",
       "      <th>seremi</th>\n",
       "      <th>...</th>\n",
       "      <th>ningun_factor_riesgo</th>\n",
       "      <th>test_antigeno_sars_positivo</th>\n",
       "      <th>tac_torax_covid</th>\n",
       "      <th>comuna_seremi_xi</th>\n",
       "      <th>provincia_seremi_xi</th>\n",
       "      <th>nombre_comuna</th>\n",
       "      <th>codigo_comuna</th>\n",
       "      <th>edad_hombres</th>\n",
       "      <th>edad_mujeres</th>\n",
       "      <th>total</th>\n",
       "    </tr>\n",
       "  </thead>\n",
       "  <tbody>\n",
       "    <tr>\n",
       "      <th>0</th>\n",
       "      <td>100166</td>\n",
       "      <td>50166</td>\n",
       "      <td>50</td>\n",
       "      <td>Coronavirus (COVID-19)</td>\n",
       "      <td>11</td>\n",
       "      <td>2020-03-12</td>\n",
       "      <td>DESCARTADA</td>\n",
       "      <td>Hospital Regional (Coihaique)</td>\n",
       "      <td>Región de Aysén del General Carlos Ibáñez del ...</td>\n",
       "      <td>SEREMI De Aisén del General Carlos Ibañez del ...</td>\n",
       "      <td>...</td>\n",
       "      <td>NaN</td>\n",
       "      <td>NaN</td>\n",
       "      <td>NaN</td>\n",
       "      <td>Coyhaique</td>\n",
       "      <td>Coyhaique</td>\n",
       "      <td>Coyhaique</td>\n",
       "      <td>11101.0</td>\n",
       "      <td>28763.0</td>\n",
       "      <td>29055.0</td>\n",
       "      <td>57818.0</td>\n",
       "    </tr>\n",
       "  </tbody>\n",
       "</table>\n",
       "<p>1 rows × 280 columns</p>\n",
       "</div>"
      ],
      "text/plain": [
       "   id_formulario_eno  numero_folio  id_enfermedad_eno   enfermedad_notificada  \\\n",
       "0             100166         50166                 50  Coronavirus (COVID-19)   \n",
       "\n",
       "   semana_epidemiologica fecha_notificacion etapa_clinica  \\\n",
       "0                     11         2020-03-12    DESCARTADA   \n",
       "\n",
       "           establecimiento_salud  \\\n",
       "0  Hospital Regional (Coihaique)   \n",
       "\n",
       "                                              region  \\\n",
       "0  Región de Aysén del General Carlos Ibáñez del ...   \n",
       "\n",
       "                                              seremi  ...  \\\n",
       "0  SEREMI De Aisén del General Carlos Ibañez del ...  ...   \n",
       "\n",
       "  ningun_factor_riesgo test_antigeno_sars_positivo  tac_torax_covid  \\\n",
       "0                  NaN                         NaN              NaN   \n",
       "\n",
       "  comuna_seremi_xi provincia_seremi_xi nombre_comuna codigo_comuna  \\\n",
       "0        Coyhaique           Coyhaique     Coyhaique       11101.0   \n",
       "\n",
       "  edad_hombres edad_mujeres    total  \n",
       "0      28763.0      29055.0  57818.0  \n",
       "\n",
       "[1 rows x 280 columns]"
      ]
     },
     "execution_count": 8,
     "metadata": {},
     "output_type": "execute_result"
    }
   ],
   "source": [
    "# Filtra datos obtenidos solo para pacientes con residencia en la Región de Aysén\n",
    "\n",
    "data_aysen = df_merged[df_merged['region_residencia'] == 'Región de Aysén del General Carlos Ibáñez del Campo']\n",
    "\n",
    "data_aysen.head(1)"
   ]
  },
  {
   "cell_type": "code",
   "execution_count": 9,
   "id": "97973806",
   "metadata": {},
   "outputs": [
    {
     "data": {
      "text/html": [
       "<div>\n",
       "<style scoped>\n",
       "    .dataframe tbody tr th:only-of-type {\n",
       "        vertical-align: middle;\n",
       "    }\n",
       "\n",
       "    .dataframe tbody tr th {\n",
       "        vertical-align: top;\n",
       "    }\n",
       "\n",
       "    .dataframe thead th {\n",
       "        text-align: right;\n",
       "    }\n",
       "</style>\n",
       "<table border=\"1\" class=\"dataframe\">\n",
       "  <thead>\n",
       "    <tr style=\"text-align: right;\">\n",
       "      <th></th>\n",
       "      <th>id_formulario_eno</th>\n",
       "      <th>numero_folio</th>\n",
       "      <th>id_enfermedad_eno</th>\n",
       "      <th>enfermedad_notificada</th>\n",
       "      <th>semana_epidemiologica</th>\n",
       "      <th>fecha_notificacion</th>\n",
       "      <th>etapa_clinica</th>\n",
       "      <th>establecimiento_salud</th>\n",
       "      <th>region</th>\n",
       "      <th>seremi</th>\n",
       "      <th>...</th>\n",
       "      <th>ningun_factor_riesgo</th>\n",
       "      <th>test_antigeno_sars_positivo</th>\n",
       "      <th>tac_torax_covid</th>\n",
       "      <th>comuna_seremi_xi</th>\n",
       "      <th>provincia_seremi_xi</th>\n",
       "      <th>nombre_comuna</th>\n",
       "      <th>codigo_comuna</th>\n",
       "      <th>pop_hombres</th>\n",
       "      <th>pop_mujeres</th>\n",
       "      <th>pop_total</th>\n",
       "    </tr>\n",
       "  </thead>\n",
       "  <tbody>\n",
       "    <tr>\n",
       "      <th>1155</th>\n",
       "      <td>600834</td>\n",
       "      <td>550834</td>\n",
       "      <td>50</td>\n",
       "      <td>Coronavirus (COVID-19)</td>\n",
       "      <td>22</td>\n",
       "      <td>2020-05-29</td>\n",
       "      <td>DESCARTADA</td>\n",
       "      <td>Hospital de Puerto Aysén</td>\n",
       "      <td>Región de Aysén del General Carlos Ibáñez del ...</td>\n",
       "      <td>SEREMI De Aisén del General Carlos Ibañez del ...</td>\n",
       "      <td>...</td>\n",
       "      <td>f</td>\n",
       "      <td>NaN</td>\n",
       "      <td>NaN</td>\n",
       "      <td>Aysen</td>\n",
       "      <td>Aysen</td>\n",
       "      <td>Aysen</td>\n",
       "      <td>11201.0</td>\n",
       "      <td>12719.0</td>\n",
       "      <td>11240.0</td>\n",
       "      <td>23959.0</td>\n",
       "    </tr>\n",
       "  </tbody>\n",
       "</table>\n",
       "<p>1 rows × 280 columns</p>\n",
       "</div>"
      ],
      "text/plain": [
       "      id_formulario_eno  numero_folio  id_enfermedad_eno  \\\n",
       "1155             600834        550834                 50   \n",
       "\n",
       "       enfermedad_notificada  semana_epidemiologica fecha_notificacion  \\\n",
       "1155  Coronavirus (COVID-19)                     22         2020-05-29   \n",
       "\n",
       "     etapa_clinica     establecimiento_salud  \\\n",
       "1155    DESCARTADA  Hospital de Puerto Aysén   \n",
       "\n",
       "                                                 region  \\\n",
       "1155  Región de Aysén del General Carlos Ibáñez del ...   \n",
       "\n",
       "                                                 seremi  ...  \\\n",
       "1155  SEREMI De Aisén del General Carlos Ibañez del ...  ...   \n",
       "\n",
       "     ningun_factor_riesgo test_antigeno_sars_positivo  tac_torax_covid  \\\n",
       "1155                    f                         NaN              NaN   \n",
       "\n",
       "     comuna_seremi_xi provincia_seremi_xi nombre_comuna codigo_comuna  \\\n",
       "1155            Aysen               Aysen         Aysen       11201.0   \n",
       "\n",
       "     pop_hombres pop_mujeres pop_total  \n",
       "1155     12719.0     11240.0   23959.0  \n",
       "\n",
       "[1 rows x 280 columns]"
      ]
     },
     "execution_count": 9,
     "metadata": {},
     "output_type": "execute_result"
    }
   ],
   "source": [
    "data_aysen_filtered = data_aysen[(data_aysen['estado_caso']!='No validada')&(\n",
    "                          data_aysen['vigente_no_eliminado']=='t')&(\n",
    "                          data_aysen['seremi']=='SEREMI De Aisén del General Carlos Ibañez del Campo')\n",
    "                       ].rename(columns={'edad_hombres':'pop_hombres',\n",
    "                                         'edad_mujeres':'pop_mujeres',\n",
    "                                         'total':'pop_total'})\n",
    "\n",
    "data_aysen_filtered.sample(1)"
   ]
  },
  {
   "cell_type": "code",
   "execution_count": 10,
   "id": "b4dda4da",
   "metadata": {},
   "outputs": [],
   "source": [
    "# Transforma Fechas a formato DateTime \n",
    "\n",
    "data_aysen_filtered['fecha_notificacion'] = pd.to_datetime(data_aysen_filtered['fecha_notificacion'], errors = 'coerce') \n",
    "\n",
    "data_aysen_filtered['fecha_toma_muestra_1'] = pd.to_datetime(data_aysen_filtered['fecha_toma_muestra_1'], errors = 'coerce')\n",
    "\n",
    "data_aysen_filtered['fecha_toma_muestra_2'] = pd.to_datetime(data_aysen_filtered['fecha_toma_muestra_2'], errors = 'coerce')\n",
    "\n",
    "data_aysen_filtered['fecha_toma_muestra_3'] = pd.to_datetime(data_aysen_filtered['fecha_toma_muestra_3'], errors = 'coerce')\n",
    "\n",
    "data_aysen_filtered['fecha_resultado_pcr_1'] = pd.to_datetime(data_aysen_filtered['fecha_resultado_pcr_1'], errors = 'coerce')\n",
    "\n",
    "data_aysen_filtered['fecha_resultado_pcr_2'] = pd.to_datetime(data_aysen_filtered['fecha_resultado_pcr_2'], errors = 'coerce')\n",
    "\n",
    "data_aysen_filtered['fecha_resultado_pcr_3'] = pd.to_datetime(data_aysen_filtered['fecha_resultado_pcr_3'], errors = 'coerce')"
   ]
  },
  {
   "cell_type": "code",
   "execution_count": 11,
   "id": "06f2df22",
   "metadata": {},
   "outputs": [
    {
     "data": {
      "text/html": [
       "<div>\n",
       "<style scoped>\n",
       "    .dataframe tbody tr th:only-of-type {\n",
       "        vertical-align: middle;\n",
       "    }\n",
       "\n",
       "    .dataframe tbody tr th {\n",
       "        vertical-align: top;\n",
       "    }\n",
       "\n",
       "    .dataframe thead th {\n",
       "        text-align: right;\n",
       "    }\n",
       "</style>\n",
       "<table border=\"1\" class=\"dataframe\">\n",
       "  <thead>\n",
       "    <tr style=\"text-align: right;\">\n",
       "      <th></th>\n",
       "      <th>0</th>\n",
       "    </tr>\n",
       "  </thead>\n",
       "  <tbody>\n",
       "  </tbody>\n",
       "</table>\n",
       "</div>"
      ],
      "text/plain": [
       "Empty DataFrame\n",
       "Columns: [0]\n",
       "Index: []"
      ]
     },
     "execution_count": 11,
     "metadata": {},
     "output_type": "execute_result"
    }
   ],
   "source": [
    "# Muestra variables presente en DB en formato DF\n",
    "\n",
    "s=pd.DataFrame(data_aysen_filtered.columns)\n",
    "\n",
    "s[s[0]=='tipo_seguimiento']\n"
   ]
  },
  {
   "cell_type": "code",
   "execution_count": 12,
   "id": "24fe0014",
   "metadata": {},
   "outputs": [],
   "source": [
    "# Selecciona variables de importancia\n",
    "\n",
    "data_aysen_clean =  data_aysen_filtered[[\n",
    "                                'numero_folio',\n",
    "                                'comuna_residencia',\n",
    "                                'fecha_notificacion',\n",
    "                                'semana_epidemiologica',\n",
    "                                'etapa_clinica',\n",
    "                                'tipo_caso_busqueda',\n",
    "                                'establecimiento_salud',\n",
    "                                'resultado_pcr_1',\n",
    "                                'resultado_pcr_2',\n",
    "                                'resultado_pcr_3',\n",
    "                                'fecha_toma_muestra_1',\n",
    "                                'fecha_toma_muestra_2',\n",
    "                                'fecha_toma_muestra_3',\n",
    "                                'fecha_resultado_pcr_1',\n",
    "                                'fecha_resultado_pcr_2',\n",
    "                                'fecha_resultado_pcr_3',\n",
    "                                'estado_paciente',\n",
    "                                'lugar_reposo',\n",
    "                                'estado_caso',\n",
    "                                'presentacion_clinica',\n",
    "                                'contacto_caso_sospechoso',\n",
    "                                'motivo_examen',\n",
    "                                'hospitalizacion',\n",
    "                                'trabajador_salud',\n",
    "                                'caso_cerrado',\n",
    "                                'fecha_primeros_sintomas',\n",
    "                                'fecha_diagnostico',\n",
    "                                'comuna_seremi_xi',\n",
    "                                'provincia_seremi_xi',\n",
    "                                'pop_hombres',\n",
    "                                'pop_mujeres',\n",
    "                                'pop_total'\n",
    "                               ]]"
   ]
  },
  {
   "cell_type": "code",
   "execution_count": 13,
   "id": "6e15c859",
   "metadata": {},
   "outputs": [
    {
     "name": "stderr",
     "output_type": "stream",
     "text": [
      "<ipython-input-13-d2f259f8832e>:7: SettingWithCopyWarning: \n",
      "A value is trying to be set on a copy of a slice from a DataFrame.\n",
      "Try using .loc[row_indexer,col_indexer] = value instead\n",
      "\n",
      "See the caveats in the documentation: https://pandas.pydata.org/pandas-docs/stable/user_guide/indexing.html#returning-a-view-versus-a-copy\n",
      "  data_aysen_clean1['semana_epidemiologica_21'] = data_aysen_clean1['semana_epidemiologica']\n",
      "<ipython-input-13-d2f259f8832e>:8: SettingWithCopyWarning: \n",
      "A value is trying to be set on a copy of a slice from a DataFrame.\n",
      "Try using .loc[row_indexer,col_indexer] = value instead\n",
      "\n",
      "See the caveats in the documentation: https://pandas.pydata.org/pandas-docs/stable/user_guide/indexing.html#returning-a-view-versus-a-copy\n",
      "  data_aysen_clean2['semana_epidemiologica_21'] = data_aysen_clean2['semana_epidemiologica']+53\n"
     ]
    }
   ],
   "source": [
    "# Agrega 53 semanas a las semanas de 2021 y crea semana_epidemiologica_21\n",
    "\n",
    "data_aysen_clean1 = data_aysen_clean[data_aysen_clean['fecha_notificacion']<=pd.to_datetime('2021-01-02')]\n",
    "data_aysen_clean2 = data_aysen_clean[data_aysen_clean['fecha_notificacion']>=pd.to_datetime('2021-01-03')]\n",
    "\n",
    "\n",
    "data_aysen_clean1['semana_epidemiologica_21'] = data_aysen_clean1['semana_epidemiologica']\n",
    "data_aysen_clean2['semana_epidemiologica_21'] = data_aysen_clean2['semana_epidemiologica']+53\n",
    "\n",
    "data_aysen_clean_21 = data_aysen_clean1.append(data_aysen_clean2, ignore_index=True)\n"
   ]
  },
  {
   "cell_type": "code",
   "execution_count": 14,
   "id": "19c25cde",
   "metadata": {
    "scrolled": true
   },
   "outputs": [
    {
     "data": {
      "text/html": [
       "<div>\n",
       "<style scoped>\n",
       "    .dataframe tbody tr th:only-of-type {\n",
       "        vertical-align: middle;\n",
       "    }\n",
       "\n",
       "    .dataframe tbody tr th {\n",
       "        vertical-align: top;\n",
       "    }\n",
       "\n",
       "    .dataframe thead th {\n",
       "        text-align: right;\n",
       "    }\n",
       "</style>\n",
       "<table border=\"1\" class=\"dataframe\">\n",
       "  <thead>\n",
       "    <tr style=\"text-align: right;\">\n",
       "      <th></th>\n",
       "      <th>numero_folio</th>\n",
       "      <th>comuna_residencia</th>\n",
       "      <th>fecha_notificacion</th>\n",
       "      <th>semana_epidemiologica</th>\n",
       "      <th>etapa_clinica</th>\n",
       "      <th>tipo_caso_busqueda</th>\n",
       "      <th>establecimiento_salud</th>\n",
       "      <th>resultado_pcr_1</th>\n",
       "      <th>resultado_pcr_2</th>\n",
       "      <th>resultado_pcr_3</th>\n",
       "      <th>...</th>\n",
       "      <th>hospitalizacion</th>\n",
       "      <th>trabajador_salud</th>\n",
       "      <th>caso_cerrado</th>\n",
       "      <th>fecha_primeros_sintomas</th>\n",
       "      <th>fecha_diagnostico</th>\n",
       "      <th>comuna_seremi_xi</th>\n",
       "      <th>provincia_seremi_xi</th>\n",
       "      <th>pop_hombres</th>\n",
       "      <th>pop_mujeres</th>\n",
       "      <th>pop_total</th>\n",
       "    </tr>\n",
       "  </thead>\n",
       "  <tbody>\n",
       "    <tr>\n",
       "      <th>143095</th>\n",
       "      <td>14632517</td>\n",
       "      <td>Coyhaique</td>\n",
       "      <td>2021-07-06</td>\n",
       "      <td>27</td>\n",
       "      <td>DESCARTADA</td>\n",
       "      <td>Búsqueda activa</td>\n",
       "      <td>Actividades gestionadas por la Dirección del S...</td>\n",
       "      <td>NEGATIVO</td>\n",
       "      <td>NaN</td>\n",
       "      <td>NaN</td>\n",
       "      <td>...</td>\n",
       "      <td>NaN</td>\n",
       "      <td>DESCONOCIDO</td>\n",
       "      <td>f</td>\n",
       "      <td>NaN</td>\n",
       "      <td>2021-07-07</td>\n",
       "      <td>Coyhaique</td>\n",
       "      <td>Coyhaique</td>\n",
       "      <td>28763.0</td>\n",
       "      <td>29055.0</td>\n",
       "      <td>57818.0</td>\n",
       "    </tr>\n",
       "    <tr>\n",
       "      <th>108060</th>\n",
       "      <td>12090849</td>\n",
       "      <td>Aisén</td>\n",
       "      <td>2021-05-11</td>\n",
       "      <td>19</td>\n",
       "      <td>DESCARTADA</td>\n",
       "      <td>Atención médica</td>\n",
       "      <td>Hospital de Puerto Aysén</td>\n",
       "      <td>NEGATIVO</td>\n",
       "      <td>NaN</td>\n",
       "      <td>NaN</td>\n",
       "      <td>...</td>\n",
       "      <td>NaN</td>\n",
       "      <td>NO</td>\n",
       "      <td>f</td>\n",
       "      <td>2021-05-09</td>\n",
       "      <td>2021-05-11</td>\n",
       "      <td>Aysen</td>\n",
       "      <td>Aysen</td>\n",
       "      <td>12719.0</td>\n",
       "      <td>11240.0</td>\n",
       "      <td>23959.0</td>\n",
       "    </tr>\n",
       "    <tr>\n",
       "      <th>150270</th>\n",
       "      <td>15180826</td>\n",
       "      <td>Coyhaique</td>\n",
       "      <td>2021-07-21</td>\n",
       "      <td>29</td>\n",
       "      <td>DESCARTADA</td>\n",
       "      <td>Búsqueda activa</td>\n",
       "      <td>Consultorio Víctor Domingo Silva</td>\n",
       "      <td>NaN</td>\n",
       "      <td>NEGATIVO</td>\n",
       "      <td>NaN</td>\n",
       "      <td>...</td>\n",
       "      <td>NaN</td>\n",
       "      <td>NO</td>\n",
       "      <td>f</td>\n",
       "      <td>NaN</td>\n",
       "      <td>2021-07-22</td>\n",
       "      <td>Coyhaique</td>\n",
       "      <td>Coyhaique</td>\n",
       "      <td>28763.0</td>\n",
       "      <td>29055.0</td>\n",
       "      <td>57818.0</td>\n",
       "    </tr>\n",
       "    <tr>\n",
       "      <th>53519</th>\n",
       "      <td>7071215</td>\n",
       "      <td>Cisnes</td>\n",
       "      <td>2021-01-18</td>\n",
       "      <td>3</td>\n",
       "      <td>DESCARTADA</td>\n",
       "      <td>Búsqueda activa</td>\n",
       "      <td>Hospital Dr. Jorge Ibar (Cisnes)</td>\n",
       "      <td>NaN</td>\n",
       "      <td>NaN</td>\n",
       "      <td>NaN</td>\n",
       "      <td>...</td>\n",
       "      <td>NaN</td>\n",
       "      <td>NO</td>\n",
       "      <td>f</td>\n",
       "      <td>NaN</td>\n",
       "      <td>2021-01-19</td>\n",
       "      <td>Cisnes</td>\n",
       "      <td>Aysen</td>\n",
       "      <td>3922.0</td>\n",
       "      <td>2595.0</td>\n",
       "      <td>6517.0</td>\n",
       "    </tr>\n",
       "    <tr>\n",
       "      <th>11208</th>\n",
       "      <td>2770932</td>\n",
       "      <td>Coyhaique</td>\n",
       "      <td>2020-09-16</td>\n",
       "      <td>38</td>\n",
       "      <td>DESCARTADA</td>\n",
       "      <td>Búsqueda activa</td>\n",
       "      <td>Consultorio Alejandro Gutiérrez</td>\n",
       "      <td>NEGATIVO</td>\n",
       "      <td>NaN</td>\n",
       "      <td>NaN</td>\n",
       "      <td>...</td>\n",
       "      <td>NaN</td>\n",
       "      <td>NO</td>\n",
       "      <td>f</td>\n",
       "      <td>NaN</td>\n",
       "      <td>2020-09-18</td>\n",
       "      <td>Coyhaique</td>\n",
       "      <td>Coyhaique</td>\n",
       "      <td>28763.0</td>\n",
       "      <td>29055.0</td>\n",
       "      <td>57818.0</td>\n",
       "    </tr>\n",
       "    <tr>\n",
       "      <th>147934</th>\n",
       "      <td>14977594</td>\n",
       "      <td>Coyhaique</td>\n",
       "      <td>2021-07-15</td>\n",
       "      <td>28</td>\n",
       "      <td>DESCARTADA</td>\n",
       "      <td>Atención médica</td>\n",
       "      <td>Hospital Regional (Coihaique)</td>\n",
       "      <td>NaN</td>\n",
       "      <td>NaN</td>\n",
       "      <td>NaN</td>\n",
       "      <td>...</td>\n",
       "      <td>NaN</td>\n",
       "      <td>SI</td>\n",
       "      <td>f</td>\n",
       "      <td>NaN</td>\n",
       "      <td>2021-07-15</td>\n",
       "      <td>Coyhaique</td>\n",
       "      <td>Coyhaique</td>\n",
       "      <td>28763.0</td>\n",
       "      <td>29055.0</td>\n",
       "      <td>57818.0</td>\n",
       "    </tr>\n",
       "    <tr>\n",
       "      <th>117896</th>\n",
       "      <td>12763082</td>\n",
       "      <td>Coyhaique</td>\n",
       "      <td>2021-05-26</td>\n",
       "      <td>21</td>\n",
       "      <td>PROBABLE</td>\n",
       "      <td>Atención médica</td>\n",
       "      <td>Actividades gestionadas por la Dirección del S...</td>\n",
       "      <td>NEGATIVO</td>\n",
       "      <td>NaN</td>\n",
       "      <td>NaN</td>\n",
       "      <td>...</td>\n",
       "      <td>NaN</td>\n",
       "      <td>SI</td>\n",
       "      <td>f</td>\n",
       "      <td>2021-05-19</td>\n",
       "      <td>2021-05-26</td>\n",
       "      <td>Coyhaique</td>\n",
       "      <td>Coyhaique</td>\n",
       "      <td>28763.0</td>\n",
       "      <td>29055.0</td>\n",
       "      <td>57818.0</td>\n",
       "    </tr>\n",
       "    <tr>\n",
       "      <th>6938</th>\n",
       "      <td>2070977</td>\n",
       "      <td>Coyhaique</td>\n",
       "      <td>2020-08-23</td>\n",
       "      <td>35</td>\n",
       "      <td>DESCARTADA</td>\n",
       "      <td>Atención médica</td>\n",
       "      <td>Hospital Regional (Coihaique)</td>\n",
       "      <td>NaN</td>\n",
       "      <td>NaN</td>\n",
       "      <td>NaN</td>\n",
       "      <td>...</td>\n",
       "      <td>NaN</td>\n",
       "      <td>NaN</td>\n",
       "      <td>f</td>\n",
       "      <td>NaN</td>\n",
       "      <td>NaN</td>\n",
       "      <td>Coyhaique</td>\n",
       "      <td>Coyhaique</td>\n",
       "      <td>28763.0</td>\n",
       "      <td>29055.0</td>\n",
       "      <td>57818.0</td>\n",
       "    </tr>\n",
       "    <tr>\n",
       "      <th>85019</th>\n",
       "      <td>10039874</td>\n",
       "      <td>Coyhaique</td>\n",
       "      <td>2021-03-27</td>\n",
       "      <td>12</td>\n",
       "      <td>DESCARTADA</td>\n",
       "      <td>Atención médica</td>\n",
       "      <td>Hospital Regional (Coihaique)</td>\n",
       "      <td>NaN</td>\n",
       "      <td>NaN</td>\n",
       "      <td>NaN</td>\n",
       "      <td>...</td>\n",
       "      <td>NaN</td>\n",
       "      <td>NO</td>\n",
       "      <td>f</td>\n",
       "      <td>2021-03-26</td>\n",
       "      <td>2021-03-29</td>\n",
       "      <td>Coyhaique</td>\n",
       "      <td>Coyhaique</td>\n",
       "      <td>28763.0</td>\n",
       "      <td>29055.0</td>\n",
       "      <td>57818.0</td>\n",
       "    </tr>\n",
       "    <tr>\n",
       "      <th>60630</th>\n",
       "      <td>7699027</td>\n",
       "      <td>Coyhaique</td>\n",
       "      <td>2021-02-01</td>\n",
       "      <td>5</td>\n",
       "      <td>DESCARTADA</td>\n",
       "      <td>Atención médica</td>\n",
       "      <td>Hospital Regional (Coihaique)</td>\n",
       "      <td>NaN</td>\n",
       "      <td>NaN</td>\n",
       "      <td>NaN</td>\n",
       "      <td>...</td>\n",
       "      <td>NaN</td>\n",
       "      <td>DESCONOCIDO</td>\n",
       "      <td>f</td>\n",
       "      <td>NaN</td>\n",
       "      <td>2021-02-03</td>\n",
       "      <td>Coyhaique</td>\n",
       "      <td>Coyhaique</td>\n",
       "      <td>28763.0</td>\n",
       "      <td>29055.0</td>\n",
       "      <td>57818.0</td>\n",
       "    </tr>\n",
       "  </tbody>\n",
       "</table>\n",
       "<p>10 rows × 32 columns</p>\n",
       "</div>"
      ],
      "text/plain": [
       "        numero_folio comuna_residencia fecha_notificacion  \\\n",
       "143095      14632517         Coyhaique         2021-07-06   \n",
       "108060      12090849             Aisén         2021-05-11   \n",
       "150270      15180826         Coyhaique         2021-07-21   \n",
       "53519        7071215            Cisnes         2021-01-18   \n",
       "11208        2770932         Coyhaique         2020-09-16   \n",
       "147934      14977594         Coyhaique         2021-07-15   \n",
       "117896      12763082         Coyhaique         2021-05-26   \n",
       "6938         2070977         Coyhaique         2020-08-23   \n",
       "85019       10039874         Coyhaique         2021-03-27   \n",
       "60630        7699027         Coyhaique         2021-02-01   \n",
       "\n",
       "        semana_epidemiologica etapa_clinica tipo_caso_busqueda  \\\n",
       "143095                     27    DESCARTADA    Búsqueda activa   \n",
       "108060                     19    DESCARTADA    Atención médica   \n",
       "150270                     29    DESCARTADA    Búsqueda activa   \n",
       "53519                       3    DESCARTADA    Búsqueda activa   \n",
       "11208                      38    DESCARTADA    Búsqueda activa   \n",
       "147934                     28    DESCARTADA    Atención médica   \n",
       "117896                     21      PROBABLE    Atención médica   \n",
       "6938                       35    DESCARTADA    Atención médica   \n",
       "85019                      12    DESCARTADA    Atención médica   \n",
       "60630                       5    DESCARTADA    Atención médica   \n",
       "\n",
       "                                    establecimiento_salud resultado_pcr_1  \\\n",
       "143095  Actividades gestionadas por la Dirección del S...        NEGATIVO   \n",
       "108060                           Hospital de Puerto Aysén        NEGATIVO   \n",
       "150270                   Consultorio Víctor Domingo Silva             NaN   \n",
       "53519                    Hospital Dr. Jorge Ibar (Cisnes)             NaN   \n",
       "11208                     Consultorio Alejandro Gutiérrez        NEGATIVO   \n",
       "147934                      Hospital Regional (Coihaique)             NaN   \n",
       "117896  Actividades gestionadas por la Dirección del S...        NEGATIVO   \n",
       "6938                        Hospital Regional (Coihaique)             NaN   \n",
       "85019                       Hospital Regional (Coihaique)             NaN   \n",
       "60630                       Hospital Regional (Coihaique)             NaN   \n",
       "\n",
       "       resultado_pcr_2 resultado_pcr_3  ... hospitalizacion trabajador_salud  \\\n",
       "143095             NaN             NaN  ...             NaN      DESCONOCIDO   \n",
       "108060             NaN             NaN  ...             NaN               NO   \n",
       "150270        NEGATIVO             NaN  ...             NaN               NO   \n",
       "53519              NaN             NaN  ...             NaN               NO   \n",
       "11208              NaN             NaN  ...             NaN               NO   \n",
       "147934             NaN             NaN  ...             NaN               SI   \n",
       "117896             NaN             NaN  ...             NaN               SI   \n",
       "6938               NaN             NaN  ...             NaN              NaN   \n",
       "85019              NaN             NaN  ...             NaN               NO   \n",
       "60630              NaN             NaN  ...             NaN      DESCONOCIDO   \n",
       "\n",
       "       caso_cerrado fecha_primeros_sintomas fecha_diagnostico  \\\n",
       "143095            f                     NaN        2021-07-07   \n",
       "108060            f              2021-05-09        2021-05-11   \n",
       "150270            f                     NaN        2021-07-22   \n",
       "53519             f                     NaN        2021-01-19   \n",
       "11208             f                     NaN        2020-09-18   \n",
       "147934            f                     NaN        2021-07-15   \n",
       "117896            f              2021-05-19        2021-05-26   \n",
       "6938              f                     NaN               NaN   \n",
       "85019             f              2021-03-26        2021-03-29   \n",
       "60630             f                     NaN        2021-02-03   \n",
       "\n",
       "       comuna_seremi_xi provincia_seremi_xi pop_hombres pop_mujeres pop_total  \n",
       "143095        Coyhaique           Coyhaique     28763.0     29055.0   57818.0  \n",
       "108060            Aysen               Aysen     12719.0     11240.0   23959.0  \n",
       "150270        Coyhaique           Coyhaique     28763.0     29055.0   57818.0  \n",
       "53519            Cisnes               Aysen      3922.0      2595.0    6517.0  \n",
       "11208         Coyhaique           Coyhaique     28763.0     29055.0   57818.0  \n",
       "147934        Coyhaique           Coyhaique     28763.0     29055.0   57818.0  \n",
       "117896        Coyhaique           Coyhaique     28763.0     29055.0   57818.0  \n",
       "6938          Coyhaique           Coyhaique     28763.0     29055.0   57818.0  \n",
       "85019         Coyhaique           Coyhaique     28763.0     29055.0   57818.0  \n",
       "60630         Coyhaique           Coyhaique     28763.0     29055.0   57818.0  \n",
       "\n",
       "[10 rows x 32 columns]"
      ]
     },
     "execution_count": 14,
     "metadata": {},
     "output_type": "execute_result"
    }
   ],
   "source": [
    "data_aysen_clean.sample(10)"
   ]
  },
  {
   "cell_type": "code",
   "execution_count": 15,
   "id": "bbd88d1c",
   "metadata": {},
   "outputs": [],
   "source": [
    "df_seguimiento = pd.read_csv('data/20210831_Región de Aysén del General Carlos Ibáñez del Campo_Seguimiento.csv',\n",
    "                            sep=';',\n",
    "                             low_memory=False\n",
    "                            )"
   ]
  },
  {
   "cell_type": "code",
   "execution_count": 16,
   "id": "e07cf34f",
   "metadata": {},
   "outputs": [
    {
     "data": {
      "text/html": [
       "<div>\n",
       "<style scoped>\n",
       "    .dataframe tbody tr th:only-of-type {\n",
       "        vertical-align: middle;\n",
       "    }\n",
       "\n",
       "    .dataframe tbody tr th {\n",
       "        vertical-align: top;\n",
       "    }\n",
       "\n",
       "    .dataframe thead th {\n",
       "        text-align: right;\n",
       "    }\n",
       "</style>\n",
       "<table border=\"1\" class=\"dataframe\">\n",
       "  <thead>\n",
       "    <tr style=\"text-align: right;\">\n",
       "      <th></th>\n",
       "      <th>n_folio</th>\n",
       "      <th>tipo_seguimiento</th>\n",
       "      <th>dia_contacto</th>\n",
       "      <th>id_enfermedad_eno</th>\n",
       "      <th>enfermedad</th>\n",
       "      <th>fecha_notificacion</th>\n",
       "      <th>id_institucion</th>\n",
       "      <th>nombre_institucion_indice</th>\n",
       "      <th>region_institucion_indice</th>\n",
       "      <th>nombre_region_institucion_indice</th>\n",
       "      <th>...</th>\n",
       "      <th>folio_se_convierte_en_caso</th>\n",
       "      <th>cumple_aislamiento_cuarentena</th>\n",
       "      <th>ultimo_establecimiento_derivacion</th>\n",
       "      <th>nombre_ultimo_establecimiento_derivacion</th>\n",
       "      <th>ultimo_seremi_derivacion</th>\n",
       "      <th>región_derivación</th>\n",
       "      <th>región_seremi</th>\n",
       "      <th>región_notificacion</th>\n",
       "      <th>region_final</th>\n",
       "      <th>TTA</th>\n",
       "    </tr>\n",
       "  </thead>\n",
       "  <tbody>\n",
       "    <tr>\n",
       "      <th>0</th>\n",
       "      <td>SC14618693-18497788</td>\n",
       "      <td>contacto</td>\n",
       "      <td>2021-07-08</td>\n",
       "      <td>50</td>\n",
       "      <td>Coronavirus (COVID-19)</td>\n",
       "      <td>2021-07-05</td>\n",
       "      <td>13</td>\n",
       "      <td>Ejercicio libre de la profesión RM región</td>\n",
       "      <td>13</td>\n",
       "      <td>Región Metropolitana de Santiago</td>\n",
       "      <td>...</td>\n",
       "      <td>Sin Datos</td>\n",
       "      <td>t</td>\n",
       "      <td>Sin Datos</td>\n",
       "      <td>Sin Datos</td>\n",
       "      <td>Sin Datos</td>\n",
       "      <td>Sin Datos</td>\n",
       "      <td>Sin Datos</td>\n",
       "      <td>Sin Datos</td>\n",
       "      <td>Región de Aysén del General Carlos Ibáñez del ...</td>\n",
       "      <td>APS</td>\n",
       "    </tr>\n",
       "    <tr>\n",
       "      <th>1</th>\n",
       "      <td>14585350</td>\n",
       "      <td>caso</td>\n",
       "      <td>2021-07-12</td>\n",
       "      <td>50</td>\n",
       "      <td>Coronavirus (COVID-19)</td>\n",
       "      <td>2021-07-05</td>\n",
       "      <td>200380</td>\n",
       "      <td>Centro de Salud Familiar Puerto Aysen</td>\n",
       "      <td>11</td>\n",
       "      <td>Región de Aysén del General Carlos Ibáñez del ...</td>\n",
       "      <td>...</td>\n",
       "      <td>Sin Datos</td>\n",
       "      <td>t</td>\n",
       "      <td>Sin Datos</td>\n",
       "      <td>Sin Datos</td>\n",
       "      <td>Sin Datos</td>\n",
       "      <td>Sin Datos</td>\n",
       "      <td>Sin Datos</td>\n",
       "      <td>Región De Aysén del General Carlos Ibañez del ...</td>\n",
       "      <td>Región de Aysén del General Carlos Ibáñez del ...</td>\n",
       "      <td>APS</td>\n",
       "    </tr>\n",
       "    <tr>\n",
       "      <th>2</th>\n",
       "      <td>14603344</td>\n",
       "      <td>caso</td>\n",
       "      <td>2021-07-06</td>\n",
       "      <td>50</td>\n",
       "      <td>Coronavirus (COVID-19)</td>\n",
       "      <td>2021-07-05</td>\n",
       "      <td>125010</td>\n",
       "      <td>Actividades gestionadas por la Dirección del S...</td>\n",
       "      <td>11</td>\n",
       "      <td>Región de Aysén del General Carlos Ibáñez del ...</td>\n",
       "      <td>...</td>\n",
       "      <td>Sin Datos</td>\n",
       "      <td>t</td>\n",
       "      <td>Sin Datos</td>\n",
       "      <td>Sin Datos</td>\n",
       "      <td>Sin Datos</td>\n",
       "      <td>Sin Datos</td>\n",
       "      <td>Sin Datos</td>\n",
       "      <td>Región De Aysén del General Carlos Ibañez del ...</td>\n",
       "      <td>Región de Aysén del General Carlos Ibáñez del ...</td>\n",
       "      <td>SEREMI</td>\n",
       "    </tr>\n",
       "    <tr>\n",
       "      <th>3</th>\n",
       "      <td>SC14574306-18460165</td>\n",
       "      <td>contacto</td>\n",
       "      <td>2021-07-13</td>\n",
       "      <td>50</td>\n",
       "      <td>Coronavirus (COVID-19)</td>\n",
       "      <td>2021-07-05</td>\n",
       "      <td>125010</td>\n",
       "      <td>Actividades gestionadas por la Dirección del S...</td>\n",
       "      <td>11</td>\n",
       "      <td>Región de Aysén del General Carlos Ibáñez del ...</td>\n",
       "      <td>...</td>\n",
       "      <td>14899581</td>\n",
       "      <td>t</td>\n",
       "      <td>Sin Datos</td>\n",
       "      <td>Sin Datos</td>\n",
       "      <td>Sin Datos</td>\n",
       "      <td>Sin Datos</td>\n",
       "      <td>Sin Datos</td>\n",
       "      <td>Región De Aysén del General Carlos Ibañez del ...</td>\n",
       "      <td>Región de Aysén del General Carlos Ibáñez del ...</td>\n",
       "      <td>SEREMI</td>\n",
       "    </tr>\n",
       "    <tr>\n",
       "      <th>4</th>\n",
       "      <td>SC14757148-18641978</td>\n",
       "      <td>contacto</td>\n",
       "      <td>2021-07-14</td>\n",
       "      <td>50</td>\n",
       "      <td>Coronavirus (COVID-19)</td>\n",
       "      <td>2021-07-09</td>\n",
       "      <td>200380</td>\n",
       "      <td>Centro de Salud Familiar Puerto Aysen</td>\n",
       "      <td>11</td>\n",
       "      <td>Región de Aysén del General Carlos Ibáñez del ...</td>\n",
       "      <td>...</td>\n",
       "      <td>Sin Datos</td>\n",
       "      <td>t</td>\n",
       "      <td>Sin Datos</td>\n",
       "      <td>Sin Datos</td>\n",
       "      <td>Sin Datos</td>\n",
       "      <td>Sin Datos</td>\n",
       "      <td>Sin Datos</td>\n",
       "      <td>Región De Aysén del General Carlos Ibañez del ...</td>\n",
       "      <td>Región de Aysén del General Carlos Ibáñez del ...</td>\n",
       "      <td>SEREMI</td>\n",
       "    </tr>\n",
       "    <tr>\n",
       "      <th>...</th>\n",
       "      <td>...</td>\n",
       "      <td>...</td>\n",
       "      <td>...</td>\n",
       "      <td>...</td>\n",
       "      <td>...</td>\n",
       "      <td>...</td>\n",
       "      <td>...</td>\n",
       "      <td>...</td>\n",
       "      <td>...</td>\n",
       "      <td>...</td>\n",
       "      <td>...</td>\n",
       "      <td>...</td>\n",
       "      <td>...</td>\n",
       "      <td>...</td>\n",
       "      <td>...</td>\n",
       "      <td>...</td>\n",
       "      <td>...</td>\n",
       "      <td>...</td>\n",
       "      <td>...</td>\n",
       "      <td>...</td>\n",
       "      <td>...</td>\n",
       "    </tr>\n",
       "    <tr>\n",
       "      <th>30959</th>\n",
       "      <td>SC16034389-20188901</td>\n",
       "      <td>contacto</td>\n",
       "      <td>2021-08-25</td>\n",
       "      <td>50</td>\n",
       "      <td>Coronavirus (COVID-19)</td>\n",
       "      <td>2021-08-15</td>\n",
       "      <td>125100</td>\n",
       "      <td>Hospital Regional (Coihaique)</td>\n",
       "      <td>11</td>\n",
       "      <td>Región de Aysén del General Carlos Ibáñez del ...</td>\n",
       "      <td>...</td>\n",
       "      <td>Sin Datos</td>\n",
       "      <td>t</td>\n",
       "      <td>125300</td>\n",
       "      <td>Consultorio Víctor Domingo Silva</td>\n",
       "      <td>Sin Datos</td>\n",
       "      <td>Región De Aysén del General Carlos Ibañez del ...</td>\n",
       "      <td>Sin Datos</td>\n",
       "      <td>Región De Aysén del General Carlos Ibañez del ...</td>\n",
       "      <td>Región de Aysén del General Carlos Ibáñez del ...</td>\n",
       "      <td>APS</td>\n",
       "    </tr>\n",
       "    <tr>\n",
       "      <th>30960</th>\n",
       "      <td>PNTM-7016056768</td>\n",
       "      <td>no notificado índice</td>\n",
       "      <td>Sin Datos</td>\n",
       "      <td>50</td>\n",
       "      <td>Coronavirus (COVID-19)</td>\n",
       "      <td>Sin Datos</td>\n",
       "      <td>Sin Datos</td>\n",
       "      <td>Sin Datos</td>\n",
       "      <td>Sin Datos</td>\n",
       "      <td>Sin Datos</td>\n",
       "      <td>...</td>\n",
       "      <td>Sin Datos</td>\n",
       "      <td>Sin Datos</td>\n",
       "      <td>Sin Datos</td>\n",
       "      <td>Sin Datos</td>\n",
       "      <td>Sin Datos</td>\n",
       "      <td>Sin Datos</td>\n",
       "      <td>Sin Datos</td>\n",
       "      <td>Sin Datos</td>\n",
       "      <td>Región de Aysén del General Carlos Ibáñez del ...</td>\n",
       "      <td>SEREMI</td>\n",
       "    </tr>\n",
       "    <tr>\n",
       "      <th>30961</th>\n",
       "      <td>PNTM-7015472903</td>\n",
       "      <td>no notificado índice</td>\n",
       "      <td>Sin Datos</td>\n",
       "      <td>50</td>\n",
       "      <td>Coronavirus (COVID-19)</td>\n",
       "      <td>Sin Datos</td>\n",
       "      <td>Sin Datos</td>\n",
       "      <td>Sin Datos</td>\n",
       "      <td>Sin Datos</td>\n",
       "      <td>Sin Datos</td>\n",
       "      <td>...</td>\n",
       "      <td>Sin Datos</td>\n",
       "      <td>Sin Datos</td>\n",
       "      <td>Sin Datos</td>\n",
       "      <td>Sin Datos</td>\n",
       "      <td>Sin Datos</td>\n",
       "      <td>Sin Datos</td>\n",
       "      <td>Sin Datos</td>\n",
       "      <td>Sin Datos</td>\n",
       "      <td>Región de Aysén del General Carlos Ibáñez del ...</td>\n",
       "      <td>SEREMI</td>\n",
       "    </tr>\n",
       "    <tr>\n",
       "      <th>30962</th>\n",
       "      <td>PNTM-7015314831</td>\n",
       "      <td>no notificado índice</td>\n",
       "      <td>Sin Datos</td>\n",
       "      <td>50</td>\n",
       "      <td>Coronavirus (COVID-19)</td>\n",
       "      <td>Sin Datos</td>\n",
       "      <td>Sin Datos</td>\n",
       "      <td>Sin Datos</td>\n",
       "      <td>Sin Datos</td>\n",
       "      <td>Sin Datos</td>\n",
       "      <td>...</td>\n",
       "      <td>Sin Datos</td>\n",
       "      <td>Sin Datos</td>\n",
       "      <td>Sin Datos</td>\n",
       "      <td>Sin Datos</td>\n",
       "      <td>Sin Datos</td>\n",
       "      <td>Sin Datos</td>\n",
       "      <td>Sin Datos</td>\n",
       "      <td>Sin Datos</td>\n",
       "      <td>Región de Aysén del General Carlos Ibáñez del ...</td>\n",
       "      <td>SEREMI</td>\n",
       "    </tr>\n",
       "    <tr>\n",
       "      <th>30963</th>\n",
       "      <td>PNTM-7016230035</td>\n",
       "      <td>no notificado índice</td>\n",
       "      <td>Sin Datos</td>\n",
       "      <td>50</td>\n",
       "      <td>Coronavirus (COVID-19)</td>\n",
       "      <td>Sin Datos</td>\n",
       "      <td>Sin Datos</td>\n",
       "      <td>Sin Datos</td>\n",
       "      <td>Sin Datos</td>\n",
       "      <td>Sin Datos</td>\n",
       "      <td>...</td>\n",
       "      <td>16161119</td>\n",
       "      <td>Sin Datos</td>\n",
       "      <td>Sin Datos</td>\n",
       "      <td>Sin Datos</td>\n",
       "      <td>Sin Datos</td>\n",
       "      <td>Sin Datos</td>\n",
       "      <td>Sin Datos</td>\n",
       "      <td>Sin Datos</td>\n",
       "      <td>Región de Aysén del General Carlos Ibáñez del ...</td>\n",
       "      <td>SEREMI</td>\n",
       "    </tr>\n",
       "  </tbody>\n",
       "</table>\n",
       "<p>30964 rows × 84 columns</p>\n",
       "</div>"
      ],
      "text/plain": [
       "                   n_folio      tipo_seguimiento dia_contacto  \\\n",
       "0      SC14618693-18497788              contacto   2021-07-08   \n",
       "1                 14585350                  caso   2021-07-12   \n",
       "2                 14603344                  caso   2021-07-06   \n",
       "3      SC14574306-18460165              contacto   2021-07-13   \n",
       "4      SC14757148-18641978              contacto   2021-07-14   \n",
       "...                    ...                   ...          ...   \n",
       "30959  SC16034389-20188901              contacto   2021-08-25   \n",
       "30960      PNTM-7016056768  no notificado índice    Sin Datos   \n",
       "30961      PNTM-7015472903  no notificado índice    Sin Datos   \n",
       "30962      PNTM-7015314831  no notificado índice    Sin Datos   \n",
       "30963      PNTM-7016230035  no notificado índice    Sin Datos   \n",
       "\n",
       "       id_enfermedad_eno              enfermedad fecha_notificacion  \\\n",
       "0                     50  Coronavirus (COVID-19)         2021-07-05   \n",
       "1                     50  Coronavirus (COVID-19)         2021-07-05   \n",
       "2                     50  Coronavirus (COVID-19)         2021-07-05   \n",
       "3                     50  Coronavirus (COVID-19)         2021-07-05   \n",
       "4                     50  Coronavirus (COVID-19)         2021-07-09   \n",
       "...                  ...                     ...                ...   \n",
       "30959                 50  Coronavirus (COVID-19)         2021-08-15   \n",
       "30960                 50  Coronavirus (COVID-19)          Sin Datos   \n",
       "30961                 50  Coronavirus (COVID-19)          Sin Datos   \n",
       "30962                 50  Coronavirus (COVID-19)          Sin Datos   \n",
       "30963                 50  Coronavirus (COVID-19)          Sin Datos   \n",
       "\n",
       "      id_institucion                          nombre_institucion_indice  \\\n",
       "0                 13          Ejercicio libre de la profesión RM región   \n",
       "1             200380              Centro de Salud Familiar Puerto Aysen   \n",
       "2             125010  Actividades gestionadas por la Dirección del S...   \n",
       "3             125010  Actividades gestionadas por la Dirección del S...   \n",
       "4             200380              Centro de Salud Familiar Puerto Aysen   \n",
       "...              ...                                                ...   \n",
       "30959         125100                      Hospital Regional (Coihaique)   \n",
       "30960      Sin Datos                                          Sin Datos   \n",
       "30961      Sin Datos                                          Sin Datos   \n",
       "30962      Sin Datos                                          Sin Datos   \n",
       "30963      Sin Datos                                          Sin Datos   \n",
       "\n",
       "      region_institucion_indice  \\\n",
       "0                            13   \n",
       "1                            11   \n",
       "2                            11   \n",
       "3                            11   \n",
       "4                            11   \n",
       "...                         ...   \n",
       "30959                        11   \n",
       "30960                 Sin Datos   \n",
       "30961                 Sin Datos   \n",
       "30962                 Sin Datos   \n",
       "30963                 Sin Datos   \n",
       "\n",
       "                        nombre_region_institucion_indice  ...  \\\n",
       "0                       Región Metropolitana de Santiago  ...   \n",
       "1      Región de Aysén del General Carlos Ibáñez del ...  ...   \n",
       "2      Región de Aysén del General Carlos Ibáñez del ...  ...   \n",
       "3      Región de Aysén del General Carlos Ibáñez del ...  ...   \n",
       "4      Región de Aysén del General Carlos Ibáñez del ...  ...   \n",
       "...                                                  ...  ...   \n",
       "30959  Región de Aysén del General Carlos Ibáñez del ...  ...   \n",
       "30960                                          Sin Datos  ...   \n",
       "30961                                          Sin Datos  ...   \n",
       "30962                                          Sin Datos  ...   \n",
       "30963                                          Sin Datos  ...   \n",
       "\n",
       "      folio_se_convierte_en_caso cumple_aislamiento_cuarentena  \\\n",
       "0                      Sin Datos                             t   \n",
       "1                      Sin Datos                             t   \n",
       "2                      Sin Datos                             t   \n",
       "3                       14899581                             t   \n",
       "4                      Sin Datos                             t   \n",
       "...                          ...                           ...   \n",
       "30959                  Sin Datos                             t   \n",
       "30960                  Sin Datos                     Sin Datos   \n",
       "30961                  Sin Datos                     Sin Datos   \n",
       "30962                  Sin Datos                     Sin Datos   \n",
       "30963                   16161119                     Sin Datos   \n",
       "\n",
       "      ultimo_establecimiento_derivacion  \\\n",
       "0                             Sin Datos   \n",
       "1                             Sin Datos   \n",
       "2                             Sin Datos   \n",
       "3                             Sin Datos   \n",
       "4                             Sin Datos   \n",
       "...                                 ...   \n",
       "30959                            125300   \n",
       "30960                         Sin Datos   \n",
       "30961                         Sin Datos   \n",
       "30962                         Sin Datos   \n",
       "30963                         Sin Datos   \n",
       "\n",
       "      nombre_ultimo_establecimiento_derivacion ultimo_seremi_derivacion  \\\n",
       "0                                    Sin Datos                Sin Datos   \n",
       "1                                    Sin Datos                Sin Datos   \n",
       "2                                    Sin Datos                Sin Datos   \n",
       "3                                    Sin Datos                Sin Datos   \n",
       "4                                    Sin Datos                Sin Datos   \n",
       "...                                        ...                      ...   \n",
       "30959         Consultorio Víctor Domingo Silva                Sin Datos   \n",
       "30960                                Sin Datos                Sin Datos   \n",
       "30961                                Sin Datos                Sin Datos   \n",
       "30962                                Sin Datos                Sin Datos   \n",
       "30963                                Sin Datos                Sin Datos   \n",
       "\n",
       "                                       región_derivación región_seremi  \\\n",
       "0                                              Sin Datos     Sin Datos   \n",
       "1                                              Sin Datos     Sin Datos   \n",
       "2                                              Sin Datos     Sin Datos   \n",
       "3                                              Sin Datos     Sin Datos   \n",
       "4                                              Sin Datos     Sin Datos   \n",
       "...                                                  ...           ...   \n",
       "30959  Región De Aysén del General Carlos Ibañez del ...     Sin Datos   \n",
       "30960                                          Sin Datos     Sin Datos   \n",
       "30961                                          Sin Datos     Sin Datos   \n",
       "30962                                          Sin Datos     Sin Datos   \n",
       "30963                                          Sin Datos     Sin Datos   \n",
       "\n",
       "                                     región_notificacion  \\\n",
       "0                                              Sin Datos   \n",
       "1      Región De Aysén del General Carlos Ibañez del ...   \n",
       "2      Región De Aysén del General Carlos Ibañez del ...   \n",
       "3      Región De Aysén del General Carlos Ibañez del ...   \n",
       "4      Región De Aysén del General Carlos Ibañez del ...   \n",
       "...                                                  ...   \n",
       "30959  Región De Aysén del General Carlos Ibañez del ...   \n",
       "30960                                          Sin Datos   \n",
       "30961                                          Sin Datos   \n",
       "30962                                          Sin Datos   \n",
       "30963                                          Sin Datos   \n",
       "\n",
       "                                            region_final     TTA  \n",
       "0      Región de Aysén del General Carlos Ibáñez del ...     APS  \n",
       "1      Región de Aysén del General Carlos Ibáñez del ...     APS  \n",
       "2      Región de Aysén del General Carlos Ibáñez del ...  SEREMI  \n",
       "3      Región de Aysén del General Carlos Ibáñez del ...  SEREMI  \n",
       "4      Región de Aysén del General Carlos Ibáñez del ...  SEREMI  \n",
       "...                                                  ...     ...  \n",
       "30959  Región de Aysén del General Carlos Ibáñez del ...     APS  \n",
       "30960  Región de Aysén del General Carlos Ibáñez del ...  SEREMI  \n",
       "30961  Región de Aysén del General Carlos Ibáñez del ...  SEREMI  \n",
       "30962  Región de Aysén del General Carlos Ibáñez del ...  SEREMI  \n",
       "30963  Región de Aysén del General Carlos Ibáñez del ...  SEREMI  \n",
       "\n",
       "[30964 rows x 84 columns]"
      ]
     },
     "execution_count": 16,
     "metadata": {},
     "output_type": "execute_result"
    }
   ],
   "source": [
    "df_seguimiento"
   ]
  },
  {
   "cell_type": "code",
   "execution_count": 17,
   "id": "de0f4f44",
   "metadata": {},
   "outputs": [
    {
     "data": {
      "text/html": [
       "<div>\n",
       "<style scoped>\n",
       "    .dataframe tbody tr th:only-of-type {\n",
       "        vertical-align: middle;\n",
       "    }\n",
       "\n",
       "    .dataframe tbody tr th {\n",
       "        vertical-align: top;\n",
       "    }\n",
       "\n",
       "    .dataframe thead th {\n",
       "        text-align: right;\n",
       "    }\n",
       "</style>\n",
       "<table border=\"1\" class=\"dataframe\">\n",
       "  <thead>\n",
       "    <tr style=\"text-align: right;\">\n",
       "      <th></th>\n",
       "      <th>nfolio_caso</th>\n",
       "      <th>nfolio_caso_indice</th>\n",
       "      <th>nfolio_pntm</th>\n",
       "    </tr>\n",
       "  </thead>\n",
       "  <tbody>\n",
       "    <tr>\n",
       "      <th>0</th>\n",
       "      <td>NaN</td>\n",
       "      <td>18497788</td>\n",
       "      <td>NaN</td>\n",
       "    </tr>\n",
       "    <tr>\n",
       "      <th>1</th>\n",
       "      <td>14585350</td>\n",
       "      <td>NaN</td>\n",
       "      <td>NaN</td>\n",
       "    </tr>\n",
       "    <tr>\n",
       "      <th>2</th>\n",
       "      <td>14603344</td>\n",
       "      <td>NaN</td>\n",
       "      <td>NaN</td>\n",
       "    </tr>\n",
       "    <tr>\n",
       "      <th>3</th>\n",
       "      <td>NaN</td>\n",
       "      <td>18460165</td>\n",
       "      <td>NaN</td>\n",
       "    </tr>\n",
       "    <tr>\n",
       "      <th>4</th>\n",
       "      <td>NaN</td>\n",
       "      <td>18641978</td>\n",
       "      <td>NaN</td>\n",
       "    </tr>\n",
       "    <tr>\n",
       "      <th>...</th>\n",
       "      <td>...</td>\n",
       "      <td>...</td>\n",
       "      <td>...</td>\n",
       "    </tr>\n",
       "    <tr>\n",
       "      <th>30959</th>\n",
       "      <td>NaN</td>\n",
       "      <td>20188901</td>\n",
       "      <td>NaN</td>\n",
       "    </tr>\n",
       "    <tr>\n",
       "      <th>30960</th>\n",
       "      <td>NaN</td>\n",
       "      <td>NaN</td>\n",
       "      <td>7016056768</td>\n",
       "    </tr>\n",
       "    <tr>\n",
       "      <th>30961</th>\n",
       "      <td>NaN</td>\n",
       "      <td>NaN</td>\n",
       "      <td>7015472903</td>\n",
       "    </tr>\n",
       "    <tr>\n",
       "      <th>30962</th>\n",
       "      <td>NaN</td>\n",
       "      <td>NaN</td>\n",
       "      <td>7015314831</td>\n",
       "    </tr>\n",
       "    <tr>\n",
       "      <th>30963</th>\n",
       "      <td>NaN</td>\n",
       "      <td>NaN</td>\n",
       "      <td>7016230035</td>\n",
       "    </tr>\n",
       "  </tbody>\n",
       "</table>\n",
       "<p>30964 rows × 3 columns</p>\n",
       "</div>"
      ],
      "text/plain": [
       "      nfolio_caso nfolio_caso_indice nfolio_pntm\n",
       "0             NaN           18497788         NaN\n",
       "1        14585350                NaN         NaN\n",
       "2        14603344                NaN         NaN\n",
       "3             NaN           18460165         NaN\n",
       "4             NaN           18641978         NaN\n",
       "...           ...                ...         ...\n",
       "30959         NaN           20188901         NaN\n",
       "30960         NaN                NaN  7016056768\n",
       "30961         NaN                NaN  7015472903\n",
       "30962         NaN                NaN  7015314831\n",
       "30963         NaN                NaN  7016230035\n",
       "\n",
       "[30964 rows x 3 columns]"
      ]
     },
     "execution_count": 17,
     "metadata": {},
     "output_type": "execute_result"
    }
   ],
   "source": [
    "# Divide strings utilizando regex para extraer nfolio de casos, \n",
    "# Separa nfolio caso indice de nfolio contacto estrecho y guarda caso índice\n",
    "# Y extrae datos de PNTM\n",
    "\n",
    "df_seguimiento['n_folio'].str.extract(r'([0-9]+)|SC[0-9]+-([0-9]+)|PNTM-([0-9]+)', flags=0,expand=True).rename(columns={0:'nfolio_caso',\n",
    "                                                                                                          1:'nfolio_caso_indice',\n",
    "                                                                                                          2:'nfolio_pntm'\n",
    "                                                                                                        })"
   ]
  },
  {
   "cell_type": "code",
   "execution_count": 18,
   "id": "7ce66d17",
   "metadata": {},
   "outputs": [
    {
     "data": {
      "text/html": [
       "<div>\n",
       "<style scoped>\n",
       "    .dataframe tbody tr th:only-of-type {\n",
       "        vertical-align: middle;\n",
       "    }\n",
       "\n",
       "    .dataframe tbody tr th {\n",
       "        vertical-align: top;\n",
       "    }\n",
       "\n",
       "    .dataframe thead th {\n",
       "        text-align: right;\n",
       "    }\n",
       "</style>\n",
       "<table border=\"1\" class=\"dataframe\">\n",
       "  <thead>\n",
       "    <tr style=\"text-align: right;\">\n",
       "      <th></th>\n",
       "      <th>nfolio_contacto_estrecho</th>\n",
       "    </tr>\n",
       "  </thead>\n",
       "  <tbody>\n",
       "    <tr>\n",
       "      <th>0</th>\n",
       "      <td>14618693</td>\n",
       "    </tr>\n",
       "    <tr>\n",
       "      <th>1</th>\n",
       "      <td>NaN</td>\n",
       "    </tr>\n",
       "    <tr>\n",
       "      <th>2</th>\n",
       "      <td>NaN</td>\n",
       "    </tr>\n",
       "    <tr>\n",
       "      <th>3</th>\n",
       "      <td>14574306</td>\n",
       "    </tr>\n",
       "    <tr>\n",
       "      <th>4</th>\n",
       "      <td>14757148</td>\n",
       "    </tr>\n",
       "    <tr>\n",
       "      <th>...</th>\n",
       "      <td>...</td>\n",
       "    </tr>\n",
       "    <tr>\n",
       "      <th>30959</th>\n",
       "      <td>16034389</td>\n",
       "    </tr>\n",
       "    <tr>\n",
       "      <th>30960</th>\n",
       "      <td>NaN</td>\n",
       "    </tr>\n",
       "    <tr>\n",
       "      <th>30961</th>\n",
       "      <td>NaN</td>\n",
       "    </tr>\n",
       "    <tr>\n",
       "      <th>30962</th>\n",
       "      <td>NaN</td>\n",
       "    </tr>\n",
       "    <tr>\n",
       "      <th>30963</th>\n",
       "      <td>NaN</td>\n",
       "    </tr>\n",
       "  </tbody>\n",
       "</table>\n",
       "<p>30964 rows × 1 columns</p>\n",
       "</div>"
      ],
      "text/plain": [
       "      nfolio_contacto_estrecho\n",
       "0                     14618693\n",
       "1                          NaN\n",
       "2                          NaN\n",
       "3                     14574306\n",
       "4                     14757148\n",
       "...                        ...\n",
       "30959                 16034389\n",
       "30960                      NaN\n",
       "30961                      NaN\n",
       "30962                      NaN\n",
       "30963                      NaN\n",
       "\n",
       "[30964 rows x 1 columns]"
      ]
     },
     "execution_count": 18,
     "metadata": {},
     "output_type": "execute_result"
    }
   ],
   "source": [
    "# Separa nfolio caso índice de nfolio contacto estrecho y guarda contacto estrecho\n",
    "\n",
    "df_seguimiento['n_folio'].str.extract(r'SC([0-9]+)-', \n",
    "                                      flags=0,\n",
    "                                      expand=True).rename(\n",
    "                                      columns={0:'nfolio_contacto_estrecho'})"
   ]
  },
  {
   "cell_type": "code",
   "execution_count": 19,
   "id": "57251f44",
   "metadata": {},
   "outputs": [
    {
     "data": {
      "text/html": [
       "<div>\n",
       "<style scoped>\n",
       "    .dataframe tbody tr th:only-of-type {\n",
       "        vertical-align: middle;\n",
       "    }\n",
       "\n",
       "    .dataframe tbody tr th {\n",
       "        vertical-align: top;\n",
       "    }\n",
       "\n",
       "    .dataframe thead th {\n",
       "        text-align: right;\n",
       "    }\n",
       "</style>\n",
       "<table border=\"1\" class=\"dataframe\">\n",
       "  <thead>\n",
       "    <tr style=\"text-align: right;\">\n",
       "      <th></th>\n",
       "      <th>n_folio</th>\n",
       "      <th>tipo_seguimiento</th>\n",
       "      <th>dia_contacto</th>\n",
       "      <th>id_enfermedad_eno</th>\n",
       "      <th>enfermedad</th>\n",
       "      <th>fecha_notificacion</th>\n",
       "      <th>id_institucion</th>\n",
       "      <th>nombre_institucion_indice</th>\n",
       "      <th>region_institucion_indice</th>\n",
       "      <th>nombre_region_institucion_indice</th>\n",
       "      <th>...</th>\n",
       "      <th>ultimo_seremi_derivacion</th>\n",
       "      <th>región_derivación</th>\n",
       "      <th>región_seremi</th>\n",
       "      <th>región_notificacion</th>\n",
       "      <th>region_final</th>\n",
       "      <th>TTA</th>\n",
       "      <th>nfolio_caso</th>\n",
       "      <th>nfolio_caso_indice</th>\n",
       "      <th>nfolio_pntm</th>\n",
       "      <th>nfolio_contacto_estrecho</th>\n",
       "    </tr>\n",
       "  </thead>\n",
       "  <tbody>\n",
       "    <tr>\n",
       "      <th>12670</th>\n",
       "      <td>15280149</td>\n",
       "      <td>caso</td>\n",
       "      <td>Sin Datos</td>\n",
       "      <td>50</td>\n",
       "      <td>Coronavirus (COVID-19)</td>\n",
       "      <td>2021-07-24</td>\n",
       "      <td>125010</td>\n",
       "      <td>Actividades gestionadas por la Dirección del S...</td>\n",
       "      <td>11</td>\n",
       "      <td>Región de Aysén del General Carlos Ibáñez del ...</td>\n",
       "      <td>...</td>\n",
       "      <td>Sin Datos</td>\n",
       "      <td>Sin Datos</td>\n",
       "      <td>Sin Datos</td>\n",
       "      <td>Región De Aysén del General Carlos Ibañez del ...</td>\n",
       "      <td>Región de Aysén del General Carlos Ibáñez del ...</td>\n",
       "      <td>SEREMI</td>\n",
       "      <td>15280149</td>\n",
       "      <td>NaN</td>\n",
       "      <td>NaN</td>\n",
       "      <td>NaN</td>\n",
       "    </tr>\n",
       "    <tr>\n",
       "      <th>25822</th>\n",
       "      <td>SC15141131-19172775</td>\n",
       "      <td>contacto</td>\n",
       "      <td>2021-07-28</td>\n",
       "      <td>50</td>\n",
       "      <td>Coronavirus (COVID-19)</td>\n",
       "      <td>2021-07-20</td>\n",
       "      <td>133170</td>\n",
       "      <td>Hospital Comunitario de Queilén</td>\n",
       "      <td>10</td>\n",
       "      <td>Región de Los Lagos</td>\n",
       "      <td>...</td>\n",
       "      <td>Sin Datos</td>\n",
       "      <td>Sin Datos</td>\n",
       "      <td>Sin Datos</td>\n",
       "      <td>Región De Los Lagos</td>\n",
       "      <td>Región de Aysén del General Carlos Ibáñez del ...</td>\n",
       "      <td>APS</td>\n",
       "      <td>NaN</td>\n",
       "      <td>19172775</td>\n",
       "      <td>NaN</td>\n",
       "      <td>15141131</td>\n",
       "    </tr>\n",
       "    <tr>\n",
       "      <th>2145</th>\n",
       "      <td>15668604</td>\n",
       "      <td>caso</td>\n",
       "      <td>Sin Datos</td>\n",
       "      <td>50</td>\n",
       "      <td>Coronavirus (COVID-19)</td>\n",
       "      <td>2021-08-04</td>\n",
       "      <td>11</td>\n",
       "      <td>Ejercicio libre de la profesión XI región</td>\n",
       "      <td>11</td>\n",
       "      <td>Región de Aysén del General Carlos Ibáñez del ...</td>\n",
       "      <td>...</td>\n",
       "      <td>Sin Datos</td>\n",
       "      <td>Sin Datos</td>\n",
       "      <td>Sin Datos</td>\n",
       "      <td>Sin Datos</td>\n",
       "      <td>Región de Aysén del General Carlos Ibáñez del ...</td>\n",
       "      <td>SEREMI</td>\n",
       "      <td>15668604</td>\n",
       "      <td>NaN</td>\n",
       "      <td>NaN</td>\n",
       "      <td>NaN</td>\n",
       "    </tr>\n",
       "  </tbody>\n",
       "</table>\n",
       "<p>3 rows × 88 columns</p>\n",
       "</div>"
      ],
      "text/plain": [
       "                   n_folio tipo_seguimiento dia_contacto  id_enfermedad_eno  \\\n",
       "12670             15280149             caso    Sin Datos                 50   \n",
       "25822  SC15141131-19172775         contacto   2021-07-28                 50   \n",
       "2145              15668604             caso    Sin Datos                 50   \n",
       "\n",
       "                   enfermedad fecha_notificacion id_institucion  \\\n",
       "12670  Coronavirus (COVID-19)         2021-07-24         125010   \n",
       "25822  Coronavirus (COVID-19)         2021-07-20         133170   \n",
       "2145   Coronavirus (COVID-19)         2021-08-04             11   \n",
       "\n",
       "                               nombre_institucion_indice  \\\n",
       "12670  Actividades gestionadas por la Dirección del S...   \n",
       "25822                    Hospital Comunitario de Queilén   \n",
       "2145           Ejercicio libre de la profesión XI región   \n",
       "\n",
       "      region_institucion_indice  \\\n",
       "12670                        11   \n",
       "25822                        10   \n",
       "2145                         11   \n",
       "\n",
       "                        nombre_region_institucion_indice  ...  \\\n",
       "12670  Región de Aysén del General Carlos Ibáñez del ...  ...   \n",
       "25822                                Región de Los Lagos  ...   \n",
       "2145   Región de Aysén del General Carlos Ibáñez del ...  ...   \n",
       "\n",
       "      ultimo_seremi_derivacion región_derivación región_seremi  \\\n",
       "12670                Sin Datos         Sin Datos     Sin Datos   \n",
       "25822                Sin Datos         Sin Datos     Sin Datos   \n",
       "2145                 Sin Datos         Sin Datos     Sin Datos   \n",
       "\n",
       "                                     región_notificacion  \\\n",
       "12670  Región De Aysén del General Carlos Ibañez del ...   \n",
       "25822                                Región De Los Lagos   \n",
       "2145                                           Sin Datos   \n",
       "\n",
       "                                            region_final     TTA nfolio_caso  \\\n",
       "12670  Región de Aysén del General Carlos Ibáñez del ...  SEREMI    15280149   \n",
       "25822  Región de Aysén del General Carlos Ibáñez del ...     APS         NaN   \n",
       "2145   Región de Aysén del General Carlos Ibáñez del ...  SEREMI    15668604   \n",
       "\n",
       "      nfolio_caso_indice nfolio_pntm nfolio_contacto_estrecho  \n",
       "12670                NaN         NaN                      NaN  \n",
       "25822           19172775         NaN                 15141131  \n",
       "2145                 NaN         NaN                      NaN  \n",
       "\n",
       "[3 rows x 88 columns]"
      ]
     },
     "execution_count": 19,
     "metadata": {},
     "output_type": "execute_result"
    }
   ],
   "source": [
    "# Realiza merge con DF original utilizando index de importación\n",
    "df_seguimiento_merged = df_seguimiento.merge(df_seguimiento['n_folio'].str.extract(\n",
    "                                                 r'([0-9]+)|SC[0-9]+-([0-9]+)|PNTM-([0-9]+)', \n",
    "                                                 flags=0,\n",
    "                                                 expand=True).rename(\n",
    "                                                 columns={0:'nfolio_caso',\n",
    "                                                          1:'nfolio_caso_indice',\n",
    "                                                          2:'nfolio_pntm'}), \n",
    "                                             how='left',\n",
    "                                             left_index= True,\n",
    "                                             right_index=True\n",
    "                                      ).merge(df_seguimiento['n_folio'].str.extract(\n",
    "                                                                 r'SC([0-9]+)-', \n",
    "                                                                 flags=0,\n",
    "                                                                 expand=True).rename(\n",
    "                                                                 columns={0:'nfolio_contacto_estrecho'}), \n",
    "                                                                 how='left',\n",
    "                                                                 left_index= True,\n",
    "                                                                 right_index=True\n",
    "                                      )\n",
    "\n",
    "df_seguimiento_merged.sample(3)"
   ]
  },
  {
   "cell_type": "code",
   "execution_count": 253,
   "id": "7e96d94d",
   "metadata": {},
   "outputs": [
    {
     "data": {
      "text/html": [
       "<div>\n",
       "<style scoped>\n",
       "    .dataframe tbody tr th:only-of-type {\n",
       "        vertical-align: middle;\n",
       "    }\n",
       "\n",
       "    .dataframe tbody tr th {\n",
       "        vertical-align: top;\n",
       "    }\n",
       "\n",
       "    .dataframe thead th {\n",
       "        text-align: right;\n",
       "    }\n",
       "</style>\n",
       "<table border=\"1\" class=\"dataframe\">\n",
       "  <thead>\n",
       "    <tr style=\"text-align: right;\">\n",
       "      <th></th>\n",
       "      <th>n_folio</th>\n",
       "      <th>tipo_seguimiento</th>\n",
       "      <th>dia_contacto</th>\n",
       "      <th>id_enfermedad_eno</th>\n",
       "      <th>enfermedad</th>\n",
       "      <th>fecha_notificacion</th>\n",
       "      <th>id_institucion</th>\n",
       "      <th>nombre_institucion_indice</th>\n",
       "      <th>region_institucion_indice</th>\n",
       "      <th>nombre_region_institucion_indice</th>\n",
       "      <th>...</th>\n",
       "      <th>región_derivación</th>\n",
       "      <th>región_seremi</th>\n",
       "      <th>región_notificacion</th>\n",
       "      <th>region_final</th>\n",
       "      <th>TTA</th>\n",
       "      <th>nfolio_caso</th>\n",
       "      <th>nfolio_caso_indice</th>\n",
       "      <th>nfolio_pntm</th>\n",
       "      <th>nfolio_contacto_estrecho</th>\n",
       "      <th>dif_fecha</th>\n",
       "    </tr>\n",
       "  </thead>\n",
       "  <tbody>\n",
       "    <tr>\n",
       "      <th>0</th>\n",
       "      <td>SC14618693-18497788</td>\n",
       "      <td>contacto</td>\n",
       "      <td>2021-07-08</td>\n",
       "      <td>50</td>\n",
       "      <td>Coronavirus (COVID-19)</td>\n",
       "      <td>2021-07-05</td>\n",
       "      <td>13</td>\n",
       "      <td>Ejercicio libre de la profesión RM región</td>\n",
       "      <td>13</td>\n",
       "      <td>Región Metropolitana de Santiago</td>\n",
       "      <td>...</td>\n",
       "      <td>Sin Datos</td>\n",
       "      <td>Sin Datos</td>\n",
       "      <td>Sin Datos</td>\n",
       "      <td>Región de Aysén del General Carlos Ibáñez del ...</td>\n",
       "      <td>APS</td>\n",
       "      <td>NaN</td>\n",
       "      <td>18497788</td>\n",
       "      <td>NaN</td>\n",
       "      <td>14618693</td>\n",
       "      <td>2 days</td>\n",
       "    </tr>\n",
       "    <tr>\n",
       "      <th>1</th>\n",
       "      <td>14585350</td>\n",
       "      <td>caso</td>\n",
       "      <td>2021-07-12</td>\n",
       "      <td>50</td>\n",
       "      <td>Coronavirus (COVID-19)</td>\n",
       "      <td>2021-07-05</td>\n",
       "      <td>200380</td>\n",
       "      <td>Centro de Salud Familiar Puerto Aysen</td>\n",
       "      <td>11</td>\n",
       "      <td>Región de Aysén del General Carlos Ibáñez del ...</td>\n",
       "      <td>...</td>\n",
       "      <td>Sin Datos</td>\n",
       "      <td>Sin Datos</td>\n",
       "      <td>Región De Aysén del General Carlos Ibañez del ...</td>\n",
       "      <td>Región de Aysén del General Carlos Ibáñez del ...</td>\n",
       "      <td>APS</td>\n",
       "      <td>14585350</td>\n",
       "      <td>NaN</td>\n",
       "      <td>NaN</td>\n",
       "      <td>NaN</td>\n",
       "      <td>0 days</td>\n",
       "    </tr>\n",
       "    <tr>\n",
       "      <th>2</th>\n",
       "      <td>14603344</td>\n",
       "      <td>caso</td>\n",
       "      <td>2021-07-06</td>\n",
       "      <td>50</td>\n",
       "      <td>Coronavirus (COVID-19)</td>\n",
       "      <td>2021-07-05</td>\n",
       "      <td>125010</td>\n",
       "      <td>Actividades gestionadas por la Dirección del S...</td>\n",
       "      <td>11</td>\n",
       "      <td>Región de Aysén del General Carlos Ibáñez del ...</td>\n",
       "      <td>...</td>\n",
       "      <td>Sin Datos</td>\n",
       "      <td>Sin Datos</td>\n",
       "      <td>Región De Aysén del General Carlos Ibañez del ...</td>\n",
       "      <td>Región de Aysén del General Carlos Ibáñez del ...</td>\n",
       "      <td>SEREMI</td>\n",
       "      <td>14603344</td>\n",
       "      <td>NaN</td>\n",
       "      <td>NaN</td>\n",
       "      <td>NaN</td>\n",
       "      <td>1 days</td>\n",
       "    </tr>\n",
       "    <tr>\n",
       "      <th>3</th>\n",
       "      <td>SC14574306-18460165</td>\n",
       "      <td>contacto</td>\n",
       "      <td>2021-07-13</td>\n",
       "      <td>50</td>\n",
       "      <td>Coronavirus (COVID-19)</td>\n",
       "      <td>2021-07-05</td>\n",
       "      <td>125010</td>\n",
       "      <td>Actividades gestionadas por la Dirección del S...</td>\n",
       "      <td>11</td>\n",
       "      <td>Región de Aysén del General Carlos Ibáñez del ...</td>\n",
       "      <td>...</td>\n",
       "      <td>Sin Datos</td>\n",
       "      <td>Sin Datos</td>\n",
       "      <td>Región De Aysén del General Carlos Ibañez del ...</td>\n",
       "      <td>Región de Aysén del General Carlos Ibáñez del ...</td>\n",
       "      <td>SEREMI</td>\n",
       "      <td>NaN</td>\n",
       "      <td>18460165</td>\n",
       "      <td>NaN</td>\n",
       "      <td>14574306</td>\n",
       "      <td>1 days</td>\n",
       "    </tr>\n",
       "    <tr>\n",
       "      <th>4</th>\n",
       "      <td>SC14757148-18641978</td>\n",
       "      <td>contacto</td>\n",
       "      <td>2021-07-14</td>\n",
       "      <td>50</td>\n",
       "      <td>Coronavirus (COVID-19)</td>\n",
       "      <td>2021-07-09</td>\n",
       "      <td>200380</td>\n",
       "      <td>Centro de Salud Familiar Puerto Aysen</td>\n",
       "      <td>11</td>\n",
       "      <td>Región de Aysén del General Carlos Ibáñez del ...</td>\n",
       "      <td>...</td>\n",
       "      <td>Sin Datos</td>\n",
       "      <td>Sin Datos</td>\n",
       "      <td>Región De Aysén del General Carlos Ibañez del ...</td>\n",
       "      <td>Región de Aysén del General Carlos Ibáñez del ...</td>\n",
       "      <td>SEREMI</td>\n",
       "      <td>NaN</td>\n",
       "      <td>18641978</td>\n",
       "      <td>NaN</td>\n",
       "      <td>14757148</td>\n",
       "      <td>0 days</td>\n",
       "    </tr>\n",
       "  </tbody>\n",
       "</table>\n",
       "<p>5 rows × 89 columns</p>\n",
       "</div>"
      ],
      "text/plain": [
       "               n_folio tipo_seguimiento dia_contacto  id_enfermedad_eno  \\\n",
       "0  SC14618693-18497788         contacto   2021-07-08                 50   \n",
       "1             14585350             caso   2021-07-12                 50   \n",
       "2             14603344             caso   2021-07-06                 50   \n",
       "3  SC14574306-18460165         contacto   2021-07-13                 50   \n",
       "4  SC14757148-18641978         contacto   2021-07-14                 50   \n",
       "\n",
       "               enfermedad fecha_notificacion id_institucion  \\\n",
       "0  Coronavirus (COVID-19)         2021-07-05             13   \n",
       "1  Coronavirus (COVID-19)         2021-07-05         200380   \n",
       "2  Coronavirus (COVID-19)         2021-07-05         125010   \n",
       "3  Coronavirus (COVID-19)         2021-07-05         125010   \n",
       "4  Coronavirus (COVID-19)         2021-07-09         200380   \n",
       "\n",
       "                           nombre_institucion_indice  \\\n",
       "0          Ejercicio libre de la profesión RM región   \n",
       "1              Centro de Salud Familiar Puerto Aysen   \n",
       "2  Actividades gestionadas por la Dirección del S...   \n",
       "3  Actividades gestionadas por la Dirección del S...   \n",
       "4              Centro de Salud Familiar Puerto Aysen   \n",
       "\n",
       "  region_institucion_indice  \\\n",
       "0                        13   \n",
       "1                        11   \n",
       "2                        11   \n",
       "3                        11   \n",
       "4                        11   \n",
       "\n",
       "                    nombre_region_institucion_indice  ... región_derivación  \\\n",
       "0                   Región Metropolitana de Santiago  ...         Sin Datos   \n",
       "1  Región de Aysén del General Carlos Ibáñez del ...  ...         Sin Datos   \n",
       "2  Región de Aysén del General Carlos Ibáñez del ...  ...         Sin Datos   \n",
       "3  Región de Aysén del General Carlos Ibáñez del ...  ...         Sin Datos   \n",
       "4  Región de Aysén del General Carlos Ibáñez del ...  ...         Sin Datos   \n",
       "\n",
       "  región_seremi                                región_notificacion  \\\n",
       "0     Sin Datos                                          Sin Datos   \n",
       "1     Sin Datos  Región De Aysén del General Carlos Ibañez del ...   \n",
       "2     Sin Datos  Región De Aysén del General Carlos Ibañez del ...   \n",
       "3     Sin Datos  Región De Aysén del General Carlos Ibañez del ...   \n",
       "4     Sin Datos  Región De Aysén del General Carlos Ibañez del ...   \n",
       "\n",
       "                                        region_final     TTA nfolio_caso  \\\n",
       "0  Región de Aysén del General Carlos Ibáñez del ...     APS         NaN   \n",
       "1  Región de Aysén del General Carlos Ibáñez del ...     APS    14585350   \n",
       "2  Región de Aysén del General Carlos Ibáñez del ...  SEREMI    14603344   \n",
       "3  Región de Aysén del General Carlos Ibáñez del ...  SEREMI         NaN   \n",
       "4  Región de Aysén del General Carlos Ibáñez del ...  SEREMI         NaN   \n",
       "\n",
       "  nfolio_caso_indice nfolio_pntm nfolio_contacto_estrecho dif_fecha  \n",
       "0           18497788         NaN                 14618693    2 days  \n",
       "1                NaN         NaN                      NaN    0 days  \n",
       "2                NaN         NaN                      NaN    1 days  \n",
       "3           18460165         NaN                 14574306    1 days  \n",
       "4           18641978         NaN                 14757148    0 days  \n",
       "\n",
       "[5 rows x 89 columns]"
      ]
     },
     "execution_count": 253,
     "metadata": {},
     "output_type": "execute_result"
    }
   ],
   "source": [
    "df_seguimiento_merged.head()"
   ]
  },
  {
   "cell_type": "code",
   "execution_count": 20,
   "id": "603a30be",
   "metadata": {},
   "outputs": [
    {
     "data": {
      "text/html": [
       "<div>\n",
       "<style scoped>\n",
       "    .dataframe tbody tr th:only-of-type {\n",
       "        vertical-align: middle;\n",
       "    }\n",
       "\n",
       "    .dataframe tbody tr th {\n",
       "        vertical-align: top;\n",
       "    }\n",
       "\n",
       "    .dataframe thead th {\n",
       "        text-align: right;\n",
       "    }\n",
       "</style>\n",
       "<table border=\"1\" class=\"dataframe\">\n",
       "  <thead>\n",
       "    <tr style=\"text-align: right;\">\n",
       "      <th></th>\n",
       "      <th>numero_folio</th>\n",
       "      <th>comuna_residencia</th>\n",
       "      <th>fecha_notificacion</th>\n",
       "      <th>semana_epidemiologica</th>\n",
       "      <th>etapa_clinica</th>\n",
       "      <th>tipo_caso_busqueda</th>\n",
       "      <th>establecimiento_salud</th>\n",
       "      <th>resultado_pcr_1</th>\n",
       "      <th>resultado_pcr_2</th>\n",
       "      <th>resultado_pcr_3</th>\n",
       "      <th>...</th>\n",
       "      <th>hospitalizacion</th>\n",
       "      <th>trabajador_salud</th>\n",
       "      <th>caso_cerrado</th>\n",
       "      <th>fecha_primeros_sintomas</th>\n",
       "      <th>fecha_diagnostico</th>\n",
       "      <th>comuna_seremi_xi</th>\n",
       "      <th>provincia_seremi_xi</th>\n",
       "      <th>pop_hombres</th>\n",
       "      <th>pop_mujeres</th>\n",
       "      <th>pop_total</th>\n",
       "    </tr>\n",
       "  </thead>\n",
       "  <tbody>\n",
       "    <tr>\n",
       "      <th>145734</th>\n",
       "      <td>14832232</td>\n",
       "      <td>Coyhaique</td>\n",
       "      <td>2021-07-11</td>\n",
       "      <td>28</td>\n",
       "      <td>CONFIRMADA</td>\n",
       "      <td>Atención médica</td>\n",
       "      <td>Hospital Regional (Coihaique)</td>\n",
       "      <td>NEGATIVO</td>\n",
       "      <td>POSITIVO</td>\n",
       "      <td>POSITIVO</td>\n",
       "      <td>...</td>\n",
       "      <td>NaN</td>\n",
       "      <td>NO</td>\n",
       "      <td>f</td>\n",
       "      <td>2021-07-09</td>\n",
       "      <td>2021-07-12</td>\n",
       "      <td>Coyhaique</td>\n",
       "      <td>Coyhaique</td>\n",
       "      <td>28763.0</td>\n",
       "      <td>29055.0</td>\n",
       "      <td>57818.0</td>\n",
       "    </tr>\n",
       "  </tbody>\n",
       "</table>\n",
       "<p>1 rows × 32 columns</p>\n",
       "</div>"
      ],
      "text/plain": [
       "        numero_folio comuna_residencia fecha_notificacion  \\\n",
       "145734      14832232         Coyhaique         2021-07-11   \n",
       "\n",
       "        semana_epidemiologica etapa_clinica tipo_caso_busqueda  \\\n",
       "145734                     28    CONFIRMADA    Atención médica   \n",
       "\n",
       "                establecimiento_salud resultado_pcr_1 resultado_pcr_2  \\\n",
       "145734  Hospital Regional (Coihaique)        NEGATIVO        POSITIVO   \n",
       "\n",
       "       resultado_pcr_3  ... hospitalizacion trabajador_salud caso_cerrado  \\\n",
       "145734        POSITIVO  ...             NaN               NO            f   \n",
       "\n",
       "       fecha_primeros_sintomas fecha_diagnostico comuna_seremi_xi  \\\n",
       "145734              2021-07-09        2021-07-12        Coyhaique   \n",
       "\n",
       "       provincia_seremi_xi pop_hombres pop_mujeres pop_total  \n",
       "145734           Coyhaique     28763.0     29055.0   57818.0  \n",
       "\n",
       "[1 rows x 32 columns]"
      ]
     },
     "execution_count": 20,
     "metadata": {},
     "output_type": "execute_result"
    }
   ],
   "source": [
    "# Revisa folio en DB de notificaciones\n",
    "\n",
    "data_aysen_clean[data_aysen_clean['numero_folio']==14832232]"
   ]
  },
  {
   "cell_type": "code",
   "execution_count": 21,
   "id": "711d55d2",
   "metadata": {},
   "outputs": [
    {
     "data": {
      "text/html": [
       "<div>\n",
       "<style scoped>\n",
       "    .dataframe tbody tr th:only-of-type {\n",
       "        vertical-align: middle;\n",
       "    }\n",
       "\n",
       "    .dataframe tbody tr th {\n",
       "        vertical-align: top;\n",
       "    }\n",
       "\n",
       "    .dataframe thead th {\n",
       "        text-align: right;\n",
       "    }\n",
       "</style>\n",
       "<table border=\"1\" class=\"dataframe\">\n",
       "  <thead>\n",
       "    <tr style=\"text-align: right;\">\n",
       "      <th></th>\n",
       "      <th>n_folio</th>\n",
       "      <th>tipo_seguimiento</th>\n",
       "      <th>dia_contacto</th>\n",
       "      <th>id_enfermedad_eno</th>\n",
       "      <th>enfermedad</th>\n",
       "      <th>fecha_notificacion</th>\n",
       "      <th>id_institucion</th>\n",
       "      <th>nombre_institucion_indice</th>\n",
       "      <th>region_institucion_indice</th>\n",
       "      <th>nombre_region_institucion_indice</th>\n",
       "      <th>...</th>\n",
       "      <th>ultimo_seremi_derivacion</th>\n",
       "      <th>región_derivación</th>\n",
       "      <th>región_seremi</th>\n",
       "      <th>región_notificacion</th>\n",
       "      <th>region_final</th>\n",
       "      <th>TTA</th>\n",
       "      <th>nfolio_caso</th>\n",
       "      <th>nfolio_caso_indice</th>\n",
       "      <th>nfolio_pntm</th>\n",
       "      <th>nfolio_contacto_estrecho</th>\n",
       "    </tr>\n",
       "  </thead>\n",
       "  <tbody>\n",
       "  </tbody>\n",
       "</table>\n",
       "<p>0 rows × 88 columns</p>\n",
       "</div>"
      ],
      "text/plain": [
       "Empty DataFrame\n",
       "Columns: [n_folio, tipo_seguimiento, dia_contacto, id_enfermedad_eno, enfermedad, fecha_notificacion, id_institucion, nombre_institucion_indice, region_institucion_indice, nombre_region_institucion_indice, institucion_contacto, nombre_institucion_seguimiento, region, id_region, run_profesional, nombre_profesional, identificacion_paciente, n_identificacion_paciente, nombre_paciente, primer_apellido_paciente, fecha_cumple_requisitos, cont_tipo_identificacion, cont_n_identificacion, cont_nombres, cont_primer_apellido, cont_segundo_apellido, cont_sexo, cont_fecha_nacimiento, cont_edad, cont_tipo_direccion, cont_tipo_institucion, cont_via_residencia, cont_direccions, cont_n_residencia, cont_dpto, cont_poblacion, cont_region, cont_comuna, cont_n_telefono, cont_n_celular, cont_correo_electronico, cont_fecha_seguimiento, cont_tipo_contacto, cont_parentesco, cont_otra_relacion, empresa, institucion, cont_tipo_transporte, cont_nombre_vuelo, cont_fecha_llegada, detalle_pasajero, cont_inicio_cuarentena, cont_fin_cuarentena, cont_requiere_licencia_medica, cont_se_emite_licencia, cont_fecha_licencia, cont_rut_profesional_entrega_licencia, requiere_canasta_alimentos, cantidad_personas_vivienda, cont_estado_seguimiento, cont_observacion_seguimiento_contactos, fecha_creacion, tipo_del_contacto, contacto_localizado, nombre_usuario_responsable, rut_usuario_responsable, derivacion_toma_muestra, fecha_derivacion_toma_muestra, derivacion_a_su, tiene_resultado_covid, observacion_seguimiento_contactos, visible_no_eliminado, sintomas, suspendido, folio_se_convierte_en_caso, cumple_aislamiento_cuarentena, ultimo_establecimiento_derivacion, nombre_ultimo_establecimiento_derivacion, ultimo_seremi_derivacion, región_derivación, región_seremi, región_notificacion, region_final, TTA, nfolio_caso, nfolio_caso_indice, nfolio_pntm, nfolio_contacto_estrecho]\n",
       "Index: []\n",
       "\n",
       "[0 rows x 88 columns]"
      ]
     },
     "execution_count": 21,
     "metadata": {},
     "output_type": "execute_result"
    }
   ],
   "source": [
    "# Todos los datos poseen un folio \n",
    "\n",
    "df_seguimiento_merged[df_seguimiento_merged['n_folio'].isnull()]"
   ]
  },
  {
   "cell_type": "code",
   "execution_count": 22,
   "id": "715ff30b",
   "metadata": {},
   "outputs": [
    {
     "data": {
      "text/plain": [
       "Index(['n_folio', 'tipo_seguimiento', 'dia_contacto', 'id_enfermedad_eno',\n",
       "       'enfermedad', 'fecha_notificacion', 'id_institucion',\n",
       "       'nombre_institucion_indice', 'region_institucion_indice',\n",
       "       'nombre_region_institucion_indice', 'institucion_contacto',\n",
       "       'nombre_institucion_seguimiento', 'region', 'id_region',\n",
       "       'run_profesional', 'nombre_profesional', 'identificacion_paciente',\n",
       "       'n_identificacion_paciente', 'nombre_paciente',\n",
       "       'primer_apellido_paciente', 'fecha_cumple_requisitos',\n",
       "       'cont_tipo_identificacion', 'cont_n_identificacion', 'cont_nombres',\n",
       "       'cont_primer_apellido', 'cont_segundo_apellido', 'cont_sexo',\n",
       "       'cont_fecha_nacimiento', 'cont_edad', 'cont_tipo_direccion',\n",
       "       'cont_tipo_institucion', 'cont_via_residencia', 'cont_direccions',\n",
       "       'cont_n_residencia', 'cont_dpto', 'cont_poblacion', 'cont_region',\n",
       "       'cont_comuna', 'cont_n_telefono', 'cont_n_celular',\n",
       "       'cont_correo_electronico', 'cont_fecha_seguimiento',\n",
       "       'cont_tipo_contacto', 'cont_parentesco', 'cont_otra_relacion',\n",
       "       'empresa', 'institucion', 'cont_tipo_transporte', 'cont_nombre_vuelo',\n",
       "       'cont_fecha_llegada', 'detalle_pasajero', 'cont_inicio_cuarentena',\n",
       "       'cont_fin_cuarentena', 'cont_requiere_licencia_medica',\n",
       "       'cont_se_emite_licencia', 'cont_fecha_licencia',\n",
       "       'cont_rut_profesional_entrega_licencia', 'requiere_canasta_alimentos',\n",
       "       'cantidad_personas_vivienda', 'cont_estado_seguimiento',\n",
       "       'cont_observacion_seguimiento_contactos', 'fecha_creacion',\n",
       "       'tipo_del_contacto', 'contacto_localizado',\n",
       "       'nombre_usuario_responsable', 'rut_usuario_responsable',\n",
       "       'derivacion_toma_muestra', 'fecha_derivacion_toma_muestra',\n",
       "       'derivacion_a_su', 'tiene_resultado_covid',\n",
       "       'observacion_seguimiento_contactos', 'visible_no_eliminado', 'sintomas',\n",
       "       'suspendido', 'folio_se_convierte_en_caso',\n",
       "       'cumple_aislamiento_cuarentena', 'ultimo_establecimiento_derivacion',\n",
       "       'nombre_ultimo_establecimiento_derivacion', 'ultimo_seremi_derivacion',\n",
       "       'región_derivación', 'región_seremi', 'región_notificacion',\n",
       "       'region_final', 'TTA', 'nfolio_caso', 'nfolio_caso_indice',\n",
       "       'nfolio_pntm', 'nfolio_contacto_estrecho'],\n",
       "      dtype='object')"
      ]
     },
     "execution_count": 22,
     "metadata": {},
     "output_type": "execute_result"
    }
   ],
   "source": [
    "df_seguimiento_merged.columns"
   ]
  },
  {
   "cell_type": "code",
   "execution_count": 53,
   "id": "93a8009c",
   "metadata": {},
   "outputs": [
    {
     "data": {
      "text/html": [
       "<div>\n",
       "<style scoped>\n",
       "    .dataframe tbody tr th:only-of-type {\n",
       "        vertical-align: middle;\n",
       "    }\n",
       "\n",
       "    .dataframe tbody tr th {\n",
       "        vertical-align: top;\n",
       "    }\n",
       "\n",
       "    .dataframe thead th {\n",
       "        text-align: right;\n",
       "    }\n",
       "</style>\n",
       "<table border=\"1\" class=\"dataframe\">\n",
       "  <thead>\n",
       "    <tr style=\"text-align: right;\">\n",
       "      <th></th>\n",
       "      <th>0</th>\n",
       "      <th>1</th>\n",
       "      <th>2</th>\n",
       "      <th>3</th>\n",
       "      <th>4</th>\n",
       "      <th>5</th>\n",
       "      <th>6</th>\n",
       "      <th>7</th>\n",
       "      <th>8</th>\n",
       "      <th>9</th>\n",
       "      <th>...</th>\n",
       "      <th>78</th>\n",
       "      <th>79</th>\n",
       "      <th>80</th>\n",
       "      <th>81</th>\n",
       "      <th>82</th>\n",
       "      <th>83</th>\n",
       "      <th>84</th>\n",
       "      <th>85</th>\n",
       "      <th>86</th>\n",
       "      <th>87</th>\n",
       "    </tr>\n",
       "  </thead>\n",
       "  <tbody>\n",
       "    <tr>\n",
       "      <th>variables_seguimiento</th>\n",
       "      <td>n_folio</td>\n",
       "      <td>tipo_seguimiento</td>\n",
       "      <td>dia_contacto</td>\n",
       "      <td>id_enfermedad_eno</td>\n",
       "      <td>enfermedad</td>\n",
       "      <td>fecha_notificacion</td>\n",
       "      <td>id_institucion</td>\n",
       "      <td>nombre_institucion_indice</td>\n",
       "      <td>region_institucion_indice</td>\n",
       "      <td>nombre_region_institucion_indice</td>\n",
       "      <td>...</td>\n",
       "      <td>ultimo_seremi_derivacion</td>\n",
       "      <td>región_derivación</td>\n",
       "      <td>región_seremi</td>\n",
       "      <td>región_notificacion</td>\n",
       "      <td>region_final</td>\n",
       "      <td>TTA</td>\n",
       "      <td>nfolio_caso</td>\n",
       "      <td>nfolio_caso_indice</td>\n",
       "      <td>nfolio_pntm</td>\n",
       "      <td>nfolio_contacto_estrecho</td>\n",
       "    </tr>\n",
       "  </tbody>\n",
       "</table>\n",
       "<p>1 rows × 88 columns</p>\n",
       "</div>"
      ],
      "text/plain": [
       "                            0                 1             2   \\\n",
       "variables_seguimiento  n_folio  tipo_seguimiento  dia_contacto   \n",
       "\n",
       "                                      3           4                   5   \\\n",
       "variables_seguimiento  id_enfermedad_eno  enfermedad  fecha_notificacion   \n",
       "\n",
       "                                   6                          7   \\\n",
       "variables_seguimiento  id_institucion  nombre_institucion_indice   \n",
       "\n",
       "                                              8   \\\n",
       "variables_seguimiento  region_institucion_indice   \n",
       "\n",
       "                                                     9   ...  \\\n",
       "variables_seguimiento  nombre_region_institucion_indice  ...   \n",
       "\n",
       "                                             78                 79  \\\n",
       "variables_seguimiento  ultimo_seremi_derivacion  región_derivación   \n",
       "\n",
       "                                  80                   81            82   83  \\\n",
       "variables_seguimiento  región_seremi  región_notificacion  region_final  TTA   \n",
       "\n",
       "                                84                  85           86  \\\n",
       "variables_seguimiento  nfolio_caso  nfolio_caso_indice  nfolio_pntm   \n",
       "\n",
       "                                             87  \n",
       "variables_seguimiento  nfolio_contacto_estrecho  \n",
       "\n",
       "[1 rows x 88 columns]"
      ]
     },
     "execution_count": 53,
     "metadata": {},
     "output_type": "execute_result"
    }
   ],
   "source": [
    "pd.DataFrame(df_seguimiento_merged.columns).rename(columns={0:'variables_seguimiento'}).transpose()"
   ]
  },
  {
   "cell_type": "code",
   "execution_count": 27,
   "id": "dd2dac7a",
   "metadata": {
    "scrolled": true
   },
   "outputs": [
    {
     "data": {
      "text/plain": [
       "0        Sin Datos\n",
       "1        Sin Datos\n",
       "2        Sin Datos\n",
       "3         14899581\n",
       "4        Sin Datos\n",
       "           ...    \n",
       "30959    Sin Datos\n",
       "30960    Sin Datos\n",
       "30961    Sin Datos\n",
       "30962    Sin Datos\n",
       "30963     16161119\n",
       "Name: folio_se_convierte_en_caso, Length: 30964, dtype: object"
      ]
     },
     "execution_count": 27,
     "metadata": {},
     "output_type": "execute_result"
    }
   ],
   "source": [
    "df_seguimiento_merged['folio_se_convierte_en_caso']"
   ]
  },
  {
   "cell_type": "code",
   "execution_count": 116,
   "id": "94bf5beb",
   "metadata": {},
   "outputs": [
    {
     "data": {
      "text/plain": [
       "Sin Datos    30277\n",
       "-1              20\n",
       "15343397        14\n",
       "14560708        12\n",
       "14951542        11\n",
       "             ...  \n",
       "15170161         1\n",
       "15745320         1\n",
       "15143562         1\n",
       "16161119         1\n",
       "16074522         1\n",
       "Name: folio_se_convierte_en_caso, Length: 184, dtype: int64"
      ]
     },
     "execution_count": 116,
     "metadata": {},
     "output_type": "execute_result"
    }
   ],
   "source": [
    "# Revisa existencia de una variable dentro del DF y sus respectivos valores\n",
    "\n",
    "df_seguimiento_merged['folio_se_convierte_en_caso'].value_counts()\n"
   ]
  },
  {
   "cell_type": "markdown",
   "id": "e94309f5",
   "metadata": {},
   "source": [
    "# Variables de interes\n",
    "\n",
    "\n",
    "|Variable|Tipo|Observación|\n",
    "|---|---|---|\n",
    "|`n_folio`|Text|folio generado por Número y Letras|\n",
    "|`nfolio_caso`|Numeric|folio de caso registrado|\n",
    "|`nfolio_caso_indice`|Numeric|folio de caso indice registrado|\n",
    "|`nfolio_pntm`|Numeric|folio plataforma nacional de toma de muestra|\n",
    "|`nfolio_contacto_estrecho`|Numeric|folio de contacto estrecho|\n",
    "|`tipo_seguimiento`|Text|contacto, caso, no notificado indice|\n",
    "|`dia_contacto`|DateTime|Fecha de contacto |\n",
    "|`fecha_notificacion`|DateTime|Fecha de notificación|\n",
    "|`nombre_institucion_indice`|Text|Nombre institución desde donde se deriva el caso|\n",
    "|`region_institucion_indice`|Numeric| Región d ela cual se deriva el caso|\n",
    "|`nombre_region_institucion_indice`|Text|Nombre de región de la institución índice|\n",
    "|`nombre_institucion_seguimiento`|Text|Nombre de la institución encargada de realizar seguimiento|\n",
    "|`region`|Text|Región en la cual se realiza el seguimiento|\n",
    "|`id_region`|Numeric|Número de la región de seguimiento|\n",
    "|`fecha_cumple_requisitos`|DateTime|Fecha en la cual cumple requisitos para seguimiento|\n",
    "|`TTA`|Text|APS o SEREMI|\n",
    "|`cumple_aislamiento_cuarentena`|Boolean|Sin datos, t, f|\n",
    "|`folio_se_convierte_en_caso`|Text|Número de folio o Sin Datos|\n",
    "|`visible_no_eliminado`|Boolean|Sin datos, t, f|\n",
    "|`suspendido`|Text|egresado|\n",
    "|`sintomas`|Text|Sintomatología, Sin datos o Ninguno|\n",
    "|`observacion_seguimiento_contactos`|Text| Escrito por el trazador|\n",
    "|`tiene_resultado_covid`|Text|Positivo, Negativo, No concluyente, Sin Datos|\n",
    "|`derivacion_a_su`|Boolean| t f Sin datos|\n",
    "|`derivacion_toma_muestra`|Boolean|t f Sin datos|\n",
    "|`fecha_derivacion_toma_muestra`|Text|Fecha Sin datos|\n",
    "|`cont_fecha_seguimiento`|Text|Texto o Sin Datos|\n",
    "|`cont_tipo_contacto`|Text|contacto_familiar, contacto_social, contacto_institucional, contacto_laboral|\n",
    "|||contacto_pasajero, contacto_sala_espera, contacto_personal_salud,Datos|\n",
    "|`cont_parentesco`|Text|Hijo/a, Madre/Padre, Otro familiar, Pareja, Hermano/a, Otra relación/No familiar, Sin Datos|\n",
    "|`cont_otra_relacion`|Text|Sin Datos, otro, hijo de cuidadora, otro adulto mayor en cuidado, cuñado. sobrino de cuidadora, AMIGO,  Amigo|\n",
    "||| pareja del tío de su madre,cuidadora, PAREJA PADRE, otro adulto en cuidados, Pareja de mamá, Hijastro|\n",
    "|`cont_tipo_transporte`|Text|Aéreo, Sin Datos, Terrestre|\n",
    "|`cont_nombre_vuelo`|Text|Sin Datos, JETSMART JA245 CCP - BALMACEDA, SKY 433, COPA CM111, \n",
    "|||SKY 433 STGO- COYHAIQUE 21-08-2021 / 11 AM, SK, DL147 ATLANTA - STGO, JETSMART CCP-BALMACEDA, LA 272 |\n",
    "|||JETSMART JA245, VUELO CM111, LA272, JETSMART JA 245 CCP - BALMACEDA|                 \n",
    "|`cont_fecha_llegada`|Text|Sin Datos, 2021-07-21, 2021-08-21, 2021-07-01, 2021-07-03, 2021-07-09, 2021-07-02|\n",
    "|`detalle_pasajero`|Text|Observaciones adicionales de viaje|\n",
    "|`cont_inicio_cuarentena`|DateTime|Fecha de inicio de cuarentena|\n",
    "|`cont_fin_cuarentena`|DateTime|Fecha y Sin Datos|\n",
    "|`cont_requiere_licencia_medica`|Boolean|Sin Datos, NO, SI, Seleccione|\n",
    "|`cont_se_emite_licencia`|Boolean|Sin Datos, t, f|\n",
    "|`cont_fecha_licencia`|DateTime|Fecha de licencia|\n",
    "|`requiere_canasta_alimentos`|Boolean|Sin Datos, t, f|\n",
    "|`cantidad_personas_vivienda`|Numeric|Integrantes familiares de 0 a 6|\n",
    "|`cont_estado_seguimiento`|Text|Aún no contactado, En proceso de seguimiento, Se transforma en caso, Contacto sintomático, No localizado|\n",
    "|`fecha_creacion`|DateTime|Fecha de creación|\n",
    "|`tipo_del_contacto`|Text|Sin Datos, Llamada telefónica, Visita domiciliaria|\n",
    "|`contacto_localizado`|Boolean|Sin Datos, t, f|\n",
    "|`empresa`|Text|Información de Empresa de trabajo|\n",
    "|`institucion`|Text|Información de la institución|"
   ]
  },
  {
   "cell_type": "markdown",
   "id": "2247b32e",
   "metadata": {},
   "source": [
    "## Limpieza y ordenamiento de datos\n",
    "\n"
   ]
  },
  {
   "cell_type": "markdown",
   "id": "e993604d",
   "metadata": {},
   "source": [
    "Segun variables seleccionadas como de importancia de análisis y obsrvaciones a filtrar"
   ]
  },
  {
   "cell_type": "code",
   "execution_count": 100,
   "id": "fc991d65",
   "metadata": {},
   "outputs": [],
   "source": [
    "# Transforma fecha_cumple_requisitos a formato DateTime64 \n",
    "\n",
    "df_seguimiento_merged['fecha_cumple_requisitos'] = pd.to_datetime(df_seguimiento_merged['fecha_cumple_requisitos'], errors='coerce')\n",
    "df_seguimiento_merged['fecha_notificacion'] = pd.to_datetime(df_seguimiento_merged['fecha_notificacion'], errors='coerce')\n",
    "df_seguimiento_merged['fecha_creacion'] = pd.to_datetime(df_seguimiento_merged['fecha_creacion'], errors='coerce')\n",
    "\n",
    "#Crea diferencia de fecha\n",
    "df_seguimiento_merged['dif_fecha'] = df_seguimiento_merged['fecha_cumple_requisitos'] - df_seguimiento_merged['fecha_notificacion']"
   ]
  },
  {
   "cell_type": "code",
   "execution_count": 101,
   "id": "8454d850",
   "metadata": {},
   "outputs": [],
   "source": [
    "# Filtra los timedelta mayores a 14 dias\n",
    "\n",
    "seg = df_seguimiento_merged[df_seguimiento_merged['dif_fecha']<pd.to_timedelta('14 days')]"
   ]
  },
  {
   "cell_type": "code",
   "execution_count": 102,
   "id": "b9a700fe",
   "metadata": {},
   "outputs": [],
   "source": [
    "#Filtra visible_no_eliminado y bota duplicados en n_folio\n",
    "\n",
    "aux = seg[seg['visible_no_eliminado']=='t'].drop_duplicates('n_folio')"
   ]
  },
  {
   "cell_type": "code",
   "execution_count": 103,
   "id": "11003fd2",
   "metadata": {},
   "outputs": [],
   "source": [
    "# Filtra tipo_seguimiento para los casos \n",
    "\n",
    "aux_caso = aux[aux['tipo_seguimiento']=='caso']"
   ]
  },
  {
   "cell_type": "code",
   "execution_count": 110,
   "id": "4f6a5bd4",
   "metadata": {},
   "outputs": [
    {
     "name": "stderr",
     "output_type": "stream",
     "text": [
      "<ipython-input-110-483468821897>:3: SettingWithCopyWarning: \n",
      "A value is trying to be set on a copy of a slice from a DataFrame.\n",
      "Try using .loc[row_indexer,col_indexer] = value instead\n",
      "\n",
      "See the caveats in the documentation: https://pandas.pydata.org/pandas-docs/stable/user_guide/indexing.html#returning-a-view-versus-a-copy\n",
      "  aux_contacto['dif_fecha_contacto'] = aux_contacto['fecha_creacion']-aux_contacto['fecha_notificacion']\n"
     ]
    }
   ],
   "source": [
    "aux_contacto = aux[aux['tipo_seguimiento']=='contacto']\n",
    "#Crea columna dif_fecha_contacto\n",
    "aux_contacto['dif_fecha_contacto'] = aux_contacto['fecha_creacion']-aux_contacto['fecha_notificacion']\n",
    "\n",
    "aux_contacto = aux_contacto[aux_contacto['dif_fecha_contacto']>=pd.to_timedelta(-14)]"
   ]
  },
  {
   "cell_type": "code",
   "execution_count": 113,
   "id": "eff2a904",
   "metadata": {},
   "outputs": [],
   "source": [
    "aux_contacto_nuevos = aux[aux['tipo_seguimiento']=='contacto']\n",
    "aux_contacto_nuevos = aux_contacto_nuevos[(aux_contacto_nuevos['suspendido']=='activo')|(aux_contacto_nuevos['suspendido']=='egresado')]\n"
   ]
  },
  {
   "cell_type": "code",
   "execution_count": null,
   "id": "3efc2bd5",
   "metadata": {},
   "outputs": [],
   "source": [
    "aux_contacto_viejos = aux_contacto[aux_contacto['fecha_creacion']-dt.timedelta(days=7)]\n",
    "aux_contacto_viejos= aux_contacto_viejos[(aux_contacto_viejos['suspendido']=='activo')|(aux_contacto_viejos['suspendido']=='egresado')]\n"
   ]
  },
  {
   "cell_type": "code",
   "execution_count": 134,
   "id": "3b738b62",
   "metadata": {},
   "outputs": [
    {
     "data": {
      "text/plain": [
       "0       2021-06-30 12:18:26.894552\n",
       "3       2021-06-29 16:27:11.452588\n",
       "4       2021-07-02 21:24:23.366254\n",
       "6       2021-07-04 15:24:10.664193\n",
       "7       2021-08-02 19:20:21.934261\n",
       "                   ...            \n",
       "30668   2021-08-09 23:23:22.867003\n",
       "30703   2021-08-21 11:34:20.083839\n",
       "30841   2021-06-29 18:53:31.436182\n",
       "30889   2021-07-09 12:14:47.201400\n",
       "30957   2021-08-10 19:43:02.977625\n",
       "Name: fecha_creacion, Length: 2014, dtype: datetime64[ns]"
      ]
     },
     "execution_count": 134,
     "metadata": {},
     "output_type": "execute_result"
    }
   ],
   "source": [
    "#aux_contacto[\n",
    "(aux_contacto['fecha_creacion']-pd.to_timedelta('7 days'))\n",
    "#]"
   ]
  },
  {
   "cell_type": "code",
   "execution_count": 120,
   "id": "2158bed4",
   "metadata": {},
   "outputs": [
    {
     "data": {
      "text/plain": [
       "0       2021-07-07 12:18:26.894552007\n",
       "3       2021-07-06 16:27:11.452588007\n",
       "4       2021-07-09 21:24:23.366254007\n",
       "6       2021-07-11 15:24:10.664193007\n",
       "7       2021-08-09 19:20:21.934261007\n",
       "                     ...             \n",
       "30668   2021-08-16 23:23:22.867003007\n",
       "30703   2021-08-28 11:34:20.083839007\n",
       "30841   2021-07-06 18:53:31.436182007\n",
       "30889   2021-07-16 12:14:47.201400007\n",
       "30957   2021-08-17 19:43:02.977625007\n",
       "Name: fecha_creacion, Length: 2014, dtype: datetime64[ns]"
      ]
     },
     "execution_count": 120,
     "metadata": {},
     "output_type": "execute_result"
    }
   ],
   "source": [
    "aux_contacto['fecha_creacion']-pd.to_timedelta(-7)"
   ]
  },
  {
   "cell_type": "code",
   "execution_count": 121,
   "id": "2222fad0",
   "metadata": {},
   "outputs": [
    {
     "data": {
      "text/plain": [
       "0       2021-07-07 12:18:26.894552\n",
       "3       2021-07-06 16:27:11.452588\n",
       "4       2021-07-09 21:24:23.366254\n",
       "6       2021-07-11 15:24:10.664193\n",
       "7       2021-08-09 19:20:21.934261\n",
       "                   ...            \n",
       "30668   2021-08-16 23:23:22.867003\n",
       "30703   2021-08-28 11:34:20.083839\n",
       "30841   2021-07-06 18:53:31.436182\n",
       "30889   2021-07-16 12:14:47.201400\n",
       "30957   2021-08-17 19:43:02.977625\n",
       "Name: fecha_creacion, Length: 2014, dtype: datetime64[ns]"
      ]
     },
     "execution_count": 121,
     "metadata": {},
     "output_type": "execute_result"
    }
   ],
   "source": [
    "aux_contacto['fecha_creacion']"
   ]
  },
  {
   "cell_type": "code",
   "execution_count": null,
   "id": "1a9ee2b9",
   "metadata": {},
   "outputs": [],
   "source": []
  },
  {
   "cell_type": "code",
   "execution_count": null,
   "id": "30836609",
   "metadata": {},
   "outputs": [],
   "source": []
  },
  {
   "cell_type": "code",
   "execution_count": null,
   "id": "7fa21e54",
   "metadata": {},
   "outputs": [],
   "source": []
  },
  {
   "cell_type": "code",
   "execution_count": null,
   "id": "2ca40d95",
   "metadata": {},
   "outputs": [],
   "source": [
    "df_seguimiento_merged['visible_no_eliminado']"
   ]
  },
  {
   "cell_type": "code",
   "execution_count": null,
   "id": "a7d84bf4",
   "metadata": {},
   "outputs": [],
   "source": [
    "df_seguimiento_filtered = df_seguimiento_merged"
   ]
  },
  {
   "cell_type": "code",
   "execution_count": 59,
   "id": "e5e9e65c",
   "metadata": {},
   "outputs": [],
   "source": [
    "# Selecciona variables de importancia\n",
    "\n",
    "df_seguimiento_clean = df_seguimiento_filtered[[\n",
    "    'n_folio',\n",
    "    'nfolio_caso',\n",
    "    'nfolio_caso_indice',\n",
    "    'nfolio_pntm',\n",
    "    'nfolio_contacto_estrecho',\n",
    "    'tipo_seguimiento',\n",
    "    'dia_contacto',\n",
    "    'fecha_notificacion',\n",
    "    'nombre_institucion_indice',\n",
    "    'region_institucion_indice',\n",
    "    'nombre_region_institucion_indice',\n",
    "    'region',\n",
    "    'id_region',\n",
    "    'fecha_cumple_requisitos',\n",
    "    'TTA',\n",
    "    'cumple_aislamiento_cuarentena',\n",
    "    'folio_se_convierte_en_caso',\n",
    "    'visible_no_eliminado',\n",
    "    'suspendido',\n",
    "    'sintomas',\n",
    "    'observacion_seguimiento_contactos',\n",
    "    'tiene_resultado_covid',\n",
    "    'derivacion_a_su',\n",
    "    'derivacion_toma_muestra',\n",
    "    'fecha_derivacion_toma_muestra',\n",
    "    'cont_fecha_seguimiento',\n",
    "    'cont_tipo_contacto',\n",
    "    'cont_parentesco',\n",
    "    'cont_otra_relacion',\n",
    "    'cont_tipo_transporte',\n",
    "    'cont_nombre_vuelo',\n",
    "    'cont_fecha_llegada',\n",
    "    'detalle_pasajero',\n",
    "    'cont_inicio_cuarentena',\n",
    "    'cont_fin_cuarentena',\n",
    "    'cont_requiere_licencia_medica',\n",
    "    'cont_se_emite_licencia',\n",
    "    'cont_fecha_licencia',\n",
    "    'requiere_canasta_alimentos',\n",
    "    'cantidad_personas_vivienda',\n",
    "    'cont_estado_seguimiento',\n",
    "    'fecha_creacion',\n",
    "    'tipo_del_contacto',\n",
    "    'contacto_localizado',\n",
    "    'empresa',\n",
    "    'institucion'\n",
    "]]"
   ]
  },
  {
   "cell_type": "code",
   "execution_count": 60,
   "id": "a4db4520",
   "metadata": {},
   "outputs": [
    {
     "data": {
      "text/html": [
       "<div>\n",
       "<style scoped>\n",
       "    .dataframe tbody tr th:only-of-type {\n",
       "        vertical-align: middle;\n",
       "    }\n",
       "\n",
       "    .dataframe tbody tr th {\n",
       "        vertical-align: top;\n",
       "    }\n",
       "\n",
       "    .dataframe thead th {\n",
       "        text-align: right;\n",
       "    }\n",
       "</style>\n",
       "<table border=\"1\" class=\"dataframe\">\n",
       "  <thead>\n",
       "    <tr style=\"text-align: right;\">\n",
       "      <th></th>\n",
       "      <th>n_folio</th>\n",
       "      <th>nfolio_caso</th>\n",
       "      <th>nfolio_caso_indice</th>\n",
       "      <th>nfolio_pntm</th>\n",
       "      <th>nfolio_contacto_estrecho</th>\n",
       "      <th>tipo_seguimiento</th>\n",
       "      <th>dia_contacto</th>\n",
       "      <th>fecha_notificacion</th>\n",
       "      <th>nombre_institucion_indice</th>\n",
       "      <th>region_institucion_indice</th>\n",
       "      <th>...</th>\n",
       "      <th>cont_se_emite_licencia</th>\n",
       "      <th>cont_fecha_licencia</th>\n",
       "      <th>requiere_canasta_alimentos</th>\n",
       "      <th>cantidad_personas_vivienda</th>\n",
       "      <th>cont_estado_seguimiento</th>\n",
       "      <th>fecha_creacion</th>\n",
       "      <th>tipo_del_contacto</th>\n",
       "      <th>contacto_localizado</th>\n",
       "      <th>empresa</th>\n",
       "      <th>institucion</th>\n",
       "    </tr>\n",
       "  </thead>\n",
       "  <tbody>\n",
       "    <tr>\n",
       "      <th>0</th>\n",
       "      <td>SC14618693-18497788</td>\n",
       "      <td>NaN</td>\n",
       "      <td>18497788</td>\n",
       "      <td>NaN</td>\n",
       "      <td>14618693</td>\n",
       "      <td>contacto</td>\n",
       "      <td>2021-07-08</td>\n",
       "      <td>2021-07-05</td>\n",
       "      <td>Ejercicio libre de la profesión RM región</td>\n",
       "      <td>13</td>\n",
       "      <td>...</td>\n",
       "      <td>Sin Datos</td>\n",
       "      <td>Sin Datos</td>\n",
       "      <td>Sin Datos</td>\n",
       "      <td>Sin Datos</td>\n",
       "      <td>En proceso de seguimiento</td>\n",
       "      <td>2021-07-07 12:18:26.894552</td>\n",
       "      <td>Llamada telefónica</td>\n",
       "      <td>t</td>\n",
       "      <td>NaN</td>\n",
       "      <td>NaN</td>\n",
       "    </tr>\n",
       "    <tr>\n",
       "      <th>1</th>\n",
       "      <td>14585350</td>\n",
       "      <td>14585350</td>\n",
       "      <td>NaN</td>\n",
       "      <td>NaN</td>\n",
       "      <td>NaN</td>\n",
       "      <td>caso</td>\n",
       "      <td>2021-07-12</td>\n",
       "      <td>2021-07-05</td>\n",
       "      <td>Centro de Salud Familiar Puerto Aysen</td>\n",
       "      <td>11</td>\n",
       "      <td>...</td>\n",
       "      <td>Sin Datos</td>\n",
       "      <td>Sin Datos</td>\n",
       "      <td>f</td>\n",
       "      <td>Sin Datos</td>\n",
       "      <td>En proceso de seguimiento</td>\n",
       "      <td>2021-07-05 12:32:39.304674</td>\n",
       "      <td>Llamada telefónica</td>\n",
       "      <td>t</td>\n",
       "      <td>NaN</td>\n",
       "      <td>NaN</td>\n",
       "    </tr>\n",
       "    <tr>\n",
       "      <th>2</th>\n",
       "      <td>14603344</td>\n",
       "      <td>14603344</td>\n",
       "      <td>NaN</td>\n",
       "      <td>NaN</td>\n",
       "      <td>NaN</td>\n",
       "      <td>caso</td>\n",
       "      <td>2021-07-06</td>\n",
       "      <td>2021-07-05</td>\n",
       "      <td>Actividades gestionadas por la Dirección del S...</td>\n",
       "      <td>11</td>\n",
       "      <td>...</td>\n",
       "      <td>Sin Datos</td>\n",
       "      <td>Sin Datos</td>\n",
       "      <td>f</td>\n",
       "      <td>Sin Datos</td>\n",
       "      <td>En proceso de seguimiento</td>\n",
       "      <td>2021-07-05 16:32:13.222828</td>\n",
       "      <td>Llamada telefónica</td>\n",
       "      <td>t</td>\n",
       "      <td>NaN</td>\n",
       "      <td>NaN</td>\n",
       "    </tr>\n",
       "    <tr>\n",
       "      <th>3</th>\n",
       "      <td>SC14574306-18460165</td>\n",
       "      <td>NaN</td>\n",
       "      <td>18460165</td>\n",
       "      <td>NaN</td>\n",
       "      <td>14574306</td>\n",
       "      <td>contacto</td>\n",
       "      <td>2021-07-13</td>\n",
       "      <td>2021-07-05</td>\n",
       "      <td>Actividades gestionadas por la Dirección del S...</td>\n",
       "      <td>11</td>\n",
       "      <td>...</td>\n",
       "      <td>Sin Datos</td>\n",
       "      <td>Sin Datos</td>\n",
       "      <td>Sin Datos</td>\n",
       "      <td>Sin Datos</td>\n",
       "      <td>Contacto sintomático</td>\n",
       "      <td>2021-07-06 16:27:11.452588</td>\n",
       "      <td>Llamada telefónica</td>\n",
       "      <td>t</td>\n",
       "      <td>NaN</td>\n",
       "      <td>NaN</td>\n",
       "    </tr>\n",
       "    <tr>\n",
       "      <th>4</th>\n",
       "      <td>SC14757148-18641978</td>\n",
       "      <td>NaN</td>\n",
       "      <td>18641978</td>\n",
       "      <td>NaN</td>\n",
       "      <td>14757148</td>\n",
       "      <td>contacto</td>\n",
       "      <td>2021-07-14</td>\n",
       "      <td>2021-07-09</td>\n",
       "      <td>Centro de Salud Familiar Puerto Aysen</td>\n",
       "      <td>11</td>\n",
       "      <td>...</td>\n",
       "      <td>Sin Datos</td>\n",
       "      <td>Sin Datos</td>\n",
       "      <td>Sin Datos</td>\n",
       "      <td>Sin Datos</td>\n",
       "      <td>En proceso de seguimiento</td>\n",
       "      <td>2021-07-09 21:24:23.366254</td>\n",
       "      <td>Llamada telefónica</td>\n",
       "      <td>t</td>\n",
       "      <td>NaN</td>\n",
       "      <td>NaN</td>\n",
       "    </tr>\n",
       "    <tr>\n",
       "      <th>...</th>\n",
       "      <td>...</td>\n",
       "      <td>...</td>\n",
       "      <td>...</td>\n",
       "      <td>...</td>\n",
       "      <td>...</td>\n",
       "      <td>...</td>\n",
       "      <td>...</td>\n",
       "      <td>...</td>\n",
       "      <td>...</td>\n",
       "      <td>...</td>\n",
       "      <td>...</td>\n",
       "      <td>...</td>\n",
       "      <td>...</td>\n",
       "      <td>...</td>\n",
       "      <td>...</td>\n",
       "      <td>...</td>\n",
       "      <td>...</td>\n",
       "      <td>...</td>\n",
       "      <td>...</td>\n",
       "      <td>...</td>\n",
       "      <td>...</td>\n",
       "    </tr>\n",
       "    <tr>\n",
       "      <th>30959</th>\n",
       "      <td>SC16034389-20188901</td>\n",
       "      <td>NaN</td>\n",
       "      <td>20188901</td>\n",
       "      <td>NaN</td>\n",
       "      <td>16034389</td>\n",
       "      <td>contacto</td>\n",
       "      <td>2021-08-25</td>\n",
       "      <td>2021-08-15</td>\n",
       "      <td>Hospital Regional (Coihaique)</td>\n",
       "      <td>11</td>\n",
       "      <td>...</td>\n",
       "      <td>Sin Datos</td>\n",
       "      <td>Sin Datos</td>\n",
       "      <td>Sin Datos</td>\n",
       "      <td>Sin Datos</td>\n",
       "      <td>En proceso de seguimiento</td>\n",
       "      <td>2021-08-17 12:10:55.321584</td>\n",
       "      <td>Llamada telefónica</td>\n",
       "      <td>t</td>\n",
       "      <td>NaN</td>\n",
       "      <td>Escuela nieves del sur</td>\n",
       "    </tr>\n",
       "    <tr>\n",
       "      <th>30960</th>\n",
       "      <td>PNTM-7016056768</td>\n",
       "      <td>NaN</td>\n",
       "      <td>NaN</td>\n",
       "      <td>7016056768</td>\n",
       "      <td>NaN</td>\n",
       "      <td>no notificado índice</td>\n",
       "      <td>Sin Datos</td>\n",
       "      <td>Sin Datos</td>\n",
       "      <td>Sin Datos</td>\n",
       "      <td>Sin Datos</td>\n",
       "      <td>...</td>\n",
       "      <td>Sin Datos</td>\n",
       "      <td>Sin Datos</td>\n",
       "      <td>Sin Datos</td>\n",
       "      <td>Sin Datos</td>\n",
       "      <td>Aún no contactado</td>\n",
       "      <td>2021-08-16 00:32:44.242543</td>\n",
       "      <td>Sin Datos</td>\n",
       "      <td>Sin Datos</td>\n",
       "      <td>Sin Datos</td>\n",
       "      <td>Sin Datos</td>\n",
       "    </tr>\n",
       "    <tr>\n",
       "      <th>30961</th>\n",
       "      <td>PNTM-7015472903</td>\n",
       "      <td>NaN</td>\n",
       "      <td>NaN</td>\n",
       "      <td>7015472903</td>\n",
       "      <td>NaN</td>\n",
       "      <td>no notificado índice</td>\n",
       "      <td>Sin Datos</td>\n",
       "      <td>Sin Datos</td>\n",
       "      <td>Sin Datos</td>\n",
       "      <td>Sin Datos</td>\n",
       "      <td>...</td>\n",
       "      <td>Sin Datos</td>\n",
       "      <td>Sin Datos</td>\n",
       "      <td>Sin Datos</td>\n",
       "      <td>Sin Datos</td>\n",
       "      <td>Aún no contactado</td>\n",
       "      <td>2021-08-05 00:32:25.801614</td>\n",
       "      <td>Sin Datos</td>\n",
       "      <td>Sin Datos</td>\n",
       "      <td>Sin Datos</td>\n",
       "      <td>Sin Datos</td>\n",
       "    </tr>\n",
       "    <tr>\n",
       "      <th>30962</th>\n",
       "      <td>PNTM-7015314831</td>\n",
       "      <td>NaN</td>\n",
       "      <td>NaN</td>\n",
       "      <td>7015314831</td>\n",
       "      <td>NaN</td>\n",
       "      <td>no notificado índice</td>\n",
       "      <td>Sin Datos</td>\n",
       "      <td>Sin Datos</td>\n",
       "      <td>Sin Datos</td>\n",
       "      <td>Sin Datos</td>\n",
       "      <td>...</td>\n",
       "      <td>Sin Datos</td>\n",
       "      <td>Sin Datos</td>\n",
       "      <td>Sin Datos</td>\n",
       "      <td>Sin Datos</td>\n",
       "      <td>Aún no contactado</td>\n",
       "      <td>2021-08-01 00:32:32.553682</td>\n",
       "      <td>Sin Datos</td>\n",
       "      <td>Sin Datos</td>\n",
       "      <td>Sin Datos</td>\n",
       "      <td>Sin Datos</td>\n",
       "    </tr>\n",
       "    <tr>\n",
       "      <th>30963</th>\n",
       "      <td>PNTM-7016230035</td>\n",
       "      <td>NaN</td>\n",
       "      <td>NaN</td>\n",
       "      <td>7016230035</td>\n",
       "      <td>NaN</td>\n",
       "      <td>no notificado índice</td>\n",
       "      <td>Sin Datos</td>\n",
       "      <td>Sin Datos</td>\n",
       "      <td>Sin Datos</td>\n",
       "      <td>Sin Datos</td>\n",
       "      <td>...</td>\n",
       "      <td>Sin Datos</td>\n",
       "      <td>Sin Datos</td>\n",
       "      <td>Sin Datos</td>\n",
       "      <td>Sin Datos</td>\n",
       "      <td>Aún no contactado</td>\n",
       "      <td>2021-08-19 00:33:56.129119</td>\n",
       "      <td>Sin Datos</td>\n",
       "      <td>Sin Datos</td>\n",
       "      <td>Sin Datos</td>\n",
       "      <td>Sin Datos</td>\n",
       "    </tr>\n",
       "  </tbody>\n",
       "</table>\n",
       "<p>30964 rows × 46 columns</p>\n",
       "</div>"
      ],
      "text/plain": [
       "                   n_folio nfolio_caso nfolio_caso_indice nfolio_pntm  \\\n",
       "0      SC14618693-18497788         NaN           18497788         NaN   \n",
       "1                 14585350    14585350                NaN         NaN   \n",
       "2                 14603344    14603344                NaN         NaN   \n",
       "3      SC14574306-18460165         NaN           18460165         NaN   \n",
       "4      SC14757148-18641978         NaN           18641978         NaN   \n",
       "...                    ...         ...                ...         ...   \n",
       "30959  SC16034389-20188901         NaN           20188901         NaN   \n",
       "30960      PNTM-7016056768         NaN                NaN  7016056768   \n",
       "30961      PNTM-7015472903         NaN                NaN  7015472903   \n",
       "30962      PNTM-7015314831         NaN                NaN  7015314831   \n",
       "30963      PNTM-7016230035         NaN                NaN  7016230035   \n",
       "\n",
       "      nfolio_contacto_estrecho      tipo_seguimiento dia_contacto  \\\n",
       "0                     14618693              contacto   2021-07-08   \n",
       "1                          NaN                  caso   2021-07-12   \n",
       "2                          NaN                  caso   2021-07-06   \n",
       "3                     14574306              contacto   2021-07-13   \n",
       "4                     14757148              contacto   2021-07-14   \n",
       "...                        ...                   ...          ...   \n",
       "30959                 16034389              contacto   2021-08-25   \n",
       "30960                      NaN  no notificado índice    Sin Datos   \n",
       "30961                      NaN  no notificado índice    Sin Datos   \n",
       "30962                      NaN  no notificado índice    Sin Datos   \n",
       "30963                      NaN  no notificado índice    Sin Datos   \n",
       "\n",
       "      fecha_notificacion                          nombre_institucion_indice  \\\n",
       "0             2021-07-05          Ejercicio libre de la profesión RM región   \n",
       "1             2021-07-05              Centro de Salud Familiar Puerto Aysen   \n",
       "2             2021-07-05  Actividades gestionadas por la Dirección del S...   \n",
       "3             2021-07-05  Actividades gestionadas por la Dirección del S...   \n",
       "4             2021-07-09              Centro de Salud Familiar Puerto Aysen   \n",
       "...                  ...                                                ...   \n",
       "30959         2021-08-15                      Hospital Regional (Coihaique)   \n",
       "30960          Sin Datos                                          Sin Datos   \n",
       "30961          Sin Datos                                          Sin Datos   \n",
       "30962          Sin Datos                                          Sin Datos   \n",
       "30963          Sin Datos                                          Sin Datos   \n",
       "\n",
       "      region_institucion_indice  ... cont_se_emite_licencia  \\\n",
       "0                            13  ...              Sin Datos   \n",
       "1                            11  ...              Sin Datos   \n",
       "2                            11  ...              Sin Datos   \n",
       "3                            11  ...              Sin Datos   \n",
       "4                            11  ...              Sin Datos   \n",
       "...                         ...  ...                    ...   \n",
       "30959                        11  ...              Sin Datos   \n",
       "30960                 Sin Datos  ...              Sin Datos   \n",
       "30961                 Sin Datos  ...              Sin Datos   \n",
       "30962                 Sin Datos  ...              Sin Datos   \n",
       "30963                 Sin Datos  ...              Sin Datos   \n",
       "\n",
       "      cont_fecha_licencia requiere_canasta_alimentos  \\\n",
       "0               Sin Datos                  Sin Datos   \n",
       "1               Sin Datos                          f   \n",
       "2               Sin Datos                          f   \n",
       "3               Sin Datos                  Sin Datos   \n",
       "4               Sin Datos                  Sin Datos   \n",
       "...                   ...                        ...   \n",
       "30959           Sin Datos                  Sin Datos   \n",
       "30960           Sin Datos                  Sin Datos   \n",
       "30961           Sin Datos                  Sin Datos   \n",
       "30962           Sin Datos                  Sin Datos   \n",
       "30963           Sin Datos                  Sin Datos   \n",
       "\n",
       "      cantidad_personas_vivienda    cont_estado_seguimiento  \\\n",
       "0                      Sin Datos  En proceso de seguimiento   \n",
       "1                      Sin Datos  En proceso de seguimiento   \n",
       "2                      Sin Datos  En proceso de seguimiento   \n",
       "3                      Sin Datos       Contacto sintomático   \n",
       "4                      Sin Datos  En proceso de seguimiento   \n",
       "...                          ...                        ...   \n",
       "30959                  Sin Datos  En proceso de seguimiento   \n",
       "30960                  Sin Datos          Aún no contactado   \n",
       "30961                  Sin Datos          Aún no contactado   \n",
       "30962                  Sin Datos          Aún no contactado   \n",
       "30963                  Sin Datos          Aún no contactado   \n",
       "\n",
       "                   fecha_creacion   tipo_del_contacto contacto_localizado  \\\n",
       "0      2021-07-07 12:18:26.894552  Llamada telefónica                   t   \n",
       "1      2021-07-05 12:32:39.304674  Llamada telefónica                   t   \n",
       "2      2021-07-05 16:32:13.222828  Llamada telefónica                   t   \n",
       "3      2021-07-06 16:27:11.452588  Llamada telefónica                   t   \n",
       "4      2021-07-09 21:24:23.366254  Llamada telefónica                   t   \n",
       "...                           ...                 ...                 ...   \n",
       "30959  2021-08-17 12:10:55.321584  Llamada telefónica                   t   \n",
       "30960  2021-08-16 00:32:44.242543           Sin Datos           Sin Datos   \n",
       "30961  2021-08-05 00:32:25.801614           Sin Datos           Sin Datos   \n",
       "30962  2021-08-01 00:32:32.553682           Sin Datos           Sin Datos   \n",
       "30963  2021-08-19 00:33:56.129119           Sin Datos           Sin Datos   \n",
       "\n",
       "         empresa             institucion  \n",
       "0            NaN                     NaN  \n",
       "1            NaN                     NaN  \n",
       "2            NaN                     NaN  \n",
       "3            NaN                     NaN  \n",
       "4            NaN                     NaN  \n",
       "...          ...                     ...  \n",
       "30959        NaN  Escuela nieves del sur  \n",
       "30960  Sin Datos               Sin Datos  \n",
       "30961  Sin Datos               Sin Datos  \n",
       "30962  Sin Datos               Sin Datos  \n",
       "30963  Sin Datos               Sin Datos  \n",
       "\n",
       "[30964 rows x 46 columns]"
      ]
     },
     "execution_count": 60,
     "metadata": {},
     "output_type": "execute_result"
    }
   ],
   "source": [
    "df_seguimiento_clean"
   ]
  },
  {
   "cell_type": "markdown",
   "id": "6034da3a",
   "metadata": {},
   "source": [
    "# Indicador 5: Oportunidad en la investigación epidemiológica de casos\n",
    "\n",
    "## Objetivo: Fortalecer la investigación epidemiológica de los casos\n",
    "\n",
    "### Meta: >90%\n",
    "\n",
    "**Periodicidad:** Semanal\n",
    "\n",
    "**Escala Territorial:** Comunal, Regional, Nacional\n",
    "\n",
    "**Fuente de Información:** Base EPIVIGILIA actualizada con los reportes de laboratorio al día de la determinación del indicador. Base de seguimiento"
   ]
  },
  {
   "cell_type": "markdown",
   "id": "0d29cecb",
   "metadata": {},
   "source": [
    "### Cálculo del indicador a nivel comunal\n",
    "\n",
    "$\\frac{No.\\:casos\\:nuevos\\:registrados\\:investigados\\:dentro\\:de\\:48\\:hrs\\:por\\:comuna\\:1er\\:establecimiento,\\:semana\\:x}{No.\\:casos\\:nuevos\\:registrados\\:por\\:comuna\\:1er\\:establecimiento\\:semana\\:x}x100$"
   ]
  },
  {
   "cell_type": "markdown",
   "id": "d9035d1d",
   "metadata": {},
   "source": [
    "### Cálculo del indicador a nivel regional\n",
    "\n",
    "$\\frac{No.\\:casos\\:nuevos\\:registrados\\:investigados\\:dentro\\:de\\:48\\:hrs\\:por\\:región\\:1er\\:establecimiento,\\:semana\\:x}{No.\\:casos\\:nuevos\\:registrados\\:por\\:región\\:1er\\:establecimiento\\:semana\\:x}x100$"
   ]
  },
  {
   "cell_type": "markdown",
   "id": "91bc248a",
   "metadata": {},
   "source": [
    "**Observación**\n",
    "\n",
    "- No se incluyen los casos nuevos no notificados\n",
    "- Se considera un caso nuevo registrado a aquel caso notificado que cumple los requisitos para estar en el modulo de seguimiento\n",
    "- La fecha para determinar el *inicio de seguimiento* corresponde a la **fecha de resultado (caso confirmado)** o **fecha de notificación (caso probable)**. Para un caso confirmado, si el resultado del test es anterior a la fecha de notificación, se debe iniciar seguimiento a partir de la fecha en que el registro está disponible en la bandeja de seguimiento.\n",
    "- Se cumple el indicador si, dentro de las 48 hrs. a partir de la fecha de inicio de seguimiento se tiene al menos una actividad de seguimiento exitosa (se logra ubicar al caso).\n",
    "- El primer establecimiento corresponde al establecimiento dado por API FONASA. Si el registro no hace match con API FONASA, se considera el establecimiento de notificación.\n",
    "- Se consideran sólo registros de casos que estén activos o egresados en la bandeja de seguimiento."
   ]
  },
  {
   "cell_type": "code",
   "execution_count": 136,
   "id": "96d3e313",
   "metadata": {},
   "outputs": [
    {
     "data": {
      "text/plain": [
       "0       2021-07-07 12:18:26.894552\n",
       "1       2021-07-05 12:32:39.304674\n",
       "2       2021-07-05 16:32:13.222828\n",
       "3       2021-07-06 16:27:11.452588\n",
       "4       2021-07-09 21:24:23.366254\n",
       "                   ...            \n",
       "30959   2021-08-17 12:10:55.321584\n",
       "30960   2021-08-16 00:32:44.242543\n",
       "30961   2021-08-05 00:32:25.801614\n",
       "30962   2021-08-01 00:32:32.553682\n",
       "30963   2021-08-19 00:33:56.129119\n",
       "Name: fecha_creacion, Length: 30964, dtype: datetime64[ns]"
      ]
     },
     "execution_count": 136,
     "metadata": {},
     "output_type": "execute_result"
    }
   ],
   "source": [
    "df_seguimiento_merged['fecha_creacion'] #casos nuevos registrados"
   ]
  },
  {
   "cell_type": "code",
   "execution_count": null,
   "id": "142df916",
   "metadata": {},
   "outputs": [],
   "source": [
    "df_seguimiento_merged['fecha_creacion'] #fecha "
   ]
  },
  {
   "cell_type": "code",
   "execution_count": 141,
   "id": "2d0bd718",
   "metadata": {},
   "outputs": [
    {
     "data": {
      "text/html": [
       "<div>\n",
       "<style scoped>\n",
       "    .dataframe tbody tr th:only-of-type {\n",
       "        vertical-align: middle;\n",
       "    }\n",
       "\n",
       "    .dataframe tbody tr th {\n",
       "        vertical-align: top;\n",
       "    }\n",
       "\n",
       "    .dataframe thead th {\n",
       "        text-align: right;\n",
       "    }\n",
       "</style>\n",
       "<table border=\"1\" class=\"dataframe\">\n",
       "  <thead>\n",
       "    <tr style=\"text-align: right;\">\n",
       "      <th></th>\n",
       "      <th>n_folio</th>\n",
       "      <th>tipo_seguimiento</th>\n",
       "      <th>dia_contacto</th>\n",
       "      <th>id_enfermedad_eno</th>\n",
       "      <th>enfermedad</th>\n",
       "      <th>fecha_notificacion</th>\n",
       "      <th>id_institucion</th>\n",
       "      <th>nombre_institucion_indice</th>\n",
       "      <th>region_institucion_indice</th>\n",
       "      <th>nombre_region_institucion_indice</th>\n",
       "      <th>...</th>\n",
       "      <th>región_derivación</th>\n",
       "      <th>región_seremi</th>\n",
       "      <th>región_notificacion</th>\n",
       "      <th>region_final</th>\n",
       "      <th>TTA</th>\n",
       "      <th>nfolio_caso</th>\n",
       "      <th>nfolio_caso_indice</th>\n",
       "      <th>nfolio_pntm</th>\n",
       "      <th>nfolio_contacto_estrecho</th>\n",
       "      <th>dif_fecha</th>\n",
       "    </tr>\n",
       "  </thead>\n",
       "  <tbody>\n",
       "    <tr>\n",
       "      <th>24017</th>\n",
       "      <td>SC14585350-18415004</td>\n",
       "      <td>contacto</td>\n",
       "      <td>2021-07-06</td>\n",
       "      <td>50</td>\n",
       "      <td>Coronavirus (COVID-19)</td>\n",
       "      <td>2021-07-05</td>\n",
       "      <td>200380</td>\n",
       "      <td>Centro de Salud Familiar Puerto Aysen</td>\n",
       "      <td>11</td>\n",
       "      <td>Región de Aysén del General Carlos Ibáñez del ...</td>\n",
       "      <td>...</td>\n",
       "      <td>Sin Datos</td>\n",
       "      <td>Sin Datos</td>\n",
       "      <td>Región De Aysén del General Carlos Ibañez del ...</td>\n",
       "      <td>Región de Aysén del General Carlos Ibáñez del ...</td>\n",
       "      <td>APS</td>\n",
       "      <td>NaN</td>\n",
       "      <td>18415004</td>\n",
       "      <td>NaN</td>\n",
       "      <td>14585350</td>\n",
       "      <td>0 days</td>\n",
       "    </tr>\n",
       "    <tr>\n",
       "      <th>23281</th>\n",
       "      <td>SC14688644-18626690</td>\n",
       "      <td>contacto</td>\n",
       "      <td>2021-07-10</td>\n",
       "      <td>50</td>\n",
       "      <td>Coronavirus (COVID-19)</td>\n",
       "      <td>2021-07-07</td>\n",
       "      <td>125410</td>\n",
       "      <td>Posta de Salud Rural Puerto Guadal</td>\n",
       "      <td>11</td>\n",
       "      <td>Región de Aysén del General Carlos Ibáñez del ...</td>\n",
       "      <td>...</td>\n",
       "      <td>Sin Datos</td>\n",
       "      <td>Sin Datos</td>\n",
       "      <td>Región De Aysén del General Carlos Ibañez del ...</td>\n",
       "      <td>Región de Aysén del General Carlos Ibáñez del ...</td>\n",
       "      <td>SEREMI</td>\n",
       "      <td>NaN</td>\n",
       "      <td>18626690</td>\n",
       "      <td>NaN</td>\n",
       "      <td>14688644</td>\n",
       "      <td>2 days</td>\n",
       "    </tr>\n",
       "  </tbody>\n",
       "</table>\n",
       "<p>2 rows × 89 columns</p>\n",
       "</div>"
      ],
      "text/plain": [
       "                   n_folio tipo_seguimiento dia_contacto  id_enfermedad_eno  \\\n",
       "24017  SC14585350-18415004         contacto   2021-07-06                 50   \n",
       "23281  SC14688644-18626690         contacto   2021-07-10                 50   \n",
       "\n",
       "                   enfermedad fecha_notificacion id_institucion  \\\n",
       "24017  Coronavirus (COVID-19)         2021-07-05         200380   \n",
       "23281  Coronavirus (COVID-19)         2021-07-07         125410   \n",
       "\n",
       "                   nombre_institucion_indice region_institucion_indice  \\\n",
       "24017  Centro de Salud Familiar Puerto Aysen                        11   \n",
       "23281     Posta de Salud Rural Puerto Guadal                        11   \n",
       "\n",
       "                        nombre_region_institucion_indice  ...  \\\n",
       "24017  Región de Aysén del General Carlos Ibáñez del ...  ...   \n",
       "23281  Región de Aysén del General Carlos Ibáñez del ...  ...   \n",
       "\n",
       "      región_derivación región_seremi  \\\n",
       "24017         Sin Datos     Sin Datos   \n",
       "23281         Sin Datos     Sin Datos   \n",
       "\n",
       "                                     región_notificacion  \\\n",
       "24017  Región De Aysén del General Carlos Ibañez del ...   \n",
       "23281  Región De Aysén del General Carlos Ibañez del ...   \n",
       "\n",
       "                                            region_final     TTA nfolio_caso  \\\n",
       "24017  Región de Aysén del General Carlos Ibáñez del ...     APS         NaN   \n",
       "23281  Región de Aysén del General Carlos Ibáñez del ...  SEREMI         NaN   \n",
       "\n",
       "      nfolio_caso_indice nfolio_pntm nfolio_contacto_estrecho dif_fecha  \n",
       "24017           18415004         NaN                 14585350    0 days  \n",
       "23281           18626690         NaN                 14688644    2 days  \n",
       "\n",
       "[2 rows x 89 columns]"
      ]
     },
     "execution_count": 141,
     "metadata": {},
     "output_type": "execute_result"
    }
   ],
   "source": [
    "#Se consideran solo los visible no eliniminados y se botan duplicados\n",
    "\n",
    "df_seguimiento_filtered= df_seguimiento_merged[df_seguimiento_merged['visible_no_eliminado']=='t'].drop_duplicates('n_folio')\n",
    "\n",
    "#Se consideran sólo registros de casos que estén activos o egresados en la bandeja de seguimiento.\n",
    "\n",
    "df_seguimiento_filtered= df_seguimiento_filtered[(df_seguimiento_filtered['suspendido']=='activo')|(df_seguimiento_filtered['suspendido']=='egresado')]\n",
    "\n",
    "df_seguimiento_filtered.sample(2)"
   ]
  },
  {
   "cell_type": "code",
   "execution_count": 143,
   "id": "9b638aeb",
   "metadata": {},
   "outputs": [
    {
     "data": {
      "text/html": [
       "<div>\n",
       "<style scoped>\n",
       "    .dataframe tbody tr th:only-of-type {\n",
       "        vertical-align: middle;\n",
       "    }\n",
       "\n",
       "    .dataframe tbody tr th {\n",
       "        vertical-align: top;\n",
       "    }\n",
       "\n",
       "    .dataframe thead th {\n",
       "        text-align: right;\n",
       "    }\n",
       "</style>\n",
       "<table border=\"1\" class=\"dataframe\">\n",
       "  <thead>\n",
       "    <tr style=\"text-align: right;\">\n",
       "      <th></th>\n",
       "      <th>fecha_creacion</th>\n",
       "      <th>fecha_notificacion</th>\n",
       "      <th>fecha_cumple_requisitos</th>\n",
       "      <th>fecha_derivacion_toma_muestra</th>\n",
       "      <th>cont_fecha_seguimiento</th>\n",
       "      <th>cont_inicio_cuarentena</th>\n",
       "      <th>cont_fin_cuarentena</th>\n",
       "      <th>cont_fecha_licencia</th>\n",
       "      <th>dif_fecha</th>\n",
       "    </tr>\n",
       "  </thead>\n",
       "  <tbody>\n",
       "    <tr>\n",
       "      <th>24100</th>\n",
       "      <td>2021-08-18 20:46:51.567395</td>\n",
       "      <td>2021-08-17</td>\n",
       "      <td>2021-08-18</td>\n",
       "      <td>Sin Datos</td>\n",
       "      <td>Sin Datos</td>\n",
       "      <td>2021-08-11</td>\n",
       "      <td>2021-08-24</td>\n",
       "      <td>Sin Datos</td>\n",
       "      <td>1 days</td>\n",
       "    </tr>\n",
       "    <tr>\n",
       "      <th>28087</th>\n",
       "      <td>2021-07-23 20:13:04.592211</td>\n",
       "      <td>2021-07-22</td>\n",
       "      <td>2021-07-23</td>\n",
       "      <td>Sin Datos</td>\n",
       "      <td>Sin Datos</td>\n",
       "      <td>2021-07-22</td>\n",
       "      <td>2021-08-04</td>\n",
       "      <td>Sin Datos</td>\n",
       "      <td>1 days</td>\n",
       "    </tr>\n",
       "    <tr>\n",
       "      <th>25836</th>\n",
       "      <td>2021-08-17 18:54:44.871600</td>\n",
       "      <td>2021-08-16</td>\n",
       "      <td>2021-08-17</td>\n",
       "      <td>Sin Datos</td>\n",
       "      <td>Sin Datos</td>\n",
       "      <td>2021-08-17</td>\n",
       "      <td>2021-08-30</td>\n",
       "      <td>Sin Datos</td>\n",
       "      <td>1 days</td>\n",
       "    </tr>\n",
       "    <tr>\n",
       "      <th>27826</th>\n",
       "      <td>2021-07-05 15:11:24.061389</td>\n",
       "      <td>2021-07-05</td>\n",
       "      <td>2021-07-05</td>\n",
       "      <td>2021-07-05</td>\n",
       "      <td>Sin Datos</td>\n",
       "      <td>2021-07-02</td>\n",
       "      <td>2021-07-15</td>\n",
       "      <td>Sin Datos</td>\n",
       "      <td>0 days</td>\n",
       "    </tr>\n",
       "  </tbody>\n",
       "</table>\n",
       "</div>"
      ],
      "text/plain": [
       "                  fecha_creacion fecha_notificacion fecha_cumple_requisitos  \\\n",
       "24100 2021-08-18 20:46:51.567395         2021-08-17              2021-08-18   \n",
       "28087 2021-07-23 20:13:04.592211         2021-07-22              2021-07-23   \n",
       "25836 2021-08-17 18:54:44.871600         2021-08-16              2021-08-17   \n",
       "27826 2021-07-05 15:11:24.061389         2021-07-05              2021-07-05   \n",
       "\n",
       "      fecha_derivacion_toma_muestra cont_fecha_seguimiento  \\\n",
       "24100                     Sin Datos              Sin Datos   \n",
       "28087                     Sin Datos              Sin Datos   \n",
       "25836                     Sin Datos              Sin Datos   \n",
       "27826                    2021-07-05              Sin Datos   \n",
       "\n",
       "      cont_inicio_cuarentena cont_fin_cuarentena cont_fecha_licencia dif_fecha  \n",
       "24100             2021-08-11          2021-08-24           Sin Datos    1 days  \n",
       "28087             2021-07-22          2021-08-04           Sin Datos    1 days  \n",
       "25836             2021-08-17          2021-08-30           Sin Datos    1 days  \n",
       "27826             2021-07-02          2021-07-15           Sin Datos    0 days  "
      ]
     },
     "execution_count": 143,
     "metadata": {},
     "output_type": "execute_result"
    }
   ],
   "source": [
    "df_seguimiento_filtered[['fecha_creacion',\n",
    "                       'fecha_notificacion', \n",
    "                       'fecha_cumple_requisitos', #Se considera un caso nuevo registrado a aquel caso notificado que cumple los requisitos para estar en el modulo de seguimiento\n",
    "                       'fecha_derivacion_toma_muestra',\n",
    "                       'cont_fecha_seguimiento',\n",
    "                       'cont_inicio_cuarentena',\n",
    "                       'cont_fin_cuarentena',\n",
    "                       'cont_fecha_licencia',\n",
    "                       'dif_fecha'\n",
    "                      ]].sample(4)"
   ]
  },
  {
   "cell_type": "code",
   "execution_count": 144,
   "id": "daa222f9",
   "metadata": {},
   "outputs": [],
   "source": [
    "# Crea columna considerando si diferencial de fecha cumple requisitos y fecha de notificacion\n",
    "# es menor a un timedelta de d 2 días\n",
    "\n",
    "df_seguimiento_filtered['ind5'] = df_seguimiento_filtered['dif_fecha']<= pd.to_timedelta('2 days')"
   ]
  },
  {
   "cell_type": "code",
   "execution_count": 148,
   "id": "92fcfb43",
   "metadata": {},
   "outputs": [
    {
     "data": {
      "text/html": [
       "<div>\n",
       "<style scoped>\n",
       "    .dataframe tbody tr th:only-of-type {\n",
       "        vertical-align: middle;\n",
       "    }\n",
       "\n",
       "    .dataframe tbody tr th {\n",
       "        vertical-align: top;\n",
       "    }\n",
       "\n",
       "    .dataframe thead th {\n",
       "        text-align: right;\n",
       "    }\n",
       "</style>\n",
       "<table border=\"1\" class=\"dataframe\">\n",
       "  <thead>\n",
       "    <tr style=\"text-align: right;\">\n",
       "      <th></th>\n",
       "      <th>fecha_cumple_requisitos</th>\n",
       "      <th>ind5</th>\n",
       "      <th>n_folio</th>\n",
       "    </tr>\n",
       "  </thead>\n",
       "  <tbody>\n",
       "    <tr>\n",
       "      <th>0</th>\n",
       "      <td>2021-07-02</td>\n",
       "      <td>True</td>\n",
       "      <td>41</td>\n",
       "    </tr>\n",
       "    <tr>\n",
       "      <th>1</th>\n",
       "      <td>2021-07-03</td>\n",
       "      <td>True</td>\n",
       "      <td>25</td>\n",
       "    </tr>\n",
       "    <tr>\n",
       "      <th>2</th>\n",
       "      <td>2021-07-04</td>\n",
       "      <td>True</td>\n",
       "      <td>24</td>\n",
       "    </tr>\n",
       "    <tr>\n",
       "      <th>3</th>\n",
       "      <td>2021-07-05</td>\n",
       "      <td>True</td>\n",
       "      <td>88</td>\n",
       "    </tr>\n",
       "    <tr>\n",
       "      <th>4</th>\n",
       "      <td>2021-07-06</td>\n",
       "      <td>False</td>\n",
       "      <td>1</td>\n",
       "    </tr>\n",
       "    <tr>\n",
       "      <th>...</th>\n",
       "      <td>...</td>\n",
       "      <td>...</td>\n",
       "      <td>...</td>\n",
       "    </tr>\n",
       "    <tr>\n",
       "      <th>92</th>\n",
       "      <td>2021-08-27</td>\n",
       "      <td>True</td>\n",
       "      <td>13</td>\n",
       "    </tr>\n",
       "    <tr>\n",
       "      <th>93</th>\n",
       "      <td>2021-08-28</td>\n",
       "      <td>True</td>\n",
       "      <td>6</td>\n",
       "    </tr>\n",
       "    <tr>\n",
       "      <th>94</th>\n",
       "      <td>2021-08-29</td>\n",
       "      <td>True</td>\n",
       "      <td>20</td>\n",
       "    </tr>\n",
       "    <tr>\n",
       "      <th>95</th>\n",
       "      <td>2021-08-30</td>\n",
       "      <td>True</td>\n",
       "      <td>82</td>\n",
       "    </tr>\n",
       "    <tr>\n",
       "      <th>96</th>\n",
       "      <td>2021-08-31</td>\n",
       "      <td>True</td>\n",
       "      <td>6</td>\n",
       "    </tr>\n",
       "  </tbody>\n",
       "</table>\n",
       "<p>97 rows × 3 columns</p>\n",
       "</div>"
      ],
      "text/plain": [
       "   fecha_cumple_requisitos   ind5  n_folio\n",
       "0               2021-07-02   True       41\n",
       "1               2021-07-03   True       25\n",
       "2               2021-07-04   True       24\n",
       "3               2021-07-05   True       88\n",
       "4               2021-07-06  False        1\n",
       "..                     ...    ...      ...\n",
       "92              2021-08-27   True       13\n",
       "93              2021-08-28   True        6\n",
       "94              2021-08-29   True       20\n",
       "95              2021-08-30   True       82\n",
       "96              2021-08-31   True        6\n",
       "\n",
       "[97 rows x 3 columns]"
      ]
     },
     "execution_count": 148,
     "metadata": {},
     "output_type": "execute_result"
    }
   ],
   "source": [
    "df_seguimiento_filtered.groupby(['fecha_cumple_requisitos', 'ind5']).count()[['n_folio']].reset_index()"
   ]
  },
  {
   "cell_type": "code",
   "execution_count": 152,
   "id": "4639df92",
   "metadata": {},
   "outputs": [
    {
     "data": {
      "application/vnd.plotly.v1+json": {
       "config": {
        "plotlyServerURL": "https://plot.ly"
       },
       "data": [
        {
         "alignmentgroup": "True",
         "hovertemplate": "Cumple=True<br>fecha_cumple_requisitos=%{x}<br>n_folio=%{y}<extra></extra>",
         "legendgroup": "True",
         "marker": {
          "color": "#636efa"
         },
         "name": "True",
         "offsetgroup": "True",
         "orientation": "v",
         "showlegend": true,
         "textposition": "auto",
         "type": "bar",
         "x": [
          "2021-07-02T00:00:00",
          "2021-07-03T00:00:00",
          "2021-07-04T00:00:00",
          "2021-07-05T00:00:00",
          "2021-07-06T00:00:00",
          "2021-07-07T00:00:00",
          "2021-07-08T00:00:00",
          "2021-07-09T00:00:00",
          "2021-07-10T00:00:00",
          "2021-07-11T00:00:00",
          "2021-07-12T00:00:00",
          "2021-07-13T00:00:00",
          "2021-07-14T00:00:00",
          "2021-07-15T00:00:00",
          "2021-07-16T00:00:00",
          "2021-07-17T00:00:00",
          "2021-07-18T00:00:00",
          "2021-07-19T00:00:00",
          "2021-07-20T00:00:00",
          "2021-07-21T00:00:00",
          "2021-07-22T00:00:00",
          "2021-07-23T00:00:00",
          "2021-07-24T00:00:00",
          "2021-07-25T00:00:00",
          "2021-07-26T00:00:00",
          "2021-07-27T00:00:00",
          "2021-07-28T00:00:00",
          "2021-07-29T00:00:00",
          "2021-07-30T00:00:00",
          "2021-07-31T00:00:00",
          "2021-08-01T00:00:00",
          "2021-08-02T00:00:00",
          "2021-08-03T00:00:00",
          "2021-08-04T00:00:00",
          "2021-08-05T00:00:00",
          "2021-08-06T00:00:00",
          "2021-08-07T00:00:00",
          "2021-08-08T00:00:00",
          "2021-08-09T00:00:00",
          "2021-08-10T00:00:00",
          "2021-08-11T00:00:00",
          "2021-08-12T00:00:00",
          "2021-08-13T00:00:00",
          "2021-08-14T00:00:00",
          "2021-08-15T00:00:00",
          "2021-08-16T00:00:00",
          "2021-08-17T00:00:00",
          "2021-08-18T00:00:00",
          "2021-08-19T00:00:00",
          "2021-08-20T00:00:00",
          "2021-08-21T00:00:00",
          "2021-08-22T00:00:00",
          "2021-08-23T00:00:00",
          "2021-08-24T00:00:00",
          "2021-08-25T00:00:00",
          "2021-08-26T00:00:00",
          "2021-08-27T00:00:00",
          "2021-08-28T00:00:00",
          "2021-08-29T00:00:00",
          "2021-08-30T00:00:00",
          "2021-08-31T00:00:00"
         ],
         "xaxis": "x",
         "y": [
          41,
          25,
          24,
          88,
          86,
          50,
          73,
          86,
          18,
          22,
          5,
          42,
          38,
          23,
          15,
          12,
          1,
          9,
          16,
          7,
          11,
          23,
          7,
          3,
          2,
          5,
          17,
          11,
          9,
          4,
          9,
          8,
          5,
          10,
          14,
          26,
          9,
          5,
          13,
          23,
          8,
          24,
          35,
          28,
          25,
          59,
          62,
          74,
          40,
          48,
          23,
          10,
          33,
          27,
          46,
          17,
          13,
          6,
          20,
          82,
          6
         ],
         "yaxis": "y"
        },
        {
         "alignmentgroup": "True",
         "hovertemplate": "Cumple=False<br>fecha_cumple_requisitos=%{x}<br>n_folio=%{y}<extra></extra>",
         "legendgroup": "False",
         "marker": {
          "color": "#EF553B"
         },
         "name": "False",
         "offsetgroup": "False",
         "orientation": "v",
         "showlegend": true,
         "textposition": "auto",
         "type": "bar",
         "x": [
          "2021-07-06T00:00:00",
          "2021-07-07T00:00:00",
          "2021-07-08T00:00:00",
          "2021-07-09T00:00:00",
          "2021-07-10T00:00:00",
          "2021-07-11T00:00:00",
          "2021-07-12T00:00:00",
          "2021-07-13T00:00:00",
          "2021-07-14T00:00:00",
          "2021-07-15T00:00:00",
          "2021-07-16T00:00:00",
          "2021-07-17T00:00:00",
          "2021-07-19T00:00:00",
          "2021-07-20T00:00:00",
          "2021-07-21T00:00:00",
          "2021-07-22T00:00:00",
          "2021-07-24T00:00:00",
          "2021-07-25T00:00:00",
          "2021-07-26T00:00:00",
          "2021-07-28T00:00:00",
          "2021-07-29T00:00:00",
          "2021-07-31T00:00:00",
          "2021-08-03T00:00:00",
          "2021-08-04T00:00:00",
          "2021-08-06T00:00:00",
          "2021-08-12T00:00:00",
          "2021-08-15T00:00:00",
          "2021-08-16T00:00:00",
          "2021-08-17T00:00:00",
          "2021-08-18T00:00:00",
          "2021-08-19T00:00:00",
          "2021-08-20T00:00:00",
          "2021-08-21T00:00:00",
          "2021-08-22T00:00:00",
          "2021-08-24T00:00:00",
          "2021-08-27T00:00:00"
         ],
         "xaxis": "x",
         "y": [
          1,
          1,
          15,
          5,
          1,
          2,
          2,
          5,
          2,
          2,
          1,
          2,
          2,
          4,
          2,
          6,
          1,
          7,
          1,
          1,
          2,
          1,
          3,
          1,
          11,
          9,
          1,
          17,
          2,
          3,
          1,
          2,
          2,
          1,
          6,
          3
         ],
         "yaxis": "y"
        }
       ],
       "layout": {
        "barmode": "relative",
        "legend": {
         "title": {
          "text": "Cumple"
         },
         "tracegroupgap": 0
        },
        "margin": {
         "t": 60
        },
        "template": {
         "data": {
          "bar": [
           {
            "error_x": {
             "color": "rgb(36,36,36)"
            },
            "error_y": {
             "color": "rgb(36,36,36)"
            },
            "marker": {
             "line": {
              "color": "white",
              "width": 0.5
             }
            },
            "type": "bar"
           }
          ],
          "barpolar": [
           {
            "marker": {
             "line": {
              "color": "white",
              "width": 0.5
             }
            },
            "type": "barpolar"
           }
          ],
          "carpet": [
           {
            "aaxis": {
             "endlinecolor": "rgb(36,36,36)",
             "gridcolor": "white",
             "linecolor": "white",
             "minorgridcolor": "white",
             "startlinecolor": "rgb(36,36,36)"
            },
            "baxis": {
             "endlinecolor": "rgb(36,36,36)",
             "gridcolor": "white",
             "linecolor": "white",
             "minorgridcolor": "white",
             "startlinecolor": "rgb(36,36,36)"
            },
            "type": "carpet"
           }
          ],
          "choropleth": [
           {
            "colorbar": {
             "outlinewidth": 1,
             "tickcolor": "rgb(36,36,36)",
             "ticks": "outside"
            },
            "type": "choropleth"
           }
          ],
          "contour": [
           {
            "colorbar": {
             "outlinewidth": 1,
             "tickcolor": "rgb(36,36,36)",
             "ticks": "outside"
            },
            "colorscale": [
             [
              0,
              "#440154"
             ],
             [
              0.1111111111111111,
              "#482878"
             ],
             [
              0.2222222222222222,
              "#3e4989"
             ],
             [
              0.3333333333333333,
              "#31688e"
             ],
             [
              0.4444444444444444,
              "#26828e"
             ],
             [
              0.5555555555555556,
              "#1f9e89"
             ],
             [
              0.6666666666666666,
              "#35b779"
             ],
             [
              0.7777777777777778,
              "#6ece58"
             ],
             [
              0.8888888888888888,
              "#b5de2b"
             ],
             [
              1,
              "#fde725"
             ]
            ],
            "type": "contour"
           }
          ],
          "contourcarpet": [
           {
            "colorbar": {
             "outlinewidth": 1,
             "tickcolor": "rgb(36,36,36)",
             "ticks": "outside"
            },
            "type": "contourcarpet"
           }
          ],
          "heatmap": [
           {
            "colorbar": {
             "outlinewidth": 1,
             "tickcolor": "rgb(36,36,36)",
             "ticks": "outside"
            },
            "colorscale": [
             [
              0,
              "#440154"
             ],
             [
              0.1111111111111111,
              "#482878"
             ],
             [
              0.2222222222222222,
              "#3e4989"
             ],
             [
              0.3333333333333333,
              "#31688e"
             ],
             [
              0.4444444444444444,
              "#26828e"
             ],
             [
              0.5555555555555556,
              "#1f9e89"
             ],
             [
              0.6666666666666666,
              "#35b779"
             ],
             [
              0.7777777777777778,
              "#6ece58"
             ],
             [
              0.8888888888888888,
              "#b5de2b"
             ],
             [
              1,
              "#fde725"
             ]
            ],
            "type": "heatmap"
           }
          ],
          "heatmapgl": [
           {
            "colorbar": {
             "outlinewidth": 1,
             "tickcolor": "rgb(36,36,36)",
             "ticks": "outside"
            },
            "colorscale": [
             [
              0,
              "#440154"
             ],
             [
              0.1111111111111111,
              "#482878"
             ],
             [
              0.2222222222222222,
              "#3e4989"
             ],
             [
              0.3333333333333333,
              "#31688e"
             ],
             [
              0.4444444444444444,
              "#26828e"
             ],
             [
              0.5555555555555556,
              "#1f9e89"
             ],
             [
              0.6666666666666666,
              "#35b779"
             ],
             [
              0.7777777777777778,
              "#6ece58"
             ],
             [
              0.8888888888888888,
              "#b5de2b"
             ],
             [
              1,
              "#fde725"
             ]
            ],
            "type": "heatmapgl"
           }
          ],
          "histogram": [
           {
            "marker": {
             "line": {
              "color": "white",
              "width": 0.6
             }
            },
            "type": "histogram"
           }
          ],
          "histogram2d": [
           {
            "colorbar": {
             "outlinewidth": 1,
             "tickcolor": "rgb(36,36,36)",
             "ticks": "outside"
            },
            "colorscale": [
             [
              0,
              "#440154"
             ],
             [
              0.1111111111111111,
              "#482878"
             ],
             [
              0.2222222222222222,
              "#3e4989"
             ],
             [
              0.3333333333333333,
              "#31688e"
             ],
             [
              0.4444444444444444,
              "#26828e"
             ],
             [
              0.5555555555555556,
              "#1f9e89"
             ],
             [
              0.6666666666666666,
              "#35b779"
             ],
             [
              0.7777777777777778,
              "#6ece58"
             ],
             [
              0.8888888888888888,
              "#b5de2b"
             ],
             [
              1,
              "#fde725"
             ]
            ],
            "type": "histogram2d"
           }
          ],
          "histogram2dcontour": [
           {
            "colorbar": {
             "outlinewidth": 1,
             "tickcolor": "rgb(36,36,36)",
             "ticks": "outside"
            },
            "colorscale": [
             [
              0,
              "#440154"
             ],
             [
              0.1111111111111111,
              "#482878"
             ],
             [
              0.2222222222222222,
              "#3e4989"
             ],
             [
              0.3333333333333333,
              "#31688e"
             ],
             [
              0.4444444444444444,
              "#26828e"
             ],
             [
              0.5555555555555556,
              "#1f9e89"
             ],
             [
              0.6666666666666666,
              "#35b779"
             ],
             [
              0.7777777777777778,
              "#6ece58"
             ],
             [
              0.8888888888888888,
              "#b5de2b"
             ],
             [
              1,
              "#fde725"
             ]
            ],
            "type": "histogram2dcontour"
           }
          ],
          "mesh3d": [
           {
            "colorbar": {
             "outlinewidth": 1,
             "tickcolor": "rgb(36,36,36)",
             "ticks": "outside"
            },
            "type": "mesh3d"
           }
          ],
          "parcoords": [
           {
            "line": {
             "colorbar": {
              "outlinewidth": 1,
              "tickcolor": "rgb(36,36,36)",
              "ticks": "outside"
             }
            },
            "type": "parcoords"
           }
          ],
          "pie": [
           {
            "automargin": true,
            "type": "pie"
           }
          ],
          "scatter": [
           {
            "marker": {
             "colorbar": {
              "outlinewidth": 1,
              "tickcolor": "rgb(36,36,36)",
              "ticks": "outside"
             }
            },
            "type": "scatter"
           }
          ],
          "scatter3d": [
           {
            "line": {
             "colorbar": {
              "outlinewidth": 1,
              "tickcolor": "rgb(36,36,36)",
              "ticks": "outside"
             }
            },
            "marker": {
             "colorbar": {
              "outlinewidth": 1,
              "tickcolor": "rgb(36,36,36)",
              "ticks": "outside"
             }
            },
            "type": "scatter3d"
           }
          ],
          "scattercarpet": [
           {
            "marker": {
             "colorbar": {
              "outlinewidth": 1,
              "tickcolor": "rgb(36,36,36)",
              "ticks": "outside"
             }
            },
            "type": "scattercarpet"
           }
          ],
          "scattergeo": [
           {
            "marker": {
             "colorbar": {
              "outlinewidth": 1,
              "tickcolor": "rgb(36,36,36)",
              "ticks": "outside"
             }
            },
            "type": "scattergeo"
           }
          ],
          "scattergl": [
           {
            "marker": {
             "colorbar": {
              "outlinewidth": 1,
              "tickcolor": "rgb(36,36,36)",
              "ticks": "outside"
             }
            },
            "type": "scattergl"
           }
          ],
          "scattermapbox": [
           {
            "marker": {
             "colorbar": {
              "outlinewidth": 1,
              "tickcolor": "rgb(36,36,36)",
              "ticks": "outside"
             }
            },
            "type": "scattermapbox"
           }
          ],
          "scatterpolar": [
           {
            "marker": {
             "colorbar": {
              "outlinewidth": 1,
              "tickcolor": "rgb(36,36,36)",
              "ticks": "outside"
             }
            },
            "type": "scatterpolar"
           }
          ],
          "scatterpolargl": [
           {
            "marker": {
             "colorbar": {
              "outlinewidth": 1,
              "tickcolor": "rgb(36,36,36)",
              "ticks": "outside"
             }
            },
            "type": "scatterpolargl"
           }
          ],
          "scatterternary": [
           {
            "marker": {
             "colorbar": {
              "outlinewidth": 1,
              "tickcolor": "rgb(36,36,36)",
              "ticks": "outside"
             }
            },
            "type": "scatterternary"
           }
          ],
          "surface": [
           {
            "colorbar": {
             "outlinewidth": 1,
             "tickcolor": "rgb(36,36,36)",
             "ticks": "outside"
            },
            "colorscale": [
             [
              0,
              "#440154"
             ],
             [
              0.1111111111111111,
              "#482878"
             ],
             [
              0.2222222222222222,
              "#3e4989"
             ],
             [
              0.3333333333333333,
              "#31688e"
             ],
             [
              0.4444444444444444,
              "#26828e"
             ],
             [
              0.5555555555555556,
              "#1f9e89"
             ],
             [
              0.6666666666666666,
              "#35b779"
             ],
             [
              0.7777777777777778,
              "#6ece58"
             ],
             [
              0.8888888888888888,
              "#b5de2b"
             ],
             [
              1,
              "#fde725"
             ]
            ],
            "type": "surface"
           }
          ],
          "table": [
           {
            "cells": {
             "fill": {
              "color": "rgb(237,237,237)"
             },
             "line": {
              "color": "white"
             }
            },
            "header": {
             "fill": {
              "color": "rgb(217,217,217)"
             },
             "line": {
              "color": "white"
             }
            },
            "type": "table"
           }
          ]
         },
         "layout": {
          "annotationdefaults": {
           "arrowhead": 0,
           "arrowwidth": 1
          },
          "autotypenumbers": "strict",
          "coloraxis": {
           "colorbar": {
            "outlinewidth": 1,
            "tickcolor": "rgb(36,36,36)",
            "ticks": "outside"
           }
          },
          "colorscale": {
           "diverging": [
            [
             0,
             "rgb(103,0,31)"
            ],
            [
             0.1,
             "rgb(178,24,43)"
            ],
            [
             0.2,
             "rgb(214,96,77)"
            ],
            [
             0.3,
             "rgb(244,165,130)"
            ],
            [
             0.4,
             "rgb(253,219,199)"
            ],
            [
             0.5,
             "rgb(247,247,247)"
            ],
            [
             0.6,
             "rgb(209,229,240)"
            ],
            [
             0.7,
             "rgb(146,197,222)"
            ],
            [
             0.8,
             "rgb(67,147,195)"
            ],
            [
             0.9,
             "rgb(33,102,172)"
            ],
            [
             1,
             "rgb(5,48,97)"
            ]
           ],
           "sequential": [
            [
             0,
             "#440154"
            ],
            [
             0.1111111111111111,
             "#482878"
            ],
            [
             0.2222222222222222,
             "#3e4989"
            ],
            [
             0.3333333333333333,
             "#31688e"
            ],
            [
             0.4444444444444444,
             "#26828e"
            ],
            [
             0.5555555555555556,
             "#1f9e89"
            ],
            [
             0.6666666666666666,
             "#35b779"
            ],
            [
             0.7777777777777778,
             "#6ece58"
            ],
            [
             0.8888888888888888,
             "#b5de2b"
            ],
            [
             1,
             "#fde725"
            ]
           ],
           "sequentialminus": [
            [
             0,
             "#440154"
            ],
            [
             0.1111111111111111,
             "#482878"
            ],
            [
             0.2222222222222222,
             "#3e4989"
            ],
            [
             0.3333333333333333,
             "#31688e"
            ],
            [
             0.4444444444444444,
             "#26828e"
            ],
            [
             0.5555555555555556,
             "#1f9e89"
            ],
            [
             0.6666666666666666,
             "#35b779"
            ],
            [
             0.7777777777777778,
             "#6ece58"
            ],
            [
             0.8888888888888888,
             "#b5de2b"
            ],
            [
             1,
             "#fde725"
            ]
           ]
          },
          "colorway": [
           "#1F77B4",
           "#FF7F0E",
           "#2CA02C",
           "#D62728",
           "#9467BD",
           "#8C564B",
           "#E377C2",
           "#7F7F7F",
           "#BCBD22",
           "#17BECF"
          ],
          "font": {
           "color": "rgb(36,36,36)"
          },
          "geo": {
           "bgcolor": "white",
           "lakecolor": "white",
           "landcolor": "white",
           "showlakes": true,
           "showland": true,
           "subunitcolor": "white"
          },
          "hoverlabel": {
           "align": "left"
          },
          "hovermode": "closest",
          "mapbox": {
           "style": "light"
          },
          "paper_bgcolor": "white",
          "plot_bgcolor": "white",
          "polar": {
           "angularaxis": {
            "gridcolor": "rgb(232,232,232)",
            "linecolor": "rgb(36,36,36)",
            "showgrid": false,
            "showline": true,
            "ticks": "outside"
           },
           "bgcolor": "white",
           "radialaxis": {
            "gridcolor": "rgb(232,232,232)",
            "linecolor": "rgb(36,36,36)",
            "showgrid": false,
            "showline": true,
            "ticks": "outside"
           }
          },
          "scene": {
           "xaxis": {
            "backgroundcolor": "white",
            "gridcolor": "rgb(232,232,232)",
            "gridwidth": 2,
            "linecolor": "rgb(36,36,36)",
            "showbackground": true,
            "showgrid": false,
            "showline": true,
            "ticks": "outside",
            "zeroline": false,
            "zerolinecolor": "rgb(36,36,36)"
           },
           "yaxis": {
            "backgroundcolor": "white",
            "gridcolor": "rgb(232,232,232)",
            "gridwidth": 2,
            "linecolor": "rgb(36,36,36)",
            "showbackground": true,
            "showgrid": false,
            "showline": true,
            "ticks": "outside",
            "zeroline": false,
            "zerolinecolor": "rgb(36,36,36)"
           },
           "zaxis": {
            "backgroundcolor": "white",
            "gridcolor": "rgb(232,232,232)",
            "gridwidth": 2,
            "linecolor": "rgb(36,36,36)",
            "showbackground": true,
            "showgrid": false,
            "showline": true,
            "ticks": "outside",
            "zeroline": false,
            "zerolinecolor": "rgb(36,36,36)"
           }
          },
          "shapedefaults": {
           "fillcolor": "black",
           "line": {
            "width": 0
           },
           "opacity": 0.3
          },
          "ternary": {
           "aaxis": {
            "gridcolor": "rgb(232,232,232)",
            "linecolor": "rgb(36,36,36)",
            "showgrid": false,
            "showline": true,
            "ticks": "outside"
           },
           "baxis": {
            "gridcolor": "rgb(232,232,232)",
            "linecolor": "rgb(36,36,36)",
            "showgrid": false,
            "showline": true,
            "ticks": "outside"
           },
           "bgcolor": "white",
           "caxis": {
            "gridcolor": "rgb(232,232,232)",
            "linecolor": "rgb(36,36,36)",
            "showgrid": false,
            "showline": true,
            "ticks": "outside"
           }
          },
          "title": {
           "x": 0.05
          },
          "xaxis": {
           "automargin": true,
           "gridcolor": "rgb(232,232,232)",
           "linecolor": "rgb(36,36,36)",
           "showgrid": false,
           "showline": true,
           "ticks": "outside",
           "title": {
            "standoff": 15
           },
           "zeroline": false,
           "zerolinecolor": "rgb(36,36,36)"
          },
          "yaxis": {
           "automargin": true,
           "gridcolor": "rgb(232,232,232)",
           "linecolor": "rgb(36,36,36)",
           "showgrid": false,
           "showline": true,
           "ticks": "outside",
           "title": {
            "standoff": 15
           },
           "zeroline": false,
           "zerolinecolor": "rgb(36,36,36)"
          }
         }
        },
        "title": {
         "text": "Casos de la Región de Aysén diferenciados por etapa clínica"
        },
        "xaxis": {
         "anchor": "y",
         "domain": [
          0,
          1
         ],
         "title": {
          "text": "Semana epidemiológica"
         }
        },
        "yaxis": {
         "anchor": "x",
         "domain": [
          0,
          1
         ],
         "title": {
          "text": "Número de casos"
         }
        }
       }
      },
      "text/html": [
       "<div>                            <div id=\"b5e0fe04-c34d-44db-8b3b-8a9122d08e71\" class=\"plotly-graph-div\" style=\"height:525px; width:100%;\"></div>            <script type=\"text/javascript\">                require([\"plotly\"], function(Plotly) {                    window.PLOTLYENV=window.PLOTLYENV || {};                                    if (document.getElementById(\"b5e0fe04-c34d-44db-8b3b-8a9122d08e71\")) {                    Plotly.newPlot(                        \"b5e0fe04-c34d-44db-8b3b-8a9122d08e71\",                        [{\"alignmentgroup\": \"True\", \"hovertemplate\": \"Cumple=True<br>fecha_cumple_requisitos=%{x}<br>n_folio=%{y}<extra></extra>\", \"legendgroup\": \"True\", \"marker\": {\"color\": \"#636efa\"}, \"name\": \"True\", \"offsetgroup\": \"True\", \"orientation\": \"v\", \"showlegend\": true, \"textposition\": \"auto\", \"type\": \"bar\", \"x\": [\"2021-07-02T00:00:00\", \"2021-07-03T00:00:00\", \"2021-07-04T00:00:00\", \"2021-07-05T00:00:00\", \"2021-07-06T00:00:00\", \"2021-07-07T00:00:00\", \"2021-07-08T00:00:00\", \"2021-07-09T00:00:00\", \"2021-07-10T00:00:00\", \"2021-07-11T00:00:00\", \"2021-07-12T00:00:00\", \"2021-07-13T00:00:00\", \"2021-07-14T00:00:00\", \"2021-07-15T00:00:00\", \"2021-07-16T00:00:00\", \"2021-07-17T00:00:00\", \"2021-07-18T00:00:00\", \"2021-07-19T00:00:00\", \"2021-07-20T00:00:00\", \"2021-07-21T00:00:00\", \"2021-07-22T00:00:00\", \"2021-07-23T00:00:00\", \"2021-07-24T00:00:00\", \"2021-07-25T00:00:00\", \"2021-07-26T00:00:00\", \"2021-07-27T00:00:00\", \"2021-07-28T00:00:00\", \"2021-07-29T00:00:00\", \"2021-07-30T00:00:00\", \"2021-07-31T00:00:00\", \"2021-08-01T00:00:00\", \"2021-08-02T00:00:00\", \"2021-08-03T00:00:00\", \"2021-08-04T00:00:00\", \"2021-08-05T00:00:00\", \"2021-08-06T00:00:00\", \"2021-08-07T00:00:00\", \"2021-08-08T00:00:00\", \"2021-08-09T00:00:00\", \"2021-08-10T00:00:00\", \"2021-08-11T00:00:00\", \"2021-08-12T00:00:00\", \"2021-08-13T00:00:00\", \"2021-08-14T00:00:00\", \"2021-08-15T00:00:00\", \"2021-08-16T00:00:00\", \"2021-08-17T00:00:00\", \"2021-08-18T00:00:00\", \"2021-08-19T00:00:00\", \"2021-08-20T00:00:00\", \"2021-08-21T00:00:00\", \"2021-08-22T00:00:00\", \"2021-08-23T00:00:00\", \"2021-08-24T00:00:00\", \"2021-08-25T00:00:00\", \"2021-08-26T00:00:00\", \"2021-08-27T00:00:00\", \"2021-08-28T00:00:00\", \"2021-08-29T00:00:00\", \"2021-08-30T00:00:00\", \"2021-08-31T00:00:00\"], \"xaxis\": \"x\", \"y\": [41, 25, 24, 88, 86, 50, 73, 86, 18, 22, 5, 42, 38, 23, 15, 12, 1, 9, 16, 7, 11, 23, 7, 3, 2, 5, 17, 11, 9, 4, 9, 8, 5, 10, 14, 26, 9, 5, 13, 23, 8, 24, 35, 28, 25, 59, 62, 74, 40, 48, 23, 10, 33, 27, 46, 17, 13, 6, 20, 82, 6], \"yaxis\": \"y\"}, {\"alignmentgroup\": \"True\", \"hovertemplate\": \"Cumple=False<br>fecha_cumple_requisitos=%{x}<br>n_folio=%{y}<extra></extra>\", \"legendgroup\": \"False\", \"marker\": {\"color\": \"#EF553B\"}, \"name\": \"False\", \"offsetgroup\": \"False\", \"orientation\": \"v\", \"showlegend\": true, \"textposition\": \"auto\", \"type\": \"bar\", \"x\": [\"2021-07-06T00:00:00\", \"2021-07-07T00:00:00\", \"2021-07-08T00:00:00\", \"2021-07-09T00:00:00\", \"2021-07-10T00:00:00\", \"2021-07-11T00:00:00\", \"2021-07-12T00:00:00\", \"2021-07-13T00:00:00\", \"2021-07-14T00:00:00\", \"2021-07-15T00:00:00\", \"2021-07-16T00:00:00\", \"2021-07-17T00:00:00\", \"2021-07-19T00:00:00\", \"2021-07-20T00:00:00\", \"2021-07-21T00:00:00\", \"2021-07-22T00:00:00\", \"2021-07-24T00:00:00\", \"2021-07-25T00:00:00\", \"2021-07-26T00:00:00\", \"2021-07-28T00:00:00\", \"2021-07-29T00:00:00\", \"2021-07-31T00:00:00\", \"2021-08-03T00:00:00\", \"2021-08-04T00:00:00\", \"2021-08-06T00:00:00\", \"2021-08-12T00:00:00\", \"2021-08-15T00:00:00\", \"2021-08-16T00:00:00\", \"2021-08-17T00:00:00\", \"2021-08-18T00:00:00\", \"2021-08-19T00:00:00\", \"2021-08-20T00:00:00\", \"2021-08-21T00:00:00\", \"2021-08-22T00:00:00\", \"2021-08-24T00:00:00\", \"2021-08-27T00:00:00\"], \"xaxis\": \"x\", \"y\": [1, 1, 15, 5, 1, 2, 2, 5, 2, 2, 1, 2, 2, 4, 2, 6, 1, 7, 1, 1, 2, 1, 3, 1, 11, 9, 1, 17, 2, 3, 1, 2, 2, 1, 6, 3], \"yaxis\": \"y\"}],                        {\"barmode\": \"relative\", \"legend\": {\"title\": {\"text\": \"Cumple\"}, \"tracegroupgap\": 0}, \"margin\": {\"t\": 60}, \"template\": {\"data\": {\"bar\": [{\"error_x\": {\"color\": \"rgb(36,36,36)\"}, \"error_y\": {\"color\": \"rgb(36,36,36)\"}, \"marker\": {\"line\": {\"color\": \"white\", \"width\": 0.5}}, \"type\": \"bar\"}], \"barpolar\": [{\"marker\": {\"line\": {\"color\": \"white\", \"width\": 0.5}}, \"type\": \"barpolar\"}], \"carpet\": [{\"aaxis\": {\"endlinecolor\": \"rgb(36,36,36)\", \"gridcolor\": \"white\", \"linecolor\": \"white\", \"minorgridcolor\": \"white\", \"startlinecolor\": \"rgb(36,36,36)\"}, \"baxis\": {\"endlinecolor\": \"rgb(36,36,36)\", \"gridcolor\": \"white\", \"linecolor\": \"white\", \"minorgridcolor\": \"white\", \"startlinecolor\": \"rgb(36,36,36)\"}, \"type\": \"carpet\"}], \"choropleth\": [{\"colorbar\": {\"outlinewidth\": 1, \"tickcolor\": \"rgb(36,36,36)\", \"ticks\": \"outside\"}, \"type\": \"choropleth\"}], \"contour\": [{\"colorbar\": {\"outlinewidth\": 1, \"tickcolor\": \"rgb(36,36,36)\", \"ticks\": \"outside\"}, \"colorscale\": [[0.0, \"#440154\"], [0.1111111111111111, \"#482878\"], [0.2222222222222222, \"#3e4989\"], [0.3333333333333333, \"#31688e\"], [0.4444444444444444, \"#26828e\"], [0.5555555555555556, \"#1f9e89\"], [0.6666666666666666, \"#35b779\"], [0.7777777777777778, \"#6ece58\"], [0.8888888888888888, \"#b5de2b\"], [1.0, \"#fde725\"]], \"type\": \"contour\"}], \"contourcarpet\": [{\"colorbar\": {\"outlinewidth\": 1, \"tickcolor\": \"rgb(36,36,36)\", \"ticks\": \"outside\"}, \"type\": \"contourcarpet\"}], \"heatmap\": [{\"colorbar\": {\"outlinewidth\": 1, \"tickcolor\": \"rgb(36,36,36)\", \"ticks\": \"outside\"}, \"colorscale\": [[0.0, \"#440154\"], [0.1111111111111111, \"#482878\"], [0.2222222222222222, \"#3e4989\"], [0.3333333333333333, \"#31688e\"], [0.4444444444444444, \"#26828e\"], [0.5555555555555556, \"#1f9e89\"], [0.6666666666666666, \"#35b779\"], [0.7777777777777778, \"#6ece58\"], [0.8888888888888888, \"#b5de2b\"], [1.0, \"#fde725\"]], \"type\": \"heatmap\"}], \"heatmapgl\": [{\"colorbar\": {\"outlinewidth\": 1, \"tickcolor\": \"rgb(36,36,36)\", \"ticks\": \"outside\"}, \"colorscale\": [[0.0, \"#440154\"], [0.1111111111111111, \"#482878\"], [0.2222222222222222, \"#3e4989\"], [0.3333333333333333, \"#31688e\"], [0.4444444444444444, \"#26828e\"], [0.5555555555555556, \"#1f9e89\"], [0.6666666666666666, \"#35b779\"], [0.7777777777777778, \"#6ece58\"], [0.8888888888888888, \"#b5de2b\"], [1.0, \"#fde725\"]], \"type\": \"heatmapgl\"}], \"histogram\": [{\"marker\": {\"line\": {\"color\": \"white\", \"width\": 0.6}}, \"type\": \"histogram\"}], \"histogram2d\": [{\"colorbar\": {\"outlinewidth\": 1, \"tickcolor\": \"rgb(36,36,36)\", \"ticks\": \"outside\"}, \"colorscale\": [[0.0, \"#440154\"], [0.1111111111111111, \"#482878\"], [0.2222222222222222, \"#3e4989\"], [0.3333333333333333, \"#31688e\"], [0.4444444444444444, \"#26828e\"], [0.5555555555555556, \"#1f9e89\"], [0.6666666666666666, \"#35b779\"], [0.7777777777777778, \"#6ece58\"], [0.8888888888888888, \"#b5de2b\"], [1.0, \"#fde725\"]], \"type\": \"histogram2d\"}], \"histogram2dcontour\": [{\"colorbar\": {\"outlinewidth\": 1, \"tickcolor\": \"rgb(36,36,36)\", \"ticks\": \"outside\"}, \"colorscale\": [[0.0, \"#440154\"], [0.1111111111111111, \"#482878\"], [0.2222222222222222, \"#3e4989\"], [0.3333333333333333, \"#31688e\"], [0.4444444444444444, \"#26828e\"], [0.5555555555555556, \"#1f9e89\"], [0.6666666666666666, \"#35b779\"], [0.7777777777777778, \"#6ece58\"], [0.8888888888888888, \"#b5de2b\"], [1.0, \"#fde725\"]], \"type\": \"histogram2dcontour\"}], \"mesh3d\": [{\"colorbar\": {\"outlinewidth\": 1, \"tickcolor\": \"rgb(36,36,36)\", \"ticks\": \"outside\"}, \"type\": \"mesh3d\"}], \"parcoords\": [{\"line\": {\"colorbar\": {\"outlinewidth\": 1, \"tickcolor\": \"rgb(36,36,36)\", \"ticks\": \"outside\"}}, \"type\": \"parcoords\"}], \"pie\": [{\"automargin\": true, \"type\": \"pie\"}], \"scatter\": [{\"marker\": {\"colorbar\": {\"outlinewidth\": 1, \"tickcolor\": \"rgb(36,36,36)\", \"ticks\": \"outside\"}}, \"type\": \"scatter\"}], \"scatter3d\": [{\"line\": {\"colorbar\": {\"outlinewidth\": 1, \"tickcolor\": \"rgb(36,36,36)\", \"ticks\": \"outside\"}}, \"marker\": {\"colorbar\": {\"outlinewidth\": 1, \"tickcolor\": \"rgb(36,36,36)\", \"ticks\": \"outside\"}}, \"type\": \"scatter3d\"}], \"scattercarpet\": [{\"marker\": {\"colorbar\": {\"outlinewidth\": 1, \"tickcolor\": \"rgb(36,36,36)\", \"ticks\": \"outside\"}}, \"type\": \"scattercarpet\"}], \"scattergeo\": [{\"marker\": {\"colorbar\": {\"outlinewidth\": 1, \"tickcolor\": \"rgb(36,36,36)\", \"ticks\": \"outside\"}}, \"type\": \"scattergeo\"}], \"scattergl\": [{\"marker\": {\"colorbar\": {\"outlinewidth\": 1, \"tickcolor\": \"rgb(36,36,36)\", \"ticks\": \"outside\"}}, \"type\": \"scattergl\"}], \"scattermapbox\": [{\"marker\": {\"colorbar\": {\"outlinewidth\": 1, \"tickcolor\": \"rgb(36,36,36)\", \"ticks\": \"outside\"}}, \"type\": \"scattermapbox\"}], \"scatterpolar\": [{\"marker\": {\"colorbar\": {\"outlinewidth\": 1, \"tickcolor\": \"rgb(36,36,36)\", \"ticks\": \"outside\"}}, \"type\": \"scatterpolar\"}], \"scatterpolargl\": [{\"marker\": {\"colorbar\": {\"outlinewidth\": 1, \"tickcolor\": \"rgb(36,36,36)\", \"ticks\": \"outside\"}}, \"type\": \"scatterpolargl\"}], \"scatterternary\": [{\"marker\": {\"colorbar\": {\"outlinewidth\": 1, \"tickcolor\": \"rgb(36,36,36)\", \"ticks\": \"outside\"}}, \"type\": \"scatterternary\"}], \"surface\": [{\"colorbar\": {\"outlinewidth\": 1, \"tickcolor\": \"rgb(36,36,36)\", \"ticks\": \"outside\"}, \"colorscale\": [[0.0, \"#440154\"], [0.1111111111111111, \"#482878\"], [0.2222222222222222, \"#3e4989\"], [0.3333333333333333, \"#31688e\"], [0.4444444444444444, \"#26828e\"], [0.5555555555555556, \"#1f9e89\"], [0.6666666666666666, \"#35b779\"], [0.7777777777777778, \"#6ece58\"], [0.8888888888888888, \"#b5de2b\"], [1.0, \"#fde725\"]], \"type\": \"surface\"}], \"table\": [{\"cells\": {\"fill\": {\"color\": \"rgb(237,237,237)\"}, \"line\": {\"color\": \"white\"}}, \"header\": {\"fill\": {\"color\": \"rgb(217,217,217)\"}, \"line\": {\"color\": \"white\"}}, \"type\": \"table\"}]}, \"layout\": {\"annotationdefaults\": {\"arrowhead\": 0, \"arrowwidth\": 1}, \"autotypenumbers\": \"strict\", \"coloraxis\": {\"colorbar\": {\"outlinewidth\": 1, \"tickcolor\": \"rgb(36,36,36)\", \"ticks\": \"outside\"}}, \"colorscale\": {\"diverging\": [[0.0, \"rgb(103,0,31)\"], [0.1, \"rgb(178,24,43)\"], [0.2, \"rgb(214,96,77)\"], [0.3, \"rgb(244,165,130)\"], [0.4, \"rgb(253,219,199)\"], [0.5, \"rgb(247,247,247)\"], [0.6, \"rgb(209,229,240)\"], [0.7, \"rgb(146,197,222)\"], [0.8, \"rgb(67,147,195)\"], [0.9, \"rgb(33,102,172)\"], [1.0, \"rgb(5,48,97)\"]], \"sequential\": [[0.0, \"#440154\"], [0.1111111111111111, \"#482878\"], [0.2222222222222222, \"#3e4989\"], [0.3333333333333333, \"#31688e\"], [0.4444444444444444, \"#26828e\"], [0.5555555555555556, \"#1f9e89\"], [0.6666666666666666, \"#35b779\"], [0.7777777777777778, \"#6ece58\"], [0.8888888888888888, \"#b5de2b\"], [1.0, \"#fde725\"]], \"sequentialminus\": [[0.0, \"#440154\"], [0.1111111111111111, \"#482878\"], [0.2222222222222222, \"#3e4989\"], [0.3333333333333333, \"#31688e\"], [0.4444444444444444, \"#26828e\"], [0.5555555555555556, \"#1f9e89\"], [0.6666666666666666, \"#35b779\"], [0.7777777777777778, \"#6ece58\"], [0.8888888888888888, \"#b5de2b\"], [1.0, \"#fde725\"]]}, \"colorway\": [\"#1F77B4\", \"#FF7F0E\", \"#2CA02C\", \"#D62728\", \"#9467BD\", \"#8C564B\", \"#E377C2\", \"#7F7F7F\", \"#BCBD22\", \"#17BECF\"], \"font\": {\"color\": \"rgb(36,36,36)\"}, \"geo\": {\"bgcolor\": \"white\", \"lakecolor\": \"white\", \"landcolor\": \"white\", \"showlakes\": true, \"showland\": true, \"subunitcolor\": \"white\"}, \"hoverlabel\": {\"align\": \"left\"}, \"hovermode\": \"closest\", \"mapbox\": {\"style\": \"light\"}, \"paper_bgcolor\": \"white\", \"plot_bgcolor\": \"white\", \"polar\": {\"angularaxis\": {\"gridcolor\": \"rgb(232,232,232)\", \"linecolor\": \"rgb(36,36,36)\", \"showgrid\": false, \"showline\": true, \"ticks\": \"outside\"}, \"bgcolor\": \"white\", \"radialaxis\": {\"gridcolor\": \"rgb(232,232,232)\", \"linecolor\": \"rgb(36,36,36)\", \"showgrid\": false, \"showline\": true, \"ticks\": \"outside\"}}, \"scene\": {\"xaxis\": {\"backgroundcolor\": \"white\", \"gridcolor\": \"rgb(232,232,232)\", \"gridwidth\": 2, \"linecolor\": \"rgb(36,36,36)\", \"showbackground\": true, \"showgrid\": false, \"showline\": true, \"ticks\": \"outside\", \"zeroline\": false, \"zerolinecolor\": \"rgb(36,36,36)\"}, \"yaxis\": {\"backgroundcolor\": \"white\", \"gridcolor\": \"rgb(232,232,232)\", \"gridwidth\": 2, \"linecolor\": \"rgb(36,36,36)\", \"showbackground\": true, \"showgrid\": false, \"showline\": true, \"ticks\": \"outside\", \"zeroline\": false, \"zerolinecolor\": \"rgb(36,36,36)\"}, \"zaxis\": {\"backgroundcolor\": \"white\", \"gridcolor\": \"rgb(232,232,232)\", \"gridwidth\": 2, \"linecolor\": \"rgb(36,36,36)\", \"showbackground\": true, \"showgrid\": false, \"showline\": true, \"ticks\": \"outside\", \"zeroline\": false, \"zerolinecolor\": \"rgb(36,36,36)\"}}, \"shapedefaults\": {\"fillcolor\": \"black\", \"line\": {\"width\": 0}, \"opacity\": 0.3}, \"ternary\": {\"aaxis\": {\"gridcolor\": \"rgb(232,232,232)\", \"linecolor\": \"rgb(36,36,36)\", \"showgrid\": false, \"showline\": true, \"ticks\": \"outside\"}, \"baxis\": {\"gridcolor\": \"rgb(232,232,232)\", \"linecolor\": \"rgb(36,36,36)\", \"showgrid\": false, \"showline\": true, \"ticks\": \"outside\"}, \"bgcolor\": \"white\", \"caxis\": {\"gridcolor\": \"rgb(232,232,232)\", \"linecolor\": \"rgb(36,36,36)\", \"showgrid\": false, \"showline\": true, \"ticks\": \"outside\"}}, \"title\": {\"x\": 0.05}, \"xaxis\": {\"automargin\": true, \"gridcolor\": \"rgb(232,232,232)\", \"linecolor\": \"rgb(36,36,36)\", \"showgrid\": false, \"showline\": true, \"ticks\": \"outside\", \"title\": {\"standoff\": 15}, \"zeroline\": false, \"zerolinecolor\": \"rgb(36,36,36)\"}, \"yaxis\": {\"automargin\": true, \"gridcolor\": \"rgb(232,232,232)\", \"linecolor\": \"rgb(36,36,36)\", \"showgrid\": false, \"showline\": true, \"ticks\": \"outside\", \"title\": {\"standoff\": 15}, \"zeroline\": false, \"zerolinecolor\": \"rgb(36,36,36)\"}}}, \"title\": {\"text\": \"Casos de la Regi\\u00f3n de Ays\\u00e9n diferenciados por etapa cl\\u00ednica\"}, \"xaxis\": {\"anchor\": \"y\", \"domain\": [0.0, 1.0], \"title\": {\"text\": \"Semana epidemiol\\u00f3gica\"}}, \"yaxis\": {\"anchor\": \"x\", \"domain\": [0.0, 1.0], \"title\": {\"text\": \"N\\u00famero de casos\"}}},                        {\"responsive\": true}                    ).then(function(){\n",
       "                            \n",
       "var gd = document.getElementById('b5e0fe04-c34d-44db-8b3b-8a9122d08e71');\n",
       "var x = new MutationObserver(function (mutations, observer) {{\n",
       "        var display = window.getComputedStyle(gd).display;\n",
       "        if (!display || display === 'none') {{\n",
       "            console.log([gd, 'removed!']);\n",
       "            Plotly.purge(gd);\n",
       "            observer.disconnect();\n",
       "        }}\n",
       "}});\n",
       "\n",
       "// Listen for the removal of the full notebook cells\n",
       "var notebookContainer = gd.closest('#notebook-container');\n",
       "if (notebookContainer) {{\n",
       "    x.observe(notebookContainer, {childList: true});\n",
       "}}\n",
       "\n",
       "// Listen for the clearing of the current output cell\n",
       "var outputEl = gd.closest('.output');\n",
       "if (outputEl) {{\n",
       "    x.observe(outputEl, {childList: true});\n",
       "}}\n",
       "\n",
       "                        })                };                });            </script>        </div>"
      ]
     },
     "metadata": {},
     "output_type": "display_data"
    }
   ],
   "source": [
    "# Crea gráfico de etapa_clinica regional por semana epidemiologica\n",
    "\n",
    "px.bar(df_seguimiento_filtered.groupby(['fecha_cumple_requisitos', 'ind5']).count()[['n_folio']].reset_index(),\n",
    "        x= 'fecha_cumple_requisitos',\n",
    "        y= 'n_folio',\n",
    "        color= 'ind5',\n",
    "        labels={'ind5':'Cumple'}, \n",
    "       ).update_layout(title= 'Casos de la Región de Aysén diferenciados por etapa clínica',\n",
    "                    yaxis_title='Número de casos',\n",
    "                    xaxis_title='Semana epidemiológica',\n",
    "                    template='simple_white',    )                 \n",
    "                    #xaxis=dict(tickmode = 'array',\n",
    "                     #             tickvals = list(range(12,88,3)),\n",
    "                      #            ticktext = list(list(range(12,54,3))+list(range(1,88,3))),\n",
    "                      #           ),\n",
    "               #     ).add_vline(x=53.5, line_width=3, line_dash='dash', line_color='gray'\n",
    "                #               ).add_vrect(x0='50', x1='50', \n",
    "                 #                          annotation_text='2020', \n",
    "                  #                         annotation_position='top right',\n",
    "                   #                        annotation=dict(font_size=18, \n",
    "                    #                                       font_family=\"'Open Sans', verdana, arial, sans-serif\"),\n",
    "                     #                                      opacity=0, \n",
    "                      #                                     line_width=0\n",
    "                       #                   ).add_vrect(x0='84', x1='86', \n",
    "                        #                   annotation_text='2021', \n",
    "                         #                  annotation_position='top right',\n",
    "                          #                 annotation=dict(font_size=18, \n",
    "                           #                                font_family=\"'Open Sans', verdana, arial, sans-serif\"),\n",
    "                            #                               opacity=0, \n",
    "                             #                              line_width=0)  \n",
    "                      "
   ]
  },
  {
   "cell_type": "code",
   "execution_count": 153,
   "id": "9ed0aea5",
   "metadata": {},
   "outputs": [],
   "source": [
    "df_ind5= df_seguimiento_filtered.groupby(['fecha_cumple_requisitos', 'ind5']).count()[['n_folio']].reset_index()"
   ]
  },
  {
   "cell_type": "code",
   "execution_count": 239,
   "id": "50c41fd0",
   "metadata": {},
   "outputs": [],
   "source": [
    "df_ind5_perc = (df_ind5[df_ind5['ind5']==True].set_index('fecha_cumple_requisitos')[['n_folio']]/df_ind5.groupby('fecha_cumple_requisitos').sum('n_folio')[['n_folio']])*100"
   ]
  },
  {
   "cell_type": "code",
   "execution_count": 240,
   "id": "b6730660",
   "metadata": {},
   "outputs": [
    {
     "data": {
      "application/vnd.plotly.v1+json": {
       "config": {
        "plotlyServerURL": "https://plot.ly"
       },
       "data": [
        {
         "hovertemplate": "fecha_cumple_requisitos=%{x}<br>n_folio=%{marker.color}<extra></extra>",
         "legendgroup": "",
         "line": {
          "color": "grey"
         },
         "marker": {
          "color": [
           100,
           100,
           100,
           100,
           98.85057471264368,
           98.0392156862745,
           82.95454545454545,
           94.5054945054945,
           94.73684210526315,
           91.66666666666666,
           71.42857142857143,
           89.36170212765957,
           95,
           92,
           93.75,
           85.71428571428571,
           100,
           81.81818181818183,
           80,
           77.77777777777779,
           64.70588235294117,
           100,
           87.5,
           30,
           66.66666666666666,
           100,
           94.44444444444444,
           84.61538461538461,
           100,
           80,
           100,
           100,
           62.5,
           90.9090909090909,
           100,
           70.27027027027027,
           100,
           100,
           100,
           100,
           100,
           72.72727272727273,
           100,
           100,
           96.15384615384616,
           77.63157894736842,
           96.875,
           96.1038961038961,
           97.5609756097561,
           96,
           92,
           90.9090909090909,
           100,
           81.81818181818183,
           100,
           100,
           81.25,
           100,
           100,
           100,
           100
          ],
          "coloraxis": "coloraxis",
          "line": {
           "width": 1
          },
          "size": 10,
          "symbol": "circle"
         },
         "mode": "lines+markers",
         "name": "",
         "orientation": "v",
         "showlegend": false,
         "type": "scatter",
         "x": [
          "2021-07-02T00:00:00",
          "2021-07-03T00:00:00",
          "2021-07-04T00:00:00",
          "2021-07-05T00:00:00",
          "2021-07-06T00:00:00",
          "2021-07-07T00:00:00",
          "2021-07-08T00:00:00",
          "2021-07-09T00:00:00",
          "2021-07-10T00:00:00",
          "2021-07-11T00:00:00",
          "2021-07-12T00:00:00",
          "2021-07-13T00:00:00",
          "2021-07-14T00:00:00",
          "2021-07-15T00:00:00",
          "2021-07-16T00:00:00",
          "2021-07-17T00:00:00",
          "2021-07-18T00:00:00",
          "2021-07-19T00:00:00",
          "2021-07-20T00:00:00",
          "2021-07-21T00:00:00",
          "2021-07-22T00:00:00",
          "2021-07-23T00:00:00",
          "2021-07-24T00:00:00",
          "2021-07-25T00:00:00",
          "2021-07-26T00:00:00",
          "2021-07-27T00:00:00",
          "2021-07-28T00:00:00",
          "2021-07-29T00:00:00",
          "2021-07-30T00:00:00",
          "2021-07-31T00:00:00",
          "2021-08-01T00:00:00",
          "2021-08-02T00:00:00",
          "2021-08-03T00:00:00",
          "2021-08-04T00:00:00",
          "2021-08-05T00:00:00",
          "2021-08-06T00:00:00",
          "2021-08-07T00:00:00",
          "2021-08-08T00:00:00",
          "2021-08-09T00:00:00",
          "2021-08-10T00:00:00",
          "2021-08-11T00:00:00",
          "2021-08-12T00:00:00",
          "2021-08-13T00:00:00",
          "2021-08-14T00:00:00",
          "2021-08-15T00:00:00",
          "2021-08-16T00:00:00",
          "2021-08-17T00:00:00",
          "2021-08-18T00:00:00",
          "2021-08-19T00:00:00",
          "2021-08-20T00:00:00",
          "2021-08-21T00:00:00",
          "2021-08-22T00:00:00",
          "2021-08-23T00:00:00",
          "2021-08-24T00:00:00",
          "2021-08-25T00:00:00",
          "2021-08-26T00:00:00",
          "2021-08-27T00:00:00",
          "2021-08-28T00:00:00",
          "2021-08-29T00:00:00",
          "2021-08-30T00:00:00",
          "2021-08-31T00:00:00"
         ],
         "xaxis": "x",
         "y": [
          100,
          100,
          100,
          100,
          98.85057471264368,
          98.0392156862745,
          82.95454545454545,
          94.5054945054945,
          94.73684210526315,
          91.66666666666666,
          71.42857142857143,
          89.36170212765957,
          95,
          92,
          93.75,
          85.71428571428571,
          100,
          81.81818181818183,
          80,
          77.77777777777779,
          64.70588235294117,
          100,
          87.5,
          30,
          66.66666666666666,
          100,
          94.44444444444444,
          84.61538461538461,
          100,
          80,
          100,
          100,
          62.5,
          90.9090909090909,
          100,
          70.27027027027027,
          100,
          100,
          100,
          100,
          100,
          72.72727272727273,
          100,
          100,
          96.15384615384616,
          77.63157894736842,
          96.875,
          96.1038961038961,
          97.5609756097561,
          96,
          92,
          90.9090909090909,
          100,
          81.81818181818183,
          100,
          100,
          81.25,
          100,
          100,
          100,
          100
         ],
         "yaxis": "y"
        }
       ],
       "layout": {
        "coloraxis": {
         "colorbar": {
          "title": {
           "text": "n_folio"
          }
         },
         "colorscale": [
          [
           0,
           "#fde725"
          ],
          [
           0.1111111111111111,
           "#b5de2b"
          ],
          [
           0.2222222222222222,
           "#6ece58"
          ],
          [
           0.3333333333333333,
           "#35b779"
          ],
          [
           0.4444444444444444,
           "#1f9e89"
          ],
          [
           0.5555555555555556,
           "#26828e"
          ],
          [
           0.6666666666666666,
           "#31688e"
          ],
          [
           0.7777777777777778,
           "#3e4989"
          ],
          [
           0.8888888888888888,
           "#482878"
          ],
          [
           1,
           "#440154"
          ]
         ]
        },
        "legend": {
         "tracegroupgap": 0
        },
        "margin": {
         "t": 60
        },
        "template": {
         "data": {
          "bar": [
           {
            "error_x": {
             "color": "rgb(36,36,36)"
            },
            "error_y": {
             "color": "rgb(36,36,36)"
            },
            "marker": {
             "line": {
              "color": "white",
              "width": 0.5
             }
            },
            "type": "bar"
           }
          ],
          "barpolar": [
           {
            "marker": {
             "line": {
              "color": "white",
              "width": 0.5
             }
            },
            "type": "barpolar"
           }
          ],
          "carpet": [
           {
            "aaxis": {
             "endlinecolor": "rgb(36,36,36)",
             "gridcolor": "white",
             "linecolor": "white",
             "minorgridcolor": "white",
             "startlinecolor": "rgb(36,36,36)"
            },
            "baxis": {
             "endlinecolor": "rgb(36,36,36)",
             "gridcolor": "white",
             "linecolor": "white",
             "minorgridcolor": "white",
             "startlinecolor": "rgb(36,36,36)"
            },
            "type": "carpet"
           }
          ],
          "choropleth": [
           {
            "colorbar": {
             "outlinewidth": 1,
             "tickcolor": "rgb(36,36,36)",
             "ticks": "outside"
            },
            "type": "choropleth"
           }
          ],
          "contour": [
           {
            "colorbar": {
             "outlinewidth": 1,
             "tickcolor": "rgb(36,36,36)",
             "ticks": "outside"
            },
            "colorscale": [
             [
              0,
              "#440154"
             ],
             [
              0.1111111111111111,
              "#482878"
             ],
             [
              0.2222222222222222,
              "#3e4989"
             ],
             [
              0.3333333333333333,
              "#31688e"
             ],
             [
              0.4444444444444444,
              "#26828e"
             ],
             [
              0.5555555555555556,
              "#1f9e89"
             ],
             [
              0.6666666666666666,
              "#35b779"
             ],
             [
              0.7777777777777778,
              "#6ece58"
             ],
             [
              0.8888888888888888,
              "#b5de2b"
             ],
             [
              1,
              "#fde725"
             ]
            ],
            "type": "contour"
           }
          ],
          "contourcarpet": [
           {
            "colorbar": {
             "outlinewidth": 1,
             "tickcolor": "rgb(36,36,36)",
             "ticks": "outside"
            },
            "type": "contourcarpet"
           }
          ],
          "heatmap": [
           {
            "colorbar": {
             "outlinewidth": 1,
             "tickcolor": "rgb(36,36,36)",
             "ticks": "outside"
            },
            "colorscale": [
             [
              0,
              "#440154"
             ],
             [
              0.1111111111111111,
              "#482878"
             ],
             [
              0.2222222222222222,
              "#3e4989"
             ],
             [
              0.3333333333333333,
              "#31688e"
             ],
             [
              0.4444444444444444,
              "#26828e"
             ],
             [
              0.5555555555555556,
              "#1f9e89"
             ],
             [
              0.6666666666666666,
              "#35b779"
             ],
             [
              0.7777777777777778,
              "#6ece58"
             ],
             [
              0.8888888888888888,
              "#b5de2b"
             ],
             [
              1,
              "#fde725"
             ]
            ],
            "type": "heatmap"
           }
          ],
          "heatmapgl": [
           {
            "colorbar": {
             "outlinewidth": 1,
             "tickcolor": "rgb(36,36,36)",
             "ticks": "outside"
            },
            "colorscale": [
             [
              0,
              "#440154"
             ],
             [
              0.1111111111111111,
              "#482878"
             ],
             [
              0.2222222222222222,
              "#3e4989"
             ],
             [
              0.3333333333333333,
              "#31688e"
             ],
             [
              0.4444444444444444,
              "#26828e"
             ],
             [
              0.5555555555555556,
              "#1f9e89"
             ],
             [
              0.6666666666666666,
              "#35b779"
             ],
             [
              0.7777777777777778,
              "#6ece58"
             ],
             [
              0.8888888888888888,
              "#b5de2b"
             ],
             [
              1,
              "#fde725"
             ]
            ],
            "type": "heatmapgl"
           }
          ],
          "histogram": [
           {
            "marker": {
             "line": {
              "color": "white",
              "width": 0.6
             }
            },
            "type": "histogram"
           }
          ],
          "histogram2d": [
           {
            "colorbar": {
             "outlinewidth": 1,
             "tickcolor": "rgb(36,36,36)",
             "ticks": "outside"
            },
            "colorscale": [
             [
              0,
              "#440154"
             ],
             [
              0.1111111111111111,
              "#482878"
             ],
             [
              0.2222222222222222,
              "#3e4989"
             ],
             [
              0.3333333333333333,
              "#31688e"
             ],
             [
              0.4444444444444444,
              "#26828e"
             ],
             [
              0.5555555555555556,
              "#1f9e89"
             ],
             [
              0.6666666666666666,
              "#35b779"
             ],
             [
              0.7777777777777778,
              "#6ece58"
             ],
             [
              0.8888888888888888,
              "#b5de2b"
             ],
             [
              1,
              "#fde725"
             ]
            ],
            "type": "histogram2d"
           }
          ],
          "histogram2dcontour": [
           {
            "colorbar": {
             "outlinewidth": 1,
             "tickcolor": "rgb(36,36,36)",
             "ticks": "outside"
            },
            "colorscale": [
             [
              0,
              "#440154"
             ],
             [
              0.1111111111111111,
              "#482878"
             ],
             [
              0.2222222222222222,
              "#3e4989"
             ],
             [
              0.3333333333333333,
              "#31688e"
             ],
             [
              0.4444444444444444,
              "#26828e"
             ],
             [
              0.5555555555555556,
              "#1f9e89"
             ],
             [
              0.6666666666666666,
              "#35b779"
             ],
             [
              0.7777777777777778,
              "#6ece58"
             ],
             [
              0.8888888888888888,
              "#b5de2b"
             ],
             [
              1,
              "#fde725"
             ]
            ],
            "type": "histogram2dcontour"
           }
          ],
          "mesh3d": [
           {
            "colorbar": {
             "outlinewidth": 1,
             "tickcolor": "rgb(36,36,36)",
             "ticks": "outside"
            },
            "type": "mesh3d"
           }
          ],
          "parcoords": [
           {
            "line": {
             "colorbar": {
              "outlinewidth": 1,
              "tickcolor": "rgb(36,36,36)",
              "ticks": "outside"
             }
            },
            "type": "parcoords"
           }
          ],
          "pie": [
           {
            "automargin": true,
            "type": "pie"
           }
          ],
          "scatter": [
           {
            "marker": {
             "colorbar": {
              "outlinewidth": 1,
              "tickcolor": "rgb(36,36,36)",
              "ticks": "outside"
             }
            },
            "type": "scatter"
           }
          ],
          "scatter3d": [
           {
            "line": {
             "colorbar": {
              "outlinewidth": 1,
              "tickcolor": "rgb(36,36,36)",
              "ticks": "outside"
             }
            },
            "marker": {
             "colorbar": {
              "outlinewidth": 1,
              "tickcolor": "rgb(36,36,36)",
              "ticks": "outside"
             }
            },
            "type": "scatter3d"
           }
          ],
          "scattercarpet": [
           {
            "marker": {
             "colorbar": {
              "outlinewidth": 1,
              "tickcolor": "rgb(36,36,36)",
              "ticks": "outside"
             }
            },
            "type": "scattercarpet"
           }
          ],
          "scattergeo": [
           {
            "marker": {
             "colorbar": {
              "outlinewidth": 1,
              "tickcolor": "rgb(36,36,36)",
              "ticks": "outside"
             }
            },
            "type": "scattergeo"
           }
          ],
          "scattergl": [
           {
            "marker": {
             "colorbar": {
              "outlinewidth": 1,
              "tickcolor": "rgb(36,36,36)",
              "ticks": "outside"
             }
            },
            "type": "scattergl"
           }
          ],
          "scattermapbox": [
           {
            "marker": {
             "colorbar": {
              "outlinewidth": 1,
              "tickcolor": "rgb(36,36,36)",
              "ticks": "outside"
             }
            },
            "type": "scattermapbox"
           }
          ],
          "scatterpolar": [
           {
            "marker": {
             "colorbar": {
              "outlinewidth": 1,
              "tickcolor": "rgb(36,36,36)",
              "ticks": "outside"
             }
            },
            "type": "scatterpolar"
           }
          ],
          "scatterpolargl": [
           {
            "marker": {
             "colorbar": {
              "outlinewidth": 1,
              "tickcolor": "rgb(36,36,36)",
              "ticks": "outside"
             }
            },
            "type": "scatterpolargl"
           }
          ],
          "scatterternary": [
           {
            "marker": {
             "colorbar": {
              "outlinewidth": 1,
              "tickcolor": "rgb(36,36,36)",
              "ticks": "outside"
             }
            },
            "type": "scatterternary"
           }
          ],
          "surface": [
           {
            "colorbar": {
             "outlinewidth": 1,
             "tickcolor": "rgb(36,36,36)",
             "ticks": "outside"
            },
            "colorscale": [
             [
              0,
              "#440154"
             ],
             [
              0.1111111111111111,
              "#482878"
             ],
             [
              0.2222222222222222,
              "#3e4989"
             ],
             [
              0.3333333333333333,
              "#31688e"
             ],
             [
              0.4444444444444444,
              "#26828e"
             ],
             [
              0.5555555555555556,
              "#1f9e89"
             ],
             [
              0.6666666666666666,
              "#35b779"
             ],
             [
              0.7777777777777778,
              "#6ece58"
             ],
             [
              0.8888888888888888,
              "#b5de2b"
             ],
             [
              1,
              "#fde725"
             ]
            ],
            "type": "surface"
           }
          ],
          "table": [
           {
            "cells": {
             "fill": {
              "color": "rgb(237,237,237)"
             },
             "line": {
              "color": "white"
             }
            },
            "header": {
             "fill": {
              "color": "rgb(217,217,217)"
             },
             "line": {
              "color": "white"
             }
            },
            "type": "table"
           }
          ]
         },
         "layout": {
          "annotationdefaults": {
           "arrowhead": 0,
           "arrowwidth": 1
          },
          "autotypenumbers": "strict",
          "coloraxis": {
           "colorbar": {
            "outlinewidth": 1,
            "tickcolor": "rgb(36,36,36)",
            "ticks": "outside"
           }
          },
          "colorscale": {
           "diverging": [
            [
             0,
             "rgb(103,0,31)"
            ],
            [
             0.1,
             "rgb(178,24,43)"
            ],
            [
             0.2,
             "rgb(214,96,77)"
            ],
            [
             0.3,
             "rgb(244,165,130)"
            ],
            [
             0.4,
             "rgb(253,219,199)"
            ],
            [
             0.5,
             "rgb(247,247,247)"
            ],
            [
             0.6,
             "rgb(209,229,240)"
            ],
            [
             0.7,
             "rgb(146,197,222)"
            ],
            [
             0.8,
             "rgb(67,147,195)"
            ],
            [
             0.9,
             "rgb(33,102,172)"
            ],
            [
             1,
             "rgb(5,48,97)"
            ]
           ],
           "sequential": [
            [
             0,
             "#440154"
            ],
            [
             0.1111111111111111,
             "#482878"
            ],
            [
             0.2222222222222222,
             "#3e4989"
            ],
            [
             0.3333333333333333,
             "#31688e"
            ],
            [
             0.4444444444444444,
             "#26828e"
            ],
            [
             0.5555555555555556,
             "#1f9e89"
            ],
            [
             0.6666666666666666,
             "#35b779"
            ],
            [
             0.7777777777777778,
             "#6ece58"
            ],
            [
             0.8888888888888888,
             "#b5de2b"
            ],
            [
             1,
             "#fde725"
            ]
           ],
           "sequentialminus": [
            [
             0,
             "#440154"
            ],
            [
             0.1111111111111111,
             "#482878"
            ],
            [
             0.2222222222222222,
             "#3e4989"
            ],
            [
             0.3333333333333333,
             "#31688e"
            ],
            [
             0.4444444444444444,
             "#26828e"
            ],
            [
             0.5555555555555556,
             "#1f9e89"
            ],
            [
             0.6666666666666666,
             "#35b779"
            ],
            [
             0.7777777777777778,
             "#6ece58"
            ],
            [
             0.8888888888888888,
             "#b5de2b"
            ],
            [
             1,
             "#fde725"
            ]
           ]
          },
          "colorway": [
           "#1F77B4",
           "#FF7F0E",
           "#2CA02C",
           "#D62728",
           "#9467BD",
           "#8C564B",
           "#E377C2",
           "#7F7F7F",
           "#BCBD22",
           "#17BECF"
          ],
          "font": {
           "color": "rgb(36,36,36)"
          },
          "geo": {
           "bgcolor": "white",
           "lakecolor": "white",
           "landcolor": "white",
           "showlakes": true,
           "showland": true,
           "subunitcolor": "white"
          },
          "hoverlabel": {
           "align": "left"
          },
          "hovermode": "closest",
          "mapbox": {
           "style": "light"
          },
          "paper_bgcolor": "white",
          "plot_bgcolor": "white",
          "polar": {
           "angularaxis": {
            "gridcolor": "rgb(232,232,232)",
            "linecolor": "rgb(36,36,36)",
            "showgrid": false,
            "showline": true,
            "ticks": "outside"
           },
           "bgcolor": "white",
           "radialaxis": {
            "gridcolor": "rgb(232,232,232)",
            "linecolor": "rgb(36,36,36)",
            "showgrid": false,
            "showline": true,
            "ticks": "outside"
           }
          },
          "scene": {
           "xaxis": {
            "backgroundcolor": "white",
            "gridcolor": "rgb(232,232,232)",
            "gridwidth": 2,
            "linecolor": "rgb(36,36,36)",
            "showbackground": true,
            "showgrid": false,
            "showline": true,
            "ticks": "outside",
            "zeroline": false,
            "zerolinecolor": "rgb(36,36,36)"
           },
           "yaxis": {
            "backgroundcolor": "white",
            "gridcolor": "rgb(232,232,232)",
            "gridwidth": 2,
            "linecolor": "rgb(36,36,36)",
            "showbackground": true,
            "showgrid": false,
            "showline": true,
            "ticks": "outside",
            "zeroline": false,
            "zerolinecolor": "rgb(36,36,36)"
           },
           "zaxis": {
            "backgroundcolor": "white",
            "gridcolor": "rgb(232,232,232)",
            "gridwidth": 2,
            "linecolor": "rgb(36,36,36)",
            "showbackground": true,
            "showgrid": false,
            "showline": true,
            "ticks": "outside",
            "zeroline": false,
            "zerolinecolor": "rgb(36,36,36)"
           }
          },
          "shapedefaults": {
           "fillcolor": "black",
           "line": {
            "width": 0
           },
           "opacity": 0.3
          },
          "ternary": {
           "aaxis": {
            "gridcolor": "rgb(232,232,232)",
            "linecolor": "rgb(36,36,36)",
            "showgrid": false,
            "showline": true,
            "ticks": "outside"
           },
           "baxis": {
            "gridcolor": "rgb(232,232,232)",
            "linecolor": "rgb(36,36,36)",
            "showgrid": false,
            "showline": true,
            "ticks": "outside"
           },
           "bgcolor": "white",
           "caxis": {
            "gridcolor": "rgb(232,232,232)",
            "linecolor": "rgb(36,36,36)",
            "showgrid": false,
            "showline": true,
            "ticks": "outside"
           }
          },
          "title": {
           "x": 0.05
          },
          "xaxis": {
           "automargin": true,
           "gridcolor": "rgb(232,232,232)",
           "linecolor": "rgb(36,36,36)",
           "showgrid": false,
           "showline": true,
           "ticks": "outside",
           "title": {
            "standoff": 15
           },
           "zeroline": false,
           "zerolinecolor": "rgb(36,36,36)"
          },
          "yaxis": {
           "automargin": true,
           "gridcolor": "rgb(232,232,232)",
           "linecolor": "rgb(36,36,36)",
           "showgrid": false,
           "showline": true,
           "ticks": "outside",
           "title": {
            "standoff": 15
           },
           "zeroline": false,
           "zerolinecolor": "rgb(36,36,36)"
          }
         }
        },
        "title": {
         "text": "Oportunidad en la investigación epidemiológica de casos"
        },
        "xaxis": {
         "anchor": "y",
         "domain": [
          0,
          1
         ],
         "title": {
          "text": "Fecha"
         }
        },
        "yaxis": {
         "anchor": "x",
         "domain": [
          0,
          1
         ],
         "title": {
          "text": "Oportunidad (%)"
         }
        }
       }
      },
      "text/html": [
       "<div>                            <div id=\"a359ae1f-d278-4d00-bac2-f17d1b5ef854\" class=\"plotly-graph-div\" style=\"height:525px; width:100%;\"></div>            <script type=\"text/javascript\">                require([\"plotly\"], function(Plotly) {                    window.PLOTLYENV=window.PLOTLYENV || {};                                    if (document.getElementById(\"a359ae1f-d278-4d00-bac2-f17d1b5ef854\")) {                    Plotly.newPlot(                        \"a359ae1f-d278-4d00-bac2-f17d1b5ef854\",                        [{\"hovertemplate\": \"fecha_cumple_requisitos=%{x}<br>n_folio=%{marker.color}<extra></extra>\", \"legendgroup\": \"\", \"line\": {\"color\": \"grey\"}, \"marker\": {\"color\": [100.0, 100.0, 100.0, 100.0, 98.85057471264368, 98.0392156862745, 82.95454545454545, 94.5054945054945, 94.73684210526315, 91.66666666666666, 71.42857142857143, 89.36170212765957, 95.0, 92.0, 93.75, 85.71428571428571, 100.0, 81.81818181818183, 80.0, 77.77777777777779, 64.70588235294117, 100.0, 87.5, 30.0, 66.66666666666666, 100.0, 94.44444444444444, 84.61538461538461, 100.0, 80.0, 100.0, 100.0, 62.5, 90.9090909090909, 100.0, 70.27027027027027, 100.0, 100.0, 100.0, 100.0, 100.0, 72.72727272727273, 100.0, 100.0, 96.15384615384616, 77.63157894736842, 96.875, 96.1038961038961, 97.5609756097561, 96.0, 92.0, 90.9090909090909, 100.0, 81.81818181818183, 100.0, 100.0, 81.25, 100.0, 100.0, 100.0, 100.0], \"coloraxis\": \"coloraxis\", \"line\": {\"width\": 1}, \"size\": 10, \"symbol\": \"circle\"}, \"mode\": \"lines+markers\", \"name\": \"\", \"orientation\": \"v\", \"showlegend\": false, \"type\": \"scatter\", \"x\": [\"2021-07-02T00:00:00\", \"2021-07-03T00:00:00\", \"2021-07-04T00:00:00\", \"2021-07-05T00:00:00\", \"2021-07-06T00:00:00\", \"2021-07-07T00:00:00\", \"2021-07-08T00:00:00\", \"2021-07-09T00:00:00\", \"2021-07-10T00:00:00\", \"2021-07-11T00:00:00\", \"2021-07-12T00:00:00\", \"2021-07-13T00:00:00\", \"2021-07-14T00:00:00\", \"2021-07-15T00:00:00\", \"2021-07-16T00:00:00\", \"2021-07-17T00:00:00\", \"2021-07-18T00:00:00\", \"2021-07-19T00:00:00\", \"2021-07-20T00:00:00\", \"2021-07-21T00:00:00\", \"2021-07-22T00:00:00\", \"2021-07-23T00:00:00\", \"2021-07-24T00:00:00\", \"2021-07-25T00:00:00\", \"2021-07-26T00:00:00\", \"2021-07-27T00:00:00\", \"2021-07-28T00:00:00\", \"2021-07-29T00:00:00\", \"2021-07-30T00:00:00\", \"2021-07-31T00:00:00\", \"2021-08-01T00:00:00\", \"2021-08-02T00:00:00\", \"2021-08-03T00:00:00\", \"2021-08-04T00:00:00\", \"2021-08-05T00:00:00\", \"2021-08-06T00:00:00\", \"2021-08-07T00:00:00\", \"2021-08-08T00:00:00\", \"2021-08-09T00:00:00\", \"2021-08-10T00:00:00\", \"2021-08-11T00:00:00\", \"2021-08-12T00:00:00\", \"2021-08-13T00:00:00\", \"2021-08-14T00:00:00\", \"2021-08-15T00:00:00\", \"2021-08-16T00:00:00\", \"2021-08-17T00:00:00\", \"2021-08-18T00:00:00\", \"2021-08-19T00:00:00\", \"2021-08-20T00:00:00\", \"2021-08-21T00:00:00\", \"2021-08-22T00:00:00\", \"2021-08-23T00:00:00\", \"2021-08-24T00:00:00\", \"2021-08-25T00:00:00\", \"2021-08-26T00:00:00\", \"2021-08-27T00:00:00\", \"2021-08-28T00:00:00\", \"2021-08-29T00:00:00\", \"2021-08-30T00:00:00\", \"2021-08-31T00:00:00\"], \"xaxis\": \"x\", \"y\": [100.0, 100.0, 100.0, 100.0, 98.85057471264368, 98.0392156862745, 82.95454545454545, 94.5054945054945, 94.73684210526315, 91.66666666666666, 71.42857142857143, 89.36170212765957, 95.0, 92.0, 93.75, 85.71428571428571, 100.0, 81.81818181818183, 80.0, 77.77777777777779, 64.70588235294117, 100.0, 87.5, 30.0, 66.66666666666666, 100.0, 94.44444444444444, 84.61538461538461, 100.0, 80.0, 100.0, 100.0, 62.5, 90.9090909090909, 100.0, 70.27027027027027, 100.0, 100.0, 100.0, 100.0, 100.0, 72.72727272727273, 100.0, 100.0, 96.15384615384616, 77.63157894736842, 96.875, 96.1038961038961, 97.5609756097561, 96.0, 92.0, 90.9090909090909, 100.0, 81.81818181818183, 100.0, 100.0, 81.25, 100.0, 100.0, 100.0, 100.0], \"yaxis\": \"y\"}],                        {\"coloraxis\": {\"colorbar\": {\"title\": {\"text\": \"n_folio\"}}, \"colorscale\": [[0.0, \"#fde725\"], [0.1111111111111111, \"#b5de2b\"], [0.2222222222222222, \"#6ece58\"], [0.3333333333333333, \"#35b779\"], [0.4444444444444444, \"#1f9e89\"], [0.5555555555555556, \"#26828e\"], [0.6666666666666666, \"#31688e\"], [0.7777777777777778, \"#3e4989\"], [0.8888888888888888, \"#482878\"], [1.0, \"#440154\"]]}, \"legend\": {\"tracegroupgap\": 0}, \"margin\": {\"t\": 60}, \"template\": {\"data\": {\"bar\": [{\"error_x\": {\"color\": \"rgb(36,36,36)\"}, \"error_y\": {\"color\": \"rgb(36,36,36)\"}, \"marker\": {\"line\": {\"color\": \"white\", \"width\": 0.5}}, \"type\": \"bar\"}], \"barpolar\": [{\"marker\": {\"line\": {\"color\": \"white\", \"width\": 0.5}}, \"type\": \"barpolar\"}], \"carpet\": [{\"aaxis\": {\"endlinecolor\": \"rgb(36,36,36)\", \"gridcolor\": \"white\", \"linecolor\": \"white\", \"minorgridcolor\": \"white\", \"startlinecolor\": \"rgb(36,36,36)\"}, \"baxis\": {\"endlinecolor\": \"rgb(36,36,36)\", \"gridcolor\": \"white\", \"linecolor\": \"white\", \"minorgridcolor\": \"white\", \"startlinecolor\": \"rgb(36,36,36)\"}, \"type\": \"carpet\"}], \"choropleth\": [{\"colorbar\": {\"outlinewidth\": 1, \"tickcolor\": \"rgb(36,36,36)\", \"ticks\": \"outside\"}, \"type\": \"choropleth\"}], \"contour\": [{\"colorbar\": {\"outlinewidth\": 1, \"tickcolor\": \"rgb(36,36,36)\", \"ticks\": \"outside\"}, \"colorscale\": [[0.0, \"#440154\"], [0.1111111111111111, \"#482878\"], [0.2222222222222222, \"#3e4989\"], [0.3333333333333333, \"#31688e\"], [0.4444444444444444, \"#26828e\"], [0.5555555555555556, \"#1f9e89\"], [0.6666666666666666, \"#35b779\"], [0.7777777777777778, \"#6ece58\"], [0.8888888888888888, \"#b5de2b\"], [1.0, \"#fde725\"]], \"type\": \"contour\"}], \"contourcarpet\": [{\"colorbar\": {\"outlinewidth\": 1, \"tickcolor\": \"rgb(36,36,36)\", \"ticks\": \"outside\"}, \"type\": \"contourcarpet\"}], \"heatmap\": [{\"colorbar\": {\"outlinewidth\": 1, \"tickcolor\": \"rgb(36,36,36)\", \"ticks\": \"outside\"}, \"colorscale\": [[0.0, \"#440154\"], [0.1111111111111111, \"#482878\"], [0.2222222222222222, \"#3e4989\"], [0.3333333333333333, \"#31688e\"], [0.4444444444444444, \"#26828e\"], [0.5555555555555556, \"#1f9e89\"], [0.6666666666666666, \"#35b779\"], [0.7777777777777778, \"#6ece58\"], [0.8888888888888888, \"#b5de2b\"], [1.0, \"#fde725\"]], \"type\": \"heatmap\"}], \"heatmapgl\": [{\"colorbar\": {\"outlinewidth\": 1, \"tickcolor\": \"rgb(36,36,36)\", \"ticks\": \"outside\"}, \"colorscale\": [[0.0, \"#440154\"], [0.1111111111111111, \"#482878\"], [0.2222222222222222, \"#3e4989\"], [0.3333333333333333, \"#31688e\"], [0.4444444444444444, \"#26828e\"], [0.5555555555555556, \"#1f9e89\"], [0.6666666666666666, \"#35b779\"], [0.7777777777777778, \"#6ece58\"], [0.8888888888888888, \"#b5de2b\"], [1.0, \"#fde725\"]], \"type\": \"heatmapgl\"}], \"histogram\": [{\"marker\": {\"line\": {\"color\": \"white\", \"width\": 0.6}}, \"type\": \"histogram\"}], \"histogram2d\": [{\"colorbar\": {\"outlinewidth\": 1, \"tickcolor\": \"rgb(36,36,36)\", \"ticks\": \"outside\"}, \"colorscale\": [[0.0, \"#440154\"], [0.1111111111111111, \"#482878\"], [0.2222222222222222, \"#3e4989\"], [0.3333333333333333, \"#31688e\"], [0.4444444444444444, \"#26828e\"], [0.5555555555555556, \"#1f9e89\"], [0.6666666666666666, \"#35b779\"], [0.7777777777777778, \"#6ece58\"], [0.8888888888888888, \"#b5de2b\"], [1.0, \"#fde725\"]], \"type\": \"histogram2d\"}], \"histogram2dcontour\": [{\"colorbar\": {\"outlinewidth\": 1, \"tickcolor\": \"rgb(36,36,36)\", \"ticks\": \"outside\"}, \"colorscale\": [[0.0, \"#440154\"], [0.1111111111111111, \"#482878\"], [0.2222222222222222, \"#3e4989\"], [0.3333333333333333, \"#31688e\"], [0.4444444444444444, \"#26828e\"], [0.5555555555555556, \"#1f9e89\"], [0.6666666666666666, \"#35b779\"], [0.7777777777777778, \"#6ece58\"], [0.8888888888888888, \"#b5de2b\"], [1.0, \"#fde725\"]], \"type\": \"histogram2dcontour\"}], \"mesh3d\": [{\"colorbar\": {\"outlinewidth\": 1, \"tickcolor\": \"rgb(36,36,36)\", \"ticks\": \"outside\"}, \"type\": \"mesh3d\"}], \"parcoords\": [{\"line\": {\"colorbar\": {\"outlinewidth\": 1, \"tickcolor\": \"rgb(36,36,36)\", \"ticks\": \"outside\"}}, \"type\": \"parcoords\"}], \"pie\": [{\"automargin\": true, \"type\": \"pie\"}], \"scatter\": [{\"marker\": {\"colorbar\": {\"outlinewidth\": 1, \"tickcolor\": \"rgb(36,36,36)\", \"ticks\": \"outside\"}}, \"type\": \"scatter\"}], \"scatter3d\": [{\"line\": {\"colorbar\": {\"outlinewidth\": 1, \"tickcolor\": \"rgb(36,36,36)\", \"ticks\": \"outside\"}}, \"marker\": {\"colorbar\": {\"outlinewidth\": 1, \"tickcolor\": \"rgb(36,36,36)\", \"ticks\": \"outside\"}}, \"type\": \"scatter3d\"}], \"scattercarpet\": [{\"marker\": {\"colorbar\": {\"outlinewidth\": 1, \"tickcolor\": \"rgb(36,36,36)\", \"ticks\": \"outside\"}}, \"type\": \"scattercarpet\"}], \"scattergeo\": [{\"marker\": {\"colorbar\": {\"outlinewidth\": 1, \"tickcolor\": \"rgb(36,36,36)\", \"ticks\": \"outside\"}}, \"type\": \"scattergeo\"}], \"scattergl\": [{\"marker\": {\"colorbar\": {\"outlinewidth\": 1, \"tickcolor\": \"rgb(36,36,36)\", \"ticks\": \"outside\"}}, \"type\": \"scattergl\"}], \"scattermapbox\": [{\"marker\": {\"colorbar\": {\"outlinewidth\": 1, \"tickcolor\": \"rgb(36,36,36)\", \"ticks\": \"outside\"}}, \"type\": \"scattermapbox\"}], \"scatterpolar\": [{\"marker\": {\"colorbar\": {\"outlinewidth\": 1, \"tickcolor\": \"rgb(36,36,36)\", \"ticks\": \"outside\"}}, \"type\": \"scatterpolar\"}], \"scatterpolargl\": [{\"marker\": {\"colorbar\": {\"outlinewidth\": 1, \"tickcolor\": \"rgb(36,36,36)\", \"ticks\": \"outside\"}}, \"type\": \"scatterpolargl\"}], \"scatterternary\": [{\"marker\": {\"colorbar\": {\"outlinewidth\": 1, \"tickcolor\": \"rgb(36,36,36)\", \"ticks\": \"outside\"}}, \"type\": \"scatterternary\"}], \"surface\": [{\"colorbar\": {\"outlinewidth\": 1, \"tickcolor\": \"rgb(36,36,36)\", \"ticks\": \"outside\"}, \"colorscale\": [[0.0, \"#440154\"], [0.1111111111111111, \"#482878\"], [0.2222222222222222, \"#3e4989\"], [0.3333333333333333, \"#31688e\"], [0.4444444444444444, \"#26828e\"], [0.5555555555555556, \"#1f9e89\"], [0.6666666666666666, \"#35b779\"], [0.7777777777777778, \"#6ece58\"], [0.8888888888888888, \"#b5de2b\"], [1.0, \"#fde725\"]], \"type\": \"surface\"}], \"table\": [{\"cells\": {\"fill\": {\"color\": \"rgb(237,237,237)\"}, \"line\": {\"color\": \"white\"}}, \"header\": {\"fill\": {\"color\": \"rgb(217,217,217)\"}, \"line\": {\"color\": \"white\"}}, \"type\": \"table\"}]}, \"layout\": {\"annotationdefaults\": {\"arrowhead\": 0, \"arrowwidth\": 1}, \"autotypenumbers\": \"strict\", \"coloraxis\": {\"colorbar\": {\"outlinewidth\": 1, \"tickcolor\": \"rgb(36,36,36)\", \"ticks\": \"outside\"}}, \"colorscale\": {\"diverging\": [[0.0, \"rgb(103,0,31)\"], [0.1, \"rgb(178,24,43)\"], [0.2, \"rgb(214,96,77)\"], [0.3, \"rgb(244,165,130)\"], [0.4, \"rgb(253,219,199)\"], [0.5, \"rgb(247,247,247)\"], [0.6, \"rgb(209,229,240)\"], [0.7, \"rgb(146,197,222)\"], [0.8, \"rgb(67,147,195)\"], [0.9, \"rgb(33,102,172)\"], [1.0, \"rgb(5,48,97)\"]], \"sequential\": [[0.0, \"#440154\"], [0.1111111111111111, \"#482878\"], [0.2222222222222222, \"#3e4989\"], [0.3333333333333333, \"#31688e\"], [0.4444444444444444, \"#26828e\"], [0.5555555555555556, \"#1f9e89\"], [0.6666666666666666, \"#35b779\"], [0.7777777777777778, \"#6ece58\"], [0.8888888888888888, \"#b5de2b\"], [1.0, \"#fde725\"]], \"sequentialminus\": [[0.0, \"#440154\"], [0.1111111111111111, \"#482878\"], [0.2222222222222222, \"#3e4989\"], [0.3333333333333333, \"#31688e\"], [0.4444444444444444, \"#26828e\"], [0.5555555555555556, \"#1f9e89\"], [0.6666666666666666, \"#35b779\"], [0.7777777777777778, \"#6ece58\"], [0.8888888888888888, \"#b5de2b\"], [1.0, \"#fde725\"]]}, \"colorway\": [\"#1F77B4\", \"#FF7F0E\", \"#2CA02C\", \"#D62728\", \"#9467BD\", \"#8C564B\", \"#E377C2\", \"#7F7F7F\", \"#BCBD22\", \"#17BECF\"], \"font\": {\"color\": \"rgb(36,36,36)\"}, \"geo\": {\"bgcolor\": \"white\", \"lakecolor\": \"white\", \"landcolor\": \"white\", \"showlakes\": true, \"showland\": true, \"subunitcolor\": \"white\"}, \"hoverlabel\": {\"align\": \"left\"}, \"hovermode\": \"closest\", \"mapbox\": {\"style\": \"light\"}, \"paper_bgcolor\": \"white\", \"plot_bgcolor\": \"white\", \"polar\": {\"angularaxis\": {\"gridcolor\": \"rgb(232,232,232)\", \"linecolor\": \"rgb(36,36,36)\", \"showgrid\": false, \"showline\": true, \"ticks\": \"outside\"}, \"bgcolor\": \"white\", \"radialaxis\": {\"gridcolor\": \"rgb(232,232,232)\", \"linecolor\": \"rgb(36,36,36)\", \"showgrid\": false, \"showline\": true, \"ticks\": \"outside\"}}, \"scene\": {\"xaxis\": {\"backgroundcolor\": \"white\", \"gridcolor\": \"rgb(232,232,232)\", \"gridwidth\": 2, \"linecolor\": \"rgb(36,36,36)\", \"showbackground\": true, \"showgrid\": false, \"showline\": true, \"ticks\": \"outside\", \"zeroline\": false, \"zerolinecolor\": \"rgb(36,36,36)\"}, \"yaxis\": {\"backgroundcolor\": \"white\", \"gridcolor\": \"rgb(232,232,232)\", \"gridwidth\": 2, \"linecolor\": \"rgb(36,36,36)\", \"showbackground\": true, \"showgrid\": false, \"showline\": true, \"ticks\": \"outside\", \"zeroline\": false, \"zerolinecolor\": \"rgb(36,36,36)\"}, \"zaxis\": {\"backgroundcolor\": \"white\", \"gridcolor\": \"rgb(232,232,232)\", \"gridwidth\": 2, \"linecolor\": \"rgb(36,36,36)\", \"showbackground\": true, \"showgrid\": false, \"showline\": true, \"ticks\": \"outside\", \"zeroline\": false, \"zerolinecolor\": \"rgb(36,36,36)\"}}, \"shapedefaults\": {\"fillcolor\": \"black\", \"line\": {\"width\": 0}, \"opacity\": 0.3}, \"ternary\": {\"aaxis\": {\"gridcolor\": \"rgb(232,232,232)\", \"linecolor\": \"rgb(36,36,36)\", \"showgrid\": false, \"showline\": true, \"ticks\": \"outside\"}, \"baxis\": {\"gridcolor\": \"rgb(232,232,232)\", \"linecolor\": \"rgb(36,36,36)\", \"showgrid\": false, \"showline\": true, \"ticks\": \"outside\"}, \"bgcolor\": \"white\", \"caxis\": {\"gridcolor\": \"rgb(232,232,232)\", \"linecolor\": \"rgb(36,36,36)\", \"showgrid\": false, \"showline\": true, \"ticks\": \"outside\"}}, \"title\": {\"x\": 0.05}, \"xaxis\": {\"automargin\": true, \"gridcolor\": \"rgb(232,232,232)\", \"linecolor\": \"rgb(36,36,36)\", \"showgrid\": false, \"showline\": true, \"ticks\": \"outside\", \"title\": {\"standoff\": 15}, \"zeroline\": false, \"zerolinecolor\": \"rgb(36,36,36)\"}, \"yaxis\": {\"automargin\": true, \"gridcolor\": \"rgb(232,232,232)\", \"linecolor\": \"rgb(36,36,36)\", \"showgrid\": false, \"showline\": true, \"ticks\": \"outside\", \"title\": {\"standoff\": 15}, \"zeroline\": false, \"zerolinecolor\": \"rgb(36,36,36)\"}}}, \"title\": {\"text\": \"Oportunidad en la investigaci\\u00f3n epidemiol\\u00f3gica de casos\"}, \"xaxis\": {\"anchor\": \"y\", \"domain\": [0.0, 1.0], \"title\": {\"text\": \"Fecha\"}}, \"yaxis\": {\"anchor\": \"x\", \"domain\": [0.0, 1.0], \"title\": {\"text\": \"Oportunidad (%)\"}}},                        {\"responsive\": true}                    ).then(function(){\n",
       "                            \n",
       "var gd = document.getElementById('a359ae1f-d278-4d00-bac2-f17d1b5ef854');\n",
       "var x = new MutationObserver(function (mutations, observer) {{\n",
       "        var display = window.getComputedStyle(gd).display;\n",
       "        if (!display || display === 'none') {{\n",
       "            console.log([gd, 'removed!']);\n",
       "            Plotly.purge(gd);\n",
       "            observer.disconnect();\n",
       "        }}\n",
       "}});\n",
       "\n",
       "// Listen for the removal of the full notebook cells\n",
       "var notebookContainer = gd.closest('#notebook-container');\n",
       "if (notebookContainer) {{\n",
       "    x.observe(notebookContainer, {childList: true});\n",
       "}}\n",
       "\n",
       "// Listen for the clearing of the current output cell\n",
       "var outputEl = gd.closest('.output');\n",
       "if (outputEl) {{\n",
       "    x.observe(outputEl, {childList: true});\n",
       "}}\n",
       "\n",
       "                        })                };                });            </script>        </div>"
      ]
     },
     "metadata": {},
     "output_type": "display_data"
    }
   ],
   "source": [
    "px.scatter(df_ind5_perc.reset_index(),\n",
    "        x= 'fecha_cumple_requisitos',\n",
    "        y= 'n_folio',\n",
    "        color='n_folio',\n",
    "        color_continuous_scale=px.colors.sequential.Viridis_r,\n",
    "        labels={'bac_ind':'BAC (%)'},\n",
    "        ).update_layout(title= 'Oportunidad en la investigación epidemiológica de casos',\n",
    "                       yaxis_title='Oportunidad (%)',\n",
    "                       xaxis_title='Fecha',\n",
    "                       template='simple_white',\n",
    "                 #      xaxis=dict(tickmode = 'array',\n",
    "                  #                tickvals = list(range(12,88,3)),\n",
    "                   #               ticktext = list(list(range(12,54,3))+list(range(1,88,3))),\n",
    "                    #             ),\n",
    "                 #   ).add_vline(x=53.5, line_width=3, line_dash='dash', line_color='gray'\n",
    "                  #             ).add_hline(y=10, \n",
    "                   #                        line_width=3, \n",
    "                    #                       line_dash='longdash', \n",
    "                     #                      line_color='olive',\n",
    "                      #                     annotation_text='Meta nacional (10%)',\n",
    "                       #                    annotation_position='bottom right'\n",
    "                        #         ).add_hline(y=mean_bac_ind, \n",
    "                         #                    line_width=3, \n",
    "                          #                   line_dash='longdash', \n",
    "                           #                  line_color='green',\n",
    "                            #                 annotation_text= 'Promedio BAC ('+str(mean_bac_ind)+'%)',\n",
    "                             #                annotation_position='bottom right'\n",
    "                              #       ).add_vrect(x0='51', x1='50', \n",
    "                               #            annotation_text='2020', \n",
    "                                #           annotation_position='top right',\n",
    "                                 #          annotation=dict(font_size=18, \n",
    "                                  #                         font_family=\"'Open Sans', verdana, arial, sans-serif\"),\n",
    "                                   #                        opacity=0, \n",
    "                                    #                       line_width=0\n",
    "                                     #     ).add_vrect(x0='84', x1='86', \n",
    "                                      #     annotation_text='2021', \n",
    "                                       #    annotation_position='top right',\n",
    "                                        #   annotation=dict(font_size=18, \n",
    "                                         #                  font_family=\"'Open Sans', verdana, arial, sans-serif\"),\n",
    "                                          #                 opacity=0, \n",
    "                                           #                line_width=0\n",
    "                                                     ).update_traces(mode='lines+markers', \n",
    "                                                                     line_color='grey',\n",
    "                                                                     marker_line_width=1, \n",
    "                                                                     marker_size=10)"
   ]
  },
  {
   "cell_type": "code",
   "execution_count": 241,
   "id": "f6dd6640",
   "metadata": {},
   "outputs": [
    {
     "data": {
      "text/html": [
       "<div>\n",
       "<style scoped>\n",
       "    .dataframe tbody tr th:only-of-type {\n",
       "        vertical-align: middle;\n",
       "    }\n",
       "\n",
       "    .dataframe tbody tr th {\n",
       "        vertical-align: top;\n",
       "    }\n",
       "\n",
       "    .dataframe thead th {\n",
       "        text-align: right;\n",
       "    }\n",
       "</style>\n",
       "<table border=\"1\" class=\"dataframe\">\n",
       "  <thead>\n",
       "    <tr style=\"text-align: right;\">\n",
       "      <th></th>\n",
       "      <th>fecha_cumple_requisitos</th>\n",
       "      <th>n_folio</th>\n",
       "    </tr>\n",
       "  </thead>\n",
       "  <tbody>\n",
       "    <tr>\n",
       "      <th>0</th>\n",
       "      <td>2021-07-02</td>\n",
       "      <td>100.000000</td>\n",
       "    </tr>\n",
       "    <tr>\n",
       "      <th>1</th>\n",
       "      <td>2021-07-03</td>\n",
       "      <td>100.000000</td>\n",
       "    </tr>\n",
       "    <tr>\n",
       "      <th>2</th>\n",
       "      <td>2021-07-04</td>\n",
       "      <td>100.000000</td>\n",
       "    </tr>\n",
       "    <tr>\n",
       "      <th>3</th>\n",
       "      <td>2021-07-05</td>\n",
       "      <td>100.000000</td>\n",
       "    </tr>\n",
       "    <tr>\n",
       "      <th>4</th>\n",
       "      <td>2021-07-06</td>\n",
       "      <td>98.850575</td>\n",
       "    </tr>\n",
       "  </tbody>\n",
       "</table>\n",
       "</div>"
      ],
      "text/plain": [
       "  fecha_cumple_requisitos     n_folio\n",
       "0              2021-07-02  100.000000\n",
       "1              2021-07-03  100.000000\n",
       "2              2021-07-04  100.000000\n",
       "3              2021-07-05  100.000000\n",
       "4              2021-07-06   98.850575"
      ]
     },
     "execution_count": 241,
     "metadata": {},
     "output_type": "execute_result"
    }
   ],
   "source": [
    "df_ind5_perc.reset_index().head()"
   ]
  },
  {
   "cell_type": "code",
   "execution_count": 242,
   "id": "890cea70",
   "metadata": {},
   "outputs": [
    {
     "data": {
      "text/html": [
       "<div>\n",
       "<style scoped>\n",
       "    .dataframe tbody tr th:only-of-type {\n",
       "        vertical-align: middle;\n",
       "    }\n",
       "\n",
       "    .dataframe tbody tr th {\n",
       "        vertical-align: top;\n",
       "    }\n",
       "\n",
       "    .dataframe thead th {\n",
       "        text-align: right;\n",
       "    }\n",
       "</style>\n",
       "<table border=\"1\" class=\"dataframe\">\n",
       "  <thead>\n",
       "    <tr style=\"text-align: right;\">\n",
       "      <th></th>\n",
       "      <th>fecha_notificacion</th>\n",
       "      <th>semana_epidemiologica_21</th>\n",
       "    </tr>\n",
       "  </thead>\n",
       "  <tbody>\n",
       "    <tr>\n",
       "      <th>0</th>\n",
       "      <td>2020-03-12</td>\n",
       "      <td>11</td>\n",
       "    </tr>\n",
       "    <tr>\n",
       "      <th>1</th>\n",
       "      <td>2020-03-12</td>\n",
       "      <td>11</td>\n",
       "    </tr>\n",
       "    <tr>\n",
       "      <th>2</th>\n",
       "      <td>2020-03-12</td>\n",
       "      <td>11</td>\n",
       "    </tr>\n",
       "    <tr>\n",
       "      <th>3</th>\n",
       "      <td>2020-03-18</td>\n",
       "      <td>12</td>\n",
       "    </tr>\n",
       "    <tr>\n",
       "      <th>4</th>\n",
       "      <td>2020-03-19</td>\n",
       "      <td>12</td>\n",
       "    </tr>\n",
       "    <tr>\n",
       "      <th>...</th>\n",
       "      <td>...</td>\n",
       "      <td>...</td>\n",
       "    </tr>\n",
       "    <tr>\n",
       "      <th>149129</th>\n",
       "      <td>2021-08-30</td>\n",
       "      <td>88</td>\n",
       "    </tr>\n",
       "    <tr>\n",
       "      <th>149130</th>\n",
       "      <td>2021-08-30</td>\n",
       "      <td>88</td>\n",
       "    </tr>\n",
       "    <tr>\n",
       "      <th>149131</th>\n",
       "      <td>2021-08-30</td>\n",
       "      <td>88</td>\n",
       "    </tr>\n",
       "    <tr>\n",
       "      <th>149132</th>\n",
       "      <td>2021-08-30</td>\n",
       "      <td>88</td>\n",
       "    </tr>\n",
       "    <tr>\n",
       "      <th>149133</th>\n",
       "      <td>2021-08-30</td>\n",
       "      <td>88</td>\n",
       "    </tr>\n",
       "  </tbody>\n",
       "</table>\n",
       "<p>149134 rows × 2 columns</p>\n",
       "</div>"
      ],
      "text/plain": [
       "       fecha_notificacion  semana_epidemiologica_21\n",
       "0              2020-03-12                        11\n",
       "1              2020-03-12                        11\n",
       "2              2020-03-12                        11\n",
       "3              2020-03-18                        12\n",
       "4              2020-03-19                        12\n",
       "...                   ...                       ...\n",
       "149129         2021-08-30                        88\n",
       "149130         2021-08-30                        88\n",
       "149131         2021-08-30                        88\n",
       "149132         2021-08-30                        88\n",
       "149133         2021-08-30                        88\n",
       "\n",
       "[149134 rows x 2 columns]"
      ]
     },
     "execution_count": 242,
     "metadata": {},
     "output_type": "execute_result"
    }
   ],
   "source": [
    "data_aysen_clean_21[['fecha_notificacion','semana_epidemiologica_21']]"
   ]
  },
  {
   "cell_type": "code",
   "execution_count": 243,
   "id": "26aa1070",
   "metadata": {
    "scrolled": true
   },
   "outputs": [
    {
     "data": {
      "text/html": [
       "<div>\n",
       "<style scoped>\n",
       "    .dataframe tbody tr th:only-of-type {\n",
       "        vertical-align: middle;\n",
       "    }\n",
       "\n",
       "    .dataframe tbody tr th {\n",
       "        vertical-align: top;\n",
       "    }\n",
       "\n",
       "    .dataframe thead th {\n",
       "        text-align: right;\n",
       "    }\n",
       "</style>\n",
       "<table border=\"1\" class=\"dataframe\">\n",
       "  <thead>\n",
       "    <tr style=\"text-align: right;\">\n",
       "      <th></th>\n",
       "      <th>n_folio</th>\n",
       "    </tr>\n",
       "    <tr>\n",
       "      <th>semana_epidemiologica_21</th>\n",
       "      <th></th>\n",
       "    </tr>\n",
       "  </thead>\n",
       "  <tbody>\n",
       "    <tr>\n",
       "      <th>79.0</th>\n",
       "      <td>100.000000</td>\n",
       "    </tr>\n",
       "    <tr>\n",
       "      <th>80.0</th>\n",
       "      <td>95.588239</td>\n",
       "    </tr>\n",
       "    <tr>\n",
       "      <th>81.0</th>\n",
       "      <td>86.737825</td>\n",
       "    </tr>\n",
       "    <tr>\n",
       "      <th>82.0</th>\n",
       "      <td>82.414573</td>\n",
       "    </tr>\n",
       "    <tr>\n",
       "      <th>83.0</th>\n",
       "      <td>85.035236</td>\n",
       "    </tr>\n",
       "    <tr>\n",
       "      <th>84.0</th>\n",
       "      <td>86.394161</td>\n",
       "    </tr>\n",
       "    <tr>\n",
       "      <th>85.0</th>\n",
       "      <td>96.174283</td>\n",
       "    </tr>\n",
       "    <tr>\n",
       "      <th>86.0</th>\n",
       "      <td>91.958693</td>\n",
       "    </tr>\n",
       "    <tr>\n",
       "      <th>87.0</th>\n",
       "      <td>93.790945</td>\n",
       "    </tr>\n",
       "    <tr>\n",
       "      <th>88.0</th>\n",
       "      <td>100.000000</td>\n",
       "    </tr>\n",
       "  </tbody>\n",
       "</table>\n",
       "</div>"
      ],
      "text/plain": [
       "                             n_folio\n",
       "semana_epidemiologica_21            \n",
       "79.0                      100.000000\n",
       "80.0                       95.588239\n",
       "81.0                       86.737825\n",
       "82.0                       82.414573\n",
       "83.0                       85.035236\n",
       "84.0                       86.394161\n",
       "85.0                       96.174283\n",
       "86.0                       91.958693\n",
       "87.0                       93.790945\n",
       "88.0                      100.000000"
      ]
     },
     "execution_count": 243,
     "metadata": {},
     "output_type": "execute_result"
    }
   ],
   "source": [
    "df_ind5_perc.reset_index().merge(data_aysen_clean_21[['fecha_notificacion','semana_epidemiologica_21']], \n",
    "                   left_on='fecha_cumple_requisitos',\n",
    "                   right_on='fecha_notificacion',\n",
    "                   how='left').groupby('semana_epidemiologica_21').mean()"
   ]
  },
  {
   "cell_type": "code",
   "execution_count": 246,
   "id": "7e954ecd",
   "metadata": {},
   "outputs": [],
   "source": [
    "mean_ind5 = df_ind5_perc.reset_index().merge(data_aysen_clean_21[['fecha_notificacion','semana_epidemiologica_21']], \n",
    "                   left_on='fecha_cumple_requisitos',\n",
    "                   right_on='fecha_notificacion',\n",
    "                   how='left').groupby('semana_epidemiologica_21').mean()['n_folio'].mean()"
   ]
  },
  {
   "cell_type": "code",
   "execution_count": 251,
   "id": "f100d2b2",
   "metadata": {},
   "outputs": [
    {
     "data": {
      "application/vnd.plotly.v1+json": {
       "config": {
        "plotlyServerURL": "https://plot.ly"
       },
       "data": [
        {
         "hovertemplate": "semana_epidemiologica_21=%{x}<br>n_folio=%{marker.color}<extra></extra>",
         "legendgroup": "",
         "line": {
          "color": "grey"
         },
         "marker": {
          "color": [
           100,
           95.58823885489406,
           86.73782456339602,
           82.41457268567606,
           85.03523604925732,
           86.39416097828978,
           96.174282678001,
           91.95869278778156,
           93.79094498788395,
           100
          ],
          "coloraxis": "coloraxis",
          "line": {
           "width": 1
          },
          "size": 10,
          "symbol": "circle"
         },
         "mode": "lines+markers",
         "name": "",
         "orientation": "v",
         "showlegend": false,
         "type": "scatter",
         "x": [
          79,
          80,
          81,
          82,
          83,
          84,
          85,
          86,
          87,
          88
         ],
         "xaxis": "x",
         "y": [
          100,
          95.58823885489406,
          86.73782456339602,
          82.41457268567606,
          85.03523604925732,
          86.39416097828978,
          96.174282678001,
          91.95869278778156,
          93.79094498788395,
          100
         ],
         "yaxis": "y"
        }
       ],
       "layout": {
        "annotations": [
         {
          "showarrow": false,
          "text": "Promedio (91.81%)",
          "x": 1,
          "xanchor": "right",
          "xref": "x domain",
          "y": 91.80939535851796,
          "yanchor": "top",
          "yref": "y"
         },
         {
          "font": {
           "family": "'Open Sans', verdana, arial, sans-serif",
           "size": 18
          },
          "showarrow": false,
          "text": "2020",
          "x": "51",
          "xanchor": "right",
          "xref": "x",
          "y": 1,
          "yanchor": "top",
          "yref": "y domain"
         },
         {
          "font": {
           "family": "'Open Sans', verdana, arial, sans-serif",
           "size": 18
          },
          "showarrow": false,
          "text": "2021",
          "x": "86",
          "xanchor": "right",
          "xref": "x",
          "y": 1,
          "yanchor": "top",
          "yref": "y domain"
         }
        ],
        "coloraxis": {
         "colorbar": {
          "title": {
           "text": "n_folio"
          }
         },
         "colorscale": [
          [
           0,
           "#fde725"
          ],
          [
           0.1111111111111111,
           "#b5de2b"
          ],
          [
           0.2222222222222222,
           "#6ece58"
          ],
          [
           0.3333333333333333,
           "#35b779"
          ],
          [
           0.4444444444444444,
           "#1f9e89"
          ],
          [
           0.5555555555555556,
           "#26828e"
          ],
          [
           0.6666666666666666,
           "#31688e"
          ],
          [
           0.7777777777777778,
           "#3e4989"
          ],
          [
           0.8888888888888888,
           "#482878"
          ],
          [
           1,
           "#440154"
          ]
         ]
        },
        "legend": {
         "tracegroupgap": 0
        },
        "margin": {
         "t": 60
        },
        "shapes": [
         {
          "line": {
           "color": "gray",
           "dash": "dash",
           "width": 3
          },
          "type": "line",
          "x0": 53.5,
          "x1": 53.5,
          "xref": "x",
          "y0": 0,
          "y1": 1,
          "yref": "y domain"
         },
         {
          "line": {
           "color": "green",
           "dash": "longdash",
           "width": 3
          },
          "type": "line",
          "x0": 0,
          "x1": 1,
          "xref": "x domain",
          "y0": 91.80939535851796,
          "y1": 91.80939535851796,
          "yref": "y"
         },
         {
          "line": {
           "width": 0
          },
          "opacity": 0,
          "type": "rect",
          "x0": "51",
          "x1": "50",
          "xref": "x",
          "y0": 0,
          "y1": 1,
          "yref": "y domain"
         },
         {
          "line": {
           "width": 0
          },
          "opacity": 0,
          "type": "rect",
          "x0": "84",
          "x1": "86",
          "xref": "x",
          "y0": 0,
          "y1": 1,
          "yref": "y domain"
         }
        ],
        "template": {
         "data": {
          "bar": [
           {
            "error_x": {
             "color": "rgb(36,36,36)"
            },
            "error_y": {
             "color": "rgb(36,36,36)"
            },
            "marker": {
             "line": {
              "color": "white",
              "width": 0.5
             }
            },
            "type": "bar"
           }
          ],
          "barpolar": [
           {
            "marker": {
             "line": {
              "color": "white",
              "width": 0.5
             }
            },
            "type": "barpolar"
           }
          ],
          "carpet": [
           {
            "aaxis": {
             "endlinecolor": "rgb(36,36,36)",
             "gridcolor": "white",
             "linecolor": "white",
             "minorgridcolor": "white",
             "startlinecolor": "rgb(36,36,36)"
            },
            "baxis": {
             "endlinecolor": "rgb(36,36,36)",
             "gridcolor": "white",
             "linecolor": "white",
             "minorgridcolor": "white",
             "startlinecolor": "rgb(36,36,36)"
            },
            "type": "carpet"
           }
          ],
          "choropleth": [
           {
            "colorbar": {
             "outlinewidth": 1,
             "tickcolor": "rgb(36,36,36)",
             "ticks": "outside"
            },
            "type": "choropleth"
           }
          ],
          "contour": [
           {
            "colorbar": {
             "outlinewidth": 1,
             "tickcolor": "rgb(36,36,36)",
             "ticks": "outside"
            },
            "colorscale": [
             [
              0,
              "#440154"
             ],
             [
              0.1111111111111111,
              "#482878"
             ],
             [
              0.2222222222222222,
              "#3e4989"
             ],
             [
              0.3333333333333333,
              "#31688e"
             ],
             [
              0.4444444444444444,
              "#26828e"
             ],
             [
              0.5555555555555556,
              "#1f9e89"
             ],
             [
              0.6666666666666666,
              "#35b779"
             ],
             [
              0.7777777777777778,
              "#6ece58"
             ],
             [
              0.8888888888888888,
              "#b5de2b"
             ],
             [
              1,
              "#fde725"
             ]
            ],
            "type": "contour"
           }
          ],
          "contourcarpet": [
           {
            "colorbar": {
             "outlinewidth": 1,
             "tickcolor": "rgb(36,36,36)",
             "ticks": "outside"
            },
            "type": "contourcarpet"
           }
          ],
          "heatmap": [
           {
            "colorbar": {
             "outlinewidth": 1,
             "tickcolor": "rgb(36,36,36)",
             "ticks": "outside"
            },
            "colorscale": [
             [
              0,
              "#440154"
             ],
             [
              0.1111111111111111,
              "#482878"
             ],
             [
              0.2222222222222222,
              "#3e4989"
             ],
             [
              0.3333333333333333,
              "#31688e"
             ],
             [
              0.4444444444444444,
              "#26828e"
             ],
             [
              0.5555555555555556,
              "#1f9e89"
             ],
             [
              0.6666666666666666,
              "#35b779"
             ],
             [
              0.7777777777777778,
              "#6ece58"
             ],
             [
              0.8888888888888888,
              "#b5de2b"
             ],
             [
              1,
              "#fde725"
             ]
            ],
            "type": "heatmap"
           }
          ],
          "heatmapgl": [
           {
            "colorbar": {
             "outlinewidth": 1,
             "tickcolor": "rgb(36,36,36)",
             "ticks": "outside"
            },
            "colorscale": [
             [
              0,
              "#440154"
             ],
             [
              0.1111111111111111,
              "#482878"
             ],
             [
              0.2222222222222222,
              "#3e4989"
             ],
             [
              0.3333333333333333,
              "#31688e"
             ],
             [
              0.4444444444444444,
              "#26828e"
             ],
             [
              0.5555555555555556,
              "#1f9e89"
             ],
             [
              0.6666666666666666,
              "#35b779"
             ],
             [
              0.7777777777777778,
              "#6ece58"
             ],
             [
              0.8888888888888888,
              "#b5de2b"
             ],
             [
              1,
              "#fde725"
             ]
            ],
            "type": "heatmapgl"
           }
          ],
          "histogram": [
           {
            "marker": {
             "line": {
              "color": "white",
              "width": 0.6
             }
            },
            "type": "histogram"
           }
          ],
          "histogram2d": [
           {
            "colorbar": {
             "outlinewidth": 1,
             "tickcolor": "rgb(36,36,36)",
             "ticks": "outside"
            },
            "colorscale": [
             [
              0,
              "#440154"
             ],
             [
              0.1111111111111111,
              "#482878"
             ],
             [
              0.2222222222222222,
              "#3e4989"
             ],
             [
              0.3333333333333333,
              "#31688e"
             ],
             [
              0.4444444444444444,
              "#26828e"
             ],
             [
              0.5555555555555556,
              "#1f9e89"
             ],
             [
              0.6666666666666666,
              "#35b779"
             ],
             [
              0.7777777777777778,
              "#6ece58"
             ],
             [
              0.8888888888888888,
              "#b5de2b"
             ],
             [
              1,
              "#fde725"
             ]
            ],
            "type": "histogram2d"
           }
          ],
          "histogram2dcontour": [
           {
            "colorbar": {
             "outlinewidth": 1,
             "tickcolor": "rgb(36,36,36)",
             "ticks": "outside"
            },
            "colorscale": [
             [
              0,
              "#440154"
             ],
             [
              0.1111111111111111,
              "#482878"
             ],
             [
              0.2222222222222222,
              "#3e4989"
             ],
             [
              0.3333333333333333,
              "#31688e"
             ],
             [
              0.4444444444444444,
              "#26828e"
             ],
             [
              0.5555555555555556,
              "#1f9e89"
             ],
             [
              0.6666666666666666,
              "#35b779"
             ],
             [
              0.7777777777777778,
              "#6ece58"
             ],
             [
              0.8888888888888888,
              "#b5de2b"
             ],
             [
              1,
              "#fde725"
             ]
            ],
            "type": "histogram2dcontour"
           }
          ],
          "mesh3d": [
           {
            "colorbar": {
             "outlinewidth": 1,
             "tickcolor": "rgb(36,36,36)",
             "ticks": "outside"
            },
            "type": "mesh3d"
           }
          ],
          "parcoords": [
           {
            "line": {
             "colorbar": {
              "outlinewidth": 1,
              "tickcolor": "rgb(36,36,36)",
              "ticks": "outside"
             }
            },
            "type": "parcoords"
           }
          ],
          "pie": [
           {
            "automargin": true,
            "type": "pie"
           }
          ],
          "scatter": [
           {
            "marker": {
             "colorbar": {
              "outlinewidth": 1,
              "tickcolor": "rgb(36,36,36)",
              "ticks": "outside"
             }
            },
            "type": "scatter"
           }
          ],
          "scatter3d": [
           {
            "line": {
             "colorbar": {
              "outlinewidth": 1,
              "tickcolor": "rgb(36,36,36)",
              "ticks": "outside"
             }
            },
            "marker": {
             "colorbar": {
              "outlinewidth": 1,
              "tickcolor": "rgb(36,36,36)",
              "ticks": "outside"
             }
            },
            "type": "scatter3d"
           }
          ],
          "scattercarpet": [
           {
            "marker": {
             "colorbar": {
              "outlinewidth": 1,
              "tickcolor": "rgb(36,36,36)",
              "ticks": "outside"
             }
            },
            "type": "scattercarpet"
           }
          ],
          "scattergeo": [
           {
            "marker": {
             "colorbar": {
              "outlinewidth": 1,
              "tickcolor": "rgb(36,36,36)",
              "ticks": "outside"
             }
            },
            "type": "scattergeo"
           }
          ],
          "scattergl": [
           {
            "marker": {
             "colorbar": {
              "outlinewidth": 1,
              "tickcolor": "rgb(36,36,36)",
              "ticks": "outside"
             }
            },
            "type": "scattergl"
           }
          ],
          "scattermapbox": [
           {
            "marker": {
             "colorbar": {
              "outlinewidth": 1,
              "tickcolor": "rgb(36,36,36)",
              "ticks": "outside"
             }
            },
            "type": "scattermapbox"
           }
          ],
          "scatterpolar": [
           {
            "marker": {
             "colorbar": {
              "outlinewidth": 1,
              "tickcolor": "rgb(36,36,36)",
              "ticks": "outside"
             }
            },
            "type": "scatterpolar"
           }
          ],
          "scatterpolargl": [
           {
            "marker": {
             "colorbar": {
              "outlinewidth": 1,
              "tickcolor": "rgb(36,36,36)",
              "ticks": "outside"
             }
            },
            "type": "scatterpolargl"
           }
          ],
          "scatterternary": [
           {
            "marker": {
             "colorbar": {
              "outlinewidth": 1,
              "tickcolor": "rgb(36,36,36)",
              "ticks": "outside"
             }
            },
            "type": "scatterternary"
           }
          ],
          "surface": [
           {
            "colorbar": {
             "outlinewidth": 1,
             "tickcolor": "rgb(36,36,36)",
             "ticks": "outside"
            },
            "colorscale": [
             [
              0,
              "#440154"
             ],
             [
              0.1111111111111111,
              "#482878"
             ],
             [
              0.2222222222222222,
              "#3e4989"
             ],
             [
              0.3333333333333333,
              "#31688e"
             ],
             [
              0.4444444444444444,
              "#26828e"
             ],
             [
              0.5555555555555556,
              "#1f9e89"
             ],
             [
              0.6666666666666666,
              "#35b779"
             ],
             [
              0.7777777777777778,
              "#6ece58"
             ],
             [
              0.8888888888888888,
              "#b5de2b"
             ],
             [
              1,
              "#fde725"
             ]
            ],
            "type": "surface"
           }
          ],
          "table": [
           {
            "cells": {
             "fill": {
              "color": "rgb(237,237,237)"
             },
             "line": {
              "color": "white"
             }
            },
            "header": {
             "fill": {
              "color": "rgb(217,217,217)"
             },
             "line": {
              "color": "white"
             }
            },
            "type": "table"
           }
          ]
         },
         "layout": {
          "annotationdefaults": {
           "arrowhead": 0,
           "arrowwidth": 1
          },
          "autotypenumbers": "strict",
          "coloraxis": {
           "colorbar": {
            "outlinewidth": 1,
            "tickcolor": "rgb(36,36,36)",
            "ticks": "outside"
           }
          },
          "colorscale": {
           "diverging": [
            [
             0,
             "rgb(103,0,31)"
            ],
            [
             0.1,
             "rgb(178,24,43)"
            ],
            [
             0.2,
             "rgb(214,96,77)"
            ],
            [
             0.3,
             "rgb(244,165,130)"
            ],
            [
             0.4,
             "rgb(253,219,199)"
            ],
            [
             0.5,
             "rgb(247,247,247)"
            ],
            [
             0.6,
             "rgb(209,229,240)"
            ],
            [
             0.7,
             "rgb(146,197,222)"
            ],
            [
             0.8,
             "rgb(67,147,195)"
            ],
            [
             0.9,
             "rgb(33,102,172)"
            ],
            [
             1,
             "rgb(5,48,97)"
            ]
           ],
           "sequential": [
            [
             0,
             "#440154"
            ],
            [
             0.1111111111111111,
             "#482878"
            ],
            [
             0.2222222222222222,
             "#3e4989"
            ],
            [
             0.3333333333333333,
             "#31688e"
            ],
            [
             0.4444444444444444,
             "#26828e"
            ],
            [
             0.5555555555555556,
             "#1f9e89"
            ],
            [
             0.6666666666666666,
             "#35b779"
            ],
            [
             0.7777777777777778,
             "#6ece58"
            ],
            [
             0.8888888888888888,
             "#b5de2b"
            ],
            [
             1,
             "#fde725"
            ]
           ],
           "sequentialminus": [
            [
             0,
             "#440154"
            ],
            [
             0.1111111111111111,
             "#482878"
            ],
            [
             0.2222222222222222,
             "#3e4989"
            ],
            [
             0.3333333333333333,
             "#31688e"
            ],
            [
             0.4444444444444444,
             "#26828e"
            ],
            [
             0.5555555555555556,
             "#1f9e89"
            ],
            [
             0.6666666666666666,
             "#35b779"
            ],
            [
             0.7777777777777778,
             "#6ece58"
            ],
            [
             0.8888888888888888,
             "#b5de2b"
            ],
            [
             1,
             "#fde725"
            ]
           ]
          },
          "colorway": [
           "#1F77B4",
           "#FF7F0E",
           "#2CA02C",
           "#D62728",
           "#9467BD",
           "#8C564B",
           "#E377C2",
           "#7F7F7F",
           "#BCBD22",
           "#17BECF"
          ],
          "font": {
           "color": "rgb(36,36,36)"
          },
          "geo": {
           "bgcolor": "white",
           "lakecolor": "white",
           "landcolor": "white",
           "showlakes": true,
           "showland": true,
           "subunitcolor": "white"
          },
          "hoverlabel": {
           "align": "left"
          },
          "hovermode": "closest",
          "mapbox": {
           "style": "light"
          },
          "paper_bgcolor": "white",
          "plot_bgcolor": "white",
          "polar": {
           "angularaxis": {
            "gridcolor": "rgb(232,232,232)",
            "linecolor": "rgb(36,36,36)",
            "showgrid": false,
            "showline": true,
            "ticks": "outside"
           },
           "bgcolor": "white",
           "radialaxis": {
            "gridcolor": "rgb(232,232,232)",
            "linecolor": "rgb(36,36,36)",
            "showgrid": false,
            "showline": true,
            "ticks": "outside"
           }
          },
          "scene": {
           "xaxis": {
            "backgroundcolor": "white",
            "gridcolor": "rgb(232,232,232)",
            "gridwidth": 2,
            "linecolor": "rgb(36,36,36)",
            "showbackground": true,
            "showgrid": false,
            "showline": true,
            "ticks": "outside",
            "zeroline": false,
            "zerolinecolor": "rgb(36,36,36)"
           },
           "yaxis": {
            "backgroundcolor": "white",
            "gridcolor": "rgb(232,232,232)",
            "gridwidth": 2,
            "linecolor": "rgb(36,36,36)",
            "showbackground": true,
            "showgrid": false,
            "showline": true,
            "ticks": "outside",
            "zeroline": false,
            "zerolinecolor": "rgb(36,36,36)"
           },
           "zaxis": {
            "backgroundcolor": "white",
            "gridcolor": "rgb(232,232,232)",
            "gridwidth": 2,
            "linecolor": "rgb(36,36,36)",
            "showbackground": true,
            "showgrid": false,
            "showline": true,
            "ticks": "outside",
            "zeroline": false,
            "zerolinecolor": "rgb(36,36,36)"
           }
          },
          "shapedefaults": {
           "fillcolor": "black",
           "line": {
            "width": 0
           },
           "opacity": 0.3
          },
          "ternary": {
           "aaxis": {
            "gridcolor": "rgb(232,232,232)",
            "linecolor": "rgb(36,36,36)",
            "showgrid": false,
            "showline": true,
            "ticks": "outside"
           },
           "baxis": {
            "gridcolor": "rgb(232,232,232)",
            "linecolor": "rgb(36,36,36)",
            "showgrid": false,
            "showline": true,
            "ticks": "outside"
           },
           "bgcolor": "white",
           "caxis": {
            "gridcolor": "rgb(232,232,232)",
            "linecolor": "rgb(36,36,36)",
            "showgrid": false,
            "showline": true,
            "ticks": "outside"
           }
          },
          "title": {
           "x": 0.05
          },
          "xaxis": {
           "automargin": true,
           "gridcolor": "rgb(232,232,232)",
           "linecolor": "rgb(36,36,36)",
           "showgrid": false,
           "showline": true,
           "ticks": "outside",
           "title": {
            "standoff": 15
           },
           "zeroline": false,
           "zerolinecolor": "rgb(36,36,36)"
          },
          "yaxis": {
           "automargin": true,
           "gridcolor": "rgb(232,232,232)",
           "linecolor": "rgb(36,36,36)",
           "showgrid": false,
           "showline": true,
           "ticks": "outside",
           "title": {
            "standoff": 15
           },
           "zeroline": false,
           "zerolinecolor": "rgb(36,36,36)"
          }
         }
        },
        "title": {
         "text": "Oportunidad en la investigación epidemiológica de casos"
        },
        "xaxis": {
         "anchor": "y",
         "domain": [
          0,
          1
         ],
         "tickmode": "array",
         "ticktext": [
          12,
          15,
          18,
          21,
          24,
          27,
          30,
          33,
          36,
          39,
          42,
          45,
          48,
          51,
          1,
          4,
          7,
          10,
          13,
          16,
          19,
          22,
          25,
          28,
          31,
          34,
          37,
          40,
          43,
          46,
          49,
          52,
          55,
          58,
          61,
          64,
          67,
          70,
          73,
          76,
          79,
          82,
          85
         ],
         "tickvals": [
          12,
          15,
          18,
          21,
          24,
          27,
          30,
          33,
          36,
          39,
          42,
          45,
          48,
          51,
          54,
          57,
          60,
          63,
          66,
          69,
          72,
          75,
          78,
          81,
          84,
          87
         ],
         "title": {
          "text": "Fecha"
         }
        },
        "yaxis": {
         "anchor": "x",
         "domain": [
          0,
          1
         ],
         "title": {
          "text": "Oportunidad (%)"
         }
        }
       }
      },
      "text/html": [
       "<div>                            <div id=\"80e727c8-facc-4a49-8280-29436fa716f7\" class=\"plotly-graph-div\" style=\"height:525px; width:100%;\"></div>            <script type=\"text/javascript\">                require([\"plotly\"], function(Plotly) {                    window.PLOTLYENV=window.PLOTLYENV || {};                                    if (document.getElementById(\"80e727c8-facc-4a49-8280-29436fa716f7\")) {                    Plotly.newPlot(                        \"80e727c8-facc-4a49-8280-29436fa716f7\",                        [{\"hovertemplate\": \"semana_epidemiologica_21=%{x}<br>n_folio=%{marker.color}<extra></extra>\", \"legendgroup\": \"\", \"line\": {\"color\": \"grey\"}, \"marker\": {\"color\": [100.0, 95.58823885489406, 86.73782456339602, 82.41457268567606, 85.03523604925732, 86.39416097828978, 96.174282678001, 91.95869278778156, 93.79094498788395, 100.0], \"coloraxis\": \"coloraxis\", \"line\": {\"width\": 1}, \"size\": 10, \"symbol\": \"circle\"}, \"mode\": \"lines+markers\", \"name\": \"\", \"orientation\": \"v\", \"showlegend\": false, \"type\": \"scatter\", \"x\": [79.0, 80.0, 81.0, 82.0, 83.0, 84.0, 85.0, 86.0, 87.0, 88.0], \"xaxis\": \"x\", \"y\": [100.0, 95.58823885489406, 86.73782456339602, 82.41457268567606, 85.03523604925732, 86.39416097828978, 96.174282678001, 91.95869278778156, 93.79094498788395, 100.0], \"yaxis\": \"y\"}],                        {\"annotations\": [{\"showarrow\": false, \"text\": \"Promedio (91.81%)\", \"x\": 1, \"xanchor\": \"right\", \"xref\": \"x domain\", \"y\": 91.80939535851796, \"yanchor\": \"top\", \"yref\": \"y\"}, {\"font\": {\"family\": \"'Open Sans', verdana, arial, sans-serif\", \"size\": 18}, \"showarrow\": false, \"text\": \"2020\", \"x\": \"51\", \"xanchor\": \"right\", \"xref\": \"x\", \"y\": 1, \"yanchor\": \"top\", \"yref\": \"y domain\"}, {\"font\": {\"family\": \"'Open Sans', verdana, arial, sans-serif\", \"size\": 18}, \"showarrow\": false, \"text\": \"2021\", \"x\": \"86\", \"xanchor\": \"right\", \"xref\": \"x\", \"y\": 1, \"yanchor\": \"top\", \"yref\": \"y domain\"}], \"coloraxis\": {\"colorbar\": {\"title\": {\"text\": \"n_folio\"}}, \"colorscale\": [[0.0, \"#fde725\"], [0.1111111111111111, \"#b5de2b\"], [0.2222222222222222, \"#6ece58\"], [0.3333333333333333, \"#35b779\"], [0.4444444444444444, \"#1f9e89\"], [0.5555555555555556, \"#26828e\"], [0.6666666666666666, \"#31688e\"], [0.7777777777777778, \"#3e4989\"], [0.8888888888888888, \"#482878\"], [1.0, \"#440154\"]]}, \"legend\": {\"tracegroupgap\": 0}, \"margin\": {\"t\": 60}, \"shapes\": [{\"line\": {\"color\": \"gray\", \"dash\": \"dash\", \"width\": 3}, \"type\": \"line\", \"x0\": 53.5, \"x1\": 53.5, \"xref\": \"x\", \"y0\": 0, \"y1\": 1, \"yref\": \"y domain\"}, {\"line\": {\"color\": \"green\", \"dash\": \"longdash\", \"width\": 3}, \"type\": \"line\", \"x0\": 0, \"x1\": 1, \"xref\": \"x domain\", \"y0\": 91.80939535851796, \"y1\": 91.80939535851796, \"yref\": \"y\"}, {\"line\": {\"width\": 0}, \"opacity\": 0, \"type\": \"rect\", \"x0\": \"51\", \"x1\": \"50\", \"xref\": \"x\", \"y0\": 0, \"y1\": 1, \"yref\": \"y domain\"}, {\"line\": {\"width\": 0}, \"opacity\": 0, \"type\": \"rect\", \"x0\": \"84\", \"x1\": \"86\", \"xref\": \"x\", \"y0\": 0, \"y1\": 1, \"yref\": \"y domain\"}], \"template\": {\"data\": {\"bar\": [{\"error_x\": {\"color\": \"rgb(36,36,36)\"}, \"error_y\": {\"color\": \"rgb(36,36,36)\"}, \"marker\": {\"line\": {\"color\": \"white\", \"width\": 0.5}}, \"type\": \"bar\"}], \"barpolar\": [{\"marker\": {\"line\": {\"color\": \"white\", \"width\": 0.5}}, \"type\": \"barpolar\"}], \"carpet\": [{\"aaxis\": {\"endlinecolor\": \"rgb(36,36,36)\", \"gridcolor\": \"white\", \"linecolor\": \"white\", \"minorgridcolor\": \"white\", \"startlinecolor\": \"rgb(36,36,36)\"}, \"baxis\": {\"endlinecolor\": \"rgb(36,36,36)\", \"gridcolor\": \"white\", \"linecolor\": \"white\", \"minorgridcolor\": \"white\", \"startlinecolor\": \"rgb(36,36,36)\"}, \"type\": \"carpet\"}], \"choropleth\": [{\"colorbar\": {\"outlinewidth\": 1, \"tickcolor\": \"rgb(36,36,36)\", \"ticks\": \"outside\"}, \"type\": \"choropleth\"}], \"contour\": [{\"colorbar\": {\"outlinewidth\": 1, \"tickcolor\": \"rgb(36,36,36)\", \"ticks\": \"outside\"}, \"colorscale\": [[0.0, \"#440154\"], [0.1111111111111111, \"#482878\"], [0.2222222222222222, \"#3e4989\"], [0.3333333333333333, \"#31688e\"], [0.4444444444444444, \"#26828e\"], [0.5555555555555556, \"#1f9e89\"], [0.6666666666666666, \"#35b779\"], [0.7777777777777778, \"#6ece58\"], [0.8888888888888888, \"#b5de2b\"], [1.0, \"#fde725\"]], \"type\": \"contour\"}], \"contourcarpet\": [{\"colorbar\": {\"outlinewidth\": 1, \"tickcolor\": \"rgb(36,36,36)\", \"ticks\": \"outside\"}, \"type\": \"contourcarpet\"}], \"heatmap\": [{\"colorbar\": {\"outlinewidth\": 1, \"tickcolor\": \"rgb(36,36,36)\", \"ticks\": \"outside\"}, \"colorscale\": [[0.0, \"#440154\"], [0.1111111111111111, \"#482878\"], [0.2222222222222222, \"#3e4989\"], [0.3333333333333333, \"#31688e\"], [0.4444444444444444, \"#26828e\"], [0.5555555555555556, \"#1f9e89\"], [0.6666666666666666, \"#35b779\"], [0.7777777777777778, \"#6ece58\"], [0.8888888888888888, \"#b5de2b\"], [1.0, \"#fde725\"]], \"type\": \"heatmap\"}], \"heatmapgl\": [{\"colorbar\": {\"outlinewidth\": 1, \"tickcolor\": \"rgb(36,36,36)\", \"ticks\": \"outside\"}, \"colorscale\": [[0.0, \"#440154\"], [0.1111111111111111, \"#482878\"], [0.2222222222222222, \"#3e4989\"], [0.3333333333333333, \"#31688e\"], [0.4444444444444444, \"#26828e\"], [0.5555555555555556, \"#1f9e89\"], [0.6666666666666666, \"#35b779\"], [0.7777777777777778, \"#6ece58\"], [0.8888888888888888, \"#b5de2b\"], [1.0, \"#fde725\"]], \"type\": \"heatmapgl\"}], \"histogram\": [{\"marker\": {\"line\": {\"color\": \"white\", \"width\": 0.6}}, \"type\": \"histogram\"}], \"histogram2d\": [{\"colorbar\": {\"outlinewidth\": 1, \"tickcolor\": \"rgb(36,36,36)\", \"ticks\": \"outside\"}, \"colorscale\": [[0.0, \"#440154\"], [0.1111111111111111, \"#482878\"], [0.2222222222222222, \"#3e4989\"], [0.3333333333333333, \"#31688e\"], [0.4444444444444444, \"#26828e\"], [0.5555555555555556, \"#1f9e89\"], [0.6666666666666666, \"#35b779\"], [0.7777777777777778, \"#6ece58\"], [0.8888888888888888, \"#b5de2b\"], [1.0, \"#fde725\"]], \"type\": \"histogram2d\"}], \"histogram2dcontour\": [{\"colorbar\": {\"outlinewidth\": 1, \"tickcolor\": \"rgb(36,36,36)\", \"ticks\": \"outside\"}, \"colorscale\": [[0.0, \"#440154\"], [0.1111111111111111, \"#482878\"], [0.2222222222222222, \"#3e4989\"], [0.3333333333333333, \"#31688e\"], [0.4444444444444444, \"#26828e\"], [0.5555555555555556, \"#1f9e89\"], [0.6666666666666666, \"#35b779\"], [0.7777777777777778, \"#6ece58\"], [0.8888888888888888, \"#b5de2b\"], [1.0, \"#fde725\"]], \"type\": \"histogram2dcontour\"}], \"mesh3d\": [{\"colorbar\": {\"outlinewidth\": 1, \"tickcolor\": \"rgb(36,36,36)\", \"ticks\": \"outside\"}, \"type\": \"mesh3d\"}], \"parcoords\": [{\"line\": {\"colorbar\": {\"outlinewidth\": 1, \"tickcolor\": \"rgb(36,36,36)\", \"ticks\": \"outside\"}}, \"type\": \"parcoords\"}], \"pie\": [{\"automargin\": true, \"type\": \"pie\"}], \"scatter\": [{\"marker\": {\"colorbar\": {\"outlinewidth\": 1, \"tickcolor\": \"rgb(36,36,36)\", \"ticks\": \"outside\"}}, \"type\": \"scatter\"}], \"scatter3d\": [{\"line\": {\"colorbar\": {\"outlinewidth\": 1, \"tickcolor\": \"rgb(36,36,36)\", \"ticks\": \"outside\"}}, \"marker\": {\"colorbar\": {\"outlinewidth\": 1, \"tickcolor\": \"rgb(36,36,36)\", \"ticks\": \"outside\"}}, \"type\": \"scatter3d\"}], \"scattercarpet\": [{\"marker\": {\"colorbar\": {\"outlinewidth\": 1, \"tickcolor\": \"rgb(36,36,36)\", \"ticks\": \"outside\"}}, \"type\": \"scattercarpet\"}], \"scattergeo\": [{\"marker\": {\"colorbar\": {\"outlinewidth\": 1, \"tickcolor\": \"rgb(36,36,36)\", \"ticks\": \"outside\"}}, \"type\": \"scattergeo\"}], \"scattergl\": [{\"marker\": {\"colorbar\": {\"outlinewidth\": 1, \"tickcolor\": \"rgb(36,36,36)\", \"ticks\": \"outside\"}}, \"type\": \"scattergl\"}], \"scattermapbox\": [{\"marker\": {\"colorbar\": {\"outlinewidth\": 1, \"tickcolor\": \"rgb(36,36,36)\", \"ticks\": \"outside\"}}, \"type\": \"scattermapbox\"}], \"scatterpolar\": [{\"marker\": {\"colorbar\": {\"outlinewidth\": 1, \"tickcolor\": \"rgb(36,36,36)\", \"ticks\": \"outside\"}}, \"type\": \"scatterpolar\"}], \"scatterpolargl\": [{\"marker\": {\"colorbar\": {\"outlinewidth\": 1, \"tickcolor\": \"rgb(36,36,36)\", \"ticks\": \"outside\"}}, \"type\": \"scatterpolargl\"}], \"scatterternary\": [{\"marker\": {\"colorbar\": {\"outlinewidth\": 1, \"tickcolor\": \"rgb(36,36,36)\", \"ticks\": \"outside\"}}, \"type\": \"scatterternary\"}], \"surface\": [{\"colorbar\": {\"outlinewidth\": 1, \"tickcolor\": \"rgb(36,36,36)\", \"ticks\": \"outside\"}, \"colorscale\": [[0.0, \"#440154\"], [0.1111111111111111, \"#482878\"], [0.2222222222222222, \"#3e4989\"], [0.3333333333333333, \"#31688e\"], [0.4444444444444444, \"#26828e\"], [0.5555555555555556, \"#1f9e89\"], [0.6666666666666666, \"#35b779\"], [0.7777777777777778, \"#6ece58\"], [0.8888888888888888, \"#b5de2b\"], [1.0, \"#fde725\"]], \"type\": \"surface\"}], \"table\": [{\"cells\": {\"fill\": {\"color\": \"rgb(237,237,237)\"}, \"line\": {\"color\": \"white\"}}, \"header\": {\"fill\": {\"color\": \"rgb(217,217,217)\"}, \"line\": {\"color\": \"white\"}}, \"type\": \"table\"}]}, \"layout\": {\"annotationdefaults\": {\"arrowhead\": 0, \"arrowwidth\": 1}, \"autotypenumbers\": \"strict\", \"coloraxis\": {\"colorbar\": {\"outlinewidth\": 1, \"tickcolor\": \"rgb(36,36,36)\", \"ticks\": \"outside\"}}, \"colorscale\": {\"diverging\": [[0.0, \"rgb(103,0,31)\"], [0.1, \"rgb(178,24,43)\"], [0.2, \"rgb(214,96,77)\"], [0.3, \"rgb(244,165,130)\"], [0.4, \"rgb(253,219,199)\"], [0.5, \"rgb(247,247,247)\"], [0.6, \"rgb(209,229,240)\"], [0.7, \"rgb(146,197,222)\"], [0.8, \"rgb(67,147,195)\"], [0.9, \"rgb(33,102,172)\"], [1.0, \"rgb(5,48,97)\"]], \"sequential\": [[0.0, \"#440154\"], [0.1111111111111111, \"#482878\"], [0.2222222222222222, \"#3e4989\"], [0.3333333333333333, \"#31688e\"], [0.4444444444444444, \"#26828e\"], [0.5555555555555556, \"#1f9e89\"], [0.6666666666666666, \"#35b779\"], [0.7777777777777778, \"#6ece58\"], [0.8888888888888888, \"#b5de2b\"], [1.0, \"#fde725\"]], \"sequentialminus\": [[0.0, \"#440154\"], [0.1111111111111111, \"#482878\"], [0.2222222222222222, \"#3e4989\"], [0.3333333333333333, \"#31688e\"], [0.4444444444444444, \"#26828e\"], [0.5555555555555556, \"#1f9e89\"], [0.6666666666666666, \"#35b779\"], [0.7777777777777778, \"#6ece58\"], [0.8888888888888888, \"#b5de2b\"], [1.0, \"#fde725\"]]}, \"colorway\": [\"#1F77B4\", \"#FF7F0E\", \"#2CA02C\", \"#D62728\", \"#9467BD\", \"#8C564B\", \"#E377C2\", \"#7F7F7F\", \"#BCBD22\", \"#17BECF\"], \"font\": {\"color\": \"rgb(36,36,36)\"}, \"geo\": {\"bgcolor\": \"white\", \"lakecolor\": \"white\", \"landcolor\": \"white\", \"showlakes\": true, \"showland\": true, \"subunitcolor\": \"white\"}, \"hoverlabel\": {\"align\": \"left\"}, \"hovermode\": \"closest\", \"mapbox\": {\"style\": \"light\"}, \"paper_bgcolor\": \"white\", \"plot_bgcolor\": \"white\", \"polar\": {\"angularaxis\": {\"gridcolor\": \"rgb(232,232,232)\", \"linecolor\": \"rgb(36,36,36)\", \"showgrid\": false, \"showline\": true, \"ticks\": \"outside\"}, \"bgcolor\": \"white\", \"radialaxis\": {\"gridcolor\": \"rgb(232,232,232)\", \"linecolor\": \"rgb(36,36,36)\", \"showgrid\": false, \"showline\": true, \"ticks\": \"outside\"}}, \"scene\": {\"xaxis\": {\"backgroundcolor\": \"white\", \"gridcolor\": \"rgb(232,232,232)\", \"gridwidth\": 2, \"linecolor\": \"rgb(36,36,36)\", \"showbackground\": true, \"showgrid\": false, \"showline\": true, \"ticks\": \"outside\", \"zeroline\": false, \"zerolinecolor\": \"rgb(36,36,36)\"}, \"yaxis\": {\"backgroundcolor\": \"white\", \"gridcolor\": \"rgb(232,232,232)\", \"gridwidth\": 2, \"linecolor\": \"rgb(36,36,36)\", \"showbackground\": true, \"showgrid\": false, \"showline\": true, \"ticks\": \"outside\", \"zeroline\": false, \"zerolinecolor\": \"rgb(36,36,36)\"}, \"zaxis\": {\"backgroundcolor\": \"white\", \"gridcolor\": \"rgb(232,232,232)\", \"gridwidth\": 2, \"linecolor\": \"rgb(36,36,36)\", \"showbackground\": true, \"showgrid\": false, \"showline\": true, \"ticks\": \"outside\", \"zeroline\": false, \"zerolinecolor\": \"rgb(36,36,36)\"}}, \"shapedefaults\": {\"fillcolor\": \"black\", \"line\": {\"width\": 0}, \"opacity\": 0.3}, \"ternary\": {\"aaxis\": {\"gridcolor\": \"rgb(232,232,232)\", \"linecolor\": \"rgb(36,36,36)\", \"showgrid\": false, \"showline\": true, \"ticks\": \"outside\"}, \"baxis\": {\"gridcolor\": \"rgb(232,232,232)\", \"linecolor\": \"rgb(36,36,36)\", \"showgrid\": false, \"showline\": true, \"ticks\": \"outside\"}, \"bgcolor\": \"white\", \"caxis\": {\"gridcolor\": \"rgb(232,232,232)\", \"linecolor\": \"rgb(36,36,36)\", \"showgrid\": false, \"showline\": true, \"ticks\": \"outside\"}}, \"title\": {\"x\": 0.05}, \"xaxis\": {\"automargin\": true, \"gridcolor\": \"rgb(232,232,232)\", \"linecolor\": \"rgb(36,36,36)\", \"showgrid\": false, \"showline\": true, \"ticks\": \"outside\", \"title\": {\"standoff\": 15}, \"zeroline\": false, \"zerolinecolor\": \"rgb(36,36,36)\"}, \"yaxis\": {\"automargin\": true, \"gridcolor\": \"rgb(232,232,232)\", \"linecolor\": \"rgb(36,36,36)\", \"showgrid\": false, \"showline\": true, \"ticks\": \"outside\", \"title\": {\"standoff\": 15}, \"zeroline\": false, \"zerolinecolor\": \"rgb(36,36,36)\"}}}, \"title\": {\"text\": \"Oportunidad en la investigaci\\u00f3n epidemiol\\u00f3gica de casos\"}, \"xaxis\": {\"anchor\": \"y\", \"domain\": [0.0, 1.0], \"tickmode\": \"array\", \"ticktext\": [12, 15, 18, 21, 24, 27, 30, 33, 36, 39, 42, 45, 48, 51, 1, 4, 7, 10, 13, 16, 19, 22, 25, 28, 31, 34, 37, 40, 43, 46, 49, 52, 55, 58, 61, 64, 67, 70, 73, 76, 79, 82, 85], \"tickvals\": [12, 15, 18, 21, 24, 27, 30, 33, 36, 39, 42, 45, 48, 51, 54, 57, 60, 63, 66, 69, 72, 75, 78, 81, 84, 87], \"title\": {\"text\": \"Fecha\"}}, \"yaxis\": {\"anchor\": \"x\", \"domain\": [0.0, 1.0], \"title\": {\"text\": \"Oportunidad (%)\"}}},                        {\"responsive\": true}                    ).then(function(){\n",
       "                            \n",
       "var gd = document.getElementById('80e727c8-facc-4a49-8280-29436fa716f7');\n",
       "var x = new MutationObserver(function (mutations, observer) {{\n",
       "        var display = window.getComputedStyle(gd).display;\n",
       "        if (!display || display === 'none') {{\n",
       "            console.log([gd, 'removed!']);\n",
       "            Plotly.purge(gd);\n",
       "            observer.disconnect();\n",
       "        }}\n",
       "}});\n",
       "\n",
       "// Listen for the removal of the full notebook cells\n",
       "var notebookContainer = gd.closest('#notebook-container');\n",
       "if (notebookContainer) {{\n",
       "    x.observe(notebookContainer, {childList: true});\n",
       "}}\n",
       "\n",
       "// Listen for the clearing of the current output cell\n",
       "var outputEl = gd.closest('.output');\n",
       "if (outputEl) {{\n",
       "    x.observe(outputEl, {childList: true});\n",
       "}}\n",
       "\n",
       "                        })                };                });            </script>        </div>"
      ]
     },
     "metadata": {},
     "output_type": "display_data"
    }
   ],
   "source": [
    "px.scatter(df_ind5_perc.reset_index().merge(data_aysen_clean_21[['fecha_notificacion','semana_epidemiologica_21']], \n",
    "                   left_on='fecha_cumple_requisitos',\n",
    "                   right_on='fecha_notificacion',\n",
    "                   how='left').groupby('semana_epidemiologica_21').mean().reset_index(),\n",
    "        x= 'semana_epidemiologica_21',\n",
    "        y= 'n_folio',\n",
    "        color='n_folio',\n",
    "        color_continuous_scale=px.colors.sequential.Viridis_r,\n",
    "        labels={'bac_ind':'BAC (%)'},\n",
    "        ).update_layout(title= 'Oportunidad en la investigación epidemiológica de casos',\n",
    "                       yaxis_title='Oportunidad (%)',\n",
    "                       xaxis_title='Fecha',\n",
    "                       template='simple_white',\n",
    "                       xaxis=dict(tickmode = 'array',\n",
    "                                  tickvals = list(range(12,88,3)),\n",
    "                                  ticktext = list(list(range(12,54,3))+list(range(1,88,3))),\n",
    "                                 ),\n",
    "                    ).add_vline(x=53.5, line_width=3, line_dash='dash', line_color='gray'\n",
    "                              # ).add_hline(y=10, \n",
    "                               #            line_width=3, \n",
    "                                #           line_dash='longdash', \n",
    "                                 #          line_color='olive',\n",
    "                                  #         annotation_text='Meta nacional (10%)',\n",
    "                                   #        annotation_position='bottom right'\n",
    "                                 ).add_hline(y=mean_ind5, \n",
    "                                             line_width=3, \n",
    "                                             line_dash='longdash', \n",
    "                                             line_color='green',\n",
    "                                             annotation_text= 'Promedio ('+str(round(mean_ind5, 2))+'%)',\n",
    "                                             annotation_position='bottom right'\n",
    "                                     ).add_vrect(x0='51', x1='50', \n",
    "                                           annotation_text='2020', \n",
    "                                           annotation_position='top right',\n",
    "                                           annotation=dict(font_size=18, \n",
    "                                                           font_family=\"'Open Sans', verdana, arial, sans-serif\"),\n",
    "                                                           opacity=0, \n",
    "                                                           line_width=0\n",
    "                                          ).add_vrect(x0='84', x1='86', \n",
    "                                           annotation_text='2021', \n",
    "                                           annotation_position='top right',\n",
    "                                           annotation=dict(font_size=18, \n",
    "                                                           font_family=\"'Open Sans', verdana, arial, sans-serif\"),\n",
    "                                                           opacity=0, \n",
    "                                                           line_width=0\n",
    "                                                     ).update_traces(mode='lines+markers', \n",
    "                                                                     line_color='grey',\n",
    "                                                                     marker_line_width=1, \n",
    "                                                                     marker_size=10)"
   ]
  },
  {
   "cell_type": "markdown",
   "id": "f84a42a2",
   "metadata": {},
   "source": [
    "# Indicador 6: Capacidad de investigación de contactos\n",
    "\n",
    "## Objetivos: Fortalecer la investigación epidemiológica de los contactos estrechos\n",
    "\n",
    "### Meta: >80%\n",
    "\n",
    "**Periodicidad:** Semanal\n",
    "\n",
    "**Escala territorial:** Comuna, Regional, Nacional\n",
    "\n",
    "**Fuente de información:** base EPIVIGILA actualizada con los reportes de laboratorio al día de la determinación del indicador. Base de seguimiento"
   ]
  },
  {
   "cell_type": "markdown",
   "id": "fe66a852",
   "metadata": {},
   "source": [
    "**Cálculo del indicador a nivel comunal**\n",
    "\n",
    "$\\frac{No.\\:casos\\:nuevos\\:con\\:contactos\\:estrechos\\:por\\:comuna\\:1er\\:establecimiento\\:semana\\:x}{No.\\:casos\\:nuevos\\:por\\:comuna\\:1er\\:establecimiento\\:semana\\:x}$\n",
    "\n",
    "**Cálculo del indicador a nivel regional**\n",
    "\n",
    "$\\frac{No.\\:casos\\:nuevos\\:con\\:contactos\\:estrechos\\:por\\:región\\:1er\\:establecimiento\\:semana\\:x}{No.\\:casos\\:nuevos\\:por\\:región\\:1er\\:establecimiento\\:semana\\:x}$"
   ]
  },
  {
   "cell_type": "markdown",
   "id": "17884c84",
   "metadata": {},
   "source": [
    "**Observaciones**\n",
    "\n",
    "- No se incluyen los casos nuevos no notificados\n",
    "- Se considera un caso nuevo registrado a aquel caso nuevo notificado que cumple los requisitos para estar en el módulo de seguimiento\n",
    "- Los casos nuevos con contactos estrechos son considerados de forma dicotómica (sí o no)\n",
    "- El primer establecimiento corresponde al establecimiento de notificación. Se seguirá considerando el primer establecimiento para este indicador, aún si se derivó previo a la investigación epidemiológica.\n",
    "- Se consideran sólo registros activos o egresados en la bandeja de seguimiento"
   ]
  },
  {
   "cell_type": "code",
   "execution_count": null,
   "id": "02cc4d8b",
   "metadata": {},
   "outputs": [],
   "source": []
  },
  {
   "cell_type": "markdown",
   "id": "5420b74e",
   "metadata": {},
   "source": [
    "# Indicador 7: Capacidad de investigación de contactos\n",
    "\n",
    "## Objetivo: Evaluar la capacidad de seguimiento de contactos\n",
    "\n",
    "### Meta: >80%\n",
    "\n",
    "**Periodicidad:** Semanal\n",
    "\n",
    "**Escala territorial:** Comuna, Regional, Nacional\n",
    "\n",
    "**Fuente de información:** base EPIVIGILA actualizada con los reportes de laboratorio al día de la determinación del indicador. Base de seguimiento."
   ]
  },
  {
   "cell_type": "markdown",
   "id": "bf1fcd6e",
   "metadata": {},
   "source": [
    "**Cálculo del indicador a nivel comunal**\n",
    "\n",
    "$\\frac{No.\\:contactos\\:identificados\\:investigados\\:dentro\\:de\\:48hrs\\:por\\:comuna\\:1er\\:establecimiento\\:semana\\:x}{No.\\:contactos\\:identificados\\:por\\:comuna\\:1er\\:establecimiento\\:semana\\:x}x100$\n",
    "\n",
    "**Cálculo del indicador a nivel regional**\n",
    "\n",
    "$\\frac{No.\\:contactos\\:identificados\\:investigados\\:dentro\\:de\\:48hrs\\:por\\:región\\:1er\\:establecimiento\\:semana\\:x}{No.\\:contactos\\:identificados\\:por\\:región\\:1er\\:establecimiento\\:semana\\:x}x100$"
   ]
  },
  {
   "cell_type": "markdown",
   "id": "315e67aa",
   "metadata": {},
   "source": [
    "**Observaciones**\n",
    "\n",
    "- No se incluyen los contactos nuevos no notificados\n",
    "- Se considera como registro de contacto aquel que cumple las condiciones para estar en la bandeja de seguimiento\n",
    "- Se consideran sólo registros de casos activos o egresados en la bandeja de seguimiento\n",
    "- El primer establecimiento corresponde al establecimiento dado por API FONASA. Si el registro no hace match con API FONASA, se considera el establecimiento para este indicador, aún si se derivó previo a la investigación epidemiológica"
   ]
  },
  {
   "cell_type": "code",
   "execution_count": null,
   "id": "22039d18",
   "metadata": {},
   "outputs": [],
   "source": []
  },
  {
   "cell_type": "markdown",
   "id": "d9b1fa0f",
   "metadata": {},
   "source": [
    "# Indicador 8: Casos en seguimiento\n",
    "\n",
    "## Objetivo: Evaluar la capacidad de seguimiento de casos\n",
    "\n",
    "### Meta: >90%\n",
    "\n",
    "**Periodicidad:** Semanal\n",
    "\n",
    "**Escala territorial:** Comuna, Regional, Nacional\n",
    "\n",
    "**Fuente de Información:** base EPIVIGILA actualizada con los reportes de laboratorio al día de la determinación del indicador. Base de seguimiento"
   ]
  },
  {
   "cell_type": "markdown",
   "id": "3455a38b",
   "metadata": {},
   "source": [
    "### Cálculo del indicador a nivel comunal\n",
    "\n",
    "$\\frac{No.\\:casos\\:activos\\:investigados\\:con\\:seguimiento\\:según\\:protocolo\\:por\\:comuna\\:último\\:establecimiento\\:semana\\:x}{No.\\:casos\\:nuevos\\:registrados\\:por\\:comuna\\:ultimo\\:establecimiento\\:semana\\:x}x100$"
   ]
  },
  {
   "cell_type": "markdown",
   "id": "2940929e",
   "metadata": {},
   "source": [
    "### Cálculo del indicador a nivel regional\n",
    "\n",
    "$\\frac{No.\\:casos\\:activos\\:investigados\\:con\\:seguimiento\\:según\\:protocolo\\:por\\:región\\:último\\:establecimiento\\:semana\\:x}{No.\\:casos\\:nuevos\\:registrados\\:por\\:región\\:ultimo\\:establecimiento\\:semana\\:x}x100$"
   ]
  },
  {
   "cell_type": "markdown",
   "id": "6a418521",
   "metadata": {},
   "source": [
    "**Observación**\n",
    "\n",
    "- No se incluyen los casos nuevos no notificados (\"casos reportados por laboratorio\")\n",
    "- Se considera un caso activo como aquel caso notificado que cumple la definición de caso activo, con fecha de notificación en la semana de interés\n",
    "- Se consideran sólo registros activos o egresados en la bandeja de seguimiento\n",
    "- Según protocolo implica un seguimiento diario por día de seguimineto, desde el inicio de seguimiento y se valora de forma dicotómica (cumple o no cumple el protocolo de seguimiento)\n",
    "- Por seguimiento diario se entiende que diariamente, se debe realizar una actividad de seguimiento (la cual puede ser exitosa o no)"
   ]
  },
  {
   "cell_type": "code",
   "execution_count": null,
   "id": "19d883f9",
   "metadata": {},
   "outputs": [],
   "source": []
  },
  {
   "cell_type": "markdown",
   "id": "4c93996d",
   "metadata": {},
   "source": [
    "# Indicador 10: Contactos con al menos 2 seguimientos dentro de su periodo de cuarentena de 14 días\n",
    "\n",
    "## Objetivo: Evaluar la capacidad de seguimiento de contactos estrechos\n",
    "\n",
    "### Meta: >90%\n",
    "\n",
    "**Periodicidad:** Semanal\n",
    "\n",
    "**Escala territorial:** Comuna, Regional, Nacional\n",
    "\n",
    "**Fuente de información:** Base de seguimiento"
   ]
  },
  {
   "cell_type": "markdown",
   "id": "f6a1b369",
   "metadata": {},
   "source": [
    "### Cálculo del indicador a nivel comunal\n",
    "\n",
    "$\\frac{No.\\:contactos\\:que\\:cumplieron\\:cuarentena\\:con\\:al\\:menos\\:2\\:seguimientos\\:por\\:comuna\\:último\\:establecimiento\\:semana\\:x}{No.\\:contactos\\:que\\:cumplieron\\:cuarentena\\:por\\:comuna\\:ultimo\\:establecimiento\\:semana\\:x}x100$"
   ]
  },
  {
   "cell_type": "markdown",
   "id": "de0e6681",
   "metadata": {},
   "source": [
    "### Cálculo del indicador a nivel regional\n",
    "\n",
    "$\\frac{No.\\:contactos\\:que\\:cumplieron\\:cuarentena\\:con\\:al\\:menos\\:2\\:seguimientos\\:por\\:región\\:último\\:establecimiento\\:semana\\:x}{No.\\:contactos\\:que\\:cumplieron\\:cuarentena\\:por\\:región\\:ultimo\\:establecimiento\\:semana\\:x}x100$"
   ]
  },
  {
   "cell_type": "markdown",
   "id": "7f0a8a4c",
   "metadata": {},
   "source": [
    "**Observación**\n",
    "\n",
    "- El indicador se construye sobre los contactos que egresan (fecha de término de cuarentena) de seguimiento, durante la semana de interés (esto es, sólo registros egresados de la bandeja de seguimiento)\n",
    "- El periodo de seguimiento para el contacto corresponde a la cantidad de días entre la 1era fecha en que el contacto está disponible en la bandeja de seguimiento hasta la última fecha fin cuarentena\n",
    "- Se cumple con el indicador si en el período de seguimiento del contacto se registran al menos 2 actividades de seguimiento (las cuales pueden ser exitosas o no)\n",
    "- Se excluyen los contactos que se transforman en caso y que están notificados (tiene folio asociado como caso)"
   ]
  },
  {
   "cell_type": "code",
   "execution_count": null,
   "id": "1d56f67d",
   "metadata": {},
   "outputs": [],
   "source": []
  }
 ],
 "metadata": {
  "kernelspec": {
   "display_name": "Python 3",
   "language": "python",
   "name": "python3"
  },
  "language_info": {
   "codemirror_mode": {
    "name": "ipython",
    "version": 3
   },
   "file_extension": ".py",
   "mimetype": "text/x-python",
   "name": "python",
   "nbconvert_exporter": "python",
   "pygments_lexer": "ipython3",
   "version": "3.8.10"
  }
 },
 "nbformat": 4,
 "nbformat_minor": 5
}
