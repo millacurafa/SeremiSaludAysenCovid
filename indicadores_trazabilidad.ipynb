{
 "cells": [
  {
   "cell_type": "markdown",
   "id": "b4ba2eeb",
   "metadata": {},
   "source": [
    "# Indicadores de Trazabilidad \n",
    "\n"
   ]
  },
  {
   "cell_type": "markdown",
   "id": "a3c94b84",
   "metadata": {},
   "source": [
    "## Importación de datos, librerias"
   ]
  },
  {
   "cell_type": "code",
   "execution_count": 1,
   "id": "0f4dda4f",
   "metadata": {},
   "outputs": [],
   "source": [
    "# Importa librerias necesarias para el análisis\n",
    "\n",
    "import pandas as pd\n",
    "import numpy as np\n",
    "import plotly.express as px"
   ]
  },
  {
   "cell_type": "code",
   "execution_count": 2,
   "id": "eb144bfe",
   "metadata": {
    "scrolled": true
   },
   "outputs": [
    {
     "data": {
      "text/html": [
       "<div>\n",
       "<style scoped>\n",
       "    .dataframe tbody tr th:only-of-type {\n",
       "        vertical-align: middle;\n",
       "    }\n",
       "\n",
       "    .dataframe tbody tr th {\n",
       "        vertical-align: top;\n",
       "    }\n",
       "\n",
       "    .dataframe thead th {\n",
       "        text-align: right;\n",
       "    }\n",
       "</style>\n",
       "<table border=\"1\" class=\"dataframe\">\n",
       "  <thead>\n",
       "    <tr style=\"text-align: right;\">\n",
       "      <th></th>\n",
       "      <th>Unnamed: 0</th>\n",
       "      <th>orden</th>\n",
       "      <th>nombre_region</th>\n",
       "      <th>codigo_region</th>\n",
       "      <th>nombre_provincia</th>\n",
       "      <th>codigo_provincia</th>\n",
       "      <th>nombre_comuna</th>\n",
       "      <th>codigo_comuna</th>\n",
       "      <th>edad_hombres</th>\n",
       "      <th>edad_mujeres</th>\n",
       "      <th>total</th>\n",
       "    </tr>\n",
       "  </thead>\n",
       "  <tbody>\n",
       "    <tr>\n",
       "      <th>0</th>\n",
       "      <td>0</td>\n",
       "      <td>7172</td>\n",
       "      <td>Región de Aysén del General Carlos Ibáñez del ...</td>\n",
       "      <td>11</td>\n",
       "      <td>Coyhaique</td>\n",
       "      <td>111</td>\n",
       "      <td>Coyhaique</td>\n",
       "      <td>11101</td>\n",
       "      <td>28763</td>\n",
       "      <td>29055</td>\n",
       "      <td>57818</td>\n",
       "    </tr>\n",
       "    <tr>\n",
       "      <th>1</th>\n",
       "      <td>1</td>\n",
       "      <td>7194</td>\n",
       "      <td>Región de Aysén del General Carlos Ibáñez del ...</td>\n",
       "      <td>11</td>\n",
       "      <td>Coyhaique</td>\n",
       "      <td>111</td>\n",
       "      <td>Lago Verde</td>\n",
       "      <td>11102</td>\n",
       "      <td>494</td>\n",
       "      <td>358</td>\n",
       "      <td>852</td>\n",
       "    </tr>\n",
       "  </tbody>\n",
       "</table>\n",
       "</div>"
      ],
      "text/plain": [
       "   Unnamed: 0  orden                                      nombre_region  \\\n",
       "0           0   7172  Región de Aysén del General Carlos Ibáñez del ...   \n",
       "1           1   7194  Región de Aysén del General Carlos Ibáñez del ...   \n",
       "\n",
       "   codigo_region nombre_provincia  codigo_provincia nombre_comuna  \\\n",
       "0             11        Coyhaique               111     Coyhaique   \n",
       "1             11        Coyhaique               111    Lago Verde   \n",
       "\n",
       "   codigo_comuna  edad_hombres  edad_mujeres  total  \n",
       "0          11101         28763         29055  57818  \n",
       "1          11102           494           358    852  "
      ]
     },
     "execution_count": 2,
     "metadata": {},
     "output_type": "execute_result"
    }
   ],
   "source": [
    "# Importa datos de población regional y crea DF\n",
    "\n",
    "\n",
    "df_poblacion = pd.read_csv('data/aysen_population.csv') #Archivo ubicado dentro de la carpeta data\n",
    "\n",
    "df_poblacion.head(2)"
   ]
  },
  {
   "cell_type": "code",
   "execution_count": 3,
   "id": "d7395726",
   "metadata": {},
   "outputs": [
    {
     "data": {
      "text/html": [
       "<div>\n",
       "<style scoped>\n",
       "    .dataframe tbody tr th:only-of-type {\n",
       "        vertical-align: middle;\n",
       "    }\n",
       "\n",
       "    .dataframe tbody tr th {\n",
       "        vertical-align: top;\n",
       "    }\n",
       "\n",
       "    .dataframe thead th {\n",
       "        text-align: right;\n",
       "    }\n",
       "</style>\n",
       "<table border=\"1\" class=\"dataframe\">\n",
       "  <thead>\n",
       "    <tr style=\"text-align: right;\">\n",
       "      <th></th>\n",
       "      <th>establecimiento_salud</th>\n",
       "      <th>comuna_seremi_xi</th>\n",
       "      <th>provincia_seremi_xi</th>\n",
       "    </tr>\n",
       "  </thead>\n",
       "  <tbody>\n",
       "    <tr>\n",
       "      <th>0</th>\n",
       "      <td>Actividades gestionadas por la Dirección del S...</td>\n",
       "      <td>Coyhaique</td>\n",
       "      <td>Coyhaique</td>\n",
       "    </tr>\n",
       "    <tr>\n",
       "      <th>1</th>\n",
       "      <td>Centro Clínico Militar Coyhaique</td>\n",
       "      <td>Coyhaique</td>\n",
       "      <td>Coyhaique</td>\n",
       "    </tr>\n",
       "    <tr>\n",
       "      <th>2</th>\n",
       "      <td>Centro Comunitario de Salud Familiar  Villa Ma...</td>\n",
       "      <td>Aysen</td>\n",
       "      <td>Aysen</td>\n",
       "    </tr>\n",
       "    <tr>\n",
       "      <th>3</th>\n",
       "      <td>Centro Comunitario de Salud Familiar Alejandro...</td>\n",
       "      <td>Coyhaique</td>\n",
       "      <td>Coyhaique</td>\n",
       "    </tr>\n",
       "    <tr>\n",
       "      <th>4</th>\n",
       "      <td>Centro Comunitario de Salud Familiar Puerto Ch...</td>\n",
       "      <td>Aysen</td>\n",
       "      <td>Aysen</td>\n",
       "    </tr>\n",
       "  </tbody>\n",
       "</table>\n",
       "</div>"
      ],
      "text/plain": [
       "                               establecimiento_salud comuna_seremi_xi  \\\n",
       "0  Actividades gestionadas por la Dirección del S...        Coyhaique   \n",
       "1                   Centro Clínico Militar Coyhaique        Coyhaique   \n",
       "2  Centro Comunitario de Salud Familiar  Villa Ma...            Aysen   \n",
       "3  Centro Comunitario de Salud Familiar Alejandro...        Coyhaique   \n",
       "4  Centro Comunitario de Salud Familiar Puerto Ch...            Aysen   \n",
       "\n",
       "  provincia_seremi_xi  \n",
       "0           Coyhaique  \n",
       "1           Coyhaique  \n",
       "2               Aysen  \n",
       "3           Coyhaique  \n",
       "4               Aysen  "
      ]
     },
     "execution_count": 3,
     "metadata": {},
     "output_type": "execute_result"
    }
   ],
   "source": [
    "# Importa datos de comunas corregidas por establecimiento de salud\n",
    "\n",
    "df_establecimiento = pd.read_excel('data/establecimientos_salud_dict.xlsx') #Archivo ubicado dentro de la carpeta data\n",
    "\n",
    "\n",
    "df_establecimiento.head()"
   ]
  },
  {
   "cell_type": "code",
   "execution_count": 4,
   "id": "4b119b3a",
   "metadata": {},
   "outputs": [],
   "source": [
    "# Importa datos desde la base de datos recivida via FTP\n",
    "## PRIMERO: Guardar archivo dentro de la carpeta data\n",
    "## SEGUNDO: No cambiar nombre ni formato del archivo recibido\n",
    "## TERCERO: RECORDAR CAMBIAR FECHA EN EL ARCHIVO A IMPORTAR A CONTINUACION, i.e: 20210829 para este domingo 29 de Agosto 2021\n",
    "\n",
    "df =  pd.read_csv('data/20210905_Región de Aysén del General Carlos Ibáñez del Campo_notificaciones_0600.csv', \n",
    "                   sep='~', # CSV con separador ''~''\n",
    "                   low_memory=False\n",
    "                  )"
   ]
  },
  {
   "cell_type": "code",
   "execution_count": 5,
   "id": "54031874",
   "metadata": {},
   "outputs": [],
   "source": [
    "df_trazabilidad =  pd.read_csv('data/20210905_Región de Aysén del General Carlos Ibáñez del Campo_Seguimiento.csv', \n",
    "                   sep=';', # CSV con separador ''~''\n",
    "                   low_memory=False\n",
    "                  )"
   ]
  },
  {
   "cell_type": "markdown",
   "id": "8cfadf9e",
   "metadata": {},
   "source": [
    "##  limpieza y ordenamiento "
   ]
  },
  {
   "cell_type": "code",
   "execution_count": 6,
   "id": "05838c74",
   "metadata": {},
   "outputs": [],
   "source": [
    "# Une datos con diccionario comunal\n",
    "\n",
    "dff = df.merge(df_establecimiento, how='left')"
   ]
  },
  {
   "cell_type": "code",
   "execution_count": 7,
   "id": "fb8cd568",
   "metadata": {},
   "outputs": [],
   "source": [
    "# Integra datos poblacionales\n",
    "\n",
    "df_merged = dff.merge(df_poblacion.drop(columns= ['Unnamed: 0','orden','nombre_region', 'codigo_region', 'nombre_provincia','codigo_provincia']), left_on='comuna_seremi_xi', right_on='nombre_comuna', how='left' )"
   ]
  },
  {
   "cell_type": "code",
   "execution_count": 8,
   "id": "91c07de6",
   "metadata": {},
   "outputs": [
    {
     "data": {
      "text/html": [
       "<div>\n",
       "<style scoped>\n",
       "    .dataframe tbody tr th:only-of-type {\n",
       "        vertical-align: middle;\n",
       "    }\n",
       "\n",
       "    .dataframe tbody tr th {\n",
       "        vertical-align: top;\n",
       "    }\n",
       "\n",
       "    .dataframe thead th {\n",
       "        text-align: right;\n",
       "    }\n",
       "</style>\n",
       "<table border=\"1\" class=\"dataframe\">\n",
       "  <thead>\n",
       "    <tr style=\"text-align: right;\">\n",
       "      <th></th>\n",
       "      <th>id_formulario_eno</th>\n",
       "      <th>numero_folio</th>\n",
       "      <th>id_enfermedad_eno</th>\n",
       "      <th>enfermedad_notificada</th>\n",
       "      <th>semana_epidemiologica</th>\n",
       "      <th>fecha_notificacion</th>\n",
       "      <th>etapa_clinica</th>\n",
       "      <th>establecimiento_salud</th>\n",
       "      <th>region</th>\n",
       "      <th>seremi</th>\n",
       "      <th>...</th>\n",
       "      <th>tac_torax_covid</th>\n",
       "      <th>condicion</th>\n",
       "      <th>region_separacion</th>\n",
       "      <th>comuna_seremi_xi</th>\n",
       "      <th>provincia_seremi_xi</th>\n",
       "      <th>nombre_comuna</th>\n",
       "      <th>codigo_comuna</th>\n",
       "      <th>edad_hombres</th>\n",
       "      <th>edad_mujeres</th>\n",
       "      <th>total</th>\n",
       "    </tr>\n",
       "  </thead>\n",
       "  <tbody>\n",
       "    <tr>\n",
       "      <th>0</th>\n",
       "      <td>100166</td>\n",
       "      <td>50166</td>\n",
       "      <td>50</td>\n",
       "      <td>Coronavirus (COVID-19)</td>\n",
       "      <td>11</td>\n",
       "      <td>2020-03-12</td>\n",
       "      <td>DESCARTADA</td>\n",
       "      <td>Hospital Regional (Coihaique)</td>\n",
       "      <td>Región de Aysén del General Carlos Ibáñez del ...</td>\n",
       "      <td>SEREMI De Aisén del General Carlos Ibañez del ...</td>\n",
       "      <td>...</td>\n",
       "      <td>NaN</td>\n",
       "      <td>NaN</td>\n",
       "      <td>Región de Aysén del General Carlos Ibáñez del ...</td>\n",
       "      <td>Coyhaique</td>\n",
       "      <td>Coyhaique</td>\n",
       "      <td>Coyhaique</td>\n",
       "      <td>11101.0</td>\n",
       "      <td>28763.0</td>\n",
       "      <td>29055.0</td>\n",
       "      <td>57818.0</td>\n",
       "    </tr>\n",
       "  </tbody>\n",
       "</table>\n",
       "<p>1 rows × 282 columns</p>\n",
       "</div>"
      ],
      "text/plain": [
       "   id_formulario_eno  numero_folio  id_enfermedad_eno   enfermedad_notificada  \\\n",
       "0             100166         50166                 50  Coronavirus (COVID-19)   \n",
       "\n",
       "   semana_epidemiologica fecha_notificacion etapa_clinica  \\\n",
       "0                     11         2020-03-12    DESCARTADA   \n",
       "\n",
       "           establecimiento_salud  \\\n",
       "0  Hospital Regional (Coihaique)   \n",
       "\n",
       "                                              region  \\\n",
       "0  Región de Aysén del General Carlos Ibáñez del ...   \n",
       "\n",
       "                                              seremi  ... tac_torax_covid  \\\n",
       "0  SEREMI De Aisén del General Carlos Ibañez del ...  ...             NaN   \n",
       "\n",
       "  condicion                                  region_separacion  \\\n",
       "0       NaN  Región de Aysén del General Carlos Ibáñez del ...   \n",
       "\n",
       "  comuna_seremi_xi provincia_seremi_xi nombre_comuna codigo_comuna  \\\n",
       "0        Coyhaique           Coyhaique     Coyhaique       11101.0   \n",
       "\n",
       "  edad_hombres edad_mujeres    total  \n",
       "0      28763.0      29055.0  57818.0  \n",
       "\n",
       "[1 rows x 282 columns]"
      ]
     },
     "execution_count": 8,
     "metadata": {},
     "output_type": "execute_result"
    }
   ],
   "source": [
    "# Filtra datos obtenidos solo para pacientes con residencia en la Región de Aysén\n",
    "\n",
    "data_aysen = df_merged[df_merged['region_residencia'] == 'Región de Aysén del General Carlos Ibáñez del Campo']\n",
    "\n",
    "data_aysen.head(1)"
   ]
  },
  {
   "cell_type": "code",
   "execution_count": 10,
   "id": "97973806",
   "metadata": {},
   "outputs": [
    {
     "data": {
      "text/html": [
       "<div>\n",
       "<style scoped>\n",
       "    .dataframe tbody tr th:only-of-type {\n",
       "        vertical-align: middle;\n",
       "    }\n",
       "\n",
       "    .dataframe tbody tr th {\n",
       "        vertical-align: top;\n",
       "    }\n",
       "\n",
       "    .dataframe thead th {\n",
       "        text-align: right;\n",
       "    }\n",
       "</style>\n",
       "<table border=\"1\" class=\"dataframe\">\n",
       "  <thead>\n",
       "    <tr style=\"text-align: right;\">\n",
       "      <th></th>\n",
       "      <th>id_formulario_eno</th>\n",
       "      <th>numero_folio</th>\n",
       "      <th>id_enfermedad_eno</th>\n",
       "      <th>enfermedad_notificada</th>\n",
       "      <th>semana_epidemiologica</th>\n",
       "      <th>fecha_notificacion</th>\n",
       "      <th>etapa_clinica</th>\n",
       "      <th>establecimiento_salud</th>\n",
       "      <th>region</th>\n",
       "      <th>seremi</th>\n",
       "      <th>...</th>\n",
       "      <th>tac_torax_covid</th>\n",
       "      <th>condicion</th>\n",
       "      <th>region_separacion</th>\n",
       "      <th>comuna_seremi_xi</th>\n",
       "      <th>provincia_seremi_xi</th>\n",
       "      <th>nombre_comuna</th>\n",
       "      <th>codigo_comuna</th>\n",
       "      <th>pop_hombres</th>\n",
       "      <th>pop_mujeres</th>\n",
       "      <th>pop_total</th>\n",
       "    </tr>\n",
       "  </thead>\n",
       "  <tbody>\n",
       "    <tr>\n",
       "      <th>37892</th>\n",
       "      <td>5930004</td>\n",
       "      <td>5880004</td>\n",
       "      <td>50</td>\n",
       "      <td>Coronavirus (COVID-19)</td>\n",
       "      <td>52</td>\n",
       "      <td>2020-12-20</td>\n",
       "      <td>DESCARTADA</td>\n",
       "      <td>Hospital de Puerto Aysén</td>\n",
       "      <td>Región de Aysén del General Carlos Ibáñez del ...</td>\n",
       "      <td>SEREMI De Aisén del General Carlos Ibañez del ...</td>\n",
       "      <td>...</td>\n",
       "      <td>NO</td>\n",
       "      <td>NaN</td>\n",
       "      <td>Región de Aysén del General Carlos Ibáñez del ...</td>\n",
       "      <td>Aysen</td>\n",
       "      <td>Aysen</td>\n",
       "      <td>Aysen</td>\n",
       "      <td>11201.0</td>\n",
       "      <td>12719.0</td>\n",
       "      <td>11240.0</td>\n",
       "      <td>23959.0</td>\n",
       "    </tr>\n",
       "  </tbody>\n",
       "</table>\n",
       "<p>1 rows × 282 columns</p>\n",
       "</div>"
      ],
      "text/plain": [
       "       id_formulario_eno  numero_folio  id_enfermedad_eno  \\\n",
       "37892            5930004       5880004                 50   \n",
       "\n",
       "        enfermedad_notificada  semana_epidemiologica fecha_notificacion  \\\n",
       "37892  Coronavirus (COVID-19)                     52         2020-12-20   \n",
       "\n",
       "      etapa_clinica     establecimiento_salud  \\\n",
       "37892    DESCARTADA  Hospital de Puerto Aysén   \n",
       "\n",
       "                                                  region  \\\n",
       "37892  Región de Aysén del General Carlos Ibáñez del ...   \n",
       "\n",
       "                                                  seremi  ... tac_torax_covid  \\\n",
       "37892  SEREMI De Aisén del General Carlos Ibañez del ...  ...              NO   \n",
       "\n",
       "      condicion                                  region_separacion  \\\n",
       "37892       NaN  Región de Aysén del General Carlos Ibáñez del ...   \n",
       "\n",
       "      comuna_seremi_xi provincia_seremi_xi nombre_comuna codigo_comuna  \\\n",
       "37892            Aysen               Aysen         Aysen       11201.0   \n",
       "\n",
       "      pop_hombres pop_mujeres pop_total  \n",
       "37892     12719.0     11240.0   23959.0  \n",
       "\n",
       "[1 rows x 282 columns]"
      ]
     },
     "execution_count": 10,
     "metadata": {},
     "output_type": "execute_result"
    }
   ],
   "source": [
    "data_aysen_filtered = data_aysen[(data_aysen['estado_caso']!='No validada')&(\n",
    "                          data_aysen['vigente_no_eliminado']==True)&(\n",
    "                          data_aysen['seremi']=='SEREMI De Aisén del General Carlos Ibañez del Campo')\n",
    "                       ].rename(columns={'edad_hombres':'pop_hombres',\n",
    "                                         'edad_mujeres':'pop_mujeres',\n",
    "                                         'total':'pop_total'})\n",
    "\n",
    "data_aysen_filtered.sample(1)"
   ]
  },
  {
   "cell_type": "code",
   "execution_count": 11,
   "id": "b4dda4da",
   "metadata": {},
   "outputs": [],
   "source": [
    "# Transforma Fechas a formato DateTime \n",
    "\n",
    "data_aysen_filtered['fecha_notificacion'] = pd.to_datetime(data_aysen_filtered['fecha_notificacion'], errors = 'coerce') \n",
    "\n",
    "data_aysen_filtered['fecha_toma_muestra_1'] = pd.to_datetime(data_aysen_filtered['fecha_toma_muestra_1'], errors = 'coerce')\n",
    "\n",
    "data_aysen_filtered['fecha_toma_muestra_2'] = pd.to_datetime(data_aysen_filtered['fecha_toma_muestra_2'], errors = 'coerce')\n",
    "\n",
    "data_aysen_filtered['fecha_toma_muestra_3'] = pd.to_datetime(data_aysen_filtered['fecha_toma_muestra_3'], errors = 'coerce')\n",
    "\n",
    "data_aysen_filtered['fecha_resultado_pcr_1'] = pd.to_datetime(data_aysen_filtered['fecha_resultado_pcr_1'], errors = 'coerce')\n",
    "\n",
    "data_aysen_filtered['fecha_resultado_pcr_2'] = pd.to_datetime(data_aysen_filtered['fecha_resultado_pcr_2'], errors = 'coerce')\n",
    "\n",
    "data_aysen_filtered['fecha_resultado_pcr_3'] = pd.to_datetime(data_aysen_filtered['fecha_resultado_pcr_3'], errors = 'coerce')"
   ]
  },
  {
   "cell_type": "code",
   "execution_count": 12,
   "id": "06f2df22",
   "metadata": {},
   "outputs": [
    {
     "data": {
      "text/html": [
       "<div>\n",
       "<style scoped>\n",
       "    .dataframe tbody tr th:only-of-type {\n",
       "        vertical-align: middle;\n",
       "    }\n",
       "\n",
       "    .dataframe tbody tr th {\n",
       "        vertical-align: top;\n",
       "    }\n",
       "\n",
       "    .dataframe thead th {\n",
       "        text-align: right;\n",
       "    }\n",
       "</style>\n",
       "<table border=\"1\" class=\"dataframe\">\n",
       "  <thead>\n",
       "    <tr style=\"text-align: right;\">\n",
       "      <th></th>\n",
       "      <th>0</th>\n",
       "    </tr>\n",
       "  </thead>\n",
       "  <tbody>\n",
       "  </tbody>\n",
       "</table>\n",
       "</div>"
      ],
      "text/plain": [
       "Empty DataFrame\n",
       "Columns: [0]\n",
       "Index: []"
      ]
     },
     "execution_count": 12,
     "metadata": {},
     "output_type": "execute_result"
    }
   ],
   "source": [
    "# Muestra variables presente en DB en formato DF\n",
    "\n",
    "s=pd.DataFrame(data_aysen_filtered.columns)\n",
    "\n",
    "s[s[0]=='tipo_seguimiento']\n"
   ]
  },
  {
   "cell_type": "code",
   "execution_count": 13,
   "id": "24fe0014",
   "metadata": {},
   "outputs": [],
   "source": [
    "# Selecciona variables de importancia\n",
    "\n",
    "data_aysen_clean =  data_aysen_filtered[[\n",
    "                                'numero_folio',\n",
    "                                'comuna_residencia',\n",
    "                                'fecha_notificacion',\n",
    "                                'semana_epidemiologica',\n",
    "                                'etapa_clinica',\n",
    "                                'tipo_caso_busqueda',\n",
    "                                'establecimiento_salud',\n",
    "                                'resultado_pcr_1',\n",
    "                                'resultado_pcr_2',\n",
    "                                'resultado_pcr_3',\n",
    "                                'fecha_toma_muestra_1',\n",
    "                                'fecha_toma_muestra_2',\n",
    "                                'fecha_toma_muestra_3',\n",
    "                                'fecha_resultado_pcr_1',\n",
    "                                'fecha_resultado_pcr_2',\n",
    "                                'fecha_resultado_pcr_3',\n",
    "                                'estado_paciente',\n",
    "                                'lugar_reposo',\n",
    "                                'estado_caso',\n",
    "                                'presentacion_clinica',\n",
    "                                'contacto_caso_sospechoso',\n",
    "                                'motivo_examen',\n",
    "                                'hospitalizacion',\n",
    "                                'trabajador_salud',\n",
    "                                'caso_cerrado',\n",
    "                                'fecha_primeros_sintomas',\n",
    "                                'fecha_diagnostico',\n",
    "                                'comuna_seremi_xi',\n",
    "                                'provincia_seremi_xi',\n",
    "                                'sexo',\n",
    "                                'edad',\n",
    "                                'pop_hombres',\n",
    "                                'pop_mujeres',\n",
    "                                'pop_total'\n",
    "                               ]]"
   ]
  },
  {
   "cell_type": "code",
   "execution_count": 14,
   "id": "6e15c859",
   "metadata": {},
   "outputs": [
    {
     "name": "stderr",
     "output_type": "stream",
     "text": [
      "<ipython-input-14-d2f259f8832e>:7: SettingWithCopyWarning: \n",
      "A value is trying to be set on a copy of a slice from a DataFrame.\n",
      "Try using .loc[row_indexer,col_indexer] = value instead\n",
      "\n",
      "See the caveats in the documentation: https://pandas.pydata.org/pandas-docs/stable/user_guide/indexing.html#returning-a-view-versus-a-copy\n",
      "  data_aysen_clean1['semana_epidemiologica_21'] = data_aysen_clean1['semana_epidemiologica']\n",
      "<ipython-input-14-d2f259f8832e>:8: SettingWithCopyWarning: \n",
      "A value is trying to be set on a copy of a slice from a DataFrame.\n",
      "Try using .loc[row_indexer,col_indexer] = value instead\n",
      "\n",
      "See the caveats in the documentation: https://pandas.pydata.org/pandas-docs/stable/user_guide/indexing.html#returning-a-view-versus-a-copy\n",
      "  data_aysen_clean2['semana_epidemiologica_21'] = data_aysen_clean2['semana_epidemiologica']+53\n"
     ]
    }
   ],
   "source": [
    "# Agrega 53 semanas a las semanas de 2021 y crea semana_epidemiologica_21\n",
    "\n",
    "data_aysen_clean1 = data_aysen_clean[data_aysen_clean['fecha_notificacion']<=pd.to_datetime('2021-01-02')]\n",
    "data_aysen_clean2 = data_aysen_clean[data_aysen_clean['fecha_notificacion']>=pd.to_datetime('2021-01-03')]\n",
    "\n",
    "\n",
    "data_aysen_clean1['semana_epidemiologica_21'] = data_aysen_clean1['semana_epidemiologica']\n",
    "data_aysen_clean2['semana_epidemiologica_21'] = data_aysen_clean2['semana_epidemiologica']+53\n",
    "\n",
    "data_aysen_clean_21 = data_aysen_clean1.append(data_aysen_clean2, ignore_index=True)\n"
   ]
  },
  {
   "cell_type": "code",
   "execution_count": 15,
   "id": "19c25cde",
   "metadata": {
    "scrolled": true
   },
   "outputs": [
    {
     "data": {
      "text/html": [
       "<div>\n",
       "<style scoped>\n",
       "    .dataframe tbody tr th:only-of-type {\n",
       "        vertical-align: middle;\n",
       "    }\n",
       "\n",
       "    .dataframe tbody tr th {\n",
       "        vertical-align: top;\n",
       "    }\n",
       "\n",
       "    .dataframe thead th {\n",
       "        text-align: right;\n",
       "    }\n",
       "</style>\n",
       "<table border=\"1\" class=\"dataframe\">\n",
       "  <thead>\n",
       "    <tr style=\"text-align: right;\">\n",
       "      <th></th>\n",
       "      <th>numero_folio</th>\n",
       "      <th>comuna_residencia</th>\n",
       "      <th>fecha_notificacion</th>\n",
       "      <th>semana_epidemiologica</th>\n",
       "      <th>etapa_clinica</th>\n",
       "      <th>tipo_caso_busqueda</th>\n",
       "      <th>establecimiento_salud</th>\n",
       "      <th>resultado_pcr_1</th>\n",
       "      <th>resultado_pcr_2</th>\n",
       "      <th>resultado_pcr_3</th>\n",
       "      <th>...</th>\n",
       "      <th>caso_cerrado</th>\n",
       "      <th>fecha_primeros_sintomas</th>\n",
       "      <th>fecha_diagnostico</th>\n",
       "      <th>comuna_seremi_xi</th>\n",
       "      <th>provincia_seremi_xi</th>\n",
       "      <th>sexo</th>\n",
       "      <th>edad</th>\n",
       "      <th>pop_hombres</th>\n",
       "      <th>pop_mujeres</th>\n",
       "      <th>pop_total</th>\n",
       "    </tr>\n",
       "  </thead>\n",
       "  <tbody>\n",
       "    <tr>\n",
       "      <th>140092</th>\n",
       "      <td>15052008</td>\n",
       "      <td>Chile Chico</td>\n",
       "      <td>2021-07-18</td>\n",
       "      <td>29</td>\n",
       "      <td>DESCARTADA</td>\n",
       "      <td>Búsqueda activa</td>\n",
       "      <td>Hospital Dr. Leopoldo Ortega R. (Chile Chico)</td>\n",
       "      <td>NEGATIVO</td>\n",
       "      <td>NEGATIVO</td>\n",
       "      <td>NaN</td>\n",
       "      <td>...</td>\n",
       "      <td>False</td>\n",
       "      <td>NaN</td>\n",
       "      <td>2021-07-18</td>\n",
       "      <td>Chile Chico</td>\n",
       "      <td>General Carrera</td>\n",
       "      <td>mujer</td>\n",
       "      <td>52</td>\n",
       "      <td>2577.0</td>\n",
       "      <td>2288.0</td>\n",
       "      <td>4865.0</td>\n",
       "    </tr>\n",
       "    <tr>\n",
       "      <th>70503</th>\n",
       "      <td>9122491</td>\n",
       "      <td>Coyhaique</td>\n",
       "      <td>2021-03-09</td>\n",
       "      <td>10</td>\n",
       "      <td>DESCARTADA</td>\n",
       "      <td>Búsqueda activa</td>\n",
       "      <td>Actividades gestionadas por la Dirección del S...</td>\n",
       "      <td>NEGATIVO</td>\n",
       "      <td>NaN</td>\n",
       "      <td>NaN</td>\n",
       "      <td>...</td>\n",
       "      <td>False</td>\n",
       "      <td>NaN</td>\n",
       "      <td>2021-03-13</td>\n",
       "      <td>Coyhaique</td>\n",
       "      <td>Coyhaique</td>\n",
       "      <td>hombre</td>\n",
       "      <td>37</td>\n",
       "      <td>28763.0</td>\n",
       "      <td>29055.0</td>\n",
       "      <td>57818.0</td>\n",
       "    </tr>\n",
       "    <tr>\n",
       "      <th>90644</th>\n",
       "      <td>11221406</td>\n",
       "      <td>Coyhaique</td>\n",
       "      <td>2021-04-21</td>\n",
       "      <td>16</td>\n",
       "      <td>DESCARTADA</td>\n",
       "      <td>Búsqueda activa</td>\n",
       "      <td>Actividades gestionadas por la Dirección del S...</td>\n",
       "      <td>NEGATIVO</td>\n",
       "      <td>NaN</td>\n",
       "      <td>NaN</td>\n",
       "      <td>...</td>\n",
       "      <td>False</td>\n",
       "      <td>NaN</td>\n",
       "      <td>2021-04-23</td>\n",
       "      <td>Coyhaique</td>\n",
       "      <td>Coyhaique</td>\n",
       "      <td>mujer</td>\n",
       "      <td>26</td>\n",
       "      <td>28763.0</td>\n",
       "      <td>29055.0</td>\n",
       "      <td>57818.0</td>\n",
       "    </tr>\n",
       "    <tr>\n",
       "      <th>24783</th>\n",
       "      <td>4354134</td>\n",
       "      <td>Aisén</td>\n",
       "      <td>2020-11-07</td>\n",
       "      <td>45</td>\n",
       "      <td>DESCARTADA</td>\n",
       "      <td>Búsqueda activa</td>\n",
       "      <td>Ejercicio libre de la profesión XI región</td>\n",
       "      <td>NaN</td>\n",
       "      <td>NaN</td>\n",
       "      <td>NaN</td>\n",
       "      <td>...</td>\n",
       "      <td>False</td>\n",
       "      <td>NaN</td>\n",
       "      <td>2020-11-07</td>\n",
       "      <td>Ejercicio Libre de la Profesión</td>\n",
       "      <td>Ejercicio Libre de la Profesión</td>\n",
       "      <td>hombre</td>\n",
       "      <td>35</td>\n",
       "      <td>NaN</td>\n",
       "      <td>NaN</td>\n",
       "      <td>NaN</td>\n",
       "    </tr>\n",
       "    <tr>\n",
       "      <th>101560</th>\n",
       "      <td>12147249</td>\n",
       "      <td>Coyhaique</td>\n",
       "      <td>2021-05-12</td>\n",
       "      <td>19</td>\n",
       "      <td>DESCARTADA</td>\n",
       "      <td>Búsqueda activa</td>\n",
       "      <td>Consultorio Víctor Domingo Silva</td>\n",
       "      <td>NaN</td>\n",
       "      <td>NEGATIVO</td>\n",
       "      <td>NaN</td>\n",
       "      <td>...</td>\n",
       "      <td>False</td>\n",
       "      <td>NaN</td>\n",
       "      <td>2021-05-13</td>\n",
       "      <td>Coyhaique</td>\n",
       "      <td>Coyhaique</td>\n",
       "      <td>hombre</td>\n",
       "      <td>43</td>\n",
       "      <td>28763.0</td>\n",
       "      <td>29055.0</td>\n",
       "      <td>57818.0</td>\n",
       "    </tr>\n",
       "    <tr>\n",
       "      <th>69280</th>\n",
       "      <td>8992611</td>\n",
       "      <td>Coyhaique</td>\n",
       "      <td>2021-03-06</td>\n",
       "      <td>9</td>\n",
       "      <td>DESCARTADA</td>\n",
       "      <td>Búsqueda activa</td>\n",
       "      <td>Actividades gestionadas por la Dirección del S...</td>\n",
       "      <td>NEGATIVO</td>\n",
       "      <td>NaN</td>\n",
       "      <td>NaN</td>\n",
       "      <td>...</td>\n",
       "      <td>False</td>\n",
       "      <td>NaN</td>\n",
       "      <td>2021-03-09</td>\n",
       "      <td>Coyhaique</td>\n",
       "      <td>Coyhaique</td>\n",
       "      <td>hombre</td>\n",
       "      <td>71</td>\n",
       "      <td>28763.0</td>\n",
       "      <td>29055.0</td>\n",
       "      <td>57818.0</td>\n",
       "    </tr>\n",
       "    <tr>\n",
       "      <th>71747</th>\n",
       "      <td>9256039</td>\n",
       "      <td>Aisén</td>\n",
       "      <td>2021-03-12</td>\n",
       "      <td>10</td>\n",
       "      <td>DESCARTADA</td>\n",
       "      <td>Búsqueda activa</td>\n",
       "      <td>Centro de Salud Familiar Puerto Aysen</td>\n",
       "      <td>NEGATIVO</td>\n",
       "      <td>NaN</td>\n",
       "      <td>NaN</td>\n",
       "      <td>...</td>\n",
       "      <td>False</td>\n",
       "      <td>NaN</td>\n",
       "      <td>NaN</td>\n",
       "      <td>Aysen</td>\n",
       "      <td>Aysen</td>\n",
       "      <td>mujer</td>\n",
       "      <td>37</td>\n",
       "      <td>12719.0</td>\n",
       "      <td>11240.0</td>\n",
       "      <td>23959.0</td>\n",
       "    </tr>\n",
       "    <tr>\n",
       "      <th>121807</th>\n",
       "      <td>13593953</td>\n",
       "      <td>Coyhaique</td>\n",
       "      <td>2021-06-11</td>\n",
       "      <td>23</td>\n",
       "      <td>DESCARTADA</td>\n",
       "      <td>Búsqueda activa</td>\n",
       "      <td>Actividades gestionadas por la Dirección del S...</td>\n",
       "      <td>NEGATIVO</td>\n",
       "      <td>NaN</td>\n",
       "      <td>NaN</td>\n",
       "      <td>...</td>\n",
       "      <td>False</td>\n",
       "      <td>NaN</td>\n",
       "      <td>2021-06-14</td>\n",
       "      <td>Coyhaique</td>\n",
       "      <td>Coyhaique</td>\n",
       "      <td>mujer</td>\n",
       "      <td>45</td>\n",
       "      <td>28763.0</td>\n",
       "      <td>29055.0</td>\n",
       "      <td>57818.0</td>\n",
       "    </tr>\n",
       "    <tr>\n",
       "      <th>16066</th>\n",
       "      <td>3352842</td>\n",
       "      <td>Aisén</td>\n",
       "      <td>2020-10-06</td>\n",
       "      <td>41</td>\n",
       "      <td>DESCARTADA</td>\n",
       "      <td>Búsqueda activa</td>\n",
       "      <td>Ejercicio libre de la profesión XI región</td>\n",
       "      <td>NaN</td>\n",
       "      <td>NaN</td>\n",
       "      <td>NaN</td>\n",
       "      <td>...</td>\n",
       "      <td>False</td>\n",
       "      <td>NaN</td>\n",
       "      <td>2020-10-06</td>\n",
       "      <td>Ejercicio Libre de la Profesión</td>\n",
       "      <td>Ejercicio Libre de la Profesión</td>\n",
       "      <td>hombre</td>\n",
       "      <td>29</td>\n",
       "      <td>NaN</td>\n",
       "      <td>NaN</td>\n",
       "      <td>NaN</td>\n",
       "    </tr>\n",
       "    <tr>\n",
       "      <th>75801</th>\n",
       "      <td>9748441</td>\n",
       "      <td>Aisén</td>\n",
       "      <td>2021-03-22</td>\n",
       "      <td>12</td>\n",
       "      <td>DESCARTADA</td>\n",
       "      <td>Búsqueda activa</td>\n",
       "      <td>Centro de Salud Familiar Puerto Aysen</td>\n",
       "      <td>NEGATIVO</td>\n",
       "      <td>NaN</td>\n",
       "      <td>NaN</td>\n",
       "      <td>...</td>\n",
       "      <td>False</td>\n",
       "      <td>NaN</td>\n",
       "      <td>NaN</td>\n",
       "      <td>Aysen</td>\n",
       "      <td>Aysen</td>\n",
       "      <td>hombre</td>\n",
       "      <td>29</td>\n",
       "      <td>12719.0</td>\n",
       "      <td>11240.0</td>\n",
       "      <td>23959.0</td>\n",
       "    </tr>\n",
       "  </tbody>\n",
       "</table>\n",
       "<p>10 rows × 34 columns</p>\n",
       "</div>"
      ],
      "text/plain": [
       "        numero_folio comuna_residencia fecha_notificacion  \\\n",
       "140092      15052008       Chile Chico         2021-07-18   \n",
       "70503        9122491         Coyhaique         2021-03-09   \n",
       "90644       11221406         Coyhaique         2021-04-21   \n",
       "24783        4354134             Aisén         2020-11-07   \n",
       "101560      12147249         Coyhaique         2021-05-12   \n",
       "69280        8992611         Coyhaique         2021-03-06   \n",
       "71747        9256039             Aisén         2021-03-12   \n",
       "121807      13593953         Coyhaique         2021-06-11   \n",
       "16066        3352842             Aisén         2020-10-06   \n",
       "75801        9748441             Aisén         2021-03-22   \n",
       "\n",
       "        semana_epidemiologica etapa_clinica tipo_caso_busqueda  \\\n",
       "140092                     29    DESCARTADA    Búsqueda activa   \n",
       "70503                      10    DESCARTADA    Búsqueda activa   \n",
       "90644                      16    DESCARTADA    Búsqueda activa   \n",
       "24783                      45    DESCARTADA    Búsqueda activa   \n",
       "101560                     19    DESCARTADA    Búsqueda activa   \n",
       "69280                       9    DESCARTADA    Búsqueda activa   \n",
       "71747                      10    DESCARTADA    Búsqueda activa   \n",
       "121807                     23    DESCARTADA    Búsqueda activa   \n",
       "16066                      41    DESCARTADA    Búsqueda activa   \n",
       "75801                      12    DESCARTADA    Búsqueda activa   \n",
       "\n",
       "                                    establecimiento_salud resultado_pcr_1  \\\n",
       "140092      Hospital Dr. Leopoldo Ortega R. (Chile Chico)        NEGATIVO   \n",
       "70503   Actividades gestionadas por la Dirección del S...        NEGATIVO   \n",
       "90644   Actividades gestionadas por la Dirección del S...        NEGATIVO   \n",
       "24783           Ejercicio libre de la profesión XI región             NaN   \n",
       "101560                   Consultorio Víctor Domingo Silva             NaN   \n",
       "69280   Actividades gestionadas por la Dirección del S...        NEGATIVO   \n",
       "71747               Centro de Salud Familiar Puerto Aysen        NEGATIVO   \n",
       "121807  Actividades gestionadas por la Dirección del S...        NEGATIVO   \n",
       "16066           Ejercicio libre de la profesión XI región             NaN   \n",
       "75801               Centro de Salud Familiar Puerto Aysen        NEGATIVO   \n",
       "\n",
       "       resultado_pcr_2  resultado_pcr_3  ... caso_cerrado  \\\n",
       "140092        NEGATIVO              NaN  ...        False   \n",
       "70503              NaN              NaN  ...        False   \n",
       "90644              NaN              NaN  ...        False   \n",
       "24783              NaN              NaN  ...        False   \n",
       "101560        NEGATIVO              NaN  ...        False   \n",
       "69280              NaN              NaN  ...        False   \n",
       "71747              NaN              NaN  ...        False   \n",
       "121807             NaN              NaN  ...        False   \n",
       "16066              NaN              NaN  ...        False   \n",
       "75801              NaN              NaN  ...        False   \n",
       "\n",
       "       fecha_primeros_sintomas fecha_diagnostico  \\\n",
       "140092                     NaN        2021-07-18   \n",
       "70503                      NaN        2021-03-13   \n",
       "90644                      NaN        2021-04-23   \n",
       "24783                      NaN        2020-11-07   \n",
       "101560                     NaN        2021-05-13   \n",
       "69280                      NaN        2021-03-09   \n",
       "71747                      NaN               NaN   \n",
       "121807                     NaN        2021-06-14   \n",
       "16066                      NaN        2020-10-06   \n",
       "75801                      NaN               NaN   \n",
       "\n",
       "                       comuna_seremi_xi              provincia_seremi_xi  \\\n",
       "140092                      Chile Chico                  General Carrera   \n",
       "70503                         Coyhaique                        Coyhaique   \n",
       "90644                         Coyhaique                        Coyhaique   \n",
       "24783   Ejercicio Libre de la Profesión  Ejercicio Libre de la Profesión   \n",
       "101560                        Coyhaique                        Coyhaique   \n",
       "69280                         Coyhaique                        Coyhaique   \n",
       "71747                             Aysen                            Aysen   \n",
       "121807                        Coyhaique                        Coyhaique   \n",
       "16066   Ejercicio Libre de la Profesión  Ejercicio Libre de la Profesión   \n",
       "75801                             Aysen                            Aysen   \n",
       "\n",
       "          sexo edad pop_hombres pop_mujeres pop_total  \n",
       "140092   mujer   52      2577.0      2288.0    4865.0  \n",
       "70503   hombre   37     28763.0     29055.0   57818.0  \n",
       "90644    mujer   26     28763.0     29055.0   57818.0  \n",
       "24783   hombre   35         NaN         NaN       NaN  \n",
       "101560  hombre   43     28763.0     29055.0   57818.0  \n",
       "69280   hombre   71     28763.0     29055.0   57818.0  \n",
       "71747    mujer   37     12719.0     11240.0   23959.0  \n",
       "121807   mujer   45     28763.0     29055.0   57818.0  \n",
       "16066   hombre   29         NaN         NaN       NaN  \n",
       "75801   hombre   29     12719.0     11240.0   23959.0  \n",
       "\n",
       "[10 rows x 34 columns]"
      ]
     },
     "execution_count": 15,
     "metadata": {},
     "output_type": "execute_result"
    }
   ],
   "source": [
    "data_aysen_clean.sample(10)"
   ]
  },
  {
   "cell_type": "code",
   "execution_count": 16,
   "id": "bbd88d1c",
   "metadata": {},
   "outputs": [],
   "source": [
    "df_seguimiento = pd.read_csv('data/df_seguimiento_full.csv',\n",
    "                            sep=';',\n",
    "                             low_memory=False\n",
    "                            )"
   ]
  },
  {
   "cell_type": "code",
   "execution_count": 17,
   "id": "e07cf34f",
   "metadata": {},
   "outputs": [
    {
     "data": {
      "text/html": [
       "<div>\n",
       "<style scoped>\n",
       "    .dataframe tbody tr th:only-of-type {\n",
       "        vertical-align: middle;\n",
       "    }\n",
       "\n",
       "    .dataframe tbody tr th {\n",
       "        vertical-align: top;\n",
       "    }\n",
       "\n",
       "    .dataframe thead th {\n",
       "        text-align: right;\n",
       "    }\n",
       "</style>\n",
       "<table border=\"1\" class=\"dataframe\">\n",
       "  <thead>\n",
       "    <tr style=\"text-align: right;\">\n",
       "      <th></th>\n",
       "      <th>Unnamed: 0</th>\n",
       "      <th>n_folio</th>\n",
       "      <th>tipo_seguimiento</th>\n",
       "      <th>dia_contacto</th>\n",
       "      <th>id_enfermedad_eno</th>\n",
       "      <th>enfermedad</th>\n",
       "      <th>fecha_notificacion</th>\n",
       "      <th>id_institucion</th>\n",
       "      <th>nombre_institucion_indice</th>\n",
       "      <th>region_institucion_indice</th>\n",
       "      <th>...</th>\n",
       "      <th>cumple_aislamiento_cuarentena</th>\n",
       "      <th>ultimo_establecimiento_derivacion</th>\n",
       "      <th>nombre_ultimo_establecimiento_derivacion</th>\n",
       "      <th>ultimo_seremi_derivacion</th>\n",
       "      <th>región_derivación</th>\n",
       "      <th>región_seremi</th>\n",
       "      <th>región_notificacion</th>\n",
       "      <th>region_final</th>\n",
       "      <th>TTA</th>\n",
       "      <th>file</th>\n",
       "    </tr>\n",
       "  </thead>\n",
       "  <tbody>\n",
       "    <tr>\n",
       "      <th>0</th>\n",
       "      <td>0</td>\n",
       "      <td>8753781</td>\n",
       "      <td>caso</td>\n",
       "      <td>2021-03-02 00:00:00</td>\n",
       "      <td>50</td>\n",
       "      <td>Coronavirus (COVID-19)</td>\n",
       "      <td>2021-03-01 00:00:00</td>\n",
       "      <td>125100</td>\n",
       "      <td>Hospital Regional (Coihaique)</td>\n",
       "      <td>11</td>\n",
       "      <td>...</td>\n",
       "      <td>t</td>\n",
       "      <td>Sin Datos</td>\n",
       "      <td>Sin Datos</td>\n",
       "      <td>Sin Datos</td>\n",
       "      <td>Sin Datos</td>\n",
       "      <td>Sin Datos</td>\n",
       "      <td>Región De Aysén del General Carlos Ibañez del ...</td>\n",
       "      <td>Región de Aysén del General Carlos Ibáñez del ...</td>\n",
       "      <td>SEREMI</td>\n",
       "      <td>marzo</td>\n",
       "    </tr>\n",
       "    <tr>\n",
       "      <th>1</th>\n",
       "      <td>1</td>\n",
       "      <td>SC9677760-11425750</td>\n",
       "      <td>contacto</td>\n",
       "      <td>2021-03-25 00:00:00</td>\n",
       "      <td>50</td>\n",
       "      <td>Coronavirus (COVID-19)</td>\n",
       "      <td>2021-03-20 00:00:00</td>\n",
       "      <td>125100</td>\n",
       "      <td>Hospital Regional (Coihaique)</td>\n",
       "      <td>11</td>\n",
       "      <td>...</td>\n",
       "      <td>t</td>\n",
       "      <td>Sin Datos</td>\n",
       "      <td>Sin Datos</td>\n",
       "      <td>Sin Datos</td>\n",
       "      <td>Sin Datos</td>\n",
       "      <td>Sin Datos</td>\n",
       "      <td>Región De Aysén del General Carlos Ibañez del ...</td>\n",
       "      <td>Región de Aysén del General Carlos Ibáñez del ...</td>\n",
       "      <td>APS</td>\n",
       "      <td>marzo</td>\n",
       "    </tr>\n",
       "    <tr>\n",
       "      <th>2</th>\n",
       "      <td>2</td>\n",
       "      <td>SC9780675-11714657</td>\n",
       "      <td>contacto</td>\n",
       "      <td>2021-03-29 00:00:00</td>\n",
       "      <td>50</td>\n",
       "      <td>Coronavirus (COVID-19)</td>\n",
       "      <td>2021-03-23 00:00:00</td>\n",
       "      <td>125010</td>\n",
       "      <td>Actividades gestionadas por la Dirección del S...</td>\n",
       "      <td>11</td>\n",
       "      <td>...</td>\n",
       "      <td>t</td>\n",
       "      <td>Sin Datos</td>\n",
       "      <td>Sin Datos</td>\n",
       "      <td>Sin Datos</td>\n",
       "      <td>Sin Datos</td>\n",
       "      <td>Sin Datos</td>\n",
       "      <td>Región De Aysén del General Carlos Ibañez del ...</td>\n",
       "      <td>Región de Aysén del General Carlos Ibáñez del ...</td>\n",
       "      <td>SEREMI</td>\n",
       "      <td>marzo</td>\n",
       "    </tr>\n",
       "    <tr>\n",
       "      <th>3</th>\n",
       "      <td>3</td>\n",
       "      <td>SC10084431-11964234</td>\n",
       "      <td>contacto</td>\n",
       "      <td>2021-03-29 00:00:00</td>\n",
       "      <td>50</td>\n",
       "      <td>Coronavirus (COVID-19)</td>\n",
       "      <td>2021-03-29 00:00:00</td>\n",
       "      <td>125010</td>\n",
       "      <td>Actividades gestionadas por la Dirección del S...</td>\n",
       "      <td>11</td>\n",
       "      <td>...</td>\n",
       "      <td>t</td>\n",
       "      <td>Sin Datos</td>\n",
       "      <td>Sin Datos</td>\n",
       "      <td>Sin Datos</td>\n",
       "      <td>Sin Datos</td>\n",
       "      <td>Sin Datos</td>\n",
       "      <td>Región De Aysén del General Carlos Ibañez del ...</td>\n",
       "      <td>Región de Aysén del General Carlos Ibáñez del ...</td>\n",
       "      <td>SEREMI</td>\n",
       "      <td>marzo</td>\n",
       "    </tr>\n",
       "    <tr>\n",
       "      <th>4</th>\n",
       "      <td>4</td>\n",
       "      <td>SC10332193-12293320</td>\n",
       "      <td>contacto</td>\n",
       "      <td>2021-04-04 00:00:00</td>\n",
       "      <td>50</td>\n",
       "      <td>Coronavirus (COVID-19)</td>\n",
       "      <td>2021-04-03 00:00:00</td>\n",
       "      <td>125404</td>\n",
       "      <td>Posta de Salud Rural Lago Verde</td>\n",
       "      <td>11</td>\n",
       "      <td>...</td>\n",
       "      <td>t</td>\n",
       "      <td>Sin Datos</td>\n",
       "      <td>Sin Datos</td>\n",
       "      <td>Sin Datos</td>\n",
       "      <td>Sin Datos</td>\n",
       "      <td>Sin Datos</td>\n",
       "      <td>Región De Aysén del General Carlos Ibañez del ...</td>\n",
       "      <td>Región de Aysén del General Carlos Ibáñez del ...</td>\n",
       "      <td>SEREMI</td>\n",
       "      <td>marzo</td>\n",
       "    </tr>\n",
       "    <tr>\n",
       "      <th>...</th>\n",
       "      <td>...</td>\n",
       "      <td>...</td>\n",
       "      <td>...</td>\n",
       "      <td>...</td>\n",
       "      <td>...</td>\n",
       "      <td>...</td>\n",
       "      <td>...</td>\n",
       "      <td>...</td>\n",
       "      <td>...</td>\n",
       "      <td>...</td>\n",
       "      <td>...</td>\n",
       "      <td>...</td>\n",
       "      <td>...</td>\n",
       "      <td>...</td>\n",
       "      <td>...</td>\n",
       "      <td>...</td>\n",
       "      <td>...</td>\n",
       "      <td>...</td>\n",
       "      <td>...</td>\n",
       "      <td>...</td>\n",
       "      <td>...</td>\n",
       "    </tr>\n",
       "    <tr>\n",
       "      <th>293816</th>\n",
       "      <td>293849</td>\n",
       "      <td>SC16034389-20188901</td>\n",
       "      <td>contacto</td>\n",
       "      <td>2021-08-25 00:00:00</td>\n",
       "      <td>50</td>\n",
       "      <td>Coronavirus (COVID-19)</td>\n",
       "      <td>2021-08-15 00:00:00</td>\n",
       "      <td>125100</td>\n",
       "      <td>Hospital Regional (Coihaique)</td>\n",
       "      <td>11</td>\n",
       "      <td>...</td>\n",
       "      <td>t</td>\n",
       "      <td>125300</td>\n",
       "      <td>Consultorio Víctor Domingo Silva</td>\n",
       "      <td>Sin Datos</td>\n",
       "      <td>Región De Aysén del General Carlos Ibañez del ...</td>\n",
       "      <td>Sin Datos</td>\n",
       "      <td>Región De Aysén del General Carlos Ibañez del ...</td>\n",
       "      <td>Región de Aysén del General Carlos Ibáñez del ...</td>\n",
       "      <td>APS</td>\n",
       "      <td>agosto</td>\n",
       "    </tr>\n",
       "    <tr>\n",
       "      <th>293817</th>\n",
       "      <td>293850</td>\n",
       "      <td>PNTM-7016056768</td>\n",
       "      <td>no notificado índice</td>\n",
       "      <td>Sin Datos</td>\n",
       "      <td>50</td>\n",
       "      <td>Coronavirus (COVID-19)</td>\n",
       "      <td>Sin Datos</td>\n",
       "      <td>Sin Datos</td>\n",
       "      <td>Sin Datos</td>\n",
       "      <td>Sin Datos</td>\n",
       "      <td>...</td>\n",
       "      <td>Sin Datos</td>\n",
       "      <td>Sin Datos</td>\n",
       "      <td>Sin Datos</td>\n",
       "      <td>Sin Datos</td>\n",
       "      <td>Sin Datos</td>\n",
       "      <td>Sin Datos</td>\n",
       "      <td>Sin Datos</td>\n",
       "      <td>Región de Aysén del General Carlos Ibáñez del ...</td>\n",
       "      <td>SEREMI</td>\n",
       "      <td>agosto</td>\n",
       "    </tr>\n",
       "    <tr>\n",
       "      <th>293818</th>\n",
       "      <td>293851</td>\n",
       "      <td>PNTM-7015472903</td>\n",
       "      <td>no notificado índice</td>\n",
       "      <td>Sin Datos</td>\n",
       "      <td>50</td>\n",
       "      <td>Coronavirus (COVID-19)</td>\n",
       "      <td>Sin Datos</td>\n",
       "      <td>Sin Datos</td>\n",
       "      <td>Sin Datos</td>\n",
       "      <td>Sin Datos</td>\n",
       "      <td>...</td>\n",
       "      <td>Sin Datos</td>\n",
       "      <td>Sin Datos</td>\n",
       "      <td>Sin Datos</td>\n",
       "      <td>Sin Datos</td>\n",
       "      <td>Sin Datos</td>\n",
       "      <td>Sin Datos</td>\n",
       "      <td>Sin Datos</td>\n",
       "      <td>Región de Aysén del General Carlos Ibáñez del ...</td>\n",
       "      <td>SEREMI</td>\n",
       "      <td>agosto</td>\n",
       "    </tr>\n",
       "    <tr>\n",
       "      <th>293819</th>\n",
       "      <td>293852</td>\n",
       "      <td>PNTM-7015314831</td>\n",
       "      <td>no notificado índice</td>\n",
       "      <td>Sin Datos</td>\n",
       "      <td>50</td>\n",
       "      <td>Coronavirus (COVID-19)</td>\n",
       "      <td>Sin Datos</td>\n",
       "      <td>Sin Datos</td>\n",
       "      <td>Sin Datos</td>\n",
       "      <td>Sin Datos</td>\n",
       "      <td>...</td>\n",
       "      <td>Sin Datos</td>\n",
       "      <td>Sin Datos</td>\n",
       "      <td>Sin Datos</td>\n",
       "      <td>Sin Datos</td>\n",
       "      <td>Sin Datos</td>\n",
       "      <td>Sin Datos</td>\n",
       "      <td>Sin Datos</td>\n",
       "      <td>Región de Aysén del General Carlos Ibáñez del ...</td>\n",
       "      <td>SEREMI</td>\n",
       "      <td>agosto</td>\n",
       "    </tr>\n",
       "    <tr>\n",
       "      <th>293820</th>\n",
       "      <td>293853</td>\n",
       "      <td>PNTM-7016230035</td>\n",
       "      <td>no notificado índice</td>\n",
       "      <td>Sin Datos</td>\n",
       "      <td>50</td>\n",
       "      <td>Coronavirus (COVID-19)</td>\n",
       "      <td>Sin Datos</td>\n",
       "      <td>Sin Datos</td>\n",
       "      <td>Sin Datos</td>\n",
       "      <td>Sin Datos</td>\n",
       "      <td>...</td>\n",
       "      <td>Sin Datos</td>\n",
       "      <td>Sin Datos</td>\n",
       "      <td>Sin Datos</td>\n",
       "      <td>Sin Datos</td>\n",
       "      <td>Sin Datos</td>\n",
       "      <td>Sin Datos</td>\n",
       "      <td>Sin Datos</td>\n",
       "      <td>Región de Aysén del General Carlos Ibáñez del ...</td>\n",
       "      <td>SEREMI</td>\n",
       "      <td>agosto</td>\n",
       "    </tr>\n",
       "  </tbody>\n",
       "</table>\n",
       "<p>293821 rows × 86 columns</p>\n",
       "</div>"
      ],
      "text/plain": [
       "        Unnamed: 0              n_folio      tipo_seguimiento  \\\n",
       "0                0              8753781                  caso   \n",
       "1                1   SC9677760-11425750              contacto   \n",
       "2                2   SC9780675-11714657              contacto   \n",
       "3                3  SC10084431-11964234              contacto   \n",
       "4                4  SC10332193-12293320              contacto   \n",
       "...            ...                  ...                   ...   \n",
       "293816      293849  SC16034389-20188901              contacto   \n",
       "293817      293850      PNTM-7016056768  no notificado índice   \n",
       "293818      293851      PNTM-7015472903  no notificado índice   \n",
       "293819      293852      PNTM-7015314831  no notificado índice   \n",
       "293820      293853      PNTM-7016230035  no notificado índice   \n",
       "\n",
       "               dia_contacto  id_enfermedad_eno              enfermedad  \\\n",
       "0       2021-03-02 00:00:00                 50  Coronavirus (COVID-19)   \n",
       "1       2021-03-25 00:00:00                 50  Coronavirus (COVID-19)   \n",
       "2       2021-03-29 00:00:00                 50  Coronavirus (COVID-19)   \n",
       "3       2021-03-29 00:00:00                 50  Coronavirus (COVID-19)   \n",
       "4       2021-04-04 00:00:00                 50  Coronavirus (COVID-19)   \n",
       "...                     ...                ...                     ...   \n",
       "293816  2021-08-25 00:00:00                 50  Coronavirus (COVID-19)   \n",
       "293817            Sin Datos                 50  Coronavirus (COVID-19)   \n",
       "293818            Sin Datos                 50  Coronavirus (COVID-19)   \n",
       "293819            Sin Datos                 50  Coronavirus (COVID-19)   \n",
       "293820            Sin Datos                 50  Coronavirus (COVID-19)   \n",
       "\n",
       "         fecha_notificacion id_institucion  \\\n",
       "0       2021-03-01 00:00:00         125100   \n",
       "1       2021-03-20 00:00:00         125100   \n",
       "2       2021-03-23 00:00:00         125010   \n",
       "3       2021-03-29 00:00:00         125010   \n",
       "4       2021-04-03 00:00:00         125404   \n",
       "...                     ...            ...   \n",
       "293816  2021-08-15 00:00:00         125100   \n",
       "293817            Sin Datos      Sin Datos   \n",
       "293818            Sin Datos      Sin Datos   \n",
       "293819            Sin Datos      Sin Datos   \n",
       "293820            Sin Datos      Sin Datos   \n",
       "\n",
       "                                nombre_institucion_indice  \\\n",
       "0                           Hospital Regional (Coihaique)   \n",
       "1                           Hospital Regional (Coihaique)   \n",
       "2       Actividades gestionadas por la Dirección del S...   \n",
       "3       Actividades gestionadas por la Dirección del S...   \n",
       "4                         Posta de Salud Rural Lago Verde   \n",
       "...                                                   ...   \n",
       "293816                      Hospital Regional (Coihaique)   \n",
       "293817                                          Sin Datos   \n",
       "293818                                          Sin Datos   \n",
       "293819                                          Sin Datos   \n",
       "293820                                          Sin Datos   \n",
       "\n",
       "       region_institucion_indice  ... cumple_aislamiento_cuarentena  \\\n",
       "0                             11  ...                             t   \n",
       "1                             11  ...                             t   \n",
       "2                             11  ...                             t   \n",
       "3                             11  ...                             t   \n",
       "4                             11  ...                             t   \n",
       "...                          ...  ...                           ...   \n",
       "293816                        11  ...                             t   \n",
       "293817                 Sin Datos  ...                     Sin Datos   \n",
       "293818                 Sin Datos  ...                     Sin Datos   \n",
       "293819                 Sin Datos  ...                     Sin Datos   \n",
       "293820                 Sin Datos  ...                     Sin Datos   \n",
       "\n",
       "       ultimo_establecimiento_derivacion  \\\n",
       "0                              Sin Datos   \n",
       "1                              Sin Datos   \n",
       "2                              Sin Datos   \n",
       "3                              Sin Datos   \n",
       "4                              Sin Datos   \n",
       "...                                  ...   \n",
       "293816                            125300   \n",
       "293817                         Sin Datos   \n",
       "293818                         Sin Datos   \n",
       "293819                         Sin Datos   \n",
       "293820                         Sin Datos   \n",
       "\n",
       "       nombre_ultimo_establecimiento_derivacion ultimo_seremi_derivacion  \\\n",
       "0                                     Sin Datos                Sin Datos   \n",
       "1                                     Sin Datos                Sin Datos   \n",
       "2                                     Sin Datos                Sin Datos   \n",
       "3                                     Sin Datos                Sin Datos   \n",
       "4                                     Sin Datos                Sin Datos   \n",
       "...                                         ...                      ...   \n",
       "293816         Consultorio Víctor Domingo Silva                Sin Datos   \n",
       "293817                                Sin Datos                Sin Datos   \n",
       "293818                                Sin Datos                Sin Datos   \n",
       "293819                                Sin Datos                Sin Datos   \n",
       "293820                                Sin Datos                Sin Datos   \n",
       "\n",
       "                                        región_derivación región_seremi  \\\n",
       "0                                               Sin Datos     Sin Datos   \n",
       "1                                               Sin Datos     Sin Datos   \n",
       "2                                               Sin Datos     Sin Datos   \n",
       "3                                               Sin Datos     Sin Datos   \n",
       "4                                               Sin Datos     Sin Datos   \n",
       "...                                                   ...           ...   \n",
       "293816  Región De Aysén del General Carlos Ibañez del ...     Sin Datos   \n",
       "293817                                          Sin Datos     Sin Datos   \n",
       "293818                                          Sin Datos     Sin Datos   \n",
       "293819                                          Sin Datos     Sin Datos   \n",
       "293820                                          Sin Datos     Sin Datos   \n",
       "\n",
       "                                      región_notificacion  \\\n",
       "0       Región De Aysén del General Carlos Ibañez del ...   \n",
       "1       Región De Aysén del General Carlos Ibañez del ...   \n",
       "2       Región De Aysén del General Carlos Ibañez del ...   \n",
       "3       Región De Aysén del General Carlos Ibañez del ...   \n",
       "4       Región De Aysén del General Carlos Ibañez del ...   \n",
       "...                                                   ...   \n",
       "293816  Región De Aysén del General Carlos Ibañez del ...   \n",
       "293817                                          Sin Datos   \n",
       "293818                                          Sin Datos   \n",
       "293819                                          Sin Datos   \n",
       "293820                                          Sin Datos   \n",
       "\n",
       "                                             region_final     TTA    file  \n",
       "0       Región de Aysén del General Carlos Ibáñez del ...  SEREMI   marzo  \n",
       "1       Región de Aysén del General Carlos Ibáñez del ...     APS   marzo  \n",
       "2       Región de Aysén del General Carlos Ibáñez del ...  SEREMI   marzo  \n",
       "3       Región de Aysén del General Carlos Ibáñez del ...  SEREMI   marzo  \n",
       "4       Región de Aysén del General Carlos Ibáñez del ...  SEREMI   marzo  \n",
       "...                                                   ...     ...     ...  \n",
       "293816  Región de Aysén del General Carlos Ibáñez del ...     APS  agosto  \n",
       "293817  Región de Aysén del General Carlos Ibáñez del ...  SEREMI  agosto  \n",
       "293818  Región de Aysén del General Carlos Ibáñez del ...  SEREMI  agosto  \n",
       "293819  Región de Aysén del General Carlos Ibáñez del ...  SEREMI  agosto  \n",
       "293820  Región de Aysén del General Carlos Ibáñez del ...  SEREMI  agosto  \n",
       "\n",
       "[293821 rows x 86 columns]"
      ]
     },
     "execution_count": 17,
     "metadata": {},
     "output_type": "execute_result"
    }
   ],
   "source": [
    "df_seguimiento"
   ]
  },
  {
   "cell_type": "code",
   "execution_count": 18,
   "id": "de0f4f44",
   "metadata": {},
   "outputs": [
    {
     "data": {
      "text/html": [
       "<div>\n",
       "<style scoped>\n",
       "    .dataframe tbody tr th:only-of-type {\n",
       "        vertical-align: middle;\n",
       "    }\n",
       "\n",
       "    .dataframe tbody tr th {\n",
       "        vertical-align: top;\n",
       "    }\n",
       "\n",
       "    .dataframe thead th {\n",
       "        text-align: right;\n",
       "    }\n",
       "</style>\n",
       "<table border=\"1\" class=\"dataframe\">\n",
       "  <thead>\n",
       "    <tr style=\"text-align: right;\">\n",
       "      <th></th>\n",
       "      <th>nfolio_caso</th>\n",
       "      <th>nfolio_caso_indice</th>\n",
       "      <th>nfolio_pntm</th>\n",
       "    </tr>\n",
       "  </thead>\n",
       "  <tbody>\n",
       "    <tr>\n",
       "      <th>0</th>\n",
       "      <td>8753781</td>\n",
       "      <td>NaN</td>\n",
       "      <td>NaN</td>\n",
       "    </tr>\n",
       "    <tr>\n",
       "      <th>1</th>\n",
       "      <td>NaN</td>\n",
       "      <td>11425750</td>\n",
       "      <td>NaN</td>\n",
       "    </tr>\n",
       "    <tr>\n",
       "      <th>2</th>\n",
       "      <td>NaN</td>\n",
       "      <td>11714657</td>\n",
       "      <td>NaN</td>\n",
       "    </tr>\n",
       "    <tr>\n",
       "      <th>3</th>\n",
       "      <td>NaN</td>\n",
       "      <td>11964234</td>\n",
       "      <td>NaN</td>\n",
       "    </tr>\n",
       "    <tr>\n",
       "      <th>4</th>\n",
       "      <td>NaN</td>\n",
       "      <td>12293320</td>\n",
       "      <td>NaN</td>\n",
       "    </tr>\n",
       "    <tr>\n",
       "      <th>...</th>\n",
       "      <td>...</td>\n",
       "      <td>...</td>\n",
       "      <td>...</td>\n",
       "    </tr>\n",
       "    <tr>\n",
       "      <th>293816</th>\n",
       "      <td>NaN</td>\n",
       "      <td>20188901</td>\n",
       "      <td>NaN</td>\n",
       "    </tr>\n",
       "    <tr>\n",
       "      <th>293817</th>\n",
       "      <td>NaN</td>\n",
       "      <td>NaN</td>\n",
       "      <td>7016056768</td>\n",
       "    </tr>\n",
       "    <tr>\n",
       "      <th>293818</th>\n",
       "      <td>NaN</td>\n",
       "      <td>NaN</td>\n",
       "      <td>7015472903</td>\n",
       "    </tr>\n",
       "    <tr>\n",
       "      <th>293819</th>\n",
       "      <td>NaN</td>\n",
       "      <td>NaN</td>\n",
       "      <td>7015314831</td>\n",
       "    </tr>\n",
       "    <tr>\n",
       "      <th>293820</th>\n",
       "      <td>NaN</td>\n",
       "      <td>NaN</td>\n",
       "      <td>7016230035</td>\n",
       "    </tr>\n",
       "  </tbody>\n",
       "</table>\n",
       "<p>293821 rows × 3 columns</p>\n",
       "</div>"
      ],
      "text/plain": [
       "       nfolio_caso nfolio_caso_indice nfolio_pntm\n",
       "0          8753781                NaN         NaN\n",
       "1              NaN           11425750         NaN\n",
       "2              NaN           11714657         NaN\n",
       "3              NaN           11964234         NaN\n",
       "4              NaN           12293320         NaN\n",
       "...            ...                ...         ...\n",
       "293816         NaN           20188901         NaN\n",
       "293817         NaN                NaN  7016056768\n",
       "293818         NaN                NaN  7015472903\n",
       "293819         NaN                NaN  7015314831\n",
       "293820         NaN                NaN  7016230035\n",
       "\n",
       "[293821 rows x 3 columns]"
      ]
     },
     "execution_count": 18,
     "metadata": {},
     "output_type": "execute_result"
    }
   ],
   "source": [
    "# Divide strings utilizando regex para extraer nfolio de casos, \n",
    "# Separa nfolio caso indice de nfolio contacto estrecho y guarda caso índice\n",
    "# Y extrae datos de PNTM\n",
    "\n",
    "df_seguimiento['n_folio'].str.extract(r'([0-9]+)|SC[0-9]+-([0-9]+)|PNTM-([0-9]+)', flags=0,expand=True).rename(columns={0:'nfolio_caso',\n",
    "                                                                                                          1:'nfolio_caso_indice',\n",
    "                                                                                                          2:'nfolio_pntm'\n",
    "                                                                                                        })"
   ]
  },
  {
   "cell_type": "code",
   "execution_count": 19,
   "id": "7ce66d17",
   "metadata": {},
   "outputs": [
    {
     "data": {
      "text/html": [
       "<div>\n",
       "<style scoped>\n",
       "    .dataframe tbody tr th:only-of-type {\n",
       "        vertical-align: middle;\n",
       "    }\n",
       "\n",
       "    .dataframe tbody tr th {\n",
       "        vertical-align: top;\n",
       "    }\n",
       "\n",
       "    .dataframe thead th {\n",
       "        text-align: right;\n",
       "    }\n",
       "</style>\n",
       "<table border=\"1\" class=\"dataframe\">\n",
       "  <thead>\n",
       "    <tr style=\"text-align: right;\">\n",
       "      <th></th>\n",
       "      <th>nfolio_contacto_estrecho</th>\n",
       "    </tr>\n",
       "  </thead>\n",
       "  <tbody>\n",
       "    <tr>\n",
       "      <th>0</th>\n",
       "      <td>NaN</td>\n",
       "    </tr>\n",
       "    <tr>\n",
       "      <th>1</th>\n",
       "      <td>9677760</td>\n",
       "    </tr>\n",
       "    <tr>\n",
       "      <th>2</th>\n",
       "      <td>9780675</td>\n",
       "    </tr>\n",
       "    <tr>\n",
       "      <th>3</th>\n",
       "      <td>10084431</td>\n",
       "    </tr>\n",
       "    <tr>\n",
       "      <th>4</th>\n",
       "      <td>10332193</td>\n",
       "    </tr>\n",
       "    <tr>\n",
       "      <th>...</th>\n",
       "      <td>...</td>\n",
       "    </tr>\n",
       "    <tr>\n",
       "      <th>293816</th>\n",
       "      <td>16034389</td>\n",
       "    </tr>\n",
       "    <tr>\n",
       "      <th>293817</th>\n",
       "      <td>NaN</td>\n",
       "    </tr>\n",
       "    <tr>\n",
       "      <th>293818</th>\n",
       "      <td>NaN</td>\n",
       "    </tr>\n",
       "    <tr>\n",
       "      <th>293819</th>\n",
       "      <td>NaN</td>\n",
       "    </tr>\n",
       "    <tr>\n",
       "      <th>293820</th>\n",
       "      <td>NaN</td>\n",
       "    </tr>\n",
       "  </tbody>\n",
       "</table>\n",
       "<p>293821 rows × 1 columns</p>\n",
       "</div>"
      ],
      "text/plain": [
       "       nfolio_contacto_estrecho\n",
       "0                           NaN\n",
       "1                       9677760\n",
       "2                       9780675\n",
       "3                      10084431\n",
       "4                      10332193\n",
       "...                         ...\n",
       "293816                 16034389\n",
       "293817                      NaN\n",
       "293818                      NaN\n",
       "293819                      NaN\n",
       "293820                      NaN\n",
       "\n",
       "[293821 rows x 1 columns]"
      ]
     },
     "execution_count": 19,
     "metadata": {},
     "output_type": "execute_result"
    }
   ],
   "source": [
    "# Separa nfolio caso índice de nfolio contacto estrecho y guarda contacto estrecho\n",
    "\n",
    "df_seguimiento['n_folio'].str.extract(r'SC([0-9]+)-', \n",
    "                                      flags=0,\n",
    "                                      expand=True).rename(\n",
    "                                      columns={0:'nfolio_contacto_estrecho'})"
   ]
  },
  {
   "cell_type": "code",
   "execution_count": 20,
   "id": "57251f44",
   "metadata": {},
   "outputs": [
    {
     "data": {
      "text/html": [
       "<div>\n",
       "<style scoped>\n",
       "    .dataframe tbody tr th:only-of-type {\n",
       "        vertical-align: middle;\n",
       "    }\n",
       "\n",
       "    .dataframe tbody tr th {\n",
       "        vertical-align: top;\n",
       "    }\n",
       "\n",
       "    .dataframe thead th {\n",
       "        text-align: right;\n",
       "    }\n",
       "</style>\n",
       "<table border=\"1\" class=\"dataframe\">\n",
       "  <thead>\n",
       "    <tr style=\"text-align: right;\">\n",
       "      <th></th>\n",
       "      <th>Unnamed: 0</th>\n",
       "      <th>n_folio</th>\n",
       "      <th>tipo_seguimiento</th>\n",
       "      <th>dia_contacto</th>\n",
       "      <th>id_enfermedad_eno</th>\n",
       "      <th>enfermedad</th>\n",
       "      <th>fecha_notificacion</th>\n",
       "      <th>id_institucion</th>\n",
       "      <th>nombre_institucion_indice</th>\n",
       "      <th>region_institucion_indice</th>\n",
       "      <th>...</th>\n",
       "      <th>región_derivación</th>\n",
       "      <th>región_seremi</th>\n",
       "      <th>región_notificacion</th>\n",
       "      <th>region_final</th>\n",
       "      <th>TTA</th>\n",
       "      <th>file</th>\n",
       "      <th>nfolio_caso</th>\n",
       "      <th>nfolio_caso_indice</th>\n",
       "      <th>nfolio_pntm</th>\n",
       "      <th>nfolio_contacto_estrecho</th>\n",
       "    </tr>\n",
       "  </thead>\n",
       "  <tbody>\n",
       "    <tr>\n",
       "      <th>155544</th>\n",
       "      <td>155567</td>\n",
       "      <td>14554539</td>\n",
       "      <td>caso</td>\n",
       "      <td>Sin Datos</td>\n",
       "      <td>50</td>\n",
       "      <td>Coronavirus (COVID-19)</td>\n",
       "      <td>2021-07-04 00:00:00</td>\n",
       "      <td>125101</td>\n",
       "      <td>Hospital de Puerto Aysén</td>\n",
       "      <td>11</td>\n",
       "      <td>...</td>\n",
       "      <td>Sin Datos</td>\n",
       "      <td>Sin Datos</td>\n",
       "      <td>Región De Aysén del General Carlos Ibañez del ...</td>\n",
       "      <td>Región de Aysén del General Carlos Ibáñez del ...</td>\n",
       "      <td>APS</td>\n",
       "      <td>junio</td>\n",
       "      <td>14554539</td>\n",
       "      <td>NaN</td>\n",
       "      <td>NaN</td>\n",
       "      <td>NaN</td>\n",
       "    </tr>\n",
       "    <tr>\n",
       "      <th>139352</th>\n",
       "      <td>139373</td>\n",
       "      <td>12482259</td>\n",
       "      <td>caso</td>\n",
       "      <td>2021-05-25 00:00:00</td>\n",
       "      <td>50</td>\n",
       "      <td>Coronavirus (COVID-19)</td>\n",
       "      <td>2021-05-19 00:00:00</td>\n",
       "      <td>125102</td>\n",
       "      <td>Hospital Dr. Leopoldo Ortega R. (Chile Chico)</td>\n",
       "      <td>11</td>\n",
       "      <td>...</td>\n",
       "      <td>Sin Datos</td>\n",
       "      <td>Sin Datos</td>\n",
       "      <td>Región De Aysén del General Carlos Ibañez del ...</td>\n",
       "      <td>Región de Aysén del General Carlos Ibáñez del ...</td>\n",
       "      <td>SEREMI</td>\n",
       "      <td>mayo</td>\n",
       "      <td>12482259</td>\n",
       "      <td>NaN</td>\n",
       "      <td>NaN</td>\n",
       "      <td>NaN</td>\n",
       "    </tr>\n",
       "    <tr>\n",
       "      <th>87827</th>\n",
       "      <td>87845</td>\n",
       "      <td>10547247</td>\n",
       "      <td>caso</td>\n",
       "      <td>Sin Datos</td>\n",
       "      <td>50</td>\n",
       "      <td>Coronavirus (COVID-19)</td>\n",
       "      <td>2021-04-07 00:00:00</td>\n",
       "      <td>11</td>\n",
       "      <td>Ejercicio libre de la profesión XI región</td>\n",
       "      <td>11</td>\n",
       "      <td>...</td>\n",
       "      <td>Sin Datos</td>\n",
       "      <td>Sin Datos</td>\n",
       "      <td>Sin Datos</td>\n",
       "      <td>Región de Aysén del General Carlos Ibáñez del ...</td>\n",
       "      <td>APS</td>\n",
       "      <td>mayo</td>\n",
       "      <td>10547247</td>\n",
       "      <td>NaN</td>\n",
       "      <td>NaN</td>\n",
       "      <td>NaN</td>\n",
       "    </tr>\n",
       "  </tbody>\n",
       "</table>\n",
       "<p>3 rows × 90 columns</p>\n",
       "</div>"
      ],
      "text/plain": [
       "        Unnamed: 0   n_folio tipo_seguimiento         dia_contacto  \\\n",
       "155544      155567  14554539             caso            Sin Datos   \n",
       "139352      139373  12482259             caso  2021-05-25 00:00:00   \n",
       "87827        87845  10547247             caso            Sin Datos   \n",
       "\n",
       "        id_enfermedad_eno              enfermedad   fecha_notificacion  \\\n",
       "155544                 50  Coronavirus (COVID-19)  2021-07-04 00:00:00   \n",
       "139352                 50  Coronavirus (COVID-19)  2021-05-19 00:00:00   \n",
       "87827                  50  Coronavirus (COVID-19)  2021-04-07 00:00:00   \n",
       "\n",
       "       id_institucion                      nombre_institucion_indice  \\\n",
       "155544         125101                       Hospital de Puerto Aysén   \n",
       "139352         125102  Hospital Dr. Leopoldo Ortega R. (Chile Chico)   \n",
       "87827              11      Ejercicio libre de la profesión XI región   \n",
       "\n",
       "       region_institucion_indice  ... región_derivación región_seremi  \\\n",
       "155544                        11  ...         Sin Datos     Sin Datos   \n",
       "139352                        11  ...         Sin Datos     Sin Datos   \n",
       "87827                         11  ...         Sin Datos     Sin Datos   \n",
       "\n",
       "                                      región_notificacion  \\\n",
       "155544  Región De Aysén del General Carlos Ibañez del ...   \n",
       "139352  Región De Aysén del General Carlos Ibañez del ...   \n",
       "87827                                           Sin Datos   \n",
       "\n",
       "                                             region_final     TTA   file  \\\n",
       "155544  Región de Aysén del General Carlos Ibáñez del ...     APS  junio   \n",
       "139352  Región de Aysén del General Carlos Ibáñez del ...  SEREMI   mayo   \n",
       "87827   Región de Aysén del General Carlos Ibáñez del ...     APS   mayo   \n",
       "\n",
       "       nfolio_caso nfolio_caso_indice nfolio_pntm nfolio_contacto_estrecho  \n",
       "155544    14554539                NaN         NaN                      NaN  \n",
       "139352    12482259                NaN         NaN                      NaN  \n",
       "87827     10547247                NaN         NaN                      NaN  \n",
       "\n",
       "[3 rows x 90 columns]"
      ]
     },
     "execution_count": 20,
     "metadata": {},
     "output_type": "execute_result"
    }
   ],
   "source": [
    "# Realiza merge con DF original utilizando index de importación\n",
    "df_seguimiento_merged = df_seguimiento.merge(df_seguimiento['n_folio'].str.extract(\n",
    "                                                 r'([0-9]+)|SC[0-9]+-([0-9]+)|PNTM-([0-9]+)', \n",
    "                                                 flags=0,\n",
    "                                                 expand=True).rename(\n",
    "                                                 columns={0:'nfolio_caso',\n",
    "                                                          1:'nfolio_caso_indice',\n",
    "                                                          2:'nfolio_pntm'}), \n",
    "                                             how='left',\n",
    "                                             left_index= True,\n",
    "                                             right_index=True\n",
    "                                      ).merge(df_seguimiento['n_folio'].str.extract(\n",
    "                                                                 r'SC([0-9]+)-', \n",
    "                                                                 flags=0,\n",
    "                                                                 expand=True).rename(\n",
    "                                                                 columns={0:'nfolio_contacto_estrecho'}), \n",
    "                                                                 how='left',\n",
    "                                                                 left_index= True,\n",
    "                                                                 right_index=True\n",
    "                                      )\n",
    "\n",
    "df_seguimiento_merged.sample(3)"
   ]
  },
  {
   "cell_type": "code",
   "execution_count": 21,
   "id": "5ddbf1da",
   "metadata": {},
   "outputs": [
    {
     "data": {
      "text/html": [
       "<div>\n",
       "<style scoped>\n",
       "    .dataframe tbody tr th:only-of-type {\n",
       "        vertical-align: middle;\n",
       "    }\n",
       "\n",
       "    .dataframe tbody tr th {\n",
       "        vertical-align: top;\n",
       "    }\n",
       "\n",
       "    .dataframe thead th {\n",
       "        text-align: right;\n",
       "    }\n",
       "</style>\n",
       "<table border=\"1\" class=\"dataframe\">\n",
       "  <thead>\n",
       "    <tr style=\"text-align: right;\">\n",
       "      <th></th>\n",
       "      <th>Unnamed: 0</th>\n",
       "      <th>n_folio</th>\n",
       "      <th>tipo_seguimiento</th>\n",
       "      <th>dia_contacto</th>\n",
       "      <th>id_enfermedad_eno</th>\n",
       "      <th>enfermedad</th>\n",
       "      <th>fecha_notificacion</th>\n",
       "      <th>id_institucion</th>\n",
       "      <th>nombre_institucion_indice</th>\n",
       "      <th>region_institucion_indice</th>\n",
       "      <th>...</th>\n",
       "      <th>región_derivación</th>\n",
       "      <th>región_seremi</th>\n",
       "      <th>región_notificacion</th>\n",
       "      <th>region_final</th>\n",
       "      <th>TTA</th>\n",
       "      <th>file</th>\n",
       "      <th>nfolio_caso</th>\n",
       "      <th>nfolio_caso_indice</th>\n",
       "      <th>nfolio_pntm</th>\n",
       "      <th>nfolio_contacto_estrecho</th>\n",
       "    </tr>\n",
       "  </thead>\n",
       "  <tbody>\n",
       "    <tr>\n",
       "      <th>0</th>\n",
       "      <td>0</td>\n",
       "      <td>8753781</td>\n",
       "      <td>caso</td>\n",
       "      <td>2021-03-02 00:00:00</td>\n",
       "      <td>50</td>\n",
       "      <td>Coronavirus (COVID-19)</td>\n",
       "      <td>2021-03-01 00:00:00</td>\n",
       "      <td>125100</td>\n",
       "      <td>Hospital Regional (Coihaique)</td>\n",
       "      <td>11</td>\n",
       "      <td>...</td>\n",
       "      <td>Sin Datos</td>\n",
       "      <td>Sin Datos</td>\n",
       "      <td>Región De Aysén del General Carlos Ibañez del ...</td>\n",
       "      <td>Región de Aysén del General Carlos Ibáñez del ...</td>\n",
       "      <td>SEREMI</td>\n",
       "      <td>marzo</td>\n",
       "      <td>8753781</td>\n",
       "      <td>NaN</td>\n",
       "      <td>NaN</td>\n",
       "      <td>NaN</td>\n",
       "    </tr>\n",
       "    <tr>\n",
       "      <th>1</th>\n",
       "      <td>1</td>\n",
       "      <td>SC9677760-11425750</td>\n",
       "      <td>contacto</td>\n",
       "      <td>2021-03-25 00:00:00</td>\n",
       "      <td>50</td>\n",
       "      <td>Coronavirus (COVID-19)</td>\n",
       "      <td>2021-03-20 00:00:00</td>\n",
       "      <td>125100</td>\n",
       "      <td>Hospital Regional (Coihaique)</td>\n",
       "      <td>11</td>\n",
       "      <td>...</td>\n",
       "      <td>Sin Datos</td>\n",
       "      <td>Sin Datos</td>\n",
       "      <td>Región De Aysén del General Carlos Ibañez del ...</td>\n",
       "      <td>Región de Aysén del General Carlos Ibáñez del ...</td>\n",
       "      <td>APS</td>\n",
       "      <td>marzo</td>\n",
       "      <td>NaN</td>\n",
       "      <td>11425750</td>\n",
       "      <td>NaN</td>\n",
       "      <td>9677760</td>\n",
       "    </tr>\n",
       "    <tr>\n",
       "      <th>2</th>\n",
       "      <td>2</td>\n",
       "      <td>SC9780675-11714657</td>\n",
       "      <td>contacto</td>\n",
       "      <td>2021-03-29 00:00:00</td>\n",
       "      <td>50</td>\n",
       "      <td>Coronavirus (COVID-19)</td>\n",
       "      <td>2021-03-23 00:00:00</td>\n",
       "      <td>125010</td>\n",
       "      <td>Actividades gestionadas por la Dirección del S...</td>\n",
       "      <td>11</td>\n",
       "      <td>...</td>\n",
       "      <td>Sin Datos</td>\n",
       "      <td>Sin Datos</td>\n",
       "      <td>Región De Aysén del General Carlos Ibañez del ...</td>\n",
       "      <td>Región de Aysén del General Carlos Ibáñez del ...</td>\n",
       "      <td>SEREMI</td>\n",
       "      <td>marzo</td>\n",
       "      <td>NaN</td>\n",
       "      <td>11714657</td>\n",
       "      <td>NaN</td>\n",
       "      <td>9780675</td>\n",
       "    </tr>\n",
       "    <tr>\n",
       "      <th>3</th>\n",
       "      <td>3</td>\n",
       "      <td>SC10084431-11964234</td>\n",
       "      <td>contacto</td>\n",
       "      <td>2021-03-29 00:00:00</td>\n",
       "      <td>50</td>\n",
       "      <td>Coronavirus (COVID-19)</td>\n",
       "      <td>2021-03-29 00:00:00</td>\n",
       "      <td>125010</td>\n",
       "      <td>Actividades gestionadas por la Dirección del S...</td>\n",
       "      <td>11</td>\n",
       "      <td>...</td>\n",
       "      <td>Sin Datos</td>\n",
       "      <td>Sin Datos</td>\n",
       "      <td>Región De Aysén del General Carlos Ibañez del ...</td>\n",
       "      <td>Región de Aysén del General Carlos Ibáñez del ...</td>\n",
       "      <td>SEREMI</td>\n",
       "      <td>marzo</td>\n",
       "      <td>NaN</td>\n",
       "      <td>11964234</td>\n",
       "      <td>NaN</td>\n",
       "      <td>10084431</td>\n",
       "    </tr>\n",
       "    <tr>\n",
       "      <th>4</th>\n",
       "      <td>4</td>\n",
       "      <td>SC10332193-12293320</td>\n",
       "      <td>contacto</td>\n",
       "      <td>2021-04-04 00:00:00</td>\n",
       "      <td>50</td>\n",
       "      <td>Coronavirus (COVID-19)</td>\n",
       "      <td>2021-04-03 00:00:00</td>\n",
       "      <td>125404</td>\n",
       "      <td>Posta de Salud Rural Lago Verde</td>\n",
       "      <td>11</td>\n",
       "      <td>...</td>\n",
       "      <td>Sin Datos</td>\n",
       "      <td>Sin Datos</td>\n",
       "      <td>Región De Aysén del General Carlos Ibañez del ...</td>\n",
       "      <td>Región de Aysén del General Carlos Ibáñez del ...</td>\n",
       "      <td>SEREMI</td>\n",
       "      <td>marzo</td>\n",
       "      <td>NaN</td>\n",
       "      <td>12293320</td>\n",
       "      <td>NaN</td>\n",
       "      <td>10332193</td>\n",
       "    </tr>\n",
       "  </tbody>\n",
       "</table>\n",
       "<p>5 rows × 90 columns</p>\n",
       "</div>"
      ],
      "text/plain": [
       "   Unnamed: 0              n_folio tipo_seguimiento         dia_contacto  \\\n",
       "0           0              8753781             caso  2021-03-02 00:00:00   \n",
       "1           1   SC9677760-11425750         contacto  2021-03-25 00:00:00   \n",
       "2           2   SC9780675-11714657         contacto  2021-03-29 00:00:00   \n",
       "3           3  SC10084431-11964234         contacto  2021-03-29 00:00:00   \n",
       "4           4  SC10332193-12293320         contacto  2021-04-04 00:00:00   \n",
       "\n",
       "   id_enfermedad_eno              enfermedad   fecha_notificacion  \\\n",
       "0                 50  Coronavirus (COVID-19)  2021-03-01 00:00:00   \n",
       "1                 50  Coronavirus (COVID-19)  2021-03-20 00:00:00   \n",
       "2                 50  Coronavirus (COVID-19)  2021-03-23 00:00:00   \n",
       "3                 50  Coronavirus (COVID-19)  2021-03-29 00:00:00   \n",
       "4                 50  Coronavirus (COVID-19)  2021-04-03 00:00:00   \n",
       "\n",
       "  id_institucion                          nombre_institucion_indice  \\\n",
       "0         125100                      Hospital Regional (Coihaique)   \n",
       "1         125100                      Hospital Regional (Coihaique)   \n",
       "2         125010  Actividades gestionadas por la Dirección del S...   \n",
       "3         125010  Actividades gestionadas por la Dirección del S...   \n",
       "4         125404                    Posta de Salud Rural Lago Verde   \n",
       "\n",
       "  region_institucion_indice  ... región_derivación región_seremi  \\\n",
       "0                        11  ...         Sin Datos     Sin Datos   \n",
       "1                        11  ...         Sin Datos     Sin Datos   \n",
       "2                        11  ...         Sin Datos     Sin Datos   \n",
       "3                        11  ...         Sin Datos     Sin Datos   \n",
       "4                        11  ...         Sin Datos     Sin Datos   \n",
       "\n",
       "                                 región_notificacion  \\\n",
       "0  Región De Aysén del General Carlos Ibañez del ...   \n",
       "1  Región De Aysén del General Carlos Ibañez del ...   \n",
       "2  Región De Aysén del General Carlos Ibañez del ...   \n",
       "3  Región De Aysén del General Carlos Ibañez del ...   \n",
       "4  Región De Aysén del General Carlos Ibañez del ...   \n",
       "\n",
       "                                        region_final     TTA   file  \\\n",
       "0  Región de Aysén del General Carlos Ibáñez del ...  SEREMI  marzo   \n",
       "1  Región de Aysén del General Carlos Ibáñez del ...     APS  marzo   \n",
       "2  Región de Aysén del General Carlos Ibáñez del ...  SEREMI  marzo   \n",
       "3  Región de Aysén del General Carlos Ibáñez del ...  SEREMI  marzo   \n",
       "4  Región de Aysén del General Carlos Ibáñez del ...  SEREMI  marzo   \n",
       "\n",
       "  nfolio_caso nfolio_caso_indice nfolio_pntm nfolio_contacto_estrecho  \n",
       "0     8753781                NaN         NaN                      NaN  \n",
       "1         NaN           11425750         NaN                  9677760  \n",
       "2         NaN           11714657         NaN                  9780675  \n",
       "3         NaN           11964234         NaN                 10084431  \n",
       "4         NaN           12293320         NaN                 10332193  \n",
       "\n",
       "[5 rows x 90 columns]"
      ]
     },
     "execution_count": 21,
     "metadata": {},
     "output_type": "execute_result"
    }
   ],
   "source": [
    "df_seguimiento_merged.head()"
   ]
  },
  {
   "cell_type": "code",
   "execution_count": 22,
   "id": "603a30be",
   "metadata": {},
   "outputs": [
    {
     "data": {
      "text/html": [
       "<div>\n",
       "<style scoped>\n",
       "    .dataframe tbody tr th:only-of-type {\n",
       "        vertical-align: middle;\n",
       "    }\n",
       "\n",
       "    .dataframe tbody tr th {\n",
       "        vertical-align: top;\n",
       "    }\n",
       "\n",
       "    .dataframe thead th {\n",
       "        text-align: right;\n",
       "    }\n",
       "</style>\n",
       "<table border=\"1\" class=\"dataframe\">\n",
       "  <thead>\n",
       "    <tr style=\"text-align: right;\">\n",
       "      <th></th>\n",
       "      <th>numero_folio</th>\n",
       "      <th>comuna_residencia</th>\n",
       "      <th>fecha_notificacion</th>\n",
       "      <th>semana_epidemiologica</th>\n",
       "      <th>etapa_clinica</th>\n",
       "      <th>tipo_caso_busqueda</th>\n",
       "      <th>establecimiento_salud</th>\n",
       "      <th>resultado_pcr_1</th>\n",
       "      <th>resultado_pcr_2</th>\n",
       "      <th>resultado_pcr_3</th>\n",
       "      <th>...</th>\n",
       "      <th>caso_cerrado</th>\n",
       "      <th>fecha_primeros_sintomas</th>\n",
       "      <th>fecha_diagnostico</th>\n",
       "      <th>comuna_seremi_xi</th>\n",
       "      <th>provincia_seremi_xi</th>\n",
       "      <th>sexo</th>\n",
       "      <th>edad</th>\n",
       "      <th>pop_hombres</th>\n",
       "      <th>pop_mujeres</th>\n",
       "      <th>pop_total</th>\n",
       "    </tr>\n",
       "  </thead>\n",
       "  <tbody>\n",
       "    <tr>\n",
       "      <th>137274</th>\n",
       "      <td>14832232</td>\n",
       "      <td>Coyhaique</td>\n",
       "      <td>2021-07-11</td>\n",
       "      <td>28</td>\n",
       "      <td>CONFIRMADA</td>\n",
       "      <td>Atención médica</td>\n",
       "      <td>Hospital Regional (Coihaique)</td>\n",
       "      <td>NEGATIVO</td>\n",
       "      <td>POSITIVO</td>\n",
       "      <td>NaN</td>\n",
       "      <td>...</td>\n",
       "      <td>False</td>\n",
       "      <td>2021-07-09</td>\n",
       "      <td>2021-07-12</td>\n",
       "      <td>Coyhaique</td>\n",
       "      <td>Coyhaique</td>\n",
       "      <td>mujer</td>\n",
       "      <td>47</td>\n",
       "      <td>28763.0</td>\n",
       "      <td>29055.0</td>\n",
       "      <td>57818.0</td>\n",
       "    </tr>\n",
       "  </tbody>\n",
       "</table>\n",
       "<p>1 rows × 34 columns</p>\n",
       "</div>"
      ],
      "text/plain": [
       "        numero_folio comuna_residencia fecha_notificacion  \\\n",
       "137274      14832232         Coyhaique         2021-07-11   \n",
       "\n",
       "        semana_epidemiologica etapa_clinica tipo_caso_busqueda  \\\n",
       "137274                     28    CONFIRMADA    Atención médica   \n",
       "\n",
       "                establecimiento_salud resultado_pcr_1 resultado_pcr_2  \\\n",
       "137274  Hospital Regional (Coihaique)        NEGATIVO        POSITIVO   \n",
       "\n",
       "        resultado_pcr_3  ... caso_cerrado fecha_primeros_sintomas  \\\n",
       "137274              NaN  ...        False              2021-07-09   \n",
       "\n",
       "       fecha_diagnostico comuna_seremi_xi provincia_seremi_xi   sexo edad  \\\n",
       "137274        2021-07-12        Coyhaique           Coyhaique  mujer   47   \n",
       "\n",
       "       pop_hombres pop_mujeres pop_total  \n",
       "137274     28763.0     29055.0   57818.0  \n",
       "\n",
       "[1 rows x 34 columns]"
      ]
     },
     "execution_count": 22,
     "metadata": {},
     "output_type": "execute_result"
    }
   ],
   "source": [
    "# Revisa folio en DB de notificaciones\n",
    "\n",
    "data_aysen_clean[data_aysen_clean['numero_folio']==14832232]"
   ]
  },
  {
   "cell_type": "code",
   "execution_count": 23,
   "id": "711d55d2",
   "metadata": {},
   "outputs": [
    {
     "data": {
      "text/html": [
       "<div>\n",
       "<style scoped>\n",
       "    .dataframe tbody tr th:only-of-type {\n",
       "        vertical-align: middle;\n",
       "    }\n",
       "\n",
       "    .dataframe tbody tr th {\n",
       "        vertical-align: top;\n",
       "    }\n",
       "\n",
       "    .dataframe thead th {\n",
       "        text-align: right;\n",
       "    }\n",
       "</style>\n",
       "<table border=\"1\" class=\"dataframe\">\n",
       "  <thead>\n",
       "    <tr style=\"text-align: right;\">\n",
       "      <th></th>\n",
       "      <th>Unnamed: 0</th>\n",
       "      <th>n_folio</th>\n",
       "      <th>tipo_seguimiento</th>\n",
       "      <th>dia_contacto</th>\n",
       "      <th>id_enfermedad_eno</th>\n",
       "      <th>enfermedad</th>\n",
       "      <th>fecha_notificacion</th>\n",
       "      <th>id_institucion</th>\n",
       "      <th>nombre_institucion_indice</th>\n",
       "      <th>region_institucion_indice</th>\n",
       "      <th>...</th>\n",
       "      <th>región_derivación</th>\n",
       "      <th>región_seremi</th>\n",
       "      <th>región_notificacion</th>\n",
       "      <th>region_final</th>\n",
       "      <th>TTA</th>\n",
       "      <th>file</th>\n",
       "      <th>nfolio_caso</th>\n",
       "      <th>nfolio_caso_indice</th>\n",
       "      <th>nfolio_pntm</th>\n",
       "      <th>nfolio_contacto_estrecho</th>\n",
       "    </tr>\n",
       "  </thead>\n",
       "  <tbody>\n",
       "  </tbody>\n",
       "</table>\n",
       "<p>0 rows × 90 columns</p>\n",
       "</div>"
      ],
      "text/plain": [
       "Empty DataFrame\n",
       "Columns: [Unnamed: 0, n_folio, tipo_seguimiento, dia_contacto, id_enfermedad_eno, enfermedad, fecha_notificacion, id_institucion, nombre_institucion_indice, region_institucion_indice, nombre_region_institucion_indice, institucion_contacto, nombre_institucion_seguimiento, region, id_region, run_profesional, nombre_profesional, identificacion_paciente, n_identificacion_paciente, nombre_paciente, primer_apellido_paciente, fecha_cumple_requisitos, cont_tipo_identificacion, cont_n_identificacion, cont_nombres, cont_primer_apellido, cont_segundo_apellido, cont_sexo, cont_fecha_nacimiento, cont_edad, cont_tipo_direccion, cont_tipo_institucion, cont_via_residencia, cont_direccions, cont_n_residencia, cont_dpto, cont_poblacion, cont_region, cont_comuna, cont_n_telefono, cont_n_celular, cont_correo_electronico, cont_fecha_seguimiento, cont_tipo_contacto, cont_parentesco, cont_otra_relacion, empresa, institucion, cont_tipo_transporte, cont_nombre_vuelo, cont_fecha_llegada, detalle_pasajero, cont_inicio_cuarentena, cont_fin_cuarentena, cont_requiere_licencia_medica, cont_se_emite_licencia, cont_fecha_licencia, cont_rut_profesional_entrega_licencia, requiere_canasta_alimentos, cantidad_personas_vivienda, cont_estado_seguimiento, cont_observacion_seguimiento_contactos, fecha_creacion, tipo_del_contacto, contacto_localizado, nombre_usuario_responsable, rut_usuario_responsable, derivacion_toma_muestra, fecha_derivacion_toma_muestra, derivacion_a_su, tiene_resultado_covid, observacion_seguimiento_contactos, visible_no_eliminado, sintomas, suspendido, folio_se_convierte_en_caso, cumple_aislamiento_cuarentena, ultimo_establecimiento_derivacion, nombre_ultimo_establecimiento_derivacion, ultimo_seremi_derivacion, región_derivación, región_seremi, región_notificacion, region_final, TTA, file, nfolio_caso, nfolio_caso_indice, nfolio_pntm, nfolio_contacto_estrecho]\n",
       "Index: []\n",
       "\n",
       "[0 rows x 90 columns]"
      ]
     },
     "execution_count": 23,
     "metadata": {},
     "output_type": "execute_result"
    }
   ],
   "source": [
    "# Todos los datos poseen un folio \n",
    "\n",
    "df_seguimiento_merged[df_seguimiento_merged['n_folio'].isnull()]"
   ]
  },
  {
   "cell_type": "code",
   "execution_count": 24,
   "id": "715ff30b",
   "metadata": {},
   "outputs": [
    {
     "data": {
      "text/plain": [
       "Index(['Unnamed: 0', 'n_folio', 'tipo_seguimiento', 'dia_contacto',\n",
       "       'id_enfermedad_eno', 'enfermedad', 'fecha_notificacion',\n",
       "       'id_institucion', 'nombre_institucion_indice',\n",
       "       'region_institucion_indice', 'nombre_region_institucion_indice',\n",
       "       'institucion_contacto', 'nombre_institucion_seguimiento', 'region',\n",
       "       'id_region', 'run_profesional', 'nombre_profesional',\n",
       "       'identificacion_paciente', 'n_identificacion_paciente',\n",
       "       'nombre_paciente', 'primer_apellido_paciente',\n",
       "       'fecha_cumple_requisitos', 'cont_tipo_identificacion',\n",
       "       'cont_n_identificacion', 'cont_nombres', 'cont_primer_apellido',\n",
       "       'cont_segundo_apellido', 'cont_sexo', 'cont_fecha_nacimiento',\n",
       "       'cont_edad', 'cont_tipo_direccion', 'cont_tipo_institucion',\n",
       "       'cont_via_residencia', 'cont_direccions', 'cont_n_residencia',\n",
       "       'cont_dpto', 'cont_poblacion', 'cont_region', 'cont_comuna',\n",
       "       'cont_n_telefono', 'cont_n_celular', 'cont_correo_electronico',\n",
       "       'cont_fecha_seguimiento', 'cont_tipo_contacto', 'cont_parentesco',\n",
       "       'cont_otra_relacion', 'empresa', 'institucion', 'cont_tipo_transporte',\n",
       "       'cont_nombre_vuelo', 'cont_fecha_llegada', 'detalle_pasajero',\n",
       "       'cont_inicio_cuarentena', 'cont_fin_cuarentena',\n",
       "       'cont_requiere_licencia_medica', 'cont_se_emite_licencia',\n",
       "       'cont_fecha_licencia', 'cont_rut_profesional_entrega_licencia',\n",
       "       'requiere_canasta_alimentos', 'cantidad_personas_vivienda',\n",
       "       'cont_estado_seguimiento', 'cont_observacion_seguimiento_contactos',\n",
       "       'fecha_creacion', 'tipo_del_contacto', 'contacto_localizado',\n",
       "       'nombre_usuario_responsable', 'rut_usuario_responsable',\n",
       "       'derivacion_toma_muestra', 'fecha_derivacion_toma_muestra',\n",
       "       'derivacion_a_su', 'tiene_resultado_covid',\n",
       "       'observacion_seguimiento_contactos', 'visible_no_eliminado', 'sintomas',\n",
       "       'suspendido', 'folio_se_convierte_en_caso',\n",
       "       'cumple_aislamiento_cuarentena', 'ultimo_establecimiento_derivacion',\n",
       "       'nombre_ultimo_establecimiento_derivacion', 'ultimo_seremi_derivacion',\n",
       "       'región_derivación', 'región_seremi', 'región_notificacion',\n",
       "       'region_final', 'TTA', 'file', 'nfolio_caso', 'nfolio_caso_indice',\n",
       "       'nfolio_pntm', 'nfolio_contacto_estrecho'],\n",
       "      dtype='object')"
      ]
     },
     "execution_count": 24,
     "metadata": {},
     "output_type": "execute_result"
    }
   ],
   "source": [
    "df_seguimiento_merged.columns"
   ]
  },
  {
   "cell_type": "code",
   "execution_count": 25,
   "id": "93a8009c",
   "metadata": {},
   "outputs": [
    {
     "data": {
      "text/html": [
       "<div>\n",
       "<style scoped>\n",
       "    .dataframe tbody tr th:only-of-type {\n",
       "        vertical-align: middle;\n",
       "    }\n",
       "\n",
       "    .dataframe tbody tr th {\n",
       "        vertical-align: top;\n",
       "    }\n",
       "\n",
       "    .dataframe thead th {\n",
       "        text-align: right;\n",
       "    }\n",
       "</style>\n",
       "<table border=\"1\" class=\"dataframe\">\n",
       "  <thead>\n",
       "    <tr style=\"text-align: right;\">\n",
       "      <th></th>\n",
       "      <th>0</th>\n",
       "      <th>1</th>\n",
       "      <th>2</th>\n",
       "      <th>3</th>\n",
       "      <th>4</th>\n",
       "      <th>5</th>\n",
       "      <th>6</th>\n",
       "      <th>7</th>\n",
       "      <th>8</th>\n",
       "      <th>9</th>\n",
       "      <th>...</th>\n",
       "      <th>80</th>\n",
       "      <th>81</th>\n",
       "      <th>82</th>\n",
       "      <th>83</th>\n",
       "      <th>84</th>\n",
       "      <th>85</th>\n",
       "      <th>86</th>\n",
       "      <th>87</th>\n",
       "      <th>88</th>\n",
       "      <th>89</th>\n",
       "    </tr>\n",
       "  </thead>\n",
       "  <tbody>\n",
       "    <tr>\n",
       "      <th>variables_seguimiento</th>\n",
       "      <td>Unnamed: 0</td>\n",
       "      <td>n_folio</td>\n",
       "      <td>tipo_seguimiento</td>\n",
       "      <td>dia_contacto</td>\n",
       "      <td>id_enfermedad_eno</td>\n",
       "      <td>enfermedad</td>\n",
       "      <td>fecha_notificacion</td>\n",
       "      <td>id_institucion</td>\n",
       "      <td>nombre_institucion_indice</td>\n",
       "      <td>region_institucion_indice</td>\n",
       "      <td>...</td>\n",
       "      <td>región_derivación</td>\n",
       "      <td>región_seremi</td>\n",
       "      <td>región_notificacion</td>\n",
       "      <td>region_final</td>\n",
       "      <td>TTA</td>\n",
       "      <td>file</td>\n",
       "      <td>nfolio_caso</td>\n",
       "      <td>nfolio_caso_indice</td>\n",
       "      <td>nfolio_pntm</td>\n",
       "      <td>nfolio_contacto_estrecho</td>\n",
       "    </tr>\n",
       "  </tbody>\n",
       "</table>\n",
       "<p>1 rows × 90 columns</p>\n",
       "</div>"
      ],
      "text/plain": [
       "                               0        1                 2             3   \\\n",
       "variables_seguimiento  Unnamed: 0  n_folio  tipo_seguimiento  dia_contacto   \n",
       "\n",
       "                                      4           5                   6   \\\n",
       "variables_seguimiento  id_enfermedad_eno  enfermedad  fecha_notificacion   \n",
       "\n",
       "                                   7                          8   \\\n",
       "variables_seguimiento  id_institucion  nombre_institucion_indice   \n",
       "\n",
       "                                              9   ...                 80  \\\n",
       "variables_seguimiento  region_institucion_indice  ...  región_derivación   \n",
       "\n",
       "                                  81                   82            83   84  \\\n",
       "variables_seguimiento  región_seremi  región_notificacion  region_final  TTA   \n",
       "\n",
       "                         85           86                  87           88  \\\n",
       "variables_seguimiento  file  nfolio_caso  nfolio_caso_indice  nfolio_pntm   \n",
       "\n",
       "                                             89  \n",
       "variables_seguimiento  nfolio_contacto_estrecho  \n",
       "\n",
       "[1 rows x 90 columns]"
      ]
     },
     "execution_count": 25,
     "metadata": {},
     "output_type": "execute_result"
    }
   ],
   "source": [
    "pd.DataFrame(df_seguimiento_merged.columns).rename(columns={0:'variables_seguimiento'}).transpose()"
   ]
  },
  {
   "cell_type": "code",
   "execution_count": 26,
   "id": "dd2dac7a",
   "metadata": {
    "scrolled": true
   },
   "outputs": [
    {
     "data": {
      "text/plain": [
       "0         Sin Datos\n",
       "1         Sin Datos\n",
       "2         Sin Datos\n",
       "3         Sin Datos\n",
       "4         Sin Datos\n",
       "            ...    \n",
       "293816    Sin Datos\n",
       "293817    Sin Datos\n",
       "293818    Sin Datos\n",
       "293819    Sin Datos\n",
       "293820     16161119\n",
       "Name: folio_se_convierte_en_caso, Length: 293821, dtype: object"
      ]
     },
     "execution_count": 26,
     "metadata": {},
     "output_type": "execute_result"
    }
   ],
   "source": [
    "df_seguimiento_merged['folio_se_convierte_en_caso']"
   ]
  },
  {
   "cell_type": "code",
   "execution_count": 27,
   "id": "94bf5beb",
   "metadata": {},
   "outputs": [
    {
     "data": {
      "text/plain": [
       "Sin Datos    277894\n",
       "-1              528\n",
       "14560708         36\n",
       "10748118         33\n",
       "10746410         33\n",
       "              ...  \n",
       "16161119          1\n",
       "12177212          1\n",
       "13618714          1\n",
       "13140668          1\n",
       "12127513          1\n",
       "Name: folio_se_convierte_en_caso, Length: 2669, dtype: int64"
      ]
     },
     "execution_count": 27,
     "metadata": {},
     "output_type": "execute_result"
    }
   ],
   "source": [
    "# Revisa existencia de una variable dentro del DF y sus respectivos valores\n",
    "\n",
    "df_seguimiento_merged['folio_se_convierte_en_caso'].value_counts()\n"
   ]
  },
  {
   "cell_type": "markdown",
   "id": "e94309f5",
   "metadata": {},
   "source": [
    "# Variables de interes\n",
    "\n",
    "\n",
    "|Variable|Tipo|Observación|\n",
    "|---|---|---|\n",
    "|`n_folio`|Text|folio generado por Número y Letras|\n",
    "|`nfolio_caso`|Numeric|folio de caso registrado|\n",
    "|`nfolio_caso_indice`|Numeric|folio de caso indice registrado|\n",
    "|`nfolio_pntm`|Numeric|folio plataforma nacional de toma de muestra|\n",
    "|`nfolio_contacto_estrecho`|Numeric|folio de contacto estrecho|\n",
    "|`tipo_seguimiento`|Text|contacto, caso, no notificado indice|\n",
    "|`dia_contacto`|DateTime|Fecha de contacto |\n",
    "|`fecha_notificacion`|DateTime|Fecha de notificación|\n",
    "|`nombre_institucion_indice`|Text|Nombre institución desde donde se deriva el caso|\n",
    "|`region_institucion_indice`|Numeric| Región d ela cual se deriva el caso|\n",
    "|`nombre_region_institucion_indice`|Text|Nombre de región de la institución índice|\n",
    "|`nombre_institucion_seguimiento`|Text|Nombre de la institución encargada de realizar seguimiento|\n",
    "|`region`|Text|Región en la cual se realiza el seguimiento|\n",
    "|`id_region`|Numeric|Número de la región de seguimiento|\n",
    "|`fecha_cumple_requisitos`|DateTime|Fecha en la cual cumple requisitos para seguimiento|\n",
    "|`TTA`|Text|APS o SEREMI|\n",
    "|`cumple_aislamiento_cuarentena`|Boolean|Sin datos, t, f|\n",
    "|`folio_se_convierte_en_caso`|Text|Número de folio o Sin Datos|\n",
    "|`visible_no_eliminado`|Boolean|Sin datos, t, f|\n",
    "|`suspendido`|Text|egresado|\n",
    "|`sintomas`|Text|Sintomatología, Sin datos o Ninguno|\n",
    "|`observacion_seguimiento_contactos`|Text| Escrito por el trazador|\n",
    "|`tiene_resultado_covid`|Text|Positivo, Negativo, No concluyente, Sin Datos|\n",
    "|`derivacion_a_su`|Boolean| t f Sin datos|\n",
    "|`derivacion_toma_muestra`|Boolean|t f Sin datos|\n",
    "|`fecha_derivacion_toma_muestra`|Text|Fecha Sin datos|\n",
    "|`cont_fecha_seguimiento`|Text|Texto o Sin Datos|\n",
    "|`cont_tipo_contacto`|Text|contacto_familiar, contacto_social, contacto_institucional, contacto_laboral|\n",
    "|||contacto_pasajero, contacto_sala_espera, contacto_personal_salud,Datos|\n",
    "|`cont_parentesco`|Text|Hijo/a, Madre/Padre, Otro familiar, Pareja, Hermano/a, Otra relación/No familiar, Sin Datos|\n",
    "|`cont_otra_relacion`|Text|Sin Datos, otro, hijo de cuidadora, otro adulto mayor en cuidado, cuñado. sobrino de cuidadora, AMIGO,  Amigo|\n",
    "||| pareja del tío de su madre,cuidadora, PAREJA PADRE, otro adulto en cuidados, Pareja de mamá, Hijastro|\n",
    "|`cont_tipo_transporte`|Text|Aéreo, Sin Datos, Terrestre|\n",
    "|`cont_nombre_vuelo`|Text|Sin Datos, JETSMART JA245 CCP - BALMACEDA, SKY 433, COPA CM111, \n",
    "|||SKY 433 STGO- COYHAIQUE 21-08-2021 / 11 AM, SK, DL147 ATLANTA - STGO, JETSMART CCP-BALMACEDA, LA 272 |\n",
    "|||JETSMART JA245, VUELO CM111, LA272, JETSMART JA 245 CCP - BALMACEDA|                 \n",
    "|`cont_fecha_llegada`|Text|Sin Datos, 2021-07-21, 2021-08-21, 2021-07-01, 2021-07-03, 2021-07-09, 2021-07-02|\n",
    "|`detalle_pasajero`|Text|Observaciones adicionales de viaje|\n",
    "|`cont_inicio_cuarentena`|DateTime|Fecha de inicio de cuarentena|\n",
    "|`cont_fin_cuarentena`|DateTime|Fecha y Sin Datos|\n",
    "|`cont_requiere_licencia_medica`|Boolean|Sin Datos, NO, SI, Seleccione|\n",
    "|`cont_se_emite_licencia`|Boolean|Sin Datos, t, f|\n",
    "|`cont_fecha_licencia`|DateTime|Fecha de licencia|\n",
    "|`requiere_canasta_alimentos`|Boolean|Sin Datos, t, f|\n",
    "|`cantidad_personas_vivienda`|Numeric|Integrantes familiares de 0 a 6|\n",
    "|`cont_estado_seguimiento`|Text|Aún no contactado, En proceso de seguimiento, Se transforma en caso, Contacto sintomático, No localizado|\n",
    "|`fecha_creacion`|DateTime|Fecha de creación|\n",
    "|`tipo_del_contacto`|Text|Sin Datos, Llamada telefónica, Visita domiciliaria|\n",
    "|`contacto_localizado`|Boolean|Sin Datos, t, f|\n",
    "|`empresa`|Text|Información de Empresa de trabajo|\n",
    "|`institucion`|Text|Información de la institución|"
   ]
  },
  {
   "cell_type": "markdown",
   "id": "7d732aa1",
   "metadata": {},
   "source": [
    "## Limpieza y ordenamiento de datos\n",
    "\n"
   ]
  },
  {
   "cell_type": "markdown",
   "id": "44fd542e",
   "metadata": {},
   "source": [
    "Segun variables seleccionadas como de importancia de análisis y obsrvaciones a filtrar"
   ]
  },
  {
   "cell_type": "code",
   "execution_count": 28,
   "id": "6382a91b",
   "metadata": {},
   "outputs": [],
   "source": [
    "# Transforma fecha_cumple_requisitos a formato DateTime64 \n",
    "\n",
    "df_seguimiento_merged['fecha_cumple_requisitos'] = pd.to_datetime(df_seguimiento_merged['fecha_cumple_requisitos'], errors='coerce')\n",
    "df_seguimiento_merged['fecha_notificacion'] = pd.to_datetime(df_seguimiento_merged['fecha_notificacion'], errors='coerce')\n",
    "df_seguimiento_merged['fecha_creacion'] = pd.to_datetime(df_seguimiento_merged['fecha_creacion'], errors='coerce')\n",
    "\n",
    "#Crea diferencia de fecha\n",
    "df_seguimiento_merged['dif_fecha'] = df_seguimiento_merged['fecha_cumple_requisitos'] - df_seguimiento_merged['fecha_notificacion']"
   ]
  },
  {
   "cell_type": "code",
   "execution_count": 29,
   "id": "9326139c",
   "metadata": {},
   "outputs": [],
   "source": [
    "# Filtra los timedelta mayores a 14 dias\n",
    "\n",
    "seg = df_seguimiento_merged[df_seguimiento_merged['dif_fecha']<pd.to_timedelta('14 days')]"
   ]
  },
  {
   "cell_type": "code",
   "execution_count": 30,
   "id": "5a14aa47",
   "metadata": {},
   "outputs": [],
   "source": [
    "#Filtra visible_no_eliminado y bota duplicados en n_folio\n",
    "\n",
    "aux = seg[seg['visible_no_eliminado']=='t'].drop_duplicates('n_folio')"
   ]
  },
  {
   "cell_type": "code",
   "execution_count": 31,
   "id": "37586a61",
   "metadata": {},
   "outputs": [],
   "source": [
    "# Filtra tipo_seguimiento para los casos \n",
    "\n",
    "aux_caso = aux[aux['tipo_seguimiento']=='caso']"
   ]
  },
  {
   "cell_type": "code",
   "execution_count": 32,
   "id": "d2536552",
   "metadata": {},
   "outputs": [
    {
     "name": "stderr",
     "output_type": "stream",
     "text": [
      "<ipython-input-32-483468821897>:3: SettingWithCopyWarning: \n",
      "A value is trying to be set on a copy of a slice from a DataFrame.\n",
      "Try using .loc[row_indexer,col_indexer] = value instead\n",
      "\n",
      "See the caveats in the documentation: https://pandas.pydata.org/pandas-docs/stable/user_guide/indexing.html#returning-a-view-versus-a-copy\n",
      "  aux_contacto['dif_fecha_contacto'] = aux_contacto['fecha_creacion']-aux_contacto['fecha_notificacion']\n"
     ]
    }
   ],
   "source": [
    "aux_contacto = aux[aux['tipo_seguimiento']=='contacto']\n",
    "#Crea columna dif_fecha_contacto\n",
    "aux_contacto['dif_fecha_contacto'] = aux_contacto['fecha_creacion']-aux_contacto['fecha_notificacion']\n",
    "\n",
    "aux_contacto = aux_contacto[aux_contacto['dif_fecha_contacto']>=pd.to_timedelta(-14)]"
   ]
  },
  {
   "cell_type": "code",
   "execution_count": 33,
   "id": "c11096fe",
   "metadata": {},
   "outputs": [],
   "source": [
    "aux_contacto_nuevos = aux[aux['tipo_seguimiento']=='contacto']\n",
    "aux_contacto_nuevos = aux_contacto_nuevos[(aux_contacto_nuevos['suspendido']=='activo')|(aux_contacto_nuevos['suspendido']=='egresado')]\n"
   ]
  },
  {
   "cell_type": "code",
   "execution_count": 34,
   "id": "5b73a457",
   "metadata": {},
   "outputs": [
    {
     "data": {
      "text/plain": [
       "\"aux_contacto_viejos = aux_contacto[(aux_contacto['fecha_creacion']-pd.to_timedelta('7 days'))]\\n\\naux_contacto_viejos= aux_contacto_viejos[(aux_contacto_viejos['suspendido']=='activo')|(aux_contacto_viejos['suspendido']=='egresado')]\""
      ]
     },
     "execution_count": 34,
     "metadata": {},
     "output_type": "execute_result"
    }
   ],
   "source": [
    "\"\"\"aux_contacto_viejos = aux_contacto[(aux_contacto['fecha_creacion']-pd.to_timedelta('7 days'))]\n",
    "\n",
    "aux_contacto_viejos= aux_contacto_viejos[(aux_contacto_viejos['suspendido']=='activo')|(aux_contacto_viejos['suspendido']=='egresado')]\"\"\"\n"
   ]
  },
  {
   "cell_type": "code",
   "execution_count": 35,
   "id": "3fc47c8c",
   "metadata": {},
   "outputs": [
    {
     "data": {
      "text/plain": [
       "1        2021-03-15 12:49:44.051748\n",
       "2        2021-03-18 18:23:53.976693\n",
       "3        2021-03-22 17:55:07.453245\n",
       "4        2021-03-27 13:40:31.874120\n",
       "5        2021-03-29 20:26:57.278563\n",
       "                    ...            \n",
       "293456   2021-08-13 19:40:56.582091\n",
       "293485   2021-08-05 18:15:06.027185\n",
       "293525   2021-08-09 23:23:22.867003\n",
       "293560   2021-08-21 11:34:20.083839\n",
       "293814   2021-08-10 19:43:02.977625\n",
       "Name: fecha_creacion, Length: 15525, dtype: datetime64[ns]"
      ]
     },
     "execution_count": 35,
     "metadata": {},
     "output_type": "execute_result"
    }
   ],
   "source": [
    "#aux_contacto[\n",
    "(aux_contacto['fecha_creacion']-pd.to_timedelta('7 days'))\n",
    "#]"
   ]
  },
  {
   "cell_type": "code",
   "execution_count": 36,
   "id": "4aa0df5c",
   "metadata": {},
   "outputs": [
    {
     "data": {
      "text/plain": [
       "1        2021-03-22 12:49:44.051748007\n",
       "2        2021-03-25 18:23:53.976693007\n",
       "3        2021-03-29 17:55:07.453245007\n",
       "4        2021-04-03 13:40:31.874120007\n",
       "5        2021-04-05 20:26:57.278563007\n",
       "                      ...             \n",
       "293456   2021-08-20 19:40:56.582091007\n",
       "293485   2021-08-12 18:15:06.027185007\n",
       "293525   2021-08-16 23:23:22.867003007\n",
       "293560   2021-08-28 11:34:20.083839007\n",
       "293814   2021-08-17 19:43:02.977625007\n",
       "Name: fecha_creacion, Length: 15525, dtype: datetime64[ns]"
      ]
     },
     "execution_count": 36,
     "metadata": {},
     "output_type": "execute_result"
    }
   ],
   "source": [
    "aux_contacto['fecha_creacion']-pd.to_timedelta(-7)"
   ]
  },
  {
   "cell_type": "code",
   "execution_count": 37,
   "id": "e0bdba4a",
   "metadata": {},
   "outputs": [
    {
     "data": {
      "text/plain": [
       "1        2021-03-22 12:49:44.051748\n",
       "2        2021-03-25 18:23:53.976693\n",
       "3        2021-03-29 17:55:07.453245\n",
       "4        2021-04-03 13:40:31.874120\n",
       "5        2021-04-05 20:26:57.278563\n",
       "                    ...            \n",
       "293456   2021-08-20 19:40:56.582091\n",
       "293485   2021-08-12 18:15:06.027185\n",
       "293525   2021-08-16 23:23:22.867003\n",
       "293560   2021-08-28 11:34:20.083839\n",
       "293814   2021-08-17 19:43:02.977625\n",
       "Name: fecha_creacion, Length: 15525, dtype: datetime64[ns]"
      ]
     },
     "execution_count": 37,
     "metadata": {},
     "output_type": "execute_result"
    }
   ],
   "source": [
    "aux_contacto['fecha_creacion']"
   ]
  },
  {
   "cell_type": "code",
   "execution_count": 38,
   "id": "55554434",
   "metadata": {},
   "outputs": [
    {
     "data": {
      "text/plain": [
       "0         t\n",
       "1         t\n",
       "2         t\n",
       "3         t\n",
       "4         t\n",
       "         ..\n",
       "293816    t\n",
       "293817    t\n",
       "293818    t\n",
       "293819    t\n",
       "293820    t\n",
       "Name: visible_no_eliminado, Length: 293821, dtype: object"
      ]
     },
     "execution_count": 38,
     "metadata": {},
     "output_type": "execute_result"
    }
   ],
   "source": [
    "df_seguimiento_merged['visible_no_eliminado']"
   ]
  },
  {
   "cell_type": "code",
   "execution_count": 39,
   "id": "92fe104c",
   "metadata": {},
   "outputs": [
    {
     "data": {
      "text/html": [
       "<div>\n",
       "<style scoped>\n",
       "    .dataframe tbody tr th:only-of-type {\n",
       "        vertical-align: middle;\n",
       "    }\n",
       "\n",
       "    .dataframe tbody tr th {\n",
       "        vertical-align: top;\n",
       "    }\n",
       "\n",
       "    .dataframe thead th {\n",
       "        text-align: right;\n",
       "    }\n",
       "</style>\n",
       "<table border=\"1\" class=\"dataframe\">\n",
       "  <thead>\n",
       "    <tr style=\"text-align: right;\">\n",
       "      <th></th>\n",
       "      <th>numero_folio</th>\n",
       "      <th>comuna_residencia</th>\n",
       "      <th>fecha_notificacion</th>\n",
       "      <th>semana_epidemiologica</th>\n",
       "      <th>etapa_clinica</th>\n",
       "      <th>tipo_caso_busqueda</th>\n",
       "      <th>establecimiento_salud</th>\n",
       "      <th>resultado_pcr_1</th>\n",
       "      <th>resultado_pcr_2</th>\n",
       "      <th>resultado_pcr_3</th>\n",
       "      <th>...</th>\n",
       "      <th>caso_cerrado</th>\n",
       "      <th>fecha_primeros_sintomas</th>\n",
       "      <th>fecha_diagnostico</th>\n",
       "      <th>comuna_seremi_xi</th>\n",
       "      <th>provincia_seremi_xi</th>\n",
       "      <th>sexo</th>\n",
       "      <th>edad</th>\n",
       "      <th>pop_hombres</th>\n",
       "      <th>pop_mujeres</th>\n",
       "      <th>pop_total</th>\n",
       "    </tr>\n",
       "  </thead>\n",
       "  <tbody>\n",
       "    <tr>\n",
       "      <th>0</th>\n",
       "      <td>50166</td>\n",
       "      <td>Coyhaique</td>\n",
       "      <td>2020-03-12</td>\n",
       "      <td>11</td>\n",
       "      <td>DESCARTADA</td>\n",
       "      <td>NaN</td>\n",
       "      <td>Hospital Regional (Coihaique)</td>\n",
       "      <td>NEGATIVO</td>\n",
       "      <td>NaN</td>\n",
       "      <td>NaN</td>\n",
       "      <td>...</td>\n",
       "      <td>False</td>\n",
       "      <td>2020-03-10</td>\n",
       "      <td>2020-03-16</td>\n",
       "      <td>Coyhaique</td>\n",
       "      <td>Coyhaique</td>\n",
       "      <td>mujer</td>\n",
       "      <td>46</td>\n",
       "      <td>28763.0</td>\n",
       "      <td>29055.0</td>\n",
       "      <td>57818.0</td>\n",
       "    </tr>\n",
       "    <tr>\n",
       "      <th>2</th>\n",
       "      <td>50785</td>\n",
       "      <td>Coyhaique</td>\n",
       "      <td>2020-03-12</td>\n",
       "      <td>11</td>\n",
       "      <td>DESCARTADA</td>\n",
       "      <td>NaN</td>\n",
       "      <td>Hospital Regional (Coihaique)</td>\n",
       "      <td>NEGATIVO</td>\n",
       "      <td>NaN</td>\n",
       "      <td>NaN</td>\n",
       "      <td>...</td>\n",
       "      <td>False</td>\n",
       "      <td>2020-03-10</td>\n",
       "      <td>2020-03-28</td>\n",
       "      <td>Coyhaique</td>\n",
       "      <td>Coyhaique</td>\n",
       "      <td>hombre</td>\n",
       "      <td>12</td>\n",
       "      <td>28763.0</td>\n",
       "      <td>29055.0</td>\n",
       "      <td>57818.0</td>\n",
       "    </tr>\n",
       "    <tr>\n",
       "      <th>3</th>\n",
       "      <td>50794</td>\n",
       "      <td>Coyhaique</td>\n",
       "      <td>2020-03-12</td>\n",
       "      <td>11</td>\n",
       "      <td>DESCARTADA</td>\n",
       "      <td>NaN</td>\n",
       "      <td>Hospital Regional (Coihaique)</td>\n",
       "      <td>NEGATIVO</td>\n",
       "      <td>NaN</td>\n",
       "      <td>NaN</td>\n",
       "      <td>...</td>\n",
       "      <td>False</td>\n",
       "      <td>2020-03-10</td>\n",
       "      <td>2020-03-28</td>\n",
       "      <td>Coyhaique</td>\n",
       "      <td>Coyhaique</td>\n",
       "      <td>hombre</td>\n",
       "      <td>11</td>\n",
       "      <td>28763.0</td>\n",
       "      <td>29055.0</td>\n",
       "      <td>57818.0</td>\n",
       "    </tr>\n",
       "    <tr>\n",
       "      <th>5</th>\n",
       "      <td>53499</td>\n",
       "      <td>Cisnes</td>\n",
       "      <td>2020-03-18</td>\n",
       "      <td>12</td>\n",
       "      <td>DESCARTADA</td>\n",
       "      <td>NaN</td>\n",
       "      <td>Centro de Salud Familiar La Junta</td>\n",
       "      <td>NEGATIVO</td>\n",
       "      <td>NaN</td>\n",
       "      <td>NaN</td>\n",
       "      <td>...</td>\n",
       "      <td>False</td>\n",
       "      <td>2020-03-15</td>\n",
       "      <td>2020-03-24</td>\n",
       "      <td>Cisnes</td>\n",
       "      <td>Aysen</td>\n",
       "      <td>mujer</td>\n",
       "      <td>48</td>\n",
       "      <td>3922.0</td>\n",
       "      <td>2595.0</td>\n",
       "      <td>6517.0</td>\n",
       "    </tr>\n",
       "    <tr>\n",
       "      <th>7</th>\n",
       "      <td>54731</td>\n",
       "      <td>Cisnes</td>\n",
       "      <td>2020-03-19</td>\n",
       "      <td>12</td>\n",
       "      <td>DESCARTADA</td>\n",
       "      <td>Atención médica</td>\n",
       "      <td>Centro de Salud Familiar La Junta</td>\n",
       "      <td>NO CONCLUYENTE</td>\n",
       "      <td>NaN</td>\n",
       "      <td>NaN</td>\n",
       "      <td>...</td>\n",
       "      <td>False</td>\n",
       "      <td>2020-03-19</td>\n",
       "      <td>2020-03-21</td>\n",
       "      <td>Cisnes</td>\n",
       "      <td>Aysen</td>\n",
       "      <td>hombre</td>\n",
       "      <td>0</td>\n",
       "      <td>3922.0</td>\n",
       "      <td>2595.0</td>\n",
       "      <td>6517.0</td>\n",
       "    </tr>\n",
       "    <tr>\n",
       "      <th>...</th>\n",
       "      <td>...</td>\n",
       "      <td>...</td>\n",
       "      <td>...</td>\n",
       "      <td>...</td>\n",
       "      <td>...</td>\n",
       "      <td>...</td>\n",
       "      <td>...</td>\n",
       "      <td>...</td>\n",
       "      <td>...</td>\n",
       "      <td>...</td>\n",
       "      <td>...</td>\n",
       "      <td>...</td>\n",
       "      <td>...</td>\n",
       "      <td>...</td>\n",
       "      <td>...</td>\n",
       "      <td>...</td>\n",
       "      <td>...</td>\n",
       "      <td>...</td>\n",
       "      <td>...</td>\n",
       "      <td>...</td>\n",
       "      <td>...</td>\n",
       "    </tr>\n",
       "    <tr>\n",
       "      <th>161660</th>\n",
       "      <td>16681784</td>\n",
       "      <td>Cochrane</td>\n",
       "      <td>2021-09-04</td>\n",
       "      <td>36</td>\n",
       "      <td>SOSPECHA</td>\n",
       "      <td>Atención médica</td>\n",
       "      <td>Hospital Lord Cochrane</td>\n",
       "      <td>NEGATIVO</td>\n",
       "      <td>NaN</td>\n",
       "      <td>NaN</td>\n",
       "      <td>...</td>\n",
       "      <td>False</td>\n",
       "      <td>2021-09-03</td>\n",
       "      <td>NaN</td>\n",
       "      <td>Cochrane</td>\n",
       "      <td>Capitan Prat</td>\n",
       "      <td>mujer</td>\n",
       "      <td>37</td>\n",
       "      <td>1902.0</td>\n",
       "      <td>1588.0</td>\n",
       "      <td>3490.0</td>\n",
       "    </tr>\n",
       "    <tr>\n",
       "      <th>161661</th>\n",
       "      <td>16681803</td>\n",
       "      <td>Cochrane</td>\n",
       "      <td>2021-09-04</td>\n",
       "      <td>36</td>\n",
       "      <td>SOSPECHA</td>\n",
       "      <td>Atención médica</td>\n",
       "      <td>Hospital Lord Cochrane</td>\n",
       "      <td>NaN</td>\n",
       "      <td>NaN</td>\n",
       "      <td>NaN</td>\n",
       "      <td>...</td>\n",
       "      <td>False</td>\n",
       "      <td>2021-09-04</td>\n",
       "      <td>NaN</td>\n",
       "      <td>Cochrane</td>\n",
       "      <td>Capitan Prat</td>\n",
       "      <td>hombre</td>\n",
       "      <td>6</td>\n",
       "      <td>1902.0</td>\n",
       "      <td>1588.0</td>\n",
       "      <td>3490.0</td>\n",
       "    </tr>\n",
       "    <tr>\n",
       "      <th>161662</th>\n",
       "      <td>16681835</td>\n",
       "      <td>Cochrane</td>\n",
       "      <td>2021-09-04</td>\n",
       "      <td>36</td>\n",
       "      <td>SOSPECHA</td>\n",
       "      <td>Atención médica</td>\n",
       "      <td>Hospital Lord Cochrane</td>\n",
       "      <td>NaN</td>\n",
       "      <td>NaN</td>\n",
       "      <td>NaN</td>\n",
       "      <td>...</td>\n",
       "      <td>False</td>\n",
       "      <td>2021-09-03</td>\n",
       "      <td>NaN</td>\n",
       "      <td>Cochrane</td>\n",
       "      <td>Capitan Prat</td>\n",
       "      <td>hombre</td>\n",
       "      <td>11</td>\n",
       "      <td>1902.0</td>\n",
       "      <td>1588.0</td>\n",
       "      <td>3490.0</td>\n",
       "    </tr>\n",
       "    <tr>\n",
       "      <th>161663</th>\n",
       "      <td>16682064</td>\n",
       "      <td>Aisén</td>\n",
       "      <td>2021-09-05</td>\n",
       "      <td>36</td>\n",
       "      <td>SOSPECHA</td>\n",
       "      <td>Atención médica</td>\n",
       "      <td>Hospital de Puerto Aysén</td>\n",
       "      <td>NaN</td>\n",
       "      <td>NaN</td>\n",
       "      <td>NaN</td>\n",
       "      <td>...</td>\n",
       "      <td>False</td>\n",
       "      <td>2021-08-31</td>\n",
       "      <td>NaN</td>\n",
       "      <td>Aysen</td>\n",
       "      <td>Aysen</td>\n",
       "      <td>mujer</td>\n",
       "      <td>5</td>\n",
       "      <td>12719.0</td>\n",
       "      <td>11240.0</td>\n",
       "      <td>23959.0</td>\n",
       "    </tr>\n",
       "    <tr>\n",
       "      <th>161664</th>\n",
       "      <td>16682093</td>\n",
       "      <td>Aisén</td>\n",
       "      <td>2021-09-05</td>\n",
       "      <td>36</td>\n",
       "      <td>BUSQUEDA A</td>\n",
       "      <td>Atención médica</td>\n",
       "      <td>Hospital de Puerto Aysén</td>\n",
       "      <td>NaN</td>\n",
       "      <td>NaN</td>\n",
       "      <td>NaN</td>\n",
       "      <td>...</td>\n",
       "      <td>False</td>\n",
       "      <td>NaN</td>\n",
       "      <td>NaN</td>\n",
       "      <td>Aysen</td>\n",
       "      <td>Aysen</td>\n",
       "      <td>hombre</td>\n",
       "      <td>68</td>\n",
       "      <td>12719.0</td>\n",
       "      <td>11240.0</td>\n",
       "      <td>23959.0</td>\n",
       "    </tr>\n",
       "  </tbody>\n",
       "</table>\n",
       "<p>151487 rows × 34 columns</p>\n",
       "</div>"
      ],
      "text/plain": [
       "        numero_folio comuna_residencia fecha_notificacion  \\\n",
       "0              50166         Coyhaique         2020-03-12   \n",
       "2              50785         Coyhaique         2020-03-12   \n",
       "3              50794         Coyhaique         2020-03-12   \n",
       "5              53499            Cisnes         2020-03-18   \n",
       "7              54731            Cisnes         2020-03-19   \n",
       "...              ...               ...                ...   \n",
       "161660      16681784          Cochrane         2021-09-04   \n",
       "161661      16681803          Cochrane         2021-09-04   \n",
       "161662      16681835          Cochrane         2021-09-04   \n",
       "161663      16682064             Aisén         2021-09-05   \n",
       "161664      16682093             Aisén         2021-09-05   \n",
       "\n",
       "        semana_epidemiologica etapa_clinica tipo_caso_busqueda  \\\n",
       "0                          11    DESCARTADA                NaN   \n",
       "2                          11    DESCARTADA                NaN   \n",
       "3                          11    DESCARTADA                NaN   \n",
       "5                          12    DESCARTADA                NaN   \n",
       "7                          12    DESCARTADA    Atención médica   \n",
       "...                       ...           ...                ...   \n",
       "161660                     36      SOSPECHA    Atención médica   \n",
       "161661                     36      SOSPECHA    Atención médica   \n",
       "161662                     36      SOSPECHA    Atención médica   \n",
       "161663                     36      SOSPECHA    Atención médica   \n",
       "161664                     36    BUSQUEDA A    Atención médica   \n",
       "\n",
       "                    establecimiento_salud resultado_pcr_1 resultado_pcr_2  \\\n",
       "0           Hospital Regional (Coihaique)        NEGATIVO             NaN   \n",
       "2           Hospital Regional (Coihaique)        NEGATIVO             NaN   \n",
       "3           Hospital Regional (Coihaique)        NEGATIVO             NaN   \n",
       "5       Centro de Salud Familiar La Junta        NEGATIVO             NaN   \n",
       "7       Centro de Salud Familiar La Junta  NO CONCLUYENTE             NaN   \n",
       "...                                   ...             ...             ...   \n",
       "161660             Hospital Lord Cochrane        NEGATIVO             NaN   \n",
       "161661             Hospital Lord Cochrane             NaN             NaN   \n",
       "161662             Hospital Lord Cochrane             NaN             NaN   \n",
       "161663           Hospital de Puerto Aysén             NaN             NaN   \n",
       "161664           Hospital de Puerto Aysén             NaN             NaN   \n",
       "\n",
       "        resultado_pcr_3  ... caso_cerrado fecha_primeros_sintomas  \\\n",
       "0                   NaN  ...        False              2020-03-10   \n",
       "2                   NaN  ...        False              2020-03-10   \n",
       "3                   NaN  ...        False              2020-03-10   \n",
       "5                   NaN  ...        False              2020-03-15   \n",
       "7                   NaN  ...        False              2020-03-19   \n",
       "...                 ...  ...          ...                     ...   \n",
       "161660              NaN  ...        False              2021-09-03   \n",
       "161661              NaN  ...        False              2021-09-04   \n",
       "161662              NaN  ...        False              2021-09-03   \n",
       "161663              NaN  ...        False              2021-08-31   \n",
       "161664              NaN  ...        False                     NaN   \n",
       "\n",
       "       fecha_diagnostico comuna_seremi_xi provincia_seremi_xi    sexo edad  \\\n",
       "0             2020-03-16        Coyhaique           Coyhaique   mujer   46   \n",
       "2             2020-03-28        Coyhaique           Coyhaique  hombre   12   \n",
       "3             2020-03-28        Coyhaique           Coyhaique  hombre   11   \n",
       "5             2020-03-24           Cisnes               Aysen   mujer   48   \n",
       "7             2020-03-21           Cisnes               Aysen  hombre    0   \n",
       "...                  ...              ...                 ...     ...  ...   \n",
       "161660               NaN         Cochrane        Capitan Prat   mujer   37   \n",
       "161661               NaN         Cochrane        Capitan Prat  hombre    6   \n",
       "161662               NaN         Cochrane        Capitan Prat  hombre   11   \n",
       "161663               NaN            Aysen               Aysen   mujer    5   \n",
       "161664               NaN            Aysen               Aysen  hombre   68   \n",
       "\n",
       "       pop_hombres pop_mujeres pop_total  \n",
       "0          28763.0     29055.0   57818.0  \n",
       "2          28763.0     29055.0   57818.0  \n",
       "3          28763.0     29055.0   57818.0  \n",
       "5           3922.0      2595.0    6517.0  \n",
       "7           3922.0      2595.0    6517.0  \n",
       "...            ...         ...       ...  \n",
       "161660      1902.0      1588.0    3490.0  \n",
       "161661      1902.0      1588.0    3490.0  \n",
       "161662      1902.0      1588.0    3490.0  \n",
       "161663     12719.0     11240.0   23959.0  \n",
       "161664     12719.0     11240.0   23959.0  \n",
       "\n",
       "[151487 rows x 34 columns]"
      ]
     },
     "execution_count": 39,
     "metadata": {},
     "output_type": "execute_result"
    }
   ],
   "source": [
    "data_aysen_clean"
   ]
  },
  {
   "cell_type": "code",
   "execution_count": 46,
   "id": "80212a62",
   "metadata": {},
   "outputs": [],
   "source": [
    "df_seguimiento_filtered = df_seguimiento_merged"
   ]
  },
  {
   "cell_type": "code",
   "execution_count": 47,
   "id": "a7a9c529",
   "metadata": {},
   "outputs": [
    {
     "data": {
      "text/plain": [
       "dtype('O')"
      ]
     },
     "execution_count": 47,
     "metadata": {},
     "output_type": "execute_result"
    }
   ],
   "source": [
    "# Revisa tipo de datos\n",
    "df_seguimiento_filtered['nfolio_caso'].dtype"
   ]
  },
  {
   "cell_type": "code",
   "execution_count": 103,
   "id": "d0fb17a8",
   "metadata": {},
   "outputs": [
    {
     "data": {
      "text/plain": [
       "dtype('float64')"
      ]
     },
     "execution_count": 103,
     "metadata": {},
     "output_type": "execute_result"
    }
   ],
   "source": [
    "# Revisa tipo de datos para merging\n",
    "\n",
    "df_seguimiento_filtered['numero_folio'].dtype"
   ]
  },
  {
   "cell_type": "code",
   "execution_count": 49,
   "id": "fb8c587e",
   "metadata": {},
   "outputs": [
    {
     "name": "stderr",
     "output_type": "stream",
     "text": [
      "<ipython-input-49-e6def0a43977>:6: SettingWithCopyWarning: \n",
      "A value is trying to be set on a copy of a slice from a DataFrame.\n",
      "Try using .loc[row_indexer,col_indexer] = value instead\n",
      "\n",
      "See the caveats in the documentation: https://pandas.pydata.org/pandas-docs/stable/user_guide/indexing.html#returning-a-view-versus-a-copy\n",
      "  data_aysen_clean['numero_folio']= data_aysen_clean['numero_folio'].astype('float64', errors='raise')\n"
     ]
    }
   ],
   "source": [
    "# Transforma dtype de ambas columnas a float64 para permitir merging \n",
    "\n",
    "df_seguimiento_filtered['nfolio_caso']= df_seguimiento_filtered['nfolio_caso'].astype('float64', errors='raise')\n",
    "\n",
    "\n",
    "data_aysen_clean['numero_folio']= data_aysen_clean['numero_folio'].astype('float64', errors='raise')"
   ]
  },
  {
   "cell_type": "code",
   "execution_count": 50,
   "id": "77b78b8b",
   "metadata": {},
   "outputs": [],
   "source": [
    "# Combina ambas columnas para nfolio_caso y nfolio_contacto_estrecho y \n",
    "# agrega NA en donde corresponda a otros casos como PNTM o nfolio_caso_indice\n",
    "\n",
    "df_seguimiento_filtered['nfolio_merge'] = df_seguimiento_filtered['nfolio_caso'].combine_first(df_seguimiento_filtered['nfolio_contacto_estrecho']).astype('float64', errors='raise')\n",
    "\n"
   ]
  },
  {
   "cell_type": "code",
   "execution_count": 51,
   "id": "57f096dc",
   "metadata": {},
   "outputs": [],
   "source": [
    "# Realiza merge con base de datos de notificaciones agregando los valores de casos confirmados y probables\n",
    "\n",
    "\n",
    "df_seguimiento_filtered= df_seguimiento_filtered.merge(data_aysen_clean[[\n",
    "                                            'numero_folio',\n",
    "                                            'etapa_clinica',\n",
    "                                            'tipo_caso_busqueda',\n",
    "                                            'establecimiento_salud',\n",
    "                                            'resultado_pcr_1',\n",
    "                                            'resultado_pcr_2',\n",
    "                                            'resultado_pcr_3',\n",
    "                                            'fecha_resultado_pcr_1',\n",
    "                                            'fecha_resultado_pcr_2',\n",
    "                                            'fecha_resultado_pcr_3',\n",
    "                                            'comuna_seremi_xi',\n",
    "                                            'provincia_seremi_xi',\n",
    "                                            'edad',\n",
    "                                            'sexo',\n",
    "                                            'pop_hombres',\n",
    "                                            'pop_mujeres',\n",
    "                                            'pop_total'\n",
    "                                        ]], left_on='nfolio_merge', right_on='numero_folio' , how='left')"
   ]
  },
  {
   "cell_type": "code",
   "execution_count": 118,
   "id": "cdf77667",
   "metadata": {},
   "outputs": [],
   "source": [
    "# Selecciona variables de importancia\n",
    "\n",
    "df_seguimiento_clean = df_seguimiento_filtered[[\n",
    "    'n_folio',\n",
    "    'nfolio_caso',\n",
    "    'nfolio_caso_indice',\n",
    "    'nfolio_pntm',\n",
    "    'nfolio_contacto_estrecho',\n",
    "    'tipo_seguimiento',\n",
    "    'dia_contacto',\n",
    "    'fecha_notificacion',\n",
    "    'nombre_institucion_indice',\n",
    "    'region_institucion_indice',\n",
    "    'nombre_region_institucion_indice',\n",
    "    'region',\n",
    "    'id_region',\n",
    "    'fecha_cumple_requisitos',\n",
    "    'TTA',\n",
    "    'cumple_aislamiento_cuarentena',\n",
    "    'folio_se_convierte_en_caso',\n",
    "    'visible_no_eliminado',\n",
    "    'suspendido',\n",
    "    'sintomas',\n",
    "    'observacion_seguimiento_contactos',\n",
    "    'tiene_resultado_covid',\n",
    "    'derivacion_a_su',\n",
    "    'derivacion_toma_muestra',\n",
    "    'fecha_derivacion_toma_muestra',\n",
    "    'cont_fecha_seguimiento',\n",
    "    'cont_tipo_contacto',\n",
    "    'cont_parentesco',\n",
    "    'cont_otra_relacion',\n",
    "    'cont_tipo_transporte',\n",
    "    'cont_nombre_vuelo',\n",
    "    'cont_fecha_llegada',\n",
    "    'detalle_pasajero',\n",
    "    'cont_inicio_cuarentena',\n",
    "    'cont_fin_cuarentena',\n",
    "    'cont_requiere_licencia_medica',\n",
    "    'cont_se_emite_licencia',\n",
    "    'cont_fecha_licencia',\n",
    "    'requiere_canasta_alimentos',\n",
    "    'cantidad_personas_vivienda',\n",
    "    'cont_estado_seguimiento',\n",
    "    'fecha_creacion',\n",
    "    'tipo_del_contacto',\n",
    "    'contacto_localizado',\n",
    "    'empresa',\n",
    "    'institucion',\n",
    "    'etapa_clinica',\n",
    "    'tipo_caso_busqueda',\n",
    "    'establecimiento_salud',\n",
    "    'resultado_pcr_1',\n",
    "    'resultado_pcr_2',\n",
    "    'resultado_pcr_3',\n",
    "    'fecha_resultado_pcr_1',\n",
    "    'fecha_resultado_pcr_2',\n",
    "    'fecha_resultado_pcr_3',\n",
    "    'comuna_seremi_xi',\n",
    "    'provincia_seremi_xi',\n",
    "    'edad',\n",
    "    'sexo',\n",
    "    'pop_hombres',\n",
    "    'pop_mujeres',\n",
    "    'pop_total'\n",
    "]]"
   ]
  },
  {
   "cell_type": "code",
   "execution_count": 119,
   "id": "0ac27cb4",
   "metadata": {},
   "outputs": [
    {
     "data": {
      "text/html": [
       "<div>\n",
       "<style scoped>\n",
       "    .dataframe tbody tr th:only-of-type {\n",
       "        vertical-align: middle;\n",
       "    }\n",
       "\n",
       "    .dataframe tbody tr th {\n",
       "        vertical-align: top;\n",
       "    }\n",
       "\n",
       "    .dataframe thead th {\n",
       "        text-align: right;\n",
       "    }\n",
       "</style>\n",
       "<table border=\"1\" class=\"dataframe\">\n",
       "  <thead>\n",
       "    <tr style=\"text-align: right;\">\n",
       "      <th></th>\n",
       "      <th>n_folio</th>\n",
       "      <th>nfolio_caso</th>\n",
       "      <th>nfolio_caso_indice</th>\n",
       "      <th>nfolio_pntm</th>\n",
       "      <th>nfolio_contacto_estrecho</th>\n",
       "      <th>tipo_seguimiento</th>\n",
       "      <th>dia_contacto</th>\n",
       "      <th>fecha_notificacion</th>\n",
       "      <th>nombre_institucion_indice</th>\n",
       "      <th>region_institucion_indice</th>\n",
       "      <th>...</th>\n",
       "      <th>fecha_resultado_pcr_1</th>\n",
       "      <th>fecha_resultado_pcr_2</th>\n",
       "      <th>fecha_resultado_pcr_3</th>\n",
       "      <th>comuna_seremi_xi</th>\n",
       "      <th>provincia_seremi_xi</th>\n",
       "      <th>edad</th>\n",
       "      <th>sexo</th>\n",
       "      <th>pop_hombres</th>\n",
       "      <th>pop_mujeres</th>\n",
       "      <th>pop_total</th>\n",
       "    </tr>\n",
       "  </thead>\n",
       "  <tbody>\n",
       "    <tr>\n",
       "      <th>0</th>\n",
       "      <td>8753781</td>\n",
       "      <td>8753781.0</td>\n",
       "      <td>NaN</td>\n",
       "      <td>NaN</td>\n",
       "      <td>NaN</td>\n",
       "      <td>caso</td>\n",
       "      <td>2021-03-02 00:00:00</td>\n",
       "      <td>2021-03-01</td>\n",
       "      <td>Hospital Regional (Coihaique)</td>\n",
       "      <td>11</td>\n",
       "      <td>...</td>\n",
       "      <td>2021-03-02</td>\n",
       "      <td>2021-03-26</td>\n",
       "      <td>NaT</td>\n",
       "      <td>Coyhaique</td>\n",
       "      <td>Coyhaique</td>\n",
       "      <td>47.0</td>\n",
       "      <td>hombre</td>\n",
       "      <td>28763.0</td>\n",
       "      <td>29055.0</td>\n",
       "      <td>57818.0</td>\n",
       "    </tr>\n",
       "    <tr>\n",
       "      <th>1</th>\n",
       "      <td>SC9677760-11425750</td>\n",
       "      <td>NaN</td>\n",
       "      <td>11425750</td>\n",
       "      <td>NaN</td>\n",
       "      <td>9677760</td>\n",
       "      <td>contacto</td>\n",
       "      <td>2021-03-25 00:00:00</td>\n",
       "      <td>2021-03-20</td>\n",
       "      <td>Hospital Regional (Coihaique)</td>\n",
       "      <td>11</td>\n",
       "      <td>...</td>\n",
       "      <td>2021-03-22</td>\n",
       "      <td>2021-03-21</td>\n",
       "      <td>NaT</td>\n",
       "      <td>Coyhaique</td>\n",
       "      <td>Coyhaique</td>\n",
       "      <td>19.0</td>\n",
       "      <td>mujer</td>\n",
       "      <td>28763.0</td>\n",
       "      <td>29055.0</td>\n",
       "      <td>57818.0</td>\n",
       "    </tr>\n",
       "    <tr>\n",
       "      <th>2</th>\n",
       "      <td>SC9780675-11714657</td>\n",
       "      <td>NaN</td>\n",
       "      <td>11714657</td>\n",
       "      <td>NaN</td>\n",
       "      <td>9780675</td>\n",
       "      <td>contacto</td>\n",
       "      <td>2021-03-29 00:00:00</td>\n",
       "      <td>2021-03-23</td>\n",
       "      <td>Actividades gestionadas por la Dirección del S...</td>\n",
       "      <td>11</td>\n",
       "      <td>...</td>\n",
       "      <td>NaT</td>\n",
       "      <td>NaT</td>\n",
       "      <td>NaT</td>\n",
       "      <td>Coyhaique</td>\n",
       "      <td>Coyhaique</td>\n",
       "      <td>31.0</td>\n",
       "      <td>mujer</td>\n",
       "      <td>28763.0</td>\n",
       "      <td>29055.0</td>\n",
       "      <td>57818.0</td>\n",
       "    </tr>\n",
       "    <tr>\n",
       "      <th>3</th>\n",
       "      <td>SC10084431-11964234</td>\n",
       "      <td>NaN</td>\n",
       "      <td>11964234</td>\n",
       "      <td>NaN</td>\n",
       "      <td>10084431</td>\n",
       "      <td>contacto</td>\n",
       "      <td>2021-03-29 00:00:00</td>\n",
       "      <td>2021-03-29</td>\n",
       "      <td>Actividades gestionadas por la Dirección del S...</td>\n",
       "      <td>11</td>\n",
       "      <td>...</td>\n",
       "      <td>2021-03-31</td>\n",
       "      <td>NaT</td>\n",
       "      <td>NaT</td>\n",
       "      <td>Coyhaique</td>\n",
       "      <td>Coyhaique</td>\n",
       "      <td>15.0</td>\n",
       "      <td>mujer</td>\n",
       "      <td>28763.0</td>\n",
       "      <td>29055.0</td>\n",
       "      <td>57818.0</td>\n",
       "    </tr>\n",
       "    <tr>\n",
       "      <th>4</th>\n",
       "      <td>SC10332193-12293320</td>\n",
       "      <td>NaN</td>\n",
       "      <td>12293320</td>\n",
       "      <td>NaN</td>\n",
       "      <td>10332193</td>\n",
       "      <td>contacto</td>\n",
       "      <td>2021-04-04 00:00:00</td>\n",
       "      <td>2021-04-03</td>\n",
       "      <td>Posta de Salud Rural Lago Verde</td>\n",
       "      <td>11</td>\n",
       "      <td>...</td>\n",
       "      <td>NaT</td>\n",
       "      <td>NaT</td>\n",
       "      <td>NaT</td>\n",
       "      <td>Lago Verde</td>\n",
       "      <td>Coyhaique</td>\n",
       "      <td>82.0</td>\n",
       "      <td>hombre</td>\n",
       "      <td>494.0</td>\n",
       "      <td>358.0</td>\n",
       "      <td>852.0</td>\n",
       "    </tr>\n",
       "    <tr>\n",
       "      <th>...</th>\n",
       "      <td>...</td>\n",
       "      <td>...</td>\n",
       "      <td>...</td>\n",
       "      <td>...</td>\n",
       "      <td>...</td>\n",
       "      <td>...</td>\n",
       "      <td>...</td>\n",
       "      <td>...</td>\n",
       "      <td>...</td>\n",
       "      <td>...</td>\n",
       "      <td>...</td>\n",
       "      <td>...</td>\n",
       "      <td>...</td>\n",
       "      <td>...</td>\n",
       "      <td>...</td>\n",
       "      <td>...</td>\n",
       "      <td>...</td>\n",
       "      <td>...</td>\n",
       "      <td>...</td>\n",
       "      <td>...</td>\n",
       "      <td>...</td>\n",
       "    </tr>\n",
       "    <tr>\n",
       "      <th>293816</th>\n",
       "      <td>SC16034389-20188901</td>\n",
       "      <td>NaN</td>\n",
       "      <td>20188901</td>\n",
       "      <td>NaN</td>\n",
       "      <td>16034389</td>\n",
       "      <td>contacto</td>\n",
       "      <td>2021-08-25 00:00:00</td>\n",
       "      <td>2021-08-15</td>\n",
       "      <td>Hospital Regional (Coihaique)</td>\n",
       "      <td>11</td>\n",
       "      <td>...</td>\n",
       "      <td>2021-08-16</td>\n",
       "      <td>2021-08-19</td>\n",
       "      <td>NaT</td>\n",
       "      <td>Coyhaique</td>\n",
       "      <td>Coyhaique</td>\n",
       "      <td>5.0</td>\n",
       "      <td>mujer</td>\n",
       "      <td>28763.0</td>\n",
       "      <td>29055.0</td>\n",
       "      <td>57818.0</td>\n",
       "    </tr>\n",
       "    <tr>\n",
       "      <th>293817</th>\n",
       "      <td>PNTM-7016056768</td>\n",
       "      <td>NaN</td>\n",
       "      <td>NaN</td>\n",
       "      <td>7016056768</td>\n",
       "      <td>NaN</td>\n",
       "      <td>no notificado índice</td>\n",
       "      <td>Sin Datos</td>\n",
       "      <td>NaT</td>\n",
       "      <td>Sin Datos</td>\n",
       "      <td>Sin Datos</td>\n",
       "      <td>...</td>\n",
       "      <td>NaT</td>\n",
       "      <td>NaT</td>\n",
       "      <td>NaT</td>\n",
       "      <td>NaN</td>\n",
       "      <td>NaN</td>\n",
       "      <td>NaN</td>\n",
       "      <td>NaN</td>\n",
       "      <td>NaN</td>\n",
       "      <td>NaN</td>\n",
       "      <td>NaN</td>\n",
       "    </tr>\n",
       "    <tr>\n",
       "      <th>293818</th>\n",
       "      <td>PNTM-7015472903</td>\n",
       "      <td>NaN</td>\n",
       "      <td>NaN</td>\n",
       "      <td>7015472903</td>\n",
       "      <td>NaN</td>\n",
       "      <td>no notificado índice</td>\n",
       "      <td>Sin Datos</td>\n",
       "      <td>NaT</td>\n",
       "      <td>Sin Datos</td>\n",
       "      <td>Sin Datos</td>\n",
       "      <td>...</td>\n",
       "      <td>NaT</td>\n",
       "      <td>NaT</td>\n",
       "      <td>NaT</td>\n",
       "      <td>NaN</td>\n",
       "      <td>NaN</td>\n",
       "      <td>NaN</td>\n",
       "      <td>NaN</td>\n",
       "      <td>NaN</td>\n",
       "      <td>NaN</td>\n",
       "      <td>NaN</td>\n",
       "    </tr>\n",
       "    <tr>\n",
       "      <th>293819</th>\n",
       "      <td>PNTM-7015314831</td>\n",
       "      <td>NaN</td>\n",
       "      <td>NaN</td>\n",
       "      <td>7015314831</td>\n",
       "      <td>NaN</td>\n",
       "      <td>no notificado índice</td>\n",
       "      <td>Sin Datos</td>\n",
       "      <td>NaT</td>\n",
       "      <td>Sin Datos</td>\n",
       "      <td>Sin Datos</td>\n",
       "      <td>...</td>\n",
       "      <td>NaT</td>\n",
       "      <td>NaT</td>\n",
       "      <td>NaT</td>\n",
       "      <td>NaN</td>\n",
       "      <td>NaN</td>\n",
       "      <td>NaN</td>\n",
       "      <td>NaN</td>\n",
       "      <td>NaN</td>\n",
       "      <td>NaN</td>\n",
       "      <td>NaN</td>\n",
       "    </tr>\n",
       "    <tr>\n",
       "      <th>293820</th>\n",
       "      <td>PNTM-7016230035</td>\n",
       "      <td>NaN</td>\n",
       "      <td>NaN</td>\n",
       "      <td>7016230035</td>\n",
       "      <td>NaN</td>\n",
       "      <td>no notificado índice</td>\n",
       "      <td>Sin Datos</td>\n",
       "      <td>NaT</td>\n",
       "      <td>Sin Datos</td>\n",
       "      <td>Sin Datos</td>\n",
       "      <td>...</td>\n",
       "      <td>NaT</td>\n",
       "      <td>NaT</td>\n",
       "      <td>NaT</td>\n",
       "      <td>NaN</td>\n",
       "      <td>NaN</td>\n",
       "      <td>NaN</td>\n",
       "      <td>NaN</td>\n",
       "      <td>NaN</td>\n",
       "      <td>NaN</td>\n",
       "      <td>NaN</td>\n",
       "    </tr>\n",
       "  </tbody>\n",
       "</table>\n",
       "<p>293821 rows × 62 columns</p>\n",
       "</div>"
      ],
      "text/plain": [
       "                    n_folio  nfolio_caso nfolio_caso_indice nfolio_pntm  \\\n",
       "0                   8753781    8753781.0                NaN         NaN   \n",
       "1        SC9677760-11425750          NaN           11425750         NaN   \n",
       "2        SC9780675-11714657          NaN           11714657         NaN   \n",
       "3       SC10084431-11964234          NaN           11964234         NaN   \n",
       "4       SC10332193-12293320          NaN           12293320         NaN   \n",
       "...                     ...          ...                ...         ...   \n",
       "293816  SC16034389-20188901          NaN           20188901         NaN   \n",
       "293817      PNTM-7016056768          NaN                NaN  7016056768   \n",
       "293818      PNTM-7015472903          NaN                NaN  7015472903   \n",
       "293819      PNTM-7015314831          NaN                NaN  7015314831   \n",
       "293820      PNTM-7016230035          NaN                NaN  7016230035   \n",
       "\n",
       "       nfolio_contacto_estrecho      tipo_seguimiento         dia_contacto  \\\n",
       "0                           NaN                  caso  2021-03-02 00:00:00   \n",
       "1                       9677760              contacto  2021-03-25 00:00:00   \n",
       "2                       9780675              contacto  2021-03-29 00:00:00   \n",
       "3                      10084431              contacto  2021-03-29 00:00:00   \n",
       "4                      10332193              contacto  2021-04-04 00:00:00   \n",
       "...                         ...                   ...                  ...   \n",
       "293816                 16034389              contacto  2021-08-25 00:00:00   \n",
       "293817                      NaN  no notificado índice            Sin Datos   \n",
       "293818                      NaN  no notificado índice            Sin Datos   \n",
       "293819                      NaN  no notificado índice            Sin Datos   \n",
       "293820                      NaN  no notificado índice            Sin Datos   \n",
       "\n",
       "       fecha_notificacion                          nombre_institucion_indice  \\\n",
       "0              2021-03-01                      Hospital Regional (Coihaique)   \n",
       "1              2021-03-20                      Hospital Regional (Coihaique)   \n",
       "2              2021-03-23  Actividades gestionadas por la Dirección del S...   \n",
       "3              2021-03-29  Actividades gestionadas por la Dirección del S...   \n",
       "4              2021-04-03                    Posta de Salud Rural Lago Verde   \n",
       "...                   ...                                                ...   \n",
       "293816         2021-08-15                      Hospital Regional (Coihaique)   \n",
       "293817                NaT                                          Sin Datos   \n",
       "293818                NaT                                          Sin Datos   \n",
       "293819                NaT                                          Sin Datos   \n",
       "293820                NaT                                          Sin Datos   \n",
       "\n",
       "       region_institucion_indice  ... fecha_resultado_pcr_1  \\\n",
       "0                             11  ...            2021-03-02   \n",
       "1                             11  ...            2021-03-22   \n",
       "2                             11  ...                   NaT   \n",
       "3                             11  ...            2021-03-31   \n",
       "4                             11  ...                   NaT   \n",
       "...                          ...  ...                   ...   \n",
       "293816                        11  ...            2021-08-16   \n",
       "293817                 Sin Datos  ...                   NaT   \n",
       "293818                 Sin Datos  ...                   NaT   \n",
       "293819                 Sin Datos  ...                   NaT   \n",
       "293820                 Sin Datos  ...                   NaT   \n",
       "\n",
       "       fecha_resultado_pcr_2 fecha_resultado_pcr_3 comuna_seremi_xi  \\\n",
       "0                 2021-03-26                   NaT        Coyhaique   \n",
       "1                 2021-03-21                   NaT        Coyhaique   \n",
       "2                        NaT                   NaT        Coyhaique   \n",
       "3                        NaT                   NaT        Coyhaique   \n",
       "4                        NaT                   NaT       Lago Verde   \n",
       "...                      ...                   ...              ...   \n",
       "293816            2021-08-19                   NaT        Coyhaique   \n",
       "293817                   NaT                   NaT              NaN   \n",
       "293818                   NaT                   NaT              NaN   \n",
       "293819                   NaT                   NaT              NaN   \n",
       "293820                   NaT                   NaT              NaN   \n",
       "\n",
       "       provincia_seremi_xi  edad    sexo pop_hombres pop_mujeres pop_total  \n",
       "0                Coyhaique  47.0  hombre     28763.0     29055.0   57818.0  \n",
       "1                Coyhaique  19.0   mujer     28763.0     29055.0   57818.0  \n",
       "2                Coyhaique  31.0   mujer     28763.0     29055.0   57818.0  \n",
       "3                Coyhaique  15.0   mujer     28763.0     29055.0   57818.0  \n",
       "4                Coyhaique  82.0  hombre       494.0       358.0     852.0  \n",
       "...                    ...   ...     ...         ...         ...       ...  \n",
       "293816           Coyhaique   5.0   mujer     28763.0     29055.0   57818.0  \n",
       "293817                 NaN   NaN     NaN         NaN         NaN       NaN  \n",
       "293818                 NaN   NaN     NaN         NaN         NaN       NaN  \n",
       "293819                 NaN   NaN     NaN         NaN         NaN       NaN  \n",
       "293820                 NaN   NaN     NaN         NaN         NaN       NaN  \n",
       "\n",
       "[293821 rows x 62 columns]"
      ]
     },
     "execution_count": 119,
     "metadata": {},
     "output_type": "execute_result"
    }
   ],
   "source": [
    "df_seguimiento_clean"
   ]
  },
  {
   "cell_type": "code",
   "execution_count": 120,
   "id": "6b277408",
   "metadata": {},
   "outputs": [
    {
     "data": {
      "text/plain": [
       "12436348    39\n",
       "13041090    33\n",
       "12763425    33\n",
       "12764155    33\n",
       "12834928    33\n",
       "            ..\n",
       "20120942     1\n",
       "14355361     1\n",
       "20097646     1\n",
       "20606683     1\n",
       "14543039     1\n",
       "Name: nfolio_caso_indice, Length: 15881, dtype: int64"
      ]
     },
     "execution_count": 120,
     "metadata": {},
     "output_type": "execute_result"
    }
   ],
   "source": [
    "df_seguimiento_clean['nfolio_caso_indice'].value_counts()"
   ]
  },
  {
   "cell_type": "code",
   "execution_count": 154,
   "id": "2e2394ab",
   "metadata": {},
   "outputs": [],
   "source": [
    "#Se consideran solo los visible no eliniminados y se botan duplicados\n",
    "\n",
    "df_seguimiento_clean= df_seguimiento_clean[df_seguimiento_clean['visible_no_eliminado']=='t'].drop_duplicates()\n"
   ]
  },
  {
   "cell_type": "code",
   "execution_count": 156,
   "id": "6f6f01a8",
   "metadata": {},
   "outputs": [
    {
     "data": {
      "text/plain": [
       "13041090    22\n",
       "15506064    22\n",
       "19425664    22\n",
       "15573170    21\n",
       "15572891    21\n",
       "            ..\n",
       "16685014     1\n",
       "18588652     1\n",
       "11889988     1\n",
       "20202330     1\n",
       "18492601     1\n",
       "Name: nfolio_caso_indice, Length: 15717, dtype: int64"
      ]
     },
     "execution_count": 156,
     "metadata": {},
     "output_type": "execute_result"
    }
   ],
   "source": [
    "df_seguimiento_clean['nfolio_caso_indice'].value_counts()"
   ]
  },
  {
   "cell_type": "markdown",
   "id": "6034da3a",
   "metadata": {},
   "source": [
    "# Indicador 5: Oportunidad en la investigación epidemiológica de casos\n",
    "\n",
    "## Objetivo: Fortalecer la investigación epidemiológica de los casos\n",
    "\n",
    "### Meta: >90%\n",
    "\n",
    "**Periodicidad:** Semanal\n",
    "\n",
    "**Escala Territorial:** Comunal, Regional, Nacional\n",
    "\n",
    "**Fuente de Información:** Base EPIVIGILIA actualizada con los reportes de laboratorio al día de la determinación del indicador. Base de seguimiento"
   ]
  },
  {
   "cell_type": "markdown",
   "id": "0d29cecb",
   "metadata": {},
   "source": [
    "### Cálculo del indicador a nivel comunal\n",
    "\n",
    "$\\frac{No.\\:casos\\:nuevos\\:registrados\\:investigados\\:dentro\\:de\\:48\\:hrs\\:por\\:comuna\\:1er\\:establecimiento,\\:semana\\:x}{No.\\:casos\\:nuevos\\:registrados\\:por\\:comuna\\:1er\\:establecimiento\\:semana\\:x}x100$"
   ]
  },
  {
   "cell_type": "markdown",
   "id": "d9035d1d",
   "metadata": {},
   "source": [
    "### Cálculo del indicador a nivel regional\n",
    "\n",
    "$\\frac{No.\\:casos\\:nuevos\\:registrados\\:investigados\\:dentro\\:de\\:48\\:hrs\\:por\\:región\\:1er\\:establecimiento,\\:semana\\:x}{No.\\:casos\\:nuevos\\:registrados\\:por\\:región\\:1er\\:establecimiento\\:semana\\:x}x100$"
   ]
  },
  {
   "cell_type": "markdown",
   "id": "91bc248a",
   "metadata": {},
   "source": [
    "**Observación**\n",
    "\n",
    "- No se incluyen los casos nuevos no notificados\n",
    "- Se considera un caso nuevo registrado a aquel caso notificado que cumple los requisitos para estar en el modulo de seguimiento\n",
    "- La fecha para determinar el *inicio de seguimiento* corresponde a la **fecha de resultado (caso confirmado)** o **fecha de notificación (caso probable)**. Para un caso confirmado, si el resultado del test es anterior a la fecha de notificación, se debe iniciar seguimiento a partir de la fecha en que el registro está disponible en la bandeja de seguimiento.\n",
    "- Se cumple el indicador si, dentro de las 48 hrs. a partir de la fecha de inicio de seguimiento se tiene al menos una actividad de seguimiento exitosa (se logra ubicar al caso).\n",
    "- El primer establecimiento corresponde al establecimiento dado por API FONASA. Si el registro no hace match con API FONASA, se considera el establecimiento de notificación.\n",
    "- Se consideran sólo registros de casos que estén activos o egresados en la bandeja de seguimiento."
   ]
  },
  {
   "cell_type": "code",
   "execution_count": 157,
   "id": "96d3e313",
   "metadata": {},
   "outputs": [
    {
     "data": {
      "text/plain": [
       "0        2021-03-01 11:46:59.255357\n",
       "1        2021-03-22 12:49:44.051748\n",
       "2        2021-03-25 18:23:53.976693\n",
       "3        2021-03-29 17:55:07.453245\n",
       "4        2021-04-03 13:40:31.874120\n",
       "                    ...            \n",
       "293816   2021-08-17 12:10:55.321584\n",
       "293817   2021-08-16 00:32:44.242543\n",
       "293818   2021-08-05 00:32:25.801614\n",
       "293819   2021-08-01 00:32:32.553682\n",
       "293820   2021-08-19 00:33:56.129119\n",
       "Name: fecha_creacion, Length: 177558, dtype: datetime64[ns]"
      ]
     },
     "execution_count": 157,
     "metadata": {},
     "output_type": "execute_result"
    }
   ],
   "source": [
    "df_seguimiento_clean['fecha_creacion'] #casos nuevos registrados"
   ]
  },
  {
   "cell_type": "code",
   "execution_count": 158,
   "id": "28aa4daa",
   "metadata": {},
   "outputs": [
    {
     "data": {
      "text/html": [
       "<div>\n",
       "<style scoped>\n",
       "    .dataframe tbody tr th:only-of-type {\n",
       "        vertical-align: middle;\n",
       "    }\n",
       "\n",
       "    .dataframe tbody tr th {\n",
       "        vertical-align: top;\n",
       "    }\n",
       "\n",
       "    .dataframe thead th {\n",
       "        text-align: right;\n",
       "    }\n",
       "</style>\n",
       "<table border=\"1\" class=\"dataframe\">\n",
       "  <thead>\n",
       "    <tr style=\"text-align: right;\">\n",
       "      <th></th>\n",
       "      <th>n_folio</th>\n",
       "      <th>nfolio_caso</th>\n",
       "      <th>nfolio_caso_indice</th>\n",
       "      <th>nfolio_pntm</th>\n",
       "      <th>nfolio_contacto_estrecho</th>\n",
       "      <th>tipo_seguimiento</th>\n",
       "      <th>dia_contacto</th>\n",
       "      <th>fecha_notificacion</th>\n",
       "      <th>nombre_institucion_indice</th>\n",
       "      <th>region_institucion_indice</th>\n",
       "      <th>...</th>\n",
       "      <th>fecha_resultado_pcr_1</th>\n",
       "      <th>fecha_resultado_pcr_2</th>\n",
       "      <th>fecha_resultado_pcr_3</th>\n",
       "      <th>comuna_seremi_xi</th>\n",
       "      <th>provincia_seremi_xi</th>\n",
       "      <th>edad</th>\n",
       "      <th>sexo</th>\n",
       "      <th>pop_hombres</th>\n",
       "      <th>pop_mujeres</th>\n",
       "      <th>pop_total</th>\n",
       "    </tr>\n",
       "  </thead>\n",
       "  <tbody>\n",
       "    <tr>\n",
       "      <th>144817</th>\n",
       "      <td>SC12367433-15219853</td>\n",
       "      <td>NaN</td>\n",
       "      <td>15219853</td>\n",
       "      <td>NaN</td>\n",
       "      <td>12367433</td>\n",
       "      <td>contacto</td>\n",
       "      <td>2021-05-18 00:00:00</td>\n",
       "      <td>2021-05-17</td>\n",
       "      <td>SAPU Dr. Alejandro Gutiérrez</td>\n",
       "      <td>11</td>\n",
       "      <td>...</td>\n",
       "      <td>2021-05-18</td>\n",
       "      <td>NaT</td>\n",
       "      <td>NaT</td>\n",
       "      <td>Coyhaique</td>\n",
       "      <td>Coyhaique</td>\n",
       "      <td>14.0</td>\n",
       "      <td>hombre</td>\n",
       "      <td>28763.0</td>\n",
       "      <td>29055.0</td>\n",
       "      <td>57818.0</td>\n",
       "    </tr>\n",
       "    <tr>\n",
       "      <th>204559</th>\n",
       "      <td>13827980</td>\n",
       "      <td>13827980.0</td>\n",
       "      <td>NaN</td>\n",
       "      <td>NaN</td>\n",
       "      <td>NaN</td>\n",
       "      <td>caso</td>\n",
       "      <td>2021-06-26 00:00:00</td>\n",
       "      <td>2021-06-16</td>\n",
       "      <td>Actividades gestionadas por la Dirección del S...</td>\n",
       "      <td>11</td>\n",
       "      <td>...</td>\n",
       "      <td>NaT</td>\n",
       "      <td>2021-06-17</td>\n",
       "      <td>NaT</td>\n",
       "      <td>Coyhaique</td>\n",
       "      <td>Coyhaique</td>\n",
       "      <td>43.0</td>\n",
       "      <td>mujer</td>\n",
       "      <td>28763.0</td>\n",
       "      <td>29055.0</td>\n",
       "      <td>57818.0</td>\n",
       "    </tr>\n",
       "  </tbody>\n",
       "</table>\n",
       "<p>2 rows × 62 columns</p>\n",
       "</div>"
      ],
      "text/plain": [
       "                    n_folio  nfolio_caso nfolio_caso_indice nfolio_pntm  \\\n",
       "144817  SC12367433-15219853          NaN           15219853         NaN   \n",
       "204559             13827980   13827980.0                NaN         NaN   \n",
       "\n",
       "       nfolio_contacto_estrecho tipo_seguimiento         dia_contacto  \\\n",
       "144817                 12367433         contacto  2021-05-18 00:00:00   \n",
       "204559                      NaN             caso  2021-06-26 00:00:00   \n",
       "\n",
       "       fecha_notificacion                          nombre_institucion_indice  \\\n",
       "144817         2021-05-17                       SAPU Dr. Alejandro Gutiérrez   \n",
       "204559         2021-06-16  Actividades gestionadas por la Dirección del S...   \n",
       "\n",
       "       region_institucion_indice  ... fecha_resultado_pcr_1  \\\n",
       "144817                        11  ...            2021-05-18   \n",
       "204559                        11  ...                   NaT   \n",
       "\n",
       "       fecha_resultado_pcr_2 fecha_resultado_pcr_3 comuna_seremi_xi  \\\n",
       "144817                   NaT                   NaT        Coyhaique   \n",
       "204559            2021-06-17                   NaT        Coyhaique   \n",
       "\n",
       "       provincia_seremi_xi  edad    sexo pop_hombres pop_mujeres pop_total  \n",
       "144817           Coyhaique  14.0  hombre     28763.0     29055.0   57818.0  \n",
       "204559           Coyhaique  43.0   mujer     28763.0     29055.0   57818.0  \n",
       "\n",
       "[2 rows x 62 columns]"
      ]
     },
     "execution_count": 158,
     "metadata": {},
     "output_type": "execute_result"
    }
   ],
   "source": [
    "\n",
    "#Se consideran sólo registros de casos que estén activos o egresados en la bandeja de seguimiento.\n",
    "\n",
    "df_seguimiento_ind5= df_seguimiento_clean[(df_seguimiento_clean['suspendido']=='activo')|(df_seguimiento_clean['suspendido']=='egresado')]\n",
    "\n",
    "df_seguimiento_ind5.sample(2)"
   ]
  },
  {
   "cell_type": "code",
   "execution_count": 159,
   "id": "86dc3028",
   "metadata": {},
   "outputs": [
    {
     "data": {
      "text/html": [
       "<div>\n",
       "<style scoped>\n",
       "    .dataframe tbody tr th:only-of-type {\n",
       "        vertical-align: middle;\n",
       "    }\n",
       "\n",
       "    .dataframe tbody tr th {\n",
       "        vertical-align: top;\n",
       "    }\n",
       "\n",
       "    .dataframe thead th {\n",
       "        text-align: right;\n",
       "    }\n",
       "</style>\n",
       "<table border=\"1\" class=\"dataframe\">\n",
       "  <thead>\n",
       "    <tr style=\"text-align: right;\">\n",
       "      <th></th>\n",
       "      <th>suspendido</th>\n",
       "      <th>etapa_clinica</th>\n",
       "      <th>visible_no_eliminado</th>\n",
       "      <th>resultado_pcr_1</th>\n",
       "      <th>resultado_pcr_2</th>\n",
       "      <th>resultado_pcr_3</th>\n",
       "    </tr>\n",
       "  </thead>\n",
       "  <tbody>\n",
       "    <tr>\n",
       "      <th>0</th>\n",
       "      <td>egresado</td>\n",
       "      <td>CONFIRMADA</td>\n",
       "      <td>t</td>\n",
       "      <td>POSITIVO</td>\n",
       "      <td>POSITIVO</td>\n",
       "      <td>NaN</td>\n",
       "    </tr>\n",
       "    <tr>\n",
       "      <th>1</th>\n",
       "      <td>egresado</td>\n",
       "      <td>CONFIRMADA</td>\n",
       "      <td>t</td>\n",
       "      <td>POSITIVO</td>\n",
       "      <td>POSITIVO</td>\n",
       "      <td>NaN</td>\n",
       "    </tr>\n",
       "    <tr>\n",
       "      <th>2</th>\n",
       "      <td>egresado</td>\n",
       "      <td>CONFIRMADA</td>\n",
       "      <td>t</td>\n",
       "      <td>NaN</td>\n",
       "      <td>NaN</td>\n",
       "      <td>NaN</td>\n",
       "    </tr>\n",
       "    <tr>\n",
       "      <th>3</th>\n",
       "      <td>egresado</td>\n",
       "      <td>CONFIRMADA</td>\n",
       "      <td>t</td>\n",
       "      <td>POSITIVO</td>\n",
       "      <td>NaN</td>\n",
       "      <td>NaN</td>\n",
       "    </tr>\n",
       "    <tr>\n",
       "      <th>4</th>\n",
       "      <td>egresado</td>\n",
       "      <td>PROBABLE</td>\n",
       "      <td>t</td>\n",
       "      <td>NaN</td>\n",
       "      <td>NaN</td>\n",
       "      <td>NaN</td>\n",
       "    </tr>\n",
       "    <tr>\n",
       "      <th>...</th>\n",
       "      <td>...</td>\n",
       "      <td>...</td>\n",
       "      <td>...</td>\n",
       "      <td>...</td>\n",
       "      <td>...</td>\n",
       "      <td>...</td>\n",
       "    </tr>\n",
       "    <tr>\n",
       "      <th>293816</th>\n",
       "      <td>egresado</td>\n",
       "      <td>CONFIRMADA</td>\n",
       "      <td>t</td>\n",
       "      <td>POSITIVO</td>\n",
       "      <td>POSITIVO</td>\n",
       "      <td>NaN</td>\n",
       "    </tr>\n",
       "    <tr>\n",
       "      <th>293817</th>\n",
       "      <td>egresado</td>\n",
       "      <td>NaN</td>\n",
       "      <td>t</td>\n",
       "      <td>NaN</td>\n",
       "      <td>NaN</td>\n",
       "      <td>NaN</td>\n",
       "    </tr>\n",
       "    <tr>\n",
       "      <th>293818</th>\n",
       "      <td>egresado</td>\n",
       "      <td>NaN</td>\n",
       "      <td>t</td>\n",
       "      <td>NaN</td>\n",
       "      <td>NaN</td>\n",
       "      <td>NaN</td>\n",
       "    </tr>\n",
       "    <tr>\n",
       "      <th>293819</th>\n",
       "      <td>egresado</td>\n",
       "      <td>NaN</td>\n",
       "      <td>t</td>\n",
       "      <td>NaN</td>\n",
       "      <td>NaN</td>\n",
       "      <td>NaN</td>\n",
       "    </tr>\n",
       "    <tr>\n",
       "      <th>293820</th>\n",
       "      <td>egresado</td>\n",
       "      <td>NaN</td>\n",
       "      <td>t</td>\n",
       "      <td>NaN</td>\n",
       "      <td>NaN</td>\n",
       "      <td>NaN</td>\n",
       "    </tr>\n",
       "  </tbody>\n",
       "</table>\n",
       "<p>95216 rows × 6 columns</p>\n",
       "</div>"
      ],
      "text/plain": [
       "       suspendido etapa_clinica visible_no_eliminado resultado_pcr_1  \\\n",
       "0        egresado    CONFIRMADA                    t        POSITIVO   \n",
       "1        egresado    CONFIRMADA                    t        POSITIVO   \n",
       "2        egresado    CONFIRMADA                    t             NaN   \n",
       "3        egresado    CONFIRMADA                    t        POSITIVO   \n",
       "4        egresado      PROBABLE                    t             NaN   \n",
       "...           ...           ...                  ...             ...   \n",
       "293816   egresado    CONFIRMADA                    t        POSITIVO   \n",
       "293817   egresado           NaN                    t             NaN   \n",
       "293818   egresado           NaN                    t             NaN   \n",
       "293819   egresado           NaN                    t             NaN   \n",
       "293820   egresado           NaN                    t             NaN   \n",
       "\n",
       "       resultado_pcr_2  resultado_pcr_3  \n",
       "0             POSITIVO              NaN  \n",
       "1             POSITIVO              NaN  \n",
       "2                  NaN              NaN  \n",
       "3                  NaN              NaN  \n",
       "4                  NaN              NaN  \n",
       "...                ...              ...  \n",
       "293816        POSITIVO              NaN  \n",
       "293817             NaN              NaN  \n",
       "293818             NaN              NaN  \n",
       "293819             NaN              NaN  \n",
       "293820             NaN              NaN  \n",
       "\n",
       "[95216 rows x 6 columns]"
      ]
     },
     "execution_count": 159,
     "metadata": {},
     "output_type": "execute_result"
    }
   ],
   "source": [
    "df_seguimiento_ind5[['suspendido', 'etapa_clinica', 'visible_no_eliminado','resultado_pcr_1','resultado_pcr_2','resultado_pcr_3']]"
   ]
  },
  {
   "cell_type": "code",
   "execution_count": 160,
   "id": "00e7dcdd",
   "metadata": {},
   "outputs": [
    {
     "data": {
      "text/plain": [
       "CONFIRMADA    82340\n",
       "PROBABLE       9364\n",
       "DESCARTADA      475\n",
       "SOSPECHA         43\n",
       "Name: etapa_clinica, dtype: int64"
      ]
     },
     "execution_count": 160,
     "metadata": {},
     "output_type": "execute_result"
    }
   ],
   "source": [
    "# Aún existen casos con 'etapa_clinica' DESCARTADA y SOSPECHA \n",
    "\n",
    "df_seguimiento_ind5.etapa_clinica.value_counts()"
   ]
  },
  {
   "cell_type": "code",
   "execution_count": 161,
   "id": "c174021d",
   "metadata": {},
   "outputs": [
    {
     "data": {
      "text/html": [
       "<div>\n",
       "<style scoped>\n",
       "    .dataframe tbody tr th:only-of-type {\n",
       "        vertical-align: middle;\n",
       "    }\n",
       "\n",
       "    .dataframe tbody tr th {\n",
       "        vertical-align: top;\n",
       "    }\n",
       "\n",
       "    .dataframe thead th {\n",
       "        text-align: right;\n",
       "    }\n",
       "</style>\n",
       "<table border=\"1\" class=\"dataframe\">\n",
       "  <thead>\n",
       "    <tr style=\"text-align: right;\">\n",
       "      <th></th>\n",
       "      <th>etapa_clinica</th>\n",
       "      <th>tipo_seguimiento</th>\n",
       "      <th>fecha_cumple_requisitos</th>\n",
       "      <th>fecha_notificacion</th>\n",
       "      <th>fecha_resultado_pcr_1</th>\n",
       "      <th>fecha_resultado_pcr_2</th>\n",
       "      <th>fecha_resultado_pcr_3</th>\n",
       "    </tr>\n",
       "  </thead>\n",
       "  <tbody>\n",
       "    <tr>\n",
       "      <th>0</th>\n",
       "      <td>CONFIRMADA</td>\n",
       "      <td>caso</td>\n",
       "      <td>2021-03-01</td>\n",
       "      <td>2021-03-01</td>\n",
       "      <td>2021-03-02</td>\n",
       "      <td>2021-03-26</td>\n",
       "      <td>NaT</td>\n",
       "    </tr>\n",
       "    <tr>\n",
       "      <th>1</th>\n",
       "      <td>CONFIRMADA</td>\n",
       "      <td>contacto</td>\n",
       "      <td>2021-03-22</td>\n",
       "      <td>2021-03-20</td>\n",
       "      <td>2021-03-22</td>\n",
       "      <td>2021-03-21</td>\n",
       "      <td>NaT</td>\n",
       "    </tr>\n",
       "    <tr>\n",
       "      <th>2</th>\n",
       "      <td>CONFIRMADA</td>\n",
       "      <td>contacto</td>\n",
       "      <td>2021-03-25</td>\n",
       "      <td>2021-03-23</td>\n",
       "      <td>NaT</td>\n",
       "      <td>NaT</td>\n",
       "      <td>NaT</td>\n",
       "    </tr>\n",
       "    <tr>\n",
       "      <th>3</th>\n",
       "      <td>CONFIRMADA</td>\n",
       "      <td>contacto</td>\n",
       "      <td>2021-03-29</td>\n",
       "      <td>2021-03-29</td>\n",
       "      <td>2021-03-31</td>\n",
       "      <td>NaT</td>\n",
       "      <td>NaT</td>\n",
       "    </tr>\n",
       "    <tr>\n",
       "      <th>5</th>\n",
       "      <td>CONFIRMADA</td>\n",
       "      <td>contacto</td>\n",
       "      <td>2021-04-05</td>\n",
       "      <td>2021-04-05</td>\n",
       "      <td>NaT</td>\n",
       "      <td>NaT</td>\n",
       "      <td>NaT</td>\n",
       "    </tr>\n",
       "    <tr>\n",
       "      <th>...</th>\n",
       "      <td>...</td>\n",
       "      <td>...</td>\n",
       "      <td>...</td>\n",
       "      <td>...</td>\n",
       "      <td>...</td>\n",
       "      <td>...</td>\n",
       "      <td>...</td>\n",
       "    </tr>\n",
       "    <tr>\n",
       "      <th>293805</th>\n",
       "      <td>CONFIRMADA</td>\n",
       "      <td>contacto</td>\n",
       "      <td>2021-08-14</td>\n",
       "      <td>2021-08-12</td>\n",
       "      <td>2021-08-14</td>\n",
       "      <td>2021-06-05</td>\n",
       "      <td>NaT</td>\n",
       "    </tr>\n",
       "    <tr>\n",
       "      <th>293806</th>\n",
       "      <td>CONFIRMADA</td>\n",
       "      <td>contacto</td>\n",
       "      <td>2021-08-17</td>\n",
       "      <td>2021-08-15</td>\n",
       "      <td>2021-08-16</td>\n",
       "      <td>2021-08-19</td>\n",
       "      <td>NaT</td>\n",
       "    </tr>\n",
       "    <tr>\n",
       "      <th>293807</th>\n",
       "      <td>CONFIRMADA</td>\n",
       "      <td>contacto</td>\n",
       "      <td>2021-08-19</td>\n",
       "      <td>2021-08-17</td>\n",
       "      <td>NaT</td>\n",
       "      <td>NaT</td>\n",
       "      <td>NaT</td>\n",
       "    </tr>\n",
       "    <tr>\n",
       "      <th>293815</th>\n",
       "      <td>CONFIRMADA</td>\n",
       "      <td>contacto</td>\n",
       "      <td>2021-08-18</td>\n",
       "      <td>2021-08-16</td>\n",
       "      <td>2021-08-17</td>\n",
       "      <td>2021-08-19</td>\n",
       "      <td>NaT</td>\n",
       "    </tr>\n",
       "    <tr>\n",
       "      <th>293816</th>\n",
       "      <td>CONFIRMADA</td>\n",
       "      <td>contacto</td>\n",
       "      <td>2021-08-17</td>\n",
       "      <td>2021-08-15</td>\n",
       "      <td>2021-08-16</td>\n",
       "      <td>2021-08-19</td>\n",
       "      <td>NaT</td>\n",
       "    </tr>\n",
       "  </tbody>\n",
       "</table>\n",
       "<p>82340 rows × 7 columns</p>\n",
       "</div>"
      ],
      "text/plain": [
       "       etapa_clinica tipo_seguimiento fecha_cumple_requisitos  \\\n",
       "0         CONFIRMADA             caso              2021-03-01   \n",
       "1         CONFIRMADA         contacto              2021-03-22   \n",
       "2         CONFIRMADA         contacto              2021-03-25   \n",
       "3         CONFIRMADA         contacto              2021-03-29   \n",
       "5         CONFIRMADA         contacto              2021-04-05   \n",
       "...              ...              ...                     ...   \n",
       "293805    CONFIRMADA         contacto              2021-08-14   \n",
       "293806    CONFIRMADA         contacto              2021-08-17   \n",
       "293807    CONFIRMADA         contacto              2021-08-19   \n",
       "293815    CONFIRMADA         contacto              2021-08-18   \n",
       "293816    CONFIRMADA         contacto              2021-08-17   \n",
       "\n",
       "       fecha_notificacion fecha_resultado_pcr_1 fecha_resultado_pcr_2  \\\n",
       "0              2021-03-01            2021-03-02            2021-03-26   \n",
       "1              2021-03-20            2021-03-22            2021-03-21   \n",
       "2              2021-03-23                   NaT                   NaT   \n",
       "3              2021-03-29            2021-03-31                   NaT   \n",
       "5              2021-04-05                   NaT                   NaT   \n",
       "...                   ...                   ...                   ...   \n",
       "293805         2021-08-12            2021-08-14            2021-06-05   \n",
       "293806         2021-08-15            2021-08-16            2021-08-19   \n",
       "293807         2021-08-17                   NaT                   NaT   \n",
       "293815         2021-08-16            2021-08-17            2021-08-19   \n",
       "293816         2021-08-15            2021-08-16            2021-08-19   \n",
       "\n",
       "       fecha_resultado_pcr_3  \n",
       "0                        NaT  \n",
       "1                        NaT  \n",
       "2                        NaT  \n",
       "3                        NaT  \n",
       "5                        NaT  \n",
       "...                      ...  \n",
       "293805                   NaT  \n",
       "293806                   NaT  \n",
       "293807                   NaT  \n",
       "293815                   NaT  \n",
       "293816                   NaT  \n",
       "\n",
       "[82340 rows x 7 columns]"
      ]
     },
     "execution_count": 161,
     "metadata": {},
     "output_type": "execute_result"
    }
   ],
   "source": [
    "\n",
    "df_seguimiento_ind5[df_seguimiento_ind5['etapa_clinica']=='CONFIRMADA'][\n",
    "    ['etapa_clinica',\n",
    "     'tipo_seguimiento',\n",
    "     'fecha_cumple_requisitos', \n",
    "     'fecha_notificacion',\n",
    "     'fecha_resultado_pcr_1',\n",
    "     'fecha_resultado_pcr_2',\n",
    "     'fecha_resultado_pcr_3']\n",
    "]"
   ]
  },
  {
   "cell_type": "code",
   "execution_count": 480,
   "id": "c65673c9",
   "metadata": {},
   "outputs": [],
   "source": [
    "# Elimina etapa_clinica DESCARTADA y SOSPECHA\n",
    "df_seguimiento_ind5 = df_seguimiento_ind5[(df_seguimiento_ind5['etapa_clinica']!='DESCARTADA')|(df_seguimiento_ind5['etapa_clinica']!='SOSPECHA')]"
   ]
  },
  {
   "cell_type": "code",
   "execution_count": 505,
   "id": "9232fd41",
   "metadata": {},
   "outputs": [],
   "source": [
    "# Toma en cuenta solo el primer contacto con el contacto o caso\n",
    "\n",
    "df_seguimiento_ind5= df_seguimiento_ind5.sort_values(by=['n_folio', 'dia_contacto']).groupby('n_folio').head(1)"
   ]
  },
  {
   "cell_type": "code",
   "execution_count": 506,
   "id": "35b7a61f",
   "metadata": {},
   "outputs": [],
   "source": [
    "#Crea diferencia de fecha\n",
    "df_seguimiento_ind5['dif_fecha'] = df_seguimiento_ind5['fecha_cumple_requisitos'] - df_seguimiento_ind5['fecha_notificacion']"
   ]
  },
  {
   "cell_type": "code",
   "execution_count": 507,
   "id": "cb8ed623",
   "metadata": {},
   "outputs": [],
   "source": [
    "# Crea columna considerando si diferencial de fecha cumple requisitos y fecha de notificacion\n",
    "# es menor a un timedelta de d 2 días\n",
    "\n",
    "df_seguimiento_ind5['ind5'] = df_seguimiento_ind5['dif_fecha']<= pd.to_timedelta('2 days')"
   ]
  },
  {
   "cell_type": "code",
   "execution_count": 508,
   "id": "d8593408",
   "metadata": {},
   "outputs": [
    {
     "data": {
      "text/html": [
       "<div>\n",
       "<style scoped>\n",
       "    .dataframe tbody tr th:only-of-type {\n",
       "        vertical-align: middle;\n",
       "    }\n",
       "\n",
       "    .dataframe tbody tr th {\n",
       "        vertical-align: top;\n",
       "    }\n",
       "\n",
       "    .dataframe thead th {\n",
       "        text-align: right;\n",
       "    }\n",
       "</style>\n",
       "<table border=\"1\" class=\"dataframe\">\n",
       "  <thead>\n",
       "    <tr style=\"text-align: right;\">\n",
       "      <th></th>\n",
       "      <th>fecha_creacion</th>\n",
       "      <th>fecha_notificacion</th>\n",
       "      <th>fecha_cumple_requisitos</th>\n",
       "      <th>fecha_derivacion_toma_muestra</th>\n",
       "      <th>cont_fecha_seguimiento</th>\n",
       "      <th>cont_inicio_cuarentena</th>\n",
       "      <th>cont_fin_cuarentena</th>\n",
       "      <th>cont_fecha_licencia</th>\n",
       "      <th>dif_fecha</th>\n",
       "    </tr>\n",
       "  </thead>\n",
       "  <tbody>\n",
       "    <tr>\n",
       "      <th>128289</th>\n",
       "      <td>2021-05-19 21:03:30.902947</td>\n",
       "      <td>2021-05-15</td>\n",
       "      <td>2021-05-19</td>\n",
       "      <td>Sin Datos</td>\n",
       "      <td>Sin Datos</td>\n",
       "      <td>2021-05-15 00:00:00</td>\n",
       "      <td>2021-05-28 00:00:00</td>\n",
       "      <td>Sin Datos</td>\n",
       "      <td>4 days</td>\n",
       "    </tr>\n",
       "    <tr>\n",
       "      <th>219737</th>\n",
       "      <td>2021-06-24 00:34:24.191499</td>\n",
       "      <td>NaT</td>\n",
       "      <td>2021-06-23</td>\n",
       "      <td>Sin Datos</td>\n",
       "      <td>Sin Datos</td>\n",
       "      <td>2021-06-23 00:00:00</td>\n",
       "      <td>2021-07-03 00:00:00</td>\n",
       "      <td>Sin Datos</td>\n",
       "      <td>NaT</td>\n",
       "    </tr>\n",
       "    <tr>\n",
       "      <th>211205</th>\n",
       "      <td>2021-06-07 18:02:24.857389</td>\n",
       "      <td>2021-06-07</td>\n",
       "      <td>2021-06-07</td>\n",
       "      <td>2021-06-07 00:00:00</td>\n",
       "      <td>Sin Datos</td>\n",
       "      <td>2021-06-07 00:00:00</td>\n",
       "      <td>2021-06-20 00:00:00</td>\n",
       "      <td>Sin Datos</td>\n",
       "      <td>0 days</td>\n",
       "    </tr>\n",
       "    <tr>\n",
       "      <th>275924</th>\n",
       "      <td>2021-08-23 09:56:09.309675</td>\n",
       "      <td>2021-08-23</td>\n",
       "      <td>2021-08-23</td>\n",
       "      <td>Sin Datos</td>\n",
       "      <td>Sin Datos</td>\n",
       "      <td>2021-08-16 00:00:00</td>\n",
       "      <td>2021-08-26 00:00:00</td>\n",
       "      <td>Sin Datos</td>\n",
       "      <td>0 days</td>\n",
       "    </tr>\n",
       "  </tbody>\n",
       "</table>\n",
       "</div>"
      ],
      "text/plain": [
       "                   fecha_creacion fecha_notificacion fecha_cumple_requisitos  \\\n",
       "128289 2021-05-19 21:03:30.902947         2021-05-15              2021-05-19   \n",
       "219737 2021-06-24 00:34:24.191499                NaT              2021-06-23   \n",
       "211205 2021-06-07 18:02:24.857389         2021-06-07              2021-06-07   \n",
       "275924 2021-08-23 09:56:09.309675         2021-08-23              2021-08-23   \n",
       "\n",
       "       fecha_derivacion_toma_muestra cont_fecha_seguimiento  \\\n",
       "128289                     Sin Datos              Sin Datos   \n",
       "219737                     Sin Datos              Sin Datos   \n",
       "211205           2021-06-07 00:00:00              Sin Datos   \n",
       "275924                     Sin Datos              Sin Datos   \n",
       "\n",
       "       cont_inicio_cuarentena  cont_fin_cuarentena cont_fecha_licencia  \\\n",
       "128289    2021-05-15 00:00:00  2021-05-28 00:00:00           Sin Datos   \n",
       "219737    2021-06-23 00:00:00  2021-07-03 00:00:00           Sin Datos   \n",
       "211205    2021-06-07 00:00:00  2021-06-20 00:00:00           Sin Datos   \n",
       "275924    2021-08-16 00:00:00  2021-08-26 00:00:00           Sin Datos   \n",
       "\n",
       "       dif_fecha  \n",
       "128289    4 days  \n",
       "219737       NaT  \n",
       "211205    0 days  \n",
       "275924    0 days  "
      ]
     },
     "execution_count": 508,
     "metadata": {},
     "output_type": "execute_result"
    }
   ],
   "source": [
    "df_seguimiento_ind5[['fecha_creacion',\n",
    "                       'fecha_notificacion', \n",
    "                       'fecha_cumple_requisitos', #Se considera un caso nuevo registrado a aquel caso notificado que cumple los requisitos para estar en el modulo de seguimiento\n",
    "                       'fecha_derivacion_toma_muestra',\n",
    "                       'cont_fecha_seguimiento',\n",
    "                       'cont_inicio_cuarentena',\n",
    "                       'cont_fin_cuarentena',\n",
    "                       'cont_fecha_licencia',\n",
    "                       'dif_fecha'\n",
    "                      ]].sample(4)"
   ]
  },
  {
   "cell_type": "code",
   "execution_count": 509,
   "id": "9347fcfe",
   "metadata": {},
   "outputs": [
    {
     "data": {
      "text/html": [
       "<div>\n",
       "<style scoped>\n",
       "    .dataframe tbody tr th:only-of-type {\n",
       "        vertical-align: middle;\n",
       "    }\n",
       "\n",
       "    .dataframe tbody tr th {\n",
       "        vertical-align: top;\n",
       "    }\n",
       "\n",
       "    .dataframe thead th {\n",
       "        text-align: right;\n",
       "    }\n",
       "</style>\n",
       "<table border=\"1\" class=\"dataframe\">\n",
       "  <thead>\n",
       "    <tr style=\"text-align: right;\">\n",
       "      <th></th>\n",
       "      <th>fecha_cumple_requisitos</th>\n",
       "      <th>ind5</th>\n",
       "      <th>n_folio</th>\n",
       "    </tr>\n",
       "  </thead>\n",
       "  <tbody>\n",
       "    <tr>\n",
       "      <th>0</th>\n",
       "      <td>2021-03-01</td>\n",
       "      <td>True</td>\n",
       "      <td>27</td>\n",
       "    </tr>\n",
       "    <tr>\n",
       "      <th>1</th>\n",
       "      <td>2021-03-02</td>\n",
       "      <td>True</td>\n",
       "      <td>62</td>\n",
       "    </tr>\n",
       "    <tr>\n",
       "      <th>2</th>\n",
       "      <td>2021-03-03</td>\n",
       "      <td>True</td>\n",
       "      <td>56</td>\n",
       "    </tr>\n",
       "    <tr>\n",
       "      <th>3</th>\n",
       "      <td>2021-03-04</td>\n",
       "      <td>False</td>\n",
       "      <td>6</td>\n",
       "    </tr>\n",
       "    <tr>\n",
       "      <th>4</th>\n",
       "      <td>2021-03-04</td>\n",
       "      <td>True</td>\n",
       "      <td>33</td>\n",
       "    </tr>\n",
       "    <tr>\n",
       "      <th>...</th>\n",
       "      <td>...</td>\n",
       "      <td>...</td>\n",
       "      <td>...</td>\n",
       "    </tr>\n",
       "    <tr>\n",
       "      <th>339</th>\n",
       "      <td>2021-08-27</td>\n",
       "      <td>True</td>\n",
       "      <td>13</td>\n",
       "    </tr>\n",
       "    <tr>\n",
       "      <th>340</th>\n",
       "      <td>2021-08-28</td>\n",
       "      <td>True</td>\n",
       "      <td>6</td>\n",
       "    </tr>\n",
       "    <tr>\n",
       "      <th>341</th>\n",
       "      <td>2021-08-29</td>\n",
       "      <td>True</td>\n",
       "      <td>20</td>\n",
       "    </tr>\n",
       "    <tr>\n",
       "      <th>342</th>\n",
       "      <td>2021-08-30</td>\n",
       "      <td>True</td>\n",
       "      <td>82</td>\n",
       "    </tr>\n",
       "    <tr>\n",
       "      <th>343</th>\n",
       "      <td>2021-08-31</td>\n",
       "      <td>True</td>\n",
       "      <td>6</td>\n",
       "    </tr>\n",
       "  </tbody>\n",
       "</table>\n",
       "<p>344 rows × 3 columns</p>\n",
       "</div>"
      ],
      "text/plain": [
       "    fecha_cumple_requisitos   ind5  n_folio\n",
       "0                2021-03-01   True       27\n",
       "1                2021-03-02   True       62\n",
       "2                2021-03-03   True       56\n",
       "3                2021-03-04  False        6\n",
       "4                2021-03-04   True       33\n",
       "..                      ...    ...      ...\n",
       "339              2021-08-27   True       13\n",
       "340              2021-08-28   True        6\n",
       "341              2021-08-29   True       20\n",
       "342              2021-08-30   True       82\n",
       "343              2021-08-31   True        6\n",
       "\n",
       "[344 rows x 3 columns]"
      ]
     },
     "execution_count": 509,
     "metadata": {},
     "output_type": "execute_result"
    }
   ],
   "source": [
    "df_seguimiento_ind5.groupby(['fecha_cumple_requisitos', 'ind5']).count()[['n_folio']].reset_index()"
   ]
  },
  {
   "cell_type": "code",
   "execution_count": 510,
   "id": "172eaea9",
   "metadata": {},
   "outputs": [
    {
     "data": {
      "application/vnd.plotly.v1+json": {
       "config": {
        "plotlyServerURL": "https://plot.ly"
       },
       "data": [
        {
         "alignmentgroup": "True",
         "hovertemplate": "Cumple=True<br>fecha_cumple_requisitos=%{x}<br>n_folio=%{y}<extra></extra>",
         "legendgroup": "True",
         "marker": {
          "color": "#636efa"
         },
         "name": "True",
         "offsetgroup": "True",
         "orientation": "v",
         "showlegend": true,
         "textposition": "auto",
         "type": "bar",
         "x": [
          "2021-03-01T00:00:00",
          "2021-03-02T00:00:00",
          "2021-03-03T00:00:00",
          "2021-03-04T00:00:00",
          "2021-03-05T00:00:00",
          "2021-03-06T00:00:00",
          "2021-03-07T00:00:00",
          "2021-03-08T00:00:00",
          "2021-03-09T00:00:00",
          "2021-03-10T00:00:00",
          "2021-03-11T00:00:00",
          "2021-03-12T00:00:00",
          "2021-03-13T00:00:00",
          "2021-03-14T00:00:00",
          "2021-03-15T00:00:00",
          "2021-03-16T00:00:00",
          "2021-03-17T00:00:00",
          "2021-03-18T00:00:00",
          "2021-03-19T00:00:00",
          "2021-03-20T00:00:00",
          "2021-03-21T00:00:00",
          "2021-03-22T00:00:00",
          "2021-03-23T00:00:00",
          "2021-03-24T00:00:00",
          "2021-03-25T00:00:00",
          "2021-03-26T00:00:00",
          "2021-03-27T00:00:00",
          "2021-03-28T00:00:00",
          "2021-03-29T00:00:00",
          "2021-03-30T00:00:00",
          "2021-03-31T00:00:00",
          "2021-04-01T00:00:00",
          "2021-04-02T00:00:00",
          "2021-04-03T00:00:00",
          "2021-04-04T00:00:00",
          "2021-04-05T00:00:00",
          "2021-04-06T00:00:00",
          "2021-04-07T00:00:00",
          "2021-04-08T00:00:00",
          "2021-04-09T00:00:00",
          "2021-04-10T00:00:00",
          "2021-04-11T00:00:00",
          "2021-04-12T00:00:00",
          "2021-04-13T00:00:00",
          "2021-04-14T00:00:00",
          "2021-04-15T00:00:00",
          "2021-04-16T00:00:00",
          "2021-04-17T00:00:00",
          "2021-04-18T00:00:00",
          "2021-04-19T00:00:00",
          "2021-04-20T00:00:00",
          "2021-04-21T00:00:00",
          "2021-04-22T00:00:00",
          "2021-04-23T00:00:00",
          "2021-04-24T00:00:00",
          "2021-04-25T00:00:00",
          "2021-04-26T00:00:00",
          "2021-04-27T00:00:00",
          "2021-04-28T00:00:00",
          "2021-04-29T00:00:00",
          "2021-04-30T00:00:00",
          "2021-05-01T00:00:00",
          "2021-05-02T00:00:00",
          "2021-05-03T00:00:00",
          "2021-05-04T00:00:00",
          "2021-05-05T00:00:00",
          "2021-05-06T00:00:00",
          "2021-05-07T00:00:00",
          "2021-05-08T00:00:00",
          "2021-05-09T00:00:00",
          "2021-05-10T00:00:00",
          "2021-05-11T00:00:00",
          "2021-05-12T00:00:00",
          "2021-05-13T00:00:00",
          "2021-05-14T00:00:00",
          "2021-05-15T00:00:00",
          "2021-05-16T00:00:00",
          "2021-05-17T00:00:00",
          "2021-05-18T00:00:00",
          "2021-05-19T00:00:00",
          "2021-05-20T00:00:00",
          "2021-05-21T00:00:00",
          "2021-05-22T00:00:00",
          "2021-05-23T00:00:00",
          "2021-05-24T00:00:00",
          "2021-05-25T00:00:00",
          "2021-05-26T00:00:00",
          "2021-05-27T00:00:00",
          "2021-05-28T00:00:00",
          "2021-05-29T00:00:00",
          "2021-05-30T00:00:00",
          "2021-05-31T00:00:00",
          "2021-06-01T00:00:00",
          "2021-06-02T00:00:00",
          "2021-06-03T00:00:00",
          "2021-06-04T00:00:00",
          "2021-06-05T00:00:00",
          "2021-06-06T00:00:00",
          "2021-06-07T00:00:00",
          "2021-06-08T00:00:00",
          "2021-06-09T00:00:00",
          "2021-06-10T00:00:00",
          "2021-06-11T00:00:00",
          "2021-06-12T00:00:00",
          "2021-06-13T00:00:00",
          "2021-06-14T00:00:00",
          "2021-06-15T00:00:00",
          "2021-06-16T00:00:00",
          "2021-06-17T00:00:00",
          "2021-06-18T00:00:00",
          "2021-06-19T00:00:00",
          "2021-06-20T00:00:00",
          "2021-06-21T00:00:00",
          "2021-06-22T00:00:00",
          "2021-06-23T00:00:00",
          "2021-06-24T00:00:00",
          "2021-06-25T00:00:00",
          "2021-06-26T00:00:00",
          "2021-06-27T00:00:00",
          "2021-06-28T00:00:00",
          "2021-06-29T00:00:00",
          "2021-06-30T00:00:00",
          "2021-07-01T00:00:00",
          "2021-07-02T00:00:00",
          "2021-07-03T00:00:00",
          "2021-07-04T00:00:00",
          "2021-07-05T00:00:00",
          "2021-07-06T00:00:00",
          "2021-07-07T00:00:00",
          "2021-07-08T00:00:00",
          "2021-07-09T00:00:00",
          "2021-07-10T00:00:00",
          "2021-07-11T00:00:00",
          "2021-07-12T00:00:00",
          "2021-07-13T00:00:00",
          "2021-07-14T00:00:00",
          "2021-07-15T00:00:00",
          "2021-07-16T00:00:00",
          "2021-07-17T00:00:00",
          "2021-07-18T00:00:00",
          "2021-07-19T00:00:00",
          "2021-07-20T00:00:00",
          "2021-07-21T00:00:00",
          "2021-07-22T00:00:00",
          "2021-07-23T00:00:00",
          "2021-07-24T00:00:00",
          "2021-07-25T00:00:00",
          "2021-07-26T00:00:00",
          "2021-07-27T00:00:00",
          "2021-07-28T00:00:00",
          "2021-07-29T00:00:00",
          "2021-07-30T00:00:00",
          "2021-07-31T00:00:00",
          "2021-08-01T00:00:00",
          "2021-08-02T00:00:00",
          "2021-08-03T00:00:00",
          "2021-08-04T00:00:00",
          "2021-08-05T00:00:00",
          "2021-08-06T00:00:00",
          "2021-08-07T00:00:00",
          "2021-08-08T00:00:00",
          "2021-08-09T00:00:00",
          "2021-08-10T00:00:00",
          "2021-08-11T00:00:00",
          "2021-08-12T00:00:00",
          "2021-08-13T00:00:00",
          "2021-08-14T00:00:00",
          "2021-08-15T00:00:00",
          "2021-08-16T00:00:00",
          "2021-08-17T00:00:00",
          "2021-08-18T00:00:00",
          "2021-08-19T00:00:00",
          "2021-08-20T00:00:00",
          "2021-08-21T00:00:00",
          "2021-08-22T00:00:00",
          "2021-08-23T00:00:00",
          "2021-08-24T00:00:00",
          "2021-08-25T00:00:00",
          "2021-08-26T00:00:00",
          "2021-08-27T00:00:00",
          "2021-08-28T00:00:00",
          "2021-08-29T00:00:00",
          "2021-08-30T00:00:00",
          "2021-08-31T00:00:00"
         ],
         "xaxis": "x",
         "y": [
          27,
          62,
          56,
          33,
          49,
          32,
          21,
          21,
          55,
          56,
          34,
          33,
          40,
          46,
          65,
          45,
          18,
          44,
          20,
          20,
          58,
          70,
          101,
          71,
          95,
          62,
          32,
          50,
          95,
          102,
          44,
          83,
          43,
          49,
          42,
          108,
          112,
          64,
          64,
          87,
          97,
          47,
          47,
          72,
          52,
          71,
          106,
          55,
          76,
          42,
          139,
          109,
          140,
          81,
          66,
          86,
          77,
          132,
          167,
          213,
          156,
          95,
          55,
          106,
          126,
          148,
          142,
          119,
          93,
          89,
          127,
          146,
          190,
          212,
          236,
          140,
          113,
          184,
          240,
          326,
          315,
          210,
          165,
          72,
          209,
          251,
          285,
          244,
          246,
          142,
          117,
          252,
          377,
          264,
          245,
          167,
          142,
          57,
          230,
          153,
          221,
          208,
          213,
          103,
          131,
          175,
          132,
          233,
          205,
          161,
          96,
          78,
          54,
          111,
          147,
          100,
          123,
          74,
          82,
          53,
          91,
          162,
          83,
          140,
          41,
          31,
          96,
          97,
          79,
          93,
          139,
          51,
          22,
          5,
          43,
          39,
          23,
          15,
          12,
          1,
          10,
          16,
          8,
          11,
          23,
          7,
          3,
          3,
          5,
          23,
          12,
          10,
          4,
          11,
          11,
          6,
          12,
          21,
          56,
          40,
          6,
          13,
          23,
          8,
          24,
          35,
          28,
          25,
          59,
          62,
          74,
          40,
          48,
          23,
          10,
          33,
          27,
          46,
          17,
          13,
          6,
          20,
          82,
          6
         ],
         "yaxis": "y"
        },
        {
         "alignmentgroup": "True",
         "hovertemplate": "Cumple=False<br>fecha_cumple_requisitos=%{x}<br>n_folio=%{y}<extra></extra>",
         "legendgroup": "False",
         "marker": {
          "color": "#EF553B"
         },
         "name": "False",
         "offsetgroup": "False",
         "orientation": "v",
         "showlegend": true,
         "textposition": "auto",
         "type": "bar",
         "x": [
          "2021-03-04T00:00:00",
          "2021-03-05T00:00:00",
          "2021-03-06T00:00:00",
          "2021-03-07T00:00:00",
          "2021-03-08T00:00:00",
          "2021-03-09T00:00:00",
          "2021-03-10T00:00:00",
          "2021-03-11T00:00:00",
          "2021-03-12T00:00:00",
          "2021-03-13T00:00:00",
          "2021-03-14T00:00:00",
          "2021-03-15T00:00:00",
          "2021-03-16T00:00:00",
          "2021-03-17T00:00:00",
          "2021-03-18T00:00:00",
          "2021-03-19T00:00:00",
          "2021-03-20T00:00:00",
          "2021-03-21T00:00:00",
          "2021-03-22T00:00:00",
          "2021-03-23T00:00:00",
          "2021-03-24T00:00:00",
          "2021-03-25T00:00:00",
          "2021-03-26T00:00:00",
          "2021-03-27T00:00:00",
          "2021-03-28T00:00:00",
          "2021-03-29T00:00:00",
          "2021-03-30T00:00:00",
          "2021-03-31T00:00:00",
          "2021-04-01T00:00:00",
          "2021-04-02T00:00:00",
          "2021-04-03T00:00:00",
          "2021-04-04T00:00:00",
          "2021-04-05T00:00:00",
          "2021-04-06T00:00:00",
          "2021-04-07T00:00:00",
          "2021-04-08T00:00:00",
          "2021-04-09T00:00:00",
          "2021-04-10T00:00:00",
          "2021-04-11T00:00:00",
          "2021-04-12T00:00:00",
          "2021-04-13T00:00:00",
          "2021-04-14T00:00:00",
          "2021-04-15T00:00:00",
          "2021-04-16T00:00:00",
          "2021-04-17T00:00:00",
          "2021-04-18T00:00:00",
          "2021-04-19T00:00:00",
          "2021-04-20T00:00:00",
          "2021-04-21T00:00:00",
          "2021-04-22T00:00:00",
          "2021-04-23T00:00:00",
          "2021-04-24T00:00:00",
          "2021-04-25T00:00:00",
          "2021-04-26T00:00:00",
          "2021-04-27T00:00:00",
          "2021-04-28T00:00:00",
          "2021-04-29T00:00:00",
          "2021-04-30T00:00:00",
          "2021-05-01T00:00:00",
          "2021-05-02T00:00:00",
          "2021-05-03T00:00:00",
          "2021-05-04T00:00:00",
          "2021-05-05T00:00:00",
          "2021-05-06T00:00:00",
          "2021-05-07T00:00:00",
          "2021-05-08T00:00:00",
          "2021-05-09T00:00:00",
          "2021-05-10T00:00:00",
          "2021-05-11T00:00:00",
          "2021-05-12T00:00:00",
          "2021-05-13T00:00:00",
          "2021-05-14T00:00:00",
          "2021-05-15T00:00:00",
          "2021-05-16T00:00:00",
          "2021-05-17T00:00:00",
          "2021-05-18T00:00:00",
          "2021-05-19T00:00:00",
          "2021-05-20T00:00:00",
          "2021-05-21T00:00:00",
          "2021-05-22T00:00:00",
          "2021-05-23T00:00:00",
          "2021-05-24T00:00:00",
          "2021-05-25T00:00:00",
          "2021-05-26T00:00:00",
          "2021-05-27T00:00:00",
          "2021-05-28T00:00:00",
          "2021-05-29T00:00:00",
          "2021-05-30T00:00:00",
          "2021-05-31T00:00:00",
          "2021-06-01T00:00:00",
          "2021-06-02T00:00:00",
          "2021-06-03T00:00:00",
          "2021-06-04T00:00:00",
          "2021-06-05T00:00:00",
          "2021-06-06T00:00:00",
          "2021-06-07T00:00:00",
          "2021-06-08T00:00:00",
          "2021-06-09T00:00:00",
          "2021-06-10T00:00:00",
          "2021-06-11T00:00:00",
          "2021-06-12T00:00:00",
          "2021-06-13T00:00:00",
          "2021-06-14T00:00:00",
          "2021-06-15T00:00:00",
          "2021-06-16T00:00:00",
          "2021-06-17T00:00:00",
          "2021-06-18T00:00:00",
          "2021-06-19T00:00:00",
          "2021-06-20T00:00:00",
          "2021-06-21T00:00:00",
          "2021-06-22T00:00:00",
          "2021-06-23T00:00:00",
          "2021-06-24T00:00:00",
          "2021-06-25T00:00:00",
          "2021-06-26T00:00:00",
          "2021-06-27T00:00:00",
          "2021-06-28T00:00:00",
          "2021-06-29T00:00:00",
          "2021-06-30T00:00:00",
          "2021-07-02T00:00:00",
          "2021-07-03T00:00:00",
          "2021-07-04T00:00:00",
          "2021-07-05T00:00:00",
          "2021-07-06T00:00:00",
          "2021-07-07T00:00:00",
          "2021-07-08T00:00:00",
          "2021-07-09T00:00:00",
          "2021-07-10T00:00:00",
          "2021-07-11T00:00:00",
          "2021-07-12T00:00:00",
          "2021-07-13T00:00:00",
          "2021-07-14T00:00:00",
          "2021-07-15T00:00:00",
          "2021-07-16T00:00:00",
          "2021-07-17T00:00:00",
          "2021-07-19T00:00:00",
          "2021-07-20T00:00:00",
          "2021-07-21T00:00:00",
          "2021-07-22T00:00:00",
          "2021-07-24T00:00:00",
          "2021-07-25T00:00:00",
          "2021-07-26T00:00:00",
          "2021-07-28T00:00:00",
          "2021-07-29T00:00:00",
          "2021-07-31T00:00:00",
          "2021-08-02T00:00:00",
          "2021-08-03T00:00:00",
          "2021-08-04T00:00:00",
          "2021-08-06T00:00:00",
          "2021-08-12T00:00:00",
          "2021-08-15T00:00:00",
          "2021-08-16T00:00:00",
          "2021-08-17T00:00:00",
          "2021-08-18T00:00:00",
          "2021-08-19T00:00:00",
          "2021-08-20T00:00:00",
          "2021-08-21T00:00:00",
          "2021-08-22T00:00:00",
          "2021-08-24T00:00:00",
          "2021-08-27T00:00:00"
         ],
         "xaxis": "x",
         "y": [
          6,
          10,
          4,
          15,
          41,
          8,
          9,
          5,
          9,
          9,
          13,
          21,
          7,
          6,
          35,
          17,
          14,
          41,
          4,
          18,
          7,
          15,
          24,
          1,
          9,
          23,
          5,
          7,
          29,
          8,
          9,
          13,
          11,
          13,
          2,
          10,
          24,
          17,
          11,
          27,
          3,
          14,
          4,
          5,
          5,
          6,
          8,
          9,
          9,
          30,
          13,
          5,
          6,
          19,
          8,
          11,
          10,
          8,
          5,
          13,
          52,
          23,
          14,
          15,
          11,
          2,
          5,
          54,
          31,
          18,
          5,
          13,
          30,
          31,
          50,
          27,
          25,
          30,
          20,
          26,
          56,
          55,
          21,
          29,
          31,
          38,
          17,
          35,
          94,
          44,
          10,
          14,
          31,
          40,
          32,
          76,
          49,
          44,
          61,
          14,
          14,
          38,
          16,
          79,
          25,
          29,
          26,
          15,
          6,
          3,
          14,
          21,
          22,
          10,
          2,
          8,
          11,
          9,
          18,
          3,
          4,
          5,
          13,
          3,
          5,
          21,
          31,
          3,
          2,
          2,
          7,
          2,
          2,
          3,
          3,
          2,
          4,
          3,
          7,
          2,
          7,
          3,
          1,
          2,
          1,
          1,
          3,
          1,
          5,
          9,
          1,
          17,
          2,
          3,
          1,
          2,
          2,
          1,
          6,
          3
         ],
         "yaxis": "y"
        }
       ],
       "layout": {
        "barmode": "relative",
        "legend": {
         "title": {
          "text": "Cumple"
         },
         "tracegroupgap": 0
        },
        "margin": {
         "t": 60
        },
        "template": {
         "data": {
          "bar": [
           {
            "error_x": {
             "color": "rgb(36,36,36)"
            },
            "error_y": {
             "color": "rgb(36,36,36)"
            },
            "marker": {
             "line": {
              "color": "white",
              "width": 0.5
             }
            },
            "type": "bar"
           }
          ],
          "barpolar": [
           {
            "marker": {
             "line": {
              "color": "white",
              "width": 0.5
             }
            },
            "type": "barpolar"
           }
          ],
          "carpet": [
           {
            "aaxis": {
             "endlinecolor": "rgb(36,36,36)",
             "gridcolor": "white",
             "linecolor": "white",
             "minorgridcolor": "white",
             "startlinecolor": "rgb(36,36,36)"
            },
            "baxis": {
             "endlinecolor": "rgb(36,36,36)",
             "gridcolor": "white",
             "linecolor": "white",
             "minorgridcolor": "white",
             "startlinecolor": "rgb(36,36,36)"
            },
            "type": "carpet"
           }
          ],
          "choropleth": [
           {
            "colorbar": {
             "outlinewidth": 1,
             "tickcolor": "rgb(36,36,36)",
             "ticks": "outside"
            },
            "type": "choropleth"
           }
          ],
          "contour": [
           {
            "colorbar": {
             "outlinewidth": 1,
             "tickcolor": "rgb(36,36,36)",
             "ticks": "outside"
            },
            "colorscale": [
             [
              0,
              "#440154"
             ],
             [
              0.1111111111111111,
              "#482878"
             ],
             [
              0.2222222222222222,
              "#3e4989"
             ],
             [
              0.3333333333333333,
              "#31688e"
             ],
             [
              0.4444444444444444,
              "#26828e"
             ],
             [
              0.5555555555555556,
              "#1f9e89"
             ],
             [
              0.6666666666666666,
              "#35b779"
             ],
             [
              0.7777777777777778,
              "#6ece58"
             ],
             [
              0.8888888888888888,
              "#b5de2b"
             ],
             [
              1,
              "#fde725"
             ]
            ],
            "type": "contour"
           }
          ],
          "contourcarpet": [
           {
            "colorbar": {
             "outlinewidth": 1,
             "tickcolor": "rgb(36,36,36)",
             "ticks": "outside"
            },
            "type": "contourcarpet"
           }
          ],
          "heatmap": [
           {
            "colorbar": {
             "outlinewidth": 1,
             "tickcolor": "rgb(36,36,36)",
             "ticks": "outside"
            },
            "colorscale": [
             [
              0,
              "#440154"
             ],
             [
              0.1111111111111111,
              "#482878"
             ],
             [
              0.2222222222222222,
              "#3e4989"
             ],
             [
              0.3333333333333333,
              "#31688e"
             ],
             [
              0.4444444444444444,
              "#26828e"
             ],
             [
              0.5555555555555556,
              "#1f9e89"
             ],
             [
              0.6666666666666666,
              "#35b779"
             ],
             [
              0.7777777777777778,
              "#6ece58"
             ],
             [
              0.8888888888888888,
              "#b5de2b"
             ],
             [
              1,
              "#fde725"
             ]
            ],
            "type": "heatmap"
           }
          ],
          "heatmapgl": [
           {
            "colorbar": {
             "outlinewidth": 1,
             "tickcolor": "rgb(36,36,36)",
             "ticks": "outside"
            },
            "colorscale": [
             [
              0,
              "#440154"
             ],
             [
              0.1111111111111111,
              "#482878"
             ],
             [
              0.2222222222222222,
              "#3e4989"
             ],
             [
              0.3333333333333333,
              "#31688e"
             ],
             [
              0.4444444444444444,
              "#26828e"
             ],
             [
              0.5555555555555556,
              "#1f9e89"
             ],
             [
              0.6666666666666666,
              "#35b779"
             ],
             [
              0.7777777777777778,
              "#6ece58"
             ],
             [
              0.8888888888888888,
              "#b5de2b"
             ],
             [
              1,
              "#fde725"
             ]
            ],
            "type": "heatmapgl"
           }
          ],
          "histogram": [
           {
            "marker": {
             "line": {
              "color": "white",
              "width": 0.6
             }
            },
            "type": "histogram"
           }
          ],
          "histogram2d": [
           {
            "colorbar": {
             "outlinewidth": 1,
             "tickcolor": "rgb(36,36,36)",
             "ticks": "outside"
            },
            "colorscale": [
             [
              0,
              "#440154"
             ],
             [
              0.1111111111111111,
              "#482878"
             ],
             [
              0.2222222222222222,
              "#3e4989"
             ],
             [
              0.3333333333333333,
              "#31688e"
             ],
             [
              0.4444444444444444,
              "#26828e"
             ],
             [
              0.5555555555555556,
              "#1f9e89"
             ],
             [
              0.6666666666666666,
              "#35b779"
             ],
             [
              0.7777777777777778,
              "#6ece58"
             ],
             [
              0.8888888888888888,
              "#b5de2b"
             ],
             [
              1,
              "#fde725"
             ]
            ],
            "type": "histogram2d"
           }
          ],
          "histogram2dcontour": [
           {
            "colorbar": {
             "outlinewidth": 1,
             "tickcolor": "rgb(36,36,36)",
             "ticks": "outside"
            },
            "colorscale": [
             [
              0,
              "#440154"
             ],
             [
              0.1111111111111111,
              "#482878"
             ],
             [
              0.2222222222222222,
              "#3e4989"
             ],
             [
              0.3333333333333333,
              "#31688e"
             ],
             [
              0.4444444444444444,
              "#26828e"
             ],
             [
              0.5555555555555556,
              "#1f9e89"
             ],
             [
              0.6666666666666666,
              "#35b779"
             ],
             [
              0.7777777777777778,
              "#6ece58"
             ],
             [
              0.8888888888888888,
              "#b5de2b"
             ],
             [
              1,
              "#fde725"
             ]
            ],
            "type": "histogram2dcontour"
           }
          ],
          "mesh3d": [
           {
            "colorbar": {
             "outlinewidth": 1,
             "tickcolor": "rgb(36,36,36)",
             "ticks": "outside"
            },
            "type": "mesh3d"
           }
          ],
          "parcoords": [
           {
            "line": {
             "colorbar": {
              "outlinewidth": 1,
              "tickcolor": "rgb(36,36,36)",
              "ticks": "outside"
             }
            },
            "type": "parcoords"
           }
          ],
          "pie": [
           {
            "automargin": true,
            "type": "pie"
           }
          ],
          "scatter": [
           {
            "marker": {
             "colorbar": {
              "outlinewidth": 1,
              "tickcolor": "rgb(36,36,36)",
              "ticks": "outside"
             }
            },
            "type": "scatter"
           }
          ],
          "scatter3d": [
           {
            "line": {
             "colorbar": {
              "outlinewidth": 1,
              "tickcolor": "rgb(36,36,36)",
              "ticks": "outside"
             }
            },
            "marker": {
             "colorbar": {
              "outlinewidth": 1,
              "tickcolor": "rgb(36,36,36)",
              "ticks": "outside"
             }
            },
            "type": "scatter3d"
           }
          ],
          "scattercarpet": [
           {
            "marker": {
             "colorbar": {
              "outlinewidth": 1,
              "tickcolor": "rgb(36,36,36)",
              "ticks": "outside"
             }
            },
            "type": "scattercarpet"
           }
          ],
          "scattergeo": [
           {
            "marker": {
             "colorbar": {
              "outlinewidth": 1,
              "tickcolor": "rgb(36,36,36)",
              "ticks": "outside"
             }
            },
            "type": "scattergeo"
           }
          ],
          "scattergl": [
           {
            "marker": {
             "colorbar": {
              "outlinewidth": 1,
              "tickcolor": "rgb(36,36,36)",
              "ticks": "outside"
             }
            },
            "type": "scattergl"
           }
          ],
          "scattermapbox": [
           {
            "marker": {
             "colorbar": {
              "outlinewidth": 1,
              "tickcolor": "rgb(36,36,36)",
              "ticks": "outside"
             }
            },
            "type": "scattermapbox"
           }
          ],
          "scatterpolar": [
           {
            "marker": {
             "colorbar": {
              "outlinewidth": 1,
              "tickcolor": "rgb(36,36,36)",
              "ticks": "outside"
             }
            },
            "type": "scatterpolar"
           }
          ],
          "scatterpolargl": [
           {
            "marker": {
             "colorbar": {
              "outlinewidth": 1,
              "tickcolor": "rgb(36,36,36)",
              "ticks": "outside"
             }
            },
            "type": "scatterpolargl"
           }
          ],
          "scatterternary": [
           {
            "marker": {
             "colorbar": {
              "outlinewidth": 1,
              "tickcolor": "rgb(36,36,36)",
              "ticks": "outside"
             }
            },
            "type": "scatterternary"
           }
          ],
          "surface": [
           {
            "colorbar": {
             "outlinewidth": 1,
             "tickcolor": "rgb(36,36,36)",
             "ticks": "outside"
            },
            "colorscale": [
             [
              0,
              "#440154"
             ],
             [
              0.1111111111111111,
              "#482878"
             ],
             [
              0.2222222222222222,
              "#3e4989"
             ],
             [
              0.3333333333333333,
              "#31688e"
             ],
             [
              0.4444444444444444,
              "#26828e"
             ],
             [
              0.5555555555555556,
              "#1f9e89"
             ],
             [
              0.6666666666666666,
              "#35b779"
             ],
             [
              0.7777777777777778,
              "#6ece58"
             ],
             [
              0.8888888888888888,
              "#b5de2b"
             ],
             [
              1,
              "#fde725"
             ]
            ],
            "type": "surface"
           }
          ],
          "table": [
           {
            "cells": {
             "fill": {
              "color": "rgb(237,237,237)"
             },
             "line": {
              "color": "white"
             }
            },
            "header": {
             "fill": {
              "color": "rgb(217,217,217)"
             },
             "line": {
              "color": "white"
             }
            },
            "type": "table"
           }
          ]
         },
         "layout": {
          "annotationdefaults": {
           "arrowhead": 0,
           "arrowwidth": 1
          },
          "autotypenumbers": "strict",
          "coloraxis": {
           "colorbar": {
            "outlinewidth": 1,
            "tickcolor": "rgb(36,36,36)",
            "ticks": "outside"
           }
          },
          "colorscale": {
           "diverging": [
            [
             0,
             "rgb(103,0,31)"
            ],
            [
             0.1,
             "rgb(178,24,43)"
            ],
            [
             0.2,
             "rgb(214,96,77)"
            ],
            [
             0.3,
             "rgb(244,165,130)"
            ],
            [
             0.4,
             "rgb(253,219,199)"
            ],
            [
             0.5,
             "rgb(247,247,247)"
            ],
            [
             0.6,
             "rgb(209,229,240)"
            ],
            [
             0.7,
             "rgb(146,197,222)"
            ],
            [
             0.8,
             "rgb(67,147,195)"
            ],
            [
             0.9,
             "rgb(33,102,172)"
            ],
            [
             1,
             "rgb(5,48,97)"
            ]
           ],
           "sequential": [
            [
             0,
             "#440154"
            ],
            [
             0.1111111111111111,
             "#482878"
            ],
            [
             0.2222222222222222,
             "#3e4989"
            ],
            [
             0.3333333333333333,
             "#31688e"
            ],
            [
             0.4444444444444444,
             "#26828e"
            ],
            [
             0.5555555555555556,
             "#1f9e89"
            ],
            [
             0.6666666666666666,
             "#35b779"
            ],
            [
             0.7777777777777778,
             "#6ece58"
            ],
            [
             0.8888888888888888,
             "#b5de2b"
            ],
            [
             1,
             "#fde725"
            ]
           ],
           "sequentialminus": [
            [
             0,
             "#440154"
            ],
            [
             0.1111111111111111,
             "#482878"
            ],
            [
             0.2222222222222222,
             "#3e4989"
            ],
            [
             0.3333333333333333,
             "#31688e"
            ],
            [
             0.4444444444444444,
             "#26828e"
            ],
            [
             0.5555555555555556,
             "#1f9e89"
            ],
            [
             0.6666666666666666,
             "#35b779"
            ],
            [
             0.7777777777777778,
             "#6ece58"
            ],
            [
             0.8888888888888888,
             "#b5de2b"
            ],
            [
             1,
             "#fde725"
            ]
           ]
          },
          "colorway": [
           "#1F77B4",
           "#FF7F0E",
           "#2CA02C",
           "#D62728",
           "#9467BD",
           "#8C564B",
           "#E377C2",
           "#7F7F7F",
           "#BCBD22",
           "#17BECF"
          ],
          "font": {
           "color": "rgb(36,36,36)"
          },
          "geo": {
           "bgcolor": "white",
           "lakecolor": "white",
           "landcolor": "white",
           "showlakes": true,
           "showland": true,
           "subunitcolor": "white"
          },
          "hoverlabel": {
           "align": "left"
          },
          "hovermode": "closest",
          "mapbox": {
           "style": "light"
          },
          "paper_bgcolor": "white",
          "plot_bgcolor": "white",
          "polar": {
           "angularaxis": {
            "gridcolor": "rgb(232,232,232)",
            "linecolor": "rgb(36,36,36)",
            "showgrid": false,
            "showline": true,
            "ticks": "outside"
           },
           "bgcolor": "white",
           "radialaxis": {
            "gridcolor": "rgb(232,232,232)",
            "linecolor": "rgb(36,36,36)",
            "showgrid": false,
            "showline": true,
            "ticks": "outside"
           }
          },
          "scene": {
           "xaxis": {
            "backgroundcolor": "white",
            "gridcolor": "rgb(232,232,232)",
            "gridwidth": 2,
            "linecolor": "rgb(36,36,36)",
            "showbackground": true,
            "showgrid": false,
            "showline": true,
            "ticks": "outside",
            "zeroline": false,
            "zerolinecolor": "rgb(36,36,36)"
           },
           "yaxis": {
            "backgroundcolor": "white",
            "gridcolor": "rgb(232,232,232)",
            "gridwidth": 2,
            "linecolor": "rgb(36,36,36)",
            "showbackground": true,
            "showgrid": false,
            "showline": true,
            "ticks": "outside",
            "zeroline": false,
            "zerolinecolor": "rgb(36,36,36)"
           },
           "zaxis": {
            "backgroundcolor": "white",
            "gridcolor": "rgb(232,232,232)",
            "gridwidth": 2,
            "linecolor": "rgb(36,36,36)",
            "showbackground": true,
            "showgrid": false,
            "showline": true,
            "ticks": "outside",
            "zeroline": false,
            "zerolinecolor": "rgb(36,36,36)"
           }
          },
          "shapedefaults": {
           "fillcolor": "black",
           "line": {
            "width": 0
           },
           "opacity": 0.3
          },
          "ternary": {
           "aaxis": {
            "gridcolor": "rgb(232,232,232)",
            "linecolor": "rgb(36,36,36)",
            "showgrid": false,
            "showline": true,
            "ticks": "outside"
           },
           "baxis": {
            "gridcolor": "rgb(232,232,232)",
            "linecolor": "rgb(36,36,36)",
            "showgrid": false,
            "showline": true,
            "ticks": "outside"
           },
           "bgcolor": "white",
           "caxis": {
            "gridcolor": "rgb(232,232,232)",
            "linecolor": "rgb(36,36,36)",
            "showgrid": false,
            "showline": true,
            "ticks": "outside"
           }
          },
          "title": {
           "x": 0.05
          },
          "xaxis": {
           "automargin": true,
           "gridcolor": "rgb(232,232,232)",
           "linecolor": "rgb(36,36,36)",
           "showgrid": false,
           "showline": true,
           "ticks": "outside",
           "title": {
            "standoff": 15
           },
           "zeroline": false,
           "zerolinecolor": "rgb(36,36,36)"
          },
          "yaxis": {
           "automargin": true,
           "gridcolor": "rgb(232,232,232)",
           "linecolor": "rgb(36,36,36)",
           "showgrid": false,
           "showline": true,
           "ticks": "outside",
           "title": {
            "standoff": 15
           },
           "zeroline": false,
           "zerolinecolor": "rgb(36,36,36)"
          }
         }
        },
        "title": {
         "text": "Casos de la Región de Aysén diferenciados por etapa clínica"
        },
        "xaxis": {
         "anchor": "y",
         "domain": [
          0,
          1
         ],
         "title": {
          "text": "Semana epidemiológica"
         }
        },
        "yaxis": {
         "anchor": "x",
         "domain": [
          0,
          1
         ],
         "title": {
          "text": "Número de casos"
         }
        }
       }
      },
      "text/html": [
       "<div>                            <div id=\"dd0d838a-105f-4bc6-8288-07b24247dff0\" class=\"plotly-graph-div\" style=\"height:525px; width:100%;\"></div>            <script type=\"text/javascript\">                require([\"plotly\"], function(Plotly) {                    window.PLOTLYENV=window.PLOTLYENV || {};                                    if (document.getElementById(\"dd0d838a-105f-4bc6-8288-07b24247dff0\")) {                    Plotly.newPlot(                        \"dd0d838a-105f-4bc6-8288-07b24247dff0\",                        [{\"alignmentgroup\": \"True\", \"hovertemplate\": \"Cumple=True<br>fecha_cumple_requisitos=%{x}<br>n_folio=%{y}<extra></extra>\", \"legendgroup\": \"True\", \"marker\": {\"color\": \"#636efa\"}, \"name\": \"True\", \"offsetgroup\": \"True\", \"orientation\": \"v\", \"showlegend\": true, \"textposition\": \"auto\", \"type\": \"bar\", \"x\": [\"2021-03-01T00:00:00\", \"2021-03-02T00:00:00\", \"2021-03-03T00:00:00\", \"2021-03-04T00:00:00\", \"2021-03-05T00:00:00\", \"2021-03-06T00:00:00\", \"2021-03-07T00:00:00\", \"2021-03-08T00:00:00\", \"2021-03-09T00:00:00\", \"2021-03-10T00:00:00\", \"2021-03-11T00:00:00\", \"2021-03-12T00:00:00\", \"2021-03-13T00:00:00\", \"2021-03-14T00:00:00\", \"2021-03-15T00:00:00\", \"2021-03-16T00:00:00\", \"2021-03-17T00:00:00\", \"2021-03-18T00:00:00\", \"2021-03-19T00:00:00\", \"2021-03-20T00:00:00\", \"2021-03-21T00:00:00\", \"2021-03-22T00:00:00\", \"2021-03-23T00:00:00\", \"2021-03-24T00:00:00\", \"2021-03-25T00:00:00\", \"2021-03-26T00:00:00\", \"2021-03-27T00:00:00\", \"2021-03-28T00:00:00\", \"2021-03-29T00:00:00\", \"2021-03-30T00:00:00\", \"2021-03-31T00:00:00\", \"2021-04-01T00:00:00\", \"2021-04-02T00:00:00\", \"2021-04-03T00:00:00\", \"2021-04-04T00:00:00\", \"2021-04-05T00:00:00\", \"2021-04-06T00:00:00\", \"2021-04-07T00:00:00\", \"2021-04-08T00:00:00\", \"2021-04-09T00:00:00\", \"2021-04-10T00:00:00\", \"2021-04-11T00:00:00\", \"2021-04-12T00:00:00\", \"2021-04-13T00:00:00\", \"2021-04-14T00:00:00\", \"2021-04-15T00:00:00\", \"2021-04-16T00:00:00\", \"2021-04-17T00:00:00\", \"2021-04-18T00:00:00\", \"2021-04-19T00:00:00\", \"2021-04-20T00:00:00\", \"2021-04-21T00:00:00\", \"2021-04-22T00:00:00\", \"2021-04-23T00:00:00\", \"2021-04-24T00:00:00\", \"2021-04-25T00:00:00\", \"2021-04-26T00:00:00\", \"2021-04-27T00:00:00\", \"2021-04-28T00:00:00\", \"2021-04-29T00:00:00\", \"2021-04-30T00:00:00\", \"2021-05-01T00:00:00\", \"2021-05-02T00:00:00\", \"2021-05-03T00:00:00\", \"2021-05-04T00:00:00\", \"2021-05-05T00:00:00\", \"2021-05-06T00:00:00\", \"2021-05-07T00:00:00\", \"2021-05-08T00:00:00\", \"2021-05-09T00:00:00\", \"2021-05-10T00:00:00\", \"2021-05-11T00:00:00\", \"2021-05-12T00:00:00\", \"2021-05-13T00:00:00\", \"2021-05-14T00:00:00\", \"2021-05-15T00:00:00\", \"2021-05-16T00:00:00\", \"2021-05-17T00:00:00\", \"2021-05-18T00:00:00\", \"2021-05-19T00:00:00\", \"2021-05-20T00:00:00\", \"2021-05-21T00:00:00\", \"2021-05-22T00:00:00\", \"2021-05-23T00:00:00\", \"2021-05-24T00:00:00\", \"2021-05-25T00:00:00\", \"2021-05-26T00:00:00\", \"2021-05-27T00:00:00\", \"2021-05-28T00:00:00\", \"2021-05-29T00:00:00\", \"2021-05-30T00:00:00\", \"2021-05-31T00:00:00\", \"2021-06-01T00:00:00\", \"2021-06-02T00:00:00\", \"2021-06-03T00:00:00\", \"2021-06-04T00:00:00\", \"2021-06-05T00:00:00\", \"2021-06-06T00:00:00\", \"2021-06-07T00:00:00\", \"2021-06-08T00:00:00\", \"2021-06-09T00:00:00\", \"2021-06-10T00:00:00\", \"2021-06-11T00:00:00\", \"2021-06-12T00:00:00\", \"2021-06-13T00:00:00\", \"2021-06-14T00:00:00\", \"2021-06-15T00:00:00\", \"2021-06-16T00:00:00\", \"2021-06-17T00:00:00\", \"2021-06-18T00:00:00\", \"2021-06-19T00:00:00\", \"2021-06-20T00:00:00\", \"2021-06-21T00:00:00\", \"2021-06-22T00:00:00\", \"2021-06-23T00:00:00\", \"2021-06-24T00:00:00\", \"2021-06-25T00:00:00\", \"2021-06-26T00:00:00\", \"2021-06-27T00:00:00\", \"2021-06-28T00:00:00\", \"2021-06-29T00:00:00\", \"2021-06-30T00:00:00\", \"2021-07-01T00:00:00\", \"2021-07-02T00:00:00\", \"2021-07-03T00:00:00\", \"2021-07-04T00:00:00\", \"2021-07-05T00:00:00\", \"2021-07-06T00:00:00\", \"2021-07-07T00:00:00\", \"2021-07-08T00:00:00\", \"2021-07-09T00:00:00\", \"2021-07-10T00:00:00\", \"2021-07-11T00:00:00\", \"2021-07-12T00:00:00\", \"2021-07-13T00:00:00\", \"2021-07-14T00:00:00\", \"2021-07-15T00:00:00\", \"2021-07-16T00:00:00\", \"2021-07-17T00:00:00\", \"2021-07-18T00:00:00\", \"2021-07-19T00:00:00\", \"2021-07-20T00:00:00\", \"2021-07-21T00:00:00\", \"2021-07-22T00:00:00\", \"2021-07-23T00:00:00\", \"2021-07-24T00:00:00\", \"2021-07-25T00:00:00\", \"2021-07-26T00:00:00\", \"2021-07-27T00:00:00\", \"2021-07-28T00:00:00\", \"2021-07-29T00:00:00\", \"2021-07-30T00:00:00\", \"2021-07-31T00:00:00\", \"2021-08-01T00:00:00\", \"2021-08-02T00:00:00\", \"2021-08-03T00:00:00\", \"2021-08-04T00:00:00\", \"2021-08-05T00:00:00\", \"2021-08-06T00:00:00\", \"2021-08-07T00:00:00\", \"2021-08-08T00:00:00\", \"2021-08-09T00:00:00\", \"2021-08-10T00:00:00\", \"2021-08-11T00:00:00\", \"2021-08-12T00:00:00\", \"2021-08-13T00:00:00\", \"2021-08-14T00:00:00\", \"2021-08-15T00:00:00\", \"2021-08-16T00:00:00\", \"2021-08-17T00:00:00\", \"2021-08-18T00:00:00\", \"2021-08-19T00:00:00\", \"2021-08-20T00:00:00\", \"2021-08-21T00:00:00\", \"2021-08-22T00:00:00\", \"2021-08-23T00:00:00\", \"2021-08-24T00:00:00\", \"2021-08-25T00:00:00\", \"2021-08-26T00:00:00\", \"2021-08-27T00:00:00\", \"2021-08-28T00:00:00\", \"2021-08-29T00:00:00\", \"2021-08-30T00:00:00\", \"2021-08-31T00:00:00\"], \"xaxis\": \"x\", \"y\": [27, 62, 56, 33, 49, 32, 21, 21, 55, 56, 34, 33, 40, 46, 65, 45, 18, 44, 20, 20, 58, 70, 101, 71, 95, 62, 32, 50, 95, 102, 44, 83, 43, 49, 42, 108, 112, 64, 64, 87, 97, 47, 47, 72, 52, 71, 106, 55, 76, 42, 139, 109, 140, 81, 66, 86, 77, 132, 167, 213, 156, 95, 55, 106, 126, 148, 142, 119, 93, 89, 127, 146, 190, 212, 236, 140, 113, 184, 240, 326, 315, 210, 165, 72, 209, 251, 285, 244, 246, 142, 117, 252, 377, 264, 245, 167, 142, 57, 230, 153, 221, 208, 213, 103, 131, 175, 132, 233, 205, 161, 96, 78, 54, 111, 147, 100, 123, 74, 82, 53, 91, 162, 83, 140, 41, 31, 96, 97, 79, 93, 139, 51, 22, 5, 43, 39, 23, 15, 12, 1, 10, 16, 8, 11, 23, 7, 3, 3, 5, 23, 12, 10, 4, 11, 11, 6, 12, 21, 56, 40, 6, 13, 23, 8, 24, 35, 28, 25, 59, 62, 74, 40, 48, 23, 10, 33, 27, 46, 17, 13, 6, 20, 82, 6], \"yaxis\": \"y\"}, {\"alignmentgroup\": \"True\", \"hovertemplate\": \"Cumple=False<br>fecha_cumple_requisitos=%{x}<br>n_folio=%{y}<extra></extra>\", \"legendgroup\": \"False\", \"marker\": {\"color\": \"#EF553B\"}, \"name\": \"False\", \"offsetgroup\": \"False\", \"orientation\": \"v\", \"showlegend\": true, \"textposition\": \"auto\", \"type\": \"bar\", \"x\": [\"2021-03-04T00:00:00\", \"2021-03-05T00:00:00\", \"2021-03-06T00:00:00\", \"2021-03-07T00:00:00\", \"2021-03-08T00:00:00\", \"2021-03-09T00:00:00\", \"2021-03-10T00:00:00\", \"2021-03-11T00:00:00\", \"2021-03-12T00:00:00\", \"2021-03-13T00:00:00\", \"2021-03-14T00:00:00\", \"2021-03-15T00:00:00\", \"2021-03-16T00:00:00\", \"2021-03-17T00:00:00\", \"2021-03-18T00:00:00\", \"2021-03-19T00:00:00\", \"2021-03-20T00:00:00\", \"2021-03-21T00:00:00\", \"2021-03-22T00:00:00\", \"2021-03-23T00:00:00\", \"2021-03-24T00:00:00\", \"2021-03-25T00:00:00\", \"2021-03-26T00:00:00\", \"2021-03-27T00:00:00\", \"2021-03-28T00:00:00\", \"2021-03-29T00:00:00\", \"2021-03-30T00:00:00\", \"2021-03-31T00:00:00\", \"2021-04-01T00:00:00\", \"2021-04-02T00:00:00\", \"2021-04-03T00:00:00\", \"2021-04-04T00:00:00\", \"2021-04-05T00:00:00\", \"2021-04-06T00:00:00\", \"2021-04-07T00:00:00\", \"2021-04-08T00:00:00\", \"2021-04-09T00:00:00\", \"2021-04-10T00:00:00\", \"2021-04-11T00:00:00\", \"2021-04-12T00:00:00\", \"2021-04-13T00:00:00\", \"2021-04-14T00:00:00\", \"2021-04-15T00:00:00\", \"2021-04-16T00:00:00\", \"2021-04-17T00:00:00\", \"2021-04-18T00:00:00\", \"2021-04-19T00:00:00\", \"2021-04-20T00:00:00\", \"2021-04-21T00:00:00\", \"2021-04-22T00:00:00\", \"2021-04-23T00:00:00\", \"2021-04-24T00:00:00\", \"2021-04-25T00:00:00\", \"2021-04-26T00:00:00\", \"2021-04-27T00:00:00\", \"2021-04-28T00:00:00\", \"2021-04-29T00:00:00\", \"2021-04-30T00:00:00\", \"2021-05-01T00:00:00\", \"2021-05-02T00:00:00\", \"2021-05-03T00:00:00\", \"2021-05-04T00:00:00\", \"2021-05-05T00:00:00\", \"2021-05-06T00:00:00\", \"2021-05-07T00:00:00\", \"2021-05-08T00:00:00\", \"2021-05-09T00:00:00\", \"2021-05-10T00:00:00\", \"2021-05-11T00:00:00\", \"2021-05-12T00:00:00\", \"2021-05-13T00:00:00\", \"2021-05-14T00:00:00\", \"2021-05-15T00:00:00\", \"2021-05-16T00:00:00\", \"2021-05-17T00:00:00\", \"2021-05-18T00:00:00\", \"2021-05-19T00:00:00\", \"2021-05-20T00:00:00\", \"2021-05-21T00:00:00\", \"2021-05-22T00:00:00\", \"2021-05-23T00:00:00\", \"2021-05-24T00:00:00\", \"2021-05-25T00:00:00\", \"2021-05-26T00:00:00\", \"2021-05-27T00:00:00\", \"2021-05-28T00:00:00\", \"2021-05-29T00:00:00\", \"2021-05-30T00:00:00\", \"2021-05-31T00:00:00\", \"2021-06-01T00:00:00\", \"2021-06-02T00:00:00\", \"2021-06-03T00:00:00\", \"2021-06-04T00:00:00\", \"2021-06-05T00:00:00\", \"2021-06-06T00:00:00\", \"2021-06-07T00:00:00\", \"2021-06-08T00:00:00\", \"2021-06-09T00:00:00\", \"2021-06-10T00:00:00\", \"2021-06-11T00:00:00\", \"2021-06-12T00:00:00\", \"2021-06-13T00:00:00\", \"2021-06-14T00:00:00\", \"2021-06-15T00:00:00\", \"2021-06-16T00:00:00\", \"2021-06-17T00:00:00\", \"2021-06-18T00:00:00\", \"2021-06-19T00:00:00\", \"2021-06-20T00:00:00\", \"2021-06-21T00:00:00\", \"2021-06-22T00:00:00\", \"2021-06-23T00:00:00\", \"2021-06-24T00:00:00\", \"2021-06-25T00:00:00\", \"2021-06-26T00:00:00\", \"2021-06-27T00:00:00\", \"2021-06-28T00:00:00\", \"2021-06-29T00:00:00\", \"2021-06-30T00:00:00\", \"2021-07-02T00:00:00\", \"2021-07-03T00:00:00\", \"2021-07-04T00:00:00\", \"2021-07-05T00:00:00\", \"2021-07-06T00:00:00\", \"2021-07-07T00:00:00\", \"2021-07-08T00:00:00\", \"2021-07-09T00:00:00\", \"2021-07-10T00:00:00\", \"2021-07-11T00:00:00\", \"2021-07-12T00:00:00\", \"2021-07-13T00:00:00\", \"2021-07-14T00:00:00\", \"2021-07-15T00:00:00\", \"2021-07-16T00:00:00\", \"2021-07-17T00:00:00\", \"2021-07-19T00:00:00\", \"2021-07-20T00:00:00\", \"2021-07-21T00:00:00\", \"2021-07-22T00:00:00\", \"2021-07-24T00:00:00\", \"2021-07-25T00:00:00\", \"2021-07-26T00:00:00\", \"2021-07-28T00:00:00\", \"2021-07-29T00:00:00\", \"2021-07-31T00:00:00\", \"2021-08-02T00:00:00\", \"2021-08-03T00:00:00\", \"2021-08-04T00:00:00\", \"2021-08-06T00:00:00\", \"2021-08-12T00:00:00\", \"2021-08-15T00:00:00\", \"2021-08-16T00:00:00\", \"2021-08-17T00:00:00\", \"2021-08-18T00:00:00\", \"2021-08-19T00:00:00\", \"2021-08-20T00:00:00\", \"2021-08-21T00:00:00\", \"2021-08-22T00:00:00\", \"2021-08-24T00:00:00\", \"2021-08-27T00:00:00\"], \"xaxis\": \"x\", \"y\": [6, 10, 4, 15, 41, 8, 9, 5, 9, 9, 13, 21, 7, 6, 35, 17, 14, 41, 4, 18, 7, 15, 24, 1, 9, 23, 5, 7, 29, 8, 9, 13, 11, 13, 2, 10, 24, 17, 11, 27, 3, 14, 4, 5, 5, 6, 8, 9, 9, 30, 13, 5, 6, 19, 8, 11, 10, 8, 5, 13, 52, 23, 14, 15, 11, 2, 5, 54, 31, 18, 5, 13, 30, 31, 50, 27, 25, 30, 20, 26, 56, 55, 21, 29, 31, 38, 17, 35, 94, 44, 10, 14, 31, 40, 32, 76, 49, 44, 61, 14, 14, 38, 16, 79, 25, 29, 26, 15, 6, 3, 14, 21, 22, 10, 2, 8, 11, 9, 18, 3, 4, 5, 13, 3, 5, 21, 31, 3, 2, 2, 7, 2, 2, 3, 3, 2, 4, 3, 7, 2, 7, 3, 1, 2, 1, 1, 3, 1, 5, 9, 1, 17, 2, 3, 1, 2, 2, 1, 6, 3], \"yaxis\": \"y\"}],                        {\"barmode\": \"relative\", \"legend\": {\"title\": {\"text\": \"Cumple\"}, \"tracegroupgap\": 0}, \"margin\": {\"t\": 60}, \"template\": {\"data\": {\"bar\": [{\"error_x\": {\"color\": \"rgb(36,36,36)\"}, \"error_y\": {\"color\": \"rgb(36,36,36)\"}, \"marker\": {\"line\": {\"color\": \"white\", \"width\": 0.5}}, \"type\": \"bar\"}], \"barpolar\": [{\"marker\": {\"line\": {\"color\": \"white\", \"width\": 0.5}}, \"type\": \"barpolar\"}], \"carpet\": [{\"aaxis\": {\"endlinecolor\": \"rgb(36,36,36)\", \"gridcolor\": \"white\", \"linecolor\": \"white\", \"minorgridcolor\": \"white\", \"startlinecolor\": \"rgb(36,36,36)\"}, \"baxis\": {\"endlinecolor\": \"rgb(36,36,36)\", \"gridcolor\": \"white\", \"linecolor\": \"white\", \"minorgridcolor\": \"white\", \"startlinecolor\": \"rgb(36,36,36)\"}, \"type\": \"carpet\"}], \"choropleth\": [{\"colorbar\": {\"outlinewidth\": 1, \"tickcolor\": \"rgb(36,36,36)\", \"ticks\": \"outside\"}, \"type\": \"choropleth\"}], \"contour\": [{\"colorbar\": {\"outlinewidth\": 1, \"tickcolor\": \"rgb(36,36,36)\", \"ticks\": \"outside\"}, \"colorscale\": [[0.0, \"#440154\"], [0.1111111111111111, \"#482878\"], [0.2222222222222222, \"#3e4989\"], [0.3333333333333333, \"#31688e\"], [0.4444444444444444, \"#26828e\"], [0.5555555555555556, \"#1f9e89\"], [0.6666666666666666, \"#35b779\"], [0.7777777777777778, \"#6ece58\"], [0.8888888888888888, \"#b5de2b\"], [1.0, \"#fde725\"]], \"type\": \"contour\"}], \"contourcarpet\": [{\"colorbar\": {\"outlinewidth\": 1, \"tickcolor\": \"rgb(36,36,36)\", \"ticks\": \"outside\"}, \"type\": \"contourcarpet\"}], \"heatmap\": [{\"colorbar\": {\"outlinewidth\": 1, \"tickcolor\": \"rgb(36,36,36)\", \"ticks\": \"outside\"}, \"colorscale\": [[0.0, \"#440154\"], [0.1111111111111111, \"#482878\"], [0.2222222222222222, \"#3e4989\"], [0.3333333333333333, \"#31688e\"], [0.4444444444444444, \"#26828e\"], [0.5555555555555556, \"#1f9e89\"], [0.6666666666666666, \"#35b779\"], [0.7777777777777778, \"#6ece58\"], [0.8888888888888888, \"#b5de2b\"], [1.0, \"#fde725\"]], \"type\": \"heatmap\"}], \"heatmapgl\": [{\"colorbar\": {\"outlinewidth\": 1, \"tickcolor\": \"rgb(36,36,36)\", \"ticks\": \"outside\"}, \"colorscale\": [[0.0, \"#440154\"], [0.1111111111111111, \"#482878\"], [0.2222222222222222, \"#3e4989\"], [0.3333333333333333, \"#31688e\"], [0.4444444444444444, \"#26828e\"], [0.5555555555555556, \"#1f9e89\"], [0.6666666666666666, \"#35b779\"], [0.7777777777777778, \"#6ece58\"], [0.8888888888888888, \"#b5de2b\"], [1.0, \"#fde725\"]], \"type\": \"heatmapgl\"}], \"histogram\": [{\"marker\": {\"line\": {\"color\": \"white\", \"width\": 0.6}}, \"type\": \"histogram\"}], \"histogram2d\": [{\"colorbar\": {\"outlinewidth\": 1, \"tickcolor\": \"rgb(36,36,36)\", \"ticks\": \"outside\"}, \"colorscale\": [[0.0, \"#440154\"], [0.1111111111111111, \"#482878\"], [0.2222222222222222, \"#3e4989\"], [0.3333333333333333, \"#31688e\"], [0.4444444444444444, \"#26828e\"], [0.5555555555555556, \"#1f9e89\"], [0.6666666666666666, \"#35b779\"], [0.7777777777777778, \"#6ece58\"], [0.8888888888888888, \"#b5de2b\"], [1.0, \"#fde725\"]], \"type\": \"histogram2d\"}], \"histogram2dcontour\": [{\"colorbar\": {\"outlinewidth\": 1, \"tickcolor\": \"rgb(36,36,36)\", \"ticks\": \"outside\"}, \"colorscale\": [[0.0, \"#440154\"], [0.1111111111111111, \"#482878\"], [0.2222222222222222, \"#3e4989\"], [0.3333333333333333, \"#31688e\"], [0.4444444444444444, \"#26828e\"], [0.5555555555555556, \"#1f9e89\"], [0.6666666666666666, \"#35b779\"], [0.7777777777777778, \"#6ece58\"], [0.8888888888888888, \"#b5de2b\"], [1.0, \"#fde725\"]], \"type\": \"histogram2dcontour\"}], \"mesh3d\": [{\"colorbar\": {\"outlinewidth\": 1, \"tickcolor\": \"rgb(36,36,36)\", \"ticks\": \"outside\"}, \"type\": \"mesh3d\"}], \"parcoords\": [{\"line\": {\"colorbar\": {\"outlinewidth\": 1, \"tickcolor\": \"rgb(36,36,36)\", \"ticks\": \"outside\"}}, \"type\": \"parcoords\"}], \"pie\": [{\"automargin\": true, \"type\": \"pie\"}], \"scatter\": [{\"marker\": {\"colorbar\": {\"outlinewidth\": 1, \"tickcolor\": \"rgb(36,36,36)\", \"ticks\": \"outside\"}}, \"type\": \"scatter\"}], \"scatter3d\": [{\"line\": {\"colorbar\": {\"outlinewidth\": 1, \"tickcolor\": \"rgb(36,36,36)\", \"ticks\": \"outside\"}}, \"marker\": {\"colorbar\": {\"outlinewidth\": 1, \"tickcolor\": \"rgb(36,36,36)\", \"ticks\": \"outside\"}}, \"type\": \"scatter3d\"}], \"scattercarpet\": [{\"marker\": {\"colorbar\": {\"outlinewidth\": 1, \"tickcolor\": \"rgb(36,36,36)\", \"ticks\": \"outside\"}}, \"type\": \"scattercarpet\"}], \"scattergeo\": [{\"marker\": {\"colorbar\": {\"outlinewidth\": 1, \"tickcolor\": \"rgb(36,36,36)\", \"ticks\": \"outside\"}}, \"type\": \"scattergeo\"}], \"scattergl\": [{\"marker\": {\"colorbar\": {\"outlinewidth\": 1, \"tickcolor\": \"rgb(36,36,36)\", \"ticks\": \"outside\"}}, \"type\": \"scattergl\"}], \"scattermapbox\": [{\"marker\": {\"colorbar\": {\"outlinewidth\": 1, \"tickcolor\": \"rgb(36,36,36)\", \"ticks\": \"outside\"}}, \"type\": \"scattermapbox\"}], \"scatterpolar\": [{\"marker\": {\"colorbar\": {\"outlinewidth\": 1, \"tickcolor\": \"rgb(36,36,36)\", \"ticks\": \"outside\"}}, \"type\": \"scatterpolar\"}], \"scatterpolargl\": [{\"marker\": {\"colorbar\": {\"outlinewidth\": 1, \"tickcolor\": \"rgb(36,36,36)\", \"ticks\": \"outside\"}}, \"type\": \"scatterpolargl\"}], \"scatterternary\": [{\"marker\": {\"colorbar\": {\"outlinewidth\": 1, \"tickcolor\": \"rgb(36,36,36)\", \"ticks\": \"outside\"}}, \"type\": \"scatterternary\"}], \"surface\": [{\"colorbar\": {\"outlinewidth\": 1, \"tickcolor\": \"rgb(36,36,36)\", \"ticks\": \"outside\"}, \"colorscale\": [[0.0, \"#440154\"], [0.1111111111111111, \"#482878\"], [0.2222222222222222, \"#3e4989\"], [0.3333333333333333, \"#31688e\"], [0.4444444444444444, \"#26828e\"], [0.5555555555555556, \"#1f9e89\"], [0.6666666666666666, \"#35b779\"], [0.7777777777777778, \"#6ece58\"], [0.8888888888888888, \"#b5de2b\"], [1.0, \"#fde725\"]], \"type\": \"surface\"}], \"table\": [{\"cells\": {\"fill\": {\"color\": \"rgb(237,237,237)\"}, \"line\": {\"color\": \"white\"}}, \"header\": {\"fill\": {\"color\": \"rgb(217,217,217)\"}, \"line\": {\"color\": \"white\"}}, \"type\": \"table\"}]}, \"layout\": {\"annotationdefaults\": {\"arrowhead\": 0, \"arrowwidth\": 1}, \"autotypenumbers\": \"strict\", \"coloraxis\": {\"colorbar\": {\"outlinewidth\": 1, \"tickcolor\": \"rgb(36,36,36)\", \"ticks\": \"outside\"}}, \"colorscale\": {\"diverging\": [[0.0, \"rgb(103,0,31)\"], [0.1, \"rgb(178,24,43)\"], [0.2, \"rgb(214,96,77)\"], [0.3, \"rgb(244,165,130)\"], [0.4, \"rgb(253,219,199)\"], [0.5, \"rgb(247,247,247)\"], [0.6, \"rgb(209,229,240)\"], [0.7, \"rgb(146,197,222)\"], [0.8, \"rgb(67,147,195)\"], [0.9, \"rgb(33,102,172)\"], [1.0, \"rgb(5,48,97)\"]], \"sequential\": [[0.0, \"#440154\"], [0.1111111111111111, \"#482878\"], [0.2222222222222222, \"#3e4989\"], [0.3333333333333333, \"#31688e\"], [0.4444444444444444, \"#26828e\"], [0.5555555555555556, \"#1f9e89\"], [0.6666666666666666, \"#35b779\"], [0.7777777777777778, \"#6ece58\"], [0.8888888888888888, \"#b5de2b\"], [1.0, \"#fde725\"]], \"sequentialminus\": [[0.0, \"#440154\"], [0.1111111111111111, \"#482878\"], [0.2222222222222222, \"#3e4989\"], [0.3333333333333333, \"#31688e\"], [0.4444444444444444, \"#26828e\"], [0.5555555555555556, \"#1f9e89\"], [0.6666666666666666, \"#35b779\"], [0.7777777777777778, \"#6ece58\"], [0.8888888888888888, \"#b5de2b\"], [1.0, \"#fde725\"]]}, \"colorway\": [\"#1F77B4\", \"#FF7F0E\", \"#2CA02C\", \"#D62728\", \"#9467BD\", \"#8C564B\", \"#E377C2\", \"#7F7F7F\", \"#BCBD22\", \"#17BECF\"], \"font\": {\"color\": \"rgb(36,36,36)\"}, \"geo\": {\"bgcolor\": \"white\", \"lakecolor\": \"white\", \"landcolor\": \"white\", \"showlakes\": true, \"showland\": true, \"subunitcolor\": \"white\"}, \"hoverlabel\": {\"align\": \"left\"}, \"hovermode\": \"closest\", \"mapbox\": {\"style\": \"light\"}, \"paper_bgcolor\": \"white\", \"plot_bgcolor\": \"white\", \"polar\": {\"angularaxis\": {\"gridcolor\": \"rgb(232,232,232)\", \"linecolor\": \"rgb(36,36,36)\", \"showgrid\": false, \"showline\": true, \"ticks\": \"outside\"}, \"bgcolor\": \"white\", \"radialaxis\": {\"gridcolor\": \"rgb(232,232,232)\", \"linecolor\": \"rgb(36,36,36)\", \"showgrid\": false, \"showline\": true, \"ticks\": \"outside\"}}, \"scene\": {\"xaxis\": {\"backgroundcolor\": \"white\", \"gridcolor\": \"rgb(232,232,232)\", \"gridwidth\": 2, \"linecolor\": \"rgb(36,36,36)\", \"showbackground\": true, \"showgrid\": false, \"showline\": true, \"ticks\": \"outside\", \"zeroline\": false, \"zerolinecolor\": \"rgb(36,36,36)\"}, \"yaxis\": {\"backgroundcolor\": \"white\", \"gridcolor\": \"rgb(232,232,232)\", \"gridwidth\": 2, \"linecolor\": \"rgb(36,36,36)\", \"showbackground\": true, \"showgrid\": false, \"showline\": true, \"ticks\": \"outside\", \"zeroline\": false, \"zerolinecolor\": \"rgb(36,36,36)\"}, \"zaxis\": {\"backgroundcolor\": \"white\", \"gridcolor\": \"rgb(232,232,232)\", \"gridwidth\": 2, \"linecolor\": \"rgb(36,36,36)\", \"showbackground\": true, \"showgrid\": false, \"showline\": true, \"ticks\": \"outside\", \"zeroline\": false, \"zerolinecolor\": \"rgb(36,36,36)\"}}, \"shapedefaults\": {\"fillcolor\": \"black\", \"line\": {\"width\": 0}, \"opacity\": 0.3}, \"ternary\": {\"aaxis\": {\"gridcolor\": \"rgb(232,232,232)\", \"linecolor\": \"rgb(36,36,36)\", \"showgrid\": false, \"showline\": true, \"ticks\": \"outside\"}, \"baxis\": {\"gridcolor\": \"rgb(232,232,232)\", \"linecolor\": \"rgb(36,36,36)\", \"showgrid\": false, \"showline\": true, \"ticks\": \"outside\"}, \"bgcolor\": \"white\", \"caxis\": {\"gridcolor\": \"rgb(232,232,232)\", \"linecolor\": \"rgb(36,36,36)\", \"showgrid\": false, \"showline\": true, \"ticks\": \"outside\"}}, \"title\": {\"x\": 0.05}, \"xaxis\": {\"automargin\": true, \"gridcolor\": \"rgb(232,232,232)\", \"linecolor\": \"rgb(36,36,36)\", \"showgrid\": false, \"showline\": true, \"ticks\": \"outside\", \"title\": {\"standoff\": 15}, \"zeroline\": false, \"zerolinecolor\": \"rgb(36,36,36)\"}, \"yaxis\": {\"automargin\": true, \"gridcolor\": \"rgb(232,232,232)\", \"linecolor\": \"rgb(36,36,36)\", \"showgrid\": false, \"showline\": true, \"ticks\": \"outside\", \"title\": {\"standoff\": 15}, \"zeroline\": false, \"zerolinecolor\": \"rgb(36,36,36)\"}}}, \"title\": {\"text\": \"Casos de la Regi\\u00f3n de Ays\\u00e9n diferenciados por etapa cl\\u00ednica\"}, \"xaxis\": {\"anchor\": \"y\", \"domain\": [0.0, 1.0], \"title\": {\"text\": \"Semana epidemiol\\u00f3gica\"}}, \"yaxis\": {\"anchor\": \"x\", \"domain\": [0.0, 1.0], \"title\": {\"text\": \"N\\u00famero de casos\"}}},                        {\"responsive\": true}                    ).then(function(){\n",
       "                            \n",
       "var gd = document.getElementById('dd0d838a-105f-4bc6-8288-07b24247dff0');\n",
       "var x = new MutationObserver(function (mutations, observer) {{\n",
       "        var display = window.getComputedStyle(gd).display;\n",
       "        if (!display || display === 'none') {{\n",
       "            console.log([gd, 'removed!']);\n",
       "            Plotly.purge(gd);\n",
       "            observer.disconnect();\n",
       "        }}\n",
       "}});\n",
       "\n",
       "// Listen for the removal of the full notebook cells\n",
       "var notebookContainer = gd.closest('#notebook-container');\n",
       "if (notebookContainer) {{\n",
       "    x.observe(notebookContainer, {childList: true});\n",
       "}}\n",
       "\n",
       "// Listen for the clearing of the current output cell\n",
       "var outputEl = gd.closest('.output');\n",
       "if (outputEl) {{\n",
       "    x.observe(outputEl, {childList: true});\n",
       "}}\n",
       "\n",
       "                        })                };                });            </script>        </div>"
      ]
     },
     "metadata": {},
     "output_type": "display_data"
    }
   ],
   "source": [
    "# Crea gráfico de etapa_clinica regional por semana epidemiologica\n",
    "\n",
    "px.bar(df_seguimiento_ind5.groupby(['fecha_cumple_requisitos', 'ind5']).count()[['n_folio']].reset_index(),\n",
    "        x= 'fecha_cumple_requisitos',\n",
    "        y= 'n_folio',\n",
    "        color= 'ind5',\n",
    "        labels={'ind5':'Cumple'}, \n",
    "       ).update_layout(title= 'Casos de la Región de Aysén diferenciados por etapa clínica',\n",
    "                    yaxis_title='Número de casos',\n",
    "                    xaxis_title='Semana epidemiológica',\n",
    "                    template='simple_white',    )                 \n",
    "                    #xaxis=dict(tickmode = 'array',\n",
    "                     #             tickvals = list(range(12,88,3)),\n",
    "                      #            ticktext = list(list(range(12,54,3))+list(range(1,88,3))),\n",
    "                      #           ),\n",
    "               #     ).add_vline(x=53.5, line_width=3, line_dash='dash', line_color='gray'\n",
    "                #               ).add_vrect(x0='50', x1='50', \n",
    "                 #                          annotation_text='2020', \n",
    "                  #                         annotation_position='top right',\n",
    "                   #                        annotation=dict(font_size=18, \n",
    "                    #                                       font_family=\"'Open Sans', verdana, arial, sans-serif\"),\n",
    "                     #                                      opacity=0, \n",
    "                      #                                     line_width=0\n",
    "                       #                   ).add_vrect(x0='84', x1='86', \n",
    "                        #                   annotation_text='2021', \n",
    "                         #                  annotation_position='top right',\n",
    "                          #                 annotation=dict(font_size=18, \n",
    "                           #                                font_family=\"'Open Sans', verdana, arial, sans-serif\"),\n",
    "                            #                               opacity=0, \n",
    "                             #                              line_width=0)  \n",
    "                      "
   ]
  },
  {
   "cell_type": "code",
   "execution_count": 511,
   "id": "fd04d1a4",
   "metadata": {},
   "outputs": [],
   "source": [
    "df_ind5= df_seguimiento_ind5.groupby(['fecha_cumple_requisitos', 'ind5']).count()[['n_folio']].reset_index()"
   ]
  },
  {
   "cell_type": "code",
   "execution_count": 512,
   "id": "8c7a7f1d",
   "metadata": {},
   "outputs": [],
   "source": [
    "df_ind5_perc = (df_ind5[df_ind5['ind5']==True].set_index('fecha_cumple_requisitos')[['n_folio']]/df_ind5.groupby('fecha_cumple_requisitos').sum('n_folio')[['n_folio']])*100"
   ]
  },
  {
   "cell_type": "code",
   "execution_count": 513,
   "id": "970617ba",
   "metadata": {},
   "outputs": [
    {
     "data": {
      "application/vnd.plotly.v1+json": {
       "config": {
        "plotlyServerURL": "https://plot.ly"
       },
       "data": [
        {
         "hovertemplate": "fecha_cumple_requisitos=%{x}<br>Oportunidad (%)=%{marker.color}<extra></extra>",
         "legendgroup": "",
         "line": {
          "color": "grey"
         },
         "marker": {
          "color": [
           100,
           100,
           100,
           84.61538461538461,
           83.05084745762711,
           88.88888888888889,
           58.333333333333336,
           33.87096774193548,
           87.3015873015873,
           86.15384615384616,
           87.17948717948718,
           78.57142857142857,
           81.63265306122449,
           77.96610169491525,
           75.5813953488372,
           86.53846153846155,
           75,
           55.69620253164557,
           54.054054054054056,
           58.82352941176471,
           58.58585858585859,
           94.5945945945946,
           84.87394957983193,
           91.02564102564102,
           86.36363636363636,
           72.09302325581395,
           96.96969696969697,
           84.7457627118644,
           80.50847457627118,
           95.32710280373831,
           86.27450980392157,
           74.10714285714286,
           84.31372549019608,
           84.48275862068965,
           76.36363636363637,
           90.75630252100841,
           89.60000000000001,
           96.96969696969697,
           86.48648648648648,
           78.37837837837837,
           85.08771929824562,
           81.03448275862068,
           63.51351351351351,
           96,
           78.78787878787878,
           94.66666666666667,
           95.4954954954955,
           91.66666666666666,
           92.6829268292683,
           84,
           93.91891891891892,
           92.37288135593221,
           82.35294117647058,
           86.17021276595744,
           92.95774647887323,
           93.47826086956522,
           80.20833333333334,
           94.28571428571428,
           93.82022471910112,
           95.51569506726457,
           95.1219512195122,
           95,
           80.88235294117648,
           67.08860759493672,
           84.56375838926175,
           91.35802469135803,
           90.44585987261146,
           91.53846153846153,
           97.89473684210527,
           94.68085106382979,
           70.1657458563536,
           82.48587570621469,
           91.34615384615384,
           97.6958525345622,
           94.77911646586345,
           82.35294117647058,
           78.47222222222221,
           78.63247863247864,
           89.8876404494382,
           92.87749287749287,
           91.30434782608695,
           91.30434782608695,
           86.38743455497382,
           56.25,
           79.16666666666666,
           92.27941176470588,
           90.76433121019109,
           88.72727272727273,
           86.61971830985915,
           89.30817610062893,
           76.97368421052632,
           72.83236994219652,
           89.54869358669833,
           96.35036496350365,
           94.5945945945946,
           84.34343434343434,
           78.02197802197803,
           64.04494382022472,
           75.16339869281046,
           75.74257425742574,
           83.39622641509435,
           77.32342007434944,
           93.83259911894272,
           88.03418803418803,
           77.51479289940828,
           91.62303664921467,
           62.55924170616114,
           90.31007751937985,
           87.6068376068376,
           86.09625668449198,
           86.48648648648648,
           92.85714285714286,
           94.73684210526315,
           88.8,
           87.5,
           81.9672131147541,
           92.4812030075188,
           97.36842105263158,
           91.11111111111111,
           82.8125,
           91,
           90,
           100,
           97.9020979020979,
           91.11111111111111,
           86.11111111111111,
           88.07339449541286,
           97,
           94.04761904761905,
           81.57894736842105,
           81.76470588235294,
           94.44444444444444,
           91.66666666666666,
           71.42857142857143,
           86,
           95.1219512195122,
           92,
           83.33333333333334,
           80,
           100,
           83.33333333333334,
           80,
           72.72727272727273,
           61.111111111111114,
           100,
           77.77777777777779,
           30,
           50,
           100,
           95.83333333333334,
           85.71428571428571,
           100,
           80,
           100,
           91.66666666666666,
           66.66666666666666,
           92.3076923076923,
           100,
           91.80327868852459,
           100,
           100,
           100,
           100,
           100,
           72.72727272727273,
           100,
           100,
           96.15384615384616,
           77.63157894736842,
           96.875,
           96.1038961038961,
           97.5609756097561,
           96,
           92,
           90.9090909090909,
           100,
           81.81818181818183,
           100,
           100,
           81.25,
           100,
           100,
           100,
           100
          ],
          "coloraxis": "coloraxis",
          "line": {
           "width": 1
          },
          "size": 10,
          "symbol": "circle"
         },
         "mode": "lines+markers",
         "name": "",
         "orientation": "v",
         "showlegend": false,
         "type": "scatter",
         "x": [
          "2021-03-01T00:00:00",
          "2021-03-02T00:00:00",
          "2021-03-03T00:00:00",
          "2021-03-04T00:00:00",
          "2021-03-05T00:00:00",
          "2021-03-06T00:00:00",
          "2021-03-07T00:00:00",
          "2021-03-08T00:00:00",
          "2021-03-09T00:00:00",
          "2021-03-10T00:00:00",
          "2021-03-11T00:00:00",
          "2021-03-12T00:00:00",
          "2021-03-13T00:00:00",
          "2021-03-14T00:00:00",
          "2021-03-15T00:00:00",
          "2021-03-16T00:00:00",
          "2021-03-17T00:00:00",
          "2021-03-18T00:00:00",
          "2021-03-19T00:00:00",
          "2021-03-20T00:00:00",
          "2021-03-21T00:00:00",
          "2021-03-22T00:00:00",
          "2021-03-23T00:00:00",
          "2021-03-24T00:00:00",
          "2021-03-25T00:00:00",
          "2021-03-26T00:00:00",
          "2021-03-27T00:00:00",
          "2021-03-28T00:00:00",
          "2021-03-29T00:00:00",
          "2021-03-30T00:00:00",
          "2021-03-31T00:00:00",
          "2021-04-01T00:00:00",
          "2021-04-02T00:00:00",
          "2021-04-03T00:00:00",
          "2021-04-04T00:00:00",
          "2021-04-05T00:00:00",
          "2021-04-06T00:00:00",
          "2021-04-07T00:00:00",
          "2021-04-08T00:00:00",
          "2021-04-09T00:00:00",
          "2021-04-10T00:00:00",
          "2021-04-11T00:00:00",
          "2021-04-12T00:00:00",
          "2021-04-13T00:00:00",
          "2021-04-14T00:00:00",
          "2021-04-15T00:00:00",
          "2021-04-16T00:00:00",
          "2021-04-17T00:00:00",
          "2021-04-18T00:00:00",
          "2021-04-19T00:00:00",
          "2021-04-20T00:00:00",
          "2021-04-21T00:00:00",
          "2021-04-22T00:00:00",
          "2021-04-23T00:00:00",
          "2021-04-24T00:00:00",
          "2021-04-25T00:00:00",
          "2021-04-26T00:00:00",
          "2021-04-27T00:00:00",
          "2021-04-28T00:00:00",
          "2021-04-29T00:00:00",
          "2021-04-30T00:00:00",
          "2021-05-01T00:00:00",
          "2021-05-02T00:00:00",
          "2021-05-03T00:00:00",
          "2021-05-04T00:00:00",
          "2021-05-05T00:00:00",
          "2021-05-06T00:00:00",
          "2021-05-07T00:00:00",
          "2021-05-08T00:00:00",
          "2021-05-09T00:00:00",
          "2021-05-10T00:00:00",
          "2021-05-11T00:00:00",
          "2021-05-12T00:00:00",
          "2021-05-13T00:00:00",
          "2021-05-14T00:00:00",
          "2021-05-15T00:00:00",
          "2021-05-16T00:00:00",
          "2021-05-17T00:00:00",
          "2021-05-18T00:00:00",
          "2021-05-19T00:00:00",
          "2021-05-20T00:00:00",
          "2021-05-21T00:00:00",
          "2021-05-22T00:00:00",
          "2021-05-23T00:00:00",
          "2021-05-24T00:00:00",
          "2021-05-25T00:00:00",
          "2021-05-26T00:00:00",
          "2021-05-27T00:00:00",
          "2021-05-28T00:00:00",
          "2021-05-29T00:00:00",
          "2021-05-30T00:00:00",
          "2021-05-31T00:00:00",
          "2021-06-01T00:00:00",
          "2021-06-02T00:00:00",
          "2021-06-03T00:00:00",
          "2021-06-04T00:00:00",
          "2021-06-05T00:00:00",
          "2021-06-06T00:00:00",
          "2021-06-07T00:00:00",
          "2021-06-08T00:00:00",
          "2021-06-09T00:00:00",
          "2021-06-10T00:00:00",
          "2021-06-11T00:00:00",
          "2021-06-12T00:00:00",
          "2021-06-13T00:00:00",
          "2021-06-14T00:00:00",
          "2021-06-15T00:00:00",
          "2021-06-16T00:00:00",
          "2021-06-17T00:00:00",
          "2021-06-18T00:00:00",
          "2021-06-19T00:00:00",
          "2021-06-20T00:00:00",
          "2021-06-21T00:00:00",
          "2021-06-22T00:00:00",
          "2021-06-23T00:00:00",
          "2021-06-24T00:00:00",
          "2021-06-25T00:00:00",
          "2021-06-26T00:00:00",
          "2021-06-27T00:00:00",
          "2021-06-28T00:00:00",
          "2021-06-29T00:00:00",
          "2021-06-30T00:00:00",
          "2021-07-01T00:00:00",
          "2021-07-02T00:00:00",
          "2021-07-03T00:00:00",
          "2021-07-04T00:00:00",
          "2021-07-05T00:00:00",
          "2021-07-06T00:00:00",
          "2021-07-07T00:00:00",
          "2021-07-08T00:00:00",
          "2021-07-09T00:00:00",
          "2021-07-10T00:00:00",
          "2021-07-11T00:00:00",
          "2021-07-12T00:00:00",
          "2021-07-13T00:00:00",
          "2021-07-14T00:00:00",
          "2021-07-15T00:00:00",
          "2021-07-16T00:00:00",
          "2021-07-17T00:00:00",
          "2021-07-18T00:00:00",
          "2021-07-19T00:00:00",
          "2021-07-20T00:00:00",
          "2021-07-21T00:00:00",
          "2021-07-22T00:00:00",
          "2021-07-23T00:00:00",
          "2021-07-24T00:00:00",
          "2021-07-25T00:00:00",
          "2021-07-26T00:00:00",
          "2021-07-27T00:00:00",
          "2021-07-28T00:00:00",
          "2021-07-29T00:00:00",
          "2021-07-30T00:00:00",
          "2021-07-31T00:00:00",
          "2021-08-01T00:00:00",
          "2021-08-02T00:00:00",
          "2021-08-03T00:00:00",
          "2021-08-04T00:00:00",
          "2021-08-05T00:00:00",
          "2021-08-06T00:00:00",
          "2021-08-07T00:00:00",
          "2021-08-08T00:00:00",
          "2021-08-09T00:00:00",
          "2021-08-10T00:00:00",
          "2021-08-11T00:00:00",
          "2021-08-12T00:00:00",
          "2021-08-13T00:00:00",
          "2021-08-14T00:00:00",
          "2021-08-15T00:00:00",
          "2021-08-16T00:00:00",
          "2021-08-17T00:00:00",
          "2021-08-18T00:00:00",
          "2021-08-19T00:00:00",
          "2021-08-20T00:00:00",
          "2021-08-21T00:00:00",
          "2021-08-22T00:00:00",
          "2021-08-23T00:00:00",
          "2021-08-24T00:00:00",
          "2021-08-25T00:00:00",
          "2021-08-26T00:00:00",
          "2021-08-27T00:00:00",
          "2021-08-28T00:00:00",
          "2021-08-29T00:00:00",
          "2021-08-30T00:00:00",
          "2021-08-31T00:00:00"
         ],
         "xaxis": "x",
         "y": [
          100,
          100,
          100,
          84.61538461538461,
          83.05084745762711,
          88.88888888888889,
          58.333333333333336,
          33.87096774193548,
          87.3015873015873,
          86.15384615384616,
          87.17948717948718,
          78.57142857142857,
          81.63265306122449,
          77.96610169491525,
          75.5813953488372,
          86.53846153846155,
          75,
          55.69620253164557,
          54.054054054054056,
          58.82352941176471,
          58.58585858585859,
          94.5945945945946,
          84.87394957983193,
          91.02564102564102,
          86.36363636363636,
          72.09302325581395,
          96.96969696969697,
          84.7457627118644,
          80.50847457627118,
          95.32710280373831,
          86.27450980392157,
          74.10714285714286,
          84.31372549019608,
          84.48275862068965,
          76.36363636363637,
          90.75630252100841,
          89.60000000000001,
          96.96969696969697,
          86.48648648648648,
          78.37837837837837,
          85.08771929824562,
          81.03448275862068,
          63.51351351351351,
          96,
          78.78787878787878,
          94.66666666666667,
          95.4954954954955,
          91.66666666666666,
          92.6829268292683,
          84,
          93.91891891891892,
          92.37288135593221,
          82.35294117647058,
          86.17021276595744,
          92.95774647887323,
          93.47826086956522,
          80.20833333333334,
          94.28571428571428,
          93.82022471910112,
          95.51569506726457,
          95.1219512195122,
          95,
          80.88235294117648,
          67.08860759493672,
          84.56375838926175,
          91.35802469135803,
          90.44585987261146,
          91.53846153846153,
          97.89473684210527,
          94.68085106382979,
          70.1657458563536,
          82.48587570621469,
          91.34615384615384,
          97.6958525345622,
          94.77911646586345,
          82.35294117647058,
          78.47222222222221,
          78.63247863247864,
          89.8876404494382,
          92.87749287749287,
          91.30434782608695,
          91.30434782608695,
          86.38743455497382,
          56.25,
          79.16666666666666,
          92.27941176470588,
          90.76433121019109,
          88.72727272727273,
          86.61971830985915,
          89.30817610062893,
          76.97368421052632,
          72.83236994219652,
          89.54869358669833,
          96.35036496350365,
          94.5945945945946,
          84.34343434343434,
          78.02197802197803,
          64.04494382022472,
          75.16339869281046,
          75.74257425742574,
          83.39622641509435,
          77.32342007434944,
          93.83259911894272,
          88.03418803418803,
          77.51479289940828,
          91.62303664921467,
          62.55924170616114,
          90.31007751937985,
          87.6068376068376,
          86.09625668449198,
          86.48648648648648,
          92.85714285714286,
          94.73684210526315,
          88.8,
          87.5,
          81.9672131147541,
          92.4812030075188,
          97.36842105263158,
          91.11111111111111,
          82.8125,
          91,
          90,
          100,
          97.9020979020979,
          91.11111111111111,
          86.11111111111111,
          88.07339449541286,
          97,
          94.04761904761905,
          81.57894736842105,
          81.76470588235294,
          94.44444444444444,
          91.66666666666666,
          71.42857142857143,
          86,
          95.1219512195122,
          92,
          83.33333333333334,
          80,
          100,
          83.33333333333334,
          80,
          72.72727272727273,
          61.111111111111114,
          100,
          77.77777777777779,
          30,
          50,
          100,
          95.83333333333334,
          85.71428571428571,
          100,
          80,
          100,
          91.66666666666666,
          66.66666666666666,
          92.3076923076923,
          100,
          91.80327868852459,
          100,
          100,
          100,
          100,
          100,
          72.72727272727273,
          100,
          100,
          96.15384615384616,
          77.63157894736842,
          96.875,
          96.1038961038961,
          97.5609756097561,
          96,
          92,
          90.9090909090909,
          100,
          81.81818181818183,
          100,
          100,
          81.25,
          100,
          100,
          100,
          100
         ],
         "yaxis": "y"
        }
       ],
       "layout": {
        "coloraxis": {
         "colorbar": {
          "title": {
           "text": "Oportunidad (%)"
          }
         },
         "colorscale": [
          [
           0,
           "#fde725"
          ],
          [
           0.1111111111111111,
           "#b5de2b"
          ],
          [
           0.2222222222222222,
           "#6ece58"
          ],
          [
           0.3333333333333333,
           "#35b779"
          ],
          [
           0.4444444444444444,
           "#1f9e89"
          ],
          [
           0.5555555555555556,
           "#26828e"
          ],
          [
           0.6666666666666666,
           "#31688e"
          ],
          [
           0.7777777777777778,
           "#3e4989"
          ],
          [
           0.8888888888888888,
           "#482878"
          ],
          [
           1,
           "#440154"
          ]
         ]
        },
        "legend": {
         "tracegroupgap": 0
        },
        "margin": {
         "t": 60
        },
        "template": {
         "data": {
          "bar": [
           {
            "error_x": {
             "color": "rgb(36,36,36)"
            },
            "error_y": {
             "color": "rgb(36,36,36)"
            },
            "marker": {
             "line": {
              "color": "white",
              "width": 0.5
             }
            },
            "type": "bar"
           }
          ],
          "barpolar": [
           {
            "marker": {
             "line": {
              "color": "white",
              "width": 0.5
             }
            },
            "type": "barpolar"
           }
          ],
          "carpet": [
           {
            "aaxis": {
             "endlinecolor": "rgb(36,36,36)",
             "gridcolor": "white",
             "linecolor": "white",
             "minorgridcolor": "white",
             "startlinecolor": "rgb(36,36,36)"
            },
            "baxis": {
             "endlinecolor": "rgb(36,36,36)",
             "gridcolor": "white",
             "linecolor": "white",
             "minorgridcolor": "white",
             "startlinecolor": "rgb(36,36,36)"
            },
            "type": "carpet"
           }
          ],
          "choropleth": [
           {
            "colorbar": {
             "outlinewidth": 1,
             "tickcolor": "rgb(36,36,36)",
             "ticks": "outside"
            },
            "type": "choropleth"
           }
          ],
          "contour": [
           {
            "colorbar": {
             "outlinewidth": 1,
             "tickcolor": "rgb(36,36,36)",
             "ticks": "outside"
            },
            "colorscale": [
             [
              0,
              "#440154"
             ],
             [
              0.1111111111111111,
              "#482878"
             ],
             [
              0.2222222222222222,
              "#3e4989"
             ],
             [
              0.3333333333333333,
              "#31688e"
             ],
             [
              0.4444444444444444,
              "#26828e"
             ],
             [
              0.5555555555555556,
              "#1f9e89"
             ],
             [
              0.6666666666666666,
              "#35b779"
             ],
             [
              0.7777777777777778,
              "#6ece58"
             ],
             [
              0.8888888888888888,
              "#b5de2b"
             ],
             [
              1,
              "#fde725"
             ]
            ],
            "type": "contour"
           }
          ],
          "contourcarpet": [
           {
            "colorbar": {
             "outlinewidth": 1,
             "tickcolor": "rgb(36,36,36)",
             "ticks": "outside"
            },
            "type": "contourcarpet"
           }
          ],
          "heatmap": [
           {
            "colorbar": {
             "outlinewidth": 1,
             "tickcolor": "rgb(36,36,36)",
             "ticks": "outside"
            },
            "colorscale": [
             [
              0,
              "#440154"
             ],
             [
              0.1111111111111111,
              "#482878"
             ],
             [
              0.2222222222222222,
              "#3e4989"
             ],
             [
              0.3333333333333333,
              "#31688e"
             ],
             [
              0.4444444444444444,
              "#26828e"
             ],
             [
              0.5555555555555556,
              "#1f9e89"
             ],
             [
              0.6666666666666666,
              "#35b779"
             ],
             [
              0.7777777777777778,
              "#6ece58"
             ],
             [
              0.8888888888888888,
              "#b5de2b"
             ],
             [
              1,
              "#fde725"
             ]
            ],
            "type": "heatmap"
           }
          ],
          "heatmapgl": [
           {
            "colorbar": {
             "outlinewidth": 1,
             "tickcolor": "rgb(36,36,36)",
             "ticks": "outside"
            },
            "colorscale": [
             [
              0,
              "#440154"
             ],
             [
              0.1111111111111111,
              "#482878"
             ],
             [
              0.2222222222222222,
              "#3e4989"
             ],
             [
              0.3333333333333333,
              "#31688e"
             ],
             [
              0.4444444444444444,
              "#26828e"
             ],
             [
              0.5555555555555556,
              "#1f9e89"
             ],
             [
              0.6666666666666666,
              "#35b779"
             ],
             [
              0.7777777777777778,
              "#6ece58"
             ],
             [
              0.8888888888888888,
              "#b5de2b"
             ],
             [
              1,
              "#fde725"
             ]
            ],
            "type": "heatmapgl"
           }
          ],
          "histogram": [
           {
            "marker": {
             "line": {
              "color": "white",
              "width": 0.6
             }
            },
            "type": "histogram"
           }
          ],
          "histogram2d": [
           {
            "colorbar": {
             "outlinewidth": 1,
             "tickcolor": "rgb(36,36,36)",
             "ticks": "outside"
            },
            "colorscale": [
             [
              0,
              "#440154"
             ],
             [
              0.1111111111111111,
              "#482878"
             ],
             [
              0.2222222222222222,
              "#3e4989"
             ],
             [
              0.3333333333333333,
              "#31688e"
             ],
             [
              0.4444444444444444,
              "#26828e"
             ],
             [
              0.5555555555555556,
              "#1f9e89"
             ],
             [
              0.6666666666666666,
              "#35b779"
             ],
             [
              0.7777777777777778,
              "#6ece58"
             ],
             [
              0.8888888888888888,
              "#b5de2b"
             ],
             [
              1,
              "#fde725"
             ]
            ],
            "type": "histogram2d"
           }
          ],
          "histogram2dcontour": [
           {
            "colorbar": {
             "outlinewidth": 1,
             "tickcolor": "rgb(36,36,36)",
             "ticks": "outside"
            },
            "colorscale": [
             [
              0,
              "#440154"
             ],
             [
              0.1111111111111111,
              "#482878"
             ],
             [
              0.2222222222222222,
              "#3e4989"
             ],
             [
              0.3333333333333333,
              "#31688e"
             ],
             [
              0.4444444444444444,
              "#26828e"
             ],
             [
              0.5555555555555556,
              "#1f9e89"
             ],
             [
              0.6666666666666666,
              "#35b779"
             ],
             [
              0.7777777777777778,
              "#6ece58"
             ],
             [
              0.8888888888888888,
              "#b5de2b"
             ],
             [
              1,
              "#fde725"
             ]
            ],
            "type": "histogram2dcontour"
           }
          ],
          "mesh3d": [
           {
            "colorbar": {
             "outlinewidth": 1,
             "tickcolor": "rgb(36,36,36)",
             "ticks": "outside"
            },
            "type": "mesh3d"
           }
          ],
          "parcoords": [
           {
            "line": {
             "colorbar": {
              "outlinewidth": 1,
              "tickcolor": "rgb(36,36,36)",
              "ticks": "outside"
             }
            },
            "type": "parcoords"
           }
          ],
          "pie": [
           {
            "automargin": true,
            "type": "pie"
           }
          ],
          "scatter": [
           {
            "marker": {
             "colorbar": {
              "outlinewidth": 1,
              "tickcolor": "rgb(36,36,36)",
              "ticks": "outside"
             }
            },
            "type": "scatter"
           }
          ],
          "scatter3d": [
           {
            "line": {
             "colorbar": {
              "outlinewidth": 1,
              "tickcolor": "rgb(36,36,36)",
              "ticks": "outside"
             }
            },
            "marker": {
             "colorbar": {
              "outlinewidth": 1,
              "tickcolor": "rgb(36,36,36)",
              "ticks": "outside"
             }
            },
            "type": "scatter3d"
           }
          ],
          "scattercarpet": [
           {
            "marker": {
             "colorbar": {
              "outlinewidth": 1,
              "tickcolor": "rgb(36,36,36)",
              "ticks": "outside"
             }
            },
            "type": "scattercarpet"
           }
          ],
          "scattergeo": [
           {
            "marker": {
             "colorbar": {
              "outlinewidth": 1,
              "tickcolor": "rgb(36,36,36)",
              "ticks": "outside"
             }
            },
            "type": "scattergeo"
           }
          ],
          "scattergl": [
           {
            "marker": {
             "colorbar": {
              "outlinewidth": 1,
              "tickcolor": "rgb(36,36,36)",
              "ticks": "outside"
             }
            },
            "type": "scattergl"
           }
          ],
          "scattermapbox": [
           {
            "marker": {
             "colorbar": {
              "outlinewidth": 1,
              "tickcolor": "rgb(36,36,36)",
              "ticks": "outside"
             }
            },
            "type": "scattermapbox"
           }
          ],
          "scatterpolar": [
           {
            "marker": {
             "colorbar": {
              "outlinewidth": 1,
              "tickcolor": "rgb(36,36,36)",
              "ticks": "outside"
             }
            },
            "type": "scatterpolar"
           }
          ],
          "scatterpolargl": [
           {
            "marker": {
             "colorbar": {
              "outlinewidth": 1,
              "tickcolor": "rgb(36,36,36)",
              "ticks": "outside"
             }
            },
            "type": "scatterpolargl"
           }
          ],
          "scatterternary": [
           {
            "marker": {
             "colorbar": {
              "outlinewidth": 1,
              "tickcolor": "rgb(36,36,36)",
              "ticks": "outside"
             }
            },
            "type": "scatterternary"
           }
          ],
          "surface": [
           {
            "colorbar": {
             "outlinewidth": 1,
             "tickcolor": "rgb(36,36,36)",
             "ticks": "outside"
            },
            "colorscale": [
             [
              0,
              "#440154"
             ],
             [
              0.1111111111111111,
              "#482878"
             ],
             [
              0.2222222222222222,
              "#3e4989"
             ],
             [
              0.3333333333333333,
              "#31688e"
             ],
             [
              0.4444444444444444,
              "#26828e"
             ],
             [
              0.5555555555555556,
              "#1f9e89"
             ],
             [
              0.6666666666666666,
              "#35b779"
             ],
             [
              0.7777777777777778,
              "#6ece58"
             ],
             [
              0.8888888888888888,
              "#b5de2b"
             ],
             [
              1,
              "#fde725"
             ]
            ],
            "type": "surface"
           }
          ],
          "table": [
           {
            "cells": {
             "fill": {
              "color": "rgb(237,237,237)"
             },
             "line": {
              "color": "white"
             }
            },
            "header": {
             "fill": {
              "color": "rgb(217,217,217)"
             },
             "line": {
              "color": "white"
             }
            },
            "type": "table"
           }
          ]
         },
         "layout": {
          "annotationdefaults": {
           "arrowhead": 0,
           "arrowwidth": 1
          },
          "autotypenumbers": "strict",
          "coloraxis": {
           "colorbar": {
            "outlinewidth": 1,
            "tickcolor": "rgb(36,36,36)",
            "ticks": "outside"
           }
          },
          "colorscale": {
           "diverging": [
            [
             0,
             "rgb(103,0,31)"
            ],
            [
             0.1,
             "rgb(178,24,43)"
            ],
            [
             0.2,
             "rgb(214,96,77)"
            ],
            [
             0.3,
             "rgb(244,165,130)"
            ],
            [
             0.4,
             "rgb(253,219,199)"
            ],
            [
             0.5,
             "rgb(247,247,247)"
            ],
            [
             0.6,
             "rgb(209,229,240)"
            ],
            [
             0.7,
             "rgb(146,197,222)"
            ],
            [
             0.8,
             "rgb(67,147,195)"
            ],
            [
             0.9,
             "rgb(33,102,172)"
            ],
            [
             1,
             "rgb(5,48,97)"
            ]
           ],
           "sequential": [
            [
             0,
             "#440154"
            ],
            [
             0.1111111111111111,
             "#482878"
            ],
            [
             0.2222222222222222,
             "#3e4989"
            ],
            [
             0.3333333333333333,
             "#31688e"
            ],
            [
             0.4444444444444444,
             "#26828e"
            ],
            [
             0.5555555555555556,
             "#1f9e89"
            ],
            [
             0.6666666666666666,
             "#35b779"
            ],
            [
             0.7777777777777778,
             "#6ece58"
            ],
            [
             0.8888888888888888,
             "#b5de2b"
            ],
            [
             1,
             "#fde725"
            ]
           ],
           "sequentialminus": [
            [
             0,
             "#440154"
            ],
            [
             0.1111111111111111,
             "#482878"
            ],
            [
             0.2222222222222222,
             "#3e4989"
            ],
            [
             0.3333333333333333,
             "#31688e"
            ],
            [
             0.4444444444444444,
             "#26828e"
            ],
            [
             0.5555555555555556,
             "#1f9e89"
            ],
            [
             0.6666666666666666,
             "#35b779"
            ],
            [
             0.7777777777777778,
             "#6ece58"
            ],
            [
             0.8888888888888888,
             "#b5de2b"
            ],
            [
             1,
             "#fde725"
            ]
           ]
          },
          "colorway": [
           "#1F77B4",
           "#FF7F0E",
           "#2CA02C",
           "#D62728",
           "#9467BD",
           "#8C564B",
           "#E377C2",
           "#7F7F7F",
           "#BCBD22",
           "#17BECF"
          ],
          "font": {
           "color": "rgb(36,36,36)"
          },
          "geo": {
           "bgcolor": "white",
           "lakecolor": "white",
           "landcolor": "white",
           "showlakes": true,
           "showland": true,
           "subunitcolor": "white"
          },
          "hoverlabel": {
           "align": "left"
          },
          "hovermode": "closest",
          "mapbox": {
           "style": "light"
          },
          "paper_bgcolor": "white",
          "plot_bgcolor": "white",
          "polar": {
           "angularaxis": {
            "gridcolor": "rgb(232,232,232)",
            "linecolor": "rgb(36,36,36)",
            "showgrid": false,
            "showline": true,
            "ticks": "outside"
           },
           "bgcolor": "white",
           "radialaxis": {
            "gridcolor": "rgb(232,232,232)",
            "linecolor": "rgb(36,36,36)",
            "showgrid": false,
            "showline": true,
            "ticks": "outside"
           }
          },
          "scene": {
           "xaxis": {
            "backgroundcolor": "white",
            "gridcolor": "rgb(232,232,232)",
            "gridwidth": 2,
            "linecolor": "rgb(36,36,36)",
            "showbackground": true,
            "showgrid": false,
            "showline": true,
            "ticks": "outside",
            "zeroline": false,
            "zerolinecolor": "rgb(36,36,36)"
           },
           "yaxis": {
            "backgroundcolor": "white",
            "gridcolor": "rgb(232,232,232)",
            "gridwidth": 2,
            "linecolor": "rgb(36,36,36)",
            "showbackground": true,
            "showgrid": false,
            "showline": true,
            "ticks": "outside",
            "zeroline": false,
            "zerolinecolor": "rgb(36,36,36)"
           },
           "zaxis": {
            "backgroundcolor": "white",
            "gridcolor": "rgb(232,232,232)",
            "gridwidth": 2,
            "linecolor": "rgb(36,36,36)",
            "showbackground": true,
            "showgrid": false,
            "showline": true,
            "ticks": "outside",
            "zeroline": false,
            "zerolinecolor": "rgb(36,36,36)"
           }
          },
          "shapedefaults": {
           "fillcolor": "black",
           "line": {
            "width": 0
           },
           "opacity": 0.3
          },
          "ternary": {
           "aaxis": {
            "gridcolor": "rgb(232,232,232)",
            "linecolor": "rgb(36,36,36)",
            "showgrid": false,
            "showline": true,
            "ticks": "outside"
           },
           "baxis": {
            "gridcolor": "rgb(232,232,232)",
            "linecolor": "rgb(36,36,36)",
            "showgrid": false,
            "showline": true,
            "ticks": "outside"
           },
           "bgcolor": "white",
           "caxis": {
            "gridcolor": "rgb(232,232,232)",
            "linecolor": "rgb(36,36,36)",
            "showgrid": false,
            "showline": true,
            "ticks": "outside"
           }
          },
          "title": {
           "x": 0.05
          },
          "xaxis": {
           "automargin": true,
           "gridcolor": "rgb(232,232,232)",
           "linecolor": "rgb(36,36,36)",
           "showgrid": false,
           "showline": true,
           "ticks": "outside",
           "title": {
            "standoff": 15
           },
           "zeroline": false,
           "zerolinecolor": "rgb(36,36,36)"
          },
          "yaxis": {
           "automargin": true,
           "gridcolor": "rgb(232,232,232)",
           "linecolor": "rgb(36,36,36)",
           "showgrid": false,
           "showline": true,
           "ticks": "outside",
           "title": {
            "standoff": 15
           },
           "zeroline": false,
           "zerolinecolor": "rgb(36,36,36)"
          }
         }
        },
        "title": {
         "text": "Oportunidad en la investigación epidemiológica de casos"
        },
        "xaxis": {
         "anchor": "y",
         "domain": [
          0,
          1
         ],
         "title": {
          "text": "Fecha"
         }
        },
        "yaxis": {
         "anchor": "x",
         "domain": [
          0,
          1
         ],
         "title": {
          "text": "Oportunidad (%)"
         }
        }
       }
      },
      "text/html": [
       "<div>                            <div id=\"2a6bb1b3-d9a7-4460-9a30-76aaa60d6843\" class=\"plotly-graph-div\" style=\"height:525px; width:100%;\"></div>            <script type=\"text/javascript\">                require([\"plotly\"], function(Plotly) {                    window.PLOTLYENV=window.PLOTLYENV || {};                                    if (document.getElementById(\"2a6bb1b3-d9a7-4460-9a30-76aaa60d6843\")) {                    Plotly.newPlot(                        \"2a6bb1b3-d9a7-4460-9a30-76aaa60d6843\",                        [{\"hovertemplate\": \"fecha_cumple_requisitos=%{x}<br>Oportunidad (%)=%{marker.color}<extra></extra>\", \"legendgroup\": \"\", \"line\": {\"color\": \"grey\"}, \"marker\": {\"color\": [100.0, 100.0, 100.0, 84.61538461538461, 83.05084745762711, 88.88888888888889, 58.333333333333336, 33.87096774193548, 87.3015873015873, 86.15384615384616, 87.17948717948718, 78.57142857142857, 81.63265306122449, 77.96610169491525, 75.5813953488372, 86.53846153846155, 75.0, 55.69620253164557, 54.054054054054056, 58.82352941176471, 58.58585858585859, 94.5945945945946, 84.87394957983193, 91.02564102564102, 86.36363636363636, 72.09302325581395, 96.96969696969697, 84.7457627118644, 80.50847457627118, 95.32710280373831, 86.27450980392157, 74.10714285714286, 84.31372549019608, 84.48275862068965, 76.36363636363637, 90.75630252100841, 89.60000000000001, 96.96969696969697, 86.48648648648648, 78.37837837837837, 85.08771929824562, 81.03448275862068, 63.51351351351351, 96.0, 78.78787878787878, 94.66666666666667, 95.4954954954955, 91.66666666666666, 92.6829268292683, 84.0, 93.91891891891892, 92.37288135593221, 82.35294117647058, 86.17021276595744, 92.95774647887323, 93.47826086956522, 80.20833333333334, 94.28571428571428, 93.82022471910112, 95.51569506726457, 95.1219512195122, 95.0, 80.88235294117648, 67.08860759493672, 84.56375838926175, 91.35802469135803, 90.44585987261146, 91.53846153846153, 97.89473684210527, 94.68085106382979, 70.1657458563536, 82.48587570621469, 91.34615384615384, 97.6958525345622, 94.77911646586345, 82.35294117647058, 78.47222222222221, 78.63247863247864, 89.8876404494382, 92.87749287749287, 91.30434782608695, 91.30434782608695, 86.38743455497382, 56.25, 79.16666666666666, 92.27941176470588, 90.76433121019109, 88.72727272727273, 86.61971830985915, 89.30817610062893, 76.97368421052632, 72.83236994219652, 89.54869358669833, 96.35036496350365, 94.5945945945946, 84.34343434343434, 78.02197802197803, 64.04494382022472, 75.16339869281046, 75.74257425742574, 83.39622641509435, 77.32342007434944, 93.83259911894272, 88.03418803418803, 77.51479289940828, 91.62303664921467, 62.55924170616114, 90.31007751937985, 87.6068376068376, 86.09625668449198, 86.48648648648648, 92.85714285714286, 94.73684210526315, 88.8, 87.5, 81.9672131147541, 92.4812030075188, 97.36842105263158, 91.11111111111111, 82.8125, 91.0, 90.0, 100.0, 97.9020979020979, 91.11111111111111, 86.11111111111111, 88.07339449541286, 97.0, 94.04761904761905, 81.57894736842105, 81.76470588235294, 94.44444444444444, 91.66666666666666, 71.42857142857143, 86.0, 95.1219512195122, 92.0, 83.33333333333334, 80.0, 100.0, 83.33333333333334, 80.0, 72.72727272727273, 61.111111111111114, 100.0, 77.77777777777779, 30.0, 50.0, 100.0, 95.83333333333334, 85.71428571428571, 100.0, 80.0, 100.0, 91.66666666666666, 66.66666666666666, 92.3076923076923, 100.0, 91.80327868852459, 100.0, 100.0, 100.0, 100.0, 100.0, 72.72727272727273, 100.0, 100.0, 96.15384615384616, 77.63157894736842, 96.875, 96.1038961038961, 97.5609756097561, 96.0, 92.0, 90.9090909090909, 100.0, 81.81818181818183, 100.0, 100.0, 81.25, 100.0, 100.0, 100.0, 100.0], \"coloraxis\": \"coloraxis\", \"line\": {\"width\": 1}, \"size\": 10, \"symbol\": \"circle\"}, \"mode\": \"lines+markers\", \"name\": \"\", \"orientation\": \"v\", \"showlegend\": false, \"type\": \"scatter\", \"x\": [\"2021-03-01T00:00:00\", \"2021-03-02T00:00:00\", \"2021-03-03T00:00:00\", \"2021-03-04T00:00:00\", \"2021-03-05T00:00:00\", \"2021-03-06T00:00:00\", \"2021-03-07T00:00:00\", \"2021-03-08T00:00:00\", \"2021-03-09T00:00:00\", \"2021-03-10T00:00:00\", \"2021-03-11T00:00:00\", \"2021-03-12T00:00:00\", \"2021-03-13T00:00:00\", \"2021-03-14T00:00:00\", \"2021-03-15T00:00:00\", \"2021-03-16T00:00:00\", \"2021-03-17T00:00:00\", \"2021-03-18T00:00:00\", \"2021-03-19T00:00:00\", \"2021-03-20T00:00:00\", \"2021-03-21T00:00:00\", \"2021-03-22T00:00:00\", \"2021-03-23T00:00:00\", \"2021-03-24T00:00:00\", \"2021-03-25T00:00:00\", \"2021-03-26T00:00:00\", \"2021-03-27T00:00:00\", \"2021-03-28T00:00:00\", \"2021-03-29T00:00:00\", \"2021-03-30T00:00:00\", \"2021-03-31T00:00:00\", \"2021-04-01T00:00:00\", \"2021-04-02T00:00:00\", \"2021-04-03T00:00:00\", \"2021-04-04T00:00:00\", \"2021-04-05T00:00:00\", \"2021-04-06T00:00:00\", \"2021-04-07T00:00:00\", \"2021-04-08T00:00:00\", \"2021-04-09T00:00:00\", \"2021-04-10T00:00:00\", \"2021-04-11T00:00:00\", \"2021-04-12T00:00:00\", \"2021-04-13T00:00:00\", \"2021-04-14T00:00:00\", \"2021-04-15T00:00:00\", \"2021-04-16T00:00:00\", \"2021-04-17T00:00:00\", \"2021-04-18T00:00:00\", \"2021-04-19T00:00:00\", \"2021-04-20T00:00:00\", \"2021-04-21T00:00:00\", \"2021-04-22T00:00:00\", \"2021-04-23T00:00:00\", \"2021-04-24T00:00:00\", \"2021-04-25T00:00:00\", \"2021-04-26T00:00:00\", \"2021-04-27T00:00:00\", \"2021-04-28T00:00:00\", \"2021-04-29T00:00:00\", \"2021-04-30T00:00:00\", \"2021-05-01T00:00:00\", \"2021-05-02T00:00:00\", \"2021-05-03T00:00:00\", \"2021-05-04T00:00:00\", \"2021-05-05T00:00:00\", \"2021-05-06T00:00:00\", \"2021-05-07T00:00:00\", \"2021-05-08T00:00:00\", \"2021-05-09T00:00:00\", \"2021-05-10T00:00:00\", \"2021-05-11T00:00:00\", \"2021-05-12T00:00:00\", \"2021-05-13T00:00:00\", \"2021-05-14T00:00:00\", \"2021-05-15T00:00:00\", \"2021-05-16T00:00:00\", \"2021-05-17T00:00:00\", \"2021-05-18T00:00:00\", \"2021-05-19T00:00:00\", \"2021-05-20T00:00:00\", \"2021-05-21T00:00:00\", \"2021-05-22T00:00:00\", \"2021-05-23T00:00:00\", \"2021-05-24T00:00:00\", \"2021-05-25T00:00:00\", \"2021-05-26T00:00:00\", \"2021-05-27T00:00:00\", \"2021-05-28T00:00:00\", \"2021-05-29T00:00:00\", \"2021-05-30T00:00:00\", \"2021-05-31T00:00:00\", \"2021-06-01T00:00:00\", \"2021-06-02T00:00:00\", \"2021-06-03T00:00:00\", \"2021-06-04T00:00:00\", \"2021-06-05T00:00:00\", \"2021-06-06T00:00:00\", \"2021-06-07T00:00:00\", \"2021-06-08T00:00:00\", \"2021-06-09T00:00:00\", \"2021-06-10T00:00:00\", \"2021-06-11T00:00:00\", \"2021-06-12T00:00:00\", \"2021-06-13T00:00:00\", \"2021-06-14T00:00:00\", \"2021-06-15T00:00:00\", \"2021-06-16T00:00:00\", \"2021-06-17T00:00:00\", \"2021-06-18T00:00:00\", \"2021-06-19T00:00:00\", \"2021-06-20T00:00:00\", \"2021-06-21T00:00:00\", \"2021-06-22T00:00:00\", \"2021-06-23T00:00:00\", \"2021-06-24T00:00:00\", \"2021-06-25T00:00:00\", \"2021-06-26T00:00:00\", \"2021-06-27T00:00:00\", \"2021-06-28T00:00:00\", \"2021-06-29T00:00:00\", \"2021-06-30T00:00:00\", \"2021-07-01T00:00:00\", \"2021-07-02T00:00:00\", \"2021-07-03T00:00:00\", \"2021-07-04T00:00:00\", \"2021-07-05T00:00:00\", \"2021-07-06T00:00:00\", \"2021-07-07T00:00:00\", \"2021-07-08T00:00:00\", \"2021-07-09T00:00:00\", \"2021-07-10T00:00:00\", \"2021-07-11T00:00:00\", \"2021-07-12T00:00:00\", \"2021-07-13T00:00:00\", \"2021-07-14T00:00:00\", \"2021-07-15T00:00:00\", \"2021-07-16T00:00:00\", \"2021-07-17T00:00:00\", \"2021-07-18T00:00:00\", \"2021-07-19T00:00:00\", \"2021-07-20T00:00:00\", \"2021-07-21T00:00:00\", \"2021-07-22T00:00:00\", \"2021-07-23T00:00:00\", \"2021-07-24T00:00:00\", \"2021-07-25T00:00:00\", \"2021-07-26T00:00:00\", \"2021-07-27T00:00:00\", \"2021-07-28T00:00:00\", \"2021-07-29T00:00:00\", \"2021-07-30T00:00:00\", \"2021-07-31T00:00:00\", \"2021-08-01T00:00:00\", \"2021-08-02T00:00:00\", \"2021-08-03T00:00:00\", \"2021-08-04T00:00:00\", \"2021-08-05T00:00:00\", \"2021-08-06T00:00:00\", \"2021-08-07T00:00:00\", \"2021-08-08T00:00:00\", \"2021-08-09T00:00:00\", \"2021-08-10T00:00:00\", \"2021-08-11T00:00:00\", \"2021-08-12T00:00:00\", \"2021-08-13T00:00:00\", \"2021-08-14T00:00:00\", \"2021-08-15T00:00:00\", \"2021-08-16T00:00:00\", \"2021-08-17T00:00:00\", \"2021-08-18T00:00:00\", \"2021-08-19T00:00:00\", \"2021-08-20T00:00:00\", \"2021-08-21T00:00:00\", \"2021-08-22T00:00:00\", \"2021-08-23T00:00:00\", \"2021-08-24T00:00:00\", \"2021-08-25T00:00:00\", \"2021-08-26T00:00:00\", \"2021-08-27T00:00:00\", \"2021-08-28T00:00:00\", \"2021-08-29T00:00:00\", \"2021-08-30T00:00:00\", \"2021-08-31T00:00:00\"], \"xaxis\": \"x\", \"y\": [100.0, 100.0, 100.0, 84.61538461538461, 83.05084745762711, 88.88888888888889, 58.333333333333336, 33.87096774193548, 87.3015873015873, 86.15384615384616, 87.17948717948718, 78.57142857142857, 81.63265306122449, 77.96610169491525, 75.5813953488372, 86.53846153846155, 75.0, 55.69620253164557, 54.054054054054056, 58.82352941176471, 58.58585858585859, 94.5945945945946, 84.87394957983193, 91.02564102564102, 86.36363636363636, 72.09302325581395, 96.96969696969697, 84.7457627118644, 80.50847457627118, 95.32710280373831, 86.27450980392157, 74.10714285714286, 84.31372549019608, 84.48275862068965, 76.36363636363637, 90.75630252100841, 89.60000000000001, 96.96969696969697, 86.48648648648648, 78.37837837837837, 85.08771929824562, 81.03448275862068, 63.51351351351351, 96.0, 78.78787878787878, 94.66666666666667, 95.4954954954955, 91.66666666666666, 92.6829268292683, 84.0, 93.91891891891892, 92.37288135593221, 82.35294117647058, 86.17021276595744, 92.95774647887323, 93.47826086956522, 80.20833333333334, 94.28571428571428, 93.82022471910112, 95.51569506726457, 95.1219512195122, 95.0, 80.88235294117648, 67.08860759493672, 84.56375838926175, 91.35802469135803, 90.44585987261146, 91.53846153846153, 97.89473684210527, 94.68085106382979, 70.1657458563536, 82.48587570621469, 91.34615384615384, 97.6958525345622, 94.77911646586345, 82.35294117647058, 78.47222222222221, 78.63247863247864, 89.8876404494382, 92.87749287749287, 91.30434782608695, 91.30434782608695, 86.38743455497382, 56.25, 79.16666666666666, 92.27941176470588, 90.76433121019109, 88.72727272727273, 86.61971830985915, 89.30817610062893, 76.97368421052632, 72.83236994219652, 89.54869358669833, 96.35036496350365, 94.5945945945946, 84.34343434343434, 78.02197802197803, 64.04494382022472, 75.16339869281046, 75.74257425742574, 83.39622641509435, 77.32342007434944, 93.83259911894272, 88.03418803418803, 77.51479289940828, 91.62303664921467, 62.55924170616114, 90.31007751937985, 87.6068376068376, 86.09625668449198, 86.48648648648648, 92.85714285714286, 94.73684210526315, 88.8, 87.5, 81.9672131147541, 92.4812030075188, 97.36842105263158, 91.11111111111111, 82.8125, 91.0, 90.0, 100.0, 97.9020979020979, 91.11111111111111, 86.11111111111111, 88.07339449541286, 97.0, 94.04761904761905, 81.57894736842105, 81.76470588235294, 94.44444444444444, 91.66666666666666, 71.42857142857143, 86.0, 95.1219512195122, 92.0, 83.33333333333334, 80.0, 100.0, 83.33333333333334, 80.0, 72.72727272727273, 61.111111111111114, 100.0, 77.77777777777779, 30.0, 50.0, 100.0, 95.83333333333334, 85.71428571428571, 100.0, 80.0, 100.0, 91.66666666666666, 66.66666666666666, 92.3076923076923, 100.0, 91.80327868852459, 100.0, 100.0, 100.0, 100.0, 100.0, 72.72727272727273, 100.0, 100.0, 96.15384615384616, 77.63157894736842, 96.875, 96.1038961038961, 97.5609756097561, 96.0, 92.0, 90.9090909090909, 100.0, 81.81818181818183, 100.0, 100.0, 81.25, 100.0, 100.0, 100.0, 100.0], \"yaxis\": \"y\"}],                        {\"coloraxis\": {\"colorbar\": {\"title\": {\"text\": \"Oportunidad (%)\"}}, \"colorscale\": [[0.0, \"#fde725\"], [0.1111111111111111, \"#b5de2b\"], [0.2222222222222222, \"#6ece58\"], [0.3333333333333333, \"#35b779\"], [0.4444444444444444, \"#1f9e89\"], [0.5555555555555556, \"#26828e\"], [0.6666666666666666, \"#31688e\"], [0.7777777777777778, \"#3e4989\"], [0.8888888888888888, \"#482878\"], [1.0, \"#440154\"]]}, \"legend\": {\"tracegroupgap\": 0}, \"margin\": {\"t\": 60}, \"template\": {\"data\": {\"bar\": [{\"error_x\": {\"color\": \"rgb(36,36,36)\"}, \"error_y\": {\"color\": \"rgb(36,36,36)\"}, \"marker\": {\"line\": {\"color\": \"white\", \"width\": 0.5}}, \"type\": \"bar\"}], \"barpolar\": [{\"marker\": {\"line\": {\"color\": \"white\", \"width\": 0.5}}, \"type\": \"barpolar\"}], \"carpet\": [{\"aaxis\": {\"endlinecolor\": \"rgb(36,36,36)\", \"gridcolor\": \"white\", \"linecolor\": \"white\", \"minorgridcolor\": \"white\", \"startlinecolor\": \"rgb(36,36,36)\"}, \"baxis\": {\"endlinecolor\": \"rgb(36,36,36)\", \"gridcolor\": \"white\", \"linecolor\": \"white\", \"minorgridcolor\": \"white\", \"startlinecolor\": \"rgb(36,36,36)\"}, \"type\": \"carpet\"}], \"choropleth\": [{\"colorbar\": {\"outlinewidth\": 1, \"tickcolor\": \"rgb(36,36,36)\", \"ticks\": \"outside\"}, \"type\": \"choropleth\"}], \"contour\": [{\"colorbar\": {\"outlinewidth\": 1, \"tickcolor\": \"rgb(36,36,36)\", \"ticks\": \"outside\"}, \"colorscale\": [[0.0, \"#440154\"], [0.1111111111111111, \"#482878\"], [0.2222222222222222, \"#3e4989\"], [0.3333333333333333, \"#31688e\"], [0.4444444444444444, \"#26828e\"], [0.5555555555555556, \"#1f9e89\"], [0.6666666666666666, \"#35b779\"], [0.7777777777777778, \"#6ece58\"], [0.8888888888888888, \"#b5de2b\"], [1.0, \"#fde725\"]], \"type\": \"contour\"}], \"contourcarpet\": [{\"colorbar\": {\"outlinewidth\": 1, \"tickcolor\": \"rgb(36,36,36)\", \"ticks\": \"outside\"}, \"type\": \"contourcarpet\"}], \"heatmap\": [{\"colorbar\": {\"outlinewidth\": 1, \"tickcolor\": \"rgb(36,36,36)\", \"ticks\": \"outside\"}, \"colorscale\": [[0.0, \"#440154\"], [0.1111111111111111, \"#482878\"], [0.2222222222222222, \"#3e4989\"], [0.3333333333333333, \"#31688e\"], [0.4444444444444444, \"#26828e\"], [0.5555555555555556, \"#1f9e89\"], [0.6666666666666666, \"#35b779\"], [0.7777777777777778, \"#6ece58\"], [0.8888888888888888, \"#b5de2b\"], [1.0, \"#fde725\"]], \"type\": \"heatmap\"}], \"heatmapgl\": [{\"colorbar\": {\"outlinewidth\": 1, \"tickcolor\": \"rgb(36,36,36)\", \"ticks\": \"outside\"}, \"colorscale\": [[0.0, \"#440154\"], [0.1111111111111111, \"#482878\"], [0.2222222222222222, \"#3e4989\"], [0.3333333333333333, \"#31688e\"], [0.4444444444444444, \"#26828e\"], [0.5555555555555556, \"#1f9e89\"], [0.6666666666666666, \"#35b779\"], [0.7777777777777778, \"#6ece58\"], [0.8888888888888888, \"#b5de2b\"], [1.0, \"#fde725\"]], \"type\": \"heatmapgl\"}], \"histogram\": [{\"marker\": {\"line\": {\"color\": \"white\", \"width\": 0.6}}, \"type\": \"histogram\"}], \"histogram2d\": [{\"colorbar\": {\"outlinewidth\": 1, \"tickcolor\": \"rgb(36,36,36)\", \"ticks\": \"outside\"}, \"colorscale\": [[0.0, \"#440154\"], [0.1111111111111111, \"#482878\"], [0.2222222222222222, \"#3e4989\"], [0.3333333333333333, \"#31688e\"], [0.4444444444444444, \"#26828e\"], [0.5555555555555556, \"#1f9e89\"], [0.6666666666666666, \"#35b779\"], [0.7777777777777778, \"#6ece58\"], [0.8888888888888888, \"#b5de2b\"], [1.0, \"#fde725\"]], \"type\": \"histogram2d\"}], \"histogram2dcontour\": [{\"colorbar\": {\"outlinewidth\": 1, \"tickcolor\": \"rgb(36,36,36)\", \"ticks\": \"outside\"}, \"colorscale\": [[0.0, \"#440154\"], [0.1111111111111111, \"#482878\"], [0.2222222222222222, \"#3e4989\"], [0.3333333333333333, \"#31688e\"], [0.4444444444444444, \"#26828e\"], [0.5555555555555556, \"#1f9e89\"], [0.6666666666666666, \"#35b779\"], [0.7777777777777778, \"#6ece58\"], [0.8888888888888888, \"#b5de2b\"], [1.0, \"#fde725\"]], \"type\": \"histogram2dcontour\"}], \"mesh3d\": [{\"colorbar\": {\"outlinewidth\": 1, \"tickcolor\": \"rgb(36,36,36)\", \"ticks\": \"outside\"}, \"type\": \"mesh3d\"}], \"parcoords\": [{\"line\": {\"colorbar\": {\"outlinewidth\": 1, \"tickcolor\": \"rgb(36,36,36)\", \"ticks\": \"outside\"}}, \"type\": \"parcoords\"}], \"pie\": [{\"automargin\": true, \"type\": \"pie\"}], \"scatter\": [{\"marker\": {\"colorbar\": {\"outlinewidth\": 1, \"tickcolor\": \"rgb(36,36,36)\", \"ticks\": \"outside\"}}, \"type\": \"scatter\"}], \"scatter3d\": [{\"line\": {\"colorbar\": {\"outlinewidth\": 1, \"tickcolor\": \"rgb(36,36,36)\", \"ticks\": \"outside\"}}, \"marker\": {\"colorbar\": {\"outlinewidth\": 1, \"tickcolor\": \"rgb(36,36,36)\", \"ticks\": \"outside\"}}, \"type\": \"scatter3d\"}], \"scattercarpet\": [{\"marker\": {\"colorbar\": {\"outlinewidth\": 1, \"tickcolor\": \"rgb(36,36,36)\", \"ticks\": \"outside\"}}, \"type\": \"scattercarpet\"}], \"scattergeo\": [{\"marker\": {\"colorbar\": {\"outlinewidth\": 1, \"tickcolor\": \"rgb(36,36,36)\", \"ticks\": \"outside\"}}, \"type\": \"scattergeo\"}], \"scattergl\": [{\"marker\": {\"colorbar\": {\"outlinewidth\": 1, \"tickcolor\": \"rgb(36,36,36)\", \"ticks\": \"outside\"}}, \"type\": \"scattergl\"}], \"scattermapbox\": [{\"marker\": {\"colorbar\": {\"outlinewidth\": 1, \"tickcolor\": \"rgb(36,36,36)\", \"ticks\": \"outside\"}}, \"type\": \"scattermapbox\"}], \"scatterpolar\": [{\"marker\": {\"colorbar\": {\"outlinewidth\": 1, \"tickcolor\": \"rgb(36,36,36)\", \"ticks\": \"outside\"}}, \"type\": \"scatterpolar\"}], \"scatterpolargl\": [{\"marker\": {\"colorbar\": {\"outlinewidth\": 1, \"tickcolor\": \"rgb(36,36,36)\", \"ticks\": \"outside\"}}, \"type\": \"scatterpolargl\"}], \"scatterternary\": [{\"marker\": {\"colorbar\": {\"outlinewidth\": 1, \"tickcolor\": \"rgb(36,36,36)\", \"ticks\": \"outside\"}}, \"type\": \"scatterternary\"}], \"surface\": [{\"colorbar\": {\"outlinewidth\": 1, \"tickcolor\": \"rgb(36,36,36)\", \"ticks\": \"outside\"}, \"colorscale\": [[0.0, \"#440154\"], [0.1111111111111111, \"#482878\"], [0.2222222222222222, \"#3e4989\"], [0.3333333333333333, \"#31688e\"], [0.4444444444444444, \"#26828e\"], [0.5555555555555556, \"#1f9e89\"], [0.6666666666666666, \"#35b779\"], [0.7777777777777778, \"#6ece58\"], [0.8888888888888888, \"#b5de2b\"], [1.0, \"#fde725\"]], \"type\": \"surface\"}], \"table\": [{\"cells\": {\"fill\": {\"color\": \"rgb(237,237,237)\"}, \"line\": {\"color\": \"white\"}}, \"header\": {\"fill\": {\"color\": \"rgb(217,217,217)\"}, \"line\": {\"color\": \"white\"}}, \"type\": \"table\"}]}, \"layout\": {\"annotationdefaults\": {\"arrowhead\": 0, \"arrowwidth\": 1}, \"autotypenumbers\": \"strict\", \"coloraxis\": {\"colorbar\": {\"outlinewidth\": 1, \"tickcolor\": \"rgb(36,36,36)\", \"ticks\": \"outside\"}}, \"colorscale\": {\"diverging\": [[0.0, \"rgb(103,0,31)\"], [0.1, \"rgb(178,24,43)\"], [0.2, \"rgb(214,96,77)\"], [0.3, \"rgb(244,165,130)\"], [0.4, \"rgb(253,219,199)\"], [0.5, \"rgb(247,247,247)\"], [0.6, \"rgb(209,229,240)\"], [0.7, \"rgb(146,197,222)\"], [0.8, \"rgb(67,147,195)\"], [0.9, \"rgb(33,102,172)\"], [1.0, \"rgb(5,48,97)\"]], \"sequential\": [[0.0, \"#440154\"], [0.1111111111111111, \"#482878\"], [0.2222222222222222, \"#3e4989\"], [0.3333333333333333, \"#31688e\"], [0.4444444444444444, \"#26828e\"], [0.5555555555555556, \"#1f9e89\"], [0.6666666666666666, \"#35b779\"], [0.7777777777777778, \"#6ece58\"], [0.8888888888888888, \"#b5de2b\"], [1.0, \"#fde725\"]], \"sequentialminus\": [[0.0, \"#440154\"], [0.1111111111111111, \"#482878\"], [0.2222222222222222, \"#3e4989\"], [0.3333333333333333, \"#31688e\"], [0.4444444444444444, \"#26828e\"], [0.5555555555555556, \"#1f9e89\"], [0.6666666666666666, \"#35b779\"], [0.7777777777777778, \"#6ece58\"], [0.8888888888888888, \"#b5de2b\"], [1.0, \"#fde725\"]]}, \"colorway\": [\"#1F77B4\", \"#FF7F0E\", \"#2CA02C\", \"#D62728\", \"#9467BD\", \"#8C564B\", \"#E377C2\", \"#7F7F7F\", \"#BCBD22\", \"#17BECF\"], \"font\": {\"color\": \"rgb(36,36,36)\"}, \"geo\": {\"bgcolor\": \"white\", \"lakecolor\": \"white\", \"landcolor\": \"white\", \"showlakes\": true, \"showland\": true, \"subunitcolor\": \"white\"}, \"hoverlabel\": {\"align\": \"left\"}, \"hovermode\": \"closest\", \"mapbox\": {\"style\": \"light\"}, \"paper_bgcolor\": \"white\", \"plot_bgcolor\": \"white\", \"polar\": {\"angularaxis\": {\"gridcolor\": \"rgb(232,232,232)\", \"linecolor\": \"rgb(36,36,36)\", \"showgrid\": false, \"showline\": true, \"ticks\": \"outside\"}, \"bgcolor\": \"white\", \"radialaxis\": {\"gridcolor\": \"rgb(232,232,232)\", \"linecolor\": \"rgb(36,36,36)\", \"showgrid\": false, \"showline\": true, \"ticks\": \"outside\"}}, \"scene\": {\"xaxis\": {\"backgroundcolor\": \"white\", \"gridcolor\": \"rgb(232,232,232)\", \"gridwidth\": 2, \"linecolor\": \"rgb(36,36,36)\", \"showbackground\": true, \"showgrid\": false, \"showline\": true, \"ticks\": \"outside\", \"zeroline\": false, \"zerolinecolor\": \"rgb(36,36,36)\"}, \"yaxis\": {\"backgroundcolor\": \"white\", \"gridcolor\": \"rgb(232,232,232)\", \"gridwidth\": 2, \"linecolor\": \"rgb(36,36,36)\", \"showbackground\": true, \"showgrid\": false, \"showline\": true, \"ticks\": \"outside\", \"zeroline\": false, \"zerolinecolor\": \"rgb(36,36,36)\"}, \"zaxis\": {\"backgroundcolor\": \"white\", \"gridcolor\": \"rgb(232,232,232)\", \"gridwidth\": 2, \"linecolor\": \"rgb(36,36,36)\", \"showbackground\": true, \"showgrid\": false, \"showline\": true, \"ticks\": \"outside\", \"zeroline\": false, \"zerolinecolor\": \"rgb(36,36,36)\"}}, \"shapedefaults\": {\"fillcolor\": \"black\", \"line\": {\"width\": 0}, \"opacity\": 0.3}, \"ternary\": {\"aaxis\": {\"gridcolor\": \"rgb(232,232,232)\", \"linecolor\": \"rgb(36,36,36)\", \"showgrid\": false, \"showline\": true, \"ticks\": \"outside\"}, \"baxis\": {\"gridcolor\": \"rgb(232,232,232)\", \"linecolor\": \"rgb(36,36,36)\", \"showgrid\": false, \"showline\": true, \"ticks\": \"outside\"}, \"bgcolor\": \"white\", \"caxis\": {\"gridcolor\": \"rgb(232,232,232)\", \"linecolor\": \"rgb(36,36,36)\", \"showgrid\": false, \"showline\": true, \"ticks\": \"outside\"}}, \"title\": {\"x\": 0.05}, \"xaxis\": {\"automargin\": true, \"gridcolor\": \"rgb(232,232,232)\", \"linecolor\": \"rgb(36,36,36)\", \"showgrid\": false, \"showline\": true, \"ticks\": \"outside\", \"title\": {\"standoff\": 15}, \"zeroline\": false, \"zerolinecolor\": \"rgb(36,36,36)\"}, \"yaxis\": {\"automargin\": true, \"gridcolor\": \"rgb(232,232,232)\", \"linecolor\": \"rgb(36,36,36)\", \"showgrid\": false, \"showline\": true, \"ticks\": \"outside\", \"title\": {\"standoff\": 15}, \"zeroline\": false, \"zerolinecolor\": \"rgb(36,36,36)\"}}}, \"title\": {\"text\": \"Oportunidad en la investigaci\\u00f3n epidemiol\\u00f3gica de casos\"}, \"xaxis\": {\"anchor\": \"y\", \"domain\": [0.0, 1.0], \"title\": {\"text\": \"Fecha\"}}, \"yaxis\": {\"anchor\": \"x\", \"domain\": [0.0, 1.0], \"title\": {\"text\": \"Oportunidad (%)\"}}},                        {\"responsive\": true}                    ).then(function(){\n",
       "                            \n",
       "var gd = document.getElementById('2a6bb1b3-d9a7-4460-9a30-76aaa60d6843');\n",
       "var x = new MutationObserver(function (mutations, observer) {{\n",
       "        var display = window.getComputedStyle(gd).display;\n",
       "        if (!display || display === 'none') {{\n",
       "            console.log([gd, 'removed!']);\n",
       "            Plotly.purge(gd);\n",
       "            observer.disconnect();\n",
       "        }}\n",
       "}});\n",
       "\n",
       "// Listen for the removal of the full notebook cells\n",
       "var notebookContainer = gd.closest('#notebook-container');\n",
       "if (notebookContainer) {{\n",
       "    x.observe(notebookContainer, {childList: true});\n",
       "}}\n",
       "\n",
       "// Listen for the clearing of the current output cell\n",
       "var outputEl = gd.closest('.output');\n",
       "if (outputEl) {{\n",
       "    x.observe(outputEl, {childList: true});\n",
       "}}\n",
       "\n",
       "                        })                };                });            </script>        </div>"
      ]
     },
     "metadata": {},
     "output_type": "display_data"
    }
   ],
   "source": [
    "px.scatter(df_ind5_perc.reset_index(),\n",
    "        x= 'fecha_cumple_requisitos',\n",
    "        y= 'n_folio',\n",
    "        color='n_folio',\n",
    "        color_continuous_scale=px.colors.sequential.Viridis_r,\n",
    "        labels={'n_folio':'Oportunidad (%)'},\n",
    "        ).update_layout(title= 'Oportunidad en la investigación epidemiológica de casos',\n",
    "                       yaxis_title='Oportunidad (%)',\n",
    "                       xaxis_title='Fecha',\n",
    "                       template='simple_white',\n",
    "                 #      xaxis=dict(tickmode = 'array',\n",
    "                  #                tickvals = list(range(12,88,3)),\n",
    "                   #               ticktext = list(list(range(12,54,3))+list(range(1,88,3))),\n",
    "                    #             ),\n",
    "                 #   ).add_vline(x=53.5, line_width=3, line_dash='dash', line_color='gray'\n",
    "                  #             ).add_hline(y=10, \n",
    "                   #                        line_width=3, \n",
    "                    #                       line_dash='longdash', \n",
    "                     #                      line_color='olive',\n",
    "                      #                     annotation_text='Meta nacional (10%)',\n",
    "                       #                    annotation_position='bottom right'\n",
    "                        #         ).add_hline(y=mean_bac_ind, \n",
    "                         #                    line_width=3, \n",
    "                          #                   line_dash='longdash', \n",
    "                           #                  line_color='green',\n",
    "                            #                 annotation_text= 'Promedio BAC ('+str(mean_bac_ind)+'%)',\n",
    "                             #                annotation_position='bottom right'\n",
    "                              #       ).add_vrect(x0='51', x1='50', \n",
    "                               #            annotation_text='2020', \n",
    "                                #           annotation_position='top right',\n",
    "                                 #          annotation=dict(font_size=18, \n",
    "                                  #                         font_family=\"'Open Sans', verdana, arial, sans-serif\"),\n",
    "                                   #                        opacity=0, \n",
    "                                    #                       line_width=0\n",
    "                                     #     ).add_vrect(x0='84', x1='86', \n",
    "                                      #     annotation_text='2021', \n",
    "                                       #    annotation_position='top right',\n",
    "                                        #   annotation=dict(font_size=18, \n",
    "                                         #                  font_family=\"'Open Sans', verdana, arial, sans-serif\"),\n",
    "                                          #                 opacity=0, \n",
    "                                           #                line_width=0\n",
    "                                                     ).update_traces(mode='lines+markers', \n",
    "                                                                     line_color='grey',\n",
    "                                                                     marker_line_width=1, \n",
    "                                                                     marker_size=10)"
   ]
  },
  {
   "cell_type": "code",
   "execution_count": 514,
   "id": "4b92ed8f",
   "metadata": {},
   "outputs": [
    {
     "data": {
      "text/html": [
       "<div>\n",
       "<style scoped>\n",
       "    .dataframe tbody tr th:only-of-type {\n",
       "        vertical-align: middle;\n",
       "    }\n",
       "\n",
       "    .dataframe tbody tr th {\n",
       "        vertical-align: top;\n",
       "    }\n",
       "\n",
       "    .dataframe thead th {\n",
       "        text-align: right;\n",
       "    }\n",
       "</style>\n",
       "<table border=\"1\" class=\"dataframe\">\n",
       "  <thead>\n",
       "    <tr style=\"text-align: right;\">\n",
       "      <th></th>\n",
       "      <th>fecha_cumple_requisitos</th>\n",
       "      <th>n_folio</th>\n",
       "    </tr>\n",
       "  </thead>\n",
       "  <tbody>\n",
       "    <tr>\n",
       "      <th>0</th>\n",
       "      <td>2021-03-01</td>\n",
       "      <td>100.000000</td>\n",
       "    </tr>\n",
       "    <tr>\n",
       "      <th>1</th>\n",
       "      <td>2021-03-02</td>\n",
       "      <td>100.000000</td>\n",
       "    </tr>\n",
       "    <tr>\n",
       "      <th>2</th>\n",
       "      <td>2021-03-03</td>\n",
       "      <td>100.000000</td>\n",
       "    </tr>\n",
       "    <tr>\n",
       "      <th>3</th>\n",
       "      <td>2021-03-04</td>\n",
       "      <td>84.615385</td>\n",
       "    </tr>\n",
       "    <tr>\n",
       "      <th>4</th>\n",
       "      <td>2021-03-05</td>\n",
       "      <td>83.050847</td>\n",
       "    </tr>\n",
       "  </tbody>\n",
       "</table>\n",
       "</div>"
      ],
      "text/plain": [
       "  fecha_cumple_requisitos     n_folio\n",
       "0              2021-03-01  100.000000\n",
       "1              2021-03-02  100.000000\n",
       "2              2021-03-03  100.000000\n",
       "3              2021-03-04   84.615385\n",
       "4              2021-03-05   83.050847"
      ]
     },
     "execution_count": 514,
     "metadata": {},
     "output_type": "execute_result"
    }
   ],
   "source": [
    "df_ind5_perc.reset_index().head()"
   ]
  },
  {
   "cell_type": "code",
   "execution_count": 515,
   "id": "58ab24f0",
   "metadata": {},
   "outputs": [
    {
     "data": {
      "text/html": [
       "<div>\n",
       "<style scoped>\n",
       "    .dataframe tbody tr th:only-of-type {\n",
       "        vertical-align: middle;\n",
       "    }\n",
       "\n",
       "    .dataframe tbody tr th {\n",
       "        vertical-align: top;\n",
       "    }\n",
       "\n",
       "    .dataframe thead th {\n",
       "        text-align: right;\n",
       "    }\n",
       "</style>\n",
       "<table border=\"1\" class=\"dataframe\">\n",
       "  <thead>\n",
       "    <tr style=\"text-align: right;\">\n",
       "      <th></th>\n",
       "      <th>fecha_notificacion</th>\n",
       "      <th>semana_epidemiologica_21</th>\n",
       "    </tr>\n",
       "  </thead>\n",
       "  <tbody>\n",
       "    <tr>\n",
       "      <th>0</th>\n",
       "      <td>2020-03-12</td>\n",
       "      <td>11</td>\n",
       "    </tr>\n",
       "    <tr>\n",
       "      <th>1</th>\n",
       "      <td>2020-03-12</td>\n",
       "      <td>11</td>\n",
       "    </tr>\n",
       "    <tr>\n",
       "      <th>2</th>\n",
       "      <td>2020-03-12</td>\n",
       "      <td>11</td>\n",
       "    </tr>\n",
       "    <tr>\n",
       "      <th>3</th>\n",
       "      <td>2020-03-18</td>\n",
       "      <td>12</td>\n",
       "    </tr>\n",
       "    <tr>\n",
       "      <th>4</th>\n",
       "      <td>2020-03-19</td>\n",
       "      <td>12</td>\n",
       "    </tr>\n",
       "    <tr>\n",
       "      <th>...</th>\n",
       "      <td>...</td>\n",
       "      <td>...</td>\n",
       "    </tr>\n",
       "    <tr>\n",
       "      <th>151482</th>\n",
       "      <td>2021-09-04</td>\n",
       "      <td>89</td>\n",
       "    </tr>\n",
       "    <tr>\n",
       "      <th>151483</th>\n",
       "      <td>2021-09-04</td>\n",
       "      <td>89</td>\n",
       "    </tr>\n",
       "    <tr>\n",
       "      <th>151484</th>\n",
       "      <td>2021-09-04</td>\n",
       "      <td>89</td>\n",
       "    </tr>\n",
       "    <tr>\n",
       "      <th>151485</th>\n",
       "      <td>2021-09-05</td>\n",
       "      <td>89</td>\n",
       "    </tr>\n",
       "    <tr>\n",
       "      <th>151486</th>\n",
       "      <td>2021-09-05</td>\n",
       "      <td>89</td>\n",
       "    </tr>\n",
       "  </tbody>\n",
       "</table>\n",
       "<p>151487 rows × 2 columns</p>\n",
       "</div>"
      ],
      "text/plain": [
       "       fecha_notificacion  semana_epidemiologica_21\n",
       "0              2020-03-12                        11\n",
       "1              2020-03-12                        11\n",
       "2              2020-03-12                        11\n",
       "3              2020-03-18                        12\n",
       "4              2020-03-19                        12\n",
       "...                   ...                       ...\n",
       "151482         2021-09-04                        89\n",
       "151483         2021-09-04                        89\n",
       "151484         2021-09-04                        89\n",
       "151485         2021-09-05                        89\n",
       "151486         2021-09-05                        89\n",
       "\n",
       "[151487 rows x 2 columns]"
      ]
     },
     "execution_count": 515,
     "metadata": {},
     "output_type": "execute_result"
    }
   ],
   "source": [
    "data_aysen_clean_21[['fecha_notificacion','semana_epidemiologica_21']]"
   ]
  },
  {
   "cell_type": "code",
   "execution_count": 516,
   "id": "b34b297f",
   "metadata": {
    "scrolled": true
   },
   "outputs": [
    {
     "data": {
      "text/html": [
       "<div>\n",
       "<style scoped>\n",
       "    .dataframe tbody tr th:only-of-type {\n",
       "        vertical-align: middle;\n",
       "    }\n",
       "\n",
       "    .dataframe tbody tr th {\n",
       "        vertical-align: top;\n",
       "    }\n",
       "\n",
       "    .dataframe thead th {\n",
       "        text-align: right;\n",
       "    }\n",
       "</style>\n",
       "<table border=\"1\" class=\"dataframe\">\n",
       "  <thead>\n",
       "    <tr style=\"text-align: right;\">\n",
       "      <th></th>\n",
       "      <th>n_folio</th>\n",
       "    </tr>\n",
       "    <tr>\n",
       "      <th>semana_epidemiologica_21</th>\n",
       "      <th></th>\n",
       "    </tr>\n",
       "  </thead>\n",
       "  <tbody>\n",
       "    <tr>\n",
       "      <th>62</th>\n",
       "      <td>92.960749</td>\n",
       "    </tr>\n",
       "    <tr>\n",
       "      <th>63</th>\n",
       "      <td>71.688138</td>\n",
       "    </tr>\n",
       "    <tr>\n",
       "      <th>64</th>\n",
       "      <td>68.519817</td>\n",
       "    </tr>\n",
       "    <tr>\n",
       "      <th>65</th>\n",
       "      <td>84.958797</td>\n",
       "    </tr>\n",
       "    <tr>\n",
       "      <th>66</th>\n",
       "      <td>84.492410</td>\n",
       "    </tr>\n",
       "    <tr>\n",
       "      <th>67</th>\n",
       "      <td>87.880471</td>\n",
       "    </tr>\n",
       "    <tr>\n",
       "      <th>68</th>\n",
       "      <td>85.364546</td>\n",
       "    </tr>\n",
       "    <tr>\n",
       "      <th>69</th>\n",
       "      <td>88.157462</td>\n",
       "    </tr>\n",
       "    <tr>\n",
       "      <th>70</th>\n",
       "      <td>91.361851</td>\n",
       "    </tr>\n",
       "    <tr>\n",
       "      <th>71</th>\n",
       "      <td>84.418695</td>\n",
       "    </tr>\n",
       "    <tr>\n",
       "      <th>72</th>\n",
       "      <td>87.507363</td>\n",
       "    </tr>\n",
       "    <tr>\n",
       "      <th>73</th>\n",
       "      <td>88.211924</td>\n",
       "    </tr>\n",
       "    <tr>\n",
       "      <th>74</th>\n",
       "      <td>86.197329</td>\n",
       "    </tr>\n",
       "    <tr>\n",
       "      <th>75</th>\n",
       "      <td>86.014854</td>\n",
       "    </tr>\n",
       "    <tr>\n",
       "      <th>76</th>\n",
       "      <td>81.169612</td>\n",
       "    </tr>\n",
       "    <tr>\n",
       "      <th>77</th>\n",
       "      <td>83.440084</td>\n",
       "    </tr>\n",
       "    <tr>\n",
       "      <th>78</th>\n",
       "      <td>88.959247</td>\n",
       "    </tr>\n",
       "    <tr>\n",
       "      <th>79</th>\n",
       "      <td>93.575584</td>\n",
       "    </tr>\n",
       "    <tr>\n",
       "      <th>80</th>\n",
       "      <td>88.674436</td>\n",
       "    </tr>\n",
       "    <tr>\n",
       "      <th>81</th>\n",
       "      <td>85.268874</td>\n",
       "    </tr>\n",
       "    <tr>\n",
       "      <th>82</th>\n",
       "      <td>80.718716</td>\n",
       "    </tr>\n",
       "    <tr>\n",
       "      <th>83</th>\n",
       "      <td>81.119176</td>\n",
       "    </tr>\n",
       "    <tr>\n",
       "      <th>84</th>\n",
       "      <td>89.498088</td>\n",
       "    </tr>\n",
       "    <tr>\n",
       "      <th>85</th>\n",
       "      <td>96.178529</td>\n",
       "    </tr>\n",
       "    <tr>\n",
       "      <th>86</th>\n",
       "      <td>91.956188</td>\n",
       "    </tr>\n",
       "    <tr>\n",
       "      <th>87</th>\n",
       "      <td>93.693500</td>\n",
       "    </tr>\n",
       "    <tr>\n",
       "      <th>88</th>\n",
       "      <td>100.000000</td>\n",
       "    </tr>\n",
       "  </tbody>\n",
       "</table>\n",
       "</div>"
      ],
      "text/plain": [
       "                             n_folio\n",
       "semana_epidemiologica_21            \n",
       "62                         92.960749\n",
       "63                         71.688138\n",
       "64                         68.519817\n",
       "65                         84.958797\n",
       "66                         84.492410\n",
       "67                         87.880471\n",
       "68                         85.364546\n",
       "69                         88.157462\n",
       "70                         91.361851\n",
       "71                         84.418695\n",
       "72                         87.507363\n",
       "73                         88.211924\n",
       "74                         86.197329\n",
       "75                         86.014854\n",
       "76                         81.169612\n",
       "77                         83.440084\n",
       "78                         88.959247\n",
       "79                         93.575584\n",
       "80                         88.674436\n",
       "81                         85.268874\n",
       "82                         80.718716\n",
       "83                         81.119176\n",
       "84                         89.498088\n",
       "85                         96.178529\n",
       "86                         91.956188\n",
       "87                         93.693500\n",
       "88                        100.000000"
      ]
     },
     "execution_count": 516,
     "metadata": {},
     "output_type": "execute_result"
    }
   ],
   "source": [
    "df_ind5_perc.reset_index().merge(data_aysen_clean_21[['fecha_notificacion','semana_epidemiologica_21']], \n",
    "                   left_on='fecha_cumple_requisitos',\n",
    "                   right_on='fecha_notificacion',\n",
    "                   how='left').groupby('semana_epidemiologica_21').mean()"
   ]
  },
  {
   "cell_type": "code",
   "execution_count": 517,
   "id": "8dc704bc",
   "metadata": {},
   "outputs": [],
   "source": [
    "mean_ind5 = df_ind5_perc.reset_index().merge(data_aysen_clean_21[['fecha_notificacion','semana_epidemiologica_21']], \n",
    "                   left_on='fecha_cumple_requisitos',\n",
    "                   right_on='fecha_notificacion',\n",
    "                   how='left').groupby('semana_epidemiologica_21').mean()['n_folio'].mean()"
   ]
  },
  {
   "cell_type": "code",
   "execution_count": 518,
   "id": "092393c9",
   "metadata": {},
   "outputs": [
    {
     "data": {
      "application/vnd.plotly.v1+json": {
       "config": {
        "plotlyServerURL": "https://plot.ly"
       },
       "data": [
        {
         "hovertemplate": "semana_epidemiologica_21=%{x}<br>Oportunidad (%)=%{marker.color}<extra></extra>",
         "legendgroup": "",
         "line": {
          "color": "grey"
         },
         "marker": {
          "color": [
           92.96074917134365,
           71.68813791775523,
           68.51981733704052,
           84.95879721552299,
           84.49240967866476,
           87.8804709346161,
           85.36454613696552,
           88.15746207910541,
           91.36185059491618,
           84.41869510879303,
           87.50736343206042,
           88.21192445548454,
           86.19732896239518,
           86.01485427340945,
           81.16961237461189,
           83.44008428027269,
           88.95924748726831,
           93.57558359139755,
           88.67443633870657,
           85.2688740672059,
           80.71871579715784,
           81.11917608770105,
           89.49808816419612,
           96.1785288142141,
           91.95618777557776,
           93.69349986529687,
           100
          ],
          "coloraxis": "coloraxis",
          "line": {
           "width": 1
          },
          "size": 10,
          "symbol": "circle"
         },
         "mode": "lines+markers",
         "name": "",
         "orientation": "v",
         "showlegend": false,
         "type": "scatter",
         "x": [
          62,
          63,
          64,
          65,
          66,
          67,
          68,
          69,
          70,
          71,
          72,
          73,
          74,
          75,
          76,
          77,
          78,
          79,
          80,
          81,
          82,
          83,
          84,
          85,
          86,
          87,
          88
         ],
         "xaxis": "x",
         "y": [
          92.96074917134365,
          71.68813791775523,
          68.51981733704052,
          84.95879721552299,
          84.49240967866476,
          87.8804709346161,
          85.36454613696552,
          88.15746207910541,
          91.36185059491618,
          84.41869510879303,
          87.50736343206042,
          88.21192445548454,
          86.19732896239518,
          86.01485427340945,
          81.16961237461189,
          83.44008428027269,
          88.95924748726831,
          93.57558359139755,
          88.67443633870657,
          85.2688740672059,
          80.71871579715784,
          81.11917608770105,
          89.49808816419612,
          96.1785288142141,
          91.95618777557776,
          93.69349986529687,
          100
         ],
         "yaxis": "y"
        }
       ],
       "layout": {
        "annotations": [
         {
          "showarrow": false,
          "text": "Meta (90%)",
          "x": 1,
          "xanchor": "right",
          "xref": "x domain",
          "y": 90,
          "yanchor": "top",
          "yref": "y"
         },
         {
          "font": {
           "family": "'Open Sans', verdana, arial, sans-serif",
           "size": 18
          },
          "showarrow": false,
          "text": "2020",
          "x": "53",
          "xanchor": "right",
          "xref": "x",
          "y": 0.5,
          "yanchor": "middle",
          "yref": "y domain"
         },
         {
          "font": {
           "family": "'Open Sans', verdana, arial, sans-serif",
           "size": 18
          },
          "showarrow": false,
          "text": "2021",
          "x": "88",
          "xanchor": "right",
          "xref": "x",
          "y": 0.5,
          "yanchor": "middle",
          "yref": "y domain"
         }
        ],
        "coloraxis": {
         "colorbar": {
          "title": {
           "text": "Oportunidad (%)"
          }
         },
         "colorscale": [
          [
           0,
           "#fde725"
          ],
          [
           0.1111111111111111,
           "#b5de2b"
          ],
          [
           0.2222222222222222,
           "#6ece58"
          ],
          [
           0.3333333333333333,
           "#35b779"
          ],
          [
           0.4444444444444444,
           "#1f9e89"
          ],
          [
           0.5555555555555556,
           "#26828e"
          ],
          [
           0.6666666666666666,
           "#31688e"
          ],
          [
           0.7777777777777778,
           "#3e4989"
          ],
          [
           0.8888888888888888,
           "#482878"
          ],
          [
           1,
           "#440154"
          ]
         ]
        },
        "legend": {
         "tracegroupgap": 0
        },
        "margin": {
         "t": 60
        },
        "shapes": [
         {
          "line": {
           "color": "gray",
           "dash": "dash",
           "width": 3
          },
          "type": "line",
          "x0": 53.5,
          "x1": 53.5,
          "xref": "x",
          "y0": 0,
          "y1": 1,
          "yref": "y domain"
         },
         {
          "line": {
           "color": "#222A2A",
           "dash": "longdash",
           "width": 3
          },
          "type": "line",
          "x0": 0,
          "x1": 1,
          "xref": "x domain",
          "y0": 90,
          "y1": 90,
          "yref": "y"
         },
         {
          "line": {
           "width": 0
          },
          "opacity": 0,
          "type": "rect",
          "x0": "51",
          "x1": "53",
          "xref": "x",
          "y0": 0,
          "y1": 1,
          "yref": "y domain"
         },
         {
          "line": {
           "width": 0
          },
          "opacity": 0,
          "type": "rect",
          "x0": "84",
          "x1": "88",
          "xref": "x",
          "y0": 0,
          "y1": 1,
          "yref": "y domain"
         }
        ],
        "template": {
         "data": {
          "bar": [
           {
            "error_x": {
             "color": "rgb(36,36,36)"
            },
            "error_y": {
             "color": "rgb(36,36,36)"
            },
            "marker": {
             "line": {
              "color": "white",
              "width": 0.5
             }
            },
            "type": "bar"
           }
          ],
          "barpolar": [
           {
            "marker": {
             "line": {
              "color": "white",
              "width": 0.5
             }
            },
            "type": "barpolar"
           }
          ],
          "carpet": [
           {
            "aaxis": {
             "endlinecolor": "rgb(36,36,36)",
             "gridcolor": "white",
             "linecolor": "white",
             "minorgridcolor": "white",
             "startlinecolor": "rgb(36,36,36)"
            },
            "baxis": {
             "endlinecolor": "rgb(36,36,36)",
             "gridcolor": "white",
             "linecolor": "white",
             "minorgridcolor": "white",
             "startlinecolor": "rgb(36,36,36)"
            },
            "type": "carpet"
           }
          ],
          "choropleth": [
           {
            "colorbar": {
             "outlinewidth": 1,
             "tickcolor": "rgb(36,36,36)",
             "ticks": "outside"
            },
            "type": "choropleth"
           }
          ],
          "contour": [
           {
            "colorbar": {
             "outlinewidth": 1,
             "tickcolor": "rgb(36,36,36)",
             "ticks": "outside"
            },
            "colorscale": [
             [
              0,
              "#440154"
             ],
             [
              0.1111111111111111,
              "#482878"
             ],
             [
              0.2222222222222222,
              "#3e4989"
             ],
             [
              0.3333333333333333,
              "#31688e"
             ],
             [
              0.4444444444444444,
              "#26828e"
             ],
             [
              0.5555555555555556,
              "#1f9e89"
             ],
             [
              0.6666666666666666,
              "#35b779"
             ],
             [
              0.7777777777777778,
              "#6ece58"
             ],
             [
              0.8888888888888888,
              "#b5de2b"
             ],
             [
              1,
              "#fde725"
             ]
            ],
            "type": "contour"
           }
          ],
          "contourcarpet": [
           {
            "colorbar": {
             "outlinewidth": 1,
             "tickcolor": "rgb(36,36,36)",
             "ticks": "outside"
            },
            "type": "contourcarpet"
           }
          ],
          "heatmap": [
           {
            "colorbar": {
             "outlinewidth": 1,
             "tickcolor": "rgb(36,36,36)",
             "ticks": "outside"
            },
            "colorscale": [
             [
              0,
              "#440154"
             ],
             [
              0.1111111111111111,
              "#482878"
             ],
             [
              0.2222222222222222,
              "#3e4989"
             ],
             [
              0.3333333333333333,
              "#31688e"
             ],
             [
              0.4444444444444444,
              "#26828e"
             ],
             [
              0.5555555555555556,
              "#1f9e89"
             ],
             [
              0.6666666666666666,
              "#35b779"
             ],
             [
              0.7777777777777778,
              "#6ece58"
             ],
             [
              0.8888888888888888,
              "#b5de2b"
             ],
             [
              1,
              "#fde725"
             ]
            ],
            "type": "heatmap"
           }
          ],
          "heatmapgl": [
           {
            "colorbar": {
             "outlinewidth": 1,
             "tickcolor": "rgb(36,36,36)",
             "ticks": "outside"
            },
            "colorscale": [
             [
              0,
              "#440154"
             ],
             [
              0.1111111111111111,
              "#482878"
             ],
             [
              0.2222222222222222,
              "#3e4989"
             ],
             [
              0.3333333333333333,
              "#31688e"
             ],
             [
              0.4444444444444444,
              "#26828e"
             ],
             [
              0.5555555555555556,
              "#1f9e89"
             ],
             [
              0.6666666666666666,
              "#35b779"
             ],
             [
              0.7777777777777778,
              "#6ece58"
             ],
             [
              0.8888888888888888,
              "#b5de2b"
             ],
             [
              1,
              "#fde725"
             ]
            ],
            "type": "heatmapgl"
           }
          ],
          "histogram": [
           {
            "marker": {
             "line": {
              "color": "white",
              "width": 0.6
             }
            },
            "type": "histogram"
           }
          ],
          "histogram2d": [
           {
            "colorbar": {
             "outlinewidth": 1,
             "tickcolor": "rgb(36,36,36)",
             "ticks": "outside"
            },
            "colorscale": [
             [
              0,
              "#440154"
             ],
             [
              0.1111111111111111,
              "#482878"
             ],
             [
              0.2222222222222222,
              "#3e4989"
             ],
             [
              0.3333333333333333,
              "#31688e"
             ],
             [
              0.4444444444444444,
              "#26828e"
             ],
             [
              0.5555555555555556,
              "#1f9e89"
             ],
             [
              0.6666666666666666,
              "#35b779"
             ],
             [
              0.7777777777777778,
              "#6ece58"
             ],
             [
              0.8888888888888888,
              "#b5de2b"
             ],
             [
              1,
              "#fde725"
             ]
            ],
            "type": "histogram2d"
           }
          ],
          "histogram2dcontour": [
           {
            "colorbar": {
             "outlinewidth": 1,
             "tickcolor": "rgb(36,36,36)",
             "ticks": "outside"
            },
            "colorscale": [
             [
              0,
              "#440154"
             ],
             [
              0.1111111111111111,
              "#482878"
             ],
             [
              0.2222222222222222,
              "#3e4989"
             ],
             [
              0.3333333333333333,
              "#31688e"
             ],
             [
              0.4444444444444444,
              "#26828e"
             ],
             [
              0.5555555555555556,
              "#1f9e89"
             ],
             [
              0.6666666666666666,
              "#35b779"
             ],
             [
              0.7777777777777778,
              "#6ece58"
             ],
             [
              0.8888888888888888,
              "#b5de2b"
             ],
             [
              1,
              "#fde725"
             ]
            ],
            "type": "histogram2dcontour"
           }
          ],
          "mesh3d": [
           {
            "colorbar": {
             "outlinewidth": 1,
             "tickcolor": "rgb(36,36,36)",
             "ticks": "outside"
            },
            "type": "mesh3d"
           }
          ],
          "parcoords": [
           {
            "line": {
             "colorbar": {
              "outlinewidth": 1,
              "tickcolor": "rgb(36,36,36)",
              "ticks": "outside"
             }
            },
            "type": "parcoords"
           }
          ],
          "pie": [
           {
            "automargin": true,
            "type": "pie"
           }
          ],
          "scatter": [
           {
            "marker": {
             "colorbar": {
              "outlinewidth": 1,
              "tickcolor": "rgb(36,36,36)",
              "ticks": "outside"
             }
            },
            "type": "scatter"
           }
          ],
          "scatter3d": [
           {
            "line": {
             "colorbar": {
              "outlinewidth": 1,
              "tickcolor": "rgb(36,36,36)",
              "ticks": "outside"
             }
            },
            "marker": {
             "colorbar": {
              "outlinewidth": 1,
              "tickcolor": "rgb(36,36,36)",
              "ticks": "outside"
             }
            },
            "type": "scatter3d"
           }
          ],
          "scattercarpet": [
           {
            "marker": {
             "colorbar": {
              "outlinewidth": 1,
              "tickcolor": "rgb(36,36,36)",
              "ticks": "outside"
             }
            },
            "type": "scattercarpet"
           }
          ],
          "scattergeo": [
           {
            "marker": {
             "colorbar": {
              "outlinewidth": 1,
              "tickcolor": "rgb(36,36,36)",
              "ticks": "outside"
             }
            },
            "type": "scattergeo"
           }
          ],
          "scattergl": [
           {
            "marker": {
             "colorbar": {
              "outlinewidth": 1,
              "tickcolor": "rgb(36,36,36)",
              "ticks": "outside"
             }
            },
            "type": "scattergl"
           }
          ],
          "scattermapbox": [
           {
            "marker": {
             "colorbar": {
              "outlinewidth": 1,
              "tickcolor": "rgb(36,36,36)",
              "ticks": "outside"
             }
            },
            "type": "scattermapbox"
           }
          ],
          "scatterpolar": [
           {
            "marker": {
             "colorbar": {
              "outlinewidth": 1,
              "tickcolor": "rgb(36,36,36)",
              "ticks": "outside"
             }
            },
            "type": "scatterpolar"
           }
          ],
          "scatterpolargl": [
           {
            "marker": {
             "colorbar": {
              "outlinewidth": 1,
              "tickcolor": "rgb(36,36,36)",
              "ticks": "outside"
             }
            },
            "type": "scatterpolargl"
           }
          ],
          "scatterternary": [
           {
            "marker": {
             "colorbar": {
              "outlinewidth": 1,
              "tickcolor": "rgb(36,36,36)",
              "ticks": "outside"
             }
            },
            "type": "scatterternary"
           }
          ],
          "surface": [
           {
            "colorbar": {
             "outlinewidth": 1,
             "tickcolor": "rgb(36,36,36)",
             "ticks": "outside"
            },
            "colorscale": [
             [
              0,
              "#440154"
             ],
             [
              0.1111111111111111,
              "#482878"
             ],
             [
              0.2222222222222222,
              "#3e4989"
             ],
             [
              0.3333333333333333,
              "#31688e"
             ],
             [
              0.4444444444444444,
              "#26828e"
             ],
             [
              0.5555555555555556,
              "#1f9e89"
             ],
             [
              0.6666666666666666,
              "#35b779"
             ],
             [
              0.7777777777777778,
              "#6ece58"
             ],
             [
              0.8888888888888888,
              "#b5de2b"
             ],
             [
              1,
              "#fde725"
             ]
            ],
            "type": "surface"
           }
          ],
          "table": [
           {
            "cells": {
             "fill": {
              "color": "rgb(237,237,237)"
             },
             "line": {
              "color": "white"
             }
            },
            "header": {
             "fill": {
              "color": "rgb(217,217,217)"
             },
             "line": {
              "color": "white"
             }
            },
            "type": "table"
           }
          ]
         },
         "layout": {
          "annotationdefaults": {
           "arrowhead": 0,
           "arrowwidth": 1
          },
          "autotypenumbers": "strict",
          "coloraxis": {
           "colorbar": {
            "outlinewidth": 1,
            "tickcolor": "rgb(36,36,36)",
            "ticks": "outside"
           }
          },
          "colorscale": {
           "diverging": [
            [
             0,
             "rgb(103,0,31)"
            ],
            [
             0.1,
             "rgb(178,24,43)"
            ],
            [
             0.2,
             "rgb(214,96,77)"
            ],
            [
             0.3,
             "rgb(244,165,130)"
            ],
            [
             0.4,
             "rgb(253,219,199)"
            ],
            [
             0.5,
             "rgb(247,247,247)"
            ],
            [
             0.6,
             "rgb(209,229,240)"
            ],
            [
             0.7,
             "rgb(146,197,222)"
            ],
            [
             0.8,
             "rgb(67,147,195)"
            ],
            [
             0.9,
             "rgb(33,102,172)"
            ],
            [
             1,
             "rgb(5,48,97)"
            ]
           ],
           "sequential": [
            [
             0,
             "#440154"
            ],
            [
             0.1111111111111111,
             "#482878"
            ],
            [
             0.2222222222222222,
             "#3e4989"
            ],
            [
             0.3333333333333333,
             "#31688e"
            ],
            [
             0.4444444444444444,
             "#26828e"
            ],
            [
             0.5555555555555556,
             "#1f9e89"
            ],
            [
             0.6666666666666666,
             "#35b779"
            ],
            [
             0.7777777777777778,
             "#6ece58"
            ],
            [
             0.8888888888888888,
             "#b5de2b"
            ],
            [
             1,
             "#fde725"
            ]
           ],
           "sequentialminus": [
            [
             0,
             "#440154"
            ],
            [
             0.1111111111111111,
             "#482878"
            ],
            [
             0.2222222222222222,
             "#3e4989"
            ],
            [
             0.3333333333333333,
             "#31688e"
            ],
            [
             0.4444444444444444,
             "#26828e"
            ],
            [
             0.5555555555555556,
             "#1f9e89"
            ],
            [
             0.6666666666666666,
             "#35b779"
            ],
            [
             0.7777777777777778,
             "#6ece58"
            ],
            [
             0.8888888888888888,
             "#b5de2b"
            ],
            [
             1,
             "#fde725"
            ]
           ]
          },
          "colorway": [
           "#1F77B4",
           "#FF7F0E",
           "#2CA02C",
           "#D62728",
           "#9467BD",
           "#8C564B",
           "#E377C2",
           "#7F7F7F",
           "#BCBD22",
           "#17BECF"
          ],
          "font": {
           "color": "rgb(36,36,36)"
          },
          "geo": {
           "bgcolor": "white",
           "lakecolor": "white",
           "landcolor": "white",
           "showlakes": true,
           "showland": true,
           "subunitcolor": "white"
          },
          "hoverlabel": {
           "align": "left"
          },
          "hovermode": "closest",
          "mapbox": {
           "style": "light"
          },
          "paper_bgcolor": "white",
          "plot_bgcolor": "white",
          "polar": {
           "angularaxis": {
            "gridcolor": "rgb(232,232,232)",
            "linecolor": "rgb(36,36,36)",
            "showgrid": false,
            "showline": true,
            "ticks": "outside"
           },
           "bgcolor": "white",
           "radialaxis": {
            "gridcolor": "rgb(232,232,232)",
            "linecolor": "rgb(36,36,36)",
            "showgrid": false,
            "showline": true,
            "ticks": "outside"
           }
          },
          "scene": {
           "xaxis": {
            "backgroundcolor": "white",
            "gridcolor": "rgb(232,232,232)",
            "gridwidth": 2,
            "linecolor": "rgb(36,36,36)",
            "showbackground": true,
            "showgrid": false,
            "showline": true,
            "ticks": "outside",
            "zeroline": false,
            "zerolinecolor": "rgb(36,36,36)"
           },
           "yaxis": {
            "backgroundcolor": "white",
            "gridcolor": "rgb(232,232,232)",
            "gridwidth": 2,
            "linecolor": "rgb(36,36,36)",
            "showbackground": true,
            "showgrid": false,
            "showline": true,
            "ticks": "outside",
            "zeroline": false,
            "zerolinecolor": "rgb(36,36,36)"
           },
           "zaxis": {
            "backgroundcolor": "white",
            "gridcolor": "rgb(232,232,232)",
            "gridwidth": 2,
            "linecolor": "rgb(36,36,36)",
            "showbackground": true,
            "showgrid": false,
            "showline": true,
            "ticks": "outside",
            "zeroline": false,
            "zerolinecolor": "rgb(36,36,36)"
           }
          },
          "shapedefaults": {
           "fillcolor": "black",
           "line": {
            "width": 0
           },
           "opacity": 0.3
          },
          "ternary": {
           "aaxis": {
            "gridcolor": "rgb(232,232,232)",
            "linecolor": "rgb(36,36,36)",
            "showgrid": false,
            "showline": true,
            "ticks": "outside"
           },
           "baxis": {
            "gridcolor": "rgb(232,232,232)",
            "linecolor": "rgb(36,36,36)",
            "showgrid": false,
            "showline": true,
            "ticks": "outside"
           },
           "bgcolor": "white",
           "caxis": {
            "gridcolor": "rgb(232,232,232)",
            "linecolor": "rgb(36,36,36)",
            "showgrid": false,
            "showline": true,
            "ticks": "outside"
           }
          },
          "title": {
           "x": 0.05
          },
          "xaxis": {
           "automargin": true,
           "gridcolor": "rgb(232,232,232)",
           "linecolor": "rgb(36,36,36)",
           "showgrid": false,
           "showline": true,
           "ticks": "outside",
           "title": {
            "standoff": 15
           },
           "zeroline": false,
           "zerolinecolor": "rgb(36,36,36)"
          },
          "yaxis": {
           "automargin": true,
           "gridcolor": "rgb(232,232,232)",
           "linecolor": "rgb(36,36,36)",
           "showgrid": false,
           "showline": true,
           "ticks": "outside",
           "title": {
            "standoff": 15
           },
           "zeroline": false,
           "zerolinecolor": "rgb(36,36,36)"
          }
         }
        },
        "title": {
         "text": "Ind5: Oportunidad en la investigación epidemiológica de casos"
        },
        "xaxis": {
         "anchor": "y",
         "domain": [
          0,
          1
         ],
         "tickmode": "array",
         "ticktext": [
          12,
          15,
          18,
          21,
          24,
          27,
          30,
          33,
          36,
          39,
          42,
          45,
          48,
          51,
          1,
          4,
          7,
          10,
          13,
          16,
          19,
          22,
          25,
          28,
          31,
          34,
          37,
          40,
          43,
          46,
          49,
          52,
          55,
          58,
          61,
          64,
          67,
          70,
          73,
          76,
          79,
          82,
          85
         ],
         "tickvals": [
          12,
          15,
          18,
          21,
          24,
          27,
          30,
          33,
          36,
          39,
          42,
          45,
          48,
          51,
          54,
          57,
          60,
          63,
          66,
          69,
          72,
          75,
          78,
          81,
          84,
          87
         ],
         "title": {
          "text": "Semana epidemiológica"
         }
        },
        "yaxis": {
         "anchor": "x",
         "domain": [
          0,
          1
         ],
         "range": [
          50,
          105
         ],
         "title": {
          "text": "Oportunidad (%)"
         }
        }
       }
      },
      "text/html": [
       "<div>                            <div id=\"0971c214-6844-4936-ae43-ac78552e71e9\" class=\"plotly-graph-div\" style=\"height:525px; width:100%;\"></div>            <script type=\"text/javascript\">                require([\"plotly\"], function(Plotly) {                    window.PLOTLYENV=window.PLOTLYENV || {};                                    if (document.getElementById(\"0971c214-6844-4936-ae43-ac78552e71e9\")) {                    Plotly.newPlot(                        \"0971c214-6844-4936-ae43-ac78552e71e9\",                        [{\"hovertemplate\": \"semana_epidemiologica_21=%{x}<br>Oportunidad (%)=%{marker.color}<extra></extra>\", \"legendgroup\": \"\", \"line\": {\"color\": \"grey\"}, \"marker\": {\"color\": [92.96074917134365, 71.68813791775523, 68.51981733704052, 84.95879721552299, 84.49240967866476, 87.8804709346161, 85.36454613696552, 88.15746207910541, 91.36185059491618, 84.41869510879303, 87.50736343206042, 88.21192445548454, 86.19732896239518, 86.01485427340945, 81.16961237461189, 83.44008428027269, 88.95924748726831, 93.57558359139755, 88.67443633870657, 85.2688740672059, 80.71871579715784, 81.11917608770105, 89.49808816419612, 96.1785288142141, 91.95618777557776, 93.69349986529687, 100.0], \"coloraxis\": \"coloraxis\", \"line\": {\"width\": 1}, \"size\": 10, \"symbol\": \"circle\"}, \"mode\": \"lines+markers\", \"name\": \"\", \"orientation\": \"v\", \"showlegend\": false, \"type\": \"scatter\", \"x\": [62, 63, 64, 65, 66, 67, 68, 69, 70, 71, 72, 73, 74, 75, 76, 77, 78, 79, 80, 81, 82, 83, 84, 85, 86, 87, 88], \"xaxis\": \"x\", \"y\": [92.96074917134365, 71.68813791775523, 68.51981733704052, 84.95879721552299, 84.49240967866476, 87.8804709346161, 85.36454613696552, 88.15746207910541, 91.36185059491618, 84.41869510879303, 87.50736343206042, 88.21192445548454, 86.19732896239518, 86.01485427340945, 81.16961237461189, 83.44008428027269, 88.95924748726831, 93.57558359139755, 88.67443633870657, 85.2688740672059, 80.71871579715784, 81.11917608770105, 89.49808816419612, 96.1785288142141, 91.95618777557776, 93.69349986529687, 100.0], \"yaxis\": \"y\"}],                        {\"annotations\": [{\"showarrow\": false, \"text\": \"Meta (90%)\", \"x\": 1, \"xanchor\": \"right\", \"xref\": \"x domain\", \"y\": 90, \"yanchor\": \"top\", \"yref\": \"y\"}, {\"font\": {\"family\": \"'Open Sans', verdana, arial, sans-serif\", \"size\": 18}, \"showarrow\": false, \"text\": \"2020\", \"x\": \"53\", \"xanchor\": \"right\", \"xref\": \"x\", \"y\": 0.5, \"yanchor\": \"middle\", \"yref\": \"y domain\"}, {\"font\": {\"family\": \"'Open Sans', verdana, arial, sans-serif\", \"size\": 18}, \"showarrow\": false, \"text\": \"2021\", \"x\": \"88\", \"xanchor\": \"right\", \"xref\": \"x\", \"y\": 0.5, \"yanchor\": \"middle\", \"yref\": \"y domain\"}], \"coloraxis\": {\"colorbar\": {\"title\": {\"text\": \"Oportunidad (%)\"}}, \"colorscale\": [[0.0, \"#fde725\"], [0.1111111111111111, \"#b5de2b\"], [0.2222222222222222, \"#6ece58\"], [0.3333333333333333, \"#35b779\"], [0.4444444444444444, \"#1f9e89\"], [0.5555555555555556, \"#26828e\"], [0.6666666666666666, \"#31688e\"], [0.7777777777777778, \"#3e4989\"], [0.8888888888888888, \"#482878\"], [1.0, \"#440154\"]]}, \"legend\": {\"tracegroupgap\": 0}, \"margin\": {\"t\": 60}, \"shapes\": [{\"line\": {\"color\": \"gray\", \"dash\": \"dash\", \"width\": 3}, \"type\": \"line\", \"x0\": 53.5, \"x1\": 53.5, \"xref\": \"x\", \"y0\": 0, \"y1\": 1, \"yref\": \"y domain\"}, {\"line\": {\"color\": \"#222A2A\", \"dash\": \"longdash\", \"width\": 3}, \"type\": \"line\", \"x0\": 0, \"x1\": 1, \"xref\": \"x domain\", \"y0\": 90, \"y1\": 90, \"yref\": \"y\"}, {\"line\": {\"width\": 0}, \"opacity\": 0, \"type\": \"rect\", \"x0\": \"51\", \"x1\": \"53\", \"xref\": \"x\", \"y0\": 0, \"y1\": 1, \"yref\": \"y domain\"}, {\"line\": {\"width\": 0}, \"opacity\": 0, \"type\": \"rect\", \"x0\": \"84\", \"x1\": \"88\", \"xref\": \"x\", \"y0\": 0, \"y1\": 1, \"yref\": \"y domain\"}], \"template\": {\"data\": {\"bar\": [{\"error_x\": {\"color\": \"rgb(36,36,36)\"}, \"error_y\": {\"color\": \"rgb(36,36,36)\"}, \"marker\": {\"line\": {\"color\": \"white\", \"width\": 0.5}}, \"type\": \"bar\"}], \"barpolar\": [{\"marker\": {\"line\": {\"color\": \"white\", \"width\": 0.5}}, \"type\": \"barpolar\"}], \"carpet\": [{\"aaxis\": {\"endlinecolor\": \"rgb(36,36,36)\", \"gridcolor\": \"white\", \"linecolor\": \"white\", \"minorgridcolor\": \"white\", \"startlinecolor\": \"rgb(36,36,36)\"}, \"baxis\": {\"endlinecolor\": \"rgb(36,36,36)\", \"gridcolor\": \"white\", \"linecolor\": \"white\", \"minorgridcolor\": \"white\", \"startlinecolor\": \"rgb(36,36,36)\"}, \"type\": \"carpet\"}], \"choropleth\": [{\"colorbar\": {\"outlinewidth\": 1, \"tickcolor\": \"rgb(36,36,36)\", \"ticks\": \"outside\"}, \"type\": \"choropleth\"}], \"contour\": [{\"colorbar\": {\"outlinewidth\": 1, \"tickcolor\": \"rgb(36,36,36)\", \"ticks\": \"outside\"}, \"colorscale\": [[0.0, \"#440154\"], [0.1111111111111111, \"#482878\"], [0.2222222222222222, \"#3e4989\"], [0.3333333333333333, \"#31688e\"], [0.4444444444444444, \"#26828e\"], [0.5555555555555556, \"#1f9e89\"], [0.6666666666666666, \"#35b779\"], [0.7777777777777778, \"#6ece58\"], [0.8888888888888888, \"#b5de2b\"], [1.0, \"#fde725\"]], \"type\": \"contour\"}], \"contourcarpet\": [{\"colorbar\": {\"outlinewidth\": 1, \"tickcolor\": \"rgb(36,36,36)\", \"ticks\": \"outside\"}, \"type\": \"contourcarpet\"}], \"heatmap\": [{\"colorbar\": {\"outlinewidth\": 1, \"tickcolor\": \"rgb(36,36,36)\", \"ticks\": \"outside\"}, \"colorscale\": [[0.0, \"#440154\"], [0.1111111111111111, \"#482878\"], [0.2222222222222222, \"#3e4989\"], [0.3333333333333333, \"#31688e\"], [0.4444444444444444, \"#26828e\"], [0.5555555555555556, \"#1f9e89\"], [0.6666666666666666, \"#35b779\"], [0.7777777777777778, \"#6ece58\"], [0.8888888888888888, \"#b5de2b\"], [1.0, \"#fde725\"]], \"type\": \"heatmap\"}], \"heatmapgl\": [{\"colorbar\": {\"outlinewidth\": 1, \"tickcolor\": \"rgb(36,36,36)\", \"ticks\": \"outside\"}, \"colorscale\": [[0.0, \"#440154\"], [0.1111111111111111, \"#482878\"], [0.2222222222222222, \"#3e4989\"], [0.3333333333333333, \"#31688e\"], [0.4444444444444444, \"#26828e\"], [0.5555555555555556, \"#1f9e89\"], [0.6666666666666666, \"#35b779\"], [0.7777777777777778, \"#6ece58\"], [0.8888888888888888, \"#b5de2b\"], [1.0, \"#fde725\"]], \"type\": \"heatmapgl\"}], \"histogram\": [{\"marker\": {\"line\": {\"color\": \"white\", \"width\": 0.6}}, \"type\": \"histogram\"}], \"histogram2d\": [{\"colorbar\": {\"outlinewidth\": 1, \"tickcolor\": \"rgb(36,36,36)\", \"ticks\": \"outside\"}, \"colorscale\": [[0.0, \"#440154\"], [0.1111111111111111, \"#482878\"], [0.2222222222222222, \"#3e4989\"], [0.3333333333333333, \"#31688e\"], [0.4444444444444444, \"#26828e\"], [0.5555555555555556, \"#1f9e89\"], [0.6666666666666666, \"#35b779\"], [0.7777777777777778, \"#6ece58\"], [0.8888888888888888, \"#b5de2b\"], [1.0, \"#fde725\"]], \"type\": \"histogram2d\"}], \"histogram2dcontour\": [{\"colorbar\": {\"outlinewidth\": 1, \"tickcolor\": \"rgb(36,36,36)\", \"ticks\": \"outside\"}, \"colorscale\": [[0.0, \"#440154\"], [0.1111111111111111, \"#482878\"], [0.2222222222222222, \"#3e4989\"], [0.3333333333333333, \"#31688e\"], [0.4444444444444444, \"#26828e\"], [0.5555555555555556, \"#1f9e89\"], [0.6666666666666666, \"#35b779\"], [0.7777777777777778, \"#6ece58\"], [0.8888888888888888, \"#b5de2b\"], [1.0, \"#fde725\"]], \"type\": \"histogram2dcontour\"}], \"mesh3d\": [{\"colorbar\": {\"outlinewidth\": 1, \"tickcolor\": \"rgb(36,36,36)\", \"ticks\": \"outside\"}, \"type\": \"mesh3d\"}], \"parcoords\": [{\"line\": {\"colorbar\": {\"outlinewidth\": 1, \"tickcolor\": \"rgb(36,36,36)\", \"ticks\": \"outside\"}}, \"type\": \"parcoords\"}], \"pie\": [{\"automargin\": true, \"type\": \"pie\"}], \"scatter\": [{\"marker\": {\"colorbar\": {\"outlinewidth\": 1, \"tickcolor\": \"rgb(36,36,36)\", \"ticks\": \"outside\"}}, \"type\": \"scatter\"}], \"scatter3d\": [{\"line\": {\"colorbar\": {\"outlinewidth\": 1, \"tickcolor\": \"rgb(36,36,36)\", \"ticks\": \"outside\"}}, \"marker\": {\"colorbar\": {\"outlinewidth\": 1, \"tickcolor\": \"rgb(36,36,36)\", \"ticks\": \"outside\"}}, \"type\": \"scatter3d\"}], \"scattercarpet\": [{\"marker\": {\"colorbar\": {\"outlinewidth\": 1, \"tickcolor\": \"rgb(36,36,36)\", \"ticks\": \"outside\"}}, \"type\": \"scattercarpet\"}], \"scattergeo\": [{\"marker\": {\"colorbar\": {\"outlinewidth\": 1, \"tickcolor\": \"rgb(36,36,36)\", \"ticks\": \"outside\"}}, \"type\": \"scattergeo\"}], \"scattergl\": [{\"marker\": {\"colorbar\": {\"outlinewidth\": 1, \"tickcolor\": \"rgb(36,36,36)\", \"ticks\": \"outside\"}}, \"type\": \"scattergl\"}], \"scattermapbox\": [{\"marker\": {\"colorbar\": {\"outlinewidth\": 1, \"tickcolor\": \"rgb(36,36,36)\", \"ticks\": \"outside\"}}, \"type\": \"scattermapbox\"}], \"scatterpolar\": [{\"marker\": {\"colorbar\": {\"outlinewidth\": 1, \"tickcolor\": \"rgb(36,36,36)\", \"ticks\": \"outside\"}}, \"type\": \"scatterpolar\"}], \"scatterpolargl\": [{\"marker\": {\"colorbar\": {\"outlinewidth\": 1, \"tickcolor\": \"rgb(36,36,36)\", \"ticks\": \"outside\"}}, \"type\": \"scatterpolargl\"}], \"scatterternary\": [{\"marker\": {\"colorbar\": {\"outlinewidth\": 1, \"tickcolor\": \"rgb(36,36,36)\", \"ticks\": \"outside\"}}, \"type\": \"scatterternary\"}], \"surface\": [{\"colorbar\": {\"outlinewidth\": 1, \"tickcolor\": \"rgb(36,36,36)\", \"ticks\": \"outside\"}, \"colorscale\": [[0.0, \"#440154\"], [0.1111111111111111, \"#482878\"], [0.2222222222222222, \"#3e4989\"], [0.3333333333333333, \"#31688e\"], [0.4444444444444444, \"#26828e\"], [0.5555555555555556, \"#1f9e89\"], [0.6666666666666666, \"#35b779\"], [0.7777777777777778, \"#6ece58\"], [0.8888888888888888, \"#b5de2b\"], [1.0, \"#fde725\"]], \"type\": \"surface\"}], \"table\": [{\"cells\": {\"fill\": {\"color\": \"rgb(237,237,237)\"}, \"line\": {\"color\": \"white\"}}, \"header\": {\"fill\": {\"color\": \"rgb(217,217,217)\"}, \"line\": {\"color\": \"white\"}}, \"type\": \"table\"}]}, \"layout\": {\"annotationdefaults\": {\"arrowhead\": 0, \"arrowwidth\": 1}, \"autotypenumbers\": \"strict\", \"coloraxis\": {\"colorbar\": {\"outlinewidth\": 1, \"tickcolor\": \"rgb(36,36,36)\", \"ticks\": \"outside\"}}, \"colorscale\": {\"diverging\": [[0.0, \"rgb(103,0,31)\"], [0.1, \"rgb(178,24,43)\"], [0.2, \"rgb(214,96,77)\"], [0.3, \"rgb(244,165,130)\"], [0.4, \"rgb(253,219,199)\"], [0.5, \"rgb(247,247,247)\"], [0.6, \"rgb(209,229,240)\"], [0.7, \"rgb(146,197,222)\"], [0.8, \"rgb(67,147,195)\"], [0.9, \"rgb(33,102,172)\"], [1.0, \"rgb(5,48,97)\"]], \"sequential\": [[0.0, \"#440154\"], [0.1111111111111111, \"#482878\"], [0.2222222222222222, \"#3e4989\"], [0.3333333333333333, \"#31688e\"], [0.4444444444444444, \"#26828e\"], [0.5555555555555556, \"#1f9e89\"], [0.6666666666666666, \"#35b779\"], [0.7777777777777778, \"#6ece58\"], [0.8888888888888888, \"#b5de2b\"], [1.0, \"#fde725\"]], \"sequentialminus\": [[0.0, \"#440154\"], [0.1111111111111111, \"#482878\"], [0.2222222222222222, \"#3e4989\"], [0.3333333333333333, \"#31688e\"], [0.4444444444444444, \"#26828e\"], [0.5555555555555556, \"#1f9e89\"], [0.6666666666666666, \"#35b779\"], [0.7777777777777778, \"#6ece58\"], [0.8888888888888888, \"#b5de2b\"], [1.0, \"#fde725\"]]}, \"colorway\": [\"#1F77B4\", \"#FF7F0E\", \"#2CA02C\", \"#D62728\", \"#9467BD\", \"#8C564B\", \"#E377C2\", \"#7F7F7F\", \"#BCBD22\", \"#17BECF\"], \"font\": {\"color\": \"rgb(36,36,36)\"}, \"geo\": {\"bgcolor\": \"white\", \"lakecolor\": \"white\", \"landcolor\": \"white\", \"showlakes\": true, \"showland\": true, \"subunitcolor\": \"white\"}, \"hoverlabel\": {\"align\": \"left\"}, \"hovermode\": \"closest\", \"mapbox\": {\"style\": \"light\"}, \"paper_bgcolor\": \"white\", \"plot_bgcolor\": \"white\", \"polar\": {\"angularaxis\": {\"gridcolor\": \"rgb(232,232,232)\", \"linecolor\": \"rgb(36,36,36)\", \"showgrid\": false, \"showline\": true, \"ticks\": \"outside\"}, \"bgcolor\": \"white\", \"radialaxis\": {\"gridcolor\": \"rgb(232,232,232)\", \"linecolor\": \"rgb(36,36,36)\", \"showgrid\": false, \"showline\": true, \"ticks\": \"outside\"}}, \"scene\": {\"xaxis\": {\"backgroundcolor\": \"white\", \"gridcolor\": \"rgb(232,232,232)\", \"gridwidth\": 2, \"linecolor\": \"rgb(36,36,36)\", \"showbackground\": true, \"showgrid\": false, \"showline\": true, \"ticks\": \"outside\", \"zeroline\": false, \"zerolinecolor\": \"rgb(36,36,36)\"}, \"yaxis\": {\"backgroundcolor\": \"white\", \"gridcolor\": \"rgb(232,232,232)\", \"gridwidth\": 2, \"linecolor\": \"rgb(36,36,36)\", \"showbackground\": true, \"showgrid\": false, \"showline\": true, \"ticks\": \"outside\", \"zeroline\": false, \"zerolinecolor\": \"rgb(36,36,36)\"}, \"zaxis\": {\"backgroundcolor\": \"white\", \"gridcolor\": \"rgb(232,232,232)\", \"gridwidth\": 2, \"linecolor\": \"rgb(36,36,36)\", \"showbackground\": true, \"showgrid\": false, \"showline\": true, \"ticks\": \"outside\", \"zeroline\": false, \"zerolinecolor\": \"rgb(36,36,36)\"}}, \"shapedefaults\": {\"fillcolor\": \"black\", \"line\": {\"width\": 0}, \"opacity\": 0.3}, \"ternary\": {\"aaxis\": {\"gridcolor\": \"rgb(232,232,232)\", \"linecolor\": \"rgb(36,36,36)\", \"showgrid\": false, \"showline\": true, \"ticks\": \"outside\"}, \"baxis\": {\"gridcolor\": \"rgb(232,232,232)\", \"linecolor\": \"rgb(36,36,36)\", \"showgrid\": false, \"showline\": true, \"ticks\": \"outside\"}, \"bgcolor\": \"white\", \"caxis\": {\"gridcolor\": \"rgb(232,232,232)\", \"linecolor\": \"rgb(36,36,36)\", \"showgrid\": false, \"showline\": true, \"ticks\": \"outside\"}}, \"title\": {\"x\": 0.05}, \"xaxis\": {\"automargin\": true, \"gridcolor\": \"rgb(232,232,232)\", \"linecolor\": \"rgb(36,36,36)\", \"showgrid\": false, \"showline\": true, \"ticks\": \"outside\", \"title\": {\"standoff\": 15}, \"zeroline\": false, \"zerolinecolor\": \"rgb(36,36,36)\"}, \"yaxis\": {\"automargin\": true, \"gridcolor\": \"rgb(232,232,232)\", \"linecolor\": \"rgb(36,36,36)\", \"showgrid\": false, \"showline\": true, \"ticks\": \"outside\", \"title\": {\"standoff\": 15}, \"zeroline\": false, \"zerolinecolor\": \"rgb(36,36,36)\"}}}, \"title\": {\"text\": \"Ind5: Oportunidad en la investigaci\\u00f3n epidemiol\\u00f3gica de casos\"}, \"xaxis\": {\"anchor\": \"y\", \"domain\": [0.0, 1.0], \"tickmode\": \"array\", \"ticktext\": [12, 15, 18, 21, 24, 27, 30, 33, 36, 39, 42, 45, 48, 51, 1, 4, 7, 10, 13, 16, 19, 22, 25, 28, 31, 34, 37, 40, 43, 46, 49, 52, 55, 58, 61, 64, 67, 70, 73, 76, 79, 82, 85], \"tickvals\": [12, 15, 18, 21, 24, 27, 30, 33, 36, 39, 42, 45, 48, 51, 54, 57, 60, 63, 66, 69, 72, 75, 78, 81, 84, 87], \"title\": {\"text\": \"Semana epidemiol\\u00f3gica\"}}, \"yaxis\": {\"anchor\": \"x\", \"domain\": [0.0, 1.0], \"range\": [50, 105], \"title\": {\"text\": \"Oportunidad (%)\"}}},                        {\"responsive\": true}                    ).then(function(){\n",
       "                            \n",
       "var gd = document.getElementById('0971c214-6844-4936-ae43-ac78552e71e9');\n",
       "var x = new MutationObserver(function (mutations, observer) {{\n",
       "        var display = window.getComputedStyle(gd).display;\n",
       "        if (!display || display === 'none') {{\n",
       "            console.log([gd, 'removed!']);\n",
       "            Plotly.purge(gd);\n",
       "            observer.disconnect();\n",
       "        }}\n",
       "}});\n",
       "\n",
       "// Listen for the removal of the full notebook cells\n",
       "var notebookContainer = gd.closest('#notebook-container');\n",
       "if (notebookContainer) {{\n",
       "    x.observe(notebookContainer, {childList: true});\n",
       "}}\n",
       "\n",
       "// Listen for the clearing of the current output cell\n",
       "var outputEl = gd.closest('.output');\n",
       "if (outputEl) {{\n",
       "    x.observe(outputEl, {childList: true});\n",
       "}}\n",
       "\n",
       "                        })                };                });            </script>        </div>"
      ]
     },
     "metadata": {},
     "output_type": "display_data"
    }
   ],
   "source": [
    "px.scatter(df_ind5_perc.reset_index().merge(data_aysen_clean_21[['fecha_notificacion','semana_epidemiologica_21']], \n",
    "                   left_on='fecha_cumple_requisitos',\n",
    "                   right_on='fecha_notificacion',\n",
    "                   how='left').groupby('semana_epidemiologica_21').mean().reset_index(),\n",
    "        x= 'semana_epidemiologica_21',\n",
    "        y= 'n_folio',\n",
    "        #trendline='rolling',\n",
    "        #trendline_options=dict(window=5),\n",
    "        color='n_folio',\n",
    "        color_continuous_scale=px.colors.sequential.Viridis_r,\n",
    "        labels={'n_folio':'Oportunidad (%)'},\n",
    "        ).update_layout(title= 'Ind5: Oportunidad en la investigación epidemiológica de casos',\n",
    "                       yaxis_title='Oportunidad (%)',\n",
    "                       xaxis_title='Semana epidemiológica',\n",
    "                       yaxis_range= [50,105],\n",
    "                       template='simple_white',\n",
    "                       xaxis=dict(tickmode = 'array',\n",
    "                                  tickvals = list(range(12,88,3)),\n",
    "                                  ticktext = list(list(range(12,54,3))+list(range(1,88,3))),\n",
    "                                 ),\n",
    "                    ).add_vline(x=53.5, line_width=3, line_dash='dash', line_color='gray'\n",
    "                              ).add_hline(y=90,\n",
    "                                            line_width=3, \n",
    "                                            line_dash='longdash', \n",
    "                                            line_color='#222A2A',\n",
    "                                            annotation_text='Meta (90%)',\n",
    "                                            annotation_position='bottom right'\n",
    "                                # ).add_hline(y=mean_ind5, \n",
    "                                 #            line_width=3, \n",
    "                                  #           line_dash='longdash', \n",
    "                                   #          line_color='#0D2A63',\n",
    "                                    #         annotation_text= 'Promedio ('+str(round(mean_ind5, 2))+'%)',\n",
    "                                     #        annotation_position='bottom right'\n",
    "                                     ).add_vrect(x0='51', x1='53', \n",
    "                                           annotation_text='2020', \n",
    "                                           annotation_position='inside right',\n",
    "                                           annotation=dict(font_size=18, \n",
    "                                                           font_family=\"'Open Sans', verdana, arial, sans-serif\"),\n",
    "                                                           opacity=0, \n",
    "                                                           line_width=0\n",
    "                                          ).add_vrect(x0='84', x1='88', \n",
    "                                           annotation_text='2021', \n",
    "                                           annotation_position='inside right',\n",
    "                                           annotation=dict(font_size=18, \n",
    "                                                           font_family=\"'Open Sans', verdana, arial, sans-serif\"),\n",
    "                                                           opacity=0, \n",
    "                                                           line_width=0\n",
    "                                                     ).update_traces(mode='lines+markers', \n",
    "                                                                     line_color='grey',\n",
    "                                                                     marker_line_width=1, \n",
    "                                                                     marker_size=10)"
   ]
  },
  {
   "cell_type": "markdown",
   "id": "f84a42a2",
   "metadata": {},
   "source": [
    "# Indicador 6: Capacidad de investigación de contactos\n",
    "\n",
    "## Objetivos: Fortalecer la investigación epidemiológica de los contactos estrechos\n",
    "\n",
    "### Meta: >80%\n",
    "\n",
    "**Periodicidad:** Semanal\n",
    "\n",
    "**Escala territorial:** Comuna, Regional, Nacional\n",
    "\n",
    "**Fuente de información:** base EPIVIGILA actualizada con los reportes de laboratorio al día de la determinación del indicador. Base de seguimiento"
   ]
  },
  {
   "cell_type": "markdown",
   "id": "fe66a852",
   "metadata": {},
   "source": [
    "**Cálculo del indicador a nivel comunal**\n",
    "\n",
    "$\\frac{No.\\:casos\\:nuevos\\:con\\:contactos\\:estrechos\\:por\\:comuna\\:1er\\:establecimiento\\:semana\\:x}{No.\\:casos\\:nuevos\\:por\\:comuna\\:1er\\:establecimiento\\:semana\\:x}$\n",
    "\n",
    "**Cálculo del indicador a nivel regional**\n",
    "\n",
    "$\\frac{No.\\:casos\\:nuevos\\:con\\:contactos\\:estrechos\\:por\\:región\\:1er\\:establecimiento\\:semana\\:x}{No.\\:casos\\:nuevos\\:por\\:región\\:1er\\:establecimiento\\:semana\\:x}$"
   ]
  },
  {
   "cell_type": "markdown",
   "id": "17884c84",
   "metadata": {},
   "source": [
    "**Observaciones**\n",
    "\n",
    "- No se incluyen los casos nuevos no notificados\n",
    "- Se considera un caso nuevo registrado a aquel caso nuevo notificado que cumple los requisitos para estar en el módulo de seguimiento\n",
    "- Los casos nuevos con contactos estrechos son considerados de forma dicotómica (sí o no)\n",
    "- El primer establecimiento corresponde al establecimiento de notificación. Se seguirá considerando el primer establecimiento para este indicador, aún si se derivó previo a la investigación epidemiológica.\n",
    "- Se consideran sólo registros activos o egresados en la bandeja de seguimiento"
   ]
  },
  {
   "cell_type": "code",
   "execution_count": 519,
   "id": "9f6c4d0c",
   "metadata": {},
   "outputs": [],
   "source": [
    "df_seguimiento_ind6 = df_seguimiento_clean"
   ]
  },
  {
   "cell_type": "code",
   "execution_count": 520,
   "id": "4267b10b",
   "metadata": {},
   "outputs": [],
   "source": [
    "df_seguimiento_ind6['is_contact']= df_seguimiento_ind6['nfolio_contacto_estrecho'].notna()"
   ]
  },
  {
   "cell_type": "code",
   "execution_count": 521,
   "id": "2834e8f5",
   "metadata": {},
   "outputs": [
    {
     "data": {
      "text/plain": [
       "[11425750.0,\n",
       " 11714657.0,\n",
       " 11964234.0,\n",
       " 12293320.0,\n",
       " 12436348.0,\n",
       " 12350595.0,\n",
       " 12608868.0,\n",
       " 12861929.0,\n",
       " 10587524.0,\n",
       " 10848112.0,\n",
       " 12340185.0,\n",
       " 11685650.0,\n",
       " 11223327.0,\n",
       " 11688188.0,\n",
       " 11691110.0,\n",
       " 13701438.0,\n",
       " 12468730.0,\n",
       " 14062781.0,\n",
       " 10436774.0,\n",
       " 13083092.0,\n",
       " 13690073.0,\n",
       " 10883113.0,\n",
       " 13357763.0,\n",
       " 12228566.0,\n",
       " 11981882.0,\n",
       " 11215100.0,\n",
       " 10824045.0,\n",
       " 10884306.0,\n",
       " 11137988.0,\n",
       " 11619124.0,\n",
       " 12606893.0,\n",
       " 12522627.0,\n",
       " 13210877.0,\n",
       " 13962027.0,\n",
       " 14062881.0,\n",
       " 12679270.0,\n",
       " 13872016.0,\n",
       " 10073764.0,\n",
       " 12442561.0,\n",
       " 14074678.0,\n",
       " 12800062.0,\n",
       " 11561513.0,\n",
       " 11476013.0,\n",
       " 13921845.0,\n",
       " 12146185.0,\n",
       " 13691027.0,\n",
       " 12142477.0,\n",
       " 13120981.0,\n",
       " 12433247.0,\n",
       " 12787317.0,\n",
       " 11902620.0,\n",
       " 13848691.0,\n",
       " 10781773.0,\n",
       " 10782431.0,\n",
       " 13923863.0,\n",
       " 10285667.0,\n",
       " 11131696.0,\n",
       " 12041374.0,\n",
       " 12207845.0,\n",
       " 12052266.0,\n",
       " 11637569.0,\n",
       " 13919997.0,\n",
       " 10839331.0,\n",
       " 10440139.0,\n",
       " 12224614.0,\n",
       " 11558790.0,\n",
       " 12787314.0,\n",
       " 13648333.0,\n",
       " 11266479.0,\n",
       " 12492223.0,\n",
       " 11718315.0,\n",
       " 12882126.0,\n",
       " 13797310.0,\n",
       " 12793607.0,\n",
       " 11682648.0,\n",
       " 11902227.0,\n",
       " 10618375.0,\n",
       " 10615828.0,\n",
       " 12558145.0,\n",
       " 13500329.0,\n",
       " 13692883.0,\n",
       " 13764398.0,\n",
       " 12486729.0,\n",
       " 13130216.0,\n",
       " 10783278.0,\n",
       " 12346309.0,\n",
       " 13539815.0,\n",
       " 11288509.0,\n",
       " 11056199.0,\n",
       " 11889989.0,\n",
       " 11550618.0,\n",
       " 12997088.0,\n",
       " 13410587.0,\n",
       " 12105628.0,\n",
       " 13850267.0,\n",
       " 12491109.0,\n",
       " 11679666.0,\n",
       " 11894210.0,\n",
       " 12415630.0,\n",
       " 13270968.0,\n",
       " 13039225.0,\n",
       " 13692950.0,\n",
       " 13671520.0,\n",
       " 14141425.0,\n",
       " 14092780.0,\n",
       " 11655293.0,\n",
       " 13769286.0,\n",
       " 11054241.0,\n",
       " 13410594.0,\n",
       " 13325911.0,\n",
       " 10680020.0,\n",
       " 11788292.0,\n",
       " 13041516.0,\n",
       " 10788530.0,\n",
       " 10486095.0,\n",
       " 11475078.0,\n",
       " 13286740.0,\n",
       " 13812900.0,\n",
       " 13848693.0,\n",
       " 11725953.0,\n",
       " 13850266.0,\n",
       " 11902224.0,\n",
       " 12684353.0,\n",
       " 12619676.0,\n",
       " 14074836.0,\n",
       " 10877850.0,\n",
       " 11224714.0,\n",
       " 11503489.0,\n",
       " 12345185.0,\n",
       " 12354853.0,\n",
       " 12056716.0,\n",
       " 12431060.0,\n",
       " 12403116.0,\n",
       " 12606640.0,\n",
       " 12380690.0,\n",
       " 13278979.0,\n",
       " 13372970.0,\n",
       " 13130217.0,\n",
       " 13292601.0,\n",
       " 10832386.0,\n",
       " 12953620.0,\n",
       " 10438182.0,\n",
       " 11068968.0,\n",
       " 10808396.0,\n",
       " 12676609.0,\n",
       " 10658601.0,\n",
       " 13871499.0,\n",
       " 13810050.0,\n",
       " 10583676.0,\n",
       " 13683620.0,\n",
       " 11443316.0,\n",
       " 11310785.0,\n",
       " 10436775.0,\n",
       " 12859819.0,\n",
       " 11294593.0,\n",
       " 10891140.0,\n",
       " 11640980.0,\n",
       " 11856256.0,\n",
       " 12119364.0,\n",
       " 12790222.0,\n",
       " 13040457.0,\n",
       " 13542019.0,\n",
       " 13283429.0,\n",
       " 13458163.0,\n",
       " 13536228.0,\n",
       " 13469939.0,\n",
       " 12938583.0,\n",
       " 11557315.0,\n",
       " 13292603.0,\n",
       " 11050358.0,\n",
       " 12618367.0,\n",
       " 13331925.0,\n",
       " 12859817.0,\n",
       " 13359020.0,\n",
       " 13363880.0,\n",
       " 11347040.0,\n",
       " 10515122.0,\n",
       " 10454094.0,\n",
       " 11607130.0,\n",
       " 11488999.0,\n",
       " 11710240.0,\n",
       " 11751432.0,\n",
       " 12071698.0,\n",
       " 12123441.0,\n",
       " 14045874.0,\n",
       " 12754226.0,\n",
       " 11753335.0,\n",
       " 11516763.0,\n",
       " 10334597.0,\n",
       " 13539236.0,\n",
       " 10586172.0,\n",
       " 12757507.0,\n",
       " 10326368.0,\n",
       " 13123996.0,\n",
       " 11671985.0,\n",
       " 11637572.0,\n",
       " 11386524.0,\n",
       " 13611387.0,\n",
       " 12146184.0,\n",
       " 12999012.0,\n",
       " 12862107.0,\n",
       " 13489588.0,\n",
       " 13630613.0,\n",
       " 10897124.0,\n",
       " 10532124.0,\n",
       " 10949018.0,\n",
       " 11380158.0,\n",
       " 11621585.0,\n",
       " 12774649.0,\n",
       " 13040144.0,\n",
       " 13347653.0,\n",
       " 13576014.0,\n",
       " 13527912.0,\n",
       " 14118952.0,\n",
       " 10636896.0,\n",
       " 12520157.0,\n",
       " 11653735.0,\n",
       " 13923861.0,\n",
       " 13845472.0,\n",
       " 11676007.0,\n",
       " 12761053.0,\n",
       " 10296973.0,\n",
       " 13848692.0,\n",
       " 13038511.0,\n",
       " 12787316.0,\n",
       " 13850268.0,\n",
       " 12759546.0,\n",
       " 12150436.0,\n",
       " 12605884.0,\n",
       " 13923202.0,\n",
       " 12146182.0,\n",
       " 10297660.0,\n",
       " 11425044.0,\n",
       " 11623728.0,\n",
       " 12212545.0,\n",
       " 13121767.0,\n",
       " 13845727.0,\n",
       " 14073669.0,\n",
       " 14139712.0,\n",
       " 12228568.0,\n",
       " 11051311.0,\n",
       " 12819230.0,\n",
       " 12150531.0,\n",
       " 13812219.0,\n",
       " 13151838.0,\n",
       " 13041513.0,\n",
       " 14143800.0,\n",
       " 11711348.0,\n",
       " 10416625.0,\n",
       " 13289560.0,\n",
       " 11382351.0,\n",
       " 14070866.0,\n",
       " 12228570.0,\n",
       " 11637570.0,\n",
       " 12840936.0,\n",
       " 11675057.0,\n",
       " 12756378.0,\n",
       " 10220515.0,\n",
       " 10810496.0,\n",
       " 10216333.0,\n",
       " 11056713.0,\n",
       " 10893208.0,\n",
       " 11615033.0,\n",
       " 11696828.0,\n",
       " 11481539.0,\n",
       " 11906026.0,\n",
       " 12264552.0,\n",
       " 11955942.0,\n",
       " 12132854.0,\n",
       " 12604189.0,\n",
       " 12606647.0,\n",
       " 13206333.0,\n",
       " 13645719.0,\n",
       " 13538832.0,\n",
       " 12802432.0,\n",
       " 11639237.0,\n",
       " 12150510.0,\n",
       " 11670816.0,\n",
       " 13363878.0,\n",
       " 13840548.0,\n",
       " 12487707.0,\n",
       " 11678011.0,\n",
       " 13871170.0,\n",
       " 11727081.0,\n",
       " 11550615.0,\n",
       " 11639234.0,\n",
       " 10511903.0,\n",
       " 14002340.0,\n",
       " 10156300.0,\n",
       " 11053241.0,\n",
       " 12846050.0,\n",
       " 13683622.0,\n",
       " 13840550.0,\n",
       " 10637814.0,\n",
       " 10893393.0,\n",
       " 12042297.0,\n",
       " 12309865.0,\n",
       " 11051308.0,\n",
       " 13148917.0,\n",
       " 13842128.0,\n",
       " 11467009.0,\n",
       " 10809680.0,\n",
       " 10436773.0,\n",
       " 11552706.0,\n",
       " 10070475.0,\n",
       " 10955285.0,\n",
       " 11724989.0,\n",
       " 12138192.0,\n",
       " 10310176.0,\n",
       " 12513249.0,\n",
       " 11639240.0,\n",
       " 13124835.0,\n",
       " 13768491.0,\n",
       " 10516315.0,\n",
       " 12840934.0,\n",
       " 11851419.0,\n",
       " 12386981.0,\n",
       " 13130215.0,\n",
       " 10394583.0,\n",
       " 10231445.0,\n",
       " 12817303.0,\n",
       " 12820809.0,\n",
       " 13276948.0,\n",
       " 12755212.0,\n",
       " 13648340.0,\n",
       " 10680170.0,\n",
       " 13537625.0,\n",
       " 12752085.0,\n",
       " 10970819.0,\n",
       " 13537626.0,\n",
       " 12630024.0,\n",
       " 12819229.0,\n",
       " 12265376.0,\n",
       " 11724985.0,\n",
       " 10587526.0,\n",
       " 13848690.0,\n",
       " 13014203.0,\n",
       " 11902621.0,\n",
       " 11981746.0,\n",
       " 10515470.0,\n",
       " 10881446.0,\n",
       " 11732431.0,\n",
       " 11547979.0,\n",
       " 12065679.0,\n",
       " 12269289.0,\n",
       " 12134154.0,\n",
       " 12946026.0,\n",
       " 13153546.0,\n",
       " 13191750.0,\n",
       " 13445504.0,\n",
       " 13292604.0,\n",
       " 13941301.0,\n",
       " 11724988.0,\n",
       " 13286744.0,\n",
       " 12679441.0,\n",
       " 11473476.0,\n",
       " 12846051.0,\n",
       " 13119866.0,\n",
       " 13732911.0,\n",
       " 10783012.0,\n",
       " 13768488.0,\n",
       " 10807476.0,\n",
       " 12066835.0,\n",
       " 10299229.0,\n",
       " 10268741.0,\n",
       " 11978953.0,\n",
       " 10363180.0,\n",
       " 11076263.0,\n",
       " 11552704.0,\n",
       " 14143891.0,\n",
       " 10363666.0,\n",
       " 10881036.0,\n",
       " 11422220.0,\n",
       " 12066396.0,\n",
       " 12220724.0,\n",
       " 13457827.0,\n",
       " 13983437.0,\n",
       " 13615984.0,\n",
       " 10882872.0,\n",
       " 11738447.0,\n",
       " 12524483.0,\n",
       " 13130213.0,\n",
       " 10396702.0,\n",
       " 12611113.0,\n",
       " 13923862.0,\n",
       " 10082131.0,\n",
       " 13052381.0,\n",
       " 13926313.0,\n",
       " 12137072.0,\n",
       " 12083013.0,\n",
       " 12164307.0,\n",
       " 12762478.0,\n",
       " 12426505.0,\n",
       " 12652702.0,\n",
       " 13117546.0,\n",
       " 13806345.0,\n",
       " 11216121.0,\n",
       " 11386522.0,\n",
       " 13615673.0,\n",
       " 10363176.0,\n",
       " 13961531.0,\n",
       " 12267201.0,\n",
       " 13000365.0,\n",
       " 10388689.0,\n",
       " 10669048.0,\n",
       " 10404408.0,\n",
       " 10361580.0,\n",
       " 13691028.0,\n",
       " 11093428.0,\n",
       " 11050184.0,\n",
       " 11976311.0,\n",
       " 11906055.0,\n",
       " 12759612.0,\n",
       " 13036145.0,\n",
       " 13154422.0,\n",
       " 13808440.0,\n",
       " 10809682.0,\n",
       " 11690251.0,\n",
       " 11477730.0,\n",
       " 12679269.0,\n",
       " 10390403.0,\n",
       " 11558789.0,\n",
       " 11676006.0,\n",
       " 13353906.0,\n",
       " 11877915.0,\n",
       " 13148919.0,\n",
       " 12757508.0,\n",
       " 14002337.0,\n",
       " 13927706.0,\n",
       " 11218304.0,\n",
       " 11245402.0,\n",
       " 13000367.0,\n",
       " 12520167.0,\n",
       " 11377057.0,\n",
       " 11591678.0,\n",
       " 11803764.0,\n",
       " 12763425.0,\n",
       " 12894050.0,\n",
       " 13232387.0,\n",
       " 12823825.0,\n",
       " 13041839.0,\n",
       " 13038942.0,\n",
       " 13689547.0,\n",
       " 10078885.0,\n",
       " 10660014.0,\n",
       " 13384436.0,\n",
       " 12267203.0,\n",
       " 10910327.0,\n",
       " 10115204.0,\n",
       " 12085135.0,\n",
       " 13648343.0,\n",
       " 13290870.0,\n",
       " 13616061.0,\n",
       " 11344574.0,\n",
       " 13034281.0,\n",
       " 12492972.0,\n",
       " 12948245.0,\n",
       " 12856319.0,\n",
       " 10736414.0,\n",
       " 10734083.0,\n",
       " 11422198.0,\n",
       " 10890768.0,\n",
       " 11380105.0,\n",
       " 11670406.0,\n",
       " 11996686.0,\n",
       " 12153742.0,\n",
       " 12559177.0,\n",
       " 13542089.0,\n",
       " 12150546.0,\n",
       " 10583674.0,\n",
       " 10658604.0,\n",
       " 11896853.0,\n",
       " 11385947.0,\n",
       " 10791807.0,\n",
       " 11889988.0,\n",
       " 10907246.0,\n",
       " 10282712.0,\n",
       " 11384308.0,\n",
       " 11632520.0,\n",
       " 12188545.0,\n",
       " 12221592.0,\n",
       " 12206873.0,\n",
       " 12266686.0,\n",
       " 12841052.0,\n",
       " 13711916.0,\n",
       " 13797312.0,\n",
       " 12797621.0,\n",
       " 12820345.0,\n",
       " 10099640.0,\n",
       " 11478275.0,\n",
       " 12333303.0,\n",
       " 10949398.0,\n",
       " 12752083.0,\n",
       " 11223808.0,\n",
       " 10605921.0,\n",
       " 10217246.0,\n",
       " 10583052.0,\n",
       " 10660719.0,\n",
       " 10922550.0,\n",
       " 11205037.0,\n",
       " 11382668.0,\n",
       " 12054471.0,\n",
       " 11746541.0,\n",
       " 12053258.0,\n",
       " 12594722.0,\n",
       " 13289162.0,\n",
       " 13614166.0,\n",
       " 14129524.0,\n",
       " 13627301.0,\n",
       " 10326061.0,\n",
       " 11801122.0,\n",
       " 11291583.0,\n",
       " 12146183.0,\n",
       " 13870900.0,\n",
       " 11344577.0,\n",
       " 12343820.0,\n",
       " 11804208.0,\n",
       " 12607956.0,\n",
       " 13794152.0,\n",
       " 10732998.0,\n",
       " 12938581.0,\n",
       " 11727080.0,\n",
       " 13126852.0,\n",
       " 11513446.0,\n",
       " 11130760.0,\n",
       " 10338647.0,\n",
       " 14085393.0,\n",
       " 12153959.0,\n",
       " 11141634.0,\n",
       " 11694590.0,\n",
       " 12266800.0,\n",
       " 12938179.0,\n",
       " 12764408.0,\n",
       " 12678639.0,\n",
       " 10310490.0,\n",
       " 13538181.0,\n",
       " 10509107.0,\n",
       " 10261035.0,\n",
       " 11561512.0,\n",
       " 11287568.0,\n",
       " 11371537.0,\n",
       " 11480982.0,\n",
       " 12323987.0,\n",
       " 10654937.0,\n",
       " 12802437.0,\n",
       " 12630029.0,\n",
       " 12492971.0,\n",
       " 13760735.0,\n",
       " 11943225.0,\n",
       " 12679442.0,\n",
       " 10871177.0,\n",
       " 12492228.0,\n",
       " 10528101.0,\n",
       " 10388688.0,\n",
       " 13845471.0,\n",
       " 13124325.0,\n",
       " 10586623.0,\n",
       " 11622328.0,\n",
       " 12512018.0,\n",
       " 13921974.0,\n",
       " 14137959.0,\n",
       " 12491112.0,\n",
       " 10882458.0,\n",
       " 11632175.0,\n",
       " 11794260.0,\n",
       " 11633538.0,\n",
       " 12522861.0,\n",
       " 10341370.0,\n",
       " 11472557.0,\n",
       " 10305193.0,\n",
       " 13808317.0,\n",
       " 13764130.0,\n",
       " 10738544.0,\n",
       " 12491115.0,\n",
       " 11632172.0,\n",
       " 13357766.0,\n",
       " 10840493.0,\n",
       " 10243506.0,\n",
       " 10853934.0,\n",
       " 10965222.0,\n",
       " 11462299.0,\n",
       " 11627154.0,\n",
       " 11900190.0,\n",
       " 12134740.0,\n",
       " 11695553.0,\n",
       " 12265205.0,\n",
       " 11689686.0,\n",
       " 12194480.0,\n",
       " 13363685.0,\n",
       " 13519656.0,\n",
       " 13921731.0,\n",
       " 13683621.0,\n",
       " 11689281.0,\n",
       " 10618378.0,\n",
       " 10224708.0,\n",
       " 11056198.0,\n",
       " 10396703.0,\n",
       " 13538730.0,\n",
       " 11476011.0,\n",
       " 11877916.0,\n",
       " 13041515.0,\n",
       " 12220058.0,\n",
       " 12516623.0,\n",
       " 12752084.0,\n",
       " 12534098.0,\n",
       " 11682560.0,\n",
       " 13124837.0,\n",
       " 13104367.0,\n",
       " 10930032.0,\n",
       " 13796059.0,\n",
       " 12861927.0,\n",
       " 10680023.0,\n",
       " 10843475.0,\n",
       " 12919877.0,\n",
       " 12854286.0,\n",
       " 12947945.0,\n",
       " 13463990.0,\n",
       " 13988477.0,\n",
       " 11471691.0,\n",
       " 12334477.0,\n",
       " 10736417.0,\n",
       " 13688779.0,\n",
       " 11896124.0,\n",
       " 10093093.0,\n",
       " 10795952.0,\n",
       " 13645100.0,\n",
       " 12150418.0,\n",
       " 13120982.0,\n",
       " 13828725.0,\n",
       " 13842127.0,\n",
       " 11644420.0,\n",
       " 10189223.0,\n",
       " 13846473.0,\n",
       " 13849490.0,\n",
       " 12441303.0,\n",
       " 10949399.0,\n",
       " 12492973.0,\n",
       " 10341104.0,\n",
       " 10271266.0,\n",
       " 10626907.0,\n",
       " 10627109.0,\n",
       " 10317564.0,\n",
       " 12426775.0,\n",
       " 12950096.0,\n",
       " 12822622.0,\n",
       " 13122698.0,\n",
       " 13509362.0,\n",
       " 13778033.0,\n",
       " 13320549.0,\n",
       " 12999010.0,\n",
       " 13847989.0,\n",
       " 11681818.0,\n",
       " 13919996.0,\n",
       " 13808316.0,\n",
       " 13390257.0,\n",
       " 12840937.0,\n",
       " 12534099.0,\n",
       " 12075347.0,\n",
       " 12442562.0,\n",
       " 12813890.0,\n",
       " 10094346.0,\n",
       " 10605922.0,\n",
       " 10514614.0,\n",
       " 11384214.0,\n",
       " 11621201.0,\n",
       " 11906075.0,\n",
       " 12352764.0,\n",
       " 12306769.0,\n",
       " 13327451.0,\n",
       " 13498067.0,\n",
       " 13356107.0,\n",
       " 13897520.0,\n",
       " 14146572.0,\n",
       " 11857476.0,\n",
       " 11051309.0,\n",
       " 12224610.0,\n",
       " 14002338.0,\n",
       " 11385393.0,\n",
       " 12355327.0,\n",
       " 13841936.0,\n",
       " 11293461.0,\n",
       " 10388511.0,\n",
       " 11970805.0,\n",
       " 11725955.0,\n",
       " 13039891.0,\n",
       " 14042420.0,\n",
       " 13616063.0,\n",
       " 13811305.0,\n",
       " 12356043.0,\n",
       " 12486727.0,\n",
       " 10226613.0,\n",
       " 11067996.0,\n",
       " 11159134.0,\n",
       " 12265377.0,\n",
       " 10436772.0,\n",
       " 13970058.0,\n",
       " 10632737.0,\n",
       " 11043110.0,\n",
       " 10968098.0,\n",
       " 10967885.0,\n",
       " 11551287.0,\n",
       " 11452628.0,\n",
       " 12471072.0,\n",
       " 12512420.0,\n",
       " 13796056.0,\n",
       " 13290869.0,\n",
       " 13535957.0,\n",
       " 11556370.0,\n",
       " 11120149.0,\n",
       " 12131174.0,\n",
       " 10159946.0,\n",
       " 10439203.0,\n",
       " 11552130.0,\n",
       " 12180588.0,\n",
       " 12522670.0,\n",
       " 12427201.0,\n",
       " 12862147.0,\n",
       " 12606900.0,\n",
       " 13798822.0,\n",
       " 14068132.0,\n",
       " 13104365.0,\n",
       " 10189545.0,\n",
       " 13870600.0,\n",
       " 11267378.0,\n",
       " 11385394.0,\n",
       " 13828724.0,\n",
       " 12153953.0,\n",
       " 12262669.0,\n",
       " 13128638.0,\n",
       " 12860749.0,\n",
       " 10485575.0,\n",
       " 10309467.0,\n",
       " 13320545.0,\n",
       " 10423105.0,\n",
       " 10741715.0,\n",
       " 11537725.0,\n",
       " 12213676.0,\n",
       " 12300913.0,\n",
       " 13281334.0,\n",
       " 13840140.0,\n",
       " 13793955.0,\n",
       " 13686576.0,\n",
       " 14129361.0,\n",
       " 13039889.0,\n",
       " 12433253.0,\n",
       " 12760436.0,\n",
       " 10588704.0,\n",
       " 10724763.0,\n",
       " 10363175.0,\n",
       " 13290872.0,\n",
       " 13685178.0,\n",
       " 13150606.0,\n",
       " 12492226.0,\n",
       " 10710356.0,\n",
       " 10906299.0,\n",
       " 13616062.0,\n",
       " 13828726.0,\n",
       " 10906040.0,\n",
       " 11384597.0,\n",
       " 12487710.0,\n",
       " 13126853.0,\n",
       " 13331927.0,\n",
       " 12220055.0,\n",
       " 10324755.0,\n",
       " 10633121.0,\n",
       " 11385293.0,\n",
       " 12064951.0,\n",
       " 12284404.0,\n",
       " 12409336.0,\n",
       " 12761955.0,\n",
       " 12807972.0,\n",
       " 12946302.0,\n",
       " 12920887.0,\n",
       " 12862036.0,\n",
       " 13608150.0,\n",
       " 13607930.0,\n",
       " 10839332.0,\n",
       " 11223326.0,\n",
       " 13375473.0,\n",
       " 13038512.0,\n",
       " 12958889.0,\n",
       " 11291585.0,\n",
       " 12611112.0,\n",
       " 12158935.0,\n",
       " 12755217.0,\n",
       " 11237729.0,\n",
       " 11160922.0,\n",
       " 11266755.0,\n",
       " 10559922.0,\n",
       " 11607323.0,\n",
       " 11802730.0,\n",
       " 12522713.0,\n",
       " 12754440.0,\n",
       " 13041627.0,\n",
       " 13206774.0,\n",
       " 12947496.0,\n",
       " 13281095.0,\n",
       " 10586174.0,\n",
       " 13796058.0,\n",
       " 12754223.0,\n",
       " 12681834.0,\n",
       " 12220053.0,\n",
       " 12111622.0,\n",
       " 10242767.0,\n",
       " 10758697.0,\n",
       " 11167741.0,\n",
       " 10693920.0,\n",
       " 13648341.0,\n",
       " 13848687.0,\n",
       " 10736412.0,\n",
       " 12075361.0,\n",
       " 12754222.0,\n",
       " 12630027.0,\n",
       " 10157986.0,\n",
       " 10226796.0,\n",
       " 12227590.0,\n",
       " 12762525.0,\n",
       " 12474830.0,\n",
       " 13041675.0,\n",
       " 13206944.0,\n",
       " 13670262.0,\n",
       " 13644452.0,\n",
       " 13356419.0,\n",
       " 13609085.0,\n",
       " 13765803.0,\n",
       " 11051307.0,\n",
       " 12756376.0,\n",
       " 12262662.0,\n",
       " 13797311.0,\n",
       " 10099639.0,\n",
       " 12431383.0,\n",
       " 10832385.0,\n",
       " 11347041.0,\n",
       " 11215104.0,\n",
       " 13144225.0,\n",
       " 13291503.0,\n",
       " 10730200.0,\n",
       " 13609905.0,\n",
       " 12153958.0,\n",
       " 10636097.0,\n",
       " 10853532.0,\n",
       " 10715373.0,\n",
       " 10956890.0,\n",
       " 11606593.0,\n",
       " 11410895.0,\n",
       " 12266969.0,\n",
       " 12153452.0,\n",
       " 12203871.0,\n",
       " 13118770.0,\n",
       " 13036909.0,\n",
       " 13274400.0,\n",
       " 13845817.0,\n",
       " 11663478.0,\n",
       " 14062557.0,\n",
       " 12602993.0,\n",
       " 11347042.0,\n",
       " 11902222.0,\n",
       " 10598438.0,\n",
       " 10807479.0,\n",
       " 10461954.0,\n",
       " 12846053.0,\n",
       " 11721566.0,\n",
       " 10864623.0,\n",
       " 13848689.0,\n",
       " 13810052.0,\n",
       " 10956805.0,\n",
       " 10241798.0,\n",
       " 10396898.0,\n",
       " 10229652.0,\n",
       " 10660385.0,\n",
       " 11548853.0,\n",
       " 12784416.0,\n",
       " 13039666.0,\n",
       " 13613198.0,\n",
       " 10658603.0,\n",
       " 13633714.0,\n",
       " 12433248.0,\n",
       " 10906301.0,\n",
       " 13650102.0,\n",
       " 13768489.0,\n",
       " 13128635.0,\n",
       " 11561514.0,\n",
       " 12951705.0,\n",
       " 12618438.0,\n",
       " 10166194.0,\n",
       " 10101796.0,\n",
       " 10341978.0,\n",
       " 10741750.0,\n",
       " 11548481.0,\n",
       " 11714145.0,\n",
       " 11983039.0,\n",
       " 13039408.0,\n",
       " 12864572.0,\n",
       " 13834687.0,\n",
       " 11475079.0,\n",
       " 11558788.0,\n",
       " 12655337.0,\n",
       " 13473377.0,\n",
       " 12840933.0,\n",
       " 12433251.0,\n",
       " 11259868.0,\n",
       " 11566269.0,\n",
       " 10095573.0,\n",
       " 11753330.0,\n",
       " 12486731.0,\n",
       " 13056412.0,\n",
       " 11344571.0,\n",
       " 10363177.0,\n",
       " 12333301.0,\n",
       " 11721568.0,\n",
       " 11696736.0,\n",
       " 10166193.0,\n",
       " 10188155.0,\n",
       " 10713191.0,\n",
       " 10981181.0,\n",
       " 11516133.0,\n",
       " 12442504.0,\n",
       " 12401610.0,\n",
       " 12757259.0,\n",
       " 13712145.0,\n",
       " 13767264.0,\n",
       " 13906275.0,\n",
       " 13976621.0,\n",
       " 14064205.0,\n",
       " 11060663.0,\n",
       " 12755215.0,\n",
       " 11724991.0,\n",
       " 12358688.0,\n",
       " 11915421.0,\n",
       " 11336132.0,\n",
       " 10587523.0,\n",
       " 13052382.0,\n",
       " 11981821.0,\n",
       " 13529632.0,\n",
       " 13124657.0,\n",
       " 13040573.0,\n",
       " 11550616.0,\n",
       " 10438185.0,\n",
       " 12757510.0,\n",
       " 11259866.0,\n",
       " 11844821.0,\n",
       " 12810090.0,\n",
       " 13535955.0,\n",
       " 13810053.0,\n",
       " 12524699.0,\n",
       " 10600161.0,\n",
       " 10842127.0,\n",
       " 10948402.0,\n",
       " 11889397.0,\n",
       " 11811011.0,\n",
       " 12792164.0,\n",
       " 13337524.0,\n",
       " 13505451.0,\n",
       " 13930395.0,\n",
       " 11051306.0,\n",
       " 10759774.0,\n",
       " 12356044.0,\n",
       " 12619497.0,\n",
       " 11294594.0,\n",
       " 11159723.0,\n",
       " 10418691.0,\n",
       " 10101913.0,\n",
       " 11552709.0,\n",
       " 10587525.0,\n",
       " 12340183.0,\n",
       " 11465059.0,\n",
       " 13083091.0,\n",
       " 10839328.0,\n",
       " 10723060.0,\n",
       " 13037397.0,\n",
       " 13850783.0,\n",
       " 10727546.0,\n",
       " 11367364.0,\n",
       " 12054154.0,\n",
       " 12267272.0,\n",
       " 12819768.0,\n",
       " 13202171.0,\n",
       " 13412539.0,\n",
       " 13331076.0,\n",
       " 13043826.0,\n",
       " 13989830.0,\n",
       " 11298563.0,\n",
       " 11764620.0,\n",
       " 10618379.0,\n",
       " 11561511.0,\n",
       " 12530894.0,\n",
       " 12525460.0,\n",
       " 13292602.0,\n",
       " 13920973.0,\n",
       " 12105623.0,\n",
       " 13612974.0,\n",
       " 10674782.0,\n",
       " 11680324.0,\n",
       " 10296974.0,\n",
       " 11344573.0,\n",
       " 13812218.0,\n",
       " 10782813.0,\n",
       " 10873138.0,\n",
       " 11481684.0,\n",
       " 12242819.0,\n",
       " ...]"
      ]
     },
     "execution_count": 521,
     "metadata": {},
     "output_type": "execute_result"
    }
   ],
   "source": [
    "# Crea una lista con casos indice\n",
    "\n",
    "casos_indice = df_seguimiento_ind6[df_seguimiento_ind6['nfolio_caso_indice'].notna()]['nfolio_caso_indice'].drop_duplicates().astype('float64').to_list()\n",
    "\n",
    "casos_indice"
   ]
  },
  {
   "cell_type": "code",
   "execution_count": 522,
   "id": "15d12a72",
   "metadata": {},
   "outputs": [],
   "source": [
    "# Revisa si un caso es caso indice\n",
    "\n",
    "df_seguimiento_ind6['is_index'] = df_seguimiento_ind6['nfolio_caso'].isin(casos_indice)"
   ]
  },
  {
   "cell_type": "code",
   "execution_count": 523,
   "id": "6c5454bd",
   "metadata": {},
   "outputs": [],
   "source": [
    "# Crea columna para mostrando si es o caso indice o contacto estrecho\n",
    "\n",
    "df_seguimiento_ind6['is_index_or_contact'] = df_seguimiento_ind6['is_index'] | df_seguimiento_ind6['is_contact']"
   ]
  },
  {
   "cell_type": "code",
   "execution_count": 524,
   "id": "2ef3a258",
   "metadata": {},
   "outputs": [
    {
     "data": {
      "text/plain": [
       "False    119668\n",
       "True      57890\n",
       "Name: is_index_or_contact, dtype: int64"
      ]
     },
     "execution_count": 524,
     "metadata": {},
     "output_type": "execute_result"
    }
   ],
   "source": [
    "df_seguimiento_ind6['is_index_or_contact'].value_counts()"
   ]
  },
  {
   "cell_type": "code",
   "execution_count": 450,
   "id": "02cc4d8b",
   "metadata": {},
   "outputs": [],
   "source": [
    "df_seguimiento_ind6_clean = df_seguimiento_ind6[(df_seguimiento_ind6['suspendido']=='activo')|(df_seguimiento_ind6['suspendido']=='egresado')]"
   ]
  },
  {
   "cell_type": "code",
   "execution_count": 451,
   "id": "3eba1661",
   "metadata": {},
   "outputs": [],
   "source": [
    "# Elimina etapa_clinica DESCARTADA y SOSPECHA\n",
    "df_seguimiento_ind6_clean = df_seguimiento_ind6_clean[(df_seguimiento_ind6_clean['etapa_clinica']!='DESCARTADA')|(df_seguimiento_ind6_clean['etapa_clinica']!='SOSPECHA')]"
   ]
  },
  {
   "cell_type": "code",
   "execution_count": 452,
   "id": "d61bf0ca",
   "metadata": {},
   "outputs": [
    {
     "data": {
      "text/plain": [
       "19425664    22\n",
       "15506064    22\n",
       "13041090    22\n",
       "13616788    21\n",
       "15573170    21\n",
       "            ..\n",
       "17247820     1\n",
       "17989525     1\n",
       "14697163     1\n",
       "13758599     1\n",
       "13120153     1\n",
       "Name: nfolio_caso_indice, Length: 13080, dtype: int64"
      ]
     },
     "execution_count": 452,
     "metadata": {},
     "output_type": "execute_result"
    }
   ],
   "source": [
    "df_seguimiento_ind6_clean['nfolio_caso_indice'].value_counts()"
   ]
  },
  {
   "cell_type": "code",
   "execution_count": 453,
   "id": "1f5ea323",
   "metadata": {},
   "outputs": [
    {
     "data": {
      "text/html": [
       "<div>\n",
       "<style scoped>\n",
       "    .dataframe tbody tr th:only-of-type {\n",
       "        vertical-align: middle;\n",
       "    }\n",
       "\n",
       "    .dataframe tbody tr th {\n",
       "        vertical-align: top;\n",
       "    }\n",
       "\n",
       "    .dataframe thead th {\n",
       "        text-align: right;\n",
       "    }\n",
       "</style>\n",
       "<table border=\"1\" class=\"dataframe\">\n",
       "  <thead>\n",
       "    <tr style=\"text-align: right;\">\n",
       "      <th></th>\n",
       "      <th>n_folio</th>\n",
       "      <th>nfolio_caso</th>\n",
       "      <th>nfolio_caso_indice</th>\n",
       "      <th>nfolio_pntm</th>\n",
       "      <th>nfolio_contacto_estrecho</th>\n",
       "      <th>tipo_seguimiento</th>\n",
       "      <th>dia_contacto</th>\n",
       "      <th>fecha_notificacion</th>\n",
       "      <th>nombre_institucion_indice</th>\n",
       "      <th>region_institucion_indice</th>\n",
       "      <th>...</th>\n",
       "      <th>comuna_seremi_xi</th>\n",
       "      <th>provincia_seremi_xi</th>\n",
       "      <th>edad</th>\n",
       "      <th>sexo</th>\n",
       "      <th>pop_hombres</th>\n",
       "      <th>pop_mujeres</th>\n",
       "      <th>pop_total</th>\n",
       "      <th>is_contact</th>\n",
       "      <th>is_index</th>\n",
       "      <th>is_index_or_contact</th>\n",
       "    </tr>\n",
       "  </thead>\n",
       "  <tbody>\n",
       "    <tr>\n",
       "      <th>0</th>\n",
       "      <td>8753781</td>\n",
       "      <td>8753781.0</td>\n",
       "      <td>NaN</td>\n",
       "      <td>NaN</td>\n",
       "      <td>NaN</td>\n",
       "      <td>caso</td>\n",
       "      <td>2021-03-02 00:00:00</td>\n",
       "      <td>2021-03-01</td>\n",
       "      <td>Hospital Regional (Coihaique)</td>\n",
       "      <td>11</td>\n",
       "      <td>...</td>\n",
       "      <td>Coyhaique</td>\n",
       "      <td>Coyhaique</td>\n",
       "      <td>47.0</td>\n",
       "      <td>hombre</td>\n",
       "      <td>28763.0</td>\n",
       "      <td>29055.0</td>\n",
       "      <td>57818.0</td>\n",
       "      <td>False</td>\n",
       "      <td>False</td>\n",
       "      <td>False</td>\n",
       "    </tr>\n",
       "  </tbody>\n",
       "</table>\n",
       "<p>1 rows × 65 columns</p>\n",
       "</div>"
      ],
      "text/plain": [
       "   n_folio  nfolio_caso nfolio_caso_indice nfolio_pntm  \\\n",
       "0  8753781    8753781.0                NaN         NaN   \n",
       "\n",
       "  nfolio_contacto_estrecho tipo_seguimiento         dia_contacto  \\\n",
       "0                      NaN             caso  2021-03-02 00:00:00   \n",
       "\n",
       "  fecha_notificacion      nombre_institucion_indice region_institucion_indice  \\\n",
       "0         2021-03-01  Hospital Regional (Coihaique)                        11   \n",
       "\n",
       "   ... comuna_seremi_xi provincia_seremi_xi  edad    sexo pop_hombres  \\\n",
       "0  ...        Coyhaique           Coyhaique  47.0  hombre     28763.0   \n",
       "\n",
       "  pop_mujeres pop_total is_contact is_index is_index_or_contact  \n",
       "0     29055.0   57818.0      False    False               False  \n",
       "\n",
       "[1 rows x 65 columns]"
      ]
     },
     "execution_count": 453,
     "metadata": {},
     "output_type": "execute_result"
    }
   ],
   "source": [
    "df_seguimiento_ind6_clean.head(1)"
   ]
  },
  {
   "cell_type": "code",
   "execution_count": 454,
   "id": "1849060e",
   "metadata": {},
   "outputs": [],
   "source": [
    "# Toma en cuenta solo el primer contacto con el contacto o caso\n",
    "\n",
    "df_seguimiento_ind6_clean= df_seguimiento_ind6_clean.sort_values(by=['n_folio', 'dia_contacto']).groupby('n_folio').head(1)"
   ]
  },
  {
   "cell_type": "code",
   "execution_count": 455,
   "id": "02a2fa3d",
   "metadata": {},
   "outputs": [
    {
     "data": {
      "text/html": [
       "<div>\n",
       "<style scoped>\n",
       "    .dataframe tbody tr th:only-of-type {\n",
       "        vertical-align: middle;\n",
       "    }\n",
       "\n",
       "    .dataframe tbody tr th {\n",
       "        vertical-align: top;\n",
       "    }\n",
       "\n",
       "    .dataframe thead th {\n",
       "        text-align: right;\n",
       "    }\n",
       "</style>\n",
       "<table border=\"1\" class=\"dataframe\">\n",
       "  <thead>\n",
       "    <tr style=\"text-align: right;\">\n",
       "      <th></th>\n",
       "      <th>fecha_cumple_requisitos</th>\n",
       "      <th>is_index_or_contact</th>\n",
       "      <th>n_folio</th>\n",
       "    </tr>\n",
       "  </thead>\n",
       "  <tbody>\n",
       "    <tr>\n",
       "      <th>0</th>\n",
       "      <td>2021-03-01</td>\n",
       "      <td>False</td>\n",
       "      <td>14</td>\n",
       "    </tr>\n",
       "    <tr>\n",
       "      <th>1</th>\n",
       "      <td>2021-03-01</td>\n",
       "      <td>True</td>\n",
       "      <td>13</td>\n",
       "    </tr>\n",
       "    <tr>\n",
       "      <th>2</th>\n",
       "      <td>2021-03-02</td>\n",
       "      <td>False</td>\n",
       "      <td>21</td>\n",
       "    </tr>\n",
       "    <tr>\n",
       "      <th>3</th>\n",
       "      <td>2021-03-02</td>\n",
       "      <td>True</td>\n",
       "      <td>41</td>\n",
       "    </tr>\n",
       "    <tr>\n",
       "      <th>4</th>\n",
       "      <td>2021-03-03</td>\n",
       "      <td>False</td>\n",
       "      <td>10</td>\n",
       "    </tr>\n",
       "    <tr>\n",
       "      <th>...</th>\n",
       "      <td>...</td>\n",
       "      <td>...</td>\n",
       "      <td>...</td>\n",
       "    </tr>\n",
       "    <tr>\n",
       "      <th>361</th>\n",
       "      <td>2021-08-29</td>\n",
       "      <td>False</td>\n",
       "      <td>5</td>\n",
       "    </tr>\n",
       "    <tr>\n",
       "      <th>362</th>\n",
       "      <td>2021-08-29</td>\n",
       "      <td>True</td>\n",
       "      <td>15</td>\n",
       "    </tr>\n",
       "    <tr>\n",
       "      <th>363</th>\n",
       "      <td>2021-08-30</td>\n",
       "      <td>False</td>\n",
       "      <td>78</td>\n",
       "    </tr>\n",
       "    <tr>\n",
       "      <th>364</th>\n",
       "      <td>2021-08-30</td>\n",
       "      <td>True</td>\n",
       "      <td>4</td>\n",
       "    </tr>\n",
       "    <tr>\n",
       "      <th>365</th>\n",
       "      <td>2021-08-31</td>\n",
       "      <td>False</td>\n",
       "      <td>6</td>\n",
       "    </tr>\n",
       "  </tbody>\n",
       "</table>\n",
       "<p>366 rows × 3 columns</p>\n",
       "</div>"
      ],
      "text/plain": [
       "    fecha_cumple_requisitos  is_index_or_contact  n_folio\n",
       "0                2021-03-01                False       14\n",
       "1                2021-03-01                 True       13\n",
       "2                2021-03-02                False       21\n",
       "3                2021-03-02                 True       41\n",
       "4                2021-03-03                False       10\n",
       "..                      ...                  ...      ...\n",
       "361              2021-08-29                False        5\n",
       "362              2021-08-29                 True       15\n",
       "363              2021-08-30                False       78\n",
       "364              2021-08-30                 True        4\n",
       "365              2021-08-31                False        6\n",
       "\n",
       "[366 rows x 3 columns]"
      ]
     },
     "execution_count": 455,
     "metadata": {},
     "output_type": "execute_result"
    }
   ],
   "source": [
    "df_seguimiento_ind6_clean.groupby(['fecha_cumple_requisitos', 'is_index_or_contact']).count()[['n_folio']].reset_index()"
   ]
  },
  {
   "cell_type": "code",
   "execution_count": 456,
   "id": "049d9e0f",
   "metadata": {
    "scrolled": false
   },
   "outputs": [
    {
     "data": {
      "application/vnd.plotly.v1+json": {
       "config": {
        "plotlyServerURL": "https://plot.ly"
       },
       "data": [
        {
         "alignmentgroup": "True",
         "hovertemplate": "Contacto=False<br>fecha_cumple_requisitos=%{x}<br>n_folio=%{y}<extra></extra>",
         "legendgroup": "False",
         "marker": {
          "color": "#636efa"
         },
         "name": "False",
         "offsetgroup": "False",
         "orientation": "v",
         "showlegend": true,
         "textposition": "auto",
         "type": "bar",
         "x": [
          "2021-03-01T00:00:00",
          "2021-03-02T00:00:00",
          "2021-03-03T00:00:00",
          "2021-03-04T00:00:00",
          "2021-03-05T00:00:00",
          "2021-03-06T00:00:00",
          "2021-03-07T00:00:00",
          "2021-03-08T00:00:00",
          "2021-03-09T00:00:00",
          "2021-03-10T00:00:00",
          "2021-03-11T00:00:00",
          "2021-03-12T00:00:00",
          "2021-03-13T00:00:00",
          "2021-03-14T00:00:00",
          "2021-03-15T00:00:00",
          "2021-03-16T00:00:00",
          "2021-03-17T00:00:00",
          "2021-03-18T00:00:00",
          "2021-03-19T00:00:00",
          "2021-03-20T00:00:00",
          "2021-03-21T00:00:00",
          "2021-03-22T00:00:00",
          "2021-03-23T00:00:00",
          "2021-03-24T00:00:00",
          "2021-03-25T00:00:00",
          "2021-03-26T00:00:00",
          "2021-03-27T00:00:00",
          "2021-03-28T00:00:00",
          "2021-03-29T00:00:00",
          "2021-03-30T00:00:00",
          "2021-03-31T00:00:00",
          "2021-04-01T00:00:00",
          "2021-04-02T00:00:00",
          "2021-04-03T00:00:00",
          "2021-04-04T00:00:00",
          "2021-04-05T00:00:00",
          "2021-04-06T00:00:00",
          "2021-04-07T00:00:00",
          "2021-04-08T00:00:00",
          "2021-04-09T00:00:00",
          "2021-04-10T00:00:00",
          "2021-04-11T00:00:00",
          "2021-04-12T00:00:00",
          "2021-04-13T00:00:00",
          "2021-04-14T00:00:00",
          "2021-04-15T00:00:00",
          "2021-04-16T00:00:00",
          "2021-04-17T00:00:00",
          "2021-04-18T00:00:00",
          "2021-04-19T00:00:00",
          "2021-04-20T00:00:00",
          "2021-04-21T00:00:00",
          "2021-04-22T00:00:00",
          "2021-04-23T00:00:00",
          "2021-04-24T00:00:00",
          "2021-04-25T00:00:00",
          "2021-04-26T00:00:00",
          "2021-04-27T00:00:00",
          "2021-04-28T00:00:00",
          "2021-04-29T00:00:00",
          "2021-04-30T00:00:00",
          "2021-05-01T00:00:00",
          "2021-05-02T00:00:00",
          "2021-05-03T00:00:00",
          "2021-05-04T00:00:00",
          "2021-05-05T00:00:00",
          "2021-05-06T00:00:00",
          "2021-05-07T00:00:00",
          "2021-05-08T00:00:00",
          "2021-05-09T00:00:00",
          "2021-05-10T00:00:00",
          "2021-05-11T00:00:00",
          "2021-05-12T00:00:00",
          "2021-05-13T00:00:00",
          "2021-05-14T00:00:00",
          "2021-05-15T00:00:00",
          "2021-05-16T00:00:00",
          "2021-05-17T00:00:00",
          "2021-05-18T00:00:00",
          "2021-05-19T00:00:00",
          "2021-05-20T00:00:00",
          "2021-05-21T00:00:00",
          "2021-05-22T00:00:00",
          "2021-05-23T00:00:00",
          "2021-05-24T00:00:00",
          "2021-05-25T00:00:00",
          "2021-05-26T00:00:00",
          "2021-05-27T00:00:00",
          "2021-05-28T00:00:00",
          "2021-05-29T00:00:00",
          "2021-05-30T00:00:00",
          "2021-05-31T00:00:00",
          "2021-06-01T00:00:00",
          "2021-06-02T00:00:00",
          "2021-06-03T00:00:00",
          "2021-06-04T00:00:00",
          "2021-06-05T00:00:00",
          "2021-06-06T00:00:00",
          "2021-06-07T00:00:00",
          "2021-06-08T00:00:00",
          "2021-06-09T00:00:00",
          "2021-06-10T00:00:00",
          "2021-06-11T00:00:00",
          "2021-06-12T00:00:00",
          "2021-06-13T00:00:00",
          "2021-06-14T00:00:00",
          "2021-06-15T00:00:00",
          "2021-06-16T00:00:00",
          "2021-06-17T00:00:00",
          "2021-06-18T00:00:00",
          "2021-06-19T00:00:00",
          "2021-06-20T00:00:00",
          "2021-06-21T00:00:00",
          "2021-06-22T00:00:00",
          "2021-06-23T00:00:00",
          "2021-06-24T00:00:00",
          "2021-06-25T00:00:00",
          "2021-06-26T00:00:00",
          "2021-06-27T00:00:00",
          "2021-06-28T00:00:00",
          "2021-06-29T00:00:00",
          "2021-06-30T00:00:00",
          "2021-07-01T00:00:00",
          "2021-07-02T00:00:00",
          "2021-07-03T00:00:00",
          "2021-07-04T00:00:00",
          "2021-07-05T00:00:00",
          "2021-07-06T00:00:00",
          "2021-07-07T00:00:00",
          "2021-07-08T00:00:00",
          "2021-07-09T00:00:00",
          "2021-07-10T00:00:00",
          "2021-07-11T00:00:00",
          "2021-07-12T00:00:00",
          "2021-07-13T00:00:00",
          "2021-07-14T00:00:00",
          "2021-07-15T00:00:00",
          "2021-07-16T00:00:00",
          "2021-07-17T00:00:00",
          "2021-07-18T00:00:00",
          "2021-07-19T00:00:00",
          "2021-07-20T00:00:00",
          "2021-07-21T00:00:00",
          "2021-07-22T00:00:00",
          "2021-07-23T00:00:00",
          "2021-07-24T00:00:00",
          "2021-07-25T00:00:00",
          "2021-07-26T00:00:00",
          "2021-07-27T00:00:00",
          "2021-07-28T00:00:00",
          "2021-07-29T00:00:00",
          "2021-07-30T00:00:00",
          "2021-07-31T00:00:00",
          "2021-08-01T00:00:00",
          "2021-08-02T00:00:00",
          "2021-08-03T00:00:00",
          "2021-08-04T00:00:00",
          "2021-08-05T00:00:00",
          "2021-08-06T00:00:00",
          "2021-08-07T00:00:00",
          "2021-08-08T00:00:00",
          "2021-08-09T00:00:00",
          "2021-08-10T00:00:00",
          "2021-08-11T00:00:00",
          "2021-08-12T00:00:00",
          "2021-08-13T00:00:00",
          "2021-08-14T00:00:00",
          "2021-08-15T00:00:00",
          "2021-08-16T00:00:00",
          "2021-08-17T00:00:00",
          "2021-08-18T00:00:00",
          "2021-08-19T00:00:00",
          "2021-08-20T00:00:00",
          "2021-08-21T00:00:00",
          "2021-08-22T00:00:00",
          "2021-08-23T00:00:00",
          "2021-08-24T00:00:00",
          "2021-08-25T00:00:00",
          "2021-08-26T00:00:00",
          "2021-08-27T00:00:00",
          "2021-08-28T00:00:00",
          "2021-08-29T00:00:00",
          "2021-08-30T00:00:00",
          "2021-08-31T00:00:00"
         ],
         "xaxis": "x",
         "y": [
          14,
          21,
          10,
          12,
          13,
          5,
          12,
          10,
          12,
          21,
          12,
          14,
          6,
          10,
          15,
          21,
          8,
          23,
          10,
          16,
          15,
          15,
          20,
          12,
          16,
          25,
          9,
          11,
          31,
          21,
          13,
          20,
          16,
          21,
          9,
          33,
          48,
          23,
          30,
          24,
          35,
          11,
          24,
          15,
          19,
          14,
          25,
          27,
          14,
          26,
          50,
          42,
          31,
          33,
          25,
          26,
          43,
          47,
          61,
          75,
          46,
          14,
          16,
          56,
          50,
          56,
          46,
          35,
          25,
          36,
          46,
          51,
          46,
          75,
          68,
          49,
          31,
          77,
          76,
          96,
          136,
          46,
          64,
          33,
          108,
          97,
          93,
          80,
          97,
          84,
          74,
          119,
          174,
          87,
          82,
          68,
          43,
          32,
          67,
          55,
          65,
          99,
          76,
          48,
          33,
          66,
          56,
          81,
          68,
          69,
          35,
          22,
          17,
          42,
          44,
          47,
          42,
          26,
          14,
          19,
          32,
          42,
          32,
          36,
          9,
          12,
          33,
          37,
          27,
          41,
          55,
          31,
          6,
          1,
          14,
          6,
          8,
          4,
          6,
          1,
          8,
          4,
          1,
          6,
          6,
          2,
          1,
          4,
          3,
          10,
          3,
          4,
          1,
          4,
          5,
          3,
          5,
          10,
          30,
          29,
          2,
          4,
          1,
          4,
          7,
          2,
          6,
          11,
          11,
          6,
          15,
          8,
          16,
          7,
          3,
          17,
          13,
          7,
          14,
          11,
          4,
          5,
          78,
          6
         ],
         "yaxis": "y"
        },
        {
         "alignmentgroup": "True",
         "hovertemplate": "Contacto=True<br>fecha_cumple_requisitos=%{x}<br>n_folio=%{y}<extra></extra>",
         "legendgroup": "True",
         "marker": {
          "color": "#EF553B"
         },
         "name": "True",
         "offsetgroup": "True",
         "orientation": "v",
         "showlegend": true,
         "textposition": "auto",
         "type": "bar",
         "x": [
          "2021-03-01T00:00:00",
          "2021-03-02T00:00:00",
          "2021-03-03T00:00:00",
          "2021-03-04T00:00:00",
          "2021-03-05T00:00:00",
          "2021-03-06T00:00:00",
          "2021-03-07T00:00:00",
          "2021-03-08T00:00:00",
          "2021-03-09T00:00:00",
          "2021-03-10T00:00:00",
          "2021-03-11T00:00:00",
          "2021-03-12T00:00:00",
          "2021-03-13T00:00:00",
          "2021-03-14T00:00:00",
          "2021-03-15T00:00:00",
          "2021-03-16T00:00:00",
          "2021-03-17T00:00:00",
          "2021-03-18T00:00:00",
          "2021-03-19T00:00:00",
          "2021-03-20T00:00:00",
          "2021-03-21T00:00:00",
          "2021-03-22T00:00:00",
          "2021-03-23T00:00:00",
          "2021-03-24T00:00:00",
          "2021-03-25T00:00:00",
          "2021-03-26T00:00:00",
          "2021-03-27T00:00:00",
          "2021-03-28T00:00:00",
          "2021-03-29T00:00:00",
          "2021-03-30T00:00:00",
          "2021-03-31T00:00:00",
          "2021-04-01T00:00:00",
          "2021-04-02T00:00:00",
          "2021-04-03T00:00:00",
          "2021-04-04T00:00:00",
          "2021-04-05T00:00:00",
          "2021-04-06T00:00:00",
          "2021-04-07T00:00:00",
          "2021-04-08T00:00:00",
          "2021-04-09T00:00:00",
          "2021-04-10T00:00:00",
          "2021-04-11T00:00:00",
          "2021-04-12T00:00:00",
          "2021-04-13T00:00:00",
          "2021-04-14T00:00:00",
          "2021-04-15T00:00:00",
          "2021-04-16T00:00:00",
          "2021-04-17T00:00:00",
          "2021-04-18T00:00:00",
          "2021-04-19T00:00:00",
          "2021-04-20T00:00:00",
          "2021-04-21T00:00:00",
          "2021-04-22T00:00:00",
          "2021-04-23T00:00:00",
          "2021-04-24T00:00:00",
          "2021-04-25T00:00:00",
          "2021-04-26T00:00:00",
          "2021-04-27T00:00:00",
          "2021-04-28T00:00:00",
          "2021-04-29T00:00:00",
          "2021-04-30T00:00:00",
          "2021-05-01T00:00:00",
          "2021-05-02T00:00:00",
          "2021-05-03T00:00:00",
          "2021-05-04T00:00:00",
          "2021-05-05T00:00:00",
          "2021-05-06T00:00:00",
          "2021-05-07T00:00:00",
          "2021-05-08T00:00:00",
          "2021-05-09T00:00:00",
          "2021-05-10T00:00:00",
          "2021-05-11T00:00:00",
          "2021-05-12T00:00:00",
          "2021-05-13T00:00:00",
          "2021-05-14T00:00:00",
          "2021-05-15T00:00:00",
          "2021-05-16T00:00:00",
          "2021-05-17T00:00:00",
          "2021-05-18T00:00:00",
          "2021-05-19T00:00:00",
          "2021-05-20T00:00:00",
          "2021-05-21T00:00:00",
          "2021-05-22T00:00:00",
          "2021-05-23T00:00:00",
          "2021-05-24T00:00:00",
          "2021-05-25T00:00:00",
          "2021-05-26T00:00:00",
          "2021-05-27T00:00:00",
          "2021-05-28T00:00:00",
          "2021-05-29T00:00:00",
          "2021-05-30T00:00:00",
          "2021-05-31T00:00:00",
          "2021-06-01T00:00:00",
          "2021-06-02T00:00:00",
          "2021-06-03T00:00:00",
          "2021-06-04T00:00:00",
          "2021-06-05T00:00:00",
          "2021-06-06T00:00:00",
          "2021-06-07T00:00:00",
          "2021-06-08T00:00:00",
          "2021-06-09T00:00:00",
          "2021-06-10T00:00:00",
          "2021-06-11T00:00:00",
          "2021-06-12T00:00:00",
          "2021-06-13T00:00:00",
          "2021-06-14T00:00:00",
          "2021-06-15T00:00:00",
          "2021-06-16T00:00:00",
          "2021-06-17T00:00:00",
          "2021-06-18T00:00:00",
          "2021-06-19T00:00:00",
          "2021-06-20T00:00:00",
          "2021-06-21T00:00:00",
          "2021-06-22T00:00:00",
          "2021-06-23T00:00:00",
          "2021-06-24T00:00:00",
          "2021-06-25T00:00:00",
          "2021-06-26T00:00:00",
          "2021-06-27T00:00:00",
          "2021-06-28T00:00:00",
          "2021-06-29T00:00:00",
          "2021-06-30T00:00:00",
          "2021-07-01T00:00:00",
          "2021-07-02T00:00:00",
          "2021-07-03T00:00:00",
          "2021-07-04T00:00:00",
          "2021-07-05T00:00:00",
          "2021-07-06T00:00:00",
          "2021-07-07T00:00:00",
          "2021-07-08T00:00:00",
          "2021-07-09T00:00:00",
          "2021-07-10T00:00:00",
          "2021-07-11T00:00:00",
          "2021-07-12T00:00:00",
          "2021-07-13T00:00:00",
          "2021-07-14T00:00:00",
          "2021-07-15T00:00:00",
          "2021-07-16T00:00:00",
          "2021-07-17T00:00:00",
          "2021-07-19T00:00:00",
          "2021-07-20T00:00:00",
          "2021-07-21T00:00:00",
          "2021-07-22T00:00:00",
          "2021-07-23T00:00:00",
          "2021-07-24T00:00:00",
          "2021-07-25T00:00:00",
          "2021-07-26T00:00:00",
          "2021-07-27T00:00:00",
          "2021-07-28T00:00:00",
          "2021-07-29T00:00:00",
          "2021-07-30T00:00:00",
          "2021-07-31T00:00:00",
          "2021-08-01T00:00:00",
          "2021-08-02T00:00:00",
          "2021-08-03T00:00:00",
          "2021-08-04T00:00:00",
          "2021-08-05T00:00:00",
          "2021-08-06T00:00:00",
          "2021-08-07T00:00:00",
          "2021-08-08T00:00:00",
          "2021-08-09T00:00:00",
          "2021-08-10T00:00:00",
          "2021-08-11T00:00:00",
          "2021-08-12T00:00:00",
          "2021-08-13T00:00:00",
          "2021-08-14T00:00:00",
          "2021-08-15T00:00:00",
          "2021-08-16T00:00:00",
          "2021-08-17T00:00:00",
          "2021-08-18T00:00:00",
          "2021-08-19T00:00:00",
          "2021-08-20T00:00:00",
          "2021-08-21T00:00:00",
          "2021-08-22T00:00:00",
          "2021-08-23T00:00:00",
          "2021-08-24T00:00:00",
          "2021-08-25T00:00:00",
          "2021-08-26T00:00:00",
          "2021-08-27T00:00:00",
          "2021-08-28T00:00:00",
          "2021-08-29T00:00:00",
          "2021-08-30T00:00:00"
         ],
         "xaxis": "x",
         "y": [
          13,
          41,
          46,
          27,
          46,
          31,
          24,
          52,
          51,
          44,
          27,
          28,
          43,
          49,
          71,
          31,
          16,
          56,
          27,
          18,
          84,
          59,
          99,
          66,
          94,
          61,
          24,
          48,
          87,
          86,
          38,
          92,
          35,
          37,
          46,
          86,
          77,
          43,
          44,
          87,
          79,
          47,
          50,
          60,
          47,
          61,
          86,
          33,
          68,
          24,
          98,
          76,
          139,
          61,
          46,
          66,
          53,
          93,
          117,
          148,
          118,
          86,
          52,
          102,
          99,
          106,
          111,
          95,
          70,
          58,
          135,
          126,
          162,
          142,
          181,
          121,
          113,
          157,
          191,
          255,
          209,
          184,
          127,
          95,
          156,
          175,
          221,
          195,
          187,
          75,
          78,
          227,
          247,
          187,
          177,
          130,
          139,
          57,
          239,
          147,
          200,
          170,
          151,
          69,
          136,
          125,
          155,
          177,
          166,
          118,
          76,
          62,
          40,
          83,
          124,
          75,
          91,
          50,
          76,
          45,
          68,
          138,
          51,
          107,
          36,
          24,
          76,
          63,
          57,
          73,
          115,
          23,
          18,
          6,
          36,
          35,
          17,
          14,
          9,
          4,
          16,
          10,
          12,
          17,
          7,
          9,
          2,
          2,
          14,
          11,
          6,
          4,
          7,
          7,
          6,
          8,
          11,
          31,
          11,
          4,
          9,
          22,
          4,
          26,
          33,
          22,
          15,
          65,
          58,
          62,
          33,
          34,
          18,
          8,
          16,
          20,
          39,
          3,
          5,
          2,
          15,
          4
         ],
         "yaxis": "y"
        }
       ],
       "layout": {
        "barmode": "relative",
        "legend": {
         "title": {
          "text": "Contacto"
         },
         "tracegroupgap": 0
        },
        "margin": {
         "t": 60
        },
        "template": {
         "data": {
          "bar": [
           {
            "error_x": {
             "color": "rgb(36,36,36)"
            },
            "error_y": {
             "color": "rgb(36,36,36)"
            },
            "marker": {
             "line": {
              "color": "white",
              "width": 0.5
             }
            },
            "type": "bar"
           }
          ],
          "barpolar": [
           {
            "marker": {
             "line": {
              "color": "white",
              "width": 0.5
             }
            },
            "type": "barpolar"
           }
          ],
          "carpet": [
           {
            "aaxis": {
             "endlinecolor": "rgb(36,36,36)",
             "gridcolor": "white",
             "linecolor": "white",
             "minorgridcolor": "white",
             "startlinecolor": "rgb(36,36,36)"
            },
            "baxis": {
             "endlinecolor": "rgb(36,36,36)",
             "gridcolor": "white",
             "linecolor": "white",
             "minorgridcolor": "white",
             "startlinecolor": "rgb(36,36,36)"
            },
            "type": "carpet"
           }
          ],
          "choropleth": [
           {
            "colorbar": {
             "outlinewidth": 1,
             "tickcolor": "rgb(36,36,36)",
             "ticks": "outside"
            },
            "type": "choropleth"
           }
          ],
          "contour": [
           {
            "colorbar": {
             "outlinewidth": 1,
             "tickcolor": "rgb(36,36,36)",
             "ticks": "outside"
            },
            "colorscale": [
             [
              0,
              "#440154"
             ],
             [
              0.1111111111111111,
              "#482878"
             ],
             [
              0.2222222222222222,
              "#3e4989"
             ],
             [
              0.3333333333333333,
              "#31688e"
             ],
             [
              0.4444444444444444,
              "#26828e"
             ],
             [
              0.5555555555555556,
              "#1f9e89"
             ],
             [
              0.6666666666666666,
              "#35b779"
             ],
             [
              0.7777777777777778,
              "#6ece58"
             ],
             [
              0.8888888888888888,
              "#b5de2b"
             ],
             [
              1,
              "#fde725"
             ]
            ],
            "type": "contour"
           }
          ],
          "contourcarpet": [
           {
            "colorbar": {
             "outlinewidth": 1,
             "tickcolor": "rgb(36,36,36)",
             "ticks": "outside"
            },
            "type": "contourcarpet"
           }
          ],
          "heatmap": [
           {
            "colorbar": {
             "outlinewidth": 1,
             "tickcolor": "rgb(36,36,36)",
             "ticks": "outside"
            },
            "colorscale": [
             [
              0,
              "#440154"
             ],
             [
              0.1111111111111111,
              "#482878"
             ],
             [
              0.2222222222222222,
              "#3e4989"
             ],
             [
              0.3333333333333333,
              "#31688e"
             ],
             [
              0.4444444444444444,
              "#26828e"
             ],
             [
              0.5555555555555556,
              "#1f9e89"
             ],
             [
              0.6666666666666666,
              "#35b779"
             ],
             [
              0.7777777777777778,
              "#6ece58"
             ],
             [
              0.8888888888888888,
              "#b5de2b"
             ],
             [
              1,
              "#fde725"
             ]
            ],
            "type": "heatmap"
           }
          ],
          "heatmapgl": [
           {
            "colorbar": {
             "outlinewidth": 1,
             "tickcolor": "rgb(36,36,36)",
             "ticks": "outside"
            },
            "colorscale": [
             [
              0,
              "#440154"
             ],
             [
              0.1111111111111111,
              "#482878"
             ],
             [
              0.2222222222222222,
              "#3e4989"
             ],
             [
              0.3333333333333333,
              "#31688e"
             ],
             [
              0.4444444444444444,
              "#26828e"
             ],
             [
              0.5555555555555556,
              "#1f9e89"
             ],
             [
              0.6666666666666666,
              "#35b779"
             ],
             [
              0.7777777777777778,
              "#6ece58"
             ],
             [
              0.8888888888888888,
              "#b5de2b"
             ],
             [
              1,
              "#fde725"
             ]
            ],
            "type": "heatmapgl"
           }
          ],
          "histogram": [
           {
            "marker": {
             "line": {
              "color": "white",
              "width": 0.6
             }
            },
            "type": "histogram"
           }
          ],
          "histogram2d": [
           {
            "colorbar": {
             "outlinewidth": 1,
             "tickcolor": "rgb(36,36,36)",
             "ticks": "outside"
            },
            "colorscale": [
             [
              0,
              "#440154"
             ],
             [
              0.1111111111111111,
              "#482878"
             ],
             [
              0.2222222222222222,
              "#3e4989"
             ],
             [
              0.3333333333333333,
              "#31688e"
             ],
             [
              0.4444444444444444,
              "#26828e"
             ],
             [
              0.5555555555555556,
              "#1f9e89"
             ],
             [
              0.6666666666666666,
              "#35b779"
             ],
             [
              0.7777777777777778,
              "#6ece58"
             ],
             [
              0.8888888888888888,
              "#b5de2b"
             ],
             [
              1,
              "#fde725"
             ]
            ],
            "type": "histogram2d"
           }
          ],
          "histogram2dcontour": [
           {
            "colorbar": {
             "outlinewidth": 1,
             "tickcolor": "rgb(36,36,36)",
             "ticks": "outside"
            },
            "colorscale": [
             [
              0,
              "#440154"
             ],
             [
              0.1111111111111111,
              "#482878"
             ],
             [
              0.2222222222222222,
              "#3e4989"
             ],
             [
              0.3333333333333333,
              "#31688e"
             ],
             [
              0.4444444444444444,
              "#26828e"
             ],
             [
              0.5555555555555556,
              "#1f9e89"
             ],
             [
              0.6666666666666666,
              "#35b779"
             ],
             [
              0.7777777777777778,
              "#6ece58"
             ],
             [
              0.8888888888888888,
              "#b5de2b"
             ],
             [
              1,
              "#fde725"
             ]
            ],
            "type": "histogram2dcontour"
           }
          ],
          "mesh3d": [
           {
            "colorbar": {
             "outlinewidth": 1,
             "tickcolor": "rgb(36,36,36)",
             "ticks": "outside"
            },
            "type": "mesh3d"
           }
          ],
          "parcoords": [
           {
            "line": {
             "colorbar": {
              "outlinewidth": 1,
              "tickcolor": "rgb(36,36,36)",
              "ticks": "outside"
             }
            },
            "type": "parcoords"
           }
          ],
          "pie": [
           {
            "automargin": true,
            "type": "pie"
           }
          ],
          "scatter": [
           {
            "marker": {
             "colorbar": {
              "outlinewidth": 1,
              "tickcolor": "rgb(36,36,36)",
              "ticks": "outside"
             }
            },
            "type": "scatter"
           }
          ],
          "scatter3d": [
           {
            "line": {
             "colorbar": {
              "outlinewidth": 1,
              "tickcolor": "rgb(36,36,36)",
              "ticks": "outside"
             }
            },
            "marker": {
             "colorbar": {
              "outlinewidth": 1,
              "tickcolor": "rgb(36,36,36)",
              "ticks": "outside"
             }
            },
            "type": "scatter3d"
           }
          ],
          "scattercarpet": [
           {
            "marker": {
             "colorbar": {
              "outlinewidth": 1,
              "tickcolor": "rgb(36,36,36)",
              "ticks": "outside"
             }
            },
            "type": "scattercarpet"
           }
          ],
          "scattergeo": [
           {
            "marker": {
             "colorbar": {
              "outlinewidth": 1,
              "tickcolor": "rgb(36,36,36)",
              "ticks": "outside"
             }
            },
            "type": "scattergeo"
           }
          ],
          "scattergl": [
           {
            "marker": {
             "colorbar": {
              "outlinewidth": 1,
              "tickcolor": "rgb(36,36,36)",
              "ticks": "outside"
             }
            },
            "type": "scattergl"
           }
          ],
          "scattermapbox": [
           {
            "marker": {
             "colorbar": {
              "outlinewidth": 1,
              "tickcolor": "rgb(36,36,36)",
              "ticks": "outside"
             }
            },
            "type": "scattermapbox"
           }
          ],
          "scatterpolar": [
           {
            "marker": {
             "colorbar": {
              "outlinewidth": 1,
              "tickcolor": "rgb(36,36,36)",
              "ticks": "outside"
             }
            },
            "type": "scatterpolar"
           }
          ],
          "scatterpolargl": [
           {
            "marker": {
             "colorbar": {
              "outlinewidth": 1,
              "tickcolor": "rgb(36,36,36)",
              "ticks": "outside"
             }
            },
            "type": "scatterpolargl"
           }
          ],
          "scatterternary": [
           {
            "marker": {
             "colorbar": {
              "outlinewidth": 1,
              "tickcolor": "rgb(36,36,36)",
              "ticks": "outside"
             }
            },
            "type": "scatterternary"
           }
          ],
          "surface": [
           {
            "colorbar": {
             "outlinewidth": 1,
             "tickcolor": "rgb(36,36,36)",
             "ticks": "outside"
            },
            "colorscale": [
             [
              0,
              "#440154"
             ],
             [
              0.1111111111111111,
              "#482878"
             ],
             [
              0.2222222222222222,
              "#3e4989"
             ],
             [
              0.3333333333333333,
              "#31688e"
             ],
             [
              0.4444444444444444,
              "#26828e"
             ],
             [
              0.5555555555555556,
              "#1f9e89"
             ],
             [
              0.6666666666666666,
              "#35b779"
             ],
             [
              0.7777777777777778,
              "#6ece58"
             ],
             [
              0.8888888888888888,
              "#b5de2b"
             ],
             [
              1,
              "#fde725"
             ]
            ],
            "type": "surface"
           }
          ],
          "table": [
           {
            "cells": {
             "fill": {
              "color": "rgb(237,237,237)"
             },
             "line": {
              "color": "white"
             }
            },
            "header": {
             "fill": {
              "color": "rgb(217,217,217)"
             },
             "line": {
              "color": "white"
             }
            },
            "type": "table"
           }
          ]
         },
         "layout": {
          "annotationdefaults": {
           "arrowhead": 0,
           "arrowwidth": 1
          },
          "autotypenumbers": "strict",
          "coloraxis": {
           "colorbar": {
            "outlinewidth": 1,
            "tickcolor": "rgb(36,36,36)",
            "ticks": "outside"
           }
          },
          "colorscale": {
           "diverging": [
            [
             0,
             "rgb(103,0,31)"
            ],
            [
             0.1,
             "rgb(178,24,43)"
            ],
            [
             0.2,
             "rgb(214,96,77)"
            ],
            [
             0.3,
             "rgb(244,165,130)"
            ],
            [
             0.4,
             "rgb(253,219,199)"
            ],
            [
             0.5,
             "rgb(247,247,247)"
            ],
            [
             0.6,
             "rgb(209,229,240)"
            ],
            [
             0.7,
             "rgb(146,197,222)"
            ],
            [
             0.8,
             "rgb(67,147,195)"
            ],
            [
             0.9,
             "rgb(33,102,172)"
            ],
            [
             1,
             "rgb(5,48,97)"
            ]
           ],
           "sequential": [
            [
             0,
             "#440154"
            ],
            [
             0.1111111111111111,
             "#482878"
            ],
            [
             0.2222222222222222,
             "#3e4989"
            ],
            [
             0.3333333333333333,
             "#31688e"
            ],
            [
             0.4444444444444444,
             "#26828e"
            ],
            [
             0.5555555555555556,
             "#1f9e89"
            ],
            [
             0.6666666666666666,
             "#35b779"
            ],
            [
             0.7777777777777778,
             "#6ece58"
            ],
            [
             0.8888888888888888,
             "#b5de2b"
            ],
            [
             1,
             "#fde725"
            ]
           ],
           "sequentialminus": [
            [
             0,
             "#440154"
            ],
            [
             0.1111111111111111,
             "#482878"
            ],
            [
             0.2222222222222222,
             "#3e4989"
            ],
            [
             0.3333333333333333,
             "#31688e"
            ],
            [
             0.4444444444444444,
             "#26828e"
            ],
            [
             0.5555555555555556,
             "#1f9e89"
            ],
            [
             0.6666666666666666,
             "#35b779"
            ],
            [
             0.7777777777777778,
             "#6ece58"
            ],
            [
             0.8888888888888888,
             "#b5de2b"
            ],
            [
             1,
             "#fde725"
            ]
           ]
          },
          "colorway": [
           "#1F77B4",
           "#FF7F0E",
           "#2CA02C",
           "#D62728",
           "#9467BD",
           "#8C564B",
           "#E377C2",
           "#7F7F7F",
           "#BCBD22",
           "#17BECF"
          ],
          "font": {
           "color": "rgb(36,36,36)"
          },
          "geo": {
           "bgcolor": "white",
           "lakecolor": "white",
           "landcolor": "white",
           "showlakes": true,
           "showland": true,
           "subunitcolor": "white"
          },
          "hoverlabel": {
           "align": "left"
          },
          "hovermode": "closest",
          "mapbox": {
           "style": "light"
          },
          "paper_bgcolor": "white",
          "plot_bgcolor": "white",
          "polar": {
           "angularaxis": {
            "gridcolor": "rgb(232,232,232)",
            "linecolor": "rgb(36,36,36)",
            "showgrid": false,
            "showline": true,
            "ticks": "outside"
           },
           "bgcolor": "white",
           "radialaxis": {
            "gridcolor": "rgb(232,232,232)",
            "linecolor": "rgb(36,36,36)",
            "showgrid": false,
            "showline": true,
            "ticks": "outside"
           }
          },
          "scene": {
           "xaxis": {
            "backgroundcolor": "white",
            "gridcolor": "rgb(232,232,232)",
            "gridwidth": 2,
            "linecolor": "rgb(36,36,36)",
            "showbackground": true,
            "showgrid": false,
            "showline": true,
            "ticks": "outside",
            "zeroline": false,
            "zerolinecolor": "rgb(36,36,36)"
           },
           "yaxis": {
            "backgroundcolor": "white",
            "gridcolor": "rgb(232,232,232)",
            "gridwidth": 2,
            "linecolor": "rgb(36,36,36)",
            "showbackground": true,
            "showgrid": false,
            "showline": true,
            "ticks": "outside",
            "zeroline": false,
            "zerolinecolor": "rgb(36,36,36)"
           },
           "zaxis": {
            "backgroundcolor": "white",
            "gridcolor": "rgb(232,232,232)",
            "gridwidth": 2,
            "linecolor": "rgb(36,36,36)",
            "showbackground": true,
            "showgrid": false,
            "showline": true,
            "ticks": "outside",
            "zeroline": false,
            "zerolinecolor": "rgb(36,36,36)"
           }
          },
          "shapedefaults": {
           "fillcolor": "black",
           "line": {
            "width": 0
           },
           "opacity": 0.3
          },
          "ternary": {
           "aaxis": {
            "gridcolor": "rgb(232,232,232)",
            "linecolor": "rgb(36,36,36)",
            "showgrid": false,
            "showline": true,
            "ticks": "outside"
           },
           "baxis": {
            "gridcolor": "rgb(232,232,232)",
            "linecolor": "rgb(36,36,36)",
            "showgrid": false,
            "showline": true,
            "ticks": "outside"
           },
           "bgcolor": "white",
           "caxis": {
            "gridcolor": "rgb(232,232,232)",
            "linecolor": "rgb(36,36,36)",
            "showgrid": false,
            "showline": true,
            "ticks": "outside"
           }
          },
          "title": {
           "x": 0.05
          },
          "xaxis": {
           "automargin": true,
           "gridcolor": "rgb(232,232,232)",
           "linecolor": "rgb(36,36,36)",
           "showgrid": false,
           "showline": true,
           "ticks": "outside",
           "title": {
            "standoff": 15
           },
           "zeroline": false,
           "zerolinecolor": "rgb(36,36,36)"
          },
          "yaxis": {
           "automargin": true,
           "gridcolor": "rgb(232,232,232)",
           "linecolor": "rgb(36,36,36)",
           "showgrid": false,
           "showline": true,
           "ticks": "outside",
           "title": {
            "standoff": 15
           },
           "zeroline": false,
           "zerolinecolor": "rgb(36,36,36)"
          }
         }
        },
        "title": {
         "text": "Casos de la Región de Aysén con contactos estrechos"
        },
        "xaxis": {
         "anchor": "y",
         "domain": [
          0,
          1
         ],
         "title": {
          "text": "Fecha"
         }
        },
        "yaxis": {
         "anchor": "x",
         "domain": [
          0,
          1
         ],
         "title": {
          "text": "Número de casos"
         }
        }
       }
      },
      "text/html": [
       "<div>                            <div id=\"d02c2f78-57fe-43e4-8b24-11a3e04836e4\" class=\"plotly-graph-div\" style=\"height:525px; width:100%;\"></div>            <script type=\"text/javascript\">                require([\"plotly\"], function(Plotly) {                    window.PLOTLYENV=window.PLOTLYENV || {};                                    if (document.getElementById(\"d02c2f78-57fe-43e4-8b24-11a3e04836e4\")) {                    Plotly.newPlot(                        \"d02c2f78-57fe-43e4-8b24-11a3e04836e4\",                        [{\"alignmentgroup\": \"True\", \"hovertemplate\": \"Contacto=False<br>fecha_cumple_requisitos=%{x}<br>n_folio=%{y}<extra></extra>\", \"legendgroup\": \"False\", \"marker\": {\"color\": \"#636efa\"}, \"name\": \"False\", \"offsetgroup\": \"False\", \"orientation\": \"v\", \"showlegend\": true, \"textposition\": \"auto\", \"type\": \"bar\", \"x\": [\"2021-03-01T00:00:00\", \"2021-03-02T00:00:00\", \"2021-03-03T00:00:00\", \"2021-03-04T00:00:00\", \"2021-03-05T00:00:00\", \"2021-03-06T00:00:00\", \"2021-03-07T00:00:00\", \"2021-03-08T00:00:00\", \"2021-03-09T00:00:00\", \"2021-03-10T00:00:00\", \"2021-03-11T00:00:00\", \"2021-03-12T00:00:00\", \"2021-03-13T00:00:00\", \"2021-03-14T00:00:00\", \"2021-03-15T00:00:00\", \"2021-03-16T00:00:00\", \"2021-03-17T00:00:00\", \"2021-03-18T00:00:00\", \"2021-03-19T00:00:00\", \"2021-03-20T00:00:00\", \"2021-03-21T00:00:00\", \"2021-03-22T00:00:00\", \"2021-03-23T00:00:00\", \"2021-03-24T00:00:00\", \"2021-03-25T00:00:00\", \"2021-03-26T00:00:00\", \"2021-03-27T00:00:00\", \"2021-03-28T00:00:00\", \"2021-03-29T00:00:00\", \"2021-03-30T00:00:00\", \"2021-03-31T00:00:00\", \"2021-04-01T00:00:00\", \"2021-04-02T00:00:00\", \"2021-04-03T00:00:00\", \"2021-04-04T00:00:00\", \"2021-04-05T00:00:00\", \"2021-04-06T00:00:00\", \"2021-04-07T00:00:00\", \"2021-04-08T00:00:00\", \"2021-04-09T00:00:00\", \"2021-04-10T00:00:00\", \"2021-04-11T00:00:00\", \"2021-04-12T00:00:00\", \"2021-04-13T00:00:00\", \"2021-04-14T00:00:00\", \"2021-04-15T00:00:00\", \"2021-04-16T00:00:00\", \"2021-04-17T00:00:00\", \"2021-04-18T00:00:00\", \"2021-04-19T00:00:00\", \"2021-04-20T00:00:00\", \"2021-04-21T00:00:00\", \"2021-04-22T00:00:00\", \"2021-04-23T00:00:00\", \"2021-04-24T00:00:00\", \"2021-04-25T00:00:00\", \"2021-04-26T00:00:00\", \"2021-04-27T00:00:00\", \"2021-04-28T00:00:00\", \"2021-04-29T00:00:00\", \"2021-04-30T00:00:00\", \"2021-05-01T00:00:00\", \"2021-05-02T00:00:00\", \"2021-05-03T00:00:00\", \"2021-05-04T00:00:00\", \"2021-05-05T00:00:00\", \"2021-05-06T00:00:00\", \"2021-05-07T00:00:00\", \"2021-05-08T00:00:00\", \"2021-05-09T00:00:00\", \"2021-05-10T00:00:00\", \"2021-05-11T00:00:00\", \"2021-05-12T00:00:00\", \"2021-05-13T00:00:00\", \"2021-05-14T00:00:00\", \"2021-05-15T00:00:00\", \"2021-05-16T00:00:00\", \"2021-05-17T00:00:00\", \"2021-05-18T00:00:00\", \"2021-05-19T00:00:00\", \"2021-05-20T00:00:00\", \"2021-05-21T00:00:00\", \"2021-05-22T00:00:00\", \"2021-05-23T00:00:00\", \"2021-05-24T00:00:00\", \"2021-05-25T00:00:00\", \"2021-05-26T00:00:00\", \"2021-05-27T00:00:00\", \"2021-05-28T00:00:00\", \"2021-05-29T00:00:00\", \"2021-05-30T00:00:00\", \"2021-05-31T00:00:00\", \"2021-06-01T00:00:00\", \"2021-06-02T00:00:00\", \"2021-06-03T00:00:00\", \"2021-06-04T00:00:00\", \"2021-06-05T00:00:00\", \"2021-06-06T00:00:00\", \"2021-06-07T00:00:00\", \"2021-06-08T00:00:00\", \"2021-06-09T00:00:00\", \"2021-06-10T00:00:00\", \"2021-06-11T00:00:00\", \"2021-06-12T00:00:00\", \"2021-06-13T00:00:00\", \"2021-06-14T00:00:00\", \"2021-06-15T00:00:00\", \"2021-06-16T00:00:00\", \"2021-06-17T00:00:00\", \"2021-06-18T00:00:00\", \"2021-06-19T00:00:00\", \"2021-06-20T00:00:00\", \"2021-06-21T00:00:00\", \"2021-06-22T00:00:00\", \"2021-06-23T00:00:00\", \"2021-06-24T00:00:00\", \"2021-06-25T00:00:00\", \"2021-06-26T00:00:00\", \"2021-06-27T00:00:00\", \"2021-06-28T00:00:00\", \"2021-06-29T00:00:00\", \"2021-06-30T00:00:00\", \"2021-07-01T00:00:00\", \"2021-07-02T00:00:00\", \"2021-07-03T00:00:00\", \"2021-07-04T00:00:00\", \"2021-07-05T00:00:00\", \"2021-07-06T00:00:00\", \"2021-07-07T00:00:00\", \"2021-07-08T00:00:00\", \"2021-07-09T00:00:00\", \"2021-07-10T00:00:00\", \"2021-07-11T00:00:00\", \"2021-07-12T00:00:00\", \"2021-07-13T00:00:00\", \"2021-07-14T00:00:00\", \"2021-07-15T00:00:00\", \"2021-07-16T00:00:00\", \"2021-07-17T00:00:00\", \"2021-07-18T00:00:00\", \"2021-07-19T00:00:00\", \"2021-07-20T00:00:00\", \"2021-07-21T00:00:00\", \"2021-07-22T00:00:00\", \"2021-07-23T00:00:00\", \"2021-07-24T00:00:00\", \"2021-07-25T00:00:00\", \"2021-07-26T00:00:00\", \"2021-07-27T00:00:00\", \"2021-07-28T00:00:00\", \"2021-07-29T00:00:00\", \"2021-07-30T00:00:00\", \"2021-07-31T00:00:00\", \"2021-08-01T00:00:00\", \"2021-08-02T00:00:00\", \"2021-08-03T00:00:00\", \"2021-08-04T00:00:00\", \"2021-08-05T00:00:00\", \"2021-08-06T00:00:00\", \"2021-08-07T00:00:00\", \"2021-08-08T00:00:00\", \"2021-08-09T00:00:00\", \"2021-08-10T00:00:00\", \"2021-08-11T00:00:00\", \"2021-08-12T00:00:00\", \"2021-08-13T00:00:00\", \"2021-08-14T00:00:00\", \"2021-08-15T00:00:00\", \"2021-08-16T00:00:00\", \"2021-08-17T00:00:00\", \"2021-08-18T00:00:00\", \"2021-08-19T00:00:00\", \"2021-08-20T00:00:00\", \"2021-08-21T00:00:00\", \"2021-08-22T00:00:00\", \"2021-08-23T00:00:00\", \"2021-08-24T00:00:00\", \"2021-08-25T00:00:00\", \"2021-08-26T00:00:00\", \"2021-08-27T00:00:00\", \"2021-08-28T00:00:00\", \"2021-08-29T00:00:00\", \"2021-08-30T00:00:00\", \"2021-08-31T00:00:00\"], \"xaxis\": \"x\", \"y\": [14, 21, 10, 12, 13, 5, 12, 10, 12, 21, 12, 14, 6, 10, 15, 21, 8, 23, 10, 16, 15, 15, 20, 12, 16, 25, 9, 11, 31, 21, 13, 20, 16, 21, 9, 33, 48, 23, 30, 24, 35, 11, 24, 15, 19, 14, 25, 27, 14, 26, 50, 42, 31, 33, 25, 26, 43, 47, 61, 75, 46, 14, 16, 56, 50, 56, 46, 35, 25, 36, 46, 51, 46, 75, 68, 49, 31, 77, 76, 96, 136, 46, 64, 33, 108, 97, 93, 80, 97, 84, 74, 119, 174, 87, 82, 68, 43, 32, 67, 55, 65, 99, 76, 48, 33, 66, 56, 81, 68, 69, 35, 22, 17, 42, 44, 47, 42, 26, 14, 19, 32, 42, 32, 36, 9, 12, 33, 37, 27, 41, 55, 31, 6, 1, 14, 6, 8, 4, 6, 1, 8, 4, 1, 6, 6, 2, 1, 4, 3, 10, 3, 4, 1, 4, 5, 3, 5, 10, 30, 29, 2, 4, 1, 4, 7, 2, 6, 11, 11, 6, 15, 8, 16, 7, 3, 17, 13, 7, 14, 11, 4, 5, 78, 6], \"yaxis\": \"y\"}, {\"alignmentgroup\": \"True\", \"hovertemplate\": \"Contacto=True<br>fecha_cumple_requisitos=%{x}<br>n_folio=%{y}<extra></extra>\", \"legendgroup\": \"True\", \"marker\": {\"color\": \"#EF553B\"}, \"name\": \"True\", \"offsetgroup\": \"True\", \"orientation\": \"v\", \"showlegend\": true, \"textposition\": \"auto\", \"type\": \"bar\", \"x\": [\"2021-03-01T00:00:00\", \"2021-03-02T00:00:00\", \"2021-03-03T00:00:00\", \"2021-03-04T00:00:00\", \"2021-03-05T00:00:00\", \"2021-03-06T00:00:00\", \"2021-03-07T00:00:00\", \"2021-03-08T00:00:00\", \"2021-03-09T00:00:00\", \"2021-03-10T00:00:00\", \"2021-03-11T00:00:00\", \"2021-03-12T00:00:00\", \"2021-03-13T00:00:00\", \"2021-03-14T00:00:00\", \"2021-03-15T00:00:00\", \"2021-03-16T00:00:00\", \"2021-03-17T00:00:00\", \"2021-03-18T00:00:00\", \"2021-03-19T00:00:00\", \"2021-03-20T00:00:00\", \"2021-03-21T00:00:00\", \"2021-03-22T00:00:00\", \"2021-03-23T00:00:00\", \"2021-03-24T00:00:00\", \"2021-03-25T00:00:00\", \"2021-03-26T00:00:00\", \"2021-03-27T00:00:00\", \"2021-03-28T00:00:00\", \"2021-03-29T00:00:00\", \"2021-03-30T00:00:00\", \"2021-03-31T00:00:00\", \"2021-04-01T00:00:00\", \"2021-04-02T00:00:00\", \"2021-04-03T00:00:00\", \"2021-04-04T00:00:00\", \"2021-04-05T00:00:00\", \"2021-04-06T00:00:00\", \"2021-04-07T00:00:00\", \"2021-04-08T00:00:00\", \"2021-04-09T00:00:00\", \"2021-04-10T00:00:00\", \"2021-04-11T00:00:00\", \"2021-04-12T00:00:00\", \"2021-04-13T00:00:00\", \"2021-04-14T00:00:00\", \"2021-04-15T00:00:00\", \"2021-04-16T00:00:00\", \"2021-04-17T00:00:00\", \"2021-04-18T00:00:00\", \"2021-04-19T00:00:00\", \"2021-04-20T00:00:00\", \"2021-04-21T00:00:00\", \"2021-04-22T00:00:00\", \"2021-04-23T00:00:00\", \"2021-04-24T00:00:00\", \"2021-04-25T00:00:00\", \"2021-04-26T00:00:00\", \"2021-04-27T00:00:00\", \"2021-04-28T00:00:00\", \"2021-04-29T00:00:00\", \"2021-04-30T00:00:00\", \"2021-05-01T00:00:00\", \"2021-05-02T00:00:00\", \"2021-05-03T00:00:00\", \"2021-05-04T00:00:00\", \"2021-05-05T00:00:00\", \"2021-05-06T00:00:00\", \"2021-05-07T00:00:00\", \"2021-05-08T00:00:00\", \"2021-05-09T00:00:00\", \"2021-05-10T00:00:00\", \"2021-05-11T00:00:00\", \"2021-05-12T00:00:00\", \"2021-05-13T00:00:00\", \"2021-05-14T00:00:00\", \"2021-05-15T00:00:00\", \"2021-05-16T00:00:00\", \"2021-05-17T00:00:00\", \"2021-05-18T00:00:00\", \"2021-05-19T00:00:00\", \"2021-05-20T00:00:00\", \"2021-05-21T00:00:00\", \"2021-05-22T00:00:00\", \"2021-05-23T00:00:00\", \"2021-05-24T00:00:00\", \"2021-05-25T00:00:00\", \"2021-05-26T00:00:00\", \"2021-05-27T00:00:00\", \"2021-05-28T00:00:00\", \"2021-05-29T00:00:00\", \"2021-05-30T00:00:00\", \"2021-05-31T00:00:00\", \"2021-06-01T00:00:00\", \"2021-06-02T00:00:00\", \"2021-06-03T00:00:00\", \"2021-06-04T00:00:00\", \"2021-06-05T00:00:00\", \"2021-06-06T00:00:00\", \"2021-06-07T00:00:00\", \"2021-06-08T00:00:00\", \"2021-06-09T00:00:00\", \"2021-06-10T00:00:00\", \"2021-06-11T00:00:00\", \"2021-06-12T00:00:00\", \"2021-06-13T00:00:00\", \"2021-06-14T00:00:00\", \"2021-06-15T00:00:00\", \"2021-06-16T00:00:00\", \"2021-06-17T00:00:00\", \"2021-06-18T00:00:00\", \"2021-06-19T00:00:00\", \"2021-06-20T00:00:00\", \"2021-06-21T00:00:00\", \"2021-06-22T00:00:00\", \"2021-06-23T00:00:00\", \"2021-06-24T00:00:00\", \"2021-06-25T00:00:00\", \"2021-06-26T00:00:00\", \"2021-06-27T00:00:00\", \"2021-06-28T00:00:00\", \"2021-06-29T00:00:00\", \"2021-06-30T00:00:00\", \"2021-07-01T00:00:00\", \"2021-07-02T00:00:00\", \"2021-07-03T00:00:00\", \"2021-07-04T00:00:00\", \"2021-07-05T00:00:00\", \"2021-07-06T00:00:00\", \"2021-07-07T00:00:00\", \"2021-07-08T00:00:00\", \"2021-07-09T00:00:00\", \"2021-07-10T00:00:00\", \"2021-07-11T00:00:00\", \"2021-07-12T00:00:00\", \"2021-07-13T00:00:00\", \"2021-07-14T00:00:00\", \"2021-07-15T00:00:00\", \"2021-07-16T00:00:00\", \"2021-07-17T00:00:00\", \"2021-07-19T00:00:00\", \"2021-07-20T00:00:00\", \"2021-07-21T00:00:00\", \"2021-07-22T00:00:00\", \"2021-07-23T00:00:00\", \"2021-07-24T00:00:00\", \"2021-07-25T00:00:00\", \"2021-07-26T00:00:00\", \"2021-07-27T00:00:00\", \"2021-07-28T00:00:00\", \"2021-07-29T00:00:00\", \"2021-07-30T00:00:00\", \"2021-07-31T00:00:00\", \"2021-08-01T00:00:00\", \"2021-08-02T00:00:00\", \"2021-08-03T00:00:00\", \"2021-08-04T00:00:00\", \"2021-08-05T00:00:00\", \"2021-08-06T00:00:00\", \"2021-08-07T00:00:00\", \"2021-08-08T00:00:00\", \"2021-08-09T00:00:00\", \"2021-08-10T00:00:00\", \"2021-08-11T00:00:00\", \"2021-08-12T00:00:00\", \"2021-08-13T00:00:00\", \"2021-08-14T00:00:00\", \"2021-08-15T00:00:00\", \"2021-08-16T00:00:00\", \"2021-08-17T00:00:00\", \"2021-08-18T00:00:00\", \"2021-08-19T00:00:00\", \"2021-08-20T00:00:00\", \"2021-08-21T00:00:00\", \"2021-08-22T00:00:00\", \"2021-08-23T00:00:00\", \"2021-08-24T00:00:00\", \"2021-08-25T00:00:00\", \"2021-08-26T00:00:00\", \"2021-08-27T00:00:00\", \"2021-08-28T00:00:00\", \"2021-08-29T00:00:00\", \"2021-08-30T00:00:00\"], \"xaxis\": \"x\", \"y\": [13, 41, 46, 27, 46, 31, 24, 52, 51, 44, 27, 28, 43, 49, 71, 31, 16, 56, 27, 18, 84, 59, 99, 66, 94, 61, 24, 48, 87, 86, 38, 92, 35, 37, 46, 86, 77, 43, 44, 87, 79, 47, 50, 60, 47, 61, 86, 33, 68, 24, 98, 76, 139, 61, 46, 66, 53, 93, 117, 148, 118, 86, 52, 102, 99, 106, 111, 95, 70, 58, 135, 126, 162, 142, 181, 121, 113, 157, 191, 255, 209, 184, 127, 95, 156, 175, 221, 195, 187, 75, 78, 227, 247, 187, 177, 130, 139, 57, 239, 147, 200, 170, 151, 69, 136, 125, 155, 177, 166, 118, 76, 62, 40, 83, 124, 75, 91, 50, 76, 45, 68, 138, 51, 107, 36, 24, 76, 63, 57, 73, 115, 23, 18, 6, 36, 35, 17, 14, 9, 4, 16, 10, 12, 17, 7, 9, 2, 2, 14, 11, 6, 4, 7, 7, 6, 8, 11, 31, 11, 4, 9, 22, 4, 26, 33, 22, 15, 65, 58, 62, 33, 34, 18, 8, 16, 20, 39, 3, 5, 2, 15, 4], \"yaxis\": \"y\"}],                        {\"barmode\": \"relative\", \"legend\": {\"title\": {\"text\": \"Contacto\"}, \"tracegroupgap\": 0}, \"margin\": {\"t\": 60}, \"template\": {\"data\": {\"bar\": [{\"error_x\": {\"color\": \"rgb(36,36,36)\"}, \"error_y\": {\"color\": \"rgb(36,36,36)\"}, \"marker\": {\"line\": {\"color\": \"white\", \"width\": 0.5}}, \"type\": \"bar\"}], \"barpolar\": [{\"marker\": {\"line\": {\"color\": \"white\", \"width\": 0.5}}, \"type\": \"barpolar\"}], \"carpet\": [{\"aaxis\": {\"endlinecolor\": \"rgb(36,36,36)\", \"gridcolor\": \"white\", \"linecolor\": \"white\", \"minorgridcolor\": \"white\", \"startlinecolor\": \"rgb(36,36,36)\"}, \"baxis\": {\"endlinecolor\": \"rgb(36,36,36)\", \"gridcolor\": \"white\", \"linecolor\": \"white\", \"minorgridcolor\": \"white\", \"startlinecolor\": \"rgb(36,36,36)\"}, \"type\": \"carpet\"}], \"choropleth\": [{\"colorbar\": {\"outlinewidth\": 1, \"tickcolor\": \"rgb(36,36,36)\", \"ticks\": \"outside\"}, \"type\": \"choropleth\"}], \"contour\": [{\"colorbar\": {\"outlinewidth\": 1, \"tickcolor\": \"rgb(36,36,36)\", \"ticks\": \"outside\"}, \"colorscale\": [[0.0, \"#440154\"], [0.1111111111111111, \"#482878\"], [0.2222222222222222, \"#3e4989\"], [0.3333333333333333, \"#31688e\"], [0.4444444444444444, \"#26828e\"], [0.5555555555555556, \"#1f9e89\"], [0.6666666666666666, \"#35b779\"], [0.7777777777777778, \"#6ece58\"], [0.8888888888888888, \"#b5de2b\"], [1.0, \"#fde725\"]], \"type\": \"contour\"}], \"contourcarpet\": [{\"colorbar\": {\"outlinewidth\": 1, \"tickcolor\": \"rgb(36,36,36)\", \"ticks\": \"outside\"}, \"type\": \"contourcarpet\"}], \"heatmap\": [{\"colorbar\": {\"outlinewidth\": 1, \"tickcolor\": \"rgb(36,36,36)\", \"ticks\": \"outside\"}, \"colorscale\": [[0.0, \"#440154\"], [0.1111111111111111, \"#482878\"], [0.2222222222222222, \"#3e4989\"], [0.3333333333333333, \"#31688e\"], [0.4444444444444444, \"#26828e\"], [0.5555555555555556, \"#1f9e89\"], [0.6666666666666666, \"#35b779\"], [0.7777777777777778, \"#6ece58\"], [0.8888888888888888, \"#b5de2b\"], [1.0, \"#fde725\"]], \"type\": \"heatmap\"}], \"heatmapgl\": [{\"colorbar\": {\"outlinewidth\": 1, \"tickcolor\": \"rgb(36,36,36)\", \"ticks\": \"outside\"}, \"colorscale\": [[0.0, \"#440154\"], [0.1111111111111111, \"#482878\"], [0.2222222222222222, \"#3e4989\"], [0.3333333333333333, \"#31688e\"], [0.4444444444444444, \"#26828e\"], [0.5555555555555556, \"#1f9e89\"], [0.6666666666666666, \"#35b779\"], [0.7777777777777778, \"#6ece58\"], [0.8888888888888888, \"#b5de2b\"], [1.0, \"#fde725\"]], \"type\": \"heatmapgl\"}], \"histogram\": [{\"marker\": {\"line\": {\"color\": \"white\", \"width\": 0.6}}, \"type\": \"histogram\"}], \"histogram2d\": [{\"colorbar\": {\"outlinewidth\": 1, \"tickcolor\": \"rgb(36,36,36)\", \"ticks\": \"outside\"}, \"colorscale\": [[0.0, \"#440154\"], [0.1111111111111111, \"#482878\"], [0.2222222222222222, \"#3e4989\"], [0.3333333333333333, \"#31688e\"], [0.4444444444444444, \"#26828e\"], [0.5555555555555556, \"#1f9e89\"], [0.6666666666666666, \"#35b779\"], [0.7777777777777778, \"#6ece58\"], [0.8888888888888888, \"#b5de2b\"], [1.0, \"#fde725\"]], \"type\": \"histogram2d\"}], \"histogram2dcontour\": [{\"colorbar\": {\"outlinewidth\": 1, \"tickcolor\": \"rgb(36,36,36)\", \"ticks\": \"outside\"}, \"colorscale\": [[0.0, \"#440154\"], [0.1111111111111111, \"#482878\"], [0.2222222222222222, \"#3e4989\"], [0.3333333333333333, \"#31688e\"], [0.4444444444444444, \"#26828e\"], [0.5555555555555556, \"#1f9e89\"], [0.6666666666666666, \"#35b779\"], [0.7777777777777778, \"#6ece58\"], [0.8888888888888888, \"#b5de2b\"], [1.0, \"#fde725\"]], \"type\": \"histogram2dcontour\"}], \"mesh3d\": [{\"colorbar\": {\"outlinewidth\": 1, \"tickcolor\": \"rgb(36,36,36)\", \"ticks\": \"outside\"}, \"type\": \"mesh3d\"}], \"parcoords\": [{\"line\": {\"colorbar\": {\"outlinewidth\": 1, \"tickcolor\": \"rgb(36,36,36)\", \"ticks\": \"outside\"}}, \"type\": \"parcoords\"}], \"pie\": [{\"automargin\": true, \"type\": \"pie\"}], \"scatter\": [{\"marker\": {\"colorbar\": {\"outlinewidth\": 1, \"tickcolor\": \"rgb(36,36,36)\", \"ticks\": \"outside\"}}, \"type\": \"scatter\"}], \"scatter3d\": [{\"line\": {\"colorbar\": {\"outlinewidth\": 1, \"tickcolor\": \"rgb(36,36,36)\", \"ticks\": \"outside\"}}, \"marker\": {\"colorbar\": {\"outlinewidth\": 1, \"tickcolor\": \"rgb(36,36,36)\", \"ticks\": \"outside\"}}, \"type\": \"scatter3d\"}], \"scattercarpet\": [{\"marker\": {\"colorbar\": {\"outlinewidth\": 1, \"tickcolor\": \"rgb(36,36,36)\", \"ticks\": \"outside\"}}, \"type\": \"scattercarpet\"}], \"scattergeo\": [{\"marker\": {\"colorbar\": {\"outlinewidth\": 1, \"tickcolor\": \"rgb(36,36,36)\", \"ticks\": \"outside\"}}, \"type\": \"scattergeo\"}], \"scattergl\": [{\"marker\": {\"colorbar\": {\"outlinewidth\": 1, \"tickcolor\": \"rgb(36,36,36)\", \"ticks\": \"outside\"}}, \"type\": \"scattergl\"}], \"scattermapbox\": [{\"marker\": {\"colorbar\": {\"outlinewidth\": 1, \"tickcolor\": \"rgb(36,36,36)\", \"ticks\": \"outside\"}}, \"type\": \"scattermapbox\"}], \"scatterpolar\": [{\"marker\": {\"colorbar\": {\"outlinewidth\": 1, \"tickcolor\": \"rgb(36,36,36)\", \"ticks\": \"outside\"}}, \"type\": \"scatterpolar\"}], \"scatterpolargl\": [{\"marker\": {\"colorbar\": {\"outlinewidth\": 1, \"tickcolor\": \"rgb(36,36,36)\", \"ticks\": \"outside\"}}, \"type\": \"scatterpolargl\"}], \"scatterternary\": [{\"marker\": {\"colorbar\": {\"outlinewidth\": 1, \"tickcolor\": \"rgb(36,36,36)\", \"ticks\": \"outside\"}}, \"type\": \"scatterternary\"}], \"surface\": [{\"colorbar\": {\"outlinewidth\": 1, \"tickcolor\": \"rgb(36,36,36)\", \"ticks\": \"outside\"}, \"colorscale\": [[0.0, \"#440154\"], [0.1111111111111111, \"#482878\"], [0.2222222222222222, \"#3e4989\"], [0.3333333333333333, \"#31688e\"], [0.4444444444444444, \"#26828e\"], [0.5555555555555556, \"#1f9e89\"], [0.6666666666666666, \"#35b779\"], [0.7777777777777778, \"#6ece58\"], [0.8888888888888888, \"#b5de2b\"], [1.0, \"#fde725\"]], \"type\": \"surface\"}], \"table\": [{\"cells\": {\"fill\": {\"color\": \"rgb(237,237,237)\"}, \"line\": {\"color\": \"white\"}}, \"header\": {\"fill\": {\"color\": \"rgb(217,217,217)\"}, \"line\": {\"color\": \"white\"}}, \"type\": \"table\"}]}, \"layout\": {\"annotationdefaults\": {\"arrowhead\": 0, \"arrowwidth\": 1}, \"autotypenumbers\": \"strict\", \"coloraxis\": {\"colorbar\": {\"outlinewidth\": 1, \"tickcolor\": \"rgb(36,36,36)\", \"ticks\": \"outside\"}}, \"colorscale\": {\"diverging\": [[0.0, \"rgb(103,0,31)\"], [0.1, \"rgb(178,24,43)\"], [0.2, \"rgb(214,96,77)\"], [0.3, \"rgb(244,165,130)\"], [0.4, \"rgb(253,219,199)\"], [0.5, \"rgb(247,247,247)\"], [0.6, \"rgb(209,229,240)\"], [0.7, \"rgb(146,197,222)\"], [0.8, \"rgb(67,147,195)\"], [0.9, \"rgb(33,102,172)\"], [1.0, \"rgb(5,48,97)\"]], \"sequential\": [[0.0, \"#440154\"], [0.1111111111111111, \"#482878\"], [0.2222222222222222, \"#3e4989\"], [0.3333333333333333, \"#31688e\"], [0.4444444444444444, \"#26828e\"], [0.5555555555555556, \"#1f9e89\"], [0.6666666666666666, \"#35b779\"], [0.7777777777777778, \"#6ece58\"], [0.8888888888888888, \"#b5de2b\"], [1.0, \"#fde725\"]], \"sequentialminus\": [[0.0, \"#440154\"], [0.1111111111111111, \"#482878\"], [0.2222222222222222, \"#3e4989\"], [0.3333333333333333, \"#31688e\"], [0.4444444444444444, \"#26828e\"], [0.5555555555555556, \"#1f9e89\"], [0.6666666666666666, \"#35b779\"], [0.7777777777777778, \"#6ece58\"], [0.8888888888888888, \"#b5de2b\"], [1.0, \"#fde725\"]]}, \"colorway\": [\"#1F77B4\", \"#FF7F0E\", \"#2CA02C\", \"#D62728\", \"#9467BD\", \"#8C564B\", \"#E377C2\", \"#7F7F7F\", \"#BCBD22\", \"#17BECF\"], \"font\": {\"color\": \"rgb(36,36,36)\"}, \"geo\": {\"bgcolor\": \"white\", \"lakecolor\": \"white\", \"landcolor\": \"white\", \"showlakes\": true, \"showland\": true, \"subunitcolor\": \"white\"}, \"hoverlabel\": {\"align\": \"left\"}, \"hovermode\": \"closest\", \"mapbox\": {\"style\": \"light\"}, \"paper_bgcolor\": \"white\", \"plot_bgcolor\": \"white\", \"polar\": {\"angularaxis\": {\"gridcolor\": \"rgb(232,232,232)\", \"linecolor\": \"rgb(36,36,36)\", \"showgrid\": false, \"showline\": true, \"ticks\": \"outside\"}, \"bgcolor\": \"white\", \"radialaxis\": {\"gridcolor\": \"rgb(232,232,232)\", \"linecolor\": \"rgb(36,36,36)\", \"showgrid\": false, \"showline\": true, \"ticks\": \"outside\"}}, \"scene\": {\"xaxis\": {\"backgroundcolor\": \"white\", \"gridcolor\": \"rgb(232,232,232)\", \"gridwidth\": 2, \"linecolor\": \"rgb(36,36,36)\", \"showbackground\": true, \"showgrid\": false, \"showline\": true, \"ticks\": \"outside\", \"zeroline\": false, \"zerolinecolor\": \"rgb(36,36,36)\"}, \"yaxis\": {\"backgroundcolor\": \"white\", \"gridcolor\": \"rgb(232,232,232)\", \"gridwidth\": 2, \"linecolor\": \"rgb(36,36,36)\", \"showbackground\": true, \"showgrid\": false, \"showline\": true, \"ticks\": \"outside\", \"zeroline\": false, \"zerolinecolor\": \"rgb(36,36,36)\"}, \"zaxis\": {\"backgroundcolor\": \"white\", \"gridcolor\": \"rgb(232,232,232)\", \"gridwidth\": 2, \"linecolor\": \"rgb(36,36,36)\", \"showbackground\": true, \"showgrid\": false, \"showline\": true, \"ticks\": \"outside\", \"zeroline\": false, \"zerolinecolor\": \"rgb(36,36,36)\"}}, \"shapedefaults\": {\"fillcolor\": \"black\", \"line\": {\"width\": 0}, \"opacity\": 0.3}, \"ternary\": {\"aaxis\": {\"gridcolor\": \"rgb(232,232,232)\", \"linecolor\": \"rgb(36,36,36)\", \"showgrid\": false, \"showline\": true, \"ticks\": \"outside\"}, \"baxis\": {\"gridcolor\": \"rgb(232,232,232)\", \"linecolor\": \"rgb(36,36,36)\", \"showgrid\": false, \"showline\": true, \"ticks\": \"outside\"}, \"bgcolor\": \"white\", \"caxis\": {\"gridcolor\": \"rgb(232,232,232)\", \"linecolor\": \"rgb(36,36,36)\", \"showgrid\": false, \"showline\": true, \"ticks\": \"outside\"}}, \"title\": {\"x\": 0.05}, \"xaxis\": {\"automargin\": true, \"gridcolor\": \"rgb(232,232,232)\", \"linecolor\": \"rgb(36,36,36)\", \"showgrid\": false, \"showline\": true, \"ticks\": \"outside\", \"title\": {\"standoff\": 15}, \"zeroline\": false, \"zerolinecolor\": \"rgb(36,36,36)\"}, \"yaxis\": {\"automargin\": true, \"gridcolor\": \"rgb(232,232,232)\", \"linecolor\": \"rgb(36,36,36)\", \"showgrid\": false, \"showline\": true, \"ticks\": \"outside\", \"title\": {\"standoff\": 15}, \"zeroline\": false, \"zerolinecolor\": \"rgb(36,36,36)\"}}}, \"title\": {\"text\": \"Casos de la Regi\\u00f3n de Ays\\u00e9n con contactos estrechos\"}, \"xaxis\": {\"anchor\": \"y\", \"domain\": [0.0, 1.0], \"title\": {\"text\": \"Fecha\"}}, \"yaxis\": {\"anchor\": \"x\", \"domain\": [0.0, 1.0], \"title\": {\"text\": \"N\\u00famero de casos\"}}},                        {\"responsive\": true}                    ).then(function(){\n",
       "                            \n",
       "var gd = document.getElementById('d02c2f78-57fe-43e4-8b24-11a3e04836e4');\n",
       "var x = new MutationObserver(function (mutations, observer) {{\n",
       "        var display = window.getComputedStyle(gd).display;\n",
       "        if (!display || display === 'none') {{\n",
       "            console.log([gd, 'removed!']);\n",
       "            Plotly.purge(gd);\n",
       "            observer.disconnect();\n",
       "        }}\n",
       "}});\n",
       "\n",
       "// Listen for the removal of the full notebook cells\n",
       "var notebookContainer = gd.closest('#notebook-container');\n",
       "if (notebookContainer) {{\n",
       "    x.observe(notebookContainer, {childList: true});\n",
       "}}\n",
       "\n",
       "// Listen for the clearing of the current output cell\n",
       "var outputEl = gd.closest('.output');\n",
       "if (outputEl) {{\n",
       "    x.observe(outputEl, {childList: true});\n",
       "}}\n",
       "\n",
       "                        })                };                });            </script>        </div>"
      ]
     },
     "metadata": {},
     "output_type": "display_data"
    }
   ],
   "source": [
    "# Crea gráfico de etapa_clinica regional por semana epidemiologica\n",
    "\n",
    "px.bar(df_seguimiento_ind6_clean.groupby(['fecha_cumple_requisitos', 'is_index_or_contact']).count()[['n_folio']].reset_index(),\n",
    "        x= 'fecha_cumple_requisitos',\n",
    "        y= 'n_folio',\n",
    "        color= 'is_index_or_contact',\n",
    "        labels={'is_index_or_contact':'Contacto'}, \n",
    "       ).update_layout(title= 'Casos de la Región de Aysén con contactos estrechos',\n",
    "                    yaxis_title='Número de casos',\n",
    "                    xaxis_title='Fecha',\n",
    "                    template='simple_white',\n",
    "                      )                 \n",
    "                    #xaxis=dict(tickmode = 'array',\n",
    "                     #             tickvals = list(range(12,88,3)),\n",
    "                      #            ticktext = list(list(range(12,54,3))+list(range(1,88,3))),\n",
    "                      #           ),\n",
    "               #     ).add_vline(x=53.5, line_width=3, line_dash='dash', line_color='gray'\n",
    "                #               ).add_vrect(x0='50', x1='50', \n",
    "                 #                          annotation_text='2020', \n",
    "                  #                         annotation_position='top right',\n",
    "                   #                        annotation=dict(font_size=18, \n",
    "                    #                                       font_family=\"'Open Sans', verdana, arial, sans-serif\"),\n",
    "                     #                                      opacity=0, \n",
    "                      #                                     line_width=0\n",
    "                       #                   ).add_vrect(x0='84', x1='86', \n",
    "                        #                   annotation_text='2021', \n",
    "                         #                  annotation_position='top right',\n",
    "                          #                 annotation=dict(font_size=18, \n",
    "                           #                                font_family=\"'Open Sans', verdana, arial, sans-serif\"),\n",
    "                            #                               opacity=0, \n",
    "                             #                              line_width=0)  \n",
    "                      "
   ]
  },
  {
   "cell_type": "code",
   "execution_count": 457,
   "id": "edaeb892",
   "metadata": {},
   "outputs": [],
   "source": [
    "df_ind6= df_seguimiento_ind6_clean.groupby(['fecha_cumple_requisitos', 'is_index_or_contact']).count()[['n_folio']].reset_index()"
   ]
  },
  {
   "cell_type": "code",
   "execution_count": 458,
   "id": "04547c42",
   "metadata": {},
   "outputs": [],
   "source": [
    "df_ind6_perc = (df_ind6[df_ind6['is_index_or_contact']==True].set_index('fecha_cumple_requisitos')[['n_folio']]/df_ind6.groupby('fecha_cumple_requisitos').sum('n_folio')[['n_folio']])*100"
   ]
  },
  {
   "cell_type": "code",
   "execution_count": 459,
   "id": "3b4a5530",
   "metadata": {},
   "outputs": [
    {
     "data": {
      "application/vnd.plotly.v1+json": {
       "config": {
        "plotlyServerURL": "https://plot.ly"
       },
       "data": [
        {
         "hovertemplate": "fecha_cumple_requisitos=%{x}<br>Oportunidad (%)=%{marker.color}<extra></extra>",
         "legendgroup": "",
         "line": {
          "color": "grey"
         },
         "marker": {
          "color": [
           48.148148148148145,
           66.12903225806451,
           82.14285714285714,
           69.23076923076923,
           77.96610169491525,
           86.11111111111111,
           66.66666666666666,
           83.87096774193549,
           80.95238095238095,
           67.6923076923077,
           69.23076923076923,
           66.66666666666666,
           87.75510204081633,
           83.05084745762711,
           82.55813953488372,
           59.61538461538461,
           66.66666666666666,
           70.88607594936708,
           72.97297297297297,
           52.94117647058824,
           84.84848484848484,
           79.72972972972973,
           83.19327731092437,
           84.61538461538461,
           85.45454545454545,
           70.93023255813954,
           72.72727272727273,
           81.35593220338984,
           73.72881355932203,
           80.37383177570094,
           74.50980392156863,
           82.14285714285714,
           68.62745098039215,
           63.793103448275865,
           83.63636363636363,
           72.26890756302521,
           61.6,
           65.15151515151516,
           59.45945945945946,
           78.37837837837837,
           69.2982456140351,
           81.03448275862068,
           67.56756756756756,
           80,
           71.21212121212122,
           81.33333333333333,
           77.47747747747748,
           55.00000000000001,
           82.92682926829268,
           48,
           66.21621621621621,
           64.40677966101694,
           81.76470588235294,
           64.8936170212766,
           64.7887323943662,
           71.73913043478261,
           55.208333333333336,
           66.42857142857143,
           65.73033707865169,
           66.3677130044843,
           71.95121951219512,
           86,
           76.47058823529412,
           64.55696202531645,
           66.44295302013423,
           65.4320987654321,
           70.70063694267516,
           73.07692307692307,
           73.68421052631578,
           61.702127659574465,
           74.58563535911603,
           71.1864406779661,
           77.88461538461539,
           65.43778801843318,
           72.69076305220884,
           71.17647058823529,
           78.47222222222221,
           67.09401709401709,
           71.53558052434457,
           72.64957264957265,
           60.57971014492753,
           80,
           66.49214659685863,
           74.21875,
           59.09090909090909,
           64.33823529411765,
           70.38216560509554,
           70.9090909090909,
           65.84507042253522,
           47.16981132075472,
           51.31578947368421,
           65.60693641618496,
           58.66983372921615,
           68.24817518248175,
           68.33976833976834,
           65.65656565656566,
           76.37362637362637,
           64.04494382022472,
           78.10457516339869,
           72.77227722772277,
           75.47169811320755,
           63.19702602230484,
           66.51982378854625,
           58.97435897435898,
           80.4733727810651,
           65.44502617801047,
           73.45971563981043,
           68.6046511627907,
           70.94017094017094,
           63.101604278074866,
           68.46846846846847,
           73.80952380952381,
           70.17543859649122,
           66.4,
           73.80952380952381,
           61.47540983606557,
           68.42105263157895,
           65.78947368421053,
           84.44444444444444,
           70.3125,
           68,
           76.66666666666667,
           61.44578313253012,
           74.82517482517483,
           80,
           66.66666666666666,
           69.72477064220183,
           63,
           67.85714285714286,
           64.03508771929825,
           67.64705882352942,
           42.592592592592595,
           75,
           85.71428571428571,
           72,
           85.36585365853658,
           68,
           77.77777777777779,
           60,
           null,
           33.33333333333333,
           80,
           90.9090909090909,
           66.66666666666666,
           73.91304347826086,
           77.77777777777779,
           90,
           33.33333333333333,
           40,
           58.333333333333336,
           78.57142857142857,
           60,
           80,
           63.63636363636363,
           58.333333333333336,
           66.66666666666666,
           61.53846153846154,
           52.38095238095239,
           50.81967213114754,
           27.500000000000004,
           66.66666666666666,
           69.23076923076923,
           95.65217391304348,
           50,
           78.78787878787878,
           94.28571428571428,
           78.57142857142857,
           57.692307692307686,
           85.52631578947368,
           90.625,
           80.51948051948052,
           80.48780487804879,
           68,
           72,
           72.72727272727273,
           48.484848484848484,
           60.60606060606061,
           84.78260869565217,
           17.647058823529413,
           31.25,
           33.33333333333333,
           75,
           4.878048780487805,
           null
          ],
          "coloraxis": "coloraxis",
          "line": {
           "width": 1
          },
          "size": 10,
          "symbol": "circle"
         },
         "mode": "lines+markers",
         "name": "",
         "orientation": "v",
         "showlegend": false,
         "type": "scatter",
         "x": [
          "2021-03-01T00:00:00",
          "2021-03-02T00:00:00",
          "2021-03-03T00:00:00",
          "2021-03-04T00:00:00",
          "2021-03-05T00:00:00",
          "2021-03-06T00:00:00",
          "2021-03-07T00:00:00",
          "2021-03-08T00:00:00",
          "2021-03-09T00:00:00",
          "2021-03-10T00:00:00",
          "2021-03-11T00:00:00",
          "2021-03-12T00:00:00",
          "2021-03-13T00:00:00",
          "2021-03-14T00:00:00",
          "2021-03-15T00:00:00",
          "2021-03-16T00:00:00",
          "2021-03-17T00:00:00",
          "2021-03-18T00:00:00",
          "2021-03-19T00:00:00",
          "2021-03-20T00:00:00",
          "2021-03-21T00:00:00",
          "2021-03-22T00:00:00",
          "2021-03-23T00:00:00",
          "2021-03-24T00:00:00",
          "2021-03-25T00:00:00",
          "2021-03-26T00:00:00",
          "2021-03-27T00:00:00",
          "2021-03-28T00:00:00",
          "2021-03-29T00:00:00",
          "2021-03-30T00:00:00",
          "2021-03-31T00:00:00",
          "2021-04-01T00:00:00",
          "2021-04-02T00:00:00",
          "2021-04-03T00:00:00",
          "2021-04-04T00:00:00",
          "2021-04-05T00:00:00",
          "2021-04-06T00:00:00",
          "2021-04-07T00:00:00",
          "2021-04-08T00:00:00",
          "2021-04-09T00:00:00",
          "2021-04-10T00:00:00",
          "2021-04-11T00:00:00",
          "2021-04-12T00:00:00",
          "2021-04-13T00:00:00",
          "2021-04-14T00:00:00",
          "2021-04-15T00:00:00",
          "2021-04-16T00:00:00",
          "2021-04-17T00:00:00",
          "2021-04-18T00:00:00",
          "2021-04-19T00:00:00",
          "2021-04-20T00:00:00",
          "2021-04-21T00:00:00",
          "2021-04-22T00:00:00",
          "2021-04-23T00:00:00",
          "2021-04-24T00:00:00",
          "2021-04-25T00:00:00",
          "2021-04-26T00:00:00",
          "2021-04-27T00:00:00",
          "2021-04-28T00:00:00",
          "2021-04-29T00:00:00",
          "2021-04-30T00:00:00",
          "2021-05-01T00:00:00",
          "2021-05-02T00:00:00",
          "2021-05-03T00:00:00",
          "2021-05-04T00:00:00",
          "2021-05-05T00:00:00",
          "2021-05-06T00:00:00",
          "2021-05-07T00:00:00",
          "2021-05-08T00:00:00",
          "2021-05-09T00:00:00",
          "2021-05-10T00:00:00",
          "2021-05-11T00:00:00",
          "2021-05-12T00:00:00",
          "2021-05-13T00:00:00",
          "2021-05-14T00:00:00",
          "2021-05-15T00:00:00",
          "2021-05-16T00:00:00",
          "2021-05-17T00:00:00",
          "2021-05-18T00:00:00",
          "2021-05-19T00:00:00",
          "2021-05-20T00:00:00",
          "2021-05-21T00:00:00",
          "2021-05-22T00:00:00",
          "2021-05-23T00:00:00",
          "2021-05-24T00:00:00",
          "2021-05-25T00:00:00",
          "2021-05-26T00:00:00",
          "2021-05-27T00:00:00",
          "2021-05-28T00:00:00",
          "2021-05-29T00:00:00",
          "2021-05-30T00:00:00",
          "2021-05-31T00:00:00",
          "2021-06-01T00:00:00",
          "2021-06-02T00:00:00",
          "2021-06-03T00:00:00",
          "2021-06-04T00:00:00",
          "2021-06-05T00:00:00",
          "2021-06-06T00:00:00",
          "2021-06-07T00:00:00",
          "2021-06-08T00:00:00",
          "2021-06-09T00:00:00",
          "2021-06-10T00:00:00",
          "2021-06-11T00:00:00",
          "2021-06-12T00:00:00",
          "2021-06-13T00:00:00",
          "2021-06-14T00:00:00",
          "2021-06-15T00:00:00",
          "2021-06-16T00:00:00",
          "2021-06-17T00:00:00",
          "2021-06-18T00:00:00",
          "2021-06-19T00:00:00",
          "2021-06-20T00:00:00",
          "2021-06-21T00:00:00",
          "2021-06-22T00:00:00",
          "2021-06-23T00:00:00",
          "2021-06-24T00:00:00",
          "2021-06-25T00:00:00",
          "2021-06-26T00:00:00",
          "2021-06-27T00:00:00",
          "2021-06-28T00:00:00",
          "2021-06-29T00:00:00",
          "2021-06-30T00:00:00",
          "2021-07-01T00:00:00",
          "2021-07-02T00:00:00",
          "2021-07-03T00:00:00",
          "2021-07-04T00:00:00",
          "2021-07-05T00:00:00",
          "2021-07-06T00:00:00",
          "2021-07-07T00:00:00",
          "2021-07-08T00:00:00",
          "2021-07-09T00:00:00",
          "2021-07-10T00:00:00",
          "2021-07-11T00:00:00",
          "2021-07-12T00:00:00",
          "2021-07-13T00:00:00",
          "2021-07-14T00:00:00",
          "2021-07-15T00:00:00",
          "2021-07-16T00:00:00",
          "2021-07-17T00:00:00",
          "2021-07-18T00:00:00",
          "2021-07-19T00:00:00",
          "2021-07-20T00:00:00",
          "2021-07-21T00:00:00",
          "2021-07-22T00:00:00",
          "2021-07-23T00:00:00",
          "2021-07-24T00:00:00",
          "2021-07-25T00:00:00",
          "2021-07-26T00:00:00",
          "2021-07-27T00:00:00",
          "2021-07-28T00:00:00",
          "2021-07-29T00:00:00",
          "2021-07-30T00:00:00",
          "2021-07-31T00:00:00",
          "2021-08-01T00:00:00",
          "2021-08-02T00:00:00",
          "2021-08-03T00:00:00",
          "2021-08-04T00:00:00",
          "2021-08-05T00:00:00",
          "2021-08-06T00:00:00",
          "2021-08-07T00:00:00",
          "2021-08-08T00:00:00",
          "2021-08-09T00:00:00",
          "2021-08-10T00:00:00",
          "2021-08-11T00:00:00",
          "2021-08-12T00:00:00",
          "2021-08-13T00:00:00",
          "2021-08-14T00:00:00",
          "2021-08-15T00:00:00",
          "2021-08-16T00:00:00",
          "2021-08-17T00:00:00",
          "2021-08-18T00:00:00",
          "2021-08-19T00:00:00",
          "2021-08-20T00:00:00",
          "2021-08-21T00:00:00",
          "2021-08-22T00:00:00",
          "2021-08-23T00:00:00",
          "2021-08-24T00:00:00",
          "2021-08-25T00:00:00",
          "2021-08-26T00:00:00",
          "2021-08-27T00:00:00",
          "2021-08-28T00:00:00",
          "2021-08-29T00:00:00",
          "2021-08-30T00:00:00",
          "2021-08-31T00:00:00"
         ],
         "xaxis": "x",
         "y": [
          48.148148148148145,
          66.12903225806451,
          82.14285714285714,
          69.23076923076923,
          77.96610169491525,
          86.11111111111111,
          66.66666666666666,
          83.87096774193549,
          80.95238095238095,
          67.6923076923077,
          69.23076923076923,
          66.66666666666666,
          87.75510204081633,
          83.05084745762711,
          82.55813953488372,
          59.61538461538461,
          66.66666666666666,
          70.88607594936708,
          72.97297297297297,
          52.94117647058824,
          84.84848484848484,
          79.72972972972973,
          83.19327731092437,
          84.61538461538461,
          85.45454545454545,
          70.93023255813954,
          72.72727272727273,
          81.35593220338984,
          73.72881355932203,
          80.37383177570094,
          74.50980392156863,
          82.14285714285714,
          68.62745098039215,
          63.793103448275865,
          83.63636363636363,
          72.26890756302521,
          61.6,
          65.15151515151516,
          59.45945945945946,
          78.37837837837837,
          69.2982456140351,
          81.03448275862068,
          67.56756756756756,
          80,
          71.21212121212122,
          81.33333333333333,
          77.47747747747748,
          55.00000000000001,
          82.92682926829268,
          48,
          66.21621621621621,
          64.40677966101694,
          81.76470588235294,
          64.8936170212766,
          64.7887323943662,
          71.73913043478261,
          55.208333333333336,
          66.42857142857143,
          65.73033707865169,
          66.3677130044843,
          71.95121951219512,
          86,
          76.47058823529412,
          64.55696202531645,
          66.44295302013423,
          65.4320987654321,
          70.70063694267516,
          73.07692307692307,
          73.68421052631578,
          61.702127659574465,
          74.58563535911603,
          71.1864406779661,
          77.88461538461539,
          65.43778801843318,
          72.69076305220884,
          71.17647058823529,
          78.47222222222221,
          67.09401709401709,
          71.53558052434457,
          72.64957264957265,
          60.57971014492753,
          80,
          66.49214659685863,
          74.21875,
          59.09090909090909,
          64.33823529411765,
          70.38216560509554,
          70.9090909090909,
          65.84507042253522,
          47.16981132075472,
          51.31578947368421,
          65.60693641618496,
          58.66983372921615,
          68.24817518248175,
          68.33976833976834,
          65.65656565656566,
          76.37362637362637,
          64.04494382022472,
          78.10457516339869,
          72.77227722772277,
          75.47169811320755,
          63.19702602230484,
          66.51982378854625,
          58.97435897435898,
          80.4733727810651,
          65.44502617801047,
          73.45971563981043,
          68.6046511627907,
          70.94017094017094,
          63.101604278074866,
          68.46846846846847,
          73.80952380952381,
          70.17543859649122,
          66.4,
          73.80952380952381,
          61.47540983606557,
          68.42105263157895,
          65.78947368421053,
          84.44444444444444,
          70.3125,
          68,
          76.66666666666667,
          61.44578313253012,
          74.82517482517483,
          80,
          66.66666666666666,
          69.72477064220183,
          63,
          67.85714285714286,
          64.03508771929825,
          67.64705882352942,
          42.592592592592595,
          75,
          85.71428571428571,
          72,
          85.36585365853658,
          68,
          77.77777777777779,
          60,
          null,
          33.33333333333333,
          80,
          90.9090909090909,
          66.66666666666666,
          73.91304347826086,
          77.77777777777779,
          90,
          33.33333333333333,
          40,
          58.333333333333336,
          78.57142857142857,
          60,
          80,
          63.63636363636363,
          58.333333333333336,
          66.66666666666666,
          61.53846153846154,
          52.38095238095239,
          50.81967213114754,
          27.500000000000004,
          66.66666666666666,
          69.23076923076923,
          95.65217391304348,
          50,
          78.78787878787878,
          94.28571428571428,
          78.57142857142857,
          57.692307692307686,
          85.52631578947368,
          90.625,
          80.51948051948052,
          80.48780487804879,
          68,
          72,
          72.72727272727273,
          48.484848484848484,
          60.60606060606061,
          84.78260869565217,
          17.647058823529413,
          31.25,
          33.33333333333333,
          75,
          4.878048780487805,
          null
         ],
         "yaxis": "y"
        }
       ],
       "layout": {
        "coloraxis": {
         "colorbar": {
          "title": {
           "text": "Oportunidad (%)"
          }
         },
         "colorscale": [
          [
           0,
           "#fcfdbf"
          ],
          [
           0.1111111111111111,
           "#feca8d"
          ],
          [
           0.2222222222222222,
           "#fd9668"
          ],
          [
           0.3333333333333333,
           "#f1605d"
          ],
          [
           0.4444444444444444,
           "#cd4071"
          ],
          [
           0.5555555555555556,
           "#9e2f7f"
          ],
          [
           0.6666666666666666,
           "#721f81"
          ],
          [
           0.7777777777777778,
           "#440f76"
          ],
          [
           0.8888888888888888,
           "#180f3d"
          ],
          [
           1,
           "#000004"
          ]
         ]
        },
        "legend": {
         "tracegroupgap": 0
        },
        "margin": {
         "t": 60
        },
        "template": {
         "data": {
          "bar": [
           {
            "error_x": {
             "color": "rgb(36,36,36)"
            },
            "error_y": {
             "color": "rgb(36,36,36)"
            },
            "marker": {
             "line": {
              "color": "white",
              "width": 0.5
             }
            },
            "type": "bar"
           }
          ],
          "barpolar": [
           {
            "marker": {
             "line": {
              "color": "white",
              "width": 0.5
             }
            },
            "type": "barpolar"
           }
          ],
          "carpet": [
           {
            "aaxis": {
             "endlinecolor": "rgb(36,36,36)",
             "gridcolor": "white",
             "linecolor": "white",
             "minorgridcolor": "white",
             "startlinecolor": "rgb(36,36,36)"
            },
            "baxis": {
             "endlinecolor": "rgb(36,36,36)",
             "gridcolor": "white",
             "linecolor": "white",
             "minorgridcolor": "white",
             "startlinecolor": "rgb(36,36,36)"
            },
            "type": "carpet"
           }
          ],
          "choropleth": [
           {
            "colorbar": {
             "outlinewidth": 1,
             "tickcolor": "rgb(36,36,36)",
             "ticks": "outside"
            },
            "type": "choropleth"
           }
          ],
          "contour": [
           {
            "colorbar": {
             "outlinewidth": 1,
             "tickcolor": "rgb(36,36,36)",
             "ticks": "outside"
            },
            "colorscale": [
             [
              0,
              "#440154"
             ],
             [
              0.1111111111111111,
              "#482878"
             ],
             [
              0.2222222222222222,
              "#3e4989"
             ],
             [
              0.3333333333333333,
              "#31688e"
             ],
             [
              0.4444444444444444,
              "#26828e"
             ],
             [
              0.5555555555555556,
              "#1f9e89"
             ],
             [
              0.6666666666666666,
              "#35b779"
             ],
             [
              0.7777777777777778,
              "#6ece58"
             ],
             [
              0.8888888888888888,
              "#b5de2b"
             ],
             [
              1,
              "#fde725"
             ]
            ],
            "type": "contour"
           }
          ],
          "contourcarpet": [
           {
            "colorbar": {
             "outlinewidth": 1,
             "tickcolor": "rgb(36,36,36)",
             "ticks": "outside"
            },
            "type": "contourcarpet"
           }
          ],
          "heatmap": [
           {
            "colorbar": {
             "outlinewidth": 1,
             "tickcolor": "rgb(36,36,36)",
             "ticks": "outside"
            },
            "colorscale": [
             [
              0,
              "#440154"
             ],
             [
              0.1111111111111111,
              "#482878"
             ],
             [
              0.2222222222222222,
              "#3e4989"
             ],
             [
              0.3333333333333333,
              "#31688e"
             ],
             [
              0.4444444444444444,
              "#26828e"
             ],
             [
              0.5555555555555556,
              "#1f9e89"
             ],
             [
              0.6666666666666666,
              "#35b779"
             ],
             [
              0.7777777777777778,
              "#6ece58"
             ],
             [
              0.8888888888888888,
              "#b5de2b"
             ],
             [
              1,
              "#fde725"
             ]
            ],
            "type": "heatmap"
           }
          ],
          "heatmapgl": [
           {
            "colorbar": {
             "outlinewidth": 1,
             "tickcolor": "rgb(36,36,36)",
             "ticks": "outside"
            },
            "colorscale": [
             [
              0,
              "#440154"
             ],
             [
              0.1111111111111111,
              "#482878"
             ],
             [
              0.2222222222222222,
              "#3e4989"
             ],
             [
              0.3333333333333333,
              "#31688e"
             ],
             [
              0.4444444444444444,
              "#26828e"
             ],
             [
              0.5555555555555556,
              "#1f9e89"
             ],
             [
              0.6666666666666666,
              "#35b779"
             ],
             [
              0.7777777777777778,
              "#6ece58"
             ],
             [
              0.8888888888888888,
              "#b5de2b"
             ],
             [
              1,
              "#fde725"
             ]
            ],
            "type": "heatmapgl"
           }
          ],
          "histogram": [
           {
            "marker": {
             "line": {
              "color": "white",
              "width": 0.6
             }
            },
            "type": "histogram"
           }
          ],
          "histogram2d": [
           {
            "colorbar": {
             "outlinewidth": 1,
             "tickcolor": "rgb(36,36,36)",
             "ticks": "outside"
            },
            "colorscale": [
             [
              0,
              "#440154"
             ],
             [
              0.1111111111111111,
              "#482878"
             ],
             [
              0.2222222222222222,
              "#3e4989"
             ],
             [
              0.3333333333333333,
              "#31688e"
             ],
             [
              0.4444444444444444,
              "#26828e"
             ],
             [
              0.5555555555555556,
              "#1f9e89"
             ],
             [
              0.6666666666666666,
              "#35b779"
             ],
             [
              0.7777777777777778,
              "#6ece58"
             ],
             [
              0.8888888888888888,
              "#b5de2b"
             ],
             [
              1,
              "#fde725"
             ]
            ],
            "type": "histogram2d"
           }
          ],
          "histogram2dcontour": [
           {
            "colorbar": {
             "outlinewidth": 1,
             "tickcolor": "rgb(36,36,36)",
             "ticks": "outside"
            },
            "colorscale": [
             [
              0,
              "#440154"
             ],
             [
              0.1111111111111111,
              "#482878"
             ],
             [
              0.2222222222222222,
              "#3e4989"
             ],
             [
              0.3333333333333333,
              "#31688e"
             ],
             [
              0.4444444444444444,
              "#26828e"
             ],
             [
              0.5555555555555556,
              "#1f9e89"
             ],
             [
              0.6666666666666666,
              "#35b779"
             ],
             [
              0.7777777777777778,
              "#6ece58"
             ],
             [
              0.8888888888888888,
              "#b5de2b"
             ],
             [
              1,
              "#fde725"
             ]
            ],
            "type": "histogram2dcontour"
           }
          ],
          "mesh3d": [
           {
            "colorbar": {
             "outlinewidth": 1,
             "tickcolor": "rgb(36,36,36)",
             "ticks": "outside"
            },
            "type": "mesh3d"
           }
          ],
          "parcoords": [
           {
            "line": {
             "colorbar": {
              "outlinewidth": 1,
              "tickcolor": "rgb(36,36,36)",
              "ticks": "outside"
             }
            },
            "type": "parcoords"
           }
          ],
          "pie": [
           {
            "automargin": true,
            "type": "pie"
           }
          ],
          "scatter": [
           {
            "marker": {
             "colorbar": {
              "outlinewidth": 1,
              "tickcolor": "rgb(36,36,36)",
              "ticks": "outside"
             }
            },
            "type": "scatter"
           }
          ],
          "scatter3d": [
           {
            "line": {
             "colorbar": {
              "outlinewidth": 1,
              "tickcolor": "rgb(36,36,36)",
              "ticks": "outside"
             }
            },
            "marker": {
             "colorbar": {
              "outlinewidth": 1,
              "tickcolor": "rgb(36,36,36)",
              "ticks": "outside"
             }
            },
            "type": "scatter3d"
           }
          ],
          "scattercarpet": [
           {
            "marker": {
             "colorbar": {
              "outlinewidth": 1,
              "tickcolor": "rgb(36,36,36)",
              "ticks": "outside"
             }
            },
            "type": "scattercarpet"
           }
          ],
          "scattergeo": [
           {
            "marker": {
             "colorbar": {
              "outlinewidth": 1,
              "tickcolor": "rgb(36,36,36)",
              "ticks": "outside"
             }
            },
            "type": "scattergeo"
           }
          ],
          "scattergl": [
           {
            "marker": {
             "colorbar": {
              "outlinewidth": 1,
              "tickcolor": "rgb(36,36,36)",
              "ticks": "outside"
             }
            },
            "type": "scattergl"
           }
          ],
          "scattermapbox": [
           {
            "marker": {
             "colorbar": {
              "outlinewidth": 1,
              "tickcolor": "rgb(36,36,36)",
              "ticks": "outside"
             }
            },
            "type": "scattermapbox"
           }
          ],
          "scatterpolar": [
           {
            "marker": {
             "colorbar": {
              "outlinewidth": 1,
              "tickcolor": "rgb(36,36,36)",
              "ticks": "outside"
             }
            },
            "type": "scatterpolar"
           }
          ],
          "scatterpolargl": [
           {
            "marker": {
             "colorbar": {
              "outlinewidth": 1,
              "tickcolor": "rgb(36,36,36)",
              "ticks": "outside"
             }
            },
            "type": "scatterpolargl"
           }
          ],
          "scatterternary": [
           {
            "marker": {
             "colorbar": {
              "outlinewidth": 1,
              "tickcolor": "rgb(36,36,36)",
              "ticks": "outside"
             }
            },
            "type": "scatterternary"
           }
          ],
          "surface": [
           {
            "colorbar": {
             "outlinewidth": 1,
             "tickcolor": "rgb(36,36,36)",
             "ticks": "outside"
            },
            "colorscale": [
             [
              0,
              "#440154"
             ],
             [
              0.1111111111111111,
              "#482878"
             ],
             [
              0.2222222222222222,
              "#3e4989"
             ],
             [
              0.3333333333333333,
              "#31688e"
             ],
             [
              0.4444444444444444,
              "#26828e"
             ],
             [
              0.5555555555555556,
              "#1f9e89"
             ],
             [
              0.6666666666666666,
              "#35b779"
             ],
             [
              0.7777777777777778,
              "#6ece58"
             ],
             [
              0.8888888888888888,
              "#b5de2b"
             ],
             [
              1,
              "#fde725"
             ]
            ],
            "type": "surface"
           }
          ],
          "table": [
           {
            "cells": {
             "fill": {
              "color": "rgb(237,237,237)"
             },
             "line": {
              "color": "white"
             }
            },
            "header": {
             "fill": {
              "color": "rgb(217,217,217)"
             },
             "line": {
              "color": "white"
             }
            },
            "type": "table"
           }
          ]
         },
         "layout": {
          "annotationdefaults": {
           "arrowhead": 0,
           "arrowwidth": 1
          },
          "autotypenumbers": "strict",
          "coloraxis": {
           "colorbar": {
            "outlinewidth": 1,
            "tickcolor": "rgb(36,36,36)",
            "ticks": "outside"
           }
          },
          "colorscale": {
           "diverging": [
            [
             0,
             "rgb(103,0,31)"
            ],
            [
             0.1,
             "rgb(178,24,43)"
            ],
            [
             0.2,
             "rgb(214,96,77)"
            ],
            [
             0.3,
             "rgb(244,165,130)"
            ],
            [
             0.4,
             "rgb(253,219,199)"
            ],
            [
             0.5,
             "rgb(247,247,247)"
            ],
            [
             0.6,
             "rgb(209,229,240)"
            ],
            [
             0.7,
             "rgb(146,197,222)"
            ],
            [
             0.8,
             "rgb(67,147,195)"
            ],
            [
             0.9,
             "rgb(33,102,172)"
            ],
            [
             1,
             "rgb(5,48,97)"
            ]
           ],
           "sequential": [
            [
             0,
             "#440154"
            ],
            [
             0.1111111111111111,
             "#482878"
            ],
            [
             0.2222222222222222,
             "#3e4989"
            ],
            [
             0.3333333333333333,
             "#31688e"
            ],
            [
             0.4444444444444444,
             "#26828e"
            ],
            [
             0.5555555555555556,
             "#1f9e89"
            ],
            [
             0.6666666666666666,
             "#35b779"
            ],
            [
             0.7777777777777778,
             "#6ece58"
            ],
            [
             0.8888888888888888,
             "#b5de2b"
            ],
            [
             1,
             "#fde725"
            ]
           ],
           "sequentialminus": [
            [
             0,
             "#440154"
            ],
            [
             0.1111111111111111,
             "#482878"
            ],
            [
             0.2222222222222222,
             "#3e4989"
            ],
            [
             0.3333333333333333,
             "#31688e"
            ],
            [
             0.4444444444444444,
             "#26828e"
            ],
            [
             0.5555555555555556,
             "#1f9e89"
            ],
            [
             0.6666666666666666,
             "#35b779"
            ],
            [
             0.7777777777777778,
             "#6ece58"
            ],
            [
             0.8888888888888888,
             "#b5de2b"
            ],
            [
             1,
             "#fde725"
            ]
           ]
          },
          "colorway": [
           "#1F77B4",
           "#FF7F0E",
           "#2CA02C",
           "#D62728",
           "#9467BD",
           "#8C564B",
           "#E377C2",
           "#7F7F7F",
           "#BCBD22",
           "#17BECF"
          ],
          "font": {
           "color": "rgb(36,36,36)"
          },
          "geo": {
           "bgcolor": "white",
           "lakecolor": "white",
           "landcolor": "white",
           "showlakes": true,
           "showland": true,
           "subunitcolor": "white"
          },
          "hoverlabel": {
           "align": "left"
          },
          "hovermode": "closest",
          "mapbox": {
           "style": "light"
          },
          "paper_bgcolor": "white",
          "plot_bgcolor": "white",
          "polar": {
           "angularaxis": {
            "gridcolor": "rgb(232,232,232)",
            "linecolor": "rgb(36,36,36)",
            "showgrid": false,
            "showline": true,
            "ticks": "outside"
           },
           "bgcolor": "white",
           "radialaxis": {
            "gridcolor": "rgb(232,232,232)",
            "linecolor": "rgb(36,36,36)",
            "showgrid": false,
            "showline": true,
            "ticks": "outside"
           }
          },
          "scene": {
           "xaxis": {
            "backgroundcolor": "white",
            "gridcolor": "rgb(232,232,232)",
            "gridwidth": 2,
            "linecolor": "rgb(36,36,36)",
            "showbackground": true,
            "showgrid": false,
            "showline": true,
            "ticks": "outside",
            "zeroline": false,
            "zerolinecolor": "rgb(36,36,36)"
           },
           "yaxis": {
            "backgroundcolor": "white",
            "gridcolor": "rgb(232,232,232)",
            "gridwidth": 2,
            "linecolor": "rgb(36,36,36)",
            "showbackground": true,
            "showgrid": false,
            "showline": true,
            "ticks": "outside",
            "zeroline": false,
            "zerolinecolor": "rgb(36,36,36)"
           },
           "zaxis": {
            "backgroundcolor": "white",
            "gridcolor": "rgb(232,232,232)",
            "gridwidth": 2,
            "linecolor": "rgb(36,36,36)",
            "showbackground": true,
            "showgrid": false,
            "showline": true,
            "ticks": "outside",
            "zeroline": false,
            "zerolinecolor": "rgb(36,36,36)"
           }
          },
          "shapedefaults": {
           "fillcolor": "black",
           "line": {
            "width": 0
           },
           "opacity": 0.3
          },
          "ternary": {
           "aaxis": {
            "gridcolor": "rgb(232,232,232)",
            "linecolor": "rgb(36,36,36)",
            "showgrid": false,
            "showline": true,
            "ticks": "outside"
           },
           "baxis": {
            "gridcolor": "rgb(232,232,232)",
            "linecolor": "rgb(36,36,36)",
            "showgrid": false,
            "showline": true,
            "ticks": "outside"
           },
           "bgcolor": "white",
           "caxis": {
            "gridcolor": "rgb(232,232,232)",
            "linecolor": "rgb(36,36,36)",
            "showgrid": false,
            "showline": true,
            "ticks": "outside"
           }
          },
          "title": {
           "x": 0.05
          },
          "xaxis": {
           "automargin": true,
           "gridcolor": "rgb(232,232,232)",
           "linecolor": "rgb(36,36,36)",
           "showgrid": false,
           "showline": true,
           "ticks": "outside",
           "title": {
            "standoff": 15
           },
           "zeroline": false,
           "zerolinecolor": "rgb(36,36,36)"
          },
          "yaxis": {
           "automargin": true,
           "gridcolor": "rgb(232,232,232)",
           "linecolor": "rgb(36,36,36)",
           "showgrid": false,
           "showline": true,
           "ticks": "outside",
           "title": {
            "standoff": 15
           },
           "zeroline": false,
           "zerolinecolor": "rgb(36,36,36)"
          }
         }
        },
        "title": {
         "text": "Capacidad de investigación de contactos estrechos"
        },
        "xaxis": {
         "anchor": "y",
         "domain": [
          0,
          1
         ],
         "title": {
          "text": "Fecha"
         }
        },
        "yaxis": {
         "anchor": "x",
         "domain": [
          0,
          1
         ],
         "title": {
          "text": "Oportunidad (%)"
         }
        }
       }
      },
      "text/html": [
       "<div>                            <div id=\"637f1328-754f-4016-a6e4-4ed4e941385a\" class=\"plotly-graph-div\" style=\"height:525px; width:100%;\"></div>            <script type=\"text/javascript\">                require([\"plotly\"], function(Plotly) {                    window.PLOTLYENV=window.PLOTLYENV || {};                                    if (document.getElementById(\"637f1328-754f-4016-a6e4-4ed4e941385a\")) {                    Plotly.newPlot(                        \"637f1328-754f-4016-a6e4-4ed4e941385a\",                        [{\"hovertemplate\": \"fecha_cumple_requisitos=%{x}<br>Oportunidad (%)=%{marker.color}<extra></extra>\", \"legendgroup\": \"\", \"line\": {\"color\": \"grey\"}, \"marker\": {\"color\": [48.148148148148145, 66.12903225806451, 82.14285714285714, 69.23076923076923, 77.96610169491525, 86.11111111111111, 66.66666666666666, 83.87096774193549, 80.95238095238095, 67.6923076923077, 69.23076923076923, 66.66666666666666, 87.75510204081633, 83.05084745762711, 82.55813953488372, 59.61538461538461, 66.66666666666666, 70.88607594936708, 72.97297297297297, 52.94117647058824, 84.84848484848484, 79.72972972972973, 83.19327731092437, 84.61538461538461, 85.45454545454545, 70.93023255813954, 72.72727272727273, 81.35593220338984, 73.72881355932203, 80.37383177570094, 74.50980392156863, 82.14285714285714, 68.62745098039215, 63.793103448275865, 83.63636363636363, 72.26890756302521, 61.6, 65.15151515151516, 59.45945945945946, 78.37837837837837, 69.2982456140351, 81.03448275862068, 67.56756756756756, 80.0, 71.21212121212122, 81.33333333333333, 77.47747747747748, 55.00000000000001, 82.92682926829268, 48.0, 66.21621621621621, 64.40677966101694, 81.76470588235294, 64.8936170212766, 64.7887323943662, 71.73913043478261, 55.208333333333336, 66.42857142857143, 65.73033707865169, 66.3677130044843, 71.95121951219512, 86.0, 76.47058823529412, 64.55696202531645, 66.44295302013423, 65.4320987654321, 70.70063694267516, 73.07692307692307, 73.68421052631578, 61.702127659574465, 74.58563535911603, 71.1864406779661, 77.88461538461539, 65.43778801843318, 72.69076305220884, 71.17647058823529, 78.47222222222221, 67.09401709401709, 71.53558052434457, 72.64957264957265, 60.57971014492753, 80.0, 66.49214659685863, 74.21875, 59.09090909090909, 64.33823529411765, 70.38216560509554, 70.9090909090909, 65.84507042253522, 47.16981132075472, 51.31578947368421, 65.60693641618496, 58.66983372921615, 68.24817518248175, 68.33976833976834, 65.65656565656566, 76.37362637362637, 64.04494382022472, 78.10457516339869, 72.77227722772277, 75.47169811320755, 63.19702602230484, 66.51982378854625, 58.97435897435898, 80.4733727810651, 65.44502617801047, 73.45971563981043, 68.6046511627907, 70.94017094017094, 63.101604278074866, 68.46846846846847, 73.80952380952381, 70.17543859649122, 66.4, 73.80952380952381, 61.47540983606557, 68.42105263157895, 65.78947368421053, 84.44444444444444, 70.3125, 68.0, 76.66666666666667, 61.44578313253012, 74.82517482517483, 80.0, 66.66666666666666, 69.72477064220183, 63.0, 67.85714285714286, 64.03508771929825, 67.64705882352942, 42.592592592592595, 75.0, 85.71428571428571, 72.0, 85.36585365853658, 68.0, 77.77777777777779, 60.0, null, 33.33333333333333, 80.0, 90.9090909090909, 66.66666666666666, 73.91304347826086, 77.77777777777779, 90.0, 33.33333333333333, 40.0, 58.333333333333336, 78.57142857142857, 60.0, 80.0, 63.63636363636363, 58.333333333333336, 66.66666666666666, 61.53846153846154, 52.38095238095239, 50.81967213114754, 27.500000000000004, 66.66666666666666, 69.23076923076923, 95.65217391304348, 50.0, 78.78787878787878, 94.28571428571428, 78.57142857142857, 57.692307692307686, 85.52631578947368, 90.625, 80.51948051948052, 80.48780487804879, 68.0, 72.0, 72.72727272727273, 48.484848484848484, 60.60606060606061, 84.78260869565217, 17.647058823529413, 31.25, 33.33333333333333, 75.0, 4.878048780487805, null], \"coloraxis\": \"coloraxis\", \"line\": {\"width\": 1}, \"size\": 10, \"symbol\": \"circle\"}, \"mode\": \"lines+markers\", \"name\": \"\", \"orientation\": \"v\", \"showlegend\": false, \"type\": \"scatter\", \"x\": [\"2021-03-01T00:00:00\", \"2021-03-02T00:00:00\", \"2021-03-03T00:00:00\", \"2021-03-04T00:00:00\", \"2021-03-05T00:00:00\", \"2021-03-06T00:00:00\", \"2021-03-07T00:00:00\", \"2021-03-08T00:00:00\", \"2021-03-09T00:00:00\", \"2021-03-10T00:00:00\", \"2021-03-11T00:00:00\", \"2021-03-12T00:00:00\", \"2021-03-13T00:00:00\", \"2021-03-14T00:00:00\", \"2021-03-15T00:00:00\", \"2021-03-16T00:00:00\", \"2021-03-17T00:00:00\", \"2021-03-18T00:00:00\", \"2021-03-19T00:00:00\", \"2021-03-20T00:00:00\", \"2021-03-21T00:00:00\", \"2021-03-22T00:00:00\", \"2021-03-23T00:00:00\", \"2021-03-24T00:00:00\", \"2021-03-25T00:00:00\", \"2021-03-26T00:00:00\", \"2021-03-27T00:00:00\", \"2021-03-28T00:00:00\", \"2021-03-29T00:00:00\", \"2021-03-30T00:00:00\", \"2021-03-31T00:00:00\", \"2021-04-01T00:00:00\", \"2021-04-02T00:00:00\", \"2021-04-03T00:00:00\", \"2021-04-04T00:00:00\", \"2021-04-05T00:00:00\", \"2021-04-06T00:00:00\", \"2021-04-07T00:00:00\", \"2021-04-08T00:00:00\", \"2021-04-09T00:00:00\", \"2021-04-10T00:00:00\", \"2021-04-11T00:00:00\", \"2021-04-12T00:00:00\", \"2021-04-13T00:00:00\", \"2021-04-14T00:00:00\", \"2021-04-15T00:00:00\", \"2021-04-16T00:00:00\", \"2021-04-17T00:00:00\", \"2021-04-18T00:00:00\", \"2021-04-19T00:00:00\", \"2021-04-20T00:00:00\", \"2021-04-21T00:00:00\", \"2021-04-22T00:00:00\", \"2021-04-23T00:00:00\", \"2021-04-24T00:00:00\", \"2021-04-25T00:00:00\", \"2021-04-26T00:00:00\", \"2021-04-27T00:00:00\", \"2021-04-28T00:00:00\", \"2021-04-29T00:00:00\", \"2021-04-30T00:00:00\", \"2021-05-01T00:00:00\", \"2021-05-02T00:00:00\", \"2021-05-03T00:00:00\", \"2021-05-04T00:00:00\", \"2021-05-05T00:00:00\", \"2021-05-06T00:00:00\", \"2021-05-07T00:00:00\", \"2021-05-08T00:00:00\", \"2021-05-09T00:00:00\", \"2021-05-10T00:00:00\", \"2021-05-11T00:00:00\", \"2021-05-12T00:00:00\", \"2021-05-13T00:00:00\", \"2021-05-14T00:00:00\", \"2021-05-15T00:00:00\", \"2021-05-16T00:00:00\", \"2021-05-17T00:00:00\", \"2021-05-18T00:00:00\", \"2021-05-19T00:00:00\", \"2021-05-20T00:00:00\", \"2021-05-21T00:00:00\", \"2021-05-22T00:00:00\", \"2021-05-23T00:00:00\", \"2021-05-24T00:00:00\", \"2021-05-25T00:00:00\", \"2021-05-26T00:00:00\", \"2021-05-27T00:00:00\", \"2021-05-28T00:00:00\", \"2021-05-29T00:00:00\", \"2021-05-30T00:00:00\", \"2021-05-31T00:00:00\", \"2021-06-01T00:00:00\", \"2021-06-02T00:00:00\", \"2021-06-03T00:00:00\", \"2021-06-04T00:00:00\", \"2021-06-05T00:00:00\", \"2021-06-06T00:00:00\", \"2021-06-07T00:00:00\", \"2021-06-08T00:00:00\", \"2021-06-09T00:00:00\", \"2021-06-10T00:00:00\", \"2021-06-11T00:00:00\", \"2021-06-12T00:00:00\", \"2021-06-13T00:00:00\", \"2021-06-14T00:00:00\", \"2021-06-15T00:00:00\", \"2021-06-16T00:00:00\", \"2021-06-17T00:00:00\", \"2021-06-18T00:00:00\", \"2021-06-19T00:00:00\", \"2021-06-20T00:00:00\", \"2021-06-21T00:00:00\", \"2021-06-22T00:00:00\", \"2021-06-23T00:00:00\", \"2021-06-24T00:00:00\", \"2021-06-25T00:00:00\", \"2021-06-26T00:00:00\", \"2021-06-27T00:00:00\", \"2021-06-28T00:00:00\", \"2021-06-29T00:00:00\", \"2021-06-30T00:00:00\", \"2021-07-01T00:00:00\", \"2021-07-02T00:00:00\", \"2021-07-03T00:00:00\", \"2021-07-04T00:00:00\", \"2021-07-05T00:00:00\", \"2021-07-06T00:00:00\", \"2021-07-07T00:00:00\", \"2021-07-08T00:00:00\", \"2021-07-09T00:00:00\", \"2021-07-10T00:00:00\", \"2021-07-11T00:00:00\", \"2021-07-12T00:00:00\", \"2021-07-13T00:00:00\", \"2021-07-14T00:00:00\", \"2021-07-15T00:00:00\", \"2021-07-16T00:00:00\", \"2021-07-17T00:00:00\", \"2021-07-18T00:00:00\", \"2021-07-19T00:00:00\", \"2021-07-20T00:00:00\", \"2021-07-21T00:00:00\", \"2021-07-22T00:00:00\", \"2021-07-23T00:00:00\", \"2021-07-24T00:00:00\", \"2021-07-25T00:00:00\", \"2021-07-26T00:00:00\", \"2021-07-27T00:00:00\", \"2021-07-28T00:00:00\", \"2021-07-29T00:00:00\", \"2021-07-30T00:00:00\", \"2021-07-31T00:00:00\", \"2021-08-01T00:00:00\", \"2021-08-02T00:00:00\", \"2021-08-03T00:00:00\", \"2021-08-04T00:00:00\", \"2021-08-05T00:00:00\", \"2021-08-06T00:00:00\", \"2021-08-07T00:00:00\", \"2021-08-08T00:00:00\", \"2021-08-09T00:00:00\", \"2021-08-10T00:00:00\", \"2021-08-11T00:00:00\", \"2021-08-12T00:00:00\", \"2021-08-13T00:00:00\", \"2021-08-14T00:00:00\", \"2021-08-15T00:00:00\", \"2021-08-16T00:00:00\", \"2021-08-17T00:00:00\", \"2021-08-18T00:00:00\", \"2021-08-19T00:00:00\", \"2021-08-20T00:00:00\", \"2021-08-21T00:00:00\", \"2021-08-22T00:00:00\", \"2021-08-23T00:00:00\", \"2021-08-24T00:00:00\", \"2021-08-25T00:00:00\", \"2021-08-26T00:00:00\", \"2021-08-27T00:00:00\", \"2021-08-28T00:00:00\", \"2021-08-29T00:00:00\", \"2021-08-30T00:00:00\", \"2021-08-31T00:00:00\"], \"xaxis\": \"x\", \"y\": [48.148148148148145, 66.12903225806451, 82.14285714285714, 69.23076923076923, 77.96610169491525, 86.11111111111111, 66.66666666666666, 83.87096774193549, 80.95238095238095, 67.6923076923077, 69.23076923076923, 66.66666666666666, 87.75510204081633, 83.05084745762711, 82.55813953488372, 59.61538461538461, 66.66666666666666, 70.88607594936708, 72.97297297297297, 52.94117647058824, 84.84848484848484, 79.72972972972973, 83.19327731092437, 84.61538461538461, 85.45454545454545, 70.93023255813954, 72.72727272727273, 81.35593220338984, 73.72881355932203, 80.37383177570094, 74.50980392156863, 82.14285714285714, 68.62745098039215, 63.793103448275865, 83.63636363636363, 72.26890756302521, 61.6, 65.15151515151516, 59.45945945945946, 78.37837837837837, 69.2982456140351, 81.03448275862068, 67.56756756756756, 80.0, 71.21212121212122, 81.33333333333333, 77.47747747747748, 55.00000000000001, 82.92682926829268, 48.0, 66.21621621621621, 64.40677966101694, 81.76470588235294, 64.8936170212766, 64.7887323943662, 71.73913043478261, 55.208333333333336, 66.42857142857143, 65.73033707865169, 66.3677130044843, 71.95121951219512, 86.0, 76.47058823529412, 64.55696202531645, 66.44295302013423, 65.4320987654321, 70.70063694267516, 73.07692307692307, 73.68421052631578, 61.702127659574465, 74.58563535911603, 71.1864406779661, 77.88461538461539, 65.43778801843318, 72.69076305220884, 71.17647058823529, 78.47222222222221, 67.09401709401709, 71.53558052434457, 72.64957264957265, 60.57971014492753, 80.0, 66.49214659685863, 74.21875, 59.09090909090909, 64.33823529411765, 70.38216560509554, 70.9090909090909, 65.84507042253522, 47.16981132075472, 51.31578947368421, 65.60693641618496, 58.66983372921615, 68.24817518248175, 68.33976833976834, 65.65656565656566, 76.37362637362637, 64.04494382022472, 78.10457516339869, 72.77227722772277, 75.47169811320755, 63.19702602230484, 66.51982378854625, 58.97435897435898, 80.4733727810651, 65.44502617801047, 73.45971563981043, 68.6046511627907, 70.94017094017094, 63.101604278074866, 68.46846846846847, 73.80952380952381, 70.17543859649122, 66.4, 73.80952380952381, 61.47540983606557, 68.42105263157895, 65.78947368421053, 84.44444444444444, 70.3125, 68.0, 76.66666666666667, 61.44578313253012, 74.82517482517483, 80.0, 66.66666666666666, 69.72477064220183, 63.0, 67.85714285714286, 64.03508771929825, 67.64705882352942, 42.592592592592595, 75.0, 85.71428571428571, 72.0, 85.36585365853658, 68.0, 77.77777777777779, 60.0, null, 33.33333333333333, 80.0, 90.9090909090909, 66.66666666666666, 73.91304347826086, 77.77777777777779, 90.0, 33.33333333333333, 40.0, 58.333333333333336, 78.57142857142857, 60.0, 80.0, 63.63636363636363, 58.333333333333336, 66.66666666666666, 61.53846153846154, 52.38095238095239, 50.81967213114754, 27.500000000000004, 66.66666666666666, 69.23076923076923, 95.65217391304348, 50.0, 78.78787878787878, 94.28571428571428, 78.57142857142857, 57.692307692307686, 85.52631578947368, 90.625, 80.51948051948052, 80.48780487804879, 68.0, 72.0, 72.72727272727273, 48.484848484848484, 60.60606060606061, 84.78260869565217, 17.647058823529413, 31.25, 33.33333333333333, 75.0, 4.878048780487805, null], \"yaxis\": \"y\"}],                        {\"coloraxis\": {\"colorbar\": {\"title\": {\"text\": \"Oportunidad (%)\"}}, \"colorscale\": [[0.0, \"#fcfdbf\"], [0.1111111111111111, \"#feca8d\"], [0.2222222222222222, \"#fd9668\"], [0.3333333333333333, \"#f1605d\"], [0.4444444444444444, \"#cd4071\"], [0.5555555555555556, \"#9e2f7f\"], [0.6666666666666666, \"#721f81\"], [0.7777777777777778, \"#440f76\"], [0.8888888888888888, \"#180f3d\"], [1.0, \"#000004\"]]}, \"legend\": {\"tracegroupgap\": 0}, \"margin\": {\"t\": 60}, \"template\": {\"data\": {\"bar\": [{\"error_x\": {\"color\": \"rgb(36,36,36)\"}, \"error_y\": {\"color\": \"rgb(36,36,36)\"}, \"marker\": {\"line\": {\"color\": \"white\", \"width\": 0.5}}, \"type\": \"bar\"}], \"barpolar\": [{\"marker\": {\"line\": {\"color\": \"white\", \"width\": 0.5}}, \"type\": \"barpolar\"}], \"carpet\": [{\"aaxis\": {\"endlinecolor\": \"rgb(36,36,36)\", \"gridcolor\": \"white\", \"linecolor\": \"white\", \"minorgridcolor\": \"white\", \"startlinecolor\": \"rgb(36,36,36)\"}, \"baxis\": {\"endlinecolor\": \"rgb(36,36,36)\", \"gridcolor\": \"white\", \"linecolor\": \"white\", \"minorgridcolor\": \"white\", \"startlinecolor\": \"rgb(36,36,36)\"}, \"type\": \"carpet\"}], \"choropleth\": [{\"colorbar\": {\"outlinewidth\": 1, \"tickcolor\": \"rgb(36,36,36)\", \"ticks\": \"outside\"}, \"type\": \"choropleth\"}], \"contour\": [{\"colorbar\": {\"outlinewidth\": 1, \"tickcolor\": \"rgb(36,36,36)\", \"ticks\": \"outside\"}, \"colorscale\": [[0.0, \"#440154\"], [0.1111111111111111, \"#482878\"], [0.2222222222222222, \"#3e4989\"], [0.3333333333333333, \"#31688e\"], [0.4444444444444444, \"#26828e\"], [0.5555555555555556, \"#1f9e89\"], [0.6666666666666666, \"#35b779\"], [0.7777777777777778, \"#6ece58\"], [0.8888888888888888, \"#b5de2b\"], [1.0, \"#fde725\"]], \"type\": \"contour\"}], \"contourcarpet\": [{\"colorbar\": {\"outlinewidth\": 1, \"tickcolor\": \"rgb(36,36,36)\", \"ticks\": \"outside\"}, \"type\": \"contourcarpet\"}], \"heatmap\": [{\"colorbar\": {\"outlinewidth\": 1, \"tickcolor\": \"rgb(36,36,36)\", \"ticks\": \"outside\"}, \"colorscale\": [[0.0, \"#440154\"], [0.1111111111111111, \"#482878\"], [0.2222222222222222, \"#3e4989\"], [0.3333333333333333, \"#31688e\"], [0.4444444444444444, \"#26828e\"], [0.5555555555555556, \"#1f9e89\"], [0.6666666666666666, \"#35b779\"], [0.7777777777777778, \"#6ece58\"], [0.8888888888888888, \"#b5de2b\"], [1.0, \"#fde725\"]], \"type\": \"heatmap\"}], \"heatmapgl\": [{\"colorbar\": {\"outlinewidth\": 1, \"tickcolor\": \"rgb(36,36,36)\", \"ticks\": \"outside\"}, \"colorscale\": [[0.0, \"#440154\"], [0.1111111111111111, \"#482878\"], [0.2222222222222222, \"#3e4989\"], [0.3333333333333333, \"#31688e\"], [0.4444444444444444, \"#26828e\"], [0.5555555555555556, \"#1f9e89\"], [0.6666666666666666, \"#35b779\"], [0.7777777777777778, \"#6ece58\"], [0.8888888888888888, \"#b5de2b\"], [1.0, \"#fde725\"]], \"type\": \"heatmapgl\"}], \"histogram\": [{\"marker\": {\"line\": {\"color\": \"white\", \"width\": 0.6}}, \"type\": \"histogram\"}], \"histogram2d\": [{\"colorbar\": {\"outlinewidth\": 1, \"tickcolor\": \"rgb(36,36,36)\", \"ticks\": \"outside\"}, \"colorscale\": [[0.0, \"#440154\"], [0.1111111111111111, \"#482878\"], [0.2222222222222222, \"#3e4989\"], [0.3333333333333333, \"#31688e\"], [0.4444444444444444, \"#26828e\"], [0.5555555555555556, \"#1f9e89\"], [0.6666666666666666, \"#35b779\"], [0.7777777777777778, \"#6ece58\"], [0.8888888888888888, \"#b5de2b\"], [1.0, \"#fde725\"]], \"type\": \"histogram2d\"}], \"histogram2dcontour\": [{\"colorbar\": {\"outlinewidth\": 1, \"tickcolor\": \"rgb(36,36,36)\", \"ticks\": \"outside\"}, \"colorscale\": [[0.0, \"#440154\"], [0.1111111111111111, \"#482878\"], [0.2222222222222222, \"#3e4989\"], [0.3333333333333333, \"#31688e\"], [0.4444444444444444, \"#26828e\"], [0.5555555555555556, \"#1f9e89\"], [0.6666666666666666, \"#35b779\"], [0.7777777777777778, \"#6ece58\"], [0.8888888888888888, \"#b5de2b\"], [1.0, \"#fde725\"]], \"type\": \"histogram2dcontour\"}], \"mesh3d\": [{\"colorbar\": {\"outlinewidth\": 1, \"tickcolor\": \"rgb(36,36,36)\", \"ticks\": \"outside\"}, \"type\": \"mesh3d\"}], \"parcoords\": [{\"line\": {\"colorbar\": {\"outlinewidth\": 1, \"tickcolor\": \"rgb(36,36,36)\", \"ticks\": \"outside\"}}, \"type\": \"parcoords\"}], \"pie\": [{\"automargin\": true, \"type\": \"pie\"}], \"scatter\": [{\"marker\": {\"colorbar\": {\"outlinewidth\": 1, \"tickcolor\": \"rgb(36,36,36)\", \"ticks\": \"outside\"}}, \"type\": \"scatter\"}], \"scatter3d\": [{\"line\": {\"colorbar\": {\"outlinewidth\": 1, \"tickcolor\": \"rgb(36,36,36)\", \"ticks\": \"outside\"}}, \"marker\": {\"colorbar\": {\"outlinewidth\": 1, \"tickcolor\": \"rgb(36,36,36)\", \"ticks\": \"outside\"}}, \"type\": \"scatter3d\"}], \"scattercarpet\": [{\"marker\": {\"colorbar\": {\"outlinewidth\": 1, \"tickcolor\": \"rgb(36,36,36)\", \"ticks\": \"outside\"}}, \"type\": \"scattercarpet\"}], \"scattergeo\": [{\"marker\": {\"colorbar\": {\"outlinewidth\": 1, \"tickcolor\": \"rgb(36,36,36)\", \"ticks\": \"outside\"}}, \"type\": \"scattergeo\"}], \"scattergl\": [{\"marker\": {\"colorbar\": {\"outlinewidth\": 1, \"tickcolor\": \"rgb(36,36,36)\", \"ticks\": \"outside\"}}, \"type\": \"scattergl\"}], \"scattermapbox\": [{\"marker\": {\"colorbar\": {\"outlinewidth\": 1, \"tickcolor\": \"rgb(36,36,36)\", \"ticks\": \"outside\"}}, \"type\": \"scattermapbox\"}], \"scatterpolar\": [{\"marker\": {\"colorbar\": {\"outlinewidth\": 1, \"tickcolor\": \"rgb(36,36,36)\", \"ticks\": \"outside\"}}, \"type\": \"scatterpolar\"}], \"scatterpolargl\": [{\"marker\": {\"colorbar\": {\"outlinewidth\": 1, \"tickcolor\": \"rgb(36,36,36)\", \"ticks\": \"outside\"}}, \"type\": \"scatterpolargl\"}], \"scatterternary\": [{\"marker\": {\"colorbar\": {\"outlinewidth\": 1, \"tickcolor\": \"rgb(36,36,36)\", \"ticks\": \"outside\"}}, \"type\": \"scatterternary\"}], \"surface\": [{\"colorbar\": {\"outlinewidth\": 1, \"tickcolor\": \"rgb(36,36,36)\", \"ticks\": \"outside\"}, \"colorscale\": [[0.0, \"#440154\"], [0.1111111111111111, \"#482878\"], [0.2222222222222222, \"#3e4989\"], [0.3333333333333333, \"#31688e\"], [0.4444444444444444, \"#26828e\"], [0.5555555555555556, \"#1f9e89\"], [0.6666666666666666, \"#35b779\"], [0.7777777777777778, \"#6ece58\"], [0.8888888888888888, \"#b5de2b\"], [1.0, \"#fde725\"]], \"type\": \"surface\"}], \"table\": [{\"cells\": {\"fill\": {\"color\": \"rgb(237,237,237)\"}, \"line\": {\"color\": \"white\"}}, \"header\": {\"fill\": {\"color\": \"rgb(217,217,217)\"}, \"line\": {\"color\": \"white\"}}, \"type\": \"table\"}]}, \"layout\": {\"annotationdefaults\": {\"arrowhead\": 0, \"arrowwidth\": 1}, \"autotypenumbers\": \"strict\", \"coloraxis\": {\"colorbar\": {\"outlinewidth\": 1, \"tickcolor\": \"rgb(36,36,36)\", \"ticks\": \"outside\"}}, \"colorscale\": {\"diverging\": [[0.0, \"rgb(103,0,31)\"], [0.1, \"rgb(178,24,43)\"], [0.2, \"rgb(214,96,77)\"], [0.3, \"rgb(244,165,130)\"], [0.4, \"rgb(253,219,199)\"], [0.5, \"rgb(247,247,247)\"], [0.6, \"rgb(209,229,240)\"], [0.7, \"rgb(146,197,222)\"], [0.8, \"rgb(67,147,195)\"], [0.9, \"rgb(33,102,172)\"], [1.0, \"rgb(5,48,97)\"]], \"sequential\": [[0.0, \"#440154\"], [0.1111111111111111, \"#482878\"], [0.2222222222222222, \"#3e4989\"], [0.3333333333333333, \"#31688e\"], [0.4444444444444444, \"#26828e\"], [0.5555555555555556, \"#1f9e89\"], [0.6666666666666666, \"#35b779\"], [0.7777777777777778, \"#6ece58\"], [0.8888888888888888, \"#b5de2b\"], [1.0, \"#fde725\"]], \"sequentialminus\": [[0.0, \"#440154\"], [0.1111111111111111, \"#482878\"], [0.2222222222222222, \"#3e4989\"], [0.3333333333333333, \"#31688e\"], [0.4444444444444444, \"#26828e\"], [0.5555555555555556, \"#1f9e89\"], [0.6666666666666666, \"#35b779\"], [0.7777777777777778, \"#6ece58\"], [0.8888888888888888, \"#b5de2b\"], [1.0, \"#fde725\"]]}, \"colorway\": [\"#1F77B4\", \"#FF7F0E\", \"#2CA02C\", \"#D62728\", \"#9467BD\", \"#8C564B\", \"#E377C2\", \"#7F7F7F\", \"#BCBD22\", \"#17BECF\"], \"font\": {\"color\": \"rgb(36,36,36)\"}, \"geo\": {\"bgcolor\": \"white\", \"lakecolor\": \"white\", \"landcolor\": \"white\", \"showlakes\": true, \"showland\": true, \"subunitcolor\": \"white\"}, \"hoverlabel\": {\"align\": \"left\"}, \"hovermode\": \"closest\", \"mapbox\": {\"style\": \"light\"}, \"paper_bgcolor\": \"white\", \"plot_bgcolor\": \"white\", \"polar\": {\"angularaxis\": {\"gridcolor\": \"rgb(232,232,232)\", \"linecolor\": \"rgb(36,36,36)\", \"showgrid\": false, \"showline\": true, \"ticks\": \"outside\"}, \"bgcolor\": \"white\", \"radialaxis\": {\"gridcolor\": \"rgb(232,232,232)\", \"linecolor\": \"rgb(36,36,36)\", \"showgrid\": false, \"showline\": true, \"ticks\": \"outside\"}}, \"scene\": {\"xaxis\": {\"backgroundcolor\": \"white\", \"gridcolor\": \"rgb(232,232,232)\", \"gridwidth\": 2, \"linecolor\": \"rgb(36,36,36)\", \"showbackground\": true, \"showgrid\": false, \"showline\": true, \"ticks\": \"outside\", \"zeroline\": false, \"zerolinecolor\": \"rgb(36,36,36)\"}, \"yaxis\": {\"backgroundcolor\": \"white\", \"gridcolor\": \"rgb(232,232,232)\", \"gridwidth\": 2, \"linecolor\": \"rgb(36,36,36)\", \"showbackground\": true, \"showgrid\": false, \"showline\": true, \"ticks\": \"outside\", \"zeroline\": false, \"zerolinecolor\": \"rgb(36,36,36)\"}, \"zaxis\": {\"backgroundcolor\": \"white\", \"gridcolor\": \"rgb(232,232,232)\", \"gridwidth\": 2, \"linecolor\": \"rgb(36,36,36)\", \"showbackground\": true, \"showgrid\": false, \"showline\": true, \"ticks\": \"outside\", \"zeroline\": false, \"zerolinecolor\": \"rgb(36,36,36)\"}}, \"shapedefaults\": {\"fillcolor\": \"black\", \"line\": {\"width\": 0}, \"opacity\": 0.3}, \"ternary\": {\"aaxis\": {\"gridcolor\": \"rgb(232,232,232)\", \"linecolor\": \"rgb(36,36,36)\", \"showgrid\": false, \"showline\": true, \"ticks\": \"outside\"}, \"baxis\": {\"gridcolor\": \"rgb(232,232,232)\", \"linecolor\": \"rgb(36,36,36)\", \"showgrid\": false, \"showline\": true, \"ticks\": \"outside\"}, \"bgcolor\": \"white\", \"caxis\": {\"gridcolor\": \"rgb(232,232,232)\", \"linecolor\": \"rgb(36,36,36)\", \"showgrid\": false, \"showline\": true, \"ticks\": \"outside\"}}, \"title\": {\"x\": 0.05}, \"xaxis\": {\"automargin\": true, \"gridcolor\": \"rgb(232,232,232)\", \"linecolor\": \"rgb(36,36,36)\", \"showgrid\": false, \"showline\": true, \"ticks\": \"outside\", \"title\": {\"standoff\": 15}, \"zeroline\": false, \"zerolinecolor\": \"rgb(36,36,36)\"}, \"yaxis\": {\"automargin\": true, \"gridcolor\": \"rgb(232,232,232)\", \"linecolor\": \"rgb(36,36,36)\", \"showgrid\": false, \"showline\": true, \"ticks\": \"outside\", \"title\": {\"standoff\": 15}, \"zeroline\": false, \"zerolinecolor\": \"rgb(36,36,36)\"}}}, \"title\": {\"text\": \"Capacidad de investigaci\\u00f3n de contactos estrechos\"}, \"xaxis\": {\"anchor\": \"y\", \"domain\": [0.0, 1.0], \"title\": {\"text\": \"Fecha\"}}, \"yaxis\": {\"anchor\": \"x\", \"domain\": [0.0, 1.0], \"title\": {\"text\": \"Oportunidad (%)\"}}},                        {\"responsive\": true}                    ).then(function(){\n",
       "                            \n",
       "var gd = document.getElementById('637f1328-754f-4016-a6e4-4ed4e941385a');\n",
       "var x = new MutationObserver(function (mutations, observer) {{\n",
       "        var display = window.getComputedStyle(gd).display;\n",
       "        if (!display || display === 'none') {{\n",
       "            console.log([gd, 'removed!']);\n",
       "            Plotly.purge(gd);\n",
       "            observer.disconnect();\n",
       "        }}\n",
       "}});\n",
       "\n",
       "// Listen for the removal of the full notebook cells\n",
       "var notebookContainer = gd.closest('#notebook-container');\n",
       "if (notebookContainer) {{\n",
       "    x.observe(notebookContainer, {childList: true});\n",
       "}}\n",
       "\n",
       "// Listen for the clearing of the current output cell\n",
       "var outputEl = gd.closest('.output');\n",
       "if (outputEl) {{\n",
       "    x.observe(outputEl, {childList: true});\n",
       "}}\n",
       "\n",
       "                        })                };                });            </script>        </div>"
      ]
     },
     "metadata": {},
     "output_type": "display_data"
    }
   ],
   "source": [
    "px.scatter(df_ind6_perc.reset_index(),\n",
    "        x= 'fecha_cumple_requisitos',\n",
    "        y= 'n_folio',\n",
    "        color='n_folio',\n",
    "        color_continuous_scale=px.colors.sequential.Magma_r,\n",
    "        labels={'n_folio':'Oportunidad (%)'},\n",
    "        ).update_layout(title= 'Capacidad de investigación de contactos estrechos',\n",
    "                       yaxis_title='Oportunidad (%)',\n",
    "                       xaxis_title='Fecha',\n",
    "                       template='simple_white',\n",
    "                 #      xaxis=dict(tickmode = 'array',\n",
    "                  #                tickvals = list(range(12,88,3)),\n",
    "                   #               ticktext = list(list(range(12,54,3))+list(range(1,88,3))),\n",
    "                    #             ),\n",
    "                 #   ).add_vline(x=53.5, line_width=3, line_dash='dash', line_color='gray'\n",
    "                  #             ).add_hline(y=10, \n",
    "                   #                        line_width=3, \n",
    "                    #                       line_dash='longdash', \n",
    "                     #                      line_color='olive',\n",
    "                      #                     annotation_text='Meta nacional (10%)',\n",
    "                       #                    annotation_position='bottom right'\n",
    "                        #         ).add_hline(y=mean_bac_ind, \n",
    "                         #                    line_width=3, \n",
    "                          #                   line_dash='longdash', \n",
    "                           #                  line_color='green',\n",
    "                            #                 annotation_text= 'Promedio BAC ('+str(mean_bac_ind)+'%)',\n",
    "                             #                annotation_position='bottom right'\n",
    "                              #       ).add_vrect(x0='51', x1='50', \n",
    "                               #            annotation_text='2020', \n",
    "                                #           annotation_position='top right',\n",
    "                                 #          annotation=dict(font_size=18, \n",
    "                                  #                         font_family=\"'Open Sans', verdana, arial, sans-serif\"),\n",
    "                                   #                        opacity=0, \n",
    "                                    #                       line_width=0\n",
    "                                     #     ).add_vrect(x0='84', x1='86', \n",
    "                                      #     annotation_text='2021', \n",
    "                                       #    annotation_position='top right',\n",
    "                                        #   annotation=dict(font_size=18, \n",
    "                                         #                  font_family=\"'Open Sans', verdana, arial, sans-serif\"),\n",
    "                                          #                 opacity=0, \n",
    "                                           #                line_width=0\n",
    "                                                     ).update_traces(mode='lines+markers', \n",
    "                                                                     line_color='grey',\n",
    "                                                                     marker_line_width=1, \n",
    "                                                                     marker_size=10)"
   ]
  },
  {
   "cell_type": "code",
   "execution_count": 460,
   "id": "dabbce7e",
   "metadata": {},
   "outputs": [],
   "source": [
    "mean_ind6 = df_ind6_perc.reset_index().merge(data_aysen_clean_21[['fecha_notificacion','semana_epidemiologica_21']], \n",
    "                   left_on='fecha_cumple_requisitos',\n",
    "                   right_on='fecha_notificacion',\n",
    "                   how='left').groupby('semana_epidemiologica_21').mean()['n_folio'].mean()"
   ]
  },
  {
   "cell_type": "code",
   "execution_count": 461,
   "id": "385ae5da",
   "metadata": {},
   "outputs": [
    {
     "data": {
      "application/vnd.plotly.v1+json": {
       "config": {
        "plotlyServerURL": "https://plot.ly"
       },
       "data": [
        {
         "hovertemplate": "semana_epidemiologica_21=%{x}<br>Oportunidad (%)=%{marker.color}<extra></extra>",
         "legendgroup": "",
         "line": {
          "color": "grey"
         },
         "marker": {
          "color": [
           68.93215980273553,
           74.68456977770413,
           70.9638689577162,
           80.0606773853221,
           76.42391890890919,
           68.58901539184801,
           74.45523021229572,
           64.90832380781572,
           65.71001718528736,
           68.5763896716191,
           72.04076599648329,
           68.6625430581985,
           65.32682599813417,
           65.16888750596243,
           70.39153594891685,
           68.52498401428525,
           67.96787470124758,
           71.80543601950708,
           65.37357686656647,
           76.49702274867076,
           68.4582749093662,
           54.42711545049741,
           56.63117887965927,
           76.33295766086171,
           79.55867842944811,
           48.63737186214836,
           15.711496300355586
          ],
          "coloraxis": "coloraxis",
          "line": {
           "width": 1
          },
          "size": 10,
          "symbol": "circle"
         },
         "mode": "lines+markers",
         "name": "",
         "orientation": "v",
         "showlegend": false,
         "type": "scatter",
         "x": [
          62,
          63,
          64,
          65,
          66,
          67,
          68,
          69,
          70,
          71,
          72,
          73,
          74,
          75,
          76,
          77,
          78,
          79,
          80,
          81,
          82,
          83,
          84,
          85,
          86,
          87,
          88
         ],
         "xaxis": "x",
         "y": [
          68.93215980273553,
          74.68456977770413,
          70.9638689577162,
          80.0606773853221,
          76.42391890890919,
          68.58901539184801,
          74.45523021229572,
          64.90832380781572,
          65.71001718528736,
          68.5763896716191,
          72.04076599648329,
          68.6625430581985,
          65.32682599813417,
          65.16888750596243,
          70.39153594891685,
          68.52498401428525,
          67.96787470124758,
          71.80543601950708,
          65.37357686656647,
          76.49702274867076,
          68.4582749093662,
          54.42711545049741,
          56.63117887965927,
          76.33295766086171,
          79.55867842944811,
          48.63737186214836,
          15.711496300355586
         ],
         "yaxis": "y"
        }
       ],
       "layout": {
        "annotations": [
         {
          "showarrow": false,
          "text": "Meta (80%)",
          "x": 1,
          "xanchor": "right",
          "xref": "x domain",
          "y": 80,
          "yanchor": "top",
          "yref": "y"
         },
         {
          "showarrow": false,
          "text": "Promedio (66.85%)",
          "x": 1,
          "xanchor": "right",
          "xref": "x domain",
          "y": 66.84521101672452,
          "yanchor": "top",
          "yref": "y"
         },
         {
          "font": {
           "family": "'Open Sans', verdana, arial, sans-serif",
           "size": 18
          },
          "showarrow": false,
          "text": "2020",
          "x": "53",
          "xanchor": "right",
          "xref": "x",
          "y": 1,
          "yanchor": "top",
          "yref": "y domain"
         },
         {
          "font": {
           "family": "'Open Sans', verdana, arial, sans-serif",
           "size": 18
          },
          "showarrow": false,
          "text": "2021",
          "x": "88",
          "xanchor": "right",
          "xref": "x",
          "y": 1,
          "yanchor": "top",
          "yref": "y domain"
         }
        ],
        "coloraxis": {
         "colorbar": {
          "title": {
           "text": "Oportunidad (%)"
          }
         },
         "colorscale": [
          [
           0,
           "#fcfdbf"
          ],
          [
           0.1111111111111111,
           "#feca8d"
          ],
          [
           0.2222222222222222,
           "#fd9668"
          ],
          [
           0.3333333333333333,
           "#f1605d"
          ],
          [
           0.4444444444444444,
           "#cd4071"
          ],
          [
           0.5555555555555556,
           "#9e2f7f"
          ],
          [
           0.6666666666666666,
           "#721f81"
          ],
          [
           0.7777777777777778,
           "#440f76"
          ],
          [
           0.8888888888888888,
           "#180f3d"
          ],
          [
           1,
           "#000004"
          ]
         ]
        },
        "legend": {
         "tracegroupgap": 0
        },
        "margin": {
         "t": 60
        },
        "shapes": [
         {
          "line": {
           "color": "gray",
           "dash": "dash",
           "width": 3
          },
          "type": "line",
          "x0": 53.5,
          "x1": 53.5,
          "xref": "x",
          "y0": 0,
          "y1": 1,
          "yref": "y domain"
         },
         {
          "line": {
           "color": "#222A2A",
           "dash": "longdash",
           "width": 3
          },
          "type": "line",
          "x0": 0,
          "x1": 1,
          "xref": "x domain",
          "y0": 80,
          "y1": 80,
          "yref": "y"
         },
         {
          "line": {
           "color": "#750D86",
           "dash": "longdash",
           "width": 3
          },
          "type": "line",
          "x0": 0,
          "x1": 1,
          "xref": "x domain",
          "y0": 66.84521101672452,
          "y1": 66.84521101672452,
          "yref": "y"
         },
         {
          "line": {
           "width": 0
          },
          "opacity": 0,
          "type": "rect",
          "x0": "51",
          "x1": "53",
          "xref": "x",
          "y0": 0,
          "y1": 1,
          "yref": "y domain"
         },
         {
          "line": {
           "width": 0
          },
          "opacity": 0,
          "type": "rect",
          "x0": "84",
          "x1": "88",
          "xref": "x",
          "y0": 0,
          "y1": 1,
          "yref": "y domain"
         }
        ],
        "template": {
         "data": {
          "bar": [
           {
            "error_x": {
             "color": "rgb(36,36,36)"
            },
            "error_y": {
             "color": "rgb(36,36,36)"
            },
            "marker": {
             "line": {
              "color": "white",
              "width": 0.5
             }
            },
            "type": "bar"
           }
          ],
          "barpolar": [
           {
            "marker": {
             "line": {
              "color": "white",
              "width": 0.5
             }
            },
            "type": "barpolar"
           }
          ],
          "carpet": [
           {
            "aaxis": {
             "endlinecolor": "rgb(36,36,36)",
             "gridcolor": "white",
             "linecolor": "white",
             "minorgridcolor": "white",
             "startlinecolor": "rgb(36,36,36)"
            },
            "baxis": {
             "endlinecolor": "rgb(36,36,36)",
             "gridcolor": "white",
             "linecolor": "white",
             "minorgridcolor": "white",
             "startlinecolor": "rgb(36,36,36)"
            },
            "type": "carpet"
           }
          ],
          "choropleth": [
           {
            "colorbar": {
             "outlinewidth": 1,
             "tickcolor": "rgb(36,36,36)",
             "ticks": "outside"
            },
            "type": "choropleth"
           }
          ],
          "contour": [
           {
            "colorbar": {
             "outlinewidth": 1,
             "tickcolor": "rgb(36,36,36)",
             "ticks": "outside"
            },
            "colorscale": [
             [
              0,
              "#440154"
             ],
             [
              0.1111111111111111,
              "#482878"
             ],
             [
              0.2222222222222222,
              "#3e4989"
             ],
             [
              0.3333333333333333,
              "#31688e"
             ],
             [
              0.4444444444444444,
              "#26828e"
             ],
             [
              0.5555555555555556,
              "#1f9e89"
             ],
             [
              0.6666666666666666,
              "#35b779"
             ],
             [
              0.7777777777777778,
              "#6ece58"
             ],
             [
              0.8888888888888888,
              "#b5de2b"
             ],
             [
              1,
              "#fde725"
             ]
            ],
            "type": "contour"
           }
          ],
          "contourcarpet": [
           {
            "colorbar": {
             "outlinewidth": 1,
             "tickcolor": "rgb(36,36,36)",
             "ticks": "outside"
            },
            "type": "contourcarpet"
           }
          ],
          "heatmap": [
           {
            "colorbar": {
             "outlinewidth": 1,
             "tickcolor": "rgb(36,36,36)",
             "ticks": "outside"
            },
            "colorscale": [
             [
              0,
              "#440154"
             ],
             [
              0.1111111111111111,
              "#482878"
             ],
             [
              0.2222222222222222,
              "#3e4989"
             ],
             [
              0.3333333333333333,
              "#31688e"
             ],
             [
              0.4444444444444444,
              "#26828e"
             ],
             [
              0.5555555555555556,
              "#1f9e89"
             ],
             [
              0.6666666666666666,
              "#35b779"
             ],
             [
              0.7777777777777778,
              "#6ece58"
             ],
             [
              0.8888888888888888,
              "#b5de2b"
             ],
             [
              1,
              "#fde725"
             ]
            ],
            "type": "heatmap"
           }
          ],
          "heatmapgl": [
           {
            "colorbar": {
             "outlinewidth": 1,
             "tickcolor": "rgb(36,36,36)",
             "ticks": "outside"
            },
            "colorscale": [
             [
              0,
              "#440154"
             ],
             [
              0.1111111111111111,
              "#482878"
             ],
             [
              0.2222222222222222,
              "#3e4989"
             ],
             [
              0.3333333333333333,
              "#31688e"
             ],
             [
              0.4444444444444444,
              "#26828e"
             ],
             [
              0.5555555555555556,
              "#1f9e89"
             ],
             [
              0.6666666666666666,
              "#35b779"
             ],
             [
              0.7777777777777778,
              "#6ece58"
             ],
             [
              0.8888888888888888,
              "#b5de2b"
             ],
             [
              1,
              "#fde725"
             ]
            ],
            "type": "heatmapgl"
           }
          ],
          "histogram": [
           {
            "marker": {
             "line": {
              "color": "white",
              "width": 0.6
             }
            },
            "type": "histogram"
           }
          ],
          "histogram2d": [
           {
            "colorbar": {
             "outlinewidth": 1,
             "tickcolor": "rgb(36,36,36)",
             "ticks": "outside"
            },
            "colorscale": [
             [
              0,
              "#440154"
             ],
             [
              0.1111111111111111,
              "#482878"
             ],
             [
              0.2222222222222222,
              "#3e4989"
             ],
             [
              0.3333333333333333,
              "#31688e"
             ],
             [
              0.4444444444444444,
              "#26828e"
             ],
             [
              0.5555555555555556,
              "#1f9e89"
             ],
             [
              0.6666666666666666,
              "#35b779"
             ],
             [
              0.7777777777777778,
              "#6ece58"
             ],
             [
              0.8888888888888888,
              "#b5de2b"
             ],
             [
              1,
              "#fde725"
             ]
            ],
            "type": "histogram2d"
           }
          ],
          "histogram2dcontour": [
           {
            "colorbar": {
             "outlinewidth": 1,
             "tickcolor": "rgb(36,36,36)",
             "ticks": "outside"
            },
            "colorscale": [
             [
              0,
              "#440154"
             ],
             [
              0.1111111111111111,
              "#482878"
             ],
             [
              0.2222222222222222,
              "#3e4989"
             ],
             [
              0.3333333333333333,
              "#31688e"
             ],
             [
              0.4444444444444444,
              "#26828e"
             ],
             [
              0.5555555555555556,
              "#1f9e89"
             ],
             [
              0.6666666666666666,
              "#35b779"
             ],
             [
              0.7777777777777778,
              "#6ece58"
             ],
             [
              0.8888888888888888,
              "#b5de2b"
             ],
             [
              1,
              "#fde725"
             ]
            ],
            "type": "histogram2dcontour"
           }
          ],
          "mesh3d": [
           {
            "colorbar": {
             "outlinewidth": 1,
             "tickcolor": "rgb(36,36,36)",
             "ticks": "outside"
            },
            "type": "mesh3d"
           }
          ],
          "parcoords": [
           {
            "line": {
             "colorbar": {
              "outlinewidth": 1,
              "tickcolor": "rgb(36,36,36)",
              "ticks": "outside"
             }
            },
            "type": "parcoords"
           }
          ],
          "pie": [
           {
            "automargin": true,
            "type": "pie"
           }
          ],
          "scatter": [
           {
            "marker": {
             "colorbar": {
              "outlinewidth": 1,
              "tickcolor": "rgb(36,36,36)",
              "ticks": "outside"
             }
            },
            "type": "scatter"
           }
          ],
          "scatter3d": [
           {
            "line": {
             "colorbar": {
              "outlinewidth": 1,
              "tickcolor": "rgb(36,36,36)",
              "ticks": "outside"
             }
            },
            "marker": {
             "colorbar": {
              "outlinewidth": 1,
              "tickcolor": "rgb(36,36,36)",
              "ticks": "outside"
             }
            },
            "type": "scatter3d"
           }
          ],
          "scattercarpet": [
           {
            "marker": {
             "colorbar": {
              "outlinewidth": 1,
              "tickcolor": "rgb(36,36,36)",
              "ticks": "outside"
             }
            },
            "type": "scattercarpet"
           }
          ],
          "scattergeo": [
           {
            "marker": {
             "colorbar": {
              "outlinewidth": 1,
              "tickcolor": "rgb(36,36,36)",
              "ticks": "outside"
             }
            },
            "type": "scattergeo"
           }
          ],
          "scattergl": [
           {
            "marker": {
             "colorbar": {
              "outlinewidth": 1,
              "tickcolor": "rgb(36,36,36)",
              "ticks": "outside"
             }
            },
            "type": "scattergl"
           }
          ],
          "scattermapbox": [
           {
            "marker": {
             "colorbar": {
              "outlinewidth": 1,
              "tickcolor": "rgb(36,36,36)",
              "ticks": "outside"
             }
            },
            "type": "scattermapbox"
           }
          ],
          "scatterpolar": [
           {
            "marker": {
             "colorbar": {
              "outlinewidth": 1,
              "tickcolor": "rgb(36,36,36)",
              "ticks": "outside"
             }
            },
            "type": "scatterpolar"
           }
          ],
          "scatterpolargl": [
           {
            "marker": {
             "colorbar": {
              "outlinewidth": 1,
              "tickcolor": "rgb(36,36,36)",
              "ticks": "outside"
             }
            },
            "type": "scatterpolargl"
           }
          ],
          "scatterternary": [
           {
            "marker": {
             "colorbar": {
              "outlinewidth": 1,
              "tickcolor": "rgb(36,36,36)",
              "ticks": "outside"
             }
            },
            "type": "scatterternary"
           }
          ],
          "surface": [
           {
            "colorbar": {
             "outlinewidth": 1,
             "tickcolor": "rgb(36,36,36)",
             "ticks": "outside"
            },
            "colorscale": [
             [
              0,
              "#440154"
             ],
             [
              0.1111111111111111,
              "#482878"
             ],
             [
              0.2222222222222222,
              "#3e4989"
             ],
             [
              0.3333333333333333,
              "#31688e"
             ],
             [
              0.4444444444444444,
              "#26828e"
             ],
             [
              0.5555555555555556,
              "#1f9e89"
             ],
             [
              0.6666666666666666,
              "#35b779"
             ],
             [
              0.7777777777777778,
              "#6ece58"
             ],
             [
              0.8888888888888888,
              "#b5de2b"
             ],
             [
              1,
              "#fde725"
             ]
            ],
            "type": "surface"
           }
          ],
          "table": [
           {
            "cells": {
             "fill": {
              "color": "rgb(237,237,237)"
             },
             "line": {
              "color": "white"
             }
            },
            "header": {
             "fill": {
              "color": "rgb(217,217,217)"
             },
             "line": {
              "color": "white"
             }
            },
            "type": "table"
           }
          ]
         },
         "layout": {
          "annotationdefaults": {
           "arrowhead": 0,
           "arrowwidth": 1
          },
          "autotypenumbers": "strict",
          "coloraxis": {
           "colorbar": {
            "outlinewidth": 1,
            "tickcolor": "rgb(36,36,36)",
            "ticks": "outside"
           }
          },
          "colorscale": {
           "diverging": [
            [
             0,
             "rgb(103,0,31)"
            ],
            [
             0.1,
             "rgb(178,24,43)"
            ],
            [
             0.2,
             "rgb(214,96,77)"
            ],
            [
             0.3,
             "rgb(244,165,130)"
            ],
            [
             0.4,
             "rgb(253,219,199)"
            ],
            [
             0.5,
             "rgb(247,247,247)"
            ],
            [
             0.6,
             "rgb(209,229,240)"
            ],
            [
             0.7,
             "rgb(146,197,222)"
            ],
            [
             0.8,
             "rgb(67,147,195)"
            ],
            [
             0.9,
             "rgb(33,102,172)"
            ],
            [
             1,
             "rgb(5,48,97)"
            ]
           ],
           "sequential": [
            [
             0,
             "#440154"
            ],
            [
             0.1111111111111111,
             "#482878"
            ],
            [
             0.2222222222222222,
             "#3e4989"
            ],
            [
             0.3333333333333333,
             "#31688e"
            ],
            [
             0.4444444444444444,
             "#26828e"
            ],
            [
             0.5555555555555556,
             "#1f9e89"
            ],
            [
             0.6666666666666666,
             "#35b779"
            ],
            [
             0.7777777777777778,
             "#6ece58"
            ],
            [
             0.8888888888888888,
             "#b5de2b"
            ],
            [
             1,
             "#fde725"
            ]
           ],
           "sequentialminus": [
            [
             0,
             "#440154"
            ],
            [
             0.1111111111111111,
             "#482878"
            ],
            [
             0.2222222222222222,
             "#3e4989"
            ],
            [
             0.3333333333333333,
             "#31688e"
            ],
            [
             0.4444444444444444,
             "#26828e"
            ],
            [
             0.5555555555555556,
             "#1f9e89"
            ],
            [
             0.6666666666666666,
             "#35b779"
            ],
            [
             0.7777777777777778,
             "#6ece58"
            ],
            [
             0.8888888888888888,
             "#b5de2b"
            ],
            [
             1,
             "#fde725"
            ]
           ]
          },
          "colorway": [
           "#1F77B4",
           "#FF7F0E",
           "#2CA02C",
           "#D62728",
           "#9467BD",
           "#8C564B",
           "#E377C2",
           "#7F7F7F",
           "#BCBD22",
           "#17BECF"
          ],
          "font": {
           "color": "rgb(36,36,36)"
          },
          "geo": {
           "bgcolor": "white",
           "lakecolor": "white",
           "landcolor": "white",
           "showlakes": true,
           "showland": true,
           "subunitcolor": "white"
          },
          "hoverlabel": {
           "align": "left"
          },
          "hovermode": "closest",
          "mapbox": {
           "style": "light"
          },
          "paper_bgcolor": "white",
          "plot_bgcolor": "white",
          "polar": {
           "angularaxis": {
            "gridcolor": "rgb(232,232,232)",
            "linecolor": "rgb(36,36,36)",
            "showgrid": false,
            "showline": true,
            "ticks": "outside"
           },
           "bgcolor": "white",
           "radialaxis": {
            "gridcolor": "rgb(232,232,232)",
            "linecolor": "rgb(36,36,36)",
            "showgrid": false,
            "showline": true,
            "ticks": "outside"
           }
          },
          "scene": {
           "xaxis": {
            "backgroundcolor": "white",
            "gridcolor": "rgb(232,232,232)",
            "gridwidth": 2,
            "linecolor": "rgb(36,36,36)",
            "showbackground": true,
            "showgrid": false,
            "showline": true,
            "ticks": "outside",
            "zeroline": false,
            "zerolinecolor": "rgb(36,36,36)"
           },
           "yaxis": {
            "backgroundcolor": "white",
            "gridcolor": "rgb(232,232,232)",
            "gridwidth": 2,
            "linecolor": "rgb(36,36,36)",
            "showbackground": true,
            "showgrid": false,
            "showline": true,
            "ticks": "outside",
            "zeroline": false,
            "zerolinecolor": "rgb(36,36,36)"
           },
           "zaxis": {
            "backgroundcolor": "white",
            "gridcolor": "rgb(232,232,232)",
            "gridwidth": 2,
            "linecolor": "rgb(36,36,36)",
            "showbackground": true,
            "showgrid": false,
            "showline": true,
            "ticks": "outside",
            "zeroline": false,
            "zerolinecolor": "rgb(36,36,36)"
           }
          },
          "shapedefaults": {
           "fillcolor": "black",
           "line": {
            "width": 0
           },
           "opacity": 0.3
          },
          "ternary": {
           "aaxis": {
            "gridcolor": "rgb(232,232,232)",
            "linecolor": "rgb(36,36,36)",
            "showgrid": false,
            "showline": true,
            "ticks": "outside"
           },
           "baxis": {
            "gridcolor": "rgb(232,232,232)",
            "linecolor": "rgb(36,36,36)",
            "showgrid": false,
            "showline": true,
            "ticks": "outside"
           },
           "bgcolor": "white",
           "caxis": {
            "gridcolor": "rgb(232,232,232)",
            "linecolor": "rgb(36,36,36)",
            "showgrid": false,
            "showline": true,
            "ticks": "outside"
           }
          },
          "title": {
           "x": 0.05
          },
          "xaxis": {
           "automargin": true,
           "gridcolor": "rgb(232,232,232)",
           "linecolor": "rgb(36,36,36)",
           "showgrid": false,
           "showline": true,
           "ticks": "outside",
           "title": {
            "standoff": 15
           },
           "zeroline": false,
           "zerolinecolor": "rgb(36,36,36)"
          },
          "yaxis": {
           "automargin": true,
           "gridcolor": "rgb(232,232,232)",
           "linecolor": "rgb(36,36,36)",
           "showgrid": false,
           "showline": true,
           "ticks": "outside",
           "title": {
            "standoff": 15
           },
           "zeroline": false,
           "zerolinecolor": "rgb(36,36,36)"
          }
         }
        },
        "title": {
         "text": "Ind6: Capacidad de investigación de contactos"
        },
        "xaxis": {
         "anchor": "y",
         "domain": [
          0,
          1
         ],
         "tickmode": "array",
         "ticktext": [
          12,
          15,
          18,
          21,
          24,
          27,
          30,
          33,
          36,
          39,
          42,
          45,
          48,
          51,
          1,
          4,
          7,
          10,
          13,
          16,
          19,
          22,
          25,
          28,
          31,
          34,
          37,
          40,
          43,
          46,
          49,
          52,
          55,
          58,
          61,
          64,
          67,
          70,
          73,
          76,
          79,
          82,
          85
         ],
         "tickvals": [
          12,
          15,
          18,
          21,
          24,
          27,
          30,
          33,
          36,
          39,
          42,
          45,
          48,
          51,
          54,
          57,
          60,
          63,
          66,
          69,
          72,
          75,
          78,
          81,
          84,
          87
         ],
         "title": {
          "text": "Semana epidemiológica"
         }
        },
        "yaxis": {
         "anchor": "x",
         "domain": [
          0,
          1
         ],
         "range": [
          0,
          100
         ],
         "title": {
          "text": "Oportunidad (%)"
         }
        }
       }
      },
      "text/html": [
       "<div>                            <div id=\"76f7c4a2-d73b-499c-873f-00251232d158\" class=\"plotly-graph-div\" style=\"height:525px; width:100%;\"></div>            <script type=\"text/javascript\">                require([\"plotly\"], function(Plotly) {                    window.PLOTLYENV=window.PLOTLYENV || {};                                    if (document.getElementById(\"76f7c4a2-d73b-499c-873f-00251232d158\")) {                    Plotly.newPlot(                        \"76f7c4a2-d73b-499c-873f-00251232d158\",                        [{\"hovertemplate\": \"semana_epidemiologica_21=%{x}<br>Oportunidad (%)=%{marker.color}<extra></extra>\", \"legendgroup\": \"\", \"line\": {\"color\": \"grey\"}, \"marker\": {\"color\": [68.93215980273553, 74.68456977770413, 70.9638689577162, 80.0606773853221, 76.42391890890919, 68.58901539184801, 74.45523021229572, 64.90832380781572, 65.71001718528736, 68.5763896716191, 72.04076599648329, 68.6625430581985, 65.32682599813417, 65.16888750596243, 70.39153594891685, 68.52498401428525, 67.96787470124758, 71.80543601950708, 65.37357686656647, 76.49702274867076, 68.4582749093662, 54.42711545049741, 56.63117887965927, 76.33295766086171, 79.55867842944811, 48.63737186214836, 15.711496300355586], \"coloraxis\": \"coloraxis\", \"line\": {\"width\": 1}, \"size\": 10, \"symbol\": \"circle\"}, \"mode\": \"lines+markers\", \"name\": \"\", \"orientation\": \"v\", \"showlegend\": false, \"type\": \"scatter\", \"x\": [62, 63, 64, 65, 66, 67, 68, 69, 70, 71, 72, 73, 74, 75, 76, 77, 78, 79, 80, 81, 82, 83, 84, 85, 86, 87, 88], \"xaxis\": \"x\", \"y\": [68.93215980273553, 74.68456977770413, 70.9638689577162, 80.0606773853221, 76.42391890890919, 68.58901539184801, 74.45523021229572, 64.90832380781572, 65.71001718528736, 68.5763896716191, 72.04076599648329, 68.6625430581985, 65.32682599813417, 65.16888750596243, 70.39153594891685, 68.52498401428525, 67.96787470124758, 71.80543601950708, 65.37357686656647, 76.49702274867076, 68.4582749093662, 54.42711545049741, 56.63117887965927, 76.33295766086171, 79.55867842944811, 48.63737186214836, 15.711496300355586], \"yaxis\": \"y\"}],                        {\"annotations\": [{\"showarrow\": false, \"text\": \"Meta (80%)\", \"x\": 1, \"xanchor\": \"right\", \"xref\": \"x domain\", \"y\": 80, \"yanchor\": \"top\", \"yref\": \"y\"}, {\"showarrow\": false, \"text\": \"Promedio (66.85%)\", \"x\": 1, \"xanchor\": \"right\", \"xref\": \"x domain\", \"y\": 66.84521101672452, \"yanchor\": \"top\", \"yref\": \"y\"}, {\"font\": {\"family\": \"'Open Sans', verdana, arial, sans-serif\", \"size\": 18}, \"showarrow\": false, \"text\": \"2020\", \"x\": \"53\", \"xanchor\": \"right\", \"xref\": \"x\", \"y\": 1, \"yanchor\": \"top\", \"yref\": \"y domain\"}, {\"font\": {\"family\": \"'Open Sans', verdana, arial, sans-serif\", \"size\": 18}, \"showarrow\": false, \"text\": \"2021\", \"x\": \"88\", \"xanchor\": \"right\", \"xref\": \"x\", \"y\": 1, \"yanchor\": \"top\", \"yref\": \"y domain\"}], \"coloraxis\": {\"colorbar\": {\"title\": {\"text\": \"Oportunidad (%)\"}}, \"colorscale\": [[0.0, \"#fcfdbf\"], [0.1111111111111111, \"#feca8d\"], [0.2222222222222222, \"#fd9668\"], [0.3333333333333333, \"#f1605d\"], [0.4444444444444444, \"#cd4071\"], [0.5555555555555556, \"#9e2f7f\"], [0.6666666666666666, \"#721f81\"], [0.7777777777777778, \"#440f76\"], [0.8888888888888888, \"#180f3d\"], [1.0, \"#000004\"]]}, \"legend\": {\"tracegroupgap\": 0}, \"margin\": {\"t\": 60}, \"shapes\": [{\"line\": {\"color\": \"gray\", \"dash\": \"dash\", \"width\": 3}, \"type\": \"line\", \"x0\": 53.5, \"x1\": 53.5, \"xref\": \"x\", \"y0\": 0, \"y1\": 1, \"yref\": \"y domain\"}, {\"line\": {\"color\": \"#222A2A\", \"dash\": \"longdash\", \"width\": 3}, \"type\": \"line\", \"x0\": 0, \"x1\": 1, \"xref\": \"x domain\", \"y0\": 80, \"y1\": 80, \"yref\": \"y\"}, {\"line\": {\"color\": \"#750D86\", \"dash\": \"longdash\", \"width\": 3}, \"type\": \"line\", \"x0\": 0, \"x1\": 1, \"xref\": \"x domain\", \"y0\": 66.84521101672452, \"y1\": 66.84521101672452, \"yref\": \"y\"}, {\"line\": {\"width\": 0}, \"opacity\": 0, \"type\": \"rect\", \"x0\": \"51\", \"x1\": \"53\", \"xref\": \"x\", \"y0\": 0, \"y1\": 1, \"yref\": \"y domain\"}, {\"line\": {\"width\": 0}, \"opacity\": 0, \"type\": \"rect\", \"x0\": \"84\", \"x1\": \"88\", \"xref\": \"x\", \"y0\": 0, \"y1\": 1, \"yref\": \"y domain\"}], \"template\": {\"data\": {\"bar\": [{\"error_x\": {\"color\": \"rgb(36,36,36)\"}, \"error_y\": {\"color\": \"rgb(36,36,36)\"}, \"marker\": {\"line\": {\"color\": \"white\", \"width\": 0.5}}, \"type\": \"bar\"}], \"barpolar\": [{\"marker\": {\"line\": {\"color\": \"white\", \"width\": 0.5}}, \"type\": \"barpolar\"}], \"carpet\": [{\"aaxis\": {\"endlinecolor\": \"rgb(36,36,36)\", \"gridcolor\": \"white\", \"linecolor\": \"white\", \"minorgridcolor\": \"white\", \"startlinecolor\": \"rgb(36,36,36)\"}, \"baxis\": {\"endlinecolor\": \"rgb(36,36,36)\", \"gridcolor\": \"white\", \"linecolor\": \"white\", \"minorgridcolor\": \"white\", \"startlinecolor\": \"rgb(36,36,36)\"}, \"type\": \"carpet\"}], \"choropleth\": [{\"colorbar\": {\"outlinewidth\": 1, \"tickcolor\": \"rgb(36,36,36)\", \"ticks\": \"outside\"}, \"type\": \"choropleth\"}], \"contour\": [{\"colorbar\": {\"outlinewidth\": 1, \"tickcolor\": \"rgb(36,36,36)\", \"ticks\": \"outside\"}, \"colorscale\": [[0.0, \"#440154\"], [0.1111111111111111, \"#482878\"], [0.2222222222222222, \"#3e4989\"], [0.3333333333333333, \"#31688e\"], [0.4444444444444444, \"#26828e\"], [0.5555555555555556, \"#1f9e89\"], [0.6666666666666666, \"#35b779\"], [0.7777777777777778, \"#6ece58\"], [0.8888888888888888, \"#b5de2b\"], [1.0, \"#fde725\"]], \"type\": \"contour\"}], \"contourcarpet\": [{\"colorbar\": {\"outlinewidth\": 1, \"tickcolor\": \"rgb(36,36,36)\", \"ticks\": \"outside\"}, \"type\": \"contourcarpet\"}], \"heatmap\": [{\"colorbar\": {\"outlinewidth\": 1, \"tickcolor\": \"rgb(36,36,36)\", \"ticks\": \"outside\"}, \"colorscale\": [[0.0, \"#440154\"], [0.1111111111111111, \"#482878\"], [0.2222222222222222, \"#3e4989\"], [0.3333333333333333, \"#31688e\"], [0.4444444444444444, \"#26828e\"], [0.5555555555555556, \"#1f9e89\"], [0.6666666666666666, \"#35b779\"], [0.7777777777777778, \"#6ece58\"], [0.8888888888888888, \"#b5de2b\"], [1.0, \"#fde725\"]], \"type\": \"heatmap\"}], \"heatmapgl\": [{\"colorbar\": {\"outlinewidth\": 1, \"tickcolor\": \"rgb(36,36,36)\", \"ticks\": \"outside\"}, \"colorscale\": [[0.0, \"#440154\"], [0.1111111111111111, \"#482878\"], [0.2222222222222222, \"#3e4989\"], [0.3333333333333333, \"#31688e\"], [0.4444444444444444, \"#26828e\"], [0.5555555555555556, \"#1f9e89\"], [0.6666666666666666, \"#35b779\"], [0.7777777777777778, \"#6ece58\"], [0.8888888888888888, \"#b5de2b\"], [1.0, \"#fde725\"]], \"type\": \"heatmapgl\"}], \"histogram\": [{\"marker\": {\"line\": {\"color\": \"white\", \"width\": 0.6}}, \"type\": \"histogram\"}], \"histogram2d\": [{\"colorbar\": {\"outlinewidth\": 1, \"tickcolor\": \"rgb(36,36,36)\", \"ticks\": \"outside\"}, \"colorscale\": [[0.0, \"#440154\"], [0.1111111111111111, \"#482878\"], [0.2222222222222222, \"#3e4989\"], [0.3333333333333333, \"#31688e\"], [0.4444444444444444, \"#26828e\"], [0.5555555555555556, \"#1f9e89\"], [0.6666666666666666, \"#35b779\"], [0.7777777777777778, \"#6ece58\"], [0.8888888888888888, \"#b5de2b\"], [1.0, \"#fde725\"]], \"type\": \"histogram2d\"}], \"histogram2dcontour\": [{\"colorbar\": {\"outlinewidth\": 1, \"tickcolor\": \"rgb(36,36,36)\", \"ticks\": \"outside\"}, \"colorscale\": [[0.0, \"#440154\"], [0.1111111111111111, \"#482878\"], [0.2222222222222222, \"#3e4989\"], [0.3333333333333333, \"#31688e\"], [0.4444444444444444, \"#26828e\"], [0.5555555555555556, \"#1f9e89\"], [0.6666666666666666, \"#35b779\"], [0.7777777777777778, \"#6ece58\"], [0.8888888888888888, \"#b5de2b\"], [1.0, \"#fde725\"]], \"type\": \"histogram2dcontour\"}], \"mesh3d\": [{\"colorbar\": {\"outlinewidth\": 1, \"tickcolor\": \"rgb(36,36,36)\", \"ticks\": \"outside\"}, \"type\": \"mesh3d\"}], \"parcoords\": [{\"line\": {\"colorbar\": {\"outlinewidth\": 1, \"tickcolor\": \"rgb(36,36,36)\", \"ticks\": \"outside\"}}, \"type\": \"parcoords\"}], \"pie\": [{\"automargin\": true, \"type\": \"pie\"}], \"scatter\": [{\"marker\": {\"colorbar\": {\"outlinewidth\": 1, \"tickcolor\": \"rgb(36,36,36)\", \"ticks\": \"outside\"}}, \"type\": \"scatter\"}], \"scatter3d\": [{\"line\": {\"colorbar\": {\"outlinewidth\": 1, \"tickcolor\": \"rgb(36,36,36)\", \"ticks\": \"outside\"}}, \"marker\": {\"colorbar\": {\"outlinewidth\": 1, \"tickcolor\": \"rgb(36,36,36)\", \"ticks\": \"outside\"}}, \"type\": \"scatter3d\"}], \"scattercarpet\": [{\"marker\": {\"colorbar\": {\"outlinewidth\": 1, \"tickcolor\": \"rgb(36,36,36)\", \"ticks\": \"outside\"}}, \"type\": \"scattercarpet\"}], \"scattergeo\": [{\"marker\": {\"colorbar\": {\"outlinewidth\": 1, \"tickcolor\": \"rgb(36,36,36)\", \"ticks\": \"outside\"}}, \"type\": \"scattergeo\"}], \"scattergl\": [{\"marker\": {\"colorbar\": {\"outlinewidth\": 1, \"tickcolor\": \"rgb(36,36,36)\", \"ticks\": \"outside\"}}, \"type\": \"scattergl\"}], \"scattermapbox\": [{\"marker\": {\"colorbar\": {\"outlinewidth\": 1, \"tickcolor\": \"rgb(36,36,36)\", \"ticks\": \"outside\"}}, \"type\": \"scattermapbox\"}], \"scatterpolar\": [{\"marker\": {\"colorbar\": {\"outlinewidth\": 1, \"tickcolor\": \"rgb(36,36,36)\", \"ticks\": \"outside\"}}, \"type\": \"scatterpolar\"}], \"scatterpolargl\": [{\"marker\": {\"colorbar\": {\"outlinewidth\": 1, \"tickcolor\": \"rgb(36,36,36)\", \"ticks\": \"outside\"}}, \"type\": \"scatterpolargl\"}], \"scatterternary\": [{\"marker\": {\"colorbar\": {\"outlinewidth\": 1, \"tickcolor\": \"rgb(36,36,36)\", \"ticks\": \"outside\"}}, \"type\": \"scatterternary\"}], \"surface\": [{\"colorbar\": {\"outlinewidth\": 1, \"tickcolor\": \"rgb(36,36,36)\", \"ticks\": \"outside\"}, \"colorscale\": [[0.0, \"#440154\"], [0.1111111111111111, \"#482878\"], [0.2222222222222222, \"#3e4989\"], [0.3333333333333333, \"#31688e\"], [0.4444444444444444, \"#26828e\"], [0.5555555555555556, \"#1f9e89\"], [0.6666666666666666, \"#35b779\"], [0.7777777777777778, \"#6ece58\"], [0.8888888888888888, \"#b5de2b\"], [1.0, \"#fde725\"]], \"type\": \"surface\"}], \"table\": [{\"cells\": {\"fill\": {\"color\": \"rgb(237,237,237)\"}, \"line\": {\"color\": \"white\"}}, \"header\": {\"fill\": {\"color\": \"rgb(217,217,217)\"}, \"line\": {\"color\": \"white\"}}, \"type\": \"table\"}]}, \"layout\": {\"annotationdefaults\": {\"arrowhead\": 0, \"arrowwidth\": 1}, \"autotypenumbers\": \"strict\", \"coloraxis\": {\"colorbar\": {\"outlinewidth\": 1, \"tickcolor\": \"rgb(36,36,36)\", \"ticks\": \"outside\"}}, \"colorscale\": {\"diverging\": [[0.0, \"rgb(103,0,31)\"], [0.1, \"rgb(178,24,43)\"], [0.2, \"rgb(214,96,77)\"], [0.3, \"rgb(244,165,130)\"], [0.4, \"rgb(253,219,199)\"], [0.5, \"rgb(247,247,247)\"], [0.6, \"rgb(209,229,240)\"], [0.7, \"rgb(146,197,222)\"], [0.8, \"rgb(67,147,195)\"], [0.9, \"rgb(33,102,172)\"], [1.0, \"rgb(5,48,97)\"]], \"sequential\": [[0.0, \"#440154\"], [0.1111111111111111, \"#482878\"], [0.2222222222222222, \"#3e4989\"], [0.3333333333333333, \"#31688e\"], [0.4444444444444444, \"#26828e\"], [0.5555555555555556, \"#1f9e89\"], [0.6666666666666666, \"#35b779\"], [0.7777777777777778, \"#6ece58\"], [0.8888888888888888, \"#b5de2b\"], [1.0, \"#fde725\"]], \"sequentialminus\": [[0.0, \"#440154\"], [0.1111111111111111, \"#482878\"], [0.2222222222222222, \"#3e4989\"], [0.3333333333333333, \"#31688e\"], [0.4444444444444444, \"#26828e\"], [0.5555555555555556, \"#1f9e89\"], [0.6666666666666666, \"#35b779\"], [0.7777777777777778, \"#6ece58\"], [0.8888888888888888, \"#b5de2b\"], [1.0, \"#fde725\"]]}, \"colorway\": [\"#1F77B4\", \"#FF7F0E\", \"#2CA02C\", \"#D62728\", \"#9467BD\", \"#8C564B\", \"#E377C2\", \"#7F7F7F\", \"#BCBD22\", \"#17BECF\"], \"font\": {\"color\": \"rgb(36,36,36)\"}, \"geo\": {\"bgcolor\": \"white\", \"lakecolor\": \"white\", \"landcolor\": \"white\", \"showlakes\": true, \"showland\": true, \"subunitcolor\": \"white\"}, \"hoverlabel\": {\"align\": \"left\"}, \"hovermode\": \"closest\", \"mapbox\": {\"style\": \"light\"}, \"paper_bgcolor\": \"white\", \"plot_bgcolor\": \"white\", \"polar\": {\"angularaxis\": {\"gridcolor\": \"rgb(232,232,232)\", \"linecolor\": \"rgb(36,36,36)\", \"showgrid\": false, \"showline\": true, \"ticks\": \"outside\"}, \"bgcolor\": \"white\", \"radialaxis\": {\"gridcolor\": \"rgb(232,232,232)\", \"linecolor\": \"rgb(36,36,36)\", \"showgrid\": false, \"showline\": true, \"ticks\": \"outside\"}}, \"scene\": {\"xaxis\": {\"backgroundcolor\": \"white\", \"gridcolor\": \"rgb(232,232,232)\", \"gridwidth\": 2, \"linecolor\": \"rgb(36,36,36)\", \"showbackground\": true, \"showgrid\": false, \"showline\": true, \"ticks\": \"outside\", \"zeroline\": false, \"zerolinecolor\": \"rgb(36,36,36)\"}, \"yaxis\": {\"backgroundcolor\": \"white\", \"gridcolor\": \"rgb(232,232,232)\", \"gridwidth\": 2, \"linecolor\": \"rgb(36,36,36)\", \"showbackground\": true, \"showgrid\": false, \"showline\": true, \"ticks\": \"outside\", \"zeroline\": false, \"zerolinecolor\": \"rgb(36,36,36)\"}, \"zaxis\": {\"backgroundcolor\": \"white\", \"gridcolor\": \"rgb(232,232,232)\", \"gridwidth\": 2, \"linecolor\": \"rgb(36,36,36)\", \"showbackground\": true, \"showgrid\": false, \"showline\": true, \"ticks\": \"outside\", \"zeroline\": false, \"zerolinecolor\": \"rgb(36,36,36)\"}}, \"shapedefaults\": {\"fillcolor\": \"black\", \"line\": {\"width\": 0}, \"opacity\": 0.3}, \"ternary\": {\"aaxis\": {\"gridcolor\": \"rgb(232,232,232)\", \"linecolor\": \"rgb(36,36,36)\", \"showgrid\": false, \"showline\": true, \"ticks\": \"outside\"}, \"baxis\": {\"gridcolor\": \"rgb(232,232,232)\", \"linecolor\": \"rgb(36,36,36)\", \"showgrid\": false, \"showline\": true, \"ticks\": \"outside\"}, \"bgcolor\": \"white\", \"caxis\": {\"gridcolor\": \"rgb(232,232,232)\", \"linecolor\": \"rgb(36,36,36)\", \"showgrid\": false, \"showline\": true, \"ticks\": \"outside\"}}, \"title\": {\"x\": 0.05}, \"xaxis\": {\"automargin\": true, \"gridcolor\": \"rgb(232,232,232)\", \"linecolor\": \"rgb(36,36,36)\", \"showgrid\": false, \"showline\": true, \"ticks\": \"outside\", \"title\": {\"standoff\": 15}, \"zeroline\": false, \"zerolinecolor\": \"rgb(36,36,36)\"}, \"yaxis\": {\"automargin\": true, \"gridcolor\": \"rgb(232,232,232)\", \"linecolor\": \"rgb(36,36,36)\", \"showgrid\": false, \"showline\": true, \"ticks\": \"outside\", \"title\": {\"standoff\": 15}, \"zeroline\": false, \"zerolinecolor\": \"rgb(36,36,36)\"}}}, \"title\": {\"text\": \"Ind6: Capacidad de investigaci\\u00f3n de contactos\"}, \"xaxis\": {\"anchor\": \"y\", \"domain\": [0.0, 1.0], \"tickmode\": \"array\", \"ticktext\": [12, 15, 18, 21, 24, 27, 30, 33, 36, 39, 42, 45, 48, 51, 1, 4, 7, 10, 13, 16, 19, 22, 25, 28, 31, 34, 37, 40, 43, 46, 49, 52, 55, 58, 61, 64, 67, 70, 73, 76, 79, 82, 85], \"tickvals\": [12, 15, 18, 21, 24, 27, 30, 33, 36, 39, 42, 45, 48, 51, 54, 57, 60, 63, 66, 69, 72, 75, 78, 81, 84, 87], \"title\": {\"text\": \"Semana epidemiol\\u00f3gica\"}}, \"yaxis\": {\"anchor\": \"x\", \"domain\": [0.0, 1.0], \"range\": [0, 100], \"title\": {\"text\": \"Oportunidad (%)\"}}},                        {\"responsive\": true}                    ).then(function(){\n",
       "                            \n",
       "var gd = document.getElementById('76f7c4a2-d73b-499c-873f-00251232d158');\n",
       "var x = new MutationObserver(function (mutations, observer) {{\n",
       "        var display = window.getComputedStyle(gd).display;\n",
       "        if (!display || display === 'none') {{\n",
       "            console.log([gd, 'removed!']);\n",
       "            Plotly.purge(gd);\n",
       "            observer.disconnect();\n",
       "        }}\n",
       "}});\n",
       "\n",
       "// Listen for the removal of the full notebook cells\n",
       "var notebookContainer = gd.closest('#notebook-container');\n",
       "if (notebookContainer) {{\n",
       "    x.observe(notebookContainer, {childList: true});\n",
       "}}\n",
       "\n",
       "// Listen for the clearing of the current output cell\n",
       "var outputEl = gd.closest('.output');\n",
       "if (outputEl) {{\n",
       "    x.observe(outputEl, {childList: true});\n",
       "}}\n",
       "\n",
       "                        })                };                });            </script>        </div>"
      ]
     },
     "metadata": {},
     "output_type": "display_data"
    }
   ],
   "source": [
    "px.scatter(df_ind6_perc.reset_index().merge(data_aysen_clean_21[['fecha_notificacion','semana_epidemiologica_21']], \n",
    "                   left_on='fecha_cumple_requisitos',\n",
    "                   right_on='fecha_notificacion',\n",
    "                   how='left').groupby('semana_epidemiologica_21').mean().reset_index(),\n",
    "        x= 'semana_epidemiologica_21',\n",
    "        y= 'n_folio',\n",
    "        #trendline='rolling',\n",
    "        #trendline_options=dict(window=5),\n",
    "        color='n_folio',\n",
    "        color_continuous_scale=px.colors.sequential.Magma_r,\n",
    "        labels={'n_folio':'Oportunidad (%)'},\n",
    "        ).update_layout(title= 'Ind6: Capacidad de investigación de contactos',\n",
    "                       yaxis_title='Oportunidad (%)',\n",
    "                       xaxis_title='Semana epidemiológica',\n",
    "                       yaxis_range= [0,100],\n",
    "                       template='simple_white',\n",
    "                       xaxis=dict(tickmode = 'array',\n",
    "                                  tickvals = list(range(12,88,3)),\n",
    "                                  ticktext = list(list(range(12,54,3))+list(range(1,88,3))),\n",
    "                                 ),\n",
    "                    ).add_vline(x=53.5, line_width=3, line_dash='dash', line_color='gray'\n",
    "                              ).add_hline(y=80,\n",
    "                                            line_width=3, \n",
    "                                            line_dash='longdash', \n",
    "                                            line_color='#222A2A',\n",
    "                                            annotation_text='Meta (80%)',\n",
    "                                            annotation_position='bottom right'\n",
    "                                 ).add_hline(y=mean_ind6, \n",
    "                                             line_width=3, \n",
    "                                             line_dash='longdash', \n",
    "                                             line_color='#750D86',\n",
    "                                             annotation_text= 'Promedio ('+str(round(mean_ind6, 2))+'%)',\n",
    "                                             annotation_position='bottom right'\n",
    "                                     ).add_vrect(x0='51', x1='53', \n",
    "                                           annotation_text='2020', \n",
    "                                           annotation_position='top right',\n",
    "                                           annotation=dict(font_size=18, \n",
    "                                                           font_family=\"'Open Sans', verdana, arial, sans-serif\"),\n",
    "                                                           opacity=0, \n",
    "                                                           line_width=0\n",
    "                                          ).add_vrect(x0='84', x1='88', \n",
    "                                           annotation_text='2021', \n",
    "                                           annotation_position='top right',\n",
    "                                           annotation=dict(font_size=18, \n",
    "                                                           font_family=\"'Open Sans', verdana, arial, sans-serif\"),\n",
    "                                                           opacity=0, \n",
    "                                                           line_width=0\n",
    "                                                     ).update_traces(mode='lines+markers', \n",
    "                                                                     line_color='grey',\n",
    "                                                                     marker_line_width=1, \n",
    "                                                                     marker_size=10)"
   ]
  },
  {
   "cell_type": "markdown",
   "id": "5420b74e",
   "metadata": {},
   "source": [
    "# Indicador 7: Capacidad de investigación de contactos\n",
    "\n",
    "## Objetivo: Evaluar la capacidad de seguimiento de contactos\n",
    "\n",
    "### Meta: >80%\n",
    "\n",
    "**Periodicidad:** Semanal\n",
    "\n",
    "**Escala territorial:** Comuna, Regional, Nacional\n",
    "\n",
    "**Fuente de información:** base EPIVIGILA actualizada con los reportes de laboratorio al día de la determinación del indicador. Base de seguimiento."
   ]
  },
  {
   "cell_type": "markdown",
   "id": "bf1fcd6e",
   "metadata": {},
   "source": [
    "**Cálculo del indicador a nivel comunal**\n",
    "\n",
    "$\\frac{No.\\:contactos\\:identificados\\:investigados\\:dentro\\:de\\:48hrs\\:por\\:comuna\\:1er\\:establecimiento\\:semana\\:x}{No.\\:contactos\\:identificados\\:por\\:comuna\\:1er\\:establecimiento\\:semana\\:x}x100$\n",
    "\n",
    "**Cálculo del indicador a nivel regional**\n",
    "\n",
    "$\\frac{No.\\:contactos\\:identificados\\:investigados\\:dentro\\:de\\:48hrs\\:por\\:región\\:1er\\:establecimiento\\:semana\\:x}{No.\\:contactos\\:identificados\\:por\\:región\\:1er\\:establecimiento\\:semana\\:x}x100$"
   ]
  },
  {
   "cell_type": "markdown",
   "id": "315e67aa",
   "metadata": {},
   "source": [
    "**Observaciones**\n",
    "\n",
    "- No se incluyen los contactos nuevos no notificados\n",
    "- Se considera como registro de contacto aquel que cumple las condiciones para estar en la bandeja de seguimiento\n",
    "- Se consideran sólo registros de casos activos o egresados en la bandeja de seguimiento\n",
    "- El primer establecimiento corresponde al establecimiento dado por API FONASA. Si el registro no hace match con API FONASA, se considera el establecimiento para este indicador, aún si se derivó previo a la investigación epidemiológica"
   ]
  },
  {
   "cell_type": "code",
   "execution_count": 462,
   "id": "22039d18",
   "metadata": {},
   "outputs": [],
   "source": [
    "df_seguimiento_ind7 = df_seguimiento_clean"
   ]
  },
  {
   "cell_type": "code",
   "execution_count": 463,
   "id": "d86301c6",
   "metadata": {},
   "outputs": [],
   "source": [
    "df_seguimiento_ind7= df_seguimiento_ind7[df_seguimiento_ind7['nfolio_contacto_estrecho'].notna()]#[['fecha_cumple_requisitos','dia_contacto']]"
   ]
  },
  {
   "cell_type": "code",
   "execution_count": 464,
   "id": "dc923f65",
   "metadata": {},
   "outputs": [],
   "source": [
    "# Filtra contactos que hayan sido localizados\n",
    "\n",
    "df_seguimiento_ind7 = df_seguimiento_ind7[df_seguimiento_ind7['contacto_localizado']=='t']"
   ]
  },
  {
   "cell_type": "code",
   "execution_count": 465,
   "id": "b0cd4ff2",
   "metadata": {},
   "outputs": [],
   "source": [
    "# Se consideran sólo registros de casos activos o egresados\n",
    "df_seguimiento_ind7_clean = df_seguimiento_ind7[(df_seguimiento_ind7['suspendido']=='activo')|(df_seguimiento_ind7['suspendido']=='egresado')]"
   ]
  },
  {
   "cell_type": "code",
   "execution_count": 466,
   "id": "b2238f3d",
   "metadata": {},
   "outputs": [],
   "source": [
    "df_seguimiento_ind7_clean = df_seguimiento_ind7_clean[df_seguimiento_ind7_clean['cont_estado_seguimiento']!='Aún no contactado']"
   ]
  },
  {
   "cell_type": "code",
   "execution_count": 467,
   "id": "1e8e83b0",
   "metadata": {},
   "outputs": [],
   "source": [
    "df_seguimiento_ind7_clean = df_seguimiento_ind7_clean[df_seguimiento_ind7_clean['cont_inicio_cuarentena'].notna()]"
   ]
  },
  {
   "cell_type": "code",
   "execution_count": 468,
   "id": "b24a7600",
   "metadata": {},
   "outputs": [],
   "source": [
    "df_seguimiento_ind7_clean= df_seguimiento_ind7_clean.sort_values(by=['n_folio', 'dia_contacto']).groupby('n_folio').head(1)"
   ]
  },
  {
   "cell_type": "code",
   "execution_count": 469,
   "id": "4c35f036",
   "metadata": {
    "scrolled": true
   },
   "outputs": [],
   "source": [
    "df_seguimiento_ind7_clean['dif_intervalo'] = pd.to_datetime(df_seguimiento_ind7_clean['fecha_cumple_requisitos']) - pd.to_datetime(df_seguimiento_ind7_clean['dia_contacto'])"
   ]
  },
  {
   "cell_type": "code",
   "execution_count": 470,
   "id": "58234755",
   "metadata": {},
   "outputs": [
    {
     "data": {
      "text/plain": [
       "0 days      11650\n",
       "-1 days       304\n",
       "-2 days       149\n",
       "1 days        136\n",
       "-3 days        88\n",
       "-4 days        59\n",
       "-5 days        55\n",
       "3 days         40\n",
       "2 days         22\n",
       "-6 days        18\n",
       "-7 days        13\n",
       "-8 days        12\n",
       "7 days         10\n",
       "13 days         9\n",
       "5 days          8\n",
       "15 days         7\n",
       "-13 days        5\n",
       "27 days         3\n",
       "6 days          3\n",
       "29 days         3\n",
       "-9 days         2\n",
       "33 days         2\n",
       "-10 days        2\n",
       "28 days         1\n",
       "8 days          1\n",
       "4 days          1\n",
       "16 days         1\n",
       "-11 days        1\n",
       "14 days         1\n",
       "17 days         1\n",
       "37 days         1\n",
       "Name: dif_intervalo, dtype: int64"
      ]
     },
     "execution_count": 470,
     "metadata": {},
     "output_type": "execute_result"
    }
   ],
   "source": [
    "df_seguimiento_ind7_clean['dif_intervalo'].value_counts()"
   ]
  },
  {
   "cell_type": "code",
   "execution_count": 471,
   "id": "d625ab16",
   "metadata": {},
   "outputs": [],
   "source": [
    "df_seguimiento_ind7_clean['dif_ind7'] = (df_seguimiento_ind7_clean['dif_intervalo'] <= pd.to_timedelta('2 days'))#| (df_seguimiento_ind7_clean['dif_intervalo'] == pd.to_timedelta('-1 days'))|(df_seguimiento_ind7_clean['dif_intervalo'] == pd.to_timedelta('0 days'))"
   ]
  },
  {
   "cell_type": "code",
   "execution_count": 472,
   "id": "b2733be6",
   "metadata": {},
   "outputs": [
    {
     "data": {
      "text/plain": [
       "28191    True\n",
       "37474    True\n",
       "31378    True\n",
       "32631    True\n",
       "33965    True\n",
       "         ... \n",
       "40617    True\n",
       "38305    True\n",
       "31220    True\n",
       "30743    True\n",
       "37593    True\n",
       "Name: dif_ind7, Length: 12608, dtype: bool"
      ]
     },
     "execution_count": 472,
     "metadata": {},
     "output_type": "execute_result"
    }
   ],
   "source": [
    "df_seguimiento_ind7_clean['dif_ind7']"
   ]
  },
  {
   "cell_type": "code",
   "execution_count": 473,
   "id": "694696a6",
   "metadata": {},
   "outputs": [
    {
     "data": {
      "text/html": [
       "<div>\n",
       "<style scoped>\n",
       "    .dataframe tbody tr th:only-of-type {\n",
       "        vertical-align: middle;\n",
       "    }\n",
       "\n",
       "    .dataframe tbody tr th {\n",
       "        vertical-align: top;\n",
       "    }\n",
       "\n",
       "    .dataframe thead th {\n",
       "        text-align: right;\n",
       "    }\n",
       "</style>\n",
       "<table border=\"1\" class=\"dataframe\">\n",
       "  <thead>\n",
       "    <tr style=\"text-align: right;\">\n",
       "      <th></th>\n",
       "      <th>fecha_cumple_requisitos</th>\n",
       "      <th>dif_ind7</th>\n",
       "      <th>n_folio</th>\n",
       "    </tr>\n",
       "  </thead>\n",
       "  <tbody>\n",
       "    <tr>\n",
       "      <th>0</th>\n",
       "      <td>2021-03-01</td>\n",
       "      <td>True</td>\n",
       "      <td>13</td>\n",
       "    </tr>\n",
       "    <tr>\n",
       "      <th>1</th>\n",
       "      <td>2021-03-02</td>\n",
       "      <td>True</td>\n",
       "      <td>39</td>\n",
       "    </tr>\n",
       "    <tr>\n",
       "      <th>2</th>\n",
       "      <td>2021-03-03</td>\n",
       "      <td>True</td>\n",
       "      <td>46</td>\n",
       "    </tr>\n",
       "    <tr>\n",
       "      <th>3</th>\n",
       "      <td>2021-03-04</td>\n",
       "      <td>False</td>\n",
       "      <td>3</td>\n",
       "    </tr>\n",
       "    <tr>\n",
       "      <th>4</th>\n",
       "      <td>2021-03-04</td>\n",
       "      <td>True</td>\n",
       "      <td>24</td>\n",
       "    </tr>\n",
       "    <tr>\n",
       "      <th>...</th>\n",
       "      <td>...</td>\n",
       "      <td>...</td>\n",
       "      <td>...</td>\n",
       "    </tr>\n",
       "    <tr>\n",
       "      <th>205</th>\n",
       "      <td>2021-08-26</td>\n",
       "      <td>True</td>\n",
       "      <td>3</td>\n",
       "    </tr>\n",
       "    <tr>\n",
       "      <th>206</th>\n",
       "      <td>2021-08-27</td>\n",
       "      <td>True</td>\n",
       "      <td>5</td>\n",
       "    </tr>\n",
       "    <tr>\n",
       "      <th>207</th>\n",
       "      <td>2021-08-28</td>\n",
       "      <td>True</td>\n",
       "      <td>2</td>\n",
       "    </tr>\n",
       "    <tr>\n",
       "      <th>208</th>\n",
       "      <td>2021-08-29</td>\n",
       "      <td>True</td>\n",
       "      <td>15</td>\n",
       "    </tr>\n",
       "    <tr>\n",
       "      <th>209</th>\n",
       "      <td>2021-08-30</td>\n",
       "      <td>True</td>\n",
       "      <td>4</td>\n",
       "    </tr>\n",
       "  </tbody>\n",
       "</table>\n",
       "<p>210 rows × 3 columns</p>\n",
       "</div>"
      ],
      "text/plain": [
       "    fecha_cumple_requisitos  dif_ind7  n_folio\n",
       "0                2021-03-01      True       13\n",
       "1                2021-03-02      True       39\n",
       "2                2021-03-03      True       46\n",
       "3                2021-03-04     False        3\n",
       "4                2021-03-04      True       24\n",
       "..                      ...       ...      ...\n",
       "205              2021-08-26      True        3\n",
       "206              2021-08-27      True        5\n",
       "207              2021-08-28      True        2\n",
       "208              2021-08-29      True       15\n",
       "209              2021-08-30      True        4\n",
       "\n",
       "[210 rows x 3 columns]"
      ]
     },
     "execution_count": 473,
     "metadata": {},
     "output_type": "execute_result"
    }
   ],
   "source": [
    "df_seguimiento_ind7_clean.groupby(['fecha_cumple_requisitos','dif_ind7']).count()[['n_folio']].reset_index()"
   ]
  },
  {
   "cell_type": "code",
   "execution_count": 474,
   "id": "c9144eac",
   "metadata": {},
   "outputs": [
    {
     "data": {
      "application/vnd.plotly.v1+json": {
       "config": {
        "plotlyServerURL": "https://plot.ly"
       },
       "data": [
        {
         "alignmentgroup": "True",
         "hovertemplate": "Cumplido=True<br>fecha_cumple_requisitos=%{x}<br>n_folio=%{y}<extra></extra>",
         "legendgroup": "True",
         "marker": {
          "color": "#636efa"
         },
         "name": "True",
         "offsetgroup": "True",
         "orientation": "v",
         "showlegend": true,
         "textposition": "auto",
         "type": "bar",
         "x": [
          "2021-03-01T00:00:00",
          "2021-03-02T00:00:00",
          "2021-03-03T00:00:00",
          "2021-03-04T00:00:00",
          "2021-03-05T00:00:00",
          "2021-03-06T00:00:00",
          "2021-03-07T00:00:00",
          "2021-03-08T00:00:00",
          "2021-03-09T00:00:00",
          "2021-03-10T00:00:00",
          "2021-03-11T00:00:00",
          "2021-03-12T00:00:00",
          "2021-03-13T00:00:00",
          "2021-03-14T00:00:00",
          "2021-03-15T00:00:00",
          "2021-03-16T00:00:00",
          "2021-03-17T00:00:00",
          "2021-03-18T00:00:00",
          "2021-03-19T00:00:00",
          "2021-03-20T00:00:00",
          "2021-03-21T00:00:00",
          "2021-03-22T00:00:00",
          "2021-03-23T00:00:00",
          "2021-03-24T00:00:00",
          "2021-03-25T00:00:00",
          "2021-03-26T00:00:00",
          "2021-03-27T00:00:00",
          "2021-03-28T00:00:00",
          "2021-03-29T00:00:00",
          "2021-03-30T00:00:00",
          "2021-03-31T00:00:00",
          "2021-04-01T00:00:00",
          "2021-04-02T00:00:00",
          "2021-04-03T00:00:00",
          "2021-04-04T00:00:00",
          "2021-04-05T00:00:00",
          "2021-04-06T00:00:00",
          "2021-04-07T00:00:00",
          "2021-04-08T00:00:00",
          "2021-04-09T00:00:00",
          "2021-04-10T00:00:00",
          "2021-04-11T00:00:00",
          "2021-04-12T00:00:00",
          "2021-04-13T00:00:00",
          "2021-04-14T00:00:00",
          "2021-04-15T00:00:00",
          "2021-04-16T00:00:00",
          "2021-04-17T00:00:00",
          "2021-04-18T00:00:00",
          "2021-04-19T00:00:00",
          "2021-04-20T00:00:00",
          "2021-04-21T00:00:00",
          "2021-04-22T00:00:00",
          "2021-04-23T00:00:00",
          "2021-04-24T00:00:00",
          "2021-04-25T00:00:00",
          "2021-04-26T00:00:00",
          "2021-04-27T00:00:00",
          "2021-04-28T00:00:00",
          "2021-04-29T00:00:00",
          "2021-04-30T00:00:00",
          "2021-05-01T00:00:00",
          "2021-05-02T00:00:00",
          "2021-05-03T00:00:00",
          "2021-05-04T00:00:00",
          "2021-05-05T00:00:00",
          "2021-05-06T00:00:00",
          "2021-05-07T00:00:00",
          "2021-05-08T00:00:00",
          "2021-05-09T00:00:00",
          "2021-05-10T00:00:00",
          "2021-05-11T00:00:00",
          "2021-05-12T00:00:00",
          "2021-05-13T00:00:00",
          "2021-05-14T00:00:00",
          "2021-05-15T00:00:00",
          "2021-05-16T00:00:00",
          "2021-05-17T00:00:00",
          "2021-05-18T00:00:00",
          "2021-05-19T00:00:00",
          "2021-05-20T00:00:00",
          "2021-05-21T00:00:00",
          "2021-05-22T00:00:00",
          "2021-05-23T00:00:00",
          "2021-05-24T00:00:00",
          "2021-05-25T00:00:00",
          "2021-05-26T00:00:00",
          "2021-05-27T00:00:00",
          "2021-05-28T00:00:00",
          "2021-05-29T00:00:00",
          "2021-05-30T00:00:00",
          "2021-05-31T00:00:00",
          "2021-06-01T00:00:00",
          "2021-06-02T00:00:00",
          "2021-06-03T00:00:00",
          "2021-06-04T00:00:00",
          "2021-06-05T00:00:00",
          "2021-06-06T00:00:00",
          "2021-06-07T00:00:00",
          "2021-06-08T00:00:00",
          "2021-06-09T00:00:00",
          "2021-06-10T00:00:00",
          "2021-06-11T00:00:00",
          "2021-06-12T00:00:00",
          "2021-06-13T00:00:00",
          "2021-06-14T00:00:00",
          "2021-06-15T00:00:00",
          "2021-06-16T00:00:00",
          "2021-06-17T00:00:00",
          "2021-06-18T00:00:00",
          "2021-06-19T00:00:00",
          "2021-06-20T00:00:00",
          "2021-06-21T00:00:00",
          "2021-06-22T00:00:00",
          "2021-06-23T00:00:00",
          "2021-06-24T00:00:00",
          "2021-06-25T00:00:00",
          "2021-06-26T00:00:00",
          "2021-06-27T00:00:00",
          "2021-06-28T00:00:00",
          "2021-06-29T00:00:00",
          "2021-06-30T00:00:00",
          "2021-07-01T00:00:00",
          "2021-07-02T00:00:00",
          "2021-07-03T00:00:00",
          "2021-07-04T00:00:00",
          "2021-07-05T00:00:00",
          "2021-07-06T00:00:00",
          "2021-07-07T00:00:00",
          "2021-07-08T00:00:00",
          "2021-07-09T00:00:00",
          "2021-07-10T00:00:00",
          "2021-07-11T00:00:00",
          "2021-07-12T00:00:00",
          "2021-07-13T00:00:00",
          "2021-07-14T00:00:00",
          "2021-07-15T00:00:00",
          "2021-07-16T00:00:00",
          "2021-07-17T00:00:00",
          "2021-07-19T00:00:00",
          "2021-07-20T00:00:00",
          "2021-07-21T00:00:00",
          "2021-07-22T00:00:00",
          "2021-07-23T00:00:00",
          "2021-07-24T00:00:00",
          "2021-07-25T00:00:00",
          "2021-07-26T00:00:00",
          "2021-07-27T00:00:00",
          "2021-07-28T00:00:00",
          "2021-07-29T00:00:00",
          "2021-07-30T00:00:00",
          "2021-07-31T00:00:00",
          "2021-08-01T00:00:00",
          "2021-08-02T00:00:00",
          "2021-08-03T00:00:00",
          "2021-08-04T00:00:00",
          "2021-08-05T00:00:00",
          "2021-08-06T00:00:00",
          "2021-08-07T00:00:00",
          "2021-08-08T00:00:00",
          "2021-08-09T00:00:00",
          "2021-08-10T00:00:00",
          "2021-08-11T00:00:00",
          "2021-08-12T00:00:00",
          "2021-08-13T00:00:00",
          "2021-08-14T00:00:00",
          "2021-08-15T00:00:00",
          "2021-08-16T00:00:00",
          "2021-08-17T00:00:00",
          "2021-08-18T00:00:00",
          "2021-08-19T00:00:00",
          "2021-08-20T00:00:00",
          "2021-08-21T00:00:00",
          "2021-08-22T00:00:00",
          "2021-08-23T00:00:00",
          "2021-08-24T00:00:00",
          "2021-08-25T00:00:00",
          "2021-08-26T00:00:00",
          "2021-08-27T00:00:00",
          "2021-08-28T00:00:00",
          "2021-08-29T00:00:00",
          "2021-08-30T00:00:00"
         ],
         "xaxis": "x",
         "y": [
          13,
          39,
          46,
          24,
          38,
          31,
          16,
          50,
          50,
          43,
          24,
          21,
          24,
          46,
          68,
          31,
          14,
          48,
          20,
          17,
          81,
          59,
          97,
          64,
          72,
          57,
          22,
          40,
          83,
          81,
          33,
          81,
          35,
          37,
          44,
          83,
          67,
          42,
          39,
          79,
          77,
          46,
          50,
          60,
          47,
          61,
          85,
          33,
          62,
          24,
          96,
          73,
          134,
          58,
          46,
          65,
          47,
          88,
          115,
          145,
          117,
          86,
          51,
          100,
          97,
          103,
          105,
          95,
          70,
          58,
          130,
          122,
          157,
          137,
          178,
          112,
          111,
          152,
          176,
          251,
          196,
          173,
          125,
          94,
          146,
          166,
          217,
          186,
          172,
          67,
          78,
          212,
          230,
          185,
          171,
          120,
          138,
          57,
          234,
          140,
          192,
          161,
          147,
          68,
          129,
          119,
          148,
          173,
          165,
          113,
          76,
          60,
          39,
          82,
          114,
          69,
          88,
          50,
          75,
          45,
          67,
          127,
          51,
          103,
          36,
          24,
          68,
          63,
          57,
          71,
          107,
          22,
          18,
          6,
          35,
          34,
          17,
          14,
          9,
          4,
          16,
          10,
          6,
          17,
          6,
          9,
          2,
          2,
          14,
          9,
          6,
          4,
          7,
          7,
          6,
          8,
          11,
          25,
          10,
          4,
          9,
          22,
          4,
          23,
          33,
          21,
          15,
          62,
          57,
          62,
          33,
          34,
          18,
          8,
          16,
          20,
          39,
          3,
          5,
          2,
          15,
          4
         ],
         "yaxis": "y"
        },
        {
         "alignmentgroup": "True",
         "hovertemplate": "Cumplido=False<br>fecha_cumple_requisitos=%{x}<br>n_folio=%{y}<extra></extra>",
         "legendgroup": "False",
         "marker": {
          "color": "#EF553B"
         },
         "name": "False",
         "offsetgroup": "False",
         "orientation": "v",
         "showlegend": true,
         "textposition": "auto",
         "type": "bar",
         "x": [
          "2021-03-04T00:00:00",
          "2021-03-07T00:00:00",
          "2021-03-10T00:00:00",
          "2021-03-18T00:00:00",
          "2021-03-26T00:00:00",
          "2021-03-28T00:00:00",
          "2021-03-30T00:00:00",
          "2021-04-05T00:00:00",
          "2021-04-21T00:00:00",
          "2021-05-06T00:00:00",
          "2021-05-10T00:00:00",
          "2021-05-17T00:00:00",
          "2021-05-18T00:00:00",
          "2021-05-24T00:00:00",
          "2021-05-25T00:00:00",
          "2021-05-27T00:00:00",
          "2021-06-07T00:00:00",
          "2021-06-10T00:00:00",
          "2021-06-14T00:00:00",
          "2021-06-20T00:00:00",
          "2021-06-23T00:00:00",
          "2021-06-24T00:00:00",
          "2021-07-02T00:00:00",
          "2021-07-05T00:00:00",
          "2021-07-22T00:00:00",
          "2021-07-29T00:00:00",
          "2021-08-06T00:00:00",
          "2021-08-12T00:00:00"
         ],
         "xaxis": "x",
         "y": [
          3,
          8,
          1,
          4,
          2,
          2,
          1,
          1,
          3,
          1,
          3,
          2,
          2,
          9,
          1,
          2,
          2,
          4,
          1,
          2,
          9,
          4,
          3,
          7,
          6,
          2,
          4,
          3
         ],
         "yaxis": "y"
        }
       ],
       "layout": {
        "barmode": "relative",
        "legend": {
         "title": {
          "text": "Cumplido"
         },
         "tracegroupgap": 0
        },
        "margin": {
         "t": 60
        },
        "template": {
         "data": {
          "bar": [
           {
            "error_x": {
             "color": "rgb(36,36,36)"
            },
            "error_y": {
             "color": "rgb(36,36,36)"
            },
            "marker": {
             "line": {
              "color": "white",
              "width": 0.5
             }
            },
            "type": "bar"
           }
          ],
          "barpolar": [
           {
            "marker": {
             "line": {
              "color": "white",
              "width": 0.5
             }
            },
            "type": "barpolar"
           }
          ],
          "carpet": [
           {
            "aaxis": {
             "endlinecolor": "rgb(36,36,36)",
             "gridcolor": "white",
             "linecolor": "white",
             "minorgridcolor": "white",
             "startlinecolor": "rgb(36,36,36)"
            },
            "baxis": {
             "endlinecolor": "rgb(36,36,36)",
             "gridcolor": "white",
             "linecolor": "white",
             "minorgridcolor": "white",
             "startlinecolor": "rgb(36,36,36)"
            },
            "type": "carpet"
           }
          ],
          "choropleth": [
           {
            "colorbar": {
             "outlinewidth": 1,
             "tickcolor": "rgb(36,36,36)",
             "ticks": "outside"
            },
            "type": "choropleth"
           }
          ],
          "contour": [
           {
            "colorbar": {
             "outlinewidth": 1,
             "tickcolor": "rgb(36,36,36)",
             "ticks": "outside"
            },
            "colorscale": [
             [
              0,
              "#440154"
             ],
             [
              0.1111111111111111,
              "#482878"
             ],
             [
              0.2222222222222222,
              "#3e4989"
             ],
             [
              0.3333333333333333,
              "#31688e"
             ],
             [
              0.4444444444444444,
              "#26828e"
             ],
             [
              0.5555555555555556,
              "#1f9e89"
             ],
             [
              0.6666666666666666,
              "#35b779"
             ],
             [
              0.7777777777777778,
              "#6ece58"
             ],
             [
              0.8888888888888888,
              "#b5de2b"
             ],
             [
              1,
              "#fde725"
             ]
            ],
            "type": "contour"
           }
          ],
          "contourcarpet": [
           {
            "colorbar": {
             "outlinewidth": 1,
             "tickcolor": "rgb(36,36,36)",
             "ticks": "outside"
            },
            "type": "contourcarpet"
           }
          ],
          "heatmap": [
           {
            "colorbar": {
             "outlinewidth": 1,
             "tickcolor": "rgb(36,36,36)",
             "ticks": "outside"
            },
            "colorscale": [
             [
              0,
              "#440154"
             ],
             [
              0.1111111111111111,
              "#482878"
             ],
             [
              0.2222222222222222,
              "#3e4989"
             ],
             [
              0.3333333333333333,
              "#31688e"
             ],
             [
              0.4444444444444444,
              "#26828e"
             ],
             [
              0.5555555555555556,
              "#1f9e89"
             ],
             [
              0.6666666666666666,
              "#35b779"
             ],
             [
              0.7777777777777778,
              "#6ece58"
             ],
             [
              0.8888888888888888,
              "#b5de2b"
             ],
             [
              1,
              "#fde725"
             ]
            ],
            "type": "heatmap"
           }
          ],
          "heatmapgl": [
           {
            "colorbar": {
             "outlinewidth": 1,
             "tickcolor": "rgb(36,36,36)",
             "ticks": "outside"
            },
            "colorscale": [
             [
              0,
              "#440154"
             ],
             [
              0.1111111111111111,
              "#482878"
             ],
             [
              0.2222222222222222,
              "#3e4989"
             ],
             [
              0.3333333333333333,
              "#31688e"
             ],
             [
              0.4444444444444444,
              "#26828e"
             ],
             [
              0.5555555555555556,
              "#1f9e89"
             ],
             [
              0.6666666666666666,
              "#35b779"
             ],
             [
              0.7777777777777778,
              "#6ece58"
             ],
             [
              0.8888888888888888,
              "#b5de2b"
             ],
             [
              1,
              "#fde725"
             ]
            ],
            "type": "heatmapgl"
           }
          ],
          "histogram": [
           {
            "marker": {
             "line": {
              "color": "white",
              "width": 0.6
             }
            },
            "type": "histogram"
           }
          ],
          "histogram2d": [
           {
            "colorbar": {
             "outlinewidth": 1,
             "tickcolor": "rgb(36,36,36)",
             "ticks": "outside"
            },
            "colorscale": [
             [
              0,
              "#440154"
             ],
             [
              0.1111111111111111,
              "#482878"
             ],
             [
              0.2222222222222222,
              "#3e4989"
             ],
             [
              0.3333333333333333,
              "#31688e"
             ],
             [
              0.4444444444444444,
              "#26828e"
             ],
             [
              0.5555555555555556,
              "#1f9e89"
             ],
             [
              0.6666666666666666,
              "#35b779"
             ],
             [
              0.7777777777777778,
              "#6ece58"
             ],
             [
              0.8888888888888888,
              "#b5de2b"
             ],
             [
              1,
              "#fde725"
             ]
            ],
            "type": "histogram2d"
           }
          ],
          "histogram2dcontour": [
           {
            "colorbar": {
             "outlinewidth": 1,
             "tickcolor": "rgb(36,36,36)",
             "ticks": "outside"
            },
            "colorscale": [
             [
              0,
              "#440154"
             ],
             [
              0.1111111111111111,
              "#482878"
             ],
             [
              0.2222222222222222,
              "#3e4989"
             ],
             [
              0.3333333333333333,
              "#31688e"
             ],
             [
              0.4444444444444444,
              "#26828e"
             ],
             [
              0.5555555555555556,
              "#1f9e89"
             ],
             [
              0.6666666666666666,
              "#35b779"
             ],
             [
              0.7777777777777778,
              "#6ece58"
             ],
             [
              0.8888888888888888,
              "#b5de2b"
             ],
             [
              1,
              "#fde725"
             ]
            ],
            "type": "histogram2dcontour"
           }
          ],
          "mesh3d": [
           {
            "colorbar": {
             "outlinewidth": 1,
             "tickcolor": "rgb(36,36,36)",
             "ticks": "outside"
            },
            "type": "mesh3d"
           }
          ],
          "parcoords": [
           {
            "line": {
             "colorbar": {
              "outlinewidth": 1,
              "tickcolor": "rgb(36,36,36)",
              "ticks": "outside"
             }
            },
            "type": "parcoords"
           }
          ],
          "pie": [
           {
            "automargin": true,
            "type": "pie"
           }
          ],
          "scatter": [
           {
            "marker": {
             "colorbar": {
              "outlinewidth": 1,
              "tickcolor": "rgb(36,36,36)",
              "ticks": "outside"
             }
            },
            "type": "scatter"
           }
          ],
          "scatter3d": [
           {
            "line": {
             "colorbar": {
              "outlinewidth": 1,
              "tickcolor": "rgb(36,36,36)",
              "ticks": "outside"
             }
            },
            "marker": {
             "colorbar": {
              "outlinewidth": 1,
              "tickcolor": "rgb(36,36,36)",
              "ticks": "outside"
             }
            },
            "type": "scatter3d"
           }
          ],
          "scattercarpet": [
           {
            "marker": {
             "colorbar": {
              "outlinewidth": 1,
              "tickcolor": "rgb(36,36,36)",
              "ticks": "outside"
             }
            },
            "type": "scattercarpet"
           }
          ],
          "scattergeo": [
           {
            "marker": {
             "colorbar": {
              "outlinewidth": 1,
              "tickcolor": "rgb(36,36,36)",
              "ticks": "outside"
             }
            },
            "type": "scattergeo"
           }
          ],
          "scattergl": [
           {
            "marker": {
             "colorbar": {
              "outlinewidth": 1,
              "tickcolor": "rgb(36,36,36)",
              "ticks": "outside"
             }
            },
            "type": "scattergl"
           }
          ],
          "scattermapbox": [
           {
            "marker": {
             "colorbar": {
              "outlinewidth": 1,
              "tickcolor": "rgb(36,36,36)",
              "ticks": "outside"
             }
            },
            "type": "scattermapbox"
           }
          ],
          "scatterpolar": [
           {
            "marker": {
             "colorbar": {
              "outlinewidth": 1,
              "tickcolor": "rgb(36,36,36)",
              "ticks": "outside"
             }
            },
            "type": "scatterpolar"
           }
          ],
          "scatterpolargl": [
           {
            "marker": {
             "colorbar": {
              "outlinewidth": 1,
              "tickcolor": "rgb(36,36,36)",
              "ticks": "outside"
             }
            },
            "type": "scatterpolargl"
           }
          ],
          "scatterternary": [
           {
            "marker": {
             "colorbar": {
              "outlinewidth": 1,
              "tickcolor": "rgb(36,36,36)",
              "ticks": "outside"
             }
            },
            "type": "scatterternary"
           }
          ],
          "surface": [
           {
            "colorbar": {
             "outlinewidth": 1,
             "tickcolor": "rgb(36,36,36)",
             "ticks": "outside"
            },
            "colorscale": [
             [
              0,
              "#440154"
             ],
             [
              0.1111111111111111,
              "#482878"
             ],
             [
              0.2222222222222222,
              "#3e4989"
             ],
             [
              0.3333333333333333,
              "#31688e"
             ],
             [
              0.4444444444444444,
              "#26828e"
             ],
             [
              0.5555555555555556,
              "#1f9e89"
             ],
             [
              0.6666666666666666,
              "#35b779"
             ],
             [
              0.7777777777777778,
              "#6ece58"
             ],
             [
              0.8888888888888888,
              "#b5de2b"
             ],
             [
              1,
              "#fde725"
             ]
            ],
            "type": "surface"
           }
          ],
          "table": [
           {
            "cells": {
             "fill": {
              "color": "rgb(237,237,237)"
             },
             "line": {
              "color": "white"
             }
            },
            "header": {
             "fill": {
              "color": "rgb(217,217,217)"
             },
             "line": {
              "color": "white"
             }
            },
            "type": "table"
           }
          ]
         },
         "layout": {
          "annotationdefaults": {
           "arrowhead": 0,
           "arrowwidth": 1
          },
          "autotypenumbers": "strict",
          "coloraxis": {
           "colorbar": {
            "outlinewidth": 1,
            "tickcolor": "rgb(36,36,36)",
            "ticks": "outside"
           }
          },
          "colorscale": {
           "diverging": [
            [
             0,
             "rgb(103,0,31)"
            ],
            [
             0.1,
             "rgb(178,24,43)"
            ],
            [
             0.2,
             "rgb(214,96,77)"
            ],
            [
             0.3,
             "rgb(244,165,130)"
            ],
            [
             0.4,
             "rgb(253,219,199)"
            ],
            [
             0.5,
             "rgb(247,247,247)"
            ],
            [
             0.6,
             "rgb(209,229,240)"
            ],
            [
             0.7,
             "rgb(146,197,222)"
            ],
            [
             0.8,
             "rgb(67,147,195)"
            ],
            [
             0.9,
             "rgb(33,102,172)"
            ],
            [
             1,
             "rgb(5,48,97)"
            ]
           ],
           "sequential": [
            [
             0,
             "#440154"
            ],
            [
             0.1111111111111111,
             "#482878"
            ],
            [
             0.2222222222222222,
             "#3e4989"
            ],
            [
             0.3333333333333333,
             "#31688e"
            ],
            [
             0.4444444444444444,
             "#26828e"
            ],
            [
             0.5555555555555556,
             "#1f9e89"
            ],
            [
             0.6666666666666666,
             "#35b779"
            ],
            [
             0.7777777777777778,
             "#6ece58"
            ],
            [
             0.8888888888888888,
             "#b5de2b"
            ],
            [
             1,
             "#fde725"
            ]
           ],
           "sequentialminus": [
            [
             0,
             "#440154"
            ],
            [
             0.1111111111111111,
             "#482878"
            ],
            [
             0.2222222222222222,
             "#3e4989"
            ],
            [
             0.3333333333333333,
             "#31688e"
            ],
            [
             0.4444444444444444,
             "#26828e"
            ],
            [
             0.5555555555555556,
             "#1f9e89"
            ],
            [
             0.6666666666666666,
             "#35b779"
            ],
            [
             0.7777777777777778,
             "#6ece58"
            ],
            [
             0.8888888888888888,
             "#b5de2b"
            ],
            [
             1,
             "#fde725"
            ]
           ]
          },
          "colorway": [
           "#1F77B4",
           "#FF7F0E",
           "#2CA02C",
           "#D62728",
           "#9467BD",
           "#8C564B",
           "#E377C2",
           "#7F7F7F",
           "#BCBD22",
           "#17BECF"
          ],
          "font": {
           "color": "rgb(36,36,36)"
          },
          "geo": {
           "bgcolor": "white",
           "lakecolor": "white",
           "landcolor": "white",
           "showlakes": true,
           "showland": true,
           "subunitcolor": "white"
          },
          "hoverlabel": {
           "align": "left"
          },
          "hovermode": "closest",
          "mapbox": {
           "style": "light"
          },
          "paper_bgcolor": "white",
          "plot_bgcolor": "white",
          "polar": {
           "angularaxis": {
            "gridcolor": "rgb(232,232,232)",
            "linecolor": "rgb(36,36,36)",
            "showgrid": false,
            "showline": true,
            "ticks": "outside"
           },
           "bgcolor": "white",
           "radialaxis": {
            "gridcolor": "rgb(232,232,232)",
            "linecolor": "rgb(36,36,36)",
            "showgrid": false,
            "showline": true,
            "ticks": "outside"
           }
          },
          "scene": {
           "xaxis": {
            "backgroundcolor": "white",
            "gridcolor": "rgb(232,232,232)",
            "gridwidth": 2,
            "linecolor": "rgb(36,36,36)",
            "showbackground": true,
            "showgrid": false,
            "showline": true,
            "ticks": "outside",
            "zeroline": false,
            "zerolinecolor": "rgb(36,36,36)"
           },
           "yaxis": {
            "backgroundcolor": "white",
            "gridcolor": "rgb(232,232,232)",
            "gridwidth": 2,
            "linecolor": "rgb(36,36,36)",
            "showbackground": true,
            "showgrid": false,
            "showline": true,
            "ticks": "outside",
            "zeroline": false,
            "zerolinecolor": "rgb(36,36,36)"
           },
           "zaxis": {
            "backgroundcolor": "white",
            "gridcolor": "rgb(232,232,232)",
            "gridwidth": 2,
            "linecolor": "rgb(36,36,36)",
            "showbackground": true,
            "showgrid": false,
            "showline": true,
            "ticks": "outside",
            "zeroline": false,
            "zerolinecolor": "rgb(36,36,36)"
           }
          },
          "shapedefaults": {
           "fillcolor": "black",
           "line": {
            "width": 0
           },
           "opacity": 0.3
          },
          "ternary": {
           "aaxis": {
            "gridcolor": "rgb(232,232,232)",
            "linecolor": "rgb(36,36,36)",
            "showgrid": false,
            "showline": true,
            "ticks": "outside"
           },
           "baxis": {
            "gridcolor": "rgb(232,232,232)",
            "linecolor": "rgb(36,36,36)",
            "showgrid": false,
            "showline": true,
            "ticks": "outside"
           },
           "bgcolor": "white",
           "caxis": {
            "gridcolor": "rgb(232,232,232)",
            "linecolor": "rgb(36,36,36)",
            "showgrid": false,
            "showline": true,
            "ticks": "outside"
           }
          },
          "title": {
           "x": 0.05
          },
          "xaxis": {
           "automargin": true,
           "gridcolor": "rgb(232,232,232)",
           "linecolor": "rgb(36,36,36)",
           "showgrid": false,
           "showline": true,
           "ticks": "outside",
           "title": {
            "standoff": 15
           },
           "zeroline": false,
           "zerolinecolor": "rgb(36,36,36)"
          },
          "yaxis": {
           "automargin": true,
           "gridcolor": "rgb(232,232,232)",
           "linecolor": "rgb(36,36,36)",
           "showgrid": false,
           "showline": true,
           "ticks": "outside",
           "title": {
            "standoff": 15
           },
           "zeroline": false,
           "zerolinecolor": "rgb(36,36,36)"
          }
         }
        },
        "title": {
         "text": "Capacidad de investigación de contactos en 48h"
        },
        "xaxis": {
         "anchor": "y",
         "domain": [
          0,
          1
         ],
         "title": {
          "text": "Fecha"
         }
        },
        "yaxis": {
         "anchor": "x",
         "domain": [
          0,
          1
         ],
         "title": {
          "text": "Número de casos"
         }
        }
       }
      },
      "text/html": [
       "<div>                            <div id=\"554531c4-d6e2-4f4b-8282-ebd3f9704a65\" class=\"plotly-graph-div\" style=\"height:525px; width:100%;\"></div>            <script type=\"text/javascript\">                require([\"plotly\"], function(Plotly) {                    window.PLOTLYENV=window.PLOTLYENV || {};                                    if (document.getElementById(\"554531c4-d6e2-4f4b-8282-ebd3f9704a65\")) {                    Plotly.newPlot(                        \"554531c4-d6e2-4f4b-8282-ebd3f9704a65\",                        [{\"alignmentgroup\": \"True\", \"hovertemplate\": \"Cumplido=True<br>fecha_cumple_requisitos=%{x}<br>n_folio=%{y}<extra></extra>\", \"legendgroup\": \"True\", \"marker\": {\"color\": \"#636efa\"}, \"name\": \"True\", \"offsetgroup\": \"True\", \"orientation\": \"v\", \"showlegend\": true, \"textposition\": \"auto\", \"type\": \"bar\", \"x\": [\"2021-03-01T00:00:00\", \"2021-03-02T00:00:00\", \"2021-03-03T00:00:00\", \"2021-03-04T00:00:00\", \"2021-03-05T00:00:00\", \"2021-03-06T00:00:00\", \"2021-03-07T00:00:00\", \"2021-03-08T00:00:00\", \"2021-03-09T00:00:00\", \"2021-03-10T00:00:00\", \"2021-03-11T00:00:00\", \"2021-03-12T00:00:00\", \"2021-03-13T00:00:00\", \"2021-03-14T00:00:00\", \"2021-03-15T00:00:00\", \"2021-03-16T00:00:00\", \"2021-03-17T00:00:00\", \"2021-03-18T00:00:00\", \"2021-03-19T00:00:00\", \"2021-03-20T00:00:00\", \"2021-03-21T00:00:00\", \"2021-03-22T00:00:00\", \"2021-03-23T00:00:00\", \"2021-03-24T00:00:00\", \"2021-03-25T00:00:00\", \"2021-03-26T00:00:00\", \"2021-03-27T00:00:00\", \"2021-03-28T00:00:00\", \"2021-03-29T00:00:00\", \"2021-03-30T00:00:00\", \"2021-03-31T00:00:00\", \"2021-04-01T00:00:00\", \"2021-04-02T00:00:00\", \"2021-04-03T00:00:00\", \"2021-04-04T00:00:00\", \"2021-04-05T00:00:00\", \"2021-04-06T00:00:00\", \"2021-04-07T00:00:00\", \"2021-04-08T00:00:00\", \"2021-04-09T00:00:00\", \"2021-04-10T00:00:00\", \"2021-04-11T00:00:00\", \"2021-04-12T00:00:00\", \"2021-04-13T00:00:00\", \"2021-04-14T00:00:00\", \"2021-04-15T00:00:00\", \"2021-04-16T00:00:00\", \"2021-04-17T00:00:00\", \"2021-04-18T00:00:00\", \"2021-04-19T00:00:00\", \"2021-04-20T00:00:00\", \"2021-04-21T00:00:00\", \"2021-04-22T00:00:00\", \"2021-04-23T00:00:00\", \"2021-04-24T00:00:00\", \"2021-04-25T00:00:00\", \"2021-04-26T00:00:00\", \"2021-04-27T00:00:00\", \"2021-04-28T00:00:00\", \"2021-04-29T00:00:00\", \"2021-04-30T00:00:00\", \"2021-05-01T00:00:00\", \"2021-05-02T00:00:00\", \"2021-05-03T00:00:00\", \"2021-05-04T00:00:00\", \"2021-05-05T00:00:00\", \"2021-05-06T00:00:00\", \"2021-05-07T00:00:00\", \"2021-05-08T00:00:00\", \"2021-05-09T00:00:00\", \"2021-05-10T00:00:00\", \"2021-05-11T00:00:00\", \"2021-05-12T00:00:00\", \"2021-05-13T00:00:00\", \"2021-05-14T00:00:00\", \"2021-05-15T00:00:00\", \"2021-05-16T00:00:00\", \"2021-05-17T00:00:00\", \"2021-05-18T00:00:00\", \"2021-05-19T00:00:00\", \"2021-05-20T00:00:00\", \"2021-05-21T00:00:00\", \"2021-05-22T00:00:00\", \"2021-05-23T00:00:00\", \"2021-05-24T00:00:00\", \"2021-05-25T00:00:00\", \"2021-05-26T00:00:00\", \"2021-05-27T00:00:00\", \"2021-05-28T00:00:00\", \"2021-05-29T00:00:00\", \"2021-05-30T00:00:00\", \"2021-05-31T00:00:00\", \"2021-06-01T00:00:00\", \"2021-06-02T00:00:00\", \"2021-06-03T00:00:00\", \"2021-06-04T00:00:00\", \"2021-06-05T00:00:00\", \"2021-06-06T00:00:00\", \"2021-06-07T00:00:00\", \"2021-06-08T00:00:00\", \"2021-06-09T00:00:00\", \"2021-06-10T00:00:00\", \"2021-06-11T00:00:00\", \"2021-06-12T00:00:00\", \"2021-06-13T00:00:00\", \"2021-06-14T00:00:00\", \"2021-06-15T00:00:00\", \"2021-06-16T00:00:00\", \"2021-06-17T00:00:00\", \"2021-06-18T00:00:00\", \"2021-06-19T00:00:00\", \"2021-06-20T00:00:00\", \"2021-06-21T00:00:00\", \"2021-06-22T00:00:00\", \"2021-06-23T00:00:00\", \"2021-06-24T00:00:00\", \"2021-06-25T00:00:00\", \"2021-06-26T00:00:00\", \"2021-06-27T00:00:00\", \"2021-06-28T00:00:00\", \"2021-06-29T00:00:00\", \"2021-06-30T00:00:00\", \"2021-07-01T00:00:00\", \"2021-07-02T00:00:00\", \"2021-07-03T00:00:00\", \"2021-07-04T00:00:00\", \"2021-07-05T00:00:00\", \"2021-07-06T00:00:00\", \"2021-07-07T00:00:00\", \"2021-07-08T00:00:00\", \"2021-07-09T00:00:00\", \"2021-07-10T00:00:00\", \"2021-07-11T00:00:00\", \"2021-07-12T00:00:00\", \"2021-07-13T00:00:00\", \"2021-07-14T00:00:00\", \"2021-07-15T00:00:00\", \"2021-07-16T00:00:00\", \"2021-07-17T00:00:00\", \"2021-07-19T00:00:00\", \"2021-07-20T00:00:00\", \"2021-07-21T00:00:00\", \"2021-07-22T00:00:00\", \"2021-07-23T00:00:00\", \"2021-07-24T00:00:00\", \"2021-07-25T00:00:00\", \"2021-07-26T00:00:00\", \"2021-07-27T00:00:00\", \"2021-07-28T00:00:00\", \"2021-07-29T00:00:00\", \"2021-07-30T00:00:00\", \"2021-07-31T00:00:00\", \"2021-08-01T00:00:00\", \"2021-08-02T00:00:00\", \"2021-08-03T00:00:00\", \"2021-08-04T00:00:00\", \"2021-08-05T00:00:00\", \"2021-08-06T00:00:00\", \"2021-08-07T00:00:00\", \"2021-08-08T00:00:00\", \"2021-08-09T00:00:00\", \"2021-08-10T00:00:00\", \"2021-08-11T00:00:00\", \"2021-08-12T00:00:00\", \"2021-08-13T00:00:00\", \"2021-08-14T00:00:00\", \"2021-08-15T00:00:00\", \"2021-08-16T00:00:00\", \"2021-08-17T00:00:00\", \"2021-08-18T00:00:00\", \"2021-08-19T00:00:00\", \"2021-08-20T00:00:00\", \"2021-08-21T00:00:00\", \"2021-08-22T00:00:00\", \"2021-08-23T00:00:00\", \"2021-08-24T00:00:00\", \"2021-08-25T00:00:00\", \"2021-08-26T00:00:00\", \"2021-08-27T00:00:00\", \"2021-08-28T00:00:00\", \"2021-08-29T00:00:00\", \"2021-08-30T00:00:00\"], \"xaxis\": \"x\", \"y\": [13, 39, 46, 24, 38, 31, 16, 50, 50, 43, 24, 21, 24, 46, 68, 31, 14, 48, 20, 17, 81, 59, 97, 64, 72, 57, 22, 40, 83, 81, 33, 81, 35, 37, 44, 83, 67, 42, 39, 79, 77, 46, 50, 60, 47, 61, 85, 33, 62, 24, 96, 73, 134, 58, 46, 65, 47, 88, 115, 145, 117, 86, 51, 100, 97, 103, 105, 95, 70, 58, 130, 122, 157, 137, 178, 112, 111, 152, 176, 251, 196, 173, 125, 94, 146, 166, 217, 186, 172, 67, 78, 212, 230, 185, 171, 120, 138, 57, 234, 140, 192, 161, 147, 68, 129, 119, 148, 173, 165, 113, 76, 60, 39, 82, 114, 69, 88, 50, 75, 45, 67, 127, 51, 103, 36, 24, 68, 63, 57, 71, 107, 22, 18, 6, 35, 34, 17, 14, 9, 4, 16, 10, 6, 17, 6, 9, 2, 2, 14, 9, 6, 4, 7, 7, 6, 8, 11, 25, 10, 4, 9, 22, 4, 23, 33, 21, 15, 62, 57, 62, 33, 34, 18, 8, 16, 20, 39, 3, 5, 2, 15, 4], \"yaxis\": \"y\"}, {\"alignmentgroup\": \"True\", \"hovertemplate\": \"Cumplido=False<br>fecha_cumple_requisitos=%{x}<br>n_folio=%{y}<extra></extra>\", \"legendgroup\": \"False\", \"marker\": {\"color\": \"#EF553B\"}, \"name\": \"False\", \"offsetgroup\": \"False\", \"orientation\": \"v\", \"showlegend\": true, \"textposition\": \"auto\", \"type\": \"bar\", \"x\": [\"2021-03-04T00:00:00\", \"2021-03-07T00:00:00\", \"2021-03-10T00:00:00\", \"2021-03-18T00:00:00\", \"2021-03-26T00:00:00\", \"2021-03-28T00:00:00\", \"2021-03-30T00:00:00\", \"2021-04-05T00:00:00\", \"2021-04-21T00:00:00\", \"2021-05-06T00:00:00\", \"2021-05-10T00:00:00\", \"2021-05-17T00:00:00\", \"2021-05-18T00:00:00\", \"2021-05-24T00:00:00\", \"2021-05-25T00:00:00\", \"2021-05-27T00:00:00\", \"2021-06-07T00:00:00\", \"2021-06-10T00:00:00\", \"2021-06-14T00:00:00\", \"2021-06-20T00:00:00\", \"2021-06-23T00:00:00\", \"2021-06-24T00:00:00\", \"2021-07-02T00:00:00\", \"2021-07-05T00:00:00\", \"2021-07-22T00:00:00\", \"2021-07-29T00:00:00\", \"2021-08-06T00:00:00\", \"2021-08-12T00:00:00\"], \"xaxis\": \"x\", \"y\": [3, 8, 1, 4, 2, 2, 1, 1, 3, 1, 3, 2, 2, 9, 1, 2, 2, 4, 1, 2, 9, 4, 3, 7, 6, 2, 4, 3], \"yaxis\": \"y\"}],                        {\"barmode\": \"relative\", \"legend\": {\"title\": {\"text\": \"Cumplido\"}, \"tracegroupgap\": 0}, \"margin\": {\"t\": 60}, \"template\": {\"data\": {\"bar\": [{\"error_x\": {\"color\": \"rgb(36,36,36)\"}, \"error_y\": {\"color\": \"rgb(36,36,36)\"}, \"marker\": {\"line\": {\"color\": \"white\", \"width\": 0.5}}, \"type\": \"bar\"}], \"barpolar\": [{\"marker\": {\"line\": {\"color\": \"white\", \"width\": 0.5}}, \"type\": \"barpolar\"}], \"carpet\": [{\"aaxis\": {\"endlinecolor\": \"rgb(36,36,36)\", \"gridcolor\": \"white\", \"linecolor\": \"white\", \"minorgridcolor\": \"white\", \"startlinecolor\": \"rgb(36,36,36)\"}, \"baxis\": {\"endlinecolor\": \"rgb(36,36,36)\", \"gridcolor\": \"white\", \"linecolor\": \"white\", \"minorgridcolor\": \"white\", \"startlinecolor\": \"rgb(36,36,36)\"}, \"type\": \"carpet\"}], \"choropleth\": [{\"colorbar\": {\"outlinewidth\": 1, \"tickcolor\": \"rgb(36,36,36)\", \"ticks\": \"outside\"}, \"type\": \"choropleth\"}], \"contour\": [{\"colorbar\": {\"outlinewidth\": 1, \"tickcolor\": \"rgb(36,36,36)\", \"ticks\": \"outside\"}, \"colorscale\": [[0.0, \"#440154\"], [0.1111111111111111, \"#482878\"], [0.2222222222222222, \"#3e4989\"], [0.3333333333333333, \"#31688e\"], [0.4444444444444444, \"#26828e\"], [0.5555555555555556, \"#1f9e89\"], [0.6666666666666666, \"#35b779\"], [0.7777777777777778, \"#6ece58\"], [0.8888888888888888, \"#b5de2b\"], [1.0, \"#fde725\"]], \"type\": \"contour\"}], \"contourcarpet\": [{\"colorbar\": {\"outlinewidth\": 1, \"tickcolor\": \"rgb(36,36,36)\", \"ticks\": \"outside\"}, \"type\": \"contourcarpet\"}], \"heatmap\": [{\"colorbar\": {\"outlinewidth\": 1, \"tickcolor\": \"rgb(36,36,36)\", \"ticks\": \"outside\"}, \"colorscale\": [[0.0, \"#440154\"], [0.1111111111111111, \"#482878\"], [0.2222222222222222, \"#3e4989\"], [0.3333333333333333, \"#31688e\"], [0.4444444444444444, \"#26828e\"], [0.5555555555555556, \"#1f9e89\"], [0.6666666666666666, \"#35b779\"], [0.7777777777777778, \"#6ece58\"], [0.8888888888888888, \"#b5de2b\"], [1.0, \"#fde725\"]], \"type\": \"heatmap\"}], \"heatmapgl\": [{\"colorbar\": {\"outlinewidth\": 1, \"tickcolor\": \"rgb(36,36,36)\", \"ticks\": \"outside\"}, \"colorscale\": [[0.0, \"#440154\"], [0.1111111111111111, \"#482878\"], [0.2222222222222222, \"#3e4989\"], [0.3333333333333333, \"#31688e\"], [0.4444444444444444, \"#26828e\"], [0.5555555555555556, \"#1f9e89\"], [0.6666666666666666, \"#35b779\"], [0.7777777777777778, \"#6ece58\"], [0.8888888888888888, \"#b5de2b\"], [1.0, \"#fde725\"]], \"type\": \"heatmapgl\"}], \"histogram\": [{\"marker\": {\"line\": {\"color\": \"white\", \"width\": 0.6}}, \"type\": \"histogram\"}], \"histogram2d\": [{\"colorbar\": {\"outlinewidth\": 1, \"tickcolor\": \"rgb(36,36,36)\", \"ticks\": \"outside\"}, \"colorscale\": [[0.0, \"#440154\"], [0.1111111111111111, \"#482878\"], [0.2222222222222222, \"#3e4989\"], [0.3333333333333333, \"#31688e\"], [0.4444444444444444, \"#26828e\"], [0.5555555555555556, \"#1f9e89\"], [0.6666666666666666, \"#35b779\"], [0.7777777777777778, \"#6ece58\"], [0.8888888888888888, \"#b5de2b\"], [1.0, \"#fde725\"]], \"type\": \"histogram2d\"}], \"histogram2dcontour\": [{\"colorbar\": {\"outlinewidth\": 1, \"tickcolor\": \"rgb(36,36,36)\", \"ticks\": \"outside\"}, \"colorscale\": [[0.0, \"#440154\"], [0.1111111111111111, \"#482878\"], [0.2222222222222222, \"#3e4989\"], [0.3333333333333333, \"#31688e\"], [0.4444444444444444, \"#26828e\"], [0.5555555555555556, \"#1f9e89\"], [0.6666666666666666, \"#35b779\"], [0.7777777777777778, \"#6ece58\"], [0.8888888888888888, \"#b5de2b\"], [1.0, \"#fde725\"]], \"type\": \"histogram2dcontour\"}], \"mesh3d\": [{\"colorbar\": {\"outlinewidth\": 1, \"tickcolor\": \"rgb(36,36,36)\", \"ticks\": \"outside\"}, \"type\": \"mesh3d\"}], \"parcoords\": [{\"line\": {\"colorbar\": {\"outlinewidth\": 1, \"tickcolor\": \"rgb(36,36,36)\", \"ticks\": \"outside\"}}, \"type\": \"parcoords\"}], \"pie\": [{\"automargin\": true, \"type\": \"pie\"}], \"scatter\": [{\"marker\": {\"colorbar\": {\"outlinewidth\": 1, \"tickcolor\": \"rgb(36,36,36)\", \"ticks\": \"outside\"}}, \"type\": \"scatter\"}], \"scatter3d\": [{\"line\": {\"colorbar\": {\"outlinewidth\": 1, \"tickcolor\": \"rgb(36,36,36)\", \"ticks\": \"outside\"}}, \"marker\": {\"colorbar\": {\"outlinewidth\": 1, \"tickcolor\": \"rgb(36,36,36)\", \"ticks\": \"outside\"}}, \"type\": \"scatter3d\"}], \"scattercarpet\": [{\"marker\": {\"colorbar\": {\"outlinewidth\": 1, \"tickcolor\": \"rgb(36,36,36)\", \"ticks\": \"outside\"}}, \"type\": \"scattercarpet\"}], \"scattergeo\": [{\"marker\": {\"colorbar\": {\"outlinewidth\": 1, \"tickcolor\": \"rgb(36,36,36)\", \"ticks\": \"outside\"}}, \"type\": \"scattergeo\"}], \"scattergl\": [{\"marker\": {\"colorbar\": {\"outlinewidth\": 1, \"tickcolor\": \"rgb(36,36,36)\", \"ticks\": \"outside\"}}, \"type\": \"scattergl\"}], \"scattermapbox\": [{\"marker\": {\"colorbar\": {\"outlinewidth\": 1, \"tickcolor\": \"rgb(36,36,36)\", \"ticks\": \"outside\"}}, \"type\": \"scattermapbox\"}], \"scatterpolar\": [{\"marker\": {\"colorbar\": {\"outlinewidth\": 1, \"tickcolor\": \"rgb(36,36,36)\", \"ticks\": \"outside\"}}, \"type\": \"scatterpolar\"}], \"scatterpolargl\": [{\"marker\": {\"colorbar\": {\"outlinewidth\": 1, \"tickcolor\": \"rgb(36,36,36)\", \"ticks\": \"outside\"}}, \"type\": \"scatterpolargl\"}], \"scatterternary\": [{\"marker\": {\"colorbar\": {\"outlinewidth\": 1, \"tickcolor\": \"rgb(36,36,36)\", \"ticks\": \"outside\"}}, \"type\": \"scatterternary\"}], \"surface\": [{\"colorbar\": {\"outlinewidth\": 1, \"tickcolor\": \"rgb(36,36,36)\", \"ticks\": \"outside\"}, \"colorscale\": [[0.0, \"#440154\"], [0.1111111111111111, \"#482878\"], [0.2222222222222222, \"#3e4989\"], [0.3333333333333333, \"#31688e\"], [0.4444444444444444, \"#26828e\"], [0.5555555555555556, \"#1f9e89\"], [0.6666666666666666, \"#35b779\"], [0.7777777777777778, \"#6ece58\"], [0.8888888888888888, \"#b5de2b\"], [1.0, \"#fde725\"]], \"type\": \"surface\"}], \"table\": [{\"cells\": {\"fill\": {\"color\": \"rgb(237,237,237)\"}, \"line\": {\"color\": \"white\"}}, \"header\": {\"fill\": {\"color\": \"rgb(217,217,217)\"}, \"line\": {\"color\": \"white\"}}, \"type\": \"table\"}]}, \"layout\": {\"annotationdefaults\": {\"arrowhead\": 0, \"arrowwidth\": 1}, \"autotypenumbers\": \"strict\", \"coloraxis\": {\"colorbar\": {\"outlinewidth\": 1, \"tickcolor\": \"rgb(36,36,36)\", \"ticks\": \"outside\"}}, \"colorscale\": {\"diverging\": [[0.0, \"rgb(103,0,31)\"], [0.1, \"rgb(178,24,43)\"], [0.2, \"rgb(214,96,77)\"], [0.3, \"rgb(244,165,130)\"], [0.4, \"rgb(253,219,199)\"], [0.5, \"rgb(247,247,247)\"], [0.6, \"rgb(209,229,240)\"], [0.7, \"rgb(146,197,222)\"], [0.8, \"rgb(67,147,195)\"], [0.9, \"rgb(33,102,172)\"], [1.0, \"rgb(5,48,97)\"]], \"sequential\": [[0.0, \"#440154\"], [0.1111111111111111, \"#482878\"], [0.2222222222222222, \"#3e4989\"], [0.3333333333333333, \"#31688e\"], [0.4444444444444444, \"#26828e\"], [0.5555555555555556, \"#1f9e89\"], [0.6666666666666666, \"#35b779\"], [0.7777777777777778, \"#6ece58\"], [0.8888888888888888, \"#b5de2b\"], [1.0, \"#fde725\"]], \"sequentialminus\": [[0.0, \"#440154\"], [0.1111111111111111, \"#482878\"], [0.2222222222222222, \"#3e4989\"], [0.3333333333333333, \"#31688e\"], [0.4444444444444444, \"#26828e\"], [0.5555555555555556, \"#1f9e89\"], [0.6666666666666666, \"#35b779\"], [0.7777777777777778, \"#6ece58\"], [0.8888888888888888, \"#b5de2b\"], [1.0, \"#fde725\"]]}, \"colorway\": [\"#1F77B4\", \"#FF7F0E\", \"#2CA02C\", \"#D62728\", \"#9467BD\", \"#8C564B\", \"#E377C2\", \"#7F7F7F\", \"#BCBD22\", \"#17BECF\"], \"font\": {\"color\": \"rgb(36,36,36)\"}, \"geo\": {\"bgcolor\": \"white\", \"lakecolor\": \"white\", \"landcolor\": \"white\", \"showlakes\": true, \"showland\": true, \"subunitcolor\": \"white\"}, \"hoverlabel\": {\"align\": \"left\"}, \"hovermode\": \"closest\", \"mapbox\": {\"style\": \"light\"}, \"paper_bgcolor\": \"white\", \"plot_bgcolor\": \"white\", \"polar\": {\"angularaxis\": {\"gridcolor\": \"rgb(232,232,232)\", \"linecolor\": \"rgb(36,36,36)\", \"showgrid\": false, \"showline\": true, \"ticks\": \"outside\"}, \"bgcolor\": \"white\", \"radialaxis\": {\"gridcolor\": \"rgb(232,232,232)\", \"linecolor\": \"rgb(36,36,36)\", \"showgrid\": false, \"showline\": true, \"ticks\": \"outside\"}}, \"scene\": {\"xaxis\": {\"backgroundcolor\": \"white\", \"gridcolor\": \"rgb(232,232,232)\", \"gridwidth\": 2, \"linecolor\": \"rgb(36,36,36)\", \"showbackground\": true, \"showgrid\": false, \"showline\": true, \"ticks\": \"outside\", \"zeroline\": false, \"zerolinecolor\": \"rgb(36,36,36)\"}, \"yaxis\": {\"backgroundcolor\": \"white\", \"gridcolor\": \"rgb(232,232,232)\", \"gridwidth\": 2, \"linecolor\": \"rgb(36,36,36)\", \"showbackground\": true, \"showgrid\": false, \"showline\": true, \"ticks\": \"outside\", \"zeroline\": false, \"zerolinecolor\": \"rgb(36,36,36)\"}, \"zaxis\": {\"backgroundcolor\": \"white\", \"gridcolor\": \"rgb(232,232,232)\", \"gridwidth\": 2, \"linecolor\": \"rgb(36,36,36)\", \"showbackground\": true, \"showgrid\": false, \"showline\": true, \"ticks\": \"outside\", \"zeroline\": false, \"zerolinecolor\": \"rgb(36,36,36)\"}}, \"shapedefaults\": {\"fillcolor\": \"black\", \"line\": {\"width\": 0}, \"opacity\": 0.3}, \"ternary\": {\"aaxis\": {\"gridcolor\": \"rgb(232,232,232)\", \"linecolor\": \"rgb(36,36,36)\", \"showgrid\": false, \"showline\": true, \"ticks\": \"outside\"}, \"baxis\": {\"gridcolor\": \"rgb(232,232,232)\", \"linecolor\": \"rgb(36,36,36)\", \"showgrid\": false, \"showline\": true, \"ticks\": \"outside\"}, \"bgcolor\": \"white\", \"caxis\": {\"gridcolor\": \"rgb(232,232,232)\", \"linecolor\": \"rgb(36,36,36)\", \"showgrid\": false, \"showline\": true, \"ticks\": \"outside\"}}, \"title\": {\"x\": 0.05}, \"xaxis\": {\"automargin\": true, \"gridcolor\": \"rgb(232,232,232)\", \"linecolor\": \"rgb(36,36,36)\", \"showgrid\": false, \"showline\": true, \"ticks\": \"outside\", \"title\": {\"standoff\": 15}, \"zeroline\": false, \"zerolinecolor\": \"rgb(36,36,36)\"}, \"yaxis\": {\"automargin\": true, \"gridcolor\": \"rgb(232,232,232)\", \"linecolor\": \"rgb(36,36,36)\", \"showgrid\": false, \"showline\": true, \"ticks\": \"outside\", \"title\": {\"standoff\": 15}, \"zeroline\": false, \"zerolinecolor\": \"rgb(36,36,36)\"}}}, \"title\": {\"text\": \"Capacidad de investigaci\\u00f3n de contactos en 48h\"}, \"xaxis\": {\"anchor\": \"y\", \"domain\": [0.0, 1.0], \"title\": {\"text\": \"Fecha\"}}, \"yaxis\": {\"anchor\": \"x\", \"domain\": [0.0, 1.0], \"title\": {\"text\": \"N\\u00famero de casos\"}}},                        {\"responsive\": true}                    ).then(function(){\n",
       "                            \n",
       "var gd = document.getElementById('554531c4-d6e2-4f4b-8282-ebd3f9704a65');\n",
       "var x = new MutationObserver(function (mutations, observer) {{\n",
       "        var display = window.getComputedStyle(gd).display;\n",
       "        if (!display || display === 'none') {{\n",
       "            console.log([gd, 'removed!']);\n",
       "            Plotly.purge(gd);\n",
       "            observer.disconnect();\n",
       "        }}\n",
       "}});\n",
       "\n",
       "// Listen for the removal of the full notebook cells\n",
       "var notebookContainer = gd.closest('#notebook-container');\n",
       "if (notebookContainer) {{\n",
       "    x.observe(notebookContainer, {childList: true});\n",
       "}}\n",
       "\n",
       "// Listen for the clearing of the current output cell\n",
       "var outputEl = gd.closest('.output');\n",
       "if (outputEl) {{\n",
       "    x.observe(outputEl, {childList: true});\n",
       "}}\n",
       "\n",
       "                        })                };                });            </script>        </div>"
      ]
     },
     "metadata": {},
     "output_type": "display_data"
    }
   ],
   "source": [
    "# Crea gráfico de etapa_clinica regional por semana epidemiologica\n",
    "\n",
    "px.bar(df_seguimiento_ind7_clean.groupby(['fecha_cumple_requisitos','dif_ind7']).count()[['n_folio']].reset_index(),\n",
    "        x= 'fecha_cumple_requisitos',\n",
    "        y= 'n_folio',\n",
    "        color= 'dif_ind7',\n",
    "        labels={'dif_ind7':'Cumplido'}, \n",
    "       ).update_layout(title= 'Capacidad de investigación de contactos en 48h',\n",
    "                    yaxis_title='Número de casos',\n",
    "                    xaxis_title='Fecha',\n",
    "                    template='simple_white',\n",
    "                      )                 \n",
    "                    #xaxis=dict(tickmode = 'array',\n",
    "                     #             tickvals = list(range(12,88,3)),\n",
    "                      #            ticktext = list(list(range(12,54,3))+list(range(1,88,3))),\n",
    "                      #           ),\n",
    "               #     ).add_vline(x=53.5, line_width=3, line_dash='dash', line_color='gray'\n",
    "                #               ).add_vrect(x0='50', x1='50', \n",
    "                 #                          annotation_text='2020', \n",
    "                  #                         annotation_position='top right',\n",
    "                   #                        annotation=dict(font_size=18, \n",
    "                    #                                       font_family=\"'Open Sans', verdana, arial, sans-serif\"),\n",
    "                     #                                      opacity=0, \n",
    "                      #                                     line_width=0\n",
    "                       #                   ).add_vrect(x0='84', x1='86', \n",
    "                        #                   annotation_text='2021', \n",
    "                         #                  annotation_position='top right',\n",
    "                          #                 annotation=dict(font_size=18, \n",
    "                           #                                font_family=\"'Open Sans', verdana, arial, sans-serif\"),\n",
    "                            #                               opacity=0, \n",
    "                             #                              line_width=0)  \n",
    "                      "
   ]
  },
  {
   "cell_type": "code",
   "execution_count": 475,
   "id": "0da18904",
   "metadata": {},
   "outputs": [],
   "source": [
    "df_ind7= df_seguimiento_ind7_clean.groupby(['fecha_cumple_requisitos', 'dif_ind7']).count()[['n_folio']].reset_index()"
   ]
  },
  {
   "cell_type": "code",
   "execution_count": 476,
   "id": "f27a1c87",
   "metadata": {},
   "outputs": [],
   "source": [
    "df_ind7_perc = (df_ind7[df_ind7['dif_ind7']==True].set_index('fecha_cumple_requisitos')[['n_folio']]/df_ind7.groupby('fecha_cumple_requisitos').sum('n_folio')[['n_folio']])*100"
   ]
  },
  {
   "cell_type": "code",
   "execution_count": 525,
   "id": "cfe31af4",
   "metadata": {},
   "outputs": [
    {
     "data": {
      "application/vnd.plotly.v1+json": {
       "config": {
        "plotlyServerURL": "https://plot.ly"
       },
       "data": [
        {
         "hovertemplate": "fecha_cumple_requisitos=%{x}<br>Oportunidad (%)=%{marker.color}<extra></extra>",
         "legendgroup": "",
         "line": {
          "color": "grey"
         },
         "marker": {
          "color": [
           100,
           100,
           100,
           88.88888888888889,
           100,
           100,
           66.66666666666666,
           100,
           100,
           97.72727272727273,
           100,
           100,
           100,
           100,
           100,
           100,
           100,
           92.3076923076923,
           100,
           100,
           100,
           100,
           100,
           100,
           100,
           96.61016949152543,
           100,
           95.23809523809523,
           100,
           98.78048780487805,
           100,
           100,
           100,
           100,
           100,
           98.80952380952381,
           100,
           100,
           100,
           100,
           100,
           100,
           100,
           100,
           100,
           100,
           100,
           100,
           100,
           100,
           100,
           96.05263157894737,
           100,
           100,
           100,
           100,
           100,
           100,
           100,
           100,
           100,
           100,
           100,
           100,
           100,
           100,
           99.05660377358491,
           100,
           100,
           100,
           97.74436090225564,
           100,
           100,
           100,
           100,
           100,
           100,
           98.7012987012987,
           98.87640449438202,
           100,
           100,
           100,
           100,
           100,
           94.19354838709677,
           99.40119760479041,
           100,
           98.93617021276596,
           100,
           100,
           100,
           100,
           100,
           100,
           100,
           100,
           100,
           100,
           99.15254237288136,
           100,
           100,
           97.57575757575758,
           100,
           100,
           100,
           99.16666666666667,
           100,
           100,
           100,
           100,
           100,
           96.7741935483871,
           100,
           100,
           92.6829268292683,
           94.52054794520548,
           100,
           100,
           100,
           100,
           100,
           100,
           100,
           97.16981132075472,
           100,
           100,
           90.66666666666666,
           100,
           100,
           100,
           100,
           100,
           100,
           100,
           100,
           100,
           100,
           100,
           100,
           100,
           100,
           100,
           50,
           100,
           100,
           100,
           100,
           100,
           100,
           81.81818181818183,
           100,
           100,
           100,
           100,
           100,
           100,
           100,
           86.20689655172413,
           100,
           100,
           100,
           100,
           100,
           88.46153846153845,
           100,
           100,
           100,
           100,
           100,
           100,
           100,
           100,
           100,
           100,
           100,
           100,
           100,
           100,
           100,
           100,
           100,
           100
          ],
          "coloraxis": "coloraxis",
          "line": {
           "width": 1
          },
          "size": 10,
          "symbol": "circle"
         },
         "mode": "lines+markers",
         "name": "",
         "orientation": "v",
         "showlegend": false,
         "type": "scatter",
         "x": [
          "2021-03-01T00:00:00",
          "2021-03-02T00:00:00",
          "2021-03-03T00:00:00",
          "2021-03-04T00:00:00",
          "2021-03-05T00:00:00",
          "2021-03-06T00:00:00",
          "2021-03-07T00:00:00",
          "2021-03-08T00:00:00",
          "2021-03-09T00:00:00",
          "2021-03-10T00:00:00",
          "2021-03-11T00:00:00",
          "2021-03-12T00:00:00",
          "2021-03-13T00:00:00",
          "2021-03-14T00:00:00",
          "2021-03-15T00:00:00",
          "2021-03-16T00:00:00",
          "2021-03-17T00:00:00",
          "2021-03-18T00:00:00",
          "2021-03-19T00:00:00",
          "2021-03-20T00:00:00",
          "2021-03-21T00:00:00",
          "2021-03-22T00:00:00",
          "2021-03-23T00:00:00",
          "2021-03-24T00:00:00",
          "2021-03-25T00:00:00",
          "2021-03-26T00:00:00",
          "2021-03-27T00:00:00",
          "2021-03-28T00:00:00",
          "2021-03-29T00:00:00",
          "2021-03-30T00:00:00",
          "2021-03-31T00:00:00",
          "2021-04-01T00:00:00",
          "2021-04-02T00:00:00",
          "2021-04-03T00:00:00",
          "2021-04-04T00:00:00",
          "2021-04-05T00:00:00",
          "2021-04-06T00:00:00",
          "2021-04-07T00:00:00",
          "2021-04-08T00:00:00",
          "2021-04-09T00:00:00",
          "2021-04-10T00:00:00",
          "2021-04-11T00:00:00",
          "2021-04-12T00:00:00",
          "2021-04-13T00:00:00",
          "2021-04-14T00:00:00",
          "2021-04-15T00:00:00",
          "2021-04-16T00:00:00",
          "2021-04-17T00:00:00",
          "2021-04-18T00:00:00",
          "2021-04-19T00:00:00",
          "2021-04-20T00:00:00",
          "2021-04-21T00:00:00",
          "2021-04-22T00:00:00",
          "2021-04-23T00:00:00",
          "2021-04-24T00:00:00",
          "2021-04-25T00:00:00",
          "2021-04-26T00:00:00",
          "2021-04-27T00:00:00",
          "2021-04-28T00:00:00",
          "2021-04-29T00:00:00",
          "2021-04-30T00:00:00",
          "2021-05-01T00:00:00",
          "2021-05-02T00:00:00",
          "2021-05-03T00:00:00",
          "2021-05-04T00:00:00",
          "2021-05-05T00:00:00",
          "2021-05-06T00:00:00",
          "2021-05-07T00:00:00",
          "2021-05-08T00:00:00",
          "2021-05-09T00:00:00",
          "2021-05-10T00:00:00",
          "2021-05-11T00:00:00",
          "2021-05-12T00:00:00",
          "2021-05-13T00:00:00",
          "2021-05-14T00:00:00",
          "2021-05-15T00:00:00",
          "2021-05-16T00:00:00",
          "2021-05-17T00:00:00",
          "2021-05-18T00:00:00",
          "2021-05-19T00:00:00",
          "2021-05-20T00:00:00",
          "2021-05-21T00:00:00",
          "2021-05-22T00:00:00",
          "2021-05-23T00:00:00",
          "2021-05-24T00:00:00",
          "2021-05-25T00:00:00",
          "2021-05-26T00:00:00",
          "2021-05-27T00:00:00",
          "2021-05-28T00:00:00",
          "2021-05-29T00:00:00",
          "2021-05-30T00:00:00",
          "2021-05-31T00:00:00",
          "2021-06-01T00:00:00",
          "2021-06-02T00:00:00",
          "2021-06-03T00:00:00",
          "2021-06-04T00:00:00",
          "2021-06-05T00:00:00",
          "2021-06-06T00:00:00",
          "2021-06-07T00:00:00",
          "2021-06-08T00:00:00",
          "2021-06-09T00:00:00",
          "2021-06-10T00:00:00",
          "2021-06-11T00:00:00",
          "2021-06-12T00:00:00",
          "2021-06-13T00:00:00",
          "2021-06-14T00:00:00",
          "2021-06-15T00:00:00",
          "2021-06-16T00:00:00",
          "2021-06-17T00:00:00",
          "2021-06-18T00:00:00",
          "2021-06-19T00:00:00",
          "2021-06-20T00:00:00",
          "2021-06-21T00:00:00",
          "2021-06-22T00:00:00",
          "2021-06-23T00:00:00",
          "2021-06-24T00:00:00",
          "2021-06-25T00:00:00",
          "2021-06-26T00:00:00",
          "2021-06-27T00:00:00",
          "2021-06-28T00:00:00",
          "2021-06-29T00:00:00",
          "2021-06-30T00:00:00",
          "2021-07-01T00:00:00",
          "2021-07-02T00:00:00",
          "2021-07-03T00:00:00",
          "2021-07-04T00:00:00",
          "2021-07-05T00:00:00",
          "2021-07-06T00:00:00",
          "2021-07-07T00:00:00",
          "2021-07-08T00:00:00",
          "2021-07-09T00:00:00",
          "2021-07-10T00:00:00",
          "2021-07-11T00:00:00",
          "2021-07-12T00:00:00",
          "2021-07-13T00:00:00",
          "2021-07-14T00:00:00",
          "2021-07-15T00:00:00",
          "2021-07-16T00:00:00",
          "2021-07-17T00:00:00",
          "2021-07-19T00:00:00",
          "2021-07-20T00:00:00",
          "2021-07-21T00:00:00",
          "2021-07-22T00:00:00",
          "2021-07-23T00:00:00",
          "2021-07-24T00:00:00",
          "2021-07-25T00:00:00",
          "2021-07-26T00:00:00",
          "2021-07-27T00:00:00",
          "2021-07-28T00:00:00",
          "2021-07-29T00:00:00",
          "2021-07-30T00:00:00",
          "2021-07-31T00:00:00",
          "2021-08-01T00:00:00",
          "2021-08-02T00:00:00",
          "2021-08-03T00:00:00",
          "2021-08-04T00:00:00",
          "2021-08-05T00:00:00",
          "2021-08-06T00:00:00",
          "2021-08-07T00:00:00",
          "2021-08-08T00:00:00",
          "2021-08-09T00:00:00",
          "2021-08-10T00:00:00",
          "2021-08-11T00:00:00",
          "2021-08-12T00:00:00",
          "2021-08-13T00:00:00",
          "2021-08-14T00:00:00",
          "2021-08-15T00:00:00",
          "2021-08-16T00:00:00",
          "2021-08-17T00:00:00",
          "2021-08-18T00:00:00",
          "2021-08-19T00:00:00",
          "2021-08-20T00:00:00",
          "2021-08-21T00:00:00",
          "2021-08-22T00:00:00",
          "2021-08-23T00:00:00",
          "2021-08-24T00:00:00",
          "2021-08-25T00:00:00",
          "2021-08-26T00:00:00",
          "2021-08-27T00:00:00",
          "2021-08-28T00:00:00",
          "2021-08-29T00:00:00",
          "2021-08-30T00:00:00"
         ],
         "xaxis": "x",
         "y": [
          100,
          100,
          100,
          88.88888888888889,
          100,
          100,
          66.66666666666666,
          100,
          100,
          97.72727272727273,
          100,
          100,
          100,
          100,
          100,
          100,
          100,
          92.3076923076923,
          100,
          100,
          100,
          100,
          100,
          100,
          100,
          96.61016949152543,
          100,
          95.23809523809523,
          100,
          98.78048780487805,
          100,
          100,
          100,
          100,
          100,
          98.80952380952381,
          100,
          100,
          100,
          100,
          100,
          100,
          100,
          100,
          100,
          100,
          100,
          100,
          100,
          100,
          100,
          96.05263157894737,
          100,
          100,
          100,
          100,
          100,
          100,
          100,
          100,
          100,
          100,
          100,
          100,
          100,
          100,
          99.05660377358491,
          100,
          100,
          100,
          97.74436090225564,
          100,
          100,
          100,
          100,
          100,
          100,
          98.7012987012987,
          98.87640449438202,
          100,
          100,
          100,
          100,
          100,
          94.19354838709677,
          99.40119760479041,
          100,
          98.93617021276596,
          100,
          100,
          100,
          100,
          100,
          100,
          100,
          100,
          100,
          100,
          99.15254237288136,
          100,
          100,
          97.57575757575758,
          100,
          100,
          100,
          99.16666666666667,
          100,
          100,
          100,
          100,
          100,
          96.7741935483871,
          100,
          100,
          92.6829268292683,
          94.52054794520548,
          100,
          100,
          100,
          100,
          100,
          100,
          100,
          97.16981132075472,
          100,
          100,
          90.66666666666666,
          100,
          100,
          100,
          100,
          100,
          100,
          100,
          100,
          100,
          100,
          100,
          100,
          100,
          100,
          100,
          50,
          100,
          100,
          100,
          100,
          100,
          100,
          81.81818181818183,
          100,
          100,
          100,
          100,
          100,
          100,
          100,
          86.20689655172413,
          100,
          100,
          100,
          100,
          100,
          88.46153846153845,
          100,
          100,
          100,
          100,
          100,
          100,
          100,
          100,
          100,
          100,
          100,
          100,
          100,
          100,
          100,
          100,
          100,
          100
         ],
         "yaxis": "y"
        }
       ],
       "layout": {
        "coloraxis": {
         "colorbar": {
          "title": {
           "text": "Oportunidad (%)"
          }
         },
         "colorscale": [
          [
           0,
           "rgb(228, 241, 225)"
          ],
          [
           0.16666666666666666,
           "rgb(180, 217, 204)"
          ],
          [
           0.3333333333333333,
           "rgb(137, 192, 182)"
          ],
          [
           0.5,
           "rgb(99, 166, 160)"
          ],
          [
           0.6666666666666666,
           "rgb(68, 140, 138)"
          ],
          [
           0.8333333333333334,
           "rgb(40, 114, 116)"
          ],
          [
           1,
           "rgb(13, 88, 95)"
          ]
         ]
        },
        "legend": {
         "tracegroupgap": 0
        },
        "margin": {
         "t": 60
        },
        "template": {
         "data": {
          "bar": [
           {
            "error_x": {
             "color": "rgb(36,36,36)"
            },
            "error_y": {
             "color": "rgb(36,36,36)"
            },
            "marker": {
             "line": {
              "color": "white",
              "width": 0.5
             }
            },
            "type": "bar"
           }
          ],
          "barpolar": [
           {
            "marker": {
             "line": {
              "color": "white",
              "width": 0.5
             }
            },
            "type": "barpolar"
           }
          ],
          "carpet": [
           {
            "aaxis": {
             "endlinecolor": "rgb(36,36,36)",
             "gridcolor": "white",
             "linecolor": "white",
             "minorgridcolor": "white",
             "startlinecolor": "rgb(36,36,36)"
            },
            "baxis": {
             "endlinecolor": "rgb(36,36,36)",
             "gridcolor": "white",
             "linecolor": "white",
             "minorgridcolor": "white",
             "startlinecolor": "rgb(36,36,36)"
            },
            "type": "carpet"
           }
          ],
          "choropleth": [
           {
            "colorbar": {
             "outlinewidth": 1,
             "tickcolor": "rgb(36,36,36)",
             "ticks": "outside"
            },
            "type": "choropleth"
           }
          ],
          "contour": [
           {
            "colorbar": {
             "outlinewidth": 1,
             "tickcolor": "rgb(36,36,36)",
             "ticks": "outside"
            },
            "colorscale": [
             [
              0,
              "#440154"
             ],
             [
              0.1111111111111111,
              "#482878"
             ],
             [
              0.2222222222222222,
              "#3e4989"
             ],
             [
              0.3333333333333333,
              "#31688e"
             ],
             [
              0.4444444444444444,
              "#26828e"
             ],
             [
              0.5555555555555556,
              "#1f9e89"
             ],
             [
              0.6666666666666666,
              "#35b779"
             ],
             [
              0.7777777777777778,
              "#6ece58"
             ],
             [
              0.8888888888888888,
              "#b5de2b"
             ],
             [
              1,
              "#fde725"
             ]
            ],
            "type": "contour"
           }
          ],
          "contourcarpet": [
           {
            "colorbar": {
             "outlinewidth": 1,
             "tickcolor": "rgb(36,36,36)",
             "ticks": "outside"
            },
            "type": "contourcarpet"
           }
          ],
          "heatmap": [
           {
            "colorbar": {
             "outlinewidth": 1,
             "tickcolor": "rgb(36,36,36)",
             "ticks": "outside"
            },
            "colorscale": [
             [
              0,
              "#440154"
             ],
             [
              0.1111111111111111,
              "#482878"
             ],
             [
              0.2222222222222222,
              "#3e4989"
             ],
             [
              0.3333333333333333,
              "#31688e"
             ],
             [
              0.4444444444444444,
              "#26828e"
             ],
             [
              0.5555555555555556,
              "#1f9e89"
             ],
             [
              0.6666666666666666,
              "#35b779"
             ],
             [
              0.7777777777777778,
              "#6ece58"
             ],
             [
              0.8888888888888888,
              "#b5de2b"
             ],
             [
              1,
              "#fde725"
             ]
            ],
            "type": "heatmap"
           }
          ],
          "heatmapgl": [
           {
            "colorbar": {
             "outlinewidth": 1,
             "tickcolor": "rgb(36,36,36)",
             "ticks": "outside"
            },
            "colorscale": [
             [
              0,
              "#440154"
             ],
             [
              0.1111111111111111,
              "#482878"
             ],
             [
              0.2222222222222222,
              "#3e4989"
             ],
             [
              0.3333333333333333,
              "#31688e"
             ],
             [
              0.4444444444444444,
              "#26828e"
             ],
             [
              0.5555555555555556,
              "#1f9e89"
             ],
             [
              0.6666666666666666,
              "#35b779"
             ],
             [
              0.7777777777777778,
              "#6ece58"
             ],
             [
              0.8888888888888888,
              "#b5de2b"
             ],
             [
              1,
              "#fde725"
             ]
            ],
            "type": "heatmapgl"
           }
          ],
          "histogram": [
           {
            "marker": {
             "line": {
              "color": "white",
              "width": 0.6
             }
            },
            "type": "histogram"
           }
          ],
          "histogram2d": [
           {
            "colorbar": {
             "outlinewidth": 1,
             "tickcolor": "rgb(36,36,36)",
             "ticks": "outside"
            },
            "colorscale": [
             [
              0,
              "#440154"
             ],
             [
              0.1111111111111111,
              "#482878"
             ],
             [
              0.2222222222222222,
              "#3e4989"
             ],
             [
              0.3333333333333333,
              "#31688e"
             ],
             [
              0.4444444444444444,
              "#26828e"
             ],
             [
              0.5555555555555556,
              "#1f9e89"
             ],
             [
              0.6666666666666666,
              "#35b779"
             ],
             [
              0.7777777777777778,
              "#6ece58"
             ],
             [
              0.8888888888888888,
              "#b5de2b"
             ],
             [
              1,
              "#fde725"
             ]
            ],
            "type": "histogram2d"
           }
          ],
          "histogram2dcontour": [
           {
            "colorbar": {
             "outlinewidth": 1,
             "tickcolor": "rgb(36,36,36)",
             "ticks": "outside"
            },
            "colorscale": [
             [
              0,
              "#440154"
             ],
             [
              0.1111111111111111,
              "#482878"
             ],
             [
              0.2222222222222222,
              "#3e4989"
             ],
             [
              0.3333333333333333,
              "#31688e"
             ],
             [
              0.4444444444444444,
              "#26828e"
             ],
             [
              0.5555555555555556,
              "#1f9e89"
             ],
             [
              0.6666666666666666,
              "#35b779"
             ],
             [
              0.7777777777777778,
              "#6ece58"
             ],
             [
              0.8888888888888888,
              "#b5de2b"
             ],
             [
              1,
              "#fde725"
             ]
            ],
            "type": "histogram2dcontour"
           }
          ],
          "mesh3d": [
           {
            "colorbar": {
             "outlinewidth": 1,
             "tickcolor": "rgb(36,36,36)",
             "ticks": "outside"
            },
            "type": "mesh3d"
           }
          ],
          "parcoords": [
           {
            "line": {
             "colorbar": {
              "outlinewidth": 1,
              "tickcolor": "rgb(36,36,36)",
              "ticks": "outside"
             }
            },
            "type": "parcoords"
           }
          ],
          "pie": [
           {
            "automargin": true,
            "type": "pie"
           }
          ],
          "scatter": [
           {
            "marker": {
             "colorbar": {
              "outlinewidth": 1,
              "tickcolor": "rgb(36,36,36)",
              "ticks": "outside"
             }
            },
            "type": "scatter"
           }
          ],
          "scatter3d": [
           {
            "line": {
             "colorbar": {
              "outlinewidth": 1,
              "tickcolor": "rgb(36,36,36)",
              "ticks": "outside"
             }
            },
            "marker": {
             "colorbar": {
              "outlinewidth": 1,
              "tickcolor": "rgb(36,36,36)",
              "ticks": "outside"
             }
            },
            "type": "scatter3d"
           }
          ],
          "scattercarpet": [
           {
            "marker": {
             "colorbar": {
              "outlinewidth": 1,
              "tickcolor": "rgb(36,36,36)",
              "ticks": "outside"
             }
            },
            "type": "scattercarpet"
           }
          ],
          "scattergeo": [
           {
            "marker": {
             "colorbar": {
              "outlinewidth": 1,
              "tickcolor": "rgb(36,36,36)",
              "ticks": "outside"
             }
            },
            "type": "scattergeo"
           }
          ],
          "scattergl": [
           {
            "marker": {
             "colorbar": {
              "outlinewidth": 1,
              "tickcolor": "rgb(36,36,36)",
              "ticks": "outside"
             }
            },
            "type": "scattergl"
           }
          ],
          "scattermapbox": [
           {
            "marker": {
             "colorbar": {
              "outlinewidth": 1,
              "tickcolor": "rgb(36,36,36)",
              "ticks": "outside"
             }
            },
            "type": "scattermapbox"
           }
          ],
          "scatterpolar": [
           {
            "marker": {
             "colorbar": {
              "outlinewidth": 1,
              "tickcolor": "rgb(36,36,36)",
              "ticks": "outside"
             }
            },
            "type": "scatterpolar"
           }
          ],
          "scatterpolargl": [
           {
            "marker": {
             "colorbar": {
              "outlinewidth": 1,
              "tickcolor": "rgb(36,36,36)",
              "ticks": "outside"
             }
            },
            "type": "scatterpolargl"
           }
          ],
          "scatterternary": [
           {
            "marker": {
             "colorbar": {
              "outlinewidth": 1,
              "tickcolor": "rgb(36,36,36)",
              "ticks": "outside"
             }
            },
            "type": "scatterternary"
           }
          ],
          "surface": [
           {
            "colorbar": {
             "outlinewidth": 1,
             "tickcolor": "rgb(36,36,36)",
             "ticks": "outside"
            },
            "colorscale": [
             [
              0,
              "#440154"
             ],
             [
              0.1111111111111111,
              "#482878"
             ],
             [
              0.2222222222222222,
              "#3e4989"
             ],
             [
              0.3333333333333333,
              "#31688e"
             ],
             [
              0.4444444444444444,
              "#26828e"
             ],
             [
              0.5555555555555556,
              "#1f9e89"
             ],
             [
              0.6666666666666666,
              "#35b779"
             ],
             [
              0.7777777777777778,
              "#6ece58"
             ],
             [
              0.8888888888888888,
              "#b5de2b"
             ],
             [
              1,
              "#fde725"
             ]
            ],
            "type": "surface"
           }
          ],
          "table": [
           {
            "cells": {
             "fill": {
              "color": "rgb(237,237,237)"
             },
             "line": {
              "color": "white"
             }
            },
            "header": {
             "fill": {
              "color": "rgb(217,217,217)"
             },
             "line": {
              "color": "white"
             }
            },
            "type": "table"
           }
          ]
         },
         "layout": {
          "annotationdefaults": {
           "arrowhead": 0,
           "arrowwidth": 1
          },
          "autotypenumbers": "strict",
          "coloraxis": {
           "colorbar": {
            "outlinewidth": 1,
            "tickcolor": "rgb(36,36,36)",
            "ticks": "outside"
           }
          },
          "colorscale": {
           "diverging": [
            [
             0,
             "rgb(103,0,31)"
            ],
            [
             0.1,
             "rgb(178,24,43)"
            ],
            [
             0.2,
             "rgb(214,96,77)"
            ],
            [
             0.3,
             "rgb(244,165,130)"
            ],
            [
             0.4,
             "rgb(253,219,199)"
            ],
            [
             0.5,
             "rgb(247,247,247)"
            ],
            [
             0.6,
             "rgb(209,229,240)"
            ],
            [
             0.7,
             "rgb(146,197,222)"
            ],
            [
             0.8,
             "rgb(67,147,195)"
            ],
            [
             0.9,
             "rgb(33,102,172)"
            ],
            [
             1,
             "rgb(5,48,97)"
            ]
           ],
           "sequential": [
            [
             0,
             "#440154"
            ],
            [
             0.1111111111111111,
             "#482878"
            ],
            [
             0.2222222222222222,
             "#3e4989"
            ],
            [
             0.3333333333333333,
             "#31688e"
            ],
            [
             0.4444444444444444,
             "#26828e"
            ],
            [
             0.5555555555555556,
             "#1f9e89"
            ],
            [
             0.6666666666666666,
             "#35b779"
            ],
            [
             0.7777777777777778,
             "#6ece58"
            ],
            [
             0.8888888888888888,
             "#b5de2b"
            ],
            [
             1,
             "#fde725"
            ]
           ],
           "sequentialminus": [
            [
             0,
             "#440154"
            ],
            [
             0.1111111111111111,
             "#482878"
            ],
            [
             0.2222222222222222,
             "#3e4989"
            ],
            [
             0.3333333333333333,
             "#31688e"
            ],
            [
             0.4444444444444444,
             "#26828e"
            ],
            [
             0.5555555555555556,
             "#1f9e89"
            ],
            [
             0.6666666666666666,
             "#35b779"
            ],
            [
             0.7777777777777778,
             "#6ece58"
            ],
            [
             0.8888888888888888,
             "#b5de2b"
            ],
            [
             1,
             "#fde725"
            ]
           ]
          },
          "colorway": [
           "#1F77B4",
           "#FF7F0E",
           "#2CA02C",
           "#D62728",
           "#9467BD",
           "#8C564B",
           "#E377C2",
           "#7F7F7F",
           "#BCBD22",
           "#17BECF"
          ],
          "font": {
           "color": "rgb(36,36,36)"
          },
          "geo": {
           "bgcolor": "white",
           "lakecolor": "white",
           "landcolor": "white",
           "showlakes": true,
           "showland": true,
           "subunitcolor": "white"
          },
          "hoverlabel": {
           "align": "left"
          },
          "hovermode": "closest",
          "mapbox": {
           "style": "light"
          },
          "paper_bgcolor": "white",
          "plot_bgcolor": "white",
          "polar": {
           "angularaxis": {
            "gridcolor": "rgb(232,232,232)",
            "linecolor": "rgb(36,36,36)",
            "showgrid": false,
            "showline": true,
            "ticks": "outside"
           },
           "bgcolor": "white",
           "radialaxis": {
            "gridcolor": "rgb(232,232,232)",
            "linecolor": "rgb(36,36,36)",
            "showgrid": false,
            "showline": true,
            "ticks": "outside"
           }
          },
          "scene": {
           "xaxis": {
            "backgroundcolor": "white",
            "gridcolor": "rgb(232,232,232)",
            "gridwidth": 2,
            "linecolor": "rgb(36,36,36)",
            "showbackground": true,
            "showgrid": false,
            "showline": true,
            "ticks": "outside",
            "zeroline": false,
            "zerolinecolor": "rgb(36,36,36)"
           },
           "yaxis": {
            "backgroundcolor": "white",
            "gridcolor": "rgb(232,232,232)",
            "gridwidth": 2,
            "linecolor": "rgb(36,36,36)",
            "showbackground": true,
            "showgrid": false,
            "showline": true,
            "ticks": "outside",
            "zeroline": false,
            "zerolinecolor": "rgb(36,36,36)"
           },
           "zaxis": {
            "backgroundcolor": "white",
            "gridcolor": "rgb(232,232,232)",
            "gridwidth": 2,
            "linecolor": "rgb(36,36,36)",
            "showbackground": true,
            "showgrid": false,
            "showline": true,
            "ticks": "outside",
            "zeroline": false,
            "zerolinecolor": "rgb(36,36,36)"
           }
          },
          "shapedefaults": {
           "fillcolor": "black",
           "line": {
            "width": 0
           },
           "opacity": 0.3
          },
          "ternary": {
           "aaxis": {
            "gridcolor": "rgb(232,232,232)",
            "linecolor": "rgb(36,36,36)",
            "showgrid": false,
            "showline": true,
            "ticks": "outside"
           },
           "baxis": {
            "gridcolor": "rgb(232,232,232)",
            "linecolor": "rgb(36,36,36)",
            "showgrid": false,
            "showline": true,
            "ticks": "outside"
           },
           "bgcolor": "white",
           "caxis": {
            "gridcolor": "rgb(232,232,232)",
            "linecolor": "rgb(36,36,36)",
            "showgrid": false,
            "showline": true,
            "ticks": "outside"
           }
          },
          "title": {
           "x": 0.05
          },
          "xaxis": {
           "automargin": true,
           "gridcolor": "rgb(232,232,232)",
           "linecolor": "rgb(36,36,36)",
           "showgrid": false,
           "showline": true,
           "ticks": "outside",
           "title": {
            "standoff": 15
           },
           "zeroline": false,
           "zerolinecolor": "rgb(36,36,36)"
          },
          "yaxis": {
           "automargin": true,
           "gridcolor": "rgb(232,232,232)",
           "linecolor": "rgb(36,36,36)",
           "showgrid": false,
           "showline": true,
           "ticks": "outside",
           "title": {
            "standoff": 15
           },
           "zeroline": false,
           "zerolinecolor": "rgb(36,36,36)"
          }
         }
        },
        "title": {
         "text": "Capacidad de investigación de contactos en 48h"
        },
        "xaxis": {
         "anchor": "y",
         "domain": [
          0,
          1
         ],
         "title": {
          "text": "Fecha"
         }
        },
        "yaxis": {
         "anchor": "x",
         "domain": [
          0,
          1
         ],
         "title": {
          "text": "Oportunidad (%)"
         }
        }
       }
      },
      "text/html": [
       "<div>                            <div id=\"b0278276-7cd0-4075-9135-f815689675ab\" class=\"plotly-graph-div\" style=\"height:525px; width:100%;\"></div>            <script type=\"text/javascript\">                require([\"plotly\"], function(Plotly) {                    window.PLOTLYENV=window.PLOTLYENV || {};                                    if (document.getElementById(\"b0278276-7cd0-4075-9135-f815689675ab\")) {                    Plotly.newPlot(                        \"b0278276-7cd0-4075-9135-f815689675ab\",                        [{\"hovertemplate\": \"fecha_cumple_requisitos=%{x}<br>Oportunidad (%)=%{marker.color}<extra></extra>\", \"legendgroup\": \"\", \"line\": {\"color\": \"grey\"}, \"marker\": {\"color\": [100.0, 100.0, 100.0, 88.88888888888889, 100.0, 100.0, 66.66666666666666, 100.0, 100.0, 97.72727272727273, 100.0, 100.0, 100.0, 100.0, 100.0, 100.0, 100.0, 92.3076923076923, 100.0, 100.0, 100.0, 100.0, 100.0, 100.0, 100.0, 96.61016949152543, 100.0, 95.23809523809523, 100.0, 98.78048780487805, 100.0, 100.0, 100.0, 100.0, 100.0, 98.80952380952381, 100.0, 100.0, 100.0, 100.0, 100.0, 100.0, 100.0, 100.0, 100.0, 100.0, 100.0, 100.0, 100.0, 100.0, 100.0, 96.05263157894737, 100.0, 100.0, 100.0, 100.0, 100.0, 100.0, 100.0, 100.0, 100.0, 100.0, 100.0, 100.0, 100.0, 100.0, 99.05660377358491, 100.0, 100.0, 100.0, 97.74436090225564, 100.0, 100.0, 100.0, 100.0, 100.0, 100.0, 98.7012987012987, 98.87640449438202, 100.0, 100.0, 100.0, 100.0, 100.0, 94.19354838709677, 99.40119760479041, 100.0, 98.93617021276596, 100.0, 100.0, 100.0, 100.0, 100.0, 100.0, 100.0, 100.0, 100.0, 100.0, 99.15254237288136, 100.0, 100.0, 97.57575757575758, 100.0, 100.0, 100.0, 99.16666666666667, 100.0, 100.0, 100.0, 100.0, 100.0, 96.7741935483871, 100.0, 100.0, 92.6829268292683, 94.52054794520548, 100.0, 100.0, 100.0, 100.0, 100.0, 100.0, 100.0, 97.16981132075472, 100.0, 100.0, 90.66666666666666, 100.0, 100.0, 100.0, 100.0, 100.0, 100.0, 100.0, 100.0, 100.0, 100.0, 100.0, 100.0, 100.0, 100.0, 100.0, 50.0, 100.0, 100.0, 100.0, 100.0, 100.0, 100.0, 81.81818181818183, 100.0, 100.0, 100.0, 100.0, 100.0, 100.0, 100.0, 86.20689655172413, 100.0, 100.0, 100.0, 100.0, 100.0, 88.46153846153845, 100.0, 100.0, 100.0, 100.0, 100.0, 100.0, 100.0, 100.0, 100.0, 100.0, 100.0, 100.0, 100.0, 100.0, 100.0, 100.0, 100.0, 100.0], \"coloraxis\": \"coloraxis\", \"line\": {\"width\": 1}, \"size\": 10, \"symbol\": \"circle\"}, \"mode\": \"lines+markers\", \"name\": \"\", \"orientation\": \"v\", \"showlegend\": false, \"type\": \"scatter\", \"x\": [\"2021-03-01T00:00:00\", \"2021-03-02T00:00:00\", \"2021-03-03T00:00:00\", \"2021-03-04T00:00:00\", \"2021-03-05T00:00:00\", \"2021-03-06T00:00:00\", \"2021-03-07T00:00:00\", \"2021-03-08T00:00:00\", \"2021-03-09T00:00:00\", \"2021-03-10T00:00:00\", \"2021-03-11T00:00:00\", \"2021-03-12T00:00:00\", \"2021-03-13T00:00:00\", \"2021-03-14T00:00:00\", \"2021-03-15T00:00:00\", \"2021-03-16T00:00:00\", \"2021-03-17T00:00:00\", \"2021-03-18T00:00:00\", \"2021-03-19T00:00:00\", \"2021-03-20T00:00:00\", \"2021-03-21T00:00:00\", \"2021-03-22T00:00:00\", \"2021-03-23T00:00:00\", \"2021-03-24T00:00:00\", \"2021-03-25T00:00:00\", \"2021-03-26T00:00:00\", \"2021-03-27T00:00:00\", \"2021-03-28T00:00:00\", \"2021-03-29T00:00:00\", \"2021-03-30T00:00:00\", \"2021-03-31T00:00:00\", \"2021-04-01T00:00:00\", \"2021-04-02T00:00:00\", \"2021-04-03T00:00:00\", \"2021-04-04T00:00:00\", \"2021-04-05T00:00:00\", \"2021-04-06T00:00:00\", \"2021-04-07T00:00:00\", \"2021-04-08T00:00:00\", \"2021-04-09T00:00:00\", \"2021-04-10T00:00:00\", \"2021-04-11T00:00:00\", \"2021-04-12T00:00:00\", \"2021-04-13T00:00:00\", \"2021-04-14T00:00:00\", \"2021-04-15T00:00:00\", \"2021-04-16T00:00:00\", \"2021-04-17T00:00:00\", \"2021-04-18T00:00:00\", \"2021-04-19T00:00:00\", \"2021-04-20T00:00:00\", \"2021-04-21T00:00:00\", \"2021-04-22T00:00:00\", \"2021-04-23T00:00:00\", \"2021-04-24T00:00:00\", \"2021-04-25T00:00:00\", \"2021-04-26T00:00:00\", \"2021-04-27T00:00:00\", \"2021-04-28T00:00:00\", \"2021-04-29T00:00:00\", \"2021-04-30T00:00:00\", \"2021-05-01T00:00:00\", \"2021-05-02T00:00:00\", \"2021-05-03T00:00:00\", \"2021-05-04T00:00:00\", \"2021-05-05T00:00:00\", \"2021-05-06T00:00:00\", \"2021-05-07T00:00:00\", \"2021-05-08T00:00:00\", \"2021-05-09T00:00:00\", \"2021-05-10T00:00:00\", \"2021-05-11T00:00:00\", \"2021-05-12T00:00:00\", \"2021-05-13T00:00:00\", \"2021-05-14T00:00:00\", \"2021-05-15T00:00:00\", \"2021-05-16T00:00:00\", \"2021-05-17T00:00:00\", \"2021-05-18T00:00:00\", \"2021-05-19T00:00:00\", \"2021-05-20T00:00:00\", \"2021-05-21T00:00:00\", \"2021-05-22T00:00:00\", \"2021-05-23T00:00:00\", \"2021-05-24T00:00:00\", \"2021-05-25T00:00:00\", \"2021-05-26T00:00:00\", \"2021-05-27T00:00:00\", \"2021-05-28T00:00:00\", \"2021-05-29T00:00:00\", \"2021-05-30T00:00:00\", \"2021-05-31T00:00:00\", \"2021-06-01T00:00:00\", \"2021-06-02T00:00:00\", \"2021-06-03T00:00:00\", \"2021-06-04T00:00:00\", \"2021-06-05T00:00:00\", \"2021-06-06T00:00:00\", \"2021-06-07T00:00:00\", \"2021-06-08T00:00:00\", \"2021-06-09T00:00:00\", \"2021-06-10T00:00:00\", \"2021-06-11T00:00:00\", \"2021-06-12T00:00:00\", \"2021-06-13T00:00:00\", \"2021-06-14T00:00:00\", \"2021-06-15T00:00:00\", \"2021-06-16T00:00:00\", \"2021-06-17T00:00:00\", \"2021-06-18T00:00:00\", \"2021-06-19T00:00:00\", \"2021-06-20T00:00:00\", \"2021-06-21T00:00:00\", \"2021-06-22T00:00:00\", \"2021-06-23T00:00:00\", \"2021-06-24T00:00:00\", \"2021-06-25T00:00:00\", \"2021-06-26T00:00:00\", \"2021-06-27T00:00:00\", \"2021-06-28T00:00:00\", \"2021-06-29T00:00:00\", \"2021-06-30T00:00:00\", \"2021-07-01T00:00:00\", \"2021-07-02T00:00:00\", \"2021-07-03T00:00:00\", \"2021-07-04T00:00:00\", \"2021-07-05T00:00:00\", \"2021-07-06T00:00:00\", \"2021-07-07T00:00:00\", \"2021-07-08T00:00:00\", \"2021-07-09T00:00:00\", \"2021-07-10T00:00:00\", \"2021-07-11T00:00:00\", \"2021-07-12T00:00:00\", \"2021-07-13T00:00:00\", \"2021-07-14T00:00:00\", \"2021-07-15T00:00:00\", \"2021-07-16T00:00:00\", \"2021-07-17T00:00:00\", \"2021-07-19T00:00:00\", \"2021-07-20T00:00:00\", \"2021-07-21T00:00:00\", \"2021-07-22T00:00:00\", \"2021-07-23T00:00:00\", \"2021-07-24T00:00:00\", \"2021-07-25T00:00:00\", \"2021-07-26T00:00:00\", \"2021-07-27T00:00:00\", \"2021-07-28T00:00:00\", \"2021-07-29T00:00:00\", \"2021-07-30T00:00:00\", \"2021-07-31T00:00:00\", \"2021-08-01T00:00:00\", \"2021-08-02T00:00:00\", \"2021-08-03T00:00:00\", \"2021-08-04T00:00:00\", \"2021-08-05T00:00:00\", \"2021-08-06T00:00:00\", \"2021-08-07T00:00:00\", \"2021-08-08T00:00:00\", \"2021-08-09T00:00:00\", \"2021-08-10T00:00:00\", \"2021-08-11T00:00:00\", \"2021-08-12T00:00:00\", \"2021-08-13T00:00:00\", \"2021-08-14T00:00:00\", \"2021-08-15T00:00:00\", \"2021-08-16T00:00:00\", \"2021-08-17T00:00:00\", \"2021-08-18T00:00:00\", \"2021-08-19T00:00:00\", \"2021-08-20T00:00:00\", \"2021-08-21T00:00:00\", \"2021-08-22T00:00:00\", \"2021-08-23T00:00:00\", \"2021-08-24T00:00:00\", \"2021-08-25T00:00:00\", \"2021-08-26T00:00:00\", \"2021-08-27T00:00:00\", \"2021-08-28T00:00:00\", \"2021-08-29T00:00:00\", \"2021-08-30T00:00:00\"], \"xaxis\": \"x\", \"y\": [100.0, 100.0, 100.0, 88.88888888888889, 100.0, 100.0, 66.66666666666666, 100.0, 100.0, 97.72727272727273, 100.0, 100.0, 100.0, 100.0, 100.0, 100.0, 100.0, 92.3076923076923, 100.0, 100.0, 100.0, 100.0, 100.0, 100.0, 100.0, 96.61016949152543, 100.0, 95.23809523809523, 100.0, 98.78048780487805, 100.0, 100.0, 100.0, 100.0, 100.0, 98.80952380952381, 100.0, 100.0, 100.0, 100.0, 100.0, 100.0, 100.0, 100.0, 100.0, 100.0, 100.0, 100.0, 100.0, 100.0, 100.0, 96.05263157894737, 100.0, 100.0, 100.0, 100.0, 100.0, 100.0, 100.0, 100.0, 100.0, 100.0, 100.0, 100.0, 100.0, 100.0, 99.05660377358491, 100.0, 100.0, 100.0, 97.74436090225564, 100.0, 100.0, 100.0, 100.0, 100.0, 100.0, 98.7012987012987, 98.87640449438202, 100.0, 100.0, 100.0, 100.0, 100.0, 94.19354838709677, 99.40119760479041, 100.0, 98.93617021276596, 100.0, 100.0, 100.0, 100.0, 100.0, 100.0, 100.0, 100.0, 100.0, 100.0, 99.15254237288136, 100.0, 100.0, 97.57575757575758, 100.0, 100.0, 100.0, 99.16666666666667, 100.0, 100.0, 100.0, 100.0, 100.0, 96.7741935483871, 100.0, 100.0, 92.6829268292683, 94.52054794520548, 100.0, 100.0, 100.0, 100.0, 100.0, 100.0, 100.0, 97.16981132075472, 100.0, 100.0, 90.66666666666666, 100.0, 100.0, 100.0, 100.0, 100.0, 100.0, 100.0, 100.0, 100.0, 100.0, 100.0, 100.0, 100.0, 100.0, 100.0, 50.0, 100.0, 100.0, 100.0, 100.0, 100.0, 100.0, 81.81818181818183, 100.0, 100.0, 100.0, 100.0, 100.0, 100.0, 100.0, 86.20689655172413, 100.0, 100.0, 100.0, 100.0, 100.0, 88.46153846153845, 100.0, 100.0, 100.0, 100.0, 100.0, 100.0, 100.0, 100.0, 100.0, 100.0, 100.0, 100.0, 100.0, 100.0, 100.0, 100.0, 100.0, 100.0], \"yaxis\": \"y\"}],                        {\"coloraxis\": {\"colorbar\": {\"title\": {\"text\": \"Oportunidad (%)\"}}, \"colorscale\": [[0.0, \"rgb(228, 241, 225)\"], [0.16666666666666666, \"rgb(180, 217, 204)\"], [0.3333333333333333, \"rgb(137, 192, 182)\"], [0.5, \"rgb(99, 166, 160)\"], [0.6666666666666666, \"rgb(68, 140, 138)\"], [0.8333333333333334, \"rgb(40, 114, 116)\"], [1.0, \"rgb(13, 88, 95)\"]]}, \"legend\": {\"tracegroupgap\": 0}, \"margin\": {\"t\": 60}, \"template\": {\"data\": {\"bar\": [{\"error_x\": {\"color\": \"rgb(36,36,36)\"}, \"error_y\": {\"color\": \"rgb(36,36,36)\"}, \"marker\": {\"line\": {\"color\": \"white\", \"width\": 0.5}}, \"type\": \"bar\"}], \"barpolar\": [{\"marker\": {\"line\": {\"color\": \"white\", \"width\": 0.5}}, \"type\": \"barpolar\"}], \"carpet\": [{\"aaxis\": {\"endlinecolor\": \"rgb(36,36,36)\", \"gridcolor\": \"white\", \"linecolor\": \"white\", \"minorgridcolor\": \"white\", \"startlinecolor\": \"rgb(36,36,36)\"}, \"baxis\": {\"endlinecolor\": \"rgb(36,36,36)\", \"gridcolor\": \"white\", \"linecolor\": \"white\", \"minorgridcolor\": \"white\", \"startlinecolor\": \"rgb(36,36,36)\"}, \"type\": \"carpet\"}], \"choropleth\": [{\"colorbar\": {\"outlinewidth\": 1, \"tickcolor\": \"rgb(36,36,36)\", \"ticks\": \"outside\"}, \"type\": \"choropleth\"}], \"contour\": [{\"colorbar\": {\"outlinewidth\": 1, \"tickcolor\": \"rgb(36,36,36)\", \"ticks\": \"outside\"}, \"colorscale\": [[0.0, \"#440154\"], [0.1111111111111111, \"#482878\"], [0.2222222222222222, \"#3e4989\"], [0.3333333333333333, \"#31688e\"], [0.4444444444444444, \"#26828e\"], [0.5555555555555556, \"#1f9e89\"], [0.6666666666666666, \"#35b779\"], [0.7777777777777778, \"#6ece58\"], [0.8888888888888888, \"#b5de2b\"], [1.0, \"#fde725\"]], \"type\": \"contour\"}], \"contourcarpet\": [{\"colorbar\": {\"outlinewidth\": 1, \"tickcolor\": \"rgb(36,36,36)\", \"ticks\": \"outside\"}, \"type\": \"contourcarpet\"}], \"heatmap\": [{\"colorbar\": {\"outlinewidth\": 1, \"tickcolor\": \"rgb(36,36,36)\", \"ticks\": \"outside\"}, \"colorscale\": [[0.0, \"#440154\"], [0.1111111111111111, \"#482878\"], [0.2222222222222222, \"#3e4989\"], [0.3333333333333333, \"#31688e\"], [0.4444444444444444, \"#26828e\"], [0.5555555555555556, \"#1f9e89\"], [0.6666666666666666, \"#35b779\"], [0.7777777777777778, \"#6ece58\"], [0.8888888888888888, \"#b5de2b\"], [1.0, \"#fde725\"]], \"type\": \"heatmap\"}], \"heatmapgl\": [{\"colorbar\": {\"outlinewidth\": 1, \"tickcolor\": \"rgb(36,36,36)\", \"ticks\": \"outside\"}, \"colorscale\": [[0.0, \"#440154\"], [0.1111111111111111, \"#482878\"], [0.2222222222222222, \"#3e4989\"], [0.3333333333333333, \"#31688e\"], [0.4444444444444444, \"#26828e\"], [0.5555555555555556, \"#1f9e89\"], [0.6666666666666666, \"#35b779\"], [0.7777777777777778, \"#6ece58\"], [0.8888888888888888, \"#b5de2b\"], [1.0, \"#fde725\"]], \"type\": \"heatmapgl\"}], \"histogram\": [{\"marker\": {\"line\": {\"color\": \"white\", \"width\": 0.6}}, \"type\": \"histogram\"}], \"histogram2d\": [{\"colorbar\": {\"outlinewidth\": 1, \"tickcolor\": \"rgb(36,36,36)\", \"ticks\": \"outside\"}, \"colorscale\": [[0.0, \"#440154\"], [0.1111111111111111, \"#482878\"], [0.2222222222222222, \"#3e4989\"], [0.3333333333333333, \"#31688e\"], [0.4444444444444444, \"#26828e\"], [0.5555555555555556, \"#1f9e89\"], [0.6666666666666666, \"#35b779\"], [0.7777777777777778, \"#6ece58\"], [0.8888888888888888, \"#b5de2b\"], [1.0, \"#fde725\"]], \"type\": \"histogram2d\"}], \"histogram2dcontour\": [{\"colorbar\": {\"outlinewidth\": 1, \"tickcolor\": \"rgb(36,36,36)\", \"ticks\": \"outside\"}, \"colorscale\": [[0.0, \"#440154\"], [0.1111111111111111, \"#482878\"], [0.2222222222222222, \"#3e4989\"], [0.3333333333333333, \"#31688e\"], [0.4444444444444444, \"#26828e\"], [0.5555555555555556, \"#1f9e89\"], [0.6666666666666666, \"#35b779\"], [0.7777777777777778, \"#6ece58\"], [0.8888888888888888, \"#b5de2b\"], [1.0, \"#fde725\"]], \"type\": \"histogram2dcontour\"}], \"mesh3d\": [{\"colorbar\": {\"outlinewidth\": 1, \"tickcolor\": \"rgb(36,36,36)\", \"ticks\": \"outside\"}, \"type\": \"mesh3d\"}], \"parcoords\": [{\"line\": {\"colorbar\": {\"outlinewidth\": 1, \"tickcolor\": \"rgb(36,36,36)\", \"ticks\": \"outside\"}}, \"type\": \"parcoords\"}], \"pie\": [{\"automargin\": true, \"type\": \"pie\"}], \"scatter\": [{\"marker\": {\"colorbar\": {\"outlinewidth\": 1, \"tickcolor\": \"rgb(36,36,36)\", \"ticks\": \"outside\"}}, \"type\": \"scatter\"}], \"scatter3d\": [{\"line\": {\"colorbar\": {\"outlinewidth\": 1, \"tickcolor\": \"rgb(36,36,36)\", \"ticks\": \"outside\"}}, \"marker\": {\"colorbar\": {\"outlinewidth\": 1, \"tickcolor\": \"rgb(36,36,36)\", \"ticks\": \"outside\"}}, \"type\": \"scatter3d\"}], \"scattercarpet\": [{\"marker\": {\"colorbar\": {\"outlinewidth\": 1, \"tickcolor\": \"rgb(36,36,36)\", \"ticks\": \"outside\"}}, \"type\": \"scattercarpet\"}], \"scattergeo\": [{\"marker\": {\"colorbar\": {\"outlinewidth\": 1, \"tickcolor\": \"rgb(36,36,36)\", \"ticks\": \"outside\"}}, \"type\": \"scattergeo\"}], \"scattergl\": [{\"marker\": {\"colorbar\": {\"outlinewidth\": 1, \"tickcolor\": \"rgb(36,36,36)\", \"ticks\": \"outside\"}}, \"type\": \"scattergl\"}], \"scattermapbox\": [{\"marker\": {\"colorbar\": {\"outlinewidth\": 1, \"tickcolor\": \"rgb(36,36,36)\", \"ticks\": \"outside\"}}, \"type\": \"scattermapbox\"}], \"scatterpolar\": [{\"marker\": {\"colorbar\": {\"outlinewidth\": 1, \"tickcolor\": \"rgb(36,36,36)\", \"ticks\": \"outside\"}}, \"type\": \"scatterpolar\"}], \"scatterpolargl\": [{\"marker\": {\"colorbar\": {\"outlinewidth\": 1, \"tickcolor\": \"rgb(36,36,36)\", \"ticks\": \"outside\"}}, \"type\": \"scatterpolargl\"}], \"scatterternary\": [{\"marker\": {\"colorbar\": {\"outlinewidth\": 1, \"tickcolor\": \"rgb(36,36,36)\", \"ticks\": \"outside\"}}, \"type\": \"scatterternary\"}], \"surface\": [{\"colorbar\": {\"outlinewidth\": 1, \"tickcolor\": \"rgb(36,36,36)\", \"ticks\": \"outside\"}, \"colorscale\": [[0.0, \"#440154\"], [0.1111111111111111, \"#482878\"], [0.2222222222222222, \"#3e4989\"], [0.3333333333333333, \"#31688e\"], [0.4444444444444444, \"#26828e\"], [0.5555555555555556, \"#1f9e89\"], [0.6666666666666666, \"#35b779\"], [0.7777777777777778, \"#6ece58\"], [0.8888888888888888, \"#b5de2b\"], [1.0, \"#fde725\"]], \"type\": \"surface\"}], \"table\": [{\"cells\": {\"fill\": {\"color\": \"rgb(237,237,237)\"}, \"line\": {\"color\": \"white\"}}, \"header\": {\"fill\": {\"color\": \"rgb(217,217,217)\"}, \"line\": {\"color\": \"white\"}}, \"type\": \"table\"}]}, \"layout\": {\"annotationdefaults\": {\"arrowhead\": 0, \"arrowwidth\": 1}, \"autotypenumbers\": \"strict\", \"coloraxis\": {\"colorbar\": {\"outlinewidth\": 1, \"tickcolor\": \"rgb(36,36,36)\", \"ticks\": \"outside\"}}, \"colorscale\": {\"diverging\": [[0.0, \"rgb(103,0,31)\"], [0.1, \"rgb(178,24,43)\"], [0.2, \"rgb(214,96,77)\"], [0.3, \"rgb(244,165,130)\"], [0.4, \"rgb(253,219,199)\"], [0.5, \"rgb(247,247,247)\"], [0.6, \"rgb(209,229,240)\"], [0.7, \"rgb(146,197,222)\"], [0.8, \"rgb(67,147,195)\"], [0.9, \"rgb(33,102,172)\"], [1.0, \"rgb(5,48,97)\"]], \"sequential\": [[0.0, \"#440154\"], [0.1111111111111111, \"#482878\"], [0.2222222222222222, \"#3e4989\"], [0.3333333333333333, \"#31688e\"], [0.4444444444444444, \"#26828e\"], [0.5555555555555556, \"#1f9e89\"], [0.6666666666666666, \"#35b779\"], [0.7777777777777778, \"#6ece58\"], [0.8888888888888888, \"#b5de2b\"], [1.0, \"#fde725\"]], \"sequentialminus\": [[0.0, \"#440154\"], [0.1111111111111111, \"#482878\"], [0.2222222222222222, \"#3e4989\"], [0.3333333333333333, \"#31688e\"], [0.4444444444444444, \"#26828e\"], [0.5555555555555556, \"#1f9e89\"], [0.6666666666666666, \"#35b779\"], [0.7777777777777778, \"#6ece58\"], [0.8888888888888888, \"#b5de2b\"], [1.0, \"#fde725\"]]}, \"colorway\": [\"#1F77B4\", \"#FF7F0E\", \"#2CA02C\", \"#D62728\", \"#9467BD\", \"#8C564B\", \"#E377C2\", \"#7F7F7F\", \"#BCBD22\", \"#17BECF\"], \"font\": {\"color\": \"rgb(36,36,36)\"}, \"geo\": {\"bgcolor\": \"white\", \"lakecolor\": \"white\", \"landcolor\": \"white\", \"showlakes\": true, \"showland\": true, \"subunitcolor\": \"white\"}, \"hoverlabel\": {\"align\": \"left\"}, \"hovermode\": \"closest\", \"mapbox\": {\"style\": \"light\"}, \"paper_bgcolor\": \"white\", \"plot_bgcolor\": \"white\", \"polar\": {\"angularaxis\": {\"gridcolor\": \"rgb(232,232,232)\", \"linecolor\": \"rgb(36,36,36)\", \"showgrid\": false, \"showline\": true, \"ticks\": \"outside\"}, \"bgcolor\": \"white\", \"radialaxis\": {\"gridcolor\": \"rgb(232,232,232)\", \"linecolor\": \"rgb(36,36,36)\", \"showgrid\": false, \"showline\": true, \"ticks\": \"outside\"}}, \"scene\": {\"xaxis\": {\"backgroundcolor\": \"white\", \"gridcolor\": \"rgb(232,232,232)\", \"gridwidth\": 2, \"linecolor\": \"rgb(36,36,36)\", \"showbackground\": true, \"showgrid\": false, \"showline\": true, \"ticks\": \"outside\", \"zeroline\": false, \"zerolinecolor\": \"rgb(36,36,36)\"}, \"yaxis\": {\"backgroundcolor\": \"white\", \"gridcolor\": \"rgb(232,232,232)\", \"gridwidth\": 2, \"linecolor\": \"rgb(36,36,36)\", \"showbackground\": true, \"showgrid\": false, \"showline\": true, \"ticks\": \"outside\", \"zeroline\": false, \"zerolinecolor\": \"rgb(36,36,36)\"}, \"zaxis\": {\"backgroundcolor\": \"white\", \"gridcolor\": \"rgb(232,232,232)\", \"gridwidth\": 2, \"linecolor\": \"rgb(36,36,36)\", \"showbackground\": true, \"showgrid\": false, \"showline\": true, \"ticks\": \"outside\", \"zeroline\": false, \"zerolinecolor\": \"rgb(36,36,36)\"}}, \"shapedefaults\": {\"fillcolor\": \"black\", \"line\": {\"width\": 0}, \"opacity\": 0.3}, \"ternary\": {\"aaxis\": {\"gridcolor\": \"rgb(232,232,232)\", \"linecolor\": \"rgb(36,36,36)\", \"showgrid\": false, \"showline\": true, \"ticks\": \"outside\"}, \"baxis\": {\"gridcolor\": \"rgb(232,232,232)\", \"linecolor\": \"rgb(36,36,36)\", \"showgrid\": false, \"showline\": true, \"ticks\": \"outside\"}, \"bgcolor\": \"white\", \"caxis\": {\"gridcolor\": \"rgb(232,232,232)\", \"linecolor\": \"rgb(36,36,36)\", \"showgrid\": false, \"showline\": true, \"ticks\": \"outside\"}}, \"title\": {\"x\": 0.05}, \"xaxis\": {\"automargin\": true, \"gridcolor\": \"rgb(232,232,232)\", \"linecolor\": \"rgb(36,36,36)\", \"showgrid\": false, \"showline\": true, \"ticks\": \"outside\", \"title\": {\"standoff\": 15}, \"zeroline\": false, \"zerolinecolor\": \"rgb(36,36,36)\"}, \"yaxis\": {\"automargin\": true, \"gridcolor\": \"rgb(232,232,232)\", \"linecolor\": \"rgb(36,36,36)\", \"showgrid\": false, \"showline\": true, \"ticks\": \"outside\", \"title\": {\"standoff\": 15}, \"zeroline\": false, \"zerolinecolor\": \"rgb(36,36,36)\"}}}, \"title\": {\"text\": \"Capacidad de investigaci\\u00f3n de contactos en 48h\"}, \"xaxis\": {\"anchor\": \"y\", \"domain\": [0.0, 1.0], \"title\": {\"text\": \"Fecha\"}}, \"yaxis\": {\"anchor\": \"x\", \"domain\": [0.0, 1.0], \"title\": {\"text\": \"Oportunidad (%)\"}}},                        {\"responsive\": true}                    ).then(function(){\n",
       "                            \n",
       "var gd = document.getElementById('b0278276-7cd0-4075-9135-f815689675ab');\n",
       "var x = new MutationObserver(function (mutations, observer) {{\n",
       "        var display = window.getComputedStyle(gd).display;\n",
       "        if (!display || display === 'none') {{\n",
       "            console.log([gd, 'removed!']);\n",
       "            Plotly.purge(gd);\n",
       "            observer.disconnect();\n",
       "        }}\n",
       "}});\n",
       "\n",
       "// Listen for the removal of the full notebook cells\n",
       "var notebookContainer = gd.closest('#notebook-container');\n",
       "if (notebookContainer) {{\n",
       "    x.observe(notebookContainer, {childList: true});\n",
       "}}\n",
       "\n",
       "// Listen for the clearing of the current output cell\n",
       "var outputEl = gd.closest('.output');\n",
       "if (outputEl) {{\n",
       "    x.observe(outputEl, {childList: true});\n",
       "}}\n",
       "\n",
       "                        })                };                });            </script>        </div>"
      ]
     },
     "metadata": {},
     "output_type": "display_data"
    }
   ],
   "source": [
    "px.scatter(df_ind7_perc.reset_index(),\n",
    "        x= 'fecha_cumple_requisitos',\n",
    "        y= 'n_folio',\n",
    "        color='n_folio',\n",
    "        color_continuous_scale=px.colors.sequential.Mint,\n",
    "        labels={'n_folio':'Oportunidad (%)'},\n",
    "        ).update_layout(title= 'Capacidad de investigación de contactos en 48h',\n",
    "                       yaxis_title='Oportunidad (%)',\n",
    "                       xaxis_title='Fecha',\n",
    "                       template='simple_white',\n",
    "                 #      xaxis=dict(tickmode = 'array',\n",
    "                  #                tickvals = list(range(12,88,3)),\n",
    "                   #               ticktext = list(list(range(12,54,3))+list(range(1,88,3))),\n",
    "                    #             ),\n",
    "                 #   ).add_vline(x=53.5, line_width=3, line_dash='dash', line_color='gray'\n",
    "                  #             ).add_hline(y=10, \n",
    "                   #                        line_width=3, \n",
    "                    #                       line_dash='longdash', \n",
    "                     #                      line_color='olive',\n",
    "                      #                     annotation_text='Meta nacional (10%)',\n",
    "                       #                    annotation_position='bottom right'\n",
    "                        #         ).add_hline(y=mean_bac_ind, \n",
    "                         #                    line_width=3, \n",
    "                          #                   line_dash='longdash', \n",
    "                           #                  line_color='green',\n",
    "                            #                 annotation_text= 'Promedio BAC ('+str(mean_bac_ind)+'%)',\n",
    "                             #                annotation_position='bottom right'\n",
    "                              #       ).add_vrect(x0='51', x1='50', \n",
    "                               #            annotation_text='2020', \n",
    "                                #           annotation_position='top right',\n",
    "                                 #          annotation=dict(font_size=18, \n",
    "                                  #                         font_family=\"'Open Sans', verdana, arial, sans-serif\"),\n",
    "                                   #                        opacity=0, \n",
    "                                    #                       line_width=0\n",
    "                                     #     ).add_vrect(x0='84', x1='86', \n",
    "                                      #     annotation_text='2021', \n",
    "                                       #    annotation_position='top right',\n",
    "                                        #   annotation=dict(font_size=18, \n",
    "                                         #                  font_family=\"'Open Sans', verdana, arial, sans-serif\"),\n",
    "                                          #                 opacity=0, \n",
    "                                           #                line_width=0\n",
    "                                                     ).update_traces(mode='lines+markers', \n",
    "                                                                     line_color='grey',\n",
    "                                                                     marker_line_width=1, \n",
    "                                                                     marker_size=10)"
   ]
  },
  {
   "cell_type": "code",
   "execution_count": 478,
   "id": "48916179",
   "metadata": {},
   "outputs": [],
   "source": [
    "mean_ind7 = df_ind7_perc.reset_index().merge(data_aysen_clean_21[['fecha_notificacion','semana_epidemiologica_21']], \n",
    "                   left_on='fecha_cumple_requisitos',\n",
    "                   right_on='fecha_notificacion',\n",
    "                   how='left').groupby('semana_epidemiologica_21').mean()['n_folio'].mean()"
   ]
  },
  {
   "cell_type": "code",
   "execution_count": 479,
   "id": "35a54350",
   "metadata": {},
   "outputs": [
    {
     "data": {
      "application/vnd.plotly.v1+json": {
       "config": {
        "plotlyServerURL": "https://plot.ly"
       },
       "data": [
        {
         "hovertemplate": "semana_epidemiologica_21=%{x}<br>Oportunidad (%)=%{marker.color}<extra></extra>",
         "legendgroup": "",
         "line": {
          "color": "grey"
         },
         "marker": {
          "color": [
           97.84845231704885,
           98.39313297896436,
           98.64595447748717,
           99.27306363413445,
           99.44643754352238,
           99.76480836236968,
           100,
           99.33006586714954,
           100,
           99.84143400797677,
           99.58845581921358,
           99.56894671645078,
           98.48889903838847,
           100,
           99.384654671019,
           99.80564876957533,
           97.33559752022637,
           99.37490838271904,
           97.90329850440482,
           100,
           92.3048188270452,
           97.4623937213858,
           97.56996262496615,
           98.38322372909013,
           100,
           100,
           100
          ],
          "coloraxis": "coloraxis",
          "line": {
           "width": 1
          },
          "size": 10,
          "symbol": "circle"
         },
         "mode": "lines+markers",
         "name": "",
         "orientation": "v",
         "showlegend": false,
         "type": "scatter",
         "x": [
          62,
          63,
          64,
          65,
          66,
          67,
          68,
          69,
          70,
          71,
          72,
          73,
          74,
          75,
          76,
          77,
          78,
          79,
          80,
          81,
          82,
          83,
          84,
          85,
          86,
          87,
          88
         ],
         "xaxis": "x",
         "y": [
          97.84845231704885,
          98.39313297896436,
          98.64595447748717,
          99.27306363413445,
          99.44643754352238,
          99.76480836236968,
          100,
          99.33006586714954,
          100,
          99.84143400797677,
          99.58845581921358,
          99.56894671645078,
          98.48889903838847,
          100,
          99.384654671019,
          99.80564876957533,
          97.33559752022637,
          99.37490838271904,
          97.90329850440482,
          100,
          92.3048188270452,
          97.4623937213858,
          97.56996262496615,
          98.38322372909013,
          100,
          100,
          100
         ],
         "yaxis": "y"
        }
       ],
       "layout": {
        "annotations": [
         {
          "showarrow": false,
          "text": "Meta (80%)",
          "x": 0,
          "xanchor": "left",
          "xref": "x domain",
          "y": 80,
          "yanchor": "top",
          "yref": "y"
         },
         {
          "showarrow": false,
          "text": "Promedio (98.88%)",
          "x": 0,
          "xanchor": "left",
          "xref": "x domain",
          "y": 98.87830213011623,
          "yanchor": "top",
          "yref": "y"
         },
         {
          "font": {
           "family": "'Open Sans', verdana, arial, sans-serif",
           "size": 18
          },
          "showarrow": false,
          "text": "2020",
          "x": "53",
          "xanchor": "right",
          "xref": "x",
          "y": 0,
          "yanchor": "bottom",
          "yref": "y domain"
         },
         {
          "font": {
           "family": "'Open Sans', verdana, arial, sans-serif",
           "size": 18
          },
          "showarrow": false,
          "text": "2021",
          "x": "88",
          "xanchor": "right",
          "xref": "x",
          "y": 0,
          "yanchor": "bottom",
          "yref": "y domain"
         }
        ],
        "coloraxis": {
         "colorbar": {
          "title": {
           "text": "Oportunidad (%)"
          }
         },
         "colorscale": [
          [
           0,
           "rgb(228, 241, 225)"
          ],
          [
           0.16666666666666666,
           "rgb(180, 217, 204)"
          ],
          [
           0.3333333333333333,
           "rgb(137, 192, 182)"
          ],
          [
           0.5,
           "rgb(99, 166, 160)"
          ],
          [
           0.6666666666666666,
           "rgb(68, 140, 138)"
          ],
          [
           0.8333333333333334,
           "rgb(40, 114, 116)"
          ],
          [
           1,
           "rgb(13, 88, 95)"
          ]
         ]
        },
        "legend": {
         "tracegroupgap": 0
        },
        "margin": {
         "t": 60
        },
        "shapes": [
         {
          "line": {
           "color": "gray",
           "dash": "dash",
           "width": 3
          },
          "type": "line",
          "x0": 53.5,
          "x1": 53.5,
          "xref": "x",
          "y0": 0,
          "y1": 1,
          "yref": "y domain"
         },
         {
          "line": {
           "color": "#222A2A",
           "dash": "longdash",
           "width": 3
          },
          "type": "line",
          "x0": 0,
          "x1": 1,
          "xref": "x domain",
          "y0": 80,
          "y1": 80,
          "yref": "y"
         },
         {
          "line": {
           "color": "#750D86",
           "dash": "longdash",
           "width": 3
          },
          "type": "line",
          "x0": 0,
          "x1": 1,
          "xref": "x domain",
          "y0": 98.87830213011623,
          "y1": 98.87830213011623,
          "yref": "y"
         },
         {
          "line": {
           "width": 0
          },
          "opacity": 0,
          "type": "rect",
          "x0": "51",
          "x1": "53",
          "xref": "x",
          "y0": 0,
          "y1": 1,
          "yref": "y domain"
         },
         {
          "line": {
           "width": 0
          },
          "opacity": 0,
          "type": "rect",
          "x0": "84",
          "x1": "88",
          "xref": "x",
          "y0": 0,
          "y1": 1,
          "yref": "y domain"
         }
        ],
        "template": {
         "data": {
          "bar": [
           {
            "error_x": {
             "color": "rgb(36,36,36)"
            },
            "error_y": {
             "color": "rgb(36,36,36)"
            },
            "marker": {
             "line": {
              "color": "white",
              "width": 0.5
             }
            },
            "type": "bar"
           }
          ],
          "barpolar": [
           {
            "marker": {
             "line": {
              "color": "white",
              "width": 0.5
             }
            },
            "type": "barpolar"
           }
          ],
          "carpet": [
           {
            "aaxis": {
             "endlinecolor": "rgb(36,36,36)",
             "gridcolor": "white",
             "linecolor": "white",
             "minorgridcolor": "white",
             "startlinecolor": "rgb(36,36,36)"
            },
            "baxis": {
             "endlinecolor": "rgb(36,36,36)",
             "gridcolor": "white",
             "linecolor": "white",
             "minorgridcolor": "white",
             "startlinecolor": "rgb(36,36,36)"
            },
            "type": "carpet"
           }
          ],
          "choropleth": [
           {
            "colorbar": {
             "outlinewidth": 1,
             "tickcolor": "rgb(36,36,36)",
             "ticks": "outside"
            },
            "type": "choropleth"
           }
          ],
          "contour": [
           {
            "colorbar": {
             "outlinewidth": 1,
             "tickcolor": "rgb(36,36,36)",
             "ticks": "outside"
            },
            "colorscale": [
             [
              0,
              "#440154"
             ],
             [
              0.1111111111111111,
              "#482878"
             ],
             [
              0.2222222222222222,
              "#3e4989"
             ],
             [
              0.3333333333333333,
              "#31688e"
             ],
             [
              0.4444444444444444,
              "#26828e"
             ],
             [
              0.5555555555555556,
              "#1f9e89"
             ],
             [
              0.6666666666666666,
              "#35b779"
             ],
             [
              0.7777777777777778,
              "#6ece58"
             ],
             [
              0.8888888888888888,
              "#b5de2b"
             ],
             [
              1,
              "#fde725"
             ]
            ],
            "type": "contour"
           }
          ],
          "contourcarpet": [
           {
            "colorbar": {
             "outlinewidth": 1,
             "tickcolor": "rgb(36,36,36)",
             "ticks": "outside"
            },
            "type": "contourcarpet"
           }
          ],
          "heatmap": [
           {
            "colorbar": {
             "outlinewidth": 1,
             "tickcolor": "rgb(36,36,36)",
             "ticks": "outside"
            },
            "colorscale": [
             [
              0,
              "#440154"
             ],
             [
              0.1111111111111111,
              "#482878"
             ],
             [
              0.2222222222222222,
              "#3e4989"
             ],
             [
              0.3333333333333333,
              "#31688e"
             ],
             [
              0.4444444444444444,
              "#26828e"
             ],
             [
              0.5555555555555556,
              "#1f9e89"
             ],
             [
              0.6666666666666666,
              "#35b779"
             ],
             [
              0.7777777777777778,
              "#6ece58"
             ],
             [
              0.8888888888888888,
              "#b5de2b"
             ],
             [
              1,
              "#fde725"
             ]
            ],
            "type": "heatmap"
           }
          ],
          "heatmapgl": [
           {
            "colorbar": {
             "outlinewidth": 1,
             "tickcolor": "rgb(36,36,36)",
             "ticks": "outside"
            },
            "colorscale": [
             [
              0,
              "#440154"
             ],
             [
              0.1111111111111111,
              "#482878"
             ],
             [
              0.2222222222222222,
              "#3e4989"
             ],
             [
              0.3333333333333333,
              "#31688e"
             ],
             [
              0.4444444444444444,
              "#26828e"
             ],
             [
              0.5555555555555556,
              "#1f9e89"
             ],
             [
              0.6666666666666666,
              "#35b779"
             ],
             [
              0.7777777777777778,
              "#6ece58"
             ],
             [
              0.8888888888888888,
              "#b5de2b"
             ],
             [
              1,
              "#fde725"
             ]
            ],
            "type": "heatmapgl"
           }
          ],
          "histogram": [
           {
            "marker": {
             "line": {
              "color": "white",
              "width": 0.6
             }
            },
            "type": "histogram"
           }
          ],
          "histogram2d": [
           {
            "colorbar": {
             "outlinewidth": 1,
             "tickcolor": "rgb(36,36,36)",
             "ticks": "outside"
            },
            "colorscale": [
             [
              0,
              "#440154"
             ],
             [
              0.1111111111111111,
              "#482878"
             ],
             [
              0.2222222222222222,
              "#3e4989"
             ],
             [
              0.3333333333333333,
              "#31688e"
             ],
             [
              0.4444444444444444,
              "#26828e"
             ],
             [
              0.5555555555555556,
              "#1f9e89"
             ],
             [
              0.6666666666666666,
              "#35b779"
             ],
             [
              0.7777777777777778,
              "#6ece58"
             ],
             [
              0.8888888888888888,
              "#b5de2b"
             ],
             [
              1,
              "#fde725"
             ]
            ],
            "type": "histogram2d"
           }
          ],
          "histogram2dcontour": [
           {
            "colorbar": {
             "outlinewidth": 1,
             "tickcolor": "rgb(36,36,36)",
             "ticks": "outside"
            },
            "colorscale": [
             [
              0,
              "#440154"
             ],
             [
              0.1111111111111111,
              "#482878"
             ],
             [
              0.2222222222222222,
              "#3e4989"
             ],
             [
              0.3333333333333333,
              "#31688e"
             ],
             [
              0.4444444444444444,
              "#26828e"
             ],
             [
              0.5555555555555556,
              "#1f9e89"
             ],
             [
              0.6666666666666666,
              "#35b779"
             ],
             [
              0.7777777777777778,
              "#6ece58"
             ],
             [
              0.8888888888888888,
              "#b5de2b"
             ],
             [
              1,
              "#fde725"
             ]
            ],
            "type": "histogram2dcontour"
           }
          ],
          "mesh3d": [
           {
            "colorbar": {
             "outlinewidth": 1,
             "tickcolor": "rgb(36,36,36)",
             "ticks": "outside"
            },
            "type": "mesh3d"
           }
          ],
          "parcoords": [
           {
            "line": {
             "colorbar": {
              "outlinewidth": 1,
              "tickcolor": "rgb(36,36,36)",
              "ticks": "outside"
             }
            },
            "type": "parcoords"
           }
          ],
          "pie": [
           {
            "automargin": true,
            "type": "pie"
           }
          ],
          "scatter": [
           {
            "marker": {
             "colorbar": {
              "outlinewidth": 1,
              "tickcolor": "rgb(36,36,36)",
              "ticks": "outside"
             }
            },
            "type": "scatter"
           }
          ],
          "scatter3d": [
           {
            "line": {
             "colorbar": {
              "outlinewidth": 1,
              "tickcolor": "rgb(36,36,36)",
              "ticks": "outside"
             }
            },
            "marker": {
             "colorbar": {
              "outlinewidth": 1,
              "tickcolor": "rgb(36,36,36)",
              "ticks": "outside"
             }
            },
            "type": "scatter3d"
           }
          ],
          "scattercarpet": [
           {
            "marker": {
             "colorbar": {
              "outlinewidth": 1,
              "tickcolor": "rgb(36,36,36)",
              "ticks": "outside"
             }
            },
            "type": "scattercarpet"
           }
          ],
          "scattergeo": [
           {
            "marker": {
             "colorbar": {
              "outlinewidth": 1,
              "tickcolor": "rgb(36,36,36)",
              "ticks": "outside"
             }
            },
            "type": "scattergeo"
           }
          ],
          "scattergl": [
           {
            "marker": {
             "colorbar": {
              "outlinewidth": 1,
              "tickcolor": "rgb(36,36,36)",
              "ticks": "outside"
             }
            },
            "type": "scattergl"
           }
          ],
          "scattermapbox": [
           {
            "marker": {
             "colorbar": {
              "outlinewidth": 1,
              "tickcolor": "rgb(36,36,36)",
              "ticks": "outside"
             }
            },
            "type": "scattermapbox"
           }
          ],
          "scatterpolar": [
           {
            "marker": {
             "colorbar": {
              "outlinewidth": 1,
              "tickcolor": "rgb(36,36,36)",
              "ticks": "outside"
             }
            },
            "type": "scatterpolar"
           }
          ],
          "scatterpolargl": [
           {
            "marker": {
             "colorbar": {
              "outlinewidth": 1,
              "tickcolor": "rgb(36,36,36)",
              "ticks": "outside"
             }
            },
            "type": "scatterpolargl"
           }
          ],
          "scatterternary": [
           {
            "marker": {
             "colorbar": {
              "outlinewidth": 1,
              "tickcolor": "rgb(36,36,36)",
              "ticks": "outside"
             }
            },
            "type": "scatterternary"
           }
          ],
          "surface": [
           {
            "colorbar": {
             "outlinewidth": 1,
             "tickcolor": "rgb(36,36,36)",
             "ticks": "outside"
            },
            "colorscale": [
             [
              0,
              "#440154"
             ],
             [
              0.1111111111111111,
              "#482878"
             ],
             [
              0.2222222222222222,
              "#3e4989"
             ],
             [
              0.3333333333333333,
              "#31688e"
             ],
             [
              0.4444444444444444,
              "#26828e"
             ],
             [
              0.5555555555555556,
              "#1f9e89"
             ],
             [
              0.6666666666666666,
              "#35b779"
             ],
             [
              0.7777777777777778,
              "#6ece58"
             ],
             [
              0.8888888888888888,
              "#b5de2b"
             ],
             [
              1,
              "#fde725"
             ]
            ],
            "type": "surface"
           }
          ],
          "table": [
           {
            "cells": {
             "fill": {
              "color": "rgb(237,237,237)"
             },
             "line": {
              "color": "white"
             }
            },
            "header": {
             "fill": {
              "color": "rgb(217,217,217)"
             },
             "line": {
              "color": "white"
             }
            },
            "type": "table"
           }
          ]
         },
         "layout": {
          "annotationdefaults": {
           "arrowhead": 0,
           "arrowwidth": 1
          },
          "autotypenumbers": "strict",
          "coloraxis": {
           "colorbar": {
            "outlinewidth": 1,
            "tickcolor": "rgb(36,36,36)",
            "ticks": "outside"
           }
          },
          "colorscale": {
           "diverging": [
            [
             0,
             "rgb(103,0,31)"
            ],
            [
             0.1,
             "rgb(178,24,43)"
            ],
            [
             0.2,
             "rgb(214,96,77)"
            ],
            [
             0.3,
             "rgb(244,165,130)"
            ],
            [
             0.4,
             "rgb(253,219,199)"
            ],
            [
             0.5,
             "rgb(247,247,247)"
            ],
            [
             0.6,
             "rgb(209,229,240)"
            ],
            [
             0.7,
             "rgb(146,197,222)"
            ],
            [
             0.8,
             "rgb(67,147,195)"
            ],
            [
             0.9,
             "rgb(33,102,172)"
            ],
            [
             1,
             "rgb(5,48,97)"
            ]
           ],
           "sequential": [
            [
             0,
             "#440154"
            ],
            [
             0.1111111111111111,
             "#482878"
            ],
            [
             0.2222222222222222,
             "#3e4989"
            ],
            [
             0.3333333333333333,
             "#31688e"
            ],
            [
             0.4444444444444444,
             "#26828e"
            ],
            [
             0.5555555555555556,
             "#1f9e89"
            ],
            [
             0.6666666666666666,
             "#35b779"
            ],
            [
             0.7777777777777778,
             "#6ece58"
            ],
            [
             0.8888888888888888,
             "#b5de2b"
            ],
            [
             1,
             "#fde725"
            ]
           ],
           "sequentialminus": [
            [
             0,
             "#440154"
            ],
            [
             0.1111111111111111,
             "#482878"
            ],
            [
             0.2222222222222222,
             "#3e4989"
            ],
            [
             0.3333333333333333,
             "#31688e"
            ],
            [
             0.4444444444444444,
             "#26828e"
            ],
            [
             0.5555555555555556,
             "#1f9e89"
            ],
            [
             0.6666666666666666,
             "#35b779"
            ],
            [
             0.7777777777777778,
             "#6ece58"
            ],
            [
             0.8888888888888888,
             "#b5de2b"
            ],
            [
             1,
             "#fde725"
            ]
           ]
          },
          "colorway": [
           "#1F77B4",
           "#FF7F0E",
           "#2CA02C",
           "#D62728",
           "#9467BD",
           "#8C564B",
           "#E377C2",
           "#7F7F7F",
           "#BCBD22",
           "#17BECF"
          ],
          "font": {
           "color": "rgb(36,36,36)"
          },
          "geo": {
           "bgcolor": "white",
           "lakecolor": "white",
           "landcolor": "white",
           "showlakes": true,
           "showland": true,
           "subunitcolor": "white"
          },
          "hoverlabel": {
           "align": "left"
          },
          "hovermode": "closest",
          "mapbox": {
           "style": "light"
          },
          "paper_bgcolor": "white",
          "plot_bgcolor": "white",
          "polar": {
           "angularaxis": {
            "gridcolor": "rgb(232,232,232)",
            "linecolor": "rgb(36,36,36)",
            "showgrid": false,
            "showline": true,
            "ticks": "outside"
           },
           "bgcolor": "white",
           "radialaxis": {
            "gridcolor": "rgb(232,232,232)",
            "linecolor": "rgb(36,36,36)",
            "showgrid": false,
            "showline": true,
            "ticks": "outside"
           }
          },
          "scene": {
           "xaxis": {
            "backgroundcolor": "white",
            "gridcolor": "rgb(232,232,232)",
            "gridwidth": 2,
            "linecolor": "rgb(36,36,36)",
            "showbackground": true,
            "showgrid": false,
            "showline": true,
            "ticks": "outside",
            "zeroline": false,
            "zerolinecolor": "rgb(36,36,36)"
           },
           "yaxis": {
            "backgroundcolor": "white",
            "gridcolor": "rgb(232,232,232)",
            "gridwidth": 2,
            "linecolor": "rgb(36,36,36)",
            "showbackground": true,
            "showgrid": false,
            "showline": true,
            "ticks": "outside",
            "zeroline": false,
            "zerolinecolor": "rgb(36,36,36)"
           },
           "zaxis": {
            "backgroundcolor": "white",
            "gridcolor": "rgb(232,232,232)",
            "gridwidth": 2,
            "linecolor": "rgb(36,36,36)",
            "showbackground": true,
            "showgrid": false,
            "showline": true,
            "ticks": "outside",
            "zeroline": false,
            "zerolinecolor": "rgb(36,36,36)"
           }
          },
          "shapedefaults": {
           "fillcolor": "black",
           "line": {
            "width": 0
           },
           "opacity": 0.3
          },
          "ternary": {
           "aaxis": {
            "gridcolor": "rgb(232,232,232)",
            "linecolor": "rgb(36,36,36)",
            "showgrid": false,
            "showline": true,
            "ticks": "outside"
           },
           "baxis": {
            "gridcolor": "rgb(232,232,232)",
            "linecolor": "rgb(36,36,36)",
            "showgrid": false,
            "showline": true,
            "ticks": "outside"
           },
           "bgcolor": "white",
           "caxis": {
            "gridcolor": "rgb(232,232,232)",
            "linecolor": "rgb(36,36,36)",
            "showgrid": false,
            "showline": true,
            "ticks": "outside"
           }
          },
          "title": {
           "x": 0.05
          },
          "xaxis": {
           "automargin": true,
           "gridcolor": "rgb(232,232,232)",
           "linecolor": "rgb(36,36,36)",
           "showgrid": false,
           "showline": true,
           "ticks": "outside",
           "title": {
            "standoff": 15
           },
           "zeroline": false,
           "zerolinecolor": "rgb(36,36,36)"
          },
          "yaxis": {
           "automargin": true,
           "gridcolor": "rgb(232,232,232)",
           "linecolor": "rgb(36,36,36)",
           "showgrid": false,
           "showline": true,
           "ticks": "outside",
           "title": {
            "standoff": 15
           },
           "zeroline": false,
           "zerolinecolor": "rgb(36,36,36)"
          }
         }
        },
        "title": {
         "text": "Ind7: Capacidad de investigación de contactos en 48h"
        },
        "xaxis": {
         "anchor": "y",
         "domain": [
          0,
          1
         ],
         "tickmode": "array",
         "ticktext": [
          12,
          15,
          18,
          21,
          24,
          27,
          30,
          33,
          36,
          39,
          42,
          45,
          48,
          51,
          1,
          4,
          7,
          10,
          13,
          16,
          19,
          22,
          25,
          28,
          31,
          34,
          37,
          40,
          43,
          46,
          49,
          52,
          55,
          58,
          61,
          64,
          67,
          70,
          73,
          76,
          79,
          82,
          85
         ],
         "tickvals": [
          12,
          15,
          18,
          21,
          24,
          27,
          30,
          33,
          36,
          39,
          42,
          45,
          48,
          51,
          54,
          57,
          60,
          63,
          66,
          69,
          72,
          75,
          78,
          81,
          84,
          87
         ],
         "title": {
          "text": "Semana epidemiológica"
         }
        },
        "yaxis": {
         "anchor": "x",
         "domain": [
          0,
          1
         ],
         "range": [
          0,
          105
         ],
         "title": {
          "text": "Oportunidad (%)"
         }
        }
       }
      },
      "text/html": [
       "<div>                            <div id=\"1732bfc7-4512-45fa-823f-358a7b8fcf7c\" class=\"plotly-graph-div\" style=\"height:525px; width:100%;\"></div>            <script type=\"text/javascript\">                require([\"plotly\"], function(Plotly) {                    window.PLOTLYENV=window.PLOTLYENV || {};                                    if (document.getElementById(\"1732bfc7-4512-45fa-823f-358a7b8fcf7c\")) {                    Plotly.newPlot(                        \"1732bfc7-4512-45fa-823f-358a7b8fcf7c\",                        [{\"hovertemplate\": \"semana_epidemiologica_21=%{x}<br>Oportunidad (%)=%{marker.color}<extra></extra>\", \"legendgroup\": \"\", \"line\": {\"color\": \"grey\"}, \"marker\": {\"color\": [97.84845231704885, 98.39313297896436, 98.64595447748717, 99.27306363413445, 99.44643754352238, 99.76480836236968, 100.0, 99.33006586714954, 100.0, 99.84143400797677, 99.58845581921358, 99.56894671645078, 98.48889903838847, 100.0, 99.384654671019, 99.80564876957533, 97.33559752022637, 99.37490838271904, 97.90329850440482, 100.0, 92.3048188270452, 97.4623937213858, 97.56996262496615, 98.38322372909013, 100.0, 100.0, 100.0], \"coloraxis\": \"coloraxis\", \"line\": {\"width\": 1}, \"size\": 10, \"symbol\": \"circle\"}, \"mode\": \"lines+markers\", \"name\": \"\", \"orientation\": \"v\", \"showlegend\": false, \"type\": \"scatter\", \"x\": [62, 63, 64, 65, 66, 67, 68, 69, 70, 71, 72, 73, 74, 75, 76, 77, 78, 79, 80, 81, 82, 83, 84, 85, 86, 87, 88], \"xaxis\": \"x\", \"y\": [97.84845231704885, 98.39313297896436, 98.64595447748717, 99.27306363413445, 99.44643754352238, 99.76480836236968, 100.0, 99.33006586714954, 100.0, 99.84143400797677, 99.58845581921358, 99.56894671645078, 98.48889903838847, 100.0, 99.384654671019, 99.80564876957533, 97.33559752022637, 99.37490838271904, 97.90329850440482, 100.0, 92.3048188270452, 97.4623937213858, 97.56996262496615, 98.38322372909013, 100.0, 100.0, 100.0], \"yaxis\": \"y\"}],                        {\"annotations\": [{\"showarrow\": false, \"text\": \"Meta (80%)\", \"x\": 0, \"xanchor\": \"left\", \"xref\": \"x domain\", \"y\": 80, \"yanchor\": \"top\", \"yref\": \"y\"}, {\"showarrow\": false, \"text\": \"Promedio (98.88%)\", \"x\": 0, \"xanchor\": \"left\", \"xref\": \"x domain\", \"y\": 98.87830213011623, \"yanchor\": \"top\", \"yref\": \"y\"}, {\"font\": {\"family\": \"'Open Sans', verdana, arial, sans-serif\", \"size\": 18}, \"showarrow\": false, \"text\": \"2020\", \"x\": \"53\", \"xanchor\": \"right\", \"xref\": \"x\", \"y\": 0, \"yanchor\": \"bottom\", \"yref\": \"y domain\"}, {\"font\": {\"family\": \"'Open Sans', verdana, arial, sans-serif\", \"size\": 18}, \"showarrow\": false, \"text\": \"2021\", \"x\": \"88\", \"xanchor\": \"right\", \"xref\": \"x\", \"y\": 0, \"yanchor\": \"bottom\", \"yref\": \"y domain\"}], \"coloraxis\": {\"colorbar\": {\"title\": {\"text\": \"Oportunidad (%)\"}}, \"colorscale\": [[0.0, \"rgb(228, 241, 225)\"], [0.16666666666666666, \"rgb(180, 217, 204)\"], [0.3333333333333333, \"rgb(137, 192, 182)\"], [0.5, \"rgb(99, 166, 160)\"], [0.6666666666666666, \"rgb(68, 140, 138)\"], [0.8333333333333334, \"rgb(40, 114, 116)\"], [1.0, \"rgb(13, 88, 95)\"]]}, \"legend\": {\"tracegroupgap\": 0}, \"margin\": {\"t\": 60}, \"shapes\": [{\"line\": {\"color\": \"gray\", \"dash\": \"dash\", \"width\": 3}, \"type\": \"line\", \"x0\": 53.5, \"x1\": 53.5, \"xref\": \"x\", \"y0\": 0, \"y1\": 1, \"yref\": \"y domain\"}, {\"line\": {\"color\": \"#222A2A\", \"dash\": \"longdash\", \"width\": 3}, \"type\": \"line\", \"x0\": 0, \"x1\": 1, \"xref\": \"x domain\", \"y0\": 80, \"y1\": 80, \"yref\": \"y\"}, {\"line\": {\"color\": \"#750D86\", \"dash\": \"longdash\", \"width\": 3}, \"type\": \"line\", \"x0\": 0, \"x1\": 1, \"xref\": \"x domain\", \"y0\": 98.87830213011623, \"y1\": 98.87830213011623, \"yref\": \"y\"}, {\"line\": {\"width\": 0}, \"opacity\": 0, \"type\": \"rect\", \"x0\": \"51\", \"x1\": \"53\", \"xref\": \"x\", \"y0\": 0, \"y1\": 1, \"yref\": \"y domain\"}, {\"line\": {\"width\": 0}, \"opacity\": 0, \"type\": \"rect\", \"x0\": \"84\", \"x1\": \"88\", \"xref\": \"x\", \"y0\": 0, \"y1\": 1, \"yref\": \"y domain\"}], \"template\": {\"data\": {\"bar\": [{\"error_x\": {\"color\": \"rgb(36,36,36)\"}, \"error_y\": {\"color\": \"rgb(36,36,36)\"}, \"marker\": {\"line\": {\"color\": \"white\", \"width\": 0.5}}, \"type\": \"bar\"}], \"barpolar\": [{\"marker\": {\"line\": {\"color\": \"white\", \"width\": 0.5}}, \"type\": \"barpolar\"}], \"carpet\": [{\"aaxis\": {\"endlinecolor\": \"rgb(36,36,36)\", \"gridcolor\": \"white\", \"linecolor\": \"white\", \"minorgridcolor\": \"white\", \"startlinecolor\": \"rgb(36,36,36)\"}, \"baxis\": {\"endlinecolor\": \"rgb(36,36,36)\", \"gridcolor\": \"white\", \"linecolor\": \"white\", \"minorgridcolor\": \"white\", \"startlinecolor\": \"rgb(36,36,36)\"}, \"type\": \"carpet\"}], \"choropleth\": [{\"colorbar\": {\"outlinewidth\": 1, \"tickcolor\": \"rgb(36,36,36)\", \"ticks\": \"outside\"}, \"type\": \"choropleth\"}], \"contour\": [{\"colorbar\": {\"outlinewidth\": 1, \"tickcolor\": \"rgb(36,36,36)\", \"ticks\": \"outside\"}, \"colorscale\": [[0.0, \"#440154\"], [0.1111111111111111, \"#482878\"], [0.2222222222222222, \"#3e4989\"], [0.3333333333333333, \"#31688e\"], [0.4444444444444444, \"#26828e\"], [0.5555555555555556, \"#1f9e89\"], [0.6666666666666666, \"#35b779\"], [0.7777777777777778, \"#6ece58\"], [0.8888888888888888, \"#b5de2b\"], [1.0, \"#fde725\"]], \"type\": \"contour\"}], \"contourcarpet\": [{\"colorbar\": {\"outlinewidth\": 1, \"tickcolor\": \"rgb(36,36,36)\", \"ticks\": \"outside\"}, \"type\": \"contourcarpet\"}], \"heatmap\": [{\"colorbar\": {\"outlinewidth\": 1, \"tickcolor\": \"rgb(36,36,36)\", \"ticks\": \"outside\"}, \"colorscale\": [[0.0, \"#440154\"], [0.1111111111111111, \"#482878\"], [0.2222222222222222, \"#3e4989\"], [0.3333333333333333, \"#31688e\"], [0.4444444444444444, \"#26828e\"], [0.5555555555555556, \"#1f9e89\"], [0.6666666666666666, \"#35b779\"], [0.7777777777777778, \"#6ece58\"], [0.8888888888888888, \"#b5de2b\"], [1.0, \"#fde725\"]], \"type\": \"heatmap\"}], \"heatmapgl\": [{\"colorbar\": {\"outlinewidth\": 1, \"tickcolor\": \"rgb(36,36,36)\", \"ticks\": \"outside\"}, \"colorscale\": [[0.0, \"#440154\"], [0.1111111111111111, \"#482878\"], [0.2222222222222222, \"#3e4989\"], [0.3333333333333333, \"#31688e\"], [0.4444444444444444, \"#26828e\"], [0.5555555555555556, \"#1f9e89\"], [0.6666666666666666, \"#35b779\"], [0.7777777777777778, \"#6ece58\"], [0.8888888888888888, \"#b5de2b\"], [1.0, \"#fde725\"]], \"type\": \"heatmapgl\"}], \"histogram\": [{\"marker\": {\"line\": {\"color\": \"white\", \"width\": 0.6}}, \"type\": \"histogram\"}], \"histogram2d\": [{\"colorbar\": {\"outlinewidth\": 1, \"tickcolor\": \"rgb(36,36,36)\", \"ticks\": \"outside\"}, \"colorscale\": [[0.0, \"#440154\"], [0.1111111111111111, \"#482878\"], [0.2222222222222222, \"#3e4989\"], [0.3333333333333333, \"#31688e\"], [0.4444444444444444, \"#26828e\"], [0.5555555555555556, \"#1f9e89\"], [0.6666666666666666, \"#35b779\"], [0.7777777777777778, \"#6ece58\"], [0.8888888888888888, \"#b5de2b\"], [1.0, \"#fde725\"]], \"type\": \"histogram2d\"}], \"histogram2dcontour\": [{\"colorbar\": {\"outlinewidth\": 1, \"tickcolor\": \"rgb(36,36,36)\", \"ticks\": \"outside\"}, \"colorscale\": [[0.0, \"#440154\"], [0.1111111111111111, \"#482878\"], [0.2222222222222222, \"#3e4989\"], [0.3333333333333333, \"#31688e\"], [0.4444444444444444, \"#26828e\"], [0.5555555555555556, \"#1f9e89\"], [0.6666666666666666, \"#35b779\"], [0.7777777777777778, \"#6ece58\"], [0.8888888888888888, \"#b5de2b\"], [1.0, \"#fde725\"]], \"type\": \"histogram2dcontour\"}], \"mesh3d\": [{\"colorbar\": {\"outlinewidth\": 1, \"tickcolor\": \"rgb(36,36,36)\", \"ticks\": \"outside\"}, \"type\": \"mesh3d\"}], \"parcoords\": [{\"line\": {\"colorbar\": {\"outlinewidth\": 1, \"tickcolor\": \"rgb(36,36,36)\", \"ticks\": \"outside\"}}, \"type\": \"parcoords\"}], \"pie\": [{\"automargin\": true, \"type\": \"pie\"}], \"scatter\": [{\"marker\": {\"colorbar\": {\"outlinewidth\": 1, \"tickcolor\": \"rgb(36,36,36)\", \"ticks\": \"outside\"}}, \"type\": \"scatter\"}], \"scatter3d\": [{\"line\": {\"colorbar\": {\"outlinewidth\": 1, \"tickcolor\": \"rgb(36,36,36)\", \"ticks\": \"outside\"}}, \"marker\": {\"colorbar\": {\"outlinewidth\": 1, \"tickcolor\": \"rgb(36,36,36)\", \"ticks\": \"outside\"}}, \"type\": \"scatter3d\"}], \"scattercarpet\": [{\"marker\": {\"colorbar\": {\"outlinewidth\": 1, \"tickcolor\": \"rgb(36,36,36)\", \"ticks\": \"outside\"}}, \"type\": \"scattercarpet\"}], \"scattergeo\": [{\"marker\": {\"colorbar\": {\"outlinewidth\": 1, \"tickcolor\": \"rgb(36,36,36)\", \"ticks\": \"outside\"}}, \"type\": \"scattergeo\"}], \"scattergl\": [{\"marker\": {\"colorbar\": {\"outlinewidth\": 1, \"tickcolor\": \"rgb(36,36,36)\", \"ticks\": \"outside\"}}, \"type\": \"scattergl\"}], \"scattermapbox\": [{\"marker\": {\"colorbar\": {\"outlinewidth\": 1, \"tickcolor\": \"rgb(36,36,36)\", \"ticks\": \"outside\"}}, \"type\": \"scattermapbox\"}], \"scatterpolar\": [{\"marker\": {\"colorbar\": {\"outlinewidth\": 1, \"tickcolor\": \"rgb(36,36,36)\", \"ticks\": \"outside\"}}, \"type\": \"scatterpolar\"}], \"scatterpolargl\": [{\"marker\": {\"colorbar\": {\"outlinewidth\": 1, \"tickcolor\": \"rgb(36,36,36)\", \"ticks\": \"outside\"}}, \"type\": \"scatterpolargl\"}], \"scatterternary\": [{\"marker\": {\"colorbar\": {\"outlinewidth\": 1, \"tickcolor\": \"rgb(36,36,36)\", \"ticks\": \"outside\"}}, \"type\": \"scatterternary\"}], \"surface\": [{\"colorbar\": {\"outlinewidth\": 1, \"tickcolor\": \"rgb(36,36,36)\", \"ticks\": \"outside\"}, \"colorscale\": [[0.0, \"#440154\"], [0.1111111111111111, \"#482878\"], [0.2222222222222222, \"#3e4989\"], [0.3333333333333333, \"#31688e\"], [0.4444444444444444, \"#26828e\"], [0.5555555555555556, \"#1f9e89\"], [0.6666666666666666, \"#35b779\"], [0.7777777777777778, \"#6ece58\"], [0.8888888888888888, \"#b5de2b\"], [1.0, \"#fde725\"]], \"type\": \"surface\"}], \"table\": [{\"cells\": {\"fill\": {\"color\": \"rgb(237,237,237)\"}, \"line\": {\"color\": \"white\"}}, \"header\": {\"fill\": {\"color\": \"rgb(217,217,217)\"}, \"line\": {\"color\": \"white\"}}, \"type\": \"table\"}]}, \"layout\": {\"annotationdefaults\": {\"arrowhead\": 0, \"arrowwidth\": 1}, \"autotypenumbers\": \"strict\", \"coloraxis\": {\"colorbar\": {\"outlinewidth\": 1, \"tickcolor\": \"rgb(36,36,36)\", \"ticks\": \"outside\"}}, \"colorscale\": {\"diverging\": [[0.0, \"rgb(103,0,31)\"], [0.1, \"rgb(178,24,43)\"], [0.2, \"rgb(214,96,77)\"], [0.3, \"rgb(244,165,130)\"], [0.4, \"rgb(253,219,199)\"], [0.5, \"rgb(247,247,247)\"], [0.6, \"rgb(209,229,240)\"], [0.7, \"rgb(146,197,222)\"], [0.8, \"rgb(67,147,195)\"], [0.9, \"rgb(33,102,172)\"], [1.0, \"rgb(5,48,97)\"]], \"sequential\": [[0.0, \"#440154\"], [0.1111111111111111, \"#482878\"], [0.2222222222222222, \"#3e4989\"], [0.3333333333333333, \"#31688e\"], [0.4444444444444444, \"#26828e\"], [0.5555555555555556, \"#1f9e89\"], [0.6666666666666666, \"#35b779\"], [0.7777777777777778, \"#6ece58\"], [0.8888888888888888, \"#b5de2b\"], [1.0, \"#fde725\"]], \"sequentialminus\": [[0.0, \"#440154\"], [0.1111111111111111, \"#482878\"], [0.2222222222222222, \"#3e4989\"], [0.3333333333333333, \"#31688e\"], [0.4444444444444444, \"#26828e\"], [0.5555555555555556, \"#1f9e89\"], [0.6666666666666666, \"#35b779\"], [0.7777777777777778, \"#6ece58\"], [0.8888888888888888, \"#b5de2b\"], [1.0, \"#fde725\"]]}, \"colorway\": [\"#1F77B4\", \"#FF7F0E\", \"#2CA02C\", \"#D62728\", \"#9467BD\", \"#8C564B\", \"#E377C2\", \"#7F7F7F\", \"#BCBD22\", \"#17BECF\"], \"font\": {\"color\": \"rgb(36,36,36)\"}, \"geo\": {\"bgcolor\": \"white\", \"lakecolor\": \"white\", \"landcolor\": \"white\", \"showlakes\": true, \"showland\": true, \"subunitcolor\": \"white\"}, \"hoverlabel\": {\"align\": \"left\"}, \"hovermode\": \"closest\", \"mapbox\": {\"style\": \"light\"}, \"paper_bgcolor\": \"white\", \"plot_bgcolor\": \"white\", \"polar\": {\"angularaxis\": {\"gridcolor\": \"rgb(232,232,232)\", \"linecolor\": \"rgb(36,36,36)\", \"showgrid\": false, \"showline\": true, \"ticks\": \"outside\"}, \"bgcolor\": \"white\", \"radialaxis\": {\"gridcolor\": \"rgb(232,232,232)\", \"linecolor\": \"rgb(36,36,36)\", \"showgrid\": false, \"showline\": true, \"ticks\": \"outside\"}}, \"scene\": {\"xaxis\": {\"backgroundcolor\": \"white\", \"gridcolor\": \"rgb(232,232,232)\", \"gridwidth\": 2, \"linecolor\": \"rgb(36,36,36)\", \"showbackground\": true, \"showgrid\": false, \"showline\": true, \"ticks\": \"outside\", \"zeroline\": false, \"zerolinecolor\": \"rgb(36,36,36)\"}, \"yaxis\": {\"backgroundcolor\": \"white\", \"gridcolor\": \"rgb(232,232,232)\", \"gridwidth\": 2, \"linecolor\": \"rgb(36,36,36)\", \"showbackground\": true, \"showgrid\": false, \"showline\": true, \"ticks\": \"outside\", \"zeroline\": false, \"zerolinecolor\": \"rgb(36,36,36)\"}, \"zaxis\": {\"backgroundcolor\": \"white\", \"gridcolor\": \"rgb(232,232,232)\", \"gridwidth\": 2, \"linecolor\": \"rgb(36,36,36)\", \"showbackground\": true, \"showgrid\": false, \"showline\": true, \"ticks\": \"outside\", \"zeroline\": false, \"zerolinecolor\": \"rgb(36,36,36)\"}}, \"shapedefaults\": {\"fillcolor\": \"black\", \"line\": {\"width\": 0}, \"opacity\": 0.3}, \"ternary\": {\"aaxis\": {\"gridcolor\": \"rgb(232,232,232)\", \"linecolor\": \"rgb(36,36,36)\", \"showgrid\": false, \"showline\": true, \"ticks\": \"outside\"}, \"baxis\": {\"gridcolor\": \"rgb(232,232,232)\", \"linecolor\": \"rgb(36,36,36)\", \"showgrid\": false, \"showline\": true, \"ticks\": \"outside\"}, \"bgcolor\": \"white\", \"caxis\": {\"gridcolor\": \"rgb(232,232,232)\", \"linecolor\": \"rgb(36,36,36)\", \"showgrid\": false, \"showline\": true, \"ticks\": \"outside\"}}, \"title\": {\"x\": 0.05}, \"xaxis\": {\"automargin\": true, \"gridcolor\": \"rgb(232,232,232)\", \"linecolor\": \"rgb(36,36,36)\", \"showgrid\": false, \"showline\": true, \"ticks\": \"outside\", \"title\": {\"standoff\": 15}, \"zeroline\": false, \"zerolinecolor\": \"rgb(36,36,36)\"}, \"yaxis\": {\"automargin\": true, \"gridcolor\": \"rgb(232,232,232)\", \"linecolor\": \"rgb(36,36,36)\", \"showgrid\": false, \"showline\": true, \"ticks\": \"outside\", \"title\": {\"standoff\": 15}, \"zeroline\": false, \"zerolinecolor\": \"rgb(36,36,36)\"}}}, \"title\": {\"text\": \"Ind7: Capacidad de investigaci\\u00f3n de contactos en 48h\"}, \"xaxis\": {\"anchor\": \"y\", \"domain\": [0.0, 1.0], \"tickmode\": \"array\", \"ticktext\": [12, 15, 18, 21, 24, 27, 30, 33, 36, 39, 42, 45, 48, 51, 1, 4, 7, 10, 13, 16, 19, 22, 25, 28, 31, 34, 37, 40, 43, 46, 49, 52, 55, 58, 61, 64, 67, 70, 73, 76, 79, 82, 85], \"tickvals\": [12, 15, 18, 21, 24, 27, 30, 33, 36, 39, 42, 45, 48, 51, 54, 57, 60, 63, 66, 69, 72, 75, 78, 81, 84, 87], \"title\": {\"text\": \"Semana epidemiol\\u00f3gica\"}}, \"yaxis\": {\"anchor\": \"x\", \"domain\": [0.0, 1.0], \"range\": [0, 105], \"title\": {\"text\": \"Oportunidad (%)\"}}},                        {\"responsive\": true}                    ).then(function(){\n",
       "                            \n",
       "var gd = document.getElementById('1732bfc7-4512-45fa-823f-358a7b8fcf7c');\n",
       "var x = new MutationObserver(function (mutations, observer) {{\n",
       "        var display = window.getComputedStyle(gd).display;\n",
       "        if (!display || display === 'none') {{\n",
       "            console.log([gd, 'removed!']);\n",
       "            Plotly.purge(gd);\n",
       "            observer.disconnect();\n",
       "        }}\n",
       "}});\n",
       "\n",
       "// Listen for the removal of the full notebook cells\n",
       "var notebookContainer = gd.closest('#notebook-container');\n",
       "if (notebookContainer) {{\n",
       "    x.observe(notebookContainer, {childList: true});\n",
       "}}\n",
       "\n",
       "// Listen for the clearing of the current output cell\n",
       "var outputEl = gd.closest('.output');\n",
       "if (outputEl) {{\n",
       "    x.observe(outputEl, {childList: true});\n",
       "}}\n",
       "\n",
       "                        })                };                });            </script>        </div>"
      ]
     },
     "metadata": {},
     "output_type": "display_data"
    }
   ],
   "source": [
    "px.scatter(df_ind7_perc.reset_index().merge(data_aysen_clean_21[['fecha_notificacion','semana_epidemiologica_21']], \n",
    "                   left_on='fecha_cumple_requisitos',\n",
    "                   right_on='fecha_notificacion',\n",
    "                   how='left').groupby('semana_epidemiologica_21').mean().reset_index(),\n",
    "        x= 'semana_epidemiologica_21',\n",
    "        y= 'n_folio',\n",
    "        #trendline='rolling',\n",
    "        #trendline_options=dict(window=5),\n",
    "        color='n_folio',\n",
    "        color_continuous_scale=px.colors.sequential.Mint,\n",
    "        labels={'n_folio':'Oportunidad (%)'},\n",
    "        ).update_layout(title= 'Ind7: Capacidad de investigación de contactos en 48h',\n",
    "                       yaxis_title='Oportunidad (%)',\n",
    "                       xaxis_title='Semana epidemiológica',\n",
    "                       yaxis_range= [0,105],\n",
    "                       template='simple_white',\n",
    "                       xaxis=dict(tickmode = 'array',\n",
    "                                  tickvals = list(range(12,88,3)),\n",
    "                                  ticktext = list(list(range(12,54,3))+list(range(1,88,3))),\n",
    "                                 ),\n",
    "                    ).add_vline(x=53.5, line_width=3, line_dash='dash', line_color='gray'\n",
    "                              ).add_hline(y=80,\n",
    "                                            line_width=3, \n",
    "                                            line_dash='longdash', \n",
    "                                            line_color='#222A2A',\n",
    "                                            annotation_text='Meta (80%)',\n",
    "                                            annotation_position='bottom left'\n",
    "                                 ).add_hline(y=mean_ind7, \n",
    "                                             line_width=3, \n",
    "                                             line_dash='longdash', \n",
    "                                             line_color='#750D86',\n",
    "                                             annotation_text= 'Promedio ('+str(round(mean_ind7, 2))+'%)',\n",
    "                                             annotation_position='bottom left'\n",
    "                                     ).add_vrect(x0='51', x1='53', \n",
    "                                           annotation_text='2020', \n",
    "                                           annotation_position='bottom right',\n",
    "                                           annotation=dict(font_size=18, \n",
    "                                                           font_family=\"'Open Sans', verdana, arial, sans-serif\"),\n",
    "                                                           opacity=0, \n",
    "                                                           line_width=0\n",
    "                                          ).add_vrect(x0='84', x1='88', \n",
    "                                           annotation_text='2021', \n",
    "                                           annotation_position='bottom right',\n",
    "                                           annotation=dict(font_size=18, \n",
    "                                                           font_family=\"'Open Sans', verdana, arial, sans-serif\"),\n",
    "                                                           opacity=0, \n",
    "                                                           line_width=0\n",
    "                                                     ).update_traces(mode='lines+markers', \n",
    "                                                                     line_color='grey',\n",
    "                                                                     marker_line_width=1, \n",
    "                                                                     marker_size=10)"
   ]
  },
  {
   "cell_type": "markdown",
   "id": "d9b1fa0f",
   "metadata": {},
   "source": [
    "# Indicador 8: Casos en seguimiento\n",
    "\n",
    "## Objetivo: Evaluar la capacidad de seguimiento de casos\n",
    "\n",
    "### Meta: >90%\n",
    "\n",
    "**Periodicidad:** Semanal\n",
    "\n",
    "**Escala territorial:** Comuna, Regional, Nacional\n",
    "\n",
    "**Fuente de Información:** base EPIVIGILA actualizada con los reportes de laboratorio al día de la determinación del indicador. Base de seguimiento"
   ]
  },
  {
   "cell_type": "markdown",
   "id": "3455a38b",
   "metadata": {},
   "source": [
    "### Cálculo del indicador a nivel comunal\n",
    "\n",
    "$\\frac{No.\\:casos\\:activos\\:investigados\\:con\\:seguimiento\\:según\\:protocolo\\:por\\:comuna\\:último\\:establecimiento\\:semana\\:x}{No.\\:casos\\:nuevos\\:registrados\\:por\\:comuna\\:ultimo\\:establecimiento\\:semana\\:x}x100$"
   ]
  },
  {
   "cell_type": "markdown",
   "id": "2940929e",
   "metadata": {},
   "source": [
    "### Cálculo del indicador a nivel regional\n",
    "\n",
    "$\\frac{No.\\:casos\\:activos\\:investigados\\:con\\:seguimiento\\:según\\:protocolo\\:por\\:región\\:último\\:establecimiento\\:semana\\:x}{No.\\:casos\\:nuevos\\:registrados\\:por\\:región\\:ultimo\\:establecimiento\\:semana\\:x}x100$"
   ]
  },
  {
   "cell_type": "markdown",
   "id": "6a418521",
   "metadata": {},
   "source": [
    "**Observación**\n",
    "\n",
    "- No se incluyen los casos nuevos no notificados (\"casos reportados por laboratorio\")\n",
    "- Se considera un caso activo como aquel caso notificado que cumple la definición de caso activo, con fecha de notificación en la semana de interés\n",
    "- Se consideran sólo registros activos o egresados en la bandeja de seguimiento\n",
    "- Según protocolo implica un seguimiento diario por día de seguimineto, desde el inicio de seguimiento y se valora de forma dicotómica (cumple o no cumple el protocolo de seguimiento)\n",
    "- Por seguimiento diario se entiende que diariamente, se debe realizar una actividad de seguimiento (la cual puede ser exitosa o no)"
   ]
  },
  {
   "cell_type": "code",
   "execution_count": 526,
   "id": "19d883f9",
   "metadata": {},
   "outputs": [],
   "source": [
    "df_seguimiento_ind8 = df_seguimiento_clean"
   ]
  },
  {
   "cell_type": "code",
   "execution_count": 533,
   "id": "a104d899",
   "metadata": {},
   "outputs": [],
   "source": [
    "# Se consideran sólo registros de casos activos o egresados\n",
    "df_seguimiento_ind8_clean = df_seguimiento_ind8[(df_seguimiento_ind8['suspendido']=='activo')|(df_seguimiento_ind8['suspendido']=='egresado')]"
   ]
  },
  {
   "cell_type": "code",
   "execution_count": 534,
   "id": "522f513e",
   "metadata": {},
   "outputs": [],
   "source": [
    "df_seguimiento_ind8_clean = df_seguimiento_ind8_clean[df_seguimiento_ind8_clean['cont_estado_seguimiento']!='Aún no contactado']"
   ]
  },
  {
   "cell_type": "code",
   "execution_count": 535,
   "id": "93b0c786",
   "metadata": {},
   "outputs": [],
   "source": [
    "df_seguimiento_ind8_clean = df_seguimiento_ind8_clean[df_seguimiento_ind8_clean['cont_inicio_cuarentena'].notna()]"
   ]
  },
  {
   "cell_type": "code",
   "execution_count": 539,
   "id": "20a7bfcd",
   "metadata": {},
   "outputs": [
    {
     "data": {
      "text/html": [
       "<div>\n",
       "<style scoped>\n",
       "    .dataframe tbody tr th:only-of-type {\n",
       "        vertical-align: middle;\n",
       "    }\n",
       "\n",
       "    .dataframe tbody tr th {\n",
       "        vertical-align: top;\n",
       "    }\n",
       "\n",
       "    .dataframe thead th {\n",
       "        text-align: right;\n",
       "    }\n",
       "</style>\n",
       "<table border=\"1\" class=\"dataframe\">\n",
       "  <thead>\n",
       "    <tr style=\"text-align: right;\">\n",
       "      <th></th>\n",
       "      <th>n_folio</th>\n",
       "      <th>nfolio_caso</th>\n",
       "      <th>nfolio_caso_indice</th>\n",
       "      <th>nfolio_pntm</th>\n",
       "      <th>nfolio_contacto_estrecho</th>\n",
       "      <th>tipo_seguimiento</th>\n",
       "      <th>dia_contacto</th>\n",
       "      <th>fecha_notificacion</th>\n",
       "      <th>nombre_institucion_indice</th>\n",
       "      <th>region_institucion_indice</th>\n",
       "      <th>...</th>\n",
       "      <th>comuna_seremi_xi</th>\n",
       "      <th>provincia_seremi_xi</th>\n",
       "      <th>edad</th>\n",
       "      <th>sexo</th>\n",
       "      <th>pop_hombres</th>\n",
       "      <th>pop_mujeres</th>\n",
       "      <th>pop_total</th>\n",
       "      <th>is_contact</th>\n",
       "      <th>is_index</th>\n",
       "      <th>is_index_or_contact</th>\n",
       "    </tr>\n",
       "  </thead>\n",
       "  <tbody>\n",
       "    <tr>\n",
       "      <th>29092</th>\n",
       "      <td>10000195</td>\n",
       "      <td>10000195.0</td>\n",
       "      <td>NaN</td>\n",
       "      <td>NaN</td>\n",
       "      <td>NaN</td>\n",
       "      <td>caso</td>\n",
       "      <td>2021-03-28 00:00:00</td>\n",
       "      <td>2021-03-26</td>\n",
       "      <td>Posta de Salud Rural Melinka</td>\n",
       "      <td>11</td>\n",
       "      <td>...</td>\n",
       "      <td>Guaitecas</td>\n",
       "      <td>Aysen</td>\n",
       "      <td>12.0</td>\n",
       "      <td>mujer</td>\n",
       "      <td>1166.0</td>\n",
       "      <td>677.0</td>\n",
       "      <td>1843.0</td>\n",
       "      <td>False</td>\n",
       "      <td>False</td>\n",
       "      <td>False</td>\n",
       "    </tr>\n",
       "    <tr>\n",
       "      <th>5608</th>\n",
       "      <td>10000195</td>\n",
       "      <td>10000195.0</td>\n",
       "      <td>NaN</td>\n",
       "      <td>NaN</td>\n",
       "      <td>NaN</td>\n",
       "      <td>caso</td>\n",
       "      <td>2021-03-30 00:00:00</td>\n",
       "      <td>2021-03-26</td>\n",
       "      <td>Posta de Salud Rural Melinka</td>\n",
       "      <td>11</td>\n",
       "      <td>...</td>\n",
       "      <td>Guaitecas</td>\n",
       "      <td>Aysen</td>\n",
       "      <td>12.0</td>\n",
       "      <td>mujer</td>\n",
       "      <td>1166.0</td>\n",
       "      <td>677.0</td>\n",
       "      <td>1843.0</td>\n",
       "      <td>False</td>\n",
       "      <td>False</td>\n",
       "      <td>False</td>\n",
       "    </tr>\n",
       "    <tr>\n",
       "      <th>41194</th>\n",
       "      <td>10000195</td>\n",
       "      <td>10000195.0</td>\n",
       "      <td>NaN</td>\n",
       "      <td>NaN</td>\n",
       "      <td>NaN</td>\n",
       "      <td>caso</td>\n",
       "      <td>2021-03-31 00:00:00</td>\n",
       "      <td>2021-03-26</td>\n",
       "      <td>Posta de Salud Rural Melinka</td>\n",
       "      <td>11</td>\n",
       "      <td>...</td>\n",
       "      <td>Guaitecas</td>\n",
       "      <td>Aysen</td>\n",
       "      <td>12.0</td>\n",
       "      <td>mujer</td>\n",
       "      <td>1166.0</td>\n",
       "      <td>677.0</td>\n",
       "      <td>1843.0</td>\n",
       "      <td>False</td>\n",
       "      <td>False</td>\n",
       "      <td>False</td>\n",
       "    </tr>\n",
       "    <tr>\n",
       "      <th>33928</th>\n",
       "      <td>10000195</td>\n",
       "      <td>10000195.0</td>\n",
       "      <td>NaN</td>\n",
       "      <td>NaN</td>\n",
       "      <td>NaN</td>\n",
       "      <td>caso</td>\n",
       "      <td>2021-04-01 00:00:00</td>\n",
       "      <td>2021-03-26</td>\n",
       "      <td>Posta de Salud Rural Melinka</td>\n",
       "      <td>11</td>\n",
       "      <td>...</td>\n",
       "      <td>Guaitecas</td>\n",
       "      <td>Aysen</td>\n",
       "      <td>12.0</td>\n",
       "      <td>mujer</td>\n",
       "      <td>1166.0</td>\n",
       "      <td>677.0</td>\n",
       "      <td>1843.0</td>\n",
       "      <td>False</td>\n",
       "      <td>False</td>\n",
       "      <td>False</td>\n",
       "    </tr>\n",
       "    <tr>\n",
       "      <th>36338</th>\n",
       "      <td>10000195</td>\n",
       "      <td>10000195.0</td>\n",
       "      <td>NaN</td>\n",
       "      <td>NaN</td>\n",
       "      <td>NaN</td>\n",
       "      <td>caso</td>\n",
       "      <td>2021-04-04 00:00:00</td>\n",
       "      <td>2021-03-26</td>\n",
       "      <td>Posta de Salud Rural Melinka</td>\n",
       "      <td>11</td>\n",
       "      <td>...</td>\n",
       "      <td>Guaitecas</td>\n",
       "      <td>Aysen</td>\n",
       "      <td>12.0</td>\n",
       "      <td>mujer</td>\n",
       "      <td>1166.0</td>\n",
       "      <td>677.0</td>\n",
       "      <td>1843.0</td>\n",
       "      <td>False</td>\n",
       "      <td>False</td>\n",
       "      <td>False</td>\n",
       "    </tr>\n",
       "    <tr>\n",
       "      <th>...</th>\n",
       "      <td>...</td>\n",
       "      <td>...</td>\n",
       "      <td>...</td>\n",
       "      <td>...</td>\n",
       "      <td>...</td>\n",
       "      <td>...</td>\n",
       "      <td>...</td>\n",
       "      <td>...</td>\n",
       "      <td>...</td>\n",
       "      <td>...</td>\n",
       "      <td>...</td>\n",
       "      <td>...</td>\n",
       "      <td>...</td>\n",
       "      <td>...</td>\n",
       "      <td>...</td>\n",
       "      <td>...</td>\n",
       "      <td>...</td>\n",
       "      <td>...</td>\n",
       "      <td>...</td>\n",
       "      <td>...</td>\n",
       "      <td>...</td>\n",
       "    </tr>\n",
       "    <tr>\n",
       "      <th>29137</th>\n",
       "      <td>SC9998918-11899520</td>\n",
       "      <td>NaN</td>\n",
       "      <td>11899520</td>\n",
       "      <td>NaN</td>\n",
       "      <td>9998918</td>\n",
       "      <td>contacto</td>\n",
       "      <td>2021-04-01 00:00:00</td>\n",
       "      <td>2021-03-26</td>\n",
       "      <td>Posta de Salud Rural Melinka</td>\n",
       "      <td>11</td>\n",
       "      <td>...</td>\n",
       "      <td>Guaitecas</td>\n",
       "      <td>Aysen</td>\n",
       "      <td>57.0</td>\n",
       "      <td>mujer</td>\n",
       "      <td>1166.0</td>\n",
       "      <td>677.0</td>\n",
       "      <td>1843.0</td>\n",
       "      <td>True</td>\n",
       "      <td>False</td>\n",
       "      <td>True</td>\n",
       "    </tr>\n",
       "    <tr>\n",
       "      <th>40008</th>\n",
       "      <td>SC9998918-11899520</td>\n",
       "      <td>NaN</td>\n",
       "      <td>11899520</td>\n",
       "      <td>NaN</td>\n",
       "      <td>9998918</td>\n",
       "      <td>contacto</td>\n",
       "      <td>2021-04-02 00:00:00</td>\n",
       "      <td>2021-03-26</td>\n",
       "      <td>Posta de Salud Rural Melinka</td>\n",
       "      <td>11</td>\n",
       "      <td>...</td>\n",
       "      <td>Guaitecas</td>\n",
       "      <td>Aysen</td>\n",
       "      <td>57.0</td>\n",
       "      <td>mujer</td>\n",
       "      <td>1166.0</td>\n",
       "      <td>677.0</td>\n",
       "      <td>1843.0</td>\n",
       "      <td>True</td>\n",
       "      <td>False</td>\n",
       "      <td>True</td>\n",
       "    </tr>\n",
       "    <tr>\n",
       "      <th>30342</th>\n",
       "      <td>SC9998918-11899520</td>\n",
       "      <td>NaN</td>\n",
       "      <td>11899520</td>\n",
       "      <td>NaN</td>\n",
       "      <td>9998918</td>\n",
       "      <td>contacto</td>\n",
       "      <td>2021-04-03 00:00:00</td>\n",
       "      <td>2021-03-26</td>\n",
       "      <td>Posta de Salud Rural Melinka</td>\n",
       "      <td>11</td>\n",
       "      <td>...</td>\n",
       "      <td>Guaitecas</td>\n",
       "      <td>Aysen</td>\n",
       "      <td>57.0</td>\n",
       "      <td>mujer</td>\n",
       "      <td>1166.0</td>\n",
       "      <td>677.0</td>\n",
       "      <td>1843.0</td>\n",
       "      <td>True</td>\n",
       "      <td>False</td>\n",
       "      <td>True</td>\n",
       "    </tr>\n",
       "    <tr>\n",
       "      <th>33969</th>\n",
       "      <td>SC9998918-11899520</td>\n",
       "      <td>NaN</td>\n",
       "      <td>11899520</td>\n",
       "      <td>NaN</td>\n",
       "      <td>9998918</td>\n",
       "      <td>contacto</td>\n",
       "      <td>2021-04-04 00:00:00</td>\n",
       "      <td>2021-03-26</td>\n",
       "      <td>Posta de Salud Rural Melinka</td>\n",
       "      <td>11</td>\n",
       "      <td>...</td>\n",
       "      <td>Guaitecas</td>\n",
       "      <td>Aysen</td>\n",
       "      <td>57.0</td>\n",
       "      <td>mujer</td>\n",
       "      <td>1166.0</td>\n",
       "      <td>677.0</td>\n",
       "      <td>1843.0</td>\n",
       "      <td>True</td>\n",
       "      <td>False</td>\n",
       "      <td>True</td>\n",
       "    </tr>\n",
       "    <tr>\n",
       "      <th>27908</th>\n",
       "      <td>SC9998918-11899520</td>\n",
       "      <td>NaN</td>\n",
       "      <td>11899520</td>\n",
       "      <td>NaN</td>\n",
       "      <td>9998918</td>\n",
       "      <td>contacto</td>\n",
       "      <td>2021-04-05 00:00:00</td>\n",
       "      <td>2021-03-26</td>\n",
       "      <td>Posta de Salud Rural Melinka</td>\n",
       "      <td>11</td>\n",
       "      <td>...</td>\n",
       "      <td>Guaitecas</td>\n",
       "      <td>Aysen</td>\n",
       "      <td>57.0</td>\n",
       "      <td>mujer</td>\n",
       "      <td>1166.0</td>\n",
       "      <td>677.0</td>\n",
       "      <td>1843.0</td>\n",
       "      <td>True</td>\n",
       "      <td>False</td>\n",
       "      <td>True</td>\n",
       "    </tr>\n",
       "  </tbody>\n",
       "</table>\n",
       "<p>93709 rows × 65 columns</p>\n",
       "</div>"
      ],
      "text/plain": [
       "                  n_folio  nfolio_caso nfolio_caso_indice nfolio_pntm  \\\n",
       "29092            10000195   10000195.0                NaN         NaN   \n",
       "5608             10000195   10000195.0                NaN         NaN   \n",
       "41194            10000195   10000195.0                NaN         NaN   \n",
       "33928            10000195   10000195.0                NaN         NaN   \n",
       "36338            10000195   10000195.0                NaN         NaN   \n",
       "...                   ...          ...                ...         ...   \n",
       "29137  SC9998918-11899520          NaN           11899520         NaN   \n",
       "40008  SC9998918-11899520          NaN           11899520         NaN   \n",
       "30342  SC9998918-11899520          NaN           11899520         NaN   \n",
       "33969  SC9998918-11899520          NaN           11899520         NaN   \n",
       "27908  SC9998918-11899520          NaN           11899520         NaN   \n",
       "\n",
       "      nfolio_contacto_estrecho tipo_seguimiento         dia_contacto  \\\n",
       "29092                      NaN             caso  2021-03-28 00:00:00   \n",
       "5608                       NaN             caso  2021-03-30 00:00:00   \n",
       "41194                      NaN             caso  2021-03-31 00:00:00   \n",
       "33928                      NaN             caso  2021-04-01 00:00:00   \n",
       "36338                      NaN             caso  2021-04-04 00:00:00   \n",
       "...                        ...              ...                  ...   \n",
       "29137                  9998918         contacto  2021-04-01 00:00:00   \n",
       "40008                  9998918         contacto  2021-04-02 00:00:00   \n",
       "30342                  9998918         contacto  2021-04-03 00:00:00   \n",
       "33969                  9998918         contacto  2021-04-04 00:00:00   \n",
       "27908                  9998918         contacto  2021-04-05 00:00:00   \n",
       "\n",
       "      fecha_notificacion     nombre_institucion_indice  \\\n",
       "29092         2021-03-26  Posta de Salud Rural Melinka   \n",
       "5608          2021-03-26  Posta de Salud Rural Melinka   \n",
       "41194         2021-03-26  Posta de Salud Rural Melinka   \n",
       "33928         2021-03-26  Posta de Salud Rural Melinka   \n",
       "36338         2021-03-26  Posta de Salud Rural Melinka   \n",
       "...                  ...                           ...   \n",
       "29137         2021-03-26  Posta de Salud Rural Melinka   \n",
       "40008         2021-03-26  Posta de Salud Rural Melinka   \n",
       "30342         2021-03-26  Posta de Salud Rural Melinka   \n",
       "33969         2021-03-26  Posta de Salud Rural Melinka   \n",
       "27908         2021-03-26  Posta de Salud Rural Melinka   \n",
       "\n",
       "      region_institucion_indice  ... comuna_seremi_xi provincia_seremi_xi  \\\n",
       "29092                        11  ...        Guaitecas               Aysen   \n",
       "5608                         11  ...        Guaitecas               Aysen   \n",
       "41194                        11  ...        Guaitecas               Aysen   \n",
       "33928                        11  ...        Guaitecas               Aysen   \n",
       "36338                        11  ...        Guaitecas               Aysen   \n",
       "...                         ...  ...              ...                 ...   \n",
       "29137                        11  ...        Guaitecas               Aysen   \n",
       "40008                        11  ...        Guaitecas               Aysen   \n",
       "30342                        11  ...        Guaitecas               Aysen   \n",
       "33969                        11  ...        Guaitecas               Aysen   \n",
       "27908                        11  ...        Guaitecas               Aysen   \n",
       "\n",
       "       edad   sexo pop_hombres pop_mujeres pop_total is_contact is_index  \\\n",
       "29092  12.0  mujer      1166.0       677.0    1843.0      False    False   \n",
       "5608   12.0  mujer      1166.0       677.0    1843.0      False    False   \n",
       "41194  12.0  mujer      1166.0       677.0    1843.0      False    False   \n",
       "33928  12.0  mujer      1166.0       677.0    1843.0      False    False   \n",
       "36338  12.0  mujer      1166.0       677.0    1843.0      False    False   \n",
       "...     ...    ...         ...         ...       ...        ...      ...   \n",
       "29137  57.0  mujer      1166.0       677.0    1843.0       True    False   \n",
       "40008  57.0  mujer      1166.0       677.0    1843.0       True    False   \n",
       "30342  57.0  mujer      1166.0       677.0    1843.0       True    False   \n",
       "33969  57.0  mujer      1166.0       677.0    1843.0       True    False   \n",
       "27908  57.0  mujer      1166.0       677.0    1843.0       True    False   \n",
       "\n",
       "      is_index_or_contact  \n",
       "29092               False  \n",
       "5608                False  \n",
       "41194               False  \n",
       "33928               False  \n",
       "36338               False  \n",
       "...                   ...  \n",
       "29137                True  \n",
       "40008                True  \n",
       "30342                True  \n",
       "33969                True  \n",
       "27908                True  \n",
       "\n",
       "[93709 rows x 65 columns]"
      ]
     },
     "execution_count": 539,
     "metadata": {},
     "output_type": "execute_result"
    }
   ],
   "source": [
    "df_seguimiento_ind8_clean.sort_values(by=['n_folio', 'dia_contacto'])#.groupby('n_folio').count()"
   ]
  },
  {
   "cell_type": "code",
   "execution_count": null,
   "id": "7692600c",
   "metadata": {},
   "outputs": [],
   "source": []
  },
  {
   "cell_type": "markdown",
   "id": "4c93996d",
   "metadata": {},
   "source": [
    "# Indicador 10: Contactos con al menos 2 seguimientos dentro de su periodo de cuarentena de 14 días\n",
    "\n",
    "## Objetivo: Evaluar la capacidad de seguimiento de contactos estrechos\n",
    "\n",
    "### Meta: >90%\n",
    "\n",
    "**Periodicidad:** Semanal\n",
    "\n",
    "**Escala territorial:** Comuna, Regional, Nacional\n",
    "\n",
    "**Fuente de información:** Base de seguimiento"
   ]
  },
  {
   "cell_type": "markdown",
   "id": "f6a1b369",
   "metadata": {},
   "source": [
    "### Cálculo del indicador a nivel comunal\n",
    "\n",
    "$\\frac{No.\\:contactos\\:que\\:cumplieron\\:cuarentena\\:con\\:al\\:menos\\:2\\:seguimientos\\:por\\:comuna\\:último\\:establecimiento\\:semana\\:x}{No.\\:contactos\\:que\\:cumplieron\\:cuarentena\\:por\\:comuna\\:ultimo\\:establecimiento\\:semana\\:x}x100$"
   ]
  },
  {
   "cell_type": "markdown",
   "id": "de0e6681",
   "metadata": {},
   "source": [
    "### Cálculo del indicador a nivel regional\n",
    "\n",
    "$\\frac{No.\\:contactos\\:que\\:cumplieron\\:cuarentena\\:con\\:al\\:menos\\:2\\:seguimientos\\:por\\:región\\:último\\:establecimiento\\:semana\\:x}{No.\\:contactos\\:que\\:cumplieron\\:cuarentena\\:por\\:región\\:ultimo\\:establecimiento\\:semana\\:x}x100$"
   ]
  },
  {
   "cell_type": "markdown",
   "id": "7f0a8a4c",
   "metadata": {},
   "source": [
    "**Observación**\n",
    "\n",
    "- El indicador se construye sobre los contactos que egresan (fecha de término de cuarentena) de seguimiento, durante la semana de interés (esto es, sólo registros egresados de la bandeja de seguimiento)\n",
    "- El periodo de seguimiento para el contacto corresponde a la cantidad de días entre la 1era fecha en que el contacto está disponible en la bandeja de seguimiento hasta la última fecha fin cuarentena\n",
    "- Se cumple con el indicador si en el período de seguimiento del contacto se registran al menos 2 actividades de seguimiento (las cuales pueden ser exitosas o no)\n",
    "- Se excluyen los contactos que se transforman en caso y que están notificados (tiene folio asociado como caso)"
   ]
  },
  {
   "cell_type": "code",
   "execution_count": 527,
   "id": "1d56f67d",
   "metadata": {},
   "outputs": [],
   "source": [
    "df_seguimiento_ind10 = df_seguimiento_clean"
   ]
  },
  {
   "cell_type": "code",
   "execution_count": null,
   "id": "81e22d46",
   "metadata": {},
   "outputs": [],
   "source": []
  },
  {
   "cell_type": "code",
   "execution_count": null,
   "id": "6e2331b5",
   "metadata": {},
   "outputs": [],
   "source": []
  },
  {
   "cell_type": "code",
   "execution_count": null,
   "id": "b4a465d5",
   "metadata": {},
   "outputs": [],
   "source": []
  },
  {
   "cell_type": "code",
   "execution_count": null,
   "id": "19dd503d",
   "metadata": {},
   "outputs": [],
   "source": []
  }
 ],
 "metadata": {
  "kernelspec": {
   "display_name": "Python 3",
   "language": "python",
   "name": "python3"
  },
  "language_info": {
   "codemirror_mode": {
    "name": "ipython",
    "version": 3
   },
   "file_extension": ".py",
   "mimetype": "text/x-python",
   "name": "python",
   "nbconvert_exporter": "python",
   "pygments_lexer": "ipython3",
   "version": "3.8.10"
  }
 },
 "nbformat": 4,
 "nbformat_minor": 5
}
