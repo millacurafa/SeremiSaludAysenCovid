{
 "cells": [
  {
   "cell_type": "markdown",
   "id": "b4ba2eeb",
   "metadata": {},
   "source": [
    "# Indicadores de Trazabilidad \n",
    "\n"
   ]
  },
  {
   "cell_type": "markdown",
   "id": "a3c94b84",
   "metadata": {},
   "source": [
    "## Importación de datos, librerias"
   ]
  },
  {
   "cell_type": "code",
   "execution_count": 1,
   "id": "0f4dda4f",
   "metadata": {},
   "outputs": [],
   "source": [
    "# Importa librerias necesarias para el análisis\n",
    "\n",
    "import pandas as pd\n",
    "import numpy as np\n",
    "import plotly.express as px"
   ]
  },
  {
   "cell_type": "code",
   "execution_count": 2,
   "id": "eb144bfe",
   "metadata": {
    "scrolled": true
   },
   "outputs": [
    {
     "data": {
      "text/html": [
       "<div>\n",
       "<style scoped>\n",
       "    .dataframe tbody tr th:only-of-type {\n",
       "        vertical-align: middle;\n",
       "    }\n",
       "\n",
       "    .dataframe tbody tr th {\n",
       "        vertical-align: top;\n",
       "    }\n",
       "\n",
       "    .dataframe thead th {\n",
       "        text-align: right;\n",
       "    }\n",
       "</style>\n",
       "<table border=\"1\" class=\"dataframe\">\n",
       "  <thead>\n",
       "    <tr style=\"text-align: right;\">\n",
       "      <th></th>\n",
       "      <th>Unnamed: 0</th>\n",
       "      <th>orden</th>\n",
       "      <th>nombre_region</th>\n",
       "      <th>codigo_region</th>\n",
       "      <th>nombre_provincia</th>\n",
       "      <th>codigo_provincia</th>\n",
       "      <th>nombre_comuna</th>\n",
       "      <th>codigo_comuna</th>\n",
       "      <th>edad_hombres</th>\n",
       "      <th>edad_mujeres</th>\n",
       "      <th>total</th>\n",
       "    </tr>\n",
       "  </thead>\n",
       "  <tbody>\n",
       "    <tr>\n",
       "      <th>0</th>\n",
       "      <td>0</td>\n",
       "      <td>7172</td>\n",
       "      <td>Región de Aysén del General Carlos Ibáñez del ...</td>\n",
       "      <td>11</td>\n",
       "      <td>Coyhaique</td>\n",
       "      <td>111</td>\n",
       "      <td>Coyhaique</td>\n",
       "      <td>11101</td>\n",
       "      <td>28763</td>\n",
       "      <td>29055</td>\n",
       "      <td>57818</td>\n",
       "    </tr>\n",
       "    <tr>\n",
       "      <th>1</th>\n",
       "      <td>1</td>\n",
       "      <td>7194</td>\n",
       "      <td>Región de Aysén del General Carlos Ibáñez del ...</td>\n",
       "      <td>11</td>\n",
       "      <td>Coyhaique</td>\n",
       "      <td>111</td>\n",
       "      <td>Lago Verde</td>\n",
       "      <td>11102</td>\n",
       "      <td>494</td>\n",
       "      <td>358</td>\n",
       "      <td>852</td>\n",
       "    </tr>\n",
       "  </tbody>\n",
       "</table>\n",
       "</div>"
      ],
      "text/plain": [
       "   Unnamed: 0  orden                                      nombre_region  \\\n",
       "0           0   7172  Región de Aysén del General Carlos Ibáñez del ...   \n",
       "1           1   7194  Región de Aysén del General Carlos Ibáñez del ...   \n",
       "\n",
       "   codigo_region nombre_provincia  codigo_provincia nombre_comuna  \\\n",
       "0             11        Coyhaique               111     Coyhaique   \n",
       "1             11        Coyhaique               111    Lago Verde   \n",
       "\n",
       "   codigo_comuna  edad_hombres  edad_mujeres  total  \n",
       "0          11101         28763         29055  57818  \n",
       "1          11102           494           358    852  "
      ]
     },
     "execution_count": 2,
     "metadata": {},
     "output_type": "execute_result"
    }
   ],
   "source": [
    "# Importa datos de población regional y crea DF\n",
    "\n",
    "\n",
    "df_poblacion = pd.read_csv('data/aysen_population.csv') #Archivo ubicado dentro de la carpeta data\n",
    "\n",
    "df_poblacion.head(2)"
   ]
  },
  {
   "cell_type": "code",
   "execution_count": 3,
   "id": "d7395726",
   "metadata": {},
   "outputs": [
    {
     "data": {
      "text/html": [
       "<div>\n",
       "<style scoped>\n",
       "    .dataframe tbody tr th:only-of-type {\n",
       "        vertical-align: middle;\n",
       "    }\n",
       "\n",
       "    .dataframe tbody tr th {\n",
       "        vertical-align: top;\n",
       "    }\n",
       "\n",
       "    .dataframe thead th {\n",
       "        text-align: right;\n",
       "    }\n",
       "</style>\n",
       "<table border=\"1\" class=\"dataframe\">\n",
       "  <thead>\n",
       "    <tr style=\"text-align: right;\">\n",
       "      <th></th>\n",
       "      <th>establecimiento_salud</th>\n",
       "      <th>comuna_seremi_xi</th>\n",
       "      <th>provincia_seremi_xi</th>\n",
       "    </tr>\n",
       "  </thead>\n",
       "  <tbody>\n",
       "    <tr>\n",
       "      <th>0</th>\n",
       "      <td>Actividades gestionadas por la Dirección del S...</td>\n",
       "      <td>Coyhaique</td>\n",
       "      <td>Coyhaique</td>\n",
       "    </tr>\n",
       "    <tr>\n",
       "      <th>1</th>\n",
       "      <td>Centro Clínico Militar Coyhaique</td>\n",
       "      <td>Coyhaique</td>\n",
       "      <td>Coyhaique</td>\n",
       "    </tr>\n",
       "    <tr>\n",
       "      <th>2</th>\n",
       "      <td>Centro Comunitario de Salud Familiar  Villa Ma...</td>\n",
       "      <td>Aysen</td>\n",
       "      <td>Aysen</td>\n",
       "    </tr>\n",
       "    <tr>\n",
       "      <th>3</th>\n",
       "      <td>Centro Comunitario de Salud Familiar Alejandro...</td>\n",
       "      <td>Coyhaique</td>\n",
       "      <td>Coyhaique</td>\n",
       "    </tr>\n",
       "    <tr>\n",
       "      <th>4</th>\n",
       "      <td>Centro Comunitario de Salud Familiar Puerto Ch...</td>\n",
       "      <td>Aysen</td>\n",
       "      <td>Aysen</td>\n",
       "    </tr>\n",
       "  </tbody>\n",
       "</table>\n",
       "</div>"
      ],
      "text/plain": [
       "                               establecimiento_salud comuna_seremi_xi  \\\n",
       "0  Actividades gestionadas por la Dirección del S...        Coyhaique   \n",
       "1                   Centro Clínico Militar Coyhaique        Coyhaique   \n",
       "2  Centro Comunitario de Salud Familiar  Villa Ma...            Aysen   \n",
       "3  Centro Comunitario de Salud Familiar Alejandro...        Coyhaique   \n",
       "4  Centro Comunitario de Salud Familiar Puerto Ch...            Aysen   \n",
       "\n",
       "  provincia_seremi_xi  \n",
       "0           Coyhaique  \n",
       "1           Coyhaique  \n",
       "2               Aysen  \n",
       "3           Coyhaique  \n",
       "4               Aysen  "
      ]
     },
     "execution_count": 3,
     "metadata": {},
     "output_type": "execute_result"
    }
   ],
   "source": [
    "# Importa datos de comunas corregidas por establecimiento de salud\n",
    "\n",
    "df_establecimiento = pd.read_excel('data/establecimientos_salud_dict.xlsx') #Archivo ubicado dentro de la carpeta data\n",
    "\n",
    "\n",
    "df_establecimiento.head()"
   ]
  },
  {
   "cell_type": "code",
   "execution_count": 4,
   "id": "4b119b3a",
   "metadata": {},
   "outputs": [],
   "source": [
    "# Importa datos desde la base de datos recivida via FTP\n",
    "## PRIMERO: Guardar archivo dentro de la carpeta data\n",
    "## SEGUNDO: No cambiar nombre ni formato del archivo recibido\n",
    "## TERCERO: RECORDAR CAMBIAR FECHA EN EL ARCHIVO A IMPORTAR A CONTINUACION, i.e: 20210829 para este domingo 29 de Agosto 2021\n",
    "\n",
    "df =  pd.read_csv('data/20210831_Región de Aysén del General Carlos Ibáñez del Campo_notificaciones_0600.csv', \n",
    "                   sep=';', # CSV con separador ''~''\n",
    "                   low_memory=False\n",
    "                  )"
   ]
  },
  {
   "cell_type": "code",
   "execution_count": 5,
   "id": "54031874",
   "metadata": {},
   "outputs": [],
   "source": [
    "df_trazabilidad =  pd.read_csv('data/20210831_Región de Aysén del General Carlos Ibáñez del Campo_Seguimiento.csv', \n",
    "                   sep=';', # CSV con separador ''~''\n",
    "                   low_memory=False\n",
    "                  )"
   ]
  },
  {
   "cell_type": "markdown",
   "id": "8cfadf9e",
   "metadata": {},
   "source": [
    "##  limpieza y ordenamiento "
   ]
  },
  {
   "cell_type": "code",
   "execution_count": 6,
   "id": "05838c74",
   "metadata": {},
   "outputs": [],
   "source": [
    "# Une datos con diccionario comunal\n",
    "\n",
    "dff = df.merge(df_establecimiento, how='left')"
   ]
  },
  {
   "cell_type": "code",
   "execution_count": 7,
   "id": "fb8cd568",
   "metadata": {},
   "outputs": [],
   "source": [
    "# Integra datos poblacionales\n",
    "\n",
    "df_merged = dff.merge(df_poblacion.drop(columns= ['Unnamed: 0','orden','nombre_region', 'codigo_region', 'nombre_provincia','codigo_provincia']), left_on='comuna_seremi_xi', right_on='nombre_comuna', how='left' )"
   ]
  },
  {
   "cell_type": "code",
   "execution_count": 8,
   "id": "91c07de6",
   "metadata": {},
   "outputs": [
    {
     "data": {
      "text/html": [
       "<div>\n",
       "<style scoped>\n",
       "    .dataframe tbody tr th:only-of-type {\n",
       "        vertical-align: middle;\n",
       "    }\n",
       "\n",
       "    .dataframe tbody tr th {\n",
       "        vertical-align: top;\n",
       "    }\n",
       "\n",
       "    .dataframe thead th {\n",
       "        text-align: right;\n",
       "    }\n",
       "</style>\n",
       "<table border=\"1\" class=\"dataframe\">\n",
       "  <thead>\n",
       "    <tr style=\"text-align: right;\">\n",
       "      <th></th>\n",
       "      <th>id_formulario_eno</th>\n",
       "      <th>numero_folio</th>\n",
       "      <th>id_enfermedad_eno</th>\n",
       "      <th>enfermedad_notificada</th>\n",
       "      <th>semana_epidemiologica</th>\n",
       "      <th>fecha_notificacion</th>\n",
       "      <th>etapa_clinica</th>\n",
       "      <th>establecimiento_salud</th>\n",
       "      <th>region</th>\n",
       "      <th>seremi</th>\n",
       "      <th>...</th>\n",
       "      <th>ningun_factor_riesgo</th>\n",
       "      <th>test_antigeno_sars_positivo</th>\n",
       "      <th>tac_torax_covid</th>\n",
       "      <th>comuna_seremi_xi</th>\n",
       "      <th>provincia_seremi_xi</th>\n",
       "      <th>nombre_comuna</th>\n",
       "      <th>codigo_comuna</th>\n",
       "      <th>edad_hombres</th>\n",
       "      <th>edad_mujeres</th>\n",
       "      <th>total</th>\n",
       "    </tr>\n",
       "  </thead>\n",
       "  <tbody>\n",
       "    <tr>\n",
       "      <th>0</th>\n",
       "      <td>100166</td>\n",
       "      <td>50166</td>\n",
       "      <td>50</td>\n",
       "      <td>Coronavirus (COVID-19)</td>\n",
       "      <td>11</td>\n",
       "      <td>2020-03-12</td>\n",
       "      <td>DESCARTADA</td>\n",
       "      <td>Hospital Regional (Coihaique)</td>\n",
       "      <td>Región de Aysén del General Carlos Ibáñez del ...</td>\n",
       "      <td>SEREMI De Aisén del General Carlos Ibañez del ...</td>\n",
       "      <td>...</td>\n",
       "      <td>NaN</td>\n",
       "      <td>NaN</td>\n",
       "      <td>NaN</td>\n",
       "      <td>Coyhaique</td>\n",
       "      <td>Coyhaique</td>\n",
       "      <td>Coyhaique</td>\n",
       "      <td>11101.0</td>\n",
       "      <td>28763.0</td>\n",
       "      <td>29055.0</td>\n",
       "      <td>57818.0</td>\n",
       "    </tr>\n",
       "  </tbody>\n",
       "</table>\n",
       "<p>1 rows × 280 columns</p>\n",
       "</div>"
      ],
      "text/plain": [
       "   id_formulario_eno  numero_folio  id_enfermedad_eno   enfermedad_notificada  \\\n",
       "0             100166         50166                 50  Coronavirus (COVID-19)   \n",
       "\n",
       "   semana_epidemiologica fecha_notificacion etapa_clinica  \\\n",
       "0                     11         2020-03-12    DESCARTADA   \n",
       "\n",
       "           establecimiento_salud  \\\n",
       "0  Hospital Regional (Coihaique)   \n",
       "\n",
       "                                              region  \\\n",
       "0  Región de Aysén del General Carlos Ibáñez del ...   \n",
       "\n",
       "                                              seremi  ...  \\\n",
       "0  SEREMI De Aisén del General Carlos Ibañez del ...  ...   \n",
       "\n",
       "  ningun_factor_riesgo test_antigeno_sars_positivo  tac_torax_covid  \\\n",
       "0                  NaN                         NaN              NaN   \n",
       "\n",
       "  comuna_seremi_xi provincia_seremi_xi nombre_comuna codigo_comuna  \\\n",
       "0        Coyhaique           Coyhaique     Coyhaique       11101.0   \n",
       "\n",
       "  edad_hombres edad_mujeres    total  \n",
       "0      28763.0      29055.0  57818.0  \n",
       "\n",
       "[1 rows x 280 columns]"
      ]
     },
     "execution_count": 8,
     "metadata": {},
     "output_type": "execute_result"
    }
   ],
   "source": [
    "# Filtra datos obtenidos solo para pacientes con residencia en la Región de Aysén\n",
    "\n",
    "data_aysen = df_merged[df_merged['region_residencia'] == 'Región de Aysén del General Carlos Ibáñez del Campo']\n",
    "\n",
    "data_aysen.head(1)"
   ]
  },
  {
   "cell_type": "code",
   "execution_count": 9,
   "id": "97973806",
   "metadata": {},
   "outputs": [
    {
     "data": {
      "text/html": [
       "<div>\n",
       "<style scoped>\n",
       "    .dataframe tbody tr th:only-of-type {\n",
       "        vertical-align: middle;\n",
       "    }\n",
       "\n",
       "    .dataframe tbody tr th {\n",
       "        vertical-align: top;\n",
       "    }\n",
       "\n",
       "    .dataframe thead th {\n",
       "        text-align: right;\n",
       "    }\n",
       "</style>\n",
       "<table border=\"1\" class=\"dataframe\">\n",
       "  <thead>\n",
       "    <tr style=\"text-align: right;\">\n",
       "      <th></th>\n",
       "      <th>id_formulario_eno</th>\n",
       "      <th>numero_folio</th>\n",
       "      <th>id_enfermedad_eno</th>\n",
       "      <th>enfermedad_notificada</th>\n",
       "      <th>semana_epidemiologica</th>\n",
       "      <th>fecha_notificacion</th>\n",
       "      <th>etapa_clinica</th>\n",
       "      <th>establecimiento_salud</th>\n",
       "      <th>region</th>\n",
       "      <th>seremi</th>\n",
       "      <th>...</th>\n",
       "      <th>ningun_factor_riesgo</th>\n",
       "      <th>test_antigeno_sars_positivo</th>\n",
       "      <th>tac_torax_covid</th>\n",
       "      <th>comuna_seremi_xi</th>\n",
       "      <th>provincia_seremi_xi</th>\n",
       "      <th>nombre_comuna</th>\n",
       "      <th>codigo_comuna</th>\n",
       "      <th>pop_hombres</th>\n",
       "      <th>pop_mujeres</th>\n",
       "      <th>pop_total</th>\n",
       "    </tr>\n",
       "  </thead>\n",
       "  <tbody>\n",
       "    <tr>\n",
       "      <th>6864</th>\n",
       "      <td>2110745</td>\n",
       "      <td>2060745</td>\n",
       "      <td>50</td>\n",
       "      <td>Coronavirus (COVID-19)</td>\n",
       "      <td>34</td>\n",
       "      <td>2020-08-22</td>\n",
       "      <td>DESCARTADA</td>\n",
       "      <td>Hospital Regional (Coihaique)</td>\n",
       "      <td>Región de Aysén del General Carlos Ibáñez del ...</td>\n",
       "      <td>SEREMI De Aisén del General Carlos Ibañez del ...</td>\n",
       "      <td>...</td>\n",
       "      <td>NaN</td>\n",
       "      <td>NaN</td>\n",
       "      <td>NaN</td>\n",
       "      <td>Coyhaique</td>\n",
       "      <td>Coyhaique</td>\n",
       "      <td>Coyhaique</td>\n",
       "      <td>11101.0</td>\n",
       "      <td>28763.0</td>\n",
       "      <td>29055.0</td>\n",
       "      <td>57818.0</td>\n",
       "    </tr>\n",
       "  </tbody>\n",
       "</table>\n",
       "<p>1 rows × 280 columns</p>\n",
       "</div>"
      ],
      "text/plain": [
       "      id_formulario_eno  numero_folio  id_enfermedad_eno  \\\n",
       "6864            2110745       2060745                 50   \n",
       "\n",
       "       enfermedad_notificada  semana_epidemiologica fecha_notificacion  \\\n",
       "6864  Coronavirus (COVID-19)                     34         2020-08-22   \n",
       "\n",
       "     etapa_clinica          establecimiento_salud  \\\n",
       "6864    DESCARTADA  Hospital Regional (Coihaique)   \n",
       "\n",
       "                                                 region  \\\n",
       "6864  Región de Aysén del General Carlos Ibáñez del ...   \n",
       "\n",
       "                                                 seremi  ...  \\\n",
       "6864  SEREMI De Aisén del General Carlos Ibañez del ...  ...   \n",
       "\n",
       "     ningun_factor_riesgo test_antigeno_sars_positivo  tac_torax_covid  \\\n",
       "6864                  NaN                         NaN              NaN   \n",
       "\n",
       "     comuna_seremi_xi provincia_seremi_xi nombre_comuna codigo_comuna  \\\n",
       "6864        Coyhaique           Coyhaique     Coyhaique       11101.0   \n",
       "\n",
       "     pop_hombres pop_mujeres pop_total  \n",
       "6864     28763.0     29055.0   57818.0  \n",
       "\n",
       "[1 rows x 280 columns]"
      ]
     },
     "execution_count": 9,
     "metadata": {},
     "output_type": "execute_result"
    }
   ],
   "source": [
    "data_aysen_filtered = data_aysen[(data_aysen['estado_caso']!='No validada')&(\n",
    "                          data_aysen['vigente_no_eliminado']=='t')&(\n",
    "                          data_aysen['seremi']=='SEREMI De Aisén del General Carlos Ibañez del Campo')\n",
    "                       ].rename(columns={'edad_hombres':'pop_hombres',\n",
    "                                         'edad_mujeres':'pop_mujeres',\n",
    "                                         'total':'pop_total'})\n",
    "\n",
    "data_aysen_filtered.sample(1)"
   ]
  },
  {
   "cell_type": "code",
   "execution_count": 10,
   "id": "b4dda4da",
   "metadata": {},
   "outputs": [],
   "source": [
    "# Transforma Fechas a formato DateTime \n",
    "\n",
    "data_aysen_filtered['fecha_notificacion'] = pd.to_datetime(data_aysen_filtered['fecha_notificacion'], errors = 'coerce') \n",
    "\n",
    "data_aysen_filtered['fecha_toma_muestra_1'] = pd.to_datetime(data_aysen_filtered['fecha_toma_muestra_1'], errors = 'coerce')\n",
    "\n",
    "data_aysen_filtered['fecha_toma_muestra_2'] = pd.to_datetime(data_aysen_filtered['fecha_toma_muestra_2'], errors = 'coerce')\n",
    "\n",
    "data_aysen_filtered['fecha_toma_muestra_3'] = pd.to_datetime(data_aysen_filtered['fecha_toma_muestra_3'], errors = 'coerce')\n",
    "\n",
    "data_aysen_filtered['fecha_resultado_pcr_1'] = pd.to_datetime(data_aysen_filtered['fecha_resultado_pcr_1'], errors = 'coerce')\n",
    "\n",
    "data_aysen_filtered['fecha_resultado_pcr_2'] = pd.to_datetime(data_aysen_filtered['fecha_resultado_pcr_2'], errors = 'coerce')\n",
    "\n",
    "data_aysen_filtered['fecha_resultado_pcr_3'] = pd.to_datetime(data_aysen_filtered['fecha_resultado_pcr_3'], errors = 'coerce')"
   ]
  },
  {
   "cell_type": "code",
   "execution_count": 11,
   "id": "06f2df22",
   "metadata": {},
   "outputs": [
    {
     "data": {
      "text/html": [
       "<div>\n",
       "<style scoped>\n",
       "    .dataframe tbody tr th:only-of-type {\n",
       "        vertical-align: middle;\n",
       "    }\n",
       "\n",
       "    .dataframe tbody tr th {\n",
       "        vertical-align: top;\n",
       "    }\n",
       "\n",
       "    .dataframe thead th {\n",
       "        text-align: right;\n",
       "    }\n",
       "</style>\n",
       "<table border=\"1\" class=\"dataframe\">\n",
       "  <thead>\n",
       "    <tr style=\"text-align: right;\">\n",
       "      <th></th>\n",
       "      <th>0</th>\n",
       "    </tr>\n",
       "  </thead>\n",
       "  <tbody>\n",
       "  </tbody>\n",
       "</table>\n",
       "</div>"
      ],
      "text/plain": [
       "Empty DataFrame\n",
       "Columns: [0]\n",
       "Index: []"
      ]
     },
     "execution_count": 11,
     "metadata": {},
     "output_type": "execute_result"
    }
   ],
   "source": [
    "# Muestra variables presente en DB en formato DF\n",
    "\n",
    "s=pd.DataFrame(data_aysen_filtered.columns)\n",
    "\n",
    "s[s[0]=='tipo_seguimiento']\n"
   ]
  },
  {
   "cell_type": "code",
   "execution_count": 82,
   "id": "24fe0014",
   "metadata": {},
   "outputs": [],
   "source": [
    "# Selecciona variables de importancia\n",
    "\n",
    "data_aysen_clean =  data_aysen_filtered[[\n",
    "                                'numero_folio',\n",
    "                                'comuna_residencia',\n",
    "                                'fecha_notificacion',\n",
    "                                'semana_epidemiologica',\n",
    "                                'etapa_clinica',\n",
    "                                'tipo_caso_busqueda',\n",
    "                                'establecimiento_salud',\n",
    "                                'resultado_pcr_1',\n",
    "                                'resultado_pcr_2',\n",
    "                                'resultado_pcr_3',\n",
    "                                'fecha_toma_muestra_1',\n",
    "                                'fecha_toma_muestra_2',\n",
    "                                'fecha_toma_muestra_3',\n",
    "                                'fecha_resultado_pcr_1',\n",
    "                                'fecha_resultado_pcr_2',\n",
    "                                'fecha_resultado_pcr_3',\n",
    "                                'estado_paciente',\n",
    "                                'lugar_reposo',\n",
    "                                'estado_caso',\n",
    "                                'presentacion_clinica',\n",
    "                                'contacto_caso_sospechoso',\n",
    "                                'motivo_examen',\n",
    "                                'hospitalizacion',\n",
    "                                'trabajador_salud',\n",
    "                                'caso_cerrado',\n",
    "                                'fecha_primeros_sintomas',\n",
    "                                'fecha_diagnostico',\n",
    "                                'comuna_seremi_xi',\n",
    "                                'provincia_seremi_xi',\n",
    "                                'sexo',\n",
    "                                'edad',\n",
    "                                'pop_hombres',\n",
    "                                'pop_mujeres',\n",
    "                                'pop_total'\n",
    "                               ]]"
   ]
  },
  {
   "cell_type": "code",
   "execution_count": 83,
   "id": "6e15c859",
   "metadata": {},
   "outputs": [
    {
     "name": "stderr",
     "output_type": "stream",
     "text": [
      "<ipython-input-83-d2f259f8832e>:7: SettingWithCopyWarning:\n",
      "\n",
      "\n",
      "A value is trying to be set on a copy of a slice from a DataFrame.\n",
      "Try using .loc[row_indexer,col_indexer] = value instead\n",
      "\n",
      "See the caveats in the documentation: https://pandas.pydata.org/pandas-docs/stable/user_guide/indexing.html#returning-a-view-versus-a-copy\n",
      "\n",
      "<ipython-input-83-d2f259f8832e>:8: SettingWithCopyWarning:\n",
      "\n",
      "\n",
      "A value is trying to be set on a copy of a slice from a DataFrame.\n",
      "Try using .loc[row_indexer,col_indexer] = value instead\n",
      "\n",
      "See the caveats in the documentation: https://pandas.pydata.org/pandas-docs/stable/user_guide/indexing.html#returning-a-view-versus-a-copy\n",
      "\n"
     ]
    }
   ],
   "source": [
    "# Agrega 53 semanas a las semanas de 2021 y crea semana_epidemiologica_21\n",
    "\n",
    "data_aysen_clean1 = data_aysen_clean[data_aysen_clean['fecha_notificacion']<=pd.to_datetime('2021-01-02')]\n",
    "data_aysen_clean2 = data_aysen_clean[data_aysen_clean['fecha_notificacion']>=pd.to_datetime('2021-01-03')]\n",
    "\n",
    "\n",
    "data_aysen_clean1['semana_epidemiologica_21'] = data_aysen_clean1['semana_epidemiologica']\n",
    "data_aysen_clean2['semana_epidemiologica_21'] = data_aysen_clean2['semana_epidemiologica']+53\n",
    "\n",
    "data_aysen_clean_21 = data_aysen_clean1.append(data_aysen_clean2, ignore_index=True)\n"
   ]
  },
  {
   "cell_type": "code",
   "execution_count": 84,
   "id": "19c25cde",
   "metadata": {
    "scrolled": true
   },
   "outputs": [
    {
     "data": {
      "text/html": [
       "<div>\n",
       "<style scoped>\n",
       "    .dataframe tbody tr th:only-of-type {\n",
       "        vertical-align: middle;\n",
       "    }\n",
       "\n",
       "    .dataframe tbody tr th {\n",
       "        vertical-align: top;\n",
       "    }\n",
       "\n",
       "    .dataframe thead th {\n",
       "        text-align: right;\n",
       "    }\n",
       "</style>\n",
       "<table border=\"1\" class=\"dataframe\">\n",
       "  <thead>\n",
       "    <tr style=\"text-align: right;\">\n",
       "      <th></th>\n",
       "      <th>numero_folio</th>\n",
       "      <th>comuna_residencia</th>\n",
       "      <th>fecha_notificacion</th>\n",
       "      <th>semana_epidemiologica</th>\n",
       "      <th>etapa_clinica</th>\n",
       "      <th>tipo_caso_busqueda</th>\n",
       "      <th>establecimiento_salud</th>\n",
       "      <th>resultado_pcr_1</th>\n",
       "      <th>resultado_pcr_2</th>\n",
       "      <th>resultado_pcr_3</th>\n",
       "      <th>...</th>\n",
       "      <th>caso_cerrado</th>\n",
       "      <th>fecha_primeros_sintomas</th>\n",
       "      <th>fecha_diagnostico</th>\n",
       "      <th>comuna_seremi_xi</th>\n",
       "      <th>provincia_seremi_xi</th>\n",
       "      <th>sexo</th>\n",
       "      <th>edad</th>\n",
       "      <th>pop_hombres</th>\n",
       "      <th>pop_mujeres</th>\n",
       "      <th>pop_total</th>\n",
       "    </tr>\n",
       "  </thead>\n",
       "  <tbody>\n",
       "    <tr>\n",
       "      <th>111027</th>\n",
       "      <td>12328706</td>\n",
       "      <td>Coyhaique</td>\n",
       "      <td>2021-05-17</td>\n",
       "      <td>20</td>\n",
       "      <td>DESCARTADA</td>\n",
       "      <td>Búsqueda activa</td>\n",
       "      <td>Actividades gestionadas por la Dirección del S...</td>\n",
       "      <td>NEGATIVO</td>\n",
       "      <td>NEGATIVO</td>\n",
       "      <td>NaN</td>\n",
       "      <td>...</td>\n",
       "      <td>f</td>\n",
       "      <td>NaN</td>\n",
       "      <td>2021-05-19</td>\n",
       "      <td>Coyhaique</td>\n",
       "      <td>Coyhaique</td>\n",
       "      <td>mujer</td>\n",
       "      <td>29</td>\n",
       "      <td>28763.0</td>\n",
       "      <td>29055.0</td>\n",
       "      <td>57818.0</td>\n",
       "    </tr>\n",
       "    <tr>\n",
       "      <th>136056</th>\n",
       "      <td>14083345</td>\n",
       "      <td>Coyhaique</td>\n",
       "      <td>2021-06-22</td>\n",
       "      <td>25</td>\n",
       "      <td>DESCARTADA</td>\n",
       "      <td>Búsqueda activa</td>\n",
       "      <td>Centro Clínico Militar Coyhaique</td>\n",
       "      <td>NEGATIVO</td>\n",
       "      <td>NEGATIVO</td>\n",
       "      <td>NaN</td>\n",
       "      <td>...</td>\n",
       "      <td>f</td>\n",
       "      <td>NaN</td>\n",
       "      <td>NaN</td>\n",
       "      <td>Coyhaique</td>\n",
       "      <td>Coyhaique</td>\n",
       "      <td>hombre</td>\n",
       "      <td>49</td>\n",
       "      <td>28763.0</td>\n",
       "      <td>29055.0</td>\n",
       "      <td>57818.0</td>\n",
       "    </tr>\n",
       "    <tr>\n",
       "      <th>79339</th>\n",
       "      <td>9448677</td>\n",
       "      <td>Cisnes</td>\n",
       "      <td>2021-03-15</td>\n",
       "      <td>11</td>\n",
       "      <td>DESCARTADA</td>\n",
       "      <td>Búsqueda activa</td>\n",
       "      <td>Centro de Salud Familiar La Junta</td>\n",
       "      <td>NEGATIVO</td>\n",
       "      <td>NaN</td>\n",
       "      <td>NaN</td>\n",
       "      <td>...</td>\n",
       "      <td>f</td>\n",
       "      <td>NaN</td>\n",
       "      <td>2021-03-17</td>\n",
       "      <td>Cisnes</td>\n",
       "      <td>Aysen</td>\n",
       "      <td>hombre</td>\n",
       "      <td>70</td>\n",
       "      <td>3922.0</td>\n",
       "      <td>2595.0</td>\n",
       "      <td>6517.0</td>\n",
       "    </tr>\n",
       "    <tr>\n",
       "      <th>105298</th>\n",
       "      <td>11861362</td>\n",
       "      <td>Aisén</td>\n",
       "      <td>2021-05-05</td>\n",
       "      <td>18</td>\n",
       "      <td>DESCARTADA</td>\n",
       "      <td>Búsqueda activa</td>\n",
       "      <td>Ejercicio libre de la profesión XI región</td>\n",
       "      <td>NEGATIVO</td>\n",
       "      <td>NaN</td>\n",
       "      <td>NaN</td>\n",
       "      <td>...</td>\n",
       "      <td>f</td>\n",
       "      <td>NaN</td>\n",
       "      <td>2021-05-06</td>\n",
       "      <td>Ejercicio Libre de la Profesión</td>\n",
       "      <td>Ejercicio Libre de la Profesión</td>\n",
       "      <td>hombre</td>\n",
       "      <td>48</td>\n",
       "      <td>NaN</td>\n",
       "      <td>NaN</td>\n",
       "      <td>NaN</td>\n",
       "    </tr>\n",
       "    <tr>\n",
       "      <th>126990</th>\n",
       "      <td>13407726</td>\n",
       "      <td>Aisén</td>\n",
       "      <td>2021-06-08</td>\n",
       "      <td>23</td>\n",
       "      <td>CONFIRMADA</td>\n",
       "      <td>Atención médica</td>\n",
       "      <td>Centro de Salud Familiar Puerto Aysen</td>\n",
       "      <td>POSITIVO</td>\n",
       "      <td>NaN</td>\n",
       "      <td>NaN</td>\n",
       "      <td>...</td>\n",
       "      <td>f</td>\n",
       "      <td>2021-06-05</td>\n",
       "      <td>2021-06-08</td>\n",
       "      <td>Aysen</td>\n",
       "      <td>Aysen</td>\n",
       "      <td>hombre</td>\n",
       "      <td>29</td>\n",
       "      <td>12719.0</td>\n",
       "      <td>11240.0</td>\n",
       "      <td>23959.0</td>\n",
       "    </tr>\n",
       "    <tr>\n",
       "      <th>102047</th>\n",
       "      <td>11593199</td>\n",
       "      <td>Chile Chico</td>\n",
       "      <td>2021-04-29</td>\n",
       "      <td>17</td>\n",
       "      <td>DESCARTADA</td>\n",
       "      <td>Búsqueda activa</td>\n",
       "      <td>Posta de Salud Rural Puerto Guadal</td>\n",
       "      <td>NEGATIVO</td>\n",
       "      <td>NaN</td>\n",
       "      <td>NaN</td>\n",
       "      <td>...</td>\n",
       "      <td>f</td>\n",
       "      <td>NaN</td>\n",
       "      <td>2021-05-02</td>\n",
       "      <td>Chile Chico</td>\n",
       "      <td>General Carrera</td>\n",
       "      <td>hombre</td>\n",
       "      <td>22</td>\n",
       "      <td>2577.0</td>\n",
       "      <td>2288.0</td>\n",
       "      <td>4865.0</td>\n",
       "    </tr>\n",
       "    <tr>\n",
       "      <th>64499</th>\n",
       "      <td>8049639</td>\n",
       "      <td>Aisén</td>\n",
       "      <td>2021-02-10</td>\n",
       "      <td>6</td>\n",
       "      <td>DESCARTADA</td>\n",
       "      <td>Atención médica</td>\n",
       "      <td>Hospital Regional (Coihaique)</td>\n",
       "      <td>NaN</td>\n",
       "      <td>NaN</td>\n",
       "      <td>NaN</td>\n",
       "      <td>...</td>\n",
       "      <td>f</td>\n",
       "      <td>NaN</td>\n",
       "      <td>2021-02-10</td>\n",
       "      <td>Coyhaique</td>\n",
       "      <td>Coyhaique</td>\n",
       "      <td>mujer</td>\n",
       "      <td>20</td>\n",
       "      <td>28763.0</td>\n",
       "      <td>29055.0</td>\n",
       "      <td>57818.0</td>\n",
       "    </tr>\n",
       "    <tr>\n",
       "      <th>160539</th>\n",
       "      <td>15938407</td>\n",
       "      <td>Coyhaique</td>\n",
       "      <td>2021-08-12</td>\n",
       "      <td>32</td>\n",
       "      <td>DESCARTADA</td>\n",
       "      <td>Búsqueda activa</td>\n",
       "      <td>Consultorio Alejandro Gutiérrez</td>\n",
       "      <td>NEGATIVO</td>\n",
       "      <td>NEGATIVO</td>\n",
       "      <td>NaN</td>\n",
       "      <td>...</td>\n",
       "      <td>f</td>\n",
       "      <td>NaN</td>\n",
       "      <td>2021-08-16</td>\n",
       "      <td>Coyhaique</td>\n",
       "      <td>Coyhaique</td>\n",
       "      <td>hombre</td>\n",
       "      <td>30</td>\n",
       "      <td>28763.0</td>\n",
       "      <td>29055.0</td>\n",
       "      <td>57818.0</td>\n",
       "    </tr>\n",
       "    <tr>\n",
       "      <th>88343</th>\n",
       "      <td>10381470</td>\n",
       "      <td>Coyhaique</td>\n",
       "      <td>2021-04-05</td>\n",
       "      <td>14</td>\n",
       "      <td>DESCARTADA</td>\n",
       "      <td>Búsqueda activa</td>\n",
       "      <td>Actividades gestionadas por la Dirección del S...</td>\n",
       "      <td>NEGATIVO</td>\n",
       "      <td>NEGATIVO</td>\n",
       "      <td>NaN</td>\n",
       "      <td>...</td>\n",
       "      <td>f</td>\n",
       "      <td>NaN</td>\n",
       "      <td>2021-04-07</td>\n",
       "      <td>Coyhaique</td>\n",
       "      <td>Coyhaique</td>\n",
       "      <td>hombre</td>\n",
       "      <td>42</td>\n",
       "      <td>28763.0</td>\n",
       "      <td>29055.0</td>\n",
       "      <td>57818.0</td>\n",
       "    </tr>\n",
       "    <tr>\n",
       "      <th>87145</th>\n",
       "      <td>10241493</td>\n",
       "      <td>Aisén</td>\n",
       "      <td>2021-04-01</td>\n",
       "      <td>13</td>\n",
       "      <td>CONFIRMADA</td>\n",
       "      <td>Atención médica</td>\n",
       "      <td>Hospital de Puerto Aysén</td>\n",
       "      <td>POSITIVO</td>\n",
       "      <td>POSITIVO</td>\n",
       "      <td>NaN</td>\n",
       "      <td>...</td>\n",
       "      <td>f</td>\n",
       "      <td>2021-03-30</td>\n",
       "      <td>2021-04-01</td>\n",
       "      <td>Aysen</td>\n",
       "      <td>Aysen</td>\n",
       "      <td>hombre</td>\n",
       "      <td>33</td>\n",
       "      <td>12719.0</td>\n",
       "      <td>11240.0</td>\n",
       "      <td>23959.0</td>\n",
       "    </tr>\n",
       "  </tbody>\n",
       "</table>\n",
       "<p>10 rows × 34 columns</p>\n",
       "</div>"
      ],
      "text/plain": [
       "        numero_folio comuna_residencia fecha_notificacion  \\\n",
       "111027      12328706         Coyhaique         2021-05-17   \n",
       "136056      14083345         Coyhaique         2021-06-22   \n",
       "79339        9448677            Cisnes         2021-03-15   \n",
       "105298      11861362             Aisén         2021-05-05   \n",
       "126990      13407726             Aisén         2021-06-08   \n",
       "102047      11593199       Chile Chico         2021-04-29   \n",
       "64499        8049639             Aisén         2021-02-10   \n",
       "160539      15938407         Coyhaique         2021-08-12   \n",
       "88343       10381470         Coyhaique         2021-04-05   \n",
       "87145       10241493             Aisén         2021-04-01   \n",
       "\n",
       "        semana_epidemiologica etapa_clinica tipo_caso_busqueda  \\\n",
       "111027                     20    DESCARTADA    Búsqueda activa   \n",
       "136056                     25    DESCARTADA    Búsqueda activa   \n",
       "79339                      11    DESCARTADA    Búsqueda activa   \n",
       "105298                     18    DESCARTADA    Búsqueda activa   \n",
       "126990                     23    CONFIRMADA    Atención médica   \n",
       "102047                     17    DESCARTADA    Búsqueda activa   \n",
       "64499                       6    DESCARTADA    Atención médica   \n",
       "160539                     32    DESCARTADA    Búsqueda activa   \n",
       "88343                      14    DESCARTADA    Búsqueda activa   \n",
       "87145                      13    CONFIRMADA    Atención médica   \n",
       "\n",
       "                                    establecimiento_salud resultado_pcr_1  \\\n",
       "111027  Actividades gestionadas por la Dirección del S...        NEGATIVO   \n",
       "136056                   Centro Clínico Militar Coyhaique        NEGATIVO   \n",
       "79339                   Centro de Salud Familiar La Junta        NEGATIVO   \n",
       "105298          Ejercicio libre de la profesión XI región        NEGATIVO   \n",
       "126990              Centro de Salud Familiar Puerto Aysen        POSITIVO   \n",
       "102047                 Posta de Salud Rural Puerto Guadal        NEGATIVO   \n",
       "64499                       Hospital Regional (Coihaique)             NaN   \n",
       "160539                    Consultorio Alejandro Gutiérrez        NEGATIVO   \n",
       "88343   Actividades gestionadas por la Dirección del S...        NEGATIVO   \n",
       "87145                            Hospital de Puerto Aysén        POSITIVO   \n",
       "\n",
       "       resultado_pcr_2 resultado_pcr_3  ... caso_cerrado  \\\n",
       "111027        NEGATIVO             NaN  ...            f   \n",
       "136056        NEGATIVO             NaN  ...            f   \n",
       "79339              NaN             NaN  ...            f   \n",
       "105298             NaN             NaN  ...            f   \n",
       "126990             NaN             NaN  ...            f   \n",
       "102047             NaN             NaN  ...            f   \n",
       "64499              NaN             NaN  ...            f   \n",
       "160539        NEGATIVO             NaN  ...            f   \n",
       "88343         NEGATIVO             NaN  ...            f   \n",
       "87145         POSITIVO             NaN  ...            f   \n",
       "\n",
       "       fecha_primeros_sintomas fecha_diagnostico  \\\n",
       "111027                     NaN        2021-05-19   \n",
       "136056                     NaN               NaN   \n",
       "79339                      NaN        2021-03-17   \n",
       "105298                     NaN        2021-05-06   \n",
       "126990              2021-06-05        2021-06-08   \n",
       "102047                     NaN        2021-05-02   \n",
       "64499                      NaN        2021-02-10   \n",
       "160539                     NaN        2021-08-16   \n",
       "88343                      NaN        2021-04-07   \n",
       "87145               2021-03-30        2021-04-01   \n",
       "\n",
       "                       comuna_seremi_xi              provincia_seremi_xi  \\\n",
       "111027                        Coyhaique                        Coyhaique   \n",
       "136056                        Coyhaique                        Coyhaique   \n",
       "79339                            Cisnes                            Aysen   \n",
       "105298  Ejercicio Libre de la Profesión  Ejercicio Libre de la Profesión   \n",
       "126990                            Aysen                            Aysen   \n",
       "102047                      Chile Chico                  General Carrera   \n",
       "64499                         Coyhaique                        Coyhaique   \n",
       "160539                        Coyhaique                        Coyhaique   \n",
       "88343                         Coyhaique                        Coyhaique   \n",
       "87145                             Aysen                            Aysen   \n",
       "\n",
       "          sexo edad pop_hombres pop_mujeres pop_total  \n",
       "111027   mujer   29     28763.0     29055.0   57818.0  \n",
       "136056  hombre   49     28763.0     29055.0   57818.0  \n",
       "79339   hombre   70      3922.0      2595.0    6517.0  \n",
       "105298  hombre   48         NaN         NaN       NaN  \n",
       "126990  hombre   29     12719.0     11240.0   23959.0  \n",
       "102047  hombre   22      2577.0      2288.0    4865.0  \n",
       "64499    mujer   20     28763.0     29055.0   57818.0  \n",
       "160539  hombre   30     28763.0     29055.0   57818.0  \n",
       "88343   hombre   42     28763.0     29055.0   57818.0  \n",
       "87145   hombre   33     12719.0     11240.0   23959.0  \n",
       "\n",
       "[10 rows x 34 columns]"
      ]
     },
     "execution_count": 84,
     "metadata": {},
     "output_type": "execute_result"
    }
   ],
   "source": [
    "data_aysen_clean.sample(10)"
   ]
  },
  {
   "cell_type": "code",
   "execution_count": 85,
   "id": "bbd88d1c",
   "metadata": {},
   "outputs": [],
   "source": [
    "df_seguimiento = pd.read_csv('data/df_seguimiento_full.csv',\n",
    "                            sep=';',\n",
    "                             low_memory=False\n",
    "                            )"
   ]
  },
  {
   "cell_type": "code",
   "execution_count": 86,
   "id": "e07cf34f",
   "metadata": {},
   "outputs": [
    {
     "data": {
      "text/html": [
       "<div>\n",
       "<style scoped>\n",
       "    .dataframe tbody tr th:only-of-type {\n",
       "        vertical-align: middle;\n",
       "    }\n",
       "\n",
       "    .dataframe tbody tr th {\n",
       "        vertical-align: top;\n",
       "    }\n",
       "\n",
       "    .dataframe thead th {\n",
       "        text-align: right;\n",
       "    }\n",
       "</style>\n",
       "<table border=\"1\" class=\"dataframe\">\n",
       "  <thead>\n",
       "    <tr style=\"text-align: right;\">\n",
       "      <th></th>\n",
       "      <th>Unnamed: 0</th>\n",
       "      <th>n_folio</th>\n",
       "      <th>tipo_seguimiento</th>\n",
       "      <th>dia_contacto</th>\n",
       "      <th>id_enfermedad_eno</th>\n",
       "      <th>enfermedad</th>\n",
       "      <th>fecha_notificacion</th>\n",
       "      <th>id_institucion</th>\n",
       "      <th>nombre_institucion_indice</th>\n",
       "      <th>region_institucion_indice</th>\n",
       "      <th>...</th>\n",
       "      <th>cumple_aislamiento_cuarentena</th>\n",
       "      <th>ultimo_establecimiento_derivacion</th>\n",
       "      <th>nombre_ultimo_establecimiento_derivacion</th>\n",
       "      <th>ultimo_seremi_derivacion</th>\n",
       "      <th>región_derivación</th>\n",
       "      <th>región_seremi</th>\n",
       "      <th>región_notificacion</th>\n",
       "      <th>region_final</th>\n",
       "      <th>TTA</th>\n",
       "      <th>file</th>\n",
       "    </tr>\n",
       "  </thead>\n",
       "  <tbody>\n",
       "    <tr>\n",
       "      <th>0</th>\n",
       "      <td>0</td>\n",
       "      <td>8753781</td>\n",
       "      <td>caso</td>\n",
       "      <td>2021-03-02 00:00:00</td>\n",
       "      <td>50</td>\n",
       "      <td>Coronavirus (COVID-19)</td>\n",
       "      <td>2021-03-01 00:00:00</td>\n",
       "      <td>125100</td>\n",
       "      <td>Hospital Regional (Coihaique)</td>\n",
       "      <td>11</td>\n",
       "      <td>...</td>\n",
       "      <td>t</td>\n",
       "      <td>Sin Datos</td>\n",
       "      <td>Sin Datos</td>\n",
       "      <td>Sin Datos</td>\n",
       "      <td>Sin Datos</td>\n",
       "      <td>Sin Datos</td>\n",
       "      <td>Región De Aysén del General Carlos Ibañez del ...</td>\n",
       "      <td>Región de Aysén del General Carlos Ibáñez del ...</td>\n",
       "      <td>SEREMI</td>\n",
       "      <td>marzo</td>\n",
       "    </tr>\n",
       "    <tr>\n",
       "      <th>1</th>\n",
       "      <td>1</td>\n",
       "      <td>SC9677760-11425750</td>\n",
       "      <td>contacto</td>\n",
       "      <td>2021-03-25 00:00:00</td>\n",
       "      <td>50</td>\n",
       "      <td>Coronavirus (COVID-19)</td>\n",
       "      <td>2021-03-20 00:00:00</td>\n",
       "      <td>125100</td>\n",
       "      <td>Hospital Regional (Coihaique)</td>\n",
       "      <td>11</td>\n",
       "      <td>...</td>\n",
       "      <td>t</td>\n",
       "      <td>Sin Datos</td>\n",
       "      <td>Sin Datos</td>\n",
       "      <td>Sin Datos</td>\n",
       "      <td>Sin Datos</td>\n",
       "      <td>Sin Datos</td>\n",
       "      <td>Región De Aysén del General Carlos Ibañez del ...</td>\n",
       "      <td>Región de Aysén del General Carlos Ibáñez del ...</td>\n",
       "      <td>APS</td>\n",
       "      <td>marzo</td>\n",
       "    </tr>\n",
       "    <tr>\n",
       "      <th>2</th>\n",
       "      <td>2</td>\n",
       "      <td>SC9780675-11714657</td>\n",
       "      <td>contacto</td>\n",
       "      <td>2021-03-29 00:00:00</td>\n",
       "      <td>50</td>\n",
       "      <td>Coronavirus (COVID-19)</td>\n",
       "      <td>2021-03-23 00:00:00</td>\n",
       "      <td>125010</td>\n",
       "      <td>Actividades gestionadas por la Dirección del S...</td>\n",
       "      <td>11</td>\n",
       "      <td>...</td>\n",
       "      <td>t</td>\n",
       "      <td>Sin Datos</td>\n",
       "      <td>Sin Datos</td>\n",
       "      <td>Sin Datos</td>\n",
       "      <td>Sin Datos</td>\n",
       "      <td>Sin Datos</td>\n",
       "      <td>Región De Aysén del General Carlos Ibañez del ...</td>\n",
       "      <td>Región de Aysén del General Carlos Ibáñez del ...</td>\n",
       "      <td>SEREMI</td>\n",
       "      <td>marzo</td>\n",
       "    </tr>\n",
       "    <tr>\n",
       "      <th>3</th>\n",
       "      <td>3</td>\n",
       "      <td>SC10084431-11964234</td>\n",
       "      <td>contacto</td>\n",
       "      <td>2021-03-29 00:00:00</td>\n",
       "      <td>50</td>\n",
       "      <td>Coronavirus (COVID-19)</td>\n",
       "      <td>2021-03-29 00:00:00</td>\n",
       "      <td>125010</td>\n",
       "      <td>Actividades gestionadas por la Dirección del S...</td>\n",
       "      <td>11</td>\n",
       "      <td>...</td>\n",
       "      <td>t</td>\n",
       "      <td>Sin Datos</td>\n",
       "      <td>Sin Datos</td>\n",
       "      <td>Sin Datos</td>\n",
       "      <td>Sin Datos</td>\n",
       "      <td>Sin Datos</td>\n",
       "      <td>Región De Aysén del General Carlos Ibañez del ...</td>\n",
       "      <td>Región de Aysén del General Carlos Ibáñez del ...</td>\n",
       "      <td>SEREMI</td>\n",
       "      <td>marzo</td>\n",
       "    </tr>\n",
       "    <tr>\n",
       "      <th>4</th>\n",
       "      <td>4</td>\n",
       "      <td>SC10332193-12293320</td>\n",
       "      <td>contacto</td>\n",
       "      <td>2021-04-04 00:00:00</td>\n",
       "      <td>50</td>\n",
       "      <td>Coronavirus (COVID-19)</td>\n",
       "      <td>2021-04-03 00:00:00</td>\n",
       "      <td>125404</td>\n",
       "      <td>Posta de Salud Rural Lago Verde</td>\n",
       "      <td>11</td>\n",
       "      <td>...</td>\n",
       "      <td>t</td>\n",
       "      <td>Sin Datos</td>\n",
       "      <td>Sin Datos</td>\n",
       "      <td>Sin Datos</td>\n",
       "      <td>Sin Datos</td>\n",
       "      <td>Sin Datos</td>\n",
       "      <td>Región De Aysén del General Carlos Ibañez del ...</td>\n",
       "      <td>Región de Aysén del General Carlos Ibáñez del ...</td>\n",
       "      <td>SEREMI</td>\n",
       "      <td>marzo</td>\n",
       "    </tr>\n",
       "    <tr>\n",
       "      <th>...</th>\n",
       "      <td>...</td>\n",
       "      <td>...</td>\n",
       "      <td>...</td>\n",
       "      <td>...</td>\n",
       "      <td>...</td>\n",
       "      <td>...</td>\n",
       "      <td>...</td>\n",
       "      <td>...</td>\n",
       "      <td>...</td>\n",
       "      <td>...</td>\n",
       "      <td>...</td>\n",
       "      <td>...</td>\n",
       "      <td>...</td>\n",
       "      <td>...</td>\n",
       "      <td>...</td>\n",
       "      <td>...</td>\n",
       "      <td>...</td>\n",
       "      <td>...</td>\n",
       "      <td>...</td>\n",
       "      <td>...</td>\n",
       "      <td>...</td>\n",
       "    </tr>\n",
       "    <tr>\n",
       "      <th>293816</th>\n",
       "      <td>293849</td>\n",
       "      <td>SC16034389-20188901</td>\n",
       "      <td>contacto</td>\n",
       "      <td>2021-08-25 00:00:00</td>\n",
       "      <td>50</td>\n",
       "      <td>Coronavirus (COVID-19)</td>\n",
       "      <td>2021-08-15 00:00:00</td>\n",
       "      <td>125100</td>\n",
       "      <td>Hospital Regional (Coihaique)</td>\n",
       "      <td>11</td>\n",
       "      <td>...</td>\n",
       "      <td>t</td>\n",
       "      <td>125300</td>\n",
       "      <td>Consultorio Víctor Domingo Silva</td>\n",
       "      <td>Sin Datos</td>\n",
       "      <td>Región De Aysén del General Carlos Ibañez del ...</td>\n",
       "      <td>Sin Datos</td>\n",
       "      <td>Región De Aysén del General Carlos Ibañez del ...</td>\n",
       "      <td>Región de Aysén del General Carlos Ibáñez del ...</td>\n",
       "      <td>APS</td>\n",
       "      <td>agosto</td>\n",
       "    </tr>\n",
       "    <tr>\n",
       "      <th>293817</th>\n",
       "      <td>293850</td>\n",
       "      <td>PNTM-7016056768</td>\n",
       "      <td>no notificado índice</td>\n",
       "      <td>Sin Datos</td>\n",
       "      <td>50</td>\n",
       "      <td>Coronavirus (COVID-19)</td>\n",
       "      <td>Sin Datos</td>\n",
       "      <td>Sin Datos</td>\n",
       "      <td>Sin Datos</td>\n",
       "      <td>Sin Datos</td>\n",
       "      <td>...</td>\n",
       "      <td>Sin Datos</td>\n",
       "      <td>Sin Datos</td>\n",
       "      <td>Sin Datos</td>\n",
       "      <td>Sin Datos</td>\n",
       "      <td>Sin Datos</td>\n",
       "      <td>Sin Datos</td>\n",
       "      <td>Sin Datos</td>\n",
       "      <td>Región de Aysén del General Carlos Ibáñez del ...</td>\n",
       "      <td>SEREMI</td>\n",
       "      <td>agosto</td>\n",
       "    </tr>\n",
       "    <tr>\n",
       "      <th>293818</th>\n",
       "      <td>293851</td>\n",
       "      <td>PNTM-7015472903</td>\n",
       "      <td>no notificado índice</td>\n",
       "      <td>Sin Datos</td>\n",
       "      <td>50</td>\n",
       "      <td>Coronavirus (COVID-19)</td>\n",
       "      <td>Sin Datos</td>\n",
       "      <td>Sin Datos</td>\n",
       "      <td>Sin Datos</td>\n",
       "      <td>Sin Datos</td>\n",
       "      <td>...</td>\n",
       "      <td>Sin Datos</td>\n",
       "      <td>Sin Datos</td>\n",
       "      <td>Sin Datos</td>\n",
       "      <td>Sin Datos</td>\n",
       "      <td>Sin Datos</td>\n",
       "      <td>Sin Datos</td>\n",
       "      <td>Sin Datos</td>\n",
       "      <td>Región de Aysén del General Carlos Ibáñez del ...</td>\n",
       "      <td>SEREMI</td>\n",
       "      <td>agosto</td>\n",
       "    </tr>\n",
       "    <tr>\n",
       "      <th>293819</th>\n",
       "      <td>293852</td>\n",
       "      <td>PNTM-7015314831</td>\n",
       "      <td>no notificado índice</td>\n",
       "      <td>Sin Datos</td>\n",
       "      <td>50</td>\n",
       "      <td>Coronavirus (COVID-19)</td>\n",
       "      <td>Sin Datos</td>\n",
       "      <td>Sin Datos</td>\n",
       "      <td>Sin Datos</td>\n",
       "      <td>Sin Datos</td>\n",
       "      <td>...</td>\n",
       "      <td>Sin Datos</td>\n",
       "      <td>Sin Datos</td>\n",
       "      <td>Sin Datos</td>\n",
       "      <td>Sin Datos</td>\n",
       "      <td>Sin Datos</td>\n",
       "      <td>Sin Datos</td>\n",
       "      <td>Sin Datos</td>\n",
       "      <td>Región de Aysén del General Carlos Ibáñez del ...</td>\n",
       "      <td>SEREMI</td>\n",
       "      <td>agosto</td>\n",
       "    </tr>\n",
       "    <tr>\n",
       "      <th>293820</th>\n",
       "      <td>293853</td>\n",
       "      <td>PNTM-7016230035</td>\n",
       "      <td>no notificado índice</td>\n",
       "      <td>Sin Datos</td>\n",
       "      <td>50</td>\n",
       "      <td>Coronavirus (COVID-19)</td>\n",
       "      <td>Sin Datos</td>\n",
       "      <td>Sin Datos</td>\n",
       "      <td>Sin Datos</td>\n",
       "      <td>Sin Datos</td>\n",
       "      <td>...</td>\n",
       "      <td>Sin Datos</td>\n",
       "      <td>Sin Datos</td>\n",
       "      <td>Sin Datos</td>\n",
       "      <td>Sin Datos</td>\n",
       "      <td>Sin Datos</td>\n",
       "      <td>Sin Datos</td>\n",
       "      <td>Sin Datos</td>\n",
       "      <td>Región de Aysén del General Carlos Ibáñez del ...</td>\n",
       "      <td>SEREMI</td>\n",
       "      <td>agosto</td>\n",
       "    </tr>\n",
       "  </tbody>\n",
       "</table>\n",
       "<p>293821 rows × 86 columns</p>\n",
       "</div>"
      ],
      "text/plain": [
       "        Unnamed: 0              n_folio      tipo_seguimiento  \\\n",
       "0                0              8753781                  caso   \n",
       "1                1   SC9677760-11425750              contacto   \n",
       "2                2   SC9780675-11714657              contacto   \n",
       "3                3  SC10084431-11964234              contacto   \n",
       "4                4  SC10332193-12293320              contacto   \n",
       "...            ...                  ...                   ...   \n",
       "293816      293849  SC16034389-20188901              contacto   \n",
       "293817      293850      PNTM-7016056768  no notificado índice   \n",
       "293818      293851      PNTM-7015472903  no notificado índice   \n",
       "293819      293852      PNTM-7015314831  no notificado índice   \n",
       "293820      293853      PNTM-7016230035  no notificado índice   \n",
       "\n",
       "               dia_contacto  id_enfermedad_eno              enfermedad  \\\n",
       "0       2021-03-02 00:00:00                 50  Coronavirus (COVID-19)   \n",
       "1       2021-03-25 00:00:00                 50  Coronavirus (COVID-19)   \n",
       "2       2021-03-29 00:00:00                 50  Coronavirus (COVID-19)   \n",
       "3       2021-03-29 00:00:00                 50  Coronavirus (COVID-19)   \n",
       "4       2021-04-04 00:00:00                 50  Coronavirus (COVID-19)   \n",
       "...                     ...                ...                     ...   \n",
       "293816  2021-08-25 00:00:00                 50  Coronavirus (COVID-19)   \n",
       "293817            Sin Datos                 50  Coronavirus (COVID-19)   \n",
       "293818            Sin Datos                 50  Coronavirus (COVID-19)   \n",
       "293819            Sin Datos                 50  Coronavirus (COVID-19)   \n",
       "293820            Sin Datos                 50  Coronavirus (COVID-19)   \n",
       "\n",
       "         fecha_notificacion id_institucion  \\\n",
       "0       2021-03-01 00:00:00         125100   \n",
       "1       2021-03-20 00:00:00         125100   \n",
       "2       2021-03-23 00:00:00         125010   \n",
       "3       2021-03-29 00:00:00         125010   \n",
       "4       2021-04-03 00:00:00         125404   \n",
       "...                     ...            ...   \n",
       "293816  2021-08-15 00:00:00         125100   \n",
       "293817            Sin Datos      Sin Datos   \n",
       "293818            Sin Datos      Sin Datos   \n",
       "293819            Sin Datos      Sin Datos   \n",
       "293820            Sin Datos      Sin Datos   \n",
       "\n",
       "                                nombre_institucion_indice  \\\n",
       "0                           Hospital Regional (Coihaique)   \n",
       "1                           Hospital Regional (Coihaique)   \n",
       "2       Actividades gestionadas por la Dirección del S...   \n",
       "3       Actividades gestionadas por la Dirección del S...   \n",
       "4                         Posta de Salud Rural Lago Verde   \n",
       "...                                                   ...   \n",
       "293816                      Hospital Regional (Coihaique)   \n",
       "293817                                          Sin Datos   \n",
       "293818                                          Sin Datos   \n",
       "293819                                          Sin Datos   \n",
       "293820                                          Sin Datos   \n",
       "\n",
       "       region_institucion_indice  ... cumple_aislamiento_cuarentena  \\\n",
       "0                             11  ...                             t   \n",
       "1                             11  ...                             t   \n",
       "2                             11  ...                             t   \n",
       "3                             11  ...                             t   \n",
       "4                             11  ...                             t   \n",
       "...                          ...  ...                           ...   \n",
       "293816                        11  ...                             t   \n",
       "293817                 Sin Datos  ...                     Sin Datos   \n",
       "293818                 Sin Datos  ...                     Sin Datos   \n",
       "293819                 Sin Datos  ...                     Sin Datos   \n",
       "293820                 Sin Datos  ...                     Sin Datos   \n",
       "\n",
       "       ultimo_establecimiento_derivacion  \\\n",
       "0                              Sin Datos   \n",
       "1                              Sin Datos   \n",
       "2                              Sin Datos   \n",
       "3                              Sin Datos   \n",
       "4                              Sin Datos   \n",
       "...                                  ...   \n",
       "293816                            125300   \n",
       "293817                         Sin Datos   \n",
       "293818                         Sin Datos   \n",
       "293819                         Sin Datos   \n",
       "293820                         Sin Datos   \n",
       "\n",
       "       nombre_ultimo_establecimiento_derivacion ultimo_seremi_derivacion  \\\n",
       "0                                     Sin Datos                Sin Datos   \n",
       "1                                     Sin Datos                Sin Datos   \n",
       "2                                     Sin Datos                Sin Datos   \n",
       "3                                     Sin Datos                Sin Datos   \n",
       "4                                     Sin Datos                Sin Datos   \n",
       "...                                         ...                      ...   \n",
       "293816         Consultorio Víctor Domingo Silva                Sin Datos   \n",
       "293817                                Sin Datos                Sin Datos   \n",
       "293818                                Sin Datos                Sin Datos   \n",
       "293819                                Sin Datos                Sin Datos   \n",
       "293820                                Sin Datos                Sin Datos   \n",
       "\n",
       "                                        región_derivación región_seremi  \\\n",
       "0                                               Sin Datos     Sin Datos   \n",
       "1                                               Sin Datos     Sin Datos   \n",
       "2                                               Sin Datos     Sin Datos   \n",
       "3                                               Sin Datos     Sin Datos   \n",
       "4                                               Sin Datos     Sin Datos   \n",
       "...                                                   ...           ...   \n",
       "293816  Región De Aysén del General Carlos Ibañez del ...     Sin Datos   \n",
       "293817                                          Sin Datos     Sin Datos   \n",
       "293818                                          Sin Datos     Sin Datos   \n",
       "293819                                          Sin Datos     Sin Datos   \n",
       "293820                                          Sin Datos     Sin Datos   \n",
       "\n",
       "                                      región_notificacion  \\\n",
       "0       Región De Aysén del General Carlos Ibañez del ...   \n",
       "1       Región De Aysén del General Carlos Ibañez del ...   \n",
       "2       Región De Aysén del General Carlos Ibañez del ...   \n",
       "3       Región De Aysén del General Carlos Ibañez del ...   \n",
       "4       Región De Aysén del General Carlos Ibañez del ...   \n",
       "...                                                   ...   \n",
       "293816  Región De Aysén del General Carlos Ibañez del ...   \n",
       "293817                                          Sin Datos   \n",
       "293818                                          Sin Datos   \n",
       "293819                                          Sin Datos   \n",
       "293820                                          Sin Datos   \n",
       "\n",
       "                                             region_final     TTA    file  \n",
       "0       Región de Aysén del General Carlos Ibáñez del ...  SEREMI   marzo  \n",
       "1       Región de Aysén del General Carlos Ibáñez del ...     APS   marzo  \n",
       "2       Región de Aysén del General Carlos Ibáñez del ...  SEREMI   marzo  \n",
       "3       Región de Aysén del General Carlos Ibáñez del ...  SEREMI   marzo  \n",
       "4       Región de Aysén del General Carlos Ibáñez del ...  SEREMI   marzo  \n",
       "...                                                   ...     ...     ...  \n",
       "293816  Región de Aysén del General Carlos Ibáñez del ...     APS  agosto  \n",
       "293817  Región de Aysén del General Carlos Ibáñez del ...  SEREMI  agosto  \n",
       "293818  Región de Aysén del General Carlos Ibáñez del ...  SEREMI  agosto  \n",
       "293819  Región de Aysén del General Carlos Ibáñez del ...  SEREMI  agosto  \n",
       "293820  Región de Aysén del General Carlos Ibáñez del ...  SEREMI  agosto  \n",
       "\n",
       "[293821 rows x 86 columns]"
      ]
     },
     "execution_count": 86,
     "metadata": {},
     "output_type": "execute_result"
    }
   ],
   "source": [
    "df_seguimiento"
   ]
  },
  {
   "cell_type": "code",
   "execution_count": 87,
   "id": "de0f4f44",
   "metadata": {},
   "outputs": [
    {
     "data": {
      "text/html": [
       "<div>\n",
       "<style scoped>\n",
       "    .dataframe tbody tr th:only-of-type {\n",
       "        vertical-align: middle;\n",
       "    }\n",
       "\n",
       "    .dataframe tbody tr th {\n",
       "        vertical-align: top;\n",
       "    }\n",
       "\n",
       "    .dataframe thead th {\n",
       "        text-align: right;\n",
       "    }\n",
       "</style>\n",
       "<table border=\"1\" class=\"dataframe\">\n",
       "  <thead>\n",
       "    <tr style=\"text-align: right;\">\n",
       "      <th></th>\n",
       "      <th>nfolio_caso</th>\n",
       "      <th>nfolio_caso_indice</th>\n",
       "      <th>nfolio_pntm</th>\n",
       "    </tr>\n",
       "  </thead>\n",
       "  <tbody>\n",
       "    <tr>\n",
       "      <th>0</th>\n",
       "      <td>8753781</td>\n",
       "      <td>NaN</td>\n",
       "      <td>NaN</td>\n",
       "    </tr>\n",
       "    <tr>\n",
       "      <th>1</th>\n",
       "      <td>NaN</td>\n",
       "      <td>11425750</td>\n",
       "      <td>NaN</td>\n",
       "    </tr>\n",
       "    <tr>\n",
       "      <th>2</th>\n",
       "      <td>NaN</td>\n",
       "      <td>11714657</td>\n",
       "      <td>NaN</td>\n",
       "    </tr>\n",
       "    <tr>\n",
       "      <th>3</th>\n",
       "      <td>NaN</td>\n",
       "      <td>11964234</td>\n",
       "      <td>NaN</td>\n",
       "    </tr>\n",
       "    <tr>\n",
       "      <th>4</th>\n",
       "      <td>NaN</td>\n",
       "      <td>12293320</td>\n",
       "      <td>NaN</td>\n",
       "    </tr>\n",
       "    <tr>\n",
       "      <th>...</th>\n",
       "      <td>...</td>\n",
       "      <td>...</td>\n",
       "      <td>...</td>\n",
       "    </tr>\n",
       "    <tr>\n",
       "      <th>293816</th>\n",
       "      <td>NaN</td>\n",
       "      <td>20188901</td>\n",
       "      <td>NaN</td>\n",
       "    </tr>\n",
       "    <tr>\n",
       "      <th>293817</th>\n",
       "      <td>NaN</td>\n",
       "      <td>NaN</td>\n",
       "      <td>7016056768</td>\n",
       "    </tr>\n",
       "    <tr>\n",
       "      <th>293818</th>\n",
       "      <td>NaN</td>\n",
       "      <td>NaN</td>\n",
       "      <td>7015472903</td>\n",
       "    </tr>\n",
       "    <tr>\n",
       "      <th>293819</th>\n",
       "      <td>NaN</td>\n",
       "      <td>NaN</td>\n",
       "      <td>7015314831</td>\n",
       "    </tr>\n",
       "    <tr>\n",
       "      <th>293820</th>\n",
       "      <td>NaN</td>\n",
       "      <td>NaN</td>\n",
       "      <td>7016230035</td>\n",
       "    </tr>\n",
       "  </tbody>\n",
       "</table>\n",
       "<p>293821 rows × 3 columns</p>\n",
       "</div>"
      ],
      "text/plain": [
       "       nfolio_caso nfolio_caso_indice nfolio_pntm\n",
       "0          8753781                NaN         NaN\n",
       "1              NaN           11425750         NaN\n",
       "2              NaN           11714657         NaN\n",
       "3              NaN           11964234         NaN\n",
       "4              NaN           12293320         NaN\n",
       "...            ...                ...         ...\n",
       "293816         NaN           20188901         NaN\n",
       "293817         NaN                NaN  7016056768\n",
       "293818         NaN                NaN  7015472903\n",
       "293819         NaN                NaN  7015314831\n",
       "293820         NaN                NaN  7016230035\n",
       "\n",
       "[293821 rows x 3 columns]"
      ]
     },
     "execution_count": 87,
     "metadata": {},
     "output_type": "execute_result"
    }
   ],
   "source": [
    "# Divide strings utilizando regex para extraer nfolio de casos, \n",
    "# Separa nfolio caso indice de nfolio contacto estrecho y guarda caso índice\n",
    "# Y extrae datos de PNTM\n",
    "\n",
    "df_seguimiento['n_folio'].str.extract(r'([0-9]+)|SC[0-9]+-([0-9]+)|PNTM-([0-9]+)', flags=0,expand=True).rename(columns={0:'nfolio_caso',\n",
    "                                                                                                          1:'nfolio_caso_indice',\n",
    "                                                                                                          2:'nfolio_pntm'\n",
    "                                                                                                        })"
   ]
  },
  {
   "cell_type": "code",
   "execution_count": 88,
   "id": "7ce66d17",
   "metadata": {},
   "outputs": [
    {
     "data": {
      "text/html": [
       "<div>\n",
       "<style scoped>\n",
       "    .dataframe tbody tr th:only-of-type {\n",
       "        vertical-align: middle;\n",
       "    }\n",
       "\n",
       "    .dataframe tbody tr th {\n",
       "        vertical-align: top;\n",
       "    }\n",
       "\n",
       "    .dataframe thead th {\n",
       "        text-align: right;\n",
       "    }\n",
       "</style>\n",
       "<table border=\"1\" class=\"dataframe\">\n",
       "  <thead>\n",
       "    <tr style=\"text-align: right;\">\n",
       "      <th></th>\n",
       "      <th>nfolio_contacto_estrecho</th>\n",
       "    </tr>\n",
       "  </thead>\n",
       "  <tbody>\n",
       "    <tr>\n",
       "      <th>0</th>\n",
       "      <td>NaN</td>\n",
       "    </tr>\n",
       "    <tr>\n",
       "      <th>1</th>\n",
       "      <td>9677760</td>\n",
       "    </tr>\n",
       "    <tr>\n",
       "      <th>2</th>\n",
       "      <td>9780675</td>\n",
       "    </tr>\n",
       "    <tr>\n",
       "      <th>3</th>\n",
       "      <td>10084431</td>\n",
       "    </tr>\n",
       "    <tr>\n",
       "      <th>4</th>\n",
       "      <td>10332193</td>\n",
       "    </tr>\n",
       "    <tr>\n",
       "      <th>...</th>\n",
       "      <td>...</td>\n",
       "    </tr>\n",
       "    <tr>\n",
       "      <th>293816</th>\n",
       "      <td>16034389</td>\n",
       "    </tr>\n",
       "    <tr>\n",
       "      <th>293817</th>\n",
       "      <td>NaN</td>\n",
       "    </tr>\n",
       "    <tr>\n",
       "      <th>293818</th>\n",
       "      <td>NaN</td>\n",
       "    </tr>\n",
       "    <tr>\n",
       "      <th>293819</th>\n",
       "      <td>NaN</td>\n",
       "    </tr>\n",
       "    <tr>\n",
       "      <th>293820</th>\n",
       "      <td>NaN</td>\n",
       "    </tr>\n",
       "  </tbody>\n",
       "</table>\n",
       "<p>293821 rows × 1 columns</p>\n",
       "</div>"
      ],
      "text/plain": [
       "       nfolio_contacto_estrecho\n",
       "0                           NaN\n",
       "1                       9677760\n",
       "2                       9780675\n",
       "3                      10084431\n",
       "4                      10332193\n",
       "...                         ...\n",
       "293816                 16034389\n",
       "293817                      NaN\n",
       "293818                      NaN\n",
       "293819                      NaN\n",
       "293820                      NaN\n",
       "\n",
       "[293821 rows x 1 columns]"
      ]
     },
     "execution_count": 88,
     "metadata": {},
     "output_type": "execute_result"
    }
   ],
   "source": [
    "# Separa nfolio caso índice de nfolio contacto estrecho y guarda contacto estrecho\n",
    "\n",
    "df_seguimiento['n_folio'].str.extract(r'SC([0-9]+)-', \n",
    "                                      flags=0,\n",
    "                                      expand=True).rename(\n",
    "                                      columns={0:'nfolio_contacto_estrecho'})"
   ]
  },
  {
   "cell_type": "code",
   "execution_count": 89,
   "id": "57251f44",
   "metadata": {},
   "outputs": [
    {
     "data": {
      "text/html": [
       "<div>\n",
       "<style scoped>\n",
       "    .dataframe tbody tr th:only-of-type {\n",
       "        vertical-align: middle;\n",
       "    }\n",
       "\n",
       "    .dataframe tbody tr th {\n",
       "        vertical-align: top;\n",
       "    }\n",
       "\n",
       "    .dataframe thead th {\n",
       "        text-align: right;\n",
       "    }\n",
       "</style>\n",
       "<table border=\"1\" class=\"dataframe\">\n",
       "  <thead>\n",
       "    <tr style=\"text-align: right;\">\n",
       "      <th></th>\n",
       "      <th>Unnamed: 0</th>\n",
       "      <th>n_folio</th>\n",
       "      <th>tipo_seguimiento</th>\n",
       "      <th>dia_contacto</th>\n",
       "      <th>id_enfermedad_eno</th>\n",
       "      <th>enfermedad</th>\n",
       "      <th>fecha_notificacion</th>\n",
       "      <th>id_institucion</th>\n",
       "      <th>nombre_institucion_indice</th>\n",
       "      <th>region_institucion_indice</th>\n",
       "      <th>...</th>\n",
       "      <th>región_derivación</th>\n",
       "      <th>región_seremi</th>\n",
       "      <th>región_notificacion</th>\n",
       "      <th>region_final</th>\n",
       "      <th>TTA</th>\n",
       "      <th>file</th>\n",
       "      <th>nfolio_caso</th>\n",
       "      <th>nfolio_caso_indice</th>\n",
       "      <th>nfolio_pntm</th>\n",
       "      <th>nfolio_contacto_estrecho</th>\n",
       "    </tr>\n",
       "  </thead>\n",
       "  <tbody>\n",
       "    <tr>\n",
       "      <th>31444</th>\n",
       "      <td>31448</td>\n",
       "      <td>SC11561138-14074553</td>\n",
       "      <td>contacto</td>\n",
       "      <td>2021-04-28 00:00:00</td>\n",
       "      <td>50</td>\n",
       "      <td>Coronavirus (COVID-19)</td>\n",
       "      <td>2021-04-28 00:00:00</td>\n",
       "      <td>125442</td>\n",
       "      <td>Centro de Salud Familiar La Junta</td>\n",
       "      <td>11</td>\n",
       "      <td>...</td>\n",
       "      <td>Sin Datos</td>\n",
       "      <td>Sin Datos</td>\n",
       "      <td>Región De Aysén del General Carlos Ibañez del ...</td>\n",
       "      <td>Región de Aysén del General Carlos Ibáñez del ...</td>\n",
       "      <td>SEREMI</td>\n",
       "      <td>marzo</td>\n",
       "      <td>NaN</td>\n",
       "      <td>14074553</td>\n",
       "      <td>NaN</td>\n",
       "      <td>11561138</td>\n",
       "    </tr>\n",
       "    <tr>\n",
       "      <th>212844</th>\n",
       "      <td>212871</td>\n",
       "      <td>12935653</td>\n",
       "      <td>caso</td>\n",
       "      <td>2021-06-01 00:00:00</td>\n",
       "      <td>50</td>\n",
       "      <td>Coronavirus (COVID-19)</td>\n",
       "      <td>2021-05-29 00:00:00</td>\n",
       "      <td>125101</td>\n",
       "      <td>Hospital de Puerto Aysén</td>\n",
       "      <td>11</td>\n",
       "      <td>...</td>\n",
       "      <td>Sin Datos</td>\n",
       "      <td>Sin Datos</td>\n",
       "      <td>Región De Aysén del General Carlos Ibañez del ...</td>\n",
       "      <td>Región de Aysén del General Carlos Ibáñez del ...</td>\n",
       "      <td>APS</td>\n",
       "      <td>junio</td>\n",
       "      <td>12935653</td>\n",
       "      <td>NaN</td>\n",
       "      <td>NaN</td>\n",
       "      <td>NaN</td>\n",
       "    </tr>\n",
       "    <tr>\n",
       "      <th>239490</th>\n",
       "      <td>239519</td>\n",
       "      <td>14961657</td>\n",
       "      <td>caso</td>\n",
       "      <td>Sin Datos</td>\n",
       "      <td>50</td>\n",
       "      <td>Coronavirus (COVID-19)</td>\n",
       "      <td>2021-07-14 00:00:00</td>\n",
       "      <td>11</td>\n",
       "      <td>Ejercicio libre de la profesión XI región</td>\n",
       "      <td>11</td>\n",
       "      <td>...</td>\n",
       "      <td>Sin Datos</td>\n",
       "      <td>Sin Datos</td>\n",
       "      <td>Sin Datos</td>\n",
       "      <td>Región de Aysén del General Carlos Ibáñez del ...</td>\n",
       "      <td>SEREMI</td>\n",
       "      <td>julio</td>\n",
       "      <td>14961657</td>\n",
       "      <td>NaN</td>\n",
       "      <td>NaN</td>\n",
       "      <td>NaN</td>\n",
       "    </tr>\n",
       "  </tbody>\n",
       "</table>\n",
       "<p>3 rows × 90 columns</p>\n",
       "</div>"
      ],
      "text/plain": [
       "        Unnamed: 0              n_folio tipo_seguimiento         dia_contacto  \\\n",
       "31444        31448  SC11561138-14074553         contacto  2021-04-28 00:00:00   \n",
       "212844      212871             12935653             caso  2021-06-01 00:00:00   \n",
       "239490      239519             14961657             caso            Sin Datos   \n",
       "\n",
       "        id_enfermedad_eno              enfermedad   fecha_notificacion  \\\n",
       "31444                  50  Coronavirus (COVID-19)  2021-04-28 00:00:00   \n",
       "212844                 50  Coronavirus (COVID-19)  2021-05-29 00:00:00   \n",
       "239490                 50  Coronavirus (COVID-19)  2021-07-14 00:00:00   \n",
       "\n",
       "       id_institucion                  nombre_institucion_indice  \\\n",
       "31444          125442          Centro de Salud Familiar La Junta   \n",
       "212844         125101                   Hospital de Puerto Aysén   \n",
       "239490             11  Ejercicio libre de la profesión XI región   \n",
       "\n",
       "       region_institucion_indice  ... región_derivación región_seremi  \\\n",
       "31444                         11  ...         Sin Datos     Sin Datos   \n",
       "212844                        11  ...         Sin Datos     Sin Datos   \n",
       "239490                        11  ...         Sin Datos     Sin Datos   \n",
       "\n",
       "                                      región_notificacion  \\\n",
       "31444   Región De Aysén del General Carlos Ibañez del ...   \n",
       "212844  Región De Aysén del General Carlos Ibañez del ...   \n",
       "239490                                          Sin Datos   \n",
       "\n",
       "                                             region_final     TTA   file  \\\n",
       "31444   Región de Aysén del General Carlos Ibáñez del ...  SEREMI  marzo   \n",
       "212844  Región de Aysén del General Carlos Ibáñez del ...     APS  junio   \n",
       "239490  Región de Aysén del General Carlos Ibáñez del ...  SEREMI  julio   \n",
       "\n",
       "       nfolio_caso nfolio_caso_indice nfolio_pntm nfolio_contacto_estrecho  \n",
       "31444          NaN           14074553         NaN                 11561138  \n",
       "212844    12935653                NaN         NaN                      NaN  \n",
       "239490    14961657                NaN         NaN                      NaN  \n",
       "\n",
       "[3 rows x 90 columns]"
      ]
     },
     "execution_count": 89,
     "metadata": {},
     "output_type": "execute_result"
    }
   ],
   "source": [
    "# Realiza merge con DF original utilizando index de importación\n",
    "df_seguimiento_merged = df_seguimiento.merge(df_seguimiento['n_folio'].str.extract(\n",
    "                                                 r'([0-9]+)|SC[0-9]+-([0-9]+)|PNTM-([0-9]+)', \n",
    "                                                 flags=0,\n",
    "                                                 expand=True).rename(\n",
    "                                                 columns={0:'nfolio_caso',\n",
    "                                                          1:'nfolio_caso_indice',\n",
    "                                                          2:'nfolio_pntm'}), \n",
    "                                             how='left',\n",
    "                                             left_index= True,\n",
    "                                             right_index=True\n",
    "                                      ).merge(df_seguimiento['n_folio'].str.extract(\n",
    "                                                                 r'SC([0-9]+)-', \n",
    "                                                                 flags=0,\n",
    "                                                                 expand=True).rename(\n",
    "                                                                 columns={0:'nfolio_contacto_estrecho'}), \n",
    "                                                                 how='left',\n",
    "                                                                 left_index= True,\n",
    "                                                                 right_index=True\n",
    "                                      )\n",
    "\n",
    "df_seguimiento_merged.sample(3)"
   ]
  },
  {
   "cell_type": "code",
   "execution_count": 90,
   "id": "5ddbf1da",
   "metadata": {},
   "outputs": [
    {
     "data": {
      "text/html": [
       "<div>\n",
       "<style scoped>\n",
       "    .dataframe tbody tr th:only-of-type {\n",
       "        vertical-align: middle;\n",
       "    }\n",
       "\n",
       "    .dataframe tbody tr th {\n",
       "        vertical-align: top;\n",
       "    }\n",
       "\n",
       "    .dataframe thead th {\n",
       "        text-align: right;\n",
       "    }\n",
       "</style>\n",
       "<table border=\"1\" class=\"dataframe\">\n",
       "  <thead>\n",
       "    <tr style=\"text-align: right;\">\n",
       "      <th></th>\n",
       "      <th>Unnamed: 0</th>\n",
       "      <th>n_folio</th>\n",
       "      <th>tipo_seguimiento</th>\n",
       "      <th>dia_contacto</th>\n",
       "      <th>id_enfermedad_eno</th>\n",
       "      <th>enfermedad</th>\n",
       "      <th>fecha_notificacion</th>\n",
       "      <th>id_institucion</th>\n",
       "      <th>nombre_institucion_indice</th>\n",
       "      <th>region_institucion_indice</th>\n",
       "      <th>...</th>\n",
       "      <th>región_derivación</th>\n",
       "      <th>región_seremi</th>\n",
       "      <th>región_notificacion</th>\n",
       "      <th>region_final</th>\n",
       "      <th>TTA</th>\n",
       "      <th>file</th>\n",
       "      <th>nfolio_caso</th>\n",
       "      <th>nfolio_caso_indice</th>\n",
       "      <th>nfolio_pntm</th>\n",
       "      <th>nfolio_contacto_estrecho</th>\n",
       "    </tr>\n",
       "  </thead>\n",
       "  <tbody>\n",
       "    <tr>\n",
       "      <th>0</th>\n",
       "      <td>0</td>\n",
       "      <td>8753781</td>\n",
       "      <td>caso</td>\n",
       "      <td>2021-03-02 00:00:00</td>\n",
       "      <td>50</td>\n",
       "      <td>Coronavirus (COVID-19)</td>\n",
       "      <td>2021-03-01 00:00:00</td>\n",
       "      <td>125100</td>\n",
       "      <td>Hospital Regional (Coihaique)</td>\n",
       "      <td>11</td>\n",
       "      <td>...</td>\n",
       "      <td>Sin Datos</td>\n",
       "      <td>Sin Datos</td>\n",
       "      <td>Región De Aysén del General Carlos Ibañez del ...</td>\n",
       "      <td>Región de Aysén del General Carlos Ibáñez del ...</td>\n",
       "      <td>SEREMI</td>\n",
       "      <td>marzo</td>\n",
       "      <td>8753781</td>\n",
       "      <td>NaN</td>\n",
       "      <td>NaN</td>\n",
       "      <td>NaN</td>\n",
       "    </tr>\n",
       "    <tr>\n",
       "      <th>1</th>\n",
       "      <td>1</td>\n",
       "      <td>SC9677760-11425750</td>\n",
       "      <td>contacto</td>\n",
       "      <td>2021-03-25 00:00:00</td>\n",
       "      <td>50</td>\n",
       "      <td>Coronavirus (COVID-19)</td>\n",
       "      <td>2021-03-20 00:00:00</td>\n",
       "      <td>125100</td>\n",
       "      <td>Hospital Regional (Coihaique)</td>\n",
       "      <td>11</td>\n",
       "      <td>...</td>\n",
       "      <td>Sin Datos</td>\n",
       "      <td>Sin Datos</td>\n",
       "      <td>Región De Aysén del General Carlos Ibañez del ...</td>\n",
       "      <td>Región de Aysén del General Carlos Ibáñez del ...</td>\n",
       "      <td>APS</td>\n",
       "      <td>marzo</td>\n",
       "      <td>NaN</td>\n",
       "      <td>11425750</td>\n",
       "      <td>NaN</td>\n",
       "      <td>9677760</td>\n",
       "    </tr>\n",
       "    <tr>\n",
       "      <th>2</th>\n",
       "      <td>2</td>\n",
       "      <td>SC9780675-11714657</td>\n",
       "      <td>contacto</td>\n",
       "      <td>2021-03-29 00:00:00</td>\n",
       "      <td>50</td>\n",
       "      <td>Coronavirus (COVID-19)</td>\n",
       "      <td>2021-03-23 00:00:00</td>\n",
       "      <td>125010</td>\n",
       "      <td>Actividades gestionadas por la Dirección del S...</td>\n",
       "      <td>11</td>\n",
       "      <td>...</td>\n",
       "      <td>Sin Datos</td>\n",
       "      <td>Sin Datos</td>\n",
       "      <td>Región De Aysén del General Carlos Ibañez del ...</td>\n",
       "      <td>Región de Aysén del General Carlos Ibáñez del ...</td>\n",
       "      <td>SEREMI</td>\n",
       "      <td>marzo</td>\n",
       "      <td>NaN</td>\n",
       "      <td>11714657</td>\n",
       "      <td>NaN</td>\n",
       "      <td>9780675</td>\n",
       "    </tr>\n",
       "    <tr>\n",
       "      <th>3</th>\n",
       "      <td>3</td>\n",
       "      <td>SC10084431-11964234</td>\n",
       "      <td>contacto</td>\n",
       "      <td>2021-03-29 00:00:00</td>\n",
       "      <td>50</td>\n",
       "      <td>Coronavirus (COVID-19)</td>\n",
       "      <td>2021-03-29 00:00:00</td>\n",
       "      <td>125010</td>\n",
       "      <td>Actividades gestionadas por la Dirección del S...</td>\n",
       "      <td>11</td>\n",
       "      <td>...</td>\n",
       "      <td>Sin Datos</td>\n",
       "      <td>Sin Datos</td>\n",
       "      <td>Región De Aysén del General Carlos Ibañez del ...</td>\n",
       "      <td>Región de Aysén del General Carlos Ibáñez del ...</td>\n",
       "      <td>SEREMI</td>\n",
       "      <td>marzo</td>\n",
       "      <td>NaN</td>\n",
       "      <td>11964234</td>\n",
       "      <td>NaN</td>\n",
       "      <td>10084431</td>\n",
       "    </tr>\n",
       "    <tr>\n",
       "      <th>4</th>\n",
       "      <td>4</td>\n",
       "      <td>SC10332193-12293320</td>\n",
       "      <td>contacto</td>\n",
       "      <td>2021-04-04 00:00:00</td>\n",
       "      <td>50</td>\n",
       "      <td>Coronavirus (COVID-19)</td>\n",
       "      <td>2021-04-03 00:00:00</td>\n",
       "      <td>125404</td>\n",
       "      <td>Posta de Salud Rural Lago Verde</td>\n",
       "      <td>11</td>\n",
       "      <td>...</td>\n",
       "      <td>Sin Datos</td>\n",
       "      <td>Sin Datos</td>\n",
       "      <td>Región De Aysén del General Carlos Ibañez del ...</td>\n",
       "      <td>Región de Aysén del General Carlos Ibáñez del ...</td>\n",
       "      <td>SEREMI</td>\n",
       "      <td>marzo</td>\n",
       "      <td>NaN</td>\n",
       "      <td>12293320</td>\n",
       "      <td>NaN</td>\n",
       "      <td>10332193</td>\n",
       "    </tr>\n",
       "  </tbody>\n",
       "</table>\n",
       "<p>5 rows × 90 columns</p>\n",
       "</div>"
      ],
      "text/plain": [
       "   Unnamed: 0              n_folio tipo_seguimiento         dia_contacto  \\\n",
       "0           0              8753781             caso  2021-03-02 00:00:00   \n",
       "1           1   SC9677760-11425750         contacto  2021-03-25 00:00:00   \n",
       "2           2   SC9780675-11714657         contacto  2021-03-29 00:00:00   \n",
       "3           3  SC10084431-11964234         contacto  2021-03-29 00:00:00   \n",
       "4           4  SC10332193-12293320         contacto  2021-04-04 00:00:00   \n",
       "\n",
       "   id_enfermedad_eno              enfermedad   fecha_notificacion  \\\n",
       "0                 50  Coronavirus (COVID-19)  2021-03-01 00:00:00   \n",
       "1                 50  Coronavirus (COVID-19)  2021-03-20 00:00:00   \n",
       "2                 50  Coronavirus (COVID-19)  2021-03-23 00:00:00   \n",
       "3                 50  Coronavirus (COVID-19)  2021-03-29 00:00:00   \n",
       "4                 50  Coronavirus (COVID-19)  2021-04-03 00:00:00   \n",
       "\n",
       "  id_institucion                          nombre_institucion_indice  \\\n",
       "0         125100                      Hospital Regional (Coihaique)   \n",
       "1         125100                      Hospital Regional (Coihaique)   \n",
       "2         125010  Actividades gestionadas por la Dirección del S...   \n",
       "3         125010  Actividades gestionadas por la Dirección del S...   \n",
       "4         125404                    Posta de Salud Rural Lago Verde   \n",
       "\n",
       "  region_institucion_indice  ... región_derivación región_seremi  \\\n",
       "0                        11  ...         Sin Datos     Sin Datos   \n",
       "1                        11  ...         Sin Datos     Sin Datos   \n",
       "2                        11  ...         Sin Datos     Sin Datos   \n",
       "3                        11  ...         Sin Datos     Sin Datos   \n",
       "4                        11  ...         Sin Datos     Sin Datos   \n",
       "\n",
       "                                 región_notificacion  \\\n",
       "0  Región De Aysén del General Carlos Ibañez del ...   \n",
       "1  Región De Aysén del General Carlos Ibañez del ...   \n",
       "2  Región De Aysén del General Carlos Ibañez del ...   \n",
       "3  Región De Aysén del General Carlos Ibañez del ...   \n",
       "4  Región De Aysén del General Carlos Ibañez del ...   \n",
       "\n",
       "                                        region_final     TTA   file  \\\n",
       "0  Región de Aysén del General Carlos Ibáñez del ...  SEREMI  marzo   \n",
       "1  Región de Aysén del General Carlos Ibáñez del ...     APS  marzo   \n",
       "2  Región de Aysén del General Carlos Ibáñez del ...  SEREMI  marzo   \n",
       "3  Región de Aysén del General Carlos Ibáñez del ...  SEREMI  marzo   \n",
       "4  Región de Aysén del General Carlos Ibáñez del ...  SEREMI  marzo   \n",
       "\n",
       "  nfolio_caso nfolio_caso_indice nfolio_pntm nfolio_contacto_estrecho  \n",
       "0     8753781                NaN         NaN                      NaN  \n",
       "1         NaN           11425750         NaN                  9677760  \n",
       "2         NaN           11714657         NaN                  9780675  \n",
       "3         NaN           11964234         NaN                 10084431  \n",
       "4         NaN           12293320         NaN                 10332193  \n",
       "\n",
       "[5 rows x 90 columns]"
      ]
     },
     "execution_count": 90,
     "metadata": {},
     "output_type": "execute_result"
    }
   ],
   "source": [
    "df_seguimiento_merged.head()"
   ]
  },
  {
   "cell_type": "code",
   "execution_count": 91,
   "id": "603a30be",
   "metadata": {},
   "outputs": [
    {
     "data": {
      "text/html": [
       "<div>\n",
       "<style scoped>\n",
       "    .dataframe tbody tr th:only-of-type {\n",
       "        vertical-align: middle;\n",
       "    }\n",
       "\n",
       "    .dataframe tbody tr th {\n",
       "        vertical-align: top;\n",
       "    }\n",
       "\n",
       "    .dataframe thead th {\n",
       "        text-align: right;\n",
       "    }\n",
       "</style>\n",
       "<table border=\"1\" class=\"dataframe\">\n",
       "  <thead>\n",
       "    <tr style=\"text-align: right;\">\n",
       "      <th></th>\n",
       "      <th>numero_folio</th>\n",
       "      <th>comuna_residencia</th>\n",
       "      <th>fecha_notificacion</th>\n",
       "      <th>semana_epidemiologica</th>\n",
       "      <th>etapa_clinica</th>\n",
       "      <th>tipo_caso_busqueda</th>\n",
       "      <th>establecimiento_salud</th>\n",
       "      <th>resultado_pcr_1</th>\n",
       "      <th>resultado_pcr_2</th>\n",
       "      <th>resultado_pcr_3</th>\n",
       "      <th>...</th>\n",
       "      <th>caso_cerrado</th>\n",
       "      <th>fecha_primeros_sintomas</th>\n",
       "      <th>fecha_diagnostico</th>\n",
       "      <th>comuna_seremi_xi</th>\n",
       "      <th>provincia_seremi_xi</th>\n",
       "      <th>sexo</th>\n",
       "      <th>edad</th>\n",
       "      <th>pop_hombres</th>\n",
       "      <th>pop_mujeres</th>\n",
       "      <th>pop_total</th>\n",
       "    </tr>\n",
       "  </thead>\n",
       "  <tbody>\n",
       "    <tr>\n",
       "      <th>145734</th>\n",
       "      <td>14832232</td>\n",
       "      <td>Coyhaique</td>\n",
       "      <td>2021-07-11</td>\n",
       "      <td>28</td>\n",
       "      <td>CONFIRMADA</td>\n",
       "      <td>Atención médica</td>\n",
       "      <td>Hospital Regional (Coihaique)</td>\n",
       "      <td>NEGATIVO</td>\n",
       "      <td>POSITIVO</td>\n",
       "      <td>POSITIVO</td>\n",
       "      <td>...</td>\n",
       "      <td>f</td>\n",
       "      <td>2021-07-09</td>\n",
       "      <td>2021-07-12</td>\n",
       "      <td>Coyhaique</td>\n",
       "      <td>Coyhaique</td>\n",
       "      <td>mujer</td>\n",
       "      <td>47</td>\n",
       "      <td>28763.0</td>\n",
       "      <td>29055.0</td>\n",
       "      <td>57818.0</td>\n",
       "    </tr>\n",
       "  </tbody>\n",
       "</table>\n",
       "<p>1 rows × 34 columns</p>\n",
       "</div>"
      ],
      "text/plain": [
       "        numero_folio comuna_residencia fecha_notificacion  \\\n",
       "145734      14832232         Coyhaique         2021-07-11   \n",
       "\n",
       "        semana_epidemiologica etapa_clinica tipo_caso_busqueda  \\\n",
       "145734                     28    CONFIRMADA    Atención médica   \n",
       "\n",
       "                establecimiento_salud resultado_pcr_1 resultado_pcr_2  \\\n",
       "145734  Hospital Regional (Coihaique)        NEGATIVO        POSITIVO   \n",
       "\n",
       "       resultado_pcr_3  ... caso_cerrado fecha_primeros_sintomas  \\\n",
       "145734        POSITIVO  ...            f              2021-07-09   \n",
       "\n",
       "       fecha_diagnostico comuna_seremi_xi provincia_seremi_xi   sexo edad  \\\n",
       "145734        2021-07-12        Coyhaique           Coyhaique  mujer   47   \n",
       "\n",
       "       pop_hombres pop_mujeres pop_total  \n",
       "145734     28763.0     29055.0   57818.0  \n",
       "\n",
       "[1 rows x 34 columns]"
      ]
     },
     "execution_count": 91,
     "metadata": {},
     "output_type": "execute_result"
    }
   ],
   "source": [
    "# Revisa folio en DB de notificaciones\n",
    "\n",
    "data_aysen_clean[data_aysen_clean['numero_folio']==14832232]"
   ]
  },
  {
   "cell_type": "code",
   "execution_count": 92,
   "id": "711d55d2",
   "metadata": {},
   "outputs": [
    {
     "data": {
      "text/html": [
       "<div>\n",
       "<style scoped>\n",
       "    .dataframe tbody tr th:only-of-type {\n",
       "        vertical-align: middle;\n",
       "    }\n",
       "\n",
       "    .dataframe tbody tr th {\n",
       "        vertical-align: top;\n",
       "    }\n",
       "\n",
       "    .dataframe thead th {\n",
       "        text-align: right;\n",
       "    }\n",
       "</style>\n",
       "<table border=\"1\" class=\"dataframe\">\n",
       "  <thead>\n",
       "    <tr style=\"text-align: right;\">\n",
       "      <th></th>\n",
       "      <th>Unnamed: 0</th>\n",
       "      <th>n_folio</th>\n",
       "      <th>tipo_seguimiento</th>\n",
       "      <th>dia_contacto</th>\n",
       "      <th>id_enfermedad_eno</th>\n",
       "      <th>enfermedad</th>\n",
       "      <th>fecha_notificacion</th>\n",
       "      <th>id_institucion</th>\n",
       "      <th>nombre_institucion_indice</th>\n",
       "      <th>region_institucion_indice</th>\n",
       "      <th>...</th>\n",
       "      <th>región_derivación</th>\n",
       "      <th>región_seremi</th>\n",
       "      <th>región_notificacion</th>\n",
       "      <th>region_final</th>\n",
       "      <th>TTA</th>\n",
       "      <th>file</th>\n",
       "      <th>nfolio_caso</th>\n",
       "      <th>nfolio_caso_indice</th>\n",
       "      <th>nfolio_pntm</th>\n",
       "      <th>nfolio_contacto_estrecho</th>\n",
       "    </tr>\n",
       "  </thead>\n",
       "  <tbody>\n",
       "  </tbody>\n",
       "</table>\n",
       "<p>0 rows × 90 columns</p>\n",
       "</div>"
      ],
      "text/plain": [
       "Empty DataFrame\n",
       "Columns: [Unnamed: 0, n_folio, tipo_seguimiento, dia_contacto, id_enfermedad_eno, enfermedad, fecha_notificacion, id_institucion, nombre_institucion_indice, region_institucion_indice, nombre_region_institucion_indice, institucion_contacto, nombre_institucion_seguimiento, region, id_region, run_profesional, nombre_profesional, identificacion_paciente, n_identificacion_paciente, nombre_paciente, primer_apellido_paciente, fecha_cumple_requisitos, cont_tipo_identificacion, cont_n_identificacion, cont_nombres, cont_primer_apellido, cont_segundo_apellido, cont_sexo, cont_fecha_nacimiento, cont_edad, cont_tipo_direccion, cont_tipo_institucion, cont_via_residencia, cont_direccions, cont_n_residencia, cont_dpto, cont_poblacion, cont_region, cont_comuna, cont_n_telefono, cont_n_celular, cont_correo_electronico, cont_fecha_seguimiento, cont_tipo_contacto, cont_parentesco, cont_otra_relacion, empresa, institucion, cont_tipo_transporte, cont_nombre_vuelo, cont_fecha_llegada, detalle_pasajero, cont_inicio_cuarentena, cont_fin_cuarentena, cont_requiere_licencia_medica, cont_se_emite_licencia, cont_fecha_licencia, cont_rut_profesional_entrega_licencia, requiere_canasta_alimentos, cantidad_personas_vivienda, cont_estado_seguimiento, cont_observacion_seguimiento_contactos, fecha_creacion, tipo_del_contacto, contacto_localizado, nombre_usuario_responsable, rut_usuario_responsable, derivacion_toma_muestra, fecha_derivacion_toma_muestra, derivacion_a_su, tiene_resultado_covid, observacion_seguimiento_contactos, visible_no_eliminado, sintomas, suspendido, folio_se_convierte_en_caso, cumple_aislamiento_cuarentena, ultimo_establecimiento_derivacion, nombre_ultimo_establecimiento_derivacion, ultimo_seremi_derivacion, región_derivación, región_seremi, región_notificacion, region_final, TTA, file, nfolio_caso, nfolio_caso_indice, nfolio_pntm, nfolio_contacto_estrecho]\n",
       "Index: []\n",
       "\n",
       "[0 rows x 90 columns]"
      ]
     },
     "execution_count": 92,
     "metadata": {},
     "output_type": "execute_result"
    }
   ],
   "source": [
    "# Todos los datos poseen un folio \n",
    "\n",
    "df_seguimiento_merged[df_seguimiento_merged['n_folio'].isnull()]"
   ]
  },
  {
   "cell_type": "code",
   "execution_count": 93,
   "id": "715ff30b",
   "metadata": {},
   "outputs": [
    {
     "data": {
      "text/plain": [
       "Index(['Unnamed: 0', 'n_folio', 'tipo_seguimiento', 'dia_contacto',\n",
       "       'id_enfermedad_eno', 'enfermedad', 'fecha_notificacion',\n",
       "       'id_institucion', 'nombre_institucion_indice',\n",
       "       'region_institucion_indice', 'nombre_region_institucion_indice',\n",
       "       'institucion_contacto', 'nombre_institucion_seguimiento', 'region',\n",
       "       'id_region', 'run_profesional', 'nombre_profesional',\n",
       "       'identificacion_paciente', 'n_identificacion_paciente',\n",
       "       'nombre_paciente', 'primer_apellido_paciente',\n",
       "       'fecha_cumple_requisitos', 'cont_tipo_identificacion',\n",
       "       'cont_n_identificacion', 'cont_nombres', 'cont_primer_apellido',\n",
       "       'cont_segundo_apellido', 'cont_sexo', 'cont_fecha_nacimiento',\n",
       "       'cont_edad', 'cont_tipo_direccion', 'cont_tipo_institucion',\n",
       "       'cont_via_residencia', 'cont_direccions', 'cont_n_residencia',\n",
       "       'cont_dpto', 'cont_poblacion', 'cont_region', 'cont_comuna',\n",
       "       'cont_n_telefono', 'cont_n_celular', 'cont_correo_electronico',\n",
       "       'cont_fecha_seguimiento', 'cont_tipo_contacto', 'cont_parentesco',\n",
       "       'cont_otra_relacion', 'empresa', 'institucion', 'cont_tipo_transporte',\n",
       "       'cont_nombre_vuelo', 'cont_fecha_llegada', 'detalle_pasajero',\n",
       "       'cont_inicio_cuarentena', 'cont_fin_cuarentena',\n",
       "       'cont_requiere_licencia_medica', 'cont_se_emite_licencia',\n",
       "       'cont_fecha_licencia', 'cont_rut_profesional_entrega_licencia',\n",
       "       'requiere_canasta_alimentos', 'cantidad_personas_vivienda',\n",
       "       'cont_estado_seguimiento', 'cont_observacion_seguimiento_contactos',\n",
       "       'fecha_creacion', 'tipo_del_contacto', 'contacto_localizado',\n",
       "       'nombre_usuario_responsable', 'rut_usuario_responsable',\n",
       "       'derivacion_toma_muestra', 'fecha_derivacion_toma_muestra',\n",
       "       'derivacion_a_su', 'tiene_resultado_covid',\n",
       "       'observacion_seguimiento_contactos', 'visible_no_eliminado', 'sintomas',\n",
       "       'suspendido', 'folio_se_convierte_en_caso',\n",
       "       'cumple_aislamiento_cuarentena', 'ultimo_establecimiento_derivacion',\n",
       "       'nombre_ultimo_establecimiento_derivacion', 'ultimo_seremi_derivacion',\n",
       "       'región_derivación', 'región_seremi', 'región_notificacion',\n",
       "       'region_final', 'TTA', 'file', 'nfolio_caso', 'nfolio_caso_indice',\n",
       "       'nfolio_pntm', 'nfolio_contacto_estrecho'],\n",
       "      dtype='object')"
      ]
     },
     "execution_count": 93,
     "metadata": {},
     "output_type": "execute_result"
    }
   ],
   "source": [
    "df_seguimiento_merged.columns"
   ]
  },
  {
   "cell_type": "code",
   "execution_count": 94,
   "id": "93a8009c",
   "metadata": {},
   "outputs": [
    {
     "data": {
      "text/html": [
       "<div>\n",
       "<style scoped>\n",
       "    .dataframe tbody tr th:only-of-type {\n",
       "        vertical-align: middle;\n",
       "    }\n",
       "\n",
       "    .dataframe tbody tr th {\n",
       "        vertical-align: top;\n",
       "    }\n",
       "\n",
       "    .dataframe thead th {\n",
       "        text-align: right;\n",
       "    }\n",
       "</style>\n",
       "<table border=\"1\" class=\"dataframe\">\n",
       "  <thead>\n",
       "    <tr style=\"text-align: right;\">\n",
       "      <th></th>\n",
       "      <th>0</th>\n",
       "      <th>1</th>\n",
       "      <th>2</th>\n",
       "      <th>3</th>\n",
       "      <th>4</th>\n",
       "      <th>5</th>\n",
       "      <th>6</th>\n",
       "      <th>7</th>\n",
       "      <th>8</th>\n",
       "      <th>9</th>\n",
       "      <th>...</th>\n",
       "      <th>80</th>\n",
       "      <th>81</th>\n",
       "      <th>82</th>\n",
       "      <th>83</th>\n",
       "      <th>84</th>\n",
       "      <th>85</th>\n",
       "      <th>86</th>\n",
       "      <th>87</th>\n",
       "      <th>88</th>\n",
       "      <th>89</th>\n",
       "    </tr>\n",
       "  </thead>\n",
       "  <tbody>\n",
       "    <tr>\n",
       "      <th>variables_seguimiento</th>\n",
       "      <td>Unnamed: 0</td>\n",
       "      <td>n_folio</td>\n",
       "      <td>tipo_seguimiento</td>\n",
       "      <td>dia_contacto</td>\n",
       "      <td>id_enfermedad_eno</td>\n",
       "      <td>enfermedad</td>\n",
       "      <td>fecha_notificacion</td>\n",
       "      <td>id_institucion</td>\n",
       "      <td>nombre_institucion_indice</td>\n",
       "      <td>region_institucion_indice</td>\n",
       "      <td>...</td>\n",
       "      <td>región_derivación</td>\n",
       "      <td>región_seremi</td>\n",
       "      <td>región_notificacion</td>\n",
       "      <td>region_final</td>\n",
       "      <td>TTA</td>\n",
       "      <td>file</td>\n",
       "      <td>nfolio_caso</td>\n",
       "      <td>nfolio_caso_indice</td>\n",
       "      <td>nfolio_pntm</td>\n",
       "      <td>nfolio_contacto_estrecho</td>\n",
       "    </tr>\n",
       "  </tbody>\n",
       "</table>\n",
       "<p>1 rows × 90 columns</p>\n",
       "</div>"
      ],
      "text/plain": [
       "                               0        1                 2             3   \\\n",
       "variables_seguimiento  Unnamed: 0  n_folio  tipo_seguimiento  dia_contacto   \n",
       "\n",
       "                                      4           5                   6   \\\n",
       "variables_seguimiento  id_enfermedad_eno  enfermedad  fecha_notificacion   \n",
       "\n",
       "                                   7                          8   \\\n",
       "variables_seguimiento  id_institucion  nombre_institucion_indice   \n",
       "\n",
       "                                              9   ...                 80  \\\n",
       "variables_seguimiento  region_institucion_indice  ...  región_derivación   \n",
       "\n",
       "                                  81                   82            83   84  \\\n",
       "variables_seguimiento  región_seremi  región_notificacion  region_final  TTA   \n",
       "\n",
       "                         85           86                  87           88  \\\n",
       "variables_seguimiento  file  nfolio_caso  nfolio_caso_indice  nfolio_pntm   \n",
       "\n",
       "                                             89  \n",
       "variables_seguimiento  nfolio_contacto_estrecho  \n",
       "\n",
       "[1 rows x 90 columns]"
      ]
     },
     "execution_count": 94,
     "metadata": {},
     "output_type": "execute_result"
    }
   ],
   "source": [
    "pd.DataFrame(df_seguimiento_merged.columns).rename(columns={0:'variables_seguimiento'}).transpose()"
   ]
  },
  {
   "cell_type": "code",
   "execution_count": 95,
   "id": "dd2dac7a",
   "metadata": {
    "scrolled": true
   },
   "outputs": [
    {
     "data": {
      "text/plain": [
       "0         Sin Datos\n",
       "1         Sin Datos\n",
       "2         Sin Datos\n",
       "3         Sin Datos\n",
       "4         Sin Datos\n",
       "            ...    \n",
       "293816    Sin Datos\n",
       "293817    Sin Datos\n",
       "293818    Sin Datos\n",
       "293819    Sin Datos\n",
       "293820     16161119\n",
       "Name: folio_se_convierte_en_caso, Length: 293821, dtype: object"
      ]
     },
     "execution_count": 95,
     "metadata": {},
     "output_type": "execute_result"
    }
   ],
   "source": [
    "df_seguimiento_merged['folio_se_convierte_en_caso']"
   ]
  },
  {
   "cell_type": "code",
   "execution_count": 96,
   "id": "94bf5beb",
   "metadata": {},
   "outputs": [
    {
     "data": {
      "text/plain": [
       "Sin Datos    277894\n",
       "-1              528\n",
       "14560708         36\n",
       "10746410         33\n",
       "10748118         33\n",
       "              ...  \n",
       "13234641          1\n",
       "14485181          1\n",
       "11701941          1\n",
       "12178116          1\n",
       "12032798          1\n",
       "Name: folio_se_convierte_en_caso, Length: 2669, dtype: int64"
      ]
     },
     "execution_count": 96,
     "metadata": {},
     "output_type": "execute_result"
    }
   ],
   "source": [
    "# Revisa existencia de una variable dentro del DF y sus respectivos valores\n",
    "\n",
    "df_seguimiento_merged['folio_se_convierte_en_caso'].value_counts()\n"
   ]
  },
  {
   "cell_type": "markdown",
   "id": "e94309f5",
   "metadata": {},
   "source": [
    "# Variables de interes\n",
    "\n",
    "\n",
    "|Variable|Tipo|Observación|\n",
    "|---|---|---|\n",
    "|`n_folio`|Text|folio generado por Número y Letras|\n",
    "|`nfolio_caso`|Numeric|folio de caso registrado|\n",
    "|`nfolio_caso_indice`|Numeric|folio de caso indice registrado|\n",
    "|`nfolio_pntm`|Numeric|folio plataforma nacional de toma de muestra|\n",
    "|`nfolio_contacto_estrecho`|Numeric|folio de contacto estrecho|\n",
    "|`tipo_seguimiento`|Text|contacto, caso, no notificado indice|\n",
    "|`dia_contacto`|DateTime|Fecha de contacto |\n",
    "|`fecha_notificacion`|DateTime|Fecha de notificación|\n",
    "|`nombre_institucion_indice`|Text|Nombre institución desde donde se deriva el caso|\n",
    "|`region_institucion_indice`|Numeric| Región d ela cual se deriva el caso|\n",
    "|`nombre_region_institucion_indice`|Text|Nombre de región de la institución índice|\n",
    "|`nombre_institucion_seguimiento`|Text|Nombre de la institución encargada de realizar seguimiento|\n",
    "|`region`|Text|Región en la cual se realiza el seguimiento|\n",
    "|`id_region`|Numeric|Número de la región de seguimiento|\n",
    "|`fecha_cumple_requisitos`|DateTime|Fecha en la cual cumple requisitos para seguimiento|\n",
    "|`TTA`|Text|APS o SEREMI|\n",
    "|`cumple_aislamiento_cuarentena`|Boolean|Sin datos, t, f|\n",
    "|`folio_se_convierte_en_caso`|Text|Número de folio o Sin Datos|\n",
    "|`visible_no_eliminado`|Boolean|Sin datos, t, f|\n",
    "|`suspendido`|Text|egresado|\n",
    "|`sintomas`|Text|Sintomatología, Sin datos o Ninguno|\n",
    "|`observacion_seguimiento_contactos`|Text| Escrito por el trazador|\n",
    "|`tiene_resultado_covid`|Text|Positivo, Negativo, No concluyente, Sin Datos|\n",
    "|`derivacion_a_su`|Boolean| t f Sin datos|\n",
    "|`derivacion_toma_muestra`|Boolean|t f Sin datos|\n",
    "|`fecha_derivacion_toma_muestra`|Text|Fecha Sin datos|\n",
    "|`cont_fecha_seguimiento`|Text|Texto o Sin Datos|\n",
    "|`cont_tipo_contacto`|Text|contacto_familiar, contacto_social, contacto_institucional, contacto_laboral|\n",
    "|||contacto_pasajero, contacto_sala_espera, contacto_personal_salud,Datos|\n",
    "|`cont_parentesco`|Text|Hijo/a, Madre/Padre, Otro familiar, Pareja, Hermano/a, Otra relación/No familiar, Sin Datos|\n",
    "|`cont_otra_relacion`|Text|Sin Datos, otro, hijo de cuidadora, otro adulto mayor en cuidado, cuñado. sobrino de cuidadora, AMIGO,  Amigo|\n",
    "||| pareja del tío de su madre,cuidadora, PAREJA PADRE, otro adulto en cuidados, Pareja de mamá, Hijastro|\n",
    "|`cont_tipo_transporte`|Text|Aéreo, Sin Datos, Terrestre|\n",
    "|`cont_nombre_vuelo`|Text|Sin Datos, JETSMART JA245 CCP - BALMACEDA, SKY 433, COPA CM111, \n",
    "|||SKY 433 STGO- COYHAIQUE 21-08-2021 / 11 AM, SK, DL147 ATLANTA - STGO, JETSMART CCP-BALMACEDA, LA 272 |\n",
    "|||JETSMART JA245, VUELO CM111, LA272, JETSMART JA 245 CCP - BALMACEDA|                 \n",
    "|`cont_fecha_llegada`|Text|Sin Datos, 2021-07-21, 2021-08-21, 2021-07-01, 2021-07-03, 2021-07-09, 2021-07-02|\n",
    "|`detalle_pasajero`|Text|Observaciones adicionales de viaje|\n",
    "|`cont_inicio_cuarentena`|DateTime|Fecha de inicio de cuarentena|\n",
    "|`cont_fin_cuarentena`|DateTime|Fecha y Sin Datos|\n",
    "|`cont_requiere_licencia_medica`|Boolean|Sin Datos, NO, SI, Seleccione|\n",
    "|`cont_se_emite_licencia`|Boolean|Sin Datos, t, f|\n",
    "|`cont_fecha_licencia`|DateTime|Fecha de licencia|\n",
    "|`requiere_canasta_alimentos`|Boolean|Sin Datos, t, f|\n",
    "|`cantidad_personas_vivienda`|Numeric|Integrantes familiares de 0 a 6|\n",
    "|`cont_estado_seguimiento`|Text|Aún no contactado, En proceso de seguimiento, Se transforma en caso, Contacto sintomático, No localizado|\n",
    "|`fecha_creacion`|DateTime|Fecha de creación|\n",
    "|`tipo_del_contacto`|Text|Sin Datos, Llamada telefónica, Visita domiciliaria|\n",
    "|`contacto_localizado`|Boolean|Sin Datos, t, f|\n",
    "|`empresa`|Text|Información de Empresa de trabajo|\n",
    "|`institucion`|Text|Información de la institución|"
   ]
  },
  {
   "cell_type": "markdown",
   "id": "7d732aa1",
   "metadata": {},
   "source": [
    "## Limpieza y ordenamiento de datos\n",
    "\n"
   ]
  },
  {
   "cell_type": "markdown",
   "id": "44fd542e",
   "metadata": {},
   "source": [
    "Segun variables seleccionadas como de importancia de análisis y obsrvaciones a filtrar"
   ]
  },
  {
   "cell_type": "code",
   "execution_count": 97,
   "id": "6382a91b",
   "metadata": {},
   "outputs": [],
   "source": [
    "# Transforma fecha_cumple_requisitos a formato DateTime64 \n",
    "\n",
    "df_seguimiento_merged['fecha_cumple_requisitos'] = pd.to_datetime(df_seguimiento_merged['fecha_cumple_requisitos'], errors='coerce')\n",
    "df_seguimiento_merged['fecha_notificacion'] = pd.to_datetime(df_seguimiento_merged['fecha_notificacion'], errors='coerce')\n",
    "df_seguimiento_merged['fecha_creacion'] = pd.to_datetime(df_seguimiento_merged['fecha_creacion'], errors='coerce')\n",
    "\n",
    "#Crea diferencia de fecha\n",
    "df_seguimiento_merged['dif_fecha'] = df_seguimiento_merged['fecha_cumple_requisitos'] - df_seguimiento_merged['fecha_notificacion']"
   ]
  },
  {
   "cell_type": "code",
   "execution_count": 98,
   "id": "9326139c",
   "metadata": {},
   "outputs": [],
   "source": [
    "# Filtra los timedelta mayores a 14 dias\n",
    "\n",
    "seg = df_seguimiento_merged[df_seguimiento_merged['dif_fecha']<pd.to_timedelta('14 days')]"
   ]
  },
  {
   "cell_type": "code",
   "execution_count": 99,
   "id": "5a14aa47",
   "metadata": {},
   "outputs": [],
   "source": [
    "#Filtra visible_no_eliminado y bota duplicados en n_folio\n",
    "\n",
    "aux = seg[seg['visible_no_eliminado']=='t'].drop_duplicates('n_folio')"
   ]
  },
  {
   "cell_type": "code",
   "execution_count": 100,
   "id": "37586a61",
   "metadata": {},
   "outputs": [],
   "source": [
    "# Filtra tipo_seguimiento para los casos \n",
    "\n",
    "aux_caso = aux[aux['tipo_seguimiento']=='caso']"
   ]
  },
  {
   "cell_type": "code",
   "execution_count": 101,
   "id": "d2536552",
   "metadata": {},
   "outputs": [
    {
     "name": "stderr",
     "output_type": "stream",
     "text": [
      "<ipython-input-101-483468821897>:3: SettingWithCopyWarning:\n",
      "\n",
      "\n",
      "A value is trying to be set on a copy of a slice from a DataFrame.\n",
      "Try using .loc[row_indexer,col_indexer] = value instead\n",
      "\n",
      "See the caveats in the documentation: https://pandas.pydata.org/pandas-docs/stable/user_guide/indexing.html#returning-a-view-versus-a-copy\n",
      "\n"
     ]
    }
   ],
   "source": [
    "aux_contacto = aux[aux['tipo_seguimiento']=='contacto']\n",
    "#Crea columna dif_fecha_contacto\n",
    "aux_contacto['dif_fecha_contacto'] = aux_contacto['fecha_creacion']-aux_contacto['fecha_notificacion']\n",
    "\n",
    "aux_contacto = aux_contacto[aux_contacto['dif_fecha_contacto']>=pd.to_timedelta(-14)]"
   ]
  },
  {
   "cell_type": "code",
   "execution_count": 102,
   "id": "c11096fe",
   "metadata": {},
   "outputs": [],
   "source": [
    "aux_contacto_nuevos = aux[aux['tipo_seguimiento']=='contacto']\n",
    "aux_contacto_nuevos = aux_contacto_nuevos[(aux_contacto_nuevos['suspendido']=='activo')|(aux_contacto_nuevos['suspendido']=='egresado')]\n"
   ]
  },
  {
   "cell_type": "code",
   "execution_count": 103,
   "id": "5b73a457",
   "metadata": {},
   "outputs": [
    {
     "ename": "KeyError",
     "evalue": "\"None of [DatetimeIndex(['2021-03-15 12:49:44.051748', '2021-03-18 18:23:53.976693',\\n               '2021-03-22 17:55:07.453245', '2021-03-27 13:40:31.874120',\\n               '2021-03-29 20:26:57.278563', '2021-03-28 18:11:16.302066',\\n               '2021-03-31 21:05:45.096238', '2021-04-04 19:53:34.656697',\\n               '2021-03-02 21:19:06.537028', '2021-03-06 17:42:05.519095',\\n               ...\\n               '2021-08-11 17:21:06.445276', '2021-08-10 22:35:34.751663',\\n               '2021-08-23 18:49:06.033124', '2021-08-09 22:17:12.240374',\\n               '2021-08-10 19:26:36.279848', '2021-08-13 19:40:56.582091',\\n               '2021-08-05 18:15:06.027185', '2021-08-09 23:23:22.867003',\\n               '2021-08-21 11:34:20.083839', '2021-08-10 19:43:02.977625'],\\n              dtype='datetime64[ns]', length=15525, freq=None)] are in the [columns]\"",
     "output_type": "error",
     "traceback": [
      "\u001b[1;31m---------------------------------------------------------------------------\u001b[0m",
      "\u001b[1;31mKeyError\u001b[0m                                  Traceback (most recent call last)",
      "\u001b[1;32m<ipython-input-103-c3e596cedc94>\u001b[0m in \u001b[0;36m<module>\u001b[1;34m\u001b[0m\n\u001b[1;32m----> 1\u001b[1;33m \u001b[0maux_contacto_viejos\u001b[0m \u001b[1;33m=\u001b[0m \u001b[0maux_contacto\u001b[0m\u001b[1;33m[\u001b[0m\u001b[1;33m(\u001b[0m\u001b[0maux_contacto\u001b[0m\u001b[1;33m[\u001b[0m\u001b[1;34m'fecha_creacion'\u001b[0m\u001b[1;33m]\u001b[0m\u001b[1;33m-\u001b[0m\u001b[0mpd\u001b[0m\u001b[1;33m.\u001b[0m\u001b[0mto_timedelta\u001b[0m\u001b[1;33m(\u001b[0m\u001b[1;34m'7 days'\u001b[0m\u001b[1;33m)\u001b[0m\u001b[1;33m)\u001b[0m\u001b[1;33m]\u001b[0m\u001b[1;33m\u001b[0m\u001b[1;33m\u001b[0m\u001b[0m\n\u001b[0m\u001b[0;32m      2\u001b[0m \u001b[1;33m\u001b[0m\u001b[0m\n\u001b[0;32m      3\u001b[0m \u001b[0maux_contacto_viejos\u001b[0m\u001b[1;33m=\u001b[0m \u001b[0maux_contacto_viejos\u001b[0m\u001b[1;33m[\u001b[0m\u001b[1;33m(\u001b[0m\u001b[0maux_contacto_viejos\u001b[0m\u001b[1;33m[\u001b[0m\u001b[1;34m'suspendido'\u001b[0m\u001b[1;33m]\u001b[0m\u001b[1;33m==\u001b[0m\u001b[1;34m'activo'\u001b[0m\u001b[1;33m)\u001b[0m\u001b[1;33m|\u001b[0m\u001b[1;33m(\u001b[0m\u001b[0maux_contacto_viejos\u001b[0m\u001b[1;33m[\u001b[0m\u001b[1;34m'suspendido'\u001b[0m\u001b[1;33m]\u001b[0m\u001b[1;33m==\u001b[0m\u001b[1;34m'egresado'\u001b[0m\u001b[1;33m)\u001b[0m\u001b[1;33m]\u001b[0m\u001b[1;33m\u001b[0m\u001b[1;33m\u001b[0m\u001b[0m\n",
      "\u001b[1;32m~\\anaconda3\\lib\\site-packages\\pandas\\core\\frame.py\u001b[0m in \u001b[0;36m__getitem__\u001b[1;34m(self, key)\u001b[0m\n\u001b[0;32m   3028\u001b[0m             \u001b[1;32mif\u001b[0m \u001b[0mis_iterator\u001b[0m\u001b[1;33m(\u001b[0m\u001b[0mkey\u001b[0m\u001b[1;33m)\u001b[0m\u001b[1;33m:\u001b[0m\u001b[1;33m\u001b[0m\u001b[1;33m\u001b[0m\u001b[0m\n\u001b[0;32m   3029\u001b[0m                 \u001b[0mkey\u001b[0m \u001b[1;33m=\u001b[0m \u001b[0mlist\u001b[0m\u001b[1;33m(\u001b[0m\u001b[0mkey\u001b[0m\u001b[1;33m)\u001b[0m\u001b[1;33m\u001b[0m\u001b[1;33m\u001b[0m\u001b[0m\n\u001b[1;32m-> 3030\u001b[1;33m             \u001b[0mindexer\u001b[0m \u001b[1;33m=\u001b[0m \u001b[0mself\u001b[0m\u001b[1;33m.\u001b[0m\u001b[0mloc\u001b[0m\u001b[1;33m.\u001b[0m\u001b[0m_get_listlike_indexer\u001b[0m\u001b[1;33m(\u001b[0m\u001b[0mkey\u001b[0m\u001b[1;33m,\u001b[0m \u001b[0maxis\u001b[0m\u001b[1;33m=\u001b[0m\u001b[1;36m1\u001b[0m\u001b[1;33m,\u001b[0m \u001b[0mraise_missing\u001b[0m\u001b[1;33m=\u001b[0m\u001b[1;32mTrue\u001b[0m\u001b[1;33m)\u001b[0m\u001b[1;33m[\u001b[0m\u001b[1;36m1\u001b[0m\u001b[1;33m]\u001b[0m\u001b[1;33m\u001b[0m\u001b[1;33m\u001b[0m\u001b[0m\n\u001b[0m\u001b[0;32m   3031\u001b[0m \u001b[1;33m\u001b[0m\u001b[0m\n\u001b[0;32m   3032\u001b[0m         \u001b[1;31m# take() does not accept boolean indexers\u001b[0m\u001b[1;33m\u001b[0m\u001b[1;33m\u001b[0m\u001b[1;33m\u001b[0m\u001b[0m\n",
      "\u001b[1;32m~\\anaconda3\\lib\\site-packages\\pandas\\core\\indexing.py\u001b[0m in \u001b[0;36m_get_listlike_indexer\u001b[1;34m(self, key, axis, raise_missing)\u001b[0m\n\u001b[0;32m   1264\u001b[0m             \u001b[0mkeyarr\u001b[0m\u001b[1;33m,\u001b[0m \u001b[0mindexer\u001b[0m\u001b[1;33m,\u001b[0m \u001b[0mnew_indexer\u001b[0m \u001b[1;33m=\u001b[0m \u001b[0max\u001b[0m\u001b[1;33m.\u001b[0m\u001b[0m_reindex_non_unique\u001b[0m\u001b[1;33m(\u001b[0m\u001b[0mkeyarr\u001b[0m\u001b[1;33m)\u001b[0m\u001b[1;33m\u001b[0m\u001b[1;33m\u001b[0m\u001b[0m\n\u001b[0;32m   1265\u001b[0m \u001b[1;33m\u001b[0m\u001b[0m\n\u001b[1;32m-> 1266\u001b[1;33m         \u001b[0mself\u001b[0m\u001b[1;33m.\u001b[0m\u001b[0m_validate_read_indexer\u001b[0m\u001b[1;33m(\u001b[0m\u001b[0mkeyarr\u001b[0m\u001b[1;33m,\u001b[0m \u001b[0mindexer\u001b[0m\u001b[1;33m,\u001b[0m \u001b[0maxis\u001b[0m\u001b[1;33m,\u001b[0m \u001b[0mraise_missing\u001b[0m\u001b[1;33m=\u001b[0m\u001b[0mraise_missing\u001b[0m\u001b[1;33m)\u001b[0m\u001b[1;33m\u001b[0m\u001b[1;33m\u001b[0m\u001b[0m\n\u001b[0m\u001b[0;32m   1267\u001b[0m         \u001b[1;32mreturn\u001b[0m \u001b[0mkeyarr\u001b[0m\u001b[1;33m,\u001b[0m \u001b[0mindexer\u001b[0m\u001b[1;33m\u001b[0m\u001b[1;33m\u001b[0m\u001b[0m\n\u001b[0;32m   1268\u001b[0m \u001b[1;33m\u001b[0m\u001b[0m\n",
      "\u001b[1;32m~\\anaconda3\\lib\\site-packages\\pandas\\core\\indexing.py\u001b[0m in \u001b[0;36m_validate_read_indexer\u001b[1;34m(self, key, indexer, axis, raise_missing)\u001b[0m\n\u001b[0;32m   1306\u001b[0m             \u001b[1;32mif\u001b[0m \u001b[0mmissing\u001b[0m \u001b[1;33m==\u001b[0m \u001b[0mlen\u001b[0m\u001b[1;33m(\u001b[0m\u001b[0mindexer\u001b[0m\u001b[1;33m)\u001b[0m\u001b[1;33m:\u001b[0m\u001b[1;33m\u001b[0m\u001b[1;33m\u001b[0m\u001b[0m\n\u001b[0;32m   1307\u001b[0m                 \u001b[0maxis_name\u001b[0m \u001b[1;33m=\u001b[0m \u001b[0mself\u001b[0m\u001b[1;33m.\u001b[0m\u001b[0mobj\u001b[0m\u001b[1;33m.\u001b[0m\u001b[0m_get_axis_name\u001b[0m\u001b[1;33m(\u001b[0m\u001b[0maxis\u001b[0m\u001b[1;33m)\u001b[0m\u001b[1;33m\u001b[0m\u001b[1;33m\u001b[0m\u001b[0m\n\u001b[1;32m-> 1308\u001b[1;33m                 \u001b[1;32mraise\u001b[0m \u001b[0mKeyError\u001b[0m\u001b[1;33m(\u001b[0m\u001b[1;34mf\"None of [{key}] are in the [{axis_name}]\"\u001b[0m\u001b[1;33m)\u001b[0m\u001b[1;33m\u001b[0m\u001b[1;33m\u001b[0m\u001b[0m\n\u001b[0m\u001b[0;32m   1309\u001b[0m \u001b[1;33m\u001b[0m\u001b[0m\n\u001b[0;32m   1310\u001b[0m             \u001b[0max\u001b[0m \u001b[1;33m=\u001b[0m \u001b[0mself\u001b[0m\u001b[1;33m.\u001b[0m\u001b[0mobj\u001b[0m\u001b[1;33m.\u001b[0m\u001b[0m_get_axis\u001b[0m\u001b[1;33m(\u001b[0m\u001b[0maxis\u001b[0m\u001b[1;33m)\u001b[0m\u001b[1;33m\u001b[0m\u001b[1;33m\u001b[0m\u001b[0m\n",
      "\u001b[1;31mKeyError\u001b[0m: \"None of [DatetimeIndex(['2021-03-15 12:49:44.051748', '2021-03-18 18:23:53.976693',\\n               '2021-03-22 17:55:07.453245', '2021-03-27 13:40:31.874120',\\n               '2021-03-29 20:26:57.278563', '2021-03-28 18:11:16.302066',\\n               '2021-03-31 21:05:45.096238', '2021-04-04 19:53:34.656697',\\n               '2021-03-02 21:19:06.537028', '2021-03-06 17:42:05.519095',\\n               ...\\n               '2021-08-11 17:21:06.445276', '2021-08-10 22:35:34.751663',\\n               '2021-08-23 18:49:06.033124', '2021-08-09 22:17:12.240374',\\n               '2021-08-10 19:26:36.279848', '2021-08-13 19:40:56.582091',\\n               '2021-08-05 18:15:06.027185', '2021-08-09 23:23:22.867003',\\n               '2021-08-21 11:34:20.083839', '2021-08-10 19:43:02.977625'],\\n              dtype='datetime64[ns]', length=15525, freq=None)] are in the [columns]\""
     ]
    }
   ],
   "source": [
    "aux_contacto_viejos = aux_contacto[(aux_contacto['fecha_creacion']-pd.to_timedelta('7 days'))]\n",
    "\n",
    "aux_contacto_viejos= aux_contacto_viejos[(aux_contacto_viejos['suspendido']=='activo')|(aux_contacto_viejos['suspendido']=='egresado')]\n"
   ]
  },
  {
   "cell_type": "code",
   "execution_count": 104,
   "id": "3fc47c8c",
   "metadata": {},
   "outputs": [
    {
     "data": {
      "text/plain": [
       "1        2021-03-15 12:49:44.051748\n",
       "2        2021-03-18 18:23:53.976693\n",
       "3        2021-03-22 17:55:07.453245\n",
       "4        2021-03-27 13:40:31.874120\n",
       "5        2021-03-29 20:26:57.278563\n",
       "                    ...            \n",
       "293456   2021-08-13 19:40:56.582091\n",
       "293485   2021-08-05 18:15:06.027185\n",
       "293525   2021-08-09 23:23:22.867003\n",
       "293560   2021-08-21 11:34:20.083839\n",
       "293814   2021-08-10 19:43:02.977625\n",
       "Name: fecha_creacion, Length: 15525, dtype: datetime64[ns]"
      ]
     },
     "execution_count": 104,
     "metadata": {},
     "output_type": "execute_result"
    }
   ],
   "source": [
    "#aux_contacto[\n",
    "(aux_contacto['fecha_creacion']-pd.to_timedelta('7 days'))\n",
    "#]"
   ]
  },
  {
   "cell_type": "code",
   "execution_count": 105,
   "id": "4aa0df5c",
   "metadata": {},
   "outputs": [
    {
     "data": {
      "text/plain": [
       "1        2021-03-22 12:49:44.051748007\n",
       "2        2021-03-25 18:23:53.976693007\n",
       "3        2021-03-29 17:55:07.453245007\n",
       "4        2021-04-03 13:40:31.874120007\n",
       "5        2021-04-05 20:26:57.278563007\n",
       "                      ...             \n",
       "293456   2021-08-20 19:40:56.582091007\n",
       "293485   2021-08-12 18:15:06.027185007\n",
       "293525   2021-08-16 23:23:22.867003007\n",
       "293560   2021-08-28 11:34:20.083839007\n",
       "293814   2021-08-17 19:43:02.977625007\n",
       "Name: fecha_creacion, Length: 15525, dtype: datetime64[ns]"
      ]
     },
     "execution_count": 105,
     "metadata": {},
     "output_type": "execute_result"
    }
   ],
   "source": [
    "aux_contacto['fecha_creacion']-pd.to_timedelta(-7)"
   ]
  },
  {
   "cell_type": "code",
   "execution_count": 106,
   "id": "e0bdba4a",
   "metadata": {},
   "outputs": [
    {
     "data": {
      "text/plain": [
       "1        2021-03-22 12:49:44.051748\n",
       "2        2021-03-25 18:23:53.976693\n",
       "3        2021-03-29 17:55:07.453245\n",
       "4        2021-04-03 13:40:31.874120\n",
       "5        2021-04-05 20:26:57.278563\n",
       "                    ...            \n",
       "293456   2021-08-20 19:40:56.582091\n",
       "293485   2021-08-12 18:15:06.027185\n",
       "293525   2021-08-16 23:23:22.867003\n",
       "293560   2021-08-28 11:34:20.083839\n",
       "293814   2021-08-17 19:43:02.977625\n",
       "Name: fecha_creacion, Length: 15525, dtype: datetime64[ns]"
      ]
     },
     "execution_count": 106,
     "metadata": {},
     "output_type": "execute_result"
    }
   ],
   "source": [
    "aux_contacto['fecha_creacion']"
   ]
  },
  {
   "cell_type": "code",
   "execution_count": 107,
   "id": "55554434",
   "metadata": {},
   "outputs": [
    {
     "data": {
      "text/plain": [
       "0         t\n",
       "1         t\n",
       "2         t\n",
       "3         t\n",
       "4         t\n",
       "         ..\n",
       "293816    t\n",
       "293817    t\n",
       "293818    t\n",
       "293819    t\n",
       "293820    t\n",
       "Name: visible_no_eliminado, Length: 293821, dtype: object"
      ]
     },
     "execution_count": 107,
     "metadata": {},
     "output_type": "execute_result"
    }
   ],
   "source": [
    "df_seguimiento_merged['visible_no_eliminado']"
   ]
  },
  {
   "cell_type": "code",
   "execution_count": 108,
   "id": "a1f9716c",
   "metadata": {},
   "outputs": [
    {
     "data": {
      "text/html": [
       "<div>\n",
       "<style scoped>\n",
       "    .dataframe tbody tr th:only-of-type {\n",
       "        vertical-align: middle;\n",
       "    }\n",
       "\n",
       "    .dataframe tbody tr th {\n",
       "        vertical-align: top;\n",
       "    }\n",
       "\n",
       "    .dataframe thead th {\n",
       "        text-align: right;\n",
       "    }\n",
       "</style>\n",
       "<table border=\"1\" class=\"dataframe\">\n",
       "  <thead>\n",
       "    <tr style=\"text-align: right;\">\n",
       "      <th></th>\n",
       "      <th>numero_folio</th>\n",
       "      <th>comuna_residencia</th>\n",
       "      <th>fecha_notificacion</th>\n",
       "      <th>semana_epidemiologica</th>\n",
       "      <th>etapa_clinica</th>\n",
       "      <th>tipo_caso_busqueda</th>\n",
       "      <th>establecimiento_salud</th>\n",
       "      <th>resultado_pcr_1</th>\n",
       "      <th>resultado_pcr_2</th>\n",
       "      <th>resultado_pcr_3</th>\n",
       "      <th>...</th>\n",
       "      <th>caso_cerrado</th>\n",
       "      <th>fecha_primeros_sintomas</th>\n",
       "      <th>fecha_diagnostico</th>\n",
       "      <th>comuna_seremi_xi</th>\n",
       "      <th>provincia_seremi_xi</th>\n",
       "      <th>sexo</th>\n",
       "      <th>edad</th>\n",
       "      <th>pop_hombres</th>\n",
       "      <th>pop_mujeres</th>\n",
       "      <th>pop_total</th>\n",
       "    </tr>\n",
       "  </thead>\n",
       "  <tbody>\n",
       "    <tr>\n",
       "      <th>0</th>\n",
       "      <td>50166</td>\n",
       "      <td>Coyhaique</td>\n",
       "      <td>2020-03-12</td>\n",
       "      <td>11</td>\n",
       "      <td>DESCARTADA</td>\n",
       "      <td>NaN</td>\n",
       "      <td>Hospital Regional (Coihaique)</td>\n",
       "      <td>NEGATIVO</td>\n",
       "      <td>NaN</td>\n",
       "      <td>NaN</td>\n",
       "      <td>...</td>\n",
       "      <td>f</td>\n",
       "      <td>2020-03-10</td>\n",
       "      <td>2020-03-16</td>\n",
       "      <td>Coyhaique</td>\n",
       "      <td>Coyhaique</td>\n",
       "      <td>mujer</td>\n",
       "      <td>46</td>\n",
       "      <td>28763.0</td>\n",
       "      <td>29055.0</td>\n",
       "      <td>57818.0</td>\n",
       "    </tr>\n",
       "    <tr>\n",
       "      <th>2</th>\n",
       "      <td>50785</td>\n",
       "      <td>Coyhaique</td>\n",
       "      <td>2020-03-12</td>\n",
       "      <td>11</td>\n",
       "      <td>DESCARTADA</td>\n",
       "      <td>NaN</td>\n",
       "      <td>Hospital Regional (Coihaique)</td>\n",
       "      <td>NEGATIVO</td>\n",
       "      <td>NaN</td>\n",
       "      <td>NaN</td>\n",
       "      <td>...</td>\n",
       "      <td>f</td>\n",
       "      <td>2020-03-10</td>\n",
       "      <td>2020-03-28</td>\n",
       "      <td>Coyhaique</td>\n",
       "      <td>Coyhaique</td>\n",
       "      <td>hombre</td>\n",
       "      <td>12</td>\n",
       "      <td>28763.0</td>\n",
       "      <td>29055.0</td>\n",
       "      <td>57818.0</td>\n",
       "    </tr>\n",
       "    <tr>\n",
       "      <th>3</th>\n",
       "      <td>50794</td>\n",
       "      <td>Coyhaique</td>\n",
       "      <td>2020-03-12</td>\n",
       "      <td>11</td>\n",
       "      <td>DESCARTADA</td>\n",
       "      <td>NaN</td>\n",
       "      <td>Hospital Regional (Coihaique)</td>\n",
       "      <td>NEGATIVO</td>\n",
       "      <td>NaN</td>\n",
       "      <td>NaN</td>\n",
       "      <td>...</td>\n",
       "      <td>f</td>\n",
       "      <td>2020-03-10</td>\n",
       "      <td>2020-03-28</td>\n",
       "      <td>Coyhaique</td>\n",
       "      <td>Coyhaique</td>\n",
       "      <td>hombre</td>\n",
       "      <td>11</td>\n",
       "      <td>28763.0</td>\n",
       "      <td>29055.0</td>\n",
       "      <td>57818.0</td>\n",
       "    </tr>\n",
       "    <tr>\n",
       "      <th>5</th>\n",
       "      <td>53499</td>\n",
       "      <td>Cisnes</td>\n",
       "      <td>2020-03-18</td>\n",
       "      <td>12</td>\n",
       "      <td>DESCARTADA</td>\n",
       "      <td>NaN</td>\n",
       "      <td>Centro de Salud Familiar La Junta</td>\n",
       "      <td>NEGATIVO</td>\n",
       "      <td>NaN</td>\n",
       "      <td>NaN</td>\n",
       "      <td>...</td>\n",
       "      <td>f</td>\n",
       "      <td>2020-03-15</td>\n",
       "      <td>2020-03-24</td>\n",
       "      <td>Cisnes</td>\n",
       "      <td>Aysen</td>\n",
       "      <td>mujer</td>\n",
       "      <td>48</td>\n",
       "      <td>3922.0</td>\n",
       "      <td>2595.0</td>\n",
       "      <td>6517.0</td>\n",
       "    </tr>\n",
       "    <tr>\n",
       "      <th>8</th>\n",
       "      <td>54731</td>\n",
       "      <td>Cisnes</td>\n",
       "      <td>2020-03-19</td>\n",
       "      <td>12</td>\n",
       "      <td>DESCARTADA</td>\n",
       "      <td>Atención médica</td>\n",
       "      <td>Centro de Salud Familiar La Junta</td>\n",
       "      <td>NO CONCLUYENTE</td>\n",
       "      <td>NaN</td>\n",
       "      <td>NaN</td>\n",
       "      <td>...</td>\n",
       "      <td>f</td>\n",
       "      <td>2020-03-19</td>\n",
       "      <td>2020-03-21</td>\n",
       "      <td>Cisnes</td>\n",
       "      <td>Aysen</td>\n",
       "      <td>hombre</td>\n",
       "      <td>0</td>\n",
       "      <td>3922.0</td>\n",
       "      <td>2595.0</td>\n",
       "      <td>6517.0</td>\n",
       "    </tr>\n",
       "    <tr>\n",
       "      <th>...</th>\n",
       "      <td>...</td>\n",
       "      <td>...</td>\n",
       "      <td>...</td>\n",
       "      <td>...</td>\n",
       "      <td>...</td>\n",
       "      <td>...</td>\n",
       "      <td>...</td>\n",
       "      <td>...</td>\n",
       "      <td>...</td>\n",
       "      <td>...</td>\n",
       "      <td>...</td>\n",
       "      <td>...</td>\n",
       "      <td>...</td>\n",
       "      <td>...</td>\n",
       "      <td>...</td>\n",
       "      <td>...</td>\n",
       "      <td>...</td>\n",
       "      <td>...</td>\n",
       "      <td>...</td>\n",
       "      <td>...</td>\n",
       "      <td>...</td>\n",
       "    </tr>\n",
       "    <tr>\n",
       "      <th>169471</th>\n",
       "      <td>16523966</td>\n",
       "      <td>Coyhaique</td>\n",
       "      <td>2021-08-30</td>\n",
       "      <td>35</td>\n",
       "      <td>SOSPECHA</td>\n",
       "      <td>Atención médica</td>\n",
       "      <td>SAPU Dr. Alejandro Gutiérrez</td>\n",
       "      <td>NaN</td>\n",
       "      <td>NEGATIVO</td>\n",
       "      <td>NaN</td>\n",
       "      <td>...</td>\n",
       "      <td>f</td>\n",
       "      <td>2021-08-29</td>\n",
       "      <td>NaN</td>\n",
       "      <td>Coyhaique</td>\n",
       "      <td>Coyhaique</td>\n",
       "      <td>mujer</td>\n",
       "      <td>36</td>\n",
       "      <td>28763.0</td>\n",
       "      <td>29055.0</td>\n",
       "      <td>57818.0</td>\n",
       "    </tr>\n",
       "    <tr>\n",
       "      <th>169474</th>\n",
       "      <td>16524316</td>\n",
       "      <td>Coyhaique</td>\n",
       "      <td>2021-08-30</td>\n",
       "      <td>35</td>\n",
       "      <td>SOSPECHA</td>\n",
       "      <td>Atención médica</td>\n",
       "      <td>SAPU Dr. Alejandro Gutiérrez</td>\n",
       "      <td>NaN</td>\n",
       "      <td>NaN</td>\n",
       "      <td>NaN</td>\n",
       "      <td>...</td>\n",
       "      <td>f</td>\n",
       "      <td>2021-08-30</td>\n",
       "      <td>NaN</td>\n",
       "      <td>Coyhaique</td>\n",
       "      <td>Coyhaique</td>\n",
       "      <td>hombre</td>\n",
       "      <td>86</td>\n",
       "      <td>28763.0</td>\n",
       "      <td>29055.0</td>\n",
       "      <td>57818.0</td>\n",
       "    </tr>\n",
       "    <tr>\n",
       "      <th>169475</th>\n",
       "      <td>16524547</td>\n",
       "      <td>Aisén</td>\n",
       "      <td>2021-08-30</td>\n",
       "      <td>35</td>\n",
       "      <td>SOSPECHA</td>\n",
       "      <td>Atención médica</td>\n",
       "      <td>Hospital de Puerto Aysén</td>\n",
       "      <td>NaN</td>\n",
       "      <td>NaN</td>\n",
       "      <td>NaN</td>\n",
       "      <td>...</td>\n",
       "      <td>f</td>\n",
       "      <td>2021-08-27</td>\n",
       "      <td>NaN</td>\n",
       "      <td>Aysen</td>\n",
       "      <td>Aysen</td>\n",
       "      <td>hombre</td>\n",
       "      <td>26</td>\n",
       "      <td>12719.0</td>\n",
       "      <td>11240.0</td>\n",
       "      <td>23959.0</td>\n",
       "    </tr>\n",
       "    <tr>\n",
       "      <th>169478</th>\n",
       "      <td>16525213</td>\n",
       "      <td>Cochrane</td>\n",
       "      <td>2021-08-30</td>\n",
       "      <td>35</td>\n",
       "      <td>SOSPECHA</td>\n",
       "      <td>Atención médica</td>\n",
       "      <td>Hospital Lord Cochrane</td>\n",
       "      <td>NaN</td>\n",
       "      <td>NaN</td>\n",
       "      <td>NaN</td>\n",
       "      <td>...</td>\n",
       "      <td>f</td>\n",
       "      <td>2021-08-28</td>\n",
       "      <td>NaN</td>\n",
       "      <td>Cochrane</td>\n",
       "      <td>Capitan Prat</td>\n",
       "      <td>mujer</td>\n",
       "      <td>24</td>\n",
       "      <td>1902.0</td>\n",
       "      <td>1588.0</td>\n",
       "      <td>3490.0</td>\n",
       "    </tr>\n",
       "    <tr>\n",
       "      <th>169479</th>\n",
       "      <td>16525235</td>\n",
       "      <td>Cochrane</td>\n",
       "      <td>2021-08-30</td>\n",
       "      <td>35</td>\n",
       "      <td>SOSPECHA</td>\n",
       "      <td>Atención médica</td>\n",
       "      <td>Hospital Lord Cochrane</td>\n",
       "      <td>NaN</td>\n",
       "      <td>NaN</td>\n",
       "      <td>NaN</td>\n",
       "      <td>...</td>\n",
       "      <td>f</td>\n",
       "      <td>2021-08-29</td>\n",
       "      <td>NaN</td>\n",
       "      <td>Cochrane</td>\n",
       "      <td>Capitan Prat</td>\n",
       "      <td>mujer</td>\n",
       "      <td>57</td>\n",
       "      <td>1902.0</td>\n",
       "      <td>1588.0</td>\n",
       "      <td>3490.0</td>\n",
       "    </tr>\n",
       "  </tbody>\n",
       "</table>\n",
       "<p>149134 rows × 34 columns</p>\n",
       "</div>"
      ],
      "text/plain": [
       "        numero_folio comuna_residencia fecha_notificacion  \\\n",
       "0              50166         Coyhaique         2020-03-12   \n",
       "2              50785         Coyhaique         2020-03-12   \n",
       "3              50794         Coyhaique         2020-03-12   \n",
       "5              53499            Cisnes         2020-03-18   \n",
       "8              54731            Cisnes         2020-03-19   \n",
       "...              ...               ...                ...   \n",
       "169471      16523966         Coyhaique         2021-08-30   \n",
       "169474      16524316         Coyhaique         2021-08-30   \n",
       "169475      16524547             Aisén         2021-08-30   \n",
       "169478      16525213          Cochrane         2021-08-30   \n",
       "169479      16525235          Cochrane         2021-08-30   \n",
       "\n",
       "        semana_epidemiologica etapa_clinica tipo_caso_busqueda  \\\n",
       "0                          11    DESCARTADA                NaN   \n",
       "2                          11    DESCARTADA                NaN   \n",
       "3                          11    DESCARTADA                NaN   \n",
       "5                          12    DESCARTADA                NaN   \n",
       "8                          12    DESCARTADA    Atención médica   \n",
       "...                       ...           ...                ...   \n",
       "169471                     35      SOSPECHA    Atención médica   \n",
       "169474                     35      SOSPECHA    Atención médica   \n",
       "169475                     35      SOSPECHA    Atención médica   \n",
       "169478                     35      SOSPECHA    Atención médica   \n",
       "169479                     35      SOSPECHA    Atención médica   \n",
       "\n",
       "                    establecimiento_salud resultado_pcr_1 resultado_pcr_2  \\\n",
       "0           Hospital Regional (Coihaique)        NEGATIVO             NaN   \n",
       "2           Hospital Regional (Coihaique)        NEGATIVO             NaN   \n",
       "3           Hospital Regional (Coihaique)        NEGATIVO             NaN   \n",
       "5       Centro de Salud Familiar La Junta        NEGATIVO             NaN   \n",
       "8       Centro de Salud Familiar La Junta  NO CONCLUYENTE             NaN   \n",
       "...                                   ...             ...             ...   \n",
       "169471       SAPU Dr. Alejandro Gutiérrez             NaN        NEGATIVO   \n",
       "169474       SAPU Dr. Alejandro Gutiérrez             NaN             NaN   \n",
       "169475           Hospital de Puerto Aysén             NaN             NaN   \n",
       "169478             Hospital Lord Cochrane             NaN             NaN   \n",
       "169479             Hospital Lord Cochrane             NaN             NaN   \n",
       "\n",
       "       resultado_pcr_3  ... caso_cerrado fecha_primeros_sintomas  \\\n",
       "0                  NaN  ...            f              2020-03-10   \n",
       "2                  NaN  ...            f              2020-03-10   \n",
       "3                  NaN  ...            f              2020-03-10   \n",
       "5                  NaN  ...            f              2020-03-15   \n",
       "8                  NaN  ...            f              2020-03-19   \n",
       "...                ...  ...          ...                     ...   \n",
       "169471             NaN  ...            f              2021-08-29   \n",
       "169474             NaN  ...            f              2021-08-30   \n",
       "169475             NaN  ...            f              2021-08-27   \n",
       "169478             NaN  ...            f              2021-08-28   \n",
       "169479             NaN  ...            f              2021-08-29   \n",
       "\n",
       "       fecha_diagnostico comuna_seremi_xi provincia_seremi_xi    sexo edad  \\\n",
       "0             2020-03-16        Coyhaique           Coyhaique   mujer   46   \n",
       "2             2020-03-28        Coyhaique           Coyhaique  hombre   12   \n",
       "3             2020-03-28        Coyhaique           Coyhaique  hombre   11   \n",
       "5             2020-03-24           Cisnes               Aysen   mujer   48   \n",
       "8             2020-03-21           Cisnes               Aysen  hombre    0   \n",
       "...                  ...              ...                 ...     ...  ...   \n",
       "169471               NaN        Coyhaique           Coyhaique   mujer   36   \n",
       "169474               NaN        Coyhaique           Coyhaique  hombre   86   \n",
       "169475               NaN            Aysen               Aysen  hombre   26   \n",
       "169478               NaN         Cochrane        Capitan Prat   mujer   24   \n",
       "169479               NaN         Cochrane        Capitan Prat   mujer   57   \n",
       "\n",
       "       pop_hombres pop_mujeres pop_total  \n",
       "0          28763.0     29055.0   57818.0  \n",
       "2          28763.0     29055.0   57818.0  \n",
       "3          28763.0     29055.0   57818.0  \n",
       "5           3922.0      2595.0    6517.0  \n",
       "8           3922.0      2595.0    6517.0  \n",
       "...            ...         ...       ...  \n",
       "169471     28763.0     29055.0   57818.0  \n",
       "169474     28763.0     29055.0   57818.0  \n",
       "169475     12719.0     11240.0   23959.0  \n",
       "169478      1902.0      1588.0    3490.0  \n",
       "169479      1902.0      1588.0    3490.0  \n",
       "\n",
       "[149134 rows x 34 columns]"
      ]
     },
     "execution_count": 108,
     "metadata": {},
     "output_type": "execute_result"
    }
   ],
   "source": [
    "data_aysen_clean"
   ]
  },
  {
   "cell_type": "code",
   "execution_count": 174,
   "id": "4175b279",
   "metadata": {},
   "outputs": [
    {
     "data": {
      "text/plain": [
       "dtype('float64')"
      ]
     },
     "execution_count": 174,
     "metadata": {},
     "output_type": "execute_result"
    }
   ],
   "source": [
    "# Revisa tipo de datos\n",
    "df_seguimiento_filtered['nfolio_caso'].dtype"
   ]
  },
  {
   "cell_type": "code",
   "execution_count": 175,
   "id": "0ebd95e5",
   "metadata": {},
   "outputs": [
    {
     "data": {
      "text/plain": [
       "dtype('float64')"
      ]
     },
     "execution_count": 175,
     "metadata": {},
     "output_type": "execute_result"
    }
   ],
   "source": [
    "# Revisa tipo de datos para merging\n",
    "\n",
    "data_aysen_clean['numero_folio'].dtype"
   ]
  },
  {
   "cell_type": "code",
   "execution_count": 176,
   "id": "30282e9b",
   "metadata": {},
   "outputs": [
    {
     "name": "stderr",
     "output_type": "stream",
     "text": [
      "<ipython-input-176-e6def0a43977>:6: SettingWithCopyWarning:\n",
      "\n",
      "\n",
      "A value is trying to be set on a copy of a slice from a DataFrame.\n",
      "Try using .loc[row_indexer,col_indexer] = value instead\n",
      "\n",
      "See the caveats in the documentation: https://pandas.pydata.org/pandas-docs/stable/user_guide/indexing.html#returning-a-view-versus-a-copy\n",
      "\n"
     ]
    }
   ],
   "source": [
    "# Transforma dtype de ambas columnas a float64 para permitir merging \n",
    "\n",
    "df_seguimiento_filtered['nfolio_caso']= df_seguimiento_filtered['nfolio_caso'].astype('float64', errors='raise')\n",
    "\n",
    "\n",
    "data_aysen_clean['numero_folio']= data_aysen_clean['numero_folio'].astype('float64', errors='raise')"
   ]
  },
  {
   "cell_type": "code",
   "execution_count": 177,
   "id": "81880a55",
   "metadata": {},
   "outputs": [],
   "source": [
    "# Combina ambas columnas para nfolio_caso y nfolio_contacto_estrecho y \n",
    "# agrega NA en donde corresponda a otros casos como PNTM o nfolio_caso_indice\n",
    "\n",
    "df_seguimiento_filtered['nfolio_merge'] = df_seguimiento_filtered['nfolio_caso'].combine_first(df_seguimiento_filtered['nfolio_contacto_estrecho']).astype('float64', errors='raise')\n",
    "\n"
   ]
  },
  {
   "cell_type": "code",
   "execution_count": 178,
   "id": "ccab73d8",
   "metadata": {},
   "outputs": [],
   "source": [
    "# Realiza merge con base de datos de notificaciones agregando los valores de casos confirmados y probables\n",
    "\n",
    "\n",
    "df_seguimiento_filtered= df_seguimiento_filtered.merge(data_aysen_clean[[\n",
    "                                            'numero_folio',\n",
    "                                            'etapa_clinica',\n",
    "                                            'tipo_caso_busqueda',\n",
    "                                            'establecimiento_salud',\n",
    "                                            'resultado_pcr_1',\n",
    "                                            'resultado_pcr_2',\n",
    "                                            'resultado_pcr_3',\n",
    "                                            'comuna_seremi_xi',\n",
    "                                            'provincia_seremi_xi',\n",
    "                                            'edad',\n",
    "                                            'sexo',\n",
    "                                            'pop_hombres',\n",
    "                                            'pop_mujeres',\n",
    "                                            'pop_total'\n",
    "                                        ]], left_on='nfolio_merge', right_on='numero_folio' , how='left')"
   ]
  },
  {
   "cell_type": "code",
   "execution_count": 179,
   "id": "cdf77667",
   "metadata": {},
   "outputs": [],
   "source": [
    "# Selecciona variables de importancia\n",
    "\n",
    "df_seguimiento_clean = df_seguimiento_filtered[[\n",
    "    'n_folio',\n",
    "    'nfolio_caso',\n",
    "    'nfolio_caso_indice',\n",
    "    'nfolio_pntm',\n",
    "    'nfolio_contacto_estrecho',\n",
    "    'tipo_seguimiento',\n",
    "    'dia_contacto',\n",
    "    'fecha_notificacion',\n",
    "    'nombre_institucion_indice',\n",
    "    'region_institucion_indice',\n",
    "    'nombre_region_institucion_indice',\n",
    "    'region',\n",
    "    'id_region',\n",
    "    'fecha_cumple_requisitos',\n",
    "    'TTA',\n",
    "    'cumple_aislamiento_cuarentena',\n",
    "    'folio_se_convierte_en_caso',\n",
    "    'visible_no_eliminado',\n",
    "    'suspendido',\n",
    "    'sintomas',\n",
    "    'observacion_seguimiento_contactos',\n",
    "    'tiene_resultado_covid',\n",
    "    'derivacion_a_su',\n",
    "    'derivacion_toma_muestra',\n",
    "    'fecha_derivacion_toma_muestra',\n",
    "    'cont_fecha_seguimiento',\n",
    "    'cont_tipo_contacto',\n",
    "    'cont_parentesco',\n",
    "    'cont_otra_relacion',\n",
    "    'cont_tipo_transporte',\n",
    "    'cont_nombre_vuelo',\n",
    "    'cont_fecha_llegada',\n",
    "    'detalle_pasajero',\n",
    "    'cont_inicio_cuarentena',\n",
    "    'cont_fin_cuarentena',\n",
    "    'cont_requiere_licencia_medica',\n",
    "    'cont_se_emite_licencia',\n",
    "    'cont_fecha_licencia',\n",
    "    'requiere_canasta_alimentos',\n",
    "    'cantidad_personas_vivienda',\n",
    "    'cont_estado_seguimiento',\n",
    "    'fecha_creacion',\n",
    "    'tipo_del_contacto',\n",
    "    'contacto_localizado',\n",
    "    'empresa',\n",
    "    'institucion',\n",
    "    'etapa_clinica',\n",
    "    'tipo_caso_busqueda',\n",
    "    'establecimiento_salud',\n",
    "    'resultado_pcr_1',\n",
    "    'resultado_pcr_2',\n",
    "    'resultado_pcr_3',\n",
    "    'comuna_seremi_xi',\n",
    "    'provincia_seremi_xi',\n",
    "    'edad',\n",
    "    'sexo',\n",
    "    'pop_hombres',\n",
    "    'pop_mujeres',\n",
    "    'pop_total'\n",
    "]]"
   ]
  },
  {
   "cell_type": "code",
   "execution_count": 180,
   "id": "0ac27cb4",
   "metadata": {},
   "outputs": [
    {
     "data": {
      "text/html": [
       "<div>\n",
       "<style scoped>\n",
       "    .dataframe tbody tr th:only-of-type {\n",
       "        vertical-align: middle;\n",
       "    }\n",
       "\n",
       "    .dataframe tbody tr th {\n",
       "        vertical-align: top;\n",
       "    }\n",
       "\n",
       "    .dataframe thead th {\n",
       "        text-align: right;\n",
       "    }\n",
       "</style>\n",
       "<table border=\"1\" class=\"dataframe\">\n",
       "  <thead>\n",
       "    <tr style=\"text-align: right;\">\n",
       "      <th></th>\n",
       "      <th>n_folio</th>\n",
       "      <th>nfolio_caso</th>\n",
       "      <th>nfolio_caso_indice</th>\n",
       "      <th>nfolio_pntm</th>\n",
       "      <th>nfolio_contacto_estrecho</th>\n",
       "      <th>tipo_seguimiento</th>\n",
       "      <th>dia_contacto</th>\n",
       "      <th>fecha_notificacion</th>\n",
       "      <th>nombre_institucion_indice</th>\n",
       "      <th>region_institucion_indice</th>\n",
       "      <th>...</th>\n",
       "      <th>resultado_pcr_1</th>\n",
       "      <th>resultado_pcr_2</th>\n",
       "      <th>resultado_pcr_3</th>\n",
       "      <th>comuna_seremi_xi</th>\n",
       "      <th>provincia_seremi_xi</th>\n",
       "      <th>edad</th>\n",
       "      <th>sexo</th>\n",
       "      <th>pop_hombres</th>\n",
       "      <th>pop_mujeres</th>\n",
       "      <th>pop_total</th>\n",
       "    </tr>\n",
       "  </thead>\n",
       "  <tbody>\n",
       "    <tr>\n",
       "      <th>0</th>\n",
       "      <td>8753781</td>\n",
       "      <td>8753781.0</td>\n",
       "      <td>NaN</td>\n",
       "      <td>NaN</td>\n",
       "      <td>NaN</td>\n",
       "      <td>caso</td>\n",
       "      <td>2021-03-02 00:00:00</td>\n",
       "      <td>2021-03-01</td>\n",
       "      <td>Hospital Regional (Coihaique)</td>\n",
       "      <td>11</td>\n",
       "      <td>...</td>\n",
       "      <td>POSITIVO</td>\n",
       "      <td>POSITIVO</td>\n",
       "      <td>POSITIVO</td>\n",
       "      <td>Coyhaique</td>\n",
       "      <td>Coyhaique</td>\n",
       "      <td>47.0</td>\n",
       "      <td>hombre</td>\n",
       "      <td>28763.0</td>\n",
       "      <td>29055.0</td>\n",
       "      <td>57818.0</td>\n",
       "    </tr>\n",
       "    <tr>\n",
       "      <th>1</th>\n",
       "      <td>SC9677760-11425750</td>\n",
       "      <td>NaN</td>\n",
       "      <td>11425750</td>\n",
       "      <td>NaN</td>\n",
       "      <td>9677760</td>\n",
       "      <td>contacto</td>\n",
       "      <td>2021-03-25 00:00:00</td>\n",
       "      <td>2021-03-20</td>\n",
       "      <td>Hospital Regional (Coihaique)</td>\n",
       "      <td>11</td>\n",
       "      <td>...</td>\n",
       "      <td>POSITIVO</td>\n",
       "      <td>POSITIVO</td>\n",
       "      <td>NaN</td>\n",
       "      <td>Coyhaique</td>\n",
       "      <td>Coyhaique</td>\n",
       "      <td>19.0</td>\n",
       "      <td>mujer</td>\n",
       "      <td>28763.0</td>\n",
       "      <td>29055.0</td>\n",
       "      <td>57818.0</td>\n",
       "    </tr>\n",
       "    <tr>\n",
       "      <th>2</th>\n",
       "      <td>SC9780675-11714657</td>\n",
       "      <td>NaN</td>\n",
       "      <td>11714657</td>\n",
       "      <td>NaN</td>\n",
       "      <td>9780675</td>\n",
       "      <td>contacto</td>\n",
       "      <td>2021-03-29 00:00:00</td>\n",
       "      <td>2021-03-23</td>\n",
       "      <td>Actividades gestionadas por la Dirección del S...</td>\n",
       "      <td>11</td>\n",
       "      <td>...</td>\n",
       "      <td>NaN</td>\n",
       "      <td>NaN</td>\n",
       "      <td>NaN</td>\n",
       "      <td>Coyhaique</td>\n",
       "      <td>Coyhaique</td>\n",
       "      <td>31.0</td>\n",
       "      <td>mujer</td>\n",
       "      <td>28763.0</td>\n",
       "      <td>29055.0</td>\n",
       "      <td>57818.0</td>\n",
       "    </tr>\n",
       "    <tr>\n",
       "      <th>3</th>\n",
       "      <td>SC10084431-11964234</td>\n",
       "      <td>NaN</td>\n",
       "      <td>11964234</td>\n",
       "      <td>NaN</td>\n",
       "      <td>10084431</td>\n",
       "      <td>contacto</td>\n",
       "      <td>2021-03-29 00:00:00</td>\n",
       "      <td>2021-03-29</td>\n",
       "      <td>Actividades gestionadas por la Dirección del S...</td>\n",
       "      <td>11</td>\n",
       "      <td>...</td>\n",
       "      <td>POSITIVO</td>\n",
       "      <td>NaN</td>\n",
       "      <td>NaN</td>\n",
       "      <td>Coyhaique</td>\n",
       "      <td>Coyhaique</td>\n",
       "      <td>15.0</td>\n",
       "      <td>mujer</td>\n",
       "      <td>28763.0</td>\n",
       "      <td>29055.0</td>\n",
       "      <td>57818.0</td>\n",
       "    </tr>\n",
       "    <tr>\n",
       "      <th>4</th>\n",
       "      <td>SC10332193-12293320</td>\n",
       "      <td>NaN</td>\n",
       "      <td>12293320</td>\n",
       "      <td>NaN</td>\n",
       "      <td>10332193</td>\n",
       "      <td>contacto</td>\n",
       "      <td>2021-04-04 00:00:00</td>\n",
       "      <td>2021-04-03</td>\n",
       "      <td>Posta de Salud Rural Lago Verde</td>\n",
       "      <td>11</td>\n",
       "      <td>...</td>\n",
       "      <td>NaN</td>\n",
       "      <td>NaN</td>\n",
       "      <td>NaN</td>\n",
       "      <td>Lago Verde</td>\n",
       "      <td>Coyhaique</td>\n",
       "      <td>82.0</td>\n",
       "      <td>hombre</td>\n",
       "      <td>494.0</td>\n",
       "      <td>358.0</td>\n",
       "      <td>852.0</td>\n",
       "    </tr>\n",
       "    <tr>\n",
       "      <th>...</th>\n",
       "      <td>...</td>\n",
       "      <td>...</td>\n",
       "      <td>...</td>\n",
       "      <td>...</td>\n",
       "      <td>...</td>\n",
       "      <td>...</td>\n",
       "      <td>...</td>\n",
       "      <td>...</td>\n",
       "      <td>...</td>\n",
       "      <td>...</td>\n",
       "      <td>...</td>\n",
       "      <td>...</td>\n",
       "      <td>...</td>\n",
       "      <td>...</td>\n",
       "      <td>...</td>\n",
       "      <td>...</td>\n",
       "      <td>...</td>\n",
       "      <td>...</td>\n",
       "      <td>...</td>\n",
       "      <td>...</td>\n",
       "      <td>...</td>\n",
       "    </tr>\n",
       "    <tr>\n",
       "      <th>293816</th>\n",
       "      <td>SC16034389-20188901</td>\n",
       "      <td>NaN</td>\n",
       "      <td>20188901</td>\n",
       "      <td>NaN</td>\n",
       "      <td>16034389</td>\n",
       "      <td>contacto</td>\n",
       "      <td>2021-08-25 00:00:00</td>\n",
       "      <td>2021-08-15</td>\n",
       "      <td>Hospital Regional (Coihaique)</td>\n",
       "      <td>11</td>\n",
       "      <td>...</td>\n",
       "      <td>POSITIVO</td>\n",
       "      <td>POSITIVO</td>\n",
       "      <td>NaN</td>\n",
       "      <td>Coyhaique</td>\n",
       "      <td>Coyhaique</td>\n",
       "      <td>5.0</td>\n",
       "      <td>mujer</td>\n",
       "      <td>28763.0</td>\n",
       "      <td>29055.0</td>\n",
       "      <td>57818.0</td>\n",
       "    </tr>\n",
       "    <tr>\n",
       "      <th>293817</th>\n",
       "      <td>PNTM-7016056768</td>\n",
       "      <td>NaN</td>\n",
       "      <td>NaN</td>\n",
       "      <td>7016056768</td>\n",
       "      <td>NaN</td>\n",
       "      <td>no notificado índice</td>\n",
       "      <td>Sin Datos</td>\n",
       "      <td>NaT</td>\n",
       "      <td>Sin Datos</td>\n",
       "      <td>Sin Datos</td>\n",
       "      <td>...</td>\n",
       "      <td>NaN</td>\n",
       "      <td>NaN</td>\n",
       "      <td>NaN</td>\n",
       "      <td>NaN</td>\n",
       "      <td>NaN</td>\n",
       "      <td>NaN</td>\n",
       "      <td>NaN</td>\n",
       "      <td>NaN</td>\n",
       "      <td>NaN</td>\n",
       "      <td>NaN</td>\n",
       "    </tr>\n",
       "    <tr>\n",
       "      <th>293818</th>\n",
       "      <td>PNTM-7015472903</td>\n",
       "      <td>NaN</td>\n",
       "      <td>NaN</td>\n",
       "      <td>7015472903</td>\n",
       "      <td>NaN</td>\n",
       "      <td>no notificado índice</td>\n",
       "      <td>Sin Datos</td>\n",
       "      <td>NaT</td>\n",
       "      <td>Sin Datos</td>\n",
       "      <td>Sin Datos</td>\n",
       "      <td>...</td>\n",
       "      <td>NaN</td>\n",
       "      <td>NaN</td>\n",
       "      <td>NaN</td>\n",
       "      <td>NaN</td>\n",
       "      <td>NaN</td>\n",
       "      <td>NaN</td>\n",
       "      <td>NaN</td>\n",
       "      <td>NaN</td>\n",
       "      <td>NaN</td>\n",
       "      <td>NaN</td>\n",
       "    </tr>\n",
       "    <tr>\n",
       "      <th>293819</th>\n",
       "      <td>PNTM-7015314831</td>\n",
       "      <td>NaN</td>\n",
       "      <td>NaN</td>\n",
       "      <td>7015314831</td>\n",
       "      <td>NaN</td>\n",
       "      <td>no notificado índice</td>\n",
       "      <td>Sin Datos</td>\n",
       "      <td>NaT</td>\n",
       "      <td>Sin Datos</td>\n",
       "      <td>Sin Datos</td>\n",
       "      <td>...</td>\n",
       "      <td>NaN</td>\n",
       "      <td>NaN</td>\n",
       "      <td>NaN</td>\n",
       "      <td>NaN</td>\n",
       "      <td>NaN</td>\n",
       "      <td>NaN</td>\n",
       "      <td>NaN</td>\n",
       "      <td>NaN</td>\n",
       "      <td>NaN</td>\n",
       "      <td>NaN</td>\n",
       "    </tr>\n",
       "    <tr>\n",
       "      <th>293820</th>\n",
       "      <td>PNTM-7016230035</td>\n",
       "      <td>NaN</td>\n",
       "      <td>NaN</td>\n",
       "      <td>7016230035</td>\n",
       "      <td>NaN</td>\n",
       "      <td>no notificado índice</td>\n",
       "      <td>Sin Datos</td>\n",
       "      <td>NaT</td>\n",
       "      <td>Sin Datos</td>\n",
       "      <td>Sin Datos</td>\n",
       "      <td>...</td>\n",
       "      <td>NaN</td>\n",
       "      <td>NaN</td>\n",
       "      <td>NaN</td>\n",
       "      <td>NaN</td>\n",
       "      <td>NaN</td>\n",
       "      <td>NaN</td>\n",
       "      <td>NaN</td>\n",
       "      <td>NaN</td>\n",
       "      <td>NaN</td>\n",
       "      <td>NaN</td>\n",
       "    </tr>\n",
       "  </tbody>\n",
       "</table>\n",
       "<p>293821 rows × 59 columns</p>\n",
       "</div>"
      ],
      "text/plain": [
       "                    n_folio  nfolio_caso nfolio_caso_indice nfolio_pntm  \\\n",
       "0                   8753781    8753781.0                NaN         NaN   \n",
       "1        SC9677760-11425750          NaN           11425750         NaN   \n",
       "2        SC9780675-11714657          NaN           11714657         NaN   \n",
       "3       SC10084431-11964234          NaN           11964234         NaN   \n",
       "4       SC10332193-12293320          NaN           12293320         NaN   \n",
       "...                     ...          ...                ...         ...   \n",
       "293816  SC16034389-20188901          NaN           20188901         NaN   \n",
       "293817      PNTM-7016056768          NaN                NaN  7016056768   \n",
       "293818      PNTM-7015472903          NaN                NaN  7015472903   \n",
       "293819      PNTM-7015314831          NaN                NaN  7015314831   \n",
       "293820      PNTM-7016230035          NaN                NaN  7016230035   \n",
       "\n",
       "       nfolio_contacto_estrecho      tipo_seguimiento         dia_contacto  \\\n",
       "0                           NaN                  caso  2021-03-02 00:00:00   \n",
       "1                       9677760              contacto  2021-03-25 00:00:00   \n",
       "2                       9780675              contacto  2021-03-29 00:00:00   \n",
       "3                      10084431              contacto  2021-03-29 00:00:00   \n",
       "4                      10332193              contacto  2021-04-04 00:00:00   \n",
       "...                         ...                   ...                  ...   \n",
       "293816                 16034389              contacto  2021-08-25 00:00:00   \n",
       "293817                      NaN  no notificado índice            Sin Datos   \n",
       "293818                      NaN  no notificado índice            Sin Datos   \n",
       "293819                      NaN  no notificado índice            Sin Datos   \n",
       "293820                      NaN  no notificado índice            Sin Datos   \n",
       "\n",
       "       fecha_notificacion                          nombre_institucion_indice  \\\n",
       "0              2021-03-01                      Hospital Regional (Coihaique)   \n",
       "1              2021-03-20                      Hospital Regional (Coihaique)   \n",
       "2              2021-03-23  Actividades gestionadas por la Dirección del S...   \n",
       "3              2021-03-29  Actividades gestionadas por la Dirección del S...   \n",
       "4              2021-04-03                    Posta de Salud Rural Lago Verde   \n",
       "...                   ...                                                ...   \n",
       "293816         2021-08-15                      Hospital Regional (Coihaique)   \n",
       "293817                NaT                                          Sin Datos   \n",
       "293818                NaT                                          Sin Datos   \n",
       "293819                NaT                                          Sin Datos   \n",
       "293820                NaT                                          Sin Datos   \n",
       "\n",
       "       region_institucion_indice  ... resultado_pcr_1 resultado_pcr_2  \\\n",
       "0                             11  ...        POSITIVO        POSITIVO   \n",
       "1                             11  ...        POSITIVO        POSITIVO   \n",
       "2                             11  ...             NaN             NaN   \n",
       "3                             11  ...        POSITIVO             NaN   \n",
       "4                             11  ...             NaN             NaN   \n",
       "...                          ...  ...             ...             ...   \n",
       "293816                        11  ...        POSITIVO        POSITIVO   \n",
       "293817                 Sin Datos  ...             NaN             NaN   \n",
       "293818                 Sin Datos  ...             NaN             NaN   \n",
       "293819                 Sin Datos  ...             NaN             NaN   \n",
       "293820                 Sin Datos  ...             NaN             NaN   \n",
       "\n",
       "       resultado_pcr_3 comuna_seremi_xi provincia_seremi_xi  edad    sexo  \\\n",
       "0             POSITIVO        Coyhaique           Coyhaique  47.0  hombre   \n",
       "1                  NaN        Coyhaique           Coyhaique  19.0   mujer   \n",
       "2                  NaN        Coyhaique           Coyhaique  31.0   mujer   \n",
       "3                  NaN        Coyhaique           Coyhaique  15.0   mujer   \n",
       "4                  NaN       Lago Verde           Coyhaique  82.0  hombre   \n",
       "...                ...              ...                 ...   ...     ...   \n",
       "293816             NaN        Coyhaique           Coyhaique   5.0   mujer   \n",
       "293817             NaN              NaN                 NaN   NaN     NaN   \n",
       "293818             NaN              NaN                 NaN   NaN     NaN   \n",
       "293819             NaN              NaN                 NaN   NaN     NaN   \n",
       "293820             NaN              NaN                 NaN   NaN     NaN   \n",
       "\n",
       "       pop_hombres pop_mujeres pop_total  \n",
       "0          28763.0     29055.0   57818.0  \n",
       "1          28763.0     29055.0   57818.0  \n",
       "2          28763.0     29055.0   57818.0  \n",
       "3          28763.0     29055.0   57818.0  \n",
       "4            494.0       358.0     852.0  \n",
       "...            ...         ...       ...  \n",
       "293816     28763.0     29055.0   57818.0  \n",
       "293817         NaN         NaN       NaN  \n",
       "293818         NaN         NaN       NaN  \n",
       "293819         NaN         NaN       NaN  \n",
       "293820         NaN         NaN       NaN  \n",
       "\n",
       "[293821 rows x 59 columns]"
      ]
     },
     "execution_count": 180,
     "metadata": {},
     "output_type": "execute_result"
    }
   ],
   "source": [
    "df_seguimiento_clean"
   ]
  },
  {
   "cell_type": "code",
   "execution_count": 184,
   "id": "6e51fac7",
   "metadata": {},
   "outputs": [],
   "source": [
    "#Se consideran solo los visible no eliniminados y se botan duplicados\n",
    "\n",
    "df_seguimiento_clean= df_seguimiento_clean[df_seguimiento_clean['visible_no_eliminado']=='t'].drop_duplicates('n_folio')\n"
   ]
  },
  {
   "cell_type": "markdown",
   "id": "6034da3a",
   "metadata": {},
   "source": [
    "# Indicador 5: Oportunidad en la investigación epidemiológica de casos\n",
    "\n",
    "## Objetivo: Fortalecer la investigación epidemiológica de los casos\n",
    "\n",
    "### Meta: >90%\n",
    "\n",
    "**Periodicidad:** Semanal\n",
    "\n",
    "**Escala Territorial:** Comunal, Regional, Nacional\n",
    "\n",
    "**Fuente de Información:** Base EPIVIGILIA actualizada con los reportes de laboratorio al día de la determinación del indicador. Base de seguimiento"
   ]
  },
  {
   "cell_type": "markdown",
   "id": "0d29cecb",
   "metadata": {},
   "source": [
    "### Cálculo del indicador a nivel comunal\n",
    "\n",
    "$\\frac{No.\\:casos\\:nuevos\\:registrados\\:investigados\\:dentro\\:de\\:48\\:hrs\\:por\\:comuna\\:1er\\:establecimiento,\\:semana\\:x}{No.\\:casos\\:nuevos\\:registrados\\:por\\:comuna\\:1er\\:establecimiento\\:semana\\:x}x100$"
   ]
  },
  {
   "cell_type": "markdown",
   "id": "d9035d1d",
   "metadata": {},
   "source": [
    "### Cálculo del indicador a nivel regional\n",
    "\n",
    "$\\frac{No.\\:casos\\:nuevos\\:registrados\\:investigados\\:dentro\\:de\\:48\\:hrs\\:por\\:región\\:1er\\:establecimiento,\\:semana\\:x}{No.\\:casos\\:nuevos\\:registrados\\:por\\:región\\:1er\\:establecimiento\\:semana\\:x}x100$"
   ]
  },
  {
   "cell_type": "markdown",
   "id": "91bc248a",
   "metadata": {},
   "source": [
    "**Observación**\n",
    "\n",
    "- No se incluyen los casos nuevos no notificados\n",
    "- Se considera un caso nuevo registrado a aquel caso notificado que cumple los requisitos para estar en el modulo de seguimiento\n",
    "- La fecha para determinar el *inicio de seguimiento* corresponde a la **fecha de resultado (caso confirmado)** o **fecha de notificación (caso probable)**. Para un caso confirmado, si el resultado del test es anterior a la fecha de notificación, se debe iniciar seguimiento a partir de la fecha en que el registro está disponible en la bandeja de seguimiento.\n",
    "- Se cumple el indicador si, dentro de las 48 hrs. a partir de la fecha de inicio de seguimiento se tiene al menos una actividad de seguimiento exitosa (se logra ubicar al caso).\n",
    "- El primer establecimiento corresponde al establecimiento dado por API FONASA. Si el registro no hace match con API FONASA, se considera el establecimiento de notificación.\n",
    "- Se consideran sólo registros de casos que estén activos o egresados en la bandeja de seguimiento."
   ]
  },
  {
   "cell_type": "code",
   "execution_count": 185,
   "id": "96d3e313",
   "metadata": {},
   "outputs": [
    {
     "data": {
      "text/plain": [
       "0        2021-03-01 11:46:59.255357\n",
       "1        2021-03-22 12:49:44.051748\n",
       "2        2021-03-25 18:23:53.976693\n",
       "3        2021-03-29 17:55:07.453245\n",
       "4        2021-04-03 13:40:31.874120\n",
       "                    ...            \n",
       "293632   2021-08-30 16:29:30.654791\n",
       "293661   2021-08-29 13:11:14.055881\n",
       "293814   2021-08-17 19:43:02.977625\n",
       "293817   2021-08-16 00:32:44.242543\n",
       "293820   2021-08-19 00:33:56.129119\n",
       "Name: fecha_creacion, Length: 95463, dtype: datetime64[ns]"
      ]
     },
     "execution_count": 185,
     "metadata": {},
     "output_type": "execute_result"
    }
   ],
   "source": [
    "df_seguimiento_clean['fecha_creacion'] #casos nuevos registrados"
   ]
  },
  {
   "cell_type": "code",
   "execution_count": 254,
   "id": "28aa4daa",
   "metadata": {},
   "outputs": [
    {
     "data": {
      "text/html": [
       "<div>\n",
       "<style scoped>\n",
       "    .dataframe tbody tr th:only-of-type {\n",
       "        vertical-align: middle;\n",
       "    }\n",
       "\n",
       "    .dataframe tbody tr th {\n",
       "        vertical-align: top;\n",
       "    }\n",
       "\n",
       "    .dataframe thead th {\n",
       "        text-align: right;\n",
       "    }\n",
       "</style>\n",
       "<table border=\"1\" class=\"dataframe\">\n",
       "  <thead>\n",
       "    <tr style=\"text-align: right;\">\n",
       "      <th></th>\n",
       "      <th>n_folio</th>\n",
       "      <th>nfolio_caso</th>\n",
       "      <th>nfolio_caso_indice</th>\n",
       "      <th>nfolio_pntm</th>\n",
       "      <th>nfolio_contacto_estrecho</th>\n",
       "      <th>tipo_seguimiento</th>\n",
       "      <th>dia_contacto</th>\n",
       "      <th>fecha_notificacion</th>\n",
       "      <th>nombre_institucion_indice</th>\n",
       "      <th>region_institucion_indice</th>\n",
       "      <th>...</th>\n",
       "      <th>resultado_pcr_1</th>\n",
       "      <th>resultado_pcr_2</th>\n",
       "      <th>resultado_pcr_3</th>\n",
       "      <th>comuna_seremi_xi</th>\n",
       "      <th>provincia_seremi_xi</th>\n",
       "      <th>edad</th>\n",
       "      <th>sexo</th>\n",
       "      <th>pop_hombres</th>\n",
       "      <th>pop_mujeres</th>\n",
       "      <th>pop_total</th>\n",
       "    </tr>\n",
       "  </thead>\n",
       "  <tbody>\n",
       "    <tr>\n",
       "      <th>121642</th>\n",
       "      <td>12177580</td>\n",
       "      <td>12177580.0</td>\n",
       "      <td>NaN</td>\n",
       "      <td>NaN</td>\n",
       "      <td>NaN</td>\n",
       "      <td>caso</td>\n",
       "      <td>2021-05-13 00:00:00</td>\n",
       "      <td>2021-05-13</td>\n",
       "      <td>Actividades gestionadas por la Dirección del S...</td>\n",
       "      <td>11</td>\n",
       "      <td>...</td>\n",
       "      <td>NaN</td>\n",
       "      <td>NaN</td>\n",
       "      <td>NaN</td>\n",
       "      <td>Coyhaique</td>\n",
       "      <td>Coyhaique</td>\n",
       "      <td>1.0</td>\n",
       "      <td>mujer</td>\n",
       "      <td>28763.0</td>\n",
       "      <td>29055.0</td>\n",
       "      <td>57818.0</td>\n",
       "    </tr>\n",
       "    <tr>\n",
       "      <th>209795</th>\n",
       "      <td>13239384</td>\n",
       "      <td>13239384.0</td>\n",
       "      <td>NaN</td>\n",
       "      <td>NaN</td>\n",
       "      <td>NaN</td>\n",
       "      <td>caso</td>\n",
       "      <td>2021-06-07 00:00:00</td>\n",
       "      <td>2021-06-04</td>\n",
       "      <td>Ejercicio libre de la profesión RM región</td>\n",
       "      <td>13</td>\n",
       "      <td>...</td>\n",
       "      <td>NaN</td>\n",
       "      <td>NaN</td>\n",
       "      <td>NaN</td>\n",
       "      <td>NaN</td>\n",
       "      <td>NaN</td>\n",
       "      <td>NaN</td>\n",
       "      <td>NaN</td>\n",
       "      <td>NaN</td>\n",
       "      <td>NaN</td>\n",
       "      <td>NaN</td>\n",
       "    </tr>\n",
       "  </tbody>\n",
       "</table>\n",
       "<p>2 rows × 59 columns</p>\n",
       "</div>"
      ],
      "text/plain": [
       "         n_folio  nfolio_caso nfolio_caso_indice nfolio_pntm  \\\n",
       "121642  12177580   12177580.0                NaN         NaN   \n",
       "209795  13239384   13239384.0                NaN         NaN   \n",
       "\n",
       "       nfolio_contacto_estrecho tipo_seguimiento         dia_contacto  \\\n",
       "121642                      NaN             caso  2021-05-13 00:00:00   \n",
       "209795                      NaN             caso  2021-06-07 00:00:00   \n",
       "\n",
       "       fecha_notificacion                          nombre_institucion_indice  \\\n",
       "121642         2021-05-13  Actividades gestionadas por la Dirección del S...   \n",
       "209795         2021-06-04          Ejercicio libre de la profesión RM región   \n",
       "\n",
       "       region_institucion_indice  ... resultado_pcr_1 resultado_pcr_2  \\\n",
       "121642                        11  ...             NaN             NaN   \n",
       "209795                        13  ...             NaN             NaN   \n",
       "\n",
       "       resultado_pcr_3 comuna_seremi_xi provincia_seremi_xi edad   sexo  \\\n",
       "121642             NaN        Coyhaique           Coyhaique  1.0  mujer   \n",
       "209795             NaN              NaN                 NaN  NaN    NaN   \n",
       "\n",
       "       pop_hombres pop_mujeres pop_total  \n",
       "121642     28763.0     29055.0   57818.0  \n",
       "209795         NaN         NaN       NaN  \n",
       "\n",
       "[2 rows x 59 columns]"
      ]
     },
     "execution_count": 254,
     "metadata": {},
     "output_type": "execute_result"
    }
   ],
   "source": [
    "\n",
    "#Se consideran sólo registros de casos que estén activos o egresados en la bandeja de seguimiento.\n",
    "\n",
    "df_seguimiento_ind5= df_seguimiento_clean[(df_seguimiento_clean['suspendido']=='activo')|(df_seguimiento_clean['suspendido']=='egresado')]\n",
    "\n",
    "df_seguimiento_ind5.sample(2)"
   ]
  },
  {
   "cell_type": "code",
   "execution_count": 255,
   "id": "c5aea4cf",
   "metadata": {},
   "outputs": [
    {
     "data": {
      "text/html": [
       "<div>\n",
       "<style scoped>\n",
       "    .dataframe tbody tr th:only-of-type {\n",
       "        vertical-align: middle;\n",
       "    }\n",
       "\n",
       "    .dataframe tbody tr th {\n",
       "        vertical-align: top;\n",
       "    }\n",
       "\n",
       "    .dataframe thead th {\n",
       "        text-align: right;\n",
       "    }\n",
       "</style>\n",
       "<table border=\"1\" class=\"dataframe\">\n",
       "  <thead>\n",
       "    <tr style=\"text-align: right;\">\n",
       "      <th></th>\n",
       "      <th>suspendido</th>\n",
       "      <th>etapa_clinica</th>\n",
       "      <th>visible_no_eliminado</th>\n",
       "      <th>resultado_pcr_1</th>\n",
       "      <th>resultado_pcr_2</th>\n",
       "      <th>resultado_pcr_3</th>\n",
       "    </tr>\n",
       "  </thead>\n",
       "  <tbody>\n",
       "    <tr>\n",
       "      <th>0</th>\n",
       "      <td>egresado</td>\n",
       "      <td>CONFIRMADA</td>\n",
       "      <td>t</td>\n",
       "      <td>POSITIVO</td>\n",
       "      <td>POSITIVO</td>\n",
       "      <td>POSITIVO</td>\n",
       "    </tr>\n",
       "    <tr>\n",
       "      <th>1</th>\n",
       "      <td>egresado</td>\n",
       "      <td>CONFIRMADA</td>\n",
       "      <td>t</td>\n",
       "      <td>POSITIVO</td>\n",
       "      <td>POSITIVO</td>\n",
       "      <td>NaN</td>\n",
       "    </tr>\n",
       "    <tr>\n",
       "      <th>2</th>\n",
       "      <td>egresado</td>\n",
       "      <td>CONFIRMADA</td>\n",
       "      <td>t</td>\n",
       "      <td>NaN</td>\n",
       "      <td>NaN</td>\n",
       "      <td>NaN</td>\n",
       "    </tr>\n",
       "    <tr>\n",
       "      <th>3</th>\n",
       "      <td>egresado</td>\n",
       "      <td>CONFIRMADA</td>\n",
       "      <td>t</td>\n",
       "      <td>POSITIVO</td>\n",
       "      <td>NaN</td>\n",
       "      <td>NaN</td>\n",
       "    </tr>\n",
       "    <tr>\n",
       "      <th>4</th>\n",
       "      <td>egresado</td>\n",
       "      <td>PROBABLE</td>\n",
       "      <td>t</td>\n",
       "      <td>NaN</td>\n",
       "      <td>NaN</td>\n",
       "      <td>NaN</td>\n",
       "    </tr>\n",
       "    <tr>\n",
       "      <th>...</th>\n",
       "      <td>...</td>\n",
       "      <td>...</td>\n",
       "      <td>...</td>\n",
       "      <td>...</td>\n",
       "      <td>...</td>\n",
       "      <td>...</td>\n",
       "    </tr>\n",
       "    <tr>\n",
       "      <th>293632</th>\n",
       "      <td>activo</td>\n",
       "      <td>PROBABLE</td>\n",
       "      <td>t</td>\n",
       "      <td>NaN</td>\n",
       "      <td>NaN</td>\n",
       "      <td>NaN</td>\n",
       "    </tr>\n",
       "    <tr>\n",
       "      <th>293661</th>\n",
       "      <td>activo</td>\n",
       "      <td>SOSPECHA</td>\n",
       "      <td>t</td>\n",
       "      <td>NaN</td>\n",
       "      <td>NaN</td>\n",
       "      <td>NaN</td>\n",
       "    </tr>\n",
       "    <tr>\n",
       "      <th>293814</th>\n",
       "      <td>egresado</td>\n",
       "      <td>PROBABLE</td>\n",
       "      <td>t</td>\n",
       "      <td>NEGATIVO</td>\n",
       "      <td>NaN</td>\n",
       "      <td>NEGATIVO</td>\n",
       "    </tr>\n",
       "    <tr>\n",
       "      <th>293817</th>\n",
       "      <td>egresado</td>\n",
       "      <td>NaN</td>\n",
       "      <td>t</td>\n",
       "      <td>NaN</td>\n",
       "      <td>NaN</td>\n",
       "      <td>NaN</td>\n",
       "    </tr>\n",
       "    <tr>\n",
       "      <th>293820</th>\n",
       "      <td>egresado</td>\n",
       "      <td>NaN</td>\n",
       "      <td>t</td>\n",
       "      <td>NaN</td>\n",
       "      <td>NaN</td>\n",
       "      <td>NaN</td>\n",
       "    </tr>\n",
       "  </tbody>\n",
       "</table>\n",
       "<p>18838 rows × 6 columns</p>\n",
       "</div>"
      ],
      "text/plain": [
       "       suspendido etapa_clinica visible_no_eliminado resultado_pcr_1  \\\n",
       "0        egresado    CONFIRMADA                    t        POSITIVO   \n",
       "1        egresado    CONFIRMADA                    t        POSITIVO   \n",
       "2        egresado    CONFIRMADA                    t             NaN   \n",
       "3        egresado    CONFIRMADA                    t        POSITIVO   \n",
       "4        egresado      PROBABLE                    t             NaN   \n",
       "...           ...           ...                  ...             ...   \n",
       "293632     activo      PROBABLE                    t             NaN   \n",
       "293661     activo      SOSPECHA                    t             NaN   \n",
       "293814   egresado      PROBABLE                    t        NEGATIVO   \n",
       "293817   egresado           NaN                    t             NaN   \n",
       "293820   egresado           NaN                    t             NaN   \n",
       "\n",
       "       resultado_pcr_2 resultado_pcr_3  \n",
       "0             POSITIVO        POSITIVO  \n",
       "1             POSITIVO             NaN  \n",
       "2                  NaN             NaN  \n",
       "3                  NaN             NaN  \n",
       "4                  NaN             NaN  \n",
       "...                ...             ...  \n",
       "293632             NaN             NaN  \n",
       "293661             NaN             NaN  \n",
       "293814             NaN        NEGATIVO  \n",
       "293817             NaN             NaN  \n",
       "293820             NaN             NaN  \n",
       "\n",
       "[18838 rows x 6 columns]"
      ]
     },
     "execution_count": 255,
     "metadata": {},
     "output_type": "execute_result"
    }
   ],
   "source": [
    "df_seguimiento_ind5[['suspendido', 'etapa_clinica', 'visible_no_eliminado','resultado_pcr_1','resultado_pcr_2','resultado_pcr_3']]"
   ]
  },
  {
   "cell_type": "code",
   "execution_count": 256,
   "id": "c657dc73",
   "metadata": {},
   "outputs": [
    {
     "data": {
      "text/plain": [
       "CONFIRMADA    15466\n",
       "PROBABLE       1751\n",
       "DESCARTADA      364\n",
       "SOSPECHA        131\n",
       "Name: etapa_clinica, dtype: int64"
      ]
     },
     "execution_count": 256,
     "metadata": {},
     "output_type": "execute_result"
    }
   ],
   "source": [
    "# Aún existen casos con 'etapa_clinica' DESCARTADA y SOSPECHA \n",
    "\n",
    "df_seguimiento_ind5.etapa_clinica.value_counts()"
   ]
  },
  {
   "cell_type": "code",
   "execution_count": 257,
   "id": "be2447d3",
   "metadata": {},
   "outputs": [
    {
     "data": {
      "text/html": [
       "<div>\n",
       "<style scoped>\n",
       "    .dataframe tbody tr th:only-of-type {\n",
       "        vertical-align: middle;\n",
       "    }\n",
       "\n",
       "    .dataframe tbody tr th {\n",
       "        vertical-align: top;\n",
       "    }\n",
       "\n",
       "    .dataframe thead th {\n",
       "        text-align: right;\n",
       "    }\n",
       "</style>\n",
       "<table border=\"1\" class=\"dataframe\">\n",
       "  <thead>\n",
       "    <tr style=\"text-align: right;\">\n",
       "      <th></th>\n",
       "      <th>n_folio</th>\n",
       "      <th>nfolio_caso</th>\n",
       "      <th>nfolio_caso_indice</th>\n",
       "      <th>nfolio_pntm</th>\n",
       "      <th>nfolio_contacto_estrecho</th>\n",
       "      <th>tipo_seguimiento</th>\n",
       "      <th>dia_contacto</th>\n",
       "      <th>fecha_notificacion</th>\n",
       "      <th>nombre_institucion_indice</th>\n",
       "      <th>region_institucion_indice</th>\n",
       "      <th>...</th>\n",
       "      <th>resultado_pcr_1</th>\n",
       "      <th>resultado_pcr_2</th>\n",
       "      <th>resultado_pcr_3</th>\n",
       "      <th>comuna_seremi_xi</th>\n",
       "      <th>provincia_seremi_xi</th>\n",
       "      <th>edad</th>\n",
       "      <th>sexo</th>\n",
       "      <th>pop_hombres</th>\n",
       "      <th>pop_mujeres</th>\n",
       "      <th>pop_total</th>\n",
       "    </tr>\n",
       "  </thead>\n",
       "  <tbody>\n",
       "    <tr>\n",
       "      <th>0</th>\n",
       "      <td>8753781</td>\n",
       "      <td>8753781.0</td>\n",
       "      <td>NaN</td>\n",
       "      <td>NaN</td>\n",
       "      <td>NaN</td>\n",
       "      <td>caso</td>\n",
       "      <td>2021-03-02 00:00:00</td>\n",
       "      <td>2021-03-01</td>\n",
       "      <td>Hospital Regional (Coihaique)</td>\n",
       "      <td>11</td>\n",
       "      <td>...</td>\n",
       "      <td>POSITIVO</td>\n",
       "      <td>POSITIVO</td>\n",
       "      <td>POSITIVO</td>\n",
       "      <td>Coyhaique</td>\n",
       "      <td>Coyhaique</td>\n",
       "      <td>47.0</td>\n",
       "      <td>hombre</td>\n",
       "      <td>28763.0</td>\n",
       "      <td>29055.0</td>\n",
       "      <td>57818.0</td>\n",
       "    </tr>\n",
       "    <tr>\n",
       "      <th>1</th>\n",
       "      <td>SC9677760-11425750</td>\n",
       "      <td>NaN</td>\n",
       "      <td>11425750</td>\n",
       "      <td>NaN</td>\n",
       "      <td>9677760</td>\n",
       "      <td>contacto</td>\n",
       "      <td>2021-03-25 00:00:00</td>\n",
       "      <td>2021-03-20</td>\n",
       "      <td>Hospital Regional (Coihaique)</td>\n",
       "      <td>11</td>\n",
       "      <td>...</td>\n",
       "      <td>POSITIVO</td>\n",
       "      <td>POSITIVO</td>\n",
       "      <td>NaN</td>\n",
       "      <td>Coyhaique</td>\n",
       "      <td>Coyhaique</td>\n",
       "      <td>19.0</td>\n",
       "      <td>mujer</td>\n",
       "      <td>28763.0</td>\n",
       "      <td>29055.0</td>\n",
       "      <td>57818.0</td>\n",
       "    </tr>\n",
       "    <tr>\n",
       "      <th>2</th>\n",
       "      <td>SC9780675-11714657</td>\n",
       "      <td>NaN</td>\n",
       "      <td>11714657</td>\n",
       "      <td>NaN</td>\n",
       "      <td>9780675</td>\n",
       "      <td>contacto</td>\n",
       "      <td>2021-03-29 00:00:00</td>\n",
       "      <td>2021-03-23</td>\n",
       "      <td>Actividades gestionadas por la Dirección del S...</td>\n",
       "      <td>11</td>\n",
       "      <td>...</td>\n",
       "      <td>NaN</td>\n",
       "      <td>NaN</td>\n",
       "      <td>NaN</td>\n",
       "      <td>Coyhaique</td>\n",
       "      <td>Coyhaique</td>\n",
       "      <td>31.0</td>\n",
       "      <td>mujer</td>\n",
       "      <td>28763.0</td>\n",
       "      <td>29055.0</td>\n",
       "      <td>57818.0</td>\n",
       "    </tr>\n",
       "    <tr>\n",
       "      <th>3</th>\n",
       "      <td>SC10084431-11964234</td>\n",
       "      <td>NaN</td>\n",
       "      <td>11964234</td>\n",
       "      <td>NaN</td>\n",
       "      <td>10084431</td>\n",
       "      <td>contacto</td>\n",
       "      <td>2021-03-29 00:00:00</td>\n",
       "      <td>2021-03-29</td>\n",
       "      <td>Actividades gestionadas por la Dirección del S...</td>\n",
       "      <td>11</td>\n",
       "      <td>...</td>\n",
       "      <td>POSITIVO</td>\n",
       "      <td>NaN</td>\n",
       "      <td>NaN</td>\n",
       "      <td>Coyhaique</td>\n",
       "      <td>Coyhaique</td>\n",
       "      <td>15.0</td>\n",
       "      <td>mujer</td>\n",
       "      <td>28763.0</td>\n",
       "      <td>29055.0</td>\n",
       "      <td>57818.0</td>\n",
       "    </tr>\n",
       "    <tr>\n",
       "      <th>5</th>\n",
       "      <td>SC10382396-12436348</td>\n",
       "      <td>NaN</td>\n",
       "      <td>12436348</td>\n",
       "      <td>NaN</td>\n",
       "      <td>10382396</td>\n",
       "      <td>contacto</td>\n",
       "      <td>2021-04-05 00:00:00</td>\n",
       "      <td>2021-04-05</td>\n",
       "      <td>Hospital Dr. Leopoldo Ortega R. (Chile Chico)</td>\n",
       "      <td>11</td>\n",
       "      <td>...</td>\n",
       "      <td>NaN</td>\n",
       "      <td>NaN</td>\n",
       "      <td>NaN</td>\n",
       "      <td>Chile Chico</td>\n",
       "      <td>General Carrera</td>\n",
       "      <td>53.0</td>\n",
       "      <td>mujer</td>\n",
       "      <td>2577.0</td>\n",
       "      <td>2288.0</td>\n",
       "      <td>4865.0</td>\n",
       "    </tr>\n",
       "    <tr>\n",
       "      <th>...</th>\n",
       "      <td>...</td>\n",
       "      <td>...</td>\n",
       "      <td>...</td>\n",
       "      <td>...</td>\n",
       "      <td>...</td>\n",
       "      <td>...</td>\n",
       "      <td>...</td>\n",
       "      <td>...</td>\n",
       "      <td>...</td>\n",
       "      <td>...</td>\n",
       "      <td>...</td>\n",
       "      <td>...</td>\n",
       "      <td>...</td>\n",
       "      <td>...</td>\n",
       "      <td>...</td>\n",
       "      <td>...</td>\n",
       "      <td>...</td>\n",
       "      <td>...</td>\n",
       "      <td>...</td>\n",
       "      <td>...</td>\n",
       "      <td>...</td>\n",
       "    </tr>\n",
       "    <tr>\n",
       "      <th>292908</th>\n",
       "      <td>SC16034389-20170066</td>\n",
       "      <td>NaN</td>\n",
       "      <td>20170066</td>\n",
       "      <td>NaN</td>\n",
       "      <td>16034389</td>\n",
       "      <td>contacto</td>\n",
       "      <td>2021-08-16 00:00:00</td>\n",
       "      <td>2021-08-15</td>\n",
       "      <td>Hospital Regional (Coihaique)</td>\n",
       "      <td>11</td>\n",
       "      <td>...</td>\n",
       "      <td>POSITIVO</td>\n",
       "      <td>POSITIVO</td>\n",
       "      <td>NaN</td>\n",
       "      <td>Coyhaique</td>\n",
       "      <td>Coyhaique</td>\n",
       "      <td>5.0</td>\n",
       "      <td>mujer</td>\n",
       "      <td>28763.0</td>\n",
       "      <td>29055.0</td>\n",
       "      <td>57818.0</td>\n",
       "    </tr>\n",
       "    <tr>\n",
       "      <th>293132</th>\n",
       "      <td>SC16061848-20213015</td>\n",
       "      <td>NaN</td>\n",
       "      <td>20213015</td>\n",
       "      <td>NaN</td>\n",
       "      <td>16061848</td>\n",
       "      <td>contacto</td>\n",
       "      <td>2021-08-17 00:00:00</td>\n",
       "      <td>2021-08-16</td>\n",
       "      <td>Actividades gestionadas por la Dirección del S...</td>\n",
       "      <td>11</td>\n",
       "      <td>...</td>\n",
       "      <td>NaN</td>\n",
       "      <td>POSITIVO</td>\n",
       "      <td>NaN</td>\n",
       "      <td>Coyhaique</td>\n",
       "      <td>Coyhaique</td>\n",
       "      <td>4.0</td>\n",
       "      <td>mujer</td>\n",
       "      <td>28763.0</td>\n",
       "      <td>29055.0</td>\n",
       "      <td>57818.0</td>\n",
       "    </tr>\n",
       "    <tr>\n",
       "      <th>293456</th>\n",
       "      <td>SC16218358-20338560</td>\n",
       "      <td>NaN</td>\n",
       "      <td>20338560</td>\n",
       "      <td>NaN</td>\n",
       "      <td>16218358</td>\n",
       "      <td>contacto</td>\n",
       "      <td>2021-08-20 00:00:00</td>\n",
       "      <td>2021-08-20</td>\n",
       "      <td>Consultorio Víctor Domingo Silva</td>\n",
       "      <td>11</td>\n",
       "      <td>...</td>\n",
       "      <td>NaN</td>\n",
       "      <td>POSITIVO</td>\n",
       "      <td>NaN</td>\n",
       "      <td>Coyhaique</td>\n",
       "      <td>Coyhaique</td>\n",
       "      <td>46.0</td>\n",
       "      <td>mujer</td>\n",
       "      <td>28763.0</td>\n",
       "      <td>29055.0</td>\n",
       "      <td>57818.0</td>\n",
       "    </tr>\n",
       "    <tr>\n",
       "      <th>293485</th>\n",
       "      <td>SC15919549-20027829</td>\n",
       "      <td>NaN</td>\n",
       "      <td>20027829</td>\n",
       "      <td>NaN</td>\n",
       "      <td>15919549</td>\n",
       "      <td>contacto</td>\n",
       "      <td>2021-08-12 00:00:00</td>\n",
       "      <td>2021-08-11</td>\n",
       "      <td>Hospital de Puerto Aysén</td>\n",
       "      <td>11</td>\n",
       "      <td>...</td>\n",
       "      <td>POSITIVO</td>\n",
       "      <td>POSITIVO</td>\n",
       "      <td>NaN</td>\n",
       "      <td>Aysen</td>\n",
       "      <td>Aysen</td>\n",
       "      <td>78.0</td>\n",
       "      <td>hombre</td>\n",
       "      <td>12719.0</td>\n",
       "      <td>11240.0</td>\n",
       "      <td>23959.0</td>\n",
       "    </tr>\n",
       "    <tr>\n",
       "      <th>293525</th>\n",
       "      <td>SC16034389-20171219</td>\n",
       "      <td>NaN</td>\n",
       "      <td>20171219</td>\n",
       "      <td>NaN</td>\n",
       "      <td>16034389</td>\n",
       "      <td>contacto</td>\n",
       "      <td>2021-08-16 00:00:00</td>\n",
       "      <td>2021-08-15</td>\n",
       "      <td>Hospital Regional (Coihaique)</td>\n",
       "      <td>11</td>\n",
       "      <td>...</td>\n",
       "      <td>POSITIVO</td>\n",
       "      <td>POSITIVO</td>\n",
       "      <td>NaN</td>\n",
       "      <td>Coyhaique</td>\n",
       "      <td>Coyhaique</td>\n",
       "      <td>5.0</td>\n",
       "      <td>mujer</td>\n",
       "      <td>28763.0</td>\n",
       "      <td>29055.0</td>\n",
       "      <td>57818.0</td>\n",
       "    </tr>\n",
       "  </tbody>\n",
       "</table>\n",
       "<p>15466 rows × 59 columns</p>\n",
       "</div>"
      ],
      "text/plain": [
       "                    n_folio  nfolio_caso nfolio_caso_indice nfolio_pntm  \\\n",
       "0                   8753781    8753781.0                NaN         NaN   \n",
       "1        SC9677760-11425750          NaN           11425750         NaN   \n",
       "2        SC9780675-11714657          NaN           11714657         NaN   \n",
       "3       SC10084431-11964234          NaN           11964234         NaN   \n",
       "5       SC10382396-12436348          NaN           12436348         NaN   \n",
       "...                     ...          ...                ...         ...   \n",
       "292908  SC16034389-20170066          NaN           20170066         NaN   \n",
       "293132  SC16061848-20213015          NaN           20213015         NaN   \n",
       "293456  SC16218358-20338560          NaN           20338560         NaN   \n",
       "293485  SC15919549-20027829          NaN           20027829         NaN   \n",
       "293525  SC16034389-20171219          NaN           20171219         NaN   \n",
       "\n",
       "       nfolio_contacto_estrecho tipo_seguimiento         dia_contacto  \\\n",
       "0                           NaN             caso  2021-03-02 00:00:00   \n",
       "1                       9677760         contacto  2021-03-25 00:00:00   \n",
       "2                       9780675         contacto  2021-03-29 00:00:00   \n",
       "3                      10084431         contacto  2021-03-29 00:00:00   \n",
       "5                      10382396         contacto  2021-04-05 00:00:00   \n",
       "...                         ...              ...                  ...   \n",
       "292908                 16034389         contacto  2021-08-16 00:00:00   \n",
       "293132                 16061848         contacto  2021-08-17 00:00:00   \n",
       "293456                 16218358         contacto  2021-08-20 00:00:00   \n",
       "293485                 15919549         contacto  2021-08-12 00:00:00   \n",
       "293525                 16034389         contacto  2021-08-16 00:00:00   \n",
       "\n",
       "       fecha_notificacion                          nombre_institucion_indice  \\\n",
       "0              2021-03-01                      Hospital Regional (Coihaique)   \n",
       "1              2021-03-20                      Hospital Regional (Coihaique)   \n",
       "2              2021-03-23  Actividades gestionadas por la Dirección del S...   \n",
       "3              2021-03-29  Actividades gestionadas por la Dirección del S...   \n",
       "5              2021-04-05      Hospital Dr. Leopoldo Ortega R. (Chile Chico)   \n",
       "...                   ...                                                ...   \n",
       "292908         2021-08-15                      Hospital Regional (Coihaique)   \n",
       "293132         2021-08-16  Actividades gestionadas por la Dirección del S...   \n",
       "293456         2021-08-20                   Consultorio Víctor Domingo Silva   \n",
       "293485         2021-08-11                           Hospital de Puerto Aysén   \n",
       "293525         2021-08-15                      Hospital Regional (Coihaique)   \n",
       "\n",
       "       region_institucion_indice  ... resultado_pcr_1 resultado_pcr_2  \\\n",
       "0                             11  ...        POSITIVO        POSITIVO   \n",
       "1                             11  ...        POSITIVO        POSITIVO   \n",
       "2                             11  ...             NaN             NaN   \n",
       "3                             11  ...        POSITIVO             NaN   \n",
       "5                             11  ...             NaN             NaN   \n",
       "...                          ...  ...             ...             ...   \n",
       "292908                        11  ...        POSITIVO        POSITIVO   \n",
       "293132                        11  ...             NaN        POSITIVO   \n",
       "293456                        11  ...             NaN        POSITIVO   \n",
       "293485                        11  ...        POSITIVO        POSITIVO   \n",
       "293525                        11  ...        POSITIVO        POSITIVO   \n",
       "\n",
       "       resultado_pcr_3 comuna_seremi_xi provincia_seremi_xi  edad    sexo  \\\n",
       "0             POSITIVO        Coyhaique           Coyhaique  47.0  hombre   \n",
       "1                  NaN        Coyhaique           Coyhaique  19.0   mujer   \n",
       "2                  NaN        Coyhaique           Coyhaique  31.0   mujer   \n",
       "3                  NaN        Coyhaique           Coyhaique  15.0   mujer   \n",
       "5                  NaN      Chile Chico     General Carrera  53.0   mujer   \n",
       "...                ...              ...                 ...   ...     ...   \n",
       "292908             NaN        Coyhaique           Coyhaique   5.0   mujer   \n",
       "293132             NaN        Coyhaique           Coyhaique   4.0   mujer   \n",
       "293456             NaN        Coyhaique           Coyhaique  46.0   mujer   \n",
       "293485             NaN            Aysen               Aysen  78.0  hombre   \n",
       "293525             NaN        Coyhaique           Coyhaique   5.0   mujer   \n",
       "\n",
       "       pop_hombres pop_mujeres pop_total  \n",
       "0          28763.0     29055.0   57818.0  \n",
       "1          28763.0     29055.0   57818.0  \n",
       "2          28763.0     29055.0   57818.0  \n",
       "3          28763.0     29055.0   57818.0  \n",
       "5           2577.0      2288.0    4865.0  \n",
       "...            ...         ...       ...  \n",
       "292908     28763.0     29055.0   57818.0  \n",
       "293132     28763.0     29055.0   57818.0  \n",
       "293456     28763.0     29055.0   57818.0  \n",
       "293485     12719.0     11240.0   23959.0  \n",
       "293525     28763.0     29055.0   57818.0  \n",
       "\n",
       "[15466 rows x 59 columns]"
      ]
     },
     "execution_count": 257,
     "metadata": {},
     "output_type": "execute_result"
    }
   ],
   "source": [
    "df_seguimiento_ind5[df_seguimiento_ind5['etapa_clinica']=='CONFIRMADA']"
   ]
  },
  {
   "cell_type": "code",
   "execution_count": 258,
   "id": "9aecfeda",
   "metadata": {},
   "outputs": [],
   "source": [
    "df_seguimiento_ind5 = df_seguimiento_ind5[(df_seguimiento_ind5['etapa_clinica']!='DESCARTADA')|(df_seguimiento_ind5['etapa_clinica']!='SOSPECHA')]"
   ]
  },
  {
   "cell_type": "code",
   "execution_count": 259,
   "id": "bdc8db0f",
   "metadata": {},
   "outputs": [],
   "source": [
    "#Crea diferencia de fecha\n",
    "df_seguimiento_ind5['dif_fecha'] = df_seguimiento_ind5['fecha_cumple_requisitos'] - df_seguimiento_ind5['fecha_notificacion']"
   ]
  },
  {
   "cell_type": "code",
   "execution_count": 260,
   "id": "cb8ed623",
   "metadata": {},
   "outputs": [],
   "source": [
    "# Crea columna considerando si diferencial de fecha cumple requisitos y fecha de notificacion\n",
    "# es menor a un timedelta de d 2 días\n",
    "\n",
    "df_seguimiento_ind5['ind5'] = df_seguimiento_ind5['dif_fecha']<= pd.to_timedelta('2 days')"
   ]
  },
  {
   "cell_type": "code",
   "execution_count": 261,
   "id": "d8593408",
   "metadata": {},
   "outputs": [
    {
     "data": {
      "text/html": [
       "<div>\n",
       "<style scoped>\n",
       "    .dataframe tbody tr th:only-of-type {\n",
       "        vertical-align: middle;\n",
       "    }\n",
       "\n",
       "    .dataframe tbody tr th {\n",
       "        vertical-align: top;\n",
       "    }\n",
       "\n",
       "    .dataframe thead th {\n",
       "        text-align: right;\n",
       "    }\n",
       "</style>\n",
       "<table border=\"1\" class=\"dataframe\">\n",
       "  <thead>\n",
       "    <tr style=\"text-align: right;\">\n",
       "      <th></th>\n",
       "      <th>fecha_creacion</th>\n",
       "      <th>fecha_notificacion</th>\n",
       "      <th>fecha_cumple_requisitos</th>\n",
       "      <th>fecha_derivacion_toma_muestra</th>\n",
       "      <th>cont_fecha_seguimiento</th>\n",
       "      <th>cont_inicio_cuarentena</th>\n",
       "      <th>cont_fin_cuarentena</th>\n",
       "      <th>cont_fecha_licencia</th>\n",
       "      <th>dif_fecha</th>\n",
       "    </tr>\n",
       "  </thead>\n",
       "  <tbody>\n",
       "    <tr>\n",
       "      <th>26978</th>\n",
       "      <td>2021-04-05 10:52:19.308810</td>\n",
       "      <td>2021-04-04</td>\n",
       "      <td>2021-04-05</td>\n",
       "      <td>Sin Datos</td>\n",
       "      <td>Sin Datos</td>\n",
       "      <td>2021-04-02 00:00:00</td>\n",
       "      <td>2021-04-15 00:00:00</td>\n",
       "      <td>Sin Datos</td>\n",
       "      <td>1 days</td>\n",
       "    </tr>\n",
       "    <tr>\n",
       "      <th>129365</th>\n",
       "      <td>2021-05-24 18:08:02.498442</td>\n",
       "      <td>2021-05-20</td>\n",
       "      <td>2021-05-24</td>\n",
       "      <td>Sin Datos</td>\n",
       "      <td>Sin Datos</td>\n",
       "      <td>2021-05-22 00:00:00</td>\n",
       "      <td>2021-06-04 00:00:00</td>\n",
       "      <td>Sin Datos</td>\n",
       "      <td>4 days</td>\n",
       "    </tr>\n",
       "    <tr>\n",
       "      <th>19482</th>\n",
       "      <td>2021-04-29 11:41:37.867331</td>\n",
       "      <td>2021-04-29</td>\n",
       "      <td>2021-04-29</td>\n",
       "      <td>Sin Datos</td>\n",
       "      <td>Sin Datos</td>\n",
       "      <td>2021-04-29 00:00:00</td>\n",
       "      <td>Sin Datos</td>\n",
       "      <td>Sin Datos</td>\n",
       "      <td>0 days</td>\n",
       "    </tr>\n",
       "    <tr>\n",
       "      <th>189206</th>\n",
       "      <td>2021-06-08 11:12:20.056921</td>\n",
       "      <td>2021-06-06</td>\n",
       "      <td>2021-06-08</td>\n",
       "      <td>2021-06-07 00:00:00</td>\n",
       "      <td>Sin Datos</td>\n",
       "      <td>2021-06-04 00:00:00</td>\n",
       "      <td>2021-06-17 00:00:00</td>\n",
       "      <td>Sin Datos</td>\n",
       "      <td>2 days</td>\n",
       "    </tr>\n",
       "  </tbody>\n",
       "</table>\n",
       "</div>"
      ],
      "text/plain": [
       "                   fecha_creacion fecha_notificacion fecha_cumple_requisitos  \\\n",
       "26978  2021-04-05 10:52:19.308810         2021-04-04              2021-04-05   \n",
       "129365 2021-05-24 18:08:02.498442         2021-05-20              2021-05-24   \n",
       "19482  2021-04-29 11:41:37.867331         2021-04-29              2021-04-29   \n",
       "189206 2021-06-08 11:12:20.056921         2021-06-06              2021-06-08   \n",
       "\n",
       "       fecha_derivacion_toma_muestra cont_fecha_seguimiento  \\\n",
       "26978                      Sin Datos              Sin Datos   \n",
       "129365                     Sin Datos              Sin Datos   \n",
       "19482                      Sin Datos              Sin Datos   \n",
       "189206           2021-06-07 00:00:00              Sin Datos   \n",
       "\n",
       "       cont_inicio_cuarentena  cont_fin_cuarentena cont_fecha_licencia  \\\n",
       "26978     2021-04-02 00:00:00  2021-04-15 00:00:00           Sin Datos   \n",
       "129365    2021-05-22 00:00:00  2021-06-04 00:00:00           Sin Datos   \n",
       "19482     2021-04-29 00:00:00            Sin Datos           Sin Datos   \n",
       "189206    2021-06-04 00:00:00  2021-06-17 00:00:00           Sin Datos   \n",
       "\n",
       "       dif_fecha  \n",
       "26978     1 days  \n",
       "129365    4 days  \n",
       "19482     0 days  \n",
       "189206    2 days  "
      ]
     },
     "execution_count": 261,
     "metadata": {},
     "output_type": "execute_result"
    }
   ],
   "source": [
    "df_seguimiento_ind5[['fecha_creacion',\n",
    "                       'fecha_notificacion', \n",
    "                       'fecha_cumple_requisitos', #Se considera un caso nuevo registrado a aquel caso notificado que cumple los requisitos para estar en el modulo de seguimiento\n",
    "                       'fecha_derivacion_toma_muestra',\n",
    "                       'cont_fecha_seguimiento',\n",
    "                       'cont_inicio_cuarentena',\n",
    "                       'cont_fin_cuarentena',\n",
    "                       'cont_fecha_licencia',\n",
    "                       'dif_fecha'\n",
    "                      ]].sample(4)"
   ]
  },
  {
   "cell_type": "code",
   "execution_count": 262,
   "id": "9347fcfe",
   "metadata": {},
   "outputs": [
    {
     "data": {
      "text/html": [
       "<div>\n",
       "<style scoped>\n",
       "    .dataframe tbody tr th:only-of-type {\n",
       "        vertical-align: middle;\n",
       "    }\n",
       "\n",
       "    .dataframe tbody tr th {\n",
       "        vertical-align: top;\n",
       "    }\n",
       "\n",
       "    .dataframe thead th {\n",
       "        text-align: right;\n",
       "    }\n",
       "</style>\n",
       "<table border=\"1\" class=\"dataframe\">\n",
       "  <thead>\n",
       "    <tr style=\"text-align: right;\">\n",
       "      <th></th>\n",
       "      <th>fecha_cumple_requisitos</th>\n",
       "      <th>ind5</th>\n",
       "      <th>n_folio</th>\n",
       "    </tr>\n",
       "  </thead>\n",
       "  <tbody>\n",
       "    <tr>\n",
       "      <th>0</th>\n",
       "      <td>2021-03-01</td>\n",
       "      <td>True</td>\n",
       "      <td>27</td>\n",
       "    </tr>\n",
       "    <tr>\n",
       "      <th>1</th>\n",
       "      <td>2021-03-02</td>\n",
       "      <td>True</td>\n",
       "      <td>62</td>\n",
       "    </tr>\n",
       "    <tr>\n",
       "      <th>2</th>\n",
       "      <td>2021-03-03</td>\n",
       "      <td>True</td>\n",
       "      <td>56</td>\n",
       "    </tr>\n",
       "    <tr>\n",
       "      <th>3</th>\n",
       "      <td>2021-03-04</td>\n",
       "      <td>False</td>\n",
       "      <td>6</td>\n",
       "    </tr>\n",
       "    <tr>\n",
       "      <th>4</th>\n",
       "      <td>2021-03-04</td>\n",
       "      <td>True</td>\n",
       "      <td>33</td>\n",
       "    </tr>\n",
       "    <tr>\n",
       "      <th>...</th>\n",
       "      <td>...</td>\n",
       "      <td>...</td>\n",
       "      <td>...</td>\n",
       "    </tr>\n",
       "    <tr>\n",
       "      <th>339</th>\n",
       "      <td>2021-08-27</td>\n",
       "      <td>True</td>\n",
       "      <td>13</td>\n",
       "    </tr>\n",
       "    <tr>\n",
       "      <th>340</th>\n",
       "      <td>2021-08-28</td>\n",
       "      <td>True</td>\n",
       "      <td>6</td>\n",
       "    </tr>\n",
       "    <tr>\n",
       "      <th>341</th>\n",
       "      <td>2021-08-29</td>\n",
       "      <td>True</td>\n",
       "      <td>20</td>\n",
       "    </tr>\n",
       "    <tr>\n",
       "      <th>342</th>\n",
       "      <td>2021-08-30</td>\n",
       "      <td>True</td>\n",
       "      <td>82</td>\n",
       "    </tr>\n",
       "    <tr>\n",
       "      <th>343</th>\n",
       "      <td>2021-08-31</td>\n",
       "      <td>True</td>\n",
       "      <td>6</td>\n",
       "    </tr>\n",
       "  </tbody>\n",
       "</table>\n",
       "<p>344 rows × 3 columns</p>\n",
       "</div>"
      ],
      "text/plain": [
       "    fecha_cumple_requisitos   ind5  n_folio\n",
       "0                2021-03-01   True       27\n",
       "1                2021-03-02   True       62\n",
       "2                2021-03-03   True       56\n",
       "3                2021-03-04  False        6\n",
       "4                2021-03-04   True       33\n",
       "..                      ...    ...      ...\n",
       "339              2021-08-27   True       13\n",
       "340              2021-08-28   True        6\n",
       "341              2021-08-29   True       20\n",
       "342              2021-08-30   True       82\n",
       "343              2021-08-31   True        6\n",
       "\n",
       "[344 rows x 3 columns]"
      ]
     },
     "execution_count": 262,
     "metadata": {},
     "output_type": "execute_result"
    }
   ],
   "source": [
    "df_seguimiento_ind5.groupby(['fecha_cumple_requisitos', 'ind5']).count()[['n_folio']].reset_index()"
   ]
  },
  {
   "cell_type": "code",
   "execution_count": 263,
   "id": "172eaea9",
   "metadata": {},
   "outputs": [
    {
     "data": {
      "application/vnd.plotly.v1+json": {
       "config": {
        "plotlyServerURL": "https://plot.ly"
       },
       "data": [
        {
         "alignmentgroup": "True",
         "hovertemplate": "Cumple=True<br>fecha_cumple_requisitos=%{x}<br>n_folio=%{y}<extra></extra>",
         "legendgroup": "True",
         "marker": {
          "color": "#636efa"
         },
         "name": "True",
         "offsetgroup": "True",
         "orientation": "v",
         "showlegend": true,
         "textposition": "auto",
         "type": "bar",
         "x": [
          "2021-03-01T00:00:00",
          "2021-03-02T00:00:00",
          "2021-03-03T00:00:00",
          "2021-03-04T00:00:00",
          "2021-03-05T00:00:00",
          "2021-03-06T00:00:00",
          "2021-03-07T00:00:00",
          "2021-03-08T00:00:00",
          "2021-03-09T00:00:00",
          "2021-03-10T00:00:00",
          "2021-03-11T00:00:00",
          "2021-03-12T00:00:00",
          "2021-03-13T00:00:00",
          "2021-03-14T00:00:00",
          "2021-03-15T00:00:00",
          "2021-03-16T00:00:00",
          "2021-03-17T00:00:00",
          "2021-03-18T00:00:00",
          "2021-03-19T00:00:00",
          "2021-03-20T00:00:00",
          "2021-03-21T00:00:00",
          "2021-03-22T00:00:00",
          "2021-03-23T00:00:00",
          "2021-03-24T00:00:00",
          "2021-03-25T00:00:00",
          "2021-03-26T00:00:00",
          "2021-03-27T00:00:00",
          "2021-03-28T00:00:00",
          "2021-03-29T00:00:00",
          "2021-03-30T00:00:00",
          "2021-03-31T00:00:00",
          "2021-04-01T00:00:00",
          "2021-04-02T00:00:00",
          "2021-04-03T00:00:00",
          "2021-04-04T00:00:00",
          "2021-04-05T00:00:00",
          "2021-04-06T00:00:00",
          "2021-04-07T00:00:00",
          "2021-04-08T00:00:00",
          "2021-04-09T00:00:00",
          "2021-04-10T00:00:00",
          "2021-04-11T00:00:00",
          "2021-04-12T00:00:00",
          "2021-04-13T00:00:00",
          "2021-04-14T00:00:00",
          "2021-04-15T00:00:00",
          "2021-04-16T00:00:00",
          "2021-04-17T00:00:00",
          "2021-04-18T00:00:00",
          "2021-04-19T00:00:00",
          "2021-04-20T00:00:00",
          "2021-04-21T00:00:00",
          "2021-04-22T00:00:00",
          "2021-04-23T00:00:00",
          "2021-04-24T00:00:00",
          "2021-04-25T00:00:00",
          "2021-04-26T00:00:00",
          "2021-04-27T00:00:00",
          "2021-04-28T00:00:00",
          "2021-04-29T00:00:00",
          "2021-04-30T00:00:00",
          "2021-05-01T00:00:00",
          "2021-05-02T00:00:00",
          "2021-05-03T00:00:00",
          "2021-05-04T00:00:00",
          "2021-05-05T00:00:00",
          "2021-05-06T00:00:00",
          "2021-05-07T00:00:00",
          "2021-05-08T00:00:00",
          "2021-05-09T00:00:00",
          "2021-05-10T00:00:00",
          "2021-05-11T00:00:00",
          "2021-05-12T00:00:00",
          "2021-05-13T00:00:00",
          "2021-05-14T00:00:00",
          "2021-05-15T00:00:00",
          "2021-05-16T00:00:00",
          "2021-05-17T00:00:00",
          "2021-05-18T00:00:00",
          "2021-05-19T00:00:00",
          "2021-05-20T00:00:00",
          "2021-05-21T00:00:00",
          "2021-05-22T00:00:00",
          "2021-05-23T00:00:00",
          "2021-05-24T00:00:00",
          "2021-05-25T00:00:00",
          "2021-05-26T00:00:00",
          "2021-05-27T00:00:00",
          "2021-05-28T00:00:00",
          "2021-05-29T00:00:00",
          "2021-05-30T00:00:00",
          "2021-05-31T00:00:00",
          "2021-06-01T00:00:00",
          "2021-06-02T00:00:00",
          "2021-06-03T00:00:00",
          "2021-06-04T00:00:00",
          "2021-06-05T00:00:00",
          "2021-06-06T00:00:00",
          "2021-06-07T00:00:00",
          "2021-06-08T00:00:00",
          "2021-06-09T00:00:00",
          "2021-06-10T00:00:00",
          "2021-06-11T00:00:00",
          "2021-06-12T00:00:00",
          "2021-06-13T00:00:00",
          "2021-06-14T00:00:00",
          "2021-06-15T00:00:00",
          "2021-06-16T00:00:00",
          "2021-06-17T00:00:00",
          "2021-06-18T00:00:00",
          "2021-06-19T00:00:00",
          "2021-06-20T00:00:00",
          "2021-06-21T00:00:00",
          "2021-06-22T00:00:00",
          "2021-06-23T00:00:00",
          "2021-06-24T00:00:00",
          "2021-06-25T00:00:00",
          "2021-06-26T00:00:00",
          "2021-06-27T00:00:00",
          "2021-06-28T00:00:00",
          "2021-06-29T00:00:00",
          "2021-06-30T00:00:00",
          "2021-07-01T00:00:00",
          "2021-07-02T00:00:00",
          "2021-07-03T00:00:00",
          "2021-07-04T00:00:00",
          "2021-07-05T00:00:00",
          "2021-07-06T00:00:00",
          "2021-07-07T00:00:00",
          "2021-07-08T00:00:00",
          "2021-07-09T00:00:00",
          "2021-07-10T00:00:00",
          "2021-07-11T00:00:00",
          "2021-07-12T00:00:00",
          "2021-07-13T00:00:00",
          "2021-07-14T00:00:00",
          "2021-07-15T00:00:00",
          "2021-07-16T00:00:00",
          "2021-07-17T00:00:00",
          "2021-07-18T00:00:00",
          "2021-07-19T00:00:00",
          "2021-07-20T00:00:00",
          "2021-07-21T00:00:00",
          "2021-07-22T00:00:00",
          "2021-07-23T00:00:00",
          "2021-07-24T00:00:00",
          "2021-07-25T00:00:00",
          "2021-07-26T00:00:00",
          "2021-07-27T00:00:00",
          "2021-07-28T00:00:00",
          "2021-07-29T00:00:00",
          "2021-07-30T00:00:00",
          "2021-07-31T00:00:00",
          "2021-08-01T00:00:00",
          "2021-08-02T00:00:00",
          "2021-08-03T00:00:00",
          "2021-08-04T00:00:00",
          "2021-08-05T00:00:00",
          "2021-08-06T00:00:00",
          "2021-08-07T00:00:00",
          "2021-08-08T00:00:00",
          "2021-08-09T00:00:00",
          "2021-08-10T00:00:00",
          "2021-08-11T00:00:00",
          "2021-08-12T00:00:00",
          "2021-08-13T00:00:00",
          "2021-08-14T00:00:00",
          "2021-08-15T00:00:00",
          "2021-08-16T00:00:00",
          "2021-08-17T00:00:00",
          "2021-08-18T00:00:00",
          "2021-08-19T00:00:00",
          "2021-08-20T00:00:00",
          "2021-08-21T00:00:00",
          "2021-08-22T00:00:00",
          "2021-08-23T00:00:00",
          "2021-08-24T00:00:00",
          "2021-08-25T00:00:00",
          "2021-08-26T00:00:00",
          "2021-08-27T00:00:00",
          "2021-08-28T00:00:00",
          "2021-08-29T00:00:00",
          "2021-08-30T00:00:00",
          "2021-08-31T00:00:00"
         ],
         "xaxis": "x",
         "y": [
          27,
          62,
          56,
          33,
          49,
          32,
          21,
          21,
          55,
          56,
          34,
          33,
          40,
          46,
          65,
          45,
          18,
          44,
          20,
          20,
          58,
          70,
          101,
          71,
          95,
          62,
          32,
          50,
          95,
          102,
          44,
          83,
          43,
          49,
          42,
          108,
          112,
          64,
          64,
          87,
          97,
          47,
          47,
          72,
          52,
          71,
          106,
          55,
          76,
          42,
          139,
          109,
          140,
          81,
          66,
          86,
          77,
          132,
          167,
          213,
          156,
          95,
          55,
          106,
          126,
          148,
          142,
          119,
          93,
          89,
          127,
          146,
          190,
          212,
          236,
          140,
          113,
          184,
          240,
          326,
          315,
          210,
          165,
          72,
          209,
          251,
          285,
          244,
          246,
          142,
          117,
          252,
          377,
          264,
          245,
          167,
          142,
          57,
          230,
          153,
          221,
          208,
          213,
          103,
          131,
          175,
          132,
          233,
          205,
          161,
          96,
          78,
          54,
          111,
          147,
          100,
          123,
          74,
          82,
          53,
          91,
          162,
          83,
          140,
          41,
          31,
          96,
          97,
          79,
          93,
          139,
          51,
          22,
          5,
          43,
          39,
          23,
          15,
          12,
          1,
          10,
          16,
          8,
          11,
          23,
          7,
          3,
          3,
          5,
          23,
          12,
          10,
          4,
          11,
          11,
          6,
          12,
          21,
          56,
          41,
          6,
          13,
          23,
          8,
          24,
          35,
          28,
          25,
          59,
          62,
          74,
          40,
          48,
          23,
          10,
          33,
          27,
          46,
          17,
          13,
          6,
          20,
          82,
          6
         ],
         "yaxis": "y"
        },
        {
         "alignmentgroup": "True",
         "hovertemplate": "Cumple=False<br>fecha_cumple_requisitos=%{x}<br>n_folio=%{y}<extra></extra>",
         "legendgroup": "False",
         "marker": {
          "color": "#EF553B"
         },
         "name": "False",
         "offsetgroup": "False",
         "orientation": "v",
         "showlegend": true,
         "textposition": "auto",
         "type": "bar",
         "x": [
          "2021-03-04T00:00:00",
          "2021-03-05T00:00:00",
          "2021-03-06T00:00:00",
          "2021-03-07T00:00:00",
          "2021-03-08T00:00:00",
          "2021-03-09T00:00:00",
          "2021-03-10T00:00:00",
          "2021-03-11T00:00:00",
          "2021-03-12T00:00:00",
          "2021-03-13T00:00:00",
          "2021-03-14T00:00:00",
          "2021-03-15T00:00:00",
          "2021-03-16T00:00:00",
          "2021-03-17T00:00:00",
          "2021-03-18T00:00:00",
          "2021-03-19T00:00:00",
          "2021-03-20T00:00:00",
          "2021-03-21T00:00:00",
          "2021-03-22T00:00:00",
          "2021-03-23T00:00:00",
          "2021-03-24T00:00:00",
          "2021-03-25T00:00:00",
          "2021-03-26T00:00:00",
          "2021-03-27T00:00:00",
          "2021-03-28T00:00:00",
          "2021-03-29T00:00:00",
          "2021-03-30T00:00:00",
          "2021-03-31T00:00:00",
          "2021-04-01T00:00:00",
          "2021-04-02T00:00:00",
          "2021-04-03T00:00:00",
          "2021-04-04T00:00:00",
          "2021-04-05T00:00:00",
          "2021-04-06T00:00:00",
          "2021-04-07T00:00:00",
          "2021-04-08T00:00:00",
          "2021-04-09T00:00:00",
          "2021-04-10T00:00:00",
          "2021-04-11T00:00:00",
          "2021-04-12T00:00:00",
          "2021-04-13T00:00:00",
          "2021-04-14T00:00:00",
          "2021-04-15T00:00:00",
          "2021-04-16T00:00:00",
          "2021-04-17T00:00:00",
          "2021-04-18T00:00:00",
          "2021-04-19T00:00:00",
          "2021-04-20T00:00:00",
          "2021-04-21T00:00:00",
          "2021-04-22T00:00:00",
          "2021-04-23T00:00:00",
          "2021-04-24T00:00:00",
          "2021-04-25T00:00:00",
          "2021-04-26T00:00:00",
          "2021-04-27T00:00:00",
          "2021-04-28T00:00:00",
          "2021-04-29T00:00:00",
          "2021-04-30T00:00:00",
          "2021-05-01T00:00:00",
          "2021-05-02T00:00:00",
          "2021-05-03T00:00:00",
          "2021-05-04T00:00:00",
          "2021-05-05T00:00:00",
          "2021-05-06T00:00:00",
          "2021-05-07T00:00:00",
          "2021-05-08T00:00:00",
          "2021-05-09T00:00:00",
          "2021-05-10T00:00:00",
          "2021-05-11T00:00:00",
          "2021-05-12T00:00:00",
          "2021-05-13T00:00:00",
          "2021-05-14T00:00:00",
          "2021-05-15T00:00:00",
          "2021-05-16T00:00:00",
          "2021-05-17T00:00:00",
          "2021-05-18T00:00:00",
          "2021-05-19T00:00:00",
          "2021-05-20T00:00:00",
          "2021-05-21T00:00:00",
          "2021-05-22T00:00:00",
          "2021-05-23T00:00:00",
          "2021-05-24T00:00:00",
          "2021-05-25T00:00:00",
          "2021-05-26T00:00:00",
          "2021-05-27T00:00:00",
          "2021-05-28T00:00:00",
          "2021-05-29T00:00:00",
          "2021-05-30T00:00:00",
          "2021-05-31T00:00:00",
          "2021-06-01T00:00:00",
          "2021-06-02T00:00:00",
          "2021-06-03T00:00:00",
          "2021-06-04T00:00:00",
          "2021-06-05T00:00:00",
          "2021-06-06T00:00:00",
          "2021-06-07T00:00:00",
          "2021-06-08T00:00:00",
          "2021-06-09T00:00:00",
          "2021-06-10T00:00:00",
          "2021-06-11T00:00:00",
          "2021-06-12T00:00:00",
          "2021-06-13T00:00:00",
          "2021-06-14T00:00:00",
          "2021-06-15T00:00:00",
          "2021-06-16T00:00:00",
          "2021-06-17T00:00:00",
          "2021-06-18T00:00:00",
          "2021-06-19T00:00:00",
          "2021-06-20T00:00:00",
          "2021-06-21T00:00:00",
          "2021-06-22T00:00:00",
          "2021-06-23T00:00:00",
          "2021-06-24T00:00:00",
          "2021-06-25T00:00:00",
          "2021-06-26T00:00:00",
          "2021-06-27T00:00:00",
          "2021-06-28T00:00:00",
          "2021-06-29T00:00:00",
          "2021-06-30T00:00:00",
          "2021-07-02T00:00:00",
          "2021-07-03T00:00:00",
          "2021-07-04T00:00:00",
          "2021-07-05T00:00:00",
          "2021-07-06T00:00:00",
          "2021-07-07T00:00:00",
          "2021-07-08T00:00:00",
          "2021-07-09T00:00:00",
          "2021-07-10T00:00:00",
          "2021-07-11T00:00:00",
          "2021-07-12T00:00:00",
          "2021-07-13T00:00:00",
          "2021-07-14T00:00:00",
          "2021-07-15T00:00:00",
          "2021-07-16T00:00:00",
          "2021-07-17T00:00:00",
          "2021-07-19T00:00:00",
          "2021-07-20T00:00:00",
          "2021-07-21T00:00:00",
          "2021-07-22T00:00:00",
          "2021-07-24T00:00:00",
          "2021-07-25T00:00:00",
          "2021-07-26T00:00:00",
          "2021-07-28T00:00:00",
          "2021-07-29T00:00:00",
          "2021-07-31T00:00:00",
          "2021-08-02T00:00:00",
          "2021-08-03T00:00:00",
          "2021-08-04T00:00:00",
          "2021-08-06T00:00:00",
          "2021-08-12T00:00:00",
          "2021-08-15T00:00:00",
          "2021-08-16T00:00:00",
          "2021-08-17T00:00:00",
          "2021-08-18T00:00:00",
          "2021-08-19T00:00:00",
          "2021-08-20T00:00:00",
          "2021-08-21T00:00:00",
          "2021-08-22T00:00:00",
          "2021-08-24T00:00:00",
          "2021-08-27T00:00:00"
         ],
         "xaxis": "x",
         "y": [
          6,
          10,
          4,
          15,
          41,
          8,
          9,
          5,
          9,
          9,
          13,
          21,
          7,
          6,
          35,
          17,
          14,
          41,
          4,
          18,
          7,
          15,
          24,
          1,
          9,
          23,
          5,
          7,
          29,
          8,
          9,
          13,
          11,
          13,
          2,
          10,
          24,
          17,
          11,
          27,
          3,
          14,
          4,
          5,
          5,
          6,
          8,
          9,
          9,
          30,
          13,
          5,
          6,
          19,
          8,
          11,
          10,
          8,
          5,
          13,
          52,
          23,
          14,
          15,
          11,
          2,
          5,
          54,
          31,
          18,
          5,
          13,
          30,
          31,
          50,
          27,
          25,
          30,
          20,
          26,
          56,
          55,
          21,
          29,
          31,
          38,
          17,
          35,
          94,
          44,
          10,
          14,
          31,
          40,
          32,
          76,
          49,
          44,
          61,
          14,
          14,
          38,
          16,
          79,
          26,
          29,
          26,
          15,
          6,
          3,
          14,
          21,
          22,
          10,
          2,
          8,
          11,
          9,
          18,
          3,
          4,
          5,
          13,
          3,
          5,
          21,
          31,
          3,
          2,
          2,
          7,
          2,
          2,
          3,
          3,
          2,
          4,
          3,
          6,
          2,
          7,
          3,
          1,
          2,
          1,
          1,
          3,
          1,
          5,
          8,
          1,
          17,
          2,
          3,
          1,
          2,
          2,
          1,
          6,
          3
         ],
         "yaxis": "y"
        }
       ],
       "layout": {
        "barmode": "relative",
        "legend": {
         "title": {
          "text": "Cumple"
         },
         "tracegroupgap": 0
        },
        "margin": {
         "t": 60
        },
        "template": {
         "data": {
          "bar": [
           {
            "error_x": {
             "color": "rgb(36,36,36)"
            },
            "error_y": {
             "color": "rgb(36,36,36)"
            },
            "marker": {
             "line": {
              "color": "white",
              "width": 0.5
             }
            },
            "type": "bar"
           }
          ],
          "barpolar": [
           {
            "marker": {
             "line": {
              "color": "white",
              "width": 0.5
             }
            },
            "type": "barpolar"
           }
          ],
          "carpet": [
           {
            "aaxis": {
             "endlinecolor": "rgb(36,36,36)",
             "gridcolor": "white",
             "linecolor": "white",
             "minorgridcolor": "white",
             "startlinecolor": "rgb(36,36,36)"
            },
            "baxis": {
             "endlinecolor": "rgb(36,36,36)",
             "gridcolor": "white",
             "linecolor": "white",
             "minorgridcolor": "white",
             "startlinecolor": "rgb(36,36,36)"
            },
            "type": "carpet"
           }
          ],
          "choropleth": [
           {
            "colorbar": {
             "outlinewidth": 1,
             "tickcolor": "rgb(36,36,36)",
             "ticks": "outside"
            },
            "type": "choropleth"
           }
          ],
          "contour": [
           {
            "colorbar": {
             "outlinewidth": 1,
             "tickcolor": "rgb(36,36,36)",
             "ticks": "outside"
            },
            "colorscale": [
             [
              0,
              "#440154"
             ],
             [
              0.1111111111111111,
              "#482878"
             ],
             [
              0.2222222222222222,
              "#3e4989"
             ],
             [
              0.3333333333333333,
              "#31688e"
             ],
             [
              0.4444444444444444,
              "#26828e"
             ],
             [
              0.5555555555555556,
              "#1f9e89"
             ],
             [
              0.6666666666666666,
              "#35b779"
             ],
             [
              0.7777777777777778,
              "#6ece58"
             ],
             [
              0.8888888888888888,
              "#b5de2b"
             ],
             [
              1,
              "#fde725"
             ]
            ],
            "type": "contour"
           }
          ],
          "contourcarpet": [
           {
            "colorbar": {
             "outlinewidth": 1,
             "tickcolor": "rgb(36,36,36)",
             "ticks": "outside"
            },
            "type": "contourcarpet"
           }
          ],
          "heatmap": [
           {
            "colorbar": {
             "outlinewidth": 1,
             "tickcolor": "rgb(36,36,36)",
             "ticks": "outside"
            },
            "colorscale": [
             [
              0,
              "#440154"
             ],
             [
              0.1111111111111111,
              "#482878"
             ],
             [
              0.2222222222222222,
              "#3e4989"
             ],
             [
              0.3333333333333333,
              "#31688e"
             ],
             [
              0.4444444444444444,
              "#26828e"
             ],
             [
              0.5555555555555556,
              "#1f9e89"
             ],
             [
              0.6666666666666666,
              "#35b779"
             ],
             [
              0.7777777777777778,
              "#6ece58"
             ],
             [
              0.8888888888888888,
              "#b5de2b"
             ],
             [
              1,
              "#fde725"
             ]
            ],
            "type": "heatmap"
           }
          ],
          "heatmapgl": [
           {
            "colorbar": {
             "outlinewidth": 1,
             "tickcolor": "rgb(36,36,36)",
             "ticks": "outside"
            },
            "colorscale": [
             [
              0,
              "#440154"
             ],
             [
              0.1111111111111111,
              "#482878"
             ],
             [
              0.2222222222222222,
              "#3e4989"
             ],
             [
              0.3333333333333333,
              "#31688e"
             ],
             [
              0.4444444444444444,
              "#26828e"
             ],
             [
              0.5555555555555556,
              "#1f9e89"
             ],
             [
              0.6666666666666666,
              "#35b779"
             ],
             [
              0.7777777777777778,
              "#6ece58"
             ],
             [
              0.8888888888888888,
              "#b5de2b"
             ],
             [
              1,
              "#fde725"
             ]
            ],
            "type": "heatmapgl"
           }
          ],
          "histogram": [
           {
            "marker": {
             "line": {
              "color": "white",
              "width": 0.6
             }
            },
            "type": "histogram"
           }
          ],
          "histogram2d": [
           {
            "colorbar": {
             "outlinewidth": 1,
             "tickcolor": "rgb(36,36,36)",
             "ticks": "outside"
            },
            "colorscale": [
             [
              0,
              "#440154"
             ],
             [
              0.1111111111111111,
              "#482878"
             ],
             [
              0.2222222222222222,
              "#3e4989"
             ],
             [
              0.3333333333333333,
              "#31688e"
             ],
             [
              0.4444444444444444,
              "#26828e"
             ],
             [
              0.5555555555555556,
              "#1f9e89"
             ],
             [
              0.6666666666666666,
              "#35b779"
             ],
             [
              0.7777777777777778,
              "#6ece58"
             ],
             [
              0.8888888888888888,
              "#b5de2b"
             ],
             [
              1,
              "#fde725"
             ]
            ],
            "type": "histogram2d"
           }
          ],
          "histogram2dcontour": [
           {
            "colorbar": {
             "outlinewidth": 1,
             "tickcolor": "rgb(36,36,36)",
             "ticks": "outside"
            },
            "colorscale": [
             [
              0,
              "#440154"
             ],
             [
              0.1111111111111111,
              "#482878"
             ],
             [
              0.2222222222222222,
              "#3e4989"
             ],
             [
              0.3333333333333333,
              "#31688e"
             ],
             [
              0.4444444444444444,
              "#26828e"
             ],
             [
              0.5555555555555556,
              "#1f9e89"
             ],
             [
              0.6666666666666666,
              "#35b779"
             ],
             [
              0.7777777777777778,
              "#6ece58"
             ],
             [
              0.8888888888888888,
              "#b5de2b"
             ],
             [
              1,
              "#fde725"
             ]
            ],
            "type": "histogram2dcontour"
           }
          ],
          "mesh3d": [
           {
            "colorbar": {
             "outlinewidth": 1,
             "tickcolor": "rgb(36,36,36)",
             "ticks": "outside"
            },
            "type": "mesh3d"
           }
          ],
          "parcoords": [
           {
            "line": {
             "colorbar": {
              "outlinewidth": 1,
              "tickcolor": "rgb(36,36,36)",
              "ticks": "outside"
             }
            },
            "type": "parcoords"
           }
          ],
          "pie": [
           {
            "automargin": true,
            "type": "pie"
           }
          ],
          "scatter": [
           {
            "marker": {
             "colorbar": {
              "outlinewidth": 1,
              "tickcolor": "rgb(36,36,36)",
              "ticks": "outside"
             }
            },
            "type": "scatter"
           }
          ],
          "scatter3d": [
           {
            "line": {
             "colorbar": {
              "outlinewidth": 1,
              "tickcolor": "rgb(36,36,36)",
              "ticks": "outside"
             }
            },
            "marker": {
             "colorbar": {
              "outlinewidth": 1,
              "tickcolor": "rgb(36,36,36)",
              "ticks": "outside"
             }
            },
            "type": "scatter3d"
           }
          ],
          "scattercarpet": [
           {
            "marker": {
             "colorbar": {
              "outlinewidth": 1,
              "tickcolor": "rgb(36,36,36)",
              "ticks": "outside"
             }
            },
            "type": "scattercarpet"
           }
          ],
          "scattergeo": [
           {
            "marker": {
             "colorbar": {
              "outlinewidth": 1,
              "tickcolor": "rgb(36,36,36)",
              "ticks": "outside"
             }
            },
            "type": "scattergeo"
           }
          ],
          "scattergl": [
           {
            "marker": {
             "colorbar": {
              "outlinewidth": 1,
              "tickcolor": "rgb(36,36,36)",
              "ticks": "outside"
             }
            },
            "type": "scattergl"
           }
          ],
          "scattermapbox": [
           {
            "marker": {
             "colorbar": {
              "outlinewidth": 1,
              "tickcolor": "rgb(36,36,36)",
              "ticks": "outside"
             }
            },
            "type": "scattermapbox"
           }
          ],
          "scatterpolar": [
           {
            "marker": {
             "colorbar": {
              "outlinewidth": 1,
              "tickcolor": "rgb(36,36,36)",
              "ticks": "outside"
             }
            },
            "type": "scatterpolar"
           }
          ],
          "scatterpolargl": [
           {
            "marker": {
             "colorbar": {
              "outlinewidth": 1,
              "tickcolor": "rgb(36,36,36)",
              "ticks": "outside"
             }
            },
            "type": "scatterpolargl"
           }
          ],
          "scatterternary": [
           {
            "marker": {
             "colorbar": {
              "outlinewidth": 1,
              "tickcolor": "rgb(36,36,36)",
              "ticks": "outside"
             }
            },
            "type": "scatterternary"
           }
          ],
          "surface": [
           {
            "colorbar": {
             "outlinewidth": 1,
             "tickcolor": "rgb(36,36,36)",
             "ticks": "outside"
            },
            "colorscale": [
             [
              0,
              "#440154"
             ],
             [
              0.1111111111111111,
              "#482878"
             ],
             [
              0.2222222222222222,
              "#3e4989"
             ],
             [
              0.3333333333333333,
              "#31688e"
             ],
             [
              0.4444444444444444,
              "#26828e"
             ],
             [
              0.5555555555555556,
              "#1f9e89"
             ],
             [
              0.6666666666666666,
              "#35b779"
             ],
             [
              0.7777777777777778,
              "#6ece58"
             ],
             [
              0.8888888888888888,
              "#b5de2b"
             ],
             [
              1,
              "#fde725"
             ]
            ],
            "type": "surface"
           }
          ],
          "table": [
           {
            "cells": {
             "fill": {
              "color": "rgb(237,237,237)"
             },
             "line": {
              "color": "white"
             }
            },
            "header": {
             "fill": {
              "color": "rgb(217,217,217)"
             },
             "line": {
              "color": "white"
             }
            },
            "type": "table"
           }
          ]
         },
         "layout": {
          "annotationdefaults": {
           "arrowhead": 0,
           "arrowwidth": 1
          },
          "autotypenumbers": "strict",
          "coloraxis": {
           "colorbar": {
            "outlinewidth": 1,
            "tickcolor": "rgb(36,36,36)",
            "ticks": "outside"
           }
          },
          "colorscale": {
           "diverging": [
            [
             0,
             "rgb(103,0,31)"
            ],
            [
             0.1,
             "rgb(178,24,43)"
            ],
            [
             0.2,
             "rgb(214,96,77)"
            ],
            [
             0.3,
             "rgb(244,165,130)"
            ],
            [
             0.4,
             "rgb(253,219,199)"
            ],
            [
             0.5,
             "rgb(247,247,247)"
            ],
            [
             0.6,
             "rgb(209,229,240)"
            ],
            [
             0.7,
             "rgb(146,197,222)"
            ],
            [
             0.8,
             "rgb(67,147,195)"
            ],
            [
             0.9,
             "rgb(33,102,172)"
            ],
            [
             1,
             "rgb(5,48,97)"
            ]
           ],
           "sequential": [
            [
             0,
             "#440154"
            ],
            [
             0.1111111111111111,
             "#482878"
            ],
            [
             0.2222222222222222,
             "#3e4989"
            ],
            [
             0.3333333333333333,
             "#31688e"
            ],
            [
             0.4444444444444444,
             "#26828e"
            ],
            [
             0.5555555555555556,
             "#1f9e89"
            ],
            [
             0.6666666666666666,
             "#35b779"
            ],
            [
             0.7777777777777778,
             "#6ece58"
            ],
            [
             0.8888888888888888,
             "#b5de2b"
            ],
            [
             1,
             "#fde725"
            ]
           ],
           "sequentialminus": [
            [
             0,
             "#440154"
            ],
            [
             0.1111111111111111,
             "#482878"
            ],
            [
             0.2222222222222222,
             "#3e4989"
            ],
            [
             0.3333333333333333,
             "#31688e"
            ],
            [
             0.4444444444444444,
             "#26828e"
            ],
            [
             0.5555555555555556,
             "#1f9e89"
            ],
            [
             0.6666666666666666,
             "#35b779"
            ],
            [
             0.7777777777777778,
             "#6ece58"
            ],
            [
             0.8888888888888888,
             "#b5de2b"
            ],
            [
             1,
             "#fde725"
            ]
           ]
          },
          "colorway": [
           "#1F77B4",
           "#FF7F0E",
           "#2CA02C",
           "#D62728",
           "#9467BD",
           "#8C564B",
           "#E377C2",
           "#7F7F7F",
           "#BCBD22",
           "#17BECF"
          ],
          "font": {
           "color": "rgb(36,36,36)"
          },
          "geo": {
           "bgcolor": "white",
           "lakecolor": "white",
           "landcolor": "white",
           "showlakes": true,
           "showland": true,
           "subunitcolor": "white"
          },
          "hoverlabel": {
           "align": "left"
          },
          "hovermode": "closest",
          "mapbox": {
           "style": "light"
          },
          "paper_bgcolor": "white",
          "plot_bgcolor": "white",
          "polar": {
           "angularaxis": {
            "gridcolor": "rgb(232,232,232)",
            "linecolor": "rgb(36,36,36)",
            "showgrid": false,
            "showline": true,
            "ticks": "outside"
           },
           "bgcolor": "white",
           "radialaxis": {
            "gridcolor": "rgb(232,232,232)",
            "linecolor": "rgb(36,36,36)",
            "showgrid": false,
            "showline": true,
            "ticks": "outside"
           }
          },
          "scene": {
           "xaxis": {
            "backgroundcolor": "white",
            "gridcolor": "rgb(232,232,232)",
            "gridwidth": 2,
            "linecolor": "rgb(36,36,36)",
            "showbackground": true,
            "showgrid": false,
            "showline": true,
            "ticks": "outside",
            "zeroline": false,
            "zerolinecolor": "rgb(36,36,36)"
           },
           "yaxis": {
            "backgroundcolor": "white",
            "gridcolor": "rgb(232,232,232)",
            "gridwidth": 2,
            "linecolor": "rgb(36,36,36)",
            "showbackground": true,
            "showgrid": false,
            "showline": true,
            "ticks": "outside",
            "zeroline": false,
            "zerolinecolor": "rgb(36,36,36)"
           },
           "zaxis": {
            "backgroundcolor": "white",
            "gridcolor": "rgb(232,232,232)",
            "gridwidth": 2,
            "linecolor": "rgb(36,36,36)",
            "showbackground": true,
            "showgrid": false,
            "showline": true,
            "ticks": "outside",
            "zeroline": false,
            "zerolinecolor": "rgb(36,36,36)"
           }
          },
          "shapedefaults": {
           "fillcolor": "black",
           "line": {
            "width": 0
           },
           "opacity": 0.3
          },
          "ternary": {
           "aaxis": {
            "gridcolor": "rgb(232,232,232)",
            "linecolor": "rgb(36,36,36)",
            "showgrid": false,
            "showline": true,
            "ticks": "outside"
           },
           "baxis": {
            "gridcolor": "rgb(232,232,232)",
            "linecolor": "rgb(36,36,36)",
            "showgrid": false,
            "showline": true,
            "ticks": "outside"
           },
           "bgcolor": "white",
           "caxis": {
            "gridcolor": "rgb(232,232,232)",
            "linecolor": "rgb(36,36,36)",
            "showgrid": false,
            "showline": true,
            "ticks": "outside"
           }
          },
          "title": {
           "x": 0.05
          },
          "xaxis": {
           "automargin": true,
           "gridcolor": "rgb(232,232,232)",
           "linecolor": "rgb(36,36,36)",
           "showgrid": false,
           "showline": true,
           "ticks": "outside",
           "title": {
            "standoff": 15
           },
           "zeroline": false,
           "zerolinecolor": "rgb(36,36,36)"
          },
          "yaxis": {
           "automargin": true,
           "gridcolor": "rgb(232,232,232)",
           "linecolor": "rgb(36,36,36)",
           "showgrid": false,
           "showline": true,
           "ticks": "outside",
           "title": {
            "standoff": 15
           },
           "zeroline": false,
           "zerolinecolor": "rgb(36,36,36)"
          }
         }
        },
        "title": {
         "text": "Casos de la Región de Aysén diferenciados por etapa clínica"
        },
        "xaxis": {
         "anchor": "y",
         "domain": [
          0,
          1
         ],
         "title": {
          "text": "Semana epidemiológica"
         }
        },
        "yaxis": {
         "anchor": "x",
         "domain": [
          0,
          1
         ],
         "title": {
          "text": "Número de casos"
         }
        }
       }
      },
      "text/html": [
       "<div>                            <div id=\"a542e1fe-0f73-4f78-8120-3068a298979f\" class=\"plotly-graph-div\" style=\"height:525px; width:100%;\"></div>            <script type=\"text/javascript\">                require([\"plotly\"], function(Plotly) {                    window.PLOTLYENV=window.PLOTLYENV || {};                                    if (document.getElementById(\"a542e1fe-0f73-4f78-8120-3068a298979f\")) {                    Plotly.newPlot(                        \"a542e1fe-0f73-4f78-8120-3068a298979f\",                        [{\"alignmentgroup\": \"True\", \"hovertemplate\": \"Cumple=True<br>fecha_cumple_requisitos=%{x}<br>n_folio=%{y}<extra></extra>\", \"legendgroup\": \"True\", \"marker\": {\"color\": \"#636efa\"}, \"name\": \"True\", \"offsetgroup\": \"True\", \"orientation\": \"v\", \"showlegend\": true, \"textposition\": \"auto\", \"type\": \"bar\", \"x\": [\"2021-03-01T00:00:00\", \"2021-03-02T00:00:00\", \"2021-03-03T00:00:00\", \"2021-03-04T00:00:00\", \"2021-03-05T00:00:00\", \"2021-03-06T00:00:00\", \"2021-03-07T00:00:00\", \"2021-03-08T00:00:00\", \"2021-03-09T00:00:00\", \"2021-03-10T00:00:00\", \"2021-03-11T00:00:00\", \"2021-03-12T00:00:00\", \"2021-03-13T00:00:00\", \"2021-03-14T00:00:00\", \"2021-03-15T00:00:00\", \"2021-03-16T00:00:00\", \"2021-03-17T00:00:00\", \"2021-03-18T00:00:00\", \"2021-03-19T00:00:00\", \"2021-03-20T00:00:00\", \"2021-03-21T00:00:00\", \"2021-03-22T00:00:00\", \"2021-03-23T00:00:00\", \"2021-03-24T00:00:00\", \"2021-03-25T00:00:00\", \"2021-03-26T00:00:00\", \"2021-03-27T00:00:00\", \"2021-03-28T00:00:00\", \"2021-03-29T00:00:00\", \"2021-03-30T00:00:00\", \"2021-03-31T00:00:00\", \"2021-04-01T00:00:00\", \"2021-04-02T00:00:00\", \"2021-04-03T00:00:00\", \"2021-04-04T00:00:00\", \"2021-04-05T00:00:00\", \"2021-04-06T00:00:00\", \"2021-04-07T00:00:00\", \"2021-04-08T00:00:00\", \"2021-04-09T00:00:00\", \"2021-04-10T00:00:00\", \"2021-04-11T00:00:00\", \"2021-04-12T00:00:00\", \"2021-04-13T00:00:00\", \"2021-04-14T00:00:00\", \"2021-04-15T00:00:00\", \"2021-04-16T00:00:00\", \"2021-04-17T00:00:00\", \"2021-04-18T00:00:00\", \"2021-04-19T00:00:00\", \"2021-04-20T00:00:00\", \"2021-04-21T00:00:00\", \"2021-04-22T00:00:00\", \"2021-04-23T00:00:00\", \"2021-04-24T00:00:00\", \"2021-04-25T00:00:00\", \"2021-04-26T00:00:00\", \"2021-04-27T00:00:00\", \"2021-04-28T00:00:00\", \"2021-04-29T00:00:00\", \"2021-04-30T00:00:00\", \"2021-05-01T00:00:00\", \"2021-05-02T00:00:00\", \"2021-05-03T00:00:00\", \"2021-05-04T00:00:00\", \"2021-05-05T00:00:00\", \"2021-05-06T00:00:00\", \"2021-05-07T00:00:00\", \"2021-05-08T00:00:00\", \"2021-05-09T00:00:00\", \"2021-05-10T00:00:00\", \"2021-05-11T00:00:00\", \"2021-05-12T00:00:00\", \"2021-05-13T00:00:00\", \"2021-05-14T00:00:00\", \"2021-05-15T00:00:00\", \"2021-05-16T00:00:00\", \"2021-05-17T00:00:00\", \"2021-05-18T00:00:00\", \"2021-05-19T00:00:00\", \"2021-05-20T00:00:00\", \"2021-05-21T00:00:00\", \"2021-05-22T00:00:00\", \"2021-05-23T00:00:00\", \"2021-05-24T00:00:00\", \"2021-05-25T00:00:00\", \"2021-05-26T00:00:00\", \"2021-05-27T00:00:00\", \"2021-05-28T00:00:00\", \"2021-05-29T00:00:00\", \"2021-05-30T00:00:00\", \"2021-05-31T00:00:00\", \"2021-06-01T00:00:00\", \"2021-06-02T00:00:00\", \"2021-06-03T00:00:00\", \"2021-06-04T00:00:00\", \"2021-06-05T00:00:00\", \"2021-06-06T00:00:00\", \"2021-06-07T00:00:00\", \"2021-06-08T00:00:00\", \"2021-06-09T00:00:00\", \"2021-06-10T00:00:00\", \"2021-06-11T00:00:00\", \"2021-06-12T00:00:00\", \"2021-06-13T00:00:00\", \"2021-06-14T00:00:00\", \"2021-06-15T00:00:00\", \"2021-06-16T00:00:00\", \"2021-06-17T00:00:00\", \"2021-06-18T00:00:00\", \"2021-06-19T00:00:00\", \"2021-06-20T00:00:00\", \"2021-06-21T00:00:00\", \"2021-06-22T00:00:00\", \"2021-06-23T00:00:00\", \"2021-06-24T00:00:00\", \"2021-06-25T00:00:00\", \"2021-06-26T00:00:00\", \"2021-06-27T00:00:00\", \"2021-06-28T00:00:00\", \"2021-06-29T00:00:00\", \"2021-06-30T00:00:00\", \"2021-07-01T00:00:00\", \"2021-07-02T00:00:00\", \"2021-07-03T00:00:00\", \"2021-07-04T00:00:00\", \"2021-07-05T00:00:00\", \"2021-07-06T00:00:00\", \"2021-07-07T00:00:00\", \"2021-07-08T00:00:00\", \"2021-07-09T00:00:00\", \"2021-07-10T00:00:00\", \"2021-07-11T00:00:00\", \"2021-07-12T00:00:00\", \"2021-07-13T00:00:00\", \"2021-07-14T00:00:00\", \"2021-07-15T00:00:00\", \"2021-07-16T00:00:00\", \"2021-07-17T00:00:00\", \"2021-07-18T00:00:00\", \"2021-07-19T00:00:00\", \"2021-07-20T00:00:00\", \"2021-07-21T00:00:00\", \"2021-07-22T00:00:00\", \"2021-07-23T00:00:00\", \"2021-07-24T00:00:00\", \"2021-07-25T00:00:00\", \"2021-07-26T00:00:00\", \"2021-07-27T00:00:00\", \"2021-07-28T00:00:00\", \"2021-07-29T00:00:00\", \"2021-07-30T00:00:00\", \"2021-07-31T00:00:00\", \"2021-08-01T00:00:00\", \"2021-08-02T00:00:00\", \"2021-08-03T00:00:00\", \"2021-08-04T00:00:00\", \"2021-08-05T00:00:00\", \"2021-08-06T00:00:00\", \"2021-08-07T00:00:00\", \"2021-08-08T00:00:00\", \"2021-08-09T00:00:00\", \"2021-08-10T00:00:00\", \"2021-08-11T00:00:00\", \"2021-08-12T00:00:00\", \"2021-08-13T00:00:00\", \"2021-08-14T00:00:00\", \"2021-08-15T00:00:00\", \"2021-08-16T00:00:00\", \"2021-08-17T00:00:00\", \"2021-08-18T00:00:00\", \"2021-08-19T00:00:00\", \"2021-08-20T00:00:00\", \"2021-08-21T00:00:00\", \"2021-08-22T00:00:00\", \"2021-08-23T00:00:00\", \"2021-08-24T00:00:00\", \"2021-08-25T00:00:00\", \"2021-08-26T00:00:00\", \"2021-08-27T00:00:00\", \"2021-08-28T00:00:00\", \"2021-08-29T00:00:00\", \"2021-08-30T00:00:00\", \"2021-08-31T00:00:00\"], \"xaxis\": \"x\", \"y\": [27, 62, 56, 33, 49, 32, 21, 21, 55, 56, 34, 33, 40, 46, 65, 45, 18, 44, 20, 20, 58, 70, 101, 71, 95, 62, 32, 50, 95, 102, 44, 83, 43, 49, 42, 108, 112, 64, 64, 87, 97, 47, 47, 72, 52, 71, 106, 55, 76, 42, 139, 109, 140, 81, 66, 86, 77, 132, 167, 213, 156, 95, 55, 106, 126, 148, 142, 119, 93, 89, 127, 146, 190, 212, 236, 140, 113, 184, 240, 326, 315, 210, 165, 72, 209, 251, 285, 244, 246, 142, 117, 252, 377, 264, 245, 167, 142, 57, 230, 153, 221, 208, 213, 103, 131, 175, 132, 233, 205, 161, 96, 78, 54, 111, 147, 100, 123, 74, 82, 53, 91, 162, 83, 140, 41, 31, 96, 97, 79, 93, 139, 51, 22, 5, 43, 39, 23, 15, 12, 1, 10, 16, 8, 11, 23, 7, 3, 3, 5, 23, 12, 10, 4, 11, 11, 6, 12, 21, 56, 41, 6, 13, 23, 8, 24, 35, 28, 25, 59, 62, 74, 40, 48, 23, 10, 33, 27, 46, 17, 13, 6, 20, 82, 6], \"yaxis\": \"y\"}, {\"alignmentgroup\": \"True\", \"hovertemplate\": \"Cumple=False<br>fecha_cumple_requisitos=%{x}<br>n_folio=%{y}<extra></extra>\", \"legendgroup\": \"False\", \"marker\": {\"color\": \"#EF553B\"}, \"name\": \"False\", \"offsetgroup\": \"False\", \"orientation\": \"v\", \"showlegend\": true, \"textposition\": \"auto\", \"type\": \"bar\", \"x\": [\"2021-03-04T00:00:00\", \"2021-03-05T00:00:00\", \"2021-03-06T00:00:00\", \"2021-03-07T00:00:00\", \"2021-03-08T00:00:00\", \"2021-03-09T00:00:00\", \"2021-03-10T00:00:00\", \"2021-03-11T00:00:00\", \"2021-03-12T00:00:00\", \"2021-03-13T00:00:00\", \"2021-03-14T00:00:00\", \"2021-03-15T00:00:00\", \"2021-03-16T00:00:00\", \"2021-03-17T00:00:00\", \"2021-03-18T00:00:00\", \"2021-03-19T00:00:00\", \"2021-03-20T00:00:00\", \"2021-03-21T00:00:00\", \"2021-03-22T00:00:00\", \"2021-03-23T00:00:00\", \"2021-03-24T00:00:00\", \"2021-03-25T00:00:00\", \"2021-03-26T00:00:00\", \"2021-03-27T00:00:00\", \"2021-03-28T00:00:00\", \"2021-03-29T00:00:00\", \"2021-03-30T00:00:00\", \"2021-03-31T00:00:00\", \"2021-04-01T00:00:00\", \"2021-04-02T00:00:00\", \"2021-04-03T00:00:00\", \"2021-04-04T00:00:00\", \"2021-04-05T00:00:00\", \"2021-04-06T00:00:00\", \"2021-04-07T00:00:00\", \"2021-04-08T00:00:00\", \"2021-04-09T00:00:00\", \"2021-04-10T00:00:00\", \"2021-04-11T00:00:00\", \"2021-04-12T00:00:00\", \"2021-04-13T00:00:00\", \"2021-04-14T00:00:00\", \"2021-04-15T00:00:00\", \"2021-04-16T00:00:00\", \"2021-04-17T00:00:00\", \"2021-04-18T00:00:00\", \"2021-04-19T00:00:00\", \"2021-04-20T00:00:00\", \"2021-04-21T00:00:00\", \"2021-04-22T00:00:00\", \"2021-04-23T00:00:00\", \"2021-04-24T00:00:00\", \"2021-04-25T00:00:00\", \"2021-04-26T00:00:00\", \"2021-04-27T00:00:00\", \"2021-04-28T00:00:00\", \"2021-04-29T00:00:00\", \"2021-04-30T00:00:00\", \"2021-05-01T00:00:00\", \"2021-05-02T00:00:00\", \"2021-05-03T00:00:00\", \"2021-05-04T00:00:00\", \"2021-05-05T00:00:00\", \"2021-05-06T00:00:00\", \"2021-05-07T00:00:00\", \"2021-05-08T00:00:00\", \"2021-05-09T00:00:00\", \"2021-05-10T00:00:00\", \"2021-05-11T00:00:00\", \"2021-05-12T00:00:00\", \"2021-05-13T00:00:00\", \"2021-05-14T00:00:00\", \"2021-05-15T00:00:00\", \"2021-05-16T00:00:00\", \"2021-05-17T00:00:00\", \"2021-05-18T00:00:00\", \"2021-05-19T00:00:00\", \"2021-05-20T00:00:00\", \"2021-05-21T00:00:00\", \"2021-05-22T00:00:00\", \"2021-05-23T00:00:00\", \"2021-05-24T00:00:00\", \"2021-05-25T00:00:00\", \"2021-05-26T00:00:00\", \"2021-05-27T00:00:00\", \"2021-05-28T00:00:00\", \"2021-05-29T00:00:00\", \"2021-05-30T00:00:00\", \"2021-05-31T00:00:00\", \"2021-06-01T00:00:00\", \"2021-06-02T00:00:00\", \"2021-06-03T00:00:00\", \"2021-06-04T00:00:00\", \"2021-06-05T00:00:00\", \"2021-06-06T00:00:00\", \"2021-06-07T00:00:00\", \"2021-06-08T00:00:00\", \"2021-06-09T00:00:00\", \"2021-06-10T00:00:00\", \"2021-06-11T00:00:00\", \"2021-06-12T00:00:00\", \"2021-06-13T00:00:00\", \"2021-06-14T00:00:00\", \"2021-06-15T00:00:00\", \"2021-06-16T00:00:00\", \"2021-06-17T00:00:00\", \"2021-06-18T00:00:00\", \"2021-06-19T00:00:00\", \"2021-06-20T00:00:00\", \"2021-06-21T00:00:00\", \"2021-06-22T00:00:00\", \"2021-06-23T00:00:00\", \"2021-06-24T00:00:00\", \"2021-06-25T00:00:00\", \"2021-06-26T00:00:00\", \"2021-06-27T00:00:00\", \"2021-06-28T00:00:00\", \"2021-06-29T00:00:00\", \"2021-06-30T00:00:00\", \"2021-07-02T00:00:00\", \"2021-07-03T00:00:00\", \"2021-07-04T00:00:00\", \"2021-07-05T00:00:00\", \"2021-07-06T00:00:00\", \"2021-07-07T00:00:00\", \"2021-07-08T00:00:00\", \"2021-07-09T00:00:00\", \"2021-07-10T00:00:00\", \"2021-07-11T00:00:00\", \"2021-07-12T00:00:00\", \"2021-07-13T00:00:00\", \"2021-07-14T00:00:00\", \"2021-07-15T00:00:00\", \"2021-07-16T00:00:00\", \"2021-07-17T00:00:00\", \"2021-07-19T00:00:00\", \"2021-07-20T00:00:00\", \"2021-07-21T00:00:00\", \"2021-07-22T00:00:00\", \"2021-07-24T00:00:00\", \"2021-07-25T00:00:00\", \"2021-07-26T00:00:00\", \"2021-07-28T00:00:00\", \"2021-07-29T00:00:00\", \"2021-07-31T00:00:00\", \"2021-08-02T00:00:00\", \"2021-08-03T00:00:00\", \"2021-08-04T00:00:00\", \"2021-08-06T00:00:00\", \"2021-08-12T00:00:00\", \"2021-08-15T00:00:00\", \"2021-08-16T00:00:00\", \"2021-08-17T00:00:00\", \"2021-08-18T00:00:00\", \"2021-08-19T00:00:00\", \"2021-08-20T00:00:00\", \"2021-08-21T00:00:00\", \"2021-08-22T00:00:00\", \"2021-08-24T00:00:00\", \"2021-08-27T00:00:00\"], \"xaxis\": \"x\", \"y\": [6, 10, 4, 15, 41, 8, 9, 5, 9, 9, 13, 21, 7, 6, 35, 17, 14, 41, 4, 18, 7, 15, 24, 1, 9, 23, 5, 7, 29, 8, 9, 13, 11, 13, 2, 10, 24, 17, 11, 27, 3, 14, 4, 5, 5, 6, 8, 9, 9, 30, 13, 5, 6, 19, 8, 11, 10, 8, 5, 13, 52, 23, 14, 15, 11, 2, 5, 54, 31, 18, 5, 13, 30, 31, 50, 27, 25, 30, 20, 26, 56, 55, 21, 29, 31, 38, 17, 35, 94, 44, 10, 14, 31, 40, 32, 76, 49, 44, 61, 14, 14, 38, 16, 79, 26, 29, 26, 15, 6, 3, 14, 21, 22, 10, 2, 8, 11, 9, 18, 3, 4, 5, 13, 3, 5, 21, 31, 3, 2, 2, 7, 2, 2, 3, 3, 2, 4, 3, 6, 2, 7, 3, 1, 2, 1, 1, 3, 1, 5, 8, 1, 17, 2, 3, 1, 2, 2, 1, 6, 3], \"yaxis\": \"y\"}],                        {\"barmode\": \"relative\", \"legend\": {\"title\": {\"text\": \"Cumple\"}, \"tracegroupgap\": 0}, \"margin\": {\"t\": 60}, \"template\": {\"data\": {\"bar\": [{\"error_x\": {\"color\": \"rgb(36,36,36)\"}, \"error_y\": {\"color\": \"rgb(36,36,36)\"}, \"marker\": {\"line\": {\"color\": \"white\", \"width\": 0.5}}, \"type\": \"bar\"}], \"barpolar\": [{\"marker\": {\"line\": {\"color\": \"white\", \"width\": 0.5}}, \"type\": \"barpolar\"}], \"carpet\": [{\"aaxis\": {\"endlinecolor\": \"rgb(36,36,36)\", \"gridcolor\": \"white\", \"linecolor\": \"white\", \"minorgridcolor\": \"white\", \"startlinecolor\": \"rgb(36,36,36)\"}, \"baxis\": {\"endlinecolor\": \"rgb(36,36,36)\", \"gridcolor\": \"white\", \"linecolor\": \"white\", \"minorgridcolor\": \"white\", \"startlinecolor\": \"rgb(36,36,36)\"}, \"type\": \"carpet\"}], \"choropleth\": [{\"colorbar\": {\"outlinewidth\": 1, \"tickcolor\": \"rgb(36,36,36)\", \"ticks\": \"outside\"}, \"type\": \"choropleth\"}], \"contour\": [{\"colorbar\": {\"outlinewidth\": 1, \"tickcolor\": \"rgb(36,36,36)\", \"ticks\": \"outside\"}, \"colorscale\": [[0.0, \"#440154\"], [0.1111111111111111, \"#482878\"], [0.2222222222222222, \"#3e4989\"], [0.3333333333333333, \"#31688e\"], [0.4444444444444444, \"#26828e\"], [0.5555555555555556, \"#1f9e89\"], [0.6666666666666666, \"#35b779\"], [0.7777777777777778, \"#6ece58\"], [0.8888888888888888, \"#b5de2b\"], [1.0, \"#fde725\"]], \"type\": \"contour\"}], \"contourcarpet\": [{\"colorbar\": {\"outlinewidth\": 1, \"tickcolor\": \"rgb(36,36,36)\", \"ticks\": \"outside\"}, \"type\": \"contourcarpet\"}], \"heatmap\": [{\"colorbar\": {\"outlinewidth\": 1, \"tickcolor\": \"rgb(36,36,36)\", \"ticks\": \"outside\"}, \"colorscale\": [[0.0, \"#440154\"], [0.1111111111111111, \"#482878\"], [0.2222222222222222, \"#3e4989\"], [0.3333333333333333, \"#31688e\"], [0.4444444444444444, \"#26828e\"], [0.5555555555555556, \"#1f9e89\"], [0.6666666666666666, \"#35b779\"], [0.7777777777777778, \"#6ece58\"], [0.8888888888888888, \"#b5de2b\"], [1.0, \"#fde725\"]], \"type\": \"heatmap\"}], \"heatmapgl\": [{\"colorbar\": {\"outlinewidth\": 1, \"tickcolor\": \"rgb(36,36,36)\", \"ticks\": \"outside\"}, \"colorscale\": [[0.0, \"#440154\"], [0.1111111111111111, \"#482878\"], [0.2222222222222222, \"#3e4989\"], [0.3333333333333333, \"#31688e\"], [0.4444444444444444, \"#26828e\"], [0.5555555555555556, \"#1f9e89\"], [0.6666666666666666, \"#35b779\"], [0.7777777777777778, \"#6ece58\"], [0.8888888888888888, \"#b5de2b\"], [1.0, \"#fde725\"]], \"type\": \"heatmapgl\"}], \"histogram\": [{\"marker\": {\"line\": {\"color\": \"white\", \"width\": 0.6}}, \"type\": \"histogram\"}], \"histogram2d\": [{\"colorbar\": {\"outlinewidth\": 1, \"tickcolor\": \"rgb(36,36,36)\", \"ticks\": \"outside\"}, \"colorscale\": [[0.0, \"#440154\"], [0.1111111111111111, \"#482878\"], [0.2222222222222222, \"#3e4989\"], [0.3333333333333333, \"#31688e\"], [0.4444444444444444, \"#26828e\"], [0.5555555555555556, \"#1f9e89\"], [0.6666666666666666, \"#35b779\"], [0.7777777777777778, \"#6ece58\"], [0.8888888888888888, \"#b5de2b\"], [1.0, \"#fde725\"]], \"type\": \"histogram2d\"}], \"histogram2dcontour\": [{\"colorbar\": {\"outlinewidth\": 1, \"tickcolor\": \"rgb(36,36,36)\", \"ticks\": \"outside\"}, \"colorscale\": [[0.0, \"#440154\"], [0.1111111111111111, \"#482878\"], [0.2222222222222222, \"#3e4989\"], [0.3333333333333333, \"#31688e\"], [0.4444444444444444, \"#26828e\"], [0.5555555555555556, \"#1f9e89\"], [0.6666666666666666, \"#35b779\"], [0.7777777777777778, \"#6ece58\"], [0.8888888888888888, \"#b5de2b\"], [1.0, \"#fde725\"]], \"type\": \"histogram2dcontour\"}], \"mesh3d\": [{\"colorbar\": {\"outlinewidth\": 1, \"tickcolor\": \"rgb(36,36,36)\", \"ticks\": \"outside\"}, \"type\": \"mesh3d\"}], \"parcoords\": [{\"line\": {\"colorbar\": {\"outlinewidth\": 1, \"tickcolor\": \"rgb(36,36,36)\", \"ticks\": \"outside\"}}, \"type\": \"parcoords\"}], \"pie\": [{\"automargin\": true, \"type\": \"pie\"}], \"scatter\": [{\"marker\": {\"colorbar\": {\"outlinewidth\": 1, \"tickcolor\": \"rgb(36,36,36)\", \"ticks\": \"outside\"}}, \"type\": \"scatter\"}], \"scatter3d\": [{\"line\": {\"colorbar\": {\"outlinewidth\": 1, \"tickcolor\": \"rgb(36,36,36)\", \"ticks\": \"outside\"}}, \"marker\": {\"colorbar\": {\"outlinewidth\": 1, \"tickcolor\": \"rgb(36,36,36)\", \"ticks\": \"outside\"}}, \"type\": \"scatter3d\"}], \"scattercarpet\": [{\"marker\": {\"colorbar\": {\"outlinewidth\": 1, \"tickcolor\": \"rgb(36,36,36)\", \"ticks\": \"outside\"}}, \"type\": \"scattercarpet\"}], \"scattergeo\": [{\"marker\": {\"colorbar\": {\"outlinewidth\": 1, \"tickcolor\": \"rgb(36,36,36)\", \"ticks\": \"outside\"}}, \"type\": \"scattergeo\"}], \"scattergl\": [{\"marker\": {\"colorbar\": {\"outlinewidth\": 1, \"tickcolor\": \"rgb(36,36,36)\", \"ticks\": \"outside\"}}, \"type\": \"scattergl\"}], \"scattermapbox\": [{\"marker\": {\"colorbar\": {\"outlinewidth\": 1, \"tickcolor\": \"rgb(36,36,36)\", \"ticks\": \"outside\"}}, \"type\": \"scattermapbox\"}], \"scatterpolar\": [{\"marker\": {\"colorbar\": {\"outlinewidth\": 1, \"tickcolor\": \"rgb(36,36,36)\", \"ticks\": \"outside\"}}, \"type\": \"scatterpolar\"}], \"scatterpolargl\": [{\"marker\": {\"colorbar\": {\"outlinewidth\": 1, \"tickcolor\": \"rgb(36,36,36)\", \"ticks\": \"outside\"}}, \"type\": \"scatterpolargl\"}], \"scatterternary\": [{\"marker\": {\"colorbar\": {\"outlinewidth\": 1, \"tickcolor\": \"rgb(36,36,36)\", \"ticks\": \"outside\"}}, \"type\": \"scatterternary\"}], \"surface\": [{\"colorbar\": {\"outlinewidth\": 1, \"tickcolor\": \"rgb(36,36,36)\", \"ticks\": \"outside\"}, \"colorscale\": [[0.0, \"#440154\"], [0.1111111111111111, \"#482878\"], [0.2222222222222222, \"#3e4989\"], [0.3333333333333333, \"#31688e\"], [0.4444444444444444, \"#26828e\"], [0.5555555555555556, \"#1f9e89\"], [0.6666666666666666, \"#35b779\"], [0.7777777777777778, \"#6ece58\"], [0.8888888888888888, \"#b5de2b\"], [1.0, \"#fde725\"]], \"type\": \"surface\"}], \"table\": [{\"cells\": {\"fill\": {\"color\": \"rgb(237,237,237)\"}, \"line\": {\"color\": \"white\"}}, \"header\": {\"fill\": {\"color\": \"rgb(217,217,217)\"}, \"line\": {\"color\": \"white\"}}, \"type\": \"table\"}]}, \"layout\": {\"annotationdefaults\": {\"arrowhead\": 0, \"arrowwidth\": 1}, \"autotypenumbers\": \"strict\", \"coloraxis\": {\"colorbar\": {\"outlinewidth\": 1, \"tickcolor\": \"rgb(36,36,36)\", \"ticks\": \"outside\"}}, \"colorscale\": {\"diverging\": [[0.0, \"rgb(103,0,31)\"], [0.1, \"rgb(178,24,43)\"], [0.2, \"rgb(214,96,77)\"], [0.3, \"rgb(244,165,130)\"], [0.4, \"rgb(253,219,199)\"], [0.5, \"rgb(247,247,247)\"], [0.6, \"rgb(209,229,240)\"], [0.7, \"rgb(146,197,222)\"], [0.8, \"rgb(67,147,195)\"], [0.9, \"rgb(33,102,172)\"], [1.0, \"rgb(5,48,97)\"]], \"sequential\": [[0.0, \"#440154\"], [0.1111111111111111, \"#482878\"], [0.2222222222222222, \"#3e4989\"], [0.3333333333333333, \"#31688e\"], [0.4444444444444444, \"#26828e\"], [0.5555555555555556, \"#1f9e89\"], [0.6666666666666666, \"#35b779\"], [0.7777777777777778, \"#6ece58\"], [0.8888888888888888, \"#b5de2b\"], [1.0, \"#fde725\"]], \"sequentialminus\": [[0.0, \"#440154\"], [0.1111111111111111, \"#482878\"], [0.2222222222222222, \"#3e4989\"], [0.3333333333333333, \"#31688e\"], [0.4444444444444444, \"#26828e\"], [0.5555555555555556, \"#1f9e89\"], [0.6666666666666666, \"#35b779\"], [0.7777777777777778, \"#6ece58\"], [0.8888888888888888, \"#b5de2b\"], [1.0, \"#fde725\"]]}, \"colorway\": [\"#1F77B4\", \"#FF7F0E\", \"#2CA02C\", \"#D62728\", \"#9467BD\", \"#8C564B\", \"#E377C2\", \"#7F7F7F\", \"#BCBD22\", \"#17BECF\"], \"font\": {\"color\": \"rgb(36,36,36)\"}, \"geo\": {\"bgcolor\": \"white\", \"lakecolor\": \"white\", \"landcolor\": \"white\", \"showlakes\": true, \"showland\": true, \"subunitcolor\": \"white\"}, \"hoverlabel\": {\"align\": \"left\"}, \"hovermode\": \"closest\", \"mapbox\": {\"style\": \"light\"}, \"paper_bgcolor\": \"white\", \"plot_bgcolor\": \"white\", \"polar\": {\"angularaxis\": {\"gridcolor\": \"rgb(232,232,232)\", \"linecolor\": \"rgb(36,36,36)\", \"showgrid\": false, \"showline\": true, \"ticks\": \"outside\"}, \"bgcolor\": \"white\", \"radialaxis\": {\"gridcolor\": \"rgb(232,232,232)\", \"linecolor\": \"rgb(36,36,36)\", \"showgrid\": false, \"showline\": true, \"ticks\": \"outside\"}}, \"scene\": {\"xaxis\": {\"backgroundcolor\": \"white\", \"gridcolor\": \"rgb(232,232,232)\", \"gridwidth\": 2, \"linecolor\": \"rgb(36,36,36)\", \"showbackground\": true, \"showgrid\": false, \"showline\": true, \"ticks\": \"outside\", \"zeroline\": false, \"zerolinecolor\": \"rgb(36,36,36)\"}, \"yaxis\": {\"backgroundcolor\": \"white\", \"gridcolor\": \"rgb(232,232,232)\", \"gridwidth\": 2, \"linecolor\": \"rgb(36,36,36)\", \"showbackground\": true, \"showgrid\": false, \"showline\": true, \"ticks\": \"outside\", \"zeroline\": false, \"zerolinecolor\": \"rgb(36,36,36)\"}, \"zaxis\": {\"backgroundcolor\": \"white\", \"gridcolor\": \"rgb(232,232,232)\", \"gridwidth\": 2, \"linecolor\": \"rgb(36,36,36)\", \"showbackground\": true, \"showgrid\": false, \"showline\": true, \"ticks\": \"outside\", \"zeroline\": false, \"zerolinecolor\": \"rgb(36,36,36)\"}}, \"shapedefaults\": {\"fillcolor\": \"black\", \"line\": {\"width\": 0}, \"opacity\": 0.3}, \"ternary\": {\"aaxis\": {\"gridcolor\": \"rgb(232,232,232)\", \"linecolor\": \"rgb(36,36,36)\", \"showgrid\": false, \"showline\": true, \"ticks\": \"outside\"}, \"baxis\": {\"gridcolor\": \"rgb(232,232,232)\", \"linecolor\": \"rgb(36,36,36)\", \"showgrid\": false, \"showline\": true, \"ticks\": \"outside\"}, \"bgcolor\": \"white\", \"caxis\": {\"gridcolor\": \"rgb(232,232,232)\", \"linecolor\": \"rgb(36,36,36)\", \"showgrid\": false, \"showline\": true, \"ticks\": \"outside\"}}, \"title\": {\"x\": 0.05}, \"xaxis\": {\"automargin\": true, \"gridcolor\": \"rgb(232,232,232)\", \"linecolor\": \"rgb(36,36,36)\", \"showgrid\": false, \"showline\": true, \"ticks\": \"outside\", \"title\": {\"standoff\": 15}, \"zeroline\": false, \"zerolinecolor\": \"rgb(36,36,36)\"}, \"yaxis\": {\"automargin\": true, \"gridcolor\": \"rgb(232,232,232)\", \"linecolor\": \"rgb(36,36,36)\", \"showgrid\": false, \"showline\": true, \"ticks\": \"outside\", \"title\": {\"standoff\": 15}, \"zeroline\": false, \"zerolinecolor\": \"rgb(36,36,36)\"}}}, \"title\": {\"text\": \"Casos de la Regi\\u00f3n de Ays\\u00e9n diferenciados por etapa cl\\u00ednica\"}, \"xaxis\": {\"anchor\": \"y\", \"domain\": [0.0, 1.0], \"title\": {\"text\": \"Semana epidemiol\\u00f3gica\"}}, \"yaxis\": {\"anchor\": \"x\", \"domain\": [0.0, 1.0], \"title\": {\"text\": \"N\\u00famero de casos\"}}},                        {\"responsive\": true}                    ).then(function(){\n",
       "                            \n",
       "var gd = document.getElementById('a542e1fe-0f73-4f78-8120-3068a298979f');\n",
       "var x = new MutationObserver(function (mutations, observer) {{\n",
       "        var display = window.getComputedStyle(gd).display;\n",
       "        if (!display || display === 'none') {{\n",
       "            console.log([gd, 'removed!']);\n",
       "            Plotly.purge(gd);\n",
       "            observer.disconnect();\n",
       "        }}\n",
       "}});\n",
       "\n",
       "// Listen for the removal of the full notebook cells\n",
       "var notebookContainer = gd.closest('#notebook-container');\n",
       "if (notebookContainer) {{\n",
       "    x.observe(notebookContainer, {childList: true});\n",
       "}}\n",
       "\n",
       "// Listen for the clearing of the current output cell\n",
       "var outputEl = gd.closest('.output');\n",
       "if (outputEl) {{\n",
       "    x.observe(outputEl, {childList: true});\n",
       "}}\n",
       "\n",
       "                        })                };                });            </script>        </div>"
      ]
     },
     "metadata": {},
     "output_type": "display_data"
    }
   ],
   "source": [
    "# Crea gráfico de etapa_clinica regional por semana epidemiologica\n",
    "\n",
    "px.bar(df_seguimiento_ind5.groupby(['fecha_cumple_requisitos', 'ind5']).count()[['n_folio']].reset_index(),\n",
    "        x= 'fecha_cumple_requisitos',\n",
    "        y= 'n_folio',\n",
    "        color= 'ind5',\n",
    "        labels={'ind5':'Cumple'}, \n",
    "       ).update_layout(title= 'Casos de la Región de Aysén diferenciados por etapa clínica',\n",
    "                    yaxis_title='Número de casos',\n",
    "                    xaxis_title='Semana epidemiológica',\n",
    "                    template='simple_white',    )                 \n",
    "                    #xaxis=dict(tickmode = 'array',\n",
    "                     #             tickvals = list(range(12,88,3)),\n",
    "                      #            ticktext = list(list(range(12,54,3))+list(range(1,88,3))),\n",
    "                      #           ),\n",
    "               #     ).add_vline(x=53.5, line_width=3, line_dash='dash', line_color='gray'\n",
    "                #               ).add_vrect(x0='50', x1='50', \n",
    "                 #                          annotation_text='2020', \n",
    "                  #                         annotation_position='top right',\n",
    "                   #                        annotation=dict(font_size=18, \n",
    "                    #                                       font_family=\"'Open Sans', verdana, arial, sans-serif\"),\n",
    "                     #                                      opacity=0, \n",
    "                      #                                     line_width=0\n",
    "                       #                   ).add_vrect(x0='84', x1='86', \n",
    "                        #                   annotation_text='2021', \n",
    "                         #                  annotation_position='top right',\n",
    "                          #                 annotation=dict(font_size=18, \n",
    "                           #                                font_family=\"'Open Sans', verdana, arial, sans-serif\"),\n",
    "                            #                               opacity=0, \n",
    "                             #                              line_width=0)  \n",
    "                      "
   ]
  },
  {
   "cell_type": "code",
   "execution_count": 264,
   "id": "fd04d1a4",
   "metadata": {},
   "outputs": [],
   "source": [
    "df_ind5= df_seguimiento_ind5.groupby(['fecha_cumple_requisitos', 'ind5']).count()[['n_folio']].reset_index()"
   ]
  },
  {
   "cell_type": "code",
   "execution_count": 265,
   "id": "8c7a7f1d",
   "metadata": {},
   "outputs": [],
   "source": [
    "df_ind5_perc = (df_ind5[df_ind5['ind5']==True].set_index('fecha_cumple_requisitos')[['n_folio']]/df_ind5.groupby('fecha_cumple_requisitos').sum('n_folio')[['n_folio']])*100"
   ]
  },
  {
   "cell_type": "code",
   "execution_count": 266,
   "id": "970617ba",
   "metadata": {},
   "outputs": [
    {
     "data": {
      "application/vnd.plotly.v1+json": {
       "config": {
        "plotlyServerURL": "https://plot.ly"
       },
       "data": [
        {
         "hovertemplate": "fecha_cumple_requisitos=%{x}<br>n_folio=%{marker.color}<extra></extra>",
         "legendgroup": "",
         "line": {
          "color": "grey"
         },
         "marker": {
          "color": [
           100,
           100,
           100,
           84.61538461538461,
           83.05084745762711,
           88.88888888888889,
           58.333333333333336,
           33.87096774193548,
           87.3015873015873,
           86.15384615384616,
           87.17948717948718,
           78.57142857142857,
           81.63265306122449,
           77.96610169491525,
           75.5813953488372,
           86.53846153846155,
           75,
           55.69620253164557,
           54.054054054054056,
           58.82352941176471,
           58.58585858585859,
           94.5945945945946,
           84.87394957983193,
           91.02564102564102,
           86.36363636363636,
           72.09302325581395,
           96.96969696969697,
           84.7457627118644,
           80.50847457627118,
           95.32710280373831,
           86.27450980392157,
           74.10714285714286,
           84.31372549019608,
           84.48275862068965,
           76.36363636363637,
           90.75630252100841,
           89.60000000000001,
           96.96969696969697,
           86.48648648648648,
           78.37837837837837,
           85.08771929824562,
           81.03448275862068,
           63.51351351351351,
           96,
           78.78787878787878,
           94.66666666666667,
           95.4954954954955,
           91.66666666666666,
           92.6829268292683,
           84,
           93.91891891891892,
           92.37288135593221,
           82.35294117647058,
           86.17021276595744,
           92.95774647887323,
           93.47826086956522,
           80.20833333333334,
           94.28571428571428,
           93.82022471910112,
           95.51569506726457,
           95.1219512195122,
           95,
           80.88235294117648,
           67.08860759493672,
           84.56375838926175,
           91.35802469135803,
           90.44585987261146,
           91.53846153846153,
           97.89473684210527,
           94.68085106382979,
           70.1657458563536,
           82.48587570621469,
           91.34615384615384,
           97.6958525345622,
           94.77911646586345,
           82.35294117647058,
           78.47222222222221,
           78.63247863247864,
           89.8876404494382,
           92.87749287749287,
           91.30434782608695,
           91.30434782608695,
           86.38743455497382,
           56.25,
           79.16666666666666,
           92.27941176470588,
           90.76433121019109,
           88.72727272727273,
           86.61971830985915,
           89.30817610062893,
           76.97368421052632,
           72.83236994219652,
           89.54869358669833,
           96.35036496350365,
           94.5945945945946,
           84.34343434343434,
           78.02197802197803,
           64.04494382022472,
           75.16339869281046,
           75.74257425742574,
           83.39622641509435,
           77.32342007434944,
           93.83259911894272,
           88.03418803418803,
           77.51479289940828,
           91.62303664921467,
           62.55924170616114,
           89.96138996138995,
           87.6068376068376,
           86.09625668449198,
           86.48648648648648,
           92.85714285714286,
           94.73684210526315,
           88.8,
           87.5,
           81.9672131147541,
           92.4812030075188,
           97.36842105263158,
           91.11111111111111,
           82.8125,
           91,
           90,
           100,
           97.9020979020979,
           91.11111111111111,
           86.11111111111111,
           88.07339449541286,
           97,
           94.04761904761905,
           81.57894736842105,
           81.76470588235294,
           94.44444444444444,
           91.66666666666666,
           71.42857142857143,
           86,
           95.1219512195122,
           92,
           83.33333333333334,
           80,
           100,
           83.33333333333334,
           80,
           72.72727272727273,
           64.70588235294117,
           100,
           77.77777777777779,
           30,
           50,
           100,
           95.83333333333334,
           85.71428571428571,
           100,
           80,
           100,
           91.66666666666666,
           66.66666666666666,
           92.3076923076923,
           100,
           91.80327868852459,
           100,
           100,
           100,
           100,
           100,
           75,
           100,
           100,
           96.15384615384616,
           77.63157894736842,
           96.875,
           96.1038961038961,
           97.5609756097561,
           96,
           92,
           90.9090909090909,
           100,
           81.81818181818183,
           100,
           100,
           81.25,
           100,
           100,
           100,
           100
          ],
          "coloraxis": "coloraxis",
          "line": {
           "width": 1
          },
          "size": 10,
          "symbol": "circle"
         },
         "mode": "lines+markers",
         "name": "",
         "orientation": "v",
         "showlegend": false,
         "type": "scatter",
         "x": [
          "2021-03-01T00:00:00",
          "2021-03-02T00:00:00",
          "2021-03-03T00:00:00",
          "2021-03-04T00:00:00",
          "2021-03-05T00:00:00",
          "2021-03-06T00:00:00",
          "2021-03-07T00:00:00",
          "2021-03-08T00:00:00",
          "2021-03-09T00:00:00",
          "2021-03-10T00:00:00",
          "2021-03-11T00:00:00",
          "2021-03-12T00:00:00",
          "2021-03-13T00:00:00",
          "2021-03-14T00:00:00",
          "2021-03-15T00:00:00",
          "2021-03-16T00:00:00",
          "2021-03-17T00:00:00",
          "2021-03-18T00:00:00",
          "2021-03-19T00:00:00",
          "2021-03-20T00:00:00",
          "2021-03-21T00:00:00",
          "2021-03-22T00:00:00",
          "2021-03-23T00:00:00",
          "2021-03-24T00:00:00",
          "2021-03-25T00:00:00",
          "2021-03-26T00:00:00",
          "2021-03-27T00:00:00",
          "2021-03-28T00:00:00",
          "2021-03-29T00:00:00",
          "2021-03-30T00:00:00",
          "2021-03-31T00:00:00",
          "2021-04-01T00:00:00",
          "2021-04-02T00:00:00",
          "2021-04-03T00:00:00",
          "2021-04-04T00:00:00",
          "2021-04-05T00:00:00",
          "2021-04-06T00:00:00",
          "2021-04-07T00:00:00",
          "2021-04-08T00:00:00",
          "2021-04-09T00:00:00",
          "2021-04-10T00:00:00",
          "2021-04-11T00:00:00",
          "2021-04-12T00:00:00",
          "2021-04-13T00:00:00",
          "2021-04-14T00:00:00",
          "2021-04-15T00:00:00",
          "2021-04-16T00:00:00",
          "2021-04-17T00:00:00",
          "2021-04-18T00:00:00",
          "2021-04-19T00:00:00",
          "2021-04-20T00:00:00",
          "2021-04-21T00:00:00",
          "2021-04-22T00:00:00",
          "2021-04-23T00:00:00",
          "2021-04-24T00:00:00",
          "2021-04-25T00:00:00",
          "2021-04-26T00:00:00",
          "2021-04-27T00:00:00",
          "2021-04-28T00:00:00",
          "2021-04-29T00:00:00",
          "2021-04-30T00:00:00",
          "2021-05-01T00:00:00",
          "2021-05-02T00:00:00",
          "2021-05-03T00:00:00",
          "2021-05-04T00:00:00",
          "2021-05-05T00:00:00",
          "2021-05-06T00:00:00",
          "2021-05-07T00:00:00",
          "2021-05-08T00:00:00",
          "2021-05-09T00:00:00",
          "2021-05-10T00:00:00",
          "2021-05-11T00:00:00",
          "2021-05-12T00:00:00",
          "2021-05-13T00:00:00",
          "2021-05-14T00:00:00",
          "2021-05-15T00:00:00",
          "2021-05-16T00:00:00",
          "2021-05-17T00:00:00",
          "2021-05-18T00:00:00",
          "2021-05-19T00:00:00",
          "2021-05-20T00:00:00",
          "2021-05-21T00:00:00",
          "2021-05-22T00:00:00",
          "2021-05-23T00:00:00",
          "2021-05-24T00:00:00",
          "2021-05-25T00:00:00",
          "2021-05-26T00:00:00",
          "2021-05-27T00:00:00",
          "2021-05-28T00:00:00",
          "2021-05-29T00:00:00",
          "2021-05-30T00:00:00",
          "2021-05-31T00:00:00",
          "2021-06-01T00:00:00",
          "2021-06-02T00:00:00",
          "2021-06-03T00:00:00",
          "2021-06-04T00:00:00",
          "2021-06-05T00:00:00",
          "2021-06-06T00:00:00",
          "2021-06-07T00:00:00",
          "2021-06-08T00:00:00",
          "2021-06-09T00:00:00",
          "2021-06-10T00:00:00",
          "2021-06-11T00:00:00",
          "2021-06-12T00:00:00",
          "2021-06-13T00:00:00",
          "2021-06-14T00:00:00",
          "2021-06-15T00:00:00",
          "2021-06-16T00:00:00",
          "2021-06-17T00:00:00",
          "2021-06-18T00:00:00",
          "2021-06-19T00:00:00",
          "2021-06-20T00:00:00",
          "2021-06-21T00:00:00",
          "2021-06-22T00:00:00",
          "2021-06-23T00:00:00",
          "2021-06-24T00:00:00",
          "2021-06-25T00:00:00",
          "2021-06-26T00:00:00",
          "2021-06-27T00:00:00",
          "2021-06-28T00:00:00",
          "2021-06-29T00:00:00",
          "2021-06-30T00:00:00",
          "2021-07-01T00:00:00",
          "2021-07-02T00:00:00",
          "2021-07-03T00:00:00",
          "2021-07-04T00:00:00",
          "2021-07-05T00:00:00",
          "2021-07-06T00:00:00",
          "2021-07-07T00:00:00",
          "2021-07-08T00:00:00",
          "2021-07-09T00:00:00",
          "2021-07-10T00:00:00",
          "2021-07-11T00:00:00",
          "2021-07-12T00:00:00",
          "2021-07-13T00:00:00",
          "2021-07-14T00:00:00",
          "2021-07-15T00:00:00",
          "2021-07-16T00:00:00",
          "2021-07-17T00:00:00",
          "2021-07-18T00:00:00",
          "2021-07-19T00:00:00",
          "2021-07-20T00:00:00",
          "2021-07-21T00:00:00",
          "2021-07-22T00:00:00",
          "2021-07-23T00:00:00",
          "2021-07-24T00:00:00",
          "2021-07-25T00:00:00",
          "2021-07-26T00:00:00",
          "2021-07-27T00:00:00",
          "2021-07-28T00:00:00",
          "2021-07-29T00:00:00",
          "2021-07-30T00:00:00",
          "2021-07-31T00:00:00",
          "2021-08-01T00:00:00",
          "2021-08-02T00:00:00",
          "2021-08-03T00:00:00",
          "2021-08-04T00:00:00",
          "2021-08-05T00:00:00",
          "2021-08-06T00:00:00",
          "2021-08-07T00:00:00",
          "2021-08-08T00:00:00",
          "2021-08-09T00:00:00",
          "2021-08-10T00:00:00",
          "2021-08-11T00:00:00",
          "2021-08-12T00:00:00",
          "2021-08-13T00:00:00",
          "2021-08-14T00:00:00",
          "2021-08-15T00:00:00",
          "2021-08-16T00:00:00",
          "2021-08-17T00:00:00",
          "2021-08-18T00:00:00",
          "2021-08-19T00:00:00",
          "2021-08-20T00:00:00",
          "2021-08-21T00:00:00",
          "2021-08-22T00:00:00",
          "2021-08-23T00:00:00",
          "2021-08-24T00:00:00",
          "2021-08-25T00:00:00",
          "2021-08-26T00:00:00",
          "2021-08-27T00:00:00",
          "2021-08-28T00:00:00",
          "2021-08-29T00:00:00",
          "2021-08-30T00:00:00",
          "2021-08-31T00:00:00"
         ],
         "xaxis": "x",
         "y": [
          100,
          100,
          100,
          84.61538461538461,
          83.05084745762711,
          88.88888888888889,
          58.333333333333336,
          33.87096774193548,
          87.3015873015873,
          86.15384615384616,
          87.17948717948718,
          78.57142857142857,
          81.63265306122449,
          77.96610169491525,
          75.5813953488372,
          86.53846153846155,
          75,
          55.69620253164557,
          54.054054054054056,
          58.82352941176471,
          58.58585858585859,
          94.5945945945946,
          84.87394957983193,
          91.02564102564102,
          86.36363636363636,
          72.09302325581395,
          96.96969696969697,
          84.7457627118644,
          80.50847457627118,
          95.32710280373831,
          86.27450980392157,
          74.10714285714286,
          84.31372549019608,
          84.48275862068965,
          76.36363636363637,
          90.75630252100841,
          89.60000000000001,
          96.96969696969697,
          86.48648648648648,
          78.37837837837837,
          85.08771929824562,
          81.03448275862068,
          63.51351351351351,
          96,
          78.78787878787878,
          94.66666666666667,
          95.4954954954955,
          91.66666666666666,
          92.6829268292683,
          84,
          93.91891891891892,
          92.37288135593221,
          82.35294117647058,
          86.17021276595744,
          92.95774647887323,
          93.47826086956522,
          80.20833333333334,
          94.28571428571428,
          93.82022471910112,
          95.51569506726457,
          95.1219512195122,
          95,
          80.88235294117648,
          67.08860759493672,
          84.56375838926175,
          91.35802469135803,
          90.44585987261146,
          91.53846153846153,
          97.89473684210527,
          94.68085106382979,
          70.1657458563536,
          82.48587570621469,
          91.34615384615384,
          97.6958525345622,
          94.77911646586345,
          82.35294117647058,
          78.47222222222221,
          78.63247863247864,
          89.8876404494382,
          92.87749287749287,
          91.30434782608695,
          91.30434782608695,
          86.38743455497382,
          56.25,
          79.16666666666666,
          92.27941176470588,
          90.76433121019109,
          88.72727272727273,
          86.61971830985915,
          89.30817610062893,
          76.97368421052632,
          72.83236994219652,
          89.54869358669833,
          96.35036496350365,
          94.5945945945946,
          84.34343434343434,
          78.02197802197803,
          64.04494382022472,
          75.16339869281046,
          75.74257425742574,
          83.39622641509435,
          77.32342007434944,
          93.83259911894272,
          88.03418803418803,
          77.51479289940828,
          91.62303664921467,
          62.55924170616114,
          89.96138996138995,
          87.6068376068376,
          86.09625668449198,
          86.48648648648648,
          92.85714285714286,
          94.73684210526315,
          88.8,
          87.5,
          81.9672131147541,
          92.4812030075188,
          97.36842105263158,
          91.11111111111111,
          82.8125,
          91,
          90,
          100,
          97.9020979020979,
          91.11111111111111,
          86.11111111111111,
          88.07339449541286,
          97,
          94.04761904761905,
          81.57894736842105,
          81.76470588235294,
          94.44444444444444,
          91.66666666666666,
          71.42857142857143,
          86,
          95.1219512195122,
          92,
          83.33333333333334,
          80,
          100,
          83.33333333333334,
          80,
          72.72727272727273,
          64.70588235294117,
          100,
          77.77777777777779,
          30,
          50,
          100,
          95.83333333333334,
          85.71428571428571,
          100,
          80,
          100,
          91.66666666666666,
          66.66666666666666,
          92.3076923076923,
          100,
          91.80327868852459,
          100,
          100,
          100,
          100,
          100,
          75,
          100,
          100,
          96.15384615384616,
          77.63157894736842,
          96.875,
          96.1038961038961,
          97.5609756097561,
          96,
          92,
          90.9090909090909,
          100,
          81.81818181818183,
          100,
          100,
          81.25,
          100,
          100,
          100,
          100
         ],
         "yaxis": "y"
        }
       ],
       "layout": {
        "coloraxis": {
         "colorbar": {
          "title": {
           "text": "n_folio"
          }
         },
         "colorscale": [
          [
           0,
           "#fde725"
          ],
          [
           0.1111111111111111,
           "#b5de2b"
          ],
          [
           0.2222222222222222,
           "#6ece58"
          ],
          [
           0.3333333333333333,
           "#35b779"
          ],
          [
           0.4444444444444444,
           "#1f9e89"
          ],
          [
           0.5555555555555556,
           "#26828e"
          ],
          [
           0.6666666666666666,
           "#31688e"
          ],
          [
           0.7777777777777778,
           "#3e4989"
          ],
          [
           0.8888888888888888,
           "#482878"
          ],
          [
           1,
           "#440154"
          ]
         ]
        },
        "legend": {
         "tracegroupgap": 0
        },
        "margin": {
         "t": 60
        },
        "template": {
         "data": {
          "bar": [
           {
            "error_x": {
             "color": "rgb(36,36,36)"
            },
            "error_y": {
             "color": "rgb(36,36,36)"
            },
            "marker": {
             "line": {
              "color": "white",
              "width": 0.5
             }
            },
            "type": "bar"
           }
          ],
          "barpolar": [
           {
            "marker": {
             "line": {
              "color": "white",
              "width": 0.5
             }
            },
            "type": "barpolar"
           }
          ],
          "carpet": [
           {
            "aaxis": {
             "endlinecolor": "rgb(36,36,36)",
             "gridcolor": "white",
             "linecolor": "white",
             "minorgridcolor": "white",
             "startlinecolor": "rgb(36,36,36)"
            },
            "baxis": {
             "endlinecolor": "rgb(36,36,36)",
             "gridcolor": "white",
             "linecolor": "white",
             "minorgridcolor": "white",
             "startlinecolor": "rgb(36,36,36)"
            },
            "type": "carpet"
           }
          ],
          "choropleth": [
           {
            "colorbar": {
             "outlinewidth": 1,
             "tickcolor": "rgb(36,36,36)",
             "ticks": "outside"
            },
            "type": "choropleth"
           }
          ],
          "contour": [
           {
            "colorbar": {
             "outlinewidth": 1,
             "tickcolor": "rgb(36,36,36)",
             "ticks": "outside"
            },
            "colorscale": [
             [
              0,
              "#440154"
             ],
             [
              0.1111111111111111,
              "#482878"
             ],
             [
              0.2222222222222222,
              "#3e4989"
             ],
             [
              0.3333333333333333,
              "#31688e"
             ],
             [
              0.4444444444444444,
              "#26828e"
             ],
             [
              0.5555555555555556,
              "#1f9e89"
             ],
             [
              0.6666666666666666,
              "#35b779"
             ],
             [
              0.7777777777777778,
              "#6ece58"
             ],
             [
              0.8888888888888888,
              "#b5de2b"
             ],
             [
              1,
              "#fde725"
             ]
            ],
            "type": "contour"
           }
          ],
          "contourcarpet": [
           {
            "colorbar": {
             "outlinewidth": 1,
             "tickcolor": "rgb(36,36,36)",
             "ticks": "outside"
            },
            "type": "contourcarpet"
           }
          ],
          "heatmap": [
           {
            "colorbar": {
             "outlinewidth": 1,
             "tickcolor": "rgb(36,36,36)",
             "ticks": "outside"
            },
            "colorscale": [
             [
              0,
              "#440154"
             ],
             [
              0.1111111111111111,
              "#482878"
             ],
             [
              0.2222222222222222,
              "#3e4989"
             ],
             [
              0.3333333333333333,
              "#31688e"
             ],
             [
              0.4444444444444444,
              "#26828e"
             ],
             [
              0.5555555555555556,
              "#1f9e89"
             ],
             [
              0.6666666666666666,
              "#35b779"
             ],
             [
              0.7777777777777778,
              "#6ece58"
             ],
             [
              0.8888888888888888,
              "#b5de2b"
             ],
             [
              1,
              "#fde725"
             ]
            ],
            "type": "heatmap"
           }
          ],
          "heatmapgl": [
           {
            "colorbar": {
             "outlinewidth": 1,
             "tickcolor": "rgb(36,36,36)",
             "ticks": "outside"
            },
            "colorscale": [
             [
              0,
              "#440154"
             ],
             [
              0.1111111111111111,
              "#482878"
             ],
             [
              0.2222222222222222,
              "#3e4989"
             ],
             [
              0.3333333333333333,
              "#31688e"
             ],
             [
              0.4444444444444444,
              "#26828e"
             ],
             [
              0.5555555555555556,
              "#1f9e89"
             ],
             [
              0.6666666666666666,
              "#35b779"
             ],
             [
              0.7777777777777778,
              "#6ece58"
             ],
             [
              0.8888888888888888,
              "#b5de2b"
             ],
             [
              1,
              "#fde725"
             ]
            ],
            "type": "heatmapgl"
           }
          ],
          "histogram": [
           {
            "marker": {
             "line": {
              "color": "white",
              "width": 0.6
             }
            },
            "type": "histogram"
           }
          ],
          "histogram2d": [
           {
            "colorbar": {
             "outlinewidth": 1,
             "tickcolor": "rgb(36,36,36)",
             "ticks": "outside"
            },
            "colorscale": [
             [
              0,
              "#440154"
             ],
             [
              0.1111111111111111,
              "#482878"
             ],
             [
              0.2222222222222222,
              "#3e4989"
             ],
             [
              0.3333333333333333,
              "#31688e"
             ],
             [
              0.4444444444444444,
              "#26828e"
             ],
             [
              0.5555555555555556,
              "#1f9e89"
             ],
             [
              0.6666666666666666,
              "#35b779"
             ],
             [
              0.7777777777777778,
              "#6ece58"
             ],
             [
              0.8888888888888888,
              "#b5de2b"
             ],
             [
              1,
              "#fde725"
             ]
            ],
            "type": "histogram2d"
           }
          ],
          "histogram2dcontour": [
           {
            "colorbar": {
             "outlinewidth": 1,
             "tickcolor": "rgb(36,36,36)",
             "ticks": "outside"
            },
            "colorscale": [
             [
              0,
              "#440154"
             ],
             [
              0.1111111111111111,
              "#482878"
             ],
             [
              0.2222222222222222,
              "#3e4989"
             ],
             [
              0.3333333333333333,
              "#31688e"
             ],
             [
              0.4444444444444444,
              "#26828e"
             ],
             [
              0.5555555555555556,
              "#1f9e89"
             ],
             [
              0.6666666666666666,
              "#35b779"
             ],
             [
              0.7777777777777778,
              "#6ece58"
             ],
             [
              0.8888888888888888,
              "#b5de2b"
             ],
             [
              1,
              "#fde725"
             ]
            ],
            "type": "histogram2dcontour"
           }
          ],
          "mesh3d": [
           {
            "colorbar": {
             "outlinewidth": 1,
             "tickcolor": "rgb(36,36,36)",
             "ticks": "outside"
            },
            "type": "mesh3d"
           }
          ],
          "parcoords": [
           {
            "line": {
             "colorbar": {
              "outlinewidth": 1,
              "tickcolor": "rgb(36,36,36)",
              "ticks": "outside"
             }
            },
            "type": "parcoords"
           }
          ],
          "pie": [
           {
            "automargin": true,
            "type": "pie"
           }
          ],
          "scatter": [
           {
            "marker": {
             "colorbar": {
              "outlinewidth": 1,
              "tickcolor": "rgb(36,36,36)",
              "ticks": "outside"
             }
            },
            "type": "scatter"
           }
          ],
          "scatter3d": [
           {
            "line": {
             "colorbar": {
              "outlinewidth": 1,
              "tickcolor": "rgb(36,36,36)",
              "ticks": "outside"
             }
            },
            "marker": {
             "colorbar": {
              "outlinewidth": 1,
              "tickcolor": "rgb(36,36,36)",
              "ticks": "outside"
             }
            },
            "type": "scatter3d"
           }
          ],
          "scattercarpet": [
           {
            "marker": {
             "colorbar": {
              "outlinewidth": 1,
              "tickcolor": "rgb(36,36,36)",
              "ticks": "outside"
             }
            },
            "type": "scattercarpet"
           }
          ],
          "scattergeo": [
           {
            "marker": {
             "colorbar": {
              "outlinewidth": 1,
              "tickcolor": "rgb(36,36,36)",
              "ticks": "outside"
             }
            },
            "type": "scattergeo"
           }
          ],
          "scattergl": [
           {
            "marker": {
             "colorbar": {
              "outlinewidth": 1,
              "tickcolor": "rgb(36,36,36)",
              "ticks": "outside"
             }
            },
            "type": "scattergl"
           }
          ],
          "scattermapbox": [
           {
            "marker": {
             "colorbar": {
              "outlinewidth": 1,
              "tickcolor": "rgb(36,36,36)",
              "ticks": "outside"
             }
            },
            "type": "scattermapbox"
           }
          ],
          "scatterpolar": [
           {
            "marker": {
             "colorbar": {
              "outlinewidth": 1,
              "tickcolor": "rgb(36,36,36)",
              "ticks": "outside"
             }
            },
            "type": "scatterpolar"
           }
          ],
          "scatterpolargl": [
           {
            "marker": {
             "colorbar": {
              "outlinewidth": 1,
              "tickcolor": "rgb(36,36,36)",
              "ticks": "outside"
             }
            },
            "type": "scatterpolargl"
           }
          ],
          "scatterternary": [
           {
            "marker": {
             "colorbar": {
              "outlinewidth": 1,
              "tickcolor": "rgb(36,36,36)",
              "ticks": "outside"
             }
            },
            "type": "scatterternary"
           }
          ],
          "surface": [
           {
            "colorbar": {
             "outlinewidth": 1,
             "tickcolor": "rgb(36,36,36)",
             "ticks": "outside"
            },
            "colorscale": [
             [
              0,
              "#440154"
             ],
             [
              0.1111111111111111,
              "#482878"
             ],
             [
              0.2222222222222222,
              "#3e4989"
             ],
             [
              0.3333333333333333,
              "#31688e"
             ],
             [
              0.4444444444444444,
              "#26828e"
             ],
             [
              0.5555555555555556,
              "#1f9e89"
             ],
             [
              0.6666666666666666,
              "#35b779"
             ],
             [
              0.7777777777777778,
              "#6ece58"
             ],
             [
              0.8888888888888888,
              "#b5de2b"
             ],
             [
              1,
              "#fde725"
             ]
            ],
            "type": "surface"
           }
          ],
          "table": [
           {
            "cells": {
             "fill": {
              "color": "rgb(237,237,237)"
             },
             "line": {
              "color": "white"
             }
            },
            "header": {
             "fill": {
              "color": "rgb(217,217,217)"
             },
             "line": {
              "color": "white"
             }
            },
            "type": "table"
           }
          ]
         },
         "layout": {
          "annotationdefaults": {
           "arrowhead": 0,
           "arrowwidth": 1
          },
          "autotypenumbers": "strict",
          "coloraxis": {
           "colorbar": {
            "outlinewidth": 1,
            "tickcolor": "rgb(36,36,36)",
            "ticks": "outside"
           }
          },
          "colorscale": {
           "diverging": [
            [
             0,
             "rgb(103,0,31)"
            ],
            [
             0.1,
             "rgb(178,24,43)"
            ],
            [
             0.2,
             "rgb(214,96,77)"
            ],
            [
             0.3,
             "rgb(244,165,130)"
            ],
            [
             0.4,
             "rgb(253,219,199)"
            ],
            [
             0.5,
             "rgb(247,247,247)"
            ],
            [
             0.6,
             "rgb(209,229,240)"
            ],
            [
             0.7,
             "rgb(146,197,222)"
            ],
            [
             0.8,
             "rgb(67,147,195)"
            ],
            [
             0.9,
             "rgb(33,102,172)"
            ],
            [
             1,
             "rgb(5,48,97)"
            ]
           ],
           "sequential": [
            [
             0,
             "#440154"
            ],
            [
             0.1111111111111111,
             "#482878"
            ],
            [
             0.2222222222222222,
             "#3e4989"
            ],
            [
             0.3333333333333333,
             "#31688e"
            ],
            [
             0.4444444444444444,
             "#26828e"
            ],
            [
             0.5555555555555556,
             "#1f9e89"
            ],
            [
             0.6666666666666666,
             "#35b779"
            ],
            [
             0.7777777777777778,
             "#6ece58"
            ],
            [
             0.8888888888888888,
             "#b5de2b"
            ],
            [
             1,
             "#fde725"
            ]
           ],
           "sequentialminus": [
            [
             0,
             "#440154"
            ],
            [
             0.1111111111111111,
             "#482878"
            ],
            [
             0.2222222222222222,
             "#3e4989"
            ],
            [
             0.3333333333333333,
             "#31688e"
            ],
            [
             0.4444444444444444,
             "#26828e"
            ],
            [
             0.5555555555555556,
             "#1f9e89"
            ],
            [
             0.6666666666666666,
             "#35b779"
            ],
            [
             0.7777777777777778,
             "#6ece58"
            ],
            [
             0.8888888888888888,
             "#b5de2b"
            ],
            [
             1,
             "#fde725"
            ]
           ]
          },
          "colorway": [
           "#1F77B4",
           "#FF7F0E",
           "#2CA02C",
           "#D62728",
           "#9467BD",
           "#8C564B",
           "#E377C2",
           "#7F7F7F",
           "#BCBD22",
           "#17BECF"
          ],
          "font": {
           "color": "rgb(36,36,36)"
          },
          "geo": {
           "bgcolor": "white",
           "lakecolor": "white",
           "landcolor": "white",
           "showlakes": true,
           "showland": true,
           "subunitcolor": "white"
          },
          "hoverlabel": {
           "align": "left"
          },
          "hovermode": "closest",
          "mapbox": {
           "style": "light"
          },
          "paper_bgcolor": "white",
          "plot_bgcolor": "white",
          "polar": {
           "angularaxis": {
            "gridcolor": "rgb(232,232,232)",
            "linecolor": "rgb(36,36,36)",
            "showgrid": false,
            "showline": true,
            "ticks": "outside"
           },
           "bgcolor": "white",
           "radialaxis": {
            "gridcolor": "rgb(232,232,232)",
            "linecolor": "rgb(36,36,36)",
            "showgrid": false,
            "showline": true,
            "ticks": "outside"
           }
          },
          "scene": {
           "xaxis": {
            "backgroundcolor": "white",
            "gridcolor": "rgb(232,232,232)",
            "gridwidth": 2,
            "linecolor": "rgb(36,36,36)",
            "showbackground": true,
            "showgrid": false,
            "showline": true,
            "ticks": "outside",
            "zeroline": false,
            "zerolinecolor": "rgb(36,36,36)"
           },
           "yaxis": {
            "backgroundcolor": "white",
            "gridcolor": "rgb(232,232,232)",
            "gridwidth": 2,
            "linecolor": "rgb(36,36,36)",
            "showbackground": true,
            "showgrid": false,
            "showline": true,
            "ticks": "outside",
            "zeroline": false,
            "zerolinecolor": "rgb(36,36,36)"
           },
           "zaxis": {
            "backgroundcolor": "white",
            "gridcolor": "rgb(232,232,232)",
            "gridwidth": 2,
            "linecolor": "rgb(36,36,36)",
            "showbackground": true,
            "showgrid": false,
            "showline": true,
            "ticks": "outside",
            "zeroline": false,
            "zerolinecolor": "rgb(36,36,36)"
           }
          },
          "shapedefaults": {
           "fillcolor": "black",
           "line": {
            "width": 0
           },
           "opacity": 0.3
          },
          "ternary": {
           "aaxis": {
            "gridcolor": "rgb(232,232,232)",
            "linecolor": "rgb(36,36,36)",
            "showgrid": false,
            "showline": true,
            "ticks": "outside"
           },
           "baxis": {
            "gridcolor": "rgb(232,232,232)",
            "linecolor": "rgb(36,36,36)",
            "showgrid": false,
            "showline": true,
            "ticks": "outside"
           },
           "bgcolor": "white",
           "caxis": {
            "gridcolor": "rgb(232,232,232)",
            "linecolor": "rgb(36,36,36)",
            "showgrid": false,
            "showline": true,
            "ticks": "outside"
           }
          },
          "title": {
           "x": 0.05
          },
          "xaxis": {
           "automargin": true,
           "gridcolor": "rgb(232,232,232)",
           "linecolor": "rgb(36,36,36)",
           "showgrid": false,
           "showline": true,
           "ticks": "outside",
           "title": {
            "standoff": 15
           },
           "zeroline": false,
           "zerolinecolor": "rgb(36,36,36)"
          },
          "yaxis": {
           "automargin": true,
           "gridcolor": "rgb(232,232,232)",
           "linecolor": "rgb(36,36,36)",
           "showgrid": false,
           "showline": true,
           "ticks": "outside",
           "title": {
            "standoff": 15
           },
           "zeroline": false,
           "zerolinecolor": "rgb(36,36,36)"
          }
         }
        },
        "title": {
         "text": "Oportunidad en la investigación epidemiológica de casos"
        },
        "xaxis": {
         "anchor": "y",
         "domain": [
          0,
          1
         ],
         "title": {
          "text": "Fecha"
         }
        },
        "yaxis": {
         "anchor": "x",
         "domain": [
          0,
          1
         ],
         "title": {
          "text": "Oportunidad (%)"
         }
        }
       }
      },
      "text/html": [
       "<div>                            <div id=\"920dd2af-cef3-4789-9cd7-53ef6d99bef9\" class=\"plotly-graph-div\" style=\"height:525px; width:100%;\"></div>            <script type=\"text/javascript\">                require([\"plotly\"], function(Plotly) {                    window.PLOTLYENV=window.PLOTLYENV || {};                                    if (document.getElementById(\"920dd2af-cef3-4789-9cd7-53ef6d99bef9\")) {                    Plotly.newPlot(                        \"920dd2af-cef3-4789-9cd7-53ef6d99bef9\",                        [{\"hovertemplate\": \"fecha_cumple_requisitos=%{x}<br>n_folio=%{marker.color}<extra></extra>\", \"legendgroup\": \"\", \"line\": {\"color\": \"grey\"}, \"marker\": {\"color\": [100.0, 100.0, 100.0, 84.61538461538461, 83.05084745762711, 88.88888888888889, 58.333333333333336, 33.87096774193548, 87.3015873015873, 86.15384615384616, 87.17948717948718, 78.57142857142857, 81.63265306122449, 77.96610169491525, 75.5813953488372, 86.53846153846155, 75.0, 55.69620253164557, 54.054054054054056, 58.82352941176471, 58.58585858585859, 94.5945945945946, 84.87394957983193, 91.02564102564102, 86.36363636363636, 72.09302325581395, 96.96969696969697, 84.7457627118644, 80.50847457627118, 95.32710280373831, 86.27450980392157, 74.10714285714286, 84.31372549019608, 84.48275862068965, 76.36363636363637, 90.75630252100841, 89.60000000000001, 96.96969696969697, 86.48648648648648, 78.37837837837837, 85.08771929824562, 81.03448275862068, 63.51351351351351, 96.0, 78.78787878787878, 94.66666666666667, 95.4954954954955, 91.66666666666666, 92.6829268292683, 84.0, 93.91891891891892, 92.37288135593221, 82.35294117647058, 86.17021276595744, 92.95774647887323, 93.47826086956522, 80.20833333333334, 94.28571428571428, 93.82022471910112, 95.51569506726457, 95.1219512195122, 95.0, 80.88235294117648, 67.08860759493672, 84.56375838926175, 91.35802469135803, 90.44585987261146, 91.53846153846153, 97.89473684210527, 94.68085106382979, 70.1657458563536, 82.48587570621469, 91.34615384615384, 97.6958525345622, 94.77911646586345, 82.35294117647058, 78.47222222222221, 78.63247863247864, 89.8876404494382, 92.87749287749287, 91.30434782608695, 91.30434782608695, 86.38743455497382, 56.25, 79.16666666666666, 92.27941176470588, 90.76433121019109, 88.72727272727273, 86.61971830985915, 89.30817610062893, 76.97368421052632, 72.83236994219652, 89.54869358669833, 96.35036496350365, 94.5945945945946, 84.34343434343434, 78.02197802197803, 64.04494382022472, 75.16339869281046, 75.74257425742574, 83.39622641509435, 77.32342007434944, 93.83259911894272, 88.03418803418803, 77.51479289940828, 91.62303664921467, 62.55924170616114, 89.96138996138995, 87.6068376068376, 86.09625668449198, 86.48648648648648, 92.85714285714286, 94.73684210526315, 88.8, 87.5, 81.9672131147541, 92.4812030075188, 97.36842105263158, 91.11111111111111, 82.8125, 91.0, 90.0, 100.0, 97.9020979020979, 91.11111111111111, 86.11111111111111, 88.07339449541286, 97.0, 94.04761904761905, 81.57894736842105, 81.76470588235294, 94.44444444444444, 91.66666666666666, 71.42857142857143, 86.0, 95.1219512195122, 92.0, 83.33333333333334, 80.0, 100.0, 83.33333333333334, 80.0, 72.72727272727273, 64.70588235294117, 100.0, 77.77777777777779, 30.0, 50.0, 100.0, 95.83333333333334, 85.71428571428571, 100.0, 80.0, 100.0, 91.66666666666666, 66.66666666666666, 92.3076923076923, 100.0, 91.80327868852459, 100.0, 100.0, 100.0, 100.0, 100.0, 75.0, 100.0, 100.0, 96.15384615384616, 77.63157894736842, 96.875, 96.1038961038961, 97.5609756097561, 96.0, 92.0, 90.9090909090909, 100.0, 81.81818181818183, 100.0, 100.0, 81.25, 100.0, 100.0, 100.0, 100.0], \"coloraxis\": \"coloraxis\", \"line\": {\"width\": 1}, \"size\": 10, \"symbol\": \"circle\"}, \"mode\": \"lines+markers\", \"name\": \"\", \"orientation\": \"v\", \"showlegend\": false, \"type\": \"scatter\", \"x\": [\"2021-03-01T00:00:00\", \"2021-03-02T00:00:00\", \"2021-03-03T00:00:00\", \"2021-03-04T00:00:00\", \"2021-03-05T00:00:00\", \"2021-03-06T00:00:00\", \"2021-03-07T00:00:00\", \"2021-03-08T00:00:00\", \"2021-03-09T00:00:00\", \"2021-03-10T00:00:00\", \"2021-03-11T00:00:00\", \"2021-03-12T00:00:00\", \"2021-03-13T00:00:00\", \"2021-03-14T00:00:00\", \"2021-03-15T00:00:00\", \"2021-03-16T00:00:00\", \"2021-03-17T00:00:00\", \"2021-03-18T00:00:00\", \"2021-03-19T00:00:00\", \"2021-03-20T00:00:00\", \"2021-03-21T00:00:00\", \"2021-03-22T00:00:00\", \"2021-03-23T00:00:00\", \"2021-03-24T00:00:00\", \"2021-03-25T00:00:00\", \"2021-03-26T00:00:00\", \"2021-03-27T00:00:00\", \"2021-03-28T00:00:00\", \"2021-03-29T00:00:00\", \"2021-03-30T00:00:00\", \"2021-03-31T00:00:00\", \"2021-04-01T00:00:00\", \"2021-04-02T00:00:00\", \"2021-04-03T00:00:00\", \"2021-04-04T00:00:00\", \"2021-04-05T00:00:00\", \"2021-04-06T00:00:00\", \"2021-04-07T00:00:00\", \"2021-04-08T00:00:00\", \"2021-04-09T00:00:00\", \"2021-04-10T00:00:00\", \"2021-04-11T00:00:00\", \"2021-04-12T00:00:00\", \"2021-04-13T00:00:00\", \"2021-04-14T00:00:00\", \"2021-04-15T00:00:00\", \"2021-04-16T00:00:00\", \"2021-04-17T00:00:00\", \"2021-04-18T00:00:00\", \"2021-04-19T00:00:00\", \"2021-04-20T00:00:00\", \"2021-04-21T00:00:00\", \"2021-04-22T00:00:00\", \"2021-04-23T00:00:00\", \"2021-04-24T00:00:00\", \"2021-04-25T00:00:00\", \"2021-04-26T00:00:00\", \"2021-04-27T00:00:00\", \"2021-04-28T00:00:00\", \"2021-04-29T00:00:00\", \"2021-04-30T00:00:00\", \"2021-05-01T00:00:00\", \"2021-05-02T00:00:00\", \"2021-05-03T00:00:00\", \"2021-05-04T00:00:00\", \"2021-05-05T00:00:00\", \"2021-05-06T00:00:00\", \"2021-05-07T00:00:00\", \"2021-05-08T00:00:00\", \"2021-05-09T00:00:00\", \"2021-05-10T00:00:00\", \"2021-05-11T00:00:00\", \"2021-05-12T00:00:00\", \"2021-05-13T00:00:00\", \"2021-05-14T00:00:00\", \"2021-05-15T00:00:00\", \"2021-05-16T00:00:00\", \"2021-05-17T00:00:00\", \"2021-05-18T00:00:00\", \"2021-05-19T00:00:00\", \"2021-05-20T00:00:00\", \"2021-05-21T00:00:00\", \"2021-05-22T00:00:00\", \"2021-05-23T00:00:00\", \"2021-05-24T00:00:00\", \"2021-05-25T00:00:00\", \"2021-05-26T00:00:00\", \"2021-05-27T00:00:00\", \"2021-05-28T00:00:00\", \"2021-05-29T00:00:00\", \"2021-05-30T00:00:00\", \"2021-05-31T00:00:00\", \"2021-06-01T00:00:00\", \"2021-06-02T00:00:00\", \"2021-06-03T00:00:00\", \"2021-06-04T00:00:00\", \"2021-06-05T00:00:00\", \"2021-06-06T00:00:00\", \"2021-06-07T00:00:00\", \"2021-06-08T00:00:00\", \"2021-06-09T00:00:00\", \"2021-06-10T00:00:00\", \"2021-06-11T00:00:00\", \"2021-06-12T00:00:00\", \"2021-06-13T00:00:00\", \"2021-06-14T00:00:00\", \"2021-06-15T00:00:00\", \"2021-06-16T00:00:00\", \"2021-06-17T00:00:00\", \"2021-06-18T00:00:00\", \"2021-06-19T00:00:00\", \"2021-06-20T00:00:00\", \"2021-06-21T00:00:00\", \"2021-06-22T00:00:00\", \"2021-06-23T00:00:00\", \"2021-06-24T00:00:00\", \"2021-06-25T00:00:00\", \"2021-06-26T00:00:00\", \"2021-06-27T00:00:00\", \"2021-06-28T00:00:00\", \"2021-06-29T00:00:00\", \"2021-06-30T00:00:00\", \"2021-07-01T00:00:00\", \"2021-07-02T00:00:00\", \"2021-07-03T00:00:00\", \"2021-07-04T00:00:00\", \"2021-07-05T00:00:00\", \"2021-07-06T00:00:00\", \"2021-07-07T00:00:00\", \"2021-07-08T00:00:00\", \"2021-07-09T00:00:00\", \"2021-07-10T00:00:00\", \"2021-07-11T00:00:00\", \"2021-07-12T00:00:00\", \"2021-07-13T00:00:00\", \"2021-07-14T00:00:00\", \"2021-07-15T00:00:00\", \"2021-07-16T00:00:00\", \"2021-07-17T00:00:00\", \"2021-07-18T00:00:00\", \"2021-07-19T00:00:00\", \"2021-07-20T00:00:00\", \"2021-07-21T00:00:00\", \"2021-07-22T00:00:00\", \"2021-07-23T00:00:00\", \"2021-07-24T00:00:00\", \"2021-07-25T00:00:00\", \"2021-07-26T00:00:00\", \"2021-07-27T00:00:00\", \"2021-07-28T00:00:00\", \"2021-07-29T00:00:00\", \"2021-07-30T00:00:00\", \"2021-07-31T00:00:00\", \"2021-08-01T00:00:00\", \"2021-08-02T00:00:00\", \"2021-08-03T00:00:00\", \"2021-08-04T00:00:00\", \"2021-08-05T00:00:00\", \"2021-08-06T00:00:00\", \"2021-08-07T00:00:00\", \"2021-08-08T00:00:00\", \"2021-08-09T00:00:00\", \"2021-08-10T00:00:00\", \"2021-08-11T00:00:00\", \"2021-08-12T00:00:00\", \"2021-08-13T00:00:00\", \"2021-08-14T00:00:00\", \"2021-08-15T00:00:00\", \"2021-08-16T00:00:00\", \"2021-08-17T00:00:00\", \"2021-08-18T00:00:00\", \"2021-08-19T00:00:00\", \"2021-08-20T00:00:00\", \"2021-08-21T00:00:00\", \"2021-08-22T00:00:00\", \"2021-08-23T00:00:00\", \"2021-08-24T00:00:00\", \"2021-08-25T00:00:00\", \"2021-08-26T00:00:00\", \"2021-08-27T00:00:00\", \"2021-08-28T00:00:00\", \"2021-08-29T00:00:00\", \"2021-08-30T00:00:00\", \"2021-08-31T00:00:00\"], \"xaxis\": \"x\", \"y\": [100.0, 100.0, 100.0, 84.61538461538461, 83.05084745762711, 88.88888888888889, 58.333333333333336, 33.87096774193548, 87.3015873015873, 86.15384615384616, 87.17948717948718, 78.57142857142857, 81.63265306122449, 77.96610169491525, 75.5813953488372, 86.53846153846155, 75.0, 55.69620253164557, 54.054054054054056, 58.82352941176471, 58.58585858585859, 94.5945945945946, 84.87394957983193, 91.02564102564102, 86.36363636363636, 72.09302325581395, 96.96969696969697, 84.7457627118644, 80.50847457627118, 95.32710280373831, 86.27450980392157, 74.10714285714286, 84.31372549019608, 84.48275862068965, 76.36363636363637, 90.75630252100841, 89.60000000000001, 96.96969696969697, 86.48648648648648, 78.37837837837837, 85.08771929824562, 81.03448275862068, 63.51351351351351, 96.0, 78.78787878787878, 94.66666666666667, 95.4954954954955, 91.66666666666666, 92.6829268292683, 84.0, 93.91891891891892, 92.37288135593221, 82.35294117647058, 86.17021276595744, 92.95774647887323, 93.47826086956522, 80.20833333333334, 94.28571428571428, 93.82022471910112, 95.51569506726457, 95.1219512195122, 95.0, 80.88235294117648, 67.08860759493672, 84.56375838926175, 91.35802469135803, 90.44585987261146, 91.53846153846153, 97.89473684210527, 94.68085106382979, 70.1657458563536, 82.48587570621469, 91.34615384615384, 97.6958525345622, 94.77911646586345, 82.35294117647058, 78.47222222222221, 78.63247863247864, 89.8876404494382, 92.87749287749287, 91.30434782608695, 91.30434782608695, 86.38743455497382, 56.25, 79.16666666666666, 92.27941176470588, 90.76433121019109, 88.72727272727273, 86.61971830985915, 89.30817610062893, 76.97368421052632, 72.83236994219652, 89.54869358669833, 96.35036496350365, 94.5945945945946, 84.34343434343434, 78.02197802197803, 64.04494382022472, 75.16339869281046, 75.74257425742574, 83.39622641509435, 77.32342007434944, 93.83259911894272, 88.03418803418803, 77.51479289940828, 91.62303664921467, 62.55924170616114, 89.96138996138995, 87.6068376068376, 86.09625668449198, 86.48648648648648, 92.85714285714286, 94.73684210526315, 88.8, 87.5, 81.9672131147541, 92.4812030075188, 97.36842105263158, 91.11111111111111, 82.8125, 91.0, 90.0, 100.0, 97.9020979020979, 91.11111111111111, 86.11111111111111, 88.07339449541286, 97.0, 94.04761904761905, 81.57894736842105, 81.76470588235294, 94.44444444444444, 91.66666666666666, 71.42857142857143, 86.0, 95.1219512195122, 92.0, 83.33333333333334, 80.0, 100.0, 83.33333333333334, 80.0, 72.72727272727273, 64.70588235294117, 100.0, 77.77777777777779, 30.0, 50.0, 100.0, 95.83333333333334, 85.71428571428571, 100.0, 80.0, 100.0, 91.66666666666666, 66.66666666666666, 92.3076923076923, 100.0, 91.80327868852459, 100.0, 100.0, 100.0, 100.0, 100.0, 75.0, 100.0, 100.0, 96.15384615384616, 77.63157894736842, 96.875, 96.1038961038961, 97.5609756097561, 96.0, 92.0, 90.9090909090909, 100.0, 81.81818181818183, 100.0, 100.0, 81.25, 100.0, 100.0, 100.0, 100.0], \"yaxis\": \"y\"}],                        {\"coloraxis\": {\"colorbar\": {\"title\": {\"text\": \"n_folio\"}}, \"colorscale\": [[0.0, \"#fde725\"], [0.1111111111111111, \"#b5de2b\"], [0.2222222222222222, \"#6ece58\"], [0.3333333333333333, \"#35b779\"], [0.4444444444444444, \"#1f9e89\"], [0.5555555555555556, \"#26828e\"], [0.6666666666666666, \"#31688e\"], [0.7777777777777778, \"#3e4989\"], [0.8888888888888888, \"#482878\"], [1.0, \"#440154\"]]}, \"legend\": {\"tracegroupgap\": 0}, \"margin\": {\"t\": 60}, \"template\": {\"data\": {\"bar\": [{\"error_x\": {\"color\": \"rgb(36,36,36)\"}, \"error_y\": {\"color\": \"rgb(36,36,36)\"}, \"marker\": {\"line\": {\"color\": \"white\", \"width\": 0.5}}, \"type\": \"bar\"}], \"barpolar\": [{\"marker\": {\"line\": {\"color\": \"white\", \"width\": 0.5}}, \"type\": \"barpolar\"}], \"carpet\": [{\"aaxis\": {\"endlinecolor\": \"rgb(36,36,36)\", \"gridcolor\": \"white\", \"linecolor\": \"white\", \"minorgridcolor\": \"white\", \"startlinecolor\": \"rgb(36,36,36)\"}, \"baxis\": {\"endlinecolor\": \"rgb(36,36,36)\", \"gridcolor\": \"white\", \"linecolor\": \"white\", \"minorgridcolor\": \"white\", \"startlinecolor\": \"rgb(36,36,36)\"}, \"type\": \"carpet\"}], \"choropleth\": [{\"colorbar\": {\"outlinewidth\": 1, \"tickcolor\": \"rgb(36,36,36)\", \"ticks\": \"outside\"}, \"type\": \"choropleth\"}], \"contour\": [{\"colorbar\": {\"outlinewidth\": 1, \"tickcolor\": \"rgb(36,36,36)\", \"ticks\": \"outside\"}, \"colorscale\": [[0.0, \"#440154\"], [0.1111111111111111, \"#482878\"], [0.2222222222222222, \"#3e4989\"], [0.3333333333333333, \"#31688e\"], [0.4444444444444444, \"#26828e\"], [0.5555555555555556, \"#1f9e89\"], [0.6666666666666666, \"#35b779\"], [0.7777777777777778, \"#6ece58\"], [0.8888888888888888, \"#b5de2b\"], [1.0, \"#fde725\"]], \"type\": \"contour\"}], \"contourcarpet\": [{\"colorbar\": {\"outlinewidth\": 1, \"tickcolor\": \"rgb(36,36,36)\", \"ticks\": \"outside\"}, \"type\": \"contourcarpet\"}], \"heatmap\": [{\"colorbar\": {\"outlinewidth\": 1, \"tickcolor\": \"rgb(36,36,36)\", \"ticks\": \"outside\"}, \"colorscale\": [[0.0, \"#440154\"], [0.1111111111111111, \"#482878\"], [0.2222222222222222, \"#3e4989\"], [0.3333333333333333, \"#31688e\"], [0.4444444444444444, \"#26828e\"], [0.5555555555555556, \"#1f9e89\"], [0.6666666666666666, \"#35b779\"], [0.7777777777777778, \"#6ece58\"], [0.8888888888888888, \"#b5de2b\"], [1.0, \"#fde725\"]], \"type\": \"heatmap\"}], \"heatmapgl\": [{\"colorbar\": {\"outlinewidth\": 1, \"tickcolor\": \"rgb(36,36,36)\", \"ticks\": \"outside\"}, \"colorscale\": [[0.0, \"#440154\"], [0.1111111111111111, \"#482878\"], [0.2222222222222222, \"#3e4989\"], [0.3333333333333333, \"#31688e\"], [0.4444444444444444, \"#26828e\"], [0.5555555555555556, \"#1f9e89\"], [0.6666666666666666, \"#35b779\"], [0.7777777777777778, \"#6ece58\"], [0.8888888888888888, \"#b5de2b\"], [1.0, \"#fde725\"]], \"type\": \"heatmapgl\"}], \"histogram\": [{\"marker\": {\"line\": {\"color\": \"white\", \"width\": 0.6}}, \"type\": \"histogram\"}], \"histogram2d\": [{\"colorbar\": {\"outlinewidth\": 1, \"tickcolor\": \"rgb(36,36,36)\", \"ticks\": \"outside\"}, \"colorscale\": [[0.0, \"#440154\"], [0.1111111111111111, \"#482878\"], [0.2222222222222222, \"#3e4989\"], [0.3333333333333333, \"#31688e\"], [0.4444444444444444, \"#26828e\"], [0.5555555555555556, \"#1f9e89\"], [0.6666666666666666, \"#35b779\"], [0.7777777777777778, \"#6ece58\"], [0.8888888888888888, \"#b5de2b\"], [1.0, \"#fde725\"]], \"type\": \"histogram2d\"}], \"histogram2dcontour\": [{\"colorbar\": {\"outlinewidth\": 1, \"tickcolor\": \"rgb(36,36,36)\", \"ticks\": \"outside\"}, \"colorscale\": [[0.0, \"#440154\"], [0.1111111111111111, \"#482878\"], [0.2222222222222222, \"#3e4989\"], [0.3333333333333333, \"#31688e\"], [0.4444444444444444, \"#26828e\"], [0.5555555555555556, \"#1f9e89\"], [0.6666666666666666, \"#35b779\"], [0.7777777777777778, \"#6ece58\"], [0.8888888888888888, \"#b5de2b\"], [1.0, \"#fde725\"]], \"type\": \"histogram2dcontour\"}], \"mesh3d\": [{\"colorbar\": {\"outlinewidth\": 1, \"tickcolor\": \"rgb(36,36,36)\", \"ticks\": \"outside\"}, \"type\": \"mesh3d\"}], \"parcoords\": [{\"line\": {\"colorbar\": {\"outlinewidth\": 1, \"tickcolor\": \"rgb(36,36,36)\", \"ticks\": \"outside\"}}, \"type\": \"parcoords\"}], \"pie\": [{\"automargin\": true, \"type\": \"pie\"}], \"scatter\": [{\"marker\": {\"colorbar\": {\"outlinewidth\": 1, \"tickcolor\": \"rgb(36,36,36)\", \"ticks\": \"outside\"}}, \"type\": \"scatter\"}], \"scatter3d\": [{\"line\": {\"colorbar\": {\"outlinewidth\": 1, \"tickcolor\": \"rgb(36,36,36)\", \"ticks\": \"outside\"}}, \"marker\": {\"colorbar\": {\"outlinewidth\": 1, \"tickcolor\": \"rgb(36,36,36)\", \"ticks\": \"outside\"}}, \"type\": \"scatter3d\"}], \"scattercarpet\": [{\"marker\": {\"colorbar\": {\"outlinewidth\": 1, \"tickcolor\": \"rgb(36,36,36)\", \"ticks\": \"outside\"}}, \"type\": \"scattercarpet\"}], \"scattergeo\": [{\"marker\": {\"colorbar\": {\"outlinewidth\": 1, \"tickcolor\": \"rgb(36,36,36)\", \"ticks\": \"outside\"}}, \"type\": \"scattergeo\"}], \"scattergl\": [{\"marker\": {\"colorbar\": {\"outlinewidth\": 1, \"tickcolor\": \"rgb(36,36,36)\", \"ticks\": \"outside\"}}, \"type\": \"scattergl\"}], \"scattermapbox\": [{\"marker\": {\"colorbar\": {\"outlinewidth\": 1, \"tickcolor\": \"rgb(36,36,36)\", \"ticks\": \"outside\"}}, \"type\": \"scattermapbox\"}], \"scatterpolar\": [{\"marker\": {\"colorbar\": {\"outlinewidth\": 1, \"tickcolor\": \"rgb(36,36,36)\", \"ticks\": \"outside\"}}, \"type\": \"scatterpolar\"}], \"scatterpolargl\": [{\"marker\": {\"colorbar\": {\"outlinewidth\": 1, \"tickcolor\": \"rgb(36,36,36)\", \"ticks\": \"outside\"}}, \"type\": \"scatterpolargl\"}], \"scatterternary\": [{\"marker\": {\"colorbar\": {\"outlinewidth\": 1, \"tickcolor\": \"rgb(36,36,36)\", \"ticks\": \"outside\"}}, \"type\": \"scatterternary\"}], \"surface\": [{\"colorbar\": {\"outlinewidth\": 1, \"tickcolor\": \"rgb(36,36,36)\", \"ticks\": \"outside\"}, \"colorscale\": [[0.0, \"#440154\"], [0.1111111111111111, \"#482878\"], [0.2222222222222222, \"#3e4989\"], [0.3333333333333333, \"#31688e\"], [0.4444444444444444, \"#26828e\"], [0.5555555555555556, \"#1f9e89\"], [0.6666666666666666, \"#35b779\"], [0.7777777777777778, \"#6ece58\"], [0.8888888888888888, \"#b5de2b\"], [1.0, \"#fde725\"]], \"type\": \"surface\"}], \"table\": [{\"cells\": {\"fill\": {\"color\": \"rgb(237,237,237)\"}, \"line\": {\"color\": \"white\"}}, \"header\": {\"fill\": {\"color\": \"rgb(217,217,217)\"}, \"line\": {\"color\": \"white\"}}, \"type\": \"table\"}]}, \"layout\": {\"annotationdefaults\": {\"arrowhead\": 0, \"arrowwidth\": 1}, \"autotypenumbers\": \"strict\", \"coloraxis\": {\"colorbar\": {\"outlinewidth\": 1, \"tickcolor\": \"rgb(36,36,36)\", \"ticks\": \"outside\"}}, \"colorscale\": {\"diverging\": [[0.0, \"rgb(103,0,31)\"], [0.1, \"rgb(178,24,43)\"], [0.2, \"rgb(214,96,77)\"], [0.3, \"rgb(244,165,130)\"], [0.4, \"rgb(253,219,199)\"], [0.5, \"rgb(247,247,247)\"], [0.6, \"rgb(209,229,240)\"], [0.7, \"rgb(146,197,222)\"], [0.8, \"rgb(67,147,195)\"], [0.9, \"rgb(33,102,172)\"], [1.0, \"rgb(5,48,97)\"]], \"sequential\": [[0.0, \"#440154\"], [0.1111111111111111, \"#482878\"], [0.2222222222222222, \"#3e4989\"], [0.3333333333333333, \"#31688e\"], [0.4444444444444444, \"#26828e\"], [0.5555555555555556, \"#1f9e89\"], [0.6666666666666666, \"#35b779\"], [0.7777777777777778, \"#6ece58\"], [0.8888888888888888, \"#b5de2b\"], [1.0, \"#fde725\"]], \"sequentialminus\": [[0.0, \"#440154\"], [0.1111111111111111, \"#482878\"], [0.2222222222222222, \"#3e4989\"], [0.3333333333333333, \"#31688e\"], [0.4444444444444444, \"#26828e\"], [0.5555555555555556, \"#1f9e89\"], [0.6666666666666666, \"#35b779\"], [0.7777777777777778, \"#6ece58\"], [0.8888888888888888, \"#b5de2b\"], [1.0, \"#fde725\"]]}, \"colorway\": [\"#1F77B4\", \"#FF7F0E\", \"#2CA02C\", \"#D62728\", \"#9467BD\", \"#8C564B\", \"#E377C2\", \"#7F7F7F\", \"#BCBD22\", \"#17BECF\"], \"font\": {\"color\": \"rgb(36,36,36)\"}, \"geo\": {\"bgcolor\": \"white\", \"lakecolor\": \"white\", \"landcolor\": \"white\", \"showlakes\": true, \"showland\": true, \"subunitcolor\": \"white\"}, \"hoverlabel\": {\"align\": \"left\"}, \"hovermode\": \"closest\", \"mapbox\": {\"style\": \"light\"}, \"paper_bgcolor\": \"white\", \"plot_bgcolor\": \"white\", \"polar\": {\"angularaxis\": {\"gridcolor\": \"rgb(232,232,232)\", \"linecolor\": \"rgb(36,36,36)\", \"showgrid\": false, \"showline\": true, \"ticks\": \"outside\"}, \"bgcolor\": \"white\", \"radialaxis\": {\"gridcolor\": \"rgb(232,232,232)\", \"linecolor\": \"rgb(36,36,36)\", \"showgrid\": false, \"showline\": true, \"ticks\": \"outside\"}}, \"scene\": {\"xaxis\": {\"backgroundcolor\": \"white\", \"gridcolor\": \"rgb(232,232,232)\", \"gridwidth\": 2, \"linecolor\": \"rgb(36,36,36)\", \"showbackground\": true, \"showgrid\": false, \"showline\": true, \"ticks\": \"outside\", \"zeroline\": false, \"zerolinecolor\": \"rgb(36,36,36)\"}, \"yaxis\": {\"backgroundcolor\": \"white\", \"gridcolor\": \"rgb(232,232,232)\", \"gridwidth\": 2, \"linecolor\": \"rgb(36,36,36)\", \"showbackground\": true, \"showgrid\": false, \"showline\": true, \"ticks\": \"outside\", \"zeroline\": false, \"zerolinecolor\": \"rgb(36,36,36)\"}, \"zaxis\": {\"backgroundcolor\": \"white\", \"gridcolor\": \"rgb(232,232,232)\", \"gridwidth\": 2, \"linecolor\": \"rgb(36,36,36)\", \"showbackground\": true, \"showgrid\": false, \"showline\": true, \"ticks\": \"outside\", \"zeroline\": false, \"zerolinecolor\": \"rgb(36,36,36)\"}}, \"shapedefaults\": {\"fillcolor\": \"black\", \"line\": {\"width\": 0}, \"opacity\": 0.3}, \"ternary\": {\"aaxis\": {\"gridcolor\": \"rgb(232,232,232)\", \"linecolor\": \"rgb(36,36,36)\", \"showgrid\": false, \"showline\": true, \"ticks\": \"outside\"}, \"baxis\": {\"gridcolor\": \"rgb(232,232,232)\", \"linecolor\": \"rgb(36,36,36)\", \"showgrid\": false, \"showline\": true, \"ticks\": \"outside\"}, \"bgcolor\": \"white\", \"caxis\": {\"gridcolor\": \"rgb(232,232,232)\", \"linecolor\": \"rgb(36,36,36)\", \"showgrid\": false, \"showline\": true, \"ticks\": \"outside\"}}, \"title\": {\"x\": 0.05}, \"xaxis\": {\"automargin\": true, \"gridcolor\": \"rgb(232,232,232)\", \"linecolor\": \"rgb(36,36,36)\", \"showgrid\": false, \"showline\": true, \"ticks\": \"outside\", \"title\": {\"standoff\": 15}, \"zeroline\": false, \"zerolinecolor\": \"rgb(36,36,36)\"}, \"yaxis\": {\"automargin\": true, \"gridcolor\": \"rgb(232,232,232)\", \"linecolor\": \"rgb(36,36,36)\", \"showgrid\": false, \"showline\": true, \"ticks\": \"outside\", \"title\": {\"standoff\": 15}, \"zeroline\": false, \"zerolinecolor\": \"rgb(36,36,36)\"}}}, \"title\": {\"text\": \"Oportunidad en la investigaci\\u00f3n epidemiol\\u00f3gica de casos\"}, \"xaxis\": {\"anchor\": \"y\", \"domain\": [0.0, 1.0], \"title\": {\"text\": \"Fecha\"}}, \"yaxis\": {\"anchor\": \"x\", \"domain\": [0.0, 1.0], \"title\": {\"text\": \"Oportunidad (%)\"}}},                        {\"responsive\": true}                    ).then(function(){\n",
       "                            \n",
       "var gd = document.getElementById('920dd2af-cef3-4789-9cd7-53ef6d99bef9');\n",
       "var x = new MutationObserver(function (mutations, observer) {{\n",
       "        var display = window.getComputedStyle(gd).display;\n",
       "        if (!display || display === 'none') {{\n",
       "            console.log([gd, 'removed!']);\n",
       "            Plotly.purge(gd);\n",
       "            observer.disconnect();\n",
       "        }}\n",
       "}});\n",
       "\n",
       "// Listen for the removal of the full notebook cells\n",
       "var notebookContainer = gd.closest('#notebook-container');\n",
       "if (notebookContainer) {{\n",
       "    x.observe(notebookContainer, {childList: true});\n",
       "}}\n",
       "\n",
       "// Listen for the clearing of the current output cell\n",
       "var outputEl = gd.closest('.output');\n",
       "if (outputEl) {{\n",
       "    x.observe(outputEl, {childList: true});\n",
       "}}\n",
       "\n",
       "                        })                };                });            </script>        </div>"
      ]
     },
     "metadata": {},
     "output_type": "display_data"
    }
   ],
   "source": [
    "px.scatter(df_ind5_perc.reset_index(),\n",
    "        x= 'fecha_cumple_requisitos',\n",
    "        y= 'n_folio',\n",
    "        color='n_folio',\n",
    "        color_continuous_scale=px.colors.sequential.Viridis_r,\n",
    "        labels={'bac_ind':'BAC (%)'},\n",
    "        ).update_layout(title= 'Oportunidad en la investigación epidemiológica de casos',\n",
    "                       yaxis_title='Oportunidad (%)',\n",
    "                       xaxis_title='Fecha',\n",
    "                       template='simple_white',\n",
    "                 #      xaxis=dict(tickmode = 'array',\n",
    "                  #                tickvals = list(range(12,88,3)),\n",
    "                   #               ticktext = list(list(range(12,54,3))+list(range(1,88,3))),\n",
    "                    #             ),\n",
    "                 #   ).add_vline(x=53.5, line_width=3, line_dash='dash', line_color='gray'\n",
    "                  #             ).add_hline(y=10, \n",
    "                   #                        line_width=3, \n",
    "                    #                       line_dash='longdash', \n",
    "                     #                      line_color='olive',\n",
    "                      #                     annotation_text='Meta nacional (10%)',\n",
    "                       #                    annotation_position='bottom right'\n",
    "                        #         ).add_hline(y=mean_bac_ind, \n",
    "                         #                    line_width=3, \n",
    "                          #                   line_dash='longdash', \n",
    "                           #                  line_color='green',\n",
    "                            #                 annotation_text= 'Promedio BAC ('+str(mean_bac_ind)+'%)',\n",
    "                             #                annotation_position='bottom right'\n",
    "                              #       ).add_vrect(x0='51', x1='50', \n",
    "                               #            annotation_text='2020', \n",
    "                                #           annotation_position='top right',\n",
    "                                 #          annotation=dict(font_size=18, \n",
    "                                  #                         font_family=\"'Open Sans', verdana, arial, sans-serif\"),\n",
    "                                   #                        opacity=0, \n",
    "                                    #                       line_width=0\n",
    "                                     #     ).add_vrect(x0='84', x1='86', \n",
    "                                      #     annotation_text='2021', \n",
    "                                       #    annotation_position='top right',\n",
    "                                        #   annotation=dict(font_size=18, \n",
    "                                         #                  font_family=\"'Open Sans', verdana, arial, sans-serif\"),\n",
    "                                          #                 opacity=0, \n",
    "                                           #                line_width=0\n",
    "                                                     ).update_traces(mode='lines+markers', \n",
    "                                                                     line_color='grey',\n",
    "                                                                     marker_line_width=1, \n",
    "                                                                     marker_size=10)"
   ]
  },
  {
   "cell_type": "code",
   "execution_count": 267,
   "id": "4b92ed8f",
   "metadata": {},
   "outputs": [
    {
     "data": {
      "text/html": [
       "<div>\n",
       "<style scoped>\n",
       "    .dataframe tbody tr th:only-of-type {\n",
       "        vertical-align: middle;\n",
       "    }\n",
       "\n",
       "    .dataframe tbody tr th {\n",
       "        vertical-align: top;\n",
       "    }\n",
       "\n",
       "    .dataframe thead th {\n",
       "        text-align: right;\n",
       "    }\n",
       "</style>\n",
       "<table border=\"1\" class=\"dataframe\">\n",
       "  <thead>\n",
       "    <tr style=\"text-align: right;\">\n",
       "      <th></th>\n",
       "      <th>fecha_cumple_requisitos</th>\n",
       "      <th>n_folio</th>\n",
       "    </tr>\n",
       "  </thead>\n",
       "  <tbody>\n",
       "    <tr>\n",
       "      <th>0</th>\n",
       "      <td>2021-03-01</td>\n",
       "      <td>100.000000</td>\n",
       "    </tr>\n",
       "    <tr>\n",
       "      <th>1</th>\n",
       "      <td>2021-03-02</td>\n",
       "      <td>100.000000</td>\n",
       "    </tr>\n",
       "    <tr>\n",
       "      <th>2</th>\n",
       "      <td>2021-03-03</td>\n",
       "      <td>100.000000</td>\n",
       "    </tr>\n",
       "    <tr>\n",
       "      <th>3</th>\n",
       "      <td>2021-03-04</td>\n",
       "      <td>84.615385</td>\n",
       "    </tr>\n",
       "    <tr>\n",
       "      <th>4</th>\n",
       "      <td>2021-03-05</td>\n",
       "      <td>83.050847</td>\n",
       "    </tr>\n",
       "  </tbody>\n",
       "</table>\n",
       "</div>"
      ],
      "text/plain": [
       "  fecha_cumple_requisitos     n_folio\n",
       "0              2021-03-01  100.000000\n",
       "1              2021-03-02  100.000000\n",
       "2              2021-03-03  100.000000\n",
       "3              2021-03-04   84.615385\n",
       "4              2021-03-05   83.050847"
      ]
     },
     "execution_count": 267,
     "metadata": {},
     "output_type": "execute_result"
    }
   ],
   "source": [
    "df_ind5_perc.reset_index().head()"
   ]
  },
  {
   "cell_type": "code",
   "execution_count": 268,
   "id": "58ab24f0",
   "metadata": {},
   "outputs": [
    {
     "data": {
      "text/html": [
       "<div>\n",
       "<style scoped>\n",
       "    .dataframe tbody tr th:only-of-type {\n",
       "        vertical-align: middle;\n",
       "    }\n",
       "\n",
       "    .dataframe tbody tr th {\n",
       "        vertical-align: top;\n",
       "    }\n",
       "\n",
       "    .dataframe thead th {\n",
       "        text-align: right;\n",
       "    }\n",
       "</style>\n",
       "<table border=\"1\" class=\"dataframe\">\n",
       "  <thead>\n",
       "    <tr style=\"text-align: right;\">\n",
       "      <th></th>\n",
       "      <th>fecha_notificacion</th>\n",
       "      <th>semana_epidemiologica_21</th>\n",
       "    </tr>\n",
       "  </thead>\n",
       "  <tbody>\n",
       "    <tr>\n",
       "      <th>0</th>\n",
       "      <td>2020-03-12</td>\n",
       "      <td>11</td>\n",
       "    </tr>\n",
       "    <tr>\n",
       "      <th>1</th>\n",
       "      <td>2020-03-12</td>\n",
       "      <td>11</td>\n",
       "    </tr>\n",
       "    <tr>\n",
       "      <th>2</th>\n",
       "      <td>2020-03-12</td>\n",
       "      <td>11</td>\n",
       "    </tr>\n",
       "    <tr>\n",
       "      <th>3</th>\n",
       "      <td>2020-03-18</td>\n",
       "      <td>12</td>\n",
       "    </tr>\n",
       "    <tr>\n",
       "      <th>4</th>\n",
       "      <td>2020-03-19</td>\n",
       "      <td>12</td>\n",
       "    </tr>\n",
       "    <tr>\n",
       "      <th>...</th>\n",
       "      <td>...</td>\n",
       "      <td>...</td>\n",
       "    </tr>\n",
       "    <tr>\n",
       "      <th>149129</th>\n",
       "      <td>2021-08-30</td>\n",
       "      <td>88</td>\n",
       "    </tr>\n",
       "    <tr>\n",
       "      <th>149130</th>\n",
       "      <td>2021-08-30</td>\n",
       "      <td>88</td>\n",
       "    </tr>\n",
       "    <tr>\n",
       "      <th>149131</th>\n",
       "      <td>2021-08-30</td>\n",
       "      <td>88</td>\n",
       "    </tr>\n",
       "    <tr>\n",
       "      <th>149132</th>\n",
       "      <td>2021-08-30</td>\n",
       "      <td>88</td>\n",
       "    </tr>\n",
       "    <tr>\n",
       "      <th>149133</th>\n",
       "      <td>2021-08-30</td>\n",
       "      <td>88</td>\n",
       "    </tr>\n",
       "  </tbody>\n",
       "</table>\n",
       "<p>149134 rows × 2 columns</p>\n",
       "</div>"
      ],
      "text/plain": [
       "       fecha_notificacion  semana_epidemiologica_21\n",
       "0              2020-03-12                        11\n",
       "1              2020-03-12                        11\n",
       "2              2020-03-12                        11\n",
       "3              2020-03-18                        12\n",
       "4              2020-03-19                        12\n",
       "...                   ...                       ...\n",
       "149129         2021-08-30                        88\n",
       "149130         2021-08-30                        88\n",
       "149131         2021-08-30                        88\n",
       "149132         2021-08-30                        88\n",
       "149133         2021-08-30                        88\n",
       "\n",
       "[149134 rows x 2 columns]"
      ]
     },
     "execution_count": 268,
     "metadata": {},
     "output_type": "execute_result"
    }
   ],
   "source": [
    "data_aysen_clean_21[['fecha_notificacion','semana_epidemiologica_21']]"
   ]
  },
  {
   "cell_type": "code",
   "execution_count": 269,
   "id": "b34b297f",
   "metadata": {
    "scrolled": true
   },
   "outputs": [
    {
     "data": {
      "text/html": [
       "<div>\n",
       "<style scoped>\n",
       "    .dataframe tbody tr th:only-of-type {\n",
       "        vertical-align: middle;\n",
       "    }\n",
       "\n",
       "    .dataframe tbody tr th {\n",
       "        vertical-align: top;\n",
       "    }\n",
       "\n",
       "    .dataframe thead th {\n",
       "        text-align: right;\n",
       "    }\n",
       "</style>\n",
       "<table border=\"1\" class=\"dataframe\">\n",
       "  <thead>\n",
       "    <tr style=\"text-align: right;\">\n",
       "      <th></th>\n",
       "      <th>n_folio</th>\n",
       "    </tr>\n",
       "    <tr>\n",
       "      <th>semana_epidemiologica_21</th>\n",
       "      <th></th>\n",
       "    </tr>\n",
       "  </thead>\n",
       "  <tbody>\n",
       "    <tr>\n",
       "      <th>62.0</th>\n",
       "      <td>92.960749</td>\n",
       "    </tr>\n",
       "    <tr>\n",
       "      <th>63.0</th>\n",
       "      <td>71.688138</td>\n",
       "    </tr>\n",
       "    <tr>\n",
       "      <th>64.0</th>\n",
       "      <td>68.519817</td>\n",
       "    </tr>\n",
       "    <tr>\n",
       "      <th>65.0</th>\n",
       "      <td>84.958797</td>\n",
       "    </tr>\n",
       "    <tr>\n",
       "      <th>66.0</th>\n",
       "      <td>84.492410</td>\n",
       "    </tr>\n",
       "    <tr>\n",
       "      <th>67.0</th>\n",
       "      <td>87.880471</td>\n",
       "    </tr>\n",
       "    <tr>\n",
       "      <th>68.0</th>\n",
       "      <td>85.364546</td>\n",
       "    </tr>\n",
       "    <tr>\n",
       "      <th>69.0</th>\n",
       "      <td>88.157462</td>\n",
       "    </tr>\n",
       "    <tr>\n",
       "      <th>70.0</th>\n",
       "      <td>91.361851</td>\n",
       "    </tr>\n",
       "    <tr>\n",
       "      <th>71.0</th>\n",
       "      <td>84.416599</td>\n",
       "    </tr>\n",
       "    <tr>\n",
       "      <th>72.0</th>\n",
       "      <td>87.512811</td>\n",
       "    </tr>\n",
       "    <tr>\n",
       "      <th>73.0</th>\n",
       "      <td>88.209719</td>\n",
       "    </tr>\n",
       "    <tr>\n",
       "      <th>74.0</th>\n",
       "      <td>86.202198</td>\n",
       "    </tr>\n",
       "    <tr>\n",
       "      <th>75.0</th>\n",
       "      <td>86.012008</td>\n",
       "    </tr>\n",
       "    <tr>\n",
       "      <th>76.0</th>\n",
       "      <td>81.169612</td>\n",
       "    </tr>\n",
       "    <tr>\n",
       "      <th>77.0</th>\n",
       "      <td>83.378905</td>\n",
       "    </tr>\n",
       "    <tr>\n",
       "      <th>78.0</th>\n",
       "      <td>88.959247</td>\n",
       "    </tr>\n",
       "    <tr>\n",
       "      <th>79.0</th>\n",
       "      <td>93.575584</td>\n",
       "    </tr>\n",
       "    <tr>\n",
       "      <th>80.0</th>\n",
       "      <td>88.674436</td>\n",
       "    </tr>\n",
       "    <tr>\n",
       "      <th>81.0</th>\n",
       "      <td>85.268874</td>\n",
       "    </tr>\n",
       "    <tr>\n",
       "      <th>82.0</th>\n",
       "      <td>81.259046</td>\n",
       "    </tr>\n",
       "    <tr>\n",
       "      <th>83.0</th>\n",
       "      <td>81.118774</td>\n",
       "    </tr>\n",
       "    <tr>\n",
       "      <th>84.0</th>\n",
       "      <td>89.508076</td>\n",
       "    </tr>\n",
       "    <tr>\n",
       "      <th>85.0</th>\n",
       "      <td>96.493092</td>\n",
       "    </tr>\n",
       "    <tr>\n",
       "      <th>86.0</th>\n",
       "      <td>91.958693</td>\n",
       "    </tr>\n",
       "    <tr>\n",
       "      <th>87.0</th>\n",
       "      <td>93.790945</td>\n",
       "    </tr>\n",
       "    <tr>\n",
       "      <th>88.0</th>\n",
       "      <td>100.000000</td>\n",
       "    </tr>\n",
       "  </tbody>\n",
       "</table>\n",
       "</div>"
      ],
      "text/plain": [
       "                             n_folio\n",
       "semana_epidemiologica_21            \n",
       "62.0                       92.960749\n",
       "63.0                       71.688138\n",
       "64.0                       68.519817\n",
       "65.0                       84.958797\n",
       "66.0                       84.492410\n",
       "67.0                       87.880471\n",
       "68.0                       85.364546\n",
       "69.0                       88.157462\n",
       "70.0                       91.361851\n",
       "71.0                       84.416599\n",
       "72.0                       87.512811\n",
       "73.0                       88.209719\n",
       "74.0                       86.202198\n",
       "75.0                       86.012008\n",
       "76.0                       81.169612\n",
       "77.0                       83.378905\n",
       "78.0                       88.959247\n",
       "79.0                       93.575584\n",
       "80.0                       88.674436\n",
       "81.0                       85.268874\n",
       "82.0                       81.259046\n",
       "83.0                       81.118774\n",
       "84.0                       89.508076\n",
       "85.0                       96.493092\n",
       "86.0                       91.958693\n",
       "87.0                       93.790945\n",
       "88.0                      100.000000"
      ]
     },
     "execution_count": 269,
     "metadata": {},
     "output_type": "execute_result"
    }
   ],
   "source": [
    "df_ind5_perc.reset_index().merge(data_aysen_clean_21[['fecha_notificacion','semana_epidemiologica_21']], \n",
    "                   left_on='fecha_cumple_requisitos',\n",
    "                   right_on='fecha_notificacion',\n",
    "                   how='left').groupby('semana_epidemiologica_21').mean()"
   ]
  },
  {
   "cell_type": "code",
   "execution_count": 270,
   "id": "8dc704bc",
   "metadata": {},
   "outputs": [],
   "source": [
    "mean_ind5 = df_ind5_perc.reset_index().merge(data_aysen_clean_21[['fecha_notificacion','semana_epidemiologica_21']], \n",
    "                   left_on='fecha_cumple_requisitos',\n",
    "                   right_on='fecha_notificacion',\n",
    "                   how='left').groupby('semana_epidemiologica_21').mean()['n_folio'].mean()"
   ]
  },
  {
   "cell_type": "code",
   "execution_count": 279,
   "id": "092393c9",
   "metadata": {},
   "outputs": [
    {
     "data": {
      "application/vnd.plotly.v1+json": {
       "config": {
        "plotlyServerURL": "https://plot.ly"
       },
       "data": [
        {
         "hovertemplate": "semana_epidemiologica_21=%{x}<br>Oportunidad (%)=%{marker.color}<extra></extra>",
         "legendgroup": "",
         "line": {
          "color": "grey"
         },
         "marker": {
          "color": [
           92.96074917134365,
           71.68813791775523,
           68.51981733704052,
           84.95879721552299,
           84.49240967866476,
           87.8804709346161,
           85.36454613696552,
           88.15746207910541,
           91.36185059491618,
           84.41659900559944,
           87.51281072558145,
           88.20971940630338,
           86.20219838622758,
           86.0120083139252,
           81.16961237461189,
           83.37890515935831,
           88.95924748726831,
           93.57558359139755,
           88.67443633870657,
           85.2688740672059,
           81.2590462428466,
           81.1187736511359,
           89.5080761635611,
           96.49309245483528,
           91.95869278778156,
           93.79094498788395,
           100
          ],
          "coloraxis": "coloraxis",
          "line": {
           "width": 1
          },
          "size": 10,
          "symbol": "circle"
         },
         "mode": "lines+markers",
         "name": "",
         "orientation": "v",
         "showlegend": false,
         "type": "scatter",
         "x": [
          62,
          63,
          64,
          65,
          66,
          67,
          68,
          69,
          70,
          71,
          72,
          73,
          74,
          75,
          76,
          77,
          78,
          79,
          80,
          81,
          82,
          83,
          84,
          85,
          86,
          87,
          88
         ],
         "xaxis": "x",
         "y": [
          92.96074917134365,
          71.68813791775523,
          68.51981733704052,
          84.95879721552299,
          84.49240967866476,
          87.8804709346161,
          85.36454613696552,
          88.15746207910541,
          91.36185059491618,
          84.41659900559944,
          87.51281072558145,
          88.20971940630338,
          86.20219838622758,
          86.0120083139252,
          81.16961237461189,
          83.37890515935831,
          88.95924748726831,
          93.57558359139755,
          88.67443633870657,
          85.2688740672059,
          81.2590462428466,
          81.1187736511359,
          89.5080761635611,
          96.49309245483528,
          91.95869278778156,
          93.79094498788395,
          100
         ],
         "yaxis": "y"
        }
       ],
       "layout": {
        "annotations": [
         {
          "showarrow": false,
          "text": "Meta nacional (90%)",
          "x": 1,
          "xanchor": "right",
          "xref": "x domain",
          "y": 90,
          "yanchor": "top",
          "yref": "y"
         },
         {
          "showarrow": false,
          "text": "Promedio (86.77%)",
          "x": 1,
          "xanchor": "right",
          "xref": "x domain",
          "y": 86.77380971148743,
          "yanchor": "top",
          "yref": "y"
         },
         {
          "font": {
           "family": "'Open Sans', verdana, arial, sans-serif",
           "size": 18
          },
          "showarrow": false,
          "text": "2020",
          "x": "53",
          "xanchor": "right",
          "xref": "x",
          "y": 0.5,
          "yanchor": "middle",
          "yref": "y domain"
         },
         {
          "font": {
           "family": "'Open Sans', verdana, arial, sans-serif",
           "size": 18
          },
          "showarrow": false,
          "text": "2021",
          "x": "88",
          "xanchor": "right",
          "xref": "x",
          "y": 0.5,
          "yanchor": "middle",
          "yref": "y domain"
         }
        ],
        "coloraxis": {
         "colorbar": {
          "title": {
           "text": "Oportunidad (%)"
          }
         },
         "colorscale": [
          [
           0,
           "#fde725"
          ],
          [
           0.1111111111111111,
           "#b5de2b"
          ],
          [
           0.2222222222222222,
           "#6ece58"
          ],
          [
           0.3333333333333333,
           "#35b779"
          ],
          [
           0.4444444444444444,
           "#1f9e89"
          ],
          [
           0.5555555555555556,
           "#26828e"
          ],
          [
           0.6666666666666666,
           "#31688e"
          ],
          [
           0.7777777777777778,
           "#3e4989"
          ],
          [
           0.8888888888888888,
           "#482878"
          ],
          [
           1,
           "#440154"
          ]
         ]
        },
        "legend": {
         "tracegroupgap": 0
        },
        "margin": {
         "t": 60
        },
        "shapes": [
         {
          "line": {
           "color": "gray",
           "dash": "dash",
           "width": 3
          },
          "type": "line",
          "x0": 53.5,
          "x1": 53.5,
          "xref": "x",
          "y0": 0,
          "y1": 1,
          "yref": "y domain"
         },
         {
          "line": {
           "color": "#222A2A",
           "dash": "longdash",
           "width": 3
          },
          "type": "line",
          "x0": 0,
          "x1": 1,
          "xref": "x domain",
          "y0": 90,
          "y1": 90,
          "yref": "y"
         },
         {
          "line": {
           "color": "#0D2A63",
           "dash": "longdash",
           "width": 3
          },
          "type": "line",
          "x0": 0,
          "x1": 1,
          "xref": "x domain",
          "y0": 86.77380971148743,
          "y1": 86.77380971148743,
          "yref": "y"
         },
         {
          "line": {
           "width": 0
          },
          "opacity": 0,
          "type": "rect",
          "x0": "51",
          "x1": "53",
          "xref": "x",
          "y0": 0,
          "y1": 1,
          "yref": "y domain"
         },
         {
          "line": {
           "width": 0
          },
          "opacity": 0,
          "type": "rect",
          "x0": "84",
          "x1": "88",
          "xref": "x",
          "y0": 0,
          "y1": 1,
          "yref": "y domain"
         }
        ],
        "template": {
         "data": {
          "bar": [
           {
            "error_x": {
             "color": "rgb(36,36,36)"
            },
            "error_y": {
             "color": "rgb(36,36,36)"
            },
            "marker": {
             "line": {
              "color": "white",
              "width": 0.5
             }
            },
            "type": "bar"
           }
          ],
          "barpolar": [
           {
            "marker": {
             "line": {
              "color": "white",
              "width": 0.5
             }
            },
            "type": "barpolar"
           }
          ],
          "carpet": [
           {
            "aaxis": {
             "endlinecolor": "rgb(36,36,36)",
             "gridcolor": "white",
             "linecolor": "white",
             "minorgridcolor": "white",
             "startlinecolor": "rgb(36,36,36)"
            },
            "baxis": {
             "endlinecolor": "rgb(36,36,36)",
             "gridcolor": "white",
             "linecolor": "white",
             "minorgridcolor": "white",
             "startlinecolor": "rgb(36,36,36)"
            },
            "type": "carpet"
           }
          ],
          "choropleth": [
           {
            "colorbar": {
             "outlinewidth": 1,
             "tickcolor": "rgb(36,36,36)",
             "ticks": "outside"
            },
            "type": "choropleth"
           }
          ],
          "contour": [
           {
            "colorbar": {
             "outlinewidth": 1,
             "tickcolor": "rgb(36,36,36)",
             "ticks": "outside"
            },
            "colorscale": [
             [
              0,
              "#440154"
             ],
             [
              0.1111111111111111,
              "#482878"
             ],
             [
              0.2222222222222222,
              "#3e4989"
             ],
             [
              0.3333333333333333,
              "#31688e"
             ],
             [
              0.4444444444444444,
              "#26828e"
             ],
             [
              0.5555555555555556,
              "#1f9e89"
             ],
             [
              0.6666666666666666,
              "#35b779"
             ],
             [
              0.7777777777777778,
              "#6ece58"
             ],
             [
              0.8888888888888888,
              "#b5de2b"
             ],
             [
              1,
              "#fde725"
             ]
            ],
            "type": "contour"
           }
          ],
          "contourcarpet": [
           {
            "colorbar": {
             "outlinewidth": 1,
             "tickcolor": "rgb(36,36,36)",
             "ticks": "outside"
            },
            "type": "contourcarpet"
           }
          ],
          "heatmap": [
           {
            "colorbar": {
             "outlinewidth": 1,
             "tickcolor": "rgb(36,36,36)",
             "ticks": "outside"
            },
            "colorscale": [
             [
              0,
              "#440154"
             ],
             [
              0.1111111111111111,
              "#482878"
             ],
             [
              0.2222222222222222,
              "#3e4989"
             ],
             [
              0.3333333333333333,
              "#31688e"
             ],
             [
              0.4444444444444444,
              "#26828e"
             ],
             [
              0.5555555555555556,
              "#1f9e89"
             ],
             [
              0.6666666666666666,
              "#35b779"
             ],
             [
              0.7777777777777778,
              "#6ece58"
             ],
             [
              0.8888888888888888,
              "#b5de2b"
             ],
             [
              1,
              "#fde725"
             ]
            ],
            "type": "heatmap"
           }
          ],
          "heatmapgl": [
           {
            "colorbar": {
             "outlinewidth": 1,
             "tickcolor": "rgb(36,36,36)",
             "ticks": "outside"
            },
            "colorscale": [
             [
              0,
              "#440154"
             ],
             [
              0.1111111111111111,
              "#482878"
             ],
             [
              0.2222222222222222,
              "#3e4989"
             ],
             [
              0.3333333333333333,
              "#31688e"
             ],
             [
              0.4444444444444444,
              "#26828e"
             ],
             [
              0.5555555555555556,
              "#1f9e89"
             ],
             [
              0.6666666666666666,
              "#35b779"
             ],
             [
              0.7777777777777778,
              "#6ece58"
             ],
             [
              0.8888888888888888,
              "#b5de2b"
             ],
             [
              1,
              "#fde725"
             ]
            ],
            "type": "heatmapgl"
           }
          ],
          "histogram": [
           {
            "marker": {
             "line": {
              "color": "white",
              "width": 0.6
             }
            },
            "type": "histogram"
           }
          ],
          "histogram2d": [
           {
            "colorbar": {
             "outlinewidth": 1,
             "tickcolor": "rgb(36,36,36)",
             "ticks": "outside"
            },
            "colorscale": [
             [
              0,
              "#440154"
             ],
             [
              0.1111111111111111,
              "#482878"
             ],
             [
              0.2222222222222222,
              "#3e4989"
             ],
             [
              0.3333333333333333,
              "#31688e"
             ],
             [
              0.4444444444444444,
              "#26828e"
             ],
             [
              0.5555555555555556,
              "#1f9e89"
             ],
             [
              0.6666666666666666,
              "#35b779"
             ],
             [
              0.7777777777777778,
              "#6ece58"
             ],
             [
              0.8888888888888888,
              "#b5de2b"
             ],
             [
              1,
              "#fde725"
             ]
            ],
            "type": "histogram2d"
           }
          ],
          "histogram2dcontour": [
           {
            "colorbar": {
             "outlinewidth": 1,
             "tickcolor": "rgb(36,36,36)",
             "ticks": "outside"
            },
            "colorscale": [
             [
              0,
              "#440154"
             ],
             [
              0.1111111111111111,
              "#482878"
             ],
             [
              0.2222222222222222,
              "#3e4989"
             ],
             [
              0.3333333333333333,
              "#31688e"
             ],
             [
              0.4444444444444444,
              "#26828e"
             ],
             [
              0.5555555555555556,
              "#1f9e89"
             ],
             [
              0.6666666666666666,
              "#35b779"
             ],
             [
              0.7777777777777778,
              "#6ece58"
             ],
             [
              0.8888888888888888,
              "#b5de2b"
             ],
             [
              1,
              "#fde725"
             ]
            ],
            "type": "histogram2dcontour"
           }
          ],
          "mesh3d": [
           {
            "colorbar": {
             "outlinewidth": 1,
             "tickcolor": "rgb(36,36,36)",
             "ticks": "outside"
            },
            "type": "mesh3d"
           }
          ],
          "parcoords": [
           {
            "line": {
             "colorbar": {
              "outlinewidth": 1,
              "tickcolor": "rgb(36,36,36)",
              "ticks": "outside"
             }
            },
            "type": "parcoords"
           }
          ],
          "pie": [
           {
            "automargin": true,
            "type": "pie"
           }
          ],
          "scatter": [
           {
            "marker": {
             "colorbar": {
              "outlinewidth": 1,
              "tickcolor": "rgb(36,36,36)",
              "ticks": "outside"
             }
            },
            "type": "scatter"
           }
          ],
          "scatter3d": [
           {
            "line": {
             "colorbar": {
              "outlinewidth": 1,
              "tickcolor": "rgb(36,36,36)",
              "ticks": "outside"
             }
            },
            "marker": {
             "colorbar": {
              "outlinewidth": 1,
              "tickcolor": "rgb(36,36,36)",
              "ticks": "outside"
             }
            },
            "type": "scatter3d"
           }
          ],
          "scattercarpet": [
           {
            "marker": {
             "colorbar": {
              "outlinewidth": 1,
              "tickcolor": "rgb(36,36,36)",
              "ticks": "outside"
             }
            },
            "type": "scattercarpet"
           }
          ],
          "scattergeo": [
           {
            "marker": {
             "colorbar": {
              "outlinewidth": 1,
              "tickcolor": "rgb(36,36,36)",
              "ticks": "outside"
             }
            },
            "type": "scattergeo"
           }
          ],
          "scattergl": [
           {
            "marker": {
             "colorbar": {
              "outlinewidth": 1,
              "tickcolor": "rgb(36,36,36)",
              "ticks": "outside"
             }
            },
            "type": "scattergl"
           }
          ],
          "scattermapbox": [
           {
            "marker": {
             "colorbar": {
              "outlinewidth": 1,
              "tickcolor": "rgb(36,36,36)",
              "ticks": "outside"
             }
            },
            "type": "scattermapbox"
           }
          ],
          "scatterpolar": [
           {
            "marker": {
             "colorbar": {
              "outlinewidth": 1,
              "tickcolor": "rgb(36,36,36)",
              "ticks": "outside"
             }
            },
            "type": "scatterpolar"
           }
          ],
          "scatterpolargl": [
           {
            "marker": {
             "colorbar": {
              "outlinewidth": 1,
              "tickcolor": "rgb(36,36,36)",
              "ticks": "outside"
             }
            },
            "type": "scatterpolargl"
           }
          ],
          "scatterternary": [
           {
            "marker": {
             "colorbar": {
              "outlinewidth": 1,
              "tickcolor": "rgb(36,36,36)",
              "ticks": "outside"
             }
            },
            "type": "scatterternary"
           }
          ],
          "surface": [
           {
            "colorbar": {
             "outlinewidth": 1,
             "tickcolor": "rgb(36,36,36)",
             "ticks": "outside"
            },
            "colorscale": [
             [
              0,
              "#440154"
             ],
             [
              0.1111111111111111,
              "#482878"
             ],
             [
              0.2222222222222222,
              "#3e4989"
             ],
             [
              0.3333333333333333,
              "#31688e"
             ],
             [
              0.4444444444444444,
              "#26828e"
             ],
             [
              0.5555555555555556,
              "#1f9e89"
             ],
             [
              0.6666666666666666,
              "#35b779"
             ],
             [
              0.7777777777777778,
              "#6ece58"
             ],
             [
              0.8888888888888888,
              "#b5de2b"
             ],
             [
              1,
              "#fde725"
             ]
            ],
            "type": "surface"
           }
          ],
          "table": [
           {
            "cells": {
             "fill": {
              "color": "rgb(237,237,237)"
             },
             "line": {
              "color": "white"
             }
            },
            "header": {
             "fill": {
              "color": "rgb(217,217,217)"
             },
             "line": {
              "color": "white"
             }
            },
            "type": "table"
           }
          ]
         },
         "layout": {
          "annotationdefaults": {
           "arrowhead": 0,
           "arrowwidth": 1
          },
          "autotypenumbers": "strict",
          "coloraxis": {
           "colorbar": {
            "outlinewidth": 1,
            "tickcolor": "rgb(36,36,36)",
            "ticks": "outside"
           }
          },
          "colorscale": {
           "diverging": [
            [
             0,
             "rgb(103,0,31)"
            ],
            [
             0.1,
             "rgb(178,24,43)"
            ],
            [
             0.2,
             "rgb(214,96,77)"
            ],
            [
             0.3,
             "rgb(244,165,130)"
            ],
            [
             0.4,
             "rgb(253,219,199)"
            ],
            [
             0.5,
             "rgb(247,247,247)"
            ],
            [
             0.6,
             "rgb(209,229,240)"
            ],
            [
             0.7,
             "rgb(146,197,222)"
            ],
            [
             0.8,
             "rgb(67,147,195)"
            ],
            [
             0.9,
             "rgb(33,102,172)"
            ],
            [
             1,
             "rgb(5,48,97)"
            ]
           ],
           "sequential": [
            [
             0,
             "#440154"
            ],
            [
             0.1111111111111111,
             "#482878"
            ],
            [
             0.2222222222222222,
             "#3e4989"
            ],
            [
             0.3333333333333333,
             "#31688e"
            ],
            [
             0.4444444444444444,
             "#26828e"
            ],
            [
             0.5555555555555556,
             "#1f9e89"
            ],
            [
             0.6666666666666666,
             "#35b779"
            ],
            [
             0.7777777777777778,
             "#6ece58"
            ],
            [
             0.8888888888888888,
             "#b5de2b"
            ],
            [
             1,
             "#fde725"
            ]
           ],
           "sequentialminus": [
            [
             0,
             "#440154"
            ],
            [
             0.1111111111111111,
             "#482878"
            ],
            [
             0.2222222222222222,
             "#3e4989"
            ],
            [
             0.3333333333333333,
             "#31688e"
            ],
            [
             0.4444444444444444,
             "#26828e"
            ],
            [
             0.5555555555555556,
             "#1f9e89"
            ],
            [
             0.6666666666666666,
             "#35b779"
            ],
            [
             0.7777777777777778,
             "#6ece58"
            ],
            [
             0.8888888888888888,
             "#b5de2b"
            ],
            [
             1,
             "#fde725"
            ]
           ]
          },
          "colorway": [
           "#1F77B4",
           "#FF7F0E",
           "#2CA02C",
           "#D62728",
           "#9467BD",
           "#8C564B",
           "#E377C2",
           "#7F7F7F",
           "#BCBD22",
           "#17BECF"
          ],
          "font": {
           "color": "rgb(36,36,36)"
          },
          "geo": {
           "bgcolor": "white",
           "lakecolor": "white",
           "landcolor": "white",
           "showlakes": true,
           "showland": true,
           "subunitcolor": "white"
          },
          "hoverlabel": {
           "align": "left"
          },
          "hovermode": "closest",
          "mapbox": {
           "style": "light"
          },
          "paper_bgcolor": "white",
          "plot_bgcolor": "white",
          "polar": {
           "angularaxis": {
            "gridcolor": "rgb(232,232,232)",
            "linecolor": "rgb(36,36,36)",
            "showgrid": false,
            "showline": true,
            "ticks": "outside"
           },
           "bgcolor": "white",
           "radialaxis": {
            "gridcolor": "rgb(232,232,232)",
            "linecolor": "rgb(36,36,36)",
            "showgrid": false,
            "showline": true,
            "ticks": "outside"
           }
          },
          "scene": {
           "xaxis": {
            "backgroundcolor": "white",
            "gridcolor": "rgb(232,232,232)",
            "gridwidth": 2,
            "linecolor": "rgb(36,36,36)",
            "showbackground": true,
            "showgrid": false,
            "showline": true,
            "ticks": "outside",
            "zeroline": false,
            "zerolinecolor": "rgb(36,36,36)"
           },
           "yaxis": {
            "backgroundcolor": "white",
            "gridcolor": "rgb(232,232,232)",
            "gridwidth": 2,
            "linecolor": "rgb(36,36,36)",
            "showbackground": true,
            "showgrid": false,
            "showline": true,
            "ticks": "outside",
            "zeroline": false,
            "zerolinecolor": "rgb(36,36,36)"
           },
           "zaxis": {
            "backgroundcolor": "white",
            "gridcolor": "rgb(232,232,232)",
            "gridwidth": 2,
            "linecolor": "rgb(36,36,36)",
            "showbackground": true,
            "showgrid": false,
            "showline": true,
            "ticks": "outside",
            "zeroline": false,
            "zerolinecolor": "rgb(36,36,36)"
           }
          },
          "shapedefaults": {
           "fillcolor": "black",
           "line": {
            "width": 0
           },
           "opacity": 0.3
          },
          "ternary": {
           "aaxis": {
            "gridcolor": "rgb(232,232,232)",
            "linecolor": "rgb(36,36,36)",
            "showgrid": false,
            "showline": true,
            "ticks": "outside"
           },
           "baxis": {
            "gridcolor": "rgb(232,232,232)",
            "linecolor": "rgb(36,36,36)",
            "showgrid": false,
            "showline": true,
            "ticks": "outside"
           },
           "bgcolor": "white",
           "caxis": {
            "gridcolor": "rgb(232,232,232)",
            "linecolor": "rgb(36,36,36)",
            "showgrid": false,
            "showline": true,
            "ticks": "outside"
           }
          },
          "title": {
           "x": 0.05
          },
          "xaxis": {
           "automargin": true,
           "gridcolor": "rgb(232,232,232)",
           "linecolor": "rgb(36,36,36)",
           "showgrid": false,
           "showline": true,
           "ticks": "outside",
           "title": {
            "standoff": 15
           },
           "zeroline": false,
           "zerolinecolor": "rgb(36,36,36)"
          },
          "yaxis": {
           "automargin": true,
           "gridcolor": "rgb(232,232,232)",
           "linecolor": "rgb(36,36,36)",
           "showgrid": false,
           "showline": true,
           "ticks": "outside",
           "title": {
            "standoff": 15
           },
           "zeroline": false,
           "zerolinecolor": "rgb(36,36,36)"
          }
         }
        },
        "title": {
         "text": "Ind5: Oportunidad en la investigación epidemiológica de casos"
        },
        "xaxis": {
         "anchor": "y",
         "domain": [
          0,
          1
         ],
         "tickmode": "array",
         "ticktext": [
          12,
          15,
          18,
          21,
          24,
          27,
          30,
          33,
          36,
          39,
          42,
          45,
          48,
          51,
          1,
          4,
          7,
          10,
          13,
          16,
          19,
          22,
          25,
          28,
          31,
          34,
          37,
          40,
          43,
          46,
          49,
          52,
          55,
          58,
          61,
          64,
          67,
          70,
          73,
          76,
          79,
          82,
          85
         ],
         "tickvals": [
          12,
          15,
          18,
          21,
          24,
          27,
          30,
          33,
          36,
          39,
          42,
          45,
          48,
          51,
          54,
          57,
          60,
          63,
          66,
          69,
          72,
          75,
          78,
          81,
          84,
          87
         ],
         "title": {
          "text": "Semana epidemiológica"
         }
        },
        "yaxis": {
         "anchor": "x",
         "domain": [
          0,
          1
         ],
         "range": [
          50,
          105
         ],
         "title": {
          "text": "Oportunidad (%)"
         }
        }
       }
      },
      "text/html": [
       "<div>                            <div id=\"b7b8cff9-e37e-431a-8d5c-fc7ca447506c\" class=\"plotly-graph-div\" style=\"height:525px; width:100%;\"></div>            <script type=\"text/javascript\">                require([\"plotly\"], function(Plotly) {                    window.PLOTLYENV=window.PLOTLYENV || {};                                    if (document.getElementById(\"b7b8cff9-e37e-431a-8d5c-fc7ca447506c\")) {                    Plotly.newPlot(                        \"b7b8cff9-e37e-431a-8d5c-fc7ca447506c\",                        [{\"hovertemplate\": \"semana_epidemiologica_21=%{x}<br>Oportunidad (%)=%{marker.color}<extra></extra>\", \"legendgroup\": \"\", \"line\": {\"color\": \"grey\"}, \"marker\": {\"color\": [92.96074917134365, 71.68813791775523, 68.51981733704052, 84.95879721552299, 84.49240967866476, 87.8804709346161, 85.36454613696552, 88.15746207910541, 91.36185059491618, 84.41659900559944, 87.51281072558145, 88.20971940630338, 86.20219838622758, 86.0120083139252, 81.16961237461189, 83.37890515935831, 88.95924748726831, 93.57558359139755, 88.67443633870657, 85.2688740672059, 81.2590462428466, 81.1187736511359, 89.5080761635611, 96.49309245483528, 91.95869278778156, 93.79094498788395, 100.0], \"coloraxis\": \"coloraxis\", \"line\": {\"width\": 1}, \"size\": 10, \"symbol\": \"circle\"}, \"mode\": \"lines+markers\", \"name\": \"\", \"orientation\": \"v\", \"showlegend\": false, \"type\": \"scatter\", \"x\": [62.0, 63.0, 64.0, 65.0, 66.0, 67.0, 68.0, 69.0, 70.0, 71.0, 72.0, 73.0, 74.0, 75.0, 76.0, 77.0, 78.0, 79.0, 80.0, 81.0, 82.0, 83.0, 84.0, 85.0, 86.0, 87.0, 88.0], \"xaxis\": \"x\", \"y\": [92.96074917134365, 71.68813791775523, 68.51981733704052, 84.95879721552299, 84.49240967866476, 87.8804709346161, 85.36454613696552, 88.15746207910541, 91.36185059491618, 84.41659900559944, 87.51281072558145, 88.20971940630338, 86.20219838622758, 86.0120083139252, 81.16961237461189, 83.37890515935831, 88.95924748726831, 93.57558359139755, 88.67443633870657, 85.2688740672059, 81.2590462428466, 81.1187736511359, 89.5080761635611, 96.49309245483528, 91.95869278778156, 93.79094498788395, 100.0], \"yaxis\": \"y\"}],                        {\"annotations\": [{\"showarrow\": false, \"text\": \"Meta nacional (90%)\", \"x\": 1, \"xanchor\": \"right\", \"xref\": \"x domain\", \"y\": 90, \"yanchor\": \"top\", \"yref\": \"y\"}, {\"showarrow\": false, \"text\": \"Promedio (86.77%)\", \"x\": 1, \"xanchor\": \"right\", \"xref\": \"x domain\", \"y\": 86.77380971148743, \"yanchor\": \"top\", \"yref\": \"y\"}, {\"font\": {\"family\": \"'Open Sans', verdana, arial, sans-serif\", \"size\": 18}, \"showarrow\": false, \"text\": \"2020\", \"x\": \"53\", \"xanchor\": \"right\", \"xref\": \"x\", \"y\": 0.5, \"yanchor\": \"middle\", \"yref\": \"y domain\"}, {\"font\": {\"family\": \"'Open Sans', verdana, arial, sans-serif\", \"size\": 18}, \"showarrow\": false, \"text\": \"2021\", \"x\": \"88\", \"xanchor\": \"right\", \"xref\": \"x\", \"y\": 0.5, \"yanchor\": \"middle\", \"yref\": \"y domain\"}], \"coloraxis\": {\"colorbar\": {\"title\": {\"text\": \"Oportunidad (%)\"}}, \"colorscale\": [[0.0, \"#fde725\"], [0.1111111111111111, \"#b5de2b\"], [0.2222222222222222, \"#6ece58\"], [0.3333333333333333, \"#35b779\"], [0.4444444444444444, \"#1f9e89\"], [0.5555555555555556, \"#26828e\"], [0.6666666666666666, \"#31688e\"], [0.7777777777777778, \"#3e4989\"], [0.8888888888888888, \"#482878\"], [1.0, \"#440154\"]]}, \"legend\": {\"tracegroupgap\": 0}, \"margin\": {\"t\": 60}, \"shapes\": [{\"line\": {\"color\": \"gray\", \"dash\": \"dash\", \"width\": 3}, \"type\": \"line\", \"x0\": 53.5, \"x1\": 53.5, \"xref\": \"x\", \"y0\": 0, \"y1\": 1, \"yref\": \"y domain\"}, {\"line\": {\"color\": \"#222A2A\", \"dash\": \"longdash\", \"width\": 3}, \"type\": \"line\", \"x0\": 0, \"x1\": 1, \"xref\": \"x domain\", \"y0\": 90, \"y1\": 90, \"yref\": \"y\"}, {\"line\": {\"color\": \"#0D2A63\", \"dash\": \"longdash\", \"width\": 3}, \"type\": \"line\", \"x0\": 0, \"x1\": 1, \"xref\": \"x domain\", \"y0\": 86.77380971148743, \"y1\": 86.77380971148743, \"yref\": \"y\"}, {\"line\": {\"width\": 0}, \"opacity\": 0, \"type\": \"rect\", \"x0\": \"51\", \"x1\": \"53\", \"xref\": \"x\", \"y0\": 0, \"y1\": 1, \"yref\": \"y domain\"}, {\"line\": {\"width\": 0}, \"opacity\": 0, \"type\": \"rect\", \"x0\": \"84\", \"x1\": \"88\", \"xref\": \"x\", \"y0\": 0, \"y1\": 1, \"yref\": \"y domain\"}], \"template\": {\"data\": {\"bar\": [{\"error_x\": {\"color\": \"rgb(36,36,36)\"}, \"error_y\": {\"color\": \"rgb(36,36,36)\"}, \"marker\": {\"line\": {\"color\": \"white\", \"width\": 0.5}}, \"type\": \"bar\"}], \"barpolar\": [{\"marker\": {\"line\": {\"color\": \"white\", \"width\": 0.5}}, \"type\": \"barpolar\"}], \"carpet\": [{\"aaxis\": {\"endlinecolor\": \"rgb(36,36,36)\", \"gridcolor\": \"white\", \"linecolor\": \"white\", \"minorgridcolor\": \"white\", \"startlinecolor\": \"rgb(36,36,36)\"}, \"baxis\": {\"endlinecolor\": \"rgb(36,36,36)\", \"gridcolor\": \"white\", \"linecolor\": \"white\", \"minorgridcolor\": \"white\", \"startlinecolor\": \"rgb(36,36,36)\"}, \"type\": \"carpet\"}], \"choropleth\": [{\"colorbar\": {\"outlinewidth\": 1, \"tickcolor\": \"rgb(36,36,36)\", \"ticks\": \"outside\"}, \"type\": \"choropleth\"}], \"contour\": [{\"colorbar\": {\"outlinewidth\": 1, \"tickcolor\": \"rgb(36,36,36)\", \"ticks\": \"outside\"}, \"colorscale\": [[0.0, \"#440154\"], [0.1111111111111111, \"#482878\"], [0.2222222222222222, \"#3e4989\"], [0.3333333333333333, \"#31688e\"], [0.4444444444444444, \"#26828e\"], [0.5555555555555556, \"#1f9e89\"], [0.6666666666666666, \"#35b779\"], [0.7777777777777778, \"#6ece58\"], [0.8888888888888888, \"#b5de2b\"], [1.0, \"#fde725\"]], \"type\": \"contour\"}], \"contourcarpet\": [{\"colorbar\": {\"outlinewidth\": 1, \"tickcolor\": \"rgb(36,36,36)\", \"ticks\": \"outside\"}, \"type\": \"contourcarpet\"}], \"heatmap\": [{\"colorbar\": {\"outlinewidth\": 1, \"tickcolor\": \"rgb(36,36,36)\", \"ticks\": \"outside\"}, \"colorscale\": [[0.0, \"#440154\"], [0.1111111111111111, \"#482878\"], [0.2222222222222222, \"#3e4989\"], [0.3333333333333333, \"#31688e\"], [0.4444444444444444, \"#26828e\"], [0.5555555555555556, \"#1f9e89\"], [0.6666666666666666, \"#35b779\"], [0.7777777777777778, \"#6ece58\"], [0.8888888888888888, \"#b5de2b\"], [1.0, \"#fde725\"]], \"type\": \"heatmap\"}], \"heatmapgl\": [{\"colorbar\": {\"outlinewidth\": 1, \"tickcolor\": \"rgb(36,36,36)\", \"ticks\": \"outside\"}, \"colorscale\": [[0.0, \"#440154\"], [0.1111111111111111, \"#482878\"], [0.2222222222222222, \"#3e4989\"], [0.3333333333333333, \"#31688e\"], [0.4444444444444444, \"#26828e\"], [0.5555555555555556, \"#1f9e89\"], [0.6666666666666666, \"#35b779\"], [0.7777777777777778, \"#6ece58\"], [0.8888888888888888, \"#b5de2b\"], [1.0, \"#fde725\"]], \"type\": \"heatmapgl\"}], \"histogram\": [{\"marker\": {\"line\": {\"color\": \"white\", \"width\": 0.6}}, \"type\": \"histogram\"}], \"histogram2d\": [{\"colorbar\": {\"outlinewidth\": 1, \"tickcolor\": \"rgb(36,36,36)\", \"ticks\": \"outside\"}, \"colorscale\": [[0.0, \"#440154\"], [0.1111111111111111, \"#482878\"], [0.2222222222222222, \"#3e4989\"], [0.3333333333333333, \"#31688e\"], [0.4444444444444444, \"#26828e\"], [0.5555555555555556, \"#1f9e89\"], [0.6666666666666666, \"#35b779\"], [0.7777777777777778, \"#6ece58\"], [0.8888888888888888, \"#b5de2b\"], [1.0, \"#fde725\"]], \"type\": \"histogram2d\"}], \"histogram2dcontour\": [{\"colorbar\": {\"outlinewidth\": 1, \"tickcolor\": \"rgb(36,36,36)\", \"ticks\": \"outside\"}, \"colorscale\": [[0.0, \"#440154\"], [0.1111111111111111, \"#482878\"], [0.2222222222222222, \"#3e4989\"], [0.3333333333333333, \"#31688e\"], [0.4444444444444444, \"#26828e\"], [0.5555555555555556, \"#1f9e89\"], [0.6666666666666666, \"#35b779\"], [0.7777777777777778, \"#6ece58\"], [0.8888888888888888, \"#b5de2b\"], [1.0, \"#fde725\"]], \"type\": \"histogram2dcontour\"}], \"mesh3d\": [{\"colorbar\": {\"outlinewidth\": 1, \"tickcolor\": \"rgb(36,36,36)\", \"ticks\": \"outside\"}, \"type\": \"mesh3d\"}], \"parcoords\": [{\"line\": {\"colorbar\": {\"outlinewidth\": 1, \"tickcolor\": \"rgb(36,36,36)\", \"ticks\": \"outside\"}}, \"type\": \"parcoords\"}], \"pie\": [{\"automargin\": true, \"type\": \"pie\"}], \"scatter\": [{\"marker\": {\"colorbar\": {\"outlinewidth\": 1, \"tickcolor\": \"rgb(36,36,36)\", \"ticks\": \"outside\"}}, \"type\": \"scatter\"}], \"scatter3d\": [{\"line\": {\"colorbar\": {\"outlinewidth\": 1, \"tickcolor\": \"rgb(36,36,36)\", \"ticks\": \"outside\"}}, \"marker\": {\"colorbar\": {\"outlinewidth\": 1, \"tickcolor\": \"rgb(36,36,36)\", \"ticks\": \"outside\"}}, \"type\": \"scatter3d\"}], \"scattercarpet\": [{\"marker\": {\"colorbar\": {\"outlinewidth\": 1, \"tickcolor\": \"rgb(36,36,36)\", \"ticks\": \"outside\"}}, \"type\": \"scattercarpet\"}], \"scattergeo\": [{\"marker\": {\"colorbar\": {\"outlinewidth\": 1, \"tickcolor\": \"rgb(36,36,36)\", \"ticks\": \"outside\"}}, \"type\": \"scattergeo\"}], \"scattergl\": [{\"marker\": {\"colorbar\": {\"outlinewidth\": 1, \"tickcolor\": \"rgb(36,36,36)\", \"ticks\": \"outside\"}}, \"type\": \"scattergl\"}], \"scattermapbox\": [{\"marker\": {\"colorbar\": {\"outlinewidth\": 1, \"tickcolor\": \"rgb(36,36,36)\", \"ticks\": \"outside\"}}, \"type\": \"scattermapbox\"}], \"scatterpolar\": [{\"marker\": {\"colorbar\": {\"outlinewidth\": 1, \"tickcolor\": \"rgb(36,36,36)\", \"ticks\": \"outside\"}}, \"type\": \"scatterpolar\"}], \"scatterpolargl\": [{\"marker\": {\"colorbar\": {\"outlinewidth\": 1, \"tickcolor\": \"rgb(36,36,36)\", \"ticks\": \"outside\"}}, \"type\": \"scatterpolargl\"}], \"scatterternary\": [{\"marker\": {\"colorbar\": {\"outlinewidth\": 1, \"tickcolor\": \"rgb(36,36,36)\", \"ticks\": \"outside\"}}, \"type\": \"scatterternary\"}], \"surface\": [{\"colorbar\": {\"outlinewidth\": 1, \"tickcolor\": \"rgb(36,36,36)\", \"ticks\": \"outside\"}, \"colorscale\": [[0.0, \"#440154\"], [0.1111111111111111, \"#482878\"], [0.2222222222222222, \"#3e4989\"], [0.3333333333333333, \"#31688e\"], [0.4444444444444444, \"#26828e\"], [0.5555555555555556, \"#1f9e89\"], [0.6666666666666666, \"#35b779\"], [0.7777777777777778, \"#6ece58\"], [0.8888888888888888, \"#b5de2b\"], [1.0, \"#fde725\"]], \"type\": \"surface\"}], \"table\": [{\"cells\": {\"fill\": {\"color\": \"rgb(237,237,237)\"}, \"line\": {\"color\": \"white\"}}, \"header\": {\"fill\": {\"color\": \"rgb(217,217,217)\"}, \"line\": {\"color\": \"white\"}}, \"type\": \"table\"}]}, \"layout\": {\"annotationdefaults\": {\"arrowhead\": 0, \"arrowwidth\": 1}, \"autotypenumbers\": \"strict\", \"coloraxis\": {\"colorbar\": {\"outlinewidth\": 1, \"tickcolor\": \"rgb(36,36,36)\", \"ticks\": \"outside\"}}, \"colorscale\": {\"diverging\": [[0.0, \"rgb(103,0,31)\"], [0.1, \"rgb(178,24,43)\"], [0.2, \"rgb(214,96,77)\"], [0.3, \"rgb(244,165,130)\"], [0.4, \"rgb(253,219,199)\"], [0.5, \"rgb(247,247,247)\"], [0.6, \"rgb(209,229,240)\"], [0.7, \"rgb(146,197,222)\"], [0.8, \"rgb(67,147,195)\"], [0.9, \"rgb(33,102,172)\"], [1.0, \"rgb(5,48,97)\"]], \"sequential\": [[0.0, \"#440154\"], [0.1111111111111111, \"#482878\"], [0.2222222222222222, \"#3e4989\"], [0.3333333333333333, \"#31688e\"], [0.4444444444444444, \"#26828e\"], [0.5555555555555556, \"#1f9e89\"], [0.6666666666666666, \"#35b779\"], [0.7777777777777778, \"#6ece58\"], [0.8888888888888888, \"#b5de2b\"], [1.0, \"#fde725\"]], \"sequentialminus\": [[0.0, \"#440154\"], [0.1111111111111111, \"#482878\"], [0.2222222222222222, \"#3e4989\"], [0.3333333333333333, \"#31688e\"], [0.4444444444444444, \"#26828e\"], [0.5555555555555556, \"#1f9e89\"], [0.6666666666666666, \"#35b779\"], [0.7777777777777778, \"#6ece58\"], [0.8888888888888888, \"#b5de2b\"], [1.0, \"#fde725\"]]}, \"colorway\": [\"#1F77B4\", \"#FF7F0E\", \"#2CA02C\", \"#D62728\", \"#9467BD\", \"#8C564B\", \"#E377C2\", \"#7F7F7F\", \"#BCBD22\", \"#17BECF\"], \"font\": {\"color\": \"rgb(36,36,36)\"}, \"geo\": {\"bgcolor\": \"white\", \"lakecolor\": \"white\", \"landcolor\": \"white\", \"showlakes\": true, \"showland\": true, \"subunitcolor\": \"white\"}, \"hoverlabel\": {\"align\": \"left\"}, \"hovermode\": \"closest\", \"mapbox\": {\"style\": \"light\"}, \"paper_bgcolor\": \"white\", \"plot_bgcolor\": \"white\", \"polar\": {\"angularaxis\": {\"gridcolor\": \"rgb(232,232,232)\", \"linecolor\": \"rgb(36,36,36)\", \"showgrid\": false, \"showline\": true, \"ticks\": \"outside\"}, \"bgcolor\": \"white\", \"radialaxis\": {\"gridcolor\": \"rgb(232,232,232)\", \"linecolor\": \"rgb(36,36,36)\", \"showgrid\": false, \"showline\": true, \"ticks\": \"outside\"}}, \"scene\": {\"xaxis\": {\"backgroundcolor\": \"white\", \"gridcolor\": \"rgb(232,232,232)\", \"gridwidth\": 2, \"linecolor\": \"rgb(36,36,36)\", \"showbackground\": true, \"showgrid\": false, \"showline\": true, \"ticks\": \"outside\", \"zeroline\": false, \"zerolinecolor\": \"rgb(36,36,36)\"}, \"yaxis\": {\"backgroundcolor\": \"white\", \"gridcolor\": \"rgb(232,232,232)\", \"gridwidth\": 2, \"linecolor\": \"rgb(36,36,36)\", \"showbackground\": true, \"showgrid\": false, \"showline\": true, \"ticks\": \"outside\", \"zeroline\": false, \"zerolinecolor\": \"rgb(36,36,36)\"}, \"zaxis\": {\"backgroundcolor\": \"white\", \"gridcolor\": \"rgb(232,232,232)\", \"gridwidth\": 2, \"linecolor\": \"rgb(36,36,36)\", \"showbackground\": true, \"showgrid\": false, \"showline\": true, \"ticks\": \"outside\", \"zeroline\": false, \"zerolinecolor\": \"rgb(36,36,36)\"}}, \"shapedefaults\": {\"fillcolor\": \"black\", \"line\": {\"width\": 0}, \"opacity\": 0.3}, \"ternary\": {\"aaxis\": {\"gridcolor\": \"rgb(232,232,232)\", \"linecolor\": \"rgb(36,36,36)\", \"showgrid\": false, \"showline\": true, \"ticks\": \"outside\"}, \"baxis\": {\"gridcolor\": \"rgb(232,232,232)\", \"linecolor\": \"rgb(36,36,36)\", \"showgrid\": false, \"showline\": true, \"ticks\": \"outside\"}, \"bgcolor\": \"white\", \"caxis\": {\"gridcolor\": \"rgb(232,232,232)\", \"linecolor\": \"rgb(36,36,36)\", \"showgrid\": false, \"showline\": true, \"ticks\": \"outside\"}}, \"title\": {\"x\": 0.05}, \"xaxis\": {\"automargin\": true, \"gridcolor\": \"rgb(232,232,232)\", \"linecolor\": \"rgb(36,36,36)\", \"showgrid\": false, \"showline\": true, \"ticks\": \"outside\", \"title\": {\"standoff\": 15}, \"zeroline\": false, \"zerolinecolor\": \"rgb(36,36,36)\"}, \"yaxis\": {\"automargin\": true, \"gridcolor\": \"rgb(232,232,232)\", \"linecolor\": \"rgb(36,36,36)\", \"showgrid\": false, \"showline\": true, \"ticks\": \"outside\", \"title\": {\"standoff\": 15}, \"zeroline\": false, \"zerolinecolor\": \"rgb(36,36,36)\"}}}, \"title\": {\"text\": \"Ind5: Oportunidad en la investigaci\\u00f3n epidemiol\\u00f3gica de casos\"}, \"xaxis\": {\"anchor\": \"y\", \"domain\": [0.0, 1.0], \"tickmode\": \"array\", \"ticktext\": [12, 15, 18, 21, 24, 27, 30, 33, 36, 39, 42, 45, 48, 51, 1, 4, 7, 10, 13, 16, 19, 22, 25, 28, 31, 34, 37, 40, 43, 46, 49, 52, 55, 58, 61, 64, 67, 70, 73, 76, 79, 82, 85], \"tickvals\": [12, 15, 18, 21, 24, 27, 30, 33, 36, 39, 42, 45, 48, 51, 54, 57, 60, 63, 66, 69, 72, 75, 78, 81, 84, 87], \"title\": {\"text\": \"Semana epidemiol\\u00f3gica\"}}, \"yaxis\": {\"anchor\": \"x\", \"domain\": [0.0, 1.0], \"range\": [50, 105], \"title\": {\"text\": \"Oportunidad (%)\"}}},                        {\"responsive\": true}                    ).then(function(){\n",
       "                            \n",
       "var gd = document.getElementById('b7b8cff9-e37e-431a-8d5c-fc7ca447506c');\n",
       "var x = new MutationObserver(function (mutations, observer) {{\n",
       "        var display = window.getComputedStyle(gd).display;\n",
       "        if (!display || display === 'none') {{\n",
       "            console.log([gd, 'removed!']);\n",
       "            Plotly.purge(gd);\n",
       "            observer.disconnect();\n",
       "        }}\n",
       "}});\n",
       "\n",
       "// Listen for the removal of the full notebook cells\n",
       "var notebookContainer = gd.closest('#notebook-container');\n",
       "if (notebookContainer) {{\n",
       "    x.observe(notebookContainer, {childList: true});\n",
       "}}\n",
       "\n",
       "// Listen for the clearing of the current output cell\n",
       "var outputEl = gd.closest('.output');\n",
       "if (outputEl) {{\n",
       "    x.observe(outputEl, {childList: true});\n",
       "}}\n",
       "\n",
       "                        })                };                });            </script>        </div>"
      ]
     },
     "metadata": {},
     "output_type": "display_data"
    }
   ],
   "source": [
    "px.scatter(df_ind5_perc.reset_index().merge(data_aysen_clean_21[['fecha_notificacion','semana_epidemiologica_21']], \n",
    "                   left_on='fecha_cumple_requisitos',\n",
    "                   right_on='fecha_notificacion',\n",
    "                   how='left').groupby('semana_epidemiologica_21').mean().reset_index(),\n",
    "        x= 'semana_epidemiologica_21',\n",
    "        y= 'n_folio',\n",
    "        #trendline='rolling',\n",
    "        #trendline_options=dict(window=5),\n",
    "        color='n_folio',\n",
    "        color_continuous_scale=px.colors.sequential.Viridis_r,\n",
    "        labels={'n_folio':'Oportunidad (%)'},\n",
    "        ).update_layout(title= 'Ind5: Oportunidad en la investigación epidemiológica de casos',\n",
    "                       yaxis_title='Oportunidad (%)',\n",
    "                       xaxis_title='Semana epidemiológica',\n",
    "                       yaxis_range= [50,105],\n",
    "                       template='simple_white',\n",
    "                       xaxis=dict(tickmode = 'array',\n",
    "                                  tickvals = list(range(12,88,3)),\n",
    "                                  ticktext = list(list(range(12,54,3))+list(range(1,88,3))),\n",
    "                                 ),\n",
    "                    ).add_vline(x=53.5, line_width=3, line_dash='dash', line_color='gray'\n",
    "                              ).add_hline(y=90, \n",
    "                                            line_width=3, \n",
    "                                            line_dash='longdash', \n",
    "                                            line_color='#222A2A',\n",
    "                                            annotation_text='Meta nacional (90%)',\n",
    "                                            annotation_position='bottom right'\n",
    "                                 ).add_hline(y=mean_ind5, \n",
    "                                             line_width=3, \n",
    "                                             line_dash='longdash', \n",
    "                                             line_color='#0D2A63',\n",
    "                                             annotation_text= 'Promedio ('+str(round(mean_ind5, 2))+'%)',\n",
    "                                             annotation_position='bottom right'\n",
    "                                     ).add_vrect(x0='51', x1='53', \n",
    "                                           annotation_text='2020', \n",
    "                                           annotation_position='inside right',\n",
    "                                           annotation=dict(font_size=18, \n",
    "                                                           font_family=\"'Open Sans', verdana, arial, sans-serif\"),\n",
    "                                                           opacity=0, \n",
    "                                                           line_width=0\n",
    "                                          ).add_vrect(x0='84', x1='88', \n",
    "                                           annotation_text='2021', \n",
    "                                           annotation_position='inside right',\n",
    "                                           annotation=dict(font_size=18, \n",
    "                                                           font_family=\"'Open Sans', verdana, arial, sans-serif\"),\n",
    "                                                           opacity=0, \n",
    "                                                           line_width=0\n",
    "                                                     ).update_traces(mode='lines+markers', \n",
    "                                                                     line_color='grey',\n",
    "                                                                     marker_line_width=1, \n",
    "                                                                     marker_size=10)"
   ]
  },
  {
   "cell_type": "markdown",
   "id": "f84a42a2",
   "metadata": {},
   "source": [
    "# Indicador 6: Capacidad de investigación de contactos\n",
    "\n",
    "## Objetivos: Fortalecer la investigación epidemiológica de los contactos estrechos\n",
    "\n",
    "### Meta: >80%\n",
    "\n",
    "**Periodicidad:** Semanal\n",
    "\n",
    "**Escala territorial:** Comuna, Regional, Nacional\n",
    "\n",
    "**Fuente de información:** base EPIVIGILA actualizada con los reportes de laboratorio al día de la determinación del indicador. Base de seguimiento"
   ]
  },
  {
   "cell_type": "markdown",
   "id": "fe66a852",
   "metadata": {},
   "source": [
    "**Cálculo del indicador a nivel comunal**\n",
    "\n",
    "$\\frac{No.\\:casos\\:nuevos\\:con\\:contactos\\:estrechos\\:por\\:comuna\\:1er\\:establecimiento\\:semana\\:x}{No.\\:casos\\:nuevos\\:por\\:comuna\\:1er\\:establecimiento\\:semana\\:x}$\n",
    "\n",
    "**Cálculo del indicador a nivel regional**\n",
    "\n",
    "$\\frac{No.\\:casos\\:nuevos\\:con\\:contactos\\:estrechos\\:por\\:región\\:1er\\:establecimiento\\:semana\\:x}{No.\\:casos\\:nuevos\\:por\\:región\\:1er\\:establecimiento\\:semana\\:x}$"
   ]
  },
  {
   "cell_type": "markdown",
   "id": "17884c84",
   "metadata": {},
   "source": [
    "**Observaciones**\n",
    "\n",
    "- No se incluyen los casos nuevos no notificados\n",
    "- Se considera un caso nuevo registrado a aquel caso nuevo notificado que cumple los requisitos para estar en el módulo de seguimiento\n",
    "- Los casos nuevos con contactos estrechos son considerados de forma dicotómica (sí o no)\n",
    "- El primer establecimiento corresponde al establecimiento de notificación. Se seguirá considerando el primer establecimiento para este indicador, aún si se derivó previo a la investigación epidemiológica.\n",
    "- Se consideran sólo registros activos o egresados en la bandeja de seguimiento"
   ]
  },
  {
   "cell_type": "code",
   "execution_count": null,
   "id": "02cc4d8b",
   "metadata": {},
   "outputs": [],
   "source": []
  },
  {
   "cell_type": "markdown",
   "id": "5420b74e",
   "metadata": {},
   "source": [
    "# Indicador 7: Capacidad de investigación de contactos\n",
    "\n",
    "## Objetivo: Evaluar la capacidad de seguimiento de contactos\n",
    "\n",
    "### Meta: >80%\n",
    "\n",
    "**Periodicidad:** Semanal\n",
    "\n",
    "**Escala territorial:** Comuna, Regional, Nacional\n",
    "\n",
    "**Fuente de información:** base EPIVIGILA actualizada con los reportes de laboratorio al día de la determinación del indicador. Base de seguimiento."
   ]
  },
  {
   "cell_type": "markdown",
   "id": "bf1fcd6e",
   "metadata": {},
   "source": [
    "**Cálculo del indicador a nivel comunal**\n",
    "\n",
    "$\\frac{No.\\:contactos\\:identificados\\:investigados\\:dentro\\:de\\:48hrs\\:por\\:comuna\\:1er\\:establecimiento\\:semana\\:x}{No.\\:contactos\\:identificados\\:por\\:comuna\\:1er\\:establecimiento\\:semana\\:x}x100$\n",
    "\n",
    "**Cálculo del indicador a nivel regional**\n",
    "\n",
    "$\\frac{No.\\:contactos\\:identificados\\:investigados\\:dentro\\:de\\:48hrs\\:por\\:región\\:1er\\:establecimiento\\:semana\\:x}{No.\\:contactos\\:identificados\\:por\\:región\\:1er\\:establecimiento\\:semana\\:x}x100$"
   ]
  },
  {
   "cell_type": "markdown",
   "id": "315e67aa",
   "metadata": {},
   "source": [
    "**Observaciones**\n",
    "\n",
    "- No se incluyen los contactos nuevos no notificados\n",
    "- Se considera como registro de contacto aquel que cumple las condiciones para estar en la bandeja de seguimiento\n",
    "- Se consideran sólo registros de casos activos o egresados en la bandeja de seguimiento\n",
    "- El primer establecimiento corresponde al establecimiento dado por API FONASA. Si el registro no hace match con API FONASA, se considera el establecimiento para este indicador, aún si se derivó previo a la investigación epidemiológica"
   ]
  },
  {
   "cell_type": "code",
   "execution_count": null,
   "id": "22039d18",
   "metadata": {},
   "outputs": [],
   "source": []
  },
  {
   "cell_type": "markdown",
   "id": "d9b1fa0f",
   "metadata": {},
   "source": [
    "# Indicador 8: Casos en seguimiento\n",
    "\n",
    "## Objetivo: Evaluar la capacidad de seguimiento de casos\n",
    "\n",
    "### Meta: >90%\n",
    "\n",
    "**Periodicidad:** Semanal\n",
    "\n",
    "**Escala territorial:** Comuna, Regional, Nacional\n",
    "\n",
    "**Fuente de Información:** base EPIVIGILA actualizada con los reportes de laboratorio al día de la determinación del indicador. Base de seguimiento"
   ]
  },
  {
   "cell_type": "markdown",
   "id": "3455a38b",
   "metadata": {},
   "source": [
    "### Cálculo del indicador a nivel comunal\n",
    "\n",
    "$\\frac{No.\\:casos\\:activos\\:investigados\\:con\\:seguimiento\\:según\\:protocolo\\:por\\:comuna\\:último\\:establecimiento\\:semana\\:x}{No.\\:casos\\:nuevos\\:registrados\\:por\\:comuna\\:ultimo\\:establecimiento\\:semana\\:x}x100$"
   ]
  },
  {
   "cell_type": "markdown",
   "id": "2940929e",
   "metadata": {},
   "source": [
    "### Cálculo del indicador a nivel regional\n",
    "\n",
    "$\\frac{No.\\:casos\\:activos\\:investigados\\:con\\:seguimiento\\:según\\:protocolo\\:por\\:región\\:último\\:establecimiento\\:semana\\:x}{No.\\:casos\\:nuevos\\:registrados\\:por\\:región\\:ultimo\\:establecimiento\\:semana\\:x}x100$"
   ]
  },
  {
   "cell_type": "markdown",
   "id": "6a418521",
   "metadata": {},
   "source": [
    "**Observación**\n",
    "\n",
    "- No se incluyen los casos nuevos no notificados (\"casos reportados por laboratorio\")\n",
    "- Se considera un caso activo como aquel caso notificado que cumple la definición de caso activo, con fecha de notificación en la semana de interés\n",
    "- Se consideran sólo registros activos o egresados en la bandeja de seguimiento\n",
    "- Según protocolo implica un seguimiento diario por día de seguimineto, desde el inicio de seguimiento y se valora de forma dicotómica (cumple o no cumple el protocolo de seguimiento)\n",
    "- Por seguimiento diario se entiende que diariamente, se debe realizar una actividad de seguimiento (la cual puede ser exitosa o no)"
   ]
  },
  {
   "cell_type": "code",
   "execution_count": null,
   "id": "19d883f9",
   "metadata": {},
   "outputs": [],
   "source": []
  },
  {
   "cell_type": "markdown",
   "id": "4c93996d",
   "metadata": {},
   "source": [
    "# Indicador 10: Contactos con al menos 2 seguimientos dentro de su periodo de cuarentena de 14 días\n",
    "\n",
    "## Objetivo: Evaluar la capacidad de seguimiento de contactos estrechos\n",
    "\n",
    "### Meta: >90%\n",
    "\n",
    "**Periodicidad:** Semanal\n",
    "\n",
    "**Escala territorial:** Comuna, Regional, Nacional\n",
    "\n",
    "**Fuente de información:** Base de seguimiento"
   ]
  },
  {
   "cell_type": "markdown",
   "id": "f6a1b369",
   "metadata": {},
   "source": [
    "### Cálculo del indicador a nivel comunal\n",
    "\n",
    "$\\frac{No.\\:contactos\\:que\\:cumplieron\\:cuarentena\\:con\\:al\\:menos\\:2\\:seguimientos\\:por\\:comuna\\:último\\:establecimiento\\:semana\\:x}{No.\\:contactos\\:que\\:cumplieron\\:cuarentena\\:por\\:comuna\\:ultimo\\:establecimiento\\:semana\\:x}x100$"
   ]
  },
  {
   "cell_type": "markdown",
   "id": "de0e6681",
   "metadata": {},
   "source": [
    "### Cálculo del indicador a nivel regional\n",
    "\n",
    "$\\frac{No.\\:contactos\\:que\\:cumplieron\\:cuarentena\\:con\\:al\\:menos\\:2\\:seguimientos\\:por\\:región\\:último\\:establecimiento\\:semana\\:x}{No.\\:contactos\\:que\\:cumplieron\\:cuarentena\\:por\\:región\\:ultimo\\:establecimiento\\:semana\\:x}x100$"
   ]
  },
  {
   "cell_type": "markdown",
   "id": "7f0a8a4c",
   "metadata": {},
   "source": [
    "**Observación**\n",
    "\n",
    "- El indicador se construye sobre los contactos que egresan (fecha de término de cuarentena) de seguimiento, durante la semana de interés (esto es, sólo registros egresados de la bandeja de seguimiento)\n",
    "- El periodo de seguimiento para el contacto corresponde a la cantidad de días entre la 1era fecha en que el contacto está disponible en la bandeja de seguimiento hasta la última fecha fin cuarentena\n",
    "- Se cumple con el indicador si en el período de seguimiento del contacto se registran al menos 2 actividades de seguimiento (las cuales pueden ser exitosas o no)\n",
    "- Se excluyen los contactos que se transforman en caso y que están notificados (tiene folio asociado como caso)"
   ]
  },
  {
   "cell_type": "code",
   "execution_count": null,
   "id": "1d56f67d",
   "metadata": {},
   "outputs": [],
   "source": []
  }
 ],
 "metadata": {
  "kernelspec": {
   "display_name": "Python 3",
   "language": "python",
   "name": "python3"
  },
  "language_info": {
   "codemirror_mode": {
    "name": "ipython",
    "version": 3
   },
   "file_extension": ".py",
   "mimetype": "text/x-python",
   "name": "python",
   "nbconvert_exporter": "python",
   "pygments_lexer": "ipython3",
   "version": "3.8.10"
  }
 },
 "nbformat": 4,
 "nbformat_minor": 5
}
