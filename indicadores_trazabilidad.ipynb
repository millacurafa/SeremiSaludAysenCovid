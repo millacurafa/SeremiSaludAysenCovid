{
 "cells": [
  {
   "cell_type": "markdown",
   "id": "1f5a5c30",
   "metadata": {},
   "source": [
    "# Indicadores de Trazabilidad \n",
    "\n"
   ]
  },
  {
   "cell_type": "code",
   "execution_count": null,
   "id": "1c5d9a8c",
   "metadata": {},
   "outputs": [],
   "source": []
  },
  {
   "cell_type": "code",
   "execution_count": null,
   "id": "89be1896",
   "metadata": {},
   "outputs": [],
   "source": []
  },
  {
   "cell_type": "code",
   "execution_count": null,
   "id": "32ba39a3",
   "metadata": {},
   "outputs": [],
   "source": []
  },
  {
   "cell_type": "markdown",
   "id": "d3cc0efc",
   "metadata": {},
   "source": [
    "# Indicador 5: Oportunidad en la investigación epidemiológica de casos\n",
    "\n",
    "## Objetivo: Fortalecer la investigación epidemiológica de los casos\n",
    "\n",
    "### Meta: >90%\n",
    "\n",
    "**Periodicidad:** Semanal\n",
    "\n",
    "**Escala Territorial:** Comunal, Regional, Nacional\n",
    "\n",
    "**Fuente de Información:** Base EPIVIGILIA actualizada con los reportes de laboratorio al día de la determinación del indicador. Base de seguimiento"
   ]
  },
  {
   "cell_type": "markdown",
   "id": "dc411da3",
   "metadata": {},
   "source": [
    "### Cálculo del indicador a nivel comunal\n",
    "\n",
    "$\\frac{No.\\:casos\\:nuevos\\:registrados\\:investigados\\:dentro\\:de\\:48\\:hrs\\:por\\:comuna\\:1er\\:establecimiento,\\:semana\\:x}{No.\\:casos\\:nuevos\\:registrados\\:por\\:comuna\\:1er\\:establecimiento\\:semana\\:x}x100$"
   ]
  },
  {
   "cell_type": "markdown",
   "id": "5f86ba68",
   "metadata": {},
   "source": [
    "### Cálculo del indicador a nivel regional\n",
    "\n",
    "$\\frac{No.\\:casos\\:nuevos\\:registrados\\:investigados\\:dentro\\:de\\:48\\:hrs\\:por\\:región\\:1er\\:establecimiento,\\:semana\\:x}{No.\\:casos\\:nuevos\\:registrados\\:por\\:región\\:1er\\:establecimiento\\:semana\\:x}x100$"
   ]
  },
  {
   "cell_type": "markdown",
   "id": "d9cc7d30",
   "metadata": {},
   "source": [
    "**Observación**\n",
    "\n",
    "- No se incluyen los casos nuevos no notificados\n",
    "- Se considera un caso nuevo registrado a aquel caso notificado que cumple los requisitos para estar en el modulo de seguimiento\n",
    "- La fecha para determinar el inicio de seguimiento corresponde a la fecha de resultado (caso confirmado) o fecha de notificación (caso probable). Para un caso confirmado, si el resultado del test es anterior a la fecha de notificación, se debe iniciar seguimiento a partir de la fecha en que el registro está disponible en la bandeja de seguimiento.\n",
    "- Se cumple el indicador si, dentro de las 48 hrs. a partir de la fecha de inicio de seguimiento se tiene al menos una actividad de seguimiento exitosa (se logra ubicar al caso).\n",
    "- El primer establecimiento corresponde al establecimiento dado por API FONASA. Si el registro no hace match con API FONASA, se considera el establecimiento de notificación.\n",
    "- Se consideran sólo registros de casos que estén activos o egresados en la bandeja de seguimiento."
   ]
  },
  {
   "cell_type": "code",
   "execution_count": null,
   "id": "4a601674",
   "metadata": {},
   "outputs": [],
   "source": []
  },
  {
   "cell_type": "markdown",
   "id": "ed4c6c93",
   "metadata": {},
   "source": [
    "# Indicador 6: Capacidad de investigación de contactos\n",
    "\n",
    "## Objetivos: Fortalecer la investigación epidemiológica de los contactos estrechos\n",
    "\n",
    "### Meta: >80%\n",
    "\n",
    "**Periodicidad:** Semanal\n",
    "\n",
    "**Escala territorial:** Comuna, Regional, Nacional\n",
    "\n",
    "**Fuente de información:** base EPIVIGILA actualizada con los reportes de laboratorio al día de la determinación del indicador. Base de seguimiento"
   ]
  },
  {
   "cell_type": "markdown",
   "id": "0ab35ce1",
   "metadata": {},
   "source": [
    "**Cálculo del indicador a nivel comunal**\n",
    "\n",
    "$\\frac{No.\\:casos\\:nuevos\\:con\\:contactos\\:estrechos\\:por\\:comuna\\:1er\\:establecimiento\\:semana\\:x}{No.\\:casos\\:nuevos\\:por\\:comuna\\:1er\\:establecimiento\\:semana\\:x}$\n",
    "\n",
    "**Cálculo del indicador a nivel regional**\n",
    "\n",
    "$\\frac{No.\\:casos\\:nuevos\\:con\\:contactos\\:estrechos\\:por\\:región\\:1er\\:establecimiento\\:semana\\:x}{No.\\:casos\\:nuevos\\:por\\:región\\:1er\\:establecimiento\\:semana\\:x}$"
   ]
  },
  {
   "cell_type": "markdown",
   "id": "0159d75d",
   "metadata": {},
   "source": [
    "**Observaciones**\n",
    "\n",
    "- No se incluyen los casos nuevos no notificados\n",
    "- Se considera un caso nuevo registrado a aquel caso nuevo notificado que cumple los requisitos para estar en el módulo de seguimiento\n",
    "- Los casos nuevos con contactos estrechos son considerados de forma dicotómica (sí o no)\n",
    "- El primer establecimiento corresponde al establecimiento de notificación. Se seguirá considerando el primer establecimiento para este indicador, aún si se derivó previo a la investigación epidemiológica.\n",
    "- Se consideran sólo registros activos o egresados en la bandeja de seguimiento"
   ]
  },
  {
   "cell_type": "code",
   "execution_count": null,
   "id": "bac8c3b6",
   "metadata": {},
   "outputs": [],
   "source": []
  },
  {
   "cell_type": "markdown",
   "id": "3919e0fb",
   "metadata": {},
   "source": [
    "# Indicador 7: Capacidad de investigación de contactos\n",
    "\n",
    "## Objetivo: Evaluar la capacidad de seguimiento de contactos\n",
    "\n",
    "### Meta: >80%\n",
    "\n",
    "**Periodicidad:** Semanal\n",
    "\n",
    "**Escala territorial:** Comuna, Regional, Nacional\n",
    "\n",
    "**Fuente de información:** base EPIVIGILA actualizada con los reportes de laboratorio al día de la determinación del indicador. Base de seguimiento."
   ]
  },
  {
   "cell_type": "markdown",
   "id": "92513218",
   "metadata": {},
   "source": [
    "**Cálculo del indicador a nivel comunal**\n",
    "\n",
    "$\\frac{No.\\:contactos\\:identificados\\:investigados\\:dentro\\:de\\:48hrs\\:por\\:comuna\\:1er\\:establecimiento\\:semana\\:x}{No.\\:contactos\\:identificados\\:por\\:comuna\\:1er\\:establecimiento\\:semana\\:x}x100$\n",
    "\n",
    "**Cálculo del indicador a nivel regional**\n",
    "\n",
    "$\\frac{No.\\:contactos\\:identificados\\:investigados\\:dentro\\:de\\:48hrs\\:por\\:región\\:1er\\:establecimiento\\:semana\\:x}{No.\\:contactos\\:identificados\\:por\\:región\\:1er\\:establecimiento\\:semana\\:x}x100$"
   ]
  },
  {
   "cell_type": "markdown",
   "id": "9b8efff0",
   "metadata": {},
   "source": [
    "**Observaciones**\n",
    "\n",
    "- No se incluyen los contactos nuevos no notificados\n",
    "- Se considera como registro de contacto aquel que cumple las condiciones para estar en la bandeja de seguimiento\n",
    "- Se consideran sólo registros de casos activos o egresados en la bandeja de seguimiento\n",
    "- El primer establecimiento corresponde al establecimiento dado por API FONASA. Si el registro no hace match con API FONASA, se considera el establecimiento para este indicador, aún si se derivó previo a la investigación epidemiológica"
   ]
  },
  {
   "cell_type": "code",
   "execution_count": null,
   "id": "6558013c",
   "metadata": {},
   "outputs": [],
   "source": []
  },
  {
   "cell_type": "markdown",
   "id": "0ddf3bdf",
   "metadata": {},
   "source": [
    "# Indicador 8: Casos en seguimiento\n",
    "\n",
    "## Objetivo: Evaluar la capacidad de seguimiento de casos\n",
    "\n",
    "### Meta: >90%\n",
    "\n",
    "**Periodicidad:** Semanal\n",
    "\n",
    "**Escala territorial:** Comuna, Regional, Nacional\n",
    "\n",
    "**Fuente de Información:** base EPIVIGILA actualizada con los reportes de laboratorio al día de la determinación del indicador. Base de seguimiento"
   ]
  },
  {
   "cell_type": "markdown",
   "id": "6ddf2f52",
   "metadata": {},
   "source": [
    "### Cálculo del indicador a nivel comunal\n",
    "\n",
    "$\\frac{No.\\:casos\\:activos\\:investigados\\:con\\:seguimiento\\:según\\:protocolo\\:por\\:comuna\\:último\\:establecimiento\\:semana\\:x}{No.\\:casos\\:nuevos\\:registrados\\:por\\:comuna\\:ultimo\\:establecimiento\\:semana\\:x}x100$"
   ]
  },
  {
   "cell_type": "markdown",
   "id": "18416764",
   "metadata": {},
   "source": [
    "### Cálculo del indicador a nivel regional\n",
    "\n",
    "$\\frac{No.\\:casos\\:activos\\:investigados\\:con\\:seguimiento\\:según\\:protocolo\\:por\\:región\\:último\\:establecimiento\\:semana\\:x}{No.\\:casos\\:nuevos\\:registrados\\:por\\:región\\:ultimo\\:establecimiento\\:semana\\:x}x100$"
   ]
  },
  {
   "cell_type": "markdown",
   "id": "5923fdd0",
   "metadata": {},
   "source": [
    "**Observación**\n",
    "\n",
    "- No se incluyen los casos nuevos no notificados (\"casos reportados por laboratorio\")\n",
    "- Se considera un caso activo como aquel caso notificado que cumple la definición de caso activo, con fecha de notificación en la semana de interés\n",
    "- Se consideran sólo registros activos o egresados en la bandeja de seguimiento\n",
    "- Según protocolo implica un seguimiento diario por día de seguimineto, desde el inicio de seguimiento y se valora de forma dicotómica (cumple o no cumple el protocolo de seguimiento)\n",
    "- Por seguimiento diario se entiende que diariamente, se debe realizar una actividad de seguimiento (la cual puede ser exitosa o no)"
   ]
  },
  {
   "cell_type": "code",
   "execution_count": null,
   "id": "f53e06fd",
   "metadata": {},
   "outputs": [],
   "source": []
  },
  {
   "cell_type": "markdown",
   "id": "be62856c",
   "metadata": {},
   "source": [
    "# Indicador 10: Contactos con al menos 2 seguimientos dentro de su periodo de cuarentena de 14 días\n",
    "\n",
    "## Objetivo: Evaluar la capacidad de seguimiento de contactos estrechos\n",
    "\n",
    "### Meta: >90%\n",
    "\n",
    "**Periodicidad:** Semanal\n",
    "\n",
    "**Escala territorial:** Comuna, Regional, Nacional\n",
    "\n",
    "**Fuente de información:** Base de seguimiento"
   ]
  },
  {
   "cell_type": "markdown",
   "id": "265e0ad4",
   "metadata": {},
   "source": [
    "### Cálculo del indicador a nivel comunal\n",
    "\n",
    "$\\frac{No.\\:contactos\\:que\\:cumplieron\\:cuarentena\\:con\\:al\\:menos\\:2\\:seguimientos\\:por\\:comuna\\:último\\:establecimiento\\:semana\\:x}{No.\\:contactos\\:que\\:cumplieron\\:cuarentena\\:por\\:comuna\\:ultimo\\:establecimiento\\:semana\\:x}x100$"
   ]
  },
  {
   "cell_type": "markdown",
   "id": "43b94283",
   "metadata": {},
   "source": [
    "### Cálculo del indicador a nivel regional\n",
    "\n",
    "$\\frac{No.\\:contactos\\:que\\:cumplieron\\:cuarentena\\:con\\:al\\:menos\\:2\\:seguimientos\\:por\\:región\\:último\\:establecimiento\\:semana\\:x}{No.\\:contactos\\:que\\:cumplieron\\:cuarentena\\:por\\:región\\:ultimo\\:establecimiento\\:semana\\:x}x100$"
   ]
  },
  {
   "cell_type": "markdown",
   "id": "224a3f00",
   "metadata": {},
   "source": [
    "**Observación**\n",
    "\n",
    "- El indicador se construye sobre los contactos que egresan (fecha de término de cuarentena) de seguimiento, durante la semana de interés (esto es, sólo registros egresados de la bandeja de seguimiento)\n",
    "- El periodo de seguimiento para el contacto corresponde a la cantidad de días entre la 1era fecha en que el contacto está disponible en la bandeja de seguimiento hasta la última fecha fin cuarentena\n",
    "- Se cumple con el indicador si en el período de seguimiento del contacto se registran al menos 2 actividades de seguimiento (las cuales pueden ser exitosas o no)\n",
    "- Se excluyen los contactos que se transforman en caso y que están notificados (tiene folio asociado como caso)"
   ]
  },
  {
   "cell_type": "code",
   "execution_count": null,
   "id": "4e83a15f",
   "metadata": {},
   "outputs": [],
   "source": []
  }
 ],
 "metadata": {
  "kernelspec": {
   "display_name": "Python 3",
   "language": "python",
   "name": "python3"
  },
  "language_info": {
   "codemirror_mode": {
    "name": "ipython",
    "version": 3
   },
   "file_extension": ".py",
   "mimetype": "text/x-python",
   "name": "python",
   "nbconvert_exporter": "python",
   "pygments_lexer": "ipython3",
   "version": "3.8.10"
  }
 },
 "nbformat": 4,
 "nbformat_minor": 5
}
