{
 "cells": [
  {
   "cell_type": "markdown",
   "id": "755448c9",
   "metadata": {},
   "source": [
    "# Indicadores de Trazabilidad \n",
    "\n"
   ]
  },
  {
   "cell_type": "markdown",
   "id": "c22b954e",
   "metadata": {},
   "source": [
    "## Importación de datos, librerias"
   ]
  },
  {
   "cell_type": "code",
   "execution_count": 3,
   "id": "cd41340a",
   "metadata": {},
   "outputs": [],
   "source": [
    "# Importa librerias necesarias para el análisis\n",
    "\n",
    "import pandas as pd\n",
    "import numpy as np\n",
    "import plotly.express as px"
   ]
  },
  {
   "cell_type": "code",
   "execution_count": 5,
   "id": "91faa32e",
   "metadata": {
    "scrolled": true
   },
   "outputs": [
    {
     "data": {
      "text/html": [
       "<div>\n",
       "<style scoped>\n",
       "    .dataframe tbody tr th:only-of-type {\n",
       "        vertical-align: middle;\n",
       "    }\n",
       "\n",
       "    .dataframe tbody tr th {\n",
       "        vertical-align: top;\n",
       "    }\n",
       "\n",
       "    .dataframe thead th {\n",
       "        text-align: right;\n",
       "    }\n",
       "</style>\n",
       "<table border=\"1\" class=\"dataframe\">\n",
       "  <thead>\n",
       "    <tr style=\"text-align: right;\">\n",
       "      <th></th>\n",
       "      <th>Unnamed: 0</th>\n",
       "      <th>orden</th>\n",
       "      <th>nombre_region</th>\n",
       "      <th>codigo_region</th>\n",
       "      <th>nombre_provincia</th>\n",
       "      <th>codigo_provincia</th>\n",
       "      <th>nombre_comuna</th>\n",
       "      <th>codigo_comuna</th>\n",
       "      <th>edad_hombres</th>\n",
       "      <th>edad_mujeres</th>\n",
       "      <th>total</th>\n",
       "    </tr>\n",
       "  </thead>\n",
       "  <tbody>\n",
       "    <tr>\n",
       "      <th>0</th>\n",
       "      <td>0</td>\n",
       "      <td>7172</td>\n",
       "      <td>Región de Aysén del General Carlos Ibáñez del ...</td>\n",
       "      <td>11</td>\n",
       "      <td>Coyhaique</td>\n",
       "      <td>111</td>\n",
       "      <td>Coyhaique</td>\n",
       "      <td>11101</td>\n",
       "      <td>28763</td>\n",
       "      <td>29055</td>\n",
       "      <td>57818</td>\n",
       "    </tr>\n",
       "    <tr>\n",
       "      <th>1</th>\n",
       "      <td>1</td>\n",
       "      <td>7194</td>\n",
       "      <td>Región de Aysén del General Carlos Ibáñez del ...</td>\n",
       "      <td>11</td>\n",
       "      <td>Coyhaique</td>\n",
       "      <td>111</td>\n",
       "      <td>Lago Verde</td>\n",
       "      <td>11102</td>\n",
       "      <td>494</td>\n",
       "      <td>358</td>\n",
       "      <td>852</td>\n",
       "    </tr>\n",
       "  </tbody>\n",
       "</table>\n",
       "</div>"
      ],
      "text/plain": [
       "   Unnamed: 0  orden                                      nombre_region  \\\n",
       "0           0   7172  Región de Aysén del General Carlos Ibáñez del ...   \n",
       "1           1   7194  Región de Aysén del General Carlos Ibáñez del ...   \n",
       "\n",
       "   codigo_region nombre_provincia  codigo_provincia nombre_comuna  \\\n",
       "0             11        Coyhaique               111     Coyhaique   \n",
       "1             11        Coyhaique               111    Lago Verde   \n",
       "\n",
       "   codigo_comuna  edad_hombres  edad_mujeres  total  \n",
       "0          11101         28763         29055  57818  \n",
       "1          11102           494           358    852  "
      ]
     },
     "execution_count": 5,
     "metadata": {},
     "output_type": "execute_result"
    }
   ],
   "source": [
    "# Importa datos de población regional y crea DF\n",
    "\n",
    "\n",
    "df_poblacion = pd.read_csv('data/aysen_population.csv') #Archivo ubicado dentro de la carpeta data\n",
    "\n",
    "df_poblacion.head(2)"
   ]
  },
  {
   "cell_type": "code",
   "execution_count": 6,
   "id": "bcda244c",
   "metadata": {},
   "outputs": [
    {
     "data": {
      "text/html": [
       "<div>\n",
       "<style scoped>\n",
       "    .dataframe tbody tr th:only-of-type {\n",
       "        vertical-align: middle;\n",
       "    }\n",
       "\n",
       "    .dataframe tbody tr th {\n",
       "        vertical-align: top;\n",
       "    }\n",
       "\n",
       "    .dataframe thead th {\n",
       "        text-align: right;\n",
       "    }\n",
       "</style>\n",
       "<table border=\"1\" class=\"dataframe\">\n",
       "  <thead>\n",
       "    <tr style=\"text-align: right;\">\n",
       "      <th></th>\n",
       "      <th>establecimiento_salud</th>\n",
       "      <th>comuna_seremi_xi</th>\n",
       "      <th>provincia_seremi_xi</th>\n",
       "    </tr>\n",
       "  </thead>\n",
       "  <tbody>\n",
       "    <tr>\n",
       "      <th>0</th>\n",
       "      <td>Actividades gestionadas por la Dirección del S...</td>\n",
       "      <td>Coyhaique</td>\n",
       "      <td>Coyhaique</td>\n",
       "    </tr>\n",
       "    <tr>\n",
       "      <th>1</th>\n",
       "      <td>Centro Clínico Militar Coyhaique</td>\n",
       "      <td>Coyhaique</td>\n",
       "      <td>Coyhaique</td>\n",
       "    </tr>\n",
       "    <tr>\n",
       "      <th>2</th>\n",
       "      <td>Centro Comunitario de Salud Familiar  Villa Ma...</td>\n",
       "      <td>Aysen</td>\n",
       "      <td>Aysen</td>\n",
       "    </tr>\n",
       "    <tr>\n",
       "      <th>3</th>\n",
       "      <td>Centro Comunitario de Salud Familiar Alejandro...</td>\n",
       "      <td>Coyhaique</td>\n",
       "      <td>Coyhaique</td>\n",
       "    </tr>\n",
       "    <tr>\n",
       "      <th>4</th>\n",
       "      <td>Centro Comunitario de Salud Familiar Puerto Ch...</td>\n",
       "      <td>Aysen</td>\n",
       "      <td>Aysen</td>\n",
       "    </tr>\n",
       "  </tbody>\n",
       "</table>\n",
       "</div>"
      ],
      "text/plain": [
       "                               establecimiento_salud comuna_seremi_xi  \\\n",
       "0  Actividades gestionadas por la Dirección del S...        Coyhaique   \n",
       "1                   Centro Clínico Militar Coyhaique        Coyhaique   \n",
       "2  Centro Comunitario de Salud Familiar  Villa Ma...            Aysen   \n",
       "3  Centro Comunitario de Salud Familiar Alejandro...        Coyhaique   \n",
       "4  Centro Comunitario de Salud Familiar Puerto Ch...            Aysen   \n",
       "\n",
       "  provincia_seremi_xi  \n",
       "0           Coyhaique  \n",
       "1           Coyhaique  \n",
       "2               Aysen  \n",
       "3           Coyhaique  \n",
       "4               Aysen  "
      ]
     },
     "execution_count": 6,
     "metadata": {},
     "output_type": "execute_result"
    }
   ],
   "source": [
    "# Importa datos de comunas corregidas por establecimiento de salud\n",
    "\n",
    "df_establecimiento = pd.read_excel('data/establecimientos_salud_dict.xlsx') #Archivo ubicado dentro de la carpeta data\n",
    "\n",
    "\n",
    "df_establecimiento.head()"
   ]
  },
  {
   "cell_type": "code",
   "execution_count": 7,
   "id": "d1e958de",
   "metadata": {},
   "outputs": [],
   "source": [
    "# Importa datos desde la base de datos recivida via FTP\n",
    "## PRIMERO: Guardar archivo dentro de la carpeta data\n",
    "## SEGUNDO: No cambiar nombre ni formato del archivo recibido\n",
    "## TERCERO: RECORDAR CAMBIAR FECHA EN EL ARCHIVO A IMPORTAR A CONTINUACION, i.e: 20210829 para este domingo 29 de Agosto 2021\n",
    "\n",
    "df =  pd.read_csv('data/20210830_Región de Aysén del General Carlos Ibáñez del Campo_notificaciones_0600.csv', \n",
    "                   sep='~', # CSV con separador ''~''\n",
    "                   low_memory=False\n",
    "                  )"
   ]
  },
  {
   "cell_type": "markdown",
   "id": "c15d2fba",
   "metadata": {},
   "source": [
    "##  limpieza y ordenamiento "
   ]
  },
  {
   "cell_type": "code",
   "execution_count": 9,
   "id": "76b6388f",
   "metadata": {},
   "outputs": [],
   "source": [
    "# Une datos con diccionario comunal\n",
    "\n",
    "dff = df.merge(df_establecimiento, how='left')"
   ]
  },
  {
   "cell_type": "code",
   "execution_count": 10,
   "id": "d9427c64",
   "metadata": {},
   "outputs": [],
   "source": [
    "# Integra datos poblacionales\n",
    "\n",
    "df_merged = dff.merge(df_poblacion.drop(columns= ['Unnamed: 0','orden','nombre_region', 'codigo_region', 'nombre_provincia','codigo_provincia']), left_on='comuna_seremi_xi', right_on='nombre_comuna', how='left' )"
   ]
  },
  {
   "cell_type": "code",
   "execution_count": 11,
   "id": "fc43f8ff",
   "metadata": {},
   "outputs": [
    {
     "data": {
      "text/html": [
       "<div>\n",
       "<style scoped>\n",
       "    .dataframe tbody tr th:only-of-type {\n",
       "        vertical-align: middle;\n",
       "    }\n",
       "\n",
       "    .dataframe tbody tr th {\n",
       "        vertical-align: top;\n",
       "    }\n",
       "\n",
       "    .dataframe thead th {\n",
       "        text-align: right;\n",
       "    }\n",
       "</style>\n",
       "<table border=\"1\" class=\"dataframe\">\n",
       "  <thead>\n",
       "    <tr style=\"text-align: right;\">\n",
       "      <th></th>\n",
       "      <th>id_formulario_eno</th>\n",
       "      <th>numero_folio</th>\n",
       "      <th>id_enfermedad_eno</th>\n",
       "      <th>enfermedad_notificada</th>\n",
       "      <th>semana_epidemiologica</th>\n",
       "      <th>fecha_notificacion</th>\n",
       "      <th>etapa_clinica</th>\n",
       "      <th>establecimiento_salud</th>\n",
       "      <th>region</th>\n",
       "      <th>seremi</th>\n",
       "      <th>...</th>\n",
       "      <th>tac_torax_covid</th>\n",
       "      <th>condicion</th>\n",
       "      <th>region_separacion</th>\n",
       "      <th>comuna_seremi_xi</th>\n",
       "      <th>provincia_seremi_xi</th>\n",
       "      <th>nombre_comuna</th>\n",
       "      <th>codigo_comuna</th>\n",
       "      <th>edad_hombres</th>\n",
       "      <th>edad_mujeres</th>\n",
       "      <th>total</th>\n",
       "    </tr>\n",
       "  </thead>\n",
       "  <tbody>\n",
       "    <tr>\n",
       "      <th>0</th>\n",
       "      <td>100166</td>\n",
       "      <td>50166</td>\n",
       "      <td>50</td>\n",
       "      <td>Coronavirus (COVID-19)</td>\n",
       "      <td>11</td>\n",
       "      <td>2020-03-12</td>\n",
       "      <td>DESCARTADA</td>\n",
       "      <td>Hospital Regional (Coihaique)</td>\n",
       "      <td>Región de Aysén del General Carlos Ibáñez del ...</td>\n",
       "      <td>SEREMI De Aisén del General Carlos Ibañez del ...</td>\n",
       "      <td>...</td>\n",
       "      <td>NaN</td>\n",
       "      <td>NaN</td>\n",
       "      <td>Región de Aysén del General Carlos Ibáñez del ...</td>\n",
       "      <td>Coyhaique</td>\n",
       "      <td>Coyhaique</td>\n",
       "      <td>Coyhaique</td>\n",
       "      <td>11101.0</td>\n",
       "      <td>28763.0</td>\n",
       "      <td>29055.0</td>\n",
       "      <td>57818.0</td>\n",
       "    </tr>\n",
       "  </tbody>\n",
       "</table>\n",
       "<p>1 rows × 282 columns</p>\n",
       "</div>"
      ],
      "text/plain": [
       "   id_formulario_eno  numero_folio  id_enfermedad_eno   enfermedad_notificada  \\\n",
       "0             100166         50166                 50  Coronavirus (COVID-19)   \n",
       "\n",
       "   semana_epidemiologica fecha_notificacion etapa_clinica  \\\n",
       "0                     11         2020-03-12    DESCARTADA   \n",
       "\n",
       "           establecimiento_salud  \\\n",
       "0  Hospital Regional (Coihaique)   \n",
       "\n",
       "                                              region  \\\n",
       "0  Región de Aysén del General Carlos Ibáñez del ...   \n",
       "\n",
       "                                              seremi  ... tac_torax_covid  \\\n",
       "0  SEREMI De Aisén del General Carlos Ibañez del ...  ...             NaN   \n",
       "\n",
       "  condicion                                  region_separacion  \\\n",
       "0       NaN  Región de Aysén del General Carlos Ibáñez del ...   \n",
       "\n",
       "  comuna_seremi_xi provincia_seremi_xi nombre_comuna codigo_comuna  \\\n",
       "0        Coyhaique           Coyhaique     Coyhaique       11101.0   \n",
       "\n",
       "  edad_hombres edad_mujeres    total  \n",
       "0      28763.0      29055.0  57818.0  \n",
       "\n",
       "[1 rows x 282 columns]"
      ]
     },
     "execution_count": 11,
     "metadata": {},
     "output_type": "execute_result"
    }
   ],
   "source": [
    "# Filtra datos obtenidos solo para pacientes con residencia en la Región de Aysén\n",
    "\n",
    "data_aysen = df_merged[df_merged['region_residencia'] == 'Región de Aysén del General Carlos Ibáñez del Campo']\n",
    "\n",
    "data_aysen.head(1)"
   ]
  },
  {
   "cell_type": "code",
   "execution_count": 13,
   "id": "3c23738f",
   "metadata": {},
   "outputs": [
    {
     "data": {
      "text/html": [
       "<div>\n",
       "<style scoped>\n",
       "    .dataframe tbody tr th:only-of-type {\n",
       "        vertical-align: middle;\n",
       "    }\n",
       "\n",
       "    .dataframe tbody tr th {\n",
       "        vertical-align: top;\n",
       "    }\n",
       "\n",
       "    .dataframe thead th {\n",
       "        text-align: right;\n",
       "    }\n",
       "</style>\n",
       "<table border=\"1\" class=\"dataframe\">\n",
       "  <thead>\n",
       "    <tr style=\"text-align: right;\">\n",
       "      <th></th>\n",
       "      <th>id_formulario_eno</th>\n",
       "      <th>numero_folio</th>\n",
       "      <th>id_enfermedad_eno</th>\n",
       "      <th>enfermedad_notificada</th>\n",
       "      <th>semana_epidemiologica</th>\n",
       "      <th>fecha_notificacion</th>\n",
       "      <th>etapa_clinica</th>\n",
       "      <th>establecimiento_salud</th>\n",
       "      <th>region</th>\n",
       "      <th>seremi</th>\n",
       "      <th>...</th>\n",
       "      <th>tac_torax_covid</th>\n",
       "      <th>condicion</th>\n",
       "      <th>region_separacion</th>\n",
       "      <th>comuna_seremi_xi</th>\n",
       "      <th>provincia_seremi_xi</th>\n",
       "      <th>nombre_comuna</th>\n",
       "      <th>codigo_comuna</th>\n",
       "      <th>pop_hombres</th>\n",
       "      <th>pop_mujeres</th>\n",
       "      <th>pop_total</th>\n",
       "    </tr>\n",
       "  </thead>\n",
       "  <tbody>\n",
       "    <tr>\n",
       "      <th>44659</th>\n",
       "      <td>6609485</td>\n",
       "      <td>6559485</td>\n",
       "      <td>50</td>\n",
       "      <td>Coronavirus (COVID-19)</td>\n",
       "      <td>1</td>\n",
       "      <td>2021-01-06</td>\n",
       "      <td>DESCARTADA</td>\n",
       "      <td>Hospital Lord Cochrane</td>\n",
       "      <td>Región de Aysén del General Carlos Ibáñez del ...</td>\n",
       "      <td>SEREMI De Aisén del General Carlos Ibañez del ...</td>\n",
       "      <td>...</td>\n",
       "      <td>NO</td>\n",
       "      <td>NaN</td>\n",
       "      <td>Región de Aysén del General Carlos Ibáñez del ...</td>\n",
       "      <td>Cochrane</td>\n",
       "      <td>Capitan Prat</td>\n",
       "      <td>Cochrane</td>\n",
       "      <td>11301.0</td>\n",
       "      <td>1902.0</td>\n",
       "      <td>1588.0</td>\n",
       "      <td>3490.0</td>\n",
       "    </tr>\n",
       "  </tbody>\n",
       "</table>\n",
       "<p>1 rows × 282 columns</p>\n",
       "</div>"
      ],
      "text/plain": [
       "       id_formulario_eno  numero_folio  id_enfermedad_eno  \\\n",
       "44659            6609485       6559485                 50   \n",
       "\n",
       "        enfermedad_notificada  semana_epidemiologica fecha_notificacion  \\\n",
       "44659  Coronavirus (COVID-19)                      1         2021-01-06   \n",
       "\n",
       "      etapa_clinica   establecimiento_salud  \\\n",
       "44659    DESCARTADA  Hospital Lord Cochrane   \n",
       "\n",
       "                                                  region  \\\n",
       "44659  Región de Aysén del General Carlos Ibáñez del ...   \n",
       "\n",
       "                                                  seremi  ... tac_torax_covid  \\\n",
       "44659  SEREMI De Aisén del General Carlos Ibañez del ...  ...              NO   \n",
       "\n",
       "      condicion                                  region_separacion  \\\n",
       "44659       NaN  Región de Aysén del General Carlos Ibáñez del ...   \n",
       "\n",
       "      comuna_seremi_xi provincia_seremi_xi nombre_comuna codigo_comuna  \\\n",
       "44659         Cochrane        Capitan Prat      Cochrane       11301.0   \n",
       "\n",
       "      pop_hombres pop_mujeres pop_total  \n",
       "44659      1902.0      1588.0    3490.0  \n",
       "\n",
       "[1 rows x 282 columns]"
      ]
     },
     "execution_count": 13,
     "metadata": {},
     "output_type": "execute_result"
    }
   ],
   "source": [
    "data_aysen_filtered = data_aysen[(data_aysen['estado_caso']!='No validada')&(\n",
    "                          data_aysen['vigente_no_eliminado']==True)&(\n",
    "                          data_aysen['seremi']=='SEREMI De Aisén del General Carlos Ibañez del Campo')\n",
    "                       ].rename(columns={'edad_hombres':'pop_hombres',\n",
    "                                         'edad_mujeres':'pop_mujeres',\n",
    "                                         'total':'pop_total'})\n",
    "\n",
    "data_aysen_filtered.sample(1)"
   ]
  },
  {
   "cell_type": "code",
   "execution_count": 16,
   "id": "f284e859",
   "metadata": {},
   "outputs": [],
   "source": [
    "# Transforma Fechas a formato DateTime \n",
    "\n",
    "data_aysen_filtered['fecha_notificacion'] = pd.to_datetime(data_aysen_filtered['fecha_notificacion'], errors = 'coerce') \n",
    "\n",
    "data_aysen_filtered['fecha_toma_muestra_1'] = pd.to_datetime(data_aysen_filtered['fecha_toma_muestra_1'], errors = 'coerce')\n",
    "\n",
    "data_aysen_filtered['fecha_toma_muestra_2'] = pd.to_datetime(data_aysen_filtered['fecha_toma_muestra_2'], errors = 'coerce')\n",
    "\n",
    "data_aysen_filtered['fecha_toma_muestra_3'] = pd.to_datetime(data_aysen_filtered['fecha_toma_muestra_3'], errors = 'coerce')\n",
    "\n",
    "data_aysen_filtered['fecha_resultado_pcr_1'] = pd.to_datetime(data_aysen_filtered['fecha_resultado_pcr_1'], errors = 'coerce')\n",
    "\n",
    "data_aysen_filtered['fecha_resultado_pcr_2'] = pd.to_datetime(data_aysen_filtered['fecha_resultado_pcr_2'], errors = 'coerce')\n",
    "\n",
    "data_aysen_filtered['fecha_resultado_pcr_3'] = pd.to_datetime(data_aysen_filtered['fecha_resultado_pcr_3'], errors = 'coerce')"
   ]
  },
  {
   "cell_type": "code",
   "execution_count": 76,
   "id": "45b81e16",
   "metadata": {},
   "outputs": [
    {
     "data": {
      "text/html": [
       "<div>\n",
       "<style scoped>\n",
       "    .dataframe tbody tr th:only-of-type {\n",
       "        vertical-align: middle;\n",
       "    }\n",
       "\n",
       "    .dataframe tbody tr th {\n",
       "        vertical-align: top;\n",
       "    }\n",
       "\n",
       "    .dataframe thead th {\n",
       "        text-align: right;\n",
       "    }\n",
       "</style>\n",
       "<table border=\"1\" class=\"dataframe\">\n",
       "  <thead>\n",
       "    <tr style=\"text-align: right;\">\n",
       "      <th></th>\n",
       "      <th>0</th>\n",
       "    </tr>\n",
       "  </thead>\n",
       "  <tbody>\n",
       "  </tbody>\n",
       "</table>\n",
       "</div>"
      ],
      "text/plain": [
       "Empty DataFrame\n",
       "Columns: [0]\n",
       "Index: []"
      ]
     },
     "execution_count": 76,
     "metadata": {},
     "output_type": "execute_result"
    }
   ],
   "source": [
    "# Muestra variables presente en DB en formato DF\n",
    "\n",
    "s=pd.DataFrame(data_aysen_filtered.columns)\n",
    "\n",
    "s[s[0]=='cont_estado_seguimiento']\n"
   ]
  },
  {
   "cell_type": "code",
   "execution_count": 56,
   "id": "c54069eb",
   "metadata": {},
   "outputs": [],
   "source": [
    "# Selecciona variables de importancia\n",
    "\n",
    "data_aysen_clean =  data_aysen_filtered[[\n",
    "                                'numero_folio',\n",
    "                                'comuna_residencia',\n",
    "                                'fecha_notificacion',\n",
    "                                'semana_epidemiologica',\n",
    "                                'etapa_clinica',\n",
    "                                'tipo_caso_busqueda',\n",
    "                                'establecimiento_salud',\n",
    "                                'resultado_pcr_1',\n",
    "                                'resultado_pcr_2',\n",
    "                                'resultado_pcr_3',\n",
    "                                'fecha_toma_muestra_1',\n",
    "                                'fecha_toma_muestra_2',\n",
    "                                'fecha_toma_muestra_3',\n",
    "                                'fecha_resultado_pcr_1',\n",
    "                                'fecha_resultado_pcr_2',\n",
    "                                'fecha_resultado_pcr_3',\n",
    "                                'estado_paciente',\n",
    "                                'lugar_reposo',\n",
    "                                'estado_caso',\n",
    "                                'presentacion_clinica',\n",
    "                                'fecha_primeros_sintomas',\n",
    "                                'fecha_diagnostico',\n",
    "                                'comuna_seremi_xi',\n",
    "                                'provincia_seremi_xi',\n",
    "                                'pop_hombres',\n",
    "                                'pop_mujeres',\n",
    "                                'pop_total'\n",
    "                               ]]"
   ]
  },
  {
   "cell_type": "code",
   "execution_count": null,
   "id": "80b2cb4f",
   "metadata": {},
   "outputs": [],
   "source": [
    "# Agrega 53 semanas a las semanas de 2021 y crea semana_epidemiologica_21\n",
    "\n",
    "data_aysen_clean1 = data_aysen_clean[data_aysen_clean['fecha_notificacion']<=pd.to_datetime('2021-01-02')]\n",
    "data_aysen_clean2 = data_aysen_clean[data_aysen_clean['fecha_notificacion']>=pd.to_datetime('2021-01-03')]\n",
    "\n",
    "\n",
    "data_aysen_clean1['semana_epidemiologica_21'] = data_aysen_clean1['semana_epidemiologica']\n",
    "data_aysen_clean2['semana_epidemiologica_21'] = data_aysen_clean2['semana_epidemiologica']+53\n",
    "\n",
    "data_aysen_clean_21 = data_aysen_clean1.append(data_aysen_clean2, ignore_index=True)\n"
   ]
  },
  {
   "cell_type": "markdown",
   "id": "881f80c0",
   "metadata": {},
   "source": [
    "# Indicador 5: Oportunidad en la investigación epidemiológica de casos\n",
    "\n",
    "## Objetivo: Fortalecer la investigación epidemiológica de los casos\n",
    "\n",
    "### Meta: >90%\n",
    "\n",
    "**Periodicidad:** Semanal\n",
    "\n",
    "**Escala Territorial:** Comunal, Regional, Nacional\n",
    "\n",
    "**Fuente de Información:** Base EPIVIGILIA actualizada con los reportes de laboratorio al día de la determinación del indicador. Base de seguimiento"
   ]
  },
  {
   "cell_type": "markdown",
   "id": "dbe2f4c0",
   "metadata": {},
   "source": [
    "### Cálculo del indicador a nivel comunal\n",
    "\n",
    "$\\frac{No.\\:casos\\:nuevos\\:registrados\\:investigados\\:dentro\\:de\\:48\\:hrs\\:por\\:comuna\\:1er\\:establecimiento,\\:semana\\:x}{No.\\:casos\\:nuevos\\:registrados\\:por\\:comuna\\:1er\\:establecimiento\\:semana\\:x}x100$"
   ]
  },
  {
   "cell_type": "markdown",
   "id": "c31c988b",
   "metadata": {},
   "source": [
    "### Cálculo del indicador a nivel regional\n",
    "\n",
    "$\\frac{No.\\:casos\\:nuevos\\:registrados\\:investigados\\:dentro\\:de\\:48\\:hrs\\:por\\:región\\:1er\\:establecimiento,\\:semana\\:x}{No.\\:casos\\:nuevos\\:registrados\\:por\\:región\\:1er\\:establecimiento\\:semana\\:x}x100$"
   ]
  },
  {
   "cell_type": "markdown",
   "id": "d5725cb9",
   "metadata": {},
   "source": [
    "**Observación**\n",
    "\n",
    "- No se incluyen los casos nuevos no notificados\n",
    "- Se considera un caso nuevo registrado a aquel caso notificado que cumple los requisitos para estar en el modulo de seguimiento\n",
    "- La fecha para determinar el inicio de seguimiento corresponde a la fecha de resultado (caso confirmado) o fecha de notificación (caso probable). Para un caso confirmado, si el resultado del test es anterior a la fecha de notificación, se debe iniciar seguimiento a partir de la fecha en que el registro está disponible en la bandeja de seguimiento.\n",
    "- Se cumple el indicador si, dentro de las 48 hrs. a partir de la fecha de inicio de seguimiento se tiene al menos una actividad de seguimiento exitosa (se logra ubicar al caso).\n",
    "- El primer establecimiento corresponde al establecimiento dado por API FONASA. Si el registro no hace match con API FONASA, se considera el establecimiento de notificación.\n",
    "- Se consideran sólo registros de casos que estén activos o egresados en la bandeja de seguimiento."
   ]
  },
  {
   "cell_type": "code",
   "execution_count": null,
   "id": "2322a039",
   "metadata": {},
   "outputs": [],
   "source": []
  },
  {
   "cell_type": "markdown",
   "id": "dffbf235",
   "metadata": {},
   "source": [
    "# Indicador 6: Capacidad de investigación de contactos\n",
    "\n",
    "## Objetivos: Fortalecer la investigación epidemiológica de los contactos estrechos\n",
    "\n",
    "### Meta: >80%\n",
    "\n",
    "**Periodicidad:** Semanal\n",
    "\n",
    "**Escala territorial:** Comuna, Regional, Nacional\n",
    "\n",
    "**Fuente de información:** base EPIVIGILA actualizada con los reportes de laboratorio al día de la determinación del indicador. Base de seguimiento"
   ]
  },
  {
   "cell_type": "markdown",
   "id": "80769f22",
   "metadata": {},
   "source": [
    "**Cálculo del indicador a nivel comunal**\n",
    "\n",
    "$\\frac{No.\\:casos\\:nuevos\\:con\\:contactos\\:estrechos\\:por\\:comuna\\:1er\\:establecimiento\\:semana\\:x}{No.\\:casos\\:nuevos\\:por\\:comuna\\:1er\\:establecimiento\\:semana\\:x}$\n",
    "\n",
    "**Cálculo del indicador a nivel regional**\n",
    "\n",
    "$\\frac{No.\\:casos\\:nuevos\\:con\\:contactos\\:estrechos\\:por\\:región\\:1er\\:establecimiento\\:semana\\:x}{No.\\:casos\\:nuevos\\:por\\:región\\:1er\\:establecimiento\\:semana\\:x}$"
   ]
  },
  {
   "cell_type": "markdown",
   "id": "3fb1dfe0",
   "metadata": {},
   "source": [
    "**Observaciones**\n",
    "\n",
    "- No se incluyen los casos nuevos no notificados\n",
    "- Se considera un caso nuevo registrado a aquel caso nuevo notificado que cumple los requisitos para estar en el módulo de seguimiento\n",
    "- Los casos nuevos con contactos estrechos son considerados de forma dicotómica (sí o no)\n",
    "- El primer establecimiento corresponde al establecimiento de notificación. Se seguirá considerando el primer establecimiento para este indicador, aún si se derivó previo a la investigación epidemiológica.\n",
    "- Se consideran sólo registros activos o egresados en la bandeja de seguimiento"
   ]
  },
  {
   "cell_type": "code",
   "execution_count": null,
   "id": "a0c78029",
   "metadata": {},
   "outputs": [],
   "source": []
  },
  {
   "cell_type": "markdown",
   "id": "761d013c",
   "metadata": {},
   "source": [
    "# Indicador 7: Capacidad de investigación de contactos\n",
    "\n",
    "## Objetivo: Evaluar la capacidad de seguimiento de contactos\n",
    "\n",
    "### Meta: >80%\n",
    "\n",
    "**Periodicidad:** Semanal\n",
    "\n",
    "**Escala territorial:** Comuna, Regional, Nacional\n",
    "\n",
    "**Fuente de información:** base EPIVIGILA actualizada con los reportes de laboratorio al día de la determinación del indicador. Base de seguimiento."
   ]
  },
  {
   "cell_type": "markdown",
   "id": "50ddd815",
   "metadata": {},
   "source": [
    "**Cálculo del indicador a nivel comunal**\n",
    "\n",
    "$\\frac{No.\\:contactos\\:identificados\\:investigados\\:dentro\\:de\\:48hrs\\:por\\:comuna\\:1er\\:establecimiento\\:semana\\:x}{No.\\:contactos\\:identificados\\:por\\:comuna\\:1er\\:establecimiento\\:semana\\:x}x100$\n",
    "\n",
    "**Cálculo del indicador a nivel regional**\n",
    "\n",
    "$\\frac{No.\\:contactos\\:identificados\\:investigados\\:dentro\\:de\\:48hrs\\:por\\:región\\:1er\\:establecimiento\\:semana\\:x}{No.\\:contactos\\:identificados\\:por\\:región\\:1er\\:establecimiento\\:semana\\:x}x100$"
   ]
  },
  {
   "cell_type": "markdown",
   "id": "e90dcc95",
   "metadata": {},
   "source": [
    "**Observaciones**\n",
    "\n",
    "- No se incluyen los contactos nuevos no notificados\n",
    "- Se considera como registro de contacto aquel que cumple las condiciones para estar en la bandeja de seguimiento\n",
    "- Se consideran sólo registros de casos activos o egresados en la bandeja de seguimiento\n",
    "- El primer establecimiento corresponde al establecimiento dado por API FONASA. Si el registro no hace match con API FONASA, se considera el establecimiento para este indicador, aún si se derivó previo a la investigación epidemiológica"
   ]
  },
  {
   "cell_type": "code",
   "execution_count": null,
   "id": "a1c91ef2",
   "metadata": {},
   "outputs": [],
   "source": []
  },
  {
   "cell_type": "markdown",
   "id": "6da73166",
   "metadata": {},
   "source": [
    "# Indicador 8: Casos en seguimiento\n",
    "\n",
    "## Objetivo: Evaluar la capacidad de seguimiento de casos\n",
    "\n",
    "### Meta: >90%\n",
    "\n",
    "**Periodicidad:** Semanal\n",
    "\n",
    "**Escala territorial:** Comuna, Regional, Nacional\n",
    "\n",
    "**Fuente de Información:** base EPIVIGILA actualizada con los reportes de laboratorio al día de la determinación del indicador. Base de seguimiento"
   ]
  },
  {
   "cell_type": "markdown",
   "id": "d952541a",
   "metadata": {},
   "source": [
    "### Cálculo del indicador a nivel comunal\n",
    "\n",
    "$\\frac{No.\\:casos\\:activos\\:investigados\\:con\\:seguimiento\\:según\\:protocolo\\:por\\:comuna\\:último\\:establecimiento\\:semana\\:x}{No.\\:casos\\:nuevos\\:registrados\\:por\\:comuna\\:ultimo\\:establecimiento\\:semana\\:x}x100$"
   ]
  },
  {
   "cell_type": "markdown",
   "id": "e1e7ae08",
   "metadata": {},
   "source": [
    "### Cálculo del indicador a nivel regional\n",
    "\n",
    "$\\frac{No.\\:casos\\:activos\\:investigados\\:con\\:seguimiento\\:según\\:protocolo\\:por\\:región\\:último\\:establecimiento\\:semana\\:x}{No.\\:casos\\:nuevos\\:registrados\\:por\\:región\\:ultimo\\:establecimiento\\:semana\\:x}x100$"
   ]
  },
  {
   "cell_type": "markdown",
   "id": "39817602",
   "metadata": {},
   "source": [
    "**Observación**\n",
    "\n",
    "- No se incluyen los casos nuevos no notificados (\"casos reportados por laboratorio\")\n",
    "- Se considera un caso activo como aquel caso notificado que cumple la definición de caso activo, con fecha de notificación en la semana de interés\n",
    "- Se consideran sólo registros activos o egresados en la bandeja de seguimiento\n",
    "- Según protocolo implica un seguimiento diario por día de seguimineto, desde el inicio de seguimiento y se valora de forma dicotómica (cumple o no cumple el protocolo de seguimiento)\n",
    "- Por seguimiento diario se entiende que diariamente, se debe realizar una actividad de seguimiento (la cual puede ser exitosa o no)"
   ]
  },
  {
   "cell_type": "code",
   "execution_count": null,
   "id": "1c40992c",
   "metadata": {},
   "outputs": [],
   "source": []
  },
  {
   "cell_type": "markdown",
   "id": "1abac14f",
   "metadata": {},
   "source": [
    "# Indicador 10: Contactos con al menos 2 seguimientos dentro de su periodo de cuarentena de 14 días\n",
    "\n",
    "## Objetivo: Evaluar la capacidad de seguimiento de contactos estrechos\n",
    "\n",
    "### Meta: >90%\n",
    "\n",
    "**Periodicidad:** Semanal\n",
    "\n",
    "**Escala territorial:** Comuna, Regional, Nacional\n",
    "\n",
    "**Fuente de información:** Base de seguimiento"
   ]
  },
  {
   "cell_type": "markdown",
   "id": "0a023a9d",
   "metadata": {},
   "source": [
    "### Cálculo del indicador a nivel comunal\n",
    "\n",
    "$\\frac{No.\\:contactos\\:que\\:cumplieron\\:cuarentena\\:con\\:al\\:menos\\:2\\:seguimientos\\:por\\:comuna\\:último\\:establecimiento\\:semana\\:x}{No.\\:contactos\\:que\\:cumplieron\\:cuarentena\\:por\\:comuna\\:ultimo\\:establecimiento\\:semana\\:x}x100$"
   ]
  },
  {
   "cell_type": "markdown",
   "id": "d7e97c79",
   "metadata": {},
   "source": [
    "### Cálculo del indicador a nivel regional\n",
    "\n",
    "$\\frac{No.\\:contactos\\:que\\:cumplieron\\:cuarentena\\:con\\:al\\:menos\\:2\\:seguimientos\\:por\\:región\\:último\\:establecimiento\\:semana\\:x}{No.\\:contactos\\:que\\:cumplieron\\:cuarentena\\:por\\:región\\:ultimo\\:establecimiento\\:semana\\:x}x100$"
   ]
  },
  {
   "cell_type": "markdown",
   "id": "abcf8771",
   "metadata": {},
   "source": [
    "**Observación**\n",
    "\n",
    "- El indicador se construye sobre los contactos que egresan (fecha de término de cuarentena) de seguimiento, durante la semana de interés (esto es, sólo registros egresados de la bandeja de seguimiento)\n",
    "- El periodo de seguimiento para el contacto corresponde a la cantidad de días entre la 1era fecha en que el contacto está disponible en la bandeja de seguimiento hasta la última fecha fin cuarentena\n",
    "- Se cumple con el indicador si en el período de seguimiento del contacto se registran al menos 2 actividades de seguimiento (las cuales pueden ser exitosas o no)\n",
    "- Se excluyen los contactos que se transforman en caso y que están notificados (tiene folio asociado como caso)"
   ]
  },
  {
   "cell_type": "code",
   "execution_count": null,
   "id": "62bb1522",
   "metadata": {},
   "outputs": [],
   "source": []
  }
 ],
 "metadata": {
  "kernelspec": {
   "display_name": "Python 3",
   "language": "python",
   "name": "python3"
  },
  "language_info": {
   "codemirror_mode": {
    "name": "ipython",
    "version": 3
   },
   "file_extension": ".py",
   "mimetype": "text/x-python",
   "name": "python",
   "nbconvert_exporter": "python",
   "pygments_lexer": "ipython3",
   "version": "3.8.10"
  }
 },
 "nbformat": 4,
 "nbformat_minor": 5
}
