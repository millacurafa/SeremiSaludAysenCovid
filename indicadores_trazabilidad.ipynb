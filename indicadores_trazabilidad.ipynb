{
 "cells": [
  {
   "cell_type": "markdown",
   "id": "b4ba2eeb",
   "metadata": {},
   "source": [
    "# Indicadores de Trazabilidad \n",
    "\n"
   ]
  },
  {
   "cell_type": "markdown",
   "id": "a3c94b84",
   "metadata": {},
   "source": [
    "## Importación de datos, librerias"
   ]
  },
  {
   "cell_type": "code",
   "execution_count": 1,
   "id": "0f4dda4f",
   "metadata": {},
   "outputs": [],
   "source": [
    "# Importa librerias necesarias para el análisis\n",
    "\n",
    "import pandas as pd\n",
    "import numpy as np\n",
    "import plotly.express as px"
   ]
  },
  {
   "cell_type": "code",
   "execution_count": 2,
   "id": "eb144bfe",
   "metadata": {
    "scrolled": true
   },
   "outputs": [
    {
     "data": {
      "text/html": [
       "<div>\n",
       "<style scoped>\n",
       "    .dataframe tbody tr th:only-of-type {\n",
       "        vertical-align: middle;\n",
       "    }\n",
       "\n",
       "    .dataframe tbody tr th {\n",
       "        vertical-align: top;\n",
       "    }\n",
       "\n",
       "    .dataframe thead th {\n",
       "        text-align: right;\n",
       "    }\n",
       "</style>\n",
       "<table border=\"1\" class=\"dataframe\">\n",
       "  <thead>\n",
       "    <tr style=\"text-align: right;\">\n",
       "      <th></th>\n",
       "      <th>Unnamed: 0</th>\n",
       "      <th>orden</th>\n",
       "      <th>nombre_region</th>\n",
       "      <th>codigo_region</th>\n",
       "      <th>nombre_provincia</th>\n",
       "      <th>codigo_provincia</th>\n",
       "      <th>nombre_comuna</th>\n",
       "      <th>codigo_comuna</th>\n",
       "      <th>edad_hombres</th>\n",
       "      <th>edad_mujeres</th>\n",
       "      <th>total</th>\n",
       "    </tr>\n",
       "  </thead>\n",
       "  <tbody>\n",
       "    <tr>\n",
       "      <th>0</th>\n",
       "      <td>0</td>\n",
       "      <td>7172</td>\n",
       "      <td>Región de Aysén del General Carlos Ibáñez del ...</td>\n",
       "      <td>11</td>\n",
       "      <td>Coyhaique</td>\n",
       "      <td>111</td>\n",
       "      <td>Coyhaique</td>\n",
       "      <td>11101</td>\n",
       "      <td>28763</td>\n",
       "      <td>29055</td>\n",
       "      <td>57818</td>\n",
       "    </tr>\n",
       "    <tr>\n",
       "      <th>1</th>\n",
       "      <td>1</td>\n",
       "      <td>7194</td>\n",
       "      <td>Región de Aysén del General Carlos Ibáñez del ...</td>\n",
       "      <td>11</td>\n",
       "      <td>Coyhaique</td>\n",
       "      <td>111</td>\n",
       "      <td>Lago Verde</td>\n",
       "      <td>11102</td>\n",
       "      <td>494</td>\n",
       "      <td>358</td>\n",
       "      <td>852</td>\n",
       "    </tr>\n",
       "  </tbody>\n",
       "</table>\n",
       "</div>"
      ],
      "text/plain": [
       "   Unnamed: 0  orden                                      nombre_region  \\\n",
       "0           0   7172  Región de Aysén del General Carlos Ibáñez del ...   \n",
       "1           1   7194  Región de Aysén del General Carlos Ibáñez del ...   \n",
       "\n",
       "   codigo_region nombre_provincia  codigo_provincia nombre_comuna  \\\n",
       "0             11        Coyhaique               111     Coyhaique   \n",
       "1             11        Coyhaique               111    Lago Verde   \n",
       "\n",
       "   codigo_comuna  edad_hombres  edad_mujeres  total  \n",
       "0          11101         28763         29055  57818  \n",
       "1          11102           494           358    852  "
      ]
     },
     "execution_count": 2,
     "metadata": {},
     "output_type": "execute_result"
    }
   ],
   "source": [
    "# Importa datos de población regional y crea DF\n",
    "\n",
    "\n",
    "df_poblacion = pd.read_csv('data/aysen_population.csv') #Archivo ubicado dentro de la carpeta data\n",
    "\n",
    "df_poblacion.head(2)"
   ]
  },
  {
   "cell_type": "code",
   "execution_count": 3,
   "id": "d7395726",
   "metadata": {},
   "outputs": [
    {
     "data": {
      "text/html": [
       "<div>\n",
       "<style scoped>\n",
       "    .dataframe tbody tr th:only-of-type {\n",
       "        vertical-align: middle;\n",
       "    }\n",
       "\n",
       "    .dataframe tbody tr th {\n",
       "        vertical-align: top;\n",
       "    }\n",
       "\n",
       "    .dataframe thead th {\n",
       "        text-align: right;\n",
       "    }\n",
       "</style>\n",
       "<table border=\"1\" class=\"dataframe\">\n",
       "  <thead>\n",
       "    <tr style=\"text-align: right;\">\n",
       "      <th></th>\n",
       "      <th>establecimiento_salud</th>\n",
       "      <th>comuna_seremi_xi</th>\n",
       "      <th>provincia_seremi_xi</th>\n",
       "    </tr>\n",
       "  </thead>\n",
       "  <tbody>\n",
       "    <tr>\n",
       "      <th>0</th>\n",
       "      <td>Actividades gestionadas por la Dirección del S...</td>\n",
       "      <td>Coyhaique</td>\n",
       "      <td>Coyhaique</td>\n",
       "    </tr>\n",
       "    <tr>\n",
       "      <th>1</th>\n",
       "      <td>Centro Clínico Militar Coyhaique</td>\n",
       "      <td>Coyhaique</td>\n",
       "      <td>Coyhaique</td>\n",
       "    </tr>\n",
       "    <tr>\n",
       "      <th>2</th>\n",
       "      <td>Centro Comunitario de Salud Familiar  Villa Ma...</td>\n",
       "      <td>Aysen</td>\n",
       "      <td>Aysen</td>\n",
       "    </tr>\n",
       "    <tr>\n",
       "      <th>3</th>\n",
       "      <td>Centro Comunitario de Salud Familiar Alejandro...</td>\n",
       "      <td>Coyhaique</td>\n",
       "      <td>Coyhaique</td>\n",
       "    </tr>\n",
       "    <tr>\n",
       "      <th>4</th>\n",
       "      <td>Centro Comunitario de Salud Familiar Puerto Ch...</td>\n",
       "      <td>Aysen</td>\n",
       "      <td>Aysen</td>\n",
       "    </tr>\n",
       "  </tbody>\n",
       "</table>\n",
       "</div>"
      ],
      "text/plain": [
       "                               establecimiento_salud comuna_seremi_xi  \\\n",
       "0  Actividades gestionadas por la Dirección del S...        Coyhaique   \n",
       "1                   Centro Clínico Militar Coyhaique        Coyhaique   \n",
       "2  Centro Comunitario de Salud Familiar  Villa Ma...            Aysen   \n",
       "3  Centro Comunitario de Salud Familiar Alejandro...        Coyhaique   \n",
       "4  Centro Comunitario de Salud Familiar Puerto Ch...            Aysen   \n",
       "\n",
       "  provincia_seremi_xi  \n",
       "0           Coyhaique  \n",
       "1           Coyhaique  \n",
       "2               Aysen  \n",
       "3           Coyhaique  \n",
       "4               Aysen  "
      ]
     },
     "execution_count": 3,
     "metadata": {},
     "output_type": "execute_result"
    }
   ],
   "source": [
    "# Importa datos de comunas corregidas por establecimiento de salud\n",
    "\n",
    "df_establecimiento = pd.read_excel('data/establecimientos_salud_dict.xlsx') #Archivo ubicado dentro de la carpeta data\n",
    "\n",
    "\n",
    "df_establecimiento.head()"
   ]
  },
  {
   "cell_type": "code",
   "execution_count": 4,
   "id": "4b119b3a",
   "metadata": {},
   "outputs": [],
   "source": [
    "# Importa datos desde la base de datos recivida via FTP\n",
    "## PRIMERO: Guardar archivo dentro de la carpeta data\n",
    "## SEGUNDO: No cambiar nombre ni formato del archivo recibido\n",
    "## TERCERO: RECORDAR CAMBIAR FECHA EN EL ARCHIVO A IMPORTAR A CONTINUACION, i.e: 20210829 para este domingo 29 de Agosto 2021\n",
    "\n",
    "df =  pd.read_csv('data/20210907_Aisen_notificaciones_0600.csv', \n",
    "                   sep='~', # CSV con separador ''~''\n",
    "                   low_memory=False\n",
    "                  )"
   ]
  },
  {
   "cell_type": "code",
   "execution_count": 5,
   "id": "54031874",
   "metadata": {},
   "outputs": [],
   "source": [
    "df_trazabilidad =  pd.read_csv('data/20210907_Región de Aysén del General Carlos Ibáñez del Campo_Seguimiento.csv', \n",
    "                   sep=';', # CSV con separador ''~''\n",
    "                   low_memory=False\n",
    "                  )"
   ]
  },
  {
   "cell_type": "markdown",
   "id": "8cfadf9e",
   "metadata": {},
   "source": [
    "##  limpieza y ordenamiento "
   ]
  },
  {
   "cell_type": "code",
   "execution_count": null,
   "id": "05838c74",
   "metadata": {},
   "outputs": [],
   "source": [
    "# Une datos con diccionario comunal\n",
    "\n",
    "dff = df.merge(df_establecimiento, how='left')"
   ]
  },
  {
   "cell_type": "code",
   "execution_count": null,
   "id": "fb8cd568",
   "metadata": {},
   "outputs": [],
   "source": [
    "# Integra datos poblacionales\n",
    "\n",
    "df_merged = dff.merge(df_poblacion.drop(columns= ['Unnamed: 0','orden','nombre_region', 'codigo_region', 'nombre_provincia','codigo_provincia']), left_on='comuna_seremi_xi', right_on='nombre_comuna', how='left' )"
   ]
  },
  {
   "cell_type": "code",
   "execution_count": null,
   "id": "91c07de6",
   "metadata": {},
   "outputs": [],
   "source": [
    "# Filtra datos obtenidos solo para pacientes con residencia en la Región de Aysén\n",
    "\n",
    "data_aysen = df_merged[df_merged['region_residencia'] == 'Región de Aysén del General Carlos Ibáñez del Campo']\n",
    "\n",
    "data_aysen.head(1)"
   ]
  },
  {
   "cell_type": "code",
   "execution_count": null,
   "id": "97973806",
   "metadata": {},
   "outputs": [],
   "source": [
    "data_aysen_filtered = data_aysen[(data_aysen['estado_caso']!='No validada')&(\n",
    "                          data_aysen['vigente_no_eliminado']==True)&(\n",
    "                          data_aysen['seremi']=='SEREMI De Aisén del General Carlos Ibañez del Campo')\n",
    "                       ].rename(columns={'edad_hombres':'pop_hombres',\n",
    "                                         'edad_mujeres':'pop_mujeres',\n",
    "                                         'total':'pop_total'})\n",
    "\n",
    "data_aysen_filtered.sample(1)"
   ]
  },
  {
   "cell_type": "code",
   "execution_count": null,
   "id": "b4dda4da",
   "metadata": {},
   "outputs": [],
   "source": [
    "# Transforma Fechas a formato DateTime \n",
    "\n",
    "data_aysen_filtered['fecha_notificacion'] = pd.to_datetime(data_aysen_filtered['fecha_notificacion'], errors = 'coerce') \n",
    "\n",
    "data_aysen_filtered['fecha_toma_muestra_1'] = pd.to_datetime(data_aysen_filtered['fecha_toma_muestra_1'], errors = 'coerce')\n",
    "\n",
    "data_aysen_filtered['fecha_toma_muestra_2'] = pd.to_datetime(data_aysen_filtered['fecha_toma_muestra_2'], errors = 'coerce')\n",
    "\n",
    "data_aysen_filtered['fecha_toma_muestra_3'] = pd.to_datetime(data_aysen_filtered['fecha_toma_muestra_3'], errors = 'coerce')\n",
    "\n",
    "data_aysen_filtered['fecha_resultado_pcr_1'] = pd.to_datetime(data_aysen_filtered['fecha_resultado_pcr_1'], errors = 'coerce')\n",
    "\n",
    "data_aysen_filtered['fecha_resultado_pcr_2'] = pd.to_datetime(data_aysen_filtered['fecha_resultado_pcr_2'], errors = 'coerce')\n",
    "\n",
    "data_aysen_filtered['fecha_resultado_pcr_3'] = pd.to_datetime(data_aysen_filtered['fecha_resultado_pcr_3'], errors = 'coerce')"
   ]
  },
  {
   "cell_type": "code",
   "execution_count": null,
   "id": "06f2df22",
   "metadata": {},
   "outputs": [],
   "source": [
    "# Muestra variables presente en DB en formato DF\n",
    "\n",
    "s=pd.DataFrame(data_aysen_filtered.columns)\n",
    "\n",
    "s[s[0]=='tipo_seguimiento']\n"
   ]
  },
  {
   "cell_type": "code",
   "execution_count": null,
   "id": "24fe0014",
   "metadata": {},
   "outputs": [],
   "source": [
    "# Selecciona variables de importancia\n",
    "\n",
    "data_aysen_clean =  data_aysen_filtered[[\n",
    "                                'numero_folio',\n",
    "                                'comuna_residencia',\n",
    "                                'fecha_notificacion',\n",
    "                                'semana_epidemiologica',\n",
    "                                'etapa_clinica',\n",
    "                                'tipo_caso_busqueda',\n",
    "                                'establecimiento_salud',\n",
    "                                'resultado_pcr_1',\n",
    "                                'resultado_pcr_2',\n",
    "                                'resultado_pcr_3',\n",
    "                                'fecha_toma_muestra_1',\n",
    "                                'fecha_toma_muestra_2',\n",
    "                                'fecha_toma_muestra_3',\n",
    "                                'fecha_resultado_pcr_1',\n",
    "                                'fecha_resultado_pcr_2',\n",
    "                                'fecha_resultado_pcr_3',\n",
    "                                'estado_paciente',\n",
    "                                'lugar_reposo',\n",
    "                                'estado_caso',\n",
    "                                'presentacion_clinica',\n",
    "                                'contacto_caso_sospechoso',\n",
    "                                'motivo_examen',\n",
    "                                'hospitalizacion',\n",
    "                                'trabajador_salud',\n",
    "                                'caso_cerrado',\n",
    "                                'fecha_primeros_sintomas',\n",
    "                                'fecha_diagnostico',\n",
    "                                'comuna_seremi_xi',\n",
    "                                'provincia_seremi_xi',\n",
    "                                'sexo',\n",
    "                                'edad',\n",
    "                                'pop_hombres',\n",
    "                                'pop_mujeres',\n",
    "                                'pop_total'\n",
    "                               ]]"
   ]
  },
  {
   "cell_type": "code",
   "execution_count": null,
   "id": "6e15c859",
   "metadata": {},
   "outputs": [],
   "source": [
    "# Agrega 53 semanas a las semanas de 2021 y crea semana_epidemiologica_21\n",
    "\n",
    "data_aysen_clean1 = data_aysen_clean[data_aysen_clean['fecha_notificacion']<=pd.to_datetime('2021-01-02')]\n",
    "data_aysen_clean2 = data_aysen_clean[data_aysen_clean['fecha_notificacion']>=pd.to_datetime('2021-01-03')]\n",
    "\n",
    "\n",
    "data_aysen_clean1['semana_epidemiologica_21'] = data_aysen_clean1['semana_epidemiologica']\n",
    "data_aysen_clean2['semana_epidemiologica_21'] = data_aysen_clean2['semana_epidemiologica']+53\n",
    "\n",
    "data_aysen_clean_21 = data_aysen_clean1.append(data_aysen_clean2, ignore_index=True)\n"
   ]
  },
  {
   "cell_type": "code",
   "execution_count": null,
   "id": "19c25cde",
   "metadata": {
    "scrolled": true
   },
   "outputs": [],
   "source": [
    "data_aysen_clean.sample(10)"
   ]
  },
  {
   "cell_type": "code",
   "execution_count": null,
   "id": "bbd88d1c",
   "metadata": {},
   "outputs": [],
   "source": [
    "df_seguimiento = pd.read_csv('data/df_seguimiento_full.csv',\n",
    "                            sep=';',\n",
    "                             low_memory=False\n",
    "                            )"
   ]
  },
  {
   "cell_type": "code",
   "execution_count": null,
   "id": "e07cf34f",
   "metadata": {},
   "outputs": [],
   "source": [
    "df_seguimiento"
   ]
  },
  {
   "cell_type": "code",
   "execution_count": null,
   "id": "de0f4f44",
   "metadata": {},
   "outputs": [],
   "source": [
    "# Divide strings utilizando regex para extraer nfolio de casos, \n",
    "# Separa nfolio caso indice de nfolio contacto estrecho y guarda caso índice\n",
    "# Y extrae datos de PNTM\n",
    "\n",
    "df_seguimiento['n_folio'].str.extract(r'([0-9]+)|SC[0-9]+-([0-9]+)|PNTM-([0-9]+)', flags=0,expand=True).rename(columns={0:'nfolio_caso',\n",
    "                                                                                                          1:'nfolio_caso_indice',\n",
    "                                                                                                          2:'nfolio_pntm'\n",
    "                                                                                                        })"
   ]
  },
  {
   "cell_type": "code",
   "execution_count": null,
   "id": "7ce66d17",
   "metadata": {},
   "outputs": [],
   "source": [
    "# Separa nfolio caso índice de nfolio contacto estrecho y guarda contacto estrecho\n",
    "\n",
    "df_seguimiento['n_folio'].str.extract(r'SC([0-9]+)-', \n",
    "                                      flags=0,\n",
    "                                      expand=True).rename(\n",
    "                                      columns={0:'nfolio_contacto_estrecho'})"
   ]
  },
  {
   "cell_type": "code",
   "execution_count": null,
   "id": "57251f44",
   "metadata": {},
   "outputs": [],
   "source": [
    "# Realiza merge con DF original utilizando index de importación\n",
    "df_seguimiento_merged = df_seguimiento.merge(df_seguimiento['n_folio'].str.extract(\n",
    "                                                 r'([0-9]+)|SC[0-9]+-([0-9]+)|PNTM-([0-9]+)', \n",
    "                                                 flags=0,\n",
    "                                                 expand=True).rename(\n",
    "                                                 columns={0:'nfolio_caso',\n",
    "                                                          1:'nfolio_caso_indice',\n",
    "                                                          2:'nfolio_pntm'}), \n",
    "                                             how='left',\n",
    "                                             left_index= True,\n",
    "                                             right_index=True\n",
    "                                      ).merge(df_seguimiento['n_folio'].str.extract(\n",
    "                                                                 r'SC([0-9]+)-', \n",
    "                                                                 flags=0,\n",
    "                                                                 expand=True).rename(\n",
    "                                                                 columns={0:'nfolio_contacto_estrecho'}), \n",
    "                                                                 how='left',\n",
    "                                                                 left_index= True,\n",
    "                                                                 right_index=True\n",
    "                                      )\n",
    "\n",
    "df_seguimiento_merged.sample(3)"
   ]
  },
  {
   "cell_type": "code",
   "execution_count": null,
   "id": "5ddbf1da",
   "metadata": {},
   "outputs": [],
   "source": [
    "df_seguimiento_merged.head()"
   ]
  },
  {
   "cell_type": "code",
   "execution_count": null,
   "id": "603a30be",
   "metadata": {},
   "outputs": [],
   "source": [
    "# Revisa folio en DB de notificaciones\n",
    "\n",
    "data_aysen_clean[data_aysen_clean['numero_folio']==14832232]"
   ]
  },
  {
   "cell_type": "code",
   "execution_count": null,
   "id": "711d55d2",
   "metadata": {},
   "outputs": [],
   "source": [
    "# Todos los datos poseen un folio \n",
    "\n",
    "df_seguimiento_merged[df_seguimiento_merged['n_folio'].isnull()]"
   ]
  },
  {
   "cell_type": "code",
   "execution_count": null,
   "id": "715ff30b",
   "metadata": {},
   "outputs": [],
   "source": [
    "df_seguimiento_merged.columns"
   ]
  },
  {
   "cell_type": "code",
   "execution_count": null,
   "id": "93a8009c",
   "metadata": {},
   "outputs": [],
   "source": [
    "pd.DataFrame(df_seguimiento_merged.columns).rename(columns={0:'variables_seguimiento'}).transpose()"
   ]
  },
  {
   "cell_type": "code",
   "execution_count": null,
   "id": "dd2dac7a",
   "metadata": {
    "scrolled": true
   },
   "outputs": [],
   "source": [
    "df_seguimiento_merged['folio_se_convierte_en_caso']"
   ]
  },
  {
   "cell_type": "code",
   "execution_count": null,
   "id": "94bf5beb",
   "metadata": {},
   "outputs": [],
   "source": [
    "# Revisa existencia de una variable dentro del DF y sus respectivos valores\n",
    "\n",
    "df_seguimiento_merged['folio_se_convierte_en_caso'].value_counts()\n"
   ]
  },
  {
   "cell_type": "markdown",
   "id": "e94309f5",
   "metadata": {},
   "source": [
    "# Variables de interes\n",
    "\n",
    "\n",
    "|Variable|Tipo|Observación|\n",
    "|---|---|---|\n",
    "|`n_folio`|Text|folio generado por Número y Letras|\n",
    "|`nfolio_caso`|Numeric|folio de caso registrado|\n",
    "|`nfolio_caso_indice`|Numeric|folio de caso indice registrado|\n",
    "|`nfolio_pntm`|Numeric|folio plataforma nacional de toma de muestra|\n",
    "|`nfolio_contacto_estrecho`|Numeric|folio de contacto estrecho|\n",
    "|`tipo_seguimiento`|Text|contacto, caso, no notificado indice|\n",
    "|`dia_contacto`|DateTime|Fecha de contacto |\n",
    "|`fecha_notificacion`|DateTime|Fecha de notificación|\n",
    "|`nombre_institucion_indice`|Text|Nombre institución desde donde se deriva el caso|\n",
    "|`region_institucion_indice`|Numeric| Región d ela cual se deriva el caso|\n",
    "|`nombre_region_institucion_indice`|Text|Nombre de región de la institución índice|\n",
    "|`nombre_institucion_seguimiento`|Text|Nombre de la institución encargada de realizar seguimiento|\n",
    "|`region`|Text|Región en la cual se realiza el seguimiento|\n",
    "|`id_region`|Numeric|Número de la región de seguimiento|\n",
    "|`fecha_cumple_requisitos`|DateTime|Fecha en la cual cumple requisitos para seguimiento|\n",
    "|`TTA`|Text|APS o SEREMI|\n",
    "|`cumple_aislamiento_cuarentena`|Boolean|Sin datos, t, f|\n",
    "|`folio_se_convierte_en_caso`|Text|Número de folio o Sin Datos|\n",
    "|`visible_no_eliminado`|Boolean|Sin datos, t, f|\n",
    "|`suspendido`|Text|egresado|\n",
    "|`sintomas`|Text|Sintomatología, Sin datos o Ninguno|\n",
    "|`observacion_seguimiento_contactos`|Text| Escrito por el trazador|\n",
    "|`tiene_resultado_covid`|Text|Positivo, Negativo, No concluyente, Sin Datos|\n",
    "|`derivacion_a_su`|Boolean| t f Sin datos|\n",
    "|`derivacion_toma_muestra`|Boolean|t f Sin datos|\n",
    "|`fecha_derivacion_toma_muestra`|Text|Fecha Sin datos|\n",
    "|`cont_fecha_seguimiento`|Text|Texto o Sin Datos|\n",
    "|`cont_tipo_contacto`|Text|contacto_familiar, contacto_social, contacto_institucional, contacto_laboral|\n",
    "|||contacto_pasajero, contacto_sala_espera, contacto_personal_salud,Datos|\n",
    "|`cont_parentesco`|Text|Hijo/a, Madre/Padre, Otro familiar, Pareja, Hermano/a, Otra relación/No familiar, Sin Datos|\n",
    "|`cont_otra_relacion`|Text|Sin Datos, otro, hijo de cuidadora, otro adulto mayor en cuidado, cuñado. sobrino de cuidadora, AMIGO,  Amigo|\n",
    "||| pareja del tío de su madre,cuidadora, PAREJA PADRE, otro adulto en cuidados, Pareja de mamá, Hijastro|\n",
    "|`cont_tipo_transporte`|Text|Aéreo, Sin Datos, Terrestre|\n",
    "|`cont_nombre_vuelo`|Text|Sin Datos, JETSMART JA245 CCP - BALMACEDA, SKY 433, COPA CM111, \n",
    "|||SKY 433 STGO- COYHAIQUE 21-08-2021 / 11 AM, SK, DL147 ATLANTA - STGO, JETSMART CCP-BALMACEDA, LA 272 |\n",
    "|||JETSMART JA245, VUELO CM111, LA272, JETSMART JA 245 CCP - BALMACEDA|                 \n",
    "|`cont_fecha_llegada`|Text|Sin Datos, 2021-07-21, 2021-08-21, 2021-07-01, 2021-07-03, 2021-07-09, 2021-07-02|\n",
    "|`detalle_pasajero`|Text|Observaciones adicionales de viaje|\n",
    "|`cont_inicio_cuarentena`|DateTime|Fecha de inicio de cuarentena|\n",
    "|`cont_fin_cuarentena`|DateTime|Fecha y Sin Datos|\n",
    "|`cont_requiere_licencia_medica`|Boolean|Sin Datos, NO, SI, Seleccione|\n",
    "|`cont_se_emite_licencia`|Boolean|Sin Datos, t, f|\n",
    "|`cont_fecha_licencia`|DateTime|Fecha de licencia|\n",
    "|`requiere_canasta_alimentos`|Boolean|Sin Datos, t, f|\n",
    "|`cantidad_personas_vivienda`|Numeric|Integrantes familiares de 0 a 6|\n",
    "|`cont_estado_seguimiento`|Text|Aún no contactado, En proceso de seguimiento, Se transforma en caso, Contacto sintomático, No localizado|\n",
    "|`fecha_creacion`|DateTime|Fecha de creación|\n",
    "|`tipo_del_contacto`|Text|Sin Datos, Llamada telefónica, Visita domiciliaria|\n",
    "|`contacto_localizado`|Boolean|Sin Datos, t, f|\n",
    "|`empresa`|Text|Información de Empresa de trabajo|\n",
    "|`institucion`|Text|Información de la institución|"
   ]
  },
  {
   "cell_type": "markdown",
   "id": "7d732aa1",
   "metadata": {},
   "source": [
    "## Limpieza y ordenamiento de datos\n",
    "\n"
   ]
  },
  {
   "cell_type": "markdown",
   "id": "44fd542e",
   "metadata": {},
   "source": [
    "Segun variables seleccionadas como de importancia de análisis y obsrvaciones a filtrar"
   ]
  },
  {
   "cell_type": "code",
   "execution_count": null,
   "id": "6382a91b",
   "metadata": {},
   "outputs": [],
   "source": [
    "# Transforma fecha_cumple_requisitos a formato DateTime64 \n",
    "\n",
    "df_seguimiento_merged['fecha_cumple_requisitos'] = pd.to_datetime(df_seguimiento_merged['fecha_cumple_requisitos'], errors='coerce')\n",
    "df_seguimiento_merged['fecha_notificacion'] = pd.to_datetime(df_seguimiento_merged['fecha_notificacion'], errors='coerce')\n",
    "df_seguimiento_merged['fecha_creacion'] = pd.to_datetime(df_seguimiento_merged['fecha_creacion'], errors='coerce')\n",
    "\n",
    "#Crea diferencia de fecha\n",
    "df_seguimiento_merged['dif_fecha'] = df_seguimiento_merged['fecha_cumple_requisitos'] - df_seguimiento_merged['fecha_notificacion']"
   ]
  },
  {
   "cell_type": "code",
   "execution_count": null,
   "id": "9326139c",
   "metadata": {},
   "outputs": [],
   "source": [
    "# Filtra los timedelta mayores a 14 dias\n",
    "\n",
    "seg = df_seguimiento_merged[df_seguimiento_merged['dif_fecha']<pd.to_timedelta('14 days')]"
   ]
  },
  {
   "cell_type": "code",
   "execution_count": null,
   "id": "5a14aa47",
   "metadata": {},
   "outputs": [],
   "source": [
    "#Filtra visible_no_eliminado y bota duplicados en n_folio\n",
    "\n",
    "aux = seg[seg['visible_no_eliminado']=='t'].drop_duplicates('n_folio')"
   ]
  },
  {
   "cell_type": "code",
   "execution_count": null,
   "id": "37586a61",
   "metadata": {},
   "outputs": [],
   "source": [
    "# Filtra tipo_seguimiento para los casos \n",
    "\n",
    "aux_caso = aux[aux['tipo_seguimiento']=='caso']"
   ]
  },
  {
   "cell_type": "code",
   "execution_count": null,
   "id": "d2536552",
   "metadata": {},
   "outputs": [],
   "source": [
    "aux_contacto = aux[aux['tipo_seguimiento']=='contacto']\n",
    "#Crea columna dif_fecha_contacto\n",
    "aux_contacto['dif_fecha_contacto'] = aux_contacto['fecha_creacion']-aux_contacto['fecha_notificacion']\n",
    "\n",
    "aux_contacto = aux_contacto[aux_contacto['dif_fecha_contacto']>=pd.to_timedelta(-14)]"
   ]
  },
  {
   "cell_type": "code",
   "execution_count": null,
   "id": "c11096fe",
   "metadata": {},
   "outputs": [],
   "source": [
    "aux_contacto_nuevos = aux[aux['tipo_seguimiento']=='contacto']\n",
    "aux_contacto_nuevos = aux_contacto_nuevos[(aux_contacto_nuevos['suspendido']=='activo')|(aux_contacto_nuevos['suspendido']=='egresado')]\n"
   ]
  },
  {
   "cell_type": "code",
   "execution_count": null,
   "id": "5b73a457",
   "metadata": {},
   "outputs": [],
   "source": [
    "\"\"\"aux_contacto_viejos = aux_contacto[(aux_contacto['fecha_creacion']-pd.to_timedelta('7 days'))]\n",
    "\n",
    "aux_contacto_viejos= aux_contacto_viejos[(aux_contacto_viejos['suspendido']=='activo')|(aux_contacto_viejos['suspendido']=='egresado')]\"\"\"\n"
   ]
  },
  {
   "cell_type": "code",
   "execution_count": null,
   "id": "3fc47c8c",
   "metadata": {},
   "outputs": [],
   "source": [
    "#aux_contacto[\n",
    "(aux_contacto['fecha_creacion']-pd.to_timedelta('7 days'))\n",
    "#]"
   ]
  },
  {
   "cell_type": "code",
   "execution_count": null,
   "id": "4aa0df5c",
   "metadata": {},
   "outputs": [],
   "source": [
    "aux_contacto['fecha_creacion']-pd.to_timedelta(-7)"
   ]
  },
  {
   "cell_type": "code",
   "execution_count": null,
   "id": "e0bdba4a",
   "metadata": {},
   "outputs": [],
   "source": [
    "aux_contacto['fecha_creacion']"
   ]
  },
  {
   "cell_type": "code",
   "execution_count": null,
   "id": "55554434",
   "metadata": {},
   "outputs": [],
   "source": [
    "df_seguimiento_merged['visible_no_eliminado']"
   ]
  },
  {
   "cell_type": "code",
   "execution_count": null,
   "id": "92fe104c",
   "metadata": {},
   "outputs": [],
   "source": [
    "data_aysen_clean"
   ]
  },
  {
   "cell_type": "code",
   "execution_count": null,
   "id": "80212a62",
   "metadata": {},
   "outputs": [],
   "source": [
    "df_seguimiento_filtered = df_seguimiento_merged"
   ]
  },
  {
   "cell_type": "code",
   "execution_count": null,
   "id": "a7a9c529",
   "metadata": {},
   "outputs": [],
   "source": [
    "# Revisa tipo de datos\n",
    "df_seguimiento_filtered['nfolio_caso'].dtype"
   ]
  },
  {
   "cell_type": "code",
   "execution_count": null,
   "id": "d0fb17a8",
   "metadata": {},
   "outputs": [],
   "source": [
    "# Revisa tipo de datos para merging\n",
    "\n",
    "data_aysen_clean['numero_folio'].dtype"
   ]
  },
  {
   "cell_type": "code",
   "execution_count": null,
   "id": "fb8c587e",
   "metadata": {},
   "outputs": [],
   "source": [
    "# Transforma dtype de ambas columnas a float64 para permitir merging \n",
    "\n",
    "df_seguimiento_filtered['nfolio_caso']= df_seguimiento_filtered['nfolio_caso'].astype('float64', errors='raise')\n",
    "\n",
    "\n",
    "data_aysen_clean['numero_folio']= data_aysen_clean['numero_folio'].astype('float64', errors='raise')"
   ]
  },
  {
   "cell_type": "code",
   "execution_count": null,
   "id": "77b78b8b",
   "metadata": {},
   "outputs": [],
   "source": [
    "# Combina ambas columnas para nfolio_caso y nfolio_contacto_estrecho y \n",
    "# agrega NA en donde corresponda a otros casos como PNTM o nfolio_caso_indice\n",
    "\n",
    "df_seguimiento_filtered['nfolio_merge'] = df_seguimiento_filtered['nfolio_caso'].combine_first(df_seguimiento_filtered['nfolio_contacto_estrecho']).astype('float64', errors='raise')\n",
    "\n"
   ]
  },
  {
   "cell_type": "code",
   "execution_count": null,
   "id": "57f096dc",
   "metadata": {},
   "outputs": [],
   "source": [
    "# Realiza merge con base de datos de notificaciones agregando los valores de casos confirmados y probables\n",
    "\n",
    "\n",
    "df_seguimiento_filtered= df_seguimiento_filtered.merge(data_aysen_clean[[\n",
    "                                            'numero_folio',\n",
    "                                            'etapa_clinica',\n",
    "                                            'tipo_caso_busqueda',\n",
    "                                            'establecimiento_salud',\n",
    "                                            'resultado_pcr_1',\n",
    "                                            'resultado_pcr_2',\n",
    "                                            'resultado_pcr_3',\n",
    "                                            'fecha_resultado_pcr_1',\n",
    "                                            'fecha_resultado_pcr_2',\n",
    "                                            'fecha_resultado_pcr_3',\n",
    "                                            'comuna_seremi_xi',\n",
    "                                            'provincia_seremi_xi',\n",
    "                                            'edad',\n",
    "                                            'sexo',\n",
    "                                            'pop_hombres',\n",
    "                                            'pop_mujeres',\n",
    "                                            'pop_total'\n",
    "                                        ]], left_on='nfolio_merge', right_on='numero_folio' , how='left')"
   ]
  },
  {
   "cell_type": "code",
   "execution_count": null,
   "id": "cdf77667",
   "metadata": {},
   "outputs": [],
   "source": [
    "# Selecciona variables de importancia\n",
    "\n",
    "df_seguimiento_clean = df_seguimiento_filtered[[\n",
    "    'n_folio',\n",
    "    'nfolio_caso',\n",
    "    'nfolio_caso_indice',\n",
    "    'nfolio_pntm',\n",
    "    'nfolio_contacto_estrecho',\n",
    "    'tipo_seguimiento',\n",
    "    'dia_contacto',\n",
    "    'fecha_notificacion',\n",
    "    'nombre_institucion_indice',\n",
    "    'region_institucion_indice',\n",
    "    'nombre_region_institucion_indice',\n",
    "    'region',\n",
    "    'id_region',\n",
    "    'fecha_cumple_requisitos',\n",
    "    'TTA',\n",
    "    'cumple_aislamiento_cuarentena',\n",
    "    'folio_se_convierte_en_caso',\n",
    "    'visible_no_eliminado',\n",
    "    'suspendido',\n",
    "    'sintomas',\n",
    "    'observacion_seguimiento_contactos',\n",
    "    'tiene_resultado_covid',\n",
    "    'derivacion_a_su',\n",
    "    'derivacion_toma_muestra',\n",
    "    'fecha_derivacion_toma_muestra',\n",
    "    'cont_fecha_seguimiento',\n",
    "    'cont_tipo_contacto',\n",
    "    'cont_parentesco',\n",
    "    'cont_otra_relacion',\n",
    "    'cont_tipo_transporte',\n",
    "    'cont_nombre_vuelo',\n",
    "    'cont_fecha_llegada',\n",
    "    'detalle_pasajero',\n",
    "    'cont_inicio_cuarentena',\n",
    "    'cont_fin_cuarentena',\n",
    "    'cont_requiere_licencia_medica',\n",
    "    'cont_se_emite_licencia',\n",
    "    'cont_fecha_licencia',\n",
    "    'requiere_canasta_alimentos',\n",
    "    'cantidad_personas_vivienda',\n",
    "    'cont_estado_seguimiento',\n",
    "    'fecha_creacion',\n",
    "    'tipo_del_contacto',\n",
    "    'contacto_localizado',\n",
    "    'empresa',\n",
    "    'institucion',\n",
    "    'etapa_clinica',\n",
    "    'tipo_caso_busqueda',\n",
    "    'establecimiento_salud',\n",
    "    'resultado_pcr_1',\n",
    "    'resultado_pcr_2',\n",
    "    'resultado_pcr_3',\n",
    "    'fecha_resultado_pcr_1',\n",
    "    'fecha_resultado_pcr_2',\n",
    "    'fecha_resultado_pcr_3',\n",
    "    'comuna_seremi_xi',\n",
    "    'provincia_seremi_xi',\n",
    "    'edad',\n",
    "    'sexo',\n",
    "    'pop_hombres',\n",
    "    'pop_mujeres',\n",
    "    'pop_total'\n",
    "]]"
   ]
  },
  {
   "cell_type": "code",
   "execution_count": null,
   "id": "0ac27cb4",
   "metadata": {},
   "outputs": [],
   "source": [
    "df_seguimiento_clean"
   ]
  },
  {
   "cell_type": "code",
   "execution_count": null,
   "id": "6b277408",
   "metadata": {},
   "outputs": [],
   "source": [
    "df_seguimiento_clean['nfolio_caso_indice'].value_counts()"
   ]
  },
  {
   "cell_type": "code",
   "execution_count": null,
   "id": "2e2394ab",
   "metadata": {},
   "outputs": [],
   "source": [
    "#Se consideran solo los visible no eliniminados y se botan duplicados\n",
    "\n",
    "df_seguimiento_clean= df_seguimiento_clean[df_seguimiento_clean['visible_no_eliminado']=='t'].drop_duplicates()\n"
   ]
  },
  {
   "cell_type": "code",
   "execution_count": null,
   "id": "6f6f01a8",
   "metadata": {},
   "outputs": [],
   "source": [
    "df_seguimiento_clean['nfolio_caso_indice'].value_counts()"
   ]
  },
  {
   "cell_type": "markdown",
   "id": "6034da3a",
   "metadata": {},
   "source": [
    "# Indicador 5: Oportunidad en la investigación epidemiológica de casos\n",
    "\n",
    "## Objetivo: Fortalecer la investigación epidemiológica de los casos\n",
    "\n",
    "### Meta: >90%\n",
    "\n",
    "**Periodicidad:** Semanal\n",
    "\n",
    "**Escala Territorial:** Comunal, Regional, Nacional\n",
    "\n",
    "**Fuente de Información:** Base EPIVIGILIA actualizada con los reportes de laboratorio al día de la determinación del indicador. Base de seguimiento"
   ]
  },
  {
   "cell_type": "markdown",
   "id": "0d29cecb",
   "metadata": {},
   "source": [
    "### Cálculo del indicador a nivel comunal\n",
    "\n",
    "$\\frac{No.\\:casos\\:nuevos\\:registrados\\:investigados\\:dentro\\:de\\:48\\:hrs\\:por\\:comuna\\:1er\\:establecimiento,\\:semana\\:x}{No.\\:casos\\:nuevos\\:registrados\\:por\\:comuna\\:1er\\:establecimiento\\:semana\\:x}x100$"
   ]
  },
  {
   "cell_type": "markdown",
   "id": "d9035d1d",
   "metadata": {},
   "source": [
    "### Cálculo del indicador a nivel regional\n",
    "\n",
    "$\\frac{No.\\:casos\\:nuevos\\:registrados\\:investigados\\:dentro\\:de\\:48\\:hrs\\:por\\:región\\:1er\\:establecimiento,\\:semana\\:x}{No.\\:casos\\:nuevos\\:registrados\\:por\\:región\\:1er\\:establecimiento\\:semana\\:x}x100$"
   ]
  },
  {
   "cell_type": "markdown",
   "id": "91bc248a",
   "metadata": {},
   "source": [
    "**Observación**\n",
    "\n",
    "- No se incluyen los casos nuevos no notificados\n",
    "- Se considera un caso nuevo registrado a aquel caso notificado que cumple los requisitos para estar en el modulo de seguimiento\n",
    "- La fecha para determinar el *inicio de seguimiento* corresponde a la **fecha de resultado (caso confirmado)** o **fecha de notificación (caso probable)**. Para un caso confirmado, si el resultado del test es anterior a la fecha de notificación, se debe iniciar seguimiento a partir de la fecha en que el registro está disponible en la bandeja de seguimiento.\n",
    "- Se cumple el indicador si, dentro de las 48 hrs. a partir de la fecha de inicio de seguimiento se tiene al menos una actividad de seguimiento exitosa (se logra ubicar al caso).\n",
    "- El primer establecimiento corresponde al establecimiento dado por API FONASA. Si el registro no hace match con API FONASA, se considera el establecimiento de notificación.\n",
    "- Se consideran sólo registros de casos que estén activos o egresados en la bandeja de seguimiento."
   ]
  },
  {
   "cell_type": "code",
   "execution_count": null,
   "id": "96d3e313",
   "metadata": {},
   "outputs": [],
   "source": [
    "df_seguimiento_clean['fecha_creacion'] #casos nuevos registrados"
   ]
  },
  {
   "cell_type": "code",
   "execution_count": null,
   "id": "28aa4daa",
   "metadata": {},
   "outputs": [],
   "source": [
    "\n",
    "#Se consideran sólo registros de casos que estén activos o egresados en la bandeja de seguimiento.\n",
    "\n",
    "df_seguimiento_ind5= df_seguimiento_clean[(df_seguimiento_clean['suspendido']=='activo')|(df_seguimiento_clean['suspendido']=='egresado')]\n",
    "\n",
    "df_seguimiento_ind5.sample(2)"
   ]
  },
  {
   "cell_type": "code",
   "execution_count": null,
   "id": "86dc3028",
   "metadata": {},
   "outputs": [],
   "source": [
    "df_seguimiento_ind5[['suspendido', 'etapa_clinica', 'visible_no_eliminado','resultado_pcr_1','resultado_pcr_2','resultado_pcr_3']]"
   ]
  },
  {
   "cell_type": "code",
   "execution_count": null,
   "id": "00e7dcdd",
   "metadata": {},
   "outputs": [],
   "source": [
    "# Aún existen casos con 'etapa_clinica' DESCARTADA y SOSPECHA \n",
    "\n",
    "df_seguimiento_ind5.etapa_clinica.value_counts()"
   ]
  },
  {
   "cell_type": "code",
   "execution_count": null,
   "id": "c174021d",
   "metadata": {},
   "outputs": [],
   "source": [
    "\n",
    "df_seguimiento_ind5[df_seguimiento_ind5['etapa_clinica']=='CONFIRMADA'][\n",
    "    ['etapa_clinica',\n",
    "     'tipo_seguimiento',\n",
    "     'fecha_cumple_requisitos', \n",
    "     'fecha_notificacion',\n",
    "     'fecha_resultado_pcr_1',\n",
    "     'fecha_resultado_pcr_2',\n",
    "     'fecha_resultado_pcr_3']\n",
    "]"
   ]
  },
  {
   "cell_type": "code",
   "execution_count": null,
   "id": "c65673c9",
   "metadata": {},
   "outputs": [],
   "source": [
    "# Elimina etapa_clinica DESCARTADA y SOSPECHA\n",
    "df_seguimiento_ind5 = df_seguimiento_ind5[(df_seguimiento_ind5['etapa_clinica']!='DESCARTADA')|(df_seguimiento_ind5['etapa_clinica']!='SOSPECHA')]"
   ]
  },
  {
   "cell_type": "code",
   "execution_count": null,
   "id": "9232fd41",
   "metadata": {},
   "outputs": [],
   "source": [
    "# Toma en cuenta solo el primer contacto con el contacto o caso\n",
    "\n",
    "df_seguimiento_ind5= df_seguimiento_ind5.sort_values(by=['n_folio', 'dia_contacto']).groupby('n_folio').head(1)"
   ]
  },
  {
   "cell_type": "code",
   "execution_count": null,
   "id": "35b7a61f",
   "metadata": {},
   "outputs": [],
   "source": [
    "#Crea diferencia de fecha\n",
    "df_seguimiento_ind5['dif_fecha'] = df_seguimiento_ind5['fecha_cumple_requisitos'] - df_seguimiento_ind5['fecha_notificacion']"
   ]
  },
  {
   "cell_type": "code",
   "execution_count": null,
   "id": "cb8ed623",
   "metadata": {},
   "outputs": [],
   "source": [
    "# Crea columna considerando si diferencial de fecha cumple requisitos y fecha de notificacion\n",
    "# es menor a un timedelta de d 2 días\n",
    "\n",
    "df_seguimiento_ind5['ind5'] = df_seguimiento_ind5['dif_fecha']<= pd.to_timedelta('2 days')"
   ]
  },
  {
   "cell_type": "code",
   "execution_count": null,
   "id": "d8593408",
   "metadata": {},
   "outputs": [],
   "source": [
    "df_seguimiento_ind5[['fecha_creacion',\n",
    "                       'fecha_notificacion', \n",
    "                       'fecha_cumple_requisitos', #Se considera un caso nuevo registrado a aquel caso notificado que cumple los requisitos para estar en el modulo de seguimiento\n",
    "                       'fecha_derivacion_toma_muestra',\n",
    "                       'cont_fecha_seguimiento',\n",
    "                       'cont_inicio_cuarentena',\n",
    "                       'cont_fin_cuarentena',\n",
    "                       'cont_fecha_licencia',\n",
    "                       'dif_fecha'\n",
    "                      ]].sample(4)"
   ]
  },
  {
   "cell_type": "code",
   "execution_count": null,
   "id": "9347fcfe",
   "metadata": {},
   "outputs": [],
   "source": [
    "df_seguimiento_ind5.groupby(['fecha_cumple_requisitos', 'ind5']).count()[['n_folio']].reset_index()"
   ]
  },
  {
   "cell_type": "code",
   "execution_count": null,
   "id": "172eaea9",
   "metadata": {},
   "outputs": [],
   "source": [
    "# Crea gráfico de etapa_clinica regional por semana epidemiologica\n",
    "\n",
    "px.bar(df_seguimiento_ind5.groupby(['fecha_cumple_requisitos', 'ind5']).count()[['n_folio']].reset_index(),\n",
    "        x= 'fecha_cumple_requisitos',\n",
    "        y= 'n_folio',\n",
    "        color= 'ind5',\n",
    "        color_discrete_map={\n",
    "            True: '#750D86',\n",
    "            False: '#EB663B',#rgb(222,203,228)#C075A6\n",
    "            \n",
    "          },\n",
    "        labels={'ind5':'Cumple'}, \n",
    "       ).update_layout(title= 'Ind:5 Oportunidad en la investigación epidemiológica de casos',\n",
    "                    yaxis_title='No. casos nuevos investigados en 48 hrs',\n",
    "                    xaxis_title='Fecha',\n",
    "                    template='simple_white',    ).update_traces(marker_line_color='rgb(0,0,0)',\n",
    "                                      marker_line_width=0.1, \n",
    "                                      opacity=0.8\n",
    "                                     )                     \n",
    "                    #xaxis=dict(tickmode = 'array',\n",
    "                     #             tickvals = list(range(12,88,3)),\n",
    "                      #            ticktext = list(list(range(12,54,3))+list(range(1,88,3))),\n",
    "                      #           ),\n",
    "               #     ).add_vline(x=53.5, line_width=3, line_dash='dash', line_color='gray'\n",
    "                #               ).add_vrect(x0='50', x1='50', \n",
    "                 #                          annotation_text='2020', \n",
    "                  #                         annotation_position='top right',\n",
    "                   #                        annotation=dict(font_size=18, \n",
    "                    #                                       font_family=\"'Open Sans', verdana, arial, sans-serif\"),\n",
    "                     #                                      opacity=0, \n",
    "                      #                                     line_width=0\n",
    "                       #                   ).add_vrect(x0='84', x1='86', \n",
    "                        #                   annotation_text='2021', \n",
    "                         #                  annotation_position='top right',\n",
    "                          #                 annotation=dict(font_size=18, \n",
    "                           #                                font_family=\"'Open Sans', verdana, arial, sans-serif\"),\n",
    "                            #                               opacity=0, \n",
    "                             #                              line_width=0)  \n",
    "                      "
   ]
  },
  {
   "cell_type": "code",
   "execution_count": null,
   "id": "01ab8e1a",
   "metadata": {},
   "outputs": [],
   "source": [
    "# Crea gráfico de etapa_clinica regional por semana epidemiologica\n",
    "\n",
    "px.bar(df_seguimiento_ind5.groupby(['fecha_cumple_requisitos', 'ind5']).count()[['n_folio']].reset_index().merge(data_aysen_clean_21[['fecha_notificacion','semana_epidemiologica_21']], \n",
    "                   left_on='fecha_cumple_requisitos',\n",
    "                   right_on='fecha_notificacion',\n",
    "                   how='left').groupby(['semana_epidemiologica_21','ind5']).mean().reset_index(),\n",
    "        x= 'semana_epidemiologica_21',\n",
    "        y= 'n_folio',\n",
    "        color= 'ind5',\n",
    "        color_discrete_map={\n",
    "            True: '#750D86',\n",
    "            False: '#EB663B',#rgb(222,203,228)#C075A6\n",
    "            \n",
    "          },\n",
    "        labels={'ind5':'Cumple'}, \n",
    "       ).update_layout(title= 'Ind:5 Oportunidad en la investigación epidemiológica de casos',\n",
    "                    yaxis_title='No. casos nuevos investigados en 48 hrs',\n",
    "                    xaxis_title='Semana epidemiológica',\n",
    "                    template='simple_white',    ).update_traces(marker_line_color='rgb(0,0,0)',\n",
    "                                      marker_line_width=0.1, \n",
    "                                      opacity=0.8\n",
    "                                     )                     \n",
    "                    #xaxis=dict(tickmode = 'array',\n",
    "                     #             tickvals = list(range(12,88,3)),\n",
    "                      #            ticktext = list(list(range(12,54,3))+list(range(1,88,3))),\n",
    "                      #           ),\n",
    "               #     ).add_vline(x=53.5, line_width=3, line_dash='dash', line_color='gray'\n",
    "                #               ).add_vrect(x0='50', x1='50', \n",
    "                 #                          annotation_text='2020', \n",
    "                  #                         annotation_position='top right',\n",
    "                   #                        annotation=dict(font_size=18, \n",
    "                    #                                       font_family=\"'Open Sans', verdana, arial, sans-serif\"),\n",
    "                     #                                      opacity=0, \n",
    "                      #                                     line_width=0\n",
    "                       #                   ).add_vrect(x0='84', x1='86', \n",
    "                        #                   annotation_text='2021', \n",
    "                         #                  annotation_position='top right',\n",
    "                          #                 annotation=dict(font_size=18, \n",
    "                           #                                font_family=\"'Open Sans', verdana, arial, sans-serif\"),\n",
    "                            #                               opacity=0, \n",
    "                             #                              line_width=0)  \n",
    "                      "
   ]
  },
  {
   "cell_type": "code",
   "execution_count": null,
   "id": "fd04d1a4",
   "metadata": {},
   "outputs": [],
   "source": [
    "df_ind5= df_seguimiento_ind5.groupby(['fecha_cumple_requisitos', 'ind5']).count()[['n_folio']].reset_index()"
   ]
  },
  {
   "cell_type": "code",
   "execution_count": null,
   "id": "8c7a7f1d",
   "metadata": {},
   "outputs": [],
   "source": [
    "df_ind5_perc = (df_ind5[df_ind5['ind5']==True].set_index('fecha_cumple_requisitos')[['n_folio']]/df_ind5.groupby('fecha_cumple_requisitos').sum('n_folio')[['n_folio']])*100"
   ]
  },
  {
   "cell_type": "code",
   "execution_count": null,
   "id": "970617ba",
   "metadata": {},
   "outputs": [],
   "source": [
    "px.scatter(df_ind5_perc.reset_index(),\n",
    "        x= 'fecha_cumple_requisitos',\n",
    "        y= 'n_folio',\n",
    "        color='n_folio',\n",
    "        color_continuous_scale=px.colors.sequential.Viridis_r,\n",
    "        labels={'n_folio':'Oportunidad (%)'},\n",
    "        ).update_layout(title= 'Ind:5 Oportunidad en la investigación epidemiológica de casos',\n",
    "                       yaxis_title='No. casos nuevos investigados en 48 hrs (%)',\n",
    "                       xaxis_title='Fecha',\n",
    "                       template='simple_white',\n",
    "                 #      xaxis=dict(tickmode = 'array',\n",
    "                  #                tickvals = list(range(12,88,3)),\n",
    "                   #               ticktext = list(list(range(12,54,3))+list(range(1,88,3))),\n",
    "                    #             ),\n",
    "                 #   ).add_vline(x=53.5, line_width=3, line_dash='dash', line_color='gray'\n",
    "                  #             ).add_hline(y=10, \n",
    "                   #                        line_width=3, \n",
    "                    #                       line_dash='longdash', \n",
    "                     #                      line_color='olive',\n",
    "                      #                     annotation_text='Meta nacional (10%)',\n",
    "                       #                    annotation_position='bottom right'\n",
    "                        #         ).add_hline(y=mean_bac_ind, \n",
    "                         #                    line_width=3, \n",
    "                          #                   line_dash='longdash', \n",
    "                           #                  line_color='green',\n",
    "                            #                 annotation_text= 'Promedio BAC ('+str(mean_bac_ind)+'%)',\n",
    "                             #                annotation_position='bottom right'\n",
    "                              #       ).add_vrect(x0='51', x1='50', \n",
    "                               #            annotation_text='2020', \n",
    "                                #           annotation_position='top right',\n",
    "                                 #          annotation=dict(font_size=18, \n",
    "                                  #                         font_family=\"'Open Sans', verdana, arial, sans-serif\"),\n",
    "                                   #                        opacity=0, \n",
    "                                    #                       line_width=0\n",
    "                                     #     ).add_vrect(x0='84', x1='86', \n",
    "                                      #     annotation_text='2021', \n",
    "                                       #    annotation_position='top right',\n",
    "                                        #   annotation=dict(font_size=18, \n",
    "                                         #                  font_family=\"'Open Sans', verdana, arial, sans-serif\"),\n",
    "                                          #                 opacity=0, \n",
    "                                           #                line_width=0\n",
    "                                                     ).update_traces(mode='lines+markers', \n",
    "                                                                     line_color='grey',\n",
    "                                                                     marker_line_width=1, \n",
    "                                                                     marker_size=10)"
   ]
  },
  {
   "cell_type": "code",
   "execution_count": null,
   "id": "4b92ed8f",
   "metadata": {},
   "outputs": [],
   "source": [
    "df_ind5_perc.reset_index().head()"
   ]
  },
  {
   "cell_type": "code",
   "execution_count": null,
   "id": "58ab24f0",
   "metadata": {},
   "outputs": [],
   "source": [
    "data_aysen_clean_21[['fecha_notificacion','semana_epidemiologica_21']]"
   ]
  },
  {
   "cell_type": "code",
   "execution_count": null,
   "id": "b34b297f",
   "metadata": {
    "scrolled": true
   },
   "outputs": [],
   "source": [
    "df_ind5_perc.reset_index().merge(data_aysen_clean_21[['fecha_notificacion','semana_epidemiologica_21']], \n",
    "                   left_on='fecha_cumple_requisitos',\n",
    "                   right_on='fecha_notificacion',\n",
    "                   how='left').groupby('semana_epidemiologica_21').mean()"
   ]
  },
  {
   "cell_type": "code",
   "execution_count": null,
   "id": "8dc704bc",
   "metadata": {},
   "outputs": [],
   "source": [
    "mean_ind5 = df_ind5_perc.reset_index().merge(data_aysen_clean_21[['fecha_notificacion','semana_epidemiologica_21']], \n",
    "                   left_on='fecha_cumple_requisitos',\n",
    "                   right_on='fecha_notificacion',\n",
    "                   how='left').groupby('semana_epidemiologica_21').mean()['n_folio'].mean()"
   ]
  },
  {
   "cell_type": "code",
   "execution_count": null,
   "id": "092393c9",
   "metadata": {},
   "outputs": [],
   "source": [
    "px.scatter(df_ind5_perc.reset_index().merge(data_aysen_clean_21[['fecha_notificacion','semana_epidemiologica_21']], \n",
    "                   left_on='fecha_cumple_requisitos',\n",
    "                   right_on='fecha_notificacion',\n",
    "                   how='left').groupby('semana_epidemiologica_21').mean().reset_index(),\n",
    "        x= 'semana_epidemiologica_21',\n",
    "        y= 'n_folio',\n",
    "        #trendline='rolling',\n",
    "        #trendline_options=dict(window=5),\n",
    "        color='n_folio',\n",
    "        color_continuous_scale=px.colors.sequential.Viridis_r,\n",
    "        labels={'n_folio':'Oportunidad (%)'},\n",
    "        ).update_layout(title= 'Ind5: Oportunidad en la investigación epidemiológica de casos',\n",
    "                       yaxis_title='No. casos nuevos investigados en 48 hrs (%)',\n",
    "                       xaxis_title='Semana epidemiológica',\n",
    "                       yaxis_range= [50,105],\n",
    "                       template='simple_white',\n",
    "                       xaxis=dict(tickmode = 'array',\n",
    "                                  tickvals = list(range(12,88,3)),\n",
    "                                  ticktext = list(list(range(12,54,3))+list(range(1,88,3))),\n",
    "                                 ),\n",
    "                    ).add_vline(x=53.5, line_width=3, line_dash='dash', line_color='gray'\n",
    "                              ).add_hline(y=90,\n",
    "                                            line_width=3, \n",
    "                                            line_dash='longdash', \n",
    "                                            line_color='#222A2A',\n",
    "                                            annotation_text='Meta (90%)',\n",
    "                                            annotation_position='bottom right'\n",
    "                                # ).add_hline(y=mean_ind5, \n",
    "                                 #            line_width=3, \n",
    "                                  #           line_dash='longdash', \n",
    "                                   #          line_color='#0D2A63',\n",
    "                                    #         annotation_text= 'Promedio ('+str(round(mean_ind5, 2))+'%)',\n",
    "                                     #        annotation_position='bottom right'\n",
    "                                     ).add_vrect(x0='51', x1='53', \n",
    "                                           annotation_text='2020', \n",
    "                                           annotation_position='inside right',\n",
    "                                           annotation=dict(font_size=18, \n",
    "                                                           font_family=\"'Open Sans', verdana, arial, sans-serif\"),\n",
    "                                                           opacity=0, \n",
    "                                                           line_width=0\n",
    "                                          ).add_vrect(x0='84', x1='88', \n",
    "                                           annotation_text='2021', \n",
    "                                           annotation_position='inside right',\n",
    "                                           annotation=dict(font_size=18, \n",
    "                                                           font_family=\"'Open Sans', verdana, arial, sans-serif\"),\n",
    "                                                           opacity=0, \n",
    "                                                           line_width=0\n",
    "                                                     ).update_traces(mode='lines+markers', \n",
    "                                                                     line_color='grey',\n",
    "                                                                     marker_line_width=1, \n",
    "                                                                     marker_size=10)"
   ]
  },
  {
   "cell_type": "markdown",
   "id": "f84a42a2",
   "metadata": {},
   "source": [
    "# Indicador 6: Capacidad de investigación de contactos\n",
    "\n",
    "## Objetivos: Fortalecer la investigación epidemiológica de los contactos estrechos\n",
    "\n",
    "### Meta: >80%\n",
    "\n",
    "**Periodicidad:** Semanal\n",
    "\n",
    "**Escala territorial:** Comuna, Regional, Nacional\n",
    "\n",
    "**Fuente de información:** base EPIVIGILA actualizada con los reportes de laboratorio al día de la determinación del indicador. Base de seguimiento"
   ]
  },
  {
   "cell_type": "markdown",
   "id": "fe66a852",
   "metadata": {},
   "source": [
    "**Cálculo del indicador a nivel comunal**\n",
    "\n",
    "$\\frac{No.\\:casos\\:nuevos\\:con\\:contactos\\:estrechos\\:por\\:comuna\\:1er\\:establecimiento\\:semana\\:x}{No.\\:casos\\:nuevos\\:por\\:comuna\\:1er\\:establecimiento\\:semana\\:x}$\n",
    "\n",
    "**Cálculo del indicador a nivel regional**\n",
    "\n",
    "$\\frac{No.\\:casos\\:nuevos\\:con\\:contactos\\:estrechos\\:por\\:región\\:1er\\:establecimiento\\:semana\\:x}{No.\\:casos\\:nuevos\\:por\\:región\\:1er\\:establecimiento\\:semana\\:x}$"
   ]
  },
  {
   "cell_type": "markdown",
   "id": "17884c84",
   "metadata": {},
   "source": [
    "**Observaciones**\n",
    "\n",
    "- No se incluyen los casos nuevos no notificados\n",
    "- Se considera un caso nuevo registrado a aquel caso nuevo notificado que cumple los requisitos para estar en el módulo de seguimiento\n",
    "- Los casos nuevos con contactos estrechos son considerados de forma dicotómica (sí o no)\n",
    "- El primer establecimiento corresponde al establecimiento de notificación. Se seguirá considerando el primer establecimiento para este indicador, aún si se derivó previo a la investigación epidemiológica.\n",
    "- Se consideran sólo registros activos o egresados en la bandeja de seguimiento"
   ]
  },
  {
   "cell_type": "code",
   "execution_count": null,
   "id": "9f6c4d0c",
   "metadata": {},
   "outputs": [],
   "source": [
    "df_seguimiento_ind6 = df_seguimiento_clean"
   ]
  },
  {
   "cell_type": "code",
   "execution_count": null,
   "id": "4267b10b",
   "metadata": {},
   "outputs": [],
   "source": [
    "df_seguimiento_ind6['is_contact']= df_seguimiento_ind6['nfolio_contacto_estrecho'].notna()"
   ]
  },
  {
   "cell_type": "code",
   "execution_count": null,
   "id": "2834e8f5",
   "metadata": {},
   "outputs": [],
   "source": [
    "# Crea una lista con casos indice\n",
    "\n",
    "casos_indice = df_seguimiento_ind6[df_seguimiento_ind6['nfolio_caso_indice'].notna()]['nfolio_caso_indice'].drop_duplicates().astype('float64').to_list()\n",
    "\n"
   ]
  },
  {
   "cell_type": "code",
   "execution_count": null,
   "id": "15d12a72",
   "metadata": {},
   "outputs": [],
   "source": [
    "# Revisa si un caso es caso indice\n",
    "\n",
    "df_seguimiento_ind6['is_index'] = df_seguimiento_ind6['nfolio_caso'].isin(casos_indice)"
   ]
  },
  {
   "cell_type": "code",
   "execution_count": null,
   "id": "6c5454bd",
   "metadata": {},
   "outputs": [],
   "source": [
    "# Crea columna para mostrando si es o caso indice o contacto estrecho\n",
    "\n",
    "df_seguimiento_ind6['is_index_or_contact'] = df_seguimiento_ind6['is_index'] | df_seguimiento_ind6['is_contact']"
   ]
  },
  {
   "cell_type": "code",
   "execution_count": null,
   "id": "2ef3a258",
   "metadata": {},
   "outputs": [],
   "source": [
    "df_seguimiento_ind6['is_index_or_contact'].value_counts()"
   ]
  },
  {
   "cell_type": "code",
   "execution_count": null,
   "id": "02cc4d8b",
   "metadata": {},
   "outputs": [],
   "source": [
    "df_seguimiento_ind6_clean = df_seguimiento_ind6[(df_seguimiento_ind6['suspendido']=='activo')|(df_seguimiento_ind6['suspendido']=='egresado')]"
   ]
  },
  {
   "cell_type": "code",
   "execution_count": null,
   "id": "3eba1661",
   "metadata": {},
   "outputs": [],
   "source": [
    "# Elimina etapa_clinica DESCARTADA y SOSPECHA\n",
    "df_seguimiento_ind6_clean = df_seguimiento_ind6_clean[(df_seguimiento_ind6_clean['etapa_clinica']!='DESCARTADA')|(df_seguimiento_ind6_clean['etapa_clinica']!='SOSPECHA')]"
   ]
  },
  {
   "cell_type": "code",
   "execution_count": null,
   "id": "d61bf0ca",
   "metadata": {},
   "outputs": [],
   "source": [
    "df_seguimiento_ind6_clean['nfolio_caso_indice'].value_counts()"
   ]
  },
  {
   "cell_type": "code",
   "execution_count": null,
   "id": "1f5ea323",
   "metadata": {},
   "outputs": [],
   "source": [
    "df_seguimiento_ind6_clean.head(1)"
   ]
  },
  {
   "cell_type": "code",
   "execution_count": null,
   "id": "1849060e",
   "metadata": {},
   "outputs": [],
   "source": [
    "# Toma en cuenta solo el primer contacto con el contacto o caso\n",
    "\n",
    "df_seguimiento_ind6_clean= df_seguimiento_ind6_clean.sort_values(by=['n_folio', 'dia_contacto']).groupby('n_folio').head(1)"
   ]
  },
  {
   "cell_type": "code",
   "execution_count": null,
   "id": "02a2fa3d",
   "metadata": {},
   "outputs": [],
   "source": [
    "df_seguimiento_ind6_clean.groupby(['fecha_cumple_requisitos', 'is_index_or_contact']).count()[['n_folio']].reset_index()"
   ]
  },
  {
   "cell_type": "code",
   "execution_count": null,
   "id": "049d9e0f",
   "metadata": {
    "scrolled": false
   },
   "outputs": [],
   "source": [
    "# Crea gráfico de etapa_clinica regional por semana epidemiologica\n",
    "\n",
    "px.bar(df_seguimiento_ind6_clean.groupby(['fecha_cumple_requisitos', 'is_index_or_contact']).count()[['n_folio']].reset_index(),\n",
    "        x= 'fecha_cumple_requisitos',\n",
    "        y= 'n_folio',\n",
    "        color= 'is_index_or_contact',\n",
    "        color_discrete_map={\n",
    "            True: '#750D86',\n",
    "            False: '#EECA3B',#rgb(222,203,228)#C075A6\n",
    "          },\n",
    "        labels={'is_index_or_contact':'Con contactos'}, \n",
    "       ).update_layout(title= 'Ind 6: Capacidad de investigación de contactos estrechos de la Región de Aysén',\n",
    "                    yaxis_title='No. casos nuevos con contactos estrechos',\n",
    "                    xaxis_title='Fecha',\n",
    "                    template='simple_white',\n",
    "                      \n",
    "                      ).update_traces(marker_line_color='rgb(0,0,0)',\n",
    "                                      marker_line_width=0, \n",
    "                                      opacity=1\n",
    "                                     )                \n",
    "                    #xaxis=dict(tickmode = 'array',\n",
    "                     #             tickvals = list(range(12,88,3)),\n",
    "                      #            ticktext = list(list(range(12,54,3))+list(range(1,88,3))),\n",
    "                      #           ),\n",
    "               #     ).add_vline(x=53.5, line_width=3, line_dash='dash', line_color='gray'\n",
    "                #               ).add_vrect(x0='50', x1='50', \n",
    "                 #                          annotation_text='2020', \n",
    "                  #                         annotation_position='top right',\n",
    "                   #                        annotation=dict(font_size=18, \n",
    "                    #                                       font_family=\"'Open Sans', verdana, arial, sans-serif\"),\n",
    "                     #                                      opacity=0, \n",
    "                      #                                     line_width=0\n",
    "                       #                   ).add_vrect(x0='84', x1='86', \n",
    "                        #                   annotation_text='2021', \n",
    "                         #                  annotation_position='top right',\n",
    "                          #                 annotation=dict(font_size=18, \n",
    "                           #                                font_family=\"'Open Sans', verdana, arial, sans-serif\"),\n",
    "                            #                               opacity=0, \n",
    "                             #                              line_width=0)  \n",
    "                      "
   ]
  },
  {
   "cell_type": "code",
   "execution_count": null,
   "id": "9e7c86ad",
   "metadata": {},
   "outputs": [],
   "source": [
    "# Crea gráfico de etapa_clinica regional por semana epidemiologica\n",
    "\n",
    "px.bar(df_seguimiento_ind6_clean.groupby(['fecha_cumple_requisitos', 'is_index_or_contact']).count()[['n_folio']].reset_index().merge(\n",
    "    data_aysen_clean_21[['fecha_notificacion','semana_epidemiologica_21']], \n",
    "                   left_on='fecha_cumple_requisitos',\n",
    "                   right_on='fecha_notificacion',\n",
    "                   how='left').groupby(['semana_epidemiologica_21','is_index_or_contact']).mean().reset_index(),\n",
    "        x= 'semana_epidemiologica_21',\n",
    "        y= 'n_folio',\n",
    "        color= 'is_index_or_contact',\n",
    "        color_discrete_map={\n",
    "            True: '#750D86',\n",
    "            False: '#EECA3B',#rgb(222,203,228)#C075A6\n",
    "          },\n",
    "        labels={'is_index_or_contact':'Con contactos'}, \n",
    "       ).update_layout(title= 'Ind 6: Capacidad de investigación de contactos estrechos de la Región de Aysén',\n",
    "                    yaxis_title='No. casos nuevos con contactos estrechos',\n",
    "                    xaxis_title='Semana epidemiológica',\n",
    "                    template='simple_white',    ).update_traces(marker_line_color='rgb(0,0,0)',\n",
    "                                      marker_line_width=0.1, \n",
    "                                      opacity=0.8\n",
    "                                     )                     \n",
    "                    #xaxis=dict(tickmode = 'array',\n",
    "                     #             tickvals = list(range(12,88,3)),\n",
    "                      #            ticktext = list(list(range(12,54,3))+list(range(1,88,3))),\n",
    "                      #           ),\n",
    "               #     ).add_vline(x=53.5, line_width=3, line_dash='dash', line_color='gray'\n",
    "                #               ).add_vrect(x0='50', x1='50', \n",
    "                 #                          annotation_text='2020', \n",
    "                  #                         annotation_position='top right',\n",
    "                   #                        annotation=dict(font_size=18, \n",
    "                    #                                       font_family=\"'Open Sans', verdana, arial, sans-serif\"),\n",
    "                     #                                      opacity=0, \n",
    "                      #                                     line_width=0\n",
    "                       #                   ).add_vrect(x0='84', x1='86', \n",
    "                        #                   annotation_text='2021', \n",
    "                         #                  annotation_position='top right',\n",
    "                          #                 annotation=dict(font_size=18, \n",
    "                           #                                font_family=\"'Open Sans', verdana, arial, sans-serif\"),\n",
    "                            #                               opacity=0, \n",
    "                             #                              line_width=0)  \n",
    "                      "
   ]
  },
  {
   "cell_type": "code",
   "execution_count": null,
   "id": "edaeb892",
   "metadata": {},
   "outputs": [],
   "source": [
    "df_ind6= df_seguimiento_ind6_clean.groupby(['fecha_cumple_requisitos', 'is_index_or_contact']).count()[['n_folio']].reset_index()"
   ]
  },
  {
   "cell_type": "code",
   "execution_count": null,
   "id": "04547c42",
   "metadata": {},
   "outputs": [],
   "source": [
    "df_ind6_perc = (df_ind6[df_ind6['is_index_or_contact']==True].set_index('fecha_cumple_requisitos')[['n_folio']]/df_ind6.groupby('fecha_cumple_requisitos').sum('n_folio')[['n_folio']])*100"
   ]
  },
  {
   "cell_type": "code",
   "execution_count": null,
   "id": "3b4a5530",
   "metadata": {},
   "outputs": [],
   "source": [
    "px.scatter(df_ind6_perc.reset_index(),\n",
    "        x= 'fecha_cumple_requisitos',\n",
    "        y= 'n_folio',\n",
    "        color='n_folio',\n",
    "        color_continuous_scale=px.colors.sequential.Magma_r,\n",
    "        labels={'n_folio':'Con contactos (%)'},\n",
    "        ).update_layout(title= 'Ind 6: Capacidad de investigación de contactos estrechos de la Región de Aysén',\n",
    "                       yaxis_title='No. casos nuevos con contactos estrechos (%)',\n",
    "                       xaxis_title='Fecha',\n",
    "                       template='simple_white',\n",
    "                 #      xaxis=dict(tickmode = 'array',\n",
    "                  #                tickvals = list(range(12,88,3)),\n",
    "                   #               ticktext = list(list(range(12,54,3))+list(range(1,88,3))),\n",
    "                    #             ),\n",
    "                 #   ).add_vline(x=53.5, line_width=3, line_dash='dash', line_color='gray'\n",
    "                  #             ).add_hline(y=10, \n",
    "                   #                        line_width=3, \n",
    "                    #                       line_dash='longdash', \n",
    "                     #                      line_color='olive',\n",
    "                      #                     annotation_text='Meta nacional (10%)',\n",
    "                       #                    annotation_position='bottom right'\n",
    "                        #         ).add_hline(y=mean_bac_ind, \n",
    "                         #                    line_width=3, \n",
    "                          #                   line_dash='longdash', \n",
    "                           #                  line_color='green',\n",
    "                            #                 annotation_text= 'Promedio BAC ('+str(mean_bac_ind)+'%)',\n",
    "                             #                annotation_position='bottom right'\n",
    "                              #       ).add_vrect(x0='51', x1='50', \n",
    "                               #            annotation_text='2020', \n",
    "                                #           annotation_position='top right',\n",
    "                                 #          annotation=dict(font_size=18, \n",
    "                                  #                         font_family=\"'Open Sans', verdana, arial, sans-serif\"),\n",
    "                                   #                        opacity=0, \n",
    "                                    #                       line_width=0\n",
    "                                     #     ).add_vrect(x0='84', x1='86', \n",
    "                                      #     annotation_text='2021', \n",
    "                                       #    annotation_position='top right',\n",
    "                                        #   annotation=dict(font_size=18, \n",
    "                                         #                  font_family=\"'Open Sans', verdana, arial, sans-serif\"),\n",
    "                                          #                 opacity=0, \n",
    "                                           #                line_width=0\n",
    "                                                     ).update_traces(mode='lines+markers', \n",
    "                                                                     line_color='grey',\n",
    "                                                                     marker_line_width=1, \n",
    "                                                                     marker_size=10)"
   ]
  },
  {
   "cell_type": "code",
   "execution_count": null,
   "id": "dabbce7e",
   "metadata": {},
   "outputs": [],
   "source": [
    "mean_ind6 = df_ind6_perc.reset_index().merge(data_aysen_clean_21[['fecha_notificacion','semana_epidemiologica_21']], \n",
    "                   left_on='fecha_cumple_requisitos',\n",
    "                   right_on='fecha_notificacion',\n",
    "                   how='left').groupby('semana_epidemiologica_21').mean()['n_folio'].mean()"
   ]
  },
  {
   "cell_type": "code",
   "execution_count": null,
   "id": "385ae5da",
   "metadata": {},
   "outputs": [],
   "source": [
    "px.scatter(df_ind6_perc.reset_index().merge(data_aysen_clean_21[['fecha_notificacion','semana_epidemiologica_21']], \n",
    "                   left_on='fecha_cumple_requisitos',\n",
    "                   right_on='fecha_notificacion',\n",
    "                   how='left').groupby('semana_epidemiologica_21').mean().reset_index(),\n",
    "        x= 'semana_epidemiologica_21',\n",
    "        y= 'n_folio',\n",
    "        #trendline='rolling',\n",
    "        #trendline_options=dict(window=5),\n",
    "        color='n_folio',\n",
    "        color_continuous_scale=px.colors.sequential.Magma_r,\n",
    "        labels={'n_folio':'Con contactos (%)'},\n",
    "        ).update_layout(title= 'Ind 6: Capacidad de investigación de contactos estrechos de la Región de Aysén',\n",
    "                       yaxis_title='No. casos nuevos con contactos estrechos (%)',\n",
    "                       xaxis_title='Semana epidemiológica',\n",
    "                       yaxis_range= [0,100],\n",
    "                       template='simple_white',\n",
    "                       xaxis=dict(tickmode = 'array',\n",
    "                                  tickvals = list(range(12,88,3)),\n",
    "                                  ticktext = list(list(range(12,54,3))+list(range(1,88,3))),\n",
    "                                 ),\n",
    "                    ).add_vline(x=53.5, line_width=3, line_dash='dash', line_color='gray'\n",
    "                              ).add_hline(y=80,\n",
    "                                            line_width=3, \n",
    "                                            line_dash='longdash', \n",
    "                                            line_color='#222A2A',\n",
    "                                            annotation_text='Meta (80%)',\n",
    "                                            annotation_position='bottom right'\n",
    "                                 ).add_hline(y=mean_ind6, \n",
    "                                             line_width=3, \n",
    "                                             line_dash='longdash', \n",
    "                                             line_color='#750D86',\n",
    "                                             annotation_text= 'Promedio ('+str(round(mean_ind6, 2))+'%)',\n",
    "                                             annotation_position='bottom right'\n",
    "                                     ).add_vrect(x0='51', x1='53', \n",
    "                                           annotation_text='2020', \n",
    "                                           annotation_position='top right',\n",
    "                                           annotation=dict(font_size=18, \n",
    "                                                           font_family=\"'Open Sans', verdana, arial, sans-serif\"),\n",
    "                                                           opacity=0, \n",
    "                                                           line_width=0\n",
    "                                          ).add_vrect(x0='84', x1='88', \n",
    "                                           annotation_text='2021', \n",
    "                                           annotation_position='top right',\n",
    "                                           annotation=dict(font_size=18, \n",
    "                                                           font_family=\"'Open Sans', verdana, arial, sans-serif\"),\n",
    "                                                           opacity=0, \n",
    "                                                           line_width=0\n",
    "                                                     ).update_traces(mode='lines+markers', \n",
    "                                                                     line_color='grey',\n",
    "                                                                     marker_line_width=1, \n",
    "                                                                     marker_size=10)"
   ]
  },
  {
   "cell_type": "markdown",
   "id": "5420b74e",
   "metadata": {},
   "source": [
    "# Indicador 7: Capacidad de investigación de contactos en 48h\n",
    "\n",
    "\n",
    "## Objetivo: Evaluar la capacidad de seguimiento de contactos\n",
    "\n",
    "### Meta: >80%\n",
    "\n",
    "**Periodicidad:** Semanal\n",
    "\n",
    "**Escala territorial:** Comuna, Regional, Nacional\n",
    "\n",
    "**Fuente de información:** base EPIVIGILA actualizada con los reportes de laboratorio al día de la determinación del indicador. Base de seguimiento."
   ]
  },
  {
   "cell_type": "markdown",
   "id": "bf1fcd6e",
   "metadata": {},
   "source": [
    "**Cálculo del indicador a nivel comunal**\n",
    "\n",
    "$\\frac{No.\\:contactos\\:identificados\\:investigados\\:dentro\\:de\\:48hrs\\:por\\:comuna\\:1er\\:establecimiento\\:semana\\:x}{No.\\:contactos\\:identificados\\:por\\:comuna\\:1er\\:establecimiento\\:semana\\:x}x100$\n",
    "\n",
    "**Cálculo del indicador a nivel regional**\n",
    "\n",
    "$\\frac{No.\\:contactos\\:identificados\\:investigados\\:dentro\\:de\\:48hrs\\:por\\:región\\:1er\\:establecimiento\\:semana\\:x}{No.\\:contactos\\:identificados\\:por\\:región\\:1er\\:establecimiento\\:semana\\:x}x100$"
   ]
  },
  {
   "cell_type": "markdown",
   "id": "315e67aa",
   "metadata": {},
   "source": [
    "**Observaciones**\n",
    "\n",
    "- No se incluyen los contactos nuevos no notificados\n",
    "- Se considera como registro de contacto aquel que cumple las condiciones para estar en la bandeja de seguimiento\n",
    "- Se consideran sólo registros de casos activos o egresados en la bandeja de seguimiento\n",
    "- El primer establecimiento corresponde al establecimiento dado por API FONASA. Si el registro no hace match con API FONASA, se considera el establecimiento para este indicador, aún si se derivó previo a la investigación epidemiológica"
   ]
  },
  {
   "cell_type": "code",
   "execution_count": null,
   "id": "22039d18",
   "metadata": {},
   "outputs": [],
   "source": [
    "df_seguimiento_ind7 = df_seguimiento_clean"
   ]
  },
  {
   "cell_type": "code",
   "execution_count": null,
   "id": "d86301c6",
   "metadata": {},
   "outputs": [],
   "source": [
    "df_seguimiento_ind7= df_seguimiento_ind7[df_seguimiento_ind7['nfolio_contacto_estrecho'].notna()]#[['fecha_cumple_requisitos','dia_contacto']]"
   ]
  },
  {
   "cell_type": "code",
   "execution_count": null,
   "id": "dc923f65",
   "metadata": {},
   "outputs": [],
   "source": [
    "# Filtra contactos que hayan sido localizados\n",
    "\n",
    "df_seguimiento_ind7 = df_seguimiento_ind7[df_seguimiento_ind7['contacto_localizado']=='t']"
   ]
  },
  {
   "cell_type": "code",
   "execution_count": null,
   "id": "b0cd4ff2",
   "metadata": {},
   "outputs": [],
   "source": [
    "# Se consideran sólo registros de casos activos o egresados\n",
    "df_seguimiento_ind7_clean = df_seguimiento_ind7[(df_seguimiento_ind7['suspendido']=='activo')|(df_seguimiento_ind7['suspendido']=='egresado')]"
   ]
  },
  {
   "cell_type": "code",
   "execution_count": null,
   "id": "b2238f3d",
   "metadata": {},
   "outputs": [],
   "source": [
    "df_seguimiento_ind7_clean = df_seguimiento_ind7_clean[df_seguimiento_ind7_clean['cont_estado_seguimiento']!='Aún no contactado']"
   ]
  },
  {
   "cell_type": "code",
   "execution_count": null,
   "id": "1e8e83b0",
   "metadata": {},
   "outputs": [],
   "source": [
    "df_seguimiento_ind7_clean = df_seguimiento_ind7_clean[df_seguimiento_ind7_clean['cont_inicio_cuarentena'].notna()]"
   ]
  },
  {
   "cell_type": "code",
   "execution_count": null,
   "id": "b24a7600",
   "metadata": {},
   "outputs": [],
   "source": [
    "df_seguimiento_ind7_clean= df_seguimiento_ind7_clean.sort_values(by=['n_folio', 'dia_contacto']).groupby('n_folio').head(1)"
   ]
  },
  {
   "cell_type": "code",
   "execution_count": null,
   "id": "4c35f036",
   "metadata": {
    "scrolled": true
   },
   "outputs": [],
   "source": [
    "df_seguimiento_ind7_clean['dif_intervalo'] = pd.to_datetime(df_seguimiento_ind7_clean['fecha_cumple_requisitos']) - pd.to_datetime(df_seguimiento_ind7_clean['dia_contacto'])"
   ]
  },
  {
   "cell_type": "code",
   "execution_count": null,
   "id": "58234755",
   "metadata": {},
   "outputs": [],
   "source": [
    "df_seguimiento_ind7_clean['dif_intervalo'].value_counts()"
   ]
  },
  {
   "cell_type": "code",
   "execution_count": null,
   "id": "d625ab16",
   "metadata": {},
   "outputs": [],
   "source": [
    "df_seguimiento_ind7_clean['dif_ind7'] = (df_seguimiento_ind7_clean['dif_intervalo'] <= pd.to_timedelta('2 days'))#| (df_seguimiento_ind7_clean['dif_intervalo'] == pd.to_timedelta('-1 days'))|(df_seguimiento_ind7_clean['dif_intervalo'] == pd.to_timedelta('0 days'))"
   ]
  },
  {
   "cell_type": "code",
   "execution_count": null,
   "id": "b2733be6",
   "metadata": {},
   "outputs": [],
   "source": [
    "df_seguimiento_ind7_clean['dif_ind7']"
   ]
  },
  {
   "cell_type": "code",
   "execution_count": null,
   "id": "694696a6",
   "metadata": {},
   "outputs": [],
   "source": [
    "df_seguimiento_ind7_clean.groupby(['fecha_cumple_requisitos','dif_ind7']).count()[['n_folio']].reset_index()"
   ]
  },
  {
   "cell_type": "code",
   "execution_count": null,
   "id": "c9144eac",
   "metadata": {
    "scrolled": false
   },
   "outputs": [],
   "source": [
    "# Crea gráfico de etapa_clinica regional por semana epidemiologica\n",
    "\n",
    "px.bar(df_seguimiento_ind7_clean.groupby(['fecha_cumple_requisitos','dif_ind7']).count()[['n_folio']].reset_index(),\n",
    "        x= 'fecha_cumple_requisitos',\n",
    "        y= 'n_folio',\n",
    "        color= 'dif_ind7',\n",
    "        color_discrete_map={\n",
    "            True: 'rgb(0,134,149)',\n",
    "            False: 'rgb(207,28,144)'#rgb(222,203,228)#C075A6\n",
    "          },\n",
    "        labels={'dif_ind7':'Investigado en 48h'}, \n",
    "       ).update_layout(title= 'Ind 7: Capacidad de investigación de contactos en 48h',\n",
    "                    yaxis_title='No. de contactos investigados dentro de 48 hrs',\n",
    "                    xaxis_title='Fecha',\n",
    "                    template='simple_white',\n",
    "                      ).update_traces(marker_line_color='rgb(0,0,0)',\n",
    "                                      marker_line_width=0.1, \n",
    "                                      #opacity=0.8\n",
    "                                     )                  \n",
    "                    #xaxis=dict(tickmode = 'array',\n",
    "                     #             tickvals = list(range(12,88,3)),\n",
    "                      #            ticktext = list(list(range(12,54,3))+list(range(1,88,3))),\n",
    "                      #           ),\n",
    "               #     ).add_vline(x=53.5, line_width=3, line_dash='dash', line_color='gray'\n",
    "                #               ).add_vrect(x0='50', x1='50', \n",
    "                 #                          annotation_text='2020', \n",
    "                  #                         annotation_position='top right',\n",
    "                   #                        annotation=dict(font_size=18, \n",
    "                    #                                       font_family=\"'Open Sans', verdana, arial, sans-serif\"),\n",
    "                     #                                      opacity=0, \n",
    "                      #                                     line_width=0\n",
    "                       #                   ).add_vrect(x0='84', x1='86', \n",
    "                        #                   annotation_text='2021', \n",
    "                         #                  annotation_position='top right',\n",
    "                          #                 annotation=dict(font_size=18, \n",
    "                           #                                font_family=\"'Open Sans', verdana, arial, sans-serif\"),\n",
    "                            #                               opacity=0, \n",
    "                             #                              line_width=0)  \n",
    "                      "
   ]
  },
  {
   "cell_type": "code",
   "execution_count": null,
   "id": "15a49cbe",
   "metadata": {},
   "outputs": [],
   "source": [
    "# Crea gráfico de etapa_clinica regional por semana epidemiologica\n",
    "\n",
    "px.bar(df_seguimiento_ind7_clean.groupby(['fecha_cumple_requisitos','dif_ind7']).count()[['n_folio']].reset_index().merge(\n",
    "    data_aysen_clean_21[['fecha_notificacion','semana_epidemiologica_21']], \n",
    "                   left_on='fecha_cumple_requisitos',\n",
    "                   right_on='fecha_notificacion',\n",
    "                   how='left').groupby(['semana_epidemiologica_21','dif_ind7']).mean().reset_index(),\n",
    "        x= 'semana_epidemiologica_21',\n",
    "        y= 'n_folio',\n",
    "        color= 'dif_ind7',\n",
    "        color_discrete_map={\n",
    "            True: 'rgb(0,134,149)',\n",
    "            False: 'rgb(207,28,144)'#rgb(222,203,228)#C075A6\n",
    "          },\n",
    "        labels={'dif_ind7':'Investigado en 48h'}, \n",
    "       ).update_layout(title= 'Ind 6: Capacidad de investigación de contactos estrechos de la Región de Aysén',\n",
    "                    yaxis_title='No. casos nuevos con contactos estrechos',\n",
    "                    xaxis_title='Semana epidemiológica',\n",
    "                    template='simple_white',    ).update_traces(marker_line_color='rgb(0,0,0)',\n",
    "                                      marker_line_width=0.1, \n",
    "                                      opacity=0.8\n",
    "                                     )                     \n",
    "                    #xaxis=dict(tickmode = 'array',\n",
    "                     #             tickvals = list(range(12,88,3)),\n",
    "                      #            ticktext = list(list(range(12,54,3))+list(range(1,88,3))),\n",
    "                      #           ),\n",
    "               #     ).add_vline(x=53.5, line_width=3, line_dash='dash', line_color='gray'\n",
    "                #               ).add_vrect(x0='50', x1='50', \n",
    "                 #                          annotation_text='2020', \n",
    "                  #                         annotation_position='top right',\n",
    "                   #                        annotation=dict(font_size=18, \n",
    "                    #                                       font_family=\"'Open Sans', verdana, arial, sans-serif\"),\n",
    "                     #                                      opacity=0, \n",
    "                      #                                     line_width=0\n",
    "                       #                   ).add_vrect(x0='84', x1='86', \n",
    "                        #                   annotation_text='2021', \n",
    "                         #                  annotation_position='top right',\n",
    "                          #                 annotation=dict(font_size=18, \n",
    "                           #                                font_family=\"'Open Sans', verdana, arial, sans-serif\"),\n",
    "                            #                               opacity=0, \n",
    "                             #                              line_width=0)  \n",
    "                      "
   ]
  },
  {
   "cell_type": "code",
   "execution_count": null,
   "id": "0da18904",
   "metadata": {},
   "outputs": [],
   "source": [
    "df_ind7= df_seguimiento_ind7_clean.groupby(['fecha_cumple_requisitos', 'dif_ind7']).count()[['n_folio']].reset_index()"
   ]
  },
  {
   "cell_type": "code",
   "execution_count": null,
   "id": "f27a1c87",
   "metadata": {},
   "outputs": [],
   "source": [
    "df_ind7_perc = (df_ind7[df_ind7['dif_ind7']==True].set_index('fecha_cumple_requisitos')[['n_folio']]/df_ind7.groupby('fecha_cumple_requisitos').sum('n_folio')[['n_folio']])*100"
   ]
  },
  {
   "cell_type": "code",
   "execution_count": null,
   "id": "cfe31af4",
   "metadata": {},
   "outputs": [],
   "source": [
    "px.scatter(df_ind7_perc.reset_index(),\n",
    "        x= 'fecha_cumple_requisitos',\n",
    "        y= 'n_folio',\n",
    "        color='n_folio',\n",
    "        color_continuous_scale=px.colors.sequential.Mint,\n",
    "        labels={'n_folio':'Oportunidad (%)'},\n",
    "        ).update_layout(title= 'Ind 7: Capacidad de investigación de contactos en 48h',\n",
    "                       yaxis_title='No. de contactos investigados dentro de 48 hrs (%)',\n",
    "                       xaxis_title='Fecha',\n",
    "                       template='simple_white',\n",
    "                 #      xaxis=dict(tickmode = 'array',\n",
    "                  #                tickvals = list(range(12,88,3)),\n",
    "                   #               ticktext = list(list(range(12,54,3))+list(range(1,88,3))),\n",
    "                    #             ),\n",
    "                 #   ).add_vline(x=53.5, line_width=3, line_dash='dash', line_color='gray'\n",
    "                  #             ).add_hline(y=10, \n",
    "                   #                        line_width=3, \n",
    "                    #                       line_dash='longdash', \n",
    "                     #                      line_color='olive',\n",
    "                      #                     annotation_text='Meta nacional (10%)',\n",
    "                       #                    annotation_position='bottom right'\n",
    "                        #         ).add_hline(y=mean_bac_ind, \n",
    "                         #                    line_width=3, \n",
    "                          #                   line_dash='longdash', \n",
    "                           #                  line_color='green',\n",
    "                            #                 annotation_text= 'Promedio BAC ('+str(mean_bac_ind)+'%)',\n",
    "                             #                annotation_position='bottom right'\n",
    "                              #       ).add_vrect(x0='51', x1='50', \n",
    "                               #            annotation_text='2020', \n",
    "                                #           annotation_position='top right',\n",
    "                                 #          annotation=dict(font_size=18, \n",
    "                                  #                         font_family=\"'Open Sans', verdana, arial, sans-serif\"),\n",
    "                                   #                        opacity=0, \n",
    "                                    #                       line_width=0\n",
    "                                     #     ).add_vrect(x0='84', x1='86', \n",
    "                                      #     annotation_text='2021', \n",
    "                                       #    annotation_position='top right',\n",
    "                                        #   annotation=dict(font_size=18, \n",
    "                                         #                  font_family=\"'Open Sans', verdana, arial, sans-serif\"),\n",
    "                                          #                 opacity=0, \n",
    "                                           #                line_width=0\n",
    "                                                     ).update_traces(mode='lines+markers', \n",
    "                                                                     line_color='grey',\n",
    "                                                                     marker_line_width=1, \n",
    "                                                                     marker_size=10)"
   ]
  },
  {
   "cell_type": "code",
   "execution_count": null,
   "id": "48916179",
   "metadata": {},
   "outputs": [],
   "source": [
    "mean_ind7 = df_ind7_perc.reset_index().merge(data_aysen_clean_21[['fecha_notificacion','semana_epidemiologica_21']], \n",
    "                   left_on='fecha_cumple_requisitos',\n",
    "                   right_on='fecha_notificacion',\n",
    "                   how='left').groupby('semana_epidemiologica_21').mean()['n_folio'].mean()"
   ]
  },
  {
   "cell_type": "code",
   "execution_count": null,
   "id": "35a54350",
   "metadata": {},
   "outputs": [],
   "source": [
    "px.scatter(df_ind7_perc.reset_index().merge(data_aysen_clean_21[['fecha_notificacion','semana_epidemiologica_21']], \n",
    "                   left_on='fecha_cumple_requisitos',\n",
    "                   right_on='fecha_notificacion',\n",
    "                   how='left').groupby('semana_epidemiologica_21').mean().reset_index(),\n",
    "        x= 'semana_epidemiologica_21',\n",
    "        y= 'n_folio',\n",
    "        #trendline='rolling',\n",
    "        #trendline_options=dict(window=5),\n",
    "        color='n_folio',\n",
    "        color_continuous_scale=px.colors.sequential.Mint,\n",
    "        labels={'n_folio':'Oportunidad (%)'},\n",
    "        ).update_layout(title= 'Ind 7: Capacidad de investigación de contactos en 48h',\n",
    "                       yaxis_title='Contactos investigados dentro de 48 hrs (%)',\n",
    "                       xaxis_title='Semana epidemiológica',\n",
    "                       yaxis_range= [0,105],\n",
    "                       template='simple_white',\n",
    "                       xaxis=dict(tickmode = 'array',\n",
    "                                  tickvals = list(range(12,88,3)),\n",
    "                                  ticktext = list(list(range(12,54,3))+list(range(1,88,3))),\n",
    "                                 ),\n",
    "                    ).add_vline(x=53.5, line_width=3, line_dash='dash', line_color='gray'\n",
    "                              ).add_hline(y=80,\n",
    "                                            line_width=3, \n",
    "                                            line_dash='longdash', \n",
    "                                            line_color='#222A2A',\n",
    "                                            annotation_text='Meta (80%)',\n",
    "                                            annotation_position='bottom left'\n",
    "                                 ).add_hline(y=mean_ind7, \n",
    "                                             line_width=3, \n",
    "                                             line_dash='longdash', \n",
    "                                             line_color='#000000',\n",
    "                                             annotation_text= 'Promedio ('+str(round(mean_ind7, 2))+'%)',\n",
    "                                             annotation_position='bottom left'\n",
    "                                     ).add_vrect(x0='51', x1='53', \n",
    "                                           annotation_text='2020', \n",
    "                                           annotation_position='bottom right',\n",
    "                                           annotation=dict(font_size=18, \n",
    "                                                           font_family=\"'Open Sans', verdana, arial, sans-serif\"),\n",
    "                                                           opacity=0, \n",
    "                                                           line_width=0\n",
    "                                          ).add_vrect(x0='84', x1='88', \n",
    "                                           annotation_text='2021', \n",
    "                                           annotation_position='bottom right',\n",
    "                                           annotation=dict(font_size=18, \n",
    "                                                           font_family=\"'Open Sans', verdana, arial, sans-serif\"),\n",
    "                                                           opacity=0, \n",
    "                                                           line_width=0\n",
    "                                                     ).update_traces(mode='lines+markers', \n",
    "                                                                     line_color='grey',\n",
    "                                                                     marker_line_width=1, \n",
    "                                                                     marker_size=10)"
   ]
  },
  {
   "cell_type": "markdown",
   "id": "d9b1fa0f",
   "metadata": {},
   "source": [
    "# Indicador 8: Casos en seguimiento\n",
    "\n",
    "## Objetivo: Evaluar la capacidad de seguimiento de casos\n",
    "\n",
    "### Meta: >90%\n",
    "\n",
    "**Periodicidad:** Semanal\n",
    "\n",
    "**Escala territorial:** Comuna, Regional, Nacional\n",
    "\n",
    "**Fuente de Información:** base EPIVIGILA actualizada con los reportes de laboratorio al día de la determinación del indicador. Base de seguimiento"
   ]
  },
  {
   "cell_type": "markdown",
   "id": "3455a38b",
   "metadata": {},
   "source": [
    "### Cálculo del indicador a nivel comunal\n",
    "\n",
    "$\\frac{No.\\:casos\\:activos\\:investigados\\:con\\:seguimiento\\:según\\:protocolo\\:por\\:comuna\\:último\\:establecimiento\\:semana\\:x}{No.\\:casos\\:nuevos\\:registrados\\:por\\:comuna\\:ultimo\\:establecimiento\\:semana\\:x}x100$"
   ]
  },
  {
   "cell_type": "markdown",
   "id": "2940929e",
   "metadata": {},
   "source": [
    "### Cálculo del indicador a nivel regional\n",
    "\n",
    "$\\frac{No.\\:casos\\:activos\\:investigados\\:con\\:seguimiento\\:según\\:protocolo\\:por\\:región\\:último\\:establecimiento\\:semana\\:x}{No.\\:casos\\:nuevos\\:registrados\\:por\\:región\\:ultimo\\:establecimiento\\:semana\\:x}x100$"
   ]
  },
  {
   "cell_type": "markdown",
   "id": "6a418521",
   "metadata": {},
   "source": [
    "**Observación**\n",
    "\n",
    "- No se incluyen los casos nuevos no notificados (\"casos reportados por laboratorio\")\n",
    "- Se considera un caso activo como aquel caso notificado que cumple la definición de caso activo, con fecha de notificación en la semana de interés\n",
    "- Se consideran sólo registros activos o egresados en la bandeja de seguimiento\n",
    "- Según protocolo implica un seguimiento diario por día de seguimiento, desde el inicio de seguimiento y se valora de forma dicotómica (cumple o no cumple el protocolo de seguimiento)\n",
    "- Por seguimiento diario se entiende que diariamente, se debe realizar una actividad de seguimiento (la cual puede ser exitosa o no)"
   ]
  },
  {
   "cell_type": "code",
   "execution_count": null,
   "id": "19d883f9",
   "metadata": {},
   "outputs": [],
   "source": [
    "df_seguimiento_ind8 = df_seguimiento_clean"
   ]
  },
  {
   "cell_type": "code",
   "execution_count": null,
   "id": "a104d899",
   "metadata": {},
   "outputs": [],
   "source": [
    "# Se consideran sólo registros de casos activos o egresados\n",
    "df_seguimiento_ind8_clean = df_seguimiento_ind8[(df_seguimiento_ind8['suspendido']=='activo')|(df_seguimiento_ind8['suspendido']=='egresado')]"
   ]
  },
  {
   "cell_type": "code",
   "execution_count": null,
   "id": "522f513e",
   "metadata": {},
   "outputs": [],
   "source": [
    "#df_seguimiento_ind8_clean = df_seguimiento_ind8_clean[df_seguimiento_ind8_clean['cont_estado_seguimiento']!='Aún no contactado']"
   ]
  },
  {
   "cell_type": "code",
   "execution_count": null,
   "id": "93b0c786",
   "metadata": {},
   "outputs": [],
   "source": [
    "df_seguimiento_ind8_clean = df_seguimiento_ind8_clean[df_seguimiento_ind8_clean['cont_inicio_cuarentena'].notna()]"
   ]
  },
  {
   "cell_type": "code",
   "execution_count": null,
   "id": "e7932481",
   "metadata": {},
   "outputs": [],
   "source": [
    "df_seguimiento_ind8_clean = df_seguimiento_ind8_clean[df_seguimiento_ind8_clean['tipo_seguimiento']=='caso']"
   ]
  },
  {
   "cell_type": "code",
   "execution_count": null,
   "id": "8eebe6ae",
   "metadata": {},
   "outputs": [],
   "source": [
    "df_seguimiento_ind8_clean['fecha_cumple_requisitos'] = pd.to_datetime(df_seguimiento_ind8_clean['fecha_cumple_requisitos'])"
   ]
  },
  {
   "cell_type": "code",
   "execution_count": null,
   "id": "e5f65763",
   "metadata": {},
   "outputs": [],
   "source": [
    "# Calcula No. de dias que un caso debiera ser contactado\n",
    "\n",
    "df_seguimiento_ind8_clean['dif_needed'] =  pd.to_datetime(df_seguimiento_ind8_clean['cont_fin_cuarentena'], errors='coerce')-df_seguimiento_ind8_clean['fecha_cumple_requisitos']\n",
    "\n",
    "df_seguimiento_ind8_clean['dif_needed'].sample(1)"
   ]
  },
  {
   "cell_type": "code",
   "execution_count": null,
   "id": "727796f5",
   "metadata": {},
   "outputs": [],
   "source": [
    "df_seguimiento_ind8_clean.sort_values(by=['n_folio', 'dia_contacto'])[['n_folio','fecha_cumple_requisitos','cont_inicio_cuarentena','cont_fin_cuarentena','dia_contacto','fecha_notificacion']].sort_values(by=['n_folio', 'dia_contacto']).groupby('n_folio').head(1)"
   ]
  },
  {
   "cell_type": "code",
   "execution_count": null,
   "id": "96559297",
   "metadata": {},
   "outputs": [],
   "source": [
    "# Calcula No. de dias que un caso fue contactado\n",
    "\n",
    "df_seguimiento_ind8_clean.sort_values(by=['n_folio', 'dia_contacto']).groupby('n_folio').count()[['nfolio_caso']]"
   ]
  },
  {
   "cell_type": "code",
   "execution_count": null,
   "id": "7692600c",
   "metadata": {},
   "outputs": [],
   "source": [
    "df_seguimiento_ind8_clean.sort_values(by=['n_folio'])[['n_folio','dif_needed']].groupby('n_folio').head(1)"
   ]
  },
  {
   "cell_type": "code",
   "execution_count": null,
   "id": "bbc82fef",
   "metadata": {},
   "outputs": [],
   "source": [
    "df_ind8= df_seguimiento_ind8_clean.sort_values(by=['n_folio'])[['n_folio','dif_needed']].groupby('n_folio').head(1).merge(\n",
    "    df_seguimiento_ind8_clean.sort_values(by=['n_folio', 'dia_contacto']).groupby('n_folio').count()[['nfolio_caso']],\n",
    "    how='left',\n",
    "    left_on = 'n_folio',\n",
    "    right_on = 'n_folio'\n",
    ")"
   ]
  },
  {
   "cell_type": "code",
   "execution_count": null,
   "id": "bd4579d9",
   "metadata": {},
   "outputs": [],
   "source": [
    "df_ind8.sample(3)"
   ]
  },
  {
   "cell_type": "code",
   "execution_count": null,
   "id": "1e306a37",
   "metadata": {},
   "outputs": [],
   "source": [
    "# Transforma datos a formato Float64\n",
    "\n",
    "df_ind8['nfolio_caso'] = df_ind8['nfolio_caso'].astype('float64')\n",
    "\n",
    "df_ind8['dif_needed'] = df_ind8['dif_needed'].dt.days"
   ]
  },
  {
   "cell_type": "code",
   "execution_count": null,
   "id": "72843bc9",
   "metadata": {},
   "outputs": [],
   "source": [
    "df_ind8['goal_100'] = df_ind8['nfolio_caso'] >= df_ind8['dif_needed']\n",
    "\n",
    "df_ind8['goal_80'] = df_ind8['nfolio_caso'] >= df_ind8['dif_needed']*0.8\n",
    "\n",
    "df_ind8['goal_60'] = df_ind8['nfolio_caso'] >= df_ind8['dif_needed']*0.6"
   ]
  },
  {
   "cell_type": "code",
   "execution_count": null,
   "id": "d8de4d03",
   "metadata": {},
   "outputs": [],
   "source": [
    "df_ind8"
   ]
  },
  {
   "cell_type": "code",
   "execution_count": null,
   "id": "c6a4ee76",
   "metadata": {},
   "outputs": [],
   "source": [
    "# Realiza merge con df original\n",
    "\n",
    "df_ind8_merged= df_ind8.merge(df_seguimiento_clean,\n",
    "             how='inner',\n",
    "             left_on ='n_folio',\n",
    "             right_on='n_folio'\n",
    "             ) "
   ]
  },
  {
   "cell_type": "code",
   "execution_count": null,
   "id": "a9122ffd",
   "metadata": {},
   "outputs": [],
   "source": [
    "df_ind8_merged_head = df_ind8_merged.sort_values(['n_folio', 'fecha_notificacion']).groupby('n_folio').head(1)"
   ]
  },
  {
   "cell_type": "code",
   "execution_count": null,
   "id": "64b93ed4",
   "metadata": {},
   "outputs": [],
   "source": [
    "df_ind8_merged_head.groupby(['fecha_cumple_requisitos','goal_100']).count()"
   ]
  },
  {
   "cell_type": "code",
   "execution_count": null,
   "id": "101e79a9",
   "metadata": {},
   "outputs": [],
   "source": [
    "# Crea gráfico de etapa_clinica regional por semana epidemiologica\n",
    "\n",
    "px.bar(df_ind8_merged_head.groupby(['fecha_cumple_requisitos','goal_100']).count().reset_index(),\n",
    "        x= 'fecha_cumple_requisitos',\n",
    "        y= 'n_folio',\n",
    "        color= 'goal_100',\n",
    "        color_discrete_map={\n",
    "            True: '#620042',\n",
    "            False: 'rgb(222,203,228)'#rgb(222,203,228)#C075A6\n",
    "          },\n",
    "        labels={'goal_100':'Cumplido'}, \n",
    "       ).update_layout(title= 'Ind8: Capacidad de seguimiento de casos',\n",
    "                    yaxis_title='No. casos activos investigados con seguimiento diario',\n",
    "                    xaxis_title='Fecha',\n",
    "                    template='simple_white',\n",
    "                      ).update_traces(marker_line_color='rgb(0,0,0)',\n",
    "                                      marker_line_width=0.1, opacity=0.9)                  \n",
    "                    #xaxis=dict(tickmode = 'array',\n",
    "                     #             tickvals = list(range(12,88,3)),\n",
    "                      #            ticktext = list(list(range(12,54,3))+list(range(1,88,3))),\n",
    "                      #           ),\n",
    "               #     ).add_vline(x=53.5, line_width=3, line_dash='dash', line_color='gray'\n",
    "                #               ).add_vrect(x0='50', x1='50', \n",
    "                 #                          annotation_text='2020', \n",
    "                  #                         annotation_position='top right',\n",
    "                   #                        annotation=dict(font_size=18, \n",
    "                    #                                       font_family=\"'Open Sans', verdana, arial, sans-serif\"),\n",
    "                     #                                      opacity=0, \n",
    "                      #                                     line_width=0\n",
    "                       #                   ).add_vrect(x0='84', x1='86', \n",
    "                        #                   annotation_text='2021', \n",
    "                         #                  annotation_position='top right',\n",
    "                          #                 annotation=dict(font_size=18, \n",
    "                           #                                font_family=\"'Open Sans', verdana, arial, sans-serif\"),\n",
    "                            #                               opacity=0, \n",
    "                             #                              line_width=0)  \n",
    "                      "
   ]
  },
  {
   "cell_type": "code",
   "execution_count": null,
   "id": "55e04251",
   "metadata": {},
   "outputs": [],
   "source": [
    "# Crea gráfico de etapa_clinica regional por semana epidemiologica\n",
    "\n",
    "px.bar(df_ind8_merged_head.groupby(['fecha_cumple_requisitos','goal_100']).count().reset_index().merge(\n",
    "    data_aysen_clean_21[['fecha_notificacion','semana_epidemiologica_21']], \n",
    "                   left_on='fecha_cumple_requisitos',\n",
    "                   right_on='fecha_notificacion',\n",
    "                   how='left').groupby(['semana_epidemiologica_21','goal_100']).mean().reset_index(),\n",
    "        x= 'semana_epidemiologica_21',\n",
    "        y= 'n_folio',\n",
    "        color= 'goal_100',\n",
    "        color_discrete_map={\n",
    "            True: '#620042',\n",
    "            False: 'rgb(222,203,228)'#rgb(222,203,228)#C075A6\n",
    "          },\n",
    "        labels={'goal_100':'Cumplido'}, \n",
    "       ).update_layout(title= 'Ind8: Capacidad de seguimiento de casos',\n",
    "                    yaxis_title='No. casos activos investigados con seguimiento diario',\n",
    "                    xaxis_title='Semana epidemiológica',\n",
    "                    template='simple_white',\n",
    "                      ).update_traces(marker_line_color='rgb(0,0,0)',\n",
    "                                      marker_line_width=0.1, opacity=0.9)                  \n",
    "                    #xaxis=dict(tickmode = 'array',\n",
    "                     #             tickvals = list(range(12,88,3)),\n",
    "                      #            ticktext = list(list(range(12,54,3))+list(range(1,88,3))),\n",
    "                      #           ),\n",
    "               #     ).add_vline(x=53.5, line_width=3, line_dash='dash', line_color='gray'\n",
    "                #               ).add_vrect(x0='50', x1='50', \n",
    "                 #                          annotation_text='2020', \n",
    "                  #                         annotation_position='top right',\n",
    "                   #                        annotation=dict(font_size=18, \n",
    "                    #                                       font_family=\"'Open Sans', verdana, arial, sans-serif\"),\n",
    "                     #                                      opacity=0, \n",
    "                      #                                     line_width=0\n",
    "                       #                   ).add_vrect(x0='84', x1='86', \n",
    "                        #                   annotation_text='2021', \n",
    "                         #                  annotation_position='top right',\n",
    "                          #                 annotation=dict(font_size=18, \n",
    "                           #                                font_family=\"'Open Sans', verdana, arial, sans-serif\"),\n",
    "                            #                               opacity=0, \n",
    "                             #                              line_width=0)  \n",
    "                      "
   ]
  },
  {
   "cell_type": "code",
   "execution_count": null,
   "id": "082dcb0a",
   "metadata": {},
   "outputs": [],
   "source": [
    "# Crea gráfico de etapa_clinica regional por semana epidemiologica\n",
    "\n",
    "px.bar(df_ind8_merged_head.groupby(['fecha_cumple_requisitos','goal_80']).count().reset_index(),\n",
    "        x= 'fecha_cumple_requisitos',\n",
    "        y= 'n_folio',\n",
    "        color= 'goal_80',\n",
    "        color_discrete_map={\n",
    "            True: '#620042',\n",
    "            False: 'rgb(222,203,228)'#rgb(222,203,228)#C075A6\n",
    "          },\n",
    "        labels={'goal_80':'Cumplido'}, \n",
    "       ).update_layout(title= 'Ind8: Capacidad de seguimiento de casos',\n",
    "                    yaxis_title='No. casos activos investigados con seguimiento diario',\n",
    "                    xaxis_title='Fecha',\n",
    "                    template='simple_white',\n",
    "                      ).update_traces(marker_line_color='rgb(0,0,0)',\n",
    "                                      marker_line_width=0.1, opacity=0.9)                 \n",
    "                    #xaxis=dict(tickmode = 'array',\n",
    "                     #             tickvals = list(range(12,88,3)),\n",
    "                      #            ticktext = list(list(range(12,54,3))+list(range(1,88,3))),\n",
    "                      #           ),\n",
    "               #     ).add_vline(x=53.5, line_width=3, line_dash='dash', line_color='gray'\n",
    "                #               ).add_vrect(x0='50', x1='50', \n",
    "                 #                          annotation_text='2020', \n",
    "                  #                         annotation_position='top right',\n",
    "                   #                        annotation=dict(font_size=18, \n",
    "                    #                                       font_family=\"'Open Sans', verdana, arial, sans-serif\"),\n",
    "                     #                                      opacity=0, \n",
    "                      #                                     line_width=0\n",
    "                       #                   ).add_vrect(x0='84', x1='86', \n",
    "                        #                   annotation_text='2021', \n",
    "                         #                  annotation_position='top right',\n",
    "                          #                 annotation=dict(font_size=18, \n",
    "                           #                                font_family=\"'Open Sans', verdana, arial, sans-serif\"),\n",
    "                            #                               opacity=0, \n",
    "                             #                              line_width=0)  \n",
    "                      "
   ]
  },
  {
   "cell_type": "code",
   "execution_count": null,
   "id": "73345eaf",
   "metadata": {},
   "outputs": [],
   "source": [
    "# Crea gráfico de etapa_clinica regional por semana epidemiologica\n",
    "\n",
    "px.bar(df_ind8_merged_head.groupby(['fecha_cumple_requisitos','goal_80']).count().reset_index().merge(\n",
    "    data_aysen_clean_21[['fecha_notificacion','semana_epidemiologica_21']], \n",
    "                   left_on='fecha_cumple_requisitos',\n",
    "                   right_on='fecha_notificacion',\n",
    "                   how='left').groupby(['semana_epidemiologica_21','goal_80']).mean().reset_index(),\n",
    "        x= 'semana_epidemiologica_21',\n",
    "        y= 'n_folio',\n",
    "        color= 'goal_80',\n",
    "        color_discrete_map={\n",
    "            True: '#620042',\n",
    "            False: 'rgb(222,203,228)'#rgb(222,203,228)#C075A6\n",
    "          },\n",
    "        labels={'goal_80':'Cumplido'}, \n",
    "       ).update_layout(title= 'Ind8: Capacidad de seguimiento de casos',\n",
    "                    yaxis_title='No. casos activos investigados con seguimiento diario',\n",
    "                    xaxis_title='Semana epidemiológica',\n",
    "                    template='simple_white',\n",
    "                      ).update_traces(marker_line_color='rgb(0,0,0)',\n",
    "                                      marker_line_width=0.1, opacity=0.9)                  \n",
    "                    #xaxis=dict(tickmode = 'array',\n",
    "                     #             tickvals = list(range(12,88,3)),\n",
    "                      #            ticktext = list(list(range(12,54,3))+list(range(1,88,3))),\n",
    "                      #           ),\n",
    "               #     ).add_vline(x=53.5, line_width=3, line_dash='dash', line_color='gray'\n",
    "                #               ).add_vrect(x0='50', x1='50', \n",
    "                 #                          annotation_text='2020', \n",
    "                  #                         annotation_position='top right',\n",
    "                   #                        annotation=dict(font_size=18, \n",
    "                    #                                       font_family=\"'Open Sans', verdana, arial, sans-serif\"),\n",
    "                     #                                      opacity=0, \n",
    "                      #                                     line_width=0\n",
    "                       #                   ).add_vrect(x0='84', x1='86', \n",
    "                        #                   annotation_text='2021', \n",
    "                         #                  annotation_position='top right',\n",
    "                          #                 annotation=dict(font_size=18, \n",
    "                           #                                font_family=\"'Open Sans', verdana, arial, sans-serif\"),\n",
    "                            #                               opacity=0, \n",
    "                             #                              line_width=0)  \n",
    "                      "
   ]
  },
  {
   "cell_type": "code",
   "execution_count": null,
   "id": "74267c90",
   "metadata": {},
   "outputs": [],
   "source": [
    "# Crea gráfico de etapa_clinica regional por semana epidemiologica\n",
    "\n",
    "px.bar(df_ind8_merged_head.groupby(['fecha_cumple_requisitos','goal_60']).count().reset_index(),\n",
    "        x= 'fecha_cumple_requisitos',\n",
    "        y= 'n_folio',\n",
    "        color= 'goal_60',\n",
    "        color_discrete_map={\n",
    "            True: '#620042',\n",
    "            False: 'rgb(222,203,228)'#rgb(222,203,228)#C075A6\n",
    "          },\n",
    "        labels={'goal_60':'Cumplido'}, \n",
    "       ).update_layout(title= 'Ind8: Capacidad de seguimiento de casos',\n",
    "                    yaxis_title='No. casos activos investigados con seguimiento diario',\n",
    "                    xaxis_title='Fecha',\n",
    "                    template='simple_white',\n",
    "                      ).update_traces(marker_line_color='rgb(0,0,0)',\n",
    "                                      marker_line_width=0.1, opacity=0.8)                 \n",
    "                    #xaxis=dict(tickmode = 'array',\n",
    "                     #             tickvals = list(range(12,88,3)),\n",
    "                      #            ticktext = list(list(range(12,54,3))+list(range(1,88,3))),\n",
    "                      #           ),\n",
    "               #     ).add_vline(x=53.5, line_width=3, line_dash='dash', line_color='gray'\n",
    "                #               ).add_vrect(x0='50', x1='50', \n",
    "                 #                          annotation_text='2020', \n",
    "                  #                         annotation_position='top right',\n",
    "                   #                        annotation=dict(font_size=18, \n",
    "                    #                                       font_family=\"'Open Sans', verdana, arial, sans-serif\"),\n",
    "                     #                                      opacity=0, \n",
    "                      #                                     line_width=0\n",
    "                       #                   ).add_vrect(x0='84', x1='86', \n",
    "                        #                   annotation_text='2021', \n",
    "                         #                  annotation_position='top right',\n",
    "                          #                 annotation=dict(font_size=18, \n",
    "                           #                                font_family=\"'Open Sans', verdana, arial, sans-serif\"),\n",
    "                            #                               opacity=0, \n",
    "                             #                              line_width=0)  \n",
    "                      "
   ]
  },
  {
   "cell_type": "code",
   "execution_count": null,
   "id": "3abe2e02",
   "metadata": {},
   "outputs": [],
   "source": [
    "# Crea gráfico de etapa_clinica regional por semana epidemiologica\n",
    "\n",
    "px.bar(df_ind8_merged_head.groupby(['fecha_cumple_requisitos','goal_60']).count().reset_index().merge(\n",
    "    data_aysen_clean_21[['fecha_notificacion','semana_epidemiologica_21']], \n",
    "                   left_on='fecha_cumple_requisitos',\n",
    "                   right_on='fecha_notificacion',\n",
    "                   how='left').groupby(['semana_epidemiologica_21','goal_60']).mean().reset_index(),\n",
    "        x= 'semana_epidemiologica_21',\n",
    "        y= 'n_folio',\n",
    "        color= 'goal_60',\n",
    "        color_discrete_map={\n",
    "            True: '#620042',\n",
    "            False: 'rgb(222,203,228)'#rgb(222,203,228)#C075A6\n",
    "          },\n",
    "        labels={'goal_60':'Cumplido'}, \n",
    "       ).update_layout(title= 'Ind8: Capacidad de seguimiento de casos',\n",
    "                    yaxis_title='No. casos activos investigados con seguimiento diario',\n",
    "                    xaxis_title='Semana epidemiológica',\n",
    "                    template='simple_white',\n",
    "                      ).update_traces(marker_line_color='rgb(0,0,0)',\n",
    "                                      marker_line_width=0.1, opacity=0.9)                  \n",
    "                    #xaxis=dict(tickmode = 'array',\n",
    "                     #             tickvals = list(range(12,88,3)),\n",
    "                      #            ticktext = list(list(range(12,54,3))+list(range(1,88,3))),\n",
    "                      #           ),\n",
    "               #     ).add_vline(x=53.5, line_width=3, line_dash='dash', line_color='gray'\n",
    "                #               ).add_vrect(x0='50', x1='50', \n",
    "                 #                          annotation_text='2020', \n",
    "                  #                         annotation_position='top right',\n",
    "                   #                        annotation=dict(font_size=18, \n",
    "                    #                                       font_family=\"'Open Sans', verdana, arial, sans-serif\"),\n",
    "                     #                                      opacity=0, \n",
    "                      #                                     line_width=0\n",
    "                       #                   ).add_vrect(x0='84', x1='86', \n",
    "                        #                   annotation_text='2021', \n",
    "                         #                  annotation_position='top right',\n",
    "                          #                 annotation=dict(font_size=18, \n",
    "                           #                                font_family=\"'Open Sans', verdana, arial, sans-serif\"),\n",
    "                            #                               opacity=0, \n",
    "                             #                              line_width=0)  \n",
    "                      "
   ]
  },
  {
   "cell_type": "code",
   "execution_count": null,
   "id": "23d49e4f",
   "metadata": {},
   "outputs": [],
   "source": [
    "df_ind8_100= df_ind8_merged_head.groupby(['fecha_cumple_requisitos','goal_100']).count()[['n_folio']].reset_index()"
   ]
  },
  {
   "cell_type": "code",
   "execution_count": null,
   "id": "3c63602a",
   "metadata": {},
   "outputs": [],
   "source": [
    "df_ind8_100"
   ]
  },
  {
   "cell_type": "code",
   "execution_count": null,
   "id": "b13b1d79",
   "metadata": {},
   "outputs": [],
   "source": [
    "df_ind8_80= df_ind8_merged_head.groupby(['fecha_cumple_requisitos','goal_80']).count()[['n_folio']].reset_index()"
   ]
  },
  {
   "cell_type": "code",
   "execution_count": null,
   "id": "00b68375",
   "metadata": {},
   "outputs": [],
   "source": [
    "df_ind8_60= df_ind8_merged_head.groupby(['fecha_cumple_requisitos','goal_60']).count()[['n_folio']].reset_index()"
   ]
  },
  {
   "cell_type": "code",
   "execution_count": null,
   "id": "2e3127b0",
   "metadata": {},
   "outputs": [],
   "source": [
    "df_ind8_perc100 = (df_ind8_100[df_ind8_100['goal_100']==True].set_index('fecha_cumple_requisitos')[['n_folio']]/df_ind8_100.groupby('fecha_cumple_requisitos').sum('n_folio')[['n_folio']])*100"
   ]
  },
  {
   "cell_type": "code",
   "execution_count": null,
   "id": "c6e0460e",
   "metadata": {},
   "outputs": [],
   "source": [
    "df_ind8_perc80 = (df_ind8_80[df_ind8_80['goal_80']==True].set_index('fecha_cumple_requisitos')[['n_folio']]/df_ind8_80.groupby('fecha_cumple_requisitos').sum('n_folio')[['n_folio']])*100"
   ]
  },
  {
   "cell_type": "code",
   "execution_count": null,
   "id": "47300d36",
   "metadata": {},
   "outputs": [],
   "source": [
    "df_ind8_perc60 = (df_ind8_60[df_ind8_60['goal_60']==True].set_index('fecha_cumple_requisitos')[['n_folio']]/df_ind8_60.groupby('fecha_cumple_requisitos').sum('n_folio')[['n_folio']])*100"
   ]
  },
  {
   "cell_type": "code",
   "execution_count": null,
   "id": "a934064a",
   "metadata": {},
   "outputs": [],
   "source": [
    "px.scatter(df_ind8_perc100.reset_index(),\n",
    "        x= 'fecha_cumple_requisitos',\n",
    "        y= 'n_folio',\n",
    "        color='n_folio',\n",
    "        color_continuous_scale=px.colors.sequential.PuRd,\n",
    "        labels={'n_folio':'Capacidad (%)'},\n",
    "        ).update_layout(title= 'Ind8: Capacidad de seguimiento de casos',\n",
    "                       yaxis_title='Casos activos investigados con seguimiento diario (%)',\n",
    "                       xaxis_title='Fecha',\n",
    "                       template='simple_white',\n",
    "                 #      xaxis=dict(tickmode = 'array',\n",
    "                  #                tickvals = list(range(12,88,3)),\n",
    "                   #               ticktext = list(list(range(12,54,3))+list(range(1,88,3))),\n",
    "                    #             ),\n",
    "                 #   ).add_vline(x=53.5, line_width=3, line_dash='dash', line_color='gray'\n",
    "                  #             ).add_hline(y=10, \n",
    "                   #                        line_width=3, \n",
    "                    #                       line_dash='longdash', \n",
    "                     #                      line_color='olive',\n",
    "                      #                     annotation_text='Meta nacional (10%)',\n",
    "                       #                    annotation_position='bottom right'\n",
    "                        #         ).add_hline(y=mean_bac_ind, \n",
    "                         #                    line_width=3, \n",
    "                          #                   line_dash='longdash', \n",
    "                           #                  line_color='green',\n",
    "                            #                 annotation_text= 'Promedio BAC ('+str(mean_bac_ind)+'%)',\n",
    "                             #                annotation_position='bottom right'\n",
    "                              #       ).add_vrect(x0='51', x1='50', \n",
    "                               #            annotation_text='2020', \n",
    "                                #           annotation_position='top right',\n",
    "                                 #          annotation=dict(font_size=18, \n",
    "                                  #                         font_family=\"'Open Sans', verdana, arial, sans-serif\"),\n",
    "                                   #                        opacity=0, \n",
    "                                    #                       line_width=0\n",
    "                                     #     ).add_vrect(x0='84', x1='86', \n",
    "                                      #     annotation_text='2021', \n",
    "                                       #    annotation_position='top right',\n",
    "                                        #   annotation=dict(font_size=18, \n",
    "                                         #                  font_family=\"'Open Sans', verdana, arial, sans-serif\"),\n",
    "                                          #                 opacity=0, \n",
    "                                           #                line_width=0\n",
    "                                                     ).update_traces(mode='lines+markers', \n",
    "                                                                     line_color='grey',\n",
    "                                                                     marker_line_width=1, \n",
    "                                                                     marker_size=10)"
   ]
  },
  {
   "cell_type": "code",
   "execution_count": null,
   "id": "a502a6d4",
   "metadata": {},
   "outputs": [],
   "source": [
    "mean_ind8_perc100 = df_ind8_perc100.reset_index().merge(data_aysen_clean_21[['fecha_notificacion','semana_epidemiologica_21']], \n",
    "                   left_on='fecha_cumple_requisitos',\n",
    "                   right_on='fecha_notificacion',\n",
    "                   how='left').groupby('semana_epidemiologica_21').mean()['n_folio'].mean()"
   ]
  },
  {
   "cell_type": "code",
   "execution_count": null,
   "id": "248c985a",
   "metadata": {},
   "outputs": [],
   "source": [
    "mean_ind8_perc80 = df_ind8_perc80.reset_index().merge(data_aysen_clean_21[['fecha_notificacion','semana_epidemiologica_21']], \n",
    "                   left_on='fecha_cumple_requisitos',\n",
    "                   right_on='fecha_notificacion',\n",
    "                   how='left').groupby('semana_epidemiologica_21').mean()['n_folio'].mean()"
   ]
  },
  {
   "cell_type": "code",
   "execution_count": null,
   "id": "6767cb22",
   "metadata": {},
   "outputs": [],
   "source": [
    "mean_ind8_perc60 = df_ind8_perc60.reset_index().merge(data_aysen_clean_21[['fecha_notificacion','semana_epidemiologica_21']], \n",
    "                   left_on='fecha_cumple_requisitos',\n",
    "                   right_on='fecha_notificacion',\n",
    "                   how='left').groupby('semana_epidemiologica_21').mean()['n_folio'].mean()"
   ]
  },
  {
   "cell_type": "code",
   "execution_count": null,
   "id": "b057d9be",
   "metadata": {},
   "outputs": [],
   "source": [
    "px.scatter(df_ind8_perc100.reset_index().merge(data_aysen_clean_21[['fecha_notificacion','semana_epidemiologica_21']], \n",
    "                   left_on='fecha_cumple_requisitos',\n",
    "                   right_on='fecha_notificacion',\n",
    "                   how='left').groupby('semana_epidemiologica_21').mean().reset_index(),\n",
    "        x= 'semana_epidemiologica_21',\n",
    "        y= 'n_folio',\n",
    "        #trendline='rolling',\n",
    "        #trendline_options=dict(window=5),\n",
    "        color='n_folio',\n",
    "        color_continuous_scale=px.colors.sequential.PuRd,\n",
    "        labels={'n_folio':'Capacidad (%)'},\n",
    "        ).update_layout(title= 'Ind8: Capacidad de seguimiento de casos',\n",
    "                       yaxis_title='No. casos activos investigados con seguimiento diario (%)',\n",
    "                       xaxis_title='Semana epidemiológica',\n",
    "                       yaxis_range= [0,105],\n",
    "                       template='simple_white',\n",
    "                       xaxis=dict(tickmode = 'array',\n",
    "                                  tickvals = list(range(12,88,3)),\n",
    "                                  ticktext = list(list(range(12,54,3))+list(range(1,88,3))),\n",
    "                                 ),\n",
    "                    ).add_vline(x=53.5, line_width=3, line_dash='dash', line_color='gray'\n",
    "                              ).add_hline(y=80,\n",
    "                                            line_width=3, \n",
    "                                            line_dash='longdash', \n",
    "                                            line_color='#222A2A',\n",
    "                                            annotation_text='Meta (90%)',\n",
    "                                            annotation_position='bottom left'\n",
    "                                 ).add_hline(y=mean_ind8_perc100, \n",
    "                                             line_width=3, \n",
    "                                             line_dash='longdash', \n",
    "                                             line_color='#750D86',\n",
    "                                             annotation_text= 'Promedio ('+str(round(mean_ind8_perc100, 2))+'%)',\n",
    "                                             annotation_position='bottom left'\n",
    "                                     ).add_vrect(x0='51', x1='53', \n",
    "                                           annotation_text='2020', \n",
    "                                           annotation_position='bottom right',\n",
    "                                           annotation=dict(font_size=18, \n",
    "                                                           font_family=\"'Open Sans', verdana, arial, sans-serif\"),\n",
    "                                                           opacity=0, \n",
    "                                                           line_width=0\n",
    "                                          ).add_vrect(x0='84', x1='88', \n",
    "                                           annotation_text='2021', \n",
    "                                           annotation_position='bottom right',\n",
    "                                           annotation=dict(font_size=18, \n",
    "                                                           font_family=\"'Open Sans', verdana, arial, sans-serif\"),\n",
    "                                                           opacity=0, \n",
    "                                                           line_width=0\n",
    "                                                     ).update_traces(mode='lines+markers', \n",
    "                                                                     line_color='grey',\n",
    "                                                                     marker_line_width=1, \n",
    "                                                                     marker_size=10)"
   ]
  },
  {
   "cell_type": "code",
   "execution_count": null,
   "id": "c8b9898b",
   "metadata": {},
   "outputs": [],
   "source": [
    "px.scatter(df_ind8_perc80.reset_index().merge(data_aysen_clean_21[['fecha_notificacion','semana_epidemiologica_21']], \n",
    "                   left_on='fecha_cumple_requisitos',\n",
    "                   right_on='fecha_notificacion',\n",
    "                   how='left').groupby('semana_epidemiologica_21').mean().reset_index(),\n",
    "        x= 'semana_epidemiologica_21',\n",
    "        y= 'n_folio',\n",
    "        #trendline='rolling',\n",
    "        #trendline_options=dict(window=5),\n",
    "        color='n_folio',\n",
    "        color_continuous_scale=px.colors.sequential.PuRd,\n",
    "        labels={'n_folio':'Capacidad (%)'},\n",
    "        ).update_layout(title= 'Ind8: Capacidad de seguimiento de casos',\n",
    "                       yaxis_title='No. casos activos investigados con seguimiento diario (%)',\n",
    "                       xaxis_title='Semana epidemiológica',\n",
    "                       yaxis_range= [0,105],\n",
    "                       template='simple_white',\n",
    "                       xaxis=dict(tickmode = 'array',\n",
    "                                  tickvals = list(range(12,88,3)),\n",
    "                                  ticktext = list(list(range(12,54,3))+list(range(1,88,3))),\n",
    "                                 ),\n",
    "                    ).add_vline(x=53.5, line_width=3, line_dash='dash', line_color='gray'\n",
    "                              ).add_hline(y=80,\n",
    "                                            line_width=3, \n",
    "                                            line_dash='longdash', \n",
    "                                            line_color='#222A2A',\n",
    "                                            annotation_text='Meta (90%)',\n",
    "                                            annotation_position='bottom left'\n",
    "                                 ).add_hline(y=mean_ind8_perc80, \n",
    "                                             line_width=3, \n",
    "                                             line_dash='longdash', \n",
    "                                             line_color='#750D86',\n",
    "                                             annotation_text= 'Promedio ('+str(round(mean_ind8_perc80, 2))+'%)',\n",
    "                                             annotation_position='bottom left'\n",
    "                                     ).add_vrect(x0='51', x1='53', \n",
    "                                           annotation_text='2020', \n",
    "                                           annotation_position='bottom right',\n",
    "                                           annotation=dict(font_size=18, \n",
    "                                                           font_family=\"'Open Sans', verdana, arial, sans-serif\"),\n",
    "                                                           opacity=0, \n",
    "                                                           line_width=0\n",
    "                                          ).add_vrect(x0='84', x1='88', \n",
    "                                           annotation_text='2021', \n",
    "                                           annotation_position='bottom right',\n",
    "                                           annotation=dict(font_size=18, \n",
    "                                                           font_family=\"'Open Sans', verdana, arial, sans-serif\"),\n",
    "                                                           opacity=0, \n",
    "                                                           line_width=0\n",
    "                                                     ).update_traces(mode='lines+markers', \n",
    "                                                                     line_color='grey',\n",
    "                                                                     marker_line_width=1, \n",
    "                                                                     marker_size=10)"
   ]
  },
  {
   "cell_type": "code",
   "execution_count": null,
   "id": "8aa686c6",
   "metadata": {},
   "outputs": [],
   "source": [
    "px.scatter(df_ind8_perc60.reset_index().merge(data_aysen_clean_21[['fecha_notificacion','semana_epidemiologica_21']], \n",
    "                   left_on='fecha_cumple_requisitos',\n",
    "                   right_on='fecha_notificacion',\n",
    "                   how='left').groupby('semana_epidemiologica_21').mean().reset_index(),\n",
    "        x= 'semana_epidemiologica_21',\n",
    "        y= 'n_folio',\n",
    "        #trendline='rolling',\n",
    "        #trendline_options=dict(window=5),\n",
    "        color='n_folio',\n",
    "        color_continuous_scale=px.colors.sequential.PuRd,\n",
    "        labels={'n_folio':'Capacidad (%)'},\n",
    "        ).update_layout(title= 'Ind8: Capacidad de seguimiento de casos',\n",
    "                       yaxis_title='No. casos activos investigados con seguimiento diario (%)',\n",
    "                       xaxis_title='Semana epidemiológica',\n",
    "                       yaxis_range= [0,105],\n",
    "                       template='simple_white',\n",
    "                       xaxis=dict(tickmode = 'array',\n",
    "                                  tickvals = list(range(12,88,3)),\n",
    "                                  ticktext = list(list(range(12,54,3))+list(range(1,88,3))),\n",
    "                                 ),\n",
    "                    ).add_vline(x=53.5, line_width=3, line_dash='dash', line_color='gray'\n",
    "                              ).add_hline(y=80,\n",
    "                                            line_width=3, \n",
    "                                            line_dash='longdash', \n",
    "                                            line_color='#222A2A',\n",
    "                                            annotation_text='Meta (90%)',\n",
    "                                            annotation_position='top left'\n",
    "                                 ).add_hline(y=mean_ind8_perc60, \n",
    "                                             line_width=3, \n",
    "                                             line_dash='longdash', \n",
    "                                             line_color='#750D86',\n",
    "                                             annotation_text= 'Promedio ('+str(round(mean_ind8_perc60, 2))+'%)',\n",
    "                                             annotation_position='bottom left'\n",
    "                                     ).add_vrect(x0='51', x1='53', \n",
    "                                           annotation_text='2020', \n",
    "                                           annotation_position='bottom right',\n",
    "                                           annotation=dict(font_size=18, \n",
    "                                                           font_family=\"'Open Sans', verdana, arial, sans-serif\"),\n",
    "                                                           opacity=0, \n",
    "                                                           line_width=0\n",
    "                                          ).add_vrect(x0='84', x1='88', \n",
    "                                           annotation_text='2021', \n",
    "                                           annotation_position='bottom right',\n",
    "                                           annotation=dict(font_size=18, \n",
    "                                                           font_family=\"'Open Sans', verdana, arial, sans-serif\"),\n",
    "                                                           opacity=0, \n",
    "                                                           line_width=0\n",
    "                                                     ).update_traces(mode='lines+markers', \n",
    "                                                                     line_color='grey',\n",
    "                                                                     marker_line_width=1, \n",
    "                                                                     marker_size=10)"
   ]
  },
  {
   "cell_type": "markdown",
   "id": "4c93996d",
   "metadata": {},
   "source": [
    "# Indicador 10: Contactos con al menos 2 seguimientos dentro de su periodo de cuarentena de 14 días\n",
    "\n",
    "## Objetivo: Evaluar la capacidad de seguimiento de contactos estrechos\n",
    "\n",
    "### Meta: >90%\n",
    "\n",
    "**Periodicidad:** Semanal\n",
    "\n",
    "**Escala territorial:** Comuna, Regional, Nacional\n",
    "\n",
    "**Fuente de información:** Base de seguimiento"
   ]
  },
  {
   "cell_type": "markdown",
   "id": "f6a1b369",
   "metadata": {},
   "source": [
    "### Cálculo del indicador a nivel comunal\n",
    "\n",
    "$\\frac{No.\\:contactos\\:que\\:cumplieron\\:cuarentena\\:con\\:al\\:menos\\:2\\:seguimientos\\:por\\:comuna\\:último\\:establecimiento\\:semana\\:x}{No.\\:contactos\\:que\\:cumplieron\\:cuarentena\\:por\\:comuna\\:ultimo\\:establecimiento\\:semana\\:x}x100$"
   ]
  },
  {
   "cell_type": "markdown",
   "id": "de0e6681",
   "metadata": {},
   "source": [
    "### Cálculo del indicador a nivel regional\n",
    "\n",
    "$\\frac{No.\\:contactos\\:que\\:cumplieron\\:cuarentena\\:con\\:al\\:menos\\:2\\:seguimientos\\:por\\:región\\:último\\:establecimiento\\:semana\\:x}{No.\\:contactos\\:que\\:cumplieron\\:cuarentena\\:por\\:región\\:ultimo\\:establecimiento\\:semana\\:x}x100$"
   ]
  },
  {
   "cell_type": "markdown",
   "id": "7f0a8a4c",
   "metadata": {},
   "source": [
    "**Observación**\n",
    "\n",
    "- El indicador se construye sobre los contactos que egresan (fecha de término de cuarentena) de seguimiento, durante la semana de interés (esto es, sólo registros egresados de la bandeja de seguimiento)\n",
    "- El periodo de seguimiento para el contacto corresponde a la cantidad de días entre la 1era fecha en que el contacto está disponible en la bandeja de seguimiento hasta la última fecha fin cuarentena\n",
    "- Se cumple con el indicador si en el período de seguimiento del contacto se registran al menos 2 actividades de seguimiento (las cuales pueden ser exitosas o no)\n",
    "- Se excluyen los contactos que se transforman en caso y que están notificados (tiene folio asociado como caso)"
   ]
  },
  {
   "cell_type": "code",
   "execution_count": null,
   "id": "1d56f67d",
   "metadata": {},
   "outputs": [],
   "source": [
    "df_seguimiento_ind10 = df_seguimiento_clean"
   ]
  },
  {
   "cell_type": "code",
   "execution_count": null,
   "id": "81e22d46",
   "metadata": {},
   "outputs": [],
   "source": [
    "# Se consideran sólo registros de casos activos o egresados\n",
    "df_seguimiento_ind10_clean = df_seguimiento_ind10[(df_seguimiento_ind10['suspendido']=='egresado')]"
   ]
  },
  {
   "cell_type": "code",
   "execution_count": null,
   "id": "6e2331b5",
   "metadata": {},
   "outputs": [],
   "source": [
    "# No se convierte en caso \n",
    "\n",
    "df_seguimiento_ind10_clean = df_seguimiento_ind10_clean[df_seguimiento_ind10_clean['folio_se_convierte_en_caso']!='t']"
   ]
  },
  {
   "cell_type": "code",
   "execution_count": null,
   "id": "b4a465d5",
   "metadata": {},
   "outputs": [],
   "source": [
    "df_seguimiento_ind10_clean"
   ]
  },
  {
   "cell_type": "code",
   "execution_count": null,
   "id": "19dd503d",
   "metadata": {},
   "outputs": [],
   "source": [
    "# Se incluyen solo los tipos de seguimiento contacto\n",
    "\n",
    "df_seguimiento_ind10_clean = df_seguimiento_ind10_clean[df_seguimiento_ind10_clean['tipo_seguimiento']=='contacto']"
   ]
  },
  {
   "cell_type": "code",
   "execution_count": null,
   "id": "6287ac13",
   "metadata": {},
   "outputs": [],
   "source": [
    "# Se excluyen datos de laboratorio\n",
    "\n",
    "df_seguimiento_ind10_clean = df_seguimiento_ind10_clean[df_seguimiento_ind10_clean['nfolio_pntm'].isnull()]"
   ]
  },
  {
   "cell_type": "code",
   "execution_count": null,
   "id": "8ecd1c8b",
   "metadata": {},
   "outputs": [],
   "source": [
    "df_seguimiento_ind10_clean"
   ]
  },
  {
   "cell_type": "code",
   "execution_count": null,
   "id": "f65a416d",
   "metadata": {},
   "outputs": [],
   "source": [
    "# Calcula veces que un contacto fue contactado para seguimiento\n",
    "\n",
    "ind10_contactado= df_seguimiento_ind10_clean.sort_values(by=['n_folio', 'dia_contacto']).groupby('n_folio').count()[['nfolio_contacto_estrecho']].rename(columns={'nfolio_contacto_estrecho':'veces_contactado'})\n",
    "\n",
    "ind10_contactado.sample(1)"
   ]
  },
  {
   "cell_type": "code",
   "execution_count": null,
   "id": "39f6aa4b",
   "metadata": {},
   "outputs": [],
   "source": [
    "df_ind10_contactado = df_seguimiento_ind10_clean.merge(\n",
    "                            ind10_contactado,\n",
    "                            how='left',\n",
    "                            left_on='n_folio',\n",
    "                            right_on=ind10_contactado.index\n",
    "\n",
    "                        )"
   ]
  },
  {
   "cell_type": "code",
   "execution_count": null,
   "id": "0c59994b",
   "metadata": {},
   "outputs": [],
   "source": [
    "df_ind10_contactado.sample(1)"
   ]
  },
  {
   "cell_type": "code",
   "execution_count": null,
   "id": "f1aa0250",
   "metadata": {},
   "outputs": [],
   "source": [
    "# Crea variable ind10_dos y ind10_tres representando metas de más de dos y tres contactos respectivamente\n",
    "\n",
    "df_ind10_contactado['ind10_dos'] = df_ind10_contactado['veces_contactado']>=2\n",
    "df_ind10_contactado['ind10_tres'] = df_ind10_contactado['veces_contactado']>=3"
   ]
  },
  {
   "cell_type": "code",
   "execution_count": null,
   "id": "f35a0de7",
   "metadata": {},
   "outputs": [],
   "source": [
    "# Crea gráfico de etapa_clinica regional por semana epidemiologica\n",
    "\n",
    "px.bar(df_ind10_contactado.groupby(['fecha_cumple_requisitos','ind10_dos']).count()[['n_folio']].reset_index(),\n",
    "        x= 'fecha_cumple_requisitos',\n",
    "        y= 'n_folio',\n",
    "        color= 'ind10_dos',\n",
    "               color_discrete_map={\n",
    "                     True: '#3366CC',\n",
    "                     False: '#FF6692'\n",
    "                     },\n",
    "        labels={'ind10_dos':'2 o más seguimientos'}, \n",
    "       ).update_layout(title= 'Ind10: Capacidad de seguimiento de contactos estrechos (2 o más seguimientos)',\n",
    "                    yaxis_title='No. contactos estrechos con cuarentena',\n",
    "                    xaxis_title='Fecha',\n",
    "                    template='simple_white',\n",
    "                      ).update_traces(marker_line_color='rgb(0,0,0)',\n",
    "                                      marker_line_width=0.1, \n",
    "                                      #opacity=0.8\n",
    "                                     )                 \n",
    "                    #xaxis=dict(tickmode = 'array',\n",
    "                     #             tickvals = list(range(12,88,3)),\n",
    "                      #            ticktext = list(list(range(12,54,3))+list(range(1,88,3))),\n",
    "                      #           ),\n",
    "               #     ).add_vline(x=53.5, line_width=3, line_dash='dash', line_color='gray'\n",
    "                #               ).add_vrect(x0='50', x1='50', \n",
    "                 #                          annotation_text='2020', \n",
    "                  #                         annotation_position='top right',\n",
    "                   #                        annotation=dict(font_size=18, \n",
    "                    #                                       font_family=\"'Open Sans', verdana, arial, sans-serif\"),\n",
    "                     #                                      opacity=0, \n",
    "                      #                                     line_width=0\n",
    "                       #                   ).add_vrect(x0='84', x1='86', \n",
    "                        #                   annotation_text='2021', \n",
    "                         #                  annotation_position='top right',\n",
    "                          #                 annotation=dict(font_size=18, \n",
    "                           #                                font_family=\"'Open Sans', verdana, arial, sans-serif\"),\n",
    "                            #                               opacity=0, \n",
    "                             #                              line_width=0)  \n",
    "                      "
   ]
  },
  {
   "cell_type": "code",
   "execution_count": null,
   "id": "a64b86ab",
   "metadata": {},
   "outputs": [],
   "source": [
    "# Crea gráfico de etapa_clinica regional por semana epidemiologica\n",
    "\n",
    "px.bar(df_ind10_contactado.groupby(['fecha_cumple_requisitos','ind10_dos']).count()[['n_folio']].reset_index().merge(\n",
    "    data_aysen_clean_21[['fecha_notificacion','semana_epidemiologica_21']], \n",
    "                   left_on='fecha_cumple_requisitos',\n",
    "                   right_on='fecha_notificacion',\n",
    "                   how='left').groupby(['semana_epidemiologica_21','ind10_dos']).mean().reset_index(),\n",
    "        x= 'semana_epidemiologica_21',\n",
    "        y= 'n_folio',\n",
    "        color= 'ind10_dos',\n",
    "               color_discrete_map={\n",
    "                     True: '#3366CC',\n",
    "                     False: '#FF6692'\n",
    "                     },\n",
    "        labels={'ind10_dos':'2 o más seguimientos'}, \n",
    "       ).update_layout(title= 'Ind10: Capacidad de seguimiento de contactos estrechos (2 o más seguimientos)',\n",
    "                    yaxis_title='No. contactos estrechos con cuarentena',\n",
    "                    xaxis_title='Semana epidemiológica',\n",
    "                    template='simple_white',\n",
    "                      ).update_traces(marker_line_color='rgb(0,0,0)',\n",
    "                                      marker_line_width=0.1, \n",
    "                                      #opacity=0.8\n",
    "                                     )                 \n",
    "                    #xaxis=dict(tickmode = 'array',\n",
    "                     #             tickvals = list(range(12,88,3)),\n",
    "                      #            ticktext = list(list(range(12,54,3))+list(range(1,88,3))),\n",
    "                      #           ),\n",
    "               #     ).add_vline(x=53.5, line_width=3, line_dash='dash', line_color='gray'\n",
    "                #               ).add_vrect(x0='50', x1='50', \n",
    "                 #                          annotation_text='2020', \n",
    "                  #                         annotation_position='top right',\n",
    "                   #                        annotation=dict(font_size=18, \n",
    "                    #                                       font_family=\"'Open Sans', verdana, arial, sans-serif\"),\n",
    "                     #                                      opacity=0, \n",
    "                      #                                     line_width=0\n",
    "                       #                   ).add_vrect(x0='84', x1='86', \n",
    "                        #                   annotation_text='2021', \n",
    "                         #                  annotation_position='top right',\n",
    "                          #                 annotation=dict(font_size=18, \n",
    "                           #                                font_family=\"'Open Sans', verdana, arial, sans-serif\"),\n",
    "                            #                               opacity=0, \n",
    "                             #                              line_width=0)  \n",
    "                      "
   ]
  },
  {
   "cell_type": "code",
   "execution_count": null,
   "id": "3b70a420",
   "metadata": {},
   "outputs": [],
   "source": [
    "# Crea gráfico de etapa_clinica regional por semana epidemiologica\n",
    "\n",
    "px.bar(df_ind10_contactado.groupby(['fecha_cumple_requisitos','ind10_tres']).count()[['n_folio']].reset_index(),\n",
    "        x= 'fecha_cumple_requisitos',\n",
    "        y= 'n_folio',\n",
    "        color= 'ind10_tres',\n",
    "        color_discrete_map={\n",
    "                     True: '#3366CC',\n",
    "                     False: '#FF6692'\n",
    "                     },\n",
    "        labels={'ind10_tres':'3 o más seguimientos'}, \n",
    "       ).update_layout(title= 'Ind10: Capacidad de seguimiento de contactos estrechos (3 o más seguimientos)',\n",
    "                    yaxis_title='No. contactos estrechos con cuarentena',\n",
    "                    xaxis_title='Fecha',\n",
    "                    template='simple_white', \n",
    "                      ).update_traces(marker_line_color='rgb(0,0,0)',\n",
    "                                      marker_line_width=0.1, \n",
    "                                      #opacity=0.8\n",
    "                                     )                  \n",
    "                    #xaxis=dict(tickmode = 'array',\n",
    "                     #             tickvals = list(range(12,88,3)),\n",
    "                      #            ticktext = list(list(range(12,54,3))+list(range(1,88,3))),\n",
    "                      #           ),\n",
    "               #     ).add_vline(x=53.5, line_width=3, line_dash='dash', line_color='gray'\n",
    "                #               ).add_vrect(x0='50', x1='50', \n",
    "                 #                          annotation_text='2020', \n",
    "                  #                         annotation_position='top right',\n",
    "                   #                        annotation=dict(font_size=18, \n",
    "                    #                                       font_family=\"'Open Sans', verdana, arial, sans-serif\"),\n",
    "                     #                                      opacity=0, \n",
    "                      #                                     line_width=0\n",
    "                       #                   ).add_vrect(x0='84', x1='86', \n",
    "                        #                   annotation_text='2021', \n",
    "                         #                  annotation_position='top right',\n",
    "                          #                 annotation=dict(font_size=18, \n",
    "                           #                                font_family=\"'Open Sans', verdana, arial, sans-serif\"),\n",
    "                            #                               opacity=0, \n",
    "                             #                              line_width=0)  \n",
    "                      "
   ]
  },
  {
   "cell_type": "code",
   "execution_count": null,
   "id": "c88de6d7",
   "metadata": {},
   "outputs": [],
   "source": [
    "# Crea gráfico de etapa_clinica regional por semana epidemiologica\n",
    "\n",
    "px.bar(df_ind10_contactado.groupby(['fecha_cumple_requisitos','ind10_tres']).count()[['n_folio']].reset_index().merge(\n",
    "    data_aysen_clean_21[['fecha_notificacion','semana_epidemiologica_21']], \n",
    "                   left_on='fecha_cumple_requisitos',\n",
    "                   right_on='fecha_notificacion',\n",
    "                   how='left').groupby(['semana_epidemiologica_21','ind10_tres']).mean().reset_index(),\n",
    "        x= 'semana_epidemiologica_21',\n",
    "        y= 'n_folio',\n",
    "        color= 'ind10_tres',\n",
    "               color_discrete_map={\n",
    "                     True: '#3366CC',\n",
    "                     False: '#FF6692'\n",
    "                     },\n",
    "        labels={'ind10_tres':'3 o más seguimientos'}, \n",
    "       ).update_layout(title= 'Ind10: Capacidad de seguimiento de contactos estrechos (3 o más seguimientos)',\n",
    "                    yaxis_title='No. contactos estrechos con cuarentena',\n",
    "                    xaxis_title='Semana epidemiológica',\n",
    "                    template='simple_white',\n",
    "                      ).update_traces(marker_line_color='rgb(0,0,0)',\n",
    "                                      marker_line_width=0.1, \n",
    "                                      #opacity=0.8\n",
    "                                     )                 \n",
    "                    #xaxis=dict(tickmode = 'array',\n",
    "                     #             tickvals = list(range(12,88,3)),\n",
    "                      #            ticktext = list(list(range(12,54,3))+list(range(1,88,3))),\n",
    "                      #           ),\n",
    "               #     ).add_vline(x=53.5, line_width=3, line_dash='dash', line_color='gray'\n",
    "                #               ).add_vrect(x0='50', x1='50', \n",
    "                 #                          annotation_text='2020', \n",
    "                  #                         annotation_position='top right',\n",
    "                   #                        annotation=dict(font_size=18, \n",
    "                    #                                       font_family=\"'Open Sans', verdana, arial, sans-serif\"),\n",
    "                     #                                      opacity=0, \n",
    "                      #                                     line_width=0\n",
    "                       #                   ).add_vrect(x0='84', x1='86', \n",
    "                        #                   annotation_text='2021', \n",
    "                         #                  annotation_position='top right',\n",
    "                          #                 annotation=dict(font_size=18, \n",
    "                           #                                font_family=\"'Open Sans', verdana, arial, sans-serif\"),\n",
    "                            #                               opacity=0, \n",
    "                             #                              line_width=0)  \n",
    "                      "
   ]
  },
  {
   "cell_type": "code",
   "execution_count": null,
   "id": "eac8a238",
   "metadata": {},
   "outputs": [],
   "source": [
    "df_ind10_tres= df_ind10_contactado.groupby(['fecha_cumple_requisitos', 'ind10_tres']).count()[['n_folio']].reset_index()"
   ]
  },
  {
   "cell_type": "code",
   "execution_count": null,
   "id": "933d5113",
   "metadata": {},
   "outputs": [],
   "source": [
    "df_ind10_tres.tail(3)"
   ]
  },
  {
   "cell_type": "code",
   "execution_count": null,
   "id": "6c48cc33",
   "metadata": {},
   "outputs": [],
   "source": [
    "df_ind10_dos= df_ind10_contactado.groupby(['fecha_cumple_requisitos', 'ind10_dos']).count()[['n_folio']].reset_index()"
   ]
  },
  {
   "cell_type": "code",
   "execution_count": null,
   "id": "df01247b",
   "metadata": {},
   "outputs": [],
   "source": [
    "df_ind10_dos.tail(3)"
   ]
  },
  {
   "cell_type": "code",
   "execution_count": null,
   "id": "99d4a03f",
   "metadata": {},
   "outputs": [],
   "source": [
    "df_ind10_perc = (df_ind10_tres[df_ind10_tres['ind10_tres']==True].set_index('fecha_cumple_requisitos')[['n_folio']]/df_ind10_tres.groupby('fecha_cumple_requisitos').sum('n_folio')[['n_folio']])*100"
   ]
  },
  {
   "cell_type": "code",
   "execution_count": null,
   "id": "b0360fac",
   "metadata": {},
   "outputs": [],
   "source": [
    "df_ind10_perc['ind10_dos_perc'] = (df_ind10_dos[df_ind10_dos['ind10_dos']==True].set_index('fecha_cumple_requisitos')[['n_folio']]/df_ind10_dos.groupby('fecha_cumple_requisitos').sum('n_folio')[['n_folio']])*100"
   ]
  },
  {
   "cell_type": "code",
   "execution_count": null,
   "id": "12cd544b",
   "metadata": {},
   "outputs": [],
   "source": [
    "df_ind10_perc= df_ind10_perc.rename(columns={'n_folio':'ind10_tres_perc'})\n"
   ]
  },
  {
   "cell_type": "code",
   "execution_count": null,
   "id": "ef2d5225",
   "metadata": {},
   "outputs": [],
   "source": [
    "px.scatter(df_ind10_perc.reset_index(),\n",
    "        x= 'fecha_cumple_requisitos',\n",
    "        y= 'ind10_dos_perc',\n",
    "        color='ind10_dos_perc',\n",
    "        color_continuous_scale=px.colors.sequential.Plotly3_r,\n",
    "        labels={'ind10_dos_perc':'Oportunidad (%)'},\n",
    "        ).update_layout(title= 'Ind10: Capacidad de seguimiento de contactos estrechos (2 o más seguimientos)',\n",
    "                       yaxis_title='Contactos estrechos con 2 o más seguimientos (%)',\n",
    "                       xaxis_title='Fecha',\n",
    "                       template='simple_white',\n",
    "                 #      xaxis=dict(tickmode = 'array',\n",
    "                  #                tickvals = list(range(12,88,3)),\n",
    "                   #               ticktext = list(list(range(12,54,3))+list(range(1,88,3))),\n",
    "                    #             ),\n",
    "                 #   ).add_vline(x=53.5, line_width=3, line_dash='dash', line_color='gray'\n",
    "                  #             ).add_hline(y=10, \n",
    "                   #                        line_width=3, \n",
    "                    #                       line_dash='longdash', \n",
    "                     #                      line_color='olive',\n",
    "                      #                     annotation_text='Meta nacional (10%)',\n",
    "                       #                    annotation_position='bottom right'\n",
    "                        #         ).add_hline(y=mean_bac_ind, \n",
    "                         #                    line_width=3, \n",
    "                          #                   line_dash='longdash', \n",
    "                           #                  line_color='green',\n",
    "                            #                 annotation_text= 'Promedio BAC ('+str(mean_bac_ind)+'%)',\n",
    "                             #                annotation_position='bottom right'\n",
    "                              #       ).add_vrect(x0='51', x1='50', \n",
    "                               #            annotation_text='2020', \n",
    "                                #           annotation_position='top right',\n",
    "                                 #          annotation=dict(font_size=18, \n",
    "                                  #                         font_family=\"'Open Sans', verdana, arial, sans-serif\"),\n",
    "                                   #                        opacity=0, \n",
    "                                    #                       line_width=0\n",
    "                                     #     ).add_vrect(x0='84', x1='86', \n",
    "                                      #     annotation_text='2021', \n",
    "                                       #    annotation_position='top right',\n",
    "                                        #   annotation=dict(font_size=18, \n",
    "                                         #                  font_family=\"'Open Sans', verdana, arial, sans-serif\"),\n",
    "                                          #                 opacity=0, \n",
    "                                           #                line_width=0\n",
    "                                                     ).update_traces(mode='lines+markers', \n",
    "                                                                     line_color='grey',\n",
    "                                                                     marker_line_width=1, \n",
    "                                                                     marker_size=10)"
   ]
  },
  {
   "cell_type": "code",
   "execution_count": null,
   "id": "c4068bba",
   "metadata": {},
   "outputs": [],
   "source": [
    "px.scatter(df_ind10_perc.reset_index(),\n",
    "        x= 'fecha_cumple_requisitos',\n",
    "        y= 'ind10_tres_perc',\n",
    "        color='ind10_tres_perc',\n",
    "        color_continuous_scale=px.colors.sequential.Plotly3_r,\n",
    "        labels={'ind10_tres_perc':'Oportunidad (%)'},\n",
    "        ).update_layout(title= 'Ind10: Capacidad de seguimiento de contactos estrechos (3 o más seguimientos)',\n",
    "                       yaxis_title='Contactos estrechos con 3 o más seguimientos (%)',\n",
    "                       xaxis_title='Fecha',\n",
    "                       template='simple_white',\n",
    "                 #      xaxis=dict(tickmode = 'array',\n",
    "                  #                tickvals = list(range(12,88,3)),\n",
    "                   #               ticktext = list(list(range(12,54,3))+list(range(1,88,3))),\n",
    "                    #             ),\n",
    "                 #   ).add_vline(x=53.5, line_width=3, line_dash='dash', line_color='gray'\n",
    "                  #             ).add_hline(y=10, \n",
    "                   #                        line_width=3, \n",
    "                    #                       line_dash='longdash', \n",
    "                     #                      line_color='olive',\n",
    "                      #                     annotation_text='Meta nacional (10%)',\n",
    "                       #                    annotation_position='bottom right'\n",
    "                        #         ).add_hline(y=mean_bac_ind, \n",
    "                         #                    line_width=3, \n",
    "                          #                   line_dash='longdash', \n",
    "                           #                  line_color='green',\n",
    "                            #                 annotation_text= 'Promedio BAC ('+str(mean_bac_ind)+'%)',\n",
    "                             #                annotation_position='bottom right'\n",
    "                              #       ).add_vrect(x0='51', x1='50', \n",
    "                               #            annotation_text='2020', \n",
    "                                #           annotation_position='top right',\n",
    "                                 #          annotation=dict(font_size=18, \n",
    "                                  #                         font_family=\"'Open Sans', verdana, arial, sans-serif\"),\n",
    "                                   #                        opacity=0, \n",
    "                                    #                       line_width=0\n",
    "                                     #     ).add_vrect(x0='84', x1='86', \n",
    "                                      #     annotation_text='2021', \n",
    "                                       #    annotation_position='top right',\n",
    "                                        #   annotation=dict(font_size=18, \n",
    "                                         #                  font_family=\"'Open Sans', verdana, arial, sans-serif\"),\n",
    "                                          #                 opacity=0, \n",
    "                                           #                line_width=0\n",
    "                                                     ).update_traces(mode='lines+markers', \n",
    "                                                                     line_color='grey',\n",
    "                                                                     marker_line_width=1, \n",
    "                                                                     marker_size=10)"
   ]
  },
  {
   "cell_type": "code",
   "execution_count": null,
   "id": "e9e37d30",
   "metadata": {},
   "outputs": [],
   "source": [
    "px.scatter(df_ind10_perc.reset_index().merge(data_aysen_clean_21[['fecha_notificacion','semana_epidemiologica_21']], \n",
    "                   left_on='fecha_cumple_requisitos',\n",
    "                   right_on='fecha_notificacion',\n",
    "                   how='left').groupby('semana_epidemiologica_21').mean().reset_index(),\n",
    "        x= 'semana_epidemiologica_21',\n",
    "        y= 'ind10_tres_perc',\n",
    "        #trendline='rolling',\n",
    "        #trendline_options=dict(window=5),\n",
    "        color='ind10_tres_perc',\n",
    "        color_continuous_scale=px.colors.sequential.Plotly3_r,\n",
    "        labels={'ind10_tres_perc':'Oportunidad (%)'},\n",
    "        ).update_layout(title= 'Ind10: Capacidad de seguimiento de contactos estrechos (3 o más seguimientos)',\n",
    "                       yaxis_title='Contactos estrechos con 3 o más seguimientos (%)',\n",
    "                       xaxis_title='Semana epidemiológica',\n",
    "                       #yaxis_range= [0,105],\n",
    "                       template='simple_white',\n",
    "                       xaxis=dict(tickmode = 'array',\n",
    "                                  tickvals = list(range(12,88,3)),\n",
    "                                  ticktext = list(list(range(12,54,3))+list(range(1,88,3))),\n",
    "                                 ),\n",
    "                    ).add_vline(x=53.5, line_width=3, line_dash='dash', line_color='gray'\n",
    "                              ).add_hline(y=90,\n",
    "                                            line_width=3, \n",
    "                                            line_dash='longdash', \n",
    "                                            line_color='#222A2A',\n",
    "                                            annotation_text='Meta (90%)',\n",
    "                                            annotation_position='bottom left'\n",
    "                                # ).add_hline(y=mean_ind7, \n",
    "                                 #            line_width=3, \n",
    "                                  #           line_dash='longdash', \n",
    "                                   #          line_color='#750D86',\n",
    "                                    #         annotation_text= 'Promedio ('+str(round(mean_ind7, 2))+'%)',\n",
    "                                     #        annotation_position='bottom left'\n",
    "                                     ).add_vrect(x0='51', x1='53', \n",
    "                                           annotation_text='2020', \n",
    "                                           annotation_position='bottom right',\n",
    "                                           annotation=dict(font_size=18, \n",
    "                                                           font_family=\"'Open Sans', verdana, arial, sans-serif\"),\n",
    "                                                           opacity=0, \n",
    "                                                           line_width=0\n",
    "                                          ).add_vrect(x0='84', x1='88', \n",
    "                                           annotation_text='2021', \n",
    "                                           annotation_position='bottom right',\n",
    "                                           annotation=dict(font_size=18, \n",
    "                                                           font_family=\"'Open Sans', verdana, arial, sans-serif\"),\n",
    "                                                           opacity=0, \n",
    "                                                           line_width=0\n",
    "                                                     ).update_traces(mode='lines+markers', \n",
    "                                                                     line_color='grey',\n",
    "                                                                     marker_line_width=1, \n",
    "                                                                     marker_size=10)"
   ]
  },
  {
   "cell_type": "code",
   "execution_count": null,
   "id": "245f2218",
   "metadata": {},
   "outputs": [],
   "source": [
    "px.scatter(df_ind10_perc.reset_index().merge(data_aysen_clean_21[['fecha_notificacion','semana_epidemiologica_21']], \n",
    "                   left_on='fecha_cumple_requisitos',\n",
    "                   right_on='fecha_notificacion',\n",
    "                   how='left').groupby('semana_epidemiologica_21').mean().reset_index(),\n",
    "        x= 'semana_epidemiologica_21',\n",
    "        y= 'ind10_dos_perc',\n",
    "        #trendline='rolling',\n",
    "        #trendline_options=dict(window=5),\n",
    "        color='ind10_dos_perc',\n",
    "        color_continuous_scale=px.colors.sequential.Plotly3_r,\n",
    "        labels={'ind10_dos_perc':'Oportunidad (%)'},\n",
    "        ).update_layout(title= 'Ind10: Capacidad de seguimiento de contactos estrechos (2 o más seguimientos)',\n",
    "                       yaxis_title='Contactos estrechos con 2 o más seguimientos (%)',\n",
    "                       xaxis_title='Semana epidemiológica',\n",
    "                      # yaxis_range= [0,105],\n",
    "                       template='simple_white',\n",
    "                       xaxis=dict(tickmode = 'array',\n",
    "                                  tickvals = list(range(12,88,3)),\n",
    "                                  ticktext = list(list(range(12,54,3))+list(range(1,88,3))),\n",
    "                                 ),\n",
    "                    ).add_vline(x=53.5, line_width=3, line_dash='dash', line_color='gray'\n",
    "                              ).add_hline(y=90,\n",
    "                                            line_width=3, \n",
    "                                            line_dash='longdash', \n",
    "                                            line_color='#222A2A',\n",
    "                                            annotation_text='Meta (90%)',\n",
    "                                            annotation_position='bottom left'\n",
    "                                # ).add_hline(y=mean_ind7, \n",
    "                                 #            line_width=3, \n",
    "                                  #           line_dash='longdash', \n",
    "                                   #          line_color='#750D86',\n",
    "                                    #         annotation_text= 'Promedio ('+str(round(mean_ind7, 2))+'%)',\n",
    "                                     #        annotation_position='bottom left'\n",
    "                                     ).add_vrect(x0='51', x1='53', \n",
    "                                           annotation_text='2020', \n",
    "                                           annotation_position='bottom right',\n",
    "                                           annotation=dict(font_size=18, \n",
    "                                                           font_family=\"'Open Sans', verdana, arial, sans-serif\"),\n",
    "                                                           opacity=0, \n",
    "                                                           line_width=0\n",
    "                                          ).add_vrect(x0='84', x1='88', \n",
    "                                           annotation_text='2021', \n",
    "                                           annotation_position='bottom right',\n",
    "                                           annotation=dict(font_size=18, \n",
    "                                                           font_family=\"'Open Sans', verdana, arial, sans-serif\"),\n",
    "                                                           opacity=0, \n",
    "                                                           line_width=0\n",
    "                                                     ).update_traces(mode='lines+markers', \n",
    "                                                                     line_color='grey',\n",
    "                                                                     marker_line_width=1, \n",
    "                                                                     marker_size=10)"
   ]
  }
 ],
 "metadata": {
  "kernelspec": {
   "display_name": "Python 3",
   "language": "python",
   "name": "python3"
  },
  "language_info": {
   "codemirror_mode": {
    "name": "ipython",
    "version": 3
   },
   "file_extension": ".py",
   "mimetype": "text/x-python",
   "name": "python",
   "nbconvert_exporter": "python",
   "pygments_lexer": "ipython3",
   "version": "3.8.10"
  }
 },
 "nbformat": 4,
 "nbformat_minor": 5
}
