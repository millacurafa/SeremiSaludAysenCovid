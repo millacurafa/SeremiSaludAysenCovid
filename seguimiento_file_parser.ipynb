{
 "cells": [
  {
   "cell_type": "code",
   "execution_count": 1,
   "id": "6cf1b15c",
   "metadata": {},
   "outputs": [],
   "source": [
    "import pandas as pd"
   ]
  },
  {
   "cell_type": "code",
   "execution_count": 16,
   "id": "723b22f8",
   "metadata": {},
   "outputs": [],
   "source": [
    "df_marzo = pd.read_excel('data/9051DB40_marzo.xlsx',\n",
    "                  sheet_name='30.04.2021')"
   ]
  },
  {
   "cell_type": "code",
   "execution_count": 17,
   "id": "0d1cbfee",
   "metadata": {},
   "outputs": [],
   "source": [
    "df_abril = pd.read_excel('data/9051DB40_abril.xlsx',\n",
    "                  sheet_name='30.04.2021')"
   ]
  },
  {
   "cell_type": "code",
   "execution_count": 18,
   "id": "3b8d8995",
   "metadata": {},
   "outputs": [],
   "source": [
    "df_mayo = pd.read_excel('data/9051DB40_mayo.xlsx',\n",
    "                  sheet_name='20210602_Región de Aysén del Ge')"
   ]
  },
  {
   "cell_type": "code",
   "execution_count": 19,
   "id": "917063e6",
   "metadata": {},
   "outputs": [],
   "source": [
    "df_junio = pd.read_excel('data/9051DB40_junio.xlsx',\n",
    "                  sheet_name='20210711_Región de Aysén del Ge')"
   ]
  },
  {
   "cell_type": "code",
   "execution_count": 20,
   "id": "3b53be90",
   "metadata": {},
   "outputs": [],
   "source": [
    "df_julio = pd.read_excel('data/9051DB40_julio.xlsx',\n",
    "                  sheet_name='20210808_Región de Aysén del Ge')"
   ]
  },
  {
   "cell_type": "code",
   "execution_count": 21,
   "id": "1160d315",
   "metadata": {},
   "outputs": [],
   "source": [
    "df_agosto = pd.read_excel('data/9051DB40_agosto.xlsx',\n",
    "                  sheet_name='20210831_Región de Aysén del Ge')"
   ]
  },
  {
   "cell_type": "code",
   "execution_count": 24,
   "id": "726b414a",
   "metadata": {},
   "outputs": [],
   "source": [
    "df_marzo['file'],df_abril['file'],df_mayo['file'],df_junio['file'],df_julio['file'],df_agosto['file'] = 'marzo','abril','mayo','junio','julio','agosto'"
   ]
  },
  {
   "cell_type": "code",
   "execution_count": 29,
   "id": "fb2f1e13",
   "metadata": {},
   "outputs": [],
   "source": [
    "df_seguimiento_full = pd.concat([\n",
    "                                df_marzo, \n",
    "                                df_abril,\n",
    "                                df_mayo,\n",
    "                                df_junio,\n",
    "                                df_julio,\n",
    "                                df_agosto\n",
    "                                      ], \n",
    "                                      ignore_index=True)"
   ]
  },
  {
   "cell_type": "code",
   "execution_count": null,
   "id": "fcc7dcc5",
   "metadata": {},
   "outputs": [],
   "source": [
    "df_seguimiento_full[df_seguimiento_full.duplicated()]"
   ]
  },
  {
   "cell_type": "code",
   "execution_count": 34,
   "id": "533629ad",
   "metadata": {},
   "outputs": [],
   "source": [
    "df_seguimiento_full = df_seguimiento_full.drop_duplicates()"
   ]
  },
  {
   "cell_type": "code",
   "execution_count": 37,
   "id": "abaa9d6a",
   "metadata": {},
   "outputs": [],
   "source": [
    "df_seguimiento_full.to_csv('data/df_seguimiento_full.csv', sep=';')"
   ]
  }
 ],
 "metadata": {
  "kernelspec": {
   "display_name": "Python 3",
   "language": "python",
   "name": "python3"
  },
  "language_info": {
   "codemirror_mode": {
    "name": "ipython",
    "version": 3
   },
   "file_extension": ".py",
   "mimetype": "text/x-python",
   "name": "python",
   "nbconvert_exporter": "python",
   "pygments_lexer": "ipython3",
   "version": "3.8.10"
  }
 },
 "nbformat": 4,
 "nbformat_minor": 5
}
