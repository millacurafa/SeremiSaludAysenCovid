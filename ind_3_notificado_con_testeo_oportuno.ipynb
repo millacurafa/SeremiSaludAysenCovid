{
 "cells": [
  {
   "cell_type": "markdown",
   "id": "2be197f7",
   "metadata": {},
   "source": [
    "# Indice 3: Proporción de casos notificados con testeo oportuno\n",
    "\n",
    "## Objetivo: evaluar la oportunidad de testeo en personas con indicación de RT-PCR\n",
    "\n",
    "### Meta: >90%\n",
    "\n",
    "**Periodicidad:** Semanal\n",
    "\n",
    "**Escala territorial:** comunal, regional, nacional\n",
    "\n",
    "**Fuente de información:** base EPIVIGILA actualizada con los reportes al día de la determinación del indicador\n",
    "\n",
    "### Cálculo del indicador a nivel comunal\n",
    "\n",
    "$\\frac{No.\\:notificados\\:sospechosos\\:c/test\\:por\\:comuna\\: de\\:residencia\\:semana\\:x}{No.\\:total\\:notificados\\:sospechosos\\:c/test\\:por\\:comuna\\:de\\: residencia\\:semana\\:x}$\n",
    "\n",
    "### Cálculo del indicador a nivel regional\n",
    "\n",
    "$\\frac{No.\\:notificados\\:sospechosos\\:c/test\\:por\\:regió\\: de\\:residencia\\:semana\\:x}{No.\\:total\\:notificados\\:sospechosos\\:c/test\\:por\\:región\\:de\\:residencia\\:semana\\:x}$\n",
    "\n",
    "**Observación**\n",
    "\n",
    "- Se excluyen los registros con etapa clínica probable "
   ]
  },
  {
   "cell_type": "markdown",
   "id": "30f4ca46",
   "metadata": {},
   "source": [
    "## Importación de datos y librerias"
   ]
  },
  {
   "cell_type": "code",
   "execution_count": 1,
   "id": "481cffed",
   "metadata": {},
   "outputs": [],
   "source": [
    "# Importa librerias necesarias para el análisis\n",
    "\n",
    "import pandas as pd\n",
    "import numpy as np\n",
    "import plotly.express as px"
   ]
  },
  {
   "cell_type": "code",
   "execution_count": 2,
   "id": "f67784e3",
   "metadata": {},
   "outputs": [],
   "source": [
    "# Importa base de datos generada mediante merging \n",
    "\n",
    "data = pd.read_csv(\"data/data_con_establecimiento_cp.csv\", \n",
    "                   low_memory=False\n",
    "                  )"
   ]
  },
  {
   "cell_type": "code",
   "execution_count": 3,
   "id": "cd53ea87",
   "metadata": {},
   "outputs": [
    {
     "data": {
      "text/html": [
       "<div>\n",
       "<style scoped>\n",
       "    .dataframe tbody tr th:only-of-type {\n",
       "        vertical-align: middle;\n",
       "    }\n",
       "\n",
       "    .dataframe tbody tr th {\n",
       "        vertical-align: top;\n",
       "    }\n",
       "\n",
       "    .dataframe thead th {\n",
       "        text-align: right;\n",
       "    }\n",
       "</style>\n",
       "<table border=\"1\" class=\"dataframe\">\n",
       "  <thead>\n",
       "    <tr style=\"text-align: right;\">\n",
       "      <th></th>\n",
       "      <th>Unnamed: 0</th>\n",
       "      <th>id_formulario_eno</th>\n",
       "      <th>numero_folio</th>\n",
       "      <th>id_enfermedad_eno</th>\n",
       "      <th>enfermedad_notificada</th>\n",
       "      <th>semana_epidemiologica</th>\n",
       "      <th>fecha_notificacion</th>\n",
       "      <th>etapa_clinica</th>\n",
       "      <th>establecimiento_salud</th>\n",
       "      <th>region</th>\n",
       "      <th>...</th>\n",
       "      <th>fecha_resultado_otro_cultivo_3</th>\n",
       "      <th>factor_riesgo_caso_confirmado</th>\n",
       "      <th>factor_riesgo_caso_sospechoso</th>\n",
       "      <th>factor_riesgo_viaje_internacional</th>\n",
       "      <th>factor_riesgo_viaje_nacional</th>\n",
       "      <th>ningun_factor_riesgo</th>\n",
       "      <th>test_antigeno_sars_positivo</th>\n",
       "      <th>tac_torax_covid</th>\n",
       "      <th>comuna_seremi_xi</th>\n",
       "      <th>provincia_seremi_xi</th>\n",
       "    </tr>\n",
       "  </thead>\n",
       "  <tbody>\n",
       "    <tr>\n",
       "      <th>0</th>\n",
       "      <td>0</td>\n",
       "      <td>100166</td>\n",
       "      <td>50166</td>\n",
       "      <td>50</td>\n",
       "      <td>Coronavirus (COVID-19)</td>\n",
       "      <td>11</td>\n",
       "      <td>2020-03-12</td>\n",
       "      <td>DESCARTADA</td>\n",
       "      <td>Hospital Regional (Coihaique)</td>\n",
       "      <td>Región de Aysén del General Carlos Ibáñez del ...</td>\n",
       "      <td>...</td>\n",
       "      <td>NaN</td>\n",
       "      <td>NaN</td>\n",
       "      <td>NaN</td>\n",
       "      <td>NaN</td>\n",
       "      <td>NaN</td>\n",
       "      <td>NaN</td>\n",
       "      <td>NaN</td>\n",
       "      <td>NaN</td>\n",
       "      <td>Coyhaique</td>\n",
       "      <td>Coyhaique</td>\n",
       "    </tr>\n",
       "  </tbody>\n",
       "</table>\n",
       "<p>1 rows × 276 columns</p>\n",
       "</div>"
      ],
      "text/plain": [
       "   Unnamed: 0  id_formulario_eno  numero_folio  id_enfermedad_eno  \\\n",
       "0           0             100166         50166                 50   \n",
       "\n",
       "    enfermedad_notificada  semana_epidemiologica fecha_notificacion  \\\n",
       "0  Coronavirus (COVID-19)                     11         2020-03-12   \n",
       "\n",
       "  etapa_clinica          establecimiento_salud  \\\n",
       "0    DESCARTADA  Hospital Regional (Coihaique)   \n",
       "\n",
       "                                              region  ...  \\\n",
       "0  Región de Aysén del General Carlos Ibáñez del ...  ...   \n",
       "\n",
       "  fecha_resultado_otro_cultivo_3 factor_riesgo_caso_confirmado  \\\n",
       "0                            NaN                           NaN   \n",
       "\n",
       "  factor_riesgo_caso_sospechoso  factor_riesgo_viaje_internacional  \\\n",
       "0                           NaN                                NaN   \n",
       "\n",
       "  factor_riesgo_viaje_nacional ningun_factor_riesgo  \\\n",
       "0                          NaN                  NaN   \n",
       "\n",
       "  test_antigeno_sars_positivo tac_torax_covid comuna_seremi_xi  \\\n",
       "0                         NaN             NaN        Coyhaique   \n",
       "\n",
       "  provincia_seremi_xi  \n",
       "0           Coyhaique  \n",
       "\n",
       "[1 rows x 276 columns]"
      ]
     },
     "execution_count": 3,
     "metadata": {},
     "output_type": "execute_result"
    }
   ],
   "source": [
    "# Filtra datos obtenidos solo para pacientes con residencia en la Región de Aysén\n",
    "\n",
    "data_aysen = data[data['region_residencia'] == 'Región de Aysén del General Carlos Ibáñez del Campo']\n",
    "\n",
    "data_aysen.head(1)"
   ]
  },
  {
   "cell_type": "markdown",
   "id": "b81ef066",
   "metadata": {},
   "source": [
    "## Variables de importancia\n",
    "\n",
    "\n",
    "|Variable|Tipo|Descripción|Observación|\n",
    "|---|---|---|---|\n",
    "|`region_residencia`| Text | Residencia registrada | Variable utilizada pero no mostrada\n",
    "|`numero_folio`|Numeric| id | el número de folio se mantendrá por trazabilidad\n",
    "|`comuna_residencia`|Text| City | Comuna de residencia informada\n",
    "|`tipo_identificacion`|Text| Tipo de documento de identidad | Carnet o Pasaporte\n",
    "|`identificacion_paciente`|Numeric|Rol Unico Nominal o Numero de pasaporte| |\n",
    "|`fecha_notificacion`|DateTime| Fecha de notificación| DateTime en formato `%Y-%m-%d` |\n",
    "|`semana_epidemiologica`|Numeric|Semana epidemiologica|valores de 1 al 52|\n",
    "|`etapa_clinica`|Text|`SOSPECHA` o `BUSQUEDA A`| Debe ser filtrada para evitar valores `DESCARTADA` |\n",
    "|`resultado_pcr_1`|Text||\n",
    "|`fecha_resultado_pcr_1`|DateTime||\n",
    "|`fecha_toma_muestra_1`|DateTime||\n",
    "|`resultado_pcr_2`|Text||\n",
    "|`fecha_resultado_pcr_2`|DateTime||\n",
    "|`fecha_toma_muestra_2`|DateTime||\n",
    "|`resultado_pcr_3`|Text||\n",
    "|`fecha_resultado_pcr_3`|DateTime||\n",
    "|`fecha_toma_muestra_3`|DateTime||\n",
    "|`establecimiento_salud`|Text|Establecimiento de salud que reporta caso||\n",
    "|`comuna_seremi_xi`|Text|Comuna identificada a traves de establecimiento_salud||\n",
    "|`provincia_seremi_xi`|Text|Comuna identificada a traves de establecimiento_salud||\n",
    "\n",
    "\n"
   ]
  },
  {
   "cell_type": "code",
   "execution_count": 6,
   "id": "1fc563c9",
   "metadata": {},
   "outputs": [],
   "source": [
    "# Selecciona variables de importancia\n",
    "\n",
    "\n",
    "data_aysen_clean =  data_aysen[[\n",
    "                                'numero_folio',\n",
    "                                'comuna_residencia',\n",
    "                                'fecha_notificacion',\n",
    "                                'semana_epidemiologica',\n",
    "                                'etapa_clinica',\n",
    "                                'resultado_pcr_1',\n",
    "                                'resultado_pcr_2',\n",
    "                                'resultado_pcr_3',\n",
    "                                'fecha_toma_muestra_1',\n",
    "                                'fecha_toma_muestra_2',\n",
    "                                'fecha_toma_muestra_3',\n",
    "                                'fecha_resultado_pcr_1',\n",
    "                                'fecha_resultado_pcr_2',\n",
    "                                'fecha_resultado_pcr_3',\n",
    "                                'establecimiento_salud',\n",
    "                                'comuna_seremi_xi',\n",
    "                                'provincia_seremi_xi'\n",
    "                               ]]\n"
   ]
  },
  {
   "cell_type": "code",
   "execution_count": 10,
   "id": "9d0948d7",
   "metadata": {},
   "outputs": [],
   "source": [
    "# Filtra etapa_clinica SOSPECHA\n",
    "\n",
    "data_aysen_clean = data_aysen_clean[data_aysen_clean['etapa_clinica']=='SOSPECHA']"
   ]
  },
  {
   "cell_type": "code",
   "execution_count": 11,
   "id": "f609a418",
   "metadata": {},
   "outputs": [],
   "source": [
    "# Transforma Fechas a formato DateTime \n",
    "\n",
    "data_aysen_clean['fecha_notificacion'] = pd.to_datetime(data_aysen_clean['fecha_notificacion']) \n",
    "\n",
    "data_aysen_clean['fecha_toma_muestra_1'] = pd.to_datetime(data_aysen_clean['fecha_toma_muestra_1'])\n",
    "\n",
    "#data_aysen_clean['fecha_toma_muestra_2'] = pd.to_datetime(data_aysen_clean['fecha_toma_muestra_2'])\n",
    "\n",
    "data_aysen_clean['fecha_toma_muestra_3'] = pd.to_datetime(data_aysen_clean['fecha_toma_muestra_3'])\n",
    "\n",
    "data_aysen_clean['fecha_resultado_pcr_1'] = pd.to_datetime(data_aysen_clean['fecha_resultado_pcr_1'])\n",
    "\n",
    "data_aysen_clean['fecha_resultado_pcr_2'] = pd.to_datetime(data_aysen_clean['fecha_resultado_pcr_2'])\n",
    "\n",
    "data_aysen_clean['fecha_resultado_pcr_3'] = pd.to_datetime(data_aysen_clean['fecha_resultado_pcr_3'])\n"
   ]
  },
  {
   "cell_type": "markdown",
   "id": "ab8895c1",
   "metadata": {},
   "source": [
    "## Cálculo de indicadores"
   ]
  },
  {
   "cell_type": "code",
   "execution_count": 12,
   "id": "81be9ccb",
   "metadata": {
    "scrolled": true
   },
   "outputs": [
    {
     "data": {
      "text/html": [
       "<div>\n",
       "<style scoped>\n",
       "    .dataframe tbody tr th:only-of-type {\n",
       "        vertical-align: middle;\n",
       "    }\n",
       "\n",
       "    .dataframe tbody tr th {\n",
       "        vertical-align: top;\n",
       "    }\n",
       "\n",
       "    .dataframe thead th {\n",
       "        text-align: right;\n",
       "    }\n",
       "</style>\n",
       "<table border=\"1\" class=\"dataframe\">\n",
       "  <thead>\n",
       "    <tr style=\"text-align: right;\">\n",
       "      <th></th>\n",
       "      <th>numero_folio</th>\n",
       "      <th>comuna_residencia</th>\n",
       "      <th>fecha_notificacion</th>\n",
       "      <th>semana_epidemiologica</th>\n",
       "      <th>etapa_clinica</th>\n",
       "      <th>resultado_pcr_1</th>\n",
       "      <th>resultado_pcr_2</th>\n",
       "      <th>resultado_pcr_3</th>\n",
       "      <th>fecha_toma_muestra_1</th>\n",
       "      <th>fecha_toma_muestra_2</th>\n",
       "      <th>fecha_toma_muestra_3</th>\n",
       "      <th>fecha_resultado_pcr_1</th>\n",
       "      <th>fecha_resultado_pcr_2</th>\n",
       "      <th>fecha_resultado_pcr_3</th>\n",
       "      <th>establecimiento_salud</th>\n",
       "      <th>comuna_seremi_xi</th>\n",
       "      <th>provincia_seremi_xi</th>\n",
       "    </tr>\n",
       "  </thead>\n",
       "  <tbody>\n",
       "    <tr>\n",
       "      <th>72072</th>\n",
       "      <td>16062201</td>\n",
       "      <td>Chile Chico</td>\n",
       "      <td>2021-08-16</td>\n",
       "      <td>33</td>\n",
       "      <td>SOSPECHA</td>\n",
       "      <td>NaN</td>\n",
       "      <td>NaN</td>\n",
       "      <td>NaN</td>\n",
       "      <td>NaT</td>\n",
       "      <td>NaN</td>\n",
       "      <td>NaT</td>\n",
       "      <td>NaT</td>\n",
       "      <td>NaT</td>\n",
       "      <td>NaT</td>\n",
       "      <td>Hospital Dr. Leopoldo Ortega R. (Chile Chico)</td>\n",
       "      <td>Chile Chico</td>\n",
       "      <td>General Carrera</td>\n",
       "    </tr>\n",
       "    <tr>\n",
       "      <th>68270</th>\n",
       "      <td>16246588</td>\n",
       "      <td>Aisén</td>\n",
       "      <td>2021-08-21</td>\n",
       "      <td>33</td>\n",
       "      <td>SOSPECHA</td>\n",
       "      <td>NEGATIVO</td>\n",
       "      <td>NaN</td>\n",
       "      <td>NEGATIVO</td>\n",
       "      <td>2021-04-20</td>\n",
       "      <td>NaN</td>\n",
       "      <td>2021-08-21</td>\n",
       "      <td>2021-04-21</td>\n",
       "      <td>NaT</td>\n",
       "      <td>2021-08-22</td>\n",
       "      <td>Hospital de Puerto Aysén</td>\n",
       "      <td>Aysen</td>\n",
       "      <td>Aysen</td>\n",
       "    </tr>\n",
       "    <tr>\n",
       "      <th>68111</th>\n",
       "      <td>16095328</td>\n",
       "      <td>Aisén</td>\n",
       "      <td>2021-08-16</td>\n",
       "      <td>33</td>\n",
       "      <td>SOSPECHA</td>\n",
       "      <td>NaN</td>\n",
       "      <td>NaN</td>\n",
       "      <td>NaN</td>\n",
       "      <td>NaT</td>\n",
       "      <td>NaN</td>\n",
       "      <td>NaT</td>\n",
       "      <td>NaT</td>\n",
       "      <td>NaT</td>\n",
       "      <td>NaT</td>\n",
       "      <td>Hospital de Puerto Aysén</td>\n",
       "      <td>Aysen</td>\n",
       "      <td>Aysen</td>\n",
       "    </tr>\n",
       "    <tr>\n",
       "      <th>22085</th>\n",
       "      <td>16242643</td>\n",
       "      <td>Coyhaique</td>\n",
       "      <td>2021-08-21</td>\n",
       "      <td>33</td>\n",
       "      <td>SOSPECHA</td>\n",
       "      <td>NaN</td>\n",
       "      <td>NEGATIVO</td>\n",
       "      <td>NEGATIVO</td>\n",
       "      <td>2021-08-21</td>\n",
       "      <td>2021-07-05</td>\n",
       "      <td>2021-08-21</td>\n",
       "      <td>NaT</td>\n",
       "      <td>2021-07-06</td>\n",
       "      <td>2021-08-22</td>\n",
       "      <td>Hospital Regional (Coihaique)</td>\n",
       "      <td>Coyhaique</td>\n",
       "      <td>Coyhaique</td>\n",
       "    </tr>\n",
       "    <tr>\n",
       "      <th>72079</th>\n",
       "      <td>16108238</td>\n",
       "      <td>Chile Chico</td>\n",
       "      <td>2021-08-17</td>\n",
       "      <td>33</td>\n",
       "      <td>SOSPECHA</td>\n",
       "      <td>NEGATIVO</td>\n",
       "      <td>NaN</td>\n",
       "      <td>NaN</td>\n",
       "      <td>2021-08-11</td>\n",
       "      <td>NaN</td>\n",
       "      <td>NaT</td>\n",
       "      <td>2021-08-13</td>\n",
       "      <td>NaT</td>\n",
       "      <td>NaT</td>\n",
       "      <td>Hospital Dr. Leopoldo Ortega R. (Chile Chico)</td>\n",
       "      <td>Chile Chico</td>\n",
       "      <td>General Carrera</td>\n",
       "    </tr>\n",
       "    <tr>\n",
       "      <th>22004</th>\n",
       "      <td>16224822</td>\n",
       "      <td>Coyhaique</td>\n",
       "      <td>2021-08-20</td>\n",
       "      <td>33</td>\n",
       "      <td>SOSPECHA</td>\n",
       "      <td>NaN</td>\n",
       "      <td>NEGATIVO</td>\n",
       "      <td>NaN</td>\n",
       "      <td>2021-08-20</td>\n",
       "      <td>2021-08-20</td>\n",
       "      <td>NaT</td>\n",
       "      <td>NaT</td>\n",
       "      <td>2021-08-21</td>\n",
       "      <td>NaT</td>\n",
       "      <td>Hospital Regional (Coihaique)</td>\n",
       "      <td>Coyhaique</td>\n",
       "      <td>Coyhaique</td>\n",
       "    </tr>\n",
       "    <tr>\n",
       "      <th>72083</th>\n",
       "      <td>16121909</td>\n",
       "      <td>Chile Chico</td>\n",
       "      <td>2021-08-18</td>\n",
       "      <td>33</td>\n",
       "      <td>SOSPECHA</td>\n",
       "      <td>NEGATIVO</td>\n",
       "      <td>NaN</td>\n",
       "      <td>NaN</td>\n",
       "      <td>2021-05-31</td>\n",
       "      <td>NaN</td>\n",
       "      <td>NaT</td>\n",
       "      <td>2021-06-03</td>\n",
       "      <td>NaT</td>\n",
       "      <td>NaT</td>\n",
       "      <td>Hospital Dr. Leopoldo Ortega R. (Chile Chico)</td>\n",
       "      <td>Chile Chico</td>\n",
       "      <td>General Carrera</td>\n",
       "    </tr>\n",
       "    <tr>\n",
       "      <th>22081</th>\n",
       "      <td>16241400</td>\n",
       "      <td>Coyhaique</td>\n",
       "      <td>2021-08-21</td>\n",
       "      <td>33</td>\n",
       "      <td>SOSPECHA</td>\n",
       "      <td>NaN</td>\n",
       "      <td>NEGATIVO</td>\n",
       "      <td>NaN</td>\n",
       "      <td>2021-08-21</td>\n",
       "      <td>2021-08-21</td>\n",
       "      <td>NaT</td>\n",
       "      <td>NaT</td>\n",
       "      <td>2021-08-22</td>\n",
       "      <td>NaT</td>\n",
       "      <td>Hospital Regional (Coihaique)</td>\n",
       "      <td>Coyhaique</td>\n",
       "      <td>Coyhaique</td>\n",
       "    </tr>\n",
       "    <tr>\n",
       "      <th>72116</th>\n",
       "      <td>16247397</td>\n",
       "      <td>Chile Chico</td>\n",
       "      <td>2021-08-21</td>\n",
       "      <td>33</td>\n",
       "      <td>SOSPECHA</td>\n",
       "      <td>NEGATIVO</td>\n",
       "      <td>NaN</td>\n",
       "      <td>NaN</td>\n",
       "      <td>2021-08-02</td>\n",
       "      <td>NaN</td>\n",
       "      <td>NaT</td>\n",
       "      <td>2021-08-04</td>\n",
       "      <td>NaT</td>\n",
       "      <td>NaT</td>\n",
       "      <td>Hospital Dr. Leopoldo Ortega R. (Chile Chico)</td>\n",
       "      <td>Chile Chico</td>\n",
       "      <td>General Carrera</td>\n",
       "    </tr>\n",
       "    <tr>\n",
       "      <th>68267</th>\n",
       "      <td>16244368</td>\n",
       "      <td>Aisén</td>\n",
       "      <td>2021-08-21</td>\n",
       "      <td>33</td>\n",
       "      <td>SOSPECHA</td>\n",
       "      <td>NaN</td>\n",
       "      <td>NEGATIVO</td>\n",
       "      <td>NaN</td>\n",
       "      <td>2021-08-21</td>\n",
       "      <td>2021-08-21</td>\n",
       "      <td>NaT</td>\n",
       "      <td>NaT</td>\n",
       "      <td>2021-08-22</td>\n",
       "      <td>NaT</td>\n",
       "      <td>Hospital de Puerto Aysén</td>\n",
       "      <td>Aysen</td>\n",
       "      <td>Aysen</td>\n",
       "    </tr>\n",
       "  </tbody>\n",
       "</table>\n",
       "</div>"
      ],
      "text/plain": [
       "       numero_folio comuna_residencia fecha_notificacion  \\\n",
       "72072      16062201       Chile Chico         2021-08-16   \n",
       "68270      16246588             Aisén         2021-08-21   \n",
       "68111      16095328             Aisén         2021-08-16   \n",
       "22085      16242643         Coyhaique         2021-08-21   \n",
       "72079      16108238       Chile Chico         2021-08-17   \n",
       "22004      16224822         Coyhaique         2021-08-20   \n",
       "72083      16121909       Chile Chico         2021-08-18   \n",
       "22081      16241400         Coyhaique         2021-08-21   \n",
       "72116      16247397       Chile Chico         2021-08-21   \n",
       "68267      16244368             Aisén         2021-08-21   \n",
       "\n",
       "       semana_epidemiologica etapa_clinica resultado_pcr_1 resultado_pcr_2  \\\n",
       "72072                     33      SOSPECHA             NaN             NaN   \n",
       "68270                     33      SOSPECHA        NEGATIVO             NaN   \n",
       "68111                     33      SOSPECHA             NaN             NaN   \n",
       "22085                     33      SOSPECHA             NaN        NEGATIVO   \n",
       "72079                     33      SOSPECHA        NEGATIVO             NaN   \n",
       "22004                     33      SOSPECHA             NaN        NEGATIVO   \n",
       "72083                     33      SOSPECHA        NEGATIVO             NaN   \n",
       "22081                     33      SOSPECHA             NaN        NEGATIVO   \n",
       "72116                     33      SOSPECHA        NEGATIVO             NaN   \n",
       "68267                     33      SOSPECHA             NaN        NEGATIVO   \n",
       "\n",
       "      resultado_pcr_3 fecha_toma_muestra_1 fecha_toma_muestra_2  \\\n",
       "72072             NaN                  NaT                  NaN   \n",
       "68270        NEGATIVO           2021-04-20                  NaN   \n",
       "68111             NaN                  NaT                  NaN   \n",
       "22085        NEGATIVO           2021-08-21           2021-07-05   \n",
       "72079             NaN           2021-08-11                  NaN   \n",
       "22004             NaN           2021-08-20           2021-08-20   \n",
       "72083             NaN           2021-05-31                  NaN   \n",
       "22081             NaN           2021-08-21           2021-08-21   \n",
       "72116             NaN           2021-08-02                  NaN   \n",
       "68267             NaN           2021-08-21           2021-08-21   \n",
       "\n",
       "      fecha_toma_muestra_3 fecha_resultado_pcr_1 fecha_resultado_pcr_2  \\\n",
       "72072                  NaT                   NaT                   NaT   \n",
       "68270           2021-08-21            2021-04-21                   NaT   \n",
       "68111                  NaT                   NaT                   NaT   \n",
       "22085           2021-08-21                   NaT            2021-07-06   \n",
       "72079                  NaT            2021-08-13                   NaT   \n",
       "22004                  NaT                   NaT            2021-08-21   \n",
       "72083                  NaT            2021-06-03                   NaT   \n",
       "22081                  NaT                   NaT            2021-08-22   \n",
       "72116                  NaT            2021-08-04                   NaT   \n",
       "68267                  NaT                   NaT            2021-08-22   \n",
       "\n",
       "      fecha_resultado_pcr_3                          establecimiento_salud  \\\n",
       "72072                   NaT  Hospital Dr. Leopoldo Ortega R. (Chile Chico)   \n",
       "68270            2021-08-22                       Hospital de Puerto Aysén   \n",
       "68111                   NaT                       Hospital de Puerto Aysén   \n",
       "22085            2021-08-22                  Hospital Regional (Coihaique)   \n",
       "72079                   NaT  Hospital Dr. Leopoldo Ortega R. (Chile Chico)   \n",
       "22004                   NaT                  Hospital Regional (Coihaique)   \n",
       "72083                   NaT  Hospital Dr. Leopoldo Ortega R. (Chile Chico)   \n",
       "22081                   NaT                  Hospital Regional (Coihaique)   \n",
       "72116                   NaT  Hospital Dr. Leopoldo Ortega R. (Chile Chico)   \n",
       "68267                   NaT                       Hospital de Puerto Aysén   \n",
       "\n",
       "      comuna_seremi_xi provincia_seremi_xi  \n",
       "72072      Chile Chico     General Carrera  \n",
       "68270            Aysen               Aysen  \n",
       "68111            Aysen               Aysen  \n",
       "22085        Coyhaique           Coyhaique  \n",
       "72079      Chile Chico     General Carrera  \n",
       "22004        Coyhaique           Coyhaique  \n",
       "72083      Chile Chico     General Carrera  \n",
       "22081        Coyhaique           Coyhaique  \n",
       "72116      Chile Chico     General Carrera  \n",
       "68267            Aysen               Aysen  "
      ]
     },
     "execution_count": 12,
     "metadata": {},
     "output_type": "execute_result"
    }
   ],
   "source": [
    "semana_x = 33\n",
    "\n",
    "year = 2021\n",
    "\n",
    "# Filtra datos para semana_x y año (year)\n",
    "\n",
    "data_semx = data_aysen_clean[(data_aysen_clean['fecha_notificacion'].dt.year == year)&(data_aysen_clean['semana_epidemiologica']== semana_x)]\n",
    "\n",
    "data_semx.sample(10)"
   ]
  },
  {
   "cell_type": "markdown",
   "id": "a1d91a74",
   "metadata": {},
   "source": [
    "## Indicador oportunidad de testeo"
   ]
  },
  {
   "cell_type": "code",
   "execution_count": 19,
   "id": "936237d2",
   "metadata": {},
   "outputs": [
    {
     "data": {
      "text/html": [
       "<div>\n",
       "<style scoped>\n",
       "    .dataframe tbody tr th:only-of-type {\n",
       "        vertical-align: middle;\n",
       "    }\n",
       "\n",
       "    .dataframe tbody tr th {\n",
       "        vertical-align: top;\n",
       "    }\n",
       "\n",
       "    .dataframe thead th {\n",
       "        text-align: right;\n",
       "    }\n",
       "</style>\n",
       "<table border=\"1\" class=\"dataframe\">\n",
       "  <thead>\n",
       "    <tr style=\"text-align: right;\">\n",
       "      <th></th>\n",
       "      <th>numero_folio</th>\n",
       "      <th>comuna_residencia</th>\n",
       "      <th>fecha_notificacion</th>\n",
       "      <th>semana_epidemiologica</th>\n",
       "      <th>etapa_clinica</th>\n",
       "      <th>resultado_pcr_1</th>\n",
       "      <th>resultado_pcr_2</th>\n",
       "      <th>resultado_pcr_3</th>\n",
       "      <th>fecha_toma_muestra_1</th>\n",
       "      <th>fecha_toma_muestra_2</th>\n",
       "      <th>fecha_toma_muestra_3</th>\n",
       "      <th>fecha_resultado_pcr_1</th>\n",
       "      <th>fecha_resultado_pcr_2</th>\n",
       "      <th>fecha_resultado_pcr_3</th>\n",
       "      <th>establecimiento_salud</th>\n",
       "      <th>comuna_seremi_xi</th>\n",
       "      <th>provincia_seremi_xi</th>\n",
       "    </tr>\n",
       "  </thead>\n",
       "  <tbody>\n",
       "    <tr>\n",
       "      <th>21921</th>\n",
       "      <td>16188728</td>\n",
       "      <td>Coyhaique</td>\n",
       "      <td>2021-08-19</td>\n",
       "      <td>33</td>\n",
       "      <td>SOSPECHA</td>\n",
       "      <td>NaN</td>\n",
       "      <td>NEGATIVO</td>\n",
       "      <td>NaN</td>\n",
       "      <td>2021-08-19</td>\n",
       "      <td>2021-08-19</td>\n",
       "      <td>NaT</td>\n",
       "      <td>NaT</td>\n",
       "      <td>2021-08-20</td>\n",
       "      <td>NaT</td>\n",
       "      <td>Hospital Regional (Coihaique)</td>\n",
       "      <td>Coyhaique</td>\n",
       "      <td>Coyhaique</td>\n",
       "    </tr>\n",
       "    <tr>\n",
       "      <th>21934</th>\n",
       "      <td>16192476</td>\n",
       "      <td>Coyhaique</td>\n",
       "      <td>2021-08-19</td>\n",
       "      <td>33</td>\n",
       "      <td>SOSPECHA</td>\n",
       "      <td>NaN</td>\n",
       "      <td>NEGATIVO</td>\n",
       "      <td>NaN</td>\n",
       "      <td>2021-08-19</td>\n",
       "      <td>2021-08-19</td>\n",
       "      <td>NaT</td>\n",
       "      <td>NaT</td>\n",
       "      <td>2021-08-20</td>\n",
       "      <td>NaT</td>\n",
       "      <td>Hospital Regional (Coihaique)</td>\n",
       "      <td>Coyhaique</td>\n",
       "      <td>Coyhaique</td>\n",
       "    </tr>\n",
       "    <tr>\n",
       "      <th>82398</th>\n",
       "      <td>16227567</td>\n",
       "      <td>Coyhaique</td>\n",
       "      <td>2021-08-20</td>\n",
       "      <td>33</td>\n",
       "      <td>SOSPECHA</td>\n",
       "      <td>NEGATIVO</td>\n",
       "      <td>NaN</td>\n",
       "      <td>NaN</td>\n",
       "      <td>2021-07-18</td>\n",
       "      <td>NaN</td>\n",
       "      <td>NaT</td>\n",
       "      <td>2021-07-19</td>\n",
       "      <td>NaT</td>\n",
       "      <td>NaT</td>\n",
       "      <td>Consultorio Víctor Domingo Silva</td>\n",
       "      <td>Coyhaique</td>\n",
       "      <td>Coyhaique</td>\n",
       "    </tr>\n",
       "    <tr>\n",
       "      <th>22029</th>\n",
       "      <td>16229751</td>\n",
       "      <td>Coyhaique</td>\n",
       "      <td>2021-08-20</td>\n",
       "      <td>33</td>\n",
       "      <td>SOSPECHA</td>\n",
       "      <td>NEGATIVO</td>\n",
       "      <td>NaN</td>\n",
       "      <td>NEGATIVO</td>\n",
       "      <td>2021-08-02</td>\n",
       "      <td>2021-08-20</td>\n",
       "      <td>2021-08-20</td>\n",
       "      <td>2021-08-03</td>\n",
       "      <td>NaT</td>\n",
       "      <td>2021-08-21</td>\n",
       "      <td>Hospital Regional (Coihaique)</td>\n",
       "      <td>Coyhaique</td>\n",
       "      <td>Coyhaique</td>\n",
       "    </tr>\n",
       "    <tr>\n",
       "      <th>72115</th>\n",
       "      <td>16244176</td>\n",
       "      <td>Chile Chico</td>\n",
       "      <td>2021-08-21</td>\n",
       "      <td>33</td>\n",
       "      <td>SOSPECHA</td>\n",
       "      <td>NEGATIVO</td>\n",
       "      <td>NaN</td>\n",
       "      <td>NaN</td>\n",
       "      <td>2021-06-30</td>\n",
       "      <td>NaN</td>\n",
       "      <td>NaT</td>\n",
       "      <td>2021-07-01</td>\n",
       "      <td>NaT</td>\n",
       "      <td>NaT</td>\n",
       "      <td>Hospital Dr. Leopoldo Ortega R. (Chile Chico)</td>\n",
       "      <td>Chile Chico</td>\n",
       "      <td>General Carrera</td>\n",
       "    </tr>\n",
       "  </tbody>\n",
       "</table>\n",
       "</div>"
      ],
      "text/plain": [
       "       numero_folio comuna_residencia fecha_notificacion  \\\n",
       "21921      16188728         Coyhaique         2021-08-19   \n",
       "21934      16192476         Coyhaique         2021-08-19   \n",
       "82398      16227567         Coyhaique         2021-08-20   \n",
       "22029      16229751         Coyhaique         2021-08-20   \n",
       "72115      16244176       Chile Chico         2021-08-21   \n",
       "\n",
       "       semana_epidemiologica etapa_clinica resultado_pcr_1 resultado_pcr_2  \\\n",
       "21921                     33      SOSPECHA             NaN        NEGATIVO   \n",
       "21934                     33      SOSPECHA             NaN        NEGATIVO   \n",
       "82398                     33      SOSPECHA        NEGATIVO             NaN   \n",
       "22029                     33      SOSPECHA        NEGATIVO             NaN   \n",
       "72115                     33      SOSPECHA        NEGATIVO             NaN   \n",
       "\n",
       "      resultado_pcr_3 fecha_toma_muestra_1 fecha_toma_muestra_2  \\\n",
       "21921             NaN           2021-08-19           2021-08-19   \n",
       "21934             NaN           2021-08-19           2021-08-19   \n",
       "82398             NaN           2021-07-18                  NaN   \n",
       "22029        NEGATIVO           2021-08-02           2021-08-20   \n",
       "72115             NaN           2021-06-30                  NaN   \n",
       "\n",
       "      fecha_toma_muestra_3 fecha_resultado_pcr_1 fecha_resultado_pcr_2  \\\n",
       "21921                  NaT                   NaT            2021-08-20   \n",
       "21934                  NaT                   NaT            2021-08-20   \n",
       "82398                  NaT            2021-07-19                   NaT   \n",
       "22029           2021-08-20            2021-08-03                   NaT   \n",
       "72115                  NaT            2021-07-01                   NaT   \n",
       "\n",
       "      fecha_resultado_pcr_3                          establecimiento_salud  \\\n",
       "21921                   NaT                  Hospital Regional (Coihaique)   \n",
       "21934                   NaT                  Hospital Regional (Coihaique)   \n",
       "82398                   NaT               Consultorio Víctor Domingo Silva   \n",
       "22029            2021-08-21                  Hospital Regional (Coihaique)   \n",
       "72115                   NaT  Hospital Dr. Leopoldo Ortega R. (Chile Chico)   \n",
       "\n",
       "      comuna_seremi_xi provincia_seremi_xi  \n",
       "21921        Coyhaique           Coyhaique  \n",
       "21934        Coyhaique           Coyhaique  \n",
       "82398        Coyhaique           Coyhaique  \n",
       "22029        Coyhaique           Coyhaique  \n",
       "72115      Chile Chico     General Carrera  "
      ]
     },
     "execution_count": 19,
     "metadata": {},
     "output_type": "execute_result"
    }
   ],
   "source": [
    "# Filtra casos con al menos un resultado PCR\n",
    "\n",
    "data_semx_wpcr = data_semx[(data_semx['resultado_pcr_1'].notnull())|(data_semx['resultado_pcr_2'].notnull())|(data_semx['resultado_pcr_3'].notnull())]\n",
    "\n",
    "data_semx_wpcr.sample(5)"
   ]
  },
  {
   "cell_type": "code",
   "execution_count": 18,
   "id": "539248b5",
   "metadata": {},
   "outputs": [
    {
     "data": {
      "text/plain": [
       "98"
      ]
     },
     "execution_count": 18,
     "metadata": {},
     "output_type": "execute_result"
    }
   ],
   "source": [
    "data_semx_wpcr.shape[0]"
   ]
  },
  {
   "cell_type": "code",
   "execution_count": 15,
   "id": "60d43d63",
   "metadata": {},
   "outputs": [
    {
     "data": {
      "text/plain": [
       "127"
      ]
     },
     "execution_count": 15,
     "metadata": {},
     "output_type": "execute_result"
    }
   ],
   "source": [
    "data_semx.shape[0]"
   ]
  },
  {
   "cell_type": "code",
   "execution_count": 20,
   "id": "c2d5534c",
   "metadata": {},
   "outputs": [
    {
     "name": "stdout",
     "output_type": "stream",
     "text": [
      "Indicador de oportunidad de testeo regional: 77.16535433070865\n"
     ]
    }
   ],
   "source": [
    "print('Indicador de oportunidad de testeo regional: ' + str(data_semx_wpcr.shape[0]/data_semx.shape[0]*100))"
   ]
  },
  {
   "cell_type": "code",
   "execution_count": 21,
   "id": "7a031db3",
   "metadata": {},
   "outputs": [
    {
     "name": "stderr",
     "output_type": "stream",
     "text": [
      "<ipython-input-21-cd20b4640465>:7: SettingWithCopyWarning: \n",
      "A value is trying to be set on a copy of a slice from a DataFrame.\n",
      "Try using .loc[row_indexer,col_indexer] = value instead\n",
      "\n",
      "See the caveats in the documentation: https://pandas.pydata.org/pandas-docs/stable/user_guide/indexing.html#returning-a-view-versus-a-copy\n",
      "  data_aysen_clean1['semana_epidemiologica_21'] = data_aysen_clean1['semana_epidemiologica']\n",
      "<ipython-input-21-cd20b4640465>:8: SettingWithCopyWarning: \n",
      "A value is trying to be set on a copy of a slice from a DataFrame.\n",
      "Try using .loc[row_indexer,col_indexer] = value instead\n",
      "\n",
      "See the caveats in the documentation: https://pandas.pydata.org/pandas-docs/stable/user_guide/indexing.html#returning-a-view-versus-a-copy\n",
      "  data_aysen_clean2['semana_epidemiologica_21'] = data_aysen_clean2['semana_epidemiologica']+53\n"
     ]
    }
   ],
   "source": [
    "# Agrega 52 semanas a las semanas de 2021 y crea semana_epidemiologica_21\n",
    "\n",
    "data_aysen_clean1 = data_aysen_clean[data_aysen_clean['fecha_notificacion']<=pd.to_datetime('2021-01-02')]\n",
    "data_aysen_clean2 = data_aysen_clean[data_aysen_clean['fecha_notificacion']>=pd.to_datetime('2021-01-03')]\n",
    "\n",
    "\n",
    "data_aysen_clean1['semana_epidemiologica_21'] = data_aysen_clean1['semana_epidemiologica']\n",
    "data_aysen_clean2['semana_epidemiologica_21'] = data_aysen_clean2['semana_epidemiologica']+53\n",
    "\n",
    "data_aysen_clean_21 = data_aysen_clean1.append(data_aysen_clean2, ignore_index=True)\n"
   ]
  },
  {
   "cell_type": "code",
   "execution_count": 24,
   "id": "4bf06d29",
   "metadata": {},
   "outputs": [
    {
     "data": {
      "text/html": [
       "<div>\n",
       "<style scoped>\n",
       "    .dataframe tbody tr th:only-of-type {\n",
       "        vertical-align: middle;\n",
       "    }\n",
       "\n",
       "    .dataframe tbody tr th {\n",
       "        vertical-align: top;\n",
       "    }\n",
       "\n",
       "    .dataframe thead th {\n",
       "        text-align: right;\n",
       "    }\n",
       "</style>\n",
       "<table border=\"1\" class=\"dataframe\">\n",
       "  <thead>\n",
       "    <tr style=\"text-align: right;\">\n",
       "      <th></th>\n",
       "      <th>numero_folio</th>\n",
       "      <th>comuna_residencia</th>\n",
       "      <th>fecha_notificacion</th>\n",
       "      <th>semana_epidemiologica</th>\n",
       "      <th>etapa_clinica</th>\n",
       "      <th>resultado_pcr_1</th>\n",
       "      <th>resultado_pcr_2</th>\n",
       "      <th>resultado_pcr_3</th>\n",
       "      <th>fecha_toma_muestra_1</th>\n",
       "      <th>fecha_toma_muestra_2</th>\n",
       "      <th>fecha_toma_muestra_3</th>\n",
       "      <th>fecha_resultado_pcr_1</th>\n",
       "      <th>fecha_resultado_pcr_2</th>\n",
       "      <th>fecha_resultado_pcr_3</th>\n",
       "      <th>establecimiento_salud</th>\n",
       "      <th>comuna_seremi_xi</th>\n",
       "      <th>provincia_seremi_xi</th>\n",
       "      <th>semana_epidemiologica_21</th>\n",
       "    </tr>\n",
       "  </thead>\n",
       "  <tbody>\n",
       "    <tr>\n",
       "      <th>770</th>\n",
       "      <td>10540038</td>\n",
       "      <td>Coyhaique</td>\n",
       "      <td>2021-04-07</td>\n",
       "      <td>14</td>\n",
       "      <td>SOSPECHA</td>\n",
       "      <td>NaN</td>\n",
       "      <td>NaN</td>\n",
       "      <td>NaN</td>\n",
       "      <td>NaT</td>\n",
       "      <td>NaN</td>\n",
       "      <td>NaT</td>\n",
       "      <td>NaT</td>\n",
       "      <td>NaT</td>\n",
       "      <td>NaT</td>\n",
       "      <td>Ejercicio libre de la profesión XI región</td>\n",
       "      <td>Ejercicio Libre de la Profesión</td>\n",
       "      <td>Ejercicio Libre de la Profesión</td>\n",
       "      <td>67</td>\n",
       "    </tr>\n",
       "    <tr>\n",
       "      <th>733</th>\n",
       "      <td>15808193</td>\n",
       "      <td>Cisnes</td>\n",
       "      <td>2021-08-09</td>\n",
       "      <td>32</td>\n",
       "      <td>SOSPECHA</td>\n",
       "      <td>NEGATIVO</td>\n",
       "      <td>NaN</td>\n",
       "      <td>NaN</td>\n",
       "      <td>2021-05-27</td>\n",
       "      <td>NaN</td>\n",
       "      <td>NaT</td>\n",
       "      <td>2021-05-28</td>\n",
       "      <td>NaT</td>\n",
       "      <td>NaT</td>\n",
       "      <td>Hospital Dr. Jorge Ibar (Cisnes)</td>\n",
       "      <td>Cisnes</td>\n",
       "      <td>Aysen</td>\n",
       "      <td>85</td>\n",
       "    </tr>\n",
       "    <tr>\n",
       "      <th>210</th>\n",
       "      <td>6797118</td>\n",
       "      <td>Coyhaique</td>\n",
       "      <td>2021-01-12</td>\n",
       "      <td>2</td>\n",
       "      <td>SOSPECHA</td>\n",
       "      <td>NaN</td>\n",
       "      <td>NaN</td>\n",
       "      <td>NaN</td>\n",
       "      <td>2021-01-12</td>\n",
       "      <td>NaN</td>\n",
       "      <td>NaT</td>\n",
       "      <td>NaT</td>\n",
       "      <td>NaT</td>\n",
       "      <td>NaT</td>\n",
       "      <td>Hospital Regional (Coihaique)</td>\n",
       "      <td>Coyhaique</td>\n",
       "      <td>Coyhaique</td>\n",
       "      <td>55</td>\n",
       "    </tr>\n",
       "    <tr>\n",
       "      <th>352</th>\n",
       "      <td>13856610</td>\n",
       "      <td>Coyhaique</td>\n",
       "      <td>2021-06-16</td>\n",
       "      <td>24</td>\n",
       "      <td>SOSPECHA</td>\n",
       "      <td>NEGATIVO</td>\n",
       "      <td>NaN</td>\n",
       "      <td>NaN</td>\n",
       "      <td>2021-06-03</td>\n",
       "      <td>2021-06-16</td>\n",
       "      <td>NaT</td>\n",
       "      <td>2021-06-06</td>\n",
       "      <td>NaT</td>\n",
       "      <td>NaT</td>\n",
       "      <td>Hospital Regional (Coihaique)</td>\n",
       "      <td>Coyhaique</td>\n",
       "      <td>Coyhaique</td>\n",
       "      <td>77</td>\n",
       "    </tr>\n",
       "    <tr>\n",
       "      <th>153</th>\n",
       "      <td>1774797</td>\n",
       "      <td>Coyhaique</td>\n",
       "      <td>2020-08-11</td>\n",
       "      <td>33</td>\n",
       "      <td>SOSPECHA</td>\n",
       "      <td>NaN</td>\n",
       "      <td>NaN</td>\n",
       "      <td>NaN</td>\n",
       "      <td>NaT</td>\n",
       "      <td>NaN</td>\n",
       "      <td>NaT</td>\n",
       "      <td>NaT</td>\n",
       "      <td>NaT</td>\n",
       "      <td>NaT</td>\n",
       "      <td>Centro Clínico Militar Coyhaique</td>\n",
       "      <td>Coyhaique</td>\n",
       "      <td>Coyhaique</td>\n",
       "      <td>33</td>\n",
       "    </tr>\n",
       "    <tr>\n",
       "      <th>501</th>\n",
       "      <td>10506678</td>\n",
       "      <td>Guaitecas</td>\n",
       "      <td>2021-04-07</td>\n",
       "      <td>14</td>\n",
       "      <td>SOSPECHA</td>\n",
       "      <td>NaN</td>\n",
       "      <td>NaN</td>\n",
       "      <td>NaN</td>\n",
       "      <td>NaT</td>\n",
       "      <td>NaN</td>\n",
       "      <td>NaT</td>\n",
       "      <td>NaT</td>\n",
       "      <td>NaT</td>\n",
       "      <td>NaT</td>\n",
       "      <td>Posta de Salud Rural Melinka</td>\n",
       "      <td>Guaitecas</td>\n",
       "      <td>Aysen</td>\n",
       "      <td>67</td>\n",
       "    </tr>\n",
       "    <tr>\n",
       "      <th>755</th>\n",
       "      <td>7499542</td>\n",
       "      <td>Coyhaique</td>\n",
       "      <td>2021-01-27</td>\n",
       "      <td>4</td>\n",
       "      <td>SOSPECHA</td>\n",
       "      <td>NaN</td>\n",
       "      <td>NaN</td>\n",
       "      <td>NaN</td>\n",
       "      <td>NaT</td>\n",
       "      <td>NaN</td>\n",
       "      <td>NaT</td>\n",
       "      <td>NaT</td>\n",
       "      <td>NaT</td>\n",
       "      <td>NaT</td>\n",
       "      <td>Ejercicio libre de la profesión XI región</td>\n",
       "      <td>Ejercicio Libre de la Profesión</td>\n",
       "      <td>Ejercicio Libre de la Profesión</td>\n",
       "      <td>57</td>\n",
       "    </tr>\n",
       "    <tr>\n",
       "      <th>729</th>\n",
       "      <td>15269983</td>\n",
       "      <td>Cisnes</td>\n",
       "      <td>2021-07-23</td>\n",
       "      <td>29</td>\n",
       "      <td>SOSPECHA</td>\n",
       "      <td>NaN</td>\n",
       "      <td>NaN</td>\n",
       "      <td>NaN</td>\n",
       "      <td>NaT</td>\n",
       "      <td>NaN</td>\n",
       "      <td>NaT</td>\n",
       "      <td>NaT</td>\n",
       "      <td>NaT</td>\n",
       "      <td>NaT</td>\n",
       "      <td>Hospital Dr. Jorge Ibar (Cisnes)</td>\n",
       "      <td>Cisnes</td>\n",
       "      <td>Aysen</td>\n",
       "      <td>82</td>\n",
       "    </tr>\n",
       "    <tr>\n",
       "      <th>50</th>\n",
       "      <td>5338267</td>\n",
       "      <td>Coyhaique</td>\n",
       "      <td>2020-12-05</td>\n",
       "      <td>49</td>\n",
       "      <td>SOSPECHA</td>\n",
       "      <td>NaN</td>\n",
       "      <td>NaN</td>\n",
       "      <td>NaN</td>\n",
       "      <td>2020-12-05</td>\n",
       "      <td>NaN</td>\n",
       "      <td>NaT</td>\n",
       "      <td>NaT</td>\n",
       "      <td>NaT</td>\n",
       "      <td>NaT</td>\n",
       "      <td>Hospital Regional (Coihaique)</td>\n",
       "      <td>Coyhaique</td>\n",
       "      <td>Coyhaique</td>\n",
       "      <td>49</td>\n",
       "    </tr>\n",
       "    <tr>\n",
       "      <th>764</th>\n",
       "      <td>8051766</td>\n",
       "      <td>Coyhaique</td>\n",
       "      <td>2021-02-09</td>\n",
       "      <td>6</td>\n",
       "      <td>SOSPECHA</td>\n",
       "      <td>NaN</td>\n",
       "      <td>NaN</td>\n",
       "      <td>NaN</td>\n",
       "      <td>NaT</td>\n",
       "      <td>NaN</td>\n",
       "      <td>NaT</td>\n",
       "      <td>NaT</td>\n",
       "      <td>NaT</td>\n",
       "      <td>NaT</td>\n",
       "      <td>Ejercicio libre de la profesión XI región</td>\n",
       "      <td>Ejercicio Libre de la Profesión</td>\n",
       "      <td>Ejercicio Libre de la Profesión</td>\n",
       "      <td>59</td>\n",
       "    </tr>\n",
       "    <tr>\n",
       "      <th>753</th>\n",
       "      <td>7498092</td>\n",
       "      <td>Coyhaique</td>\n",
       "      <td>2021-01-27</td>\n",
       "      <td>4</td>\n",
       "      <td>SOSPECHA</td>\n",
       "      <td>NaN</td>\n",
       "      <td>NaN</td>\n",
       "      <td>NaN</td>\n",
       "      <td>NaT</td>\n",
       "      <td>NaN</td>\n",
       "      <td>NaT</td>\n",
       "      <td>NaT</td>\n",
       "      <td>NaT</td>\n",
       "      <td>NaT</td>\n",
       "      <td>Ejercicio libre de la profesión XI región</td>\n",
       "      <td>Ejercicio Libre de la Profesión</td>\n",
       "      <td>Ejercicio Libre de la Profesión</td>\n",
       "      <td>57</td>\n",
       "    </tr>\n",
       "    <tr>\n",
       "      <th>425</th>\n",
       "      <td>16241400</td>\n",
       "      <td>Coyhaique</td>\n",
       "      <td>2021-08-21</td>\n",
       "      <td>33</td>\n",
       "      <td>SOSPECHA</td>\n",
       "      <td>NaN</td>\n",
       "      <td>NEGATIVO</td>\n",
       "      <td>NaN</td>\n",
       "      <td>2021-08-21</td>\n",
       "      <td>2021-08-21</td>\n",
       "      <td>NaT</td>\n",
       "      <td>NaT</td>\n",
       "      <td>2021-08-22</td>\n",
       "      <td>NaT</td>\n",
       "      <td>Hospital Regional (Coihaique)</td>\n",
       "      <td>Coyhaique</td>\n",
       "      <td>Coyhaique</td>\n",
       "      <td>86</td>\n",
       "    </tr>\n",
       "    <tr>\n",
       "      <th>312</th>\n",
       "      <td>12594009</td>\n",
       "      <td>Coyhaique</td>\n",
       "      <td>2021-05-22</td>\n",
       "      <td>20</td>\n",
       "      <td>SOSPECHA</td>\n",
       "      <td>NaN</td>\n",
       "      <td>NaN</td>\n",
       "      <td>NaN</td>\n",
       "      <td>2021-05-22</td>\n",
       "      <td>NaN</td>\n",
       "      <td>NaT</td>\n",
       "      <td>NaT</td>\n",
       "      <td>NaT</td>\n",
       "      <td>NaT</td>\n",
       "      <td>Hospital Regional (Coihaique)</td>\n",
       "      <td>Coyhaique</td>\n",
       "      <td>Coyhaique</td>\n",
       "      <td>73</td>\n",
       "    </tr>\n",
       "    <tr>\n",
       "      <th>752</th>\n",
       "      <td>7497848</td>\n",
       "      <td>Coyhaique</td>\n",
       "      <td>2021-01-27</td>\n",
       "      <td>4</td>\n",
       "      <td>SOSPECHA</td>\n",
       "      <td>NaN</td>\n",
       "      <td>NaN</td>\n",
       "      <td>NaN</td>\n",
       "      <td>NaT</td>\n",
       "      <td>NaN</td>\n",
       "      <td>NaT</td>\n",
       "      <td>NaT</td>\n",
       "      <td>NaT</td>\n",
       "      <td>NaT</td>\n",
       "      <td>Ejercicio libre de la profesión XI región</td>\n",
       "      <td>Ejercicio Libre de la Profesión</td>\n",
       "      <td>Ejercicio Libre de la Profesión</td>\n",
       "      <td>57</td>\n",
       "    </tr>\n",
       "    <tr>\n",
       "      <th>159</th>\n",
       "      <td>5016542</td>\n",
       "      <td>Cisnes</td>\n",
       "      <td>2020-11-26</td>\n",
       "      <td>48</td>\n",
       "      <td>SOSPECHA</td>\n",
       "      <td>NaN</td>\n",
       "      <td>NaN</td>\n",
       "      <td>NaN</td>\n",
       "      <td>NaT</td>\n",
       "      <td>NaN</td>\n",
       "      <td>NaT</td>\n",
       "      <td>NaT</td>\n",
       "      <td>NaT</td>\n",
       "      <td>NaT</td>\n",
       "      <td>Hospital Dr. Jorge Ibar (Cisnes)</td>\n",
       "      <td>Cisnes</td>\n",
       "      <td>Aysen</td>\n",
       "      <td>48</td>\n",
       "    </tr>\n",
       "    <tr>\n",
       "      <th>154</th>\n",
       "      <td>991186</td>\n",
       "      <td>Coyhaique</td>\n",
       "      <td>2020-06-26</td>\n",
       "      <td>26</td>\n",
       "      <td>SOSPECHA</td>\n",
       "      <td>NaN</td>\n",
       "      <td>NaN</td>\n",
       "      <td>NaN</td>\n",
       "      <td>NaT</td>\n",
       "      <td>NaN</td>\n",
       "      <td>NaT</td>\n",
       "      <td>NaT</td>\n",
       "      <td>NaT</td>\n",
       "      <td>NaT</td>\n",
       "      <td>Consultorio Víctor Domingo Silva</td>\n",
       "      <td>Coyhaique</td>\n",
       "      <td>Coyhaique</td>\n",
       "      <td>26</td>\n",
       "    </tr>\n",
       "    <tr>\n",
       "      <th>553</th>\n",
       "      <td>9013829</td>\n",
       "      <td>Aisén</td>\n",
       "      <td>2021-03-07</td>\n",
       "      <td>10</td>\n",
       "      <td>SOSPECHA</td>\n",
       "      <td>NaN</td>\n",
       "      <td>NaN</td>\n",
       "      <td>NaN</td>\n",
       "      <td>NaT</td>\n",
       "      <td>NaN</td>\n",
       "      <td>NaT</td>\n",
       "      <td>NaT</td>\n",
       "      <td>NaT</td>\n",
       "      <td>NaT</td>\n",
       "      <td>Hospital de Puerto Aysén</td>\n",
       "      <td>Aysen</td>\n",
       "      <td>Aysen</td>\n",
       "      <td>63</td>\n",
       "    </tr>\n",
       "    <tr>\n",
       "      <th>136</th>\n",
       "      <td>123835</td>\n",
       "      <td>Aisén</td>\n",
       "      <td>2020-04-14</td>\n",
       "      <td>16</td>\n",
       "      <td>SOSPECHA</td>\n",
       "      <td>NaN</td>\n",
       "      <td>NaN</td>\n",
       "      <td>NaN</td>\n",
       "      <td>NaT</td>\n",
       "      <td>NaN</td>\n",
       "      <td>NaT</td>\n",
       "      <td>NaT</td>\n",
       "      <td>NaT</td>\n",
       "      <td>NaT</td>\n",
       "      <td>Centro Clínico Militar Coyhaique</td>\n",
       "      <td>Coyhaique</td>\n",
       "      <td>Coyhaique</td>\n",
       "      <td>16</td>\n",
       "    </tr>\n",
       "    <tr>\n",
       "      <th>292</th>\n",
       "      <td>11753999</td>\n",
       "      <td>Coyhaique</td>\n",
       "      <td>2021-05-03</td>\n",
       "      <td>18</td>\n",
       "      <td>SOSPECHA</td>\n",
       "      <td>POSITIVO</td>\n",
       "      <td>NaN</td>\n",
       "      <td>NaN</td>\n",
       "      <td>2021-05-03</td>\n",
       "      <td>2021-05-03</td>\n",
       "      <td>NaT</td>\n",
       "      <td>2021-05-04</td>\n",
       "      <td>NaT</td>\n",
       "      <td>NaT</td>\n",
       "      <td>Hospital Regional (Coihaique)</td>\n",
       "      <td>Coyhaique</td>\n",
       "      <td>Coyhaique</td>\n",
       "      <td>71</td>\n",
       "    </tr>\n",
       "    <tr>\n",
       "      <th>390</th>\n",
       "      <td>16202172</td>\n",
       "      <td>Coyhaique</td>\n",
       "      <td>2021-08-20</td>\n",
       "      <td>33</td>\n",
       "      <td>SOSPECHA</td>\n",
       "      <td>NaN</td>\n",
       "      <td>NEGATIVO</td>\n",
       "      <td>NaN</td>\n",
       "      <td>2021-08-20</td>\n",
       "      <td>2021-08-20</td>\n",
       "      <td>NaT</td>\n",
       "      <td>NaT</td>\n",
       "      <td>2021-08-21</td>\n",
       "      <td>NaT</td>\n",
       "      <td>Hospital Regional (Coihaique)</td>\n",
       "      <td>Coyhaique</td>\n",
       "      <td>Coyhaique</td>\n",
       "      <td>86</td>\n",
       "    </tr>\n",
       "    <tr>\n",
       "      <th>360</th>\n",
       "      <td>14280981</td>\n",
       "      <td>Lago Verde</td>\n",
       "      <td>2021-06-26</td>\n",
       "      <td>25</td>\n",
       "      <td>SOSPECHA</td>\n",
       "      <td>NEGATIVO</td>\n",
       "      <td>NEGATIVO</td>\n",
       "      <td>NEGATIVO</td>\n",
       "      <td>2021-04-05</td>\n",
       "      <td>2021-04-06</td>\n",
       "      <td>2021-04-07</td>\n",
       "      <td>2021-04-06</td>\n",
       "      <td>2021-04-07</td>\n",
       "      <td>2021-04-08</td>\n",
       "      <td>Hospital Regional (Coihaique)</td>\n",
       "      <td>Coyhaique</td>\n",
       "      <td>Coyhaique</td>\n",
       "      <td>78</td>\n",
       "    </tr>\n",
       "    <tr>\n",
       "      <th>398</th>\n",
       "      <td>16224695</td>\n",
       "      <td>Coyhaique</td>\n",
       "      <td>2021-08-20</td>\n",
       "      <td>33</td>\n",
       "      <td>SOSPECHA</td>\n",
       "      <td>NaN</td>\n",
       "      <td>NEGATIVO</td>\n",
       "      <td>NaN</td>\n",
       "      <td>2021-08-20</td>\n",
       "      <td>2021-08-20</td>\n",
       "      <td>NaT</td>\n",
       "      <td>NaT</td>\n",
       "      <td>2021-08-21</td>\n",
       "      <td>NaT</td>\n",
       "      <td>Hospital Regional (Coihaique)</td>\n",
       "      <td>Coyhaique</td>\n",
       "      <td>Coyhaique</td>\n",
       "      <td>86</td>\n",
       "    </tr>\n",
       "    <tr>\n",
       "      <th>746</th>\n",
       "      <td>6727892</td>\n",
       "      <td>Coyhaique</td>\n",
       "      <td>2021-01-11</td>\n",
       "      <td>2</td>\n",
       "      <td>SOSPECHA</td>\n",
       "      <td>NaN</td>\n",
       "      <td>NaN</td>\n",
       "      <td>NaN</td>\n",
       "      <td>NaT</td>\n",
       "      <td>NaN</td>\n",
       "      <td>NaT</td>\n",
       "      <td>NaT</td>\n",
       "      <td>NaT</td>\n",
       "      <td>NaT</td>\n",
       "      <td>Ejercicio libre de la profesión XI región</td>\n",
       "      <td>Ejercicio Libre de la Profesión</td>\n",
       "      <td>Ejercicio Libre de la Profesión</td>\n",
       "      <td>55</td>\n",
       "    </tr>\n",
       "    <tr>\n",
       "      <th>344</th>\n",
       "      <td>13614910</td>\n",
       "      <td>Coyhaique</td>\n",
       "      <td>2021-06-11</td>\n",
       "      <td>23</td>\n",
       "      <td>SOSPECHA</td>\n",
       "      <td>NEGATIVO</td>\n",
       "      <td>NaN</td>\n",
       "      <td>NaN</td>\n",
       "      <td>2021-05-27</td>\n",
       "      <td>2021-06-11</td>\n",
       "      <td>NaT</td>\n",
       "      <td>2021-05-28</td>\n",
       "      <td>NaT</td>\n",
       "      <td>NaT</td>\n",
       "      <td>Hospital Regional (Coihaique)</td>\n",
       "      <td>Coyhaique</td>\n",
       "      <td>Coyhaique</td>\n",
       "      <td>76</td>\n",
       "    </tr>\n",
       "    <tr>\n",
       "      <th>617</th>\n",
       "      <td>16239505</td>\n",
       "      <td>Aisén</td>\n",
       "      <td>2021-08-21</td>\n",
       "      <td>33</td>\n",
       "      <td>SOSPECHA</td>\n",
       "      <td>NEGATIVO</td>\n",
       "      <td>NaN</td>\n",
       "      <td>NEGATIVO</td>\n",
       "      <td>2021-07-29</td>\n",
       "      <td>2021-08-21</td>\n",
       "      <td>2021-08-21</td>\n",
       "      <td>2021-07-29</td>\n",
       "      <td>NaT</td>\n",
       "      <td>2021-08-22</td>\n",
       "      <td>Hospital de Puerto Aysén</td>\n",
       "      <td>Aysen</td>\n",
       "      <td>Aysen</td>\n",
       "      <td>86</td>\n",
       "    </tr>\n",
       "    <tr>\n",
       "      <th>420</th>\n",
       "      <td>16232413</td>\n",
       "      <td>Coyhaique</td>\n",
       "      <td>2021-08-21</td>\n",
       "      <td>33</td>\n",
       "      <td>SOSPECHA</td>\n",
       "      <td>NaN</td>\n",
       "      <td>NEGATIVO</td>\n",
       "      <td>NaN</td>\n",
       "      <td>2021-08-21</td>\n",
       "      <td>2021-08-21</td>\n",
       "      <td>NaT</td>\n",
       "      <td>NaT</td>\n",
       "      <td>2021-08-21</td>\n",
       "      <td>NaT</td>\n",
       "      <td>Hospital Regional (Coihaique)</td>\n",
       "      <td>Coyhaique</td>\n",
       "      <td>Coyhaique</td>\n",
       "      <td>86</td>\n",
       "    </tr>\n",
       "    <tr>\n",
       "      <th>403</th>\n",
       "      <td>16228743</td>\n",
       "      <td>Coyhaique</td>\n",
       "      <td>2021-08-20</td>\n",
       "      <td>33</td>\n",
       "      <td>SOSPECHA</td>\n",
       "      <td>NaN</td>\n",
       "      <td>NaN</td>\n",
       "      <td>NEGATIVO</td>\n",
       "      <td>NaT</td>\n",
       "      <td>2021-08-20</td>\n",
       "      <td>2021-08-20</td>\n",
       "      <td>NaT</td>\n",
       "      <td>NaT</td>\n",
       "      <td>2021-08-21</td>\n",
       "      <td>Hospital Regional (Coihaique)</td>\n",
       "      <td>Coyhaique</td>\n",
       "      <td>Coyhaique</td>\n",
       "      <td>86</td>\n",
       "    </tr>\n",
       "    <tr>\n",
       "      <th>795</th>\n",
       "      <td>13888541</td>\n",
       "      <td>Coyhaique</td>\n",
       "      <td>2021-06-17</td>\n",
       "      <td>24</td>\n",
       "      <td>SOSPECHA</td>\n",
       "      <td>NaN</td>\n",
       "      <td>NaN</td>\n",
       "      <td>NaN</td>\n",
       "      <td>NaT</td>\n",
       "      <td>NaN</td>\n",
       "      <td>NaT</td>\n",
       "      <td>NaT</td>\n",
       "      <td>NaT</td>\n",
       "      <td>NaT</td>\n",
       "      <td>Actividades gestionadas por la Dirección del S...</td>\n",
       "      <td>Coyhaique</td>\n",
       "      <td>Coyhaique</td>\n",
       "      <td>77</td>\n",
       "    </tr>\n",
       "    <tr>\n",
       "      <th>91</th>\n",
       "      <td>2631119</td>\n",
       "      <td>Coyhaique</td>\n",
       "      <td>2020-09-11</td>\n",
       "      <td>37</td>\n",
       "      <td>SOSPECHA</td>\n",
       "      <td>NaN</td>\n",
       "      <td>NaN</td>\n",
       "      <td>NaN</td>\n",
       "      <td>2020-09-11</td>\n",
       "      <td>NaN</td>\n",
       "      <td>NaT</td>\n",
       "      <td>NaT</td>\n",
       "      <td>NaT</td>\n",
       "      <td>NaT</td>\n",
       "      <td>Consultorio Alejandro Gutiérrez</td>\n",
       "      <td>Coyhaique</td>\n",
       "      <td>Coyhaique</td>\n",
       "      <td>37</td>\n",
       "    </tr>\n",
       "    <tr>\n",
       "      <th>592</th>\n",
       "      <td>14044508</td>\n",
       "      <td>Aisén</td>\n",
       "      <td>2021-06-21</td>\n",
       "      <td>25</td>\n",
       "      <td>SOSPECHA</td>\n",
       "      <td>NEGATIVO</td>\n",
       "      <td>NaN</td>\n",
       "      <td>NaN</td>\n",
       "      <td>2021-06-18</td>\n",
       "      <td>NaN</td>\n",
       "      <td>NaT</td>\n",
       "      <td>2021-06-18</td>\n",
       "      <td>NaT</td>\n",
       "      <td>NaT</td>\n",
       "      <td>Hospital de Puerto Aysén</td>\n",
       "      <td>Aysen</td>\n",
       "      <td>Aysen</td>\n",
       "      <td>78</td>\n",
       "    </tr>\n",
       "    <tr>\n",
       "      <th>552</th>\n",
       "      <td>8561135</td>\n",
       "      <td>Aisén</td>\n",
       "      <td>2021-02-23</td>\n",
       "      <td>8</td>\n",
       "      <td>SOSPECHA</td>\n",
       "      <td>NaN</td>\n",
       "      <td>NaN</td>\n",
       "      <td>NaN</td>\n",
       "      <td>NaT</td>\n",
       "      <td>NaN</td>\n",
       "      <td>NaT</td>\n",
       "      <td>NaT</td>\n",
       "      <td>NaT</td>\n",
       "      <td>NaT</td>\n",
       "      <td>Hospital de Puerto Aysén</td>\n",
       "      <td>Aysen</td>\n",
       "      <td>Aysen</td>\n",
       "      <td>61</td>\n",
       "    </tr>\n",
       "    <tr>\n",
       "      <th>231</th>\n",
       "      <td>8466327</td>\n",
       "      <td>Coyhaique</td>\n",
       "      <td>2021-02-21</td>\n",
       "      <td>8</td>\n",
       "      <td>SOSPECHA</td>\n",
       "      <td>NaN</td>\n",
       "      <td>NaN</td>\n",
       "      <td>NaN</td>\n",
       "      <td>2021-02-21</td>\n",
       "      <td>NaN</td>\n",
       "      <td>NaT</td>\n",
       "      <td>NaT</td>\n",
       "      <td>NaT</td>\n",
       "      <td>NaT</td>\n",
       "      <td>Hospital Regional (Coihaique)</td>\n",
       "      <td>Coyhaique</td>\n",
       "      <td>Coyhaique</td>\n",
       "      <td>61</td>\n",
       "    </tr>\n",
       "    <tr>\n",
       "      <th>693</th>\n",
       "      <td>16247397</td>\n",
       "      <td>Chile Chico</td>\n",
       "      <td>2021-08-21</td>\n",
       "      <td>33</td>\n",
       "      <td>SOSPECHA</td>\n",
       "      <td>NEGATIVO</td>\n",
       "      <td>NaN</td>\n",
       "      <td>NaN</td>\n",
       "      <td>2021-08-02</td>\n",
       "      <td>NaN</td>\n",
       "      <td>NaT</td>\n",
       "      <td>2021-08-04</td>\n",
       "      <td>NaT</td>\n",
       "      <td>NaT</td>\n",
       "      <td>Hospital Dr. Leopoldo Ortega R. (Chile Chico)</td>\n",
       "      <td>Chile Chico</td>\n",
       "      <td>General Carrera</td>\n",
       "      <td>86</td>\n",
       "    </tr>\n",
       "    <tr>\n",
       "      <th>715</th>\n",
       "      <td>9031133</td>\n",
       "      <td>Cisnes</td>\n",
       "      <td>2021-03-07</td>\n",
       "      <td>10</td>\n",
       "      <td>SOSPECHA</td>\n",
       "      <td>NaN</td>\n",
       "      <td>NaN</td>\n",
       "      <td>NaN</td>\n",
       "      <td>NaT</td>\n",
       "      <td>NaN</td>\n",
       "      <td>NaT</td>\n",
       "      <td>NaT</td>\n",
       "      <td>NaT</td>\n",
       "      <td>NaT</td>\n",
       "      <td>Hospital Dr. Jorge Ibar (Cisnes)</td>\n",
       "      <td>Cisnes</td>\n",
       "      <td>Aysen</td>\n",
       "      <td>63</td>\n",
       "    </tr>\n",
       "    <tr>\n",
       "      <th>798</th>\n",
       "      <td>16145245</td>\n",
       "      <td>Cisnes</td>\n",
       "      <td>2021-08-18</td>\n",
       "      <td>33</td>\n",
       "      <td>SOSPECHA</td>\n",
       "      <td>NEGATIVO</td>\n",
       "      <td>NaN</td>\n",
       "      <td>NEGATIVO</td>\n",
       "      <td>2021-06-09</td>\n",
       "      <td>2021-08-18</td>\n",
       "      <td>2021-08-18</td>\n",
       "      <td>2021-06-10</td>\n",
       "      <td>NaT</td>\n",
       "      <td>2021-08-19</td>\n",
       "      <td>Posta de Salud Rural Lago Verde</td>\n",
       "      <td>Lago Verde</td>\n",
       "      <td>Coyhaique</td>\n",
       "      <td>86</td>\n",
       "    </tr>\n",
       "    <tr>\n",
       "      <th>295</th>\n",
       "      <td>11856520</td>\n",
       "      <td>Coyhaique</td>\n",
       "      <td>2021-05-05</td>\n",
       "      <td>18</td>\n",
       "      <td>SOSPECHA</td>\n",
       "      <td>NEGATIVO</td>\n",
       "      <td>NaN</td>\n",
       "      <td>NaN</td>\n",
       "      <td>2021-03-15</td>\n",
       "      <td>2021-05-05</td>\n",
       "      <td>NaT</td>\n",
       "      <td>2021-03-15</td>\n",
       "      <td>NaT</td>\n",
       "      <td>NaT</td>\n",
       "      <td>Hospital Regional (Coihaique)</td>\n",
       "      <td>Coyhaique</td>\n",
       "      <td>Coyhaique</td>\n",
       "      <td>71</td>\n",
       "    </tr>\n",
       "    <tr>\n",
       "      <th>450</th>\n",
       "      <td>6676302</td>\n",
       "      <td>Coyhaique</td>\n",
       "      <td>2021-01-10</td>\n",
       "      <td>2</td>\n",
       "      <td>SOSPECHA</td>\n",
       "      <td>NaN</td>\n",
       "      <td>NaN</td>\n",
       "      <td>NaN</td>\n",
       "      <td>2021-01-10</td>\n",
       "      <td>NaN</td>\n",
       "      <td>NaT</td>\n",
       "      <td>NaT</td>\n",
       "      <td>NaT</td>\n",
       "      <td>NaT</td>\n",
       "      <td>SAPU Dr. Alejandro Gutiérrez</td>\n",
       "      <td>Coyhaique</td>\n",
       "      <td>Coyhaique</td>\n",
       "      <td>55</td>\n",
       "    </tr>\n",
       "    <tr>\n",
       "      <th>233</th>\n",
       "      <td>8717987</td>\n",
       "      <td>Coyhaique</td>\n",
       "      <td>2021-02-27</td>\n",
       "      <td>8</td>\n",
       "      <td>SOSPECHA</td>\n",
       "      <td>NEGATIVO</td>\n",
       "      <td>NEGATIVO</td>\n",
       "      <td>NaN</td>\n",
       "      <td>2021-02-26</td>\n",
       "      <td>2021-02-27</td>\n",
       "      <td>NaT</td>\n",
       "      <td>2021-02-27</td>\n",
       "      <td>2021-02-28</td>\n",
       "      <td>NaT</td>\n",
       "      <td>Hospital Regional (Coihaique)</td>\n",
       "      <td>Coyhaique</td>\n",
       "      <td>Coyhaique</td>\n",
       "      <td>61</td>\n",
       "    </tr>\n",
       "    <tr>\n",
       "      <th>596</th>\n",
       "      <td>14601771</td>\n",
       "      <td>Aisén</td>\n",
       "      <td>2021-07-05</td>\n",
       "      <td>27</td>\n",
       "      <td>SOSPECHA</td>\n",
       "      <td>NaN</td>\n",
       "      <td>NaN</td>\n",
       "      <td>NaN</td>\n",
       "      <td>NaT</td>\n",
       "      <td>NaN</td>\n",
       "      <td>NaT</td>\n",
       "      <td>NaT</td>\n",
       "      <td>NaT</td>\n",
       "      <td>NaT</td>\n",
       "      <td>Hospital de Puerto Aysén</td>\n",
       "      <td>Aysen</td>\n",
       "      <td>Aysen</td>\n",
       "      <td>80</td>\n",
       "    </tr>\n",
       "    <tr>\n",
       "      <th>53</th>\n",
       "      <td>5501592</td>\n",
       "      <td>Coyhaique</td>\n",
       "      <td>2020-12-10</td>\n",
       "      <td>50</td>\n",
       "      <td>SOSPECHA</td>\n",
       "      <td>NaN</td>\n",
       "      <td>NaN</td>\n",
       "      <td>NaN</td>\n",
       "      <td>2020-12-10</td>\n",
       "      <td>NaN</td>\n",
       "      <td>NaT</td>\n",
       "      <td>NaT</td>\n",
       "      <td>NaT</td>\n",
       "      <td>NaT</td>\n",
       "      <td>Hospital Regional (Coihaique)</td>\n",
       "      <td>Coyhaique</td>\n",
       "      <td>Coyhaique</td>\n",
       "      <td>50</td>\n",
       "    </tr>\n",
       "  </tbody>\n",
       "</table>\n",
       "</div>"
      ],
      "text/plain": [
       "     numero_folio comuna_residencia fecha_notificacion  semana_epidemiologica  \\\n",
       "770      10540038         Coyhaique         2021-04-07                     14   \n",
       "733      15808193            Cisnes         2021-08-09                     32   \n",
       "210       6797118         Coyhaique         2021-01-12                      2   \n",
       "352      13856610         Coyhaique         2021-06-16                     24   \n",
       "153       1774797         Coyhaique         2020-08-11                     33   \n",
       "501      10506678         Guaitecas         2021-04-07                     14   \n",
       "755       7499542         Coyhaique         2021-01-27                      4   \n",
       "729      15269983            Cisnes         2021-07-23                     29   \n",
       "50        5338267         Coyhaique         2020-12-05                     49   \n",
       "764       8051766         Coyhaique         2021-02-09                      6   \n",
       "753       7498092         Coyhaique         2021-01-27                      4   \n",
       "425      16241400         Coyhaique         2021-08-21                     33   \n",
       "312      12594009         Coyhaique         2021-05-22                     20   \n",
       "752       7497848         Coyhaique         2021-01-27                      4   \n",
       "159       5016542            Cisnes         2020-11-26                     48   \n",
       "154        991186         Coyhaique         2020-06-26                     26   \n",
       "553       9013829             Aisén         2021-03-07                     10   \n",
       "136        123835             Aisén         2020-04-14                     16   \n",
       "292      11753999         Coyhaique         2021-05-03                     18   \n",
       "390      16202172         Coyhaique         2021-08-20                     33   \n",
       "360      14280981        Lago Verde         2021-06-26                     25   \n",
       "398      16224695         Coyhaique         2021-08-20                     33   \n",
       "746       6727892         Coyhaique         2021-01-11                      2   \n",
       "344      13614910         Coyhaique         2021-06-11                     23   \n",
       "617      16239505             Aisén         2021-08-21                     33   \n",
       "420      16232413         Coyhaique         2021-08-21                     33   \n",
       "403      16228743         Coyhaique         2021-08-20                     33   \n",
       "795      13888541         Coyhaique         2021-06-17                     24   \n",
       "91        2631119         Coyhaique         2020-09-11                     37   \n",
       "592      14044508             Aisén         2021-06-21                     25   \n",
       "552       8561135             Aisén         2021-02-23                      8   \n",
       "231       8466327         Coyhaique         2021-02-21                      8   \n",
       "693      16247397       Chile Chico         2021-08-21                     33   \n",
       "715       9031133            Cisnes         2021-03-07                     10   \n",
       "798      16145245            Cisnes         2021-08-18                     33   \n",
       "295      11856520         Coyhaique         2021-05-05                     18   \n",
       "450       6676302         Coyhaique         2021-01-10                      2   \n",
       "233       8717987         Coyhaique         2021-02-27                      8   \n",
       "596      14601771             Aisén         2021-07-05                     27   \n",
       "53        5501592         Coyhaique         2020-12-10                     50   \n",
       "\n",
       "    etapa_clinica resultado_pcr_1 resultado_pcr_2 resultado_pcr_3  \\\n",
       "770      SOSPECHA             NaN             NaN             NaN   \n",
       "733      SOSPECHA        NEGATIVO             NaN             NaN   \n",
       "210      SOSPECHA             NaN             NaN             NaN   \n",
       "352      SOSPECHA        NEGATIVO             NaN             NaN   \n",
       "153      SOSPECHA             NaN             NaN             NaN   \n",
       "501      SOSPECHA             NaN             NaN             NaN   \n",
       "755      SOSPECHA             NaN             NaN             NaN   \n",
       "729      SOSPECHA             NaN             NaN             NaN   \n",
       "50       SOSPECHA             NaN             NaN             NaN   \n",
       "764      SOSPECHA             NaN             NaN             NaN   \n",
       "753      SOSPECHA             NaN             NaN             NaN   \n",
       "425      SOSPECHA             NaN        NEGATIVO             NaN   \n",
       "312      SOSPECHA             NaN             NaN             NaN   \n",
       "752      SOSPECHA             NaN             NaN             NaN   \n",
       "159      SOSPECHA             NaN             NaN             NaN   \n",
       "154      SOSPECHA             NaN             NaN             NaN   \n",
       "553      SOSPECHA             NaN             NaN             NaN   \n",
       "136      SOSPECHA             NaN             NaN             NaN   \n",
       "292      SOSPECHA        POSITIVO             NaN             NaN   \n",
       "390      SOSPECHA             NaN        NEGATIVO             NaN   \n",
       "360      SOSPECHA        NEGATIVO        NEGATIVO        NEGATIVO   \n",
       "398      SOSPECHA             NaN        NEGATIVO             NaN   \n",
       "746      SOSPECHA             NaN             NaN             NaN   \n",
       "344      SOSPECHA        NEGATIVO             NaN             NaN   \n",
       "617      SOSPECHA        NEGATIVO             NaN        NEGATIVO   \n",
       "420      SOSPECHA             NaN        NEGATIVO             NaN   \n",
       "403      SOSPECHA             NaN             NaN        NEGATIVO   \n",
       "795      SOSPECHA             NaN             NaN             NaN   \n",
       "91       SOSPECHA             NaN             NaN             NaN   \n",
       "592      SOSPECHA        NEGATIVO             NaN             NaN   \n",
       "552      SOSPECHA             NaN             NaN             NaN   \n",
       "231      SOSPECHA             NaN             NaN             NaN   \n",
       "693      SOSPECHA        NEGATIVO             NaN             NaN   \n",
       "715      SOSPECHA             NaN             NaN             NaN   \n",
       "798      SOSPECHA        NEGATIVO             NaN        NEGATIVO   \n",
       "295      SOSPECHA        NEGATIVO             NaN             NaN   \n",
       "450      SOSPECHA             NaN             NaN             NaN   \n",
       "233      SOSPECHA        NEGATIVO        NEGATIVO             NaN   \n",
       "596      SOSPECHA             NaN             NaN             NaN   \n",
       "53       SOSPECHA             NaN             NaN             NaN   \n",
       "\n",
       "    fecha_toma_muestra_1 fecha_toma_muestra_2 fecha_toma_muestra_3  \\\n",
       "770                  NaT                  NaN                  NaT   \n",
       "733           2021-05-27                  NaN                  NaT   \n",
       "210           2021-01-12                  NaN                  NaT   \n",
       "352           2021-06-03           2021-06-16                  NaT   \n",
       "153                  NaT                  NaN                  NaT   \n",
       "501                  NaT                  NaN                  NaT   \n",
       "755                  NaT                  NaN                  NaT   \n",
       "729                  NaT                  NaN                  NaT   \n",
       "50            2020-12-05                  NaN                  NaT   \n",
       "764                  NaT                  NaN                  NaT   \n",
       "753                  NaT                  NaN                  NaT   \n",
       "425           2021-08-21           2021-08-21                  NaT   \n",
       "312           2021-05-22                  NaN                  NaT   \n",
       "752                  NaT                  NaN                  NaT   \n",
       "159                  NaT                  NaN                  NaT   \n",
       "154                  NaT                  NaN                  NaT   \n",
       "553                  NaT                  NaN                  NaT   \n",
       "136                  NaT                  NaN                  NaT   \n",
       "292           2021-05-03           2021-05-03                  NaT   \n",
       "390           2021-08-20           2021-08-20                  NaT   \n",
       "360           2021-04-05           2021-04-06           2021-04-07   \n",
       "398           2021-08-20           2021-08-20                  NaT   \n",
       "746                  NaT                  NaN                  NaT   \n",
       "344           2021-05-27           2021-06-11                  NaT   \n",
       "617           2021-07-29           2021-08-21           2021-08-21   \n",
       "420           2021-08-21           2021-08-21                  NaT   \n",
       "403                  NaT           2021-08-20           2021-08-20   \n",
       "795                  NaT                  NaN                  NaT   \n",
       "91            2020-09-11                  NaN                  NaT   \n",
       "592           2021-06-18                  NaN                  NaT   \n",
       "552                  NaT                  NaN                  NaT   \n",
       "231           2021-02-21                  NaN                  NaT   \n",
       "693           2021-08-02                  NaN                  NaT   \n",
       "715                  NaT                  NaN                  NaT   \n",
       "798           2021-06-09           2021-08-18           2021-08-18   \n",
       "295           2021-03-15           2021-05-05                  NaT   \n",
       "450           2021-01-10                  NaN                  NaT   \n",
       "233           2021-02-26           2021-02-27                  NaT   \n",
       "596                  NaT                  NaN                  NaT   \n",
       "53            2020-12-10                  NaN                  NaT   \n",
       "\n",
       "    fecha_resultado_pcr_1 fecha_resultado_pcr_2 fecha_resultado_pcr_3  \\\n",
       "770                   NaT                   NaT                   NaT   \n",
       "733            2021-05-28                   NaT                   NaT   \n",
       "210                   NaT                   NaT                   NaT   \n",
       "352            2021-06-06                   NaT                   NaT   \n",
       "153                   NaT                   NaT                   NaT   \n",
       "501                   NaT                   NaT                   NaT   \n",
       "755                   NaT                   NaT                   NaT   \n",
       "729                   NaT                   NaT                   NaT   \n",
       "50                    NaT                   NaT                   NaT   \n",
       "764                   NaT                   NaT                   NaT   \n",
       "753                   NaT                   NaT                   NaT   \n",
       "425                   NaT            2021-08-22                   NaT   \n",
       "312                   NaT                   NaT                   NaT   \n",
       "752                   NaT                   NaT                   NaT   \n",
       "159                   NaT                   NaT                   NaT   \n",
       "154                   NaT                   NaT                   NaT   \n",
       "553                   NaT                   NaT                   NaT   \n",
       "136                   NaT                   NaT                   NaT   \n",
       "292            2021-05-04                   NaT                   NaT   \n",
       "390                   NaT            2021-08-21                   NaT   \n",
       "360            2021-04-06            2021-04-07            2021-04-08   \n",
       "398                   NaT            2021-08-21                   NaT   \n",
       "746                   NaT                   NaT                   NaT   \n",
       "344            2021-05-28                   NaT                   NaT   \n",
       "617            2021-07-29                   NaT            2021-08-22   \n",
       "420                   NaT            2021-08-21                   NaT   \n",
       "403                   NaT                   NaT            2021-08-21   \n",
       "795                   NaT                   NaT                   NaT   \n",
       "91                    NaT                   NaT                   NaT   \n",
       "592            2021-06-18                   NaT                   NaT   \n",
       "552                   NaT                   NaT                   NaT   \n",
       "231                   NaT                   NaT                   NaT   \n",
       "693            2021-08-04                   NaT                   NaT   \n",
       "715                   NaT                   NaT                   NaT   \n",
       "798            2021-06-10                   NaT            2021-08-19   \n",
       "295            2021-03-15                   NaT                   NaT   \n",
       "450                   NaT                   NaT                   NaT   \n",
       "233            2021-02-27            2021-02-28                   NaT   \n",
       "596                   NaT                   NaT                   NaT   \n",
       "53                    NaT                   NaT                   NaT   \n",
       "\n",
       "                                 establecimiento_salud  \\\n",
       "770          Ejercicio libre de la profesión XI región   \n",
       "733                   Hospital Dr. Jorge Ibar (Cisnes)   \n",
       "210                      Hospital Regional (Coihaique)   \n",
       "352                      Hospital Regional (Coihaique)   \n",
       "153                   Centro Clínico Militar Coyhaique   \n",
       "501                       Posta de Salud Rural Melinka   \n",
       "755          Ejercicio libre de la profesión XI región   \n",
       "729                   Hospital Dr. Jorge Ibar (Cisnes)   \n",
       "50                       Hospital Regional (Coihaique)   \n",
       "764          Ejercicio libre de la profesión XI región   \n",
       "753          Ejercicio libre de la profesión XI región   \n",
       "425                      Hospital Regional (Coihaique)   \n",
       "312                      Hospital Regional (Coihaique)   \n",
       "752          Ejercicio libre de la profesión XI región   \n",
       "159                   Hospital Dr. Jorge Ibar (Cisnes)   \n",
       "154                   Consultorio Víctor Domingo Silva   \n",
       "553                           Hospital de Puerto Aysén   \n",
       "136                   Centro Clínico Militar Coyhaique   \n",
       "292                      Hospital Regional (Coihaique)   \n",
       "390                      Hospital Regional (Coihaique)   \n",
       "360                      Hospital Regional (Coihaique)   \n",
       "398                      Hospital Regional (Coihaique)   \n",
       "746          Ejercicio libre de la profesión XI región   \n",
       "344                      Hospital Regional (Coihaique)   \n",
       "617                           Hospital de Puerto Aysén   \n",
       "420                      Hospital Regional (Coihaique)   \n",
       "403                      Hospital Regional (Coihaique)   \n",
       "795  Actividades gestionadas por la Dirección del S...   \n",
       "91                     Consultorio Alejandro Gutiérrez   \n",
       "592                           Hospital de Puerto Aysén   \n",
       "552                           Hospital de Puerto Aysén   \n",
       "231                      Hospital Regional (Coihaique)   \n",
       "693      Hospital Dr. Leopoldo Ortega R. (Chile Chico)   \n",
       "715                   Hospital Dr. Jorge Ibar (Cisnes)   \n",
       "798                    Posta de Salud Rural Lago Verde   \n",
       "295                      Hospital Regional (Coihaique)   \n",
       "450                       SAPU Dr. Alejandro Gutiérrez   \n",
       "233                      Hospital Regional (Coihaique)   \n",
       "596                           Hospital de Puerto Aysén   \n",
       "53                       Hospital Regional (Coihaique)   \n",
       "\n",
       "                    comuna_seremi_xi              provincia_seremi_xi  \\\n",
       "770  Ejercicio Libre de la Profesión  Ejercicio Libre de la Profesión   \n",
       "733                           Cisnes                            Aysen   \n",
       "210                        Coyhaique                        Coyhaique   \n",
       "352                        Coyhaique                        Coyhaique   \n",
       "153                        Coyhaique                        Coyhaique   \n",
       "501                        Guaitecas                            Aysen   \n",
       "755  Ejercicio Libre de la Profesión  Ejercicio Libre de la Profesión   \n",
       "729                           Cisnes                            Aysen   \n",
       "50                         Coyhaique                        Coyhaique   \n",
       "764  Ejercicio Libre de la Profesión  Ejercicio Libre de la Profesión   \n",
       "753  Ejercicio Libre de la Profesión  Ejercicio Libre de la Profesión   \n",
       "425                        Coyhaique                        Coyhaique   \n",
       "312                        Coyhaique                        Coyhaique   \n",
       "752  Ejercicio Libre de la Profesión  Ejercicio Libre de la Profesión   \n",
       "159                           Cisnes                            Aysen   \n",
       "154                        Coyhaique                        Coyhaique   \n",
       "553                            Aysen                            Aysen   \n",
       "136                        Coyhaique                        Coyhaique   \n",
       "292                        Coyhaique                        Coyhaique   \n",
       "390                        Coyhaique                        Coyhaique   \n",
       "360                        Coyhaique                        Coyhaique   \n",
       "398                        Coyhaique                        Coyhaique   \n",
       "746  Ejercicio Libre de la Profesión  Ejercicio Libre de la Profesión   \n",
       "344                        Coyhaique                        Coyhaique   \n",
       "617                            Aysen                            Aysen   \n",
       "420                        Coyhaique                        Coyhaique   \n",
       "403                        Coyhaique                        Coyhaique   \n",
       "795                        Coyhaique                        Coyhaique   \n",
       "91                         Coyhaique                        Coyhaique   \n",
       "592                            Aysen                            Aysen   \n",
       "552                            Aysen                            Aysen   \n",
       "231                        Coyhaique                        Coyhaique   \n",
       "693                      Chile Chico                  General Carrera   \n",
       "715                           Cisnes                            Aysen   \n",
       "798                       Lago Verde                        Coyhaique   \n",
       "295                        Coyhaique                        Coyhaique   \n",
       "450                        Coyhaique                        Coyhaique   \n",
       "233                        Coyhaique                        Coyhaique   \n",
       "596                            Aysen                            Aysen   \n",
       "53                         Coyhaique                        Coyhaique   \n",
       "\n",
       "     semana_epidemiologica_21  \n",
       "770                        67  \n",
       "733                        85  \n",
       "210                        55  \n",
       "352                        77  \n",
       "153                        33  \n",
       "501                        67  \n",
       "755                        57  \n",
       "729                        82  \n",
       "50                         49  \n",
       "764                        59  \n",
       "753                        57  \n",
       "425                        86  \n",
       "312                        73  \n",
       "752                        57  \n",
       "159                        48  \n",
       "154                        26  \n",
       "553                        63  \n",
       "136                        16  \n",
       "292                        71  \n",
       "390                        86  \n",
       "360                        78  \n",
       "398                        86  \n",
       "746                        55  \n",
       "344                        76  \n",
       "617                        86  \n",
       "420                        86  \n",
       "403                        86  \n",
       "795                        77  \n",
       "91                         37  \n",
       "592                        78  \n",
       "552                        61  \n",
       "231                        61  \n",
       "693                        86  \n",
       "715                        63  \n",
       "798                        86  \n",
       "295                        71  \n",
       "450                        55  \n",
       "233                        61  \n",
       "596                        80  \n",
       "53                         50  "
      ]
     },
     "execution_count": 24,
     "metadata": {},
     "output_type": "execute_result"
    }
   ],
   "source": [
    "data_aysen_clean_21.sample(40)"
   ]
  },
  {
   "cell_type": "code",
   "execution_count": 26,
   "id": "425922a6",
   "metadata": {},
   "outputs": [
    {
     "data": {
      "text/html": [
       "<div>\n",
       "<style scoped>\n",
       "    .dataframe tbody tr th:only-of-type {\n",
       "        vertical-align: middle;\n",
       "    }\n",
       "\n",
       "    .dataframe tbody tr th {\n",
       "        vertical-align: top;\n",
       "    }\n",
       "\n",
       "    .dataframe thead th {\n",
       "        text-align: right;\n",
       "    }\n",
       "</style>\n",
       "<table border=\"1\" class=\"dataframe\">\n",
       "  <thead>\n",
       "    <tr style=\"text-align: right;\">\n",
       "      <th></th>\n",
       "      <th>numero_folio</th>\n",
       "      <th>comuna_residencia</th>\n",
       "      <th>fecha_notificacion</th>\n",
       "      <th>semana_epidemiologica</th>\n",
       "      <th>etapa_clinica</th>\n",
       "      <th>resultado_pcr_1</th>\n",
       "      <th>resultado_pcr_2</th>\n",
       "      <th>resultado_pcr_3</th>\n",
       "      <th>fecha_toma_muestra_1</th>\n",
       "      <th>fecha_toma_muestra_2</th>\n",
       "      <th>fecha_toma_muestra_3</th>\n",
       "      <th>fecha_resultado_pcr_1</th>\n",
       "      <th>fecha_resultado_pcr_2</th>\n",
       "      <th>fecha_resultado_pcr_3</th>\n",
       "      <th>establecimiento_salud</th>\n",
       "      <th>comuna_seremi_xi</th>\n",
       "      <th>provincia_seremi_xi</th>\n",
       "      <th>semana_epidemiologica_21</th>\n",
       "    </tr>\n",
       "  </thead>\n",
       "  <tbody>\n",
       "    <tr>\n",
       "      <th>648</th>\n",
       "      <td>10296555</td>\n",
       "      <td>Chile Chico</td>\n",
       "      <td>2021-04-01</td>\n",
       "      <td>13</td>\n",
       "      <td>SOSPECHA</td>\n",
       "      <td>NaN</td>\n",
       "      <td>NEGATIVO</td>\n",
       "      <td>NaN</td>\n",
       "      <td>NaT</td>\n",
       "      <td>2021-03-22</td>\n",
       "      <td>NaT</td>\n",
       "      <td>NaT</td>\n",
       "      <td>2021-03-24</td>\n",
       "      <td>NaT</td>\n",
       "      <td>Hospital Dr. Leopoldo Ortega R. (Chile Chico)</td>\n",
       "      <td>Chile Chico</td>\n",
       "      <td>General Carrera</td>\n",
       "      <td>66</td>\n",
       "    </tr>\n",
       "    <tr>\n",
       "      <th>300</th>\n",
       "      <td>12053576</td>\n",
       "      <td>Coyhaique</td>\n",
       "      <td>2021-05-10</td>\n",
       "      <td>19</td>\n",
       "      <td>SOSPECHA</td>\n",
       "      <td>NEGATIVO</td>\n",
       "      <td>NaN</td>\n",
       "      <td>NaN</td>\n",
       "      <td>2021-04-16</td>\n",
       "      <td>2021-05-10</td>\n",
       "      <td>NaT</td>\n",
       "      <td>2021-04-16</td>\n",
       "      <td>NaT</td>\n",
       "      <td>NaT</td>\n",
       "      <td>Hospital Regional (Coihaique)</td>\n",
       "      <td>Coyhaique</td>\n",
       "      <td>Coyhaique</td>\n",
       "      <td>72</td>\n",
       "    </tr>\n",
       "    <tr>\n",
       "      <th>295</th>\n",
       "      <td>11856520</td>\n",
       "      <td>Coyhaique</td>\n",
       "      <td>2021-05-05</td>\n",
       "      <td>18</td>\n",
       "      <td>SOSPECHA</td>\n",
       "      <td>NEGATIVO</td>\n",
       "      <td>NaN</td>\n",
       "      <td>NaN</td>\n",
       "      <td>2021-03-15</td>\n",
       "      <td>2021-05-05</td>\n",
       "      <td>NaT</td>\n",
       "      <td>2021-03-15</td>\n",
       "      <td>NaT</td>\n",
       "      <td>NaT</td>\n",
       "      <td>Hospital Regional (Coihaique)</td>\n",
       "      <td>Coyhaique</td>\n",
       "      <td>Coyhaique</td>\n",
       "      <td>71</td>\n",
       "    </tr>\n",
       "    <tr>\n",
       "      <th>386</th>\n",
       "      <td>16198274</td>\n",
       "      <td>Coyhaique</td>\n",
       "      <td>2021-08-20</td>\n",
       "      <td>33</td>\n",
       "      <td>SOSPECHA</td>\n",
       "      <td>NaN</td>\n",
       "      <td>NEGATIVO</td>\n",
       "      <td>NaN</td>\n",
       "      <td>2021-08-20</td>\n",
       "      <td>2021-08-20</td>\n",
       "      <td>NaT</td>\n",
       "      <td>NaT</td>\n",
       "      <td>2021-08-20</td>\n",
       "      <td>NaT</td>\n",
       "      <td>Hospital Regional (Coihaique)</td>\n",
       "      <td>Coyhaique</td>\n",
       "      <td>Coyhaique</td>\n",
       "      <td>86</td>\n",
       "    </tr>\n",
       "    <tr>\n",
       "      <th>698</th>\n",
       "      <td>11710105</td>\n",
       "      <td>Coyhaique</td>\n",
       "      <td>2021-04-30</td>\n",
       "      <td>17</td>\n",
       "      <td>SOSPECHA</td>\n",
       "      <td>NaN</td>\n",
       "      <td>NEGATIVO</td>\n",
       "      <td>NaN</td>\n",
       "      <td>NaT</td>\n",
       "      <td>2021-04-30</td>\n",
       "      <td>NaT</td>\n",
       "      <td>NaT</td>\n",
       "      <td>2021-05-02</td>\n",
       "      <td>NaT</td>\n",
       "      <td>Consultorio Víctor Domingo Silva</td>\n",
       "      <td>Coyhaique</td>\n",
       "      <td>Coyhaique</td>\n",
       "      <td>70</td>\n",
       "    </tr>\n",
       "  </tbody>\n",
       "</table>\n",
       "</div>"
      ],
      "text/plain": [
       "     numero_folio comuna_residencia fecha_notificacion  semana_epidemiologica  \\\n",
       "648      10296555       Chile Chico         2021-04-01                     13   \n",
       "300      12053576         Coyhaique         2021-05-10                     19   \n",
       "295      11856520         Coyhaique         2021-05-05                     18   \n",
       "386      16198274         Coyhaique         2021-08-20                     33   \n",
       "698      11710105         Coyhaique         2021-04-30                     17   \n",
       "\n",
       "    etapa_clinica resultado_pcr_1 resultado_pcr_2 resultado_pcr_3  \\\n",
       "648      SOSPECHA             NaN        NEGATIVO             NaN   \n",
       "300      SOSPECHA        NEGATIVO             NaN             NaN   \n",
       "295      SOSPECHA        NEGATIVO             NaN             NaN   \n",
       "386      SOSPECHA             NaN        NEGATIVO             NaN   \n",
       "698      SOSPECHA             NaN        NEGATIVO             NaN   \n",
       "\n",
       "    fecha_toma_muestra_1 fecha_toma_muestra_2 fecha_toma_muestra_3  \\\n",
       "648                  NaT           2021-03-22                  NaT   \n",
       "300           2021-04-16           2021-05-10                  NaT   \n",
       "295           2021-03-15           2021-05-05                  NaT   \n",
       "386           2021-08-20           2021-08-20                  NaT   \n",
       "698                  NaT           2021-04-30                  NaT   \n",
       "\n",
       "    fecha_resultado_pcr_1 fecha_resultado_pcr_2 fecha_resultado_pcr_3  \\\n",
       "648                   NaT            2021-03-24                   NaT   \n",
       "300            2021-04-16                   NaT                   NaT   \n",
       "295            2021-03-15                   NaT                   NaT   \n",
       "386                   NaT            2021-08-20                   NaT   \n",
       "698                   NaT            2021-05-02                   NaT   \n",
       "\n",
       "                             establecimiento_salud comuna_seremi_xi  \\\n",
       "648  Hospital Dr. Leopoldo Ortega R. (Chile Chico)      Chile Chico   \n",
       "300                  Hospital Regional (Coihaique)        Coyhaique   \n",
       "295                  Hospital Regional (Coihaique)        Coyhaique   \n",
       "386                  Hospital Regional (Coihaique)        Coyhaique   \n",
       "698               Consultorio Víctor Domingo Silva        Coyhaique   \n",
       "\n",
       "    provincia_seremi_xi  semana_epidemiologica_21  \n",
       "648     General Carrera                        66  \n",
       "300           Coyhaique                        72  \n",
       "295           Coyhaique                        71  \n",
       "386           Coyhaique                        86  \n",
       "698           Coyhaique                        70  "
      ]
     },
     "execution_count": 26,
     "metadata": {},
     "output_type": "execute_result"
    }
   ],
   "source": [
    "# Filtra casos SOSPECHOSOS con al menos un resultado PCR\n",
    "\n",
    "data_aysen_clean_21_wpcr = data_aysen_clean_21[(data_aysen_clean_21['resultado_pcr_1'].notnull())|(data_aysen_clean_21['resultado_pcr_2'].notnull())|(data_aysen_clean_21['resultado_pcr_3'].notnull())]\n",
    "\n",
    "data_aysen_clean_21_wpcr.sample(5)"
   ]
  },
  {
   "cell_type": "code",
   "execution_count": 28,
   "id": "27554888",
   "metadata": {},
   "outputs": [
    {
     "data": {
      "text/html": [
       "<div>\n",
       "<style scoped>\n",
       "    .dataframe tbody tr th:only-of-type {\n",
       "        vertical-align: middle;\n",
       "    }\n",
       "\n",
       "    .dataframe tbody tr th {\n",
       "        vertical-align: top;\n",
       "    }\n",
       "\n",
       "    .dataframe thead th {\n",
       "        text-align: right;\n",
       "    }\n",
       "</style>\n",
       "<table border=\"1\" class=\"dataframe\">\n",
       "  <thead>\n",
       "    <tr style=\"text-align: right;\">\n",
       "      <th></th>\n",
       "      <th>numero_folio</th>\n",
       "      <th>comuna_residencia</th>\n",
       "      <th>fecha_notificacion</th>\n",
       "      <th>semana_epidemiologica</th>\n",
       "      <th>etapa_clinica</th>\n",
       "      <th>resultado_pcr_1</th>\n",
       "      <th>resultado_pcr_2</th>\n",
       "      <th>resultado_pcr_3</th>\n",
       "      <th>fecha_toma_muestra_1</th>\n",
       "      <th>fecha_toma_muestra_2</th>\n",
       "      <th>fecha_toma_muestra_3</th>\n",
       "      <th>fecha_resultado_pcr_1</th>\n",
       "      <th>fecha_resultado_pcr_2</th>\n",
       "      <th>fecha_resultado_pcr_3</th>\n",
       "      <th>establecimiento_salud</th>\n",
       "      <th>comuna_seremi_xi</th>\n",
       "      <th>provincia_seremi_xi</th>\n",
       "      <th>semana_epidemiologica_21</th>\n",
       "    </tr>\n",
       "  </thead>\n",
       "  <tbody>\n",
       "    <tr>\n",
       "      <th>254</th>\n",
       "      <td>10194667</td>\n",
       "      <td>Coyhaique</td>\n",
       "      <td>2021-03-31</td>\n",
       "      <td>13</td>\n",
       "      <td>SOSPECHA</td>\n",
       "      <td>NaN</td>\n",
       "      <td>NO CONCLUYENTE</td>\n",
       "      <td>NaN</td>\n",
       "      <td>2021-03-31</td>\n",
       "      <td>2021-03-31</td>\n",
       "      <td>NaT</td>\n",
       "      <td>NaT</td>\n",
       "      <td>2021-04-01</td>\n",
       "      <td>NaT</td>\n",
       "      <td>Hospital Regional (Coihaique)</td>\n",
       "      <td>Coyhaique</td>\n",
       "      <td>Coyhaique</td>\n",
       "      <td>66</td>\n",
       "    </tr>\n",
       "    <tr>\n",
       "      <th>70</th>\n",
       "      <td>4422082</td>\n",
       "      <td>Coyhaique</td>\n",
       "      <td>2020-11-09</td>\n",
       "      <td>46</td>\n",
       "      <td>SOSPECHA</td>\n",
       "      <td>NaN</td>\n",
       "      <td>NaN</td>\n",
       "      <td>NaN</td>\n",
       "      <td>2020-11-09</td>\n",
       "      <td>NaN</td>\n",
       "      <td>NaT</td>\n",
       "      <td>NaT</td>\n",
       "      <td>NaT</td>\n",
       "      <td>NaT</td>\n",
       "      <td>SAPU Dr. Alejandro Gutiérrez</td>\n",
       "      <td>Coyhaique</td>\n",
       "      <td>Coyhaique</td>\n",
       "      <td>46</td>\n",
       "    </tr>\n",
       "    <tr>\n",
       "      <th>135</th>\n",
       "      <td>123774</td>\n",
       "      <td>Río Ibáñez</td>\n",
       "      <td>2020-04-14</td>\n",
       "      <td>16</td>\n",
       "      <td>SOSPECHA</td>\n",
       "      <td>NaN</td>\n",
       "      <td>NaN</td>\n",
       "      <td>NaN</td>\n",
       "      <td>NaT</td>\n",
       "      <td>NaN</td>\n",
       "      <td>NaT</td>\n",
       "      <td>NaT</td>\n",
       "      <td>NaT</td>\n",
       "      <td>NaT</td>\n",
       "      <td>Centro Clínico Militar Coyhaique</td>\n",
       "      <td>Coyhaique</td>\n",
       "      <td>Coyhaique</td>\n",
       "      <td>16</td>\n",
       "    </tr>\n",
       "    <tr>\n",
       "      <th>246</th>\n",
       "      <td>9555448</td>\n",
       "      <td>Coyhaique</td>\n",
       "      <td>2021-03-18</td>\n",
       "      <td>11</td>\n",
       "      <td>SOSPECHA</td>\n",
       "      <td>NaN</td>\n",
       "      <td>NO CONCLUYENTE</td>\n",
       "      <td>NaN</td>\n",
       "      <td>2021-03-18</td>\n",
       "      <td>2021-03-18</td>\n",
       "      <td>NaT</td>\n",
       "      <td>NaT</td>\n",
       "      <td>2021-03-19</td>\n",
       "      <td>NaT</td>\n",
       "      <td>Hospital Regional (Coihaique)</td>\n",
       "      <td>Coyhaique</td>\n",
       "      <td>Coyhaique</td>\n",
       "      <td>64</td>\n",
       "    </tr>\n",
       "    <tr>\n",
       "      <th>222</th>\n",
       "      <td>7347779</td>\n",
       "      <td>Coyhaique</td>\n",
       "      <td>2021-01-24</td>\n",
       "      <td>4</td>\n",
       "      <td>SOSPECHA</td>\n",
       "      <td>NaN</td>\n",
       "      <td>NaN</td>\n",
       "      <td>NaN</td>\n",
       "      <td>2021-01-24</td>\n",
       "      <td>NaN</td>\n",
       "      <td>NaT</td>\n",
       "      <td>NaT</td>\n",
       "      <td>NaT</td>\n",
       "      <td>NaT</td>\n",
       "      <td>Hospital Regional (Coihaique)</td>\n",
       "      <td>Coyhaique</td>\n",
       "      <td>Coyhaique</td>\n",
       "      <td>57</td>\n",
       "    </tr>\n",
       "  </tbody>\n",
       "</table>\n",
       "</div>"
      ],
      "text/plain": [
       "     numero_folio comuna_residencia fecha_notificacion  semana_epidemiologica  \\\n",
       "254      10194667         Coyhaique         2021-03-31                     13   \n",
       "70        4422082         Coyhaique         2020-11-09                     46   \n",
       "135        123774        Río Ibáñez         2020-04-14                     16   \n",
       "246       9555448         Coyhaique         2021-03-18                     11   \n",
       "222       7347779         Coyhaique         2021-01-24                      4   \n",
       "\n",
       "    etapa_clinica resultado_pcr_1 resultado_pcr_2 resultado_pcr_3  \\\n",
       "254      SOSPECHA             NaN  NO CONCLUYENTE             NaN   \n",
       "70       SOSPECHA             NaN             NaN             NaN   \n",
       "135      SOSPECHA             NaN             NaN             NaN   \n",
       "246      SOSPECHA             NaN  NO CONCLUYENTE             NaN   \n",
       "222      SOSPECHA             NaN             NaN             NaN   \n",
       "\n",
       "    fecha_toma_muestra_1 fecha_toma_muestra_2 fecha_toma_muestra_3  \\\n",
       "254           2021-03-31           2021-03-31                  NaT   \n",
       "70            2020-11-09                  NaN                  NaT   \n",
       "135                  NaT                  NaN                  NaT   \n",
       "246           2021-03-18           2021-03-18                  NaT   \n",
       "222           2021-01-24                  NaN                  NaT   \n",
       "\n",
       "    fecha_resultado_pcr_1 fecha_resultado_pcr_2 fecha_resultado_pcr_3  \\\n",
       "254                   NaT            2021-04-01                   NaT   \n",
       "70                    NaT                   NaT                   NaT   \n",
       "135                   NaT                   NaT                   NaT   \n",
       "246                   NaT            2021-03-19                   NaT   \n",
       "222                   NaT                   NaT                   NaT   \n",
       "\n",
       "                establecimiento_salud comuna_seremi_xi provincia_seremi_xi  \\\n",
       "254     Hospital Regional (Coihaique)        Coyhaique           Coyhaique   \n",
       "70       SAPU Dr. Alejandro Gutiérrez        Coyhaique           Coyhaique   \n",
       "135  Centro Clínico Militar Coyhaique        Coyhaique           Coyhaique   \n",
       "246     Hospital Regional (Coihaique)        Coyhaique           Coyhaique   \n",
       "222     Hospital Regional (Coihaique)        Coyhaique           Coyhaique   \n",
       "\n",
       "     semana_epidemiologica_21  \n",
       "254                        66  \n",
       "70                         46  \n",
       "135                        16  \n",
       "246                        64  \n",
       "222                        57  "
      ]
     },
     "execution_count": 28,
     "metadata": {},
     "output_type": "execute_result"
    }
   ],
   "source": [
    "# Filtra casos SOSPECHOSOS sin resultado PCR\n",
    "\n",
    "data_aysen_clean_21_wo_pcr = data_aysen_clean_21[data_aysen_clean_21['resultado_pcr_1'].isnull()]\n",
    "\n",
    "data_aysen_clean_21_wo_pcr.sample(5)\n"
   ]
  },
  {
   "cell_type": "code",
   "execution_count": 72,
   "id": "b07cf176",
   "metadata": {},
   "outputs": [
    {
     "name": "stderr",
     "output_type": "stream",
     "text": [
      "<ipython-input-72-7ded97baaea8>:1: SettingWithCopyWarning:\n",
      "\n",
      "\n",
      "A value is trying to be set on a copy of a slice from a DataFrame.\n",
      "Try using .loc[row_indexer,col_indexer] = value instead\n",
      "\n",
      "See the caveats in the documentation: https://pandas.pydata.org/pandas-docs/stable/user_guide/indexing.html#returning-a-view-versus-a-copy\n",
      "\n",
      "<ipython-input-72-7ded97baaea8>:3: SettingWithCopyWarning:\n",
      "\n",
      "\n",
      "A value is trying to be set on a copy of a slice from a DataFrame.\n",
      "Try using .loc[row_indexer,col_indexer] = value instead\n",
      "\n",
      "See the caveats in the documentation: https://pandas.pydata.org/pandas-docs/stable/user_guide/indexing.html#returning-a-view-versus-a-copy\n",
      "\n"
     ]
    }
   ],
   "source": [
    "data_aysen_clean_21_wo_pcr['oportunidad'] = False\n",
    "\n",
    "data_aysen_clean_21_wpcr['oportunidad'] = True"
   ]
  },
  {
   "cell_type": "code",
   "execution_count": 78,
   "id": "24cad9f5",
   "metadata": {},
   "outputs": [
    {
     "data": {
      "text/html": [
       "<div>\n",
       "<style scoped>\n",
       "    .dataframe tbody tr th:only-of-type {\n",
       "        vertical-align: middle;\n",
       "    }\n",
       "\n",
       "    .dataframe tbody tr th {\n",
       "        vertical-align: top;\n",
       "    }\n",
       "\n",
       "    .dataframe thead th {\n",
       "        text-align: right;\n",
       "    }\n",
       "</style>\n",
       "<table border=\"1\" class=\"dataframe\">\n",
       "  <thead>\n",
       "    <tr style=\"text-align: right;\">\n",
       "      <th></th>\n",
       "      <th>numero_folio</th>\n",
       "      <th>comuna_residencia</th>\n",
       "      <th>fecha_notificacion</th>\n",
       "      <th>semana_epidemiologica</th>\n",
       "      <th>etapa_clinica</th>\n",
       "      <th>resultado_pcr_1</th>\n",
       "      <th>resultado_pcr_2</th>\n",
       "      <th>resultado_pcr_3</th>\n",
       "      <th>fecha_toma_muestra_1</th>\n",
       "      <th>fecha_toma_muestra_2</th>\n",
       "      <th>fecha_toma_muestra_3</th>\n",
       "      <th>fecha_resultado_pcr_1</th>\n",
       "      <th>fecha_resultado_pcr_2</th>\n",
       "      <th>fecha_resultado_pcr_3</th>\n",
       "      <th>establecimiento_salud</th>\n",
       "      <th>comuna_seremi_xi</th>\n",
       "      <th>provincia_seremi_xi</th>\n",
       "      <th>semana_epidemiologica_21</th>\n",
       "      <th>oportunidad</th>\n",
       "      <th>not_con_pcr</th>\n",
       "    </tr>\n",
       "  </thead>\n",
       "  <tbody>\n",
       "    <tr>\n",
       "      <th>522</th>\n",
       "      <td>16121052</td>\n",
       "      <td>Cisnes</td>\n",
       "      <td>2021-08-18</td>\n",
       "      <td>33</td>\n",
       "      <td>SOSPECHA</td>\n",
       "      <td>NEGATIVO</td>\n",
       "      <td>NaN</td>\n",
       "      <td>NEGATIVO</td>\n",
       "      <td>2021-06-09</td>\n",
       "      <td>NaN</td>\n",
       "      <td>2021-08-18</td>\n",
       "      <td>2021-06-10</td>\n",
       "      <td>NaT</td>\n",
       "      <td>2021-08-19</td>\n",
       "      <td>Posta de Salud Rural Puyuhuapi</td>\n",
       "      <td>Cisnes</td>\n",
       "      <td>Aysen</td>\n",
       "      <td>86</td>\n",
       "      <td>True</td>\n",
       "      <td>True</td>\n",
       "    </tr>\n",
       "    <tr>\n",
       "      <th>475</th>\n",
       "      <td>16259537</td>\n",
       "      <td>Coyhaique</td>\n",
       "      <td>2021-08-22</td>\n",
       "      <td>34</td>\n",
       "      <td>SOSPECHA</td>\n",
       "      <td>NEGATIVO</td>\n",
       "      <td>NaN</td>\n",
       "      <td>NaN</td>\n",
       "      <td>2021-07-31</td>\n",
       "      <td>2021-08-22</td>\n",
       "      <td>NaT</td>\n",
       "      <td>2021-08-01</td>\n",
       "      <td>NaT</td>\n",
       "      <td>NaT</td>\n",
       "      <td>SAPU Dr. Alejandro Gutiérrez</td>\n",
       "      <td>Coyhaique</td>\n",
       "      <td>Coyhaique</td>\n",
       "      <td>87</td>\n",
       "      <td>True</td>\n",
       "      <td>True</td>\n",
       "    </tr>\n",
       "    <tr>\n",
       "      <th>460</th>\n",
       "      <td>16236948</td>\n",
       "      <td>Coyhaique</td>\n",
       "      <td>2021-08-21</td>\n",
       "      <td>33</td>\n",
       "      <td>SOSPECHA</td>\n",
       "      <td>NaN</td>\n",
       "      <td>NEGATIVO</td>\n",
       "      <td>NaN</td>\n",
       "      <td>2021-08-21</td>\n",
       "      <td>2021-08-21</td>\n",
       "      <td>NaT</td>\n",
       "      <td>NaT</td>\n",
       "      <td>2021-08-22</td>\n",
       "      <td>NaT</td>\n",
       "      <td>SAPU Dr. Alejandro Gutiérrez</td>\n",
       "      <td>Coyhaique</td>\n",
       "      <td>Coyhaique</td>\n",
       "      <td>86</td>\n",
       "      <td>True</td>\n",
       "      <td>True</td>\n",
       "    </tr>\n",
       "    <tr>\n",
       "      <th>423</th>\n",
       "      <td>16234962</td>\n",
       "      <td>Coyhaique</td>\n",
       "      <td>2021-08-21</td>\n",
       "      <td>33</td>\n",
       "      <td>SOSPECHA</td>\n",
       "      <td>NaN</td>\n",
       "      <td>NEGATIVO</td>\n",
       "      <td>NaN</td>\n",
       "      <td>2021-08-21</td>\n",
       "      <td>2021-08-21</td>\n",
       "      <td>NaT</td>\n",
       "      <td>NaT</td>\n",
       "      <td>2021-08-22</td>\n",
       "      <td>NaT</td>\n",
       "      <td>Hospital Regional (Coihaique)</td>\n",
       "      <td>Coyhaique</td>\n",
       "      <td>Coyhaique</td>\n",
       "      <td>86</td>\n",
       "      <td>True</td>\n",
       "      <td>True</td>\n",
       "    </tr>\n",
       "    <tr>\n",
       "      <th>305</th>\n",
       "      <td>12209609</td>\n",
       "      <td>Coyhaique</td>\n",
       "      <td>2021-05-13</td>\n",
       "      <td>19</td>\n",
       "      <td>SOSPECHA</td>\n",
       "      <td>NEGATIVO</td>\n",
       "      <td>NEGATIVO</td>\n",
       "      <td>NaN</td>\n",
       "      <td>2021-04-10</td>\n",
       "      <td>2021-04-19</td>\n",
       "      <td>2021-05-13</td>\n",
       "      <td>2021-04-11</td>\n",
       "      <td>2021-04-20</td>\n",
       "      <td>2021-05-13</td>\n",
       "      <td>Hospital Regional (Coihaique)</td>\n",
       "      <td>Coyhaique</td>\n",
       "      <td>Coyhaique</td>\n",
       "      <td>72</td>\n",
       "      <td>True</td>\n",
       "      <td>True</td>\n",
       "    </tr>\n",
       "  </tbody>\n",
       "</table>\n",
       "</div>"
      ],
      "text/plain": [
       "     numero_folio comuna_residencia fecha_notificacion  semana_epidemiologica  \\\n",
       "522      16121052            Cisnes         2021-08-18                     33   \n",
       "475      16259537         Coyhaique         2021-08-22                     34   \n",
       "460      16236948         Coyhaique         2021-08-21                     33   \n",
       "423      16234962         Coyhaique         2021-08-21                     33   \n",
       "305      12209609         Coyhaique         2021-05-13                     19   \n",
       "\n",
       "    etapa_clinica resultado_pcr_1 resultado_pcr_2 resultado_pcr_3  \\\n",
       "522      SOSPECHA        NEGATIVO             NaN        NEGATIVO   \n",
       "475      SOSPECHA        NEGATIVO             NaN             NaN   \n",
       "460      SOSPECHA             NaN        NEGATIVO             NaN   \n",
       "423      SOSPECHA             NaN        NEGATIVO             NaN   \n",
       "305      SOSPECHA        NEGATIVO        NEGATIVO             NaN   \n",
       "\n",
       "    fecha_toma_muestra_1 fecha_toma_muestra_2 fecha_toma_muestra_3  \\\n",
       "522           2021-06-09                  NaN           2021-08-18   \n",
       "475           2021-07-31           2021-08-22                  NaT   \n",
       "460           2021-08-21           2021-08-21                  NaT   \n",
       "423           2021-08-21           2021-08-21                  NaT   \n",
       "305           2021-04-10           2021-04-19           2021-05-13   \n",
       "\n",
       "    fecha_resultado_pcr_1 fecha_resultado_pcr_2 fecha_resultado_pcr_3  \\\n",
       "522            2021-06-10                   NaT            2021-08-19   \n",
       "475            2021-08-01                   NaT                   NaT   \n",
       "460                   NaT            2021-08-22                   NaT   \n",
       "423                   NaT            2021-08-22                   NaT   \n",
       "305            2021-04-11            2021-04-20            2021-05-13   \n",
       "\n",
       "              establecimiento_salud comuna_seremi_xi provincia_seremi_xi  \\\n",
       "522  Posta de Salud Rural Puyuhuapi           Cisnes               Aysen   \n",
       "475    SAPU Dr. Alejandro Gutiérrez        Coyhaique           Coyhaique   \n",
       "460    SAPU Dr. Alejandro Gutiérrez        Coyhaique           Coyhaique   \n",
       "423   Hospital Regional (Coihaique)        Coyhaique           Coyhaique   \n",
       "305   Hospital Regional (Coihaique)        Coyhaique           Coyhaique   \n",
       "\n",
       "     semana_epidemiologica_21  oportunidad  not_con_pcr  \n",
       "522                        86         True         True  \n",
       "475                        87         True         True  \n",
       "460                        86         True         True  \n",
       "423                        86         True         True  \n",
       "305                        72         True         True  "
      ]
     },
     "execution_count": 78,
     "metadata": {},
     "output_type": "execute_result"
    }
   ],
   "source": [
    "data_aysen_clean_21_wpcr.sample(5)"
   ]
  },
  {
   "cell_type": "code",
   "execution_count": 74,
   "id": "37f15045",
   "metadata": {},
   "outputs": [
    {
     "data": {
      "text/html": [
       "<div>\n",
       "<style scoped>\n",
       "    .dataframe tbody tr th:only-of-type {\n",
       "        vertical-align: middle;\n",
       "    }\n",
       "\n",
       "    .dataframe tbody tr th {\n",
       "        vertical-align: top;\n",
       "    }\n",
       "\n",
       "    .dataframe thead th {\n",
       "        text-align: right;\n",
       "    }\n",
       "</style>\n",
       "<table border=\"1\" class=\"dataframe\">\n",
       "  <thead>\n",
       "    <tr style=\"text-align: right;\">\n",
       "      <th></th>\n",
       "      <th>numero_folio</th>\n",
       "      <th>comuna_residencia</th>\n",
       "      <th>fecha_notificacion</th>\n",
       "      <th>semana_epidemiologica</th>\n",
       "      <th>etapa_clinica</th>\n",
       "      <th>resultado_pcr_1</th>\n",
       "      <th>resultado_pcr_2</th>\n",
       "      <th>resultado_pcr_3</th>\n",
       "      <th>fecha_toma_muestra_1</th>\n",
       "      <th>fecha_toma_muestra_2</th>\n",
       "      <th>...</th>\n",
       "      <th>fecha_resultado_pcr_1</th>\n",
       "      <th>fecha_resultado_pcr_2</th>\n",
       "      <th>fecha_resultado_pcr_3</th>\n",
       "      <th>establecimiento_salud</th>\n",
       "      <th>comuna_seremi_xi</th>\n",
       "      <th>provincia_seremi_xi</th>\n",
       "      <th>semana_epidemiologica_21</th>\n",
       "      <th>oportunidad</th>\n",
       "      <th>not_sin_pcr</th>\n",
       "      <th>not_con_pcr</th>\n",
       "    </tr>\n",
       "  </thead>\n",
       "  <tbody>\n",
       "    <tr>\n",
       "      <th>168</th>\n",
       "      <td>3309851</td>\n",
       "      <td>Coyhaique</td>\n",
       "      <td>2020-10-05</td>\n",
       "      <td>41</td>\n",
       "      <td>SOSPECHA</td>\n",
       "      <td>NaN</td>\n",
       "      <td>NaN</td>\n",
       "      <td>NaN</td>\n",
       "      <td>NaT</td>\n",
       "      <td>NaN</td>\n",
       "      <td>...</td>\n",
       "      <td>NaT</td>\n",
       "      <td>NaT</td>\n",
       "      <td>NaT</td>\n",
       "      <td>Ejercicio libre de la profesión XI región</td>\n",
       "      <td>Ejercicio Libre de la Profesión</td>\n",
       "      <td>Ejercicio Libre de la Profesión</td>\n",
       "      <td>41</td>\n",
       "      <td>False</td>\n",
       "      <td>False</td>\n",
       "      <td>NaN</td>\n",
       "    </tr>\n",
       "    <tr>\n",
       "      <th>651</th>\n",
       "      <td>10971411</td>\n",
       "      <td>Chile Chico</td>\n",
       "      <td>2021-04-15</td>\n",
       "      <td>15</td>\n",
       "      <td>SOSPECHA</td>\n",
       "      <td>NaN</td>\n",
       "      <td>NaN</td>\n",
       "      <td>NaN</td>\n",
       "      <td>NaT</td>\n",
       "      <td>NaN</td>\n",
       "      <td>...</td>\n",
       "      <td>NaT</td>\n",
       "      <td>NaT</td>\n",
       "      <td>NaT</td>\n",
       "      <td>Hospital Dr. Leopoldo Ortega R. (Chile Chico)</td>\n",
       "      <td>Chile Chico</td>\n",
       "      <td>General Carrera</td>\n",
       "      <td>68</td>\n",
       "      <td>False</td>\n",
       "      <td>False</td>\n",
       "      <td>NaN</td>\n",
       "    </tr>\n",
       "    <tr>\n",
       "      <th>655</th>\n",
       "      <td>12489122</td>\n",
       "      <td>Chile Chico</td>\n",
       "      <td>2021-05-20</td>\n",
       "      <td>20</td>\n",
       "      <td>SOSPECHA</td>\n",
       "      <td>NaN</td>\n",
       "      <td>NaN</td>\n",
       "      <td>NaN</td>\n",
       "      <td>NaT</td>\n",
       "      <td>NaN</td>\n",
       "      <td>...</td>\n",
       "      <td>NaT</td>\n",
       "      <td>NaT</td>\n",
       "      <td>NaT</td>\n",
       "      <td>Hospital Dr. Leopoldo Ortega R. (Chile Chico)</td>\n",
       "      <td>Chile Chico</td>\n",
       "      <td>General Carrera</td>\n",
       "      <td>73</td>\n",
       "      <td>False</td>\n",
       "      <td>False</td>\n",
       "      <td>NaN</td>\n",
       "    </tr>\n",
       "    <tr>\n",
       "      <th>383</th>\n",
       "      <td>16196510</td>\n",
       "      <td>Coyhaique</td>\n",
       "      <td>2021-08-20</td>\n",
       "      <td>33</td>\n",
       "      <td>SOSPECHA</td>\n",
       "      <td>NaN</td>\n",
       "      <td>NEGATIVO</td>\n",
       "      <td>NaN</td>\n",
       "      <td>2021-08-20</td>\n",
       "      <td>2021-08-20</td>\n",
       "      <td>...</td>\n",
       "      <td>NaT</td>\n",
       "      <td>2021-08-20</td>\n",
       "      <td>NaT</td>\n",
       "      <td>Hospital Regional (Coihaique)</td>\n",
       "      <td>Coyhaique</td>\n",
       "      <td>Coyhaique</td>\n",
       "      <td>86</td>\n",
       "      <td>True</td>\n",
       "      <td>NaN</td>\n",
       "      <td>True</td>\n",
       "    </tr>\n",
       "    <tr>\n",
       "      <th>195</th>\n",
       "      <td>3082066</td>\n",
       "      <td>Coyhaique</td>\n",
       "      <td>2020-09-28</td>\n",
       "      <td>40</td>\n",
       "      <td>SOSPECHA</td>\n",
       "      <td>NaN</td>\n",
       "      <td>NaN</td>\n",
       "      <td>NaN</td>\n",
       "      <td>2020-09-28</td>\n",
       "      <td>NaN</td>\n",
       "      <td>...</td>\n",
       "      <td>NaT</td>\n",
       "      <td>NaT</td>\n",
       "      <td>NaT</td>\n",
       "      <td>Actividades gestionadas por la Dirección del S...</td>\n",
       "      <td>Coyhaique</td>\n",
       "      <td>Coyhaique</td>\n",
       "      <td>40</td>\n",
       "      <td>False</td>\n",
       "      <td>False</td>\n",
       "      <td>NaN</td>\n",
       "    </tr>\n",
       "  </tbody>\n",
       "</table>\n",
       "<p>5 rows × 21 columns</p>\n",
       "</div>"
      ],
      "text/plain": [
       "     numero_folio comuna_residencia fecha_notificacion  semana_epidemiologica  \\\n",
       "168       3309851         Coyhaique         2020-10-05                     41   \n",
       "651      10971411       Chile Chico         2021-04-15                     15   \n",
       "655      12489122       Chile Chico         2021-05-20                     20   \n",
       "383      16196510         Coyhaique         2021-08-20                     33   \n",
       "195       3082066         Coyhaique         2020-09-28                     40   \n",
       "\n",
       "    etapa_clinica resultado_pcr_1 resultado_pcr_2 resultado_pcr_3  \\\n",
       "168      SOSPECHA             NaN             NaN             NaN   \n",
       "651      SOSPECHA             NaN             NaN             NaN   \n",
       "655      SOSPECHA             NaN             NaN             NaN   \n",
       "383      SOSPECHA             NaN        NEGATIVO             NaN   \n",
       "195      SOSPECHA             NaN             NaN             NaN   \n",
       "\n",
       "    fecha_toma_muestra_1 fecha_toma_muestra_2  ... fecha_resultado_pcr_1  \\\n",
       "168                  NaT                  NaN  ...                   NaT   \n",
       "651                  NaT                  NaN  ...                   NaT   \n",
       "655                  NaT                  NaN  ...                   NaT   \n",
       "383           2021-08-20           2021-08-20  ...                   NaT   \n",
       "195           2020-09-28                  NaN  ...                   NaT   \n",
       "\n",
       "    fecha_resultado_pcr_2 fecha_resultado_pcr_3  \\\n",
       "168                   NaT                   NaT   \n",
       "651                   NaT                   NaT   \n",
       "655                   NaT                   NaT   \n",
       "383            2021-08-20                   NaT   \n",
       "195                   NaT                   NaT   \n",
       "\n",
       "                                 establecimiento_salud  \\\n",
       "168          Ejercicio libre de la profesión XI región   \n",
       "651      Hospital Dr. Leopoldo Ortega R. (Chile Chico)   \n",
       "655      Hospital Dr. Leopoldo Ortega R. (Chile Chico)   \n",
       "383                      Hospital Regional (Coihaique)   \n",
       "195  Actividades gestionadas por la Dirección del S...   \n",
       "\n",
       "                    comuna_seremi_xi              provincia_seremi_xi  \\\n",
       "168  Ejercicio Libre de la Profesión  Ejercicio Libre de la Profesión   \n",
       "651                      Chile Chico                  General Carrera   \n",
       "655                      Chile Chico                  General Carrera   \n",
       "383                        Coyhaique                        Coyhaique   \n",
       "195                        Coyhaique                        Coyhaique   \n",
       "\n",
       "    semana_epidemiologica_21  oportunidad  not_sin_pcr not_con_pcr  \n",
       "168                       41        False        False         NaN  \n",
       "651                       68        False        False         NaN  \n",
       "655                       73        False        False         NaN  \n",
       "383                       86         True          NaN        True  \n",
       "195                       40        False        False         NaN  \n",
       "\n",
       "[5 rows x 21 columns]"
      ]
     },
     "execution_count": 74,
     "metadata": {},
     "output_type": "execute_result"
    }
   ],
   "source": [
    "# Agrega ambos datasets mediante append\n",
    "\n",
    "data_oportunidad = data_aysen_clean_21_wo_pcr.append(data_aysen_clean_21_wpcr)\n",
    "\n",
    "data_oportunidad.sample(5)"
   ]
  },
  {
   "cell_type": "code",
   "execution_count": 75,
   "id": "f7d3df1b",
   "metadata": {},
   "outputs": [
    {
     "data": {
      "text/html": [
       "<div>\n",
       "<style scoped>\n",
       "    .dataframe tbody tr th:only-of-type {\n",
       "        vertical-align: middle;\n",
       "    }\n",
       "\n",
       "    .dataframe tbody tr th {\n",
       "        vertical-align: top;\n",
       "    }\n",
       "\n",
       "    .dataframe thead th {\n",
       "        text-align: right;\n",
       "    }\n",
       "</style>\n",
       "<table border=\"1\" class=\"dataframe\">\n",
       "  <thead>\n",
       "    <tr style=\"text-align: right;\">\n",
       "      <th></th>\n",
       "      <th></th>\n",
       "      <th>casos</th>\n",
       "    </tr>\n",
       "    <tr>\n",
       "      <th>semana_epidemiologica_21</th>\n",
       "      <th>oportunidad</th>\n",
       "      <th></th>\n",
       "    </tr>\n",
       "  </thead>\n",
       "  <tbody>\n",
       "    <tr>\n",
       "      <th>12</th>\n",
       "      <th>False</th>\n",
       "      <td>1</td>\n",
       "    </tr>\n",
       "    <tr>\n",
       "      <th>13</th>\n",
       "      <th>False</th>\n",
       "      <td>1</td>\n",
       "    </tr>\n",
       "    <tr>\n",
       "      <th>14</th>\n",
       "      <th>False</th>\n",
       "      <td>1</td>\n",
       "    </tr>\n",
       "    <tr>\n",
       "      <th>15</th>\n",
       "      <th>False</th>\n",
       "      <td>1</td>\n",
       "    </tr>\n",
       "    <tr>\n",
       "      <th>16</th>\n",
       "      <th>False</th>\n",
       "      <td>27</td>\n",
       "    </tr>\n",
       "    <tr>\n",
       "      <th>...</th>\n",
       "      <th>...</th>\n",
       "      <td>...</td>\n",
       "    </tr>\n",
       "    <tr>\n",
       "      <th>85</th>\n",
       "      <th>True</th>\n",
       "      <td>7</td>\n",
       "    </tr>\n",
       "    <tr>\n",
       "      <th rowspan=\"2\" valign=\"top\">86</th>\n",
       "      <th>False</th>\n",
       "      <td>89</td>\n",
       "    </tr>\n",
       "    <tr>\n",
       "      <th>True</th>\n",
       "      <td>98</td>\n",
       "    </tr>\n",
       "    <tr>\n",
       "      <th rowspan=\"2\" valign=\"top\">87</th>\n",
       "      <th>False</th>\n",
       "      <td>34</td>\n",
       "    </tr>\n",
       "    <tr>\n",
       "      <th>True</th>\n",
       "      <td>32</td>\n",
       "    </tr>\n",
       "  </tbody>\n",
       "</table>\n",
       "<p>96 rows × 1 columns</p>\n",
       "</div>"
      ],
      "text/plain": [
       "                                      casos\n",
       "semana_epidemiologica_21 oportunidad       \n",
       "12                       False            1\n",
       "13                       False            1\n",
       "14                       False            1\n",
       "15                       False            1\n",
       "16                       False           27\n",
       "...                                     ...\n",
       "85                       True             7\n",
       "86                       False           89\n",
       "                         True            98\n",
       "87                       False           34\n",
       "                         True            32\n",
       "\n",
       "[96 rows x 1 columns]"
      ]
     },
     "execution_count": 75,
     "metadata": {},
     "output_type": "execute_result"
    }
   ],
   "source": [
    "oportunidad = data_oportunidad.set_index('semana_epidemiologica_21').groupby(['semana_epidemiologica_21','oportunidad']).count()[['numero_folio']].rename(columns={'numero_folio':'casos'})\n",
    "\n",
    "oportunidad"
   ]
  },
  {
   "cell_type": "code",
   "execution_count": 76,
   "id": "77330e9d",
   "metadata": {},
   "outputs": [
    {
     "data": {
      "application/vnd.plotly.v1+json": {
       "config": {
        "plotlyServerURL": "https://plot.ly"
       },
       "data": [
        {
         "alignmentgroup": "True",
         "hovertemplate": "oportunidad=False<br>semana_epidemiologica_21=%{x}<br>casos=%{y}<extra></extra>",
         "legendgroup": "False",
         "marker": {
          "color": "#636efa"
         },
         "name": "False",
         "offsetgroup": "False",
         "orientation": "v",
         "showlegend": true,
         "textposition": "auto",
         "type": "bar",
         "x": [
          12,
          13,
          14,
          15,
          16,
          18,
          24,
          25,
          26,
          27,
          28,
          32,
          33,
          34,
          35,
          36,
          37,
          38,
          39,
          40,
          41,
          42,
          43,
          44,
          45,
          46,
          47,
          48,
          49,
          50,
          51,
          52,
          53,
          54,
          55,
          56,
          57,
          58,
          59,
          60,
          61,
          62,
          63,
          64,
          65,
          66,
          67,
          68,
          69,
          70,
          71,
          72,
          73,
          74,
          75,
          76,
          77,
          78,
          79,
          80,
          81,
          82,
          83,
          84,
          85,
          86,
          87
         ],
         "xaxis": "x",
         "y": [
          1,
          1,
          1,
          1,
          27,
          1,
          1,
          4,
          2,
          4,
          1,
          1,
          1,
          8,
          12,
          3,
          2,
          6,
          17,
          20,
          6,
          2,
          8,
          7,
          6,
          2,
          12,
          8,
          6,
          5,
          7,
          13,
          7,
          17,
          16,
          13,
          16,
          9,
          12,
          9,
          5,
          9,
          7,
          14,
          5,
          15,
          22,
          8,
          11,
          18,
          8,
          9,
          16,
          13,
          15,
          9,
          17,
          6,
          10,
          10,
          5,
          6,
          3,
          4,
          8,
          89,
          34
         ],
         "yaxis": "y"
        },
        {
         "alignmentgroup": "True",
         "hovertemplate": "oportunidad=True<br>semana_epidemiologica_21=%{x}<br>casos=%{y}<extra></extra>",
         "legendgroup": "True",
         "marker": {
          "color": "#EF553B"
         },
         "name": "True",
         "offsetgroup": "True",
         "orientation": "v",
         "showlegend": true,
         "textposition": "auto",
         "type": "bar",
         "x": [
          40,
          45,
          58,
          61,
          62,
          64,
          65,
          66,
          67,
          68,
          69,
          70,
          71,
          72,
          73,
          74,
          75,
          76,
          77,
          78,
          79,
          80,
          81,
          82,
          83,
          84,
          85,
          86,
          87
         ],
         "xaxis": "x",
         "y": [
          2,
          1,
          1,
          2,
          2,
          4,
          2,
          7,
          5,
          9,
          6,
          11,
          4,
          8,
          3,
          9,
          5,
          10,
          6,
          8,
          5,
          5,
          3,
          4,
          2,
          1,
          7,
          98,
          32
         ],
         "yaxis": "y"
        }
       ],
       "layout": {
        "barmode": "relative",
        "legend": {
         "title": {
          "text": "oportunidad"
         },
         "tracegroupgap": 0
        },
        "margin": {
         "t": 60
        },
        "template": {
         "data": {
          "bar": [
           {
            "error_x": {
             "color": "#2a3f5f"
            },
            "error_y": {
             "color": "#2a3f5f"
            },
            "marker": {
             "line": {
              "color": "#E5ECF6",
              "width": 0.5
             }
            },
            "type": "bar"
           }
          ],
          "barpolar": [
           {
            "marker": {
             "line": {
              "color": "#E5ECF6",
              "width": 0.5
             }
            },
            "type": "barpolar"
           }
          ],
          "carpet": [
           {
            "aaxis": {
             "endlinecolor": "#2a3f5f",
             "gridcolor": "white",
             "linecolor": "white",
             "minorgridcolor": "white",
             "startlinecolor": "#2a3f5f"
            },
            "baxis": {
             "endlinecolor": "#2a3f5f",
             "gridcolor": "white",
             "linecolor": "white",
             "minorgridcolor": "white",
             "startlinecolor": "#2a3f5f"
            },
            "type": "carpet"
           }
          ],
          "choropleth": [
           {
            "colorbar": {
             "outlinewidth": 0,
             "ticks": ""
            },
            "type": "choropleth"
           }
          ],
          "contour": [
           {
            "colorbar": {
             "outlinewidth": 0,
             "ticks": ""
            },
            "colorscale": [
             [
              0,
              "#0d0887"
             ],
             [
              0.1111111111111111,
              "#46039f"
             ],
             [
              0.2222222222222222,
              "#7201a8"
             ],
             [
              0.3333333333333333,
              "#9c179e"
             ],
             [
              0.4444444444444444,
              "#bd3786"
             ],
             [
              0.5555555555555556,
              "#d8576b"
             ],
             [
              0.6666666666666666,
              "#ed7953"
             ],
             [
              0.7777777777777778,
              "#fb9f3a"
             ],
             [
              0.8888888888888888,
              "#fdca26"
             ],
             [
              1,
              "#f0f921"
             ]
            ],
            "type": "contour"
           }
          ],
          "contourcarpet": [
           {
            "colorbar": {
             "outlinewidth": 0,
             "ticks": ""
            },
            "type": "contourcarpet"
           }
          ],
          "heatmap": [
           {
            "colorbar": {
             "outlinewidth": 0,
             "ticks": ""
            },
            "colorscale": [
             [
              0,
              "#0d0887"
             ],
             [
              0.1111111111111111,
              "#46039f"
             ],
             [
              0.2222222222222222,
              "#7201a8"
             ],
             [
              0.3333333333333333,
              "#9c179e"
             ],
             [
              0.4444444444444444,
              "#bd3786"
             ],
             [
              0.5555555555555556,
              "#d8576b"
             ],
             [
              0.6666666666666666,
              "#ed7953"
             ],
             [
              0.7777777777777778,
              "#fb9f3a"
             ],
             [
              0.8888888888888888,
              "#fdca26"
             ],
             [
              1,
              "#f0f921"
             ]
            ],
            "type": "heatmap"
           }
          ],
          "heatmapgl": [
           {
            "colorbar": {
             "outlinewidth": 0,
             "ticks": ""
            },
            "colorscale": [
             [
              0,
              "#0d0887"
             ],
             [
              0.1111111111111111,
              "#46039f"
             ],
             [
              0.2222222222222222,
              "#7201a8"
             ],
             [
              0.3333333333333333,
              "#9c179e"
             ],
             [
              0.4444444444444444,
              "#bd3786"
             ],
             [
              0.5555555555555556,
              "#d8576b"
             ],
             [
              0.6666666666666666,
              "#ed7953"
             ],
             [
              0.7777777777777778,
              "#fb9f3a"
             ],
             [
              0.8888888888888888,
              "#fdca26"
             ],
             [
              1,
              "#f0f921"
             ]
            ],
            "type": "heatmapgl"
           }
          ],
          "histogram": [
           {
            "marker": {
             "colorbar": {
              "outlinewidth": 0,
              "ticks": ""
             }
            },
            "type": "histogram"
           }
          ],
          "histogram2d": [
           {
            "colorbar": {
             "outlinewidth": 0,
             "ticks": ""
            },
            "colorscale": [
             [
              0,
              "#0d0887"
             ],
             [
              0.1111111111111111,
              "#46039f"
             ],
             [
              0.2222222222222222,
              "#7201a8"
             ],
             [
              0.3333333333333333,
              "#9c179e"
             ],
             [
              0.4444444444444444,
              "#bd3786"
             ],
             [
              0.5555555555555556,
              "#d8576b"
             ],
             [
              0.6666666666666666,
              "#ed7953"
             ],
             [
              0.7777777777777778,
              "#fb9f3a"
             ],
             [
              0.8888888888888888,
              "#fdca26"
             ],
             [
              1,
              "#f0f921"
             ]
            ],
            "type": "histogram2d"
           }
          ],
          "histogram2dcontour": [
           {
            "colorbar": {
             "outlinewidth": 0,
             "ticks": ""
            },
            "colorscale": [
             [
              0,
              "#0d0887"
             ],
             [
              0.1111111111111111,
              "#46039f"
             ],
             [
              0.2222222222222222,
              "#7201a8"
             ],
             [
              0.3333333333333333,
              "#9c179e"
             ],
             [
              0.4444444444444444,
              "#bd3786"
             ],
             [
              0.5555555555555556,
              "#d8576b"
             ],
             [
              0.6666666666666666,
              "#ed7953"
             ],
             [
              0.7777777777777778,
              "#fb9f3a"
             ],
             [
              0.8888888888888888,
              "#fdca26"
             ],
             [
              1,
              "#f0f921"
             ]
            ],
            "type": "histogram2dcontour"
           }
          ],
          "mesh3d": [
           {
            "colorbar": {
             "outlinewidth": 0,
             "ticks": ""
            },
            "type": "mesh3d"
           }
          ],
          "parcoords": [
           {
            "line": {
             "colorbar": {
              "outlinewidth": 0,
              "ticks": ""
             }
            },
            "type": "parcoords"
           }
          ],
          "pie": [
           {
            "automargin": true,
            "type": "pie"
           }
          ],
          "scatter": [
           {
            "marker": {
             "colorbar": {
              "outlinewidth": 0,
              "ticks": ""
             }
            },
            "type": "scatter"
           }
          ],
          "scatter3d": [
           {
            "line": {
             "colorbar": {
              "outlinewidth": 0,
              "ticks": ""
             }
            },
            "marker": {
             "colorbar": {
              "outlinewidth": 0,
              "ticks": ""
             }
            },
            "type": "scatter3d"
           }
          ],
          "scattercarpet": [
           {
            "marker": {
             "colorbar": {
              "outlinewidth": 0,
              "ticks": ""
             }
            },
            "type": "scattercarpet"
           }
          ],
          "scattergeo": [
           {
            "marker": {
             "colorbar": {
              "outlinewidth": 0,
              "ticks": ""
             }
            },
            "type": "scattergeo"
           }
          ],
          "scattergl": [
           {
            "marker": {
             "colorbar": {
              "outlinewidth": 0,
              "ticks": ""
             }
            },
            "type": "scattergl"
           }
          ],
          "scattermapbox": [
           {
            "marker": {
             "colorbar": {
              "outlinewidth": 0,
              "ticks": ""
             }
            },
            "type": "scattermapbox"
           }
          ],
          "scatterpolar": [
           {
            "marker": {
             "colorbar": {
              "outlinewidth": 0,
              "ticks": ""
             }
            },
            "type": "scatterpolar"
           }
          ],
          "scatterpolargl": [
           {
            "marker": {
             "colorbar": {
              "outlinewidth": 0,
              "ticks": ""
             }
            },
            "type": "scatterpolargl"
           }
          ],
          "scatterternary": [
           {
            "marker": {
             "colorbar": {
              "outlinewidth": 0,
              "ticks": ""
             }
            },
            "type": "scatterternary"
           }
          ],
          "surface": [
           {
            "colorbar": {
             "outlinewidth": 0,
             "ticks": ""
            },
            "colorscale": [
             [
              0,
              "#0d0887"
             ],
             [
              0.1111111111111111,
              "#46039f"
             ],
             [
              0.2222222222222222,
              "#7201a8"
             ],
             [
              0.3333333333333333,
              "#9c179e"
             ],
             [
              0.4444444444444444,
              "#bd3786"
             ],
             [
              0.5555555555555556,
              "#d8576b"
             ],
             [
              0.6666666666666666,
              "#ed7953"
             ],
             [
              0.7777777777777778,
              "#fb9f3a"
             ],
             [
              0.8888888888888888,
              "#fdca26"
             ],
             [
              1,
              "#f0f921"
             ]
            ],
            "type": "surface"
           }
          ],
          "table": [
           {
            "cells": {
             "fill": {
              "color": "#EBF0F8"
             },
             "line": {
              "color": "white"
             }
            },
            "header": {
             "fill": {
              "color": "#C8D4E3"
             },
             "line": {
              "color": "white"
             }
            },
            "type": "table"
           }
          ]
         },
         "layout": {
          "annotationdefaults": {
           "arrowcolor": "#2a3f5f",
           "arrowhead": 0,
           "arrowwidth": 1
          },
          "autotypenumbers": "strict",
          "coloraxis": {
           "colorbar": {
            "outlinewidth": 0,
            "ticks": ""
           }
          },
          "colorscale": {
           "diverging": [
            [
             0,
             "#8e0152"
            ],
            [
             0.1,
             "#c51b7d"
            ],
            [
             0.2,
             "#de77ae"
            ],
            [
             0.3,
             "#f1b6da"
            ],
            [
             0.4,
             "#fde0ef"
            ],
            [
             0.5,
             "#f7f7f7"
            ],
            [
             0.6,
             "#e6f5d0"
            ],
            [
             0.7,
             "#b8e186"
            ],
            [
             0.8,
             "#7fbc41"
            ],
            [
             0.9,
             "#4d9221"
            ],
            [
             1,
             "#276419"
            ]
           ],
           "sequential": [
            [
             0,
             "#0d0887"
            ],
            [
             0.1111111111111111,
             "#46039f"
            ],
            [
             0.2222222222222222,
             "#7201a8"
            ],
            [
             0.3333333333333333,
             "#9c179e"
            ],
            [
             0.4444444444444444,
             "#bd3786"
            ],
            [
             0.5555555555555556,
             "#d8576b"
            ],
            [
             0.6666666666666666,
             "#ed7953"
            ],
            [
             0.7777777777777778,
             "#fb9f3a"
            ],
            [
             0.8888888888888888,
             "#fdca26"
            ],
            [
             1,
             "#f0f921"
            ]
           ],
           "sequentialminus": [
            [
             0,
             "#0d0887"
            ],
            [
             0.1111111111111111,
             "#46039f"
            ],
            [
             0.2222222222222222,
             "#7201a8"
            ],
            [
             0.3333333333333333,
             "#9c179e"
            ],
            [
             0.4444444444444444,
             "#bd3786"
            ],
            [
             0.5555555555555556,
             "#d8576b"
            ],
            [
             0.6666666666666666,
             "#ed7953"
            ],
            [
             0.7777777777777778,
             "#fb9f3a"
            ],
            [
             0.8888888888888888,
             "#fdca26"
            ],
            [
             1,
             "#f0f921"
            ]
           ]
          },
          "colorway": [
           "#636efa",
           "#EF553B",
           "#00cc96",
           "#ab63fa",
           "#FFA15A",
           "#19d3f3",
           "#FF6692",
           "#B6E880",
           "#FF97FF",
           "#FECB52"
          ],
          "font": {
           "color": "#2a3f5f"
          },
          "geo": {
           "bgcolor": "white",
           "lakecolor": "white",
           "landcolor": "#E5ECF6",
           "showlakes": true,
           "showland": true,
           "subunitcolor": "white"
          },
          "hoverlabel": {
           "align": "left"
          },
          "hovermode": "closest",
          "mapbox": {
           "style": "light"
          },
          "paper_bgcolor": "white",
          "plot_bgcolor": "#E5ECF6",
          "polar": {
           "angularaxis": {
            "gridcolor": "white",
            "linecolor": "white",
            "ticks": ""
           },
           "bgcolor": "#E5ECF6",
           "radialaxis": {
            "gridcolor": "white",
            "linecolor": "white",
            "ticks": ""
           }
          },
          "scene": {
           "xaxis": {
            "backgroundcolor": "#E5ECF6",
            "gridcolor": "white",
            "gridwidth": 2,
            "linecolor": "white",
            "showbackground": true,
            "ticks": "",
            "zerolinecolor": "white"
           },
           "yaxis": {
            "backgroundcolor": "#E5ECF6",
            "gridcolor": "white",
            "gridwidth": 2,
            "linecolor": "white",
            "showbackground": true,
            "ticks": "",
            "zerolinecolor": "white"
           },
           "zaxis": {
            "backgroundcolor": "#E5ECF6",
            "gridcolor": "white",
            "gridwidth": 2,
            "linecolor": "white",
            "showbackground": true,
            "ticks": "",
            "zerolinecolor": "white"
           }
          },
          "shapedefaults": {
           "line": {
            "color": "#2a3f5f"
           }
          },
          "ternary": {
           "aaxis": {
            "gridcolor": "white",
            "linecolor": "white",
            "ticks": ""
           },
           "baxis": {
            "gridcolor": "white",
            "linecolor": "white",
            "ticks": ""
           },
           "bgcolor": "#E5ECF6",
           "caxis": {
            "gridcolor": "white",
            "linecolor": "white",
            "ticks": ""
           }
          },
          "title": {
           "x": 0.05
          },
          "xaxis": {
           "automargin": true,
           "gridcolor": "white",
           "linecolor": "white",
           "ticks": "",
           "title": {
            "standoff": 15
           },
           "zerolinecolor": "white",
           "zerolinewidth": 2
          },
          "yaxis": {
           "automargin": true,
           "gridcolor": "white",
           "linecolor": "white",
           "ticks": "",
           "title": {
            "standoff": 15
           },
           "zerolinecolor": "white",
           "zerolinewidth": 2
          }
         }
        },
        "xaxis": {
         "anchor": "y",
         "domain": [
          0,
          1
         ],
         "title": {
          "text": "semana_epidemiologica_21"
         }
        },
        "yaxis": {
         "anchor": "x",
         "domain": [
          0,
          1
         ],
         "title": {
          "text": "casos"
         }
        }
       }
      },
      "text/html": [
       "<div>                            <div id=\"c370d202-1556-4582-9a77-16fc6caff38a\" class=\"plotly-graph-div\" style=\"height:525px; width:100%;\"></div>            <script type=\"text/javascript\">                require([\"plotly\"], function(Plotly) {                    window.PLOTLYENV=window.PLOTLYENV || {};                                    if (document.getElementById(\"c370d202-1556-4582-9a77-16fc6caff38a\")) {                    Plotly.newPlot(                        \"c370d202-1556-4582-9a77-16fc6caff38a\",                        [{\"alignmentgroup\": \"True\", \"hovertemplate\": \"oportunidad=False<br>semana_epidemiologica_21=%{x}<br>casos=%{y}<extra></extra>\", \"legendgroup\": \"False\", \"marker\": {\"color\": \"#636efa\"}, \"name\": \"False\", \"offsetgroup\": \"False\", \"orientation\": \"v\", \"showlegend\": true, \"textposition\": \"auto\", \"type\": \"bar\", \"x\": [12, 13, 14, 15, 16, 18, 24, 25, 26, 27, 28, 32, 33, 34, 35, 36, 37, 38, 39, 40, 41, 42, 43, 44, 45, 46, 47, 48, 49, 50, 51, 52, 53, 54, 55, 56, 57, 58, 59, 60, 61, 62, 63, 64, 65, 66, 67, 68, 69, 70, 71, 72, 73, 74, 75, 76, 77, 78, 79, 80, 81, 82, 83, 84, 85, 86, 87], \"xaxis\": \"x\", \"y\": [1, 1, 1, 1, 27, 1, 1, 4, 2, 4, 1, 1, 1, 8, 12, 3, 2, 6, 17, 20, 6, 2, 8, 7, 6, 2, 12, 8, 6, 5, 7, 13, 7, 17, 16, 13, 16, 9, 12, 9, 5, 9, 7, 14, 5, 15, 22, 8, 11, 18, 8, 9, 16, 13, 15, 9, 17, 6, 10, 10, 5, 6, 3, 4, 8, 89, 34], \"yaxis\": \"y\"}, {\"alignmentgroup\": \"True\", \"hovertemplate\": \"oportunidad=True<br>semana_epidemiologica_21=%{x}<br>casos=%{y}<extra></extra>\", \"legendgroup\": \"True\", \"marker\": {\"color\": \"#EF553B\"}, \"name\": \"True\", \"offsetgroup\": \"True\", \"orientation\": \"v\", \"showlegend\": true, \"textposition\": \"auto\", \"type\": \"bar\", \"x\": [40, 45, 58, 61, 62, 64, 65, 66, 67, 68, 69, 70, 71, 72, 73, 74, 75, 76, 77, 78, 79, 80, 81, 82, 83, 84, 85, 86, 87], \"xaxis\": \"x\", \"y\": [2, 1, 1, 2, 2, 4, 2, 7, 5, 9, 6, 11, 4, 8, 3, 9, 5, 10, 6, 8, 5, 5, 3, 4, 2, 1, 7, 98, 32], \"yaxis\": \"y\"}],                        {\"barmode\": \"relative\", \"legend\": {\"title\": {\"text\": \"oportunidad\"}, \"tracegroupgap\": 0}, \"margin\": {\"t\": 60}, \"template\": {\"data\": {\"bar\": [{\"error_x\": {\"color\": \"#2a3f5f\"}, \"error_y\": {\"color\": \"#2a3f5f\"}, \"marker\": {\"line\": {\"color\": \"#E5ECF6\", \"width\": 0.5}}, \"type\": \"bar\"}], \"barpolar\": [{\"marker\": {\"line\": {\"color\": \"#E5ECF6\", \"width\": 0.5}}, \"type\": \"barpolar\"}], \"carpet\": [{\"aaxis\": {\"endlinecolor\": \"#2a3f5f\", \"gridcolor\": \"white\", \"linecolor\": \"white\", \"minorgridcolor\": \"white\", \"startlinecolor\": \"#2a3f5f\"}, \"baxis\": {\"endlinecolor\": \"#2a3f5f\", \"gridcolor\": \"white\", \"linecolor\": \"white\", \"minorgridcolor\": \"white\", \"startlinecolor\": \"#2a3f5f\"}, \"type\": \"carpet\"}], \"choropleth\": [{\"colorbar\": {\"outlinewidth\": 0, \"ticks\": \"\"}, \"type\": \"choropleth\"}], \"contour\": [{\"colorbar\": {\"outlinewidth\": 0, \"ticks\": \"\"}, \"colorscale\": [[0.0, \"#0d0887\"], [0.1111111111111111, \"#46039f\"], [0.2222222222222222, \"#7201a8\"], [0.3333333333333333, \"#9c179e\"], [0.4444444444444444, \"#bd3786\"], [0.5555555555555556, \"#d8576b\"], [0.6666666666666666, \"#ed7953\"], [0.7777777777777778, \"#fb9f3a\"], [0.8888888888888888, \"#fdca26\"], [1.0, \"#f0f921\"]], \"type\": \"contour\"}], \"contourcarpet\": [{\"colorbar\": {\"outlinewidth\": 0, \"ticks\": \"\"}, \"type\": \"contourcarpet\"}], \"heatmap\": [{\"colorbar\": {\"outlinewidth\": 0, \"ticks\": \"\"}, \"colorscale\": [[0.0, \"#0d0887\"], [0.1111111111111111, \"#46039f\"], [0.2222222222222222, \"#7201a8\"], [0.3333333333333333, \"#9c179e\"], [0.4444444444444444, \"#bd3786\"], [0.5555555555555556, \"#d8576b\"], [0.6666666666666666, \"#ed7953\"], [0.7777777777777778, \"#fb9f3a\"], [0.8888888888888888, \"#fdca26\"], [1.0, \"#f0f921\"]], \"type\": \"heatmap\"}], \"heatmapgl\": [{\"colorbar\": {\"outlinewidth\": 0, \"ticks\": \"\"}, \"colorscale\": [[0.0, \"#0d0887\"], [0.1111111111111111, \"#46039f\"], [0.2222222222222222, \"#7201a8\"], [0.3333333333333333, \"#9c179e\"], [0.4444444444444444, \"#bd3786\"], [0.5555555555555556, \"#d8576b\"], [0.6666666666666666, \"#ed7953\"], [0.7777777777777778, \"#fb9f3a\"], [0.8888888888888888, \"#fdca26\"], [1.0, \"#f0f921\"]], \"type\": \"heatmapgl\"}], \"histogram\": [{\"marker\": {\"colorbar\": {\"outlinewidth\": 0, \"ticks\": \"\"}}, \"type\": \"histogram\"}], \"histogram2d\": [{\"colorbar\": {\"outlinewidth\": 0, \"ticks\": \"\"}, \"colorscale\": [[0.0, \"#0d0887\"], [0.1111111111111111, \"#46039f\"], [0.2222222222222222, \"#7201a8\"], [0.3333333333333333, \"#9c179e\"], [0.4444444444444444, \"#bd3786\"], [0.5555555555555556, \"#d8576b\"], [0.6666666666666666, \"#ed7953\"], [0.7777777777777778, \"#fb9f3a\"], [0.8888888888888888, \"#fdca26\"], [1.0, \"#f0f921\"]], \"type\": \"histogram2d\"}], \"histogram2dcontour\": [{\"colorbar\": {\"outlinewidth\": 0, \"ticks\": \"\"}, \"colorscale\": [[0.0, \"#0d0887\"], [0.1111111111111111, \"#46039f\"], [0.2222222222222222, \"#7201a8\"], [0.3333333333333333, \"#9c179e\"], [0.4444444444444444, \"#bd3786\"], [0.5555555555555556, \"#d8576b\"], [0.6666666666666666, \"#ed7953\"], [0.7777777777777778, \"#fb9f3a\"], [0.8888888888888888, \"#fdca26\"], [1.0, \"#f0f921\"]], \"type\": \"histogram2dcontour\"}], \"mesh3d\": [{\"colorbar\": {\"outlinewidth\": 0, \"ticks\": \"\"}, \"type\": \"mesh3d\"}], \"parcoords\": [{\"line\": {\"colorbar\": {\"outlinewidth\": 0, \"ticks\": \"\"}}, \"type\": \"parcoords\"}], \"pie\": [{\"automargin\": true, \"type\": \"pie\"}], \"scatter\": [{\"marker\": {\"colorbar\": {\"outlinewidth\": 0, \"ticks\": \"\"}}, \"type\": \"scatter\"}], \"scatter3d\": [{\"line\": {\"colorbar\": {\"outlinewidth\": 0, \"ticks\": \"\"}}, \"marker\": {\"colorbar\": {\"outlinewidth\": 0, \"ticks\": \"\"}}, \"type\": \"scatter3d\"}], \"scattercarpet\": [{\"marker\": {\"colorbar\": {\"outlinewidth\": 0, \"ticks\": \"\"}}, \"type\": \"scattercarpet\"}], \"scattergeo\": [{\"marker\": {\"colorbar\": {\"outlinewidth\": 0, \"ticks\": \"\"}}, \"type\": \"scattergeo\"}], \"scattergl\": [{\"marker\": {\"colorbar\": {\"outlinewidth\": 0, \"ticks\": \"\"}}, \"type\": \"scattergl\"}], \"scattermapbox\": [{\"marker\": {\"colorbar\": {\"outlinewidth\": 0, \"ticks\": \"\"}}, \"type\": \"scattermapbox\"}], \"scatterpolar\": [{\"marker\": {\"colorbar\": {\"outlinewidth\": 0, \"ticks\": \"\"}}, \"type\": \"scatterpolar\"}], \"scatterpolargl\": [{\"marker\": {\"colorbar\": {\"outlinewidth\": 0, \"ticks\": \"\"}}, \"type\": \"scatterpolargl\"}], \"scatterternary\": [{\"marker\": {\"colorbar\": {\"outlinewidth\": 0, \"ticks\": \"\"}}, \"type\": \"scatterternary\"}], \"surface\": [{\"colorbar\": {\"outlinewidth\": 0, \"ticks\": \"\"}, \"colorscale\": [[0.0, \"#0d0887\"], [0.1111111111111111, \"#46039f\"], [0.2222222222222222, \"#7201a8\"], [0.3333333333333333, \"#9c179e\"], [0.4444444444444444, \"#bd3786\"], [0.5555555555555556, \"#d8576b\"], [0.6666666666666666, \"#ed7953\"], [0.7777777777777778, \"#fb9f3a\"], [0.8888888888888888, \"#fdca26\"], [1.0, \"#f0f921\"]], \"type\": \"surface\"}], \"table\": [{\"cells\": {\"fill\": {\"color\": \"#EBF0F8\"}, \"line\": {\"color\": \"white\"}}, \"header\": {\"fill\": {\"color\": \"#C8D4E3\"}, \"line\": {\"color\": \"white\"}}, \"type\": \"table\"}]}, \"layout\": {\"annotationdefaults\": {\"arrowcolor\": \"#2a3f5f\", \"arrowhead\": 0, \"arrowwidth\": 1}, \"autotypenumbers\": \"strict\", \"coloraxis\": {\"colorbar\": {\"outlinewidth\": 0, \"ticks\": \"\"}}, \"colorscale\": {\"diverging\": [[0, \"#8e0152\"], [0.1, \"#c51b7d\"], [0.2, \"#de77ae\"], [0.3, \"#f1b6da\"], [0.4, \"#fde0ef\"], [0.5, \"#f7f7f7\"], [0.6, \"#e6f5d0\"], [0.7, \"#b8e186\"], [0.8, \"#7fbc41\"], [0.9, \"#4d9221\"], [1, \"#276419\"]], \"sequential\": [[0.0, \"#0d0887\"], [0.1111111111111111, \"#46039f\"], [0.2222222222222222, \"#7201a8\"], [0.3333333333333333, \"#9c179e\"], [0.4444444444444444, \"#bd3786\"], [0.5555555555555556, \"#d8576b\"], [0.6666666666666666, \"#ed7953\"], [0.7777777777777778, \"#fb9f3a\"], [0.8888888888888888, \"#fdca26\"], [1.0, \"#f0f921\"]], \"sequentialminus\": [[0.0, \"#0d0887\"], [0.1111111111111111, \"#46039f\"], [0.2222222222222222, \"#7201a8\"], [0.3333333333333333, \"#9c179e\"], [0.4444444444444444, \"#bd3786\"], [0.5555555555555556, \"#d8576b\"], [0.6666666666666666, \"#ed7953\"], [0.7777777777777778, \"#fb9f3a\"], [0.8888888888888888, \"#fdca26\"], [1.0, \"#f0f921\"]]}, \"colorway\": [\"#636efa\", \"#EF553B\", \"#00cc96\", \"#ab63fa\", \"#FFA15A\", \"#19d3f3\", \"#FF6692\", \"#B6E880\", \"#FF97FF\", \"#FECB52\"], \"font\": {\"color\": \"#2a3f5f\"}, \"geo\": {\"bgcolor\": \"white\", \"lakecolor\": \"white\", \"landcolor\": \"#E5ECF6\", \"showlakes\": true, \"showland\": true, \"subunitcolor\": \"white\"}, \"hoverlabel\": {\"align\": \"left\"}, \"hovermode\": \"closest\", \"mapbox\": {\"style\": \"light\"}, \"paper_bgcolor\": \"white\", \"plot_bgcolor\": \"#E5ECF6\", \"polar\": {\"angularaxis\": {\"gridcolor\": \"white\", \"linecolor\": \"white\", \"ticks\": \"\"}, \"bgcolor\": \"#E5ECF6\", \"radialaxis\": {\"gridcolor\": \"white\", \"linecolor\": \"white\", \"ticks\": \"\"}}, \"scene\": {\"xaxis\": {\"backgroundcolor\": \"#E5ECF6\", \"gridcolor\": \"white\", \"gridwidth\": 2, \"linecolor\": \"white\", \"showbackground\": true, \"ticks\": \"\", \"zerolinecolor\": \"white\"}, \"yaxis\": {\"backgroundcolor\": \"#E5ECF6\", \"gridcolor\": \"white\", \"gridwidth\": 2, \"linecolor\": \"white\", \"showbackground\": true, \"ticks\": \"\", \"zerolinecolor\": \"white\"}, \"zaxis\": {\"backgroundcolor\": \"#E5ECF6\", \"gridcolor\": \"white\", \"gridwidth\": 2, \"linecolor\": \"white\", \"showbackground\": true, \"ticks\": \"\", \"zerolinecolor\": \"white\"}}, \"shapedefaults\": {\"line\": {\"color\": \"#2a3f5f\"}}, \"ternary\": {\"aaxis\": {\"gridcolor\": \"white\", \"linecolor\": \"white\", \"ticks\": \"\"}, \"baxis\": {\"gridcolor\": \"white\", \"linecolor\": \"white\", \"ticks\": \"\"}, \"bgcolor\": \"#E5ECF6\", \"caxis\": {\"gridcolor\": \"white\", \"linecolor\": \"white\", \"ticks\": \"\"}}, \"title\": {\"x\": 0.05}, \"xaxis\": {\"automargin\": true, \"gridcolor\": \"white\", \"linecolor\": \"white\", \"ticks\": \"\", \"title\": {\"standoff\": 15}, \"zerolinecolor\": \"white\", \"zerolinewidth\": 2}, \"yaxis\": {\"automargin\": true, \"gridcolor\": \"white\", \"linecolor\": \"white\", \"ticks\": \"\", \"title\": {\"standoff\": 15}, \"zerolinecolor\": \"white\", \"zerolinewidth\": 2}}}, \"xaxis\": {\"anchor\": \"y\", \"domain\": [0.0, 1.0], \"title\": {\"text\": \"semana_epidemiologica_21\"}}, \"yaxis\": {\"anchor\": \"x\", \"domain\": [0.0, 1.0], \"title\": {\"text\": \"casos\"}}},                        {\"responsive\": true}                    ).then(function(){\n",
       "                            \n",
       "var gd = document.getElementById('c370d202-1556-4582-9a77-16fc6caff38a');\n",
       "var x = new MutationObserver(function (mutations, observer) {{\n",
       "        var display = window.getComputedStyle(gd).display;\n",
       "        if (!display || display === 'none') {{\n",
       "            console.log([gd, 'removed!']);\n",
       "            Plotly.purge(gd);\n",
       "            observer.disconnect();\n",
       "        }}\n",
       "}});\n",
       "\n",
       "// Listen for the removal of the full notebook cells\n",
       "var notebookContainer = gd.closest('#notebook-container');\n",
       "if (notebookContainer) {{\n",
       "    x.observe(notebookContainer, {childList: true});\n",
       "}}\n",
       "\n",
       "// Listen for the clearing of the current output cell\n",
       "var outputEl = gd.closest('.output');\n",
       "if (outputEl) {{\n",
       "    x.observe(outputEl, {childList: true});\n",
       "}}\n",
       "\n",
       "                        })                };                });            </script>        </div>"
      ]
     },
     "metadata": {},
     "output_type": "display_data"
    }
   ],
   "source": [
    "# Crea gráfico de Resultados PCR regional por semana epidemiologica\n",
    "\n",
    "px.bar(oportunidad.reset_index(),\n",
    "        x= 'semana_epidemiologica_21',\n",
    "        y= 'casos',\n",
    "        color= 'oportunidad'\n",
    "        \n",
    "       )"
   ]
  },
  {
   "cell_type": "code",
   "execution_count": 77,
   "id": "979bf280",
   "metadata": {},
   "outputs": [
    {
     "data": {
      "application/vnd.plotly.v1+json": {
       "config": {
        "plotlyServerURL": "https://plot.ly"
       },
       "data": [
        {
         "hovertemplate": "oportunidad=False<br>semana_epidemiologica_21=%{x}<br>casos=%{y}<extra></extra>",
         "legendgroup": "False",
         "line": {
          "color": "#636efa",
          "dash": "solid"
         },
         "mode": "lines",
         "name": "False",
         "orientation": "v",
         "showlegend": true,
         "type": "scatter",
         "x": [
          12,
          13,
          14,
          15,
          16,
          18,
          24,
          25,
          26,
          27,
          28,
          32,
          33,
          34,
          35,
          36,
          37,
          38,
          39,
          40,
          41,
          42,
          43,
          44,
          45,
          46,
          47,
          48,
          49,
          50,
          51,
          52,
          53,
          54,
          55,
          56,
          57,
          58,
          59,
          60,
          61,
          62,
          63,
          64,
          65,
          66,
          67,
          68,
          69,
          70,
          71,
          72,
          73,
          74,
          75,
          76,
          77,
          78,
          79,
          80,
          81,
          82,
          83,
          84,
          85,
          86,
          87
         ],
         "xaxis": "x",
         "y": [
          1,
          1,
          1,
          1,
          27,
          1,
          1,
          4,
          2,
          4,
          1,
          1,
          1,
          8,
          12,
          3,
          2,
          6,
          17,
          20,
          6,
          2,
          8,
          7,
          6,
          2,
          12,
          8,
          6,
          5,
          7,
          13,
          7,
          17,
          16,
          13,
          16,
          9,
          12,
          9,
          5,
          9,
          7,
          14,
          5,
          15,
          22,
          8,
          11,
          18,
          8,
          9,
          16,
          13,
          15,
          9,
          17,
          6,
          10,
          10,
          5,
          6,
          3,
          4,
          8,
          89,
          34
         ],
         "yaxis": "y"
        },
        {
         "hovertemplate": "oportunidad=True<br>semana_epidemiologica_21=%{x}<br>casos=%{y}<extra></extra>",
         "legendgroup": "True",
         "line": {
          "color": "#EF553B",
          "dash": "solid"
         },
         "mode": "lines",
         "name": "True",
         "orientation": "v",
         "showlegend": true,
         "type": "scatter",
         "x": [
          40,
          45,
          58,
          61,
          62,
          64,
          65,
          66,
          67,
          68,
          69,
          70,
          71,
          72,
          73,
          74,
          75,
          76,
          77,
          78,
          79,
          80,
          81,
          82,
          83,
          84,
          85,
          86,
          87
         ],
         "xaxis": "x",
         "y": [
          2,
          1,
          1,
          2,
          2,
          4,
          2,
          7,
          5,
          9,
          6,
          11,
          4,
          8,
          3,
          9,
          5,
          10,
          6,
          8,
          5,
          5,
          3,
          4,
          2,
          1,
          7,
          98,
          32
         ],
         "yaxis": "y"
        }
       ],
       "layout": {
        "legend": {
         "title": {
          "text": "oportunidad"
         },
         "tracegroupgap": 0
        },
        "margin": {
         "t": 60
        },
        "template": {
         "data": {
          "bar": [
           {
            "error_x": {
             "color": "#2a3f5f"
            },
            "error_y": {
             "color": "#2a3f5f"
            },
            "marker": {
             "line": {
              "color": "#E5ECF6",
              "width": 0.5
             }
            },
            "type": "bar"
           }
          ],
          "barpolar": [
           {
            "marker": {
             "line": {
              "color": "#E5ECF6",
              "width": 0.5
             }
            },
            "type": "barpolar"
           }
          ],
          "carpet": [
           {
            "aaxis": {
             "endlinecolor": "#2a3f5f",
             "gridcolor": "white",
             "linecolor": "white",
             "minorgridcolor": "white",
             "startlinecolor": "#2a3f5f"
            },
            "baxis": {
             "endlinecolor": "#2a3f5f",
             "gridcolor": "white",
             "linecolor": "white",
             "minorgridcolor": "white",
             "startlinecolor": "#2a3f5f"
            },
            "type": "carpet"
           }
          ],
          "choropleth": [
           {
            "colorbar": {
             "outlinewidth": 0,
             "ticks": ""
            },
            "type": "choropleth"
           }
          ],
          "contour": [
           {
            "colorbar": {
             "outlinewidth": 0,
             "ticks": ""
            },
            "colorscale": [
             [
              0,
              "#0d0887"
             ],
             [
              0.1111111111111111,
              "#46039f"
             ],
             [
              0.2222222222222222,
              "#7201a8"
             ],
             [
              0.3333333333333333,
              "#9c179e"
             ],
             [
              0.4444444444444444,
              "#bd3786"
             ],
             [
              0.5555555555555556,
              "#d8576b"
             ],
             [
              0.6666666666666666,
              "#ed7953"
             ],
             [
              0.7777777777777778,
              "#fb9f3a"
             ],
             [
              0.8888888888888888,
              "#fdca26"
             ],
             [
              1,
              "#f0f921"
             ]
            ],
            "type": "contour"
           }
          ],
          "contourcarpet": [
           {
            "colorbar": {
             "outlinewidth": 0,
             "ticks": ""
            },
            "type": "contourcarpet"
           }
          ],
          "heatmap": [
           {
            "colorbar": {
             "outlinewidth": 0,
             "ticks": ""
            },
            "colorscale": [
             [
              0,
              "#0d0887"
             ],
             [
              0.1111111111111111,
              "#46039f"
             ],
             [
              0.2222222222222222,
              "#7201a8"
             ],
             [
              0.3333333333333333,
              "#9c179e"
             ],
             [
              0.4444444444444444,
              "#bd3786"
             ],
             [
              0.5555555555555556,
              "#d8576b"
             ],
             [
              0.6666666666666666,
              "#ed7953"
             ],
             [
              0.7777777777777778,
              "#fb9f3a"
             ],
             [
              0.8888888888888888,
              "#fdca26"
             ],
             [
              1,
              "#f0f921"
             ]
            ],
            "type": "heatmap"
           }
          ],
          "heatmapgl": [
           {
            "colorbar": {
             "outlinewidth": 0,
             "ticks": ""
            },
            "colorscale": [
             [
              0,
              "#0d0887"
             ],
             [
              0.1111111111111111,
              "#46039f"
             ],
             [
              0.2222222222222222,
              "#7201a8"
             ],
             [
              0.3333333333333333,
              "#9c179e"
             ],
             [
              0.4444444444444444,
              "#bd3786"
             ],
             [
              0.5555555555555556,
              "#d8576b"
             ],
             [
              0.6666666666666666,
              "#ed7953"
             ],
             [
              0.7777777777777778,
              "#fb9f3a"
             ],
             [
              0.8888888888888888,
              "#fdca26"
             ],
             [
              1,
              "#f0f921"
             ]
            ],
            "type": "heatmapgl"
           }
          ],
          "histogram": [
           {
            "marker": {
             "colorbar": {
              "outlinewidth": 0,
              "ticks": ""
             }
            },
            "type": "histogram"
           }
          ],
          "histogram2d": [
           {
            "colorbar": {
             "outlinewidth": 0,
             "ticks": ""
            },
            "colorscale": [
             [
              0,
              "#0d0887"
             ],
             [
              0.1111111111111111,
              "#46039f"
             ],
             [
              0.2222222222222222,
              "#7201a8"
             ],
             [
              0.3333333333333333,
              "#9c179e"
             ],
             [
              0.4444444444444444,
              "#bd3786"
             ],
             [
              0.5555555555555556,
              "#d8576b"
             ],
             [
              0.6666666666666666,
              "#ed7953"
             ],
             [
              0.7777777777777778,
              "#fb9f3a"
             ],
             [
              0.8888888888888888,
              "#fdca26"
             ],
             [
              1,
              "#f0f921"
             ]
            ],
            "type": "histogram2d"
           }
          ],
          "histogram2dcontour": [
           {
            "colorbar": {
             "outlinewidth": 0,
             "ticks": ""
            },
            "colorscale": [
             [
              0,
              "#0d0887"
             ],
             [
              0.1111111111111111,
              "#46039f"
             ],
             [
              0.2222222222222222,
              "#7201a8"
             ],
             [
              0.3333333333333333,
              "#9c179e"
             ],
             [
              0.4444444444444444,
              "#bd3786"
             ],
             [
              0.5555555555555556,
              "#d8576b"
             ],
             [
              0.6666666666666666,
              "#ed7953"
             ],
             [
              0.7777777777777778,
              "#fb9f3a"
             ],
             [
              0.8888888888888888,
              "#fdca26"
             ],
             [
              1,
              "#f0f921"
             ]
            ],
            "type": "histogram2dcontour"
           }
          ],
          "mesh3d": [
           {
            "colorbar": {
             "outlinewidth": 0,
             "ticks": ""
            },
            "type": "mesh3d"
           }
          ],
          "parcoords": [
           {
            "line": {
             "colorbar": {
              "outlinewidth": 0,
              "ticks": ""
             }
            },
            "type": "parcoords"
           }
          ],
          "pie": [
           {
            "automargin": true,
            "type": "pie"
           }
          ],
          "scatter": [
           {
            "marker": {
             "colorbar": {
              "outlinewidth": 0,
              "ticks": ""
             }
            },
            "type": "scatter"
           }
          ],
          "scatter3d": [
           {
            "line": {
             "colorbar": {
              "outlinewidth": 0,
              "ticks": ""
             }
            },
            "marker": {
             "colorbar": {
              "outlinewidth": 0,
              "ticks": ""
             }
            },
            "type": "scatter3d"
           }
          ],
          "scattercarpet": [
           {
            "marker": {
             "colorbar": {
              "outlinewidth": 0,
              "ticks": ""
             }
            },
            "type": "scattercarpet"
           }
          ],
          "scattergeo": [
           {
            "marker": {
             "colorbar": {
              "outlinewidth": 0,
              "ticks": ""
             }
            },
            "type": "scattergeo"
           }
          ],
          "scattergl": [
           {
            "marker": {
             "colorbar": {
              "outlinewidth": 0,
              "ticks": ""
             }
            },
            "type": "scattergl"
           }
          ],
          "scattermapbox": [
           {
            "marker": {
             "colorbar": {
              "outlinewidth": 0,
              "ticks": ""
             }
            },
            "type": "scattermapbox"
           }
          ],
          "scatterpolar": [
           {
            "marker": {
             "colorbar": {
              "outlinewidth": 0,
              "ticks": ""
             }
            },
            "type": "scatterpolar"
           }
          ],
          "scatterpolargl": [
           {
            "marker": {
             "colorbar": {
              "outlinewidth": 0,
              "ticks": ""
             }
            },
            "type": "scatterpolargl"
           }
          ],
          "scatterternary": [
           {
            "marker": {
             "colorbar": {
              "outlinewidth": 0,
              "ticks": ""
             }
            },
            "type": "scatterternary"
           }
          ],
          "surface": [
           {
            "colorbar": {
             "outlinewidth": 0,
             "ticks": ""
            },
            "colorscale": [
             [
              0,
              "#0d0887"
             ],
             [
              0.1111111111111111,
              "#46039f"
             ],
             [
              0.2222222222222222,
              "#7201a8"
             ],
             [
              0.3333333333333333,
              "#9c179e"
             ],
             [
              0.4444444444444444,
              "#bd3786"
             ],
             [
              0.5555555555555556,
              "#d8576b"
             ],
             [
              0.6666666666666666,
              "#ed7953"
             ],
             [
              0.7777777777777778,
              "#fb9f3a"
             ],
             [
              0.8888888888888888,
              "#fdca26"
             ],
             [
              1,
              "#f0f921"
             ]
            ],
            "type": "surface"
           }
          ],
          "table": [
           {
            "cells": {
             "fill": {
              "color": "#EBF0F8"
             },
             "line": {
              "color": "white"
             }
            },
            "header": {
             "fill": {
              "color": "#C8D4E3"
             },
             "line": {
              "color": "white"
             }
            },
            "type": "table"
           }
          ]
         },
         "layout": {
          "annotationdefaults": {
           "arrowcolor": "#2a3f5f",
           "arrowhead": 0,
           "arrowwidth": 1
          },
          "autotypenumbers": "strict",
          "coloraxis": {
           "colorbar": {
            "outlinewidth": 0,
            "ticks": ""
           }
          },
          "colorscale": {
           "diverging": [
            [
             0,
             "#8e0152"
            ],
            [
             0.1,
             "#c51b7d"
            ],
            [
             0.2,
             "#de77ae"
            ],
            [
             0.3,
             "#f1b6da"
            ],
            [
             0.4,
             "#fde0ef"
            ],
            [
             0.5,
             "#f7f7f7"
            ],
            [
             0.6,
             "#e6f5d0"
            ],
            [
             0.7,
             "#b8e186"
            ],
            [
             0.8,
             "#7fbc41"
            ],
            [
             0.9,
             "#4d9221"
            ],
            [
             1,
             "#276419"
            ]
           ],
           "sequential": [
            [
             0,
             "#0d0887"
            ],
            [
             0.1111111111111111,
             "#46039f"
            ],
            [
             0.2222222222222222,
             "#7201a8"
            ],
            [
             0.3333333333333333,
             "#9c179e"
            ],
            [
             0.4444444444444444,
             "#bd3786"
            ],
            [
             0.5555555555555556,
             "#d8576b"
            ],
            [
             0.6666666666666666,
             "#ed7953"
            ],
            [
             0.7777777777777778,
             "#fb9f3a"
            ],
            [
             0.8888888888888888,
             "#fdca26"
            ],
            [
             1,
             "#f0f921"
            ]
           ],
           "sequentialminus": [
            [
             0,
             "#0d0887"
            ],
            [
             0.1111111111111111,
             "#46039f"
            ],
            [
             0.2222222222222222,
             "#7201a8"
            ],
            [
             0.3333333333333333,
             "#9c179e"
            ],
            [
             0.4444444444444444,
             "#bd3786"
            ],
            [
             0.5555555555555556,
             "#d8576b"
            ],
            [
             0.6666666666666666,
             "#ed7953"
            ],
            [
             0.7777777777777778,
             "#fb9f3a"
            ],
            [
             0.8888888888888888,
             "#fdca26"
            ],
            [
             1,
             "#f0f921"
            ]
           ]
          },
          "colorway": [
           "#636efa",
           "#EF553B",
           "#00cc96",
           "#ab63fa",
           "#FFA15A",
           "#19d3f3",
           "#FF6692",
           "#B6E880",
           "#FF97FF",
           "#FECB52"
          ],
          "font": {
           "color": "#2a3f5f"
          },
          "geo": {
           "bgcolor": "white",
           "lakecolor": "white",
           "landcolor": "#E5ECF6",
           "showlakes": true,
           "showland": true,
           "subunitcolor": "white"
          },
          "hoverlabel": {
           "align": "left"
          },
          "hovermode": "closest",
          "mapbox": {
           "style": "light"
          },
          "paper_bgcolor": "white",
          "plot_bgcolor": "#E5ECF6",
          "polar": {
           "angularaxis": {
            "gridcolor": "white",
            "linecolor": "white",
            "ticks": ""
           },
           "bgcolor": "#E5ECF6",
           "radialaxis": {
            "gridcolor": "white",
            "linecolor": "white",
            "ticks": ""
           }
          },
          "scene": {
           "xaxis": {
            "backgroundcolor": "#E5ECF6",
            "gridcolor": "white",
            "gridwidth": 2,
            "linecolor": "white",
            "showbackground": true,
            "ticks": "",
            "zerolinecolor": "white"
           },
           "yaxis": {
            "backgroundcolor": "#E5ECF6",
            "gridcolor": "white",
            "gridwidth": 2,
            "linecolor": "white",
            "showbackground": true,
            "ticks": "",
            "zerolinecolor": "white"
           },
           "zaxis": {
            "backgroundcolor": "#E5ECF6",
            "gridcolor": "white",
            "gridwidth": 2,
            "linecolor": "white",
            "showbackground": true,
            "ticks": "",
            "zerolinecolor": "white"
           }
          },
          "shapedefaults": {
           "line": {
            "color": "#2a3f5f"
           }
          },
          "ternary": {
           "aaxis": {
            "gridcolor": "white",
            "linecolor": "white",
            "ticks": ""
           },
           "baxis": {
            "gridcolor": "white",
            "linecolor": "white",
            "ticks": ""
           },
           "bgcolor": "#E5ECF6",
           "caxis": {
            "gridcolor": "white",
            "linecolor": "white",
            "ticks": ""
           }
          },
          "title": {
           "x": 0.05
          },
          "xaxis": {
           "automargin": true,
           "gridcolor": "white",
           "linecolor": "white",
           "ticks": "",
           "title": {
            "standoff": 15
           },
           "zerolinecolor": "white",
           "zerolinewidth": 2
          },
          "yaxis": {
           "automargin": true,
           "gridcolor": "white",
           "linecolor": "white",
           "ticks": "",
           "title": {
            "standoff": 15
           },
           "zerolinecolor": "white",
           "zerolinewidth": 2
          }
         }
        },
        "xaxis": {
         "anchor": "y",
         "domain": [
          0,
          1
         ],
         "title": {
          "text": "semana_epidemiologica_21"
         }
        },
        "yaxis": {
         "anchor": "x",
         "domain": [
          0,
          1
         ],
         "title": {
          "text": "casos"
         }
        }
       }
      },
      "text/html": [
       "<div>                            <div id=\"f57ee18b-ec62-4935-a086-3ca16d064e91\" class=\"plotly-graph-div\" style=\"height:525px; width:100%;\"></div>            <script type=\"text/javascript\">                require([\"plotly\"], function(Plotly) {                    window.PLOTLYENV=window.PLOTLYENV || {};                                    if (document.getElementById(\"f57ee18b-ec62-4935-a086-3ca16d064e91\")) {                    Plotly.newPlot(                        \"f57ee18b-ec62-4935-a086-3ca16d064e91\",                        [{\"hovertemplate\": \"oportunidad=False<br>semana_epidemiologica_21=%{x}<br>casos=%{y}<extra></extra>\", \"legendgroup\": \"False\", \"line\": {\"color\": \"#636efa\", \"dash\": \"solid\"}, \"mode\": \"lines\", \"name\": \"False\", \"orientation\": \"v\", \"showlegend\": true, \"type\": \"scatter\", \"x\": [12, 13, 14, 15, 16, 18, 24, 25, 26, 27, 28, 32, 33, 34, 35, 36, 37, 38, 39, 40, 41, 42, 43, 44, 45, 46, 47, 48, 49, 50, 51, 52, 53, 54, 55, 56, 57, 58, 59, 60, 61, 62, 63, 64, 65, 66, 67, 68, 69, 70, 71, 72, 73, 74, 75, 76, 77, 78, 79, 80, 81, 82, 83, 84, 85, 86, 87], \"xaxis\": \"x\", \"y\": [1, 1, 1, 1, 27, 1, 1, 4, 2, 4, 1, 1, 1, 8, 12, 3, 2, 6, 17, 20, 6, 2, 8, 7, 6, 2, 12, 8, 6, 5, 7, 13, 7, 17, 16, 13, 16, 9, 12, 9, 5, 9, 7, 14, 5, 15, 22, 8, 11, 18, 8, 9, 16, 13, 15, 9, 17, 6, 10, 10, 5, 6, 3, 4, 8, 89, 34], \"yaxis\": \"y\"}, {\"hovertemplate\": \"oportunidad=True<br>semana_epidemiologica_21=%{x}<br>casos=%{y}<extra></extra>\", \"legendgroup\": \"True\", \"line\": {\"color\": \"#EF553B\", \"dash\": \"solid\"}, \"mode\": \"lines\", \"name\": \"True\", \"orientation\": \"v\", \"showlegend\": true, \"type\": \"scatter\", \"x\": [40, 45, 58, 61, 62, 64, 65, 66, 67, 68, 69, 70, 71, 72, 73, 74, 75, 76, 77, 78, 79, 80, 81, 82, 83, 84, 85, 86, 87], \"xaxis\": \"x\", \"y\": [2, 1, 1, 2, 2, 4, 2, 7, 5, 9, 6, 11, 4, 8, 3, 9, 5, 10, 6, 8, 5, 5, 3, 4, 2, 1, 7, 98, 32], \"yaxis\": \"y\"}],                        {\"legend\": {\"title\": {\"text\": \"oportunidad\"}, \"tracegroupgap\": 0}, \"margin\": {\"t\": 60}, \"template\": {\"data\": {\"bar\": [{\"error_x\": {\"color\": \"#2a3f5f\"}, \"error_y\": {\"color\": \"#2a3f5f\"}, \"marker\": {\"line\": {\"color\": \"#E5ECF6\", \"width\": 0.5}}, \"type\": \"bar\"}], \"barpolar\": [{\"marker\": {\"line\": {\"color\": \"#E5ECF6\", \"width\": 0.5}}, \"type\": \"barpolar\"}], \"carpet\": [{\"aaxis\": {\"endlinecolor\": \"#2a3f5f\", \"gridcolor\": \"white\", \"linecolor\": \"white\", \"minorgridcolor\": \"white\", \"startlinecolor\": \"#2a3f5f\"}, \"baxis\": {\"endlinecolor\": \"#2a3f5f\", \"gridcolor\": \"white\", \"linecolor\": \"white\", \"minorgridcolor\": \"white\", \"startlinecolor\": \"#2a3f5f\"}, \"type\": \"carpet\"}], \"choropleth\": [{\"colorbar\": {\"outlinewidth\": 0, \"ticks\": \"\"}, \"type\": \"choropleth\"}], \"contour\": [{\"colorbar\": {\"outlinewidth\": 0, \"ticks\": \"\"}, \"colorscale\": [[0.0, \"#0d0887\"], [0.1111111111111111, \"#46039f\"], [0.2222222222222222, \"#7201a8\"], [0.3333333333333333, \"#9c179e\"], [0.4444444444444444, \"#bd3786\"], [0.5555555555555556, \"#d8576b\"], [0.6666666666666666, \"#ed7953\"], [0.7777777777777778, \"#fb9f3a\"], [0.8888888888888888, \"#fdca26\"], [1.0, \"#f0f921\"]], \"type\": \"contour\"}], \"contourcarpet\": [{\"colorbar\": {\"outlinewidth\": 0, \"ticks\": \"\"}, \"type\": \"contourcarpet\"}], \"heatmap\": [{\"colorbar\": {\"outlinewidth\": 0, \"ticks\": \"\"}, \"colorscale\": [[0.0, \"#0d0887\"], [0.1111111111111111, \"#46039f\"], [0.2222222222222222, \"#7201a8\"], [0.3333333333333333, \"#9c179e\"], [0.4444444444444444, \"#bd3786\"], [0.5555555555555556, \"#d8576b\"], [0.6666666666666666, \"#ed7953\"], [0.7777777777777778, \"#fb9f3a\"], [0.8888888888888888, \"#fdca26\"], [1.0, \"#f0f921\"]], \"type\": \"heatmap\"}], \"heatmapgl\": [{\"colorbar\": {\"outlinewidth\": 0, \"ticks\": \"\"}, \"colorscale\": [[0.0, \"#0d0887\"], [0.1111111111111111, \"#46039f\"], [0.2222222222222222, \"#7201a8\"], [0.3333333333333333, \"#9c179e\"], [0.4444444444444444, \"#bd3786\"], [0.5555555555555556, \"#d8576b\"], [0.6666666666666666, \"#ed7953\"], [0.7777777777777778, \"#fb9f3a\"], [0.8888888888888888, \"#fdca26\"], [1.0, \"#f0f921\"]], \"type\": \"heatmapgl\"}], \"histogram\": [{\"marker\": {\"colorbar\": {\"outlinewidth\": 0, \"ticks\": \"\"}}, \"type\": \"histogram\"}], \"histogram2d\": [{\"colorbar\": {\"outlinewidth\": 0, \"ticks\": \"\"}, \"colorscale\": [[0.0, \"#0d0887\"], [0.1111111111111111, \"#46039f\"], [0.2222222222222222, \"#7201a8\"], [0.3333333333333333, \"#9c179e\"], [0.4444444444444444, \"#bd3786\"], [0.5555555555555556, \"#d8576b\"], [0.6666666666666666, \"#ed7953\"], [0.7777777777777778, \"#fb9f3a\"], [0.8888888888888888, \"#fdca26\"], [1.0, \"#f0f921\"]], \"type\": \"histogram2d\"}], \"histogram2dcontour\": [{\"colorbar\": {\"outlinewidth\": 0, \"ticks\": \"\"}, \"colorscale\": [[0.0, \"#0d0887\"], [0.1111111111111111, \"#46039f\"], [0.2222222222222222, \"#7201a8\"], [0.3333333333333333, \"#9c179e\"], [0.4444444444444444, \"#bd3786\"], [0.5555555555555556, \"#d8576b\"], [0.6666666666666666, \"#ed7953\"], [0.7777777777777778, \"#fb9f3a\"], [0.8888888888888888, \"#fdca26\"], [1.0, \"#f0f921\"]], \"type\": \"histogram2dcontour\"}], \"mesh3d\": [{\"colorbar\": {\"outlinewidth\": 0, \"ticks\": \"\"}, \"type\": \"mesh3d\"}], \"parcoords\": [{\"line\": {\"colorbar\": {\"outlinewidth\": 0, \"ticks\": \"\"}}, \"type\": \"parcoords\"}], \"pie\": [{\"automargin\": true, \"type\": \"pie\"}], \"scatter\": [{\"marker\": {\"colorbar\": {\"outlinewidth\": 0, \"ticks\": \"\"}}, \"type\": \"scatter\"}], \"scatter3d\": [{\"line\": {\"colorbar\": {\"outlinewidth\": 0, \"ticks\": \"\"}}, \"marker\": {\"colorbar\": {\"outlinewidth\": 0, \"ticks\": \"\"}}, \"type\": \"scatter3d\"}], \"scattercarpet\": [{\"marker\": {\"colorbar\": {\"outlinewidth\": 0, \"ticks\": \"\"}}, \"type\": \"scattercarpet\"}], \"scattergeo\": [{\"marker\": {\"colorbar\": {\"outlinewidth\": 0, \"ticks\": \"\"}}, \"type\": \"scattergeo\"}], \"scattergl\": [{\"marker\": {\"colorbar\": {\"outlinewidth\": 0, \"ticks\": \"\"}}, \"type\": \"scattergl\"}], \"scattermapbox\": [{\"marker\": {\"colorbar\": {\"outlinewidth\": 0, \"ticks\": \"\"}}, \"type\": \"scattermapbox\"}], \"scatterpolar\": [{\"marker\": {\"colorbar\": {\"outlinewidth\": 0, \"ticks\": \"\"}}, \"type\": \"scatterpolar\"}], \"scatterpolargl\": [{\"marker\": {\"colorbar\": {\"outlinewidth\": 0, \"ticks\": \"\"}}, \"type\": \"scatterpolargl\"}], \"scatterternary\": [{\"marker\": {\"colorbar\": {\"outlinewidth\": 0, \"ticks\": \"\"}}, \"type\": \"scatterternary\"}], \"surface\": [{\"colorbar\": {\"outlinewidth\": 0, \"ticks\": \"\"}, \"colorscale\": [[0.0, \"#0d0887\"], [0.1111111111111111, \"#46039f\"], [0.2222222222222222, \"#7201a8\"], [0.3333333333333333, \"#9c179e\"], [0.4444444444444444, \"#bd3786\"], [0.5555555555555556, \"#d8576b\"], [0.6666666666666666, \"#ed7953\"], [0.7777777777777778, \"#fb9f3a\"], [0.8888888888888888, \"#fdca26\"], [1.0, \"#f0f921\"]], \"type\": \"surface\"}], \"table\": [{\"cells\": {\"fill\": {\"color\": \"#EBF0F8\"}, \"line\": {\"color\": \"white\"}}, \"header\": {\"fill\": {\"color\": \"#C8D4E3\"}, \"line\": {\"color\": \"white\"}}, \"type\": \"table\"}]}, \"layout\": {\"annotationdefaults\": {\"arrowcolor\": \"#2a3f5f\", \"arrowhead\": 0, \"arrowwidth\": 1}, \"autotypenumbers\": \"strict\", \"coloraxis\": {\"colorbar\": {\"outlinewidth\": 0, \"ticks\": \"\"}}, \"colorscale\": {\"diverging\": [[0, \"#8e0152\"], [0.1, \"#c51b7d\"], [0.2, \"#de77ae\"], [0.3, \"#f1b6da\"], [0.4, \"#fde0ef\"], [0.5, \"#f7f7f7\"], [0.6, \"#e6f5d0\"], [0.7, \"#b8e186\"], [0.8, \"#7fbc41\"], [0.9, \"#4d9221\"], [1, \"#276419\"]], \"sequential\": [[0.0, \"#0d0887\"], [0.1111111111111111, \"#46039f\"], [0.2222222222222222, \"#7201a8\"], [0.3333333333333333, \"#9c179e\"], [0.4444444444444444, \"#bd3786\"], [0.5555555555555556, \"#d8576b\"], [0.6666666666666666, \"#ed7953\"], [0.7777777777777778, \"#fb9f3a\"], [0.8888888888888888, \"#fdca26\"], [1.0, \"#f0f921\"]], \"sequentialminus\": [[0.0, \"#0d0887\"], [0.1111111111111111, \"#46039f\"], [0.2222222222222222, \"#7201a8\"], [0.3333333333333333, \"#9c179e\"], [0.4444444444444444, \"#bd3786\"], [0.5555555555555556, \"#d8576b\"], [0.6666666666666666, \"#ed7953\"], [0.7777777777777778, \"#fb9f3a\"], [0.8888888888888888, \"#fdca26\"], [1.0, \"#f0f921\"]]}, \"colorway\": [\"#636efa\", \"#EF553B\", \"#00cc96\", \"#ab63fa\", \"#FFA15A\", \"#19d3f3\", \"#FF6692\", \"#B6E880\", \"#FF97FF\", \"#FECB52\"], \"font\": {\"color\": \"#2a3f5f\"}, \"geo\": {\"bgcolor\": \"white\", \"lakecolor\": \"white\", \"landcolor\": \"#E5ECF6\", \"showlakes\": true, \"showland\": true, \"subunitcolor\": \"white\"}, \"hoverlabel\": {\"align\": \"left\"}, \"hovermode\": \"closest\", \"mapbox\": {\"style\": \"light\"}, \"paper_bgcolor\": \"white\", \"plot_bgcolor\": \"#E5ECF6\", \"polar\": {\"angularaxis\": {\"gridcolor\": \"white\", \"linecolor\": \"white\", \"ticks\": \"\"}, \"bgcolor\": \"#E5ECF6\", \"radialaxis\": {\"gridcolor\": \"white\", \"linecolor\": \"white\", \"ticks\": \"\"}}, \"scene\": {\"xaxis\": {\"backgroundcolor\": \"#E5ECF6\", \"gridcolor\": \"white\", \"gridwidth\": 2, \"linecolor\": \"white\", \"showbackground\": true, \"ticks\": \"\", \"zerolinecolor\": \"white\"}, \"yaxis\": {\"backgroundcolor\": \"#E5ECF6\", \"gridcolor\": \"white\", \"gridwidth\": 2, \"linecolor\": \"white\", \"showbackground\": true, \"ticks\": \"\", \"zerolinecolor\": \"white\"}, \"zaxis\": {\"backgroundcolor\": \"#E5ECF6\", \"gridcolor\": \"white\", \"gridwidth\": 2, \"linecolor\": \"white\", \"showbackground\": true, \"ticks\": \"\", \"zerolinecolor\": \"white\"}}, \"shapedefaults\": {\"line\": {\"color\": \"#2a3f5f\"}}, \"ternary\": {\"aaxis\": {\"gridcolor\": \"white\", \"linecolor\": \"white\", \"ticks\": \"\"}, \"baxis\": {\"gridcolor\": \"white\", \"linecolor\": \"white\", \"ticks\": \"\"}, \"bgcolor\": \"#E5ECF6\", \"caxis\": {\"gridcolor\": \"white\", \"linecolor\": \"white\", \"ticks\": \"\"}}, \"title\": {\"x\": 0.05}, \"xaxis\": {\"automargin\": true, \"gridcolor\": \"white\", \"linecolor\": \"white\", \"ticks\": \"\", \"title\": {\"standoff\": 15}, \"zerolinecolor\": \"white\", \"zerolinewidth\": 2}, \"yaxis\": {\"automargin\": true, \"gridcolor\": \"white\", \"linecolor\": \"white\", \"ticks\": \"\", \"title\": {\"standoff\": 15}, \"zerolinecolor\": \"white\", \"zerolinewidth\": 2}}}, \"xaxis\": {\"anchor\": \"y\", \"domain\": [0.0, 1.0], \"title\": {\"text\": \"semana_epidemiologica_21\"}}, \"yaxis\": {\"anchor\": \"x\", \"domain\": [0.0, 1.0], \"title\": {\"text\": \"casos\"}}},                        {\"responsive\": true}                    ).then(function(){\n",
       "                            \n",
       "var gd = document.getElementById('f57ee18b-ec62-4935-a086-3ca16d064e91');\n",
       "var x = new MutationObserver(function (mutations, observer) {{\n",
       "        var display = window.getComputedStyle(gd).display;\n",
       "        if (!display || display === 'none') {{\n",
       "            console.log([gd, 'removed!']);\n",
       "            Plotly.purge(gd);\n",
       "            observer.disconnect();\n",
       "        }}\n",
       "}});\n",
       "\n",
       "// Listen for the removal of the full notebook cells\n",
       "var notebookContainer = gd.closest('#notebook-container');\n",
       "if (notebookContainer) {{\n",
       "    x.observe(notebookContainer, {childList: true});\n",
       "}}\n",
       "\n",
       "// Listen for the clearing of the current output cell\n",
       "var outputEl = gd.closest('.output');\n",
       "if (outputEl) {{\n",
       "    x.observe(outputEl, {childList: true});\n",
       "}}\n",
       "\n",
       "                        })                };                });            </script>        </div>"
      ]
     },
     "metadata": {},
     "output_type": "display_data"
    }
   ],
   "source": [
    "# Crea gráfico de Resultados PCR regional por semana epidemiologica\n",
    "\n",
    "px.line(oportunidad.reset_index(),\n",
    "        x= 'semana_epidemiologica_21',\n",
    "        y= 'casos',\n",
    "        color= 'oportunidad'\n",
    "       )"
   ]
  }
 ],
 "metadata": {
  "kernelspec": {
   "display_name": "Python 3",
   "language": "python",
   "name": "python3"
  },
  "language_info": {
   "codemirror_mode": {
    "name": "ipython",
    "version": 3
   },
   "file_extension": ".py",
   "mimetype": "text/x-python",
   "name": "python",
   "nbconvert_exporter": "python",
   "pygments_lexer": "ipython3",
   "version": "3.8.10"
  }
 },
 "nbformat": 4,
 "nbformat_minor": 5
}
