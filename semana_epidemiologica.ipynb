{
 "cells": [
  {
   "cell_type": "markdown",
   "id": "b12c9130",
   "metadata": {},
   "source": [
    "# Mejora gráficos por semana epidemiológica\n",
    "\n",
    "Prueba con muestra `categoricas` y `númericas`"
   ]
  },
  {
   "cell_type": "code",
   "execution_count": 2,
   "id": "3bc4b2ad",
   "metadata": {},
   "outputs": [],
   "source": [
    "# Importa librerias necesarias para el análisis\n",
    "\n",
    "import pandas as pd\n",
    "import numpy as np\n",
    "import plotly.express as px"
   ]
  },
  {
   "cell_type": "code",
   "execution_count": 3,
   "id": "514571fc",
   "metadata": {},
   "outputs": [
    {
     "data": {
      "text/html": [
       "<div>\n",
       "<style scoped>\n",
       "    .dataframe tbody tr th:only-of-type {\n",
       "        vertical-align: middle;\n",
       "    }\n",
       "\n",
       "    .dataframe tbody tr th {\n",
       "        vertical-align: top;\n",
       "    }\n",
       "\n",
       "    .dataframe thead th {\n",
       "        text-align: right;\n",
       "    }\n",
       "</style>\n",
       "<table border=\"1\" class=\"dataframe\">\n",
       "  <thead>\n",
       "    <tr style=\"text-align: right;\">\n",
       "      <th></th>\n",
       "      <th>Unnamed: 0</th>\n",
       "      <th>orden</th>\n",
       "      <th>nombre_region</th>\n",
       "      <th>codigo_region</th>\n",
       "      <th>nombre_provincia</th>\n",
       "      <th>codigo_provincia</th>\n",
       "      <th>nombre_comuna</th>\n",
       "      <th>codigo_comuna</th>\n",
       "      <th>edad_hombres</th>\n",
       "      <th>edad_mujeres</th>\n",
       "      <th>total</th>\n",
       "    </tr>\n",
       "  </thead>\n",
       "  <tbody>\n",
       "    <tr>\n",
       "      <th>0</th>\n",
       "      <td>0</td>\n",
       "      <td>7172</td>\n",
       "      <td>Región de Aysén del General Carlos Ibáñez del ...</td>\n",
       "      <td>11</td>\n",
       "      <td>Coyhaique</td>\n",
       "      <td>111</td>\n",
       "      <td>Coyhaique</td>\n",
       "      <td>11101</td>\n",
       "      <td>28763</td>\n",
       "      <td>29055</td>\n",
       "      <td>57818</td>\n",
       "    </tr>\n",
       "    <tr>\n",
       "      <th>1</th>\n",
       "      <td>1</td>\n",
       "      <td>7194</td>\n",
       "      <td>Región de Aysén del General Carlos Ibáñez del ...</td>\n",
       "      <td>11</td>\n",
       "      <td>Coyhaique</td>\n",
       "      <td>111</td>\n",
       "      <td>Lago Verde</td>\n",
       "      <td>11102</td>\n",
       "      <td>494</td>\n",
       "      <td>358</td>\n",
       "      <td>852</td>\n",
       "    </tr>\n",
       "    <tr>\n",
       "      <th>2</th>\n",
       "      <td>2</td>\n",
       "      <td>7216</td>\n",
       "      <td>Región de Aysén del General Carlos Ibáñez del ...</td>\n",
       "      <td>11</td>\n",
       "      <td>Aysen</td>\n",
       "      <td>112</td>\n",
       "      <td>Aysen</td>\n",
       "      <td>11201</td>\n",
       "      <td>12719</td>\n",
       "      <td>11240</td>\n",
       "      <td>23959</td>\n",
       "    </tr>\n",
       "    <tr>\n",
       "      <th>3</th>\n",
       "      <td>3</td>\n",
       "      <td>7238</td>\n",
       "      <td>Región de Aysén del General Carlos Ibáñez del ...</td>\n",
       "      <td>11</td>\n",
       "      <td>Aysen</td>\n",
       "      <td>112</td>\n",
       "      <td>Cisnes</td>\n",
       "      <td>11202</td>\n",
       "      <td>3922</td>\n",
       "      <td>2595</td>\n",
       "      <td>6517</td>\n",
       "    </tr>\n",
       "    <tr>\n",
       "      <th>4</th>\n",
       "      <td>4</td>\n",
       "      <td>7260</td>\n",
       "      <td>Región de Aysén del General Carlos Ibáñez del ...</td>\n",
       "      <td>11</td>\n",
       "      <td>Aysen</td>\n",
       "      <td>112</td>\n",
       "      <td>Guaitecas</td>\n",
       "      <td>11203</td>\n",
       "      <td>1166</td>\n",
       "      <td>677</td>\n",
       "      <td>1843</td>\n",
       "    </tr>\n",
       "  </tbody>\n",
       "</table>\n",
       "</div>"
      ],
      "text/plain": [
       "   Unnamed: 0  orden                                      nombre_region  \\\n",
       "0           0   7172  Región de Aysén del General Carlos Ibáñez del ...   \n",
       "1           1   7194  Región de Aysén del General Carlos Ibáñez del ...   \n",
       "2           2   7216  Región de Aysén del General Carlos Ibáñez del ...   \n",
       "3           3   7238  Región de Aysén del General Carlos Ibáñez del ...   \n",
       "4           4   7260  Región de Aysén del General Carlos Ibáñez del ...   \n",
       "\n",
       "   codigo_region nombre_provincia  codigo_provincia nombre_comuna  \\\n",
       "0             11        Coyhaique               111     Coyhaique   \n",
       "1             11        Coyhaique               111    Lago Verde   \n",
       "2             11            Aysen               112         Aysen   \n",
       "3             11            Aysen               112        Cisnes   \n",
       "4             11            Aysen               112     Guaitecas   \n",
       "\n",
       "   codigo_comuna  edad_hombres  edad_mujeres  total  \n",
       "0          11101         28763         29055  57818  \n",
       "1          11102           494           358    852  \n",
       "2          11201         12719         11240  23959  \n",
       "3          11202          3922          2595   6517  \n",
       "4          11203          1166           677   1843  "
      ]
     },
     "execution_count": 3,
     "metadata": {},
     "output_type": "execute_result"
    }
   ],
   "source": [
    "# Importa datos de población regional y crea DF\n",
    "\n",
    "\n",
    "df_poblacion = pd.read_csv('data/aysen_population.csv') #Archivo ubicado dentro de la carpeta data\n",
    "\n",
    "df_poblacion.head()"
   ]
  },
  {
   "cell_type": "code",
   "execution_count": 4,
   "id": "75eadd64",
   "metadata": {},
   "outputs": [
    {
     "data": {
      "text/html": [
       "<div>\n",
       "<style scoped>\n",
       "    .dataframe tbody tr th:only-of-type {\n",
       "        vertical-align: middle;\n",
       "    }\n",
       "\n",
       "    .dataframe tbody tr th {\n",
       "        vertical-align: top;\n",
       "    }\n",
       "\n",
       "    .dataframe thead th {\n",
       "        text-align: right;\n",
       "    }\n",
       "</style>\n",
       "<table border=\"1\" class=\"dataframe\">\n",
       "  <thead>\n",
       "    <tr style=\"text-align: right;\">\n",
       "      <th></th>\n",
       "      <th>establecimiento_salud</th>\n",
       "      <th>comuna_seremi_xi</th>\n",
       "      <th>provincia_seremi_xi</th>\n",
       "    </tr>\n",
       "  </thead>\n",
       "  <tbody>\n",
       "    <tr>\n",
       "      <th>0</th>\n",
       "      <td>Actividades gestionadas por la Dirección del S...</td>\n",
       "      <td>Coyhaique</td>\n",
       "      <td>Coyhaique</td>\n",
       "    </tr>\n",
       "    <tr>\n",
       "      <th>1</th>\n",
       "      <td>Centro Clínico Militar Coyhaique</td>\n",
       "      <td>Coyhaique</td>\n",
       "      <td>Coyhaique</td>\n",
       "    </tr>\n",
       "    <tr>\n",
       "      <th>2</th>\n",
       "      <td>Centro Comunitario de Salud Familiar  Villa Ma...</td>\n",
       "      <td>Aysen</td>\n",
       "      <td>Aysen</td>\n",
       "    </tr>\n",
       "    <tr>\n",
       "      <th>3</th>\n",
       "      <td>Centro Comunitario de Salud Familiar Alejandro...</td>\n",
       "      <td>Coyhaique</td>\n",
       "      <td>Coyhaique</td>\n",
       "    </tr>\n",
       "    <tr>\n",
       "      <th>4</th>\n",
       "      <td>Centro Comunitario de Salud Familiar Puerto Ch...</td>\n",
       "      <td>Aysen</td>\n",
       "      <td>Aysen</td>\n",
       "    </tr>\n",
       "  </tbody>\n",
       "</table>\n",
       "</div>"
      ],
      "text/plain": [
       "                               establecimiento_salud comuna_seremi_xi  \\\n",
       "0  Actividades gestionadas por la Dirección del S...        Coyhaique   \n",
       "1                   Centro Clínico Militar Coyhaique        Coyhaique   \n",
       "2  Centro Comunitario de Salud Familiar  Villa Ma...            Aysen   \n",
       "3  Centro Comunitario de Salud Familiar Alejandro...        Coyhaique   \n",
       "4  Centro Comunitario de Salud Familiar Puerto Ch...            Aysen   \n",
       "\n",
       "  provincia_seremi_xi  \n",
       "0           Coyhaique  \n",
       "1           Coyhaique  \n",
       "2               Aysen  \n",
       "3           Coyhaique  \n",
       "4               Aysen  "
      ]
     },
     "execution_count": 4,
     "metadata": {},
     "output_type": "execute_result"
    }
   ],
   "source": [
    "# Importa datos de comunas corregidas por establecimiento de salud\n",
    "\n",
    "df_establecimiento = pd.read_excel('data/establecimientos_salud_dict.xlsx') #Archivo ubicado dentro de la carpeta data\n",
    "\n",
    "\n",
    "df_establecimiento.head()"
   ]
  },
  {
   "cell_type": "code",
   "execution_count": 5,
   "id": "9a72964c",
   "metadata": {},
   "outputs": [],
   "source": [
    "# Importa datos desde la base de datos recivida via FTP\n",
    "## PRIMERO: Guardar archivo dentro de la carpeta data\n",
    "## SEGUNDO: No cambiar nombre ni formato del archivo recibido\n",
    "## TERCERO: RECORDAR CAMBIAR FECHA EN EL ARCHIVO A IMPORTAR A CONTINUACION, i.e: 20210829 para este domingo 29 de Agosto 2021\n",
    "\n",
    "df = pd.read_csv('data/20210826_Región de Aysén del General Carlos Ibáñez del Campo_notificaciones_0600.csv',# RECORDAR CAMBIAR FECHA EN EL ARCHIVO \n",
    "                   sep=\";\", # CSV con separador de semicolon\n",
    "                   low_memory=False\n",
    "                  )"
   ]
  },
  {
   "cell_type": "code",
   "execution_count": 6,
   "id": "1ee6109c",
   "metadata": {},
   "outputs": [],
   "source": [
    "dff = df.merge(df_establecimiento)"
   ]
  },
  {
   "cell_type": "code",
   "execution_count": 7,
   "id": "194b32e5",
   "metadata": {},
   "outputs": [],
   "source": [
    "df_merged = dff.merge(df_poblacion.drop(columns= ['Unnamed: 0','orden','nombre_region', 'codigo_region', 'nombre_provincia','codigo_provincia']), left_on='comuna_seremi_xi', right_on='nombre_comuna' )"
   ]
  },
  {
   "cell_type": "code",
   "execution_count": 8,
   "id": "24eab69f",
   "metadata": {},
   "outputs": [
    {
     "data": {
      "text/html": [
       "<div>\n",
       "<style scoped>\n",
       "    .dataframe tbody tr th:only-of-type {\n",
       "        vertical-align: middle;\n",
       "    }\n",
       "\n",
       "    .dataframe tbody tr th {\n",
       "        vertical-align: top;\n",
       "    }\n",
       "\n",
       "    .dataframe thead th {\n",
       "        text-align: right;\n",
       "    }\n",
       "</style>\n",
       "<table border=\"1\" class=\"dataframe\">\n",
       "  <thead>\n",
       "    <tr style=\"text-align: right;\">\n",
       "      <th></th>\n",
       "      <th>id_formulario_eno</th>\n",
       "      <th>numero_folio</th>\n",
       "      <th>id_enfermedad_eno</th>\n",
       "      <th>enfermedad_notificada</th>\n",
       "      <th>semana_epidemiologica</th>\n",
       "      <th>fecha_notificacion</th>\n",
       "      <th>etapa_clinica</th>\n",
       "      <th>establecimiento_salud</th>\n",
       "      <th>region</th>\n",
       "      <th>seremi</th>\n",
       "      <th>...</th>\n",
       "      <th>ningun_factor_riesgo</th>\n",
       "      <th>test_antigeno_sars_positivo</th>\n",
       "      <th>tac_torax_covid</th>\n",
       "      <th>comuna_seremi_xi</th>\n",
       "      <th>provincia_seremi_xi</th>\n",
       "      <th>nombre_comuna</th>\n",
       "      <th>codigo_comuna</th>\n",
       "      <th>edad_hombres</th>\n",
       "      <th>edad_mujeres</th>\n",
       "      <th>total</th>\n",
       "    </tr>\n",
       "  </thead>\n",
       "  <tbody>\n",
       "    <tr>\n",
       "      <th>0</th>\n",
       "      <td>100166</td>\n",
       "      <td>50166</td>\n",
       "      <td>50</td>\n",
       "      <td>Coronavirus (COVID-19)</td>\n",
       "      <td>11</td>\n",
       "      <td>2020-03-12</td>\n",
       "      <td>DESCARTADA</td>\n",
       "      <td>Hospital Regional (Coihaique)</td>\n",
       "      <td>Región de Aysén del General Carlos Ibáñez del ...</td>\n",
       "      <td>SEREMI De Aisén del General Carlos Ibañez del ...</td>\n",
       "      <td>...</td>\n",
       "      <td>NaN</td>\n",
       "      <td>NaN</td>\n",
       "      <td>NaN</td>\n",
       "      <td>Coyhaique</td>\n",
       "      <td>Coyhaique</td>\n",
       "      <td>Coyhaique</td>\n",
       "      <td>11101</td>\n",
       "      <td>28763</td>\n",
       "      <td>29055</td>\n",
       "      <td>57818</td>\n",
       "    </tr>\n",
       "  </tbody>\n",
       "</table>\n",
       "<p>1 rows × 280 columns</p>\n",
       "</div>"
      ],
      "text/plain": [
       "   id_formulario_eno  numero_folio  id_enfermedad_eno   enfermedad_notificada  \\\n",
       "0             100166         50166                 50  Coronavirus (COVID-19)   \n",
       "\n",
       "   semana_epidemiologica fecha_notificacion etapa_clinica  \\\n",
       "0                     11         2020-03-12    DESCARTADA   \n",
       "\n",
       "           establecimiento_salud  \\\n",
       "0  Hospital Regional (Coihaique)   \n",
       "\n",
       "                                              region  \\\n",
       "0  Región de Aysén del General Carlos Ibáñez del ...   \n",
       "\n",
       "                                              seremi  ...  \\\n",
       "0  SEREMI De Aisén del General Carlos Ibañez del ...  ...   \n",
       "\n",
       "  ningun_factor_riesgo test_antigeno_sars_positivo  tac_torax_covid  \\\n",
       "0                  NaN                         NaN              NaN   \n",
       "\n",
       "  comuna_seremi_xi provincia_seremi_xi nombre_comuna codigo_comuna  \\\n",
       "0        Coyhaique           Coyhaique     Coyhaique         11101   \n",
       "\n",
       "  edad_hombres edad_mujeres  total  \n",
       "0        28763        29055  57818  \n",
       "\n",
       "[1 rows x 280 columns]"
      ]
     },
     "execution_count": 8,
     "metadata": {},
     "output_type": "execute_result"
    }
   ],
   "source": [
    "# Filtra datos obtenidos solo para pacientes con residencia en la Región de Aysén\n",
    "\n",
    "data_aysen = df_merged[df_merged['region_residencia'] == 'Región de Aysén del General Carlos Ibáñez del Campo']\n",
    "\n",
    "data_aysen.head(1)"
   ]
  },
  {
   "cell_type": "code",
   "execution_count": 9,
   "id": "c5a1c87f",
   "metadata": {},
   "outputs": [
    {
     "data": {
      "text/html": [
       "<div>\n",
       "<style scoped>\n",
       "    .dataframe tbody tr th:only-of-type {\n",
       "        vertical-align: middle;\n",
       "    }\n",
       "\n",
       "    .dataframe tbody tr th {\n",
       "        vertical-align: top;\n",
       "    }\n",
       "\n",
       "    .dataframe thead th {\n",
       "        text-align: right;\n",
       "    }\n",
       "</style>\n",
       "<table border=\"1\" class=\"dataframe\">\n",
       "  <thead>\n",
       "    <tr style=\"text-align: right;\">\n",
       "      <th></th>\n",
       "      <th>id_formulario_eno</th>\n",
       "      <th>numero_folio</th>\n",
       "      <th>id_enfermedad_eno</th>\n",
       "      <th>enfermedad_notificada</th>\n",
       "      <th>semana_epidemiologica</th>\n",
       "      <th>fecha_notificacion</th>\n",
       "      <th>etapa_clinica</th>\n",
       "      <th>establecimiento_salud</th>\n",
       "      <th>region</th>\n",
       "      <th>seremi</th>\n",
       "      <th>...</th>\n",
       "      <th>ningun_factor_riesgo</th>\n",
       "      <th>test_antigeno_sars_positivo</th>\n",
       "      <th>tac_torax_covid</th>\n",
       "      <th>comuna_seremi_xi</th>\n",
       "      <th>provincia_seremi_xi</th>\n",
       "      <th>nombre_comuna</th>\n",
       "      <th>codigo_comuna</th>\n",
       "      <th>pop_hombres</th>\n",
       "      <th>pop_mujeres</th>\n",
       "      <th>pop_total</th>\n",
       "    </tr>\n",
       "  </thead>\n",
       "  <tbody>\n",
       "    <tr>\n",
       "      <th>19563</th>\n",
       "      <td>14653252</td>\n",
       "      <td>14603252</td>\n",
       "      <td>50</td>\n",
       "      <td>Coronavirus (COVID-19)</td>\n",
       "      <td>27</td>\n",
       "      <td>2021-07-05</td>\n",
       "      <td>DESCARTADA</td>\n",
       "      <td>Hospital Regional (Coihaique)</td>\n",
       "      <td>Región de Aysén del General Carlos Ibáñez del ...</td>\n",
       "      <td>SEREMI De Aisén del General Carlos Ibañez del ...</td>\n",
       "      <td>...</td>\n",
       "      <td>t</td>\n",
       "      <td>DESCONOCIDO</td>\n",
       "      <td>DESCONOCIDO</td>\n",
       "      <td>Coyhaique</td>\n",
       "      <td>Coyhaique</td>\n",
       "      <td>Coyhaique</td>\n",
       "      <td>11101</td>\n",
       "      <td>28763</td>\n",
       "      <td>29055</td>\n",
       "      <td>57818</td>\n",
       "    </tr>\n",
       "    <tr>\n",
       "      <th>14457</th>\n",
       "      <td>10529958</td>\n",
       "      <td>10479958</td>\n",
       "      <td>50</td>\n",
       "      <td>Coronavirus (COVID-19)</td>\n",
       "      <td>14</td>\n",
       "      <td>2021-04-06</td>\n",
       "      <td>DESCARTADA</td>\n",
       "      <td>Hospital Regional (Coihaique)</td>\n",
       "      <td>Región de Aysén del General Carlos Ibáñez del ...</td>\n",
       "      <td>SEREMI De Aisén del General Carlos Ibañez del ...</td>\n",
       "      <td>...</td>\n",
       "      <td>t</td>\n",
       "      <td>DESCONOCIDO</td>\n",
       "      <td>DESCONOCIDO</td>\n",
       "      <td>Coyhaique</td>\n",
       "      <td>Coyhaique</td>\n",
       "      <td>Coyhaique</td>\n",
       "      <td>11101</td>\n",
       "      <td>28763</td>\n",
       "      <td>29055</td>\n",
       "      <td>57818</td>\n",
       "    </tr>\n",
       "    <tr>\n",
       "      <th>56718</th>\n",
       "      <td>8281920</td>\n",
       "      <td>8231920</td>\n",
       "      <td>50</td>\n",
       "      <td>Coronavirus (COVID-19)</td>\n",
       "      <td>7</td>\n",
       "      <td>2021-02-15</td>\n",
       "      <td>DESCARTADA</td>\n",
       "      <td>Actividades gestionadas por la Dirección del S...</td>\n",
       "      <td>Región de Aysén del General Carlos Ibáñez del ...</td>\n",
       "      <td>SEREMI De Aisén del General Carlos Ibañez del ...</td>\n",
       "      <td>...</td>\n",
       "      <td>f</td>\n",
       "      <td>NO</td>\n",
       "      <td>NO</td>\n",
       "      <td>Coyhaique</td>\n",
       "      <td>Coyhaique</td>\n",
       "      <td>Coyhaique</td>\n",
       "      <td>11101</td>\n",
       "      <td>28763</td>\n",
       "      <td>29055</td>\n",
       "      <td>57818</td>\n",
       "    </tr>\n",
       "  </tbody>\n",
       "</table>\n",
       "<p>3 rows × 280 columns</p>\n",
       "</div>"
      ],
      "text/plain": [
       "       id_formulario_eno  numero_folio  id_enfermedad_eno  \\\n",
       "19563           14653252      14603252                 50   \n",
       "14457           10529958      10479958                 50   \n",
       "56718            8281920       8231920                 50   \n",
       "\n",
       "        enfermedad_notificada  semana_epidemiologica fecha_notificacion  \\\n",
       "19563  Coronavirus (COVID-19)                     27         2021-07-05   \n",
       "14457  Coronavirus (COVID-19)                     14         2021-04-06   \n",
       "56718  Coronavirus (COVID-19)                      7         2021-02-15   \n",
       "\n",
       "      etapa_clinica                              establecimiento_salud  \\\n",
       "19563    DESCARTADA                      Hospital Regional (Coihaique)   \n",
       "14457    DESCARTADA                      Hospital Regional (Coihaique)   \n",
       "56718    DESCARTADA  Actividades gestionadas por la Dirección del S...   \n",
       "\n",
       "                                                  region  \\\n",
       "19563  Región de Aysén del General Carlos Ibáñez del ...   \n",
       "14457  Región de Aysén del General Carlos Ibáñez del ...   \n",
       "56718  Región de Aysén del General Carlos Ibáñez del ...   \n",
       "\n",
       "                                                  seremi  ...  \\\n",
       "19563  SEREMI De Aisén del General Carlos Ibañez del ...  ...   \n",
       "14457  SEREMI De Aisén del General Carlos Ibañez del ...  ...   \n",
       "56718  SEREMI De Aisén del General Carlos Ibañez del ...  ...   \n",
       "\n",
       "      ningun_factor_riesgo test_antigeno_sars_positivo  tac_torax_covid  \\\n",
       "19563                    t                 DESCONOCIDO      DESCONOCIDO   \n",
       "14457                    t                 DESCONOCIDO      DESCONOCIDO   \n",
       "56718                    f                          NO               NO   \n",
       "\n",
       "      comuna_seremi_xi provincia_seremi_xi nombre_comuna codigo_comuna  \\\n",
       "19563        Coyhaique           Coyhaique     Coyhaique         11101   \n",
       "14457        Coyhaique           Coyhaique     Coyhaique         11101   \n",
       "56718        Coyhaique           Coyhaique     Coyhaique         11101   \n",
       "\n",
       "      pop_hombres pop_mujeres pop_total  \n",
       "19563       28763       29055     57818  \n",
       "14457       28763       29055     57818  \n",
       "56718       28763       29055     57818  \n",
       "\n",
       "[3 rows x 280 columns]"
      ]
     },
     "execution_count": 9,
     "metadata": {},
     "output_type": "execute_result"
    }
   ],
   "source": [
    "data_aysen = data_aysen[((data_aysen['estado_caso']=='Validada'\n",
    "                        )|(data_aysen['estado_caso']=='Inconcluso'\n",
    "                          ))&(data_aysen['vigente_no_eliminado']=='t')\n",
    "                       ].rename(columns={'edad_hombres':'pop_hombres',\n",
    "                                         'edad_mujeres':'pop_mujeres',\n",
    "                                         'total':'pop_total'})\n",
    "\n",
    "data_aysen.sample(3)"
   ]
  },
  {
   "cell_type": "code",
   "execution_count": 10,
   "id": "a9111ca3",
   "metadata": {},
   "outputs": [],
   "source": [
    "# Selecciona variables de importancia\n",
    "\n",
    "data_aysen_clean =  data_aysen[[\n",
    "                                'numero_folio',\n",
    "                                'comuna_residencia',\n",
    "                                'fecha_notificacion',\n",
    "                                'semana_epidemiologica',\n",
    "                                'etapa_clinica',\n",
    "                                'resultado_pcr_1',\n",
    "                                'resultado_pcr_2',\n",
    "                                'resultado_pcr_3',\n",
    "                                'fecha_toma_muestra_1',\n",
    "                                'fecha_toma_muestra_2',\n",
    "                                'fecha_toma_muestra_3',\n",
    "                                'fecha_resultado_pcr_1',\n",
    "                                'fecha_resultado_pcr_2',\n",
    "                                'fecha_resultado_pcr_3',\n",
    "                                'establecimiento_salud',\n",
    "                                'comuna_seremi_xi',\n",
    "                                'provincia_seremi_xi',\n",
    "                                'pop_hombres',\n",
    "                                'pop_mujeres',\n",
    "                                'pop_total'\n",
    "                               ]]"
   ]
  },
  {
   "cell_type": "code",
   "execution_count": 11,
   "id": "7f834a6f",
   "metadata": {},
   "outputs": [
    {
     "name": "stderr",
     "output_type": "stream",
     "text": [
      "<ipython-input-11-ba7968d6c671>:3: SettingWithCopyWarning: \n",
      "A value is trying to be set on a copy of a slice from a DataFrame.\n",
      "Try using .loc[row_indexer,col_indexer] = value instead\n",
      "\n",
      "See the caveats in the documentation: https://pandas.pydata.org/pandas-docs/stable/user_guide/indexing.html#returning-a-view-versus-a-copy\n",
      "  data_aysen_clean['fecha_notificacion'] = pd.to_datetime(data_aysen_clean['fecha_notificacion'])\n",
      "<ipython-input-11-ba7968d6c671>:9: SettingWithCopyWarning: \n",
      "A value is trying to be set on a copy of a slice from a DataFrame.\n",
      "Try using .loc[row_indexer,col_indexer] = value instead\n",
      "\n",
      "See the caveats in the documentation: https://pandas.pydata.org/pandas-docs/stable/user_guide/indexing.html#returning-a-view-versus-a-copy\n",
      "  data_aysen_clean['fecha_toma_muestra_3'] = pd.to_datetime(data_aysen_clean['fecha_toma_muestra_3'])\n",
      "<ipython-input-11-ba7968d6c671>:11: SettingWithCopyWarning: \n",
      "A value is trying to be set on a copy of a slice from a DataFrame.\n",
      "Try using .loc[row_indexer,col_indexer] = value instead\n",
      "\n",
      "See the caveats in the documentation: https://pandas.pydata.org/pandas-docs/stable/user_guide/indexing.html#returning-a-view-versus-a-copy\n",
      "  data_aysen_clean['fecha_resultado_pcr_1'] = pd.to_datetime(data_aysen_clean['fecha_resultado_pcr_1'])\n",
      "<ipython-input-11-ba7968d6c671>:13: SettingWithCopyWarning: \n",
      "A value is trying to be set on a copy of a slice from a DataFrame.\n",
      "Try using .loc[row_indexer,col_indexer] = value instead\n",
      "\n",
      "See the caveats in the documentation: https://pandas.pydata.org/pandas-docs/stable/user_guide/indexing.html#returning-a-view-versus-a-copy\n",
      "  data_aysen_clean['fecha_resultado_pcr_2'] = pd.to_datetime(data_aysen_clean['fecha_resultado_pcr_2'])\n",
      "<ipython-input-11-ba7968d6c671>:15: SettingWithCopyWarning: \n",
      "A value is trying to be set on a copy of a slice from a DataFrame.\n",
      "Try using .loc[row_indexer,col_indexer] = value instead\n",
      "\n",
      "See the caveats in the documentation: https://pandas.pydata.org/pandas-docs/stable/user_guide/indexing.html#returning-a-view-versus-a-copy\n",
      "  data_aysen_clean['fecha_resultado_pcr_3'] = pd.to_datetime(data_aysen_clean['fecha_resultado_pcr_3'])\n"
     ]
    }
   ],
   "source": [
    "# Transforma Fechas a formato DateTime \n",
    "\n",
    "data_aysen_clean['fecha_notificacion'] = pd.to_datetime(data_aysen_clean['fecha_notificacion']) \n",
    "\n",
    "#data_aysen_clean['fecha_toma_muestra_1'] = pd.to_datetime(data_aysen_clean['fecha_toma_muestra_1'])\n",
    "\n",
    "#data_aysen_clean['fecha_toma_muestra_2'] = pd.to_datetime(data_aysen_clean['fecha_toma_muestra_2'])\n",
    "\n",
    "data_aysen_clean['fecha_toma_muestra_3'] = pd.to_datetime(data_aysen_clean['fecha_toma_muestra_3'])\n",
    "\n",
    "data_aysen_clean['fecha_resultado_pcr_1'] = pd.to_datetime(data_aysen_clean['fecha_resultado_pcr_1'])\n",
    "\n",
    "data_aysen_clean['fecha_resultado_pcr_2'] = pd.to_datetime(data_aysen_clean['fecha_resultado_pcr_2'])\n",
    "\n",
    "data_aysen_clean['fecha_resultado_pcr_3'] = pd.to_datetime(data_aysen_clean['fecha_resultado_pcr_3'])"
   ]
  },
  {
   "cell_type": "code",
   "execution_count": 12,
   "id": "6504652e",
   "metadata": {},
   "outputs": [
    {
     "data": {
      "text/html": [
       "<div>\n",
       "<style scoped>\n",
       "    .dataframe tbody tr th:only-of-type {\n",
       "        vertical-align: middle;\n",
       "    }\n",
       "\n",
       "    .dataframe tbody tr th {\n",
       "        vertical-align: top;\n",
       "    }\n",
       "\n",
       "    .dataframe thead th {\n",
       "        text-align: right;\n",
       "    }\n",
       "</style>\n",
       "<table border=\"1\" class=\"dataframe\">\n",
       "  <thead>\n",
       "    <tr style=\"text-align: right;\">\n",
       "      <th></th>\n",
       "      <th>numero_folio</th>\n",
       "      <th>comuna_residencia</th>\n",
       "      <th>fecha_notificacion</th>\n",
       "      <th>semana_epidemiologica</th>\n",
       "      <th>etapa_clinica</th>\n",
       "      <th>resultado_pcr_1</th>\n",
       "      <th>resultado_pcr_2</th>\n",
       "      <th>resultado_pcr_3</th>\n",
       "      <th>fecha_toma_muestra_1</th>\n",
       "      <th>fecha_toma_muestra_2</th>\n",
       "      <th>fecha_toma_muestra_3</th>\n",
       "      <th>fecha_resultado_pcr_1</th>\n",
       "      <th>fecha_resultado_pcr_2</th>\n",
       "      <th>fecha_resultado_pcr_3</th>\n",
       "      <th>establecimiento_salud</th>\n",
       "      <th>comuna_seremi_xi</th>\n",
       "      <th>provincia_seremi_xi</th>\n",
       "      <th>pop_hombres</th>\n",
       "      <th>pop_mujeres</th>\n",
       "      <th>pop_total</th>\n",
       "    </tr>\n",
       "  </thead>\n",
       "  <tbody>\n",
       "    <tr>\n",
       "      <th>129154</th>\n",
       "      <td>16239800</td>\n",
       "      <td>Chile Chico</td>\n",
       "      <td>2021-08-20</td>\n",
       "      <td>33</td>\n",
       "      <td>DESCARTADA</td>\n",
       "      <td>NEGATIVO</td>\n",
       "      <td>NEGATIVO</td>\n",
       "      <td>NaN</td>\n",
       "      <td>2021-07-21</td>\n",
       "      <td>2021-08-18</td>\n",
       "      <td>NaT</td>\n",
       "      <td>2021-07-21</td>\n",
       "      <td>2021-08-21</td>\n",
       "      <td>NaT</td>\n",
       "      <td>Hospital Dr. Leopoldo Ortega R. (Chile Chico)</td>\n",
       "      <td>Chile Chico</td>\n",
       "      <td>General Carrera</td>\n",
       "      <td>2577</td>\n",
       "      <td>2288</td>\n",
       "      <td>4865</td>\n",
       "    </tr>\n",
       "    <tr>\n",
       "      <th>21737</th>\n",
       "      <td>16103239</td>\n",
       "      <td>Coyhaique</td>\n",
       "      <td>2021-08-17</td>\n",
       "      <td>33</td>\n",
       "      <td>DESCARTADA</td>\n",
       "      <td>NaN</td>\n",
       "      <td>NaN</td>\n",
       "      <td>NaN</td>\n",
       "      <td>2021-08-17</td>\n",
       "      <td>NaN</td>\n",
       "      <td>NaT</td>\n",
       "      <td>NaT</td>\n",
       "      <td>NaT</td>\n",
       "      <td>NaT</td>\n",
       "      <td>Hospital Regional (Coihaique)</td>\n",
       "      <td>Coyhaique</td>\n",
       "      <td>Coyhaique</td>\n",
       "      <td>28763</td>\n",
       "      <td>29055</td>\n",
       "      <td>57818</td>\n",
       "    </tr>\n",
       "    <tr>\n",
       "      <th>109672</th>\n",
       "      <td>16182758</td>\n",
       "      <td>Aisén</td>\n",
       "      <td>2021-08-19</td>\n",
       "      <td>33</td>\n",
       "      <td>DESCARTADA</td>\n",
       "      <td>NEGATIVO</td>\n",
       "      <td>NaN</td>\n",
       "      <td>NaN</td>\n",
       "      <td>2021-08-19</td>\n",
       "      <td>NaN</td>\n",
       "      <td>NaT</td>\n",
       "      <td>2021-08-20</td>\n",
       "      <td>NaT</td>\n",
       "      <td>NaT</td>\n",
       "      <td>Centro de Salud Familiar Puerto Aysen</td>\n",
       "      <td>Aysen</td>\n",
       "      <td>Aysen</td>\n",
       "      <td>12719</td>\n",
       "      <td>11240</td>\n",
       "      <td>23959</td>\n",
       "    </tr>\n",
       "    <tr>\n",
       "      <th>21942</th>\n",
       "      <td>16199507</td>\n",
       "      <td>Coyhaique</td>\n",
       "      <td>2021-08-20</td>\n",
       "      <td>33</td>\n",
       "      <td>DESCARTADA</td>\n",
       "      <td>NEGATIVO</td>\n",
       "      <td>NaN</td>\n",
       "      <td>NaN</td>\n",
       "      <td>2021-08-20</td>\n",
       "      <td>2021-08-20</td>\n",
       "      <td>NaT</td>\n",
       "      <td>2021-08-20</td>\n",
       "      <td>NaT</td>\n",
       "      <td>NaT</td>\n",
       "      <td>Hospital Regional (Coihaique)</td>\n",
       "      <td>Coyhaique</td>\n",
       "      <td>Coyhaique</td>\n",
       "      <td>28763</td>\n",
       "      <td>29055</td>\n",
       "      <td>57818</td>\n",
       "    </tr>\n",
       "    <tr>\n",
       "      <th>76441</th>\n",
       "      <td>16186463</td>\n",
       "      <td>Coyhaique</td>\n",
       "      <td>2021-08-19</td>\n",
       "      <td>33</td>\n",
       "      <td>DESCARTADA</td>\n",
       "      <td>NEGATIVO</td>\n",
       "      <td>NEGATIVO</td>\n",
       "      <td>NEGATIVO</td>\n",
       "      <td>2021-07-09</td>\n",
       "      <td>2021-08-07</td>\n",
       "      <td>2021-08-19</td>\n",
       "      <td>2021-07-10</td>\n",
       "      <td>2021-08-08</td>\n",
       "      <td>2021-08-20</td>\n",
       "      <td>Actividades gestionadas por la Dirección del S...</td>\n",
       "      <td>Coyhaique</td>\n",
       "      <td>Coyhaique</td>\n",
       "      <td>28763</td>\n",
       "      <td>29055</td>\n",
       "      <td>57818</td>\n",
       "    </tr>\n",
       "    <tr>\n",
       "      <th>109509</th>\n",
       "      <td>16108596</td>\n",
       "      <td>Aisén</td>\n",
       "      <td>2021-08-17</td>\n",
       "      <td>33</td>\n",
       "      <td>DESCARTADA</td>\n",
       "      <td>NEGATIVO</td>\n",
       "      <td>NEGATIVO</td>\n",
       "      <td>NaN</td>\n",
       "      <td>2021-08-17</td>\n",
       "      <td>2021-07-12</td>\n",
       "      <td>NaT</td>\n",
       "      <td>2021-08-18</td>\n",
       "      <td>2021-07-13</td>\n",
       "      <td>NaT</td>\n",
       "      <td>Centro de Salud Familiar Puerto Aysen</td>\n",
       "      <td>Aysen</td>\n",
       "      <td>Aysen</td>\n",
       "      <td>12719</td>\n",
       "      <td>11240</td>\n",
       "      <td>23959</td>\n",
       "    </tr>\n",
       "    <tr>\n",
       "      <th>21682</th>\n",
       "      <td>16074121</td>\n",
       "      <td>Coyhaique</td>\n",
       "      <td>2021-08-16</td>\n",
       "      <td>33</td>\n",
       "      <td>DESCARTADA</td>\n",
       "      <td>NaN</td>\n",
       "      <td>NEGATIVO</td>\n",
       "      <td>NaN</td>\n",
       "      <td>2021-08-16</td>\n",
       "      <td>2021-07-09</td>\n",
       "      <td>NaT</td>\n",
       "      <td>NaT</td>\n",
       "      <td>2021-07-10</td>\n",
       "      <td>NaT</td>\n",
       "      <td>Hospital Regional (Coihaique)</td>\n",
       "      <td>Coyhaique</td>\n",
       "      <td>Coyhaique</td>\n",
       "      <td>28763</td>\n",
       "      <td>29055</td>\n",
       "      <td>57818</td>\n",
       "    </tr>\n",
       "    <tr>\n",
       "      <th>109474</th>\n",
       "      <td>16097201</td>\n",
       "      <td>Aisén</td>\n",
       "      <td>2021-08-17</td>\n",
       "      <td>33</td>\n",
       "      <td>DESCARTADA</td>\n",
       "      <td>NEGATIVO</td>\n",
       "      <td>NEGATIVO</td>\n",
       "      <td>NaN</td>\n",
       "      <td>2021-07-23</td>\n",
       "      <td>2021-08-17</td>\n",
       "      <td>NaT</td>\n",
       "      <td>2021-07-23</td>\n",
       "      <td>2021-08-18</td>\n",
       "      <td>NaT</td>\n",
       "      <td>Centro de Salud Familiar Puerto Aysen</td>\n",
       "      <td>Aysen</td>\n",
       "      <td>Aysen</td>\n",
       "      <td>12719</td>\n",
       "      <td>11240</td>\n",
       "      <td>23959</td>\n",
       "    </tr>\n",
       "    <tr>\n",
       "      <th>109499</th>\n",
       "      <td>16107689</td>\n",
       "      <td>Aisén</td>\n",
       "      <td>2021-08-17</td>\n",
       "      <td>33</td>\n",
       "      <td>DESCARTADA</td>\n",
       "      <td>NEGATIVO</td>\n",
       "      <td>NEGATIVO</td>\n",
       "      <td>NaN</td>\n",
       "      <td>2021-08-17</td>\n",
       "      <td>2021-07-12</td>\n",
       "      <td>NaT</td>\n",
       "      <td>2021-08-17</td>\n",
       "      <td>2021-07-13</td>\n",
       "      <td>NaT</td>\n",
       "      <td>Centro de Salud Familiar Puerto Aysen</td>\n",
       "      <td>Aysen</td>\n",
       "      <td>Aysen</td>\n",
       "      <td>12719</td>\n",
       "      <td>11240</td>\n",
       "      <td>23959</td>\n",
       "    </tr>\n",
       "    <tr>\n",
       "      <th>118665</th>\n",
       "      <td>16168579</td>\n",
       "      <td>Aisén</td>\n",
       "      <td>2021-08-19</td>\n",
       "      <td>33</td>\n",
       "      <td>DESCARTADA</td>\n",
       "      <td>NEGATIVO</td>\n",
       "      <td>NaN</td>\n",
       "      <td>NaN</td>\n",
       "      <td>2021-08-19</td>\n",
       "      <td>NaN</td>\n",
       "      <td>NaT</td>\n",
       "      <td>2021-08-19</td>\n",
       "      <td>NaT</td>\n",
       "      <td>NaT</td>\n",
       "      <td>Hospital de Puerto Aysén</td>\n",
       "      <td>Aysen</td>\n",
       "      <td>Aysen</td>\n",
       "      <td>12719</td>\n",
       "      <td>11240</td>\n",
       "      <td>23959</td>\n",
       "    </tr>\n",
       "  </tbody>\n",
       "</table>\n",
       "</div>"
      ],
      "text/plain": [
       "        numero_folio comuna_residencia fecha_notificacion  \\\n",
       "129154      16239800       Chile Chico         2021-08-20   \n",
       "21737       16103239         Coyhaique         2021-08-17   \n",
       "109672      16182758             Aisén         2021-08-19   \n",
       "21942       16199507         Coyhaique         2021-08-20   \n",
       "76441       16186463         Coyhaique         2021-08-19   \n",
       "109509      16108596             Aisén         2021-08-17   \n",
       "21682       16074121         Coyhaique         2021-08-16   \n",
       "109474      16097201             Aisén         2021-08-17   \n",
       "109499      16107689             Aisén         2021-08-17   \n",
       "118665      16168579             Aisén         2021-08-19   \n",
       "\n",
       "        semana_epidemiologica etapa_clinica resultado_pcr_1 resultado_pcr_2  \\\n",
       "129154                     33    DESCARTADA        NEGATIVO        NEGATIVO   \n",
       "21737                      33    DESCARTADA             NaN             NaN   \n",
       "109672                     33    DESCARTADA        NEGATIVO             NaN   \n",
       "21942                      33    DESCARTADA        NEGATIVO             NaN   \n",
       "76441                      33    DESCARTADA        NEGATIVO        NEGATIVO   \n",
       "109509                     33    DESCARTADA        NEGATIVO        NEGATIVO   \n",
       "21682                      33    DESCARTADA             NaN        NEGATIVO   \n",
       "109474                     33    DESCARTADA        NEGATIVO        NEGATIVO   \n",
       "109499                     33    DESCARTADA        NEGATIVO        NEGATIVO   \n",
       "118665                     33    DESCARTADA        NEGATIVO             NaN   \n",
       "\n",
       "       resultado_pcr_3 fecha_toma_muestra_1 fecha_toma_muestra_2  \\\n",
       "129154             NaN           2021-07-21           2021-08-18   \n",
       "21737              NaN           2021-08-17                  NaN   \n",
       "109672             NaN           2021-08-19                  NaN   \n",
       "21942              NaN           2021-08-20           2021-08-20   \n",
       "76441         NEGATIVO           2021-07-09           2021-08-07   \n",
       "109509             NaN           2021-08-17           2021-07-12   \n",
       "21682              NaN           2021-08-16           2021-07-09   \n",
       "109474             NaN           2021-07-23           2021-08-17   \n",
       "109499             NaN           2021-08-17           2021-07-12   \n",
       "118665             NaN           2021-08-19                  NaN   \n",
       "\n",
       "       fecha_toma_muestra_3 fecha_resultado_pcr_1 fecha_resultado_pcr_2  \\\n",
       "129154                  NaT            2021-07-21            2021-08-21   \n",
       "21737                   NaT                   NaT                   NaT   \n",
       "109672                  NaT            2021-08-20                   NaT   \n",
       "21942                   NaT            2021-08-20                   NaT   \n",
       "76441            2021-08-19            2021-07-10            2021-08-08   \n",
       "109509                  NaT            2021-08-18            2021-07-13   \n",
       "21682                   NaT                   NaT            2021-07-10   \n",
       "109474                  NaT            2021-07-23            2021-08-18   \n",
       "109499                  NaT            2021-08-17            2021-07-13   \n",
       "118665                  NaT            2021-08-19                   NaT   \n",
       "\n",
       "       fecha_resultado_pcr_3  \\\n",
       "129154                   NaT   \n",
       "21737                    NaT   \n",
       "109672                   NaT   \n",
       "21942                    NaT   \n",
       "76441             2021-08-20   \n",
       "109509                   NaT   \n",
       "21682                    NaT   \n",
       "109474                   NaT   \n",
       "109499                   NaT   \n",
       "118665                   NaT   \n",
       "\n",
       "                                    establecimiento_salud comuna_seremi_xi  \\\n",
       "129154      Hospital Dr. Leopoldo Ortega R. (Chile Chico)      Chile Chico   \n",
       "21737                       Hospital Regional (Coihaique)        Coyhaique   \n",
       "109672              Centro de Salud Familiar Puerto Aysen            Aysen   \n",
       "21942                       Hospital Regional (Coihaique)        Coyhaique   \n",
       "76441   Actividades gestionadas por la Dirección del S...        Coyhaique   \n",
       "109509              Centro de Salud Familiar Puerto Aysen            Aysen   \n",
       "21682                       Hospital Regional (Coihaique)        Coyhaique   \n",
       "109474              Centro de Salud Familiar Puerto Aysen            Aysen   \n",
       "109499              Centro de Salud Familiar Puerto Aysen            Aysen   \n",
       "118665                           Hospital de Puerto Aysén            Aysen   \n",
       "\n",
       "       provincia_seremi_xi  pop_hombres  pop_mujeres  pop_total  \n",
       "129154     General Carrera         2577         2288       4865  \n",
       "21737            Coyhaique        28763        29055      57818  \n",
       "109672               Aysen        12719        11240      23959  \n",
       "21942            Coyhaique        28763        29055      57818  \n",
       "76441            Coyhaique        28763        29055      57818  \n",
       "109509               Aysen        12719        11240      23959  \n",
       "21682            Coyhaique        28763        29055      57818  \n",
       "109474               Aysen        12719        11240      23959  \n",
       "109499               Aysen        12719        11240      23959  \n",
       "118665               Aysen        12719        11240      23959  "
      ]
     },
     "execution_count": 12,
     "metadata": {},
     "output_type": "execute_result"
    }
   ],
   "source": [
    "semana_x = 33\n",
    "\n",
    "year = 2021\n",
    "\n",
    "# Filtra datos para semana_x y año (year)\n",
    "\n",
    "data_semx = data_aysen_clean[(data_aysen_clean['fecha_notificacion'].dt.year == year)&(data_aysen_clean['semana_epidemiologica']== semana_x)]\n",
    "\n",
    "data_semx.sample(10)"
   ]
  },
  {
   "cell_type": "code",
   "execution_count": 13,
   "id": "76216955",
   "metadata": {},
   "outputs": [
    {
     "name": "stderr",
     "output_type": "stream",
     "text": [
      "<ipython-input-13-d2f259f8832e>:7: SettingWithCopyWarning: \n",
      "A value is trying to be set on a copy of a slice from a DataFrame.\n",
      "Try using .loc[row_indexer,col_indexer] = value instead\n",
      "\n",
      "See the caveats in the documentation: https://pandas.pydata.org/pandas-docs/stable/user_guide/indexing.html#returning-a-view-versus-a-copy\n",
      "  data_aysen_clean1['semana_epidemiologica_21'] = data_aysen_clean1['semana_epidemiologica']\n",
      "<ipython-input-13-d2f259f8832e>:8: SettingWithCopyWarning: \n",
      "A value is trying to be set on a copy of a slice from a DataFrame.\n",
      "Try using .loc[row_indexer,col_indexer] = value instead\n",
      "\n",
      "See the caveats in the documentation: https://pandas.pydata.org/pandas-docs/stable/user_guide/indexing.html#returning-a-view-versus-a-copy\n",
      "  data_aysen_clean2['semana_epidemiologica_21'] = data_aysen_clean2['semana_epidemiologica']+53\n"
     ]
    }
   ],
   "source": [
    "# Agrega 53 semanas a las semanas de 2021 y crea semana_epidemiologica_21\n",
    "\n",
    "data_aysen_clean1 = data_aysen_clean[data_aysen_clean['fecha_notificacion']<=pd.to_datetime('2021-01-02')]\n",
    "data_aysen_clean2 = data_aysen_clean[data_aysen_clean['fecha_notificacion']>=pd.to_datetime('2021-01-03')]\n",
    "\n",
    "\n",
    "data_aysen_clean1['semana_epidemiologica_21'] = data_aysen_clean1['semana_epidemiologica']\n",
    "data_aysen_clean2['semana_epidemiologica_21'] = data_aysen_clean2['semana_epidemiologica']+53\n",
    "\n",
    "data_aysen_clean_21 = data_aysen_clean1.append(data_aysen_clean2, ignore_index=True)"
   ]
  },
  {
   "cell_type": "code",
   "execution_count": 17,
   "id": "338e1bc0",
   "metadata": {},
   "outputs": [
    {
     "data": {
      "text/plain": [
       "0         2020\n",
       "1         2020\n",
       "2         2020\n",
       "3         2020\n",
       "4         2020\n",
       "          ... \n",
       "125139    2021\n",
       "125140    2021\n",
       "125141    2021\n",
       "125142    2021\n",
       "125143    2021\n",
       "Name: year, Length: 125144, dtype: int64"
      ]
     },
     "execution_count": 17,
     "metadata": {},
     "output_type": "execute_result"
    }
   ],
   "source": [
    "data_aysen_clean_21['year'] = data_aysen_clean_21['fecha_notificacion'].dt.year\n",
    "\n",
    "data_aysen_clean_21['year']"
   ]
  },
  {
   "cell_type": "code",
   "execution_count": 18,
   "id": "3ace1516",
   "metadata": {
    "scrolled": true
   },
   "outputs": [
    {
     "data": {
      "text/html": [
       "<div>\n",
       "<style scoped>\n",
       "    .dataframe tbody tr th:only-of-type {\n",
       "        vertical-align: middle;\n",
       "    }\n",
       "\n",
       "    .dataframe tbody tr th {\n",
       "        vertical-align: top;\n",
       "    }\n",
       "\n",
       "    .dataframe thead th {\n",
       "        text-align: right;\n",
       "    }\n",
       "</style>\n",
       "<table border=\"1\" class=\"dataframe\">\n",
       "  <thead>\n",
       "    <tr style=\"text-align: right;\">\n",
       "      <th></th>\n",
       "      <th>semana_epidemiologica_21</th>\n",
       "      <th>etapa_clinica</th>\n",
       "      <th>year</th>\n",
       "      <th>casos</th>\n",
       "    </tr>\n",
       "  </thead>\n",
       "  <tbody>\n",
       "    <tr>\n",
       "      <th>0</th>\n",
       "      <td>10</td>\n",
       "      <td>DESCARTADA</td>\n",
       "      <td>2020</td>\n",
       "      <td>2</td>\n",
       "    </tr>\n",
       "    <tr>\n",
       "      <th>1</th>\n",
       "      <td>11</td>\n",
       "      <td>DESCARTADA</td>\n",
       "      <td>2020</td>\n",
       "      <td>9</td>\n",
       "    </tr>\n",
       "    <tr>\n",
       "      <th>2</th>\n",
       "      <td>12</td>\n",
       "      <td>CONFIRMADA</td>\n",
       "      <td>2020</td>\n",
       "      <td>1</td>\n",
       "    </tr>\n",
       "    <tr>\n",
       "      <th>3</th>\n",
       "      <td>12</td>\n",
       "      <td>DESCARTADA</td>\n",
       "      <td>2020</td>\n",
       "      <td>56</td>\n",
       "    </tr>\n",
       "    <tr>\n",
       "      <th>4</th>\n",
       "      <td>13</td>\n",
       "      <td>DESCARTADA</td>\n",
       "      <td>2020</td>\n",
       "      <td>70</td>\n",
       "    </tr>\n",
       "    <tr>\n",
       "      <th>...</th>\n",
       "      <td>...</td>\n",
       "      <td>...</td>\n",
       "      <td>...</td>\n",
       "      <td>...</td>\n",
       "    </tr>\n",
       "    <tr>\n",
       "      <th>206</th>\n",
       "      <td>87</td>\n",
       "      <td>BUSQUEDA A</td>\n",
       "      <td>2021</td>\n",
       "      <td>472</td>\n",
       "    </tr>\n",
       "    <tr>\n",
       "      <th>207</th>\n",
       "      <td>87</td>\n",
       "      <td>CONFIRMADA</td>\n",
       "      <td>2021</td>\n",
       "      <td>12</td>\n",
       "    </tr>\n",
       "    <tr>\n",
       "      <th>208</th>\n",
       "      <td>87</td>\n",
       "      <td>DESCARTADA</td>\n",
       "      <td>2021</td>\n",
       "      <td>1039</td>\n",
       "    </tr>\n",
       "    <tr>\n",
       "      <th>209</th>\n",
       "      <td>87</td>\n",
       "      <td>PROBABLE</td>\n",
       "      <td>2021</td>\n",
       "      <td>7</td>\n",
       "    </tr>\n",
       "    <tr>\n",
       "      <th>210</th>\n",
       "      <td>87</td>\n",
       "      <td>SOSPECHA</td>\n",
       "      <td>2021</td>\n",
       "      <td>141</td>\n",
       "    </tr>\n",
       "  </tbody>\n",
       "</table>\n",
       "<p>211 rows × 4 columns</p>\n",
       "</div>"
      ],
      "text/plain": [
       "     semana_epidemiologica_21 etapa_clinica  year  casos\n",
       "0                          10    DESCARTADA  2020      2\n",
       "1                          11    DESCARTADA  2020      9\n",
       "2                          12    CONFIRMADA  2020      1\n",
       "3                          12    DESCARTADA  2020     56\n",
       "4                          13    DESCARTADA  2020     70\n",
       "..                        ...           ...   ...    ...\n",
       "206                        87    BUSQUEDA A  2021    472\n",
       "207                        87    CONFIRMADA  2021     12\n",
       "208                        87    DESCARTADA  2021   1039\n",
       "209                        87      PROBABLE  2021      7\n",
       "210                        87      SOSPECHA  2021    141\n",
       "\n",
       "[211 rows x 4 columns]"
      ]
     },
     "execution_count": 18,
     "metadata": {},
     "output_type": "execute_result"
    }
   ],
   "source": [
    "df_etapa_clinica = data_aysen_clean_21.set_index('semana_epidemiologica_21').groupby(['semana_epidemiologica_21','etapa_clinica','year']).count()[['numero_folio']].rename(columns={'numero_folio':'casos'}).reset_index()                   \n",
    "\n",
    "df_etapa_clinica"
   ]
  },
  {
   "cell_type": "code",
   "execution_count": 142,
   "id": "f0a69711",
   "metadata": {},
   "outputs": [
    {
     "data": {
      "text/plain": [
       "[12,\n",
       " 16,\n",
       " 20,\n",
       " 24,\n",
       " 28,\n",
       " 32,\n",
       " 36,\n",
       " 40,\n",
       " 44,\n",
       " 48,\n",
       " 52,\n",
       " 1,\n",
       " 5,\n",
       " 9,\n",
       " 13,\n",
       " 17,\n",
       " 21,\n",
       " 25,\n",
       " 29,\n",
       " 33,\n",
       " 37,\n",
       " 41,\n",
       " 45,\n",
       " 49,\n",
       " 53,\n",
       " 57,\n",
       " 61,\n",
       " 65,\n",
       " 69,\n",
       " 73,\n",
       " 77,\n",
       " 81,\n",
       " 85]"
      ]
     },
     "execution_count": 142,
     "metadata": {},
     "output_type": "execute_result"
    }
   ],
   "source": [
    "list(range(12,54,4))+list(range(1,88,4))"
   ]
  },
  {
   "cell_type": "code",
   "execution_count": 194,
   "id": "64142d26",
   "metadata": {},
   "outputs": [
    {
     "data": {
      "application/vnd.plotly.v1+json": {
       "config": {
        "plotlyServerURL": "https://plot.ly"
       },
       "data": [
        {
         "alignmentgroup": "True",
         "hovertemplate": "Etapa Clínica=CONFIRMADA<br>semana_epidemiologica_21=%{x}<br>casos=%{y}<extra></extra>",
         "legendgroup": "CONFIRMADA",
         "marker": {
          "color": "#636efa"
         },
         "name": "CONFIRMADA",
         "offsetgroup": "CONFIRMADA",
         "orientation": "v",
         "showlegend": true,
         "textposition": "auto",
         "type": "bar",
         "x": [
          12,
          14,
          19,
          21,
          22,
          23,
          24,
          25,
          26,
          27,
          28,
          29,
          30,
          31,
          32,
          33,
          34,
          35,
          36,
          37,
          38,
          39,
          40,
          41,
          42,
          43,
          44,
          45,
          46,
          47,
          48,
          49,
          50,
          51,
          52,
          53,
          53,
          54,
          55,
          56,
          57,
          58,
          59,
          60,
          61,
          62,
          63,
          64,
          65,
          66,
          67,
          68,
          69,
          70,
          71,
          72,
          73,
          74,
          75,
          76,
          77,
          78,
          79,
          80,
          81,
          82,
          83,
          84,
          85,
          86,
          87
         ],
         "xaxis": "x",
         "y": [
          1,
          2,
          1,
          2,
          7,
          3,
          5,
          2,
          15,
          5,
          11,
          10,
          6,
          8,
          12,
          3,
          9,
          17,
          10,
          33,
          74,
          178,
          157,
          143,
          156,
          91,
          55,
          45,
          43,
          40,
          35,
          41,
          39,
          61,
          123,
          101,
          14,
          185,
          241,
          240,
          168,
          134,
          153,
          135,
          77,
          86,
          70,
          87,
          120,
          135,
          188,
          141,
          205,
          225,
          262,
          325,
          476,
          517,
          516,
          448,
          382,
          220,
          162,
          143,
          44,
          24,
          10,
          15,
          29,
          44,
          12
         ],
         "yaxis": "y"
        },
        {
         "alignmentgroup": "True",
         "hovertemplate": "Etapa Clínica=PROBABLE<br>semana_epidemiologica_21=%{x}<br>casos=%{y}<extra></extra>",
         "legendgroup": "PROBABLE",
         "marker": {
          "color": "#EF553B"
         },
         "name": "PROBABLE",
         "offsetgroup": "PROBABLE",
         "orientation": "v",
         "showlegend": true,
         "textposition": "auto",
         "type": "bar",
         "x": [
          40,
          41,
          42,
          43,
          44,
          45,
          46,
          47,
          48,
          49,
          50,
          51,
          52,
          53,
          53,
          54,
          55,
          56,
          57,
          58,
          59,
          60,
          61,
          62,
          63,
          64,
          65,
          66,
          67,
          68,
          69,
          70,
          71,
          72,
          73,
          74,
          75,
          76,
          77,
          78,
          79,
          80,
          81,
          82,
          84,
          85,
          86,
          87
         ],
         "xaxis": "x",
         "y": [
          2,
          22,
          21,
          17,
          19,
          15,
          3,
          6,
          6,
          6,
          4,
          15,
          9,
          19,
          7,
          47,
          71,
          68,
          79,
          32,
          26,
          27,
          27,
          21,
          30,
          21,
          30,
          20,
          21,
          25,
          27,
          47,
          58,
          45,
          97,
          83,
          82,
          82,
          71,
          27,
          29,
          24,
          6,
          6,
          2,
          4,
          19,
          7
         ],
         "yaxis": "y"
        }
       ],
       "layout": {
        "annotations": [
         {
          "font": {
           "family": "'Open Sans', verdana, arial, sans-serif",
           "size": 18
          },
          "showarrow": false,
          "text": "2020",
          "x": "50",
          "xanchor": "right",
          "xref": "x",
          "y": 1,
          "yanchor": "top",
          "yref": "y domain"
         },
         {
          "font": {
           "family": "'Open Sans', verdana, arial, sans-serif",
           "size": 18
          },
          "showarrow": false,
          "text": "2021",
          "x": "86",
          "xanchor": "right",
          "xref": "x",
          "y": 1,
          "yanchor": "top",
          "yref": "y domain"
         }
        ],
        "barmode": "relative",
        "legend": {
         "title": {
          "text": "Etapa Clínica"
         },
         "tracegroupgap": 0
        },
        "margin": {
         "t": 60
        },
        "shapes": [
         {
          "line": {
           "color": "gray",
           "dash": "dash",
           "width": 3
          },
          "type": "line",
          "x0": 53.5,
          "x1": 53.5,
          "xref": "x",
          "y0": 0,
          "y1": 1,
          "yref": "y domain"
         },
         {
          "line": {
           "width": 0
          },
          "opacity": 0,
          "type": "rect",
          "x0": "50",
          "x1": "50",
          "xref": "x",
          "y0": 0,
          "y1": 1,
          "yref": "y domain"
         },
         {
          "line": {
           "width": 0
          },
          "opacity": 0,
          "type": "rect",
          "x0": "84",
          "x1": "86",
          "xref": "x",
          "y0": 0,
          "y1": 1,
          "yref": "y domain"
         }
        ],
        "template": {
         "data": {
          "bar": [
           {
            "error_x": {
             "color": "rgb(36,36,36)"
            },
            "error_y": {
             "color": "rgb(36,36,36)"
            },
            "marker": {
             "line": {
              "color": "white",
              "width": 0.5
             }
            },
            "type": "bar"
           }
          ],
          "barpolar": [
           {
            "marker": {
             "line": {
              "color": "white",
              "width": 0.5
             }
            },
            "type": "barpolar"
           }
          ],
          "carpet": [
           {
            "aaxis": {
             "endlinecolor": "rgb(36,36,36)",
             "gridcolor": "white",
             "linecolor": "white",
             "minorgridcolor": "white",
             "startlinecolor": "rgb(36,36,36)"
            },
            "baxis": {
             "endlinecolor": "rgb(36,36,36)",
             "gridcolor": "white",
             "linecolor": "white",
             "minorgridcolor": "white",
             "startlinecolor": "rgb(36,36,36)"
            },
            "type": "carpet"
           }
          ],
          "choropleth": [
           {
            "colorbar": {
             "outlinewidth": 1,
             "tickcolor": "rgb(36,36,36)",
             "ticks": "outside"
            },
            "type": "choropleth"
           }
          ],
          "contour": [
           {
            "colorbar": {
             "outlinewidth": 1,
             "tickcolor": "rgb(36,36,36)",
             "ticks": "outside"
            },
            "colorscale": [
             [
              0,
              "#440154"
             ],
             [
              0.1111111111111111,
              "#482878"
             ],
             [
              0.2222222222222222,
              "#3e4989"
             ],
             [
              0.3333333333333333,
              "#31688e"
             ],
             [
              0.4444444444444444,
              "#26828e"
             ],
             [
              0.5555555555555556,
              "#1f9e89"
             ],
             [
              0.6666666666666666,
              "#35b779"
             ],
             [
              0.7777777777777778,
              "#6ece58"
             ],
             [
              0.8888888888888888,
              "#b5de2b"
             ],
             [
              1,
              "#fde725"
             ]
            ],
            "type": "contour"
           }
          ],
          "contourcarpet": [
           {
            "colorbar": {
             "outlinewidth": 1,
             "tickcolor": "rgb(36,36,36)",
             "ticks": "outside"
            },
            "type": "contourcarpet"
           }
          ],
          "heatmap": [
           {
            "colorbar": {
             "outlinewidth": 1,
             "tickcolor": "rgb(36,36,36)",
             "ticks": "outside"
            },
            "colorscale": [
             [
              0,
              "#440154"
             ],
             [
              0.1111111111111111,
              "#482878"
             ],
             [
              0.2222222222222222,
              "#3e4989"
             ],
             [
              0.3333333333333333,
              "#31688e"
             ],
             [
              0.4444444444444444,
              "#26828e"
             ],
             [
              0.5555555555555556,
              "#1f9e89"
             ],
             [
              0.6666666666666666,
              "#35b779"
             ],
             [
              0.7777777777777778,
              "#6ece58"
             ],
             [
              0.8888888888888888,
              "#b5de2b"
             ],
             [
              1,
              "#fde725"
             ]
            ],
            "type": "heatmap"
           }
          ],
          "heatmapgl": [
           {
            "colorbar": {
             "outlinewidth": 1,
             "tickcolor": "rgb(36,36,36)",
             "ticks": "outside"
            },
            "colorscale": [
             [
              0,
              "#440154"
             ],
             [
              0.1111111111111111,
              "#482878"
             ],
             [
              0.2222222222222222,
              "#3e4989"
             ],
             [
              0.3333333333333333,
              "#31688e"
             ],
             [
              0.4444444444444444,
              "#26828e"
             ],
             [
              0.5555555555555556,
              "#1f9e89"
             ],
             [
              0.6666666666666666,
              "#35b779"
             ],
             [
              0.7777777777777778,
              "#6ece58"
             ],
             [
              0.8888888888888888,
              "#b5de2b"
             ],
             [
              1,
              "#fde725"
             ]
            ],
            "type": "heatmapgl"
           }
          ],
          "histogram": [
           {
            "marker": {
             "line": {
              "color": "white",
              "width": 0.6
             }
            },
            "type": "histogram"
           }
          ],
          "histogram2d": [
           {
            "colorbar": {
             "outlinewidth": 1,
             "tickcolor": "rgb(36,36,36)",
             "ticks": "outside"
            },
            "colorscale": [
             [
              0,
              "#440154"
             ],
             [
              0.1111111111111111,
              "#482878"
             ],
             [
              0.2222222222222222,
              "#3e4989"
             ],
             [
              0.3333333333333333,
              "#31688e"
             ],
             [
              0.4444444444444444,
              "#26828e"
             ],
             [
              0.5555555555555556,
              "#1f9e89"
             ],
             [
              0.6666666666666666,
              "#35b779"
             ],
             [
              0.7777777777777778,
              "#6ece58"
             ],
             [
              0.8888888888888888,
              "#b5de2b"
             ],
             [
              1,
              "#fde725"
             ]
            ],
            "type": "histogram2d"
           }
          ],
          "histogram2dcontour": [
           {
            "colorbar": {
             "outlinewidth": 1,
             "tickcolor": "rgb(36,36,36)",
             "ticks": "outside"
            },
            "colorscale": [
             [
              0,
              "#440154"
             ],
             [
              0.1111111111111111,
              "#482878"
             ],
             [
              0.2222222222222222,
              "#3e4989"
             ],
             [
              0.3333333333333333,
              "#31688e"
             ],
             [
              0.4444444444444444,
              "#26828e"
             ],
             [
              0.5555555555555556,
              "#1f9e89"
             ],
             [
              0.6666666666666666,
              "#35b779"
             ],
             [
              0.7777777777777778,
              "#6ece58"
             ],
             [
              0.8888888888888888,
              "#b5de2b"
             ],
             [
              1,
              "#fde725"
             ]
            ],
            "type": "histogram2dcontour"
           }
          ],
          "mesh3d": [
           {
            "colorbar": {
             "outlinewidth": 1,
             "tickcolor": "rgb(36,36,36)",
             "ticks": "outside"
            },
            "type": "mesh3d"
           }
          ],
          "parcoords": [
           {
            "line": {
             "colorbar": {
              "outlinewidth": 1,
              "tickcolor": "rgb(36,36,36)",
              "ticks": "outside"
             }
            },
            "type": "parcoords"
           }
          ],
          "pie": [
           {
            "automargin": true,
            "type": "pie"
           }
          ],
          "scatter": [
           {
            "marker": {
             "colorbar": {
              "outlinewidth": 1,
              "tickcolor": "rgb(36,36,36)",
              "ticks": "outside"
             }
            },
            "type": "scatter"
           }
          ],
          "scatter3d": [
           {
            "line": {
             "colorbar": {
              "outlinewidth": 1,
              "tickcolor": "rgb(36,36,36)",
              "ticks": "outside"
             }
            },
            "marker": {
             "colorbar": {
              "outlinewidth": 1,
              "tickcolor": "rgb(36,36,36)",
              "ticks": "outside"
             }
            },
            "type": "scatter3d"
           }
          ],
          "scattercarpet": [
           {
            "marker": {
             "colorbar": {
              "outlinewidth": 1,
              "tickcolor": "rgb(36,36,36)",
              "ticks": "outside"
             }
            },
            "type": "scattercarpet"
           }
          ],
          "scattergeo": [
           {
            "marker": {
             "colorbar": {
              "outlinewidth": 1,
              "tickcolor": "rgb(36,36,36)",
              "ticks": "outside"
             }
            },
            "type": "scattergeo"
           }
          ],
          "scattergl": [
           {
            "marker": {
             "colorbar": {
              "outlinewidth": 1,
              "tickcolor": "rgb(36,36,36)",
              "ticks": "outside"
             }
            },
            "type": "scattergl"
           }
          ],
          "scattermapbox": [
           {
            "marker": {
             "colorbar": {
              "outlinewidth": 1,
              "tickcolor": "rgb(36,36,36)",
              "ticks": "outside"
             }
            },
            "type": "scattermapbox"
           }
          ],
          "scatterpolar": [
           {
            "marker": {
             "colorbar": {
              "outlinewidth": 1,
              "tickcolor": "rgb(36,36,36)",
              "ticks": "outside"
             }
            },
            "type": "scatterpolar"
           }
          ],
          "scatterpolargl": [
           {
            "marker": {
             "colorbar": {
              "outlinewidth": 1,
              "tickcolor": "rgb(36,36,36)",
              "ticks": "outside"
             }
            },
            "type": "scatterpolargl"
           }
          ],
          "scatterternary": [
           {
            "marker": {
             "colorbar": {
              "outlinewidth": 1,
              "tickcolor": "rgb(36,36,36)",
              "ticks": "outside"
             }
            },
            "type": "scatterternary"
           }
          ],
          "surface": [
           {
            "colorbar": {
             "outlinewidth": 1,
             "tickcolor": "rgb(36,36,36)",
             "ticks": "outside"
            },
            "colorscale": [
             [
              0,
              "#440154"
             ],
             [
              0.1111111111111111,
              "#482878"
             ],
             [
              0.2222222222222222,
              "#3e4989"
             ],
             [
              0.3333333333333333,
              "#31688e"
             ],
             [
              0.4444444444444444,
              "#26828e"
             ],
             [
              0.5555555555555556,
              "#1f9e89"
             ],
             [
              0.6666666666666666,
              "#35b779"
             ],
             [
              0.7777777777777778,
              "#6ece58"
             ],
             [
              0.8888888888888888,
              "#b5de2b"
             ],
             [
              1,
              "#fde725"
             ]
            ],
            "type": "surface"
           }
          ],
          "table": [
           {
            "cells": {
             "fill": {
              "color": "rgb(237,237,237)"
             },
             "line": {
              "color": "white"
             }
            },
            "header": {
             "fill": {
              "color": "rgb(217,217,217)"
             },
             "line": {
              "color": "white"
             }
            },
            "type": "table"
           }
          ]
         },
         "layout": {
          "annotationdefaults": {
           "arrowhead": 0,
           "arrowwidth": 1
          },
          "autotypenumbers": "strict",
          "coloraxis": {
           "colorbar": {
            "outlinewidth": 1,
            "tickcolor": "rgb(36,36,36)",
            "ticks": "outside"
           }
          },
          "colorscale": {
           "diverging": [
            [
             0,
             "rgb(103,0,31)"
            ],
            [
             0.1,
             "rgb(178,24,43)"
            ],
            [
             0.2,
             "rgb(214,96,77)"
            ],
            [
             0.3,
             "rgb(244,165,130)"
            ],
            [
             0.4,
             "rgb(253,219,199)"
            ],
            [
             0.5,
             "rgb(247,247,247)"
            ],
            [
             0.6,
             "rgb(209,229,240)"
            ],
            [
             0.7,
             "rgb(146,197,222)"
            ],
            [
             0.8,
             "rgb(67,147,195)"
            ],
            [
             0.9,
             "rgb(33,102,172)"
            ],
            [
             1,
             "rgb(5,48,97)"
            ]
           ],
           "sequential": [
            [
             0,
             "#440154"
            ],
            [
             0.1111111111111111,
             "#482878"
            ],
            [
             0.2222222222222222,
             "#3e4989"
            ],
            [
             0.3333333333333333,
             "#31688e"
            ],
            [
             0.4444444444444444,
             "#26828e"
            ],
            [
             0.5555555555555556,
             "#1f9e89"
            ],
            [
             0.6666666666666666,
             "#35b779"
            ],
            [
             0.7777777777777778,
             "#6ece58"
            ],
            [
             0.8888888888888888,
             "#b5de2b"
            ],
            [
             1,
             "#fde725"
            ]
           ],
           "sequentialminus": [
            [
             0,
             "#440154"
            ],
            [
             0.1111111111111111,
             "#482878"
            ],
            [
             0.2222222222222222,
             "#3e4989"
            ],
            [
             0.3333333333333333,
             "#31688e"
            ],
            [
             0.4444444444444444,
             "#26828e"
            ],
            [
             0.5555555555555556,
             "#1f9e89"
            ],
            [
             0.6666666666666666,
             "#35b779"
            ],
            [
             0.7777777777777778,
             "#6ece58"
            ],
            [
             0.8888888888888888,
             "#b5de2b"
            ],
            [
             1,
             "#fde725"
            ]
           ]
          },
          "colorway": [
           "#1F77B4",
           "#FF7F0E",
           "#2CA02C",
           "#D62728",
           "#9467BD",
           "#8C564B",
           "#E377C2",
           "#7F7F7F",
           "#BCBD22",
           "#17BECF"
          ],
          "font": {
           "color": "rgb(36,36,36)"
          },
          "geo": {
           "bgcolor": "white",
           "lakecolor": "white",
           "landcolor": "white",
           "showlakes": true,
           "showland": true,
           "subunitcolor": "white"
          },
          "hoverlabel": {
           "align": "left"
          },
          "hovermode": "closest",
          "mapbox": {
           "style": "light"
          },
          "paper_bgcolor": "white",
          "plot_bgcolor": "white",
          "polar": {
           "angularaxis": {
            "gridcolor": "rgb(232,232,232)",
            "linecolor": "rgb(36,36,36)",
            "showgrid": false,
            "showline": true,
            "ticks": "outside"
           },
           "bgcolor": "white",
           "radialaxis": {
            "gridcolor": "rgb(232,232,232)",
            "linecolor": "rgb(36,36,36)",
            "showgrid": false,
            "showline": true,
            "ticks": "outside"
           }
          },
          "scene": {
           "xaxis": {
            "backgroundcolor": "white",
            "gridcolor": "rgb(232,232,232)",
            "gridwidth": 2,
            "linecolor": "rgb(36,36,36)",
            "showbackground": true,
            "showgrid": false,
            "showline": true,
            "ticks": "outside",
            "zeroline": false,
            "zerolinecolor": "rgb(36,36,36)"
           },
           "yaxis": {
            "backgroundcolor": "white",
            "gridcolor": "rgb(232,232,232)",
            "gridwidth": 2,
            "linecolor": "rgb(36,36,36)",
            "showbackground": true,
            "showgrid": false,
            "showline": true,
            "ticks": "outside",
            "zeroline": false,
            "zerolinecolor": "rgb(36,36,36)"
           },
           "zaxis": {
            "backgroundcolor": "white",
            "gridcolor": "rgb(232,232,232)",
            "gridwidth": 2,
            "linecolor": "rgb(36,36,36)",
            "showbackground": true,
            "showgrid": false,
            "showline": true,
            "ticks": "outside",
            "zeroline": false,
            "zerolinecolor": "rgb(36,36,36)"
           }
          },
          "shapedefaults": {
           "fillcolor": "black",
           "line": {
            "width": 0
           },
           "opacity": 0.3
          },
          "ternary": {
           "aaxis": {
            "gridcolor": "rgb(232,232,232)",
            "linecolor": "rgb(36,36,36)",
            "showgrid": false,
            "showline": true,
            "ticks": "outside"
           },
           "baxis": {
            "gridcolor": "rgb(232,232,232)",
            "linecolor": "rgb(36,36,36)",
            "showgrid": false,
            "showline": true,
            "ticks": "outside"
           },
           "bgcolor": "white",
           "caxis": {
            "gridcolor": "rgb(232,232,232)",
            "linecolor": "rgb(36,36,36)",
            "showgrid": false,
            "showline": true,
            "ticks": "outside"
           }
          },
          "title": {
           "x": 0.05
          },
          "xaxis": {
           "automargin": true,
           "gridcolor": "rgb(232,232,232)",
           "linecolor": "rgb(36,36,36)",
           "showgrid": false,
           "showline": true,
           "ticks": "outside",
           "title": {
            "standoff": 15
           },
           "zeroline": false,
           "zerolinecolor": "rgb(36,36,36)"
          },
          "yaxis": {
           "automargin": true,
           "gridcolor": "rgb(232,232,232)",
           "linecolor": "rgb(36,36,36)",
           "showgrid": false,
           "showline": true,
           "ticks": "outside",
           "title": {
            "standoff": 15
           },
           "zeroline": false,
           "zerolinecolor": "rgb(36,36,36)"
          }
         }
        },
        "title": {
         "text": "Casos Confirmados y Probables de la Región de Aysén"
        },
        "xaxis": {
         "anchor": "y",
         "domain": [
          0,
          1
         ],
         "tickmode": "array",
         "ticktext": [
          12,
          15,
          18,
          21,
          24,
          27,
          30,
          33,
          36,
          39,
          42,
          45,
          48,
          51,
          1,
          4,
          7,
          10,
          13,
          16,
          19,
          22,
          25,
          28,
          31,
          34,
          37,
          40,
          43,
          46,
          49,
          52,
          55,
          58,
          61,
          64,
          67,
          70,
          73,
          76,
          79,
          82,
          85
         ],
         "tickvals": [
          12,
          15,
          18,
          21,
          24,
          27,
          30,
          33,
          36,
          39,
          42,
          45,
          48,
          51,
          54,
          57,
          60,
          63,
          66,
          69,
          72,
          75,
          78,
          81,
          84,
          87
         ],
         "title": {
          "text": "Semana epidemiológica"
         }
        },
        "yaxis": {
         "anchor": "x",
         "domain": [
          0,
          1
         ],
         "title": {
          "text": "Número de casos"
         }
        }
       }
      },
      "text/html": [
       "<div>                            <div id=\"fe18cf1a-c283-428b-97b0-251ffc9a12c3\" class=\"plotly-graph-div\" style=\"height:525px; width:100%;\"></div>            <script type=\"text/javascript\">                require([\"plotly\"], function(Plotly) {                    window.PLOTLYENV=window.PLOTLYENV || {};                                    if (document.getElementById(\"fe18cf1a-c283-428b-97b0-251ffc9a12c3\")) {                    Plotly.newPlot(                        \"fe18cf1a-c283-428b-97b0-251ffc9a12c3\",                        [{\"alignmentgroup\": \"True\", \"hovertemplate\": \"Etapa Cl\\u00ednica=CONFIRMADA<br>semana_epidemiologica_21=%{x}<br>casos=%{y}<extra></extra>\", \"legendgroup\": \"CONFIRMADA\", \"marker\": {\"color\": \"#636efa\"}, \"name\": \"CONFIRMADA\", \"offsetgroup\": \"CONFIRMADA\", \"orientation\": \"v\", \"showlegend\": true, \"textposition\": \"auto\", \"type\": \"bar\", \"x\": [12, 14, 19, 21, 22, 23, 24, 25, 26, 27, 28, 29, 30, 31, 32, 33, 34, 35, 36, 37, 38, 39, 40, 41, 42, 43, 44, 45, 46, 47, 48, 49, 50, 51, 52, 53, 53, 54, 55, 56, 57, 58, 59, 60, 61, 62, 63, 64, 65, 66, 67, 68, 69, 70, 71, 72, 73, 74, 75, 76, 77, 78, 79, 80, 81, 82, 83, 84, 85, 86, 87], \"xaxis\": \"x\", \"y\": [1, 2, 1, 2, 7, 3, 5, 2, 15, 5, 11, 10, 6, 8, 12, 3, 9, 17, 10, 33, 74, 178, 157, 143, 156, 91, 55, 45, 43, 40, 35, 41, 39, 61, 123, 101, 14, 185, 241, 240, 168, 134, 153, 135, 77, 86, 70, 87, 120, 135, 188, 141, 205, 225, 262, 325, 476, 517, 516, 448, 382, 220, 162, 143, 44, 24, 10, 15, 29, 44, 12], \"yaxis\": \"y\"}, {\"alignmentgroup\": \"True\", \"hovertemplate\": \"Etapa Cl\\u00ednica=PROBABLE<br>semana_epidemiologica_21=%{x}<br>casos=%{y}<extra></extra>\", \"legendgroup\": \"PROBABLE\", \"marker\": {\"color\": \"#EF553B\"}, \"name\": \"PROBABLE\", \"offsetgroup\": \"PROBABLE\", \"orientation\": \"v\", \"showlegend\": true, \"textposition\": \"auto\", \"type\": \"bar\", \"x\": [40, 41, 42, 43, 44, 45, 46, 47, 48, 49, 50, 51, 52, 53, 53, 54, 55, 56, 57, 58, 59, 60, 61, 62, 63, 64, 65, 66, 67, 68, 69, 70, 71, 72, 73, 74, 75, 76, 77, 78, 79, 80, 81, 82, 84, 85, 86, 87], \"xaxis\": \"x\", \"y\": [2, 22, 21, 17, 19, 15, 3, 6, 6, 6, 4, 15, 9, 19, 7, 47, 71, 68, 79, 32, 26, 27, 27, 21, 30, 21, 30, 20, 21, 25, 27, 47, 58, 45, 97, 83, 82, 82, 71, 27, 29, 24, 6, 6, 2, 4, 19, 7], \"yaxis\": \"y\"}],                        {\"annotations\": [{\"font\": {\"family\": \"'Open Sans', verdana, arial, sans-serif\", \"size\": 18}, \"showarrow\": false, \"text\": \"2020\", \"x\": \"50\", \"xanchor\": \"right\", \"xref\": \"x\", \"y\": 1, \"yanchor\": \"top\", \"yref\": \"y domain\"}, {\"font\": {\"family\": \"'Open Sans', verdana, arial, sans-serif\", \"size\": 18}, \"showarrow\": false, \"text\": \"2021\", \"x\": \"86\", \"xanchor\": \"right\", \"xref\": \"x\", \"y\": 1, \"yanchor\": \"top\", \"yref\": \"y domain\"}], \"barmode\": \"relative\", \"legend\": {\"title\": {\"text\": \"Etapa Cl\\u00ednica\"}, \"tracegroupgap\": 0}, \"margin\": {\"t\": 60}, \"shapes\": [{\"line\": {\"color\": \"gray\", \"dash\": \"dash\", \"width\": 3}, \"type\": \"line\", \"x0\": 53.5, \"x1\": 53.5, \"xref\": \"x\", \"y0\": 0, \"y1\": 1, \"yref\": \"y domain\"}, {\"line\": {\"width\": 0}, \"opacity\": 0, \"type\": \"rect\", \"x0\": \"50\", \"x1\": \"50\", \"xref\": \"x\", \"y0\": 0, \"y1\": 1, \"yref\": \"y domain\"}, {\"line\": {\"width\": 0}, \"opacity\": 0, \"type\": \"rect\", \"x0\": \"84\", \"x1\": \"86\", \"xref\": \"x\", \"y0\": 0, \"y1\": 1, \"yref\": \"y domain\"}], \"template\": {\"data\": {\"bar\": [{\"error_x\": {\"color\": \"rgb(36,36,36)\"}, \"error_y\": {\"color\": \"rgb(36,36,36)\"}, \"marker\": {\"line\": {\"color\": \"white\", \"width\": 0.5}}, \"type\": \"bar\"}], \"barpolar\": [{\"marker\": {\"line\": {\"color\": \"white\", \"width\": 0.5}}, \"type\": \"barpolar\"}], \"carpet\": [{\"aaxis\": {\"endlinecolor\": \"rgb(36,36,36)\", \"gridcolor\": \"white\", \"linecolor\": \"white\", \"minorgridcolor\": \"white\", \"startlinecolor\": \"rgb(36,36,36)\"}, \"baxis\": {\"endlinecolor\": \"rgb(36,36,36)\", \"gridcolor\": \"white\", \"linecolor\": \"white\", \"minorgridcolor\": \"white\", \"startlinecolor\": \"rgb(36,36,36)\"}, \"type\": \"carpet\"}], \"choropleth\": [{\"colorbar\": {\"outlinewidth\": 1, \"tickcolor\": \"rgb(36,36,36)\", \"ticks\": \"outside\"}, \"type\": \"choropleth\"}], \"contour\": [{\"colorbar\": {\"outlinewidth\": 1, \"tickcolor\": \"rgb(36,36,36)\", \"ticks\": \"outside\"}, \"colorscale\": [[0.0, \"#440154\"], [0.1111111111111111, \"#482878\"], [0.2222222222222222, \"#3e4989\"], [0.3333333333333333, \"#31688e\"], [0.4444444444444444, \"#26828e\"], [0.5555555555555556, \"#1f9e89\"], [0.6666666666666666, \"#35b779\"], [0.7777777777777778, \"#6ece58\"], [0.8888888888888888, \"#b5de2b\"], [1.0, \"#fde725\"]], \"type\": \"contour\"}], \"contourcarpet\": [{\"colorbar\": {\"outlinewidth\": 1, \"tickcolor\": \"rgb(36,36,36)\", \"ticks\": \"outside\"}, \"type\": \"contourcarpet\"}], \"heatmap\": [{\"colorbar\": {\"outlinewidth\": 1, \"tickcolor\": \"rgb(36,36,36)\", \"ticks\": \"outside\"}, \"colorscale\": [[0.0, \"#440154\"], [0.1111111111111111, \"#482878\"], [0.2222222222222222, \"#3e4989\"], [0.3333333333333333, \"#31688e\"], [0.4444444444444444, \"#26828e\"], [0.5555555555555556, \"#1f9e89\"], [0.6666666666666666, \"#35b779\"], [0.7777777777777778, \"#6ece58\"], [0.8888888888888888, \"#b5de2b\"], [1.0, \"#fde725\"]], \"type\": \"heatmap\"}], \"heatmapgl\": [{\"colorbar\": {\"outlinewidth\": 1, \"tickcolor\": \"rgb(36,36,36)\", \"ticks\": \"outside\"}, \"colorscale\": [[0.0, \"#440154\"], [0.1111111111111111, \"#482878\"], [0.2222222222222222, \"#3e4989\"], [0.3333333333333333, \"#31688e\"], [0.4444444444444444, \"#26828e\"], [0.5555555555555556, \"#1f9e89\"], [0.6666666666666666, \"#35b779\"], [0.7777777777777778, \"#6ece58\"], [0.8888888888888888, \"#b5de2b\"], [1.0, \"#fde725\"]], \"type\": \"heatmapgl\"}], \"histogram\": [{\"marker\": {\"line\": {\"color\": \"white\", \"width\": 0.6}}, \"type\": \"histogram\"}], \"histogram2d\": [{\"colorbar\": {\"outlinewidth\": 1, \"tickcolor\": \"rgb(36,36,36)\", \"ticks\": \"outside\"}, \"colorscale\": [[0.0, \"#440154\"], [0.1111111111111111, \"#482878\"], [0.2222222222222222, \"#3e4989\"], [0.3333333333333333, \"#31688e\"], [0.4444444444444444, \"#26828e\"], [0.5555555555555556, \"#1f9e89\"], [0.6666666666666666, \"#35b779\"], [0.7777777777777778, \"#6ece58\"], [0.8888888888888888, \"#b5de2b\"], [1.0, \"#fde725\"]], \"type\": \"histogram2d\"}], \"histogram2dcontour\": [{\"colorbar\": {\"outlinewidth\": 1, \"tickcolor\": \"rgb(36,36,36)\", \"ticks\": \"outside\"}, \"colorscale\": [[0.0, \"#440154\"], [0.1111111111111111, \"#482878\"], [0.2222222222222222, \"#3e4989\"], [0.3333333333333333, \"#31688e\"], [0.4444444444444444, \"#26828e\"], [0.5555555555555556, \"#1f9e89\"], [0.6666666666666666, \"#35b779\"], [0.7777777777777778, \"#6ece58\"], [0.8888888888888888, \"#b5de2b\"], [1.0, \"#fde725\"]], \"type\": \"histogram2dcontour\"}], \"mesh3d\": [{\"colorbar\": {\"outlinewidth\": 1, \"tickcolor\": \"rgb(36,36,36)\", \"ticks\": \"outside\"}, \"type\": \"mesh3d\"}], \"parcoords\": [{\"line\": {\"colorbar\": {\"outlinewidth\": 1, \"tickcolor\": \"rgb(36,36,36)\", \"ticks\": \"outside\"}}, \"type\": \"parcoords\"}], \"pie\": [{\"automargin\": true, \"type\": \"pie\"}], \"scatter\": [{\"marker\": {\"colorbar\": {\"outlinewidth\": 1, \"tickcolor\": \"rgb(36,36,36)\", \"ticks\": \"outside\"}}, \"type\": \"scatter\"}], \"scatter3d\": [{\"line\": {\"colorbar\": {\"outlinewidth\": 1, \"tickcolor\": \"rgb(36,36,36)\", \"ticks\": \"outside\"}}, \"marker\": {\"colorbar\": {\"outlinewidth\": 1, \"tickcolor\": \"rgb(36,36,36)\", \"ticks\": \"outside\"}}, \"type\": \"scatter3d\"}], \"scattercarpet\": [{\"marker\": {\"colorbar\": {\"outlinewidth\": 1, \"tickcolor\": \"rgb(36,36,36)\", \"ticks\": \"outside\"}}, \"type\": \"scattercarpet\"}], \"scattergeo\": [{\"marker\": {\"colorbar\": {\"outlinewidth\": 1, \"tickcolor\": \"rgb(36,36,36)\", \"ticks\": \"outside\"}}, \"type\": \"scattergeo\"}], \"scattergl\": [{\"marker\": {\"colorbar\": {\"outlinewidth\": 1, \"tickcolor\": \"rgb(36,36,36)\", \"ticks\": \"outside\"}}, \"type\": \"scattergl\"}], \"scattermapbox\": [{\"marker\": {\"colorbar\": {\"outlinewidth\": 1, \"tickcolor\": \"rgb(36,36,36)\", \"ticks\": \"outside\"}}, \"type\": \"scattermapbox\"}], \"scatterpolar\": [{\"marker\": {\"colorbar\": {\"outlinewidth\": 1, \"tickcolor\": \"rgb(36,36,36)\", \"ticks\": \"outside\"}}, \"type\": \"scatterpolar\"}], \"scatterpolargl\": [{\"marker\": {\"colorbar\": {\"outlinewidth\": 1, \"tickcolor\": \"rgb(36,36,36)\", \"ticks\": \"outside\"}}, \"type\": \"scatterpolargl\"}], \"scatterternary\": [{\"marker\": {\"colorbar\": {\"outlinewidth\": 1, \"tickcolor\": \"rgb(36,36,36)\", \"ticks\": \"outside\"}}, \"type\": \"scatterternary\"}], \"surface\": [{\"colorbar\": {\"outlinewidth\": 1, \"tickcolor\": \"rgb(36,36,36)\", \"ticks\": \"outside\"}, \"colorscale\": [[0.0, \"#440154\"], [0.1111111111111111, \"#482878\"], [0.2222222222222222, \"#3e4989\"], [0.3333333333333333, \"#31688e\"], [0.4444444444444444, \"#26828e\"], [0.5555555555555556, \"#1f9e89\"], [0.6666666666666666, \"#35b779\"], [0.7777777777777778, \"#6ece58\"], [0.8888888888888888, \"#b5de2b\"], [1.0, \"#fde725\"]], \"type\": \"surface\"}], \"table\": [{\"cells\": {\"fill\": {\"color\": \"rgb(237,237,237)\"}, \"line\": {\"color\": \"white\"}}, \"header\": {\"fill\": {\"color\": \"rgb(217,217,217)\"}, \"line\": {\"color\": \"white\"}}, \"type\": \"table\"}]}, \"layout\": {\"annotationdefaults\": {\"arrowhead\": 0, \"arrowwidth\": 1}, \"autotypenumbers\": \"strict\", \"coloraxis\": {\"colorbar\": {\"outlinewidth\": 1, \"tickcolor\": \"rgb(36,36,36)\", \"ticks\": \"outside\"}}, \"colorscale\": {\"diverging\": [[0.0, \"rgb(103,0,31)\"], [0.1, \"rgb(178,24,43)\"], [0.2, \"rgb(214,96,77)\"], [0.3, \"rgb(244,165,130)\"], [0.4, \"rgb(253,219,199)\"], [0.5, \"rgb(247,247,247)\"], [0.6, \"rgb(209,229,240)\"], [0.7, \"rgb(146,197,222)\"], [0.8, \"rgb(67,147,195)\"], [0.9, \"rgb(33,102,172)\"], [1.0, \"rgb(5,48,97)\"]], \"sequential\": [[0.0, \"#440154\"], [0.1111111111111111, \"#482878\"], [0.2222222222222222, \"#3e4989\"], [0.3333333333333333, \"#31688e\"], [0.4444444444444444, \"#26828e\"], [0.5555555555555556, \"#1f9e89\"], [0.6666666666666666, \"#35b779\"], [0.7777777777777778, \"#6ece58\"], [0.8888888888888888, \"#b5de2b\"], [1.0, \"#fde725\"]], \"sequentialminus\": [[0.0, \"#440154\"], [0.1111111111111111, \"#482878\"], [0.2222222222222222, \"#3e4989\"], [0.3333333333333333, \"#31688e\"], [0.4444444444444444, \"#26828e\"], [0.5555555555555556, \"#1f9e89\"], [0.6666666666666666, \"#35b779\"], [0.7777777777777778, \"#6ece58\"], [0.8888888888888888, \"#b5de2b\"], [1.0, \"#fde725\"]]}, \"colorway\": [\"#1F77B4\", \"#FF7F0E\", \"#2CA02C\", \"#D62728\", \"#9467BD\", \"#8C564B\", \"#E377C2\", \"#7F7F7F\", \"#BCBD22\", \"#17BECF\"], \"font\": {\"color\": \"rgb(36,36,36)\"}, \"geo\": {\"bgcolor\": \"white\", \"lakecolor\": \"white\", \"landcolor\": \"white\", \"showlakes\": true, \"showland\": true, \"subunitcolor\": \"white\"}, \"hoverlabel\": {\"align\": \"left\"}, \"hovermode\": \"closest\", \"mapbox\": {\"style\": \"light\"}, \"paper_bgcolor\": \"white\", \"plot_bgcolor\": \"white\", \"polar\": {\"angularaxis\": {\"gridcolor\": \"rgb(232,232,232)\", \"linecolor\": \"rgb(36,36,36)\", \"showgrid\": false, \"showline\": true, \"ticks\": \"outside\"}, \"bgcolor\": \"white\", \"radialaxis\": {\"gridcolor\": \"rgb(232,232,232)\", \"linecolor\": \"rgb(36,36,36)\", \"showgrid\": false, \"showline\": true, \"ticks\": \"outside\"}}, \"scene\": {\"xaxis\": {\"backgroundcolor\": \"white\", \"gridcolor\": \"rgb(232,232,232)\", \"gridwidth\": 2, \"linecolor\": \"rgb(36,36,36)\", \"showbackground\": true, \"showgrid\": false, \"showline\": true, \"ticks\": \"outside\", \"zeroline\": false, \"zerolinecolor\": \"rgb(36,36,36)\"}, \"yaxis\": {\"backgroundcolor\": \"white\", \"gridcolor\": \"rgb(232,232,232)\", \"gridwidth\": 2, \"linecolor\": \"rgb(36,36,36)\", \"showbackground\": true, \"showgrid\": false, \"showline\": true, \"ticks\": \"outside\", \"zeroline\": false, \"zerolinecolor\": \"rgb(36,36,36)\"}, \"zaxis\": {\"backgroundcolor\": \"white\", \"gridcolor\": \"rgb(232,232,232)\", \"gridwidth\": 2, \"linecolor\": \"rgb(36,36,36)\", \"showbackground\": true, \"showgrid\": false, \"showline\": true, \"ticks\": \"outside\", \"zeroline\": false, \"zerolinecolor\": \"rgb(36,36,36)\"}}, \"shapedefaults\": {\"fillcolor\": \"black\", \"line\": {\"width\": 0}, \"opacity\": 0.3}, \"ternary\": {\"aaxis\": {\"gridcolor\": \"rgb(232,232,232)\", \"linecolor\": \"rgb(36,36,36)\", \"showgrid\": false, \"showline\": true, \"ticks\": \"outside\"}, \"baxis\": {\"gridcolor\": \"rgb(232,232,232)\", \"linecolor\": \"rgb(36,36,36)\", \"showgrid\": false, \"showline\": true, \"ticks\": \"outside\"}, \"bgcolor\": \"white\", \"caxis\": {\"gridcolor\": \"rgb(232,232,232)\", \"linecolor\": \"rgb(36,36,36)\", \"showgrid\": false, \"showline\": true, \"ticks\": \"outside\"}}, \"title\": {\"x\": 0.05}, \"xaxis\": {\"automargin\": true, \"gridcolor\": \"rgb(232,232,232)\", \"linecolor\": \"rgb(36,36,36)\", \"showgrid\": false, \"showline\": true, \"ticks\": \"outside\", \"title\": {\"standoff\": 15}, \"zeroline\": false, \"zerolinecolor\": \"rgb(36,36,36)\"}, \"yaxis\": {\"automargin\": true, \"gridcolor\": \"rgb(232,232,232)\", \"linecolor\": \"rgb(36,36,36)\", \"showgrid\": false, \"showline\": true, \"ticks\": \"outside\", \"title\": {\"standoff\": 15}, \"zeroline\": false, \"zerolinecolor\": \"rgb(36,36,36)\"}}}, \"title\": {\"text\": \"Casos Confirmados y Probables de la Regi\\u00f3n de Ays\\u00e9n\"}, \"xaxis\": {\"anchor\": \"y\", \"domain\": [0.0, 1.0], \"tickmode\": \"array\", \"ticktext\": [12, 15, 18, 21, 24, 27, 30, 33, 36, 39, 42, 45, 48, 51, 1, 4, 7, 10, 13, 16, 19, 22, 25, 28, 31, 34, 37, 40, 43, 46, 49, 52, 55, 58, 61, 64, 67, 70, 73, 76, 79, 82, 85], \"tickvals\": [12, 15, 18, 21, 24, 27, 30, 33, 36, 39, 42, 45, 48, 51, 54, 57, 60, 63, 66, 69, 72, 75, 78, 81, 84, 87], \"title\": {\"text\": \"Semana epidemiol\\u00f3gica\"}}, \"yaxis\": {\"anchor\": \"x\", \"domain\": [0.0, 1.0], \"title\": {\"text\": \"N\\u00famero de casos\"}}},                        {\"responsive\": true}                    ).then(function(){\n",
       "                            \n",
       "var gd = document.getElementById('fe18cf1a-c283-428b-97b0-251ffc9a12c3');\n",
       "var x = new MutationObserver(function (mutations, observer) {{\n",
       "        var display = window.getComputedStyle(gd).display;\n",
       "        if (!display || display === 'none') {{\n",
       "            console.log([gd, 'removed!']);\n",
       "            Plotly.purge(gd);\n",
       "            observer.disconnect();\n",
       "        }}\n",
       "}});\n",
       "\n",
       "// Listen for the removal of the full notebook cells\n",
       "var notebookContainer = gd.closest('#notebook-container');\n",
       "if (notebookContainer) {{\n",
       "    x.observe(notebookContainer, {childList: true});\n",
       "}}\n",
       "\n",
       "// Listen for the clearing of the current output cell\n",
       "var outputEl = gd.closest('.output');\n",
       "if (outputEl) {{\n",
       "    x.observe(outputEl, {childList: true});\n",
       "}}\n",
       "\n",
       "                        })                };                });            </script>        </div>"
      ]
     },
     "metadata": {},
     "output_type": "display_data"
    }
   ],
   "source": [
    "# Crea gráfico de etapa_clinica regional por semana epidemiologica solo con etapa_clinica 'PROBABLE' y 'CONFIRMADA'\n",
    "\n",
    "px.bar(df_etapa_clinica[(df_etapa_clinica['etapa_clinica']=='PROBABLE')|(df_etapa_clinica['etapa_clinica']=='CONFIRMADA')].fillna(0),\n",
    "        x= 'semana_epidemiologica_21',\n",
    "        y= 'casos',\n",
    "        color= 'etapa_clinica',\n",
    "        labels={'etapa_clinica':'Etapa Clínica'},\n",
    "       ).update_layout(title= 'Casos Confirmados y Probables de la Región de Aysén',\n",
    "                       yaxis_title='Número de casos',\n",
    "                       xaxis_title='Semana epidemiológica',\n",
    "                       template='simple_white',\n",
    "                       xaxis=dict(tickmode = 'array',\n",
    "                                  tickvals = list(range(12,88,3)),\n",
    "                                  ticktext = list(list(range(12,54,3))+list(range(1,88,3))),\n",
    "                                 ),\n",
    "                    ).add_vline(x=53.5, line_width=3, line_dash='dash', line_color='gray'\n",
    "                               ).add_vrect(x0='50', x1='50', \n",
    "                                           annotation_text='2020', \n",
    "                                           annotation_position='top right',\n",
    "                                           annotation=dict(font_size=18, \n",
    "                                                           font_family=\"'Open Sans', verdana, arial, sans-serif\"),\n",
    "                                                           opacity=0, \n",
    "                                                           line_width=0\n",
    "                                          ).add_vrect(x0='84', x1='86', \n",
    "                                           annotation_text='2021', \n",
    "                                           annotation_position='top right',\n",
    "                                           annotation=dict(font_size=18, \n",
    "                                                           font_family=\"'Open Sans', verdana, arial, sans-serif\"),\n",
    "                                                           opacity=0, \n",
    "                                                           line_width=0)"
   ]
  },
  {
   "cell_type": "code",
   "execution_count": 40,
   "id": "6157a446",
   "metadata": {
    "scrolled": true
   },
   "outputs": [
    {
     "data": {
      "text/html": [
       "<div>\n",
       "<style scoped>\n",
       "    .dataframe tbody tr th:only-of-type {\n",
       "        vertical-align: middle;\n",
       "    }\n",
       "\n",
       "    .dataframe tbody tr th {\n",
       "        vertical-align: top;\n",
       "    }\n",
       "\n",
       "    .dataframe thead th {\n",
       "        text-align: right;\n",
       "    }\n",
       "</style>\n",
       "<table border=\"1\" class=\"dataframe\">\n",
       "  <thead>\n",
       "    <tr style=\"text-align: right;\">\n",
       "      <th></th>\n",
       "      <th>semana_epidemiologica</th>\n",
       "      <th>etapa_clinica</th>\n",
       "      <th>year</th>\n",
       "      <th>casos</th>\n",
       "    </tr>\n",
       "  </thead>\n",
       "  <tbody>\n",
       "    <tr>\n",
       "      <th>0</th>\n",
       "      <td>1</td>\n",
       "      <td>CONFIRMADA</td>\n",
       "      <td>2021</td>\n",
       "      <td>185</td>\n",
       "    </tr>\n",
       "    <tr>\n",
       "      <th>1</th>\n",
       "      <td>1</td>\n",
       "      <td>DESCARTADA</td>\n",
       "      <td>2021</td>\n",
       "      <td>2396</td>\n",
       "    </tr>\n",
       "    <tr>\n",
       "      <th>2</th>\n",
       "      <td>1</td>\n",
       "      <td>PROBABLE</td>\n",
       "      <td>2021</td>\n",
       "      <td>47</td>\n",
       "    </tr>\n",
       "    <tr>\n",
       "      <th>3</th>\n",
       "      <td>2</td>\n",
       "      <td>BUSQUEDA A</td>\n",
       "      <td>2021</td>\n",
       "      <td>2</td>\n",
       "    </tr>\n",
       "    <tr>\n",
       "      <th>4</th>\n",
       "      <td>2</td>\n",
       "      <td>CONFIRMADA</td>\n",
       "      <td>2021</td>\n",
       "      <td>241</td>\n",
       "    </tr>\n",
       "    <tr>\n",
       "      <th>...</th>\n",
       "      <td>...</td>\n",
       "      <td>...</td>\n",
       "      <td>...</td>\n",
       "      <td>...</td>\n",
       "    </tr>\n",
       "    <tr>\n",
       "      <th>206</th>\n",
       "      <td>53</td>\n",
       "      <td>CONFIRMADA</td>\n",
       "      <td>2021</td>\n",
       "      <td>14</td>\n",
       "    </tr>\n",
       "    <tr>\n",
       "      <th>207</th>\n",
       "      <td>53</td>\n",
       "      <td>DESCARTADA</td>\n",
       "      <td>2020</td>\n",
       "      <td>1467</td>\n",
       "    </tr>\n",
       "    <tr>\n",
       "      <th>208</th>\n",
       "      <td>53</td>\n",
       "      <td>DESCARTADA</td>\n",
       "      <td>2021</td>\n",
       "      <td>216</td>\n",
       "    </tr>\n",
       "    <tr>\n",
       "      <th>209</th>\n",
       "      <td>53</td>\n",
       "      <td>PROBABLE</td>\n",
       "      <td>2020</td>\n",
       "      <td>19</td>\n",
       "    </tr>\n",
       "    <tr>\n",
       "      <th>210</th>\n",
       "      <td>53</td>\n",
       "      <td>PROBABLE</td>\n",
       "      <td>2021</td>\n",
       "      <td>7</td>\n",
       "    </tr>\n",
       "  </tbody>\n",
       "</table>\n",
       "<p>211 rows × 4 columns</p>\n",
       "</div>"
      ],
      "text/plain": [
       "     semana_epidemiologica etapa_clinica  year  casos\n",
       "0                        1    CONFIRMADA  2021    185\n",
       "1                        1    DESCARTADA  2021   2396\n",
       "2                        1      PROBABLE  2021     47\n",
       "3                        2    BUSQUEDA A  2021      2\n",
       "4                        2    CONFIRMADA  2021    241\n",
       "..                     ...           ...   ...    ...\n",
       "206                     53    CONFIRMADA  2021     14\n",
       "207                     53    DESCARTADA  2020   1467\n",
       "208                     53    DESCARTADA  2021    216\n",
       "209                     53      PROBABLE  2020     19\n",
       "210                     53      PROBABLE  2021      7\n",
       "\n",
       "[211 rows x 4 columns]"
      ]
     },
     "execution_count": 40,
     "metadata": {},
     "output_type": "execute_result"
    }
   ],
   "source": [
    "df_etapa_clinica_2 = data_aysen_clean_21.set_index('semana_epidemiologica').groupby(['semana_epidemiologica','etapa_clinica','year']).count()[['numero_folio']].rename(columns={'numero_folio':'casos'}).reset_index()                   \n",
    "\n",
    "df_etapa_clinica_2"
   ]
  },
  {
   "cell_type": "code",
   "execution_count": 52,
   "id": "71701b0b",
   "metadata": {
    "scrolled": true
   },
   "outputs": [
    {
     "name": "stderr",
     "output_type": "stream",
     "text": [
      "<ipython-input-52-59467f65ed45>:1: SettingWithCopyWarning:\n",
      "\n",
      "\n",
      "A value is trying to be set on a copy of a slice from a DataFrame.\n",
      "Try using .loc[row_indexer,col_indexer] = value instead\n",
      "\n",
      "See the caveats in the documentation: https://pandas.pydata.org/pandas-docs/stable/user_guide/indexing.html#returning-a-view-versus-a-copy\n",
      "\n"
     ]
    }
   ],
   "source": [
    "df_etapa_clinica_2[(df_etapa_clinica_2['year']==2021)&(df_etapa_clinica_2['semana_epidemiologica']==53)]['year'] =2020"
   ]
  },
  {
   "cell_type": "code",
   "execution_count": 57,
   "id": "fbab6593",
   "metadata": {},
   "outputs": [
    {
     "data": {
      "text/plain": [
       "206    2021\n",
       "208    2021\n",
       "210    2021\n",
       "Name: year, dtype: int64"
      ]
     },
     "execution_count": 57,
     "metadata": {},
     "output_type": "execute_result"
    }
   ],
   "source": [
    "df_etapa_clinica_2.loc[(df_etapa_clinica_2['year']==2021)&(df_etapa_clinica_2['semana_epidemiologica']==53)]['year']"
   ]
  },
  {
   "cell_type": "code",
   "execution_count": 58,
   "id": "621d4d56",
   "metadata": {},
   "outputs": [],
   "source": [
    "df_etapa_clinica_2.loc[[206,208,210],'year'] = 2020"
   ]
  },
  {
   "cell_type": "code",
   "execution_count": 59,
   "id": "8d5e067c",
   "metadata": {},
   "outputs": [
    {
     "data": {
      "text/plain": [
       "Series([], Name: year, dtype: int64)"
      ]
     },
     "execution_count": 59,
     "metadata": {},
     "output_type": "execute_result"
    }
   ],
   "source": [
    "df_etapa_clinica_2.loc[(df_etapa_clinica_2['year']==2021)&(df_etapa_clinica_2['semana_epidemiologica']==53)]['year']"
   ]
  },
  {
   "cell_type": "code",
   "execution_count": 36,
   "id": "e498fd3c",
   "metadata": {},
   "outputs": [],
   "source": [
    "#df_etapa_clinica_2['semana_epidemiologica'] = df_etapa_clinica_2['semana_epidemiologica'].to_string()"
   ]
  },
  {
   "cell_type": "code",
   "execution_count": 110,
   "id": "fb5d874a",
   "metadata": {},
   "outputs": [
    {
     "data": {
      "application/vnd.plotly.v1+json": {
       "config": {
        "plotlyServerURL": "https://plot.ly"
       },
       "data": [
        {
         "alignmentgroup": "True",
         "hovertemplate": "Etapa Clínica=CONFIRMADA<br>year=2020<br>semana_epidemiologica=%{x}<br>casos=%{y}<extra></extra>",
         "legendgroup": "CONFIRMADA",
         "marker": {
          "color": "#636efa"
         },
         "name": "CONFIRMADA",
         "offsetgroup": "CONFIRMADA",
         "orientation": "v",
         "showlegend": true,
         "textposition": "auto",
         "type": "bar",
         "x": [
          12,
          14,
          19,
          21,
          22,
          23,
          24,
          25,
          26,
          27,
          28,
          29,
          30,
          31,
          32,
          33,
          34,
          35,
          36,
          37,
          38,
          39,
          40,
          41,
          42,
          43,
          44,
          45,
          46,
          47,
          48,
          49,
          50,
          51,
          52,
          53,
          53
         ],
         "xaxis": "x",
         "y": [
          1,
          2,
          1,
          2,
          7,
          3,
          5,
          2,
          15,
          5,
          11,
          10,
          6,
          8,
          12,
          3,
          9,
          17,
          10,
          33,
          74,
          178,
          157,
          143,
          156,
          91,
          55,
          45,
          43,
          40,
          35,
          41,
          39,
          61,
          123,
          101,
          14
         ],
         "yaxis": "y"
        },
        {
         "alignmentgroup": "True",
         "hovertemplate": "Etapa Clínica=CONFIRMADA<br>year=2021<br>semana_epidemiologica=%{x}<br>casos=%{y}<extra></extra>",
         "legendgroup": "CONFIRMADA",
         "marker": {
          "color": "#636efa"
         },
         "name": "CONFIRMADA",
         "offsetgroup": "CONFIRMADA",
         "orientation": "v",
         "showlegend": false,
         "textposition": "auto",
         "type": "bar",
         "x": [
          1,
          2,
          3,
          4,
          5,
          6,
          7,
          8,
          9,
          10,
          11,
          12,
          13,
          14,
          15,
          16,
          17,
          18,
          19,
          20,
          21,
          22,
          23,
          24,
          25,
          26,
          27,
          28,
          29,
          30,
          31,
          32,
          33,
          34
         ],
         "xaxis": "x2",
         "y": [
          185,
          241,
          240,
          168,
          134,
          153,
          135,
          77,
          86,
          70,
          87,
          120,
          135,
          188,
          141,
          205,
          225,
          262,
          325,
          476,
          517,
          516,
          448,
          382,
          220,
          162,
          143,
          44,
          24,
          10,
          15,
          29,
          44,
          12
         ],
         "yaxis": "y2"
        },
        {
         "alignmentgroup": "True",
         "hovertemplate": "Etapa Clínica=PROBABLE<br>year=2020<br>semana_epidemiologica=%{x}<br>casos=%{y}<extra></extra>",
         "legendgroup": "PROBABLE",
         "marker": {
          "color": "#EF553B"
         },
         "name": "PROBABLE",
         "offsetgroup": "PROBABLE",
         "orientation": "v",
         "showlegend": true,
         "textposition": "auto",
         "type": "bar",
         "x": [
          40,
          41,
          42,
          43,
          44,
          45,
          46,
          47,
          48,
          49,
          50,
          51,
          52,
          53,
          53
         ],
         "xaxis": "x",
         "y": [
          2,
          22,
          21,
          17,
          19,
          15,
          3,
          6,
          6,
          6,
          4,
          15,
          9,
          19,
          7
         ],
         "yaxis": "y"
        },
        {
         "alignmentgroup": "True",
         "hovertemplate": "Etapa Clínica=PROBABLE<br>year=2021<br>semana_epidemiologica=%{x}<br>casos=%{y}<extra></extra>",
         "legendgroup": "PROBABLE",
         "marker": {
          "color": "#EF553B"
         },
         "name": "PROBABLE",
         "offsetgroup": "PROBABLE",
         "orientation": "v",
         "showlegend": false,
         "textposition": "auto",
         "type": "bar",
         "x": [
          1,
          2,
          3,
          4,
          5,
          6,
          7,
          8,
          9,
          10,
          11,
          12,
          13,
          14,
          15,
          16,
          17,
          18,
          19,
          20,
          21,
          22,
          23,
          24,
          25,
          26,
          27,
          28,
          29,
          31,
          32,
          33,
          34
         ],
         "xaxis": "x2",
         "y": [
          47,
          71,
          68,
          79,
          32,
          26,
          27,
          27,
          21,
          30,
          21,
          30,
          20,
          21,
          25,
          27,
          47,
          58,
          45,
          97,
          83,
          82,
          82,
          71,
          27,
          29,
          24,
          6,
          6,
          2,
          4,
          19,
          7
         ],
         "yaxis": "y2"
        }
       ],
       "layout": {
        "annotations": [
         {
          "font": {},
          "showarrow": false,
          "text": "2020",
          "x": 0.245,
          "xanchor": "center",
          "xref": "paper",
          "y": 1,
          "yanchor": "bottom",
          "yref": "paper"
         },
         {
          "font": {},
          "showarrow": false,
          "text": "2021",
          "x": 0.755,
          "xanchor": "center",
          "xref": "paper",
          "y": 1,
          "yanchor": "bottom",
          "yref": "paper"
         }
        ],
        "barmode": "relative",
        "legend": {
         "title": {
          "text": "Etapa Clínica"
         },
         "tracegroupgap": 0
        },
        "margin": {
         "t": 60
        },
        "template": {
         "data": {
          "bar": [
           {
            "error_x": {
             "color": "rgb(36,36,36)"
            },
            "error_y": {
             "color": "rgb(36,36,36)"
            },
            "marker": {
             "line": {
              "color": "white",
              "width": 0.5
             }
            },
            "type": "bar"
           }
          ],
          "barpolar": [
           {
            "marker": {
             "line": {
              "color": "white",
              "width": 0.5
             }
            },
            "type": "barpolar"
           }
          ],
          "carpet": [
           {
            "aaxis": {
             "endlinecolor": "rgb(36,36,36)",
             "gridcolor": "white",
             "linecolor": "white",
             "minorgridcolor": "white",
             "startlinecolor": "rgb(36,36,36)"
            },
            "baxis": {
             "endlinecolor": "rgb(36,36,36)",
             "gridcolor": "white",
             "linecolor": "white",
             "minorgridcolor": "white",
             "startlinecolor": "rgb(36,36,36)"
            },
            "type": "carpet"
           }
          ],
          "choropleth": [
           {
            "colorbar": {
             "outlinewidth": 1,
             "tickcolor": "rgb(36,36,36)",
             "ticks": "outside"
            },
            "type": "choropleth"
           }
          ],
          "contour": [
           {
            "colorbar": {
             "outlinewidth": 1,
             "tickcolor": "rgb(36,36,36)",
             "ticks": "outside"
            },
            "colorscale": [
             [
              0,
              "#440154"
             ],
             [
              0.1111111111111111,
              "#482878"
             ],
             [
              0.2222222222222222,
              "#3e4989"
             ],
             [
              0.3333333333333333,
              "#31688e"
             ],
             [
              0.4444444444444444,
              "#26828e"
             ],
             [
              0.5555555555555556,
              "#1f9e89"
             ],
             [
              0.6666666666666666,
              "#35b779"
             ],
             [
              0.7777777777777778,
              "#6ece58"
             ],
             [
              0.8888888888888888,
              "#b5de2b"
             ],
             [
              1,
              "#fde725"
             ]
            ],
            "type": "contour"
           }
          ],
          "contourcarpet": [
           {
            "colorbar": {
             "outlinewidth": 1,
             "tickcolor": "rgb(36,36,36)",
             "ticks": "outside"
            },
            "type": "contourcarpet"
           }
          ],
          "heatmap": [
           {
            "colorbar": {
             "outlinewidth": 1,
             "tickcolor": "rgb(36,36,36)",
             "ticks": "outside"
            },
            "colorscale": [
             [
              0,
              "#440154"
             ],
             [
              0.1111111111111111,
              "#482878"
             ],
             [
              0.2222222222222222,
              "#3e4989"
             ],
             [
              0.3333333333333333,
              "#31688e"
             ],
             [
              0.4444444444444444,
              "#26828e"
             ],
             [
              0.5555555555555556,
              "#1f9e89"
             ],
             [
              0.6666666666666666,
              "#35b779"
             ],
             [
              0.7777777777777778,
              "#6ece58"
             ],
             [
              0.8888888888888888,
              "#b5de2b"
             ],
             [
              1,
              "#fde725"
             ]
            ],
            "type": "heatmap"
           }
          ],
          "heatmapgl": [
           {
            "colorbar": {
             "outlinewidth": 1,
             "tickcolor": "rgb(36,36,36)",
             "ticks": "outside"
            },
            "colorscale": [
             [
              0,
              "#440154"
             ],
             [
              0.1111111111111111,
              "#482878"
             ],
             [
              0.2222222222222222,
              "#3e4989"
             ],
             [
              0.3333333333333333,
              "#31688e"
             ],
             [
              0.4444444444444444,
              "#26828e"
             ],
             [
              0.5555555555555556,
              "#1f9e89"
             ],
             [
              0.6666666666666666,
              "#35b779"
             ],
             [
              0.7777777777777778,
              "#6ece58"
             ],
             [
              0.8888888888888888,
              "#b5de2b"
             ],
             [
              1,
              "#fde725"
             ]
            ],
            "type": "heatmapgl"
           }
          ],
          "histogram": [
           {
            "marker": {
             "line": {
              "color": "white",
              "width": 0.6
             }
            },
            "type": "histogram"
           }
          ],
          "histogram2d": [
           {
            "colorbar": {
             "outlinewidth": 1,
             "tickcolor": "rgb(36,36,36)",
             "ticks": "outside"
            },
            "colorscale": [
             [
              0,
              "#440154"
             ],
             [
              0.1111111111111111,
              "#482878"
             ],
             [
              0.2222222222222222,
              "#3e4989"
             ],
             [
              0.3333333333333333,
              "#31688e"
             ],
             [
              0.4444444444444444,
              "#26828e"
             ],
             [
              0.5555555555555556,
              "#1f9e89"
             ],
             [
              0.6666666666666666,
              "#35b779"
             ],
             [
              0.7777777777777778,
              "#6ece58"
             ],
             [
              0.8888888888888888,
              "#b5de2b"
             ],
             [
              1,
              "#fde725"
             ]
            ],
            "type": "histogram2d"
           }
          ],
          "histogram2dcontour": [
           {
            "colorbar": {
             "outlinewidth": 1,
             "tickcolor": "rgb(36,36,36)",
             "ticks": "outside"
            },
            "colorscale": [
             [
              0,
              "#440154"
             ],
             [
              0.1111111111111111,
              "#482878"
             ],
             [
              0.2222222222222222,
              "#3e4989"
             ],
             [
              0.3333333333333333,
              "#31688e"
             ],
             [
              0.4444444444444444,
              "#26828e"
             ],
             [
              0.5555555555555556,
              "#1f9e89"
             ],
             [
              0.6666666666666666,
              "#35b779"
             ],
             [
              0.7777777777777778,
              "#6ece58"
             ],
             [
              0.8888888888888888,
              "#b5de2b"
             ],
             [
              1,
              "#fde725"
             ]
            ],
            "type": "histogram2dcontour"
           }
          ],
          "mesh3d": [
           {
            "colorbar": {
             "outlinewidth": 1,
             "tickcolor": "rgb(36,36,36)",
             "ticks": "outside"
            },
            "type": "mesh3d"
           }
          ],
          "parcoords": [
           {
            "line": {
             "colorbar": {
              "outlinewidth": 1,
              "tickcolor": "rgb(36,36,36)",
              "ticks": "outside"
             }
            },
            "type": "parcoords"
           }
          ],
          "pie": [
           {
            "automargin": true,
            "type": "pie"
           }
          ],
          "scatter": [
           {
            "marker": {
             "colorbar": {
              "outlinewidth": 1,
              "tickcolor": "rgb(36,36,36)",
              "ticks": "outside"
             }
            },
            "type": "scatter"
           }
          ],
          "scatter3d": [
           {
            "line": {
             "colorbar": {
              "outlinewidth": 1,
              "tickcolor": "rgb(36,36,36)",
              "ticks": "outside"
             }
            },
            "marker": {
             "colorbar": {
              "outlinewidth": 1,
              "tickcolor": "rgb(36,36,36)",
              "ticks": "outside"
             }
            },
            "type": "scatter3d"
           }
          ],
          "scattercarpet": [
           {
            "marker": {
             "colorbar": {
              "outlinewidth": 1,
              "tickcolor": "rgb(36,36,36)",
              "ticks": "outside"
             }
            },
            "type": "scattercarpet"
           }
          ],
          "scattergeo": [
           {
            "marker": {
             "colorbar": {
              "outlinewidth": 1,
              "tickcolor": "rgb(36,36,36)",
              "ticks": "outside"
             }
            },
            "type": "scattergeo"
           }
          ],
          "scattergl": [
           {
            "marker": {
             "colorbar": {
              "outlinewidth": 1,
              "tickcolor": "rgb(36,36,36)",
              "ticks": "outside"
             }
            },
            "type": "scattergl"
           }
          ],
          "scattermapbox": [
           {
            "marker": {
             "colorbar": {
              "outlinewidth": 1,
              "tickcolor": "rgb(36,36,36)",
              "ticks": "outside"
             }
            },
            "type": "scattermapbox"
           }
          ],
          "scatterpolar": [
           {
            "marker": {
             "colorbar": {
              "outlinewidth": 1,
              "tickcolor": "rgb(36,36,36)",
              "ticks": "outside"
             }
            },
            "type": "scatterpolar"
           }
          ],
          "scatterpolargl": [
           {
            "marker": {
             "colorbar": {
              "outlinewidth": 1,
              "tickcolor": "rgb(36,36,36)",
              "ticks": "outside"
             }
            },
            "type": "scatterpolargl"
           }
          ],
          "scatterternary": [
           {
            "marker": {
             "colorbar": {
              "outlinewidth": 1,
              "tickcolor": "rgb(36,36,36)",
              "ticks": "outside"
             }
            },
            "type": "scatterternary"
           }
          ],
          "surface": [
           {
            "colorbar": {
             "outlinewidth": 1,
             "tickcolor": "rgb(36,36,36)",
             "ticks": "outside"
            },
            "colorscale": [
             [
              0,
              "#440154"
             ],
             [
              0.1111111111111111,
              "#482878"
             ],
             [
              0.2222222222222222,
              "#3e4989"
             ],
             [
              0.3333333333333333,
              "#31688e"
             ],
             [
              0.4444444444444444,
              "#26828e"
             ],
             [
              0.5555555555555556,
              "#1f9e89"
             ],
             [
              0.6666666666666666,
              "#35b779"
             ],
             [
              0.7777777777777778,
              "#6ece58"
             ],
             [
              0.8888888888888888,
              "#b5de2b"
             ],
             [
              1,
              "#fde725"
             ]
            ],
            "type": "surface"
           }
          ],
          "table": [
           {
            "cells": {
             "fill": {
              "color": "rgb(237,237,237)"
             },
             "line": {
              "color": "white"
             }
            },
            "header": {
             "fill": {
              "color": "rgb(217,217,217)"
             },
             "line": {
              "color": "white"
             }
            },
            "type": "table"
           }
          ]
         },
         "layout": {
          "annotationdefaults": {
           "arrowhead": 0,
           "arrowwidth": 1
          },
          "autotypenumbers": "strict",
          "coloraxis": {
           "colorbar": {
            "outlinewidth": 1,
            "tickcolor": "rgb(36,36,36)",
            "ticks": "outside"
           }
          },
          "colorscale": {
           "diverging": [
            [
             0,
             "rgb(103,0,31)"
            ],
            [
             0.1,
             "rgb(178,24,43)"
            ],
            [
             0.2,
             "rgb(214,96,77)"
            ],
            [
             0.3,
             "rgb(244,165,130)"
            ],
            [
             0.4,
             "rgb(253,219,199)"
            ],
            [
             0.5,
             "rgb(247,247,247)"
            ],
            [
             0.6,
             "rgb(209,229,240)"
            ],
            [
             0.7,
             "rgb(146,197,222)"
            ],
            [
             0.8,
             "rgb(67,147,195)"
            ],
            [
             0.9,
             "rgb(33,102,172)"
            ],
            [
             1,
             "rgb(5,48,97)"
            ]
           ],
           "sequential": [
            [
             0,
             "#440154"
            ],
            [
             0.1111111111111111,
             "#482878"
            ],
            [
             0.2222222222222222,
             "#3e4989"
            ],
            [
             0.3333333333333333,
             "#31688e"
            ],
            [
             0.4444444444444444,
             "#26828e"
            ],
            [
             0.5555555555555556,
             "#1f9e89"
            ],
            [
             0.6666666666666666,
             "#35b779"
            ],
            [
             0.7777777777777778,
             "#6ece58"
            ],
            [
             0.8888888888888888,
             "#b5de2b"
            ],
            [
             1,
             "#fde725"
            ]
           ],
           "sequentialminus": [
            [
             0,
             "#440154"
            ],
            [
             0.1111111111111111,
             "#482878"
            ],
            [
             0.2222222222222222,
             "#3e4989"
            ],
            [
             0.3333333333333333,
             "#31688e"
            ],
            [
             0.4444444444444444,
             "#26828e"
            ],
            [
             0.5555555555555556,
             "#1f9e89"
            ],
            [
             0.6666666666666666,
             "#35b779"
            ],
            [
             0.7777777777777778,
             "#6ece58"
            ],
            [
             0.8888888888888888,
             "#b5de2b"
            ],
            [
             1,
             "#fde725"
            ]
           ]
          },
          "colorway": [
           "#1F77B4",
           "#FF7F0E",
           "#2CA02C",
           "#D62728",
           "#9467BD",
           "#8C564B",
           "#E377C2",
           "#7F7F7F",
           "#BCBD22",
           "#17BECF"
          ],
          "font": {
           "color": "rgb(36,36,36)"
          },
          "geo": {
           "bgcolor": "white",
           "lakecolor": "white",
           "landcolor": "white",
           "showlakes": true,
           "showland": true,
           "subunitcolor": "white"
          },
          "hoverlabel": {
           "align": "left"
          },
          "hovermode": "closest",
          "mapbox": {
           "style": "light"
          },
          "paper_bgcolor": "white",
          "plot_bgcolor": "white",
          "polar": {
           "angularaxis": {
            "gridcolor": "rgb(232,232,232)",
            "linecolor": "rgb(36,36,36)",
            "showgrid": false,
            "showline": true,
            "ticks": "outside"
           },
           "bgcolor": "white",
           "radialaxis": {
            "gridcolor": "rgb(232,232,232)",
            "linecolor": "rgb(36,36,36)",
            "showgrid": false,
            "showline": true,
            "ticks": "outside"
           }
          },
          "scene": {
           "xaxis": {
            "backgroundcolor": "white",
            "gridcolor": "rgb(232,232,232)",
            "gridwidth": 2,
            "linecolor": "rgb(36,36,36)",
            "showbackground": true,
            "showgrid": false,
            "showline": true,
            "ticks": "outside",
            "zeroline": false,
            "zerolinecolor": "rgb(36,36,36)"
           },
           "yaxis": {
            "backgroundcolor": "white",
            "gridcolor": "rgb(232,232,232)",
            "gridwidth": 2,
            "linecolor": "rgb(36,36,36)",
            "showbackground": true,
            "showgrid": false,
            "showline": true,
            "ticks": "outside",
            "zeroline": false,
            "zerolinecolor": "rgb(36,36,36)"
           },
           "zaxis": {
            "backgroundcolor": "white",
            "gridcolor": "rgb(232,232,232)",
            "gridwidth": 2,
            "linecolor": "rgb(36,36,36)",
            "showbackground": true,
            "showgrid": false,
            "showline": true,
            "ticks": "outside",
            "zeroline": false,
            "zerolinecolor": "rgb(36,36,36)"
           }
          },
          "shapedefaults": {
           "fillcolor": "black",
           "line": {
            "width": 0
           },
           "opacity": 0.3
          },
          "ternary": {
           "aaxis": {
            "gridcolor": "rgb(232,232,232)",
            "linecolor": "rgb(36,36,36)",
            "showgrid": false,
            "showline": true,
            "ticks": "outside"
           },
           "baxis": {
            "gridcolor": "rgb(232,232,232)",
            "linecolor": "rgb(36,36,36)",
            "showgrid": false,
            "showline": true,
            "ticks": "outside"
           },
           "bgcolor": "white",
           "caxis": {
            "gridcolor": "rgb(232,232,232)",
            "linecolor": "rgb(36,36,36)",
            "showgrid": false,
            "showline": true,
            "ticks": "outside"
           }
          },
          "title": {
           "x": 0.05
          },
          "xaxis": {
           "automargin": true,
           "gridcolor": "rgb(232,232,232)",
           "linecolor": "rgb(36,36,36)",
           "showgrid": false,
           "showline": true,
           "ticks": "outside",
           "title": {
            "standoff": 15
           },
           "zeroline": false,
           "zerolinecolor": "rgb(36,36,36)"
          },
          "yaxis": {
           "automargin": true,
           "gridcolor": "rgb(232,232,232)",
           "linecolor": "rgb(36,36,36)",
           "showgrid": false,
           "showline": true,
           "ticks": "outside",
           "title": {
            "standoff": 15
           },
           "zeroline": false,
           "zerolinecolor": "rgb(36,36,36)"
          }
         }
        },
        "title": {
         "text": "Casos Confirmados y Probables de la Región de Aysén"
        },
        "xaxis": {
         "anchor": "y",
         "categoryarray": [
          1,
          2,
          3,
          4,
          5,
          6,
          7,
          8,
          9,
          10,
          11,
          12,
          13,
          14,
          15,
          16,
          17,
          18,
          19,
          20,
          21,
          22,
          23,
          24,
          25,
          26,
          27,
          28,
          29,
          30,
          31,
          32,
          33,
          34,
          35,
          36,
          37,
          38,
          39,
          40,
          41,
          42,
          43,
          44,
          45,
          46,
          47,
          48,
          49,
          50,
          51,
          52
         ],
         "categoryorder": "array",
         "domain": [
          0,
          0.49
         ],
         "title": {
          "text": "Semana epidemiológica 2020"
         },
         "type": "category"
        },
        "xaxis2": {
         "anchor": "y2",
         "categoryarray": [
          1,
          2,
          3,
          4,
          5,
          6,
          7,
          8,
          9,
          10,
          11,
          12,
          13,
          14,
          15,
          16,
          17,
          18,
          19,
          20,
          21,
          22,
          23,
          24,
          25,
          26,
          27,
          28,
          29,
          30,
          31,
          32,
          33,
          34,
          35,
          36,
          37,
          38,
          39,
          40,
          41,
          42,
          43,
          44,
          45,
          46,
          47,
          48,
          49,
          50,
          51,
          52
         ],
         "categoryorder": "array",
         "domain": [
          0.51,
          1
         ],
         "matches": "x",
         "title": {
          "text": "Semana epidemiológica 2021"
         },
         "type": "category"
        },
        "yaxis": {
         "anchor": "x",
         "domain": [
          0,
          1
         ],
         "title": {
          "text": "Número de casos"
         }
        },
        "yaxis2": {
         "anchor": "x2",
         "domain": [
          0,
          1
         ],
         "matches": "y",
         "showticklabels": false,
         "ticks": "",
         "visible": true
        }
       }
      },
      "text/html": [
       "<div>                            <div id=\"a4952e45-63ac-4746-bd03-2479a01ff4fe\" class=\"plotly-graph-div\" style=\"height:525px; width:100%;\"></div>            <script type=\"text/javascript\">                require([\"plotly\"], function(Plotly) {                    window.PLOTLYENV=window.PLOTLYENV || {};                                    if (document.getElementById(\"a4952e45-63ac-4746-bd03-2479a01ff4fe\")) {                    Plotly.newPlot(                        \"a4952e45-63ac-4746-bd03-2479a01ff4fe\",                        [{\"alignmentgroup\": \"True\", \"hovertemplate\": \"Etapa Cl\\u00ednica=CONFIRMADA<br>year=2020<br>semana_epidemiologica=%{x}<br>casos=%{y}<extra></extra>\", \"legendgroup\": \"CONFIRMADA\", \"marker\": {\"color\": \"#636efa\"}, \"name\": \"CONFIRMADA\", \"offsetgroup\": \"CONFIRMADA\", \"orientation\": \"v\", \"showlegend\": true, \"textposition\": \"auto\", \"type\": \"bar\", \"x\": [12, 14, 19, 21, 22, 23, 24, 25, 26, 27, 28, 29, 30, 31, 32, 33, 34, 35, 36, 37, 38, 39, 40, 41, 42, 43, 44, 45, 46, 47, 48, 49, 50, 51, 52, 53, 53], \"xaxis\": \"x\", \"y\": [1, 2, 1, 2, 7, 3, 5, 2, 15, 5, 11, 10, 6, 8, 12, 3, 9, 17, 10, 33, 74, 178, 157, 143, 156, 91, 55, 45, 43, 40, 35, 41, 39, 61, 123, 101, 14], \"yaxis\": \"y\"}, {\"alignmentgroup\": \"True\", \"hovertemplate\": \"Etapa Cl\\u00ednica=CONFIRMADA<br>year=2021<br>semana_epidemiologica=%{x}<br>casos=%{y}<extra></extra>\", \"legendgroup\": \"CONFIRMADA\", \"marker\": {\"color\": \"#636efa\"}, \"name\": \"CONFIRMADA\", \"offsetgroup\": \"CONFIRMADA\", \"orientation\": \"v\", \"showlegend\": false, \"textposition\": \"auto\", \"type\": \"bar\", \"x\": [1, 2, 3, 4, 5, 6, 7, 8, 9, 10, 11, 12, 13, 14, 15, 16, 17, 18, 19, 20, 21, 22, 23, 24, 25, 26, 27, 28, 29, 30, 31, 32, 33, 34], \"xaxis\": \"x2\", \"y\": [185, 241, 240, 168, 134, 153, 135, 77, 86, 70, 87, 120, 135, 188, 141, 205, 225, 262, 325, 476, 517, 516, 448, 382, 220, 162, 143, 44, 24, 10, 15, 29, 44, 12], \"yaxis\": \"y2\"}, {\"alignmentgroup\": \"True\", \"hovertemplate\": \"Etapa Cl\\u00ednica=PROBABLE<br>year=2020<br>semana_epidemiologica=%{x}<br>casos=%{y}<extra></extra>\", \"legendgroup\": \"PROBABLE\", \"marker\": {\"color\": \"#EF553B\"}, \"name\": \"PROBABLE\", \"offsetgroup\": \"PROBABLE\", \"orientation\": \"v\", \"showlegend\": true, \"textposition\": \"auto\", \"type\": \"bar\", \"x\": [40, 41, 42, 43, 44, 45, 46, 47, 48, 49, 50, 51, 52, 53, 53], \"xaxis\": \"x\", \"y\": [2, 22, 21, 17, 19, 15, 3, 6, 6, 6, 4, 15, 9, 19, 7], \"yaxis\": \"y\"}, {\"alignmentgroup\": \"True\", \"hovertemplate\": \"Etapa Cl\\u00ednica=PROBABLE<br>year=2021<br>semana_epidemiologica=%{x}<br>casos=%{y}<extra></extra>\", \"legendgroup\": \"PROBABLE\", \"marker\": {\"color\": \"#EF553B\"}, \"name\": \"PROBABLE\", \"offsetgroup\": \"PROBABLE\", \"orientation\": \"v\", \"showlegend\": false, \"textposition\": \"auto\", \"type\": \"bar\", \"x\": [1, 2, 3, 4, 5, 6, 7, 8, 9, 10, 11, 12, 13, 14, 15, 16, 17, 18, 19, 20, 21, 22, 23, 24, 25, 26, 27, 28, 29, 31, 32, 33, 34], \"xaxis\": \"x2\", \"y\": [47, 71, 68, 79, 32, 26, 27, 27, 21, 30, 21, 30, 20, 21, 25, 27, 47, 58, 45, 97, 83, 82, 82, 71, 27, 29, 24, 6, 6, 2, 4, 19, 7], \"yaxis\": \"y2\"}],                        {\"annotations\": [{\"font\": {}, \"showarrow\": false, \"text\": \"2020\", \"x\": 0.245, \"xanchor\": \"center\", \"xref\": \"paper\", \"y\": 1.0, \"yanchor\": \"bottom\", \"yref\": \"paper\"}, {\"font\": {}, \"showarrow\": false, \"text\": \"2021\", \"x\": 0.755, \"xanchor\": \"center\", \"xref\": \"paper\", \"y\": 1.0, \"yanchor\": \"bottom\", \"yref\": \"paper\"}], \"barmode\": \"relative\", \"legend\": {\"title\": {\"text\": \"Etapa Cl\\u00ednica\"}, \"tracegroupgap\": 0}, \"margin\": {\"t\": 60}, \"template\": {\"data\": {\"bar\": [{\"error_x\": {\"color\": \"rgb(36,36,36)\"}, \"error_y\": {\"color\": \"rgb(36,36,36)\"}, \"marker\": {\"line\": {\"color\": \"white\", \"width\": 0.5}}, \"type\": \"bar\"}], \"barpolar\": [{\"marker\": {\"line\": {\"color\": \"white\", \"width\": 0.5}}, \"type\": \"barpolar\"}], \"carpet\": [{\"aaxis\": {\"endlinecolor\": \"rgb(36,36,36)\", \"gridcolor\": \"white\", \"linecolor\": \"white\", \"minorgridcolor\": \"white\", \"startlinecolor\": \"rgb(36,36,36)\"}, \"baxis\": {\"endlinecolor\": \"rgb(36,36,36)\", \"gridcolor\": \"white\", \"linecolor\": \"white\", \"minorgridcolor\": \"white\", \"startlinecolor\": \"rgb(36,36,36)\"}, \"type\": \"carpet\"}], \"choropleth\": [{\"colorbar\": {\"outlinewidth\": 1, \"tickcolor\": \"rgb(36,36,36)\", \"ticks\": \"outside\"}, \"type\": \"choropleth\"}], \"contour\": [{\"colorbar\": {\"outlinewidth\": 1, \"tickcolor\": \"rgb(36,36,36)\", \"ticks\": \"outside\"}, \"colorscale\": [[0.0, \"#440154\"], [0.1111111111111111, \"#482878\"], [0.2222222222222222, \"#3e4989\"], [0.3333333333333333, \"#31688e\"], [0.4444444444444444, \"#26828e\"], [0.5555555555555556, \"#1f9e89\"], [0.6666666666666666, \"#35b779\"], [0.7777777777777778, \"#6ece58\"], [0.8888888888888888, \"#b5de2b\"], [1.0, \"#fde725\"]], \"type\": \"contour\"}], \"contourcarpet\": [{\"colorbar\": {\"outlinewidth\": 1, \"tickcolor\": \"rgb(36,36,36)\", \"ticks\": \"outside\"}, \"type\": \"contourcarpet\"}], \"heatmap\": [{\"colorbar\": {\"outlinewidth\": 1, \"tickcolor\": \"rgb(36,36,36)\", \"ticks\": \"outside\"}, \"colorscale\": [[0.0, \"#440154\"], [0.1111111111111111, \"#482878\"], [0.2222222222222222, \"#3e4989\"], [0.3333333333333333, \"#31688e\"], [0.4444444444444444, \"#26828e\"], [0.5555555555555556, \"#1f9e89\"], [0.6666666666666666, \"#35b779\"], [0.7777777777777778, \"#6ece58\"], [0.8888888888888888, \"#b5de2b\"], [1.0, \"#fde725\"]], \"type\": \"heatmap\"}], \"heatmapgl\": [{\"colorbar\": {\"outlinewidth\": 1, \"tickcolor\": \"rgb(36,36,36)\", \"ticks\": \"outside\"}, \"colorscale\": [[0.0, \"#440154\"], [0.1111111111111111, \"#482878\"], [0.2222222222222222, \"#3e4989\"], [0.3333333333333333, \"#31688e\"], [0.4444444444444444, \"#26828e\"], [0.5555555555555556, \"#1f9e89\"], [0.6666666666666666, \"#35b779\"], [0.7777777777777778, \"#6ece58\"], [0.8888888888888888, \"#b5de2b\"], [1.0, \"#fde725\"]], \"type\": \"heatmapgl\"}], \"histogram\": [{\"marker\": {\"line\": {\"color\": \"white\", \"width\": 0.6}}, \"type\": \"histogram\"}], \"histogram2d\": [{\"colorbar\": {\"outlinewidth\": 1, \"tickcolor\": \"rgb(36,36,36)\", \"ticks\": \"outside\"}, \"colorscale\": [[0.0, \"#440154\"], [0.1111111111111111, \"#482878\"], [0.2222222222222222, \"#3e4989\"], [0.3333333333333333, \"#31688e\"], [0.4444444444444444, \"#26828e\"], [0.5555555555555556, \"#1f9e89\"], [0.6666666666666666, \"#35b779\"], [0.7777777777777778, \"#6ece58\"], [0.8888888888888888, \"#b5de2b\"], [1.0, \"#fde725\"]], \"type\": \"histogram2d\"}], \"histogram2dcontour\": [{\"colorbar\": {\"outlinewidth\": 1, \"tickcolor\": \"rgb(36,36,36)\", \"ticks\": \"outside\"}, \"colorscale\": [[0.0, \"#440154\"], [0.1111111111111111, \"#482878\"], [0.2222222222222222, \"#3e4989\"], [0.3333333333333333, \"#31688e\"], [0.4444444444444444, \"#26828e\"], [0.5555555555555556, \"#1f9e89\"], [0.6666666666666666, \"#35b779\"], [0.7777777777777778, \"#6ece58\"], [0.8888888888888888, \"#b5de2b\"], [1.0, \"#fde725\"]], \"type\": \"histogram2dcontour\"}], \"mesh3d\": [{\"colorbar\": {\"outlinewidth\": 1, \"tickcolor\": \"rgb(36,36,36)\", \"ticks\": \"outside\"}, \"type\": \"mesh3d\"}], \"parcoords\": [{\"line\": {\"colorbar\": {\"outlinewidth\": 1, \"tickcolor\": \"rgb(36,36,36)\", \"ticks\": \"outside\"}}, \"type\": \"parcoords\"}], \"pie\": [{\"automargin\": true, \"type\": \"pie\"}], \"scatter\": [{\"marker\": {\"colorbar\": {\"outlinewidth\": 1, \"tickcolor\": \"rgb(36,36,36)\", \"ticks\": \"outside\"}}, \"type\": \"scatter\"}], \"scatter3d\": [{\"line\": {\"colorbar\": {\"outlinewidth\": 1, \"tickcolor\": \"rgb(36,36,36)\", \"ticks\": \"outside\"}}, \"marker\": {\"colorbar\": {\"outlinewidth\": 1, \"tickcolor\": \"rgb(36,36,36)\", \"ticks\": \"outside\"}}, \"type\": \"scatter3d\"}], \"scattercarpet\": [{\"marker\": {\"colorbar\": {\"outlinewidth\": 1, \"tickcolor\": \"rgb(36,36,36)\", \"ticks\": \"outside\"}}, \"type\": \"scattercarpet\"}], \"scattergeo\": [{\"marker\": {\"colorbar\": {\"outlinewidth\": 1, \"tickcolor\": \"rgb(36,36,36)\", \"ticks\": \"outside\"}}, \"type\": \"scattergeo\"}], \"scattergl\": [{\"marker\": {\"colorbar\": {\"outlinewidth\": 1, \"tickcolor\": \"rgb(36,36,36)\", \"ticks\": \"outside\"}}, \"type\": \"scattergl\"}], \"scattermapbox\": [{\"marker\": {\"colorbar\": {\"outlinewidth\": 1, \"tickcolor\": \"rgb(36,36,36)\", \"ticks\": \"outside\"}}, \"type\": \"scattermapbox\"}], \"scatterpolar\": [{\"marker\": {\"colorbar\": {\"outlinewidth\": 1, \"tickcolor\": \"rgb(36,36,36)\", \"ticks\": \"outside\"}}, \"type\": \"scatterpolar\"}], \"scatterpolargl\": [{\"marker\": {\"colorbar\": {\"outlinewidth\": 1, \"tickcolor\": \"rgb(36,36,36)\", \"ticks\": \"outside\"}}, \"type\": \"scatterpolargl\"}], \"scatterternary\": [{\"marker\": {\"colorbar\": {\"outlinewidth\": 1, \"tickcolor\": \"rgb(36,36,36)\", \"ticks\": \"outside\"}}, \"type\": \"scatterternary\"}], \"surface\": [{\"colorbar\": {\"outlinewidth\": 1, \"tickcolor\": \"rgb(36,36,36)\", \"ticks\": \"outside\"}, \"colorscale\": [[0.0, \"#440154\"], [0.1111111111111111, \"#482878\"], [0.2222222222222222, \"#3e4989\"], [0.3333333333333333, \"#31688e\"], [0.4444444444444444, \"#26828e\"], [0.5555555555555556, \"#1f9e89\"], [0.6666666666666666, \"#35b779\"], [0.7777777777777778, \"#6ece58\"], [0.8888888888888888, \"#b5de2b\"], [1.0, \"#fde725\"]], \"type\": \"surface\"}], \"table\": [{\"cells\": {\"fill\": {\"color\": \"rgb(237,237,237)\"}, \"line\": {\"color\": \"white\"}}, \"header\": {\"fill\": {\"color\": \"rgb(217,217,217)\"}, \"line\": {\"color\": \"white\"}}, \"type\": \"table\"}]}, \"layout\": {\"annotationdefaults\": {\"arrowhead\": 0, \"arrowwidth\": 1}, \"autotypenumbers\": \"strict\", \"coloraxis\": {\"colorbar\": {\"outlinewidth\": 1, \"tickcolor\": \"rgb(36,36,36)\", \"ticks\": \"outside\"}}, \"colorscale\": {\"diverging\": [[0.0, \"rgb(103,0,31)\"], [0.1, \"rgb(178,24,43)\"], [0.2, \"rgb(214,96,77)\"], [0.3, \"rgb(244,165,130)\"], [0.4, \"rgb(253,219,199)\"], [0.5, \"rgb(247,247,247)\"], [0.6, \"rgb(209,229,240)\"], [0.7, \"rgb(146,197,222)\"], [0.8, \"rgb(67,147,195)\"], [0.9, \"rgb(33,102,172)\"], [1.0, \"rgb(5,48,97)\"]], \"sequential\": [[0.0, \"#440154\"], [0.1111111111111111, \"#482878\"], [0.2222222222222222, \"#3e4989\"], [0.3333333333333333, \"#31688e\"], [0.4444444444444444, \"#26828e\"], [0.5555555555555556, \"#1f9e89\"], [0.6666666666666666, \"#35b779\"], [0.7777777777777778, \"#6ece58\"], [0.8888888888888888, \"#b5de2b\"], [1.0, \"#fde725\"]], \"sequentialminus\": [[0.0, \"#440154\"], [0.1111111111111111, \"#482878\"], [0.2222222222222222, \"#3e4989\"], [0.3333333333333333, \"#31688e\"], [0.4444444444444444, \"#26828e\"], [0.5555555555555556, \"#1f9e89\"], [0.6666666666666666, \"#35b779\"], [0.7777777777777778, \"#6ece58\"], [0.8888888888888888, \"#b5de2b\"], [1.0, \"#fde725\"]]}, \"colorway\": [\"#1F77B4\", \"#FF7F0E\", \"#2CA02C\", \"#D62728\", \"#9467BD\", \"#8C564B\", \"#E377C2\", \"#7F7F7F\", \"#BCBD22\", \"#17BECF\"], \"font\": {\"color\": \"rgb(36,36,36)\"}, \"geo\": {\"bgcolor\": \"white\", \"lakecolor\": \"white\", \"landcolor\": \"white\", \"showlakes\": true, \"showland\": true, \"subunitcolor\": \"white\"}, \"hoverlabel\": {\"align\": \"left\"}, \"hovermode\": \"closest\", \"mapbox\": {\"style\": \"light\"}, \"paper_bgcolor\": \"white\", \"plot_bgcolor\": \"white\", \"polar\": {\"angularaxis\": {\"gridcolor\": \"rgb(232,232,232)\", \"linecolor\": \"rgb(36,36,36)\", \"showgrid\": false, \"showline\": true, \"ticks\": \"outside\"}, \"bgcolor\": \"white\", \"radialaxis\": {\"gridcolor\": \"rgb(232,232,232)\", \"linecolor\": \"rgb(36,36,36)\", \"showgrid\": false, \"showline\": true, \"ticks\": \"outside\"}}, \"scene\": {\"xaxis\": {\"backgroundcolor\": \"white\", \"gridcolor\": \"rgb(232,232,232)\", \"gridwidth\": 2, \"linecolor\": \"rgb(36,36,36)\", \"showbackground\": true, \"showgrid\": false, \"showline\": true, \"ticks\": \"outside\", \"zeroline\": false, \"zerolinecolor\": \"rgb(36,36,36)\"}, \"yaxis\": {\"backgroundcolor\": \"white\", \"gridcolor\": \"rgb(232,232,232)\", \"gridwidth\": 2, \"linecolor\": \"rgb(36,36,36)\", \"showbackground\": true, \"showgrid\": false, \"showline\": true, \"ticks\": \"outside\", \"zeroline\": false, \"zerolinecolor\": \"rgb(36,36,36)\"}, \"zaxis\": {\"backgroundcolor\": \"white\", \"gridcolor\": \"rgb(232,232,232)\", \"gridwidth\": 2, \"linecolor\": \"rgb(36,36,36)\", \"showbackground\": true, \"showgrid\": false, \"showline\": true, \"ticks\": \"outside\", \"zeroline\": false, \"zerolinecolor\": \"rgb(36,36,36)\"}}, \"shapedefaults\": {\"fillcolor\": \"black\", \"line\": {\"width\": 0}, \"opacity\": 0.3}, \"ternary\": {\"aaxis\": {\"gridcolor\": \"rgb(232,232,232)\", \"linecolor\": \"rgb(36,36,36)\", \"showgrid\": false, \"showline\": true, \"ticks\": \"outside\"}, \"baxis\": {\"gridcolor\": \"rgb(232,232,232)\", \"linecolor\": \"rgb(36,36,36)\", \"showgrid\": false, \"showline\": true, \"ticks\": \"outside\"}, \"bgcolor\": \"white\", \"caxis\": {\"gridcolor\": \"rgb(232,232,232)\", \"linecolor\": \"rgb(36,36,36)\", \"showgrid\": false, \"showline\": true, \"ticks\": \"outside\"}}, \"title\": {\"x\": 0.05}, \"xaxis\": {\"automargin\": true, \"gridcolor\": \"rgb(232,232,232)\", \"linecolor\": \"rgb(36,36,36)\", \"showgrid\": false, \"showline\": true, \"ticks\": \"outside\", \"title\": {\"standoff\": 15}, \"zeroline\": false, \"zerolinecolor\": \"rgb(36,36,36)\"}, \"yaxis\": {\"automargin\": true, \"gridcolor\": \"rgb(232,232,232)\", \"linecolor\": \"rgb(36,36,36)\", \"showgrid\": false, \"showline\": true, \"ticks\": \"outside\", \"title\": {\"standoff\": 15}, \"zeroline\": false, \"zerolinecolor\": \"rgb(36,36,36)\"}}}, \"title\": {\"text\": \"Casos Confirmados y Probables de la Regi\\u00f3n de Ays\\u00e9n\"}, \"xaxis\": {\"anchor\": \"y\", \"categoryarray\": [1, 2, 3, 4, 5, 6, 7, 8, 9, 10, 11, 12, 13, 14, 15, 16, 17, 18, 19, 20, 21, 22, 23, 24, 25, 26, 27, 28, 29, 30, 31, 32, 33, 34, 35, 36, 37, 38, 39, 40, 41, 42, 43, 44, 45, 46, 47, 48, 49, 50, 51, 52], \"categoryorder\": \"array\", \"domain\": [0.0, 0.49], \"title\": {\"text\": \"Semana epidemiol\\u00f3gica 2020\"}, \"type\": \"category\"}, \"xaxis2\": {\"anchor\": \"y2\", \"categoryarray\": [1, 2, 3, 4, 5, 6, 7, 8, 9, 10, 11, 12, 13, 14, 15, 16, 17, 18, 19, 20, 21, 22, 23, 24, 25, 26, 27, 28, 29, 30, 31, 32, 33, 34, 35, 36, 37, 38, 39, 40, 41, 42, 43, 44, 45, 46, 47, 48, 49, 50, 51, 52], \"categoryorder\": \"array\", \"domain\": [0.51, 1.0], \"matches\": \"x\", \"title\": {\"text\": \"Semana epidemiol\\u00f3gica 2021\"}, \"type\": \"category\"}, \"yaxis\": {\"anchor\": \"x\", \"domain\": [0.0, 1.0], \"title\": {\"text\": \"N\\u00famero de casos\"}}, \"yaxis2\": {\"anchor\": \"x2\", \"domain\": [0.0, 1.0], \"matches\": \"y\", \"showticklabels\": false, \"ticks\": \"\", \"visible\": true}},                        {\"responsive\": true}                    ).then(function(){\n",
       "                            \n",
       "var gd = document.getElementById('a4952e45-63ac-4746-bd03-2479a01ff4fe');\n",
       "var x = new MutationObserver(function (mutations, observer) {{\n",
       "        var display = window.getComputedStyle(gd).display;\n",
       "        if (!display || display === 'none') {{\n",
       "            console.log([gd, 'removed!']);\n",
       "            Plotly.purge(gd);\n",
       "            observer.disconnect();\n",
       "        }}\n",
       "}});\n",
       "\n",
       "// Listen for the removal of the full notebook cells\n",
       "var notebookContainer = gd.closest('#notebook-container');\n",
       "if (notebookContainer) {{\n",
       "    x.observe(notebookContainer, {childList: true});\n",
       "}}\n",
       "\n",
       "// Listen for the clearing of the current output cell\n",
       "var outputEl = gd.closest('.output');\n",
       "if (outputEl) {{\n",
       "    x.observe(outputEl, {childList: true});\n",
       "}}\n",
       "\n",
       "                        })                };                });            </script>        </div>"
      ]
     },
     "metadata": {},
     "output_type": "display_data"
    }
   ],
   "source": [
    "# Crea gráfico de etapa_clinica regional por semana epidemiologica solo con etapa_clinica 'PROBABLE' y 'CONFIRMADA'\n",
    "\n",
    "px.bar(df_etapa_clinica_2[(df_etapa_clinica_2['etapa_clinica']=='PROBABLE')|(df_etapa_clinica_2['etapa_clinica']=='CONFIRMADA')],\n",
    "        x= 'semana_epidemiologica',\n",
    "        y= 'casos',\n",
    "        color= 'etapa_clinica',\n",
    "        facet_col='year',\n",
    "        facet_col_spacing= 0,\n",
    "     \n",
    "        category_orders={'year': [2020,2021],\n",
    "                         'semana_epidemiologica': list(range(1,53))\n",
    "                        },\n",
    "         labels={'etapa_clinica':'Etapa Clínica'},\n",
    "         ).update_layout(title= 'Casos Confirmados y Probables de la Región de Aysén',\n",
    "                         yaxis_title='Número de casos',\n",
    "                         xaxis_title='Semana epidemiológica 2020',\n",
    "                         xaxis2_title='Semana epidemiológica 2021',\n",
    "                         template='simple_white',\n",
    "                         yaxis2={'visible': True, 'showticklabels': False, 'ticks':''},\n",
    "                         \n",
    "                        ).update_xaxes(type='category', #visible=True,  \n",
    "                                       ).for_each_annotation(lambda a: a.update(text=a.text.split(\"=\")[-1]))      "
   ]
  }
 ],
 "metadata": {
  "kernelspec": {
   "display_name": "Python 3",
   "language": "python",
   "name": "python3"
  },
  "language_info": {
   "codemirror_mode": {
    "name": "ipython",
    "version": 3
   },
   "file_extension": ".py",
   "mimetype": "text/x-python",
   "name": "python",
   "nbconvert_exporter": "python",
   "pygments_lexer": "ipython3",
   "version": "3.8.10"
  }
 },
 "nbformat": 4,
 "nbformat_minor": 5
}
